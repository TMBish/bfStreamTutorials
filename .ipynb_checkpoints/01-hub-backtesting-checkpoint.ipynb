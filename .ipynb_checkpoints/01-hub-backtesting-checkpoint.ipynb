{
 "cells": [
  {
   "cell_type": "markdown",
   "metadata": {},
   "source": [
    "# Backtesting Against Betfair With Historical Stream Data"
   ]
  },
  {
   "cell_type": "markdown",
   "metadata": {},
   "source": [
    "## Context\n",
    "\n",
    "Backtesting is the life-blood of most succesful wagering systems. In short it attempts to answer a single question for you:\n",
    "\n",
    "> $ \\tau $ : How much money will I win or lose if I started using this system to place bets with real money? \n",
    "\n",
    "Without a rigorous and quantitative backtesting approach it's really quite hard to estimate the answer to this question $ \\tau $ that will be even reliably on the right side of zero. \n",
    "\n",
    "You could live test your system with real bets at small stakes, however, this isn't the panacea it seems. It will take time (more than you think) for your results to converge to their long term expectation. How long? Answering this question will require some expertise with probability and statistics you might not have. Even more than that though is that depending on where you're betting your results at small stakes could be very different than at larger stakes. You might not be able get a good answer to $ \\tau $ until betting at full stakes at which point finding the answer might coincide with blowing up your gambling bankroll.\n",
    "\n",
    "Backtesting is also very hard. To perfectly backtest your own predicted probablility on a historical race or sporting match you need to produce 2 things:\n",
    "\n",
    "> (1) What would my predicted chance have been **exactly** for this selection in this market on this day in the past?\n",
    "\n",
    "> (2) What would have I decided to bet **at what odds (exactly)** and **for how much stake (exactly)** based on this prediction? \n",
    "\n",
    "> ** where the devil tends to be in those **exactly**s.\n",
    "\n",
    "The aim of the backtesting game is answering (2) as accurately as possible because it tells you exactly how much you would have made over your backtesting period, from there you can confidently project that rate of profitability forward. \n",
    "\n",
    "It's easy to make mistakes and small errors in the quantitative reasoning can lead you to extremely misguided projections downstream. \n",
    "\n",
    "Question (1) won't be in the scope of this notebook but it's equally (and probably more) important thant (2) but it is the key challenge of all predictive modelling exercises so there's plenty of discussion about it elsewhere."
   ]
  },
  {
   "cell_type": "markdown",
   "metadata": {},
   "source": [
    "## Backtesting on Betfair\n",
    "\n",
    "Answering quistion (2) for betting on the betfair exchange is difficult. The exhange is a dynamic system that changes from one micro second to the next.\n",
    "\n",
    "> What number should you use for odds? How much could you assume to get down at those odds?\n",
    "\n",
    "The conventional and easiest approach is to backtest at the BSP. The BSP is simple because it's a single number (to use for both back and lay bets) and is a taken price (there's no uncertainty about getting matched). Depending on the liquidity of the market a resonably sized stake might also not move the BSP very much. For some markets you may be able to safely assume you could be $10s of dollars at the BSP without moving it an inch. However, that's definitely not true of all BSP markets and you need to be generally aware that your betfair orders in the future **will** change the state of the exchange, and large bets **will** move the BSP in an unfavourable direction.\n",
    "\n",
    "Aside from uncertainty around the liquidity and resiliance of the BSP, many many markets don't have a BSP. So what do we do then?\n",
    "\n",
    "Typically what a lot of people (who have a relationship with betfair australia) do at this point is request a data dump. They might request an odds file for all australian harness race win markets since june 2018 with results and 4 different price points: the BSP, the last traded price, the weighted average price (WAP) traded in 3 minutes before the race starts, and the WAP for all bets matched prior to 3 mins before the race. \n",
    "\n",
    "However, you will likely need to be an existing VIP customer to get this file and it's not a perfect solution: it might take 2 weeks to get, you can't refresh it, you can't test more hypothetical price points after your initial analysis amongst many other problems. \n",
    "\n",
    "> What if you could produce this valuable data file yourself?"
   ]
  },
  {
   "cell_type": "markdown",
   "metadata": {},
   "source": [
    "## Betfair Stream Data\n",
    "\n",
    "Betfair's historical stream data is an extremely rich source of data. However, in it's raw form it's difficult to handle for the uninitiated. It also might not be immediately obvious how many different things this dataset could be used for without seeing some examples. These guides will hopefully demystify how to turn this raw data into a familiar and usable format whilst also hopefully providing some inpiration for the kinds of value that can be excavated from it."
   ]
  },
  {
   "cell_type": "markdown",
   "metadata": {},
   "source": [
    "# Example: Backtesting Betfair Hub Thoroughbred Ratings"
   ]
  },
  {
   "cell_type": "markdown",
   "metadata": {},
   "source": [
    "To illustrate how you can use the stream files to backtest the outputs of a rating system we'll use the Australian Thoroughbred Rating model available on the Betfair Hub. The most recent model iteration only goes back till Feb 28th 2021 however as an illustrative example this is fine. We'd normally want to backtest with a lot more historical data than this, which just means in this case our estimation of future performance will be unreliable.\n",
    "\n",
    "I'm interested to see how we would have fared betting all selections rated by this model according to a few different staking schemes and also at a few different times / price points. "
   ]
  },
  {
   "cell_type": "code",
   "execution_count": 6,
   "metadata": {},
   "outputs": [],
   "source": [
    "# Some python setup\n",
    "%config IPCompleter.greedy=True"
   ]
  },
  {
   "cell_type": "markdown",
   "metadata": {},
   "source": [
    "## PART 1: Scrape The Model Ratings"
   ]
  },
  {
   "cell_type": "markdown",
   "metadata": {},
   "source": [
    "If you travel to the [betfair hub ratings page](https://www.betfair.com.au/hub/horse-racing-tips/) you'll find that URL links behind the ratings download buttons have a consistent URL pattern that looks very scrape friendly."
   ]
  },
  {
   "cell_type": "markdown",
   "metadata": {},
   "source": [
    "![](img/finding-hub-ratings-url.PNG)"
   ]
  },
  {
   "cell_type": "markdown",
   "metadata": {},
   "source": [
    "We can take advantage of this consistency and use some simple python code to scrape all the ratings into a pandas dataframe."
   ]
  },
  {
   "cell_type": "code",
   "execution_count": 2,
   "metadata": {},
   "outputs": [],
   "source": [
    "import pandas as pd\n",
    "import numpy as np\n",
    "import requests\n",
    "from datetime import date, timedelta\n",
    "\n",
    "# Function to return Pandas DF of hub ratings for a particular date\n",
    "def getHubRatings(dte):\n",
    "    \n",
    "    # Substitute the date into the URL\n",
    "    url = 'https://betfair-data-supplier-prod.herokuapp.com/api/widgets/kash-ratings-model/datasets?date={}presenter=RatingsPresenter&json=true'.format(dte)\n",
    "    \n",
    "    # Convert the response into JSON\n",
    "    responseJson = requests.get(url).json()\n",
    "        \n",
    "    hubList = []\n",
    "    \n",
    "    if not responseJson:\n",
    "        return(None)\n",
    "    \n",
    "    \n",
    "    # Want an normalised table (1 row per selection)\n",
    "    # Brute force / simple approach is to loop through meetings / races / runners and pull out the key fields\n",
    "    for meeting in responseJson['meetings']:\n",
    "        for race in meeting['races']:\n",
    "            for runner in race['runners']:\n",
    "                hubList.append(\n",
    "                    {\n",
    "                        'date': dte,\n",
    "                        'track': meeting['name'],\n",
    "                        'race_number': race['number'],\n",
    "                        'race_name': race['name'],\n",
    "                        'market_id': race['bfExchangeMarketId'],\n",
    "                        'selection_id':  str(runner['bfExchangeSelectionId']),\n",
    "                        'selection_name': runner['name'],\n",
    "                        'model_odds': runner['ratedPrice']\n",
    "                    }\n",
    "                )\n",
    "                \n",
    "    out = pd.DataFrame(hubList)\n",
    "                \n",
    "    return(out)"
   ]
  },
  {
   "cell_type": "code",
   "execution_count": 4,
   "metadata": {},
   "outputs": [
    {
     "data": {
      "text/html": [
       "<div>\n",
       "<style scoped>\n",
       "    .dataframe tbody tr th:only-of-type {\n",
       "        vertical-align: middle;\n",
       "    }\n",
       "\n",
       "    .dataframe tbody tr th {\n",
       "        vertical-align: top;\n",
       "    }\n",
       "\n",
       "    .dataframe thead th {\n",
       "        text-align: right;\n",
       "    }\n",
       "</style>\n",
       "<table border=\"1\" class=\"dataframe\">\n",
       "  <thead>\n",
       "    <tr style=\"text-align: right;\">\n",
       "      <th></th>\n",
       "      <th>date</th>\n",
       "      <th>track</th>\n",
       "      <th>race_number</th>\n",
       "      <th>race_name</th>\n",
       "      <th>market_id</th>\n",
       "      <th>selection_id</th>\n",
       "      <th>selection_name</th>\n",
       "      <th>model_odds</th>\n",
       "    </tr>\n",
       "  </thead>\n",
       "  <tbody>\n",
       "    <tr>\n",
       "      <th>0</th>\n",
       "      <td>2021-03-01</td>\n",
       "      <td>COWRA</td>\n",
       "      <td>1</td>\n",
       "      <td>R1 1375m Mdn</td>\n",
       "      <td>1.179845154</td>\n",
       "      <td>38620052</td>\n",
       "      <td>1. Military Affair</td>\n",
       "      <td>6.44</td>\n",
       "    </tr>\n",
       "    <tr>\n",
       "      <th>1</th>\n",
       "      <td>2021-03-01</td>\n",
       "      <td>COWRA</td>\n",
       "      <td>1</td>\n",
       "      <td>R1 1375m Mdn</td>\n",
       "      <td>1.179845154</td>\n",
       "      <td>5889703</td>\n",
       "      <td>3. Proverbial</td>\n",
       "      <td>21.11</td>\n",
       "    </tr>\n",
       "    <tr>\n",
       "      <th>2</th>\n",
       "      <td>2021-03-01</td>\n",
       "      <td>COWRA</td>\n",
       "      <td>1</td>\n",
       "      <td>R1 1375m Mdn</td>\n",
       "      <td>1.179845154</td>\n",
       "      <td>38177688</td>\n",
       "      <td>4. A Real Wag</td>\n",
       "      <td>9.97</td>\n",
       "    </tr>\n",
       "    <tr>\n",
       "      <th>3</th>\n",
       "      <td>2021-03-01</td>\n",
       "      <td>COWRA</td>\n",
       "      <td>1</td>\n",
       "      <td>R1 1375m Mdn</td>\n",
       "      <td>1.179845154</td>\n",
       "      <td>38620053</td>\n",
       "      <td>5. El Jay</td>\n",
       "      <td>44.12</td>\n",
       "    </tr>\n",
       "    <tr>\n",
       "      <th>4</th>\n",
       "      <td>2021-03-01</td>\n",
       "      <td>COWRA</td>\n",
       "      <td>1</td>\n",
       "      <td>R1 1375m Mdn</td>\n",
       "      <td>1.179845154</td>\n",
       "      <td>37263264</td>\n",
       "      <td>6. Flying Honour</td>\n",
       "      <td>3.39</td>\n",
       "    </tr>\n",
       "    <tr>\n",
       "      <th>...</th>\n",
       "      <td>...</td>\n",
       "      <td>...</td>\n",
       "      <td>...</td>\n",
       "      <td>...</td>\n",
       "      <td>...</td>\n",
       "      <td>...</td>\n",
       "      <td>...</td>\n",
       "      <td>...</td>\n",
       "    </tr>\n",
       "    <tr>\n",
       "      <th>206</th>\n",
       "      <td>2021-03-01</td>\n",
       "      <td>YORK</td>\n",
       "      <td>7</td>\n",
       "      <td>R7 1920m Hcap</td>\n",
       "      <td>1.179845227</td>\n",
       "      <td>20465676</td>\n",
       "      <td>6. Shivers Of Joy</td>\n",
       "      <td>28.35</td>\n",
       "    </tr>\n",
       "    <tr>\n",
       "      <th>207</th>\n",
       "      <td>2021-03-01</td>\n",
       "      <td>YORK</td>\n",
       "      <td>7</td>\n",
       "      <td>R7 1920m Hcap</td>\n",
       "      <td>1.179845227</td>\n",
       "      <td>24503237</td>\n",
       "      <td>7. Ahyoka Frost</td>\n",
       "      <td>4.53</td>\n",
       "    </tr>\n",
       "    <tr>\n",
       "      <th>208</th>\n",
       "      <td>2021-03-01</td>\n",
       "      <td>YORK</td>\n",
       "      <td>7</td>\n",
       "      <td>R7 1920m Hcap</td>\n",
       "      <td>1.179845227</td>\n",
       "      <td>27213857</td>\n",
       "      <td>8. Doc Friar</td>\n",
       "      <td>25.08</td>\n",
       "    </tr>\n",
       "    <tr>\n",
       "      <th>209</th>\n",
       "      <td>2021-03-01</td>\n",
       "      <td>YORK</td>\n",
       "      <td>7</td>\n",
       "      <td>R7 1920m Hcap</td>\n",
       "      <td>1.179845227</td>\n",
       "      <td>26188670</td>\n",
       "      <td>9. Praying With God</td>\n",
       "      <td>5.84</td>\n",
       "    </tr>\n",
       "    <tr>\n",
       "      <th>210</th>\n",
       "      <td>2021-03-01</td>\n",
       "      <td>YORK</td>\n",
       "      <td>7</td>\n",
       "      <td>R7 1920m Hcap</td>\n",
       "      <td>1.179845227</td>\n",
       "      <td>10982269</td>\n",
       "      <td>10. Danish Gem</td>\n",
       "      <td>14.12</td>\n",
       "    </tr>\n",
       "  </tbody>\n",
       "</table>\n",
       "<p>211 rows × 8 columns</p>\n",
       "</div>"
      ],
      "text/plain": [
       "           date  track  race_number      race_name    market_id selection_id  \\\n",
       "0    2021-03-01  COWRA            1   R1 1375m Mdn  1.179845154     38620052   \n",
       "1    2021-03-01  COWRA            1   R1 1375m Mdn  1.179845154      5889703   \n",
       "2    2021-03-01  COWRA            1   R1 1375m Mdn  1.179845154     38177688   \n",
       "3    2021-03-01  COWRA            1   R1 1375m Mdn  1.179845154     38620053   \n",
       "4    2021-03-01  COWRA            1   R1 1375m Mdn  1.179845154     37263264   \n",
       "..          ...    ...          ...            ...          ...          ...   \n",
       "206  2021-03-01   YORK            7  R7 1920m Hcap  1.179845227     20465676   \n",
       "207  2021-03-01   YORK            7  R7 1920m Hcap  1.179845227     24503237   \n",
       "208  2021-03-01   YORK            7  R7 1920m Hcap  1.179845227     27213857   \n",
       "209  2021-03-01   YORK            7  R7 1920m Hcap  1.179845227     26188670   \n",
       "210  2021-03-01   YORK            7  R7 1920m Hcap  1.179845227     10982269   \n",
       "\n",
       "          selection_name  model_odds  \n",
       "0     1. Military Affair        6.44  \n",
       "1          3. Proverbial       21.11  \n",
       "2          4. A Real Wag        9.97  \n",
       "3              5. El Jay       44.12  \n",
       "4       6. Flying Honour        3.39  \n",
       "..                   ...         ...  \n",
       "206    6. Shivers Of Joy       28.35  \n",
       "207      7. Ahyoka Frost        4.53  \n",
       "208         8. Doc Friar       25.08  \n",
       "209  9. Praying With God        5.84  \n",
       "210       10. Danish Gem       14.12  \n",
       "\n",
       "[211 rows x 8 columns]"
      ]
     },
     "execution_count": 4,
     "metadata": {},
     "output_type": "execute_result"
    }
   ],
   "source": [
    "# See the response from a single day\n",
    "getHubRatings(date(2021,3,1))"
   ]
  },
  {
   "cell_type": "code",
   "execution_count": 5,
   "metadata": {},
   "outputs": [
    {
     "name": "stdout",
     "output_type": "stream",
     "text": [
      "2021-02-18 00:00:00\n",
      "2021-02-19 00:00:00\n",
      "2021-02-20 00:00:00\n",
      "2021-02-21 00:00:00\n",
      "2021-02-22 00:00:00\n",
      "2021-02-23 00:00:00\n",
      "2021-02-24 00:00:00\n",
      "2021-02-25 00:00:00\n",
      "2021-02-26 00:00:00\n",
      "2021-02-27 00:00:00\n",
      "2021-02-28 00:00:00\n",
      "2021-03-01 00:00:00\n",
      "2021-03-02 00:00:00\n",
      "2021-03-03 00:00:00\n",
      "2021-03-04 00:00:00\n",
      "2021-03-05 00:00:00\n",
      "2021-03-06 00:00:00\n",
      "2021-03-07 00:00:00\n",
      "2021-03-08 00:00:00\n",
      "2021-03-09 00:00:00\n",
      "2021-03-10 00:00:00\n",
      "2021-03-11 00:00:00\n",
      "2021-03-12 00:00:00\n",
      "2021-03-13 00:00:00\n",
      "2021-03-14 00:00:00\n",
      "2021-03-15 00:00:00\n",
      "2021-03-16 00:00:00\n",
      "2021-03-17 00:00:00\n",
      "2021-03-18 00:00:00\n",
      "2021-03-19 00:00:00\n",
      "2021-03-20 00:00:00\n",
      "2021-03-21 00:00:00\n",
      "2021-03-22 00:00:00\n",
      "2021-03-23 00:00:00\n",
      "2021-03-24 00:00:00\n",
      "2021-03-25 00:00:00\n",
      "2021-03-26 00:00:00\n",
      "2021-03-27 00:00:00\n",
      "2021-03-28 00:00:00\n",
      "2021-03-29 00:00:00\n",
      "2021-03-30 00:00:00\n",
      "2021-03-31 00:00:00\n",
      "2021-04-01 00:00:00\n",
      "2021-04-02 00:00:00\n",
      "2021-04-03 00:00:00\n",
      "2021-04-04 00:00:00\n",
      "2021-04-05 00:00:00\n"
     ]
    }
   ],
   "source": [
    "# Loop through all recent history\n",
    "dateDFList = []\n",
    "dateList = pd.date_range(date(2021,2,18),date.today()-timedelta(days=1),freq='d')\n",
    "\n",
    "for dte in dateList:\n",
    "    dateDFList.append(getHubRatings(dte))\n",
    "    \n",
    "# Concatenate (add rows to rows) all the dataframes within the list\n",
    "hubRatings = pd.concat(dateDFList)"
   ]
  },
  {
   "cell_type": "code",
   "execution_count": 6,
   "metadata": {},
   "outputs": [
    {
     "data": {
      "text/html": [
       "<div>\n",
       "<style scoped>\n",
       "    .dataframe tbody tr th:only-of-type {\n",
       "        vertical-align: middle;\n",
       "    }\n",
       "\n",
       "    .dataframe tbody tr th {\n",
       "        vertical-align: top;\n",
       "    }\n",
       "\n",
       "    .dataframe thead th {\n",
       "        text-align: right;\n",
       "    }\n",
       "</style>\n",
       "<table border=\"1\" class=\"dataframe\">\n",
       "  <thead>\n",
       "    <tr style=\"text-align: right;\">\n",
       "      <th></th>\n",
       "      <th>date</th>\n",
       "      <th>track</th>\n",
       "      <th>race_number</th>\n",
       "      <th>race_name</th>\n",
       "      <th>market_id</th>\n",
       "      <th>selection_id</th>\n",
       "      <th>selection_name</th>\n",
       "      <th>model_odds</th>\n",
       "    </tr>\n",
       "  </thead>\n",
       "  <tbody>\n",
       "    <tr>\n",
       "      <th>0</th>\n",
       "      <td>2021-02-18</td>\n",
       "      <td>DOOMBEN</td>\n",
       "      <td>1</td>\n",
       "      <td>R1 1200m 3yo</td>\n",
       "      <td>1.179418181</td>\n",
       "      <td>38523320</td>\n",
       "      <td>11. Vast Kama</td>\n",
       "      <td>34.28</td>\n",
       "    </tr>\n",
       "    <tr>\n",
       "      <th>1</th>\n",
       "      <td>2021-02-18</td>\n",
       "      <td>DOOMBEN</td>\n",
       "      <td>1</td>\n",
       "      <td>R1 1200m 3yo</td>\n",
       "      <td>1.179418181</td>\n",
       "      <td>38523319</td>\n",
       "      <td>10. Triptonic</td>\n",
       "      <td>21.22</td>\n",
       "    </tr>\n",
       "    <tr>\n",
       "      <th>2</th>\n",
       "      <td>2021-02-18</td>\n",
       "      <td>DOOMBEN</td>\n",
       "      <td>1</td>\n",
       "      <td>R1 1200m 3yo</td>\n",
       "      <td>1.179418181</td>\n",
       "      <td>35773035</td>\n",
       "      <td>9. Right Reason</td>\n",
       "      <td>10.23</td>\n",
       "    </tr>\n",
       "    <tr>\n",
       "      <th>3</th>\n",
       "      <td>2021-02-18</td>\n",
       "      <td>DOOMBEN</td>\n",
       "      <td>1</td>\n",
       "      <td>R1 1200m 3yo</td>\n",
       "      <td>1.179418181</td>\n",
       "      <td>38523318</td>\n",
       "      <td>8. Off Road</td>\n",
       "      <td>40.75</td>\n",
       "    </tr>\n",
       "    <tr>\n",
       "      <th>4</th>\n",
       "      <td>2021-02-18</td>\n",
       "      <td>DOOMBEN</td>\n",
       "      <td>1</td>\n",
       "      <td>R1 1200m 3yo</td>\n",
       "      <td>1.179418181</td>\n",
       "      <td>38523317</td>\n",
       "      <td>7. More Than Value</td>\n",
       "      <td>77.49</td>\n",
       "    </tr>\n",
       "    <tr>\n",
       "      <th>...</th>\n",
       "      <td>...</td>\n",
       "      <td>...</td>\n",
       "      <td>...</td>\n",
       "      <td>...</td>\n",
       "      <td>...</td>\n",
       "      <td>...</td>\n",
       "      <td>...</td>\n",
       "      <td>...</td>\n",
       "    </tr>\n",
       "    <tr>\n",
       "      <th>714</th>\n",
       "      <td>2021-04-05</td>\n",
       "      <td>YORK</td>\n",
       "      <td>8</td>\n",
       "      <td>R8 1920m Hcap</td>\n",
       "      <td>1.181450661</td>\n",
       "      <td>25261660</td>\n",
       "      <td>9. Hard Too Cee</td>\n",
       "      <td>38.23</td>\n",
       "    </tr>\n",
       "    <tr>\n",
       "      <th>715</th>\n",
       "      <td>2021-04-05</td>\n",
       "      <td>YORK</td>\n",
       "      <td>8</td>\n",
       "      <td>R8 1920m Hcap</td>\n",
       "      <td>1.181450661</td>\n",
       "      <td>23038989</td>\n",
       "      <td>10. Doc Friar</td>\n",
       "      <td>175.65</td>\n",
       "    </tr>\n",
       "    <tr>\n",
       "      <th>716</th>\n",
       "      <td>2021-04-05</td>\n",
       "      <td>YORK</td>\n",
       "      <td>8</td>\n",
       "      <td>R8 1920m Hcap</td>\n",
       "      <td>1.181450661</td>\n",
       "      <td>20850339</td>\n",
       "      <td>11. Lady Vital</td>\n",
       "      <td>172.94</td>\n",
       "    </tr>\n",
       "    <tr>\n",
       "      <th>717</th>\n",
       "      <td>2021-04-05</td>\n",
       "      <td>YORK</td>\n",
       "      <td>8</td>\n",
       "      <td>R8 1920m Hcap</td>\n",
       "      <td>1.181450661</td>\n",
       "      <td>1019841</td>\n",
       "      <td>12. Stroud</td>\n",
       "      <td>177.65</td>\n",
       "    </tr>\n",
       "    <tr>\n",
       "      <th>718</th>\n",
       "      <td>2021-04-05</td>\n",
       "      <td>YORK</td>\n",
       "      <td>8</td>\n",
       "      <td>R8 1920m Hcap</td>\n",
       "      <td>1.181450661</td>\n",
       "      <td>19240009</td>\n",
       "      <td>13. Im A Love Man</td>\n",
       "      <td>24.89</td>\n",
       "    </tr>\n",
       "  </tbody>\n",
       "</table>\n",
       "<p>26012 rows × 8 columns</p>\n",
       "</div>"
      ],
      "text/plain": [
       "          date    track  race_number      race_name    market_id selection_id  \\\n",
       "0   2021-02-18  DOOMBEN            1   R1 1200m 3yo  1.179418181     38523320   \n",
       "1   2021-02-18  DOOMBEN            1   R1 1200m 3yo  1.179418181     38523319   \n",
       "2   2021-02-18  DOOMBEN            1   R1 1200m 3yo  1.179418181     35773035   \n",
       "3   2021-02-18  DOOMBEN            1   R1 1200m 3yo  1.179418181     38523318   \n",
       "4   2021-02-18  DOOMBEN            1   R1 1200m 3yo  1.179418181     38523317   \n",
       "..         ...      ...          ...            ...          ...          ...   \n",
       "714 2021-04-05     YORK            8  R8 1920m Hcap  1.181450661     25261660   \n",
       "715 2021-04-05     YORK            8  R8 1920m Hcap  1.181450661     23038989   \n",
       "716 2021-04-05     YORK            8  R8 1920m Hcap  1.181450661     20850339   \n",
       "717 2021-04-05     YORK            8  R8 1920m Hcap  1.181450661      1019841   \n",
       "718 2021-04-05     YORK            8  R8 1920m Hcap  1.181450661     19240009   \n",
       "\n",
       "         selection_name  model_odds  \n",
       "0         11. Vast Kama       34.28  \n",
       "1         10. Triptonic       21.22  \n",
       "2       9. Right Reason       10.23  \n",
       "3           8. Off Road       40.75  \n",
       "4    7. More Than Value       77.49  \n",
       "..                  ...         ...  \n",
       "714     9. Hard Too Cee       38.23  \n",
       "715       10. Doc Friar      175.65  \n",
       "716      11. Lady Vital      172.94  \n",
       "717          12. Stroud      177.65  \n",
       "718   13. Im A Love Man       24.89  \n",
       "\n",
       "[26012 rows x 8 columns]"
      ]
     },
     "execution_count": 6,
     "metadata": {},
     "output_type": "execute_result"
    }
   ],
   "source": [
    "hubRatings"
   ]
  },
  {
   "cell_type": "markdown",
   "metadata": {},
   "source": [
    "## PART 2: Assembling and Odds File\n"
   ]
  },
  {
   "cell_type": "markdown",
   "metadata": {},
   "source": [
    "So part 1 was very painless. This is how we like data: served by some API or available in a nice tabular format on a webpage ready to be scraped with standard tools available in popular languages.\n",
    "\n",
    "Unfortunately, it won't be so painless to assemble our odds file. We'll find out why it's tricky as we go."
   ]
  },
  {
   "cell_type": "markdown",
   "metadata": {},
   "source": [
    "## The Data"
   ]
  },
  {
   "cell_type": "markdown",
   "metadata": {},
   "source": [
    "The data we'll be using is the historical exchange data available from [this website](https://historicdata.betfair.com/#/home). The data available through this service is called streaming JSON data. There are a few options available relating to granularity (how many time points per second the data updates at). \n",
    "\n",
    "Essentially what the data allows us to do is, for a particular market, recreate the exact state of the betfair exchange at say: 150 microseconds before the market closed. What we mean when we say the **state of the exchange** we mean two things a) what are all the current open orders on all the selections b) what are the current traded volumes on each selection at each price point. \n",
    "\n",
    "With these 2 pieces of information we can build a rich view of the dynamics of exchange and also build out all of the summary metrics (WAP etc) we might have previously needed betfair to help with.\n",
    "\n",
    "Now, for our purposes 50 miscro-second intervaled data is huge overkill but you could imagine needing this kind of granularity for other kinds of wagering systems - for example a high frequency trading algorithm of some sort that needed to made many decisions and actions every second. \n",
    "\n",
    "Let's take a look at what the data looks like for a single market:"
   ]
  },
  {
   "cell_type": "markdown",
   "metadata": {},
   "source": [
    "![](img/stream-data-example.PNG)"
   ]
  },
  {
   "cell_type": "markdown",
   "metadata": {},
   "source": [
    "So it looks pretty intractable. For this particular market there's 14,384 lines which each consists of a single json packet of data. If you're not a data engineer (neither am I) your head might explode thinking about how you could read this into your computer and transform it into something usable.\n",
    "\n",
    "The data looks like this because it is saved from a special betfair API called the Stream API which which is used by high end betfair API users and which delivers fast speeds other performance improvements over the normal \"polling\" API.\n",
    "\n",
    "Now what's good about that, for the purposes of our exercise, is that the very nice python package `betfairlightweight` has the functionality built to not only parse the Stream API live but also these historical versions of the stream data. Without it we'd be *very* far away from the finish line, with `betfairlightweight` we're pretty close."
   ]
  },
  {
   "cell_type": "markdown",
   "metadata": {},
   "source": [
    "## Normalising The Data\n",
    "\n",
    "There's a few elements to handling these files so I'll step through the 4 key components conceptually. \n",
    "\n",
    "Because these files are so large and unprocessed this process won't look the same as your normal data ETL in python: where you can read a raw data file (csv, json, text etc.) into memory and use python functions to transform into usable format.\n",
    "\n",
    "Conceptually the process looks something like these steps:\n",
    "\n",
    "1. Load the archives into a \"generator\"\n",
    "2. Scan across the generator (market_ids) and the market states within those markets\n",
    "3. Process those markets states to pull out some race and selection metatdata + useful summary numbers\n",
    "4. Write this useful summarised data to a file that can be read and understood with normal data analysis workflows\n",
    "\n",
    "\n"
   ]
  },
  {
   "cell_type": "code",
   "execution_count": null,
   "metadata": {},
   "outputs": [],
   "source": [
    "# Setup\n",
    "import pandas as pd\n",
    "import os\n",
    "import re\n",
    "import betfairlightweight\n",
    "from betfairlightweight import StreamListener\n",
    "import logging\n",
    "import requests\n",
    "import tarfile\n",
    "import bz2\n",
    "from unittest.mock import patch\n",
    "\n",
    "import logging\n",
    "from typing import List, Set, Dict, Tuple, Optional\n",
    "\n",
    "from unittest.mock import patch\n",
    "from itertools import zip_longest\n",
    "import functools\n",
    "\n",
    "import os\n",
    "import tarfile\n",
    "import zipfile\n",
    "import bz2\n",
    "import glob\n",
    "\n",
    "# importing data types\n",
    "import betfairlightweight\n",
    "from betfairlightweight.resources.bettingresources import (\n",
    "    PriceSize,\n",
    "    MarketBook\n",
    ")"
   ]
  },
  {
   "cell_type": "markdown",
   "metadata": {},
   "source": [
    "### TAR Load"
   ]
  },
  {
   "cell_type": "markdown",
   "metadata": {},
   "source": [
    "First thing is these files come as tar archive files which special kind of file that we'll need to unpack. Thankfully we can do that with python too."
   ]
  },
  {
   "cell_type": "code",
   "execution_count": 17,
   "metadata": {},
   "outputs": [],
   "source": [
    "# loading from tar and extracting files\n",
    "def load_markets(file_paths):\n",
    "    for file_path in file_paths:\n",
    "        print(file_path)\n",
    "        if os.path.isdir(file_path):\n",
    "            for path in glob.iglob(file_path + '**/**/*.bz2', recursive=True):\n",
    "                f = bz2.BZ2File(path, 'rb')\n",
    "                yield f\n",
    "                f.close()\n",
    "        elif os.path.isfile(file_path):\n",
    "            ext = os.path.splitext(file_path)[1]\n",
    "            # iterate through a tar archive\n",
    "            if ext == '.tar':\n",
    "                with tarfile.TarFile(file_path) as archive:\n",
    "                    for file in archive:\n",
    "                        yield bz2.open(archive.extractfile(file))\n",
    "            # or a zip archive\n",
    "            elif ext == '.zip':\n",
    "                with zipfile.ZipFile(file_path) as archive:\n",
    "                    for file in archive.namelist():\n",
    "                        yield bz2.open(archive.open(file))\n",
    "\n",
    "    return None"
   ]
  },
  {
   "cell_type": "code",
   "execution_count": null,
   "metadata": {},
   "outputs": [],
   "source": [
    "# Extract Components From Generated Stream\n",
    "def extract_components_from_stream(s):\n",
    "    \n",
    "    with patch(\"builtins.open\", lambda f, _: f):   \n",
    "    \n",
    "        # Will return 3 market books t-3mins marketbook, the last preplay marketbook and the final market book\n",
    "        evaluate_market = None\n",
    "        prev_market = None\n",
    "        postplay_market = None\n",
    "        preplay_market = None\n",
    "        t3m_market = None\n",
    "\n",
    "        gen = stream.get_generator()\n",
    "\n",
    "        for market_books in gen():\n",
    "            \n",
    "            for market_book in market_books:\n",
    "\n",
    "                # If markets don't meet filter return None's\n",
    "                if evaluate_market is None and ((evaluate_market := filter_market(market_book)) == False):\n",
    "                    return (None, None, None, None)\n",
    "\n",
    "                # final market view before market goes in play\n",
    "                if prev_market is not None and prev_market.inplay != market_book.inplay:\n",
    "                    preplay_market = market_book\n",
    "                    \n",
    "                # final market view before market goes is closed for settlement\n",
    "                if prev_market is not None and prev_market.status == \"OPEN\" and market_book.status != prev_market.status:\n",
    "                    postplay_market = market_book\n",
    "\n",
    "                # Calculate Seconds Till Scheduled Market Start Time\n",
    "                seconds_to_start = (market_book.market_definition.market_time - market_book.publish_time).total_seconds()\n",
    "                    \n",
    "                # Market at 3 mins before scheduled off\n",
    "                if t3m_market is None and seconds_to_start < 3*60:\n",
    "                    t3m_market = market_book\n",
    "                    \n",
    "                # update reference to previous market\n",
    "                prev_market = market_book\n",
    "\n",
    "        # If market didn't go inplay\n",
    "        if postplay_market is not None and preplay_market is None:\n",
    "            preplay_market = postplay_market\n",
    "        \n",
    "        return (t3m_market, preplay_market, postplay_market, prev_market) # Final market is last prev_market"
   ]
  },
  {
   "cell_type": "code",
   "execution_count": 20,
   "metadata": {},
   "outputs": [
    {
     "name": "stdout",
     "output_type": "stream",
     "text": [
      "./data/2021_02_FebRacingPro.tar\n"
     ]
    }
   ],
   "source": [
    "import pandas as pd\n",
    "import os\n",
    "import re\n",
    "import betfairlightweight\n",
    "from betfairlightweight import StreamListener\n",
    "import logging\n",
    "import requests\n",
    "import tarfile\n",
    "import bz2\n",
    "from unittest.mock import patch\n",
    "\n",
    "import logging\n",
    "from typing import List, Set, Dict, Tuple, Optional\n",
    "\n",
    "from unittest.mock import patch\n",
    "from itertools import zip_longest\n",
    "import functools\n",
    "\n",
    "import os\n",
    "import tarfile\n",
    "import zipfile\n",
    "import bz2\n",
    "import glob\n",
    "\n",
    "# importing data types\n",
    "import betfairlightweight\n",
    "from betfairlightweight.resources.bettingresources import (\n",
    "    PriceSize,\n",
    "    MarketBook\n",
    ")\n",
    "\n",
    "\n",
    "data_path = [\n",
    "    \"./data/2021_02_FebRacingPro.tar\",\n",
    "    \"./data/2021_03_MarRacingPro.tar\",\n",
    "]\n",
    "\n",
    "# Betfair Lightweight Boilerplate\n",
    "\n",
    "# create trading instance (don't need username/password)\n",
    "trading = betfairlightweight.APIClient(\"username\", \"password\")\n",
    "\n",
    "# create listener\n",
    "listener = StreamListener(max_latency=None)\n",
    "\n",
    "# rounding to 2 decimal places or returning '' if blank\n",
    "def as_str(v: float) -> str:\n",
    "    return '%.2f' % v if v is not None else ''\n",
    "\n",
    "# splitting race name and returning the parts \n",
    "def split_anz_horse_market_name(market_name: str) -> (str, str, str):\n",
    "    # return race no, length, race type\n",
    "    # input sample: R6 1400m Grp1\n",
    "    parts = market_name.split(' ')\n",
    "    race_no = parts[0] # return example R6\n",
    "    race_len = parts[1] # return example 1400m\n",
    "    race_type = parts[2].lower() # return example grp1, trot, pace\n",
    "\n",
    "    return (race_no, race_len, race_type)\n",
    "\n",
    "# filtering markets to those that fit the following criteria\n",
    "def filter_market(market: MarketBook) -> bool: \n",
    "    d = market.market_definition\n",
    "    return (d.country_code == 'AU' \n",
    "        and d.market_type == 'WIN' \n",
    "        and (c := split_anz_horse_market_name(d.name)[2]) != 'trot' and c != 'pace')\n",
    "\n",
    "# record prices to a file\n",
    "with open(\"outputs/tho-odds-feb.csv\", \"w+\") as output:\n",
    "    # defining column headers\\\n",
    "    \n",
    "    # Column Headers\n",
    "    output.write(\"market_id,event_date,country,track,market_name,selection_id,selection_name,result,bsp,matched_volume,best_back_1m,best_back_5m\\n\")\n",
    "\n",
    "    for file_obj in load_markets(data_path):\n",
    "\n",
    "        # Instantiate a \"stream\" object\n",
    "        stream = trading.streaming.create_historical_generator_stream(\n",
    "            file_path=file_obj,\n",
    "            listener=listener,\n",
    "        )\n",
    "\n",
    "\n",
    "        # For this stream object execute the following Lambda function\n",
    "        with patch(\"builtins.open\", lambda f, _: f): \n",
    "\n",
    "            evaluate_market = False\n",
    "            preplay_market = None\n",
    "            postplay_market = None\n",
    "            preplay_traded = None\n",
    "            postplay_traded = None\n",
    "            t5m = False\n",
    "            t1m = False\n",
    "\n",
    "            gen = stream.get_generator()\n",
    "            for market_books in gen():\n",
    "                for market_book in market_books:\n",
    "\n",
    "                    # skipping markets that don't meet the filter\n",
    "                    if evaluate_market == False and filter_market(market_book) == False:\n",
    "                        continue\n",
    "                    else:\n",
    "                        evaluate_market = True\n",
    "\n",
    "                    # final market view before market goes in play\n",
    "                    if preplay_market is not None and preplay_market.inplay != market_book.inplay:\n",
    "                        preplay_traded = [ (r.last_price_traded, r.ex.traded_volume.copy()) for r in preplay_market.runners ]\n",
    "                    preplay_market = market_book\n",
    "\n",
    "                    # final market view at the conclusion of the market\n",
    "                    if postplay_market is not None and postplay_market.status == \"OPEN\" and market_book.status != postplay_market.status:\n",
    "                        postplay_traded = [ (r.last_price_traded, r.ex.traded_volume.copy()) for r in market_book.runners ]\n",
    "                    postplay_market = market_book   \n",
    "                    \n",
    "                    seconds_to_start = (\n",
    "                        market_book.market_definition.market_time - market_book.publish_time\n",
    "                    ).total_seconds()\n",
    "                    \n",
    "                    # Best Available To Back 5m\n",
    "                    if not t5m:\n",
    "                        if seconds_to_start < 5*60:\n",
    "                            t5m_market = market_book\n",
    "                            t5m = True\n",
    "                            \n",
    "                    # Best Available To Back 1m\n",
    "                    if not t1m:\n",
    "                        if seconds_to_start < 1*60:\n",
    "                            t1m_market = market_book\n",
    "                            t1m = True\n",
    "                    \n",
    "            # no price data for market\n",
    "            if postplay_traded is None:\n",
    "                continue; \n",
    "\n",
    "            # Runner Metadata\n",
    "            runner_data = [\n",
    "                {\n",
    "                    'selection_id': r.selection_id,\n",
    "                    'selection_name': next((rd.name for rd in postplay_market.market_definition.runners if rd.selection_id == r.selection_id), None),\n",
    "                    'selection_status': r.status,\n",
    "                    'sp': r.sp.actual_sp\n",
    "                }\n",
    "                for r in postplay_market.runners \n",
    "            ]\n",
    "            \n",
    "            # Total Matched Volume  \n",
    "            # _____________________\n",
    "            \n",
    "            def ladder_traded_volume(ladder):\n",
    "                return(sum([rung.size for rung in ladder]))\n",
    "\n",
    "            selection_traded_volume = [ ladder_traded_volume(runner[1]) for runner in postplay_traded ]\n",
    "\n",
    "            \n",
    "            # Best Available To Back\n",
    "            # ______________________\n",
    "            \n",
    "            def best_back(availableLadder):\n",
    "                if len(availableLadder) == 0:\n",
    "                    return(None)\n",
    "                else:\n",
    "                    return(availableLadder[0].price)\n",
    "\n",
    "            bestBack5m = [ best_back(runner.ex.available_to_back) for runner in t5m_market.runners]\n",
    "\n",
    "            bestBack1m = [ best_back(runner.ex.available_to_back) for runner in t1m_market.runners]\n",
    "            \n",
    "            # Writing To CSV\n",
    "            # ______________________\n",
    "            \n",
    "            for (runnerMeta, runnerTradedVolume, bb5m, bb1m) in zip(runner_data, selection_traded_volume, bestBack5m, bestBack1m):\n",
    "                \n",
    "                if runnerMeta['selection_status'] != 'REMOVED':\n",
    "                \n",
    "                    output.write(\n",
    "                        \"{},{},{},{},{},{},{},{},{},{},{},{} \\n\".format(\n",
    "                            postplay_market.market_id,\n",
    "                            postplay_market.market_definition.market_time,\n",
    "                            postplay_market.market_definition.country_code,\n",
    "                            postplay_market.market_definition.venue,\n",
    "                            postplay_market.market_definition.name,\n",
    "                            runnerMeta['selection_id'],\n",
    "                            runnerMeta['selection_name'],\n",
    "                            runnerMeta['selection_status'],\n",
    "                            runnerMeta['sp'],\n",
    "                            runnerTradedVolume,\n",
    "                            bb5m,\n",
    "                            bb1m\n",
    "                        )\n",
    "                    )"
   ]
  },
  {
   "cell_type": "markdown",
   "metadata": {},
   "source": [
    "# Part 3: Backtesting Analysis"
   ]
  },
  {
   "cell_type": "code",
   "execution_count": 21,
   "metadata": {},
   "outputs": [
    {
     "data": {
      "text/plain": [
       "[5.4, 5.3, 5.2]"
      ]
     },
     "execution_count": 21,
     "metadata": {},
     "output_type": "execute_result"
    }
   ],
   "source": [
    "# Load in odds file\n",
    "bfOdds = pd.read_csv(\"outputs/tho-odds-feb.csv\", dtype={'market_id': object, 'selection_id': object})\n",
    "\n",
    "# bfOddsTest = pd.read_csv(\"outputs/odds-file-test.csv\", dtype={'market_id': object, 'selection_id': object, 'atb_ladder_3m': object, 'atl_ladder_3m': object})\n",
    "# import ast\n",
    "\n",
    "# bfOddsTest['atb_ladder_3m'] = [ast.literal_eval(x) for x in bfOddsTest['atb_ladder_3m']]\n",
    "# ast.literal_eval(bfOddsTest.atb_ladder_3m)\n",
    "# bfOddsTest['atb_ladder_3m'][0][\"price\"]"
   ]
  },
  {
   "cell_type": "code",
   "execution_count": 90,
   "metadata": {},
   "outputs": [],
   "source": [
    "# Convert best backs to float before fix\n",
    "bfOdds['best_back_5m'] = pd.to_numeric(df['best_back_5m'],errors='coerce')\n",
    "bfOdds['best_back_1m'] = pd.to_numeric(df['best_back_1m'],errors='coerce')"
   ]
  },
  {
   "cell_type": "markdown",
   "metadata": {},
   "source": [
    "### Patterns\n",
    "\n",
    "When backtesting, and developing wagering systems more generally, I've found it really helpful to have a set of standard patterns ways of representing data.\n",
    "\n",
    "For example, when evalutating some model ratings in a dataframe it's helpful to have consistent column names so that the code for any new test you run looks much like previous tests and you can leverage custom functions that can be reused.\n",
    "\n",
    "I like to have the following columns in my backtesting dataframe:\n",
    "* date\n",
    "* market_id (can be a surrogate id if dealing with fixed odds markets)\n",
    "* selection_id\n",
    "* win (a binary win loss)\n",
    "* model_odds\n",
    "* model_prob\n",
    "* market_odds\n",
    "* market_prob\n"
   ]
  },
  {
   "cell_type": "code",
   "execution_count": 108,
   "metadata": {},
   "outputs": [
    {
     "data": {
      "text/html": [
       "<div>\n",
       "<style scoped>\n",
       "    .dataframe tbody tr th:only-of-type {\n",
       "        vertical-align: middle;\n",
       "    }\n",
       "\n",
       "    .dataframe tbody tr th {\n",
       "        vertical-align: top;\n",
       "    }\n",
       "\n",
       "    .dataframe thead th {\n",
       "        text-align: right;\n",
       "    }\n",
       "</style>\n",
       "<table border=\"1\" class=\"dataframe\">\n",
       "  <thead>\n",
       "    <tr style=\"text-align: right;\">\n",
       "      <th></th>\n",
       "      <th>date</th>\n",
       "      <th>track</th>\n",
       "      <th>race_number</th>\n",
       "      <th>market_id</th>\n",
       "      <th>selection_id</th>\n",
       "      <th>bsp</th>\n",
       "      <th>best_back_1m</th>\n",
       "      <th>best_back_5m</th>\n",
       "      <th>model_prob</th>\n",
       "      <th>market_prob</th>\n",
       "      <th>model_odds</th>\n",
       "      <th>market_odds</th>\n",
       "      <th>win</th>\n",
       "    </tr>\n",
       "  </thead>\n",
       "  <tbody>\n",
       "    <tr>\n",
       "      <th>0</th>\n",
       "      <td>2021-02-18</td>\n",
       "      <td>DOOMBEN</td>\n",
       "      <td>1</td>\n",
       "      <td>1.179418181</td>\n",
       "      <td>38523320</td>\n",
       "      <td>42.00</td>\n",
       "      <td>NaN</td>\n",
       "      <td>NaN</td>\n",
       "      <td>0.029172</td>\n",
       "      <td>0.023810</td>\n",
       "      <td>34.28</td>\n",
       "      <td>42.00</td>\n",
       "      <td>0</td>\n",
       "    </tr>\n",
       "    <tr>\n",
       "      <th>1</th>\n",
       "      <td>2021-02-18</td>\n",
       "      <td>DOOMBEN</td>\n",
       "      <td>1</td>\n",
       "      <td>1.179418181</td>\n",
       "      <td>38523319</td>\n",
       "      <td>23.87</td>\n",
       "      <td>NaN</td>\n",
       "      <td>NaN</td>\n",
       "      <td>0.047125</td>\n",
       "      <td>0.041894</td>\n",
       "      <td>21.22</td>\n",
       "      <td>23.87</td>\n",
       "      <td>0</td>\n",
       "    </tr>\n",
       "    <tr>\n",
       "      <th>2</th>\n",
       "      <td>2021-02-18</td>\n",
       "      <td>DOOMBEN</td>\n",
       "      <td>1</td>\n",
       "      <td>1.179418181</td>\n",
       "      <td>35773035</td>\n",
       "      <td>12.50</td>\n",
       "      <td>NaN</td>\n",
       "      <td>NaN</td>\n",
       "      <td>0.097752</td>\n",
       "      <td>0.080000</td>\n",
       "      <td>10.23</td>\n",
       "      <td>12.50</td>\n",
       "      <td>0</td>\n",
       "    </tr>\n",
       "    <tr>\n",
       "      <th>3</th>\n",
       "      <td>2021-02-18</td>\n",
       "      <td>DOOMBEN</td>\n",
       "      <td>1</td>\n",
       "      <td>1.179418181</td>\n",
       "      <td>38523318</td>\n",
       "      <td>35.31</td>\n",
       "      <td>NaN</td>\n",
       "      <td>NaN</td>\n",
       "      <td>0.024540</td>\n",
       "      <td>0.028321</td>\n",
       "      <td>40.75</td>\n",
       "      <td>35.31</td>\n",
       "      <td>0</td>\n",
       "    </tr>\n",
       "    <tr>\n",
       "      <th>4</th>\n",
       "      <td>2021-02-18</td>\n",
       "      <td>DOOMBEN</td>\n",
       "      <td>1</td>\n",
       "      <td>1.179418181</td>\n",
       "      <td>38523317</td>\n",
       "      <td>55.00</td>\n",
       "      <td>NaN</td>\n",
       "      <td>NaN</td>\n",
       "      <td>0.012905</td>\n",
       "      <td>0.018182</td>\n",
       "      <td>77.49</td>\n",
       "      <td>55.00</td>\n",
       "      <td>0</td>\n",
       "    </tr>\n",
       "    <tr>\n",
       "      <th>...</th>\n",
       "      <td>...</td>\n",
       "      <td>...</td>\n",
       "      <td>...</td>\n",
       "      <td>...</td>\n",
       "      <td>...</td>\n",
       "      <td>...</td>\n",
       "      <td>...</td>\n",
       "      <td>...</td>\n",
       "      <td>...</td>\n",
       "      <td>...</td>\n",
       "      <td>...</td>\n",
       "      <td>...</td>\n",
       "      <td>...</td>\n",
       "    </tr>\n",
       "    <tr>\n",
       "      <th>4449</th>\n",
       "      <td>2021-02-27</td>\n",
       "      <td>WANGARATTA</td>\n",
       "      <td>8</td>\n",
       "      <td>1.179776013</td>\n",
       "      <td>21317522</td>\n",
       "      <td>17.50</td>\n",
       "      <td>24.0</td>\n",
       "      <td>23.0</td>\n",
       "      <td>0.070028</td>\n",
       "      <td>0.057143</td>\n",
       "      <td>14.28</td>\n",
       "      <td>17.50</td>\n",
       "      <td>0</td>\n",
       "    </tr>\n",
       "    <tr>\n",
       "      <th>4450</th>\n",
       "      <td>2021-02-27</td>\n",
       "      <td>WANGARATTA</td>\n",
       "      <td>8</td>\n",
       "      <td>1.179776013</td>\n",
       "      <td>26188490</td>\n",
       "      <td>4.57</td>\n",
       "      <td>9.4</td>\n",
       "      <td>9.8</td>\n",
       "      <td>0.187617</td>\n",
       "      <td>0.218818</td>\n",
       "      <td>5.33</td>\n",
       "      <td>4.57</td>\n",
       "      <td>0</td>\n",
       "    </tr>\n",
       "    <tr>\n",
       "      <th>4451</th>\n",
       "      <td>2021-02-27</td>\n",
       "      <td>WANGARATTA</td>\n",
       "      <td>8</td>\n",
       "      <td>1.179776013</td>\n",
       "      <td>27132750</td>\n",
       "      <td>17.53</td>\n",
       "      <td>36.0</td>\n",
       "      <td>42.0</td>\n",
       "      <td>0.048520</td>\n",
       "      <td>0.057045</td>\n",
       "      <td>20.61</td>\n",
       "      <td>17.53</td>\n",
       "      <td>0</td>\n",
       "    </tr>\n",
       "    <tr>\n",
       "      <th>4452</th>\n",
       "      <td>2021-02-27</td>\n",
       "      <td>WANGARATTA</td>\n",
       "      <td>8</td>\n",
       "      <td>1.179776013</td>\n",
       "      <td>36121815</td>\n",
       "      <td>8.40</td>\n",
       "      <td>7.4</td>\n",
       "      <td>6.8</td>\n",
       "      <td>0.065617</td>\n",
       "      <td>0.119048</td>\n",
       "      <td>15.24</td>\n",
       "      <td>8.40</td>\n",
       "      <td>0</td>\n",
       "    </tr>\n",
       "    <tr>\n",
       "      <th>4453</th>\n",
       "      <td>2021-02-27</td>\n",
       "      <td>WANGARATTA</td>\n",
       "      <td>8</td>\n",
       "      <td>1.179776013</td>\n",
       "      <td>2688042</td>\n",
       "      <td>60.00</td>\n",
       "      <td>230.0</td>\n",
       "      <td>450.0</td>\n",
       "      <td>0.025961</td>\n",
       "      <td>0.016667</td>\n",
       "      <td>38.52</td>\n",
       "      <td>60.00</td>\n",
       "      <td>0</td>\n",
       "    </tr>\n",
       "  </tbody>\n",
       "</table>\n",
       "<p>4454 rows × 13 columns</p>\n",
       "</div>"
      ],
      "text/plain": [
       "           date       track  race_number    market_id selection_id    bsp  \\\n",
       "0    2021-02-18     DOOMBEN            1  1.179418181     38523320  42.00   \n",
       "1    2021-02-18     DOOMBEN            1  1.179418181     38523319  23.87   \n",
       "2    2021-02-18     DOOMBEN            1  1.179418181     35773035  12.50   \n",
       "3    2021-02-18     DOOMBEN            1  1.179418181     38523318  35.31   \n",
       "4    2021-02-18     DOOMBEN            1  1.179418181     38523317  55.00   \n",
       "...         ...         ...          ...          ...          ...    ...   \n",
       "4449 2021-02-27  WANGARATTA            8  1.179776013     21317522  17.50   \n",
       "4450 2021-02-27  WANGARATTA            8  1.179776013     26188490   4.57   \n",
       "4451 2021-02-27  WANGARATTA            8  1.179776013     27132750  17.53   \n",
       "4452 2021-02-27  WANGARATTA            8  1.179776013     36121815   8.40   \n",
       "4453 2021-02-27  WANGARATTA            8  1.179776013      2688042  60.00   \n",
       "\n",
       "      best_back_1m  best_back_5m  model_prob  market_prob  model_odds  \\\n",
       "0              NaN           NaN    0.029172     0.023810       34.28   \n",
       "1              NaN           NaN    0.047125     0.041894       21.22   \n",
       "2              NaN           NaN    0.097752     0.080000       10.23   \n",
       "3              NaN           NaN    0.024540     0.028321       40.75   \n",
       "4              NaN           NaN    0.012905     0.018182       77.49   \n",
       "...            ...           ...         ...          ...         ...   \n",
       "4449          24.0          23.0    0.070028     0.057143       14.28   \n",
       "4450           9.4           9.8    0.187617     0.218818        5.33   \n",
       "4451          36.0          42.0    0.048520     0.057045       20.61   \n",
       "4452           7.4           6.8    0.065617     0.119048       15.24   \n",
       "4453         230.0         450.0    0.025961     0.016667       38.52   \n",
       "\n",
       "      market_odds  win  \n",
       "0           42.00    0  \n",
       "1           23.87    0  \n",
       "2           12.50    0  \n",
       "3           35.31    0  \n",
       "4           55.00    0  \n",
       "...           ...  ...  \n",
       "4449        17.50    0  \n",
       "4450         4.57    0  \n",
       "4451        17.53    0  \n",
       "4452         8.40    0  \n",
       "4453        60.00    0  \n",
       "\n",
       "[4454 rows x 13 columns]"
      ]
     },
     "execution_count": 108,
     "metadata": {},
     "output_type": "execute_result"
    }
   ],
   "source": [
    "df = (\n",
    "    pd.merge(\n",
    "        hubRatings, \n",
    "        bfOdds[['market_name', 'market_id', 'selection_id', 'result', 'matched_volume', 'bsp', 'best_back_1m', 'best_back_5m']],\n",
    "        on = ['market_id', 'selection_id']\n",
    "    )\n",
    "    # Add a binary win / loss column\n",
    "    .assign(win=lambda x: np.where(x['result'] == \"WINNER\", 1, 0))\n",
    "    # Extra columns\n",
    "    .assign(model_prob=lambda x: 1 / x['model_odds'])\n",
    "    .assign(market_odds=lambda x: x['bsp'])\n",
    "    .assign(market_prob=lambda x: 1 / x['market_odds'])\n",
    "    # Reorder Columns\n",
    "    .reindex(columns = ['date', 'track', 'race_number', 'market_id', 'selection_id', 'bsp', 'best_back_1m', 'best_back_5m', 'model_prob', 'market_prob', 'model_odds', 'market_odds', 'win'])\n",
    "\n",
    ")\n",
    "\n",
    "#df.to_csv(\"analysis/backtest-feb.csv\")\n",
    "\n",
    "df"
   ]
  },
  {
   "cell_type": "markdown",
   "metadata": {},
   "source": [
    "### Staking + Outcome Functions\n",
    "\n",
    "Now we can create a set of standard staking functions that a dataframe with an expected set of columns and add staking and bet outcome data.\n",
    "\n",
    "We'll also add the ability of these functions to reference a different odds column so that we can backtest against our second price points.\n"
   ]
  },
  {
   "cell_type": "code",
   "execution_count": 109,
   "metadata": {},
   "outputs": [],
   "source": [
    "def bet_flat(df, stake = 1, odds_col = 'market_odds'):\n",
    "    \n",
    "    \"\"\"\n",
    "    Betting DF should always contain: model_odds, and win (binary encoded), and the specified odds column (market_odds)\n",
    "    \"\"\"\n",
    "    \n",
    "    df['bet_side'] = np.where(df[\"model_odds\"] == df[odds_col],\n",
    "                        \"P\",\n",
    "                        np.where(\n",
    "                            df[\"model_odds\"] < df[odds_col],\n",
    "                            \"B\",\n",
    "                            \"L\"\n",
    "                        )\n",
    "                       )\n",
    "    \n",
    "    df['stake'] = np.where(df['bet_side'] == \"P\", 0, stake)\n",
    "    \n",
    "    df['gpl'] = np.where(df['bet_side'] == \"B\", \n",
    "                         np.where(df['win'] == 1, df['stake'] * (df[odds_col]-1), -df['stake']), # PL for back bets\n",
    "                         np.where(df['win'] == 1, -df['stake'] * (df[odds_col]-1), df['stake']) # PL for lay bets\n",
    "                        )\n",
    "    \n",
    "    return(df)\n",
    "\n",
    "def bet_kelly(df, stake = 1, odds_col = 'market_odds'):\n",
    "    \n",
    "    \"\"\"\n",
    "    Betting DF should always contain: model_odds, and win (binary encoded), and the specified odds column (market_odds)\n",
    "    \"\"\"\n",
    "    \n",
    "    df['bet_side'] = np.where(df[\"model_odds\"] == df[odds_col],\n",
    "                            \"P\",\n",
    "                            np.where(\n",
    "                                df[\"model_odds\"] < df[odds_col],\n",
    "                                \"B\",\n",
    "                                \"L\"\n",
    "                            )\n",
    "                       )\n",
    "    \n",
    "    df['stake'] = np.where(df['bet_side'] == \"P\",\n",
    "                           0,\n",
    "                           np.where(\n",
    "                             df['bet_side'] == \"B\",\n",
    "                             ( (1 / df['model_odds']) - (1 / df[odds_col]) ) / (1 - (1 / df[odds_col])),\n",
    "                             ( (1 / df[odds_col]) - (1 / df['model_odds']) ) / (1 - (1 / df[odds_col])),\n",
    "                           )\n",
    "                          )\n",
    "    \n",
    "    df['gpl'] = np.where(df['bet_side'] == \"B\", \n",
    "                         np.where(df['win'] == 1, df['stake'] * (df[odds_col]-1), -df['stake']), # PL for back bets\n",
    "                         np.where(df['win'] == 1, -df['stake'] * (df[odds_col]-1), df['stake']) # PL for lay bets\n",
    "                        )\n",
    "    \n",
    "    return(df)"
   ]
  },
  {
   "cell_type": "code",
   "execution_count": 110,
   "metadata": {},
   "outputs": [
    {
     "data": {
      "text/html": [
       "<div>\n",
       "<style scoped>\n",
       "    .dataframe tbody tr th:only-of-type {\n",
       "        vertical-align: middle;\n",
       "    }\n",
       "\n",
       "    .dataframe tbody tr th {\n",
       "        vertical-align: top;\n",
       "    }\n",
       "\n",
       "    .dataframe thead th {\n",
       "        text-align: right;\n",
       "    }\n",
       "</style>\n",
       "<table border=\"1\" class=\"dataframe\">\n",
       "  <thead>\n",
       "    <tr style=\"text-align: right;\">\n",
       "      <th></th>\n",
       "      <th>date</th>\n",
       "      <th>track</th>\n",
       "      <th>race_number</th>\n",
       "      <th>market_id</th>\n",
       "      <th>selection_id</th>\n",
       "      <th>bsp</th>\n",
       "      <th>best_back_1m</th>\n",
       "      <th>best_back_5m</th>\n",
       "      <th>model_prob</th>\n",
       "      <th>market_prob</th>\n",
       "      <th>model_odds</th>\n",
       "      <th>market_odds</th>\n",
       "      <th>win</th>\n",
       "      <th>bet_side</th>\n",
       "      <th>stake</th>\n",
       "      <th>gpl</th>\n",
       "    </tr>\n",
       "  </thead>\n",
       "  <tbody>\n",
       "    <tr>\n",
       "      <th>0</th>\n",
       "      <td>2021-02-18</td>\n",
       "      <td>DOOMBEN</td>\n",
       "      <td>1</td>\n",
       "      <td>1.179418181</td>\n",
       "      <td>38523320</td>\n",
       "      <td>42.00</td>\n",
       "      <td>NaN</td>\n",
       "      <td>NaN</td>\n",
       "      <td>0.029172</td>\n",
       "      <td>0.023810</td>\n",
       "      <td>34.28</td>\n",
       "      <td>42.00</td>\n",
       "      <td>0</td>\n",
       "      <td>B</td>\n",
       "      <td>1</td>\n",
       "      <td>-1.0</td>\n",
       "    </tr>\n",
       "    <tr>\n",
       "      <th>1</th>\n",
       "      <td>2021-02-18</td>\n",
       "      <td>DOOMBEN</td>\n",
       "      <td>1</td>\n",
       "      <td>1.179418181</td>\n",
       "      <td>38523319</td>\n",
       "      <td>23.87</td>\n",
       "      <td>NaN</td>\n",
       "      <td>NaN</td>\n",
       "      <td>0.047125</td>\n",
       "      <td>0.041894</td>\n",
       "      <td>21.22</td>\n",
       "      <td>23.87</td>\n",
       "      <td>0</td>\n",
       "      <td>B</td>\n",
       "      <td>1</td>\n",
       "      <td>-1.0</td>\n",
       "    </tr>\n",
       "    <tr>\n",
       "      <th>2</th>\n",
       "      <td>2021-02-18</td>\n",
       "      <td>DOOMBEN</td>\n",
       "      <td>1</td>\n",
       "      <td>1.179418181</td>\n",
       "      <td>35773035</td>\n",
       "      <td>12.50</td>\n",
       "      <td>NaN</td>\n",
       "      <td>NaN</td>\n",
       "      <td>0.097752</td>\n",
       "      <td>0.080000</td>\n",
       "      <td>10.23</td>\n",
       "      <td>12.50</td>\n",
       "      <td>0</td>\n",
       "      <td>B</td>\n",
       "      <td>1</td>\n",
       "      <td>-1.0</td>\n",
       "    </tr>\n",
       "    <tr>\n",
       "      <th>3</th>\n",
       "      <td>2021-02-18</td>\n",
       "      <td>DOOMBEN</td>\n",
       "      <td>1</td>\n",
       "      <td>1.179418181</td>\n",
       "      <td>38523318</td>\n",
       "      <td>35.31</td>\n",
       "      <td>NaN</td>\n",
       "      <td>NaN</td>\n",
       "      <td>0.024540</td>\n",
       "      <td>0.028321</td>\n",
       "      <td>40.75</td>\n",
       "      <td>35.31</td>\n",
       "      <td>0</td>\n",
       "      <td>L</td>\n",
       "      <td>1</td>\n",
       "      <td>1.0</td>\n",
       "    </tr>\n",
       "    <tr>\n",
       "      <th>4</th>\n",
       "      <td>2021-02-18</td>\n",
       "      <td>DOOMBEN</td>\n",
       "      <td>1</td>\n",
       "      <td>1.179418181</td>\n",
       "      <td>38523317</td>\n",
       "      <td>55.00</td>\n",
       "      <td>NaN</td>\n",
       "      <td>NaN</td>\n",
       "      <td>0.012905</td>\n",
       "      <td>0.018182</td>\n",
       "      <td>77.49</td>\n",
       "      <td>55.00</td>\n",
       "      <td>0</td>\n",
       "      <td>L</td>\n",
       "      <td>1</td>\n",
       "      <td>1.0</td>\n",
       "    </tr>\n",
       "    <tr>\n",
       "      <th>...</th>\n",
       "      <td>...</td>\n",
       "      <td>...</td>\n",
       "      <td>...</td>\n",
       "      <td>...</td>\n",
       "      <td>...</td>\n",
       "      <td>...</td>\n",
       "      <td>...</td>\n",
       "      <td>...</td>\n",
       "      <td>...</td>\n",
       "      <td>...</td>\n",
       "      <td>...</td>\n",
       "      <td>...</td>\n",
       "      <td>...</td>\n",
       "      <td>...</td>\n",
       "      <td>...</td>\n",
       "      <td>...</td>\n",
       "    </tr>\n",
       "    <tr>\n",
       "      <th>4449</th>\n",
       "      <td>2021-02-27</td>\n",
       "      <td>WANGARATTA</td>\n",
       "      <td>8</td>\n",
       "      <td>1.179776013</td>\n",
       "      <td>21317522</td>\n",
       "      <td>17.50</td>\n",
       "      <td>24.0</td>\n",
       "      <td>23.0</td>\n",
       "      <td>0.070028</td>\n",
       "      <td>0.057143</td>\n",
       "      <td>14.28</td>\n",
       "      <td>17.50</td>\n",
       "      <td>0</td>\n",
       "      <td>B</td>\n",
       "      <td>1</td>\n",
       "      <td>-1.0</td>\n",
       "    </tr>\n",
       "    <tr>\n",
       "      <th>4450</th>\n",
       "      <td>2021-02-27</td>\n",
       "      <td>WANGARATTA</td>\n",
       "      <td>8</td>\n",
       "      <td>1.179776013</td>\n",
       "      <td>26188490</td>\n",
       "      <td>4.57</td>\n",
       "      <td>9.4</td>\n",
       "      <td>9.8</td>\n",
       "      <td>0.187617</td>\n",
       "      <td>0.218818</td>\n",
       "      <td>5.33</td>\n",
       "      <td>4.57</td>\n",
       "      <td>0</td>\n",
       "      <td>L</td>\n",
       "      <td>1</td>\n",
       "      <td>1.0</td>\n",
       "    </tr>\n",
       "    <tr>\n",
       "      <th>4451</th>\n",
       "      <td>2021-02-27</td>\n",
       "      <td>WANGARATTA</td>\n",
       "      <td>8</td>\n",
       "      <td>1.179776013</td>\n",
       "      <td>27132750</td>\n",
       "      <td>17.53</td>\n",
       "      <td>36.0</td>\n",
       "      <td>42.0</td>\n",
       "      <td>0.048520</td>\n",
       "      <td>0.057045</td>\n",
       "      <td>20.61</td>\n",
       "      <td>17.53</td>\n",
       "      <td>0</td>\n",
       "      <td>L</td>\n",
       "      <td>1</td>\n",
       "      <td>1.0</td>\n",
       "    </tr>\n",
       "    <tr>\n",
       "      <th>4452</th>\n",
       "      <td>2021-02-27</td>\n",
       "      <td>WANGARATTA</td>\n",
       "      <td>8</td>\n",
       "      <td>1.179776013</td>\n",
       "      <td>36121815</td>\n",
       "      <td>8.40</td>\n",
       "      <td>7.4</td>\n",
       "      <td>6.8</td>\n",
       "      <td>0.065617</td>\n",
       "      <td>0.119048</td>\n",
       "      <td>15.24</td>\n",
       "      <td>8.40</td>\n",
       "      <td>0</td>\n",
       "      <td>L</td>\n",
       "      <td>1</td>\n",
       "      <td>1.0</td>\n",
       "    </tr>\n",
       "    <tr>\n",
       "      <th>4453</th>\n",
       "      <td>2021-02-27</td>\n",
       "      <td>WANGARATTA</td>\n",
       "      <td>8</td>\n",
       "      <td>1.179776013</td>\n",
       "      <td>2688042</td>\n",
       "      <td>60.00</td>\n",
       "      <td>230.0</td>\n",
       "      <td>450.0</td>\n",
       "      <td>0.025961</td>\n",
       "      <td>0.016667</td>\n",
       "      <td>38.52</td>\n",
       "      <td>60.00</td>\n",
       "      <td>0</td>\n",
       "      <td>B</td>\n",
       "      <td>1</td>\n",
       "      <td>-1.0</td>\n",
       "    </tr>\n",
       "  </tbody>\n",
       "</table>\n",
       "<p>4454 rows × 16 columns</p>\n",
       "</div>"
      ],
      "text/plain": [
       "           date       track  race_number    market_id selection_id    bsp  \\\n",
       "0    2021-02-18     DOOMBEN            1  1.179418181     38523320  42.00   \n",
       "1    2021-02-18     DOOMBEN            1  1.179418181     38523319  23.87   \n",
       "2    2021-02-18     DOOMBEN            1  1.179418181     35773035  12.50   \n",
       "3    2021-02-18     DOOMBEN            1  1.179418181     38523318  35.31   \n",
       "4    2021-02-18     DOOMBEN            1  1.179418181     38523317  55.00   \n",
       "...         ...         ...          ...          ...          ...    ...   \n",
       "4449 2021-02-27  WANGARATTA            8  1.179776013     21317522  17.50   \n",
       "4450 2021-02-27  WANGARATTA            8  1.179776013     26188490   4.57   \n",
       "4451 2021-02-27  WANGARATTA            8  1.179776013     27132750  17.53   \n",
       "4452 2021-02-27  WANGARATTA            8  1.179776013     36121815   8.40   \n",
       "4453 2021-02-27  WANGARATTA            8  1.179776013      2688042  60.00   \n",
       "\n",
       "      best_back_1m  best_back_5m  model_prob  market_prob  model_odds  \\\n",
       "0              NaN           NaN    0.029172     0.023810       34.28   \n",
       "1              NaN           NaN    0.047125     0.041894       21.22   \n",
       "2              NaN           NaN    0.097752     0.080000       10.23   \n",
       "3              NaN           NaN    0.024540     0.028321       40.75   \n",
       "4              NaN           NaN    0.012905     0.018182       77.49   \n",
       "...            ...           ...         ...          ...         ...   \n",
       "4449          24.0          23.0    0.070028     0.057143       14.28   \n",
       "4450           9.4           9.8    0.187617     0.218818        5.33   \n",
       "4451          36.0          42.0    0.048520     0.057045       20.61   \n",
       "4452           7.4           6.8    0.065617     0.119048       15.24   \n",
       "4453         230.0         450.0    0.025961     0.016667       38.52   \n",
       "\n",
       "      market_odds  win bet_side  stake  gpl  \n",
       "0           42.00    0        B      1 -1.0  \n",
       "1           23.87    0        B      1 -1.0  \n",
       "2           12.50    0        B      1 -1.0  \n",
       "3           35.31    0        L      1  1.0  \n",
       "4           55.00    0        L      1  1.0  \n",
       "...           ...  ...      ...    ...  ...  \n",
       "4449        17.50    0        B      1 -1.0  \n",
       "4450         4.57    0        L      1  1.0  \n",
       "4451        17.53    0        L      1  1.0  \n",
       "4452         8.40    0        L      1  1.0  \n",
       "4453        60.00    0        B      1 -1.0  \n",
       "\n",
       "[4454 rows x 16 columns]"
      ]
     },
     "execution_count": 110,
     "metadata": {},
     "output_type": "execute_result"
    }
   ],
   "source": [
    "# Testing A Staking Function\n",
    "flat_bets_bsp = bet_flat(df, stake = 1, odds_col = 'bsp')\n",
    "flat_bets_bsp"
   ]
  },
  {
   "cell_type": "markdown",
   "metadata": {},
   "source": [
    "### Evalutaion Functions\n",
    "\n",
    "This is where you're backtesting gets interesting. How well would have I done?\n",
    "\n",
    "In my experience it's great to develop a suite of functions and analytical tools that really dig into every aspect of your simulated betting performance. You want to be as thorough and critical as possible. \n",
    "\n",
    "> If you're top level numbers are good?\n",
    "\n",
    "Dig into every aspect of this performance. Be as critical of the result as you would someone elses ratings. Things you might want to analyse\n",
    "\n",
    "* Consistency\n",
    "* Concentration (do a few markets account for most of the profit)\n",
    "* Performance Across Odds Ranges\n",
    "* Performance deterioration across the period (are recent months / seasons weaker? because they're more indicative of your expected profit)\n",
    "\n",
    "> If you're top level numbers aren't good?\n",
    "\n",
    "\n"
   ]
  },
  {
   "cell_type": "code",
   "execution_count": 111,
   "metadata": {},
   "outputs": [],
   "source": [
    "def bet_eval_metrics(d, side = False):\n",
    "    \n",
    "    if side:\n",
    "        metrics = (d\n",
    "         .groupby('bet_side', as_index=False)\n",
    "         .agg({\"gpl\": \"sum\", \"stake\": \"sum\"})\n",
    "         .assign(pot=lambda x: x['gpl'] / x['stake'])\n",
    "        )\n",
    "    else:\n",
    "        metrics = pd.DataFrame(d\n",
    "         .agg({\"gpl\": \"sum\", \"stake\": \"sum\"})\n",
    "        ).transpose().assign(pot=lambda x: x['gpl'] / x['stake'])\n",
    "    \n",
    "    return(metrics[metrics['stake'] != 0])\n",
    "\n",
    "def bet_eval_chart_cPl(d):\n",
    "    \n",
    "    d = (\n",
    "        d\n",
    "        .groupby('market_id')\n",
    "        .agg({'gpl': 'sum'})\n",
    "    )\n",
    "    \n",
    "    d['market_number'] = np.arange(len(d))\n",
    "    d['cGpl'] = d.gpl.cumsum()\n",
    "    \n",
    "    chart = px.line(d, x=\"market_number\", y=\"cGpl\", title='Cumulative Gross Profit', template='simple_white')\n",
    "\n",
    "    return(chart)"
   ]
  },
  {
   "cell_type": "markdown",
   "metadata": {},
   "source": [
    "## BSP Placement\n",
    "\n",
    "First let's evaluate flat staking at the BSP "
   ]
  },
  {
   "cell_type": "code",
   "execution_count": 112,
   "metadata": {},
   "outputs": [
    {
     "data": {
      "text/html": [
       "<div>\n",
       "<style scoped>\n",
       "    .dataframe tbody tr th:only-of-type {\n",
       "        vertical-align: middle;\n",
       "    }\n",
       "\n",
       "    .dataframe tbody tr th {\n",
       "        vertical-align: top;\n",
       "    }\n",
       "\n",
       "    .dataframe thead th {\n",
       "        text-align: right;\n",
       "    }\n",
       "</style>\n",
       "<table border=\"1\" class=\"dataframe\">\n",
       "  <thead>\n",
       "    <tr style=\"text-align: right;\">\n",
       "      <th></th>\n",
       "      <th>bet_side</th>\n",
       "      <th>gpl</th>\n",
       "      <th>stake</th>\n",
       "      <th>pot</th>\n",
       "    </tr>\n",
       "  </thead>\n",
       "  <tbody>\n",
       "    <tr>\n",
       "      <th>0</th>\n",
       "      <td>B</td>\n",
       "      <td>-350.08</td>\n",
       "      <td>2311</td>\n",
       "      <td>-0.151484</td>\n",
       "    </tr>\n",
       "    <tr>\n",
       "      <th>1</th>\n",
       "      <td>L</td>\n",
       "      <td>-287.26</td>\n",
       "      <td>2141</td>\n",
       "      <td>-0.134171</td>\n",
       "    </tr>\n",
       "  </tbody>\n",
       "</table>\n",
       "</div>"
      ],
      "text/plain": [
       "  bet_side     gpl  stake       pot\n",
       "0        B -350.08   2311 -0.151484\n",
       "1        L -287.26   2141 -0.134171"
      ]
     },
     "execution_count": 112,
     "metadata": {},
     "output_type": "execute_result"
    }
   ],
   "source": [
    "bet_eval_metrics(flat_bets_bsp, side = True)"
   ]
  },
  {
   "cell_type": "code",
   "execution_count": 113,
   "metadata": {},
   "outputs": [
    {
     "data": {
      "application/vnd.plotly.v1+json": {
       "config": {
        "plotlyServerURL": "https://plot.ly"
       },
       "data": [
        {
         "hovertemplate": "market_number=%{x}<br>cGpl=%{y}<extra></extra>",
         "legendgroup": "",
         "line": {
          "color": "#1F77B4",
          "dash": "solid"
         },
         "mode": "lines",
         "name": "",
         "orientation": "v",
         "showlegend": false,
         "type": "scatter",
         "x": [
          0,
          1,
          2,
          3,
          4,
          5,
          6,
          7,
          8,
          9,
          10,
          11,
          12,
          13,
          14,
          15,
          16,
          17,
          18,
          19,
          20,
          21,
          22,
          23,
          24,
          25,
          26,
          27,
          28,
          29,
          30,
          31,
          32,
          33,
          34,
          35,
          36,
          37,
          38,
          39,
          40,
          41,
          42,
          43,
          44,
          45,
          46,
          47,
          48,
          49,
          50,
          51,
          52,
          53,
          54,
          55,
          56,
          57,
          58,
          59,
          60,
          61,
          62,
          63,
          64,
          65,
          66,
          67,
          68,
          69,
          70,
          71,
          72,
          73,
          74,
          75,
          76,
          77,
          78,
          79,
          80,
          81,
          82,
          83,
          84,
          85,
          86,
          87,
          88,
          89,
          90,
          91,
          92,
          93,
          94,
          95,
          96,
          97,
          98,
          99,
          100,
          101,
          102,
          103,
          104,
          105,
          106,
          107,
          108,
          109,
          110,
          111,
          112,
          113,
          114,
          115,
          116,
          117,
          118,
          119,
          120,
          121,
          122,
          123,
          124,
          125,
          126,
          127,
          128,
          129,
          130,
          131,
          132,
          133,
          134,
          135,
          136,
          137,
          138,
          139,
          140,
          141,
          142,
          143,
          144,
          145,
          146,
          147,
          148,
          149,
          150,
          151,
          152,
          153,
          154,
          155,
          156,
          157,
          158,
          159,
          160,
          161,
          162,
          163,
          164,
          165,
          166,
          167,
          168,
          169,
          170,
          171,
          172,
          173,
          174,
          175,
          176,
          177,
          178,
          179,
          180,
          181,
          182,
          183,
          184,
          185,
          186,
          187,
          188,
          189,
          190,
          191,
          192,
          193,
          194,
          195,
          196,
          197,
          198,
          199,
          200,
          201,
          202,
          203,
          204,
          205,
          206,
          207,
          208,
          209,
          210,
          211,
          212,
          213,
          214,
          215,
          216,
          217,
          218,
          219,
          220,
          221,
          222,
          223,
          224,
          225,
          226,
          227,
          228,
          229,
          230,
          231,
          232,
          233,
          234,
          235,
          236,
          237,
          238,
          239,
          240,
          241,
          242,
          243,
          244,
          245,
          246,
          247,
          248,
          249,
          250,
          251,
          252,
          253,
          254,
          255,
          256,
          257,
          258,
          259,
          260,
          261,
          262,
          263,
          264,
          265,
          266,
          267,
          268,
          269,
          270,
          271,
          272,
          273,
          274,
          275,
          276,
          277,
          278,
          279,
          280,
          281,
          282,
          283,
          284,
          285,
          286,
          287,
          288,
          289,
          290,
          291,
          292,
          293,
          294,
          295,
          296,
          297,
          298,
          299,
          300,
          301,
          302,
          303,
          304,
          305,
          306,
          307,
          308,
          309,
          310,
          311,
          312,
          313,
          314,
          315,
          316,
          317,
          318,
          319,
          320,
          321,
          322,
          323,
          324,
          325,
          326,
          327,
          328,
          329,
          330,
          331,
          332,
          333,
          334,
          335,
          336,
          337,
          338,
          339,
          340,
          341,
          342,
          343,
          344,
          345,
          346,
          347,
          348,
          349,
          350,
          351,
          352,
          353,
          354,
          355,
          356,
          357,
          358,
          359,
          360,
          361,
          362,
          363,
          364,
          365,
          366,
          367,
          368,
          369,
          370,
          371,
          372,
          373,
          374,
          375,
          376,
          377,
          378,
          379,
          380,
          381,
          382,
          383,
          384,
          385,
          386,
          387,
          388,
          389,
          390,
          391,
          392,
          393,
          394,
          395,
          396,
          397,
          398,
          399,
          400,
          401,
          402,
          403,
          404,
          405,
          406,
          407,
          408,
          409,
          410,
          411,
          412,
          413,
          414,
          415,
          416,
          417,
          418,
          419,
          420,
          421,
          422,
          423,
          424,
          425,
          426,
          427,
          428,
          429,
          430,
          431,
          432,
          433,
          434,
          435,
          436,
          437,
          438,
          439,
          440,
          441,
          442,
          443,
          444,
          445,
          446,
          447,
          448,
          449,
          450,
          451,
          452,
          453,
          454,
          455,
          456,
          457,
          458,
          459,
          460,
          461,
          462,
          463,
          464,
          465,
          466,
          467
         ],
         "xaxis": "x",
         "y": [
          -19.619999999999997,
          -10.619999999999997,
          -26.29,
          -28.91,
          -30.060000000000002,
          -32.260000000000005,
          -36.32000000000001,
          -39.620000000000005,
          -39.27,
          -44.900000000000006,
          -49.36000000000001,
          -48.760000000000005,
          -46.7,
          -27.14,
          -25.580000000000002,
          -31.160000000000004,
          -31.000000000000004,
          -34.74,
          -32.34,
          -33.730000000000004,
          -23.230000000000004,
          -23.630000000000003,
          -12.120000000000003,
          5.859999999999998,
          11.279999999999998,
          2.7799999999999976,
          5.179999999999998,
          0.3399999999999981,
          -13.660000000000002,
          -16.410000000000004,
          -19.200000000000003,
          -3.7900000000000027,
          -4.890000000000002,
          -14.890000000000002,
          -10.040000000000003,
          -15.550000000000002,
          -27.020000000000003,
          -37.42,
          -49.260000000000005,
          -60.95,
          -66.55,
          -67.48,
          -63.02,
          -67.77000000000001,
          -51.32000000000001,
          -55.16000000000001,
          -48.26000000000001,
          -53.360000000000014,
          -62.140000000000015,
          -69.30000000000001,
          -75.94000000000001,
          -72.74000000000001,
          -80.14000000000001,
          -82.07000000000002,
          -60.03000000000002,
          -66.23000000000002,
          -77.86000000000001,
          -70.35000000000001,
          -68.95,
          -70.54,
          -51.34,
          -53.89,
          -61.6,
          -65.53,
          -65.67,
          -70.1,
          -60.099999999999994,
          -58.769999999999996,
          -57.13999999999999,
          -57.43999999999999,
          -62.65999999999999,
          -63.26999999999999,
          -70.86999999999999,
          -79.17999999999999,
          -81.52,
          -78.3,
          -83.1,
          -93.06,
          -99.08,
          -103.9,
          -107.62,
          -112.44,
          -111.97,
          -117.19,
          -114.14,
          -156.14,
          -163.98999999999998,
          -159.08999999999997,
          -159.07999999999998,
          -164.95999999999998,
          -146.98,
          -135.10999999999999,
          -144.36999999999998,
          -150.96999999999997,
          -158.66999999999996,
          -169.65999999999997,
          -143.77999999999997,
          -147.47999999999996,
          -203.47999999999996,
          -212.27999999999997,
          -215.62999999999997,
          -237.64999999999998,
          -244.79999999999998,
          -257.9,
          -263.32,
          -264.58,
          -270.55,
          -266.14,
          -378.5,
          -360.5,
          -362.2,
          -367.71999999999997,
          -375.61999999999995,
          -378.21999999999997,
          -385.28,
          -366.34,
          -349.34,
          -362.58,
          -349.95,
          -351.57,
          -332.12,
          -334.22,
          -341.1,
          -347.39000000000004,
          -358.13000000000005,
          -356.68000000000006,
          -359.9000000000001,
          -347.7000000000001,
          -345.1100000000001,
          -349.6100000000001,
          -348.5100000000001,
          -343.4400000000001,
          -329.9300000000001,
          -331.5600000000001,
          -343.85000000000014,
          -347.90000000000015,
          -349.90000000000015,
          -355.78000000000014,
          -366.01000000000016,
          -368.9300000000002,
          -359.64000000000016,
          -379.82000000000016,
          -383.44000000000017,
          -382.90000000000015,
          -210.90000000000015,
          -189.90000000000015,
          -188.95000000000016,
          -183.55000000000015,
          -189.55000000000015,
          -187.74000000000015,
          -186.09000000000015,
          -188.05000000000015,
          -187.24000000000015,
          -175.24000000000015,
          -197.31000000000014,
          -179.26000000000013,
          -180.18000000000012,
          -186.3800000000001,
          -175.9700000000001,
          -186.4100000000001,
          -188.3200000000001,
          -171.06000000000012,
          -177.96000000000012,
          -183.77000000000012,
          -197.04000000000013,
          -197.54000000000013,
          -206.92000000000013,
          -205.32000000000014,
          -184.32000000000014,
          -189.15000000000015,
          -194.06000000000014,
          -196.70000000000013,
          -204.20000000000013,
          -208.59000000000015,
          -206.89000000000016,
          -210.90000000000015,
          -211.99000000000015,
          -205.70000000000016,
          -215.69000000000017,
          -205.19000000000017,
          -180.51000000000016,
          -187.18000000000015,
          -191.41000000000014,
          -196.71000000000015,
          -198.42000000000016,
          -198.49000000000015,
          -203.57000000000016,
          -211.01000000000016,
          -218.91000000000017,
          -224.95000000000016,
          -215.55000000000015,
          -222.95000000000016,
          -227.52000000000015,
          -224.52000000000015,
          -214.32000000000016,
          -185.42000000000016,
          -189.92000000000016,
          -205.71000000000015,
          -212.66000000000014,
          -217.79000000000013,
          -223.53000000000014,
          -233.32000000000014,
          -243.64000000000013,
          -242.84000000000012,
          -245.84000000000012,
          -234.67000000000013,
          -211.67000000000013,
          -235.66000000000014,
          -242.17000000000013,
          -237.48000000000013,
          -236.98000000000013,
          -241.81000000000014,
          -234.28000000000014,
          -256.28000000000014,
          -262.03000000000014,
          -270.14000000000016,
          -271.92000000000013,
          -273.04000000000013,
          -281.84000000000015,
          -292.10000000000014,
          -298.4400000000001,
          -295.3900000000001,
          -300.0600000000001,
          -306.9600000000001,
          -298.7700000000001,
          -312.2700000000001,
          -313.2400000000001,
          -323.8700000000001,
          -331.2500000000001,
          -330.98000000000013,
          -362.98000000000013,
          -366.7600000000001,
          -360.7600000000001,
          -366.9600000000001,
          -374.3800000000001,
          -364.5100000000001,
          -347.5100000000001,
          -344.42000000000013,
          -343.1100000000001,
          -315.1100000000001,
          -300.6100000000001,
          -308.6100000000001,
          -323.27000000000015,
          -328.51000000000016,
          -333.13000000000017,
          -323.63000000000017,
          -332.9200000000002,
          -340.1000000000002,
          -346.9000000000002,
          -350.8900000000002,
          -298.9600000000002,
          -267.4800000000002,
          -281.2800000000002,
          -289.8300000000002,
          -272.8300000000002,
          -280.8300000000002,
          -282.24000000000024,
          -282.9400000000002,
          -276.43000000000023,
          -278.04000000000025,
          -276.86000000000024,
          -279.34000000000026,
          -285.39000000000027,
          -282.6900000000003,
          -283.4400000000003,
          -284.3800000000003,
          -294.8800000000003,
          -282.4800000000003,
          -285.0700000000003,
          -155.30000000000027,
          -143.55000000000027,
          -145.75000000000026,
          -155.49000000000026,
          -151.28000000000026,
          -160.28000000000026,
          -170.09000000000026,
          -176.91000000000025,
          -177.67000000000024,
          -176.22000000000025,
          -181.61000000000024,
          -182.25000000000023,
          -194.61000000000024,
          -195.61000000000024,
          -187.01000000000025,
          -194.67000000000024,
          -188.66000000000025,
          -188.36000000000024,
          -193.25000000000023,
          -183.02000000000024,
          -206.02000000000024,
          -204.72000000000023,
          -207.25000000000023,
          -203.97000000000023,
          -181.63000000000022,
          -185.3300000000002,
          -185.8300000000002,
          -188.8100000000002,
          -198.8100000000002,
          -211.70000000000022,
          -210.50000000000023,
          -219.81000000000023,
          -229.81000000000023,
          -237.51000000000022,
          -245.70000000000022,
          -255.5500000000002,
          -264.0900000000002,
          -266.8800000000002,
          -272.98000000000025,
          -278.62000000000023,
          -286.06000000000023,
          -284.8900000000002,
          -296.0900000000002,
          -293.2200000000002,
          -296.5100000000002,
          -278.4100000000002,
          -283.5500000000002,
          -289.7400000000002,
          -287.9800000000002,
          -217.9800000000002,
          -223.1700000000002,
          -229.37000000000018,
          -235.24000000000018,
          -316.1100000000002,
          -319.7900000000002,
          -325.2900000000002,
          -328.3000000000002,
          -335.9200000000002,
          -329.8000000000002,
          -335.6200000000002,
          -342.69000000000017,
          -343.76000000000016,
          -338.50000000000017,
          -346.6000000000002,
          -348.6000000000002,
          -340.8300000000002,
          -340.6300000000002,
          -340.8300000000002,
          -375.8300000000002,
          -379.93000000000023,
          -382.3900000000002,
          -391.0900000000002,
          -394.9500000000002,
          -396.55000000000024,
          -402.03000000000026,
          -408.04000000000025,
          -419.04000000000025,
          -420.54000000000025,
          -417.08000000000027,
          -423.16000000000025,
          -414.86000000000024,
          -417.58000000000027,
          -420.98000000000025,
          -424.22000000000025,
          -415.17000000000024,
          -372.66000000000025,
          -378.15000000000026,
          -373.5600000000003,
          -373.7400000000003,
          -370.3600000000003,
          -377.5400000000003,
          -381.5300000000003,
          -433.7400000000003,
          -442.5400000000003,
          -445.95000000000033,
          -463.3500000000003,
          -446.7400000000003,
          -434.7400000000003,
          -452.7400000000003,
          -444.14000000000027,
          -431.14000000000027,
          -417.14000000000027,
          -463.14000000000027,
          -471.65000000000026,
          -466.65000000000026,
          -488.15000000000026,
          -487.79000000000025,
          -485.64000000000027,
          -478.91000000000025,
          -481.6300000000003,
          -482.53000000000026,
          -478.02000000000027,
          -449.9500000000003,
          -518.6400000000003,
          -524.4300000000003,
          -530.3400000000003,
          -531.5000000000002,
          -531.2900000000002,
          -535.3900000000002,
          -537.3800000000002,
          -542.6300000000002,
          -516.6300000000002,
          -527.6300000000002,
          -520.6200000000002,
          -525.9600000000003,
          -528.0200000000002,
          -524.7800000000002,
          -518.6500000000002,
          -526.3700000000002,
          -518.0700000000003,
          -518.9300000000003,
          -590.7500000000002,
          -575.1100000000002,
          -582.5400000000002,
          -555.5100000000002,
          -575.5100000000002,
          -579.3400000000003,
          -585.5400000000003,
          -576.0100000000003,
          -573.6100000000004,
          -578.7200000000004,
          -551.7200000000004,
          -556.4000000000003,
          -563.1500000000003,
          -569.3300000000003,
          -572.3300000000003,
          -592.7200000000003,
          -595.6900000000003,
          -591.5800000000003,
          -568.5800000000003,
          -557.9600000000003,
          -550.7300000000002,
          -557.4100000000002,
          -566.3300000000002,
          -569.7300000000001,
          -574.7600000000001,
          -585.1600000000001,
          -598.0400000000001,
          -591.69,
          -592.49,
          -588.29,
          -591.79,
          -600.26,
          -603.17,
          -603.37,
          -579.37,
          -581.01,
          -582.81,
          -586.81,
          -591.65,
          -584.55,
          -578.67,
          -578.31,
          -572.81,
          -579.0799999999999,
          -584.8799999999999,
          -587.9399999999998,
          -594.2199999999998,
          -569.2199999999998,
          -566.3399999999998,
          -566.3399999999998,
          -557.5199999999998,
          -570.5199999999998,
          -572.3199999999997,
          -563.9199999999997,
          -568.0199999999998,
          -595.0199999999998,
          -598.6799999999997,
          -598.4499999999997,
          -597.6499999999997,
          -600.6999999999997,
          -602.2399999999997,
          -593.7199999999997,
          -595.5199999999996,
          -603.3399999999997,
          -615.0299999999997,
          -627.5299999999997,
          -632.5099999999998,
          -637.3399999999998
         ],
         "yaxis": "y"
        }
       ],
       "layout": {
        "legend": {
         "tracegroupgap": 0
        },
        "template": {
         "data": {
          "bar": [
           {
            "error_x": {
             "color": "rgb(36,36,36)"
            },
            "error_y": {
             "color": "rgb(36,36,36)"
            },
            "marker": {
             "line": {
              "color": "white",
              "width": 0.5
             }
            },
            "type": "bar"
           }
          ],
          "barpolar": [
           {
            "marker": {
             "line": {
              "color": "white",
              "width": 0.5
             }
            },
            "type": "barpolar"
           }
          ],
          "carpet": [
           {
            "aaxis": {
             "endlinecolor": "rgb(36,36,36)",
             "gridcolor": "white",
             "linecolor": "white",
             "minorgridcolor": "white",
             "startlinecolor": "rgb(36,36,36)"
            },
            "baxis": {
             "endlinecolor": "rgb(36,36,36)",
             "gridcolor": "white",
             "linecolor": "white",
             "minorgridcolor": "white",
             "startlinecolor": "rgb(36,36,36)"
            },
            "type": "carpet"
           }
          ],
          "choropleth": [
           {
            "colorbar": {
             "outlinewidth": 1,
             "tickcolor": "rgb(36,36,36)",
             "ticks": "outside"
            },
            "type": "choropleth"
           }
          ],
          "contour": [
           {
            "colorbar": {
             "outlinewidth": 1,
             "tickcolor": "rgb(36,36,36)",
             "ticks": "outside"
            },
            "colorscale": [
             [
              0,
              "#440154"
             ],
             [
              0.1111111111111111,
              "#482878"
             ],
             [
              0.2222222222222222,
              "#3e4989"
             ],
             [
              0.3333333333333333,
              "#31688e"
             ],
             [
              0.4444444444444444,
              "#26828e"
             ],
             [
              0.5555555555555556,
              "#1f9e89"
             ],
             [
              0.6666666666666666,
              "#35b779"
             ],
             [
              0.7777777777777778,
              "#6ece58"
             ],
             [
              0.8888888888888888,
              "#b5de2b"
             ],
             [
              1,
              "#fde725"
             ]
            ],
            "type": "contour"
           }
          ],
          "contourcarpet": [
           {
            "colorbar": {
             "outlinewidth": 1,
             "tickcolor": "rgb(36,36,36)",
             "ticks": "outside"
            },
            "type": "contourcarpet"
           }
          ],
          "heatmap": [
           {
            "colorbar": {
             "outlinewidth": 1,
             "tickcolor": "rgb(36,36,36)",
             "ticks": "outside"
            },
            "colorscale": [
             [
              0,
              "#440154"
             ],
             [
              0.1111111111111111,
              "#482878"
             ],
             [
              0.2222222222222222,
              "#3e4989"
             ],
             [
              0.3333333333333333,
              "#31688e"
             ],
             [
              0.4444444444444444,
              "#26828e"
             ],
             [
              0.5555555555555556,
              "#1f9e89"
             ],
             [
              0.6666666666666666,
              "#35b779"
             ],
             [
              0.7777777777777778,
              "#6ece58"
             ],
             [
              0.8888888888888888,
              "#b5de2b"
             ],
             [
              1,
              "#fde725"
             ]
            ],
            "type": "heatmap"
           }
          ],
          "heatmapgl": [
           {
            "colorbar": {
             "outlinewidth": 1,
             "tickcolor": "rgb(36,36,36)",
             "ticks": "outside"
            },
            "colorscale": [
             [
              0,
              "#440154"
             ],
             [
              0.1111111111111111,
              "#482878"
             ],
             [
              0.2222222222222222,
              "#3e4989"
             ],
             [
              0.3333333333333333,
              "#31688e"
             ],
             [
              0.4444444444444444,
              "#26828e"
             ],
             [
              0.5555555555555556,
              "#1f9e89"
             ],
             [
              0.6666666666666666,
              "#35b779"
             ],
             [
              0.7777777777777778,
              "#6ece58"
             ],
             [
              0.8888888888888888,
              "#b5de2b"
             ],
             [
              1,
              "#fde725"
             ]
            ],
            "type": "heatmapgl"
           }
          ],
          "histogram": [
           {
            "marker": {
             "line": {
              "color": "white",
              "width": 0.6
             }
            },
            "type": "histogram"
           }
          ],
          "histogram2d": [
           {
            "colorbar": {
             "outlinewidth": 1,
             "tickcolor": "rgb(36,36,36)",
             "ticks": "outside"
            },
            "colorscale": [
             [
              0,
              "#440154"
             ],
             [
              0.1111111111111111,
              "#482878"
             ],
             [
              0.2222222222222222,
              "#3e4989"
             ],
             [
              0.3333333333333333,
              "#31688e"
             ],
             [
              0.4444444444444444,
              "#26828e"
             ],
             [
              0.5555555555555556,
              "#1f9e89"
             ],
             [
              0.6666666666666666,
              "#35b779"
             ],
             [
              0.7777777777777778,
              "#6ece58"
             ],
             [
              0.8888888888888888,
              "#b5de2b"
             ],
             [
              1,
              "#fde725"
             ]
            ],
            "type": "histogram2d"
           }
          ],
          "histogram2dcontour": [
           {
            "colorbar": {
             "outlinewidth": 1,
             "tickcolor": "rgb(36,36,36)",
             "ticks": "outside"
            },
            "colorscale": [
             [
              0,
              "#440154"
             ],
             [
              0.1111111111111111,
              "#482878"
             ],
             [
              0.2222222222222222,
              "#3e4989"
             ],
             [
              0.3333333333333333,
              "#31688e"
             ],
             [
              0.4444444444444444,
              "#26828e"
             ],
             [
              0.5555555555555556,
              "#1f9e89"
             ],
             [
              0.6666666666666666,
              "#35b779"
             ],
             [
              0.7777777777777778,
              "#6ece58"
             ],
             [
              0.8888888888888888,
              "#b5de2b"
             ],
             [
              1,
              "#fde725"
             ]
            ],
            "type": "histogram2dcontour"
           }
          ],
          "mesh3d": [
           {
            "colorbar": {
             "outlinewidth": 1,
             "tickcolor": "rgb(36,36,36)",
             "ticks": "outside"
            },
            "type": "mesh3d"
           }
          ],
          "parcoords": [
           {
            "line": {
             "colorbar": {
              "outlinewidth": 1,
              "tickcolor": "rgb(36,36,36)",
              "ticks": "outside"
             }
            },
            "type": "parcoords"
           }
          ],
          "pie": [
           {
            "automargin": true,
            "type": "pie"
           }
          ],
          "scatter": [
           {
            "marker": {
             "colorbar": {
              "outlinewidth": 1,
              "tickcolor": "rgb(36,36,36)",
              "ticks": "outside"
             }
            },
            "type": "scatter"
           }
          ],
          "scatter3d": [
           {
            "line": {
             "colorbar": {
              "outlinewidth": 1,
              "tickcolor": "rgb(36,36,36)",
              "ticks": "outside"
             }
            },
            "marker": {
             "colorbar": {
              "outlinewidth": 1,
              "tickcolor": "rgb(36,36,36)",
              "ticks": "outside"
             }
            },
            "type": "scatter3d"
           }
          ],
          "scattercarpet": [
           {
            "marker": {
             "colorbar": {
              "outlinewidth": 1,
              "tickcolor": "rgb(36,36,36)",
              "ticks": "outside"
             }
            },
            "type": "scattercarpet"
           }
          ],
          "scattergeo": [
           {
            "marker": {
             "colorbar": {
              "outlinewidth": 1,
              "tickcolor": "rgb(36,36,36)",
              "ticks": "outside"
             }
            },
            "type": "scattergeo"
           }
          ],
          "scattergl": [
           {
            "marker": {
             "colorbar": {
              "outlinewidth": 1,
              "tickcolor": "rgb(36,36,36)",
              "ticks": "outside"
             }
            },
            "type": "scattergl"
           }
          ],
          "scattermapbox": [
           {
            "marker": {
             "colorbar": {
              "outlinewidth": 1,
              "tickcolor": "rgb(36,36,36)",
              "ticks": "outside"
             }
            },
            "type": "scattermapbox"
           }
          ],
          "scatterpolar": [
           {
            "marker": {
             "colorbar": {
              "outlinewidth": 1,
              "tickcolor": "rgb(36,36,36)",
              "ticks": "outside"
             }
            },
            "type": "scatterpolar"
           }
          ],
          "scatterpolargl": [
           {
            "marker": {
             "colorbar": {
              "outlinewidth": 1,
              "tickcolor": "rgb(36,36,36)",
              "ticks": "outside"
             }
            },
            "type": "scatterpolargl"
           }
          ],
          "scatterternary": [
           {
            "marker": {
             "colorbar": {
              "outlinewidth": 1,
              "tickcolor": "rgb(36,36,36)",
              "ticks": "outside"
             }
            },
            "type": "scatterternary"
           }
          ],
          "surface": [
           {
            "colorbar": {
             "outlinewidth": 1,
             "tickcolor": "rgb(36,36,36)",
             "ticks": "outside"
            },
            "colorscale": [
             [
              0,
              "#440154"
             ],
             [
              0.1111111111111111,
              "#482878"
             ],
             [
              0.2222222222222222,
              "#3e4989"
             ],
             [
              0.3333333333333333,
              "#31688e"
             ],
             [
              0.4444444444444444,
              "#26828e"
             ],
             [
              0.5555555555555556,
              "#1f9e89"
             ],
             [
              0.6666666666666666,
              "#35b779"
             ],
             [
              0.7777777777777778,
              "#6ece58"
             ],
             [
              0.8888888888888888,
              "#b5de2b"
             ],
             [
              1,
              "#fde725"
             ]
            ],
            "type": "surface"
           }
          ],
          "table": [
           {
            "cells": {
             "fill": {
              "color": "rgb(237,237,237)"
             },
             "line": {
              "color": "white"
             }
            },
            "header": {
             "fill": {
              "color": "rgb(217,217,217)"
             },
             "line": {
              "color": "white"
             }
            },
            "type": "table"
           }
          ]
         },
         "layout": {
          "annotationdefaults": {
           "arrowhead": 0,
           "arrowwidth": 1
          },
          "autotypenumbers": "strict",
          "coloraxis": {
           "colorbar": {
            "outlinewidth": 1,
            "tickcolor": "rgb(36,36,36)",
            "ticks": "outside"
           }
          },
          "colorscale": {
           "diverging": [
            [
             0,
             "rgb(103,0,31)"
            ],
            [
             0.1,
             "rgb(178,24,43)"
            ],
            [
             0.2,
             "rgb(214,96,77)"
            ],
            [
             0.3,
             "rgb(244,165,130)"
            ],
            [
             0.4,
             "rgb(253,219,199)"
            ],
            [
             0.5,
             "rgb(247,247,247)"
            ],
            [
             0.6,
             "rgb(209,229,240)"
            ],
            [
             0.7,
             "rgb(146,197,222)"
            ],
            [
             0.8,
             "rgb(67,147,195)"
            ],
            [
             0.9,
             "rgb(33,102,172)"
            ],
            [
             1,
             "rgb(5,48,97)"
            ]
           ],
           "sequential": [
            [
             0,
             "#440154"
            ],
            [
             0.1111111111111111,
             "#482878"
            ],
            [
             0.2222222222222222,
             "#3e4989"
            ],
            [
             0.3333333333333333,
             "#31688e"
            ],
            [
             0.4444444444444444,
             "#26828e"
            ],
            [
             0.5555555555555556,
             "#1f9e89"
            ],
            [
             0.6666666666666666,
             "#35b779"
            ],
            [
             0.7777777777777778,
             "#6ece58"
            ],
            [
             0.8888888888888888,
             "#b5de2b"
            ],
            [
             1,
             "#fde725"
            ]
           ],
           "sequentialminus": [
            [
             0,
             "#440154"
            ],
            [
             0.1111111111111111,
             "#482878"
            ],
            [
             0.2222222222222222,
             "#3e4989"
            ],
            [
             0.3333333333333333,
             "#31688e"
            ],
            [
             0.4444444444444444,
             "#26828e"
            ],
            [
             0.5555555555555556,
             "#1f9e89"
            ],
            [
             0.6666666666666666,
             "#35b779"
            ],
            [
             0.7777777777777778,
             "#6ece58"
            ],
            [
             0.8888888888888888,
             "#b5de2b"
            ],
            [
             1,
             "#fde725"
            ]
           ]
          },
          "colorway": [
           "#1F77B4",
           "#FF7F0E",
           "#2CA02C",
           "#D62728",
           "#9467BD",
           "#8C564B",
           "#E377C2",
           "#7F7F7F",
           "#BCBD22",
           "#17BECF"
          ],
          "font": {
           "color": "rgb(36,36,36)"
          },
          "geo": {
           "bgcolor": "white",
           "lakecolor": "white",
           "landcolor": "white",
           "showlakes": true,
           "showland": true,
           "subunitcolor": "white"
          },
          "hoverlabel": {
           "align": "left"
          },
          "hovermode": "closest",
          "mapbox": {
           "style": "light"
          },
          "paper_bgcolor": "white",
          "plot_bgcolor": "white",
          "polar": {
           "angularaxis": {
            "gridcolor": "rgb(232,232,232)",
            "linecolor": "rgb(36,36,36)",
            "showgrid": false,
            "showline": true,
            "ticks": "outside"
           },
           "bgcolor": "white",
           "radialaxis": {
            "gridcolor": "rgb(232,232,232)",
            "linecolor": "rgb(36,36,36)",
            "showgrid": false,
            "showline": true,
            "ticks": "outside"
           }
          },
          "scene": {
           "xaxis": {
            "backgroundcolor": "white",
            "gridcolor": "rgb(232,232,232)",
            "gridwidth": 2,
            "linecolor": "rgb(36,36,36)",
            "showbackground": true,
            "showgrid": false,
            "showline": true,
            "ticks": "outside",
            "zeroline": false,
            "zerolinecolor": "rgb(36,36,36)"
           },
           "yaxis": {
            "backgroundcolor": "white",
            "gridcolor": "rgb(232,232,232)",
            "gridwidth": 2,
            "linecolor": "rgb(36,36,36)",
            "showbackground": true,
            "showgrid": false,
            "showline": true,
            "ticks": "outside",
            "zeroline": false,
            "zerolinecolor": "rgb(36,36,36)"
           },
           "zaxis": {
            "backgroundcolor": "white",
            "gridcolor": "rgb(232,232,232)",
            "gridwidth": 2,
            "linecolor": "rgb(36,36,36)",
            "showbackground": true,
            "showgrid": false,
            "showline": true,
            "ticks": "outside",
            "zeroline": false,
            "zerolinecolor": "rgb(36,36,36)"
           }
          },
          "shapedefaults": {
           "fillcolor": "black",
           "line": {
            "width": 0
           },
           "opacity": 0.3
          },
          "ternary": {
           "aaxis": {
            "gridcolor": "rgb(232,232,232)",
            "linecolor": "rgb(36,36,36)",
            "showgrid": false,
            "showline": true,
            "ticks": "outside"
           },
           "baxis": {
            "gridcolor": "rgb(232,232,232)",
            "linecolor": "rgb(36,36,36)",
            "showgrid": false,
            "showline": true,
            "ticks": "outside"
           },
           "bgcolor": "white",
           "caxis": {
            "gridcolor": "rgb(232,232,232)",
            "linecolor": "rgb(36,36,36)",
            "showgrid": false,
            "showline": true,
            "ticks": "outside"
           }
          },
          "title": {
           "x": 0.05
          },
          "xaxis": {
           "automargin": true,
           "gridcolor": "rgb(232,232,232)",
           "linecolor": "rgb(36,36,36)",
           "showgrid": false,
           "showline": true,
           "ticks": "outside",
           "title": {
            "standoff": 15
           },
           "zeroline": false,
           "zerolinecolor": "rgb(36,36,36)"
          },
          "yaxis": {
           "automargin": true,
           "gridcolor": "rgb(232,232,232)",
           "linecolor": "rgb(36,36,36)",
           "showgrid": false,
           "showline": true,
           "ticks": "outside",
           "title": {
            "standoff": 15
           },
           "zeroline": false,
           "zerolinecolor": "rgb(36,36,36)"
          }
         }
        },
        "title": {
         "text": "Cumulative Gross Profit"
        },
        "xaxis": {
         "anchor": "y",
         "domain": [
          0,
          1
         ],
         "title": {
          "text": "market_number"
         }
        },
        "yaxis": {
         "anchor": "x",
         "domain": [
          0,
          1
         ],
         "title": {
          "text": "cGpl"
         }
        }
       }
      },
      "text/html": [
       "<div>                            <div id=\"94412ccd-4bc6-4c25-a9bc-2adb0233f141\" class=\"plotly-graph-div\" style=\"height:525px; width:100%;\"></div>            <script type=\"text/javascript\">                require([\"plotly\"], function(Plotly) {                    window.PLOTLYENV=window.PLOTLYENV || {};                                    if (document.getElementById(\"94412ccd-4bc6-4c25-a9bc-2adb0233f141\")) {                    Plotly.newPlot(                        \"94412ccd-4bc6-4c25-a9bc-2adb0233f141\",                        [{\"hovertemplate\": \"market_number=%{x}<br>cGpl=%{y}<extra></extra>\", \"legendgroup\": \"\", \"line\": {\"color\": \"#1F77B4\", \"dash\": \"solid\"}, \"mode\": \"lines\", \"name\": \"\", \"orientation\": \"v\", \"showlegend\": false, \"type\": \"scatter\", \"x\": [0, 1, 2, 3, 4, 5, 6, 7, 8, 9, 10, 11, 12, 13, 14, 15, 16, 17, 18, 19, 20, 21, 22, 23, 24, 25, 26, 27, 28, 29, 30, 31, 32, 33, 34, 35, 36, 37, 38, 39, 40, 41, 42, 43, 44, 45, 46, 47, 48, 49, 50, 51, 52, 53, 54, 55, 56, 57, 58, 59, 60, 61, 62, 63, 64, 65, 66, 67, 68, 69, 70, 71, 72, 73, 74, 75, 76, 77, 78, 79, 80, 81, 82, 83, 84, 85, 86, 87, 88, 89, 90, 91, 92, 93, 94, 95, 96, 97, 98, 99, 100, 101, 102, 103, 104, 105, 106, 107, 108, 109, 110, 111, 112, 113, 114, 115, 116, 117, 118, 119, 120, 121, 122, 123, 124, 125, 126, 127, 128, 129, 130, 131, 132, 133, 134, 135, 136, 137, 138, 139, 140, 141, 142, 143, 144, 145, 146, 147, 148, 149, 150, 151, 152, 153, 154, 155, 156, 157, 158, 159, 160, 161, 162, 163, 164, 165, 166, 167, 168, 169, 170, 171, 172, 173, 174, 175, 176, 177, 178, 179, 180, 181, 182, 183, 184, 185, 186, 187, 188, 189, 190, 191, 192, 193, 194, 195, 196, 197, 198, 199, 200, 201, 202, 203, 204, 205, 206, 207, 208, 209, 210, 211, 212, 213, 214, 215, 216, 217, 218, 219, 220, 221, 222, 223, 224, 225, 226, 227, 228, 229, 230, 231, 232, 233, 234, 235, 236, 237, 238, 239, 240, 241, 242, 243, 244, 245, 246, 247, 248, 249, 250, 251, 252, 253, 254, 255, 256, 257, 258, 259, 260, 261, 262, 263, 264, 265, 266, 267, 268, 269, 270, 271, 272, 273, 274, 275, 276, 277, 278, 279, 280, 281, 282, 283, 284, 285, 286, 287, 288, 289, 290, 291, 292, 293, 294, 295, 296, 297, 298, 299, 300, 301, 302, 303, 304, 305, 306, 307, 308, 309, 310, 311, 312, 313, 314, 315, 316, 317, 318, 319, 320, 321, 322, 323, 324, 325, 326, 327, 328, 329, 330, 331, 332, 333, 334, 335, 336, 337, 338, 339, 340, 341, 342, 343, 344, 345, 346, 347, 348, 349, 350, 351, 352, 353, 354, 355, 356, 357, 358, 359, 360, 361, 362, 363, 364, 365, 366, 367, 368, 369, 370, 371, 372, 373, 374, 375, 376, 377, 378, 379, 380, 381, 382, 383, 384, 385, 386, 387, 388, 389, 390, 391, 392, 393, 394, 395, 396, 397, 398, 399, 400, 401, 402, 403, 404, 405, 406, 407, 408, 409, 410, 411, 412, 413, 414, 415, 416, 417, 418, 419, 420, 421, 422, 423, 424, 425, 426, 427, 428, 429, 430, 431, 432, 433, 434, 435, 436, 437, 438, 439, 440, 441, 442, 443, 444, 445, 446, 447, 448, 449, 450, 451, 452, 453, 454, 455, 456, 457, 458, 459, 460, 461, 462, 463, 464, 465, 466, 467], \"xaxis\": \"x\", \"y\": [-19.619999999999997, -10.619999999999997, -26.29, -28.91, -30.060000000000002, -32.260000000000005, -36.32000000000001, -39.620000000000005, -39.27, -44.900000000000006, -49.36000000000001, -48.760000000000005, -46.7, -27.14, -25.580000000000002, -31.160000000000004, -31.000000000000004, -34.74, -32.34, -33.730000000000004, -23.230000000000004, -23.630000000000003, -12.120000000000003, 5.859999999999998, 11.279999999999998, 2.7799999999999976, 5.179999999999998, 0.3399999999999981, -13.660000000000002, -16.410000000000004, -19.200000000000003, -3.7900000000000027, -4.890000000000002, -14.890000000000002, -10.040000000000003, -15.550000000000002, -27.020000000000003, -37.42, -49.260000000000005, -60.95, -66.55, -67.48, -63.02, -67.77000000000001, -51.32000000000001, -55.16000000000001, -48.26000000000001, -53.360000000000014, -62.140000000000015, -69.30000000000001, -75.94000000000001, -72.74000000000001, -80.14000000000001, -82.07000000000002, -60.03000000000002, -66.23000000000002, -77.86000000000001, -70.35000000000001, -68.95, -70.54, -51.34, -53.89, -61.6, -65.53, -65.67, -70.1, -60.099999999999994, -58.769999999999996, -57.13999999999999, -57.43999999999999, -62.65999999999999, -63.26999999999999, -70.86999999999999, -79.17999999999999, -81.52, -78.3, -83.1, -93.06, -99.08, -103.9, -107.62, -112.44, -111.97, -117.19, -114.14, -156.14, -163.98999999999998, -159.08999999999997, -159.07999999999998, -164.95999999999998, -146.98, -135.10999999999999, -144.36999999999998, -150.96999999999997, -158.66999999999996, -169.65999999999997, -143.77999999999997, -147.47999999999996, -203.47999999999996, -212.27999999999997, -215.62999999999997, -237.64999999999998, -244.79999999999998, -257.9, -263.32, -264.58, -270.55, -266.14, -378.5, -360.5, -362.2, -367.71999999999997, -375.61999999999995, -378.21999999999997, -385.28, -366.34, -349.34, -362.58, -349.95, -351.57, -332.12, -334.22, -341.1, -347.39000000000004, -358.13000000000005, -356.68000000000006, -359.9000000000001, -347.7000000000001, -345.1100000000001, -349.6100000000001, -348.5100000000001, -343.4400000000001, -329.9300000000001, -331.5600000000001, -343.85000000000014, -347.90000000000015, -349.90000000000015, -355.78000000000014, -366.01000000000016, -368.9300000000002, -359.64000000000016, -379.82000000000016, -383.44000000000017, -382.90000000000015, -210.90000000000015, -189.90000000000015, -188.95000000000016, -183.55000000000015, -189.55000000000015, -187.74000000000015, -186.09000000000015, -188.05000000000015, -187.24000000000015, -175.24000000000015, -197.31000000000014, -179.26000000000013, -180.18000000000012, -186.3800000000001, -175.9700000000001, -186.4100000000001, -188.3200000000001, -171.06000000000012, -177.96000000000012, -183.77000000000012, -197.04000000000013, -197.54000000000013, -206.92000000000013, -205.32000000000014, -184.32000000000014, -189.15000000000015, -194.06000000000014, -196.70000000000013, -204.20000000000013, -208.59000000000015, -206.89000000000016, -210.90000000000015, -211.99000000000015, -205.70000000000016, -215.69000000000017, -205.19000000000017, -180.51000000000016, -187.18000000000015, -191.41000000000014, -196.71000000000015, -198.42000000000016, -198.49000000000015, -203.57000000000016, -211.01000000000016, -218.91000000000017, -224.95000000000016, -215.55000000000015, -222.95000000000016, -227.52000000000015, -224.52000000000015, -214.32000000000016, -185.42000000000016, -189.92000000000016, -205.71000000000015, -212.66000000000014, -217.79000000000013, -223.53000000000014, -233.32000000000014, -243.64000000000013, -242.84000000000012, -245.84000000000012, -234.67000000000013, -211.67000000000013, -235.66000000000014, -242.17000000000013, -237.48000000000013, -236.98000000000013, -241.81000000000014, -234.28000000000014, -256.28000000000014, -262.03000000000014, -270.14000000000016, -271.92000000000013, -273.04000000000013, -281.84000000000015, -292.10000000000014, -298.4400000000001, -295.3900000000001, -300.0600000000001, -306.9600000000001, -298.7700000000001, -312.2700000000001, -313.2400000000001, -323.8700000000001, -331.2500000000001, -330.98000000000013, -362.98000000000013, -366.7600000000001, -360.7600000000001, -366.9600000000001, -374.3800000000001, -364.5100000000001, -347.5100000000001, -344.42000000000013, -343.1100000000001, -315.1100000000001, -300.6100000000001, -308.6100000000001, -323.27000000000015, -328.51000000000016, -333.13000000000017, -323.63000000000017, -332.9200000000002, -340.1000000000002, -346.9000000000002, -350.8900000000002, -298.9600000000002, -267.4800000000002, -281.2800000000002, -289.8300000000002, -272.8300000000002, -280.8300000000002, -282.24000000000024, -282.9400000000002, -276.43000000000023, -278.04000000000025, -276.86000000000024, -279.34000000000026, -285.39000000000027, -282.6900000000003, -283.4400000000003, -284.3800000000003, -294.8800000000003, -282.4800000000003, -285.0700000000003, -155.30000000000027, -143.55000000000027, -145.75000000000026, -155.49000000000026, -151.28000000000026, -160.28000000000026, -170.09000000000026, -176.91000000000025, -177.67000000000024, -176.22000000000025, -181.61000000000024, -182.25000000000023, -194.61000000000024, -195.61000000000024, -187.01000000000025, -194.67000000000024, -188.66000000000025, -188.36000000000024, -193.25000000000023, -183.02000000000024, -206.02000000000024, -204.72000000000023, -207.25000000000023, -203.97000000000023, -181.63000000000022, -185.3300000000002, -185.8300000000002, -188.8100000000002, -198.8100000000002, -211.70000000000022, -210.50000000000023, -219.81000000000023, -229.81000000000023, -237.51000000000022, -245.70000000000022, -255.5500000000002, -264.0900000000002, -266.8800000000002, -272.98000000000025, -278.62000000000023, -286.06000000000023, -284.8900000000002, -296.0900000000002, -293.2200000000002, -296.5100000000002, -278.4100000000002, -283.5500000000002, -289.7400000000002, -287.9800000000002, -217.9800000000002, -223.1700000000002, -229.37000000000018, -235.24000000000018, -316.1100000000002, -319.7900000000002, -325.2900000000002, -328.3000000000002, -335.9200000000002, -329.8000000000002, -335.6200000000002, -342.69000000000017, -343.76000000000016, -338.50000000000017, -346.6000000000002, -348.6000000000002, -340.8300000000002, -340.6300000000002, -340.8300000000002, -375.8300000000002, -379.93000000000023, -382.3900000000002, -391.0900000000002, -394.9500000000002, -396.55000000000024, -402.03000000000026, -408.04000000000025, -419.04000000000025, -420.54000000000025, -417.08000000000027, -423.16000000000025, -414.86000000000024, -417.58000000000027, -420.98000000000025, -424.22000000000025, -415.17000000000024, -372.66000000000025, -378.15000000000026, -373.5600000000003, -373.7400000000003, -370.3600000000003, -377.5400000000003, -381.5300000000003, -433.7400000000003, -442.5400000000003, -445.95000000000033, -463.3500000000003, -446.7400000000003, -434.7400000000003, -452.7400000000003, -444.14000000000027, -431.14000000000027, -417.14000000000027, -463.14000000000027, -471.65000000000026, -466.65000000000026, -488.15000000000026, -487.79000000000025, -485.64000000000027, -478.91000000000025, -481.6300000000003, -482.53000000000026, -478.02000000000027, -449.9500000000003, -518.6400000000003, -524.4300000000003, -530.3400000000003, -531.5000000000002, -531.2900000000002, -535.3900000000002, -537.3800000000002, -542.6300000000002, -516.6300000000002, -527.6300000000002, -520.6200000000002, -525.9600000000003, -528.0200000000002, -524.7800000000002, -518.6500000000002, -526.3700000000002, -518.0700000000003, -518.9300000000003, -590.7500000000002, -575.1100000000002, -582.5400000000002, -555.5100000000002, -575.5100000000002, -579.3400000000003, -585.5400000000003, -576.0100000000003, -573.6100000000004, -578.7200000000004, -551.7200000000004, -556.4000000000003, -563.1500000000003, -569.3300000000003, -572.3300000000003, -592.7200000000003, -595.6900000000003, -591.5800000000003, -568.5800000000003, -557.9600000000003, -550.7300000000002, -557.4100000000002, -566.3300000000002, -569.7300000000001, -574.7600000000001, -585.1600000000001, -598.0400000000001, -591.69, -592.49, -588.29, -591.79, -600.26, -603.17, -603.37, -579.37, -581.01, -582.81, -586.81, -591.65, -584.55, -578.67, -578.31, -572.81, -579.0799999999999, -584.8799999999999, -587.9399999999998, -594.2199999999998, -569.2199999999998, -566.3399999999998, -566.3399999999998, -557.5199999999998, -570.5199999999998, -572.3199999999997, -563.9199999999997, -568.0199999999998, -595.0199999999998, -598.6799999999997, -598.4499999999997, -597.6499999999997, -600.6999999999997, -602.2399999999997, -593.7199999999997, -595.5199999999996, -603.3399999999997, -615.0299999999997, -627.5299999999997, -632.5099999999998, -637.3399999999998], \"yaxis\": \"y\"}],                        {\"legend\": {\"tracegroupgap\": 0}, \"template\": {\"data\": {\"bar\": [{\"error_x\": {\"color\": \"rgb(36,36,36)\"}, \"error_y\": {\"color\": \"rgb(36,36,36)\"}, \"marker\": {\"line\": {\"color\": \"white\", \"width\": 0.5}}, \"type\": \"bar\"}], \"barpolar\": [{\"marker\": {\"line\": {\"color\": \"white\", \"width\": 0.5}}, \"type\": \"barpolar\"}], \"carpet\": [{\"aaxis\": {\"endlinecolor\": \"rgb(36,36,36)\", \"gridcolor\": \"white\", \"linecolor\": \"white\", \"minorgridcolor\": \"white\", \"startlinecolor\": \"rgb(36,36,36)\"}, \"baxis\": {\"endlinecolor\": \"rgb(36,36,36)\", \"gridcolor\": \"white\", \"linecolor\": \"white\", \"minorgridcolor\": \"white\", \"startlinecolor\": \"rgb(36,36,36)\"}, \"type\": \"carpet\"}], \"choropleth\": [{\"colorbar\": {\"outlinewidth\": 1, \"tickcolor\": \"rgb(36,36,36)\", \"ticks\": \"outside\"}, \"type\": \"choropleth\"}], \"contour\": [{\"colorbar\": {\"outlinewidth\": 1, \"tickcolor\": \"rgb(36,36,36)\", \"ticks\": \"outside\"}, \"colorscale\": [[0.0, \"#440154\"], [0.1111111111111111, \"#482878\"], [0.2222222222222222, \"#3e4989\"], [0.3333333333333333, \"#31688e\"], [0.4444444444444444, \"#26828e\"], [0.5555555555555556, \"#1f9e89\"], [0.6666666666666666, \"#35b779\"], [0.7777777777777778, \"#6ece58\"], [0.8888888888888888, \"#b5de2b\"], [1.0, \"#fde725\"]], \"type\": \"contour\"}], \"contourcarpet\": [{\"colorbar\": {\"outlinewidth\": 1, \"tickcolor\": \"rgb(36,36,36)\", \"ticks\": \"outside\"}, \"type\": \"contourcarpet\"}], \"heatmap\": [{\"colorbar\": {\"outlinewidth\": 1, \"tickcolor\": \"rgb(36,36,36)\", \"ticks\": \"outside\"}, \"colorscale\": [[0.0, \"#440154\"], [0.1111111111111111, \"#482878\"], [0.2222222222222222, \"#3e4989\"], [0.3333333333333333, \"#31688e\"], [0.4444444444444444, \"#26828e\"], [0.5555555555555556, \"#1f9e89\"], [0.6666666666666666, \"#35b779\"], [0.7777777777777778, \"#6ece58\"], [0.8888888888888888, \"#b5de2b\"], [1.0, \"#fde725\"]], \"type\": \"heatmap\"}], \"heatmapgl\": [{\"colorbar\": {\"outlinewidth\": 1, \"tickcolor\": \"rgb(36,36,36)\", \"ticks\": \"outside\"}, \"colorscale\": [[0.0, \"#440154\"], [0.1111111111111111, \"#482878\"], [0.2222222222222222, \"#3e4989\"], [0.3333333333333333, \"#31688e\"], [0.4444444444444444, \"#26828e\"], [0.5555555555555556, \"#1f9e89\"], [0.6666666666666666, \"#35b779\"], [0.7777777777777778, \"#6ece58\"], [0.8888888888888888, \"#b5de2b\"], [1.0, \"#fde725\"]], \"type\": \"heatmapgl\"}], \"histogram\": [{\"marker\": {\"line\": {\"color\": \"white\", \"width\": 0.6}}, \"type\": \"histogram\"}], \"histogram2d\": [{\"colorbar\": {\"outlinewidth\": 1, \"tickcolor\": \"rgb(36,36,36)\", \"ticks\": \"outside\"}, \"colorscale\": [[0.0, \"#440154\"], [0.1111111111111111, \"#482878\"], [0.2222222222222222, \"#3e4989\"], [0.3333333333333333, \"#31688e\"], [0.4444444444444444, \"#26828e\"], [0.5555555555555556, \"#1f9e89\"], [0.6666666666666666, \"#35b779\"], [0.7777777777777778, \"#6ece58\"], [0.8888888888888888, \"#b5de2b\"], [1.0, \"#fde725\"]], \"type\": \"histogram2d\"}], \"histogram2dcontour\": [{\"colorbar\": {\"outlinewidth\": 1, \"tickcolor\": \"rgb(36,36,36)\", \"ticks\": \"outside\"}, \"colorscale\": [[0.0, \"#440154\"], [0.1111111111111111, \"#482878\"], [0.2222222222222222, \"#3e4989\"], [0.3333333333333333, \"#31688e\"], [0.4444444444444444, \"#26828e\"], [0.5555555555555556, \"#1f9e89\"], [0.6666666666666666, \"#35b779\"], [0.7777777777777778, \"#6ece58\"], [0.8888888888888888, \"#b5de2b\"], [1.0, \"#fde725\"]], \"type\": \"histogram2dcontour\"}], \"mesh3d\": [{\"colorbar\": {\"outlinewidth\": 1, \"tickcolor\": \"rgb(36,36,36)\", \"ticks\": \"outside\"}, \"type\": \"mesh3d\"}], \"parcoords\": [{\"line\": {\"colorbar\": {\"outlinewidth\": 1, \"tickcolor\": \"rgb(36,36,36)\", \"ticks\": \"outside\"}}, \"type\": \"parcoords\"}], \"pie\": [{\"automargin\": true, \"type\": \"pie\"}], \"scatter\": [{\"marker\": {\"colorbar\": {\"outlinewidth\": 1, \"tickcolor\": \"rgb(36,36,36)\", \"ticks\": \"outside\"}}, \"type\": \"scatter\"}], \"scatter3d\": [{\"line\": {\"colorbar\": {\"outlinewidth\": 1, \"tickcolor\": \"rgb(36,36,36)\", \"ticks\": \"outside\"}}, \"marker\": {\"colorbar\": {\"outlinewidth\": 1, \"tickcolor\": \"rgb(36,36,36)\", \"ticks\": \"outside\"}}, \"type\": \"scatter3d\"}], \"scattercarpet\": [{\"marker\": {\"colorbar\": {\"outlinewidth\": 1, \"tickcolor\": \"rgb(36,36,36)\", \"ticks\": \"outside\"}}, \"type\": \"scattercarpet\"}], \"scattergeo\": [{\"marker\": {\"colorbar\": {\"outlinewidth\": 1, \"tickcolor\": \"rgb(36,36,36)\", \"ticks\": \"outside\"}}, \"type\": \"scattergeo\"}], \"scattergl\": [{\"marker\": {\"colorbar\": {\"outlinewidth\": 1, \"tickcolor\": \"rgb(36,36,36)\", \"ticks\": \"outside\"}}, \"type\": \"scattergl\"}], \"scattermapbox\": [{\"marker\": {\"colorbar\": {\"outlinewidth\": 1, \"tickcolor\": \"rgb(36,36,36)\", \"ticks\": \"outside\"}}, \"type\": \"scattermapbox\"}], \"scatterpolar\": [{\"marker\": {\"colorbar\": {\"outlinewidth\": 1, \"tickcolor\": \"rgb(36,36,36)\", \"ticks\": \"outside\"}}, \"type\": \"scatterpolar\"}], \"scatterpolargl\": [{\"marker\": {\"colorbar\": {\"outlinewidth\": 1, \"tickcolor\": \"rgb(36,36,36)\", \"ticks\": \"outside\"}}, \"type\": \"scatterpolargl\"}], \"scatterternary\": [{\"marker\": {\"colorbar\": {\"outlinewidth\": 1, \"tickcolor\": \"rgb(36,36,36)\", \"ticks\": \"outside\"}}, \"type\": \"scatterternary\"}], \"surface\": [{\"colorbar\": {\"outlinewidth\": 1, \"tickcolor\": \"rgb(36,36,36)\", \"ticks\": \"outside\"}, \"colorscale\": [[0.0, \"#440154\"], [0.1111111111111111, \"#482878\"], [0.2222222222222222, \"#3e4989\"], [0.3333333333333333, \"#31688e\"], [0.4444444444444444, \"#26828e\"], [0.5555555555555556, \"#1f9e89\"], [0.6666666666666666, \"#35b779\"], [0.7777777777777778, \"#6ece58\"], [0.8888888888888888, \"#b5de2b\"], [1.0, \"#fde725\"]], \"type\": \"surface\"}], \"table\": [{\"cells\": {\"fill\": {\"color\": \"rgb(237,237,237)\"}, \"line\": {\"color\": \"white\"}}, \"header\": {\"fill\": {\"color\": \"rgb(217,217,217)\"}, \"line\": {\"color\": \"white\"}}, \"type\": \"table\"}]}, \"layout\": {\"annotationdefaults\": {\"arrowhead\": 0, \"arrowwidth\": 1}, \"autotypenumbers\": \"strict\", \"coloraxis\": {\"colorbar\": {\"outlinewidth\": 1, \"tickcolor\": \"rgb(36,36,36)\", \"ticks\": \"outside\"}}, \"colorscale\": {\"diverging\": [[0.0, \"rgb(103,0,31)\"], [0.1, \"rgb(178,24,43)\"], [0.2, \"rgb(214,96,77)\"], [0.3, \"rgb(244,165,130)\"], [0.4, \"rgb(253,219,199)\"], [0.5, \"rgb(247,247,247)\"], [0.6, \"rgb(209,229,240)\"], [0.7, \"rgb(146,197,222)\"], [0.8, \"rgb(67,147,195)\"], [0.9, \"rgb(33,102,172)\"], [1.0, \"rgb(5,48,97)\"]], \"sequential\": [[0.0, \"#440154\"], [0.1111111111111111, \"#482878\"], [0.2222222222222222, \"#3e4989\"], [0.3333333333333333, \"#31688e\"], [0.4444444444444444, \"#26828e\"], [0.5555555555555556, \"#1f9e89\"], [0.6666666666666666, \"#35b779\"], [0.7777777777777778, \"#6ece58\"], [0.8888888888888888, \"#b5de2b\"], [1.0, \"#fde725\"]], \"sequentialminus\": [[0.0, \"#440154\"], [0.1111111111111111, \"#482878\"], [0.2222222222222222, \"#3e4989\"], [0.3333333333333333, \"#31688e\"], [0.4444444444444444, \"#26828e\"], [0.5555555555555556, \"#1f9e89\"], [0.6666666666666666, \"#35b779\"], [0.7777777777777778, \"#6ece58\"], [0.8888888888888888, \"#b5de2b\"], [1.0, \"#fde725\"]]}, \"colorway\": [\"#1F77B4\", \"#FF7F0E\", \"#2CA02C\", \"#D62728\", \"#9467BD\", \"#8C564B\", \"#E377C2\", \"#7F7F7F\", \"#BCBD22\", \"#17BECF\"], \"font\": {\"color\": \"rgb(36,36,36)\"}, \"geo\": {\"bgcolor\": \"white\", \"lakecolor\": \"white\", \"landcolor\": \"white\", \"showlakes\": true, \"showland\": true, \"subunitcolor\": \"white\"}, \"hoverlabel\": {\"align\": \"left\"}, \"hovermode\": \"closest\", \"mapbox\": {\"style\": \"light\"}, \"paper_bgcolor\": \"white\", \"plot_bgcolor\": \"white\", \"polar\": {\"angularaxis\": {\"gridcolor\": \"rgb(232,232,232)\", \"linecolor\": \"rgb(36,36,36)\", \"showgrid\": false, \"showline\": true, \"ticks\": \"outside\"}, \"bgcolor\": \"white\", \"radialaxis\": {\"gridcolor\": \"rgb(232,232,232)\", \"linecolor\": \"rgb(36,36,36)\", \"showgrid\": false, \"showline\": true, \"ticks\": \"outside\"}}, \"scene\": {\"xaxis\": {\"backgroundcolor\": \"white\", \"gridcolor\": \"rgb(232,232,232)\", \"gridwidth\": 2, \"linecolor\": \"rgb(36,36,36)\", \"showbackground\": true, \"showgrid\": false, \"showline\": true, \"ticks\": \"outside\", \"zeroline\": false, \"zerolinecolor\": \"rgb(36,36,36)\"}, \"yaxis\": {\"backgroundcolor\": \"white\", \"gridcolor\": \"rgb(232,232,232)\", \"gridwidth\": 2, \"linecolor\": \"rgb(36,36,36)\", \"showbackground\": true, \"showgrid\": false, \"showline\": true, \"ticks\": \"outside\", \"zeroline\": false, \"zerolinecolor\": \"rgb(36,36,36)\"}, \"zaxis\": {\"backgroundcolor\": \"white\", \"gridcolor\": \"rgb(232,232,232)\", \"gridwidth\": 2, \"linecolor\": \"rgb(36,36,36)\", \"showbackground\": true, \"showgrid\": false, \"showline\": true, \"ticks\": \"outside\", \"zeroline\": false, \"zerolinecolor\": \"rgb(36,36,36)\"}}, \"shapedefaults\": {\"fillcolor\": \"black\", \"line\": {\"width\": 0}, \"opacity\": 0.3}, \"ternary\": {\"aaxis\": {\"gridcolor\": \"rgb(232,232,232)\", \"linecolor\": \"rgb(36,36,36)\", \"showgrid\": false, \"showline\": true, \"ticks\": \"outside\"}, \"baxis\": {\"gridcolor\": \"rgb(232,232,232)\", \"linecolor\": \"rgb(36,36,36)\", \"showgrid\": false, \"showline\": true, \"ticks\": \"outside\"}, \"bgcolor\": \"white\", \"caxis\": {\"gridcolor\": \"rgb(232,232,232)\", \"linecolor\": \"rgb(36,36,36)\", \"showgrid\": false, \"showline\": true, \"ticks\": \"outside\"}}, \"title\": {\"x\": 0.05}, \"xaxis\": {\"automargin\": true, \"gridcolor\": \"rgb(232,232,232)\", \"linecolor\": \"rgb(36,36,36)\", \"showgrid\": false, \"showline\": true, \"ticks\": \"outside\", \"title\": {\"standoff\": 15}, \"zeroline\": false, \"zerolinecolor\": \"rgb(36,36,36)\"}, \"yaxis\": {\"automargin\": true, \"gridcolor\": \"rgb(232,232,232)\", \"linecolor\": \"rgb(36,36,36)\", \"showgrid\": false, \"showline\": true, \"ticks\": \"outside\", \"title\": {\"standoff\": 15}, \"zeroline\": false, \"zerolinecolor\": \"rgb(36,36,36)\"}}}, \"title\": {\"text\": \"Cumulative Gross Profit\"}, \"xaxis\": {\"anchor\": \"y\", \"domain\": [0.0, 1.0], \"title\": {\"text\": \"market_number\"}}, \"yaxis\": {\"anchor\": \"x\", \"domain\": [0.0, 1.0], \"title\": {\"text\": \"cGpl\"}}},                        {\"responsive\": true}                    ).then(function(){\n",
       "                            \n",
       "var gd = document.getElementById('94412ccd-4bc6-4c25-a9bc-2adb0233f141');\n",
       "var x = new MutationObserver(function (mutations, observer) {{\n",
       "        var display = window.getComputedStyle(gd).display;\n",
       "        if (!display || display === 'none') {{\n",
       "            console.log([gd, 'removed!']);\n",
       "            Plotly.purge(gd);\n",
       "            observer.disconnect();\n",
       "        }}\n",
       "}});\n",
       "\n",
       "// Listen for the removal of the full notebook cells\n",
       "var notebookContainer = gd.closest('#notebook-container');\n",
       "if (notebookContainer) {{\n",
       "    x.observe(notebookContainer, {childList: true});\n",
       "}}\n",
       "\n",
       "// Listen for the clearing of the current output cell\n",
       "var outputEl = gd.closest('.output');\n",
       "if (outputEl) {{\n",
       "    x.observe(outputEl, {childList: true});\n",
       "}}\n",
       "\n",
       "                        })                };                });            </script>        </div>"
      ]
     },
     "metadata": {},
     "output_type": "display_data"
    }
   ],
   "source": [
    "import plotly.express as px\n",
    "\n",
    "bet_eval_chart_cPl(flat_bets_bsp)"
   ]
  },
  {
   "cell_type": "code",
   "execution_count": 114,
   "metadata": {},
   "outputs": [
    {
     "data": {
      "application/vnd.plotly.v1+json": {
       "config": {
        "plotlyServerURL": "https://plot.ly"
       },
       "data": [
        {
         "alignmentgroup": "True",
         "bingroup": "x",
         "hovertemplate": "market_prob=%{x}<br>count=%{y}<extra></extra>",
         "legendgroup": "",
         "marker": {
          "color": "#1F77B4"
         },
         "name": "",
         "offsetgroup": "",
         "orientation": "v",
         "showlegend": false,
         "type": "histogram",
         "x": [
          0.9793484051732735,
          0.9990278458551276,
          0.994354214722352,
          0.9865498258590223,
          1.0148660932173688,
          1.0242615778410429,
          1.0034331788694566,
          1.0011801967272809,
          1.0236784531255323,
          1.012188454668965,
          1.01148754795437,
          0.9867592902307346,
          1.0022778659943994,
          0.9998541489165989,
          0.9808289623763919,
          0.9815527223104399,
          1.008014948806889,
          0.9997743488955566,
          0.9944919765838119,
          1.009253079925804,
          1.0007199408822136,
          1.0094833713561828,
          1.0502593177069681,
          1.0076188854780102,
          0.9698912402349964,
          0.9974073298153305,
          1.0165347334539228,
          1.0288388673308333,
          0.9808231167583956,
          1.01876073995095,
          1.005526724298902,
          0.979531382325547,
          1.0125115839877215,
          1.0180308136638614,
          0.9844236689475652,
          0.9930743761916249,
          0.9799068535119031,
          0.9873782996776478,
          1.005094808899904,
          0.9783578170950838,
          1.0334144135506704,
          1.0280626753516395,
          1.037325509709456,
          1.0034870478958775,
          0.993180094654782,
          1.0716983172064665,
          0.9862988877331683,
          0.9991813273173744,
          0.9929369027676976,
          1.0389040736862087,
          1.004995044934721,
          1.0540031175625089,
          1.0130946646093615,
          1.008860647654413,
          0.9979794842955279,
          0.9908140454614377,
          0.999120853155647,
          1.0156358586598406,
          1.0106757492404146,
          1.021617921319378,
          1.0055812977667176,
          1.0396497418908397,
          1.0075486571903858,
          0.9782669161118901,
          0.941490836324401,
          1.0071288235898028,
          1.0206830934013813,
          0.9779871917648537,
          0.9984039465598079,
          1.0160217035092045,
          0.9889328883222596,
          1.007454059214108,
          1.0094167565685213,
          0.9737047846378546,
          0.9986817905424596,
          0.9805329306775954,
          0.9863183284721717,
          1.072125663059734,
          1.0440459091595944,
          0.9983307456329567,
          0.987954215864735,
          0.9976071397427881,
          0.9868928614408079,
          0.9930953935066797,
          1.0132126271943118,
          0.9893448801060535,
          0.990994160228357,
          0.977843289294906,
          1.0139613372396432,
          0.9556728348176238,
          1.034071867444062,
          0.9336077723739928,
          1.0220890490499155,
          0.9863357822365305,
          1.017427367602409,
          0.9815520110588404,
          1.0099872266788457,
          0.9942278755664601,
          1.0261316915156713,
          0.958374849552832,
          1.021857086615707,
          0.9592479081932678,
          0.9904166125194455,
          1.0149281571467177,
          0.9854432486239458,
          1.0170418772215506,
          0.9949402418925672,
          0.9822325862983712,
          1.0297485311297399,
          1.008805054766055,
          1.0258006586625728,
          1.021429039813322,
          1.0036076789597144,
          1.0170953925145572,
          0.9933161569353834,
          1.039309281324949,
          1.0048546777965681,
          1.0135645411438394,
          1.0020654600556025,
          0.9873402688342684,
          1.0431214854447994,
          1.0278697434951563,
          1.0032470143511436,
          1.0123089701350863,
          1.0057492488016615,
          0.995090311248862,
          1.0170196397883882,
          0.9840242288180293,
          1.0224173167634758,
          1.0417805240366504,
          1.0376939029803331,
          1.011304411888406,
          1.0334310244097322,
          1.0405515810434505,
          1.0143905248155702,
          1.0283290480950749,
          1.0253584830074383,
          0.9953676839244924,
          1.0000085875584641,
          1.0270841553707126,
          0.9861747099799953,
          1.0029209058471675,
          0.9800156572389717,
          1.0098970376383527,
          0.998949446021793,
          0.9685929645347339,
          1.0002853849119364,
          1.0220297767631397,
          1.0094419194491833,
          1.0055673838451495,
          1.0393704047132462,
          1.0226588457585983,
          1.0512830059830172,
          1.0369732056334724,
          1.0204027605699961,
          0.9655618455587995,
          0.9543334542625906,
          0.9807702787043205,
          0.9903887348529494,
          0.9874071982194962,
          0.9452621364114747,
          0.9958446143356907,
          1.0075179348419996,
          1.04226286835866,
          0.9775655107494265,
          0.9838275101201632,
          0.9838206015704108,
          1.011304176908214,
          1.0437037221640206,
          1.0183003243426199,
          0.9897512980000114,
          1.0125467674317359,
          1.0027842876131106,
          0.9992490207027437,
          1.0098496901173777,
          0.9838129735903804,
          0.9897008138272048,
          1.0148634485464343,
          0.883757529769715,
          0.9951621662625735,
          1.0576628740610907,
          0.9597904963232731,
          0.988503063922073,
          1.0308690762622004,
          0.9930577576215249,
          1.012385157700872,
          0.9818190642754928,
          1.0049811308423942,
          1.0014412394874936,
          0.9931949729064208,
          0.991257135189713,
          1.0062452750144022,
          1.0062245207110836,
          1.0072236962807257,
          0.9964308587229644,
          1.0062184517654869,
          1.001414070428254,
          0.9944777391523851,
          1.0010662780996975,
          0.9849552609259595,
          1.0086673912703856,
          1.0315992731172112,
          0.9896348337948591,
          0.9821088683540973,
          0.9947883427707274,
          0.9948499259248857,
          1.0094945229780945,
          0.9939712270316029,
          0.9883878848647007,
          0.9447712403054203,
          1.0023351131431533,
          1.0003247903840418,
          0.9850903800210484,
          1.0255990304671678,
          0.9951388023178114,
          1.0119517976991497,
          1.0093951738073903,
          0.987425843856354,
          0.9827344219673283,
          0.9779903828501186,
          1.0051091851725709,
          1.0117132544794034,
          1.0169999949151811,
          1.0009373016936305,
          1.0055280045520165,
          0.9871945921107836,
          0.99572653044751,
          0.9958848204930547,
          0.9608066422106117,
          1.0285488032669998,
          1.0045127535601495,
          1.0239695590750117,
          0.9910582118551544,
          0.988237256808677,
          1.0108849632772956,
          1.041093244446308,
          0.99775081843373,
          1.003580632454812,
          1.0098425676986984,
          1.0080779296646665,
          1.0105931936142725,
          1.0287357323117936,
          0.9872795237394583,
          1.0252004018888652,
          0.9999183238882954,
          0.9858229922660148,
          0.9723852703534457,
          0.97367817675084,
          0.9825197587641674,
          0.9940771424041736,
          0.994787003639487,
          1.0230309272498075,
          1.0023978131295108,
          0.9851108361924888,
          0.9982978311064905,
          1.0046680903814649,
          1.0193405782598575,
          1.0129640942596159,
          0.9911658102063805,
          1.0010236301682418,
          1.0022665336878724,
          0.988163453671244,
          1.0145097186088705,
          1.0055309143930296,
          0.9991248595295433,
          1.02822451771166,
          1.0388140483156294,
          0.9767996982122957,
          1.0050186981932718,
          1.0216406893253565,
          0.9993378993915958,
          1.012323796715845,
          0.9744478713738269,
          0.9788259222883147,
          0.9815946255123557,
          0.9746469111890352,
          1.0030490213417673,
          1.0087265264610803,
          1.0279601264887794,
          1.019197699533382,
          0.9641491265362169,
          1.023566656135925,
          1.002187879938239,
          1.0057809336538555,
          1.0004123889985825,
          0.9996267986696659,
          1.0022125123690282,
          0.9984315936484229,
          0.99941807696698,
          1.014077038189559,
          0.9832325883673365,
          0.97573968669847,
          0.9951042794362065,
          1.0147871573950074,
          0.973583190431981,
          1.0067042317913764,
          1.0279580532309556,
          1.0373472888241222,
          1.0008359324624394,
          1.0227008035003375,
          1.0049299952102204,
          0.9969855926019561,
          1.0123613204413318,
          0.9843852394664427,
          1.0000334540637574,
          1.028396425799777,
          1.0034931359649932,
          1.0084776339253896,
          1.0127947917682845,
          0.9910486664535003,
          1.0019624323062366,
          1.0222399051563407,
          1.0294560945676896,
          1.0313613508799693,
          1.0065736043450595,
          1.0255541918155209,
          1.0162010394693202,
          1.0060912687248356,
          1.0094407646246715,
          1.0079979361923619,
          1.0053511754632296,
          0.9886341032521796,
          0.9732768840660461,
          1.0140921656289006,
          0.9361499146169148,
          1.0117241252625553,
          1.0301228013828494,
          1.0125953598681563,
          1.0072532608408726,
          0.9840694792314892,
          1.024764888542753,
          0.9999589029864695,
          1.0342379309918475,
          0.9994691397331514,
          1.035672168339236,
          1.0263037843474445,
          0.9948000982909748,
          0.995441498649914,
          0.968151701584004,
          1.0096287877468466,
          0.9915780190007302,
          1.0180479249110523,
          1.0208983595922498,
          1.0184252777437743,
          1.016315048035778,
          1.0059875337669384,
          1.006071216109623,
          0.991317278056186,
          1.016620203942989,
          0.9947452739733844,
          1.0195474568376763,
          0.9829473156729988,
          0.9998053661574382,
          0.9882757613116185,
          0.9905974782502844,
          1.0244477349366607,
          0.9652045481403901,
          1.014985242194256,
          1.007056354513893,
          1.0408751345690221,
          1.005900451881127,
          1.0057647194317885,
          1.0820730322414165,
          1.0252154560255595,
          1.0064842941815961,
          0.9792915679692171,
          1.002444197031798,
          0.9836862384566595,
          0.9884061200939033,
          1.0095351791001579,
          0.9639655222394135,
          1.0354445145260447,
          0.9674366340677104,
          0.9783469225230357,
          0.9791767261003897,
          0.9670633469287059,
          1.0305921364784925,
          1.0307544902918384,
          1.0014992847901367,
          1.0149947827388883,
          1.0070906058373816,
          1.028656487133868,
          0.97675568534086,
          1.0251213513383626,
          1.0217683046203894,
          1.0158794217119969,
          0.9766961641845046,
          1.0242980298759776,
          0.9998109580048464,
          0.9943625131949742,
          1.0260162552899514,
          1.0112350525725042,
          0.9993573202050148,
          1.0141208665086379,
          1.0624120364498848,
          0.9942908989393032,
          0.9832423470291327,
          1.0196747570712332,
          1.0099783640294082,
          1.0476775761492094,
          1.0389470950769901,
          1.0039622205197054,
          1.0282546992930028,
          1.0187845054119635,
          1.0169229357241583,
          1.0240580521875482,
          1.0131163836565684,
          0.9866890156516357,
          0.9841788817694923,
          1.022578627465014,
          1.0232673613808518,
          0.992755315565791,
          0.9612816367008775,
          1.005853050577714,
          1.0226740907146974,
          0.9708584665054759,
          0.9900827990774652,
          1.0090207778701443,
          0.9852876302737115,
          1.0121432304049371,
          1.0107661752852026,
          1.010392981228033,
          1.0045666550800119,
          1.0097479434241334,
          0.9886724231843719,
          1.0032699303502437,
          0.9963626779403666,
          1.0083732141479804,
          1.0089991979097146,
          0.9916252426823069,
          0.9972563389714453,
          1.0122147836958948,
          1.0042248269383556,
          0.9930566613856754,
          0.9836815579164551,
          1.039281258116077,
          1.0563670819226074,
          1.0695033929444235,
          1.0705356718303218,
          1.0019174152259132,
          1.0328090314956118,
          1.0228773655200543,
          1.028556472221694,
          1.0295701726445687,
          1.013209607356663,
          1.012860770663984,
          1.003986325949922,
          1.0121832690350423,
          1.0011307156306988,
          0.9895992109008563,
          1.006546170372062,
          1.036867504034231,
          1.0168053637098151,
          1.0193831701029272,
          1.028683141453888,
          1.020928474513188,
          0.9806973618337722,
          1.0321141873596984,
          1.0138630153257717,
          1.054806010398726,
          0.9884209618631666,
          1.0055187821140894,
          1.0071532699516663,
          1.0157279766243235,
          0.9752115386700456,
          1.0431391251291833,
          0.9671321672801091,
          0.9833473734059962
         ],
         "xaxis": "x",
         "yaxis": "y"
        }
       ],
       "layout": {
        "barmode": "relative",
        "legend": {
         "tracegroupgap": 0
        },
        "template": {
         "data": {
          "bar": [
           {
            "error_x": {
             "color": "rgb(36,36,36)"
            },
            "error_y": {
             "color": "rgb(36,36,36)"
            },
            "marker": {
             "line": {
              "color": "white",
              "width": 0.5
             }
            },
            "type": "bar"
           }
          ],
          "barpolar": [
           {
            "marker": {
             "line": {
              "color": "white",
              "width": 0.5
             }
            },
            "type": "barpolar"
           }
          ],
          "carpet": [
           {
            "aaxis": {
             "endlinecolor": "rgb(36,36,36)",
             "gridcolor": "white",
             "linecolor": "white",
             "minorgridcolor": "white",
             "startlinecolor": "rgb(36,36,36)"
            },
            "baxis": {
             "endlinecolor": "rgb(36,36,36)",
             "gridcolor": "white",
             "linecolor": "white",
             "minorgridcolor": "white",
             "startlinecolor": "rgb(36,36,36)"
            },
            "type": "carpet"
           }
          ],
          "choropleth": [
           {
            "colorbar": {
             "outlinewidth": 1,
             "tickcolor": "rgb(36,36,36)",
             "ticks": "outside"
            },
            "type": "choropleth"
           }
          ],
          "contour": [
           {
            "colorbar": {
             "outlinewidth": 1,
             "tickcolor": "rgb(36,36,36)",
             "ticks": "outside"
            },
            "colorscale": [
             [
              0,
              "#440154"
             ],
             [
              0.1111111111111111,
              "#482878"
             ],
             [
              0.2222222222222222,
              "#3e4989"
             ],
             [
              0.3333333333333333,
              "#31688e"
             ],
             [
              0.4444444444444444,
              "#26828e"
             ],
             [
              0.5555555555555556,
              "#1f9e89"
             ],
             [
              0.6666666666666666,
              "#35b779"
             ],
             [
              0.7777777777777778,
              "#6ece58"
             ],
             [
              0.8888888888888888,
              "#b5de2b"
             ],
             [
              1,
              "#fde725"
             ]
            ],
            "type": "contour"
           }
          ],
          "contourcarpet": [
           {
            "colorbar": {
             "outlinewidth": 1,
             "tickcolor": "rgb(36,36,36)",
             "ticks": "outside"
            },
            "type": "contourcarpet"
           }
          ],
          "heatmap": [
           {
            "colorbar": {
             "outlinewidth": 1,
             "tickcolor": "rgb(36,36,36)",
             "ticks": "outside"
            },
            "colorscale": [
             [
              0,
              "#440154"
             ],
             [
              0.1111111111111111,
              "#482878"
             ],
             [
              0.2222222222222222,
              "#3e4989"
             ],
             [
              0.3333333333333333,
              "#31688e"
             ],
             [
              0.4444444444444444,
              "#26828e"
             ],
             [
              0.5555555555555556,
              "#1f9e89"
             ],
             [
              0.6666666666666666,
              "#35b779"
             ],
             [
              0.7777777777777778,
              "#6ece58"
             ],
             [
              0.8888888888888888,
              "#b5de2b"
             ],
             [
              1,
              "#fde725"
             ]
            ],
            "type": "heatmap"
           }
          ],
          "heatmapgl": [
           {
            "colorbar": {
             "outlinewidth": 1,
             "tickcolor": "rgb(36,36,36)",
             "ticks": "outside"
            },
            "colorscale": [
             [
              0,
              "#440154"
             ],
             [
              0.1111111111111111,
              "#482878"
             ],
             [
              0.2222222222222222,
              "#3e4989"
             ],
             [
              0.3333333333333333,
              "#31688e"
             ],
             [
              0.4444444444444444,
              "#26828e"
             ],
             [
              0.5555555555555556,
              "#1f9e89"
             ],
             [
              0.6666666666666666,
              "#35b779"
             ],
             [
              0.7777777777777778,
              "#6ece58"
             ],
             [
              0.8888888888888888,
              "#b5de2b"
             ],
             [
              1,
              "#fde725"
             ]
            ],
            "type": "heatmapgl"
           }
          ],
          "histogram": [
           {
            "marker": {
             "line": {
              "color": "white",
              "width": 0.6
             }
            },
            "type": "histogram"
           }
          ],
          "histogram2d": [
           {
            "colorbar": {
             "outlinewidth": 1,
             "tickcolor": "rgb(36,36,36)",
             "ticks": "outside"
            },
            "colorscale": [
             [
              0,
              "#440154"
             ],
             [
              0.1111111111111111,
              "#482878"
             ],
             [
              0.2222222222222222,
              "#3e4989"
             ],
             [
              0.3333333333333333,
              "#31688e"
             ],
             [
              0.4444444444444444,
              "#26828e"
             ],
             [
              0.5555555555555556,
              "#1f9e89"
             ],
             [
              0.6666666666666666,
              "#35b779"
             ],
             [
              0.7777777777777778,
              "#6ece58"
             ],
             [
              0.8888888888888888,
              "#b5de2b"
             ],
             [
              1,
              "#fde725"
             ]
            ],
            "type": "histogram2d"
           }
          ],
          "histogram2dcontour": [
           {
            "colorbar": {
             "outlinewidth": 1,
             "tickcolor": "rgb(36,36,36)",
             "ticks": "outside"
            },
            "colorscale": [
             [
              0,
              "#440154"
             ],
             [
              0.1111111111111111,
              "#482878"
             ],
             [
              0.2222222222222222,
              "#3e4989"
             ],
             [
              0.3333333333333333,
              "#31688e"
             ],
             [
              0.4444444444444444,
              "#26828e"
             ],
             [
              0.5555555555555556,
              "#1f9e89"
             ],
             [
              0.6666666666666666,
              "#35b779"
             ],
             [
              0.7777777777777778,
              "#6ece58"
             ],
             [
              0.8888888888888888,
              "#b5de2b"
             ],
             [
              1,
              "#fde725"
             ]
            ],
            "type": "histogram2dcontour"
           }
          ],
          "mesh3d": [
           {
            "colorbar": {
             "outlinewidth": 1,
             "tickcolor": "rgb(36,36,36)",
             "ticks": "outside"
            },
            "type": "mesh3d"
           }
          ],
          "parcoords": [
           {
            "line": {
             "colorbar": {
              "outlinewidth": 1,
              "tickcolor": "rgb(36,36,36)",
              "ticks": "outside"
             }
            },
            "type": "parcoords"
           }
          ],
          "pie": [
           {
            "automargin": true,
            "type": "pie"
           }
          ],
          "scatter": [
           {
            "marker": {
             "colorbar": {
              "outlinewidth": 1,
              "tickcolor": "rgb(36,36,36)",
              "ticks": "outside"
             }
            },
            "type": "scatter"
           }
          ],
          "scatter3d": [
           {
            "line": {
             "colorbar": {
              "outlinewidth": 1,
              "tickcolor": "rgb(36,36,36)",
              "ticks": "outside"
             }
            },
            "marker": {
             "colorbar": {
              "outlinewidth": 1,
              "tickcolor": "rgb(36,36,36)",
              "ticks": "outside"
             }
            },
            "type": "scatter3d"
           }
          ],
          "scattercarpet": [
           {
            "marker": {
             "colorbar": {
              "outlinewidth": 1,
              "tickcolor": "rgb(36,36,36)",
              "ticks": "outside"
             }
            },
            "type": "scattercarpet"
           }
          ],
          "scattergeo": [
           {
            "marker": {
             "colorbar": {
              "outlinewidth": 1,
              "tickcolor": "rgb(36,36,36)",
              "ticks": "outside"
             }
            },
            "type": "scattergeo"
           }
          ],
          "scattergl": [
           {
            "marker": {
             "colorbar": {
              "outlinewidth": 1,
              "tickcolor": "rgb(36,36,36)",
              "ticks": "outside"
             }
            },
            "type": "scattergl"
           }
          ],
          "scattermapbox": [
           {
            "marker": {
             "colorbar": {
              "outlinewidth": 1,
              "tickcolor": "rgb(36,36,36)",
              "ticks": "outside"
             }
            },
            "type": "scattermapbox"
           }
          ],
          "scatterpolar": [
           {
            "marker": {
             "colorbar": {
              "outlinewidth": 1,
              "tickcolor": "rgb(36,36,36)",
              "ticks": "outside"
             }
            },
            "type": "scatterpolar"
           }
          ],
          "scatterpolargl": [
           {
            "marker": {
             "colorbar": {
              "outlinewidth": 1,
              "tickcolor": "rgb(36,36,36)",
              "ticks": "outside"
             }
            },
            "type": "scatterpolargl"
           }
          ],
          "scatterternary": [
           {
            "marker": {
             "colorbar": {
              "outlinewidth": 1,
              "tickcolor": "rgb(36,36,36)",
              "ticks": "outside"
             }
            },
            "type": "scatterternary"
           }
          ],
          "surface": [
           {
            "colorbar": {
             "outlinewidth": 1,
             "tickcolor": "rgb(36,36,36)",
             "ticks": "outside"
            },
            "colorscale": [
             [
              0,
              "#440154"
             ],
             [
              0.1111111111111111,
              "#482878"
             ],
             [
              0.2222222222222222,
              "#3e4989"
             ],
             [
              0.3333333333333333,
              "#31688e"
             ],
             [
              0.4444444444444444,
              "#26828e"
             ],
             [
              0.5555555555555556,
              "#1f9e89"
             ],
             [
              0.6666666666666666,
              "#35b779"
             ],
             [
              0.7777777777777778,
              "#6ece58"
             ],
             [
              0.8888888888888888,
              "#b5de2b"
             ],
             [
              1,
              "#fde725"
             ]
            ],
            "type": "surface"
           }
          ],
          "table": [
           {
            "cells": {
             "fill": {
              "color": "rgb(237,237,237)"
             },
             "line": {
              "color": "white"
             }
            },
            "header": {
             "fill": {
              "color": "rgb(217,217,217)"
             },
             "line": {
              "color": "white"
             }
            },
            "type": "table"
           }
          ]
         },
         "layout": {
          "annotationdefaults": {
           "arrowhead": 0,
           "arrowwidth": 1
          },
          "autotypenumbers": "strict",
          "coloraxis": {
           "colorbar": {
            "outlinewidth": 1,
            "tickcolor": "rgb(36,36,36)",
            "ticks": "outside"
           }
          },
          "colorscale": {
           "diverging": [
            [
             0,
             "rgb(103,0,31)"
            ],
            [
             0.1,
             "rgb(178,24,43)"
            ],
            [
             0.2,
             "rgb(214,96,77)"
            ],
            [
             0.3,
             "rgb(244,165,130)"
            ],
            [
             0.4,
             "rgb(253,219,199)"
            ],
            [
             0.5,
             "rgb(247,247,247)"
            ],
            [
             0.6,
             "rgb(209,229,240)"
            ],
            [
             0.7,
             "rgb(146,197,222)"
            ],
            [
             0.8,
             "rgb(67,147,195)"
            ],
            [
             0.9,
             "rgb(33,102,172)"
            ],
            [
             1,
             "rgb(5,48,97)"
            ]
           ],
           "sequential": [
            [
             0,
             "#440154"
            ],
            [
             0.1111111111111111,
             "#482878"
            ],
            [
             0.2222222222222222,
             "#3e4989"
            ],
            [
             0.3333333333333333,
             "#31688e"
            ],
            [
             0.4444444444444444,
             "#26828e"
            ],
            [
             0.5555555555555556,
             "#1f9e89"
            ],
            [
             0.6666666666666666,
             "#35b779"
            ],
            [
             0.7777777777777778,
             "#6ece58"
            ],
            [
             0.8888888888888888,
             "#b5de2b"
            ],
            [
             1,
             "#fde725"
            ]
           ],
           "sequentialminus": [
            [
             0,
             "#440154"
            ],
            [
             0.1111111111111111,
             "#482878"
            ],
            [
             0.2222222222222222,
             "#3e4989"
            ],
            [
             0.3333333333333333,
             "#31688e"
            ],
            [
             0.4444444444444444,
             "#26828e"
            ],
            [
             0.5555555555555556,
             "#1f9e89"
            ],
            [
             0.6666666666666666,
             "#35b779"
            ],
            [
             0.7777777777777778,
             "#6ece58"
            ],
            [
             0.8888888888888888,
             "#b5de2b"
            ],
            [
             1,
             "#fde725"
            ]
           ]
          },
          "colorway": [
           "#1F77B4",
           "#FF7F0E",
           "#2CA02C",
           "#D62728",
           "#9467BD",
           "#8C564B",
           "#E377C2",
           "#7F7F7F",
           "#BCBD22",
           "#17BECF"
          ],
          "font": {
           "color": "rgb(36,36,36)"
          },
          "geo": {
           "bgcolor": "white",
           "lakecolor": "white",
           "landcolor": "white",
           "showlakes": true,
           "showland": true,
           "subunitcolor": "white"
          },
          "hoverlabel": {
           "align": "left"
          },
          "hovermode": "closest",
          "mapbox": {
           "style": "light"
          },
          "paper_bgcolor": "white",
          "plot_bgcolor": "white",
          "polar": {
           "angularaxis": {
            "gridcolor": "rgb(232,232,232)",
            "linecolor": "rgb(36,36,36)",
            "showgrid": false,
            "showline": true,
            "ticks": "outside"
           },
           "bgcolor": "white",
           "radialaxis": {
            "gridcolor": "rgb(232,232,232)",
            "linecolor": "rgb(36,36,36)",
            "showgrid": false,
            "showline": true,
            "ticks": "outside"
           }
          },
          "scene": {
           "xaxis": {
            "backgroundcolor": "white",
            "gridcolor": "rgb(232,232,232)",
            "gridwidth": 2,
            "linecolor": "rgb(36,36,36)",
            "showbackground": true,
            "showgrid": false,
            "showline": true,
            "ticks": "outside",
            "zeroline": false,
            "zerolinecolor": "rgb(36,36,36)"
           },
           "yaxis": {
            "backgroundcolor": "white",
            "gridcolor": "rgb(232,232,232)",
            "gridwidth": 2,
            "linecolor": "rgb(36,36,36)",
            "showbackground": true,
            "showgrid": false,
            "showline": true,
            "ticks": "outside",
            "zeroline": false,
            "zerolinecolor": "rgb(36,36,36)"
           },
           "zaxis": {
            "backgroundcolor": "white",
            "gridcolor": "rgb(232,232,232)",
            "gridwidth": 2,
            "linecolor": "rgb(36,36,36)",
            "showbackground": true,
            "showgrid": false,
            "showline": true,
            "ticks": "outside",
            "zeroline": false,
            "zerolinecolor": "rgb(36,36,36)"
           }
          },
          "shapedefaults": {
           "fillcolor": "black",
           "line": {
            "width": 0
           },
           "opacity": 0.3
          },
          "ternary": {
           "aaxis": {
            "gridcolor": "rgb(232,232,232)",
            "linecolor": "rgb(36,36,36)",
            "showgrid": false,
            "showline": true,
            "ticks": "outside"
           },
           "baxis": {
            "gridcolor": "rgb(232,232,232)",
            "linecolor": "rgb(36,36,36)",
            "showgrid": false,
            "showline": true,
            "ticks": "outside"
           },
           "bgcolor": "white",
           "caxis": {
            "gridcolor": "rgb(232,232,232)",
            "linecolor": "rgb(36,36,36)",
            "showgrid": false,
            "showline": true,
            "ticks": "outside"
           }
          },
          "title": {
           "x": 0.05
          },
          "xaxis": {
           "automargin": true,
           "gridcolor": "rgb(232,232,232)",
           "linecolor": "rgb(36,36,36)",
           "showgrid": false,
           "showline": true,
           "ticks": "outside",
           "title": {
            "standoff": 15
           },
           "zeroline": false,
           "zerolinecolor": "rgb(36,36,36)"
          },
          "yaxis": {
           "automargin": true,
           "gridcolor": "rgb(232,232,232)",
           "linecolor": "rgb(36,36,36)",
           "showgrid": false,
           "showline": true,
           "ticks": "outside",
           "title": {
            "standoff": 15
           },
           "zeroline": false,
           "zerolinecolor": "rgb(36,36,36)"
          }
         }
        },
        "title": {
         "text": "BSP overounds Distribution"
        },
        "xaxis": {
         "anchor": "y",
         "domain": [
          0,
          1
         ],
         "title": {
          "text": "market_prob"
         }
        },
        "yaxis": {
         "anchor": "x",
         "domain": [
          0,
          1
         ],
         "title": {
          "text": "count"
         }
        }
       }
      },
      "text/html": [
       "<div>                            <div id=\"e2e1cec7-c3b7-4364-a272-ec12a19f18dc\" class=\"plotly-graph-div\" style=\"height:525px; width:100%;\"></div>            <script type=\"text/javascript\">                require([\"plotly\"], function(Plotly) {                    window.PLOTLYENV=window.PLOTLYENV || {};                                    if (document.getElementById(\"e2e1cec7-c3b7-4364-a272-ec12a19f18dc\")) {                    Plotly.newPlot(                        \"e2e1cec7-c3b7-4364-a272-ec12a19f18dc\",                        [{\"alignmentgroup\": \"True\", \"bingroup\": \"x\", \"hovertemplate\": \"market_prob=%{x}<br>count=%{y}<extra></extra>\", \"legendgroup\": \"\", \"marker\": {\"color\": \"#1F77B4\"}, \"name\": \"\", \"offsetgroup\": \"\", \"orientation\": \"v\", \"showlegend\": false, \"type\": \"histogram\", \"x\": [0.9793484051732735, 0.9990278458551276, 0.994354214722352, 0.9865498258590223, 1.0148660932173688, 1.0242615778410429, 1.0034331788694566, 1.0011801967272809, 1.0236784531255323, 1.012188454668965, 1.01148754795437, 0.9867592902307346, 1.0022778659943994, 0.9998541489165989, 0.9808289623763919, 0.9815527223104399, 1.008014948806889, 0.9997743488955566, 0.9944919765838119, 1.009253079925804, 1.0007199408822136, 1.0094833713561828, 1.0502593177069681, 1.0076188854780102, 0.9698912402349964, 0.9974073298153305, 1.0165347334539228, 1.0288388673308333, 0.9808231167583956, 1.01876073995095, 1.005526724298902, 0.979531382325547, 1.0125115839877215, 1.0180308136638614, 0.9844236689475652, 0.9930743761916249, 0.9799068535119031, 0.9873782996776478, 1.005094808899904, 0.9783578170950838, 1.0334144135506704, 1.0280626753516395, 1.037325509709456, 1.0034870478958775, 0.993180094654782, 1.0716983172064665, 0.9862988877331683, 0.9991813273173744, 0.9929369027676976, 1.0389040736862087, 1.004995044934721, 1.0540031175625089, 1.0130946646093615, 1.008860647654413, 0.9979794842955279, 0.9908140454614377, 0.999120853155647, 1.0156358586598406, 1.0106757492404146, 1.021617921319378, 1.0055812977667176, 1.0396497418908397, 1.0075486571903858, 0.9782669161118901, 0.941490836324401, 1.0071288235898028, 1.0206830934013813, 0.9779871917648537, 0.9984039465598079, 1.0160217035092045, 0.9889328883222596, 1.007454059214108, 1.0094167565685213, 0.9737047846378546, 0.9986817905424596, 0.9805329306775954, 0.9863183284721717, 1.072125663059734, 1.0440459091595944, 0.9983307456329567, 0.987954215864735, 0.9976071397427881, 0.9868928614408079, 0.9930953935066797, 1.0132126271943118, 0.9893448801060535, 0.990994160228357, 0.977843289294906, 1.0139613372396432, 0.9556728348176238, 1.034071867444062, 0.9336077723739928, 1.0220890490499155, 0.9863357822365305, 1.017427367602409, 0.9815520110588404, 1.0099872266788457, 0.9942278755664601, 1.0261316915156713, 0.958374849552832, 1.021857086615707, 0.9592479081932678, 0.9904166125194455, 1.0149281571467177, 0.9854432486239458, 1.0170418772215506, 0.9949402418925672, 0.9822325862983712, 1.0297485311297399, 1.008805054766055, 1.0258006586625728, 1.021429039813322, 1.0036076789597144, 1.0170953925145572, 0.9933161569353834, 1.039309281324949, 1.0048546777965681, 1.0135645411438394, 1.0020654600556025, 0.9873402688342684, 1.0431214854447994, 1.0278697434951563, 1.0032470143511436, 1.0123089701350863, 1.0057492488016615, 0.995090311248862, 1.0170196397883882, 0.9840242288180293, 1.0224173167634758, 1.0417805240366504, 1.0376939029803331, 1.011304411888406, 1.0334310244097322, 1.0405515810434505, 1.0143905248155702, 1.0283290480950749, 1.0253584830074383, 0.9953676839244924, 1.0000085875584641, 1.0270841553707126, 0.9861747099799953, 1.0029209058471675, 0.9800156572389717, 1.0098970376383527, 0.998949446021793, 0.9685929645347339, 1.0002853849119364, 1.0220297767631397, 1.0094419194491833, 1.0055673838451495, 1.0393704047132462, 1.0226588457585983, 1.0512830059830172, 1.0369732056334724, 1.0204027605699961, 0.9655618455587995, 0.9543334542625906, 0.9807702787043205, 0.9903887348529494, 0.9874071982194962, 0.9452621364114747, 0.9958446143356907, 1.0075179348419996, 1.04226286835866, 0.9775655107494265, 0.9838275101201632, 0.9838206015704108, 1.011304176908214, 1.0437037221640206, 1.0183003243426199, 0.9897512980000114, 1.0125467674317359, 1.0027842876131106, 0.9992490207027437, 1.0098496901173777, 0.9838129735903804, 0.9897008138272048, 1.0148634485464343, 0.883757529769715, 0.9951621662625735, 1.0576628740610907, 0.9597904963232731, 0.988503063922073, 1.0308690762622004, 0.9930577576215249, 1.012385157700872, 0.9818190642754928, 1.0049811308423942, 1.0014412394874936, 0.9931949729064208, 0.991257135189713, 1.0062452750144022, 1.0062245207110836, 1.0072236962807257, 0.9964308587229644, 1.0062184517654869, 1.001414070428254, 0.9944777391523851, 1.0010662780996975, 0.9849552609259595, 1.0086673912703856, 1.0315992731172112, 0.9896348337948591, 0.9821088683540973, 0.9947883427707274, 0.9948499259248857, 1.0094945229780945, 0.9939712270316029, 0.9883878848647007, 0.9447712403054203, 1.0023351131431533, 1.0003247903840418, 0.9850903800210484, 1.0255990304671678, 0.9951388023178114, 1.0119517976991497, 1.0093951738073903, 0.987425843856354, 0.9827344219673283, 0.9779903828501186, 1.0051091851725709, 1.0117132544794034, 1.0169999949151811, 1.0009373016936305, 1.0055280045520165, 0.9871945921107836, 0.99572653044751, 0.9958848204930547, 0.9608066422106117, 1.0285488032669998, 1.0045127535601495, 1.0239695590750117, 0.9910582118551544, 0.988237256808677, 1.0108849632772956, 1.041093244446308, 0.99775081843373, 1.003580632454812, 1.0098425676986984, 1.0080779296646665, 1.0105931936142725, 1.0287357323117936, 0.9872795237394583, 1.0252004018888652, 0.9999183238882954, 0.9858229922660148, 0.9723852703534457, 0.97367817675084, 0.9825197587641674, 0.9940771424041736, 0.994787003639487, 1.0230309272498075, 1.0023978131295108, 0.9851108361924888, 0.9982978311064905, 1.0046680903814649, 1.0193405782598575, 1.0129640942596159, 0.9911658102063805, 1.0010236301682418, 1.0022665336878724, 0.988163453671244, 1.0145097186088705, 1.0055309143930296, 0.9991248595295433, 1.02822451771166, 1.0388140483156294, 0.9767996982122957, 1.0050186981932718, 1.0216406893253565, 0.9993378993915958, 1.012323796715845, 0.9744478713738269, 0.9788259222883147, 0.9815946255123557, 0.9746469111890352, 1.0030490213417673, 1.0087265264610803, 1.0279601264887794, 1.019197699533382, 0.9641491265362169, 1.023566656135925, 1.002187879938239, 1.0057809336538555, 1.0004123889985825, 0.9996267986696659, 1.0022125123690282, 0.9984315936484229, 0.99941807696698, 1.014077038189559, 0.9832325883673365, 0.97573968669847, 0.9951042794362065, 1.0147871573950074, 0.973583190431981, 1.0067042317913764, 1.0279580532309556, 1.0373472888241222, 1.0008359324624394, 1.0227008035003375, 1.0049299952102204, 0.9969855926019561, 1.0123613204413318, 0.9843852394664427, 1.0000334540637574, 1.028396425799777, 1.0034931359649932, 1.0084776339253896, 1.0127947917682845, 0.9910486664535003, 1.0019624323062366, 1.0222399051563407, 1.0294560945676896, 1.0313613508799693, 1.0065736043450595, 1.0255541918155209, 1.0162010394693202, 1.0060912687248356, 1.0094407646246715, 1.0079979361923619, 1.0053511754632296, 0.9886341032521796, 0.9732768840660461, 1.0140921656289006, 0.9361499146169148, 1.0117241252625553, 1.0301228013828494, 1.0125953598681563, 1.0072532608408726, 0.9840694792314892, 1.024764888542753, 0.9999589029864695, 1.0342379309918475, 0.9994691397331514, 1.035672168339236, 1.0263037843474445, 0.9948000982909748, 0.995441498649914, 0.968151701584004, 1.0096287877468466, 0.9915780190007302, 1.0180479249110523, 1.0208983595922498, 1.0184252777437743, 1.016315048035778, 1.0059875337669384, 1.006071216109623, 0.991317278056186, 1.016620203942989, 0.9947452739733844, 1.0195474568376763, 0.9829473156729988, 0.9998053661574382, 0.9882757613116185, 0.9905974782502844, 1.0244477349366607, 0.9652045481403901, 1.014985242194256, 1.007056354513893, 1.0408751345690221, 1.005900451881127, 1.0057647194317885, 1.0820730322414165, 1.0252154560255595, 1.0064842941815961, 0.9792915679692171, 1.002444197031798, 0.9836862384566595, 0.9884061200939033, 1.0095351791001579, 0.9639655222394135, 1.0354445145260447, 0.9674366340677104, 0.9783469225230357, 0.9791767261003897, 0.9670633469287059, 1.0305921364784925, 1.0307544902918384, 1.0014992847901367, 1.0149947827388883, 1.0070906058373816, 1.028656487133868, 0.97675568534086, 1.0251213513383626, 1.0217683046203894, 1.0158794217119969, 0.9766961641845046, 1.0242980298759776, 0.9998109580048464, 0.9943625131949742, 1.0260162552899514, 1.0112350525725042, 0.9993573202050148, 1.0141208665086379, 1.0624120364498848, 0.9942908989393032, 0.9832423470291327, 1.0196747570712332, 1.0099783640294082, 1.0476775761492094, 1.0389470950769901, 1.0039622205197054, 1.0282546992930028, 1.0187845054119635, 1.0169229357241583, 1.0240580521875482, 1.0131163836565684, 0.9866890156516357, 0.9841788817694923, 1.022578627465014, 1.0232673613808518, 0.992755315565791, 0.9612816367008775, 1.005853050577714, 1.0226740907146974, 0.9708584665054759, 0.9900827990774652, 1.0090207778701443, 0.9852876302737115, 1.0121432304049371, 1.0107661752852026, 1.010392981228033, 1.0045666550800119, 1.0097479434241334, 0.9886724231843719, 1.0032699303502437, 0.9963626779403666, 1.0083732141479804, 1.0089991979097146, 0.9916252426823069, 0.9972563389714453, 1.0122147836958948, 1.0042248269383556, 0.9930566613856754, 0.9836815579164551, 1.039281258116077, 1.0563670819226074, 1.0695033929444235, 1.0705356718303218, 1.0019174152259132, 1.0328090314956118, 1.0228773655200543, 1.028556472221694, 1.0295701726445687, 1.013209607356663, 1.012860770663984, 1.003986325949922, 1.0121832690350423, 1.0011307156306988, 0.9895992109008563, 1.006546170372062, 1.036867504034231, 1.0168053637098151, 1.0193831701029272, 1.028683141453888, 1.020928474513188, 0.9806973618337722, 1.0321141873596984, 1.0138630153257717, 1.054806010398726, 0.9884209618631666, 1.0055187821140894, 1.0071532699516663, 1.0157279766243235, 0.9752115386700456, 1.0431391251291833, 0.9671321672801091, 0.9833473734059962], \"xaxis\": \"x\", \"yaxis\": \"y\"}],                        {\"barmode\": \"relative\", \"legend\": {\"tracegroupgap\": 0}, \"template\": {\"data\": {\"bar\": [{\"error_x\": {\"color\": \"rgb(36,36,36)\"}, \"error_y\": {\"color\": \"rgb(36,36,36)\"}, \"marker\": {\"line\": {\"color\": \"white\", \"width\": 0.5}}, \"type\": \"bar\"}], \"barpolar\": [{\"marker\": {\"line\": {\"color\": \"white\", \"width\": 0.5}}, \"type\": \"barpolar\"}], \"carpet\": [{\"aaxis\": {\"endlinecolor\": \"rgb(36,36,36)\", \"gridcolor\": \"white\", \"linecolor\": \"white\", \"minorgridcolor\": \"white\", \"startlinecolor\": \"rgb(36,36,36)\"}, \"baxis\": {\"endlinecolor\": \"rgb(36,36,36)\", \"gridcolor\": \"white\", \"linecolor\": \"white\", \"minorgridcolor\": \"white\", \"startlinecolor\": \"rgb(36,36,36)\"}, \"type\": \"carpet\"}], \"choropleth\": [{\"colorbar\": {\"outlinewidth\": 1, \"tickcolor\": \"rgb(36,36,36)\", \"ticks\": \"outside\"}, \"type\": \"choropleth\"}], \"contour\": [{\"colorbar\": {\"outlinewidth\": 1, \"tickcolor\": \"rgb(36,36,36)\", \"ticks\": \"outside\"}, \"colorscale\": [[0.0, \"#440154\"], [0.1111111111111111, \"#482878\"], [0.2222222222222222, \"#3e4989\"], [0.3333333333333333, \"#31688e\"], [0.4444444444444444, \"#26828e\"], [0.5555555555555556, \"#1f9e89\"], [0.6666666666666666, \"#35b779\"], [0.7777777777777778, \"#6ece58\"], [0.8888888888888888, \"#b5de2b\"], [1.0, \"#fde725\"]], \"type\": \"contour\"}], \"contourcarpet\": [{\"colorbar\": {\"outlinewidth\": 1, \"tickcolor\": \"rgb(36,36,36)\", \"ticks\": \"outside\"}, \"type\": \"contourcarpet\"}], \"heatmap\": [{\"colorbar\": {\"outlinewidth\": 1, \"tickcolor\": \"rgb(36,36,36)\", \"ticks\": \"outside\"}, \"colorscale\": [[0.0, \"#440154\"], [0.1111111111111111, \"#482878\"], [0.2222222222222222, \"#3e4989\"], [0.3333333333333333, \"#31688e\"], [0.4444444444444444, \"#26828e\"], [0.5555555555555556, \"#1f9e89\"], [0.6666666666666666, \"#35b779\"], [0.7777777777777778, \"#6ece58\"], [0.8888888888888888, \"#b5de2b\"], [1.0, \"#fde725\"]], \"type\": \"heatmap\"}], \"heatmapgl\": [{\"colorbar\": {\"outlinewidth\": 1, \"tickcolor\": \"rgb(36,36,36)\", \"ticks\": \"outside\"}, \"colorscale\": [[0.0, \"#440154\"], [0.1111111111111111, \"#482878\"], [0.2222222222222222, \"#3e4989\"], [0.3333333333333333, \"#31688e\"], [0.4444444444444444, \"#26828e\"], [0.5555555555555556, \"#1f9e89\"], [0.6666666666666666, \"#35b779\"], [0.7777777777777778, \"#6ece58\"], [0.8888888888888888, \"#b5de2b\"], [1.0, \"#fde725\"]], \"type\": \"heatmapgl\"}], \"histogram\": [{\"marker\": {\"line\": {\"color\": \"white\", \"width\": 0.6}}, \"type\": \"histogram\"}], \"histogram2d\": [{\"colorbar\": {\"outlinewidth\": 1, \"tickcolor\": \"rgb(36,36,36)\", \"ticks\": \"outside\"}, \"colorscale\": [[0.0, \"#440154\"], [0.1111111111111111, \"#482878\"], [0.2222222222222222, \"#3e4989\"], [0.3333333333333333, \"#31688e\"], [0.4444444444444444, \"#26828e\"], [0.5555555555555556, \"#1f9e89\"], [0.6666666666666666, \"#35b779\"], [0.7777777777777778, \"#6ece58\"], [0.8888888888888888, \"#b5de2b\"], [1.0, \"#fde725\"]], \"type\": \"histogram2d\"}], \"histogram2dcontour\": [{\"colorbar\": {\"outlinewidth\": 1, \"tickcolor\": \"rgb(36,36,36)\", \"ticks\": \"outside\"}, \"colorscale\": [[0.0, \"#440154\"], [0.1111111111111111, \"#482878\"], [0.2222222222222222, \"#3e4989\"], [0.3333333333333333, \"#31688e\"], [0.4444444444444444, \"#26828e\"], [0.5555555555555556, \"#1f9e89\"], [0.6666666666666666, \"#35b779\"], [0.7777777777777778, \"#6ece58\"], [0.8888888888888888, \"#b5de2b\"], [1.0, \"#fde725\"]], \"type\": \"histogram2dcontour\"}], \"mesh3d\": [{\"colorbar\": {\"outlinewidth\": 1, \"tickcolor\": \"rgb(36,36,36)\", \"ticks\": \"outside\"}, \"type\": \"mesh3d\"}], \"parcoords\": [{\"line\": {\"colorbar\": {\"outlinewidth\": 1, \"tickcolor\": \"rgb(36,36,36)\", \"ticks\": \"outside\"}}, \"type\": \"parcoords\"}], \"pie\": [{\"automargin\": true, \"type\": \"pie\"}], \"scatter\": [{\"marker\": {\"colorbar\": {\"outlinewidth\": 1, \"tickcolor\": \"rgb(36,36,36)\", \"ticks\": \"outside\"}}, \"type\": \"scatter\"}], \"scatter3d\": [{\"line\": {\"colorbar\": {\"outlinewidth\": 1, \"tickcolor\": \"rgb(36,36,36)\", \"ticks\": \"outside\"}}, \"marker\": {\"colorbar\": {\"outlinewidth\": 1, \"tickcolor\": \"rgb(36,36,36)\", \"ticks\": \"outside\"}}, \"type\": \"scatter3d\"}], \"scattercarpet\": [{\"marker\": {\"colorbar\": {\"outlinewidth\": 1, \"tickcolor\": \"rgb(36,36,36)\", \"ticks\": \"outside\"}}, \"type\": \"scattercarpet\"}], \"scattergeo\": [{\"marker\": {\"colorbar\": {\"outlinewidth\": 1, \"tickcolor\": \"rgb(36,36,36)\", \"ticks\": \"outside\"}}, \"type\": \"scattergeo\"}], \"scattergl\": [{\"marker\": {\"colorbar\": {\"outlinewidth\": 1, \"tickcolor\": \"rgb(36,36,36)\", \"ticks\": \"outside\"}}, \"type\": \"scattergl\"}], \"scattermapbox\": [{\"marker\": {\"colorbar\": {\"outlinewidth\": 1, \"tickcolor\": \"rgb(36,36,36)\", \"ticks\": \"outside\"}}, \"type\": \"scattermapbox\"}], \"scatterpolar\": [{\"marker\": {\"colorbar\": {\"outlinewidth\": 1, \"tickcolor\": \"rgb(36,36,36)\", \"ticks\": \"outside\"}}, \"type\": \"scatterpolar\"}], \"scatterpolargl\": [{\"marker\": {\"colorbar\": {\"outlinewidth\": 1, \"tickcolor\": \"rgb(36,36,36)\", \"ticks\": \"outside\"}}, \"type\": \"scatterpolargl\"}], \"scatterternary\": [{\"marker\": {\"colorbar\": {\"outlinewidth\": 1, \"tickcolor\": \"rgb(36,36,36)\", \"ticks\": \"outside\"}}, \"type\": \"scatterternary\"}], \"surface\": [{\"colorbar\": {\"outlinewidth\": 1, \"tickcolor\": \"rgb(36,36,36)\", \"ticks\": \"outside\"}, \"colorscale\": [[0.0, \"#440154\"], [0.1111111111111111, \"#482878\"], [0.2222222222222222, \"#3e4989\"], [0.3333333333333333, \"#31688e\"], [0.4444444444444444, \"#26828e\"], [0.5555555555555556, \"#1f9e89\"], [0.6666666666666666, \"#35b779\"], [0.7777777777777778, \"#6ece58\"], [0.8888888888888888, \"#b5de2b\"], [1.0, \"#fde725\"]], \"type\": \"surface\"}], \"table\": [{\"cells\": {\"fill\": {\"color\": \"rgb(237,237,237)\"}, \"line\": {\"color\": \"white\"}}, \"header\": {\"fill\": {\"color\": \"rgb(217,217,217)\"}, \"line\": {\"color\": \"white\"}}, \"type\": \"table\"}]}, \"layout\": {\"annotationdefaults\": {\"arrowhead\": 0, \"arrowwidth\": 1}, \"autotypenumbers\": \"strict\", \"coloraxis\": {\"colorbar\": {\"outlinewidth\": 1, \"tickcolor\": \"rgb(36,36,36)\", \"ticks\": \"outside\"}}, \"colorscale\": {\"diverging\": [[0.0, \"rgb(103,0,31)\"], [0.1, \"rgb(178,24,43)\"], [0.2, \"rgb(214,96,77)\"], [0.3, \"rgb(244,165,130)\"], [0.4, \"rgb(253,219,199)\"], [0.5, \"rgb(247,247,247)\"], [0.6, \"rgb(209,229,240)\"], [0.7, \"rgb(146,197,222)\"], [0.8, \"rgb(67,147,195)\"], [0.9, \"rgb(33,102,172)\"], [1.0, \"rgb(5,48,97)\"]], \"sequential\": [[0.0, \"#440154\"], [0.1111111111111111, \"#482878\"], [0.2222222222222222, \"#3e4989\"], [0.3333333333333333, \"#31688e\"], [0.4444444444444444, \"#26828e\"], [0.5555555555555556, \"#1f9e89\"], [0.6666666666666666, \"#35b779\"], [0.7777777777777778, \"#6ece58\"], [0.8888888888888888, \"#b5de2b\"], [1.0, \"#fde725\"]], \"sequentialminus\": [[0.0, \"#440154\"], [0.1111111111111111, \"#482878\"], [0.2222222222222222, \"#3e4989\"], [0.3333333333333333, \"#31688e\"], [0.4444444444444444, \"#26828e\"], [0.5555555555555556, \"#1f9e89\"], [0.6666666666666666, \"#35b779\"], [0.7777777777777778, \"#6ece58\"], [0.8888888888888888, \"#b5de2b\"], [1.0, \"#fde725\"]]}, \"colorway\": [\"#1F77B4\", \"#FF7F0E\", \"#2CA02C\", \"#D62728\", \"#9467BD\", \"#8C564B\", \"#E377C2\", \"#7F7F7F\", \"#BCBD22\", \"#17BECF\"], \"font\": {\"color\": \"rgb(36,36,36)\"}, \"geo\": {\"bgcolor\": \"white\", \"lakecolor\": \"white\", \"landcolor\": \"white\", \"showlakes\": true, \"showland\": true, \"subunitcolor\": \"white\"}, \"hoverlabel\": {\"align\": \"left\"}, \"hovermode\": \"closest\", \"mapbox\": {\"style\": \"light\"}, \"paper_bgcolor\": \"white\", \"plot_bgcolor\": \"white\", \"polar\": {\"angularaxis\": {\"gridcolor\": \"rgb(232,232,232)\", \"linecolor\": \"rgb(36,36,36)\", \"showgrid\": false, \"showline\": true, \"ticks\": \"outside\"}, \"bgcolor\": \"white\", \"radialaxis\": {\"gridcolor\": \"rgb(232,232,232)\", \"linecolor\": \"rgb(36,36,36)\", \"showgrid\": false, \"showline\": true, \"ticks\": \"outside\"}}, \"scene\": {\"xaxis\": {\"backgroundcolor\": \"white\", \"gridcolor\": \"rgb(232,232,232)\", \"gridwidth\": 2, \"linecolor\": \"rgb(36,36,36)\", \"showbackground\": true, \"showgrid\": false, \"showline\": true, \"ticks\": \"outside\", \"zeroline\": false, \"zerolinecolor\": \"rgb(36,36,36)\"}, \"yaxis\": {\"backgroundcolor\": \"white\", \"gridcolor\": \"rgb(232,232,232)\", \"gridwidth\": 2, \"linecolor\": \"rgb(36,36,36)\", \"showbackground\": true, \"showgrid\": false, \"showline\": true, \"ticks\": \"outside\", \"zeroline\": false, \"zerolinecolor\": \"rgb(36,36,36)\"}, \"zaxis\": {\"backgroundcolor\": \"white\", \"gridcolor\": \"rgb(232,232,232)\", \"gridwidth\": 2, \"linecolor\": \"rgb(36,36,36)\", \"showbackground\": true, \"showgrid\": false, \"showline\": true, \"ticks\": \"outside\", \"zeroline\": false, \"zerolinecolor\": \"rgb(36,36,36)\"}}, \"shapedefaults\": {\"fillcolor\": \"black\", \"line\": {\"width\": 0}, \"opacity\": 0.3}, \"ternary\": {\"aaxis\": {\"gridcolor\": \"rgb(232,232,232)\", \"linecolor\": \"rgb(36,36,36)\", \"showgrid\": false, \"showline\": true, \"ticks\": \"outside\"}, \"baxis\": {\"gridcolor\": \"rgb(232,232,232)\", \"linecolor\": \"rgb(36,36,36)\", \"showgrid\": false, \"showline\": true, \"ticks\": \"outside\"}, \"bgcolor\": \"white\", \"caxis\": {\"gridcolor\": \"rgb(232,232,232)\", \"linecolor\": \"rgb(36,36,36)\", \"showgrid\": false, \"showline\": true, \"ticks\": \"outside\"}}, \"title\": {\"x\": 0.05}, \"xaxis\": {\"automargin\": true, \"gridcolor\": \"rgb(232,232,232)\", \"linecolor\": \"rgb(36,36,36)\", \"showgrid\": false, \"showline\": true, \"ticks\": \"outside\", \"title\": {\"standoff\": 15}, \"zeroline\": false, \"zerolinecolor\": \"rgb(36,36,36)\"}, \"yaxis\": {\"automargin\": true, \"gridcolor\": \"rgb(232,232,232)\", \"linecolor\": \"rgb(36,36,36)\", \"showgrid\": false, \"showline\": true, \"ticks\": \"outside\", \"title\": {\"standoff\": 15}, \"zeroline\": false, \"zerolinecolor\": \"rgb(36,36,36)\"}}}, \"title\": {\"text\": \"BSP overounds Distribution\"}, \"xaxis\": {\"anchor\": \"y\", \"domain\": [0.0, 1.0], \"title\": {\"text\": \"market_prob\"}}, \"yaxis\": {\"anchor\": \"x\", \"domain\": [0.0, 1.0], \"title\": {\"text\": \"count\"}}},                        {\"responsive\": true}                    ).then(function(){\n",
       "                            \n",
       "var gd = document.getElementById('e2e1cec7-c3b7-4364-a272-ec12a19f18dc');\n",
       "var x = new MutationObserver(function (mutations, observer) {{\n",
       "        var display = window.getComputedStyle(gd).display;\n",
       "        if (!display || display === 'none') {{\n",
       "            console.log([gd, 'removed!']);\n",
       "            Plotly.purge(gd);\n",
       "            observer.disconnect();\n",
       "        }}\n",
       "}});\n",
       "\n",
       "// Listen for the removal of the full notebook cells\n",
       "var notebookContainer = gd.closest('#notebook-container');\n",
       "if (notebookContainer) {{\n",
       "    x.observe(notebookContainer, {childList: true});\n",
       "}}\n",
       "\n",
       "// Listen for the clearing of the current output cell\n",
       "var outputEl = gd.closest('.output');\n",
       "if (outputEl) {{\n",
       "    x.observe(outputEl, {childList: true});\n",
       "}}\n",
       "\n",
       "                        })                };                });            </script>        </div>"
      ]
     },
     "metadata": {},
     "output_type": "display_data"
    }
   ],
   "source": [
    "overrounds = (\n",
    "        df\n",
    "        .assign(market_prob = lambda x: 1 / x['bsp'])\n",
    "        .groupby(\"market_id\", as_index = False)\n",
    "        .agg({'market_prob':'sum'})   \n",
    ")\n",
    "\n",
    "px.histogram(overrounds, x = 'market_prob', template='simple_white', title = 'BSP overounds Distribution')"
   ]
  },
  {
   "cell_type": "markdown",
   "metadata": {},
   "source": [
    "## Testing Multiple Approaches"
   ]
  },
  {
   "cell_type": "code",
   "execution_count": 97,
   "metadata": {},
   "outputs": [],
   "source": [
    "# We'll test a 2 different staking schemes on 3 different price points\n",
    "backtestGrid = {\n",
    "        \"flat_bsp\": (bet_flat, \"bsp\"),\n",
    "        \"flat_5m\": (bet_flat, \"best_back_5m\"),\n",
    "        \"flat_1m\": (bet_flat, \"best_back_1m\"),\n",
    "        \"kelly_bsp\": (bet_kelly, \"bsp\"),\n",
    "        \"kelly_5m\": (bet_kelly, \"best_back_5m\"),\n",
    "        \"kelly_1m\": (bet_kelly, \"best_back_1m\"),\n",
    "    }"
   ]
  },
  {
   "cell_type": "code",
   "execution_count": 106,
   "metadata": {},
   "outputs": [],
   "source": [
    "backtestGridBets = {}\n",
    "\n",
    "for strategy, objects in backtestGrid.items():\n",
    "  \n",
    "    # Assemble bets based on staking function and odds column\n",
    "    bets = objects[0](df, odds_col = objects[1])\n",
    "    \n",
    "    # Insert into output dictionary\n",
    "    backtestGridBets[strategy] = bets\n",
    "    \n",
    "    "
   ]
  },
  {
   "cell_type": "code",
   "execution_count": 107,
   "metadata": {},
   "outputs": [
    {
     "data": {
      "text/html": [
       "<div>\n",
       "<style scoped>\n",
       "    .dataframe tbody tr th:only-of-type {\n",
       "        vertical-align: middle;\n",
       "    }\n",
       "\n",
       "    .dataframe tbody tr th {\n",
       "        vertical-align: top;\n",
       "    }\n",
       "\n",
       "    .dataframe thead th {\n",
       "        text-align: right;\n",
       "    }\n",
       "</style>\n",
       "<table border=\"1\" class=\"dataframe\">\n",
       "  <thead>\n",
       "    <tr style=\"text-align: right;\">\n",
       "      <th></th>\n",
       "      <th>gpl</th>\n",
       "      <th>stake</th>\n",
       "      <th>pot</th>\n",
       "    </tr>\n",
       "  </thead>\n",
       "  <tbody>\n",
       "    <tr>\n",
       "      <th>0</th>\n",
       "      <td>-4.495253</td>\n",
       "      <td>195.079602</td>\n",
       "      <td>-0.023043</td>\n",
       "    </tr>\n",
       "  </tbody>\n",
       "</table>\n",
       "</div>"
      ],
      "text/plain": [
       "        gpl       stake       pot\n",
       "0 -4.495253  195.079602 -0.023043"
      ]
     },
     "execution_count": 107,
     "metadata": {},
     "output_type": "execute_result"
    }
   ],
   "source": [
    "bet_eval_metrics(backtestGridBets['flat_bsp'])"
   ]
  },
  {
   "cell_type": "code",
   "execution_count": 103,
   "metadata": {},
   "outputs": [
    {
     "name": "stdout",
     "output_type": "stream",
     "text": [
      "         gpl      stake       pot\n",
      "0  60.422185  38.464903  1.570839\n",
      "         gpl      stake       pot\n",
      "0  60.422185  38.464903  1.570839\n",
      "         gpl      stake       pot\n",
      "0  60.422185  38.464903  1.570839\n",
      "         gpl      stake       pot\n",
      "0  60.422185  38.464903  1.570839\n",
      "         gpl      stake       pot\n",
      "0  60.422185  38.464903  1.570839\n",
      "         gpl      stake       pot\n",
      "0  60.422185  38.464903  1.570839\n"
     ]
    }
   ],
   "source": [
    "# Calculating Staking Metrics\n",
    "\n",
    "betMetrics = []\n",
    "                \n",
    "for strategy, betFrame in backtestGridBets.items():\n",
    "    \n",
    "    print(bet_eval_metrics(betFrame, side = False))\n",
    "    \n",
    "\n",
    "\n",
    "\n",
    "\n",
    "\n"
   ]
  },
  {
   "cell_type": "code",
   "execution_count": 104,
   "metadata": {},
   "outputs": [
    {
     "data": {
      "text/plain": [
       "{'flat_bsp':            date       track  race_number    market_id selection_id    bsp  \\\n",
       " 0    2021-02-18     DOOMBEN            1  1.179418181     38523320  42.00   \n",
       " 1    2021-02-18     DOOMBEN            1  1.179418181     38523319  23.87   \n",
       " 2    2021-02-18     DOOMBEN            1  1.179418181     35773035  12.50   \n",
       " 3    2021-02-18     DOOMBEN            1  1.179418181     38523318  35.31   \n",
       " 4    2021-02-18     DOOMBEN            1  1.179418181     38523317  55.00   \n",
       " ...         ...         ...          ...          ...          ...    ...   \n",
       " 4449 2021-02-27  WANGARATTA            8  1.179776013     21317522  17.50   \n",
       " 4450 2021-02-27  WANGARATTA            8  1.179776013     26188490   4.57   \n",
       " 4451 2021-02-27  WANGARATTA            8  1.179776013     27132750  17.53   \n",
       " 4452 2021-02-27  WANGARATTA            8  1.179776013     36121815   8.40   \n",
       " 4453 2021-02-27  WANGARATTA            8  1.179776013      2688042  60.00   \n",
       " \n",
       "       best_back_1m  best_back_5m  model_prob  market_prob  model_odds  \\\n",
       " 0              NaN           NaN    0.029172     0.023810       34.28   \n",
       " 1              NaN           NaN    0.047125     0.041894       21.22   \n",
       " 2              NaN           NaN    0.097752     0.080000       10.23   \n",
       " 3              NaN           NaN    0.024540     0.028321       40.75   \n",
       " 4              NaN           NaN    0.012905     0.018182       77.49   \n",
       " ...            ...           ...         ...          ...         ...   \n",
       " 4449          24.0          23.0    0.070028     0.057143       14.28   \n",
       " 4450           9.4           9.8    0.187617     0.218818        5.33   \n",
       " 4451          36.0          42.0    0.048520     0.057045       20.61   \n",
       " 4452           7.4           6.8    0.065617     0.119048       15.24   \n",
       " 4453         230.0         450.0    0.025961     0.016667       38.52   \n",
       " \n",
       "       market_odds  win bet_side     stake       gpl  \n",
       " 0           42.00    0        L       NaN       NaN  \n",
       " 1           23.87    0        L       NaN       NaN  \n",
       " 2           12.50    0        L       NaN       NaN  \n",
       " 3           35.31    0        L       NaN       NaN  \n",
       " 4           55.00    0        L       NaN       NaN  \n",
       " ...           ...  ...      ...       ...       ...  \n",
       " 4449        17.50    0        B  0.029594 -0.029594  \n",
       " 4450         4.57    0        B  0.090905 -0.090905  \n",
       " 4451        17.53    0        B  0.021335 -0.021335  \n",
       " 4452         8.40    0        L  0.080381  0.080381  \n",
       " 4453        60.00    0        B  0.021707 -0.021707  \n",
       " \n",
       " [4454 rows x 16 columns],\n",
       " 'flat_5m':            date       track  race_number    market_id selection_id    bsp  \\\n",
       " 0    2021-02-18     DOOMBEN            1  1.179418181     38523320  42.00   \n",
       " 1    2021-02-18     DOOMBEN            1  1.179418181     38523319  23.87   \n",
       " 2    2021-02-18     DOOMBEN            1  1.179418181     35773035  12.50   \n",
       " 3    2021-02-18     DOOMBEN            1  1.179418181     38523318  35.31   \n",
       " 4    2021-02-18     DOOMBEN            1  1.179418181     38523317  55.00   \n",
       " ...         ...         ...          ...          ...          ...    ...   \n",
       " 4449 2021-02-27  WANGARATTA            8  1.179776013     21317522  17.50   \n",
       " 4450 2021-02-27  WANGARATTA            8  1.179776013     26188490   4.57   \n",
       " 4451 2021-02-27  WANGARATTA            8  1.179776013     27132750  17.53   \n",
       " 4452 2021-02-27  WANGARATTA            8  1.179776013     36121815   8.40   \n",
       " 4453 2021-02-27  WANGARATTA            8  1.179776013      2688042  60.00   \n",
       " \n",
       "       best_back_1m  best_back_5m  model_prob  market_prob  model_odds  \\\n",
       " 0              NaN           NaN    0.029172     0.023810       34.28   \n",
       " 1              NaN           NaN    0.047125     0.041894       21.22   \n",
       " 2              NaN           NaN    0.097752     0.080000       10.23   \n",
       " 3              NaN           NaN    0.024540     0.028321       40.75   \n",
       " 4              NaN           NaN    0.012905     0.018182       77.49   \n",
       " ...            ...           ...         ...          ...         ...   \n",
       " 4449          24.0          23.0    0.070028     0.057143       14.28   \n",
       " 4450           9.4           9.8    0.187617     0.218818        5.33   \n",
       " 4451          36.0          42.0    0.048520     0.057045       20.61   \n",
       " 4452           7.4           6.8    0.065617     0.119048       15.24   \n",
       " 4453         230.0         450.0    0.025961     0.016667       38.52   \n",
       " \n",
       "       market_odds  win bet_side     stake       gpl  \n",
       " 0           42.00    0        L       NaN       NaN  \n",
       " 1           23.87    0        L       NaN       NaN  \n",
       " 2           12.50    0        L       NaN       NaN  \n",
       " 3           35.31    0        L       NaN       NaN  \n",
       " 4           55.00    0        L       NaN       NaN  \n",
       " ...           ...  ...      ...       ...       ...  \n",
       " 4449        17.50    0        B  0.029594 -0.029594  \n",
       " 4450         4.57    0        B  0.090905 -0.090905  \n",
       " 4451        17.53    0        B  0.021335 -0.021335  \n",
       " 4452         8.40    0        L  0.080381  0.080381  \n",
       " 4453        60.00    0        B  0.021707 -0.021707  \n",
       " \n",
       " [4454 rows x 16 columns],\n",
       " 'flat_1m':            date       track  race_number    market_id selection_id    bsp  \\\n",
       " 0    2021-02-18     DOOMBEN            1  1.179418181     38523320  42.00   \n",
       " 1    2021-02-18     DOOMBEN            1  1.179418181     38523319  23.87   \n",
       " 2    2021-02-18     DOOMBEN            1  1.179418181     35773035  12.50   \n",
       " 3    2021-02-18     DOOMBEN            1  1.179418181     38523318  35.31   \n",
       " 4    2021-02-18     DOOMBEN            1  1.179418181     38523317  55.00   \n",
       " ...         ...         ...          ...          ...          ...    ...   \n",
       " 4449 2021-02-27  WANGARATTA            8  1.179776013     21317522  17.50   \n",
       " 4450 2021-02-27  WANGARATTA            8  1.179776013     26188490   4.57   \n",
       " 4451 2021-02-27  WANGARATTA            8  1.179776013     27132750  17.53   \n",
       " 4452 2021-02-27  WANGARATTA            8  1.179776013     36121815   8.40   \n",
       " 4453 2021-02-27  WANGARATTA            8  1.179776013      2688042  60.00   \n",
       " \n",
       "       best_back_1m  best_back_5m  model_prob  market_prob  model_odds  \\\n",
       " 0              NaN           NaN    0.029172     0.023810       34.28   \n",
       " 1              NaN           NaN    0.047125     0.041894       21.22   \n",
       " 2              NaN           NaN    0.097752     0.080000       10.23   \n",
       " 3              NaN           NaN    0.024540     0.028321       40.75   \n",
       " 4              NaN           NaN    0.012905     0.018182       77.49   \n",
       " ...            ...           ...         ...          ...         ...   \n",
       " 4449          24.0          23.0    0.070028     0.057143       14.28   \n",
       " 4450           9.4           9.8    0.187617     0.218818        5.33   \n",
       " 4451          36.0          42.0    0.048520     0.057045       20.61   \n",
       " 4452           7.4           6.8    0.065617     0.119048       15.24   \n",
       " 4453         230.0         450.0    0.025961     0.016667       38.52   \n",
       " \n",
       "       market_odds  win bet_side     stake       gpl  \n",
       " 0           42.00    0        L       NaN       NaN  \n",
       " 1           23.87    0        L       NaN       NaN  \n",
       " 2           12.50    0        L       NaN       NaN  \n",
       " 3           35.31    0        L       NaN       NaN  \n",
       " 4           55.00    0        L       NaN       NaN  \n",
       " ...           ...  ...      ...       ...       ...  \n",
       " 4449        17.50    0        B  0.029594 -0.029594  \n",
       " 4450         4.57    0        B  0.090905 -0.090905  \n",
       " 4451        17.53    0        B  0.021335 -0.021335  \n",
       " 4452         8.40    0        L  0.080381  0.080381  \n",
       " 4453        60.00    0        B  0.021707 -0.021707  \n",
       " \n",
       " [4454 rows x 16 columns],\n",
       " 'kelly_bsp':            date       track  race_number    market_id selection_id    bsp  \\\n",
       " 0    2021-02-18     DOOMBEN            1  1.179418181     38523320  42.00   \n",
       " 1    2021-02-18     DOOMBEN            1  1.179418181     38523319  23.87   \n",
       " 2    2021-02-18     DOOMBEN            1  1.179418181     35773035  12.50   \n",
       " 3    2021-02-18     DOOMBEN            1  1.179418181     38523318  35.31   \n",
       " 4    2021-02-18     DOOMBEN            1  1.179418181     38523317  55.00   \n",
       " ...         ...         ...          ...          ...          ...    ...   \n",
       " 4449 2021-02-27  WANGARATTA            8  1.179776013     21317522  17.50   \n",
       " 4450 2021-02-27  WANGARATTA            8  1.179776013     26188490   4.57   \n",
       " 4451 2021-02-27  WANGARATTA            8  1.179776013     27132750  17.53   \n",
       " 4452 2021-02-27  WANGARATTA            8  1.179776013     36121815   8.40   \n",
       " 4453 2021-02-27  WANGARATTA            8  1.179776013      2688042  60.00   \n",
       " \n",
       "       best_back_1m  best_back_5m  model_prob  market_prob  model_odds  \\\n",
       " 0              NaN           NaN    0.029172     0.023810       34.28   \n",
       " 1              NaN           NaN    0.047125     0.041894       21.22   \n",
       " 2              NaN           NaN    0.097752     0.080000       10.23   \n",
       " 3              NaN           NaN    0.024540     0.028321       40.75   \n",
       " 4              NaN           NaN    0.012905     0.018182       77.49   \n",
       " ...            ...           ...         ...          ...         ...   \n",
       " 4449          24.0          23.0    0.070028     0.057143       14.28   \n",
       " 4450           9.4           9.8    0.187617     0.218818        5.33   \n",
       " 4451          36.0          42.0    0.048520     0.057045       20.61   \n",
       " 4452           7.4           6.8    0.065617     0.119048       15.24   \n",
       " 4453         230.0         450.0    0.025961     0.016667       38.52   \n",
       " \n",
       "       market_odds  win bet_side     stake       gpl  \n",
       " 0           42.00    0        L       NaN       NaN  \n",
       " 1           23.87    0        L       NaN       NaN  \n",
       " 2           12.50    0        L       NaN       NaN  \n",
       " 3           35.31    0        L       NaN       NaN  \n",
       " 4           55.00    0        L       NaN       NaN  \n",
       " ...           ...  ...      ...       ...       ...  \n",
       " 4449        17.50    0        B  0.029594 -0.029594  \n",
       " 4450         4.57    0        B  0.090905 -0.090905  \n",
       " 4451        17.53    0        B  0.021335 -0.021335  \n",
       " 4452         8.40    0        L  0.080381  0.080381  \n",
       " 4453        60.00    0        B  0.021707 -0.021707  \n",
       " \n",
       " [4454 rows x 16 columns],\n",
       " 'kelly_5m':            date       track  race_number    market_id selection_id    bsp  \\\n",
       " 0    2021-02-18     DOOMBEN            1  1.179418181     38523320  42.00   \n",
       " 1    2021-02-18     DOOMBEN            1  1.179418181     38523319  23.87   \n",
       " 2    2021-02-18     DOOMBEN            1  1.179418181     35773035  12.50   \n",
       " 3    2021-02-18     DOOMBEN            1  1.179418181     38523318  35.31   \n",
       " 4    2021-02-18     DOOMBEN            1  1.179418181     38523317  55.00   \n",
       " ...         ...         ...          ...          ...          ...    ...   \n",
       " 4449 2021-02-27  WANGARATTA            8  1.179776013     21317522  17.50   \n",
       " 4450 2021-02-27  WANGARATTA            8  1.179776013     26188490   4.57   \n",
       " 4451 2021-02-27  WANGARATTA            8  1.179776013     27132750  17.53   \n",
       " 4452 2021-02-27  WANGARATTA            8  1.179776013     36121815   8.40   \n",
       " 4453 2021-02-27  WANGARATTA            8  1.179776013      2688042  60.00   \n",
       " \n",
       "       best_back_1m  best_back_5m  model_prob  market_prob  model_odds  \\\n",
       " 0              NaN           NaN    0.029172     0.023810       34.28   \n",
       " 1              NaN           NaN    0.047125     0.041894       21.22   \n",
       " 2              NaN           NaN    0.097752     0.080000       10.23   \n",
       " 3              NaN           NaN    0.024540     0.028321       40.75   \n",
       " 4              NaN           NaN    0.012905     0.018182       77.49   \n",
       " ...            ...           ...         ...          ...         ...   \n",
       " 4449          24.0          23.0    0.070028     0.057143       14.28   \n",
       " 4450           9.4           9.8    0.187617     0.218818        5.33   \n",
       " 4451          36.0          42.0    0.048520     0.057045       20.61   \n",
       " 4452           7.4           6.8    0.065617     0.119048       15.24   \n",
       " 4453         230.0         450.0    0.025961     0.016667       38.52   \n",
       " \n",
       "       market_odds  win bet_side     stake       gpl  \n",
       " 0           42.00    0        L       NaN       NaN  \n",
       " 1           23.87    0        L       NaN       NaN  \n",
       " 2           12.50    0        L       NaN       NaN  \n",
       " 3           35.31    0        L       NaN       NaN  \n",
       " 4           55.00    0        L       NaN       NaN  \n",
       " ...           ...  ...      ...       ...       ...  \n",
       " 4449        17.50    0        B  0.029594 -0.029594  \n",
       " 4450         4.57    0        B  0.090905 -0.090905  \n",
       " 4451        17.53    0        B  0.021335 -0.021335  \n",
       " 4452         8.40    0        L  0.080381  0.080381  \n",
       " 4453        60.00    0        B  0.021707 -0.021707  \n",
       " \n",
       " [4454 rows x 16 columns],\n",
       " 'kelly_1m':            date       track  race_number    market_id selection_id    bsp  \\\n",
       " 0    2021-02-18     DOOMBEN            1  1.179418181     38523320  42.00   \n",
       " 1    2021-02-18     DOOMBEN            1  1.179418181     38523319  23.87   \n",
       " 2    2021-02-18     DOOMBEN            1  1.179418181     35773035  12.50   \n",
       " 3    2021-02-18     DOOMBEN            1  1.179418181     38523318  35.31   \n",
       " 4    2021-02-18     DOOMBEN            1  1.179418181     38523317  55.00   \n",
       " ...         ...         ...          ...          ...          ...    ...   \n",
       " 4449 2021-02-27  WANGARATTA            8  1.179776013     21317522  17.50   \n",
       " 4450 2021-02-27  WANGARATTA            8  1.179776013     26188490   4.57   \n",
       " 4451 2021-02-27  WANGARATTA            8  1.179776013     27132750  17.53   \n",
       " 4452 2021-02-27  WANGARATTA            8  1.179776013     36121815   8.40   \n",
       " 4453 2021-02-27  WANGARATTA            8  1.179776013      2688042  60.00   \n",
       " \n",
       "       best_back_1m  best_back_5m  model_prob  market_prob  model_odds  \\\n",
       " 0              NaN           NaN    0.029172     0.023810       34.28   \n",
       " 1              NaN           NaN    0.047125     0.041894       21.22   \n",
       " 2              NaN           NaN    0.097752     0.080000       10.23   \n",
       " 3              NaN           NaN    0.024540     0.028321       40.75   \n",
       " 4              NaN           NaN    0.012905     0.018182       77.49   \n",
       " ...            ...           ...         ...          ...         ...   \n",
       " 4449          24.0          23.0    0.070028     0.057143       14.28   \n",
       " 4450           9.4           9.8    0.187617     0.218818        5.33   \n",
       " 4451          36.0          42.0    0.048520     0.057045       20.61   \n",
       " 4452           7.4           6.8    0.065617     0.119048       15.24   \n",
       " 4453         230.0         450.0    0.025961     0.016667       38.52   \n",
       " \n",
       "       market_odds  win bet_side     stake       gpl  \n",
       " 0           42.00    0        L       NaN       NaN  \n",
       " 1           23.87    0        L       NaN       NaN  \n",
       " 2           12.50    0        L       NaN       NaN  \n",
       " 3           35.31    0        L       NaN       NaN  \n",
       " 4           55.00    0        L       NaN       NaN  \n",
       " ...           ...  ...      ...       ...       ...  \n",
       " 4449        17.50    0        B  0.029594 -0.029594  \n",
       " 4450         4.57    0        B  0.090905 -0.090905  \n",
       " 4451        17.53    0        B  0.021335 -0.021335  \n",
       " 4452         8.40    0        L  0.080381  0.080381  \n",
       " 4453        60.00    0        B  0.021707 -0.021707  \n",
       " \n",
       " [4454 rows x 16 columns]}"
      ]
     },
     "execution_count": 104,
     "metadata": {},
     "output_type": "execute_result"
    }
   ],
   "source": [
    "backtestGridBets"
   ]
  },
  {
   "cell_type": "code",
   "execution_count": null,
   "metadata": {},
   "outputs": [],
   "source": []
  }
 ],
 "metadata": {
  "kernelspec": {
   "display_name": "Python 3",
   "language": "python",
   "name": "python3"
  },
  "language_info": {
   "codemirror_mode": {
    "name": "ipython",
    "version": 3
   },
   "file_extension": ".py",
   "mimetype": "text/x-python",
   "name": "python",
   "nbconvert_exporter": "python",
   "pygments_lexer": "ipython3",
   "version": "3.8.5"
  }
 },
 "nbformat": 4,
 "nbformat_minor": 4
}
