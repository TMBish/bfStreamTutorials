{
 "cells": [
  {
   "cell_type": "markdown",
   "metadata": {},
   "source": [
    "# Backtesting Ratings With Historical Stream Data\n",
    "\n",
    "Betfair's historical stream data is an extremely rich source of data. However, in it's raw form it's difficult to handle for the uninitiated. It also might not be immediately obvious how many different things this dataset could be used for without seeing some examples. These guides will hopefully demystify how to turn this raw data into a familiar and usable format whilst also hopefully providing some inpiration for the kinds of gold that can be excavated from it."
   ]
  },
  {
   "cell_type": "code",
   "execution_count": 10,
   "metadata": {},
   "outputs": [],
   "source": [
    "import pandas as pd\n",
    "import os\n",
    "import re\n",
    "import betfairlightweight\n",
    "from betfairlightweight import StreamListener\n",
    "import logging\n",
    "import requests\n",
    "import tarfile\n",
    "import bz2\n",
    "from unittest.mock import patch\n",
    "\n",
    "import logging\n",
    "from typing import List, Set, Dict, Tuple, Optional\n",
    "\n",
    "from unittest.mock import patch\n",
    "from itertools import zip_longest\n",
    "import functools\n",
    "\n",
    "import os\n",
    "import tarfile\n",
    "import zipfile\n",
    "import bz2\n",
    "import glob\n",
    "\n",
    "# importing data types\n",
    "import betfairlightweight\n",
    "from betfairlightweight.resources.bettingresources import (\n",
    "    PriceSize,\n",
    "    MarketBook\n",
    ")\n",
    "\n",
    "# setup logging\n",
    "# logging.basicConfig(level=logging.INFO)"
   ]
  },
  {
   "cell_type": "code",
   "execution_count": 11,
   "metadata": {},
   "outputs": [],
   "source": [
    "data_path = [\n",
    "    \"./data/2021_01_JanRacingPro.tar\",\n",
    "    \"./data/2021_01_JanRacingPro.tar\"\n",
    "]\n",
    "\n",
    "stream_directory = \"./data/\""
   ]
  },
  {
   "cell_type": "code",
   "execution_count": 12,
   "metadata": {},
   "outputs": [],
   "source": [
    "# KGs tutorial\n",
    "# https://betfair-datascientists.github.io/historicData/csvTutorialMarketSummary/index.html"
   ]
  },
  {
   "cell_type": "code",
   "execution_count": 13,
   "metadata": {},
   "outputs": [],
   "source": [
    "# loading from tar and extracting files\n",
    "def load_markets(file_paths):\n",
    "    for file_path in file_paths:\n",
    "        print(file_path)\n",
    "        if os.path.isdir(file_path):\n",
    "            for path in glob.iglob(file_path + '**/**/*.bz2', recursive=True):\n",
    "                f = bz2.BZ2File(path, 'rb')\n",
    "                yield f\n",
    "                f.close()\n",
    "        elif os.path.isfile(file_path):\n",
    "            ext = os.path.splitext(file_path)[1]\n",
    "            # iterate through a tar archive\n",
    "            if ext == '.tar':\n",
    "                with tarfile.TarFile(file_path) as archive:\n",
    "                    for file in archive:\n",
    "                        yield bz2.open(archive.extractfile(file))\n",
    "            # or a zip archive\n",
    "            elif ext == '.zip':\n",
    "                with zipfile.ZipFile(file_path) as archive:\n",
    "                    for file in archive.namelist():\n",
    "                        yield bz2.open(archive.open(file))\n",
    "\n",
    "    return None"
   ]
  },
  {
   "cell_type": "code",
   "execution_count": 14,
   "metadata": {},
   "outputs": [],
   "source": [
    "# Betfair Lightweight Boilerplate\n",
    "\n",
    "# create trading instance (don't need username/password)\n",
    "trading = betfairlightweight.APIClient(\"username\", \"password\")\n",
    "\n",
    "# create listener\n",
    "listener = StreamListener(max_latency=None)"
   ]
  },
  {
   "cell_type": "code",
   "execution_count": 15,
   "metadata": {},
   "outputs": [],
   "source": [
    "# rounding to 2 decimal places or returning '' if blank\n",
    "def as_str(v: float) -> str:\n",
    "    return '%.2f' % v if v is not None else ''\n",
    "\n",
    "# parsing price data and pulling out weighted avg price, matched, min price and max price\n",
    "def parse_traded(traded: List[PriceSize]) -> (float, float, float, float):\n",
    "    if len(traded) == 0: \n",
    "        return (None, None, None, None)\n",
    "\n",
    "    (wavg_sum, matched, min_price, max_price) = functools.reduce(\n",
    "        lambda total, ps: (\n",
    "            total[0] + (ps.price * ps.size),\n",
    "            total[1] + ps.size,\n",
    "            min(total[2], ps.price),\n",
    "            max(total[3], ps.price),\n",
    "        ),\n",
    "        traded,\n",
    "        (0, 0, 1001, 0)\n",
    "    )\n",
    "\n",
    "    wavg_sum = (wavg_sum / matched) if matched > 0 else None\n",
    "    matched = matched if matched > 0 else None\n",
    "    min_price = min_price if min_price != 1001 else None\n",
    "    max_price = max_price if max_price != 0 else None\n",
    "\n",
    "    return (wavg_sum, matched, min_price, max_price)\n",
    "\n",
    "# splitting race name and returning the parts \n",
    "def split_anz_horse_market_name(market_name: str) -> (str, str, str):\n",
    "    # return race no, length, race type\n",
    "    # input sample: R6 1400m Grp1\n",
    "    parts = market_name.split(' ')\n",
    "    race_no = parts[0] # return example R6\n",
    "    race_len = parts[1] # return example 1400m\n",
    "    race_type = parts[2].lower() # return example grp1, trot, pace\n",
    "\n",
    "    return (race_no, race_len, race_type)\n",
    "\n",
    "# filtering markets to those that fit the following criteria\n",
    "def filter_market(market: MarketBook) -> bool: \n",
    "    d = market.market_definition\n",
    "    return (d.country_code == 'AU' \n",
    "        and d.market_type == 'WIN' \n",
    "        and (c := split_anz_horse_market_name(d.name)[2]) != 'trot' and c != 'pace')\n"
   ]
  },
  {
   "cell_type": "markdown",
   "metadata": {},
   "source": [
    "# Executing KGs Tutorial Version\n",
    "\n",
    "We'll run the exact code KG wrote for her tutorial as a starting point to prove that this works"
   ]
  },
  {
   "cell_type": "code",
   "execution_count": 16,
   "metadata": {},
   "outputs": [
    {
     "name": "stderr",
     "output_type": "stream",
     "text": [
      "INFO:betfairlightweight.streaming.listener:[Register: 0]: marketSubscription\n",
      "INFO:betfairlightweight.streaming.stream:[MarketStream: 0]: \"MarketStream\" created\n",
      "INFO:betfairlightweight.streaming.stream:[MarketStream: 0]: 1.178620189 added, 1 markets in cache\n"
     ]
    },
    {
     "name": "stdout",
     "output_type": "stream",
     "text": [
      "./data/2021_01_JanRacingPro.tar\n"
     ]
    },
    {
     "name": "stderr",
     "output_type": "stream",
     "text": [
      "INFO:betfairlightweight.streaming.listener:[Register: 0]: marketSubscription\n",
      "WARNING:betfairlightweight.streaming.listener:[Listener: 0]: stream already registered, replacing data\n",
      "INFO:betfairlightweight.streaming.stream:[MarketStream: 0]: \"MarketStream\" created\n",
      "INFO:betfairlightweight.streaming.stream:[MarketStream: 0]: 1.178620187 added, 1 markets in cache\n",
      "INFO:betfairlightweight.streaming.stream:[MarketStream: 0]: 1.178620187 added, 1 markets in cache\n",
      "INFO:betfairlightweight.streaming.stream:[MarketStream: 0]: 1.178620187 added, 1 markets in cache\n"
     ]
    },
    {
     "name": "stdout",
     "output_type": "stream",
     "text": [
      "didnt find postplay results?\n"
     ]
    },
    {
     "name": "stderr",
     "output_type": "stream",
     "text": [
      "INFO:betfairlightweight.streaming.listener:[Register: 0]: marketSubscription\n",
      "WARNING:betfairlightweight.streaming.listener:[Listener: 0]: stream already registered, replacing data\n",
      "INFO:betfairlightweight.streaming.stream:[MarketStream: 0]: \"MarketStream\" created\n",
      "INFO:betfairlightweight.streaming.stream:[MarketStream: 0]: 1.177444094 added, 1 markets in cache\n",
      "INFO:betfairlightweight.streaming.stream:[MarketStream: 0]: 1.177444094 added, 1 markets in cache\n",
      "INFO:betfairlightweight.streaming.stream:[MarketStream: 0]: 1.177444094 added, 1 markets in cache\n",
      "INFO:betfairlightweight.streaming.stream:[MarketStream: 0]: 1.177444094 added, 1 markets in cache\n",
      "INFO:betfairlightweight.streaming.stream:[MarketStream: 0]: 1.177444094 added, 1 markets in cache\n",
      "INFO:betfairlightweight.streaming.stream:[MarketStream: 0]: 1.177444094 added, 1 markets in cache\n",
      "INFO:betfairlightweight.streaming.stream:[MarketStream: 0]: 1.177444094 added, 1 markets in cache\n"
     ]
    },
    {
     "name": "stdout",
     "output_type": "stream",
     "text": [
      "didnt find postplay results?\n"
     ]
    },
    {
     "name": "stderr",
     "output_type": "stream",
     "text": [
      "INFO:betfairlightweight.streaming.listener:[Register: 0]: marketSubscription\n",
      "WARNING:betfairlightweight.streaming.listener:[Listener: 0]: stream already registered, replacing data\n",
      "INFO:betfairlightweight.streaming.stream:[MarketStream: 0]: \"MarketStream\" created\n",
      "INFO:betfairlightweight.streaming.stream:[MarketStream: 0]: 1.178620186 added, 1 markets in cache\n"
     ]
    },
    {
     "name": "stdout",
     "output_type": "stream",
     "text": [
      "didnt find postplay results?\n"
     ]
    },
    {
     "name": "stderr",
     "output_type": "stream",
     "text": [
      "INFO:betfairlightweight.streaming.listener:[Register: 0]: marketSubscription\n",
      "WARNING:betfairlightweight.streaming.listener:[Listener: 0]: stream already registered, replacing data\n",
      "INFO:betfairlightweight.streaming.stream:[MarketStream: 0]: \"MarketStream\" created\n",
      "INFO:betfairlightweight.streaming.stream:[MarketStream: 0]: 1.177444093 added, 1 markets in cache\n",
      "INFO:betfairlightweight.streaming.stream:[MarketStream: 0]: 1.177444093 added, 1 markets in cache\n",
      "INFO:betfairlightweight.streaming.stream:[MarketStream: 0]: 1.177444093 added, 1 markets in cache\n",
      "INFO:betfairlightweight.streaming.stream:[MarketStream: 0]: 1.177444093 added, 1 markets in cache\n",
      "INFO:betfairlightweight.streaming.stream:[MarketStream: 0]: 1.177444093 added, 1 markets in cache\n",
      "INFO:betfairlightweight.streaming.stream:[MarketStream: 0]: 1.177444093 added, 1 markets in cache\n",
      "INFO:betfairlightweight.streaming.stream:[MarketStream: 0]: 1.177444093 added, 1 markets in cache\n",
      "INFO:betfairlightweight.streaming.stream:[MarketStream: 0]: 1.177444093 added, 1 markets in cache\n"
     ]
    },
    {
     "name": "stdout",
     "output_type": "stream",
     "text": [
      "didnt find postplay results?\n"
     ]
    },
    {
     "name": "stderr",
     "output_type": "stream",
     "text": [
      "INFO:betfairlightweight.streaming.listener:[Register: 0]: marketSubscription\n",
      "WARNING:betfairlightweight.streaming.listener:[Listener: 0]: stream already registered, replacing data\n",
      "INFO:betfairlightweight.streaming.stream:[MarketStream: 0]: \"MarketStream\" created\n",
      "INFO:betfairlightweight.streaming.stream:[MarketStream: 0]: 1.178620184 added, 1 markets in cache\n",
      "INFO:betfairlightweight.streaming.stream:[MarketStream: 0]: 1.178620184 added, 1 markets in cache\n"
     ]
    },
    {
     "name": "stdout",
     "output_type": "stream",
     "text": [
      "didnt find postplay results?\n"
     ]
    },
    {
     "name": "stderr",
     "output_type": "stream",
     "text": [
      "INFO:betfairlightweight.streaming.listener:[Register: 0]: marketSubscription\n",
      "WARNING:betfairlightweight.streaming.listener:[Listener: 0]: stream already registered, replacing data\n",
      "INFO:betfairlightweight.streaming.stream:[MarketStream: 0]: \"MarketStream\" created\n",
      "INFO:betfairlightweight.streaming.stream:[MarketStream: 0]: 1.178625452 added, 1 markets in cache\n",
      "INFO:betfairlightweight.streaming.listener:[Register: 0]: marketSubscription\n",
      "WARNING:betfairlightweight.streaming.listener:[Listener: 0]: stream already registered, replacing data\n",
      "INFO:betfairlightweight.streaming.stream:[MarketStream: 0]: \"MarketStream\" created\n",
      "INFO:betfairlightweight.streaming.stream:[MarketStream: 0]: 1.177442897 added, 1 markets in cache\n",
      "INFO:betfairlightweight.streaming.stream:[MarketStream: 0]: 1.177442897 added, 1 markets in cache\n",
      "INFO:betfairlightweight.streaming.stream:[MarketStream: 0]: 1.177442897 added, 1 markets in cache\n",
      "INFO:betfairlightweight.streaming.stream:[MarketStream: 0]: 1.177442897 added, 1 markets in cache\n",
      "INFO:betfairlightweight.streaming.stream:[MarketStream: 0]: 1.177442897 added, 1 markets in cache\n",
      "INFO:betfairlightweight.streaming.stream:[MarketStream: 0]: 1.177442897 added, 1 markets in cache\n",
      "INFO:betfairlightweight.streaming.stream:[MarketStream: 0]: 1.177442897 added, 1 markets in cache\n",
      "INFO:betfairlightweight.streaming.stream:[MarketStream: 0]: 1.177442897 added, 1 markets in cache\n"
     ]
    },
    {
     "name": "stdout",
     "output_type": "stream",
     "text": [
      "didnt find postplay results?\n",
      "didnt find postplay results?\n"
     ]
    },
    {
     "name": "stderr",
     "output_type": "stream",
     "text": [
      "INFO:betfairlightweight.streaming.listener:[Register: 0]: marketSubscription\n",
      "WARNING:betfairlightweight.streaming.listener:[Listener: 0]: stream already registered, replacing data\n",
      "INFO:betfairlightweight.streaming.stream:[MarketStream: 0]: \"MarketStream\" created\n",
      "INFO:betfairlightweight.streaming.stream:[MarketStream: 0]: 1.177442898 added, 1 markets in cache\n",
      "INFO:betfairlightweight.streaming.stream:[MarketStream: 0]: 1.177442898 added, 1 markets in cache\n",
      "INFO:betfairlightweight.streaming.stream:[MarketStream: 0]: 1.177442898 added, 1 markets in cache\n",
      "INFO:betfairlightweight.streaming.stream:[MarketStream: 0]: 1.177442898 added, 1 markets in cache\n",
      "INFO:betfairlightweight.streaming.stream:[MarketStream: 0]: 1.177442898 added, 1 markets in cache\n",
      "INFO:betfairlightweight.streaming.stream:[MarketStream: 0]: 1.177442898 added, 1 markets in cache\n"
     ]
    },
    {
     "name": "stdout",
     "output_type": "stream",
     "text": [
      "didnt find postplay results?\n"
     ]
    },
    {
     "name": "stderr",
     "output_type": "stream",
     "text": [
      "INFO:betfairlightweight.streaming.listener:[Register: 0]: marketSubscription\n",
      "WARNING:betfairlightweight.streaming.listener:[Listener: 0]: stream already registered, replacing data\n",
      "INFO:betfairlightweight.streaming.stream:[MarketStream: 0]: \"MarketStream\" created\n",
      "INFO:betfairlightweight.streaming.stream:[MarketStream: 0]: 1.178625419 added, 1 markets in cache\n"
     ]
    },
    {
     "name": "stdout",
     "output_type": "stream",
     "text": [
      "didnt find postplay results?\n"
     ]
    },
    {
     "name": "stderr",
     "output_type": "stream",
     "text": [
      "INFO:betfairlightweight.streaming.listener:[Register: 0]: marketSubscription\n",
      "WARNING:betfairlightweight.streaming.listener:[Listener: 0]: stream already registered, replacing data\n",
      "INFO:betfairlightweight.streaming.stream:[MarketStream: 0]: \"MarketStream\" created\n",
      "INFO:betfairlightweight.streaming.stream:[MarketStream: 0]: 1.178625417 added, 1 markets in cache\n",
      "INFO:betfairlightweight.streaming.stream:[MarketStream: 0]: 1.178625417 added, 1 markets in cache\n"
     ]
    },
    {
     "name": "stdout",
     "output_type": "stream",
     "text": [
      "didnt find postplay results?\n"
     ]
    },
    {
     "name": "stderr",
     "output_type": "stream",
     "text": [
      "INFO:betfairlightweight.streaming.listener:[Register: 0]: marketSubscription\n",
      "WARNING:betfairlightweight.streaming.listener:[Listener: 0]: stream already registered, replacing data\n",
      "INFO:betfairlightweight.streaming.stream:[MarketStream: 0]: \"MarketStream\" created\n",
      "INFO:betfairlightweight.streaming.stream:[MarketStream: 0]: 1.178620183 added, 1 markets in cache\n"
     ]
    },
    {
     "name": "stdout",
     "output_type": "stream",
     "text": [
      "didnt find postplay results?\n"
     ]
    },
    {
     "name": "stderr",
     "output_type": "stream",
     "text": [
      "INFO:betfairlightweight.streaming.listener:[Register: 0]: marketSubscription\n",
      "WARNING:betfairlightweight.streaming.listener:[Listener: 0]: stream already registered, replacing data\n",
      "INFO:betfairlightweight.streaming.stream:[MarketStream: 0]: \"MarketStream\" created\n",
      "INFO:betfairlightweight.streaming.stream:[MarketStream: 0]: 1.178620181 added, 1 markets in cache\n",
      "INFO:betfairlightweight.streaming.stream:[MarketStream: 0]: 1.178620181 added, 1 markets in cache\n",
      "INFO:betfairlightweight.streaming.stream:[MarketStream: 0]: 1.178620181 added, 1 markets in cache\n"
     ]
    },
    {
     "name": "stdout",
     "output_type": "stream",
     "text": [
      "didnt find postplay results?\n"
     ]
    },
    {
     "name": "stderr",
     "output_type": "stream",
     "text": [
      "INFO:betfairlightweight.streaming.listener:[Register: 0]: marketSubscription\n",
      "WARNING:betfairlightweight.streaming.listener:[Listener: 0]: stream already registered, replacing data\n",
      "INFO:betfairlightweight.streaming.stream:[MarketStream: 0]: \"MarketStream\" created\n",
      "INFO:betfairlightweight.streaming.stream:[MarketStream: 0]: 1.178625451 added, 1 markets in cache\n",
      "INFO:betfairlightweight.streaming.listener:[Register: 0]: marketSubscription\n",
      "WARNING:betfairlightweight.streaming.listener:[Listener: 0]: stream already registered, replacing data\n",
      "INFO:betfairlightweight.streaming.stream:[MarketStream: 0]: \"MarketStream\" created\n",
      "INFO:betfairlightweight.streaming.stream:[MarketStream: 0]: 1.178625415 added, 1 markets in cache\n"
     ]
    },
    {
     "name": "stdout",
     "output_type": "stream",
     "text": [
      "didnt find postplay results?\n",
      "didnt find postplay results?\n"
     ]
    },
    {
     "name": "stderr",
     "output_type": "stream",
     "text": [
      "INFO:betfairlightweight.streaming.listener:[Register: 0]: marketSubscription\n",
      "WARNING:betfairlightweight.streaming.listener:[Listener: 0]: stream already registered, replacing data\n",
      "INFO:betfairlightweight.streaming.stream:[MarketStream: 0]: \"MarketStream\" created\n",
      "INFO:betfairlightweight.streaming.stream:[MarketStream: 0]: 1.177444095 added, 1 markets in cache\n",
      "INFO:betfairlightweight.streaming.stream:[MarketStream: 0]: 1.177444095 added, 1 markets in cache\n",
      "INFO:betfairlightweight.streaming.stream:[MarketStream: 0]: 1.177444095 added, 1 markets in cache\n",
      "INFO:betfairlightweight.streaming.stream:[MarketStream: 0]: 1.177444095 added, 1 markets in cache\n",
      "INFO:betfairlightweight.streaming.stream:[MarketStream: 0]: 1.177444095 added, 1 markets in cache\n",
      "INFO:betfairlightweight.streaming.stream:[MarketStream: 0]: 1.177444095 added, 1 markets in cache\n"
     ]
    },
    {
     "name": "stdout",
     "output_type": "stream",
     "text": [
      "didnt find postplay results?\n"
     ]
    },
    {
     "name": "stderr",
     "output_type": "stream",
     "text": [
      "INFO:betfairlightweight.streaming.listener:[Register: 0]: marketSubscription\n",
      "WARNING:betfairlightweight.streaming.listener:[Listener: 0]: stream already registered, replacing data\n",
      "INFO:betfairlightweight.streaming.stream:[MarketStream: 0]: \"MarketStream\" created\n",
      "INFO:betfairlightweight.streaming.stream:[MarketStream: 0]: 1.178620180 added, 1 markets in cache\n"
     ]
    },
    {
     "name": "stdout",
     "output_type": "stream",
     "text": [
      "didnt find postplay results?\n"
     ]
    },
    {
     "name": "stderr",
     "output_type": "stream",
     "text": [
      "INFO:betfairlightweight.streaming.listener:[Register: 0]: marketSubscription\n",
      "WARNING:betfairlightweight.streaming.listener:[Listener: 0]: stream already registered, replacing data\n",
      "INFO:betfairlightweight.streaming.stream:[MarketStream: 0]: \"MarketStream\" created\n",
      "INFO:betfairlightweight.streaming.stream:[MarketStream: 0]: 1.177444096 added, 1 markets in cache\n",
      "INFO:betfairlightweight.streaming.stream:[MarketStream: 0]: 1.177444096 added, 1 markets in cache\n",
      "INFO:betfairlightweight.streaming.stream:[MarketStream: 0]: 1.177444096 added, 1 markets in cache\n",
      "INFO:betfairlightweight.streaming.stream:[MarketStream: 0]: 1.177444096 added, 1 markets in cache\n",
      "INFO:betfairlightweight.streaming.stream:[MarketStream: 0]: 1.177444096 added, 1 markets in cache\n",
      "INFO:betfairlightweight.streaming.stream:[MarketStream: 0]: 1.177444096 added, 1 markets in cache\n"
     ]
    },
    {
     "name": "stdout",
     "output_type": "stream",
     "text": [
      "didnt find postplay results?\n"
     ]
    },
    {
     "name": "stderr",
     "output_type": "stream",
     "text": [
      "INFO:betfairlightweight.streaming.listener:[Register: 0]: marketSubscription\n",
      "WARNING:betfairlightweight.streaming.listener:[Listener: 0]: stream already registered, replacing data\n",
      "INFO:betfairlightweight.streaming.stream:[MarketStream: 0]: \"MarketStream\" created\n",
      "INFO:betfairlightweight.streaming.stream:[MarketStream: 0]: 1.178620178 added, 1 markets in cache\n",
      "INFO:betfairlightweight.streaming.stream:[MarketStream: 0]: 1.178620178 added, 1 markets in cache\n"
     ]
    },
    {
     "name": "stdout",
     "output_type": "stream",
     "text": [
      "didnt find postplay results?\n"
     ]
    },
    {
     "name": "stderr",
     "output_type": "stream",
     "text": [
      "INFO:betfairlightweight.streaming.listener:[Register: 0]: marketSubscription\n",
      "WARNING:betfairlightweight.streaming.listener:[Listener: 0]: stream already registered, replacing data\n",
      "INFO:betfairlightweight.streaming.stream:[MarketStream: 0]: \"MarketStream\" created\n",
      "INFO:betfairlightweight.streaming.stream:[MarketStream: 0]: 1.177442915 added, 1 markets in cache\n",
      "INFO:betfairlightweight.streaming.stream:[MarketStream: 0]: 1.177442915 added, 1 markets in cache\n",
      "INFO:betfairlightweight.streaming.stream:[MarketStream: 0]: 1.177442915 added, 1 markets in cache\n",
      "INFO:betfairlightweight.streaming.stream:[MarketStream: 0]: 1.177442915 added, 1 markets in cache\n",
      "INFO:betfairlightweight.streaming.stream:[MarketStream: 0]: 1.177442915 added, 1 markets in cache\n",
      "INFO:betfairlightweight.streaming.stream:[MarketStream: 0]: 1.177442915 added, 1 markets in cache\n",
      "INFO:betfairlightweight.streaming.stream:[MarketStream: 0]: 1.177442915 added, 1 markets in cache\n",
      "INFO:betfairlightweight.streaming.stream:[MarketStream: 0]: 1.177442915 added, 1 markets in cache\n",
      "INFO:betfairlightweight.streaming.stream:[MarketStream: 0]: 1.177442915 added, 1 markets in cache\n"
     ]
    },
    {
     "name": "stdout",
     "output_type": "stream",
     "text": [
      "didnt find postplay results?\n"
     ]
    },
    {
     "name": "stderr",
     "output_type": "stream",
     "text": [
      "INFO:betfairlightweight.streaming.listener:[Register: 0]: marketSubscription\n",
      "WARNING:betfairlightweight.streaming.listener:[Listener: 0]: stream already registered, replacing data\n",
      "INFO:betfairlightweight.streaming.stream:[MarketStream: 0]: \"MarketStream\" created\n",
      "INFO:betfairlightweight.streaming.stream:[MarketStream: 0]: 1.178625414 added, 1 markets in cache\n",
      "INFO:betfairlightweight.streaming.stream:[MarketStream: 0]: 1.178625414 added, 1 markets in cache\n",
      "INFO:betfairlightweight.streaming.stream:[MarketStream: 0]: 1.178625414 added, 1 markets in cache\n"
     ]
    },
    {
     "name": "stdout",
     "output_type": "stream",
     "text": [
      "didnt find postplay results?\n"
     ]
    },
    {
     "name": "stderr",
     "output_type": "stream",
     "text": [
      "INFO:betfairlightweight.streaming.listener:[Register: 0]: marketSubscription\n",
      "WARNING:betfairlightweight.streaming.listener:[Listener: 0]: stream already registered, replacing data\n",
      "INFO:betfairlightweight.streaming.stream:[MarketStream: 0]: \"MarketStream\" created\n",
      "INFO:betfairlightweight.streaming.stream:[MarketStream: 0]: 1.178625450 added, 1 markets in cache\n",
      "INFO:betfairlightweight.streaming.listener:[Register: 0]: marketSubscription\n",
      "WARNING:betfairlightweight.streaming.listener:[Listener: 0]: stream already registered, replacing data\n",
      "INFO:betfairlightweight.streaming.stream:[MarketStream: 0]: \"MarketStream\" created\n",
      "INFO:betfairlightweight.streaming.stream:[MarketStream: 0]: 1.178625413 added, 1 markets in cache\n"
     ]
    },
    {
     "name": "stdout",
     "output_type": "stream",
     "text": [
      "didnt find postplay results?\n",
      "didnt find postplay results?\n"
     ]
    },
    {
     "name": "stderr",
     "output_type": "stream",
     "text": [
      "INFO:betfairlightweight.streaming.listener:[Register: 0]: marketSubscription\n",
      "WARNING:betfairlightweight.streaming.listener:[Listener: 0]: stream already registered, replacing data\n",
      "INFO:betfairlightweight.streaming.stream:[MarketStream: 0]: \"MarketStream\" created\n",
      "INFO:betfairlightweight.streaming.stream:[MarketStream: 0]: 1.177442916 added, 1 markets in cache\n",
      "INFO:betfairlightweight.streaming.stream:[MarketStream: 0]: 1.177442916 added, 1 markets in cache\n",
      "INFO:betfairlightweight.streaming.stream:[MarketStream: 0]: 1.177442916 added, 1 markets in cache\n",
      "INFO:betfairlightweight.streaming.stream:[MarketStream: 0]: 1.177442916 added, 1 markets in cache\n",
      "INFO:betfairlightweight.streaming.stream:[MarketStream: 0]: 1.177442916 added, 1 markets in cache\n",
      "INFO:betfairlightweight.streaming.stream:[MarketStream: 0]: 1.177442916 added, 1 markets in cache\n",
      "INFO:betfairlightweight.streaming.stream:[MarketStream: 0]: 1.177442916 added, 1 markets in cache\n"
     ]
    },
    {
     "name": "stdout",
     "output_type": "stream",
     "text": [
      "didnt find postplay results?\n"
     ]
    },
    {
     "name": "stderr",
     "output_type": "stream",
     "text": [
      "INFO:betfairlightweight.streaming.listener:[Register: 0]: marketSubscription\n",
      "WARNING:betfairlightweight.streaming.listener:[Listener: 0]: stream already registered, replacing data\n",
      "INFO:betfairlightweight.streaming.stream:[MarketStream: 0]: \"MarketStream\" created\n",
      "INFO:betfairlightweight.streaming.stream:[MarketStream: 0]: 1.178625411 added, 1 markets in cache\n",
      "INFO:betfairlightweight.streaming.stream:[MarketStream: 0]: 1.178625411 added, 1 markets in cache\n"
     ]
    },
    {
     "name": "stdout",
     "output_type": "stream",
     "text": [
      "didnt find postplay results?\n"
     ]
    },
    {
     "name": "stderr",
     "output_type": "stream",
     "text": [
      "INFO:betfairlightweight.streaming.listener:[Register: 0]: marketSubscription\n",
      "WARNING:betfairlightweight.streaming.listener:[Listener: 0]: stream already registered, replacing data\n",
      "INFO:betfairlightweight.streaming.stream:[MarketStream: 0]: \"MarketStream\" created\n",
      "INFO:betfairlightweight.streaming.stream:[MarketStream: 0]: 1.178620176 added, 1 markets in cache\n"
     ]
    },
    {
     "name": "stdout",
     "output_type": "stream",
     "text": [
      "didnt find postplay results?\n"
     ]
    },
    {
     "name": "stderr",
     "output_type": "stream",
     "text": [
      "INFO:betfairlightweight.streaming.listener:[Register: 0]: marketSubscription\n",
      "WARNING:betfairlightweight.streaming.listener:[Listener: 0]: stream already registered, replacing data\n",
      "INFO:betfairlightweight.streaming.stream:[MarketStream: 0]: \"MarketStream\" created\n",
      "INFO:betfairlightweight.streaming.stream:[MarketStream: 0]: 1.178620175 added, 1 markets in cache\n"
     ]
    },
    {
     "name": "stdout",
     "output_type": "stream",
     "text": [
      "didnt find postplay results?\n"
     ]
    },
    {
     "name": "stderr",
     "output_type": "stream",
     "text": [
      "INFO:betfairlightweight.streaming.listener:[Register: 0]: marketSubscription\n",
      "WARNING:betfairlightweight.streaming.listener:[Listener: 0]: stream already registered, replacing data\n",
      "INFO:betfairlightweight.streaming.stream:[MarketStream: 0]: \"MarketStream\" created\n",
      "INFO:betfairlightweight.streaming.stream:[MarketStream: 0]: 1.178625449 added, 1 markets in cache\n",
      "INFO:betfairlightweight.streaming.listener:[Register: 0]: marketSubscription\n",
      "WARNING:betfairlightweight.streaming.listener:[Listener: 0]: stream already registered, replacing data\n",
      "INFO:betfairlightweight.streaming.stream:[MarketStream: 0]: \"MarketStream\" created\n",
      "INFO:betfairlightweight.streaming.stream:[MarketStream: 0]: 1.178625409 added, 1 markets in cache\n"
     ]
    },
    {
     "name": "stdout",
     "output_type": "stream",
     "text": [
      "didnt find postplay results?\n",
      "didnt find postplay results?\n"
     ]
    },
    {
     "name": "stderr",
     "output_type": "stream",
     "text": [
      "INFO:betfairlightweight.streaming.listener:[Register: 0]: marketSubscription\n",
      "WARNING:betfairlightweight.streaming.listener:[Listener: 0]: stream already registered, replacing data\n",
      "INFO:betfairlightweight.streaming.stream:[MarketStream: 0]: \"MarketStream\" created\n",
      "INFO:betfairlightweight.streaming.stream:[MarketStream: 0]: 1.177442899 added, 1 markets in cache\n",
      "INFO:betfairlightweight.streaming.stream:[MarketStream: 0]: 1.177442899 added, 1 markets in cache\n",
      "INFO:betfairlightweight.streaming.stream:[MarketStream: 0]: 1.177442899 added, 1 markets in cache\n",
      "INFO:betfairlightweight.streaming.stream:[MarketStream: 0]: 1.177442899 added, 1 markets in cache\n",
      "INFO:betfairlightweight.streaming.stream:[MarketStream: 0]: 1.177442899 added, 1 markets in cache\n",
      "INFO:betfairlightweight.streaming.stream:[MarketStream: 0]: 1.177442899 added, 1 markets in cache\n",
      "INFO:betfairlightweight.streaming.stream:[MarketStream: 0]: 1.177442899 added, 1 markets in cache\n"
     ]
    },
    {
     "name": "stdout",
     "output_type": "stream",
     "text": [
      "didnt find postplay results?\n"
     ]
    },
    {
     "name": "stderr",
     "output_type": "stream",
     "text": [
      "INFO:betfairlightweight.streaming.listener:[Register: 0]: marketSubscription\n",
      "WARNING:betfairlightweight.streaming.listener:[Listener: 0]: stream already registered, replacing data\n",
      "INFO:betfairlightweight.streaming.stream:[MarketStream: 0]: \"MarketStream\" created\n",
      "INFO:betfairlightweight.streaming.stream:[MarketStream: 0]: 1.178625408 added, 1 markets in cache\n",
      "INFO:betfairlightweight.streaming.stream:[MarketStream: 0]: 1.178625408 added, 1 markets in cache\n",
      "INFO:betfairlightweight.streaming.stream:[MarketStream: 0]: 1.178625408 added, 1 markets in cache\n"
     ]
    },
    {
     "name": "stdout",
     "output_type": "stream",
     "text": [
      "didnt find postplay results?\n"
     ]
    },
    {
     "name": "stderr",
     "output_type": "stream",
     "text": [
      "INFO:betfairlightweight.streaming.listener:[Register: 0]: marketSubscription\n",
      "WARNING:betfairlightweight.streaming.listener:[Listener: 0]: stream already registered, replacing data\n",
      "INFO:betfairlightweight.streaming.stream:[MarketStream: 0]: \"MarketStream\" created\n",
      "INFO:betfairlightweight.streaming.stream:[MarketStream: 0]: 1.177442900 added, 1 markets in cache\n",
      "INFO:betfairlightweight.streaming.stream:[MarketStream: 0]: 1.177442900 added, 1 markets in cache\n",
      "INFO:betfairlightweight.streaming.stream:[MarketStream: 0]: 1.177442900 added, 1 markets in cache\n",
      "INFO:betfairlightweight.streaming.stream:[MarketStream: 0]: 1.177442900 added, 1 markets in cache\n",
      "INFO:betfairlightweight.streaming.stream:[MarketStream: 0]: 1.177442900 added, 1 markets in cache\n",
      "INFO:betfairlightweight.streaming.stream:[MarketStream: 0]: 1.177442900 added, 1 markets in cache\n",
      "INFO:betfairlightweight.streaming.stream:[MarketStream: 0]: 1.177442900 added, 1 markets in cache\n",
      "INFO:betfairlightweight.streaming.stream:[MarketStream: 0]: 1.177442900 added, 1 markets in cache\n"
     ]
    },
    {
     "name": "stdout",
     "output_type": "stream",
     "text": [
      "didnt find postplay results?\n"
     ]
    },
    {
     "name": "stderr",
     "output_type": "stream",
     "text": [
      "INFO:betfairlightweight.streaming.listener:[Register: 0]: marketSubscription\n",
      "WARNING:betfairlightweight.streaming.listener:[Listener: 0]: stream already registered, replacing data\n",
      "INFO:betfairlightweight.streaming.stream:[MarketStream: 0]: \"MarketStream\" created\n",
      "INFO:betfairlightweight.streaming.stream:[MarketStream: 0]: 1.178620174 added, 1 markets in cache\n"
     ]
    },
    {
     "name": "stdout",
     "output_type": "stream",
     "text": [
      "didnt find postplay results?\n"
     ]
    },
    {
     "name": "stderr",
     "output_type": "stream",
     "text": [
      "INFO:betfairlightweight.streaming.listener:[Register: 0]: marketSubscription\n",
      "WARNING:betfairlightweight.streaming.listener:[Listener: 0]: stream already registered, replacing data\n",
      "INFO:betfairlightweight.streaming.stream:[MarketStream: 0]: \"MarketStream\" created\n",
      "INFO:betfairlightweight.streaming.stream:[MarketStream: 0]: 1.177444097 added, 1 markets in cache\n",
      "INFO:betfairlightweight.streaming.stream:[MarketStream: 0]: 1.177444097 added, 1 markets in cache\n",
      "INFO:betfairlightweight.streaming.stream:[MarketStream: 0]: 1.177444097 added, 1 markets in cache\n",
      "INFO:betfairlightweight.streaming.stream:[MarketStream: 0]: 1.177444097 added, 1 markets in cache\n",
      "INFO:betfairlightweight.streaming.stream:[MarketStream: 0]: 1.177444097 added, 1 markets in cache\n",
      "INFO:betfairlightweight.streaming.stream:[MarketStream: 0]: 1.177444097 added, 1 markets in cache\n",
      "INFO:betfairlightweight.streaming.stream:[MarketStream: 0]: 1.177444097 added, 1 markets in cache\n",
      "INFO:betfairlightweight.streaming.stream:[MarketStream: 0]: 1.177444097 added, 1 markets in cache\n"
     ]
    },
    {
     "name": "stdout",
     "output_type": "stream",
     "text": [
      "didnt find postplay results?\n"
     ]
    },
    {
     "name": "stderr",
     "output_type": "stream",
     "text": [
      "INFO:betfairlightweight.streaming.listener:[Register: 0]: marketSubscription\n",
      "WARNING:betfairlightweight.streaming.listener:[Listener: 0]: stream already registered, replacing data\n",
      "INFO:betfairlightweight.streaming.stream:[MarketStream: 0]: \"MarketStream\" created\n",
      "INFO:betfairlightweight.streaming.stream:[MarketStream: 0]: 1.178620172 added, 1 markets in cache\n",
      "INFO:betfairlightweight.streaming.stream:[MarketStream: 0]: 1.178620172 added, 1 markets in cache\n",
      "INFO:betfairlightweight.streaming.stream:[MarketStream: 0]: 1.178620172 added, 1 markets in cache\n"
     ]
    },
    {
     "name": "stdout",
     "output_type": "stream",
     "text": [
      "didnt find postplay results?\n"
     ]
    },
    {
     "name": "stderr",
     "output_type": "stream",
     "text": [
      "INFO:betfairlightweight.streaming.listener:[Register: 0]: marketSubscription\n",
      "WARNING:betfairlightweight.streaming.listener:[Listener: 0]: stream already registered, replacing data\n",
      "INFO:betfairlightweight.streaming.stream:[MarketStream: 0]: \"MarketStream\" created\n",
      "INFO:betfairlightweight.streaming.stream:[MarketStream: 0]: 1.177442917 added, 1 markets in cache\n",
      "INFO:betfairlightweight.streaming.stream:[MarketStream: 0]: 1.177442917 added, 1 markets in cache\n",
      "INFO:betfairlightweight.streaming.stream:[MarketStream: 0]: 1.177442917 added, 1 markets in cache\n",
      "INFO:betfairlightweight.streaming.stream:[MarketStream: 0]: 1.177442917 added, 1 markets in cache\n",
      "INFO:betfairlightweight.streaming.stream:[MarketStream: 0]: 1.177442917 added, 1 markets in cache\n",
      "INFO:betfairlightweight.streaming.stream:[MarketStream: 0]: 1.177442917 added, 1 markets in cache\n",
      "INFO:betfairlightweight.streaming.stream:[MarketStream: 0]: 1.177442917 added, 1 markets in cache\n",
      "INFO:betfairlightweight.streaming.stream:[MarketStream: 0]: 1.177442917 added, 1 markets in cache\n"
     ]
    },
    {
     "name": "stdout",
     "output_type": "stream",
     "text": [
      "didnt find postplay results?\n"
     ]
    },
    {
     "name": "stderr",
     "output_type": "stream",
     "text": [
      "INFO:betfairlightweight.streaming.listener:[Register: 0]: marketSubscription\n",
      "WARNING:betfairlightweight.streaming.listener:[Listener: 0]: stream already registered, replacing data\n",
      "INFO:betfairlightweight.streaming.stream:[MarketStream: 0]: \"MarketStream\" created\n",
      "INFO:betfairlightweight.streaming.stream:[MarketStream: 0]: 1.177442918 added, 1 markets in cache\n",
      "INFO:betfairlightweight.streaming.stream:[MarketStream: 0]: 1.177442918 added, 1 markets in cache\n",
      "INFO:betfairlightweight.streaming.stream:[MarketStream: 0]: 1.177442918 added, 1 markets in cache\n",
      "INFO:betfairlightweight.streaming.stream:[MarketStream: 0]: 1.177442918 added, 1 markets in cache\n",
      "INFO:betfairlightweight.streaming.stream:[MarketStream: 0]: 1.177442918 added, 1 markets in cache\n",
      "INFO:betfairlightweight.streaming.stream:[MarketStream: 0]: 1.177442918 added, 1 markets in cache\n",
      "INFO:betfairlightweight.streaming.stream:[MarketStream: 0]: 1.177442918 added, 1 markets in cache\n",
      "INFO:betfairlightweight.streaming.stream:[MarketStream: 0]: 1.177442918 added, 1 markets in cache\n",
      "INFO:betfairlightweight.streaming.stream:[MarketStream: 0]: 1.177442918 added, 1 markets in cache\n"
     ]
    },
    {
     "name": "stdout",
     "output_type": "stream",
     "text": [
      "didnt find postplay results?\n"
     ]
    },
    {
     "name": "stderr",
     "output_type": "stream",
     "text": [
      "INFO:betfairlightweight.streaming.listener:[Register: 0]: marketSubscription\n",
      "WARNING:betfairlightweight.streaming.listener:[Listener: 0]: stream already registered, replacing data\n",
      "INFO:betfairlightweight.streaming.stream:[MarketStream: 0]: \"MarketStream\" created\n",
      "INFO:betfairlightweight.streaming.stream:[MarketStream: 0]: 1.178625448 added, 1 markets in cache\n",
      "INFO:betfairlightweight.streaming.listener:[Register: 0]: marketSubscription\n",
      "WARNING:betfairlightweight.streaming.listener:[Listener: 0]: stream already registered, replacing data\n",
      "INFO:betfairlightweight.streaming.stream:[MarketStream: 0]: \"MarketStream\" created\n",
      "INFO:betfairlightweight.streaming.stream:[MarketStream: 0]: 1.178625407 added, 1 markets in cache\n"
     ]
    },
    {
     "name": "stdout",
     "output_type": "stream",
     "text": [
      "didnt find postplay results?\n",
      "didnt find postplay results?\n"
     ]
    },
    {
     "name": "stderr",
     "output_type": "stream",
     "text": [
      "INFO:betfairlightweight.streaming.listener:[Register: 0]: marketSubscription\n",
      "WARNING:betfairlightweight.streaming.listener:[Listener: 0]: stream already registered, replacing data\n",
      "INFO:betfairlightweight.streaming.stream:[MarketStream: 0]: \"MarketStream\" created\n",
      "INFO:betfairlightweight.streaming.stream:[MarketStream: 0]: 1.178625405 added, 1 markets in cache\n",
      "INFO:betfairlightweight.streaming.stream:[MarketStream: 0]: 1.178625405 added, 1 markets in cache\n"
     ]
    },
    {
     "name": "stdout",
     "output_type": "stream",
     "text": [
      "didnt find postplay results?\n"
     ]
    },
    {
     "name": "stderr",
     "output_type": "stream",
     "text": [
      "INFO:betfairlightweight.streaming.listener:[Register: 0]: marketSubscription\n",
      "WARNING:betfairlightweight.streaming.listener:[Listener: 0]: stream already registered, replacing data\n",
      "INFO:betfairlightweight.streaming.stream:[MarketStream: 0]: \"MarketStream\" created\n",
      "INFO:betfairlightweight.streaming.stream:[MarketStream: 0]: 1.178620171 added, 1 markets in cache\n"
     ]
    },
    {
     "name": "stdout",
     "output_type": "stream",
     "text": [
      "didnt find postplay results?\n"
     ]
    },
    {
     "name": "stderr",
     "output_type": "stream",
     "text": [
      "INFO:betfairlightweight.streaming.listener:[Register: 0]: marketSubscription\n",
      "WARNING:betfairlightweight.streaming.listener:[Listener: 0]: stream already registered, replacing data\n",
      "INFO:betfairlightweight.streaming.stream:[MarketStream: 0]: \"MarketStream\" created\n",
      "INFO:betfairlightweight.streaming.stream:[MarketStream: 0]: 1.177444098 added, 1 markets in cache\n",
      "INFO:betfairlightweight.streaming.stream:[MarketStream: 0]: 1.177444098 added, 1 markets in cache\n",
      "INFO:betfairlightweight.streaming.stream:[MarketStream: 0]: 1.177444098 added, 1 markets in cache\n",
      "INFO:betfairlightweight.streaming.stream:[MarketStream: 0]: 1.177444098 added, 1 markets in cache\n",
      "INFO:betfairlightweight.streaming.stream:[MarketStream: 0]: 1.177444098 added, 1 markets in cache\n",
      "INFO:betfairlightweight.streaming.stream:[MarketStream: 0]: 1.177444098 added, 1 markets in cache\n",
      "INFO:betfairlightweight.streaming.stream:[MarketStream: 0]: 1.177444098 added, 1 markets in cache\n"
     ]
    },
    {
     "name": "stdout",
     "output_type": "stream",
     "text": [
      "didnt find postplay results?\n"
     ]
    },
    {
     "name": "stderr",
     "output_type": "stream",
     "text": [
      "INFO:betfairlightweight.streaming.listener:[Register: 0]: marketSubscription\n",
      "WARNING:betfairlightweight.streaming.listener:[Listener: 0]: stream already registered, replacing data\n",
      "INFO:betfairlightweight.streaming.stream:[MarketStream: 0]: \"MarketStream\" created\n",
      "INFO:betfairlightweight.streaming.stream:[MarketStream: 0]: 1.178620169 added, 1 markets in cache\n",
      "INFO:betfairlightweight.streaming.stream:[MarketStream: 0]: 1.178620169 added, 1 markets in cache\n"
     ]
    },
    {
     "name": "stdout",
     "output_type": "stream",
     "text": [
      "didnt find postplay results?\n"
     ]
    },
    {
     "name": "stderr",
     "output_type": "stream",
     "text": [
      "INFO:betfairlightweight.streaming.listener:[Register: 0]: marketSubscription\n",
      "WARNING:betfairlightweight.streaming.listener:[Listener: 0]: stream already registered, replacing data\n",
      "INFO:betfairlightweight.streaming.stream:[MarketStream: 0]: \"MarketStream\" created\n",
      "INFO:betfairlightweight.streaming.stream:[MarketStream: 0]: 1.177442901 added, 1 markets in cache\n",
      "INFO:betfairlightweight.streaming.stream:[MarketStream: 0]: 1.177442901 added, 1 markets in cache\n",
      "INFO:betfairlightweight.streaming.stream:[MarketStream: 0]: 1.177442901 added, 1 markets in cache\n",
      "INFO:betfairlightweight.streaming.stream:[MarketStream: 0]: 1.177442901 added, 1 markets in cache\n",
      "INFO:betfairlightweight.streaming.stream:[MarketStream: 0]: 1.177442901 added, 1 markets in cache\n",
      "INFO:betfairlightweight.streaming.stream:[MarketStream: 0]: 1.177442901 added, 1 markets in cache\n",
      "INFO:betfairlightweight.streaming.stream:[MarketStream: 0]: 1.177442901 added, 1 markets in cache\n",
      "INFO:betfairlightweight.streaming.stream:[MarketStream: 0]: 1.177442901 added, 1 markets in cache\n"
     ]
    },
    {
     "name": "stdout",
     "output_type": "stream",
     "text": [
      "didnt find postplay results?\n"
     ]
    },
    {
     "name": "stderr",
     "output_type": "stream",
     "text": [
      "INFO:betfairlightweight.streaming.listener:[Register: 0]: marketSubscription\n",
      "WARNING:betfairlightweight.streaming.listener:[Listener: 0]: stream already registered, replacing data\n",
      "INFO:betfairlightweight.streaming.stream:[MarketStream: 0]: \"MarketStream\" created\n",
      "INFO:betfairlightweight.streaming.stream:[MarketStream: 0]: 1.178625447 added, 1 markets in cache\n",
      "INFO:betfairlightweight.streaming.listener:[Register: 0]: marketSubscription\n",
      "WARNING:betfairlightweight.streaming.listener:[Listener: 0]: stream already registered, replacing data\n",
      "INFO:betfairlightweight.streaming.stream:[MarketStream: 0]: \"MarketStream\" created\n",
      "INFO:betfairlightweight.streaming.stream:[MarketStream: 0]: 1.178625403 added, 1 markets in cache\n"
     ]
    },
    {
     "name": "stdout",
     "output_type": "stream",
     "text": [
      "didnt find postplay results?\n",
      "didnt find postplay results?\n"
     ]
    },
    {
     "name": "stderr",
     "output_type": "stream",
     "text": [
      "INFO:betfairlightweight.streaming.listener:[Register: 0]: marketSubscription\n",
      "WARNING:betfairlightweight.streaming.listener:[Listener: 0]: stream already registered, replacing data\n",
      "INFO:betfairlightweight.streaming.stream:[MarketStream: 0]: \"MarketStream\" created\n",
      "INFO:betfairlightweight.streaming.stream:[MarketStream: 0]: 1.178625402 added, 1 markets in cache\n",
      "INFO:betfairlightweight.streaming.stream:[MarketStream: 0]: 1.178625402 added, 1 markets in cache\n",
      "INFO:betfairlightweight.streaming.stream:[MarketStream: 0]: 1.178625402 added, 1 markets in cache\n"
     ]
    },
    {
     "name": "stdout",
     "output_type": "stream",
     "text": [
      "didnt find postplay results?\n"
     ]
    },
    {
     "name": "stderr",
     "output_type": "stream",
     "text": [
      "INFO:betfairlightweight.streaming.listener:[Register: 0]: marketSubscription\n",
      "WARNING:betfairlightweight.streaming.listener:[Listener: 0]: stream already registered, replacing data\n",
      "INFO:betfairlightweight.streaming.stream:[MarketStream: 0]: \"MarketStream\" created\n",
      "INFO:betfairlightweight.streaming.stream:[MarketStream: 0]: 1.178559046 added, 1 markets in cache\n",
      "INFO:betfairlightweight.streaming.listener:[Register: 0]: marketSubscription\n",
      "WARNING:betfairlightweight.streaming.listener:[Listener: 0]: stream already registered, replacing data\n",
      "INFO:betfairlightweight.streaming.stream:[MarketStream: 0]: \"MarketStream\" created\n",
      "INFO:betfairlightweight.streaming.stream:[MarketStream: 0]: 1.177443845 added, 1 markets in cache\n",
      "INFO:betfairlightweight.streaming.stream:[MarketStream: 0]: 1.177443845 added, 1 markets in cache\n",
      "INFO:betfairlightweight.streaming.stream:[MarketStream: 0]: 1.177443845 added, 1 markets in cache\n",
      "INFO:betfairlightweight.streaming.stream:[MarketStream: 0]: 1.177443845 added, 1 markets in cache\n",
      "INFO:betfairlightweight.streaming.stream:[MarketStream: 0]: 1.177443845 added, 1 markets in cache\n",
      "INFO:betfairlightweight.streaming.stream:[MarketStream: 0]: 1.177443845 added, 1 markets in cache\n"
     ]
    },
    {
     "name": "stdout",
     "output_type": "stream",
     "text": [
      "didnt find postplay results?\n",
      "didnt find postplay results?\n"
     ]
    },
    {
     "name": "stderr",
     "output_type": "stream",
     "text": [
      "INFO:betfairlightweight.streaming.listener:[Register: 0]: marketSubscription\n",
      "WARNING:betfairlightweight.streaming.listener:[Listener: 0]: stream already registered, replacing data\n",
      "INFO:betfairlightweight.streaming.stream:[MarketStream: 0]: \"MarketStream\" created\n",
      "INFO:betfairlightweight.streaming.stream:[MarketStream: 0]: 1.178559041 added, 1 markets in cache\n",
      "INFO:betfairlightweight.streaming.listener:[Register: 0]: marketSubscription\n",
      "WARNING:betfairlightweight.streaming.listener:[Listener: 0]: stream already registered, replacing data\n",
      "INFO:betfairlightweight.streaming.stream:[MarketStream: 0]: \"MarketStream\" created\n",
      "INFO:betfairlightweight.streaming.stream:[MarketStream: 0]: 1.177442902 added, 1 markets in cache\n",
      "INFO:betfairlightweight.streaming.stream:[MarketStream: 0]: 1.177442902 added, 1 markets in cache\n",
      "INFO:betfairlightweight.streaming.stream:[MarketStream: 0]: 1.177442902 added, 1 markets in cache\n",
      "INFO:betfairlightweight.streaming.stream:[MarketStream: 0]: 1.177442902 added, 1 markets in cache\n",
      "INFO:betfairlightweight.streaming.stream:[MarketStream: 0]: 1.177442902 added, 1 markets in cache\n",
      "INFO:betfairlightweight.streaming.stream:[MarketStream: 0]: 1.177442902 added, 1 markets in cache\n"
     ]
    },
    {
     "name": "stdout",
     "output_type": "stream",
     "text": [
      "didnt find postplay results?\n"
     ]
    },
    {
     "name": "stderr",
     "output_type": "stream",
     "text": [
      "INFO:betfairlightweight.streaming.listener:[Register: 0]: marketSubscription\n",
      "WARNING:betfairlightweight.streaming.listener:[Listener: 0]: stream already registered, replacing data\n",
      "INFO:betfairlightweight.streaming.stream:[MarketStream: 0]: \"MarketStream\" created\n",
      "INFO:betfairlightweight.streaming.stream:[MarketStream: 0]: 1.177443844 added, 1 markets in cache\n",
      "INFO:betfairlightweight.streaming.stream:[MarketStream: 0]: 1.177443844 added, 1 markets in cache\n",
      "INFO:betfairlightweight.streaming.stream:[MarketStream: 0]: 1.177443844 added, 1 markets in cache\n",
      "INFO:betfairlightweight.streaming.stream:[MarketStream: 0]: 1.177443844 added, 1 markets in cache\n",
      "INFO:betfairlightweight.streaming.stream:[MarketStream: 0]: 1.177443844 added, 1 markets in cache\n",
      "INFO:betfairlightweight.streaming.stream:[MarketStream: 0]: 1.177443844 added, 1 markets in cache\n",
      "INFO:betfairlightweight.streaming.stream:[MarketStream: 0]: 1.177443844 added, 1 markets in cache\n",
      "INFO:betfairlightweight.streaming.stream:[MarketStream: 0]: 1.177443844 added, 1 markets in cache\n"
     ]
    },
    {
     "name": "stdout",
     "output_type": "stream",
     "text": [
      "didnt find postplay results?\n"
     ]
    },
    {
     "name": "stderr",
     "output_type": "stream",
     "text": [
      "INFO:betfairlightweight.streaming.listener:[Register: 0]: marketSubscription\n",
      "WARNING:betfairlightweight.streaming.listener:[Listener: 0]: stream already registered, replacing data\n",
      "INFO:betfairlightweight.streaming.stream:[MarketStream: 0]: \"MarketStream\" created\n",
      "INFO:betfairlightweight.streaming.stream:[MarketStream: 0]: 1.177444099 added, 1 markets in cache\n",
      "INFO:betfairlightweight.streaming.stream:[MarketStream: 0]: 1.177444099 added, 1 markets in cache\n",
      "INFO:betfairlightweight.streaming.stream:[MarketStream: 0]: 1.177444099 added, 1 markets in cache\n",
      "INFO:betfairlightweight.streaming.stream:[MarketStream: 0]: 1.177444099 added, 1 markets in cache\n",
      "INFO:betfairlightweight.streaming.stream:[MarketStream: 0]: 1.177444099 added, 1 markets in cache\n",
      "INFO:betfairlightweight.streaming.stream:[MarketStream: 0]: 1.177444099 added, 1 markets in cache\n",
      "INFO:betfairlightweight.streaming.stream:[MarketStream: 0]: 1.177444099 added, 1 markets in cache\n",
      "INFO:betfairlightweight.streaming.stream:[MarketStream: 0]: 1.177444099 added, 1 markets in cache\n"
     ]
    },
    {
     "name": "stdout",
     "output_type": "stream",
     "text": [
      "didnt find postplay results?\n"
     ]
    },
    {
     "name": "stderr",
     "output_type": "stream",
     "text": [
      "INFO:betfairlightweight.streaming.listener:[Register: 0]: marketSubscription\n",
      "WARNING:betfairlightweight.streaming.listener:[Listener: 0]: stream already registered, replacing data\n",
      "INFO:betfairlightweight.streaming.stream:[MarketStream: 0]: \"MarketStream\" created\n",
      "INFO:betfairlightweight.streaming.stream:[MarketStream: 0]: 1.178620168 added, 1 markets in cache\n"
     ]
    },
    {
     "name": "stdout",
     "output_type": "stream",
     "text": [
      "didnt find postplay results?\n"
     ]
    },
    {
     "name": "stderr",
     "output_type": "stream",
     "text": [
      "INFO:betfairlightweight.streaming.listener:[Register: 0]: marketSubscription\n",
      "WARNING:betfairlightweight.streaming.listener:[Listener: 0]: stream already registered, replacing data\n",
      "INFO:betfairlightweight.streaming.stream:[MarketStream: 0]: \"MarketStream\" created\n",
      "INFO:betfairlightweight.streaming.stream:[MarketStream: 0]: 1.177444100 added, 1 markets in cache\n",
      "INFO:betfairlightweight.streaming.stream:[MarketStream: 0]: 1.177444100 added, 1 markets in cache\n",
      "INFO:betfairlightweight.streaming.stream:[MarketStream: 0]: 1.177444100 added, 1 markets in cache\n",
      "INFO:betfairlightweight.streaming.stream:[MarketStream: 0]: 1.177444100 added, 1 markets in cache\n",
      "INFO:betfairlightweight.streaming.stream:[MarketStream: 0]: 1.177444100 added, 1 markets in cache\n",
      "INFO:betfairlightweight.streaming.stream:[MarketStream: 0]: 1.177444100 added, 1 markets in cache\n",
      "INFO:betfairlightweight.streaming.stream:[MarketStream: 0]: 1.177444100 added, 1 markets in cache\n",
      "INFO:betfairlightweight.streaming.stream:[MarketStream: 0]: 1.177444100 added, 1 markets in cache\n",
      "INFO:betfairlightweight.streaming.stream:[MarketStream: 0]: 1.177444100 added, 1 markets in cache\n"
     ]
    },
    {
     "name": "stdout",
     "output_type": "stream",
     "text": [
      "didnt find postplay results?\n"
     ]
    },
    {
     "name": "stderr",
     "output_type": "stream",
     "text": [
      "INFO:betfairlightweight.streaming.listener:[Register: 0]: marketSubscription\n",
      "WARNING:betfairlightweight.streaming.listener:[Listener: 0]: stream already registered, replacing data\n",
      "INFO:betfairlightweight.streaming.stream:[MarketStream: 0]: \"MarketStream\" created\n",
      "INFO:betfairlightweight.streaming.stream:[MarketStream: 0]: 1.178620166 added, 1 markets in cache\n",
      "INFO:betfairlightweight.streaming.stream:[MarketStream: 0]: 1.178620166 added, 1 markets in cache\n",
      "INFO:betfairlightweight.streaming.stream:[MarketStream: 0]: 1.178620166 added, 1 markets in cache\n"
     ]
    },
    {
     "name": "stdout",
     "output_type": "stream",
     "text": [
      "didnt find postplay results?\n"
     ]
    },
    {
     "name": "stderr",
     "output_type": "stream",
     "text": [
      "INFO:betfairlightweight.streaming.listener:[Register: 0]: marketSubscription\n",
      "WARNING:betfairlightweight.streaming.listener:[Listener: 0]: stream already registered, replacing data\n",
      "INFO:betfairlightweight.streaming.stream:[MarketStream: 0]: \"MarketStream\" created\n",
      "INFO:betfairlightweight.streaming.stream:[MarketStream: 0]: 1.177442919 added, 1 markets in cache\n",
      "INFO:betfairlightweight.streaming.stream:[MarketStream: 0]: 1.177442919 added, 1 markets in cache\n",
      "INFO:betfairlightweight.streaming.stream:[MarketStream: 0]: 1.177442919 added, 1 markets in cache\n",
      "INFO:betfairlightweight.streaming.stream:[MarketStream: 0]: 1.177442919 added, 1 markets in cache\n",
      "INFO:betfairlightweight.streaming.stream:[MarketStream: 0]: 1.177442919 added, 1 markets in cache\n",
      "INFO:betfairlightweight.streaming.stream:[MarketStream: 0]: 1.177442919 added, 1 markets in cache\n",
      "INFO:betfairlightweight.streaming.stream:[MarketStream: 0]: 1.177442919 added, 1 markets in cache\n"
     ]
    },
    {
     "name": "stdout",
     "output_type": "stream",
     "text": [
      "didnt find postplay results?\n"
     ]
    },
    {
     "name": "stderr",
     "output_type": "stream",
     "text": [
      "INFO:betfairlightweight.streaming.listener:[Register: 0]: marketSubscription\n",
      "WARNING:betfairlightweight.streaming.listener:[Listener: 0]: stream already registered, replacing data\n",
      "INFO:betfairlightweight.streaming.stream:[MarketStream: 0]: \"MarketStream\" created\n",
      "INFO:betfairlightweight.streaming.stream:[MarketStream: 0]: 1.177442920 added, 1 markets in cache\n",
      "INFO:betfairlightweight.streaming.stream:[MarketStream: 0]: 1.177442920 added, 1 markets in cache\n",
      "INFO:betfairlightweight.streaming.stream:[MarketStream: 0]: 1.177442920 added, 1 markets in cache\n",
      "INFO:betfairlightweight.streaming.stream:[MarketStream: 0]: 1.177442920 added, 1 markets in cache\n",
      "INFO:betfairlightweight.streaming.stream:[MarketStream: 0]: 1.177442920 added, 1 markets in cache\n",
      "INFO:betfairlightweight.streaming.stream:[MarketStream: 0]: 1.177442920 added, 1 markets in cache\n",
      "INFO:betfairlightweight.streaming.stream:[MarketStream: 0]: 1.177442920 added, 1 markets in cache\n",
      "INFO:betfairlightweight.streaming.stream:[MarketStream: 0]: 1.177442920 added, 1 markets in cache\n",
      "INFO:betfairlightweight.streaming.stream:[MarketStream: 0]: 1.177442920 added, 1 markets in cache\n"
     ]
    },
    {
     "name": "stdout",
     "output_type": "stream",
     "text": [
      "didnt find postplay results?\n"
     ]
    },
    {
     "name": "stderr",
     "output_type": "stream",
     "text": [
      "INFO:betfairlightweight.streaming.listener:[Register: 0]: marketSubscription\n",
      "WARNING:betfairlightweight.streaming.listener:[Listener: 0]: stream already registered, replacing data\n",
      "INFO:betfairlightweight.streaming.stream:[MarketStream: 0]: \"MarketStream\" created\n",
      "INFO:betfairlightweight.streaming.stream:[MarketStream: 0]: 1.178665732 added, 1 markets in cache\n"
     ]
    },
    {
     "name": "stdout",
     "output_type": "stream",
     "text": [
      "didnt find postplay results?\n"
     ]
    },
    {
     "name": "stderr",
     "output_type": "stream",
     "text": [
      "INFO:betfairlightweight.streaming.listener:[Register: 0]: marketSubscription\n",
      "WARNING:betfairlightweight.streaming.listener:[Listener: 0]: stream already registered, replacing data\n",
      "INFO:betfairlightweight.streaming.stream:[MarketStream: 0]: \"MarketStream\" created\n",
      "INFO:betfairlightweight.streaming.stream:[MarketStream: 0]: 1.178644100 added, 1 markets in cache\n",
      "INFO:betfairlightweight.streaming.listener:[Register: 0]: marketSubscription\n",
      "WARNING:betfairlightweight.streaming.listener:[Listener: 0]: stream already registered, replacing data\n",
      "INFO:betfairlightweight.streaming.stream:[MarketStream: 0]: \"MarketStream\" created\n",
      "INFO:betfairlightweight.streaming.stream:[MarketStream: 0]: 1.177442904 added, 1 markets in cache\n",
      "INFO:betfairlightweight.streaming.stream:[MarketStream: 0]: 1.177442904 added, 1 markets in cache\n",
      "INFO:betfairlightweight.streaming.stream:[MarketStream: 0]: 1.177442904 added, 1 markets in cache\n",
      "INFO:betfairlightweight.streaming.stream:[MarketStream: 0]: 1.177442904 added, 1 markets in cache\n",
      "INFO:betfairlightweight.streaming.stream:[MarketStream: 0]: 1.177442904 added, 1 markets in cache\n",
      "INFO:betfairlightweight.streaming.stream:[MarketStream: 0]: 1.177442904 added, 1 markets in cache\n",
      "INFO:betfairlightweight.streaming.stream:[MarketStream: 0]: 1.177442904 added, 1 markets in cache\n"
     ]
    },
    {
     "name": "stdout",
     "output_type": "stream",
     "text": [
      "didnt find postplay results?\n",
      "didnt find postplay results?\n"
     ]
    },
    {
     "name": "stderr",
     "output_type": "stream",
     "text": [
      "INFO:betfairlightweight.streaming.listener:[Register: 0]: marketSubscription\n",
      "WARNING:betfairlightweight.streaming.listener:[Listener: 0]: stream already registered, replacing data\n",
      "INFO:betfairlightweight.streaming.stream:[MarketStream: 0]: \"MarketStream\" created\n",
      "INFO:betfairlightweight.streaming.stream:[MarketStream: 0]: 1.177442903 added, 1 markets in cache\n",
      "INFO:betfairlightweight.streaming.stream:[MarketStream: 0]: 1.177442903 added, 1 markets in cache\n",
      "INFO:betfairlightweight.streaming.stream:[MarketStream: 0]: 1.177442903 added, 1 markets in cache\n",
      "INFO:betfairlightweight.streaming.stream:[MarketStream: 0]: 1.177442903 added, 1 markets in cache\n",
      "INFO:betfairlightweight.streaming.stream:[MarketStream: 0]: 1.177442903 added, 1 markets in cache\n",
      "INFO:betfairlightweight.streaming.stream:[MarketStream: 0]: 1.177442903 added, 1 markets in cache\n"
     ]
    },
    {
     "name": "stdout",
     "output_type": "stream",
     "text": [
      "didnt find postplay results?\n"
     ]
    },
    {
     "name": "stderr",
     "output_type": "stream",
     "text": [
      "INFO:betfairlightweight.streaming.listener:[Register: 0]: marketSubscription\n",
      "WARNING:betfairlightweight.streaming.listener:[Listener: 0]: stream already registered, replacing data\n",
      "INFO:betfairlightweight.streaming.stream:[MarketStream: 0]: \"MarketStream\" created\n",
      "INFO:betfairlightweight.streaming.stream:[MarketStream: 0]: 1.177443846 added, 1 markets in cache\n",
      "INFO:betfairlightweight.streaming.stream:[MarketStream: 0]: 1.177443846 added, 1 markets in cache\n",
      "INFO:betfairlightweight.streaming.stream:[MarketStream: 0]: 1.177443846 added, 1 markets in cache\n",
      "INFO:betfairlightweight.streaming.stream:[MarketStream: 0]: 1.177443846 added, 1 markets in cache\n",
      "INFO:betfairlightweight.streaming.stream:[MarketStream: 0]: 1.177443846 added, 1 markets in cache\n",
      "INFO:betfairlightweight.streaming.stream:[MarketStream: 0]: 1.177443846 added, 1 markets in cache\n",
      "INFO:betfairlightweight.streaming.stream:[MarketStream: 0]: 1.177443846 added, 1 markets in cache\n"
     ]
    },
    {
     "name": "stdout",
     "output_type": "stream",
     "text": [
      "didnt find postplay results?\n"
     ]
    },
    {
     "name": "stderr",
     "output_type": "stream",
     "text": [
      "INFO:betfairlightweight.streaming.listener:[Register: 0]: marketSubscription\n",
      "WARNING:betfairlightweight.streaming.listener:[Listener: 0]: stream already registered, replacing data\n",
      "INFO:betfairlightweight.streaming.stream:[MarketStream: 0]: \"MarketStream\" created\n",
      "INFO:betfairlightweight.streaming.stream:[MarketStream: 0]: 1.177443847 added, 1 markets in cache\n",
      "INFO:betfairlightweight.streaming.stream:[MarketStream: 0]: 1.177443847 added, 1 markets in cache\n",
      "INFO:betfairlightweight.streaming.stream:[MarketStream: 0]: 1.177443847 added, 1 markets in cache\n",
      "INFO:betfairlightweight.streaming.stream:[MarketStream: 0]: 1.177443847 added, 1 markets in cache\n",
      "INFO:betfairlightweight.streaming.stream:[MarketStream: 0]: 1.177443847 added, 1 markets in cache\n"
     ]
    },
    {
     "name": "stdout",
     "output_type": "stream",
     "text": [
      "didnt find postplay results?\n"
     ]
    },
    {
     "name": "stderr",
     "output_type": "stream",
     "text": [
      "INFO:betfairlightweight.streaming.listener:[Register: 0]: marketSubscription\n",
      "WARNING:betfairlightweight.streaming.listener:[Listener: 0]: stream already registered, replacing data\n",
      "INFO:betfairlightweight.streaming.stream:[MarketStream: 0]: \"MarketStream\" created\n",
      "INFO:betfairlightweight.streaming.stream:[MarketStream: 0]: 1.177443173 added, 1 markets in cache\n",
      "INFO:betfairlightweight.streaming.listener:[Register: 0]: marketSubscription\n",
      "WARNING:betfairlightweight.streaming.listener:[Listener: 0]: stream already registered, replacing data\n",
      "INFO:betfairlightweight.streaming.stream:[MarketStream: 0]: \"MarketStream\" created\n",
      "INFO:betfairlightweight.streaming.stream:[MarketStream: 0]: 1.177442943 added, 1 markets in cache\n",
      "INFO:betfairlightweight.streaming.stream:[MarketStream: 0]: 1.177442943 added, 1 markets in cache\n",
      "INFO:betfairlightweight.streaming.stream:[MarketStream: 0]: 1.177442943 added, 1 markets in cache\n",
      "INFO:betfairlightweight.streaming.stream:[MarketStream: 0]: 1.177442943 added, 1 markets in cache\n",
      "INFO:betfairlightweight.streaming.stream:[MarketStream: 0]: 1.177442943 added, 1 markets in cache\n",
      "INFO:betfairlightweight.streaming.stream:[MarketStream: 0]: 1.177442943 added, 1 markets in cache\n",
      "INFO:betfairlightweight.streaming.stream:[MarketStream: 0]: 1.177442943 added, 1 markets in cache\n",
      "INFO:betfairlightweight.streaming.stream:[MarketStream: 0]: 1.177442943 added, 1 markets in cache\n",
      "INFO:betfairlightweight.streaming.stream:[MarketStream: 0]: 1.177442943 added, 1 markets in cache\n"
     ]
    },
    {
     "name": "stdout",
     "output_type": "stream",
     "text": [
      "didnt find postplay results?\n"
     ]
    },
    {
     "name": "stderr",
     "output_type": "stream",
     "text": [
      "INFO:betfairlightweight.streaming.listener:[Register: 0]: marketSubscription\n",
      "WARNING:betfairlightweight.streaming.listener:[Listener: 0]: stream already registered, replacing data\n",
      "INFO:betfairlightweight.streaming.stream:[MarketStream: 0]: \"MarketStream\" created\n",
      "INFO:betfairlightweight.streaming.stream:[MarketStream: 0]: 1.178559071 added, 1 markets in cache\n",
      "INFO:betfairlightweight.streaming.stream:[MarketStream: 0]: 1.178559071 added, 1 markets in cache\n",
      "INFO:betfairlightweight.streaming.listener:[Register: 0]: marketSubscription\n",
      "WARNING:betfairlightweight.streaming.listener:[Listener: 0]: stream already registered, replacing data\n",
      "INFO:betfairlightweight.streaming.stream:[MarketStream: 0]: \"MarketStream\" created\n",
      "INFO:betfairlightweight.streaming.stream:[MarketStream: 0]: 1.177444102 added, 1 markets in cache\n",
      "INFO:betfairlightweight.streaming.stream:[MarketStream: 0]: 1.177444102 added, 1 markets in cache\n",
      "INFO:betfairlightweight.streaming.stream:[MarketStream: 0]: 1.177444102 added, 1 markets in cache\n",
      "INFO:betfairlightweight.streaming.stream:[MarketStream: 0]: 1.177444102 added, 1 markets in cache\n",
      "INFO:betfairlightweight.streaming.stream:[MarketStream: 0]: 1.177444102 added, 1 markets in cache\n",
      "INFO:betfairlightweight.streaming.stream:[MarketStream: 0]: 1.177444102 added, 1 markets in cache\n",
      "INFO:betfairlightweight.streaming.stream:[MarketStream: 0]: 1.177444102 added, 1 markets in cache\n"
     ]
    },
    {
     "name": "stdout",
     "output_type": "stream",
     "text": [
      "didnt find postplay results?\n"
     ]
    },
    {
     "name": "stderr",
     "output_type": "stream",
     "text": [
      "INFO:betfairlightweight.streaming.listener:[Register: 0]: marketSubscription\n",
      "WARNING:betfairlightweight.streaming.listener:[Listener: 0]: stream already registered, replacing data\n",
      "INFO:betfairlightweight.streaming.stream:[MarketStream: 0]: \"MarketStream\" created\n",
      "INFO:betfairlightweight.streaming.stream:[MarketStream: 0]: 1.177444101 added, 1 markets in cache\n",
      "INFO:betfairlightweight.streaming.stream:[MarketStream: 0]: 1.177444101 added, 1 markets in cache\n",
      "INFO:betfairlightweight.streaming.stream:[MarketStream: 0]: 1.177444101 added, 1 markets in cache\n",
      "INFO:betfairlightweight.streaming.stream:[MarketStream: 0]: 1.177444101 added, 1 markets in cache\n",
      "INFO:betfairlightweight.streaming.stream:[MarketStream: 0]: 1.177444101 added, 1 markets in cache\n",
      "INFO:betfairlightweight.streaming.stream:[MarketStream: 0]: 1.177444101 added, 1 markets in cache\n",
      "INFO:betfairlightweight.streaming.stream:[MarketStream: 0]: 1.177444101 added, 1 markets in cache\n",
      "INFO:betfairlightweight.streaming.stream:[MarketStream: 0]: 1.177444101 added, 1 markets in cache\n",
      "INFO:betfairlightweight.streaming.stream:[MarketStream: 0]: 1.177444101 added, 1 markets in cache\n"
     ]
    },
    {
     "name": "stdout",
     "output_type": "stream",
     "text": [
      "didnt find postplay results?\n"
     ]
    },
    {
     "name": "stderr",
     "output_type": "stream",
     "text": [
      "INFO:betfairlightweight.streaming.listener:[Register: 0]: marketSubscription\n",
      "WARNING:betfairlightweight.streaming.listener:[Listener: 0]: stream already registered, replacing data\n",
      "INFO:betfairlightweight.streaming.stream:[MarketStream: 0]: \"MarketStream\" created\n",
      "INFO:betfairlightweight.streaming.stream:[MarketStream: 0]: 1.178559070 added, 1 markets in cache\n",
      "INFO:betfairlightweight.streaming.stream:[MarketStream: 0]: 1.178559070 added, 1 markets in cache\n",
      "INFO:betfairlightweight.streaming.stream:[MarketStream: 0]: 1.178559070 added, 1 markets in cache\n"
     ]
    },
    {
     "name": "stdout",
     "output_type": "stream",
     "text": [
      "didnt find postplay results?\n"
     ]
    },
    {
     "name": "stderr",
     "output_type": "stream",
     "text": [
      "INFO:betfairlightweight.streaming.listener:[Register: 0]: marketSubscription\n",
      "WARNING:betfairlightweight.streaming.listener:[Listener: 0]: stream already registered, replacing data\n",
      "INFO:betfairlightweight.streaming.stream:[MarketStream: 0]: \"MarketStream\" created\n",
      "INFO:betfairlightweight.streaming.stream:[MarketStream: 0]: 1.178559069 added, 1 markets in cache\n"
     ]
    },
    {
     "name": "stdout",
     "output_type": "stream",
     "text": [
      "didnt find postplay results?\n"
     ]
    },
    {
     "name": "stderr",
     "output_type": "stream",
     "text": [
      "INFO:betfairlightweight.streaming.listener:[Register: 0]: marketSubscription\n",
      "WARNING:betfairlightweight.streaming.listener:[Listener: 0]: stream already registered, replacing data\n",
      "INFO:betfairlightweight.streaming.stream:[MarketStream: 0]: \"MarketStream\" created\n",
      "INFO:betfairlightweight.streaming.stream:[MarketStream: 0]: 1.177444866 added, 1 markets in cache\n",
      "INFO:betfairlightweight.streaming.stream:[MarketStream: 0]: 1.177444866 added, 1 markets in cache\n",
      "INFO:betfairlightweight.streaming.stream:[MarketStream: 0]: 1.177444866 added, 1 markets in cache\n",
      "INFO:betfairlightweight.streaming.stream:[MarketStream: 0]: 1.177444866 added, 1 markets in cache\n",
      "INFO:betfairlightweight.streaming.stream:[MarketStream: 0]: 1.177444866 added, 1 markets in cache\n"
     ]
    },
    {
     "name": "stdout",
     "output_type": "stream",
     "text": [
      "didnt find postplay results?\n"
     ]
    },
    {
     "name": "stderr",
     "output_type": "stream",
     "text": [
      "INFO:betfairlightweight.streaming.stream:[MarketStream: 0]: 1.177444866 added, 1 markets in cache\n",
      "INFO:betfairlightweight.streaming.listener:[Register: 0]: marketSubscription\n",
      "WARNING:betfairlightweight.streaming.listener:[Listener: 0]: stream already registered, replacing data\n",
      "INFO:betfairlightweight.streaming.stream:[MarketStream: 0]: \"MarketStream\" created\n",
      "INFO:betfairlightweight.streaming.stream:[MarketStream: 0]: 1.177444867 added, 1 markets in cache\n",
      "INFO:betfairlightweight.streaming.stream:[MarketStream: 0]: 1.177444867 added, 1 markets in cache\n",
      "INFO:betfairlightweight.streaming.stream:[MarketStream: 0]: 1.177444867 added, 1 markets in cache\n",
      "INFO:betfairlightweight.streaming.stream:[MarketStream: 0]: 1.177444867 added, 1 markets in cache\n",
      "INFO:betfairlightweight.streaming.stream:[MarketStream: 0]: 1.177444867 added, 1 markets in cache\n",
      "INFO:betfairlightweight.streaming.stream:[MarketStream: 0]: 1.177444867 added, 1 markets in cache\n",
      "INFO:betfairlightweight.streaming.stream:[MarketStream: 0]: 1.177444867 added, 1 markets in cache\n",
      "INFO:betfairlightweight.streaming.stream:[MarketStream: 0]: 1.177444867 added, 1 markets in cache\n",
      "INFO:betfairlightweight.streaming.listener:[Register: 0]: marketSubscription\n",
      "WARNING:betfairlightweight.streaming.listener:[Listener: 0]: stream already registered, replacing data\n",
      "INFO:betfairlightweight.streaming.stream:[MarketStream: 0]: \"MarketStream\" created\n",
      "INFO:betfairlightweight.streaming.stream:[MarketStream: 0]: 1.178559068 added, 1 markets in cache\n",
      "INFO:betfairlightweight.streaming.stream:[MarketStream: 0]: 1.178559068 added, 1 markets in cache\n",
      "INFO:betfairlightweight.streaming.stream:[MarketStream: 0]: 1.178559068 added, 1 markets in cache\n",
      "INFO:betfairlightweight.streaming.stream:[MarketStream: 0]: 1.178559068 added, 1 markets in cache\n",
      "INFO:betfairlightweight.streaming.stream:[MarketStream: 0]: 1.178559068 added, 1 markets in cache\n",
      "INFO:betfairlightweight.streaming.stream:[MarketStream: 0]: 1.178559068 added, 1 markets in cache\n",
      "INFO:betfairlightweight.streaming.stream:[MarketStream: 0]: 1.178559068 added, 1 markets in cache\n"
     ]
    },
    {
     "name": "stdout",
     "output_type": "stream",
     "text": [
      "didnt find postplay results?\n"
     ]
    },
    {
     "name": "stderr",
     "output_type": "stream",
     "text": [
      "INFO:betfairlightweight.streaming.stream:[MarketStream: 0]: 1.178559068 added, 1 markets in cache\n",
      "INFO:betfairlightweight.streaming.stream:[MarketStream: 0]: 1.178559068 added, 1 markets in cache\n",
      "INFO:betfairlightweight.streaming.listener:[Register: 0]: marketSubscription\n",
      "WARNING:betfairlightweight.streaming.listener:[Listener: 0]: stream already registered, replacing data\n",
      "INFO:betfairlightweight.streaming.stream:[MarketStream: 0]: \"MarketStream\" created\n",
      "INFO:betfairlightweight.streaming.stream:[MarketStream: 0]: 1.177442881 added, 1 markets in cache\n",
      "INFO:betfairlightweight.streaming.stream:[MarketStream: 0]: 1.177442881 added, 1 markets in cache\n",
      "INFO:betfairlightweight.streaming.stream:[MarketStream: 0]: 1.177442881 added, 1 markets in cache\n",
      "INFO:betfairlightweight.streaming.stream:[MarketStream: 0]: 1.177442881 added, 1 markets in cache\n",
      "INFO:betfairlightweight.streaming.stream:[MarketStream: 0]: 1.177442881 added, 1 markets in cache\n",
      "INFO:betfairlightweight.streaming.stream:[MarketStream: 0]: 1.177442881 added, 1 markets in cache\n",
      "INFO:betfairlightweight.streaming.stream:[MarketStream: 0]: 1.177442881 added, 1 markets in cache\n",
      "INFO:betfairlightweight.streaming.stream:[MarketStream: 0]: 1.177442881 added, 1 markets in cache\n"
     ]
    },
    {
     "name": "stdout",
     "output_type": "stream",
     "text": [
      "didnt find postplay results?\n"
     ]
    },
    {
     "name": "stderr",
     "output_type": "stream",
     "text": [
      "INFO:betfairlightweight.streaming.listener:[Register: 0]: marketSubscription\n",
      "WARNING:betfairlightweight.streaming.listener:[Listener: 0]: stream already registered, replacing data\n",
      "INFO:betfairlightweight.streaming.stream:[MarketStream: 0]: \"MarketStream\" created\n",
      "INFO:betfairlightweight.streaming.stream:[MarketStream: 0]: 1.178565750 added, 1 markets in cache\n",
      "INFO:betfairlightweight.streaming.listener:[Register: 0]: marketSubscription\n",
      "WARNING:betfairlightweight.streaming.listener:[Listener: 0]: stream already registered, replacing data\n",
      "INFO:betfairlightweight.streaming.stream:[MarketStream: 0]: \"MarketStream\" created\n",
      "INFO:betfairlightweight.streaming.stream:[MarketStream: 0]: 1.177443404 added, 1 markets in cache\n",
      "INFO:betfairlightweight.streaming.listener:[Register: 0]: marketSubscription\n",
      "WARNING:betfairlightweight.streaming.listener:[Listener: 0]: stream already registered, replacing data\n",
      "INFO:betfairlightweight.streaming.stream:[MarketStream: 0]: \"MarketStream\" created\n",
      "INFO:betfairlightweight.streaming.stream:[MarketStream: 0]: 1.177442882 added, 1 markets in cache\n",
      "INFO:betfairlightweight.streaming.stream:[MarketStream: 0]: 1.177442882 added, 1 markets in cache\n",
      "INFO:betfairlightweight.streaming.stream:[MarketStream: 0]: 1.177442882 added, 1 markets in cache\n",
      "INFO:betfairlightweight.streaming.stream:[MarketStream: 0]: 1.177442882 added, 1 markets in cache\n",
      "INFO:betfairlightweight.streaming.stream:[MarketStream: 0]: 1.177442882 added, 1 markets in cache\n",
      "INFO:betfairlightweight.streaming.stream:[MarketStream: 0]: 1.177442882 added, 1 markets in cache\n"
     ]
    },
    {
     "name": "stdout",
     "output_type": "stream",
     "text": [
      "didnt find postplay results?\n",
      "didnt find postplay results?\n",
      "didnt find postplay results?\n"
     ]
    },
    {
     "name": "stderr",
     "output_type": "stream",
     "text": [
      "INFO:betfairlightweight.streaming.listener:[Register: 0]: marketSubscription\n",
      "WARNING:betfairlightweight.streaming.listener:[Listener: 0]: stream already registered, replacing data\n",
      "INFO:betfairlightweight.streaming.stream:[MarketStream: 0]: \"MarketStream\" created\n",
      "INFO:betfairlightweight.streaming.stream:[MarketStream: 0]: 1.178565756 added, 1 markets in cache\n",
      "INFO:betfairlightweight.streaming.listener:[Register: 0]: marketSubscription\n",
      "WARNING:betfairlightweight.streaming.listener:[Listener: 0]: stream already registered, replacing data\n",
      "INFO:betfairlightweight.streaming.stream:[MarketStream: 0]: \"MarketStream\" created\n",
      "INFO:betfairlightweight.streaming.stream:[MarketStream: 0]: 1.177442922 added, 1 markets in cache\n",
      "INFO:betfairlightweight.streaming.stream:[MarketStream: 0]: 1.177442922 added, 1 markets in cache\n",
      "INFO:betfairlightweight.streaming.stream:[MarketStream: 0]: 1.177442922 added, 1 markets in cache\n",
      "INFO:betfairlightweight.streaming.stream:[MarketStream: 0]: 1.177442922 added, 1 markets in cache\n",
      "INFO:betfairlightweight.streaming.stream:[MarketStream: 0]: 1.177442922 added, 1 markets in cache\n",
      "INFO:betfairlightweight.streaming.stream:[MarketStream: 0]: 1.177442922 added, 1 markets in cache\n",
      "INFO:betfairlightweight.streaming.stream:[MarketStream: 0]: 1.177442922 added, 1 markets in cache\n",
      "INFO:betfairlightweight.streaming.stream:[MarketStream: 0]: 1.177442922 added, 1 markets in cache\n"
     ]
    },
    {
     "name": "stdout",
     "output_type": "stream",
     "text": [
      "didnt find postplay results?\n"
     ]
    },
    {
     "name": "stderr",
     "output_type": "stream",
     "text": [
      "INFO:betfairlightweight.streaming.listener:[Register: 0]: marketSubscription\n",
      "WARNING:betfairlightweight.streaming.listener:[Listener: 0]: stream already registered, replacing data\n",
      "INFO:betfairlightweight.streaming.stream:[MarketStream: 0]: \"MarketStream\" created\n",
      "INFO:betfairlightweight.streaming.stream:[MarketStream: 0]: 1.177442905 added, 1 markets in cache\n",
      "INFO:betfairlightweight.streaming.stream:[MarketStream: 0]: 1.177442905 added, 1 markets in cache\n",
      "INFO:betfairlightweight.streaming.stream:[MarketStream: 0]: 1.177442905 added, 1 markets in cache\n",
      "INFO:betfairlightweight.streaming.stream:[MarketStream: 0]: 1.177442905 added, 1 markets in cache\n",
      "INFO:betfairlightweight.streaming.stream:[MarketStream: 0]: 1.177442905 added, 1 markets in cache\n",
      "INFO:betfairlightweight.streaming.stream:[MarketStream: 0]: 1.177442905 added, 1 markets in cache\n",
      "INFO:betfairlightweight.streaming.stream:[MarketStream: 0]: 1.177442905 added, 1 markets in cache\n",
      "INFO:betfairlightweight.streaming.stream:[MarketStream: 0]: 1.177442905 added, 1 markets in cache\n",
      "INFO:betfairlightweight.streaming.stream:[MarketStream: 0]: 1.177442905 added, 1 markets in cache\n"
     ]
    },
    {
     "name": "stdout",
     "output_type": "stream",
     "text": [
      "didnt find postplay results?\n"
     ]
    },
    {
     "name": "stderr",
     "output_type": "stream",
     "text": [
      "INFO:betfairlightweight.streaming.listener:[Register: 0]: marketSubscription\n",
      "WARNING:betfairlightweight.streaming.listener:[Listener: 0]: stream already registered, replacing data\n",
      "INFO:betfairlightweight.streaming.stream:[MarketStream: 0]: \"MarketStream\" created\n",
      "INFO:betfairlightweight.streaming.stream:[MarketStream: 0]: 1.177442921 added, 1 markets in cache\n",
      "INFO:betfairlightweight.streaming.stream:[MarketStream: 0]: 1.177442921 added, 1 markets in cache\n",
      "INFO:betfairlightweight.streaming.stream:[MarketStream: 0]: 1.177442921 added, 1 markets in cache\n",
      "INFO:betfairlightweight.streaming.stream:[MarketStream: 0]: 1.177442921 added, 1 markets in cache\n",
      "INFO:betfairlightweight.streaming.stream:[MarketStream: 0]: 1.177442921 added, 1 markets in cache\n",
      "INFO:betfairlightweight.streaming.stream:[MarketStream: 0]: 1.177442921 added, 1 markets in cache\n",
      "INFO:betfairlightweight.streaming.stream:[MarketStream: 0]: 1.177442921 added, 1 markets in cache\n",
      "INFO:betfairlightweight.streaming.stream:[MarketStream: 0]: 1.177442921 added, 1 markets in cache\n",
      "INFO:betfairlightweight.streaming.stream:[MarketStream: 0]: 1.177442921 added, 1 markets in cache\n"
     ]
    },
    {
     "name": "stdout",
     "output_type": "stream",
     "text": [
      "didnt find postplay results?\n"
     ]
    },
    {
     "name": "stderr",
     "output_type": "stream",
     "text": [
      "INFO:betfairlightweight.streaming.listener:[Register: 0]: marketSubscription\n",
      "WARNING:betfairlightweight.streaming.listener:[Listener: 0]: stream already registered, replacing data\n",
      "INFO:betfairlightweight.streaming.stream:[MarketStream: 0]: \"MarketStream\" created\n",
      "INFO:betfairlightweight.streaming.stream:[MarketStream: 0]: 1.177442906 added, 1 markets in cache\n",
      "INFO:betfairlightweight.streaming.stream:[MarketStream: 0]: 1.177442906 added, 1 markets in cache\n",
      "INFO:betfairlightweight.streaming.stream:[MarketStream: 0]: 1.177442906 added, 1 markets in cache\n",
      "INFO:betfairlightweight.streaming.stream:[MarketStream: 0]: 1.177442906 added, 1 markets in cache\n",
      "INFO:betfairlightweight.streaming.stream:[MarketStream: 0]: 1.177442906 added, 1 markets in cache\n",
      "INFO:betfairlightweight.streaming.stream:[MarketStream: 0]: 1.177442906 added, 1 markets in cache\n",
      "INFO:betfairlightweight.streaming.stream:[MarketStream: 0]: 1.177442906 added, 1 markets in cache\n"
     ]
    },
    {
     "name": "stdout",
     "output_type": "stream",
     "text": [
      "didnt find postplay results?\n"
     ]
    },
    {
     "name": "stderr",
     "output_type": "stream",
     "text": [
      "INFO:betfairlightweight.streaming.listener:[Register: 0]: marketSubscription\n",
      "WARNING:betfairlightweight.streaming.listener:[Listener: 0]: stream already registered, replacing data\n",
      "INFO:betfairlightweight.streaming.stream:[MarketStream: 0]: \"MarketStream\" created\n",
      "INFO:betfairlightweight.streaming.stream:[MarketStream: 0]: 1.178559067 added, 1 markets in cache\n",
      "INFO:betfairlightweight.streaming.stream:[MarketStream: 0]: 1.178559067 added, 1 markets in cache\n",
      "INFO:betfairlightweight.streaming.stream:[MarketStream: 0]: 1.178559067 added, 1 markets in cache\n",
      "INFO:betfairlightweight.streaming.stream:[MarketStream: 0]: 1.178559067 added, 1 markets in cache\n",
      "INFO:betfairlightweight.streaming.stream:[MarketStream: 0]: 1.178559067 added, 1 markets in cache\n",
      "INFO:betfairlightweight.streaming.stream:[MarketStream: 0]: 1.178559067 added, 1 markets in cache\n"
     ]
    },
    {
     "name": "stdout",
     "output_type": "stream",
     "text": [
      "didnt find postplay results?\n"
     ]
    },
    {
     "name": "stderr",
     "output_type": "stream",
     "text": [
      "INFO:betfairlightweight.streaming.listener:[Register: 0]: marketSubscription\n",
      "WARNING:betfairlightweight.streaming.listener:[Listener: 0]: stream already registered, replacing data\n",
      "INFO:betfairlightweight.streaming.stream:[MarketStream: 0]: \"MarketStream\" created\n",
      "INFO:betfairlightweight.streaming.stream:[MarketStream: 0]: 1.177442944 added, 1 markets in cache\n",
      "INFO:betfairlightweight.streaming.stream:[MarketStream: 0]: 1.177442944 added, 1 markets in cache\n",
      "INFO:betfairlightweight.streaming.stream:[MarketStream: 0]: 1.177442944 added, 1 markets in cache\n",
      "INFO:betfairlightweight.streaming.stream:[MarketStream: 0]: 1.177442944 added, 1 markets in cache\n",
      "INFO:betfairlightweight.streaming.stream:[MarketStream: 0]: 1.177442944 added, 1 markets in cache\n",
      "INFO:betfairlightweight.streaming.stream:[MarketStream: 0]: 1.177442944 added, 1 markets in cache\n",
      "INFO:betfairlightweight.streaming.stream:[MarketStream: 0]: 1.177442944 added, 1 markets in cache\n",
      "INFO:betfairlightweight.streaming.stream:[MarketStream: 0]: 1.177442944 added, 1 markets in cache\n",
      "INFO:betfairlightweight.streaming.stream:[MarketStream: 0]: 1.177442944 added, 1 markets in cache\n",
      "INFO:betfairlightweight.streaming.stream:[MarketStream: 0]: 1.177442944 added, 1 markets in cache\n"
     ]
    },
    {
     "name": "stdout",
     "output_type": "stream",
     "text": [
      "didnt find postplay results?\n"
     ]
    },
    {
     "name": "stderr",
     "output_type": "stream",
     "text": [
      "INFO:betfairlightweight.streaming.listener:[Register: 0]: marketSubscription\n",
      "WARNING:betfairlightweight.streaming.listener:[Listener: 0]: stream already registered, replacing data\n",
      "INFO:betfairlightweight.streaming.stream:[MarketStream: 0]: \"MarketStream\" created\n",
      "INFO:betfairlightweight.streaming.stream:[MarketStream: 0]: 1.177444882 added, 1 markets in cache\n",
      "INFO:betfairlightweight.streaming.listener:[Register: 0]: marketSubscription\n",
      "WARNING:betfairlightweight.streaming.listener:[Listener: 0]: stream already registered, replacing data\n",
      "INFO:betfairlightweight.streaming.stream:[MarketStream: 0]: \"MarketStream\" created\n",
      "INFO:betfairlightweight.streaming.stream:[MarketStream: 0]: 1.178625400 added, 1 markets in cache\n"
     ]
    },
    {
     "name": "stdout",
     "output_type": "stream",
     "text": [
      "didnt find postplay results?\n",
      "didnt find postplay results?\n"
     ]
    },
    {
     "name": "stderr",
     "output_type": "stream",
     "text": [
      "INFO:betfairlightweight.streaming.listener:[Register: 0]: marketSubscription\n",
      "WARNING:betfairlightweight.streaming.listener:[Listener: 0]: stream already registered, replacing data\n",
      "INFO:betfairlightweight.streaming.stream:[MarketStream: 0]: \"MarketStream\" created\n",
      "INFO:betfairlightweight.streaming.stream:[MarketStream: 0]: 1.178625446 added, 1 markets in cache\n",
      "INFO:betfairlightweight.streaming.listener:[Register: 0]: marketSubscription\n",
      "WARNING:betfairlightweight.streaming.listener:[Listener: 0]: stream already registered, replacing data\n",
      "INFO:betfairlightweight.streaming.stream:[MarketStream: 0]: \"MarketStream\" created\n",
      "INFO:betfairlightweight.streaming.stream:[MarketStream: 0]: 1.177442867 added, 1 markets in cache\n",
      "INFO:betfairlightweight.streaming.stream:[MarketStream: 0]: 1.177442867 added, 1 markets in cache\n",
      "INFO:betfairlightweight.streaming.stream:[MarketStream: 0]: 1.177442867 added, 1 markets in cache\n",
      "INFO:betfairlightweight.streaming.stream:[MarketStream: 0]: 1.177442867 added, 1 markets in cache\n",
      "INFO:betfairlightweight.streaming.stream:[MarketStream: 0]: 1.177442867 added, 1 markets in cache\n",
      "INFO:betfairlightweight.streaming.stream:[MarketStream: 0]: 1.177442867 added, 1 markets in cache\n",
      "INFO:betfairlightweight.streaming.stream:[MarketStream: 0]: 1.177442867 added, 1 markets in cache\n"
     ]
    },
    {
     "name": "stdout",
     "output_type": "stream",
     "text": [
      "didnt find postplay results?\n",
      "didnt find postplay results?\n"
     ]
    },
    {
     "name": "stderr",
     "output_type": "stream",
     "text": [
      "INFO:betfairlightweight.streaming.listener:[Register: 0]: marketSubscription\n",
      "WARNING:betfairlightweight.streaming.listener:[Listener: 0]: stream already registered, replacing data\n",
      "INFO:betfairlightweight.streaming.stream:[MarketStream: 0]: \"MarketStream\" created\n",
      "INFO:betfairlightweight.streaming.stream:[MarketStream: 0]: 1.177442868 added, 1 markets in cache\n",
      "INFO:betfairlightweight.streaming.stream:[MarketStream: 0]: 1.177442868 added, 1 markets in cache\n",
      "INFO:betfairlightweight.streaming.stream:[MarketStream: 0]: 1.177442868 added, 1 markets in cache\n",
      "INFO:betfairlightweight.streaming.stream:[MarketStream: 0]: 1.177442868 added, 1 markets in cache\n",
      "INFO:betfairlightweight.streaming.stream:[MarketStream: 0]: 1.177442868 added, 1 markets in cache\n"
     ]
    },
    {
     "name": "stdout",
     "output_type": "stream",
     "text": [
      "didnt find postplay results?\n"
     ]
    },
    {
     "name": "stderr",
     "output_type": "stream",
     "text": [
      "INFO:betfairlightweight.streaming.listener:[Register: 0]: marketSubscription\n",
      "WARNING:betfairlightweight.streaming.listener:[Listener: 0]: stream already registered, replacing data\n",
      "INFO:betfairlightweight.streaming.stream:[MarketStream: 0]: \"MarketStream\" created\n",
      "INFO:betfairlightweight.streaming.stream:[MarketStream: 0]: 1.178625399 added, 1 markets in cache\n",
      "INFO:betfairlightweight.streaming.stream:[MarketStream: 0]: 1.178625399 added, 1 markets in cache\n",
      "INFO:betfairlightweight.streaming.listener:[Register: 0]: marketSubscription\n",
      "WARNING:betfairlightweight.streaming.listener:[Listener: 0]: stream already registered, replacing data\n",
      "INFO:betfairlightweight.streaming.stream:[MarketStream: 0]: \"MarketStream\" created\n",
      "INFO:betfairlightweight.streaming.stream:[MarketStream: 0]: 1.177444811 added, 1 markets in cache\n",
      "INFO:betfairlightweight.streaming.listener:[Register: 0]: marketSubscription\n",
      "WARNING:betfairlightweight.streaming.listener:[Listener: 0]: stream already registered, replacing data\n",
      "INFO:betfairlightweight.streaming.stream:[MarketStream: 0]: \"MarketStream\" created\n",
      "INFO:betfairlightweight.streaming.stream:[MarketStream: 0]: 1.177444544 added, 1 markets in cache\n",
      "INFO:betfairlightweight.streaming.stream:[MarketStream: 0]: 1.177444544 added, 1 markets in cache\n",
      "INFO:betfairlightweight.streaming.stream:[MarketStream: 0]: 1.177444544 added, 1 markets in cache\n",
      "INFO:betfairlightweight.streaming.stream:[MarketStream: 0]: 1.177444544 added, 1 markets in cache\n",
      "INFO:betfairlightweight.streaming.stream:[MarketStream: 0]: 1.177444544 added, 1 markets in cache\n",
      "INFO:betfairlightweight.streaming.stream:[MarketStream: 0]: 1.177444544 added, 1 markets in cache\n",
      "INFO:betfairlightweight.streaming.stream:[MarketStream: 0]: 1.177444544 added, 1 markets in cache\n",
      "INFO:betfairlightweight.streaming.stream:[MarketStream: 0]: 1.177444544 added, 1 markets in cache\n"
     ]
    },
    {
     "name": "stdout",
     "output_type": "stream",
     "text": [
      "didnt find postplay results?\n",
      "didnt find postplay results?\n"
     ]
    },
    {
     "name": "stderr",
     "output_type": "stream",
     "text": [
      "INFO:betfairlightweight.streaming.listener:[Register: 0]: marketSubscription\n",
      "WARNING:betfairlightweight.streaming.listener:[Listener: 0]: stream already registered, replacing data\n",
      "INFO:betfairlightweight.streaming.stream:[MarketStream: 0]: \"MarketStream\" created\n",
      "INFO:betfairlightweight.streaming.stream:[MarketStream: 0]: 1.178644099 added, 1 markets in cache\n",
      "INFO:betfairlightweight.streaming.listener:[Register: 0]: marketSubscription\n",
      "WARNING:betfairlightweight.streaming.listener:[Listener: 0]: stream already registered, replacing data\n",
      "INFO:betfairlightweight.streaming.stream:[MarketStream: 0]: \"MarketStream\" created\n",
      "INFO:betfairlightweight.streaming.stream:[MarketStream: 0]: 1.177444543 added, 1 markets in cache\n",
      "INFO:betfairlightweight.streaming.stream:[MarketStream: 0]: 1.177444543 added, 1 markets in cache\n",
      "INFO:betfairlightweight.streaming.stream:[MarketStream: 0]: 1.177444543 added, 1 markets in cache\n",
      "INFO:betfairlightweight.streaming.stream:[MarketStream: 0]: 1.177444543 added, 1 markets in cache\n",
      "INFO:betfairlightweight.streaming.stream:[MarketStream: 0]: 1.177444543 added, 1 markets in cache\n",
      "INFO:betfairlightweight.streaming.stream:[MarketStream: 0]: 1.177444543 added, 1 markets in cache\n"
     ]
    },
    {
     "name": "stdout",
     "output_type": "stream",
     "text": [
      "didnt find postplay results?\n",
      "didnt find postplay results?\n"
     ]
    },
    {
     "name": "stderr",
     "output_type": "stream",
     "text": [
      "INFO:betfairlightweight.streaming.listener:[Register: 0]: marketSubscription\n",
      "WARNING:betfairlightweight.streaming.listener:[Listener: 0]: stream already registered, replacing data\n",
      "INFO:betfairlightweight.streaming.stream:[MarketStream: 0]: \"MarketStream\" created\n",
      "INFO:betfairlightweight.streaming.stream:[MarketStream: 0]: 1.177443848 added, 1 markets in cache\n",
      "INFO:betfairlightweight.streaming.stream:[MarketStream: 0]: 1.177443848 added, 1 markets in cache\n",
      "INFO:betfairlightweight.streaming.stream:[MarketStream: 0]: 1.177443848 added, 1 markets in cache\n",
      "INFO:betfairlightweight.streaming.stream:[MarketStream: 0]: 1.177443848 added, 1 markets in cache\n",
      "INFO:betfairlightweight.streaming.stream:[MarketStream: 0]: 1.177443848 added, 1 markets in cache\n",
      "INFO:betfairlightweight.streaming.stream:[MarketStream: 0]: 1.177443848 added, 1 markets in cache\n",
      "INFO:betfairlightweight.streaming.stream:[MarketStream: 0]: 1.177443848 added, 1 markets in cache\n",
      "INFO:betfairlightweight.streaming.stream:[MarketStream: 0]: 1.177443848 added, 1 markets in cache\n",
      "INFO:betfairlightweight.streaming.stream:[MarketStream: 0]: 1.177443848 added, 1 markets in cache\n",
      "INFO:betfairlightweight.streaming.stream:[MarketStream: 0]: 1.177443848 added, 1 markets in cache\n",
      "INFO:betfairlightweight.streaming.stream:[MarketStream: 0]: 1.177443848 added, 1 markets in cache\n",
      "INFO:betfairlightweight.streaming.stream:[MarketStream: 0]: 1.177443848 added, 1 markets in cache\n",
      "INFO:betfairlightweight.streaming.listener:[Register: 0]: marketSubscription\n",
      "WARNING:betfairlightweight.streaming.listener:[Listener: 0]: stream already registered, replacing data\n",
      "INFO:betfairlightweight.streaming.stream:[MarketStream: 0]: \"MarketStream\" created\n",
      "INFO:betfairlightweight.streaming.stream:[MarketStream: 0]: 1.177443849 added, 1 markets in cache\n",
      "INFO:betfairlightweight.streaming.stream:[MarketStream: 0]: 1.177443849 added, 1 markets in cache\n",
      "INFO:betfairlightweight.streaming.stream:[MarketStream: 0]: 1.177443849 added, 1 markets in cache\n",
      "INFO:betfairlightweight.streaming.stream:[MarketStream: 0]: 1.177443849 added, 1 markets in cache\n",
      "INFO:betfairlightweight.streaming.stream:[MarketStream: 0]: 1.177443849 added, 1 markets in cache\n",
      "INFO:betfairlightweight.streaming.stream:[MarketStream: 0]: 1.177443849 added, 1 markets in cache\n",
      "INFO:betfairlightweight.streaming.stream:[MarketStream: 0]: 1.177443849 added, 1 markets in cache\n"
     ]
    },
    {
     "name": "stdout",
     "output_type": "stream",
     "text": [
      "didnt find postplay results?\n"
     ]
    },
    {
     "name": "stderr",
     "output_type": "stream",
     "text": [
      "INFO:betfairlightweight.streaming.listener:[Register: 0]: marketSubscription\n",
      "WARNING:betfairlightweight.streaming.listener:[Listener: 0]: stream already registered, replacing data\n",
      "INFO:betfairlightweight.streaming.stream:[MarketStream: 0]: \"MarketStream\" created\n",
      "INFO:betfairlightweight.streaming.stream:[MarketStream: 0]: 1.177442945 added, 1 markets in cache\n",
      "INFO:betfairlightweight.streaming.stream:[MarketStream: 0]: 1.177442945 added, 1 markets in cache\n",
      "INFO:betfairlightweight.streaming.stream:[MarketStream: 0]: 1.177442945 added, 1 markets in cache\n",
      "INFO:betfairlightweight.streaming.stream:[MarketStream: 0]: 1.177442945 added, 1 markets in cache\n",
      "INFO:betfairlightweight.streaming.stream:[MarketStream: 0]: 1.177442945 added, 1 markets in cache\n",
      "INFO:betfairlightweight.streaming.stream:[MarketStream: 0]: 1.177442945 added, 1 markets in cache\n",
      "INFO:betfairlightweight.streaming.stream:[MarketStream: 0]: 1.177442945 added, 1 markets in cache\n",
      "INFO:betfairlightweight.streaming.listener:[Register: 0]: marketSubscription\n",
      "WARNING:betfairlightweight.streaming.listener:[Listener: 0]: stream already registered, replacing data\n",
      "INFO:betfairlightweight.streaming.stream:[MarketStream: 0]: \"MarketStream\" created\n",
      "INFO:betfairlightweight.streaming.stream:[MarketStream: 0]: 1.177442946 added, 1 markets in cache\n",
      "INFO:betfairlightweight.streaming.stream:[MarketStream: 0]: 1.177442946 added, 1 markets in cache\n",
      "INFO:betfairlightweight.streaming.stream:[MarketStream: 0]: 1.177442946 added, 1 markets in cache\n",
      "INFO:betfairlightweight.streaming.stream:[MarketStream: 0]: 1.177442946 added, 1 markets in cache\n",
      "INFO:betfairlightweight.streaming.stream:[MarketStream: 0]: 1.177442946 added, 1 markets in cache\n",
      "INFO:betfairlightweight.streaming.stream:[MarketStream: 0]: 1.177442946 added, 1 markets in cache\n",
      "INFO:betfairlightweight.streaming.stream:[MarketStream: 0]: 1.177442946 added, 1 markets in cache\n",
      "INFO:betfairlightweight.streaming.stream:[MarketStream: 0]: 1.177442946 added, 1 markets in cache\n",
      "INFO:betfairlightweight.streaming.stream:[MarketStream: 0]: 1.177442946 added, 1 markets in cache\n",
      "INFO:betfairlightweight.streaming.stream:[MarketStream: 0]: 1.177442946 added, 1 markets in cache\n",
      "INFO:betfairlightweight.streaming.listener:[Register: 0]: marketSubscription\n",
      "WARNING:betfairlightweight.streaming.listener:[Listener: 0]: stream already registered, replacing data\n",
      "INFO:betfairlightweight.streaming.stream:[MarketStream: 0]: \"MarketStream\" created\n",
      "INFO:betfairlightweight.streaming.stream:[MarketStream: 0]: 1.177443174 added, 1 markets in cache\n",
      "INFO:betfairlightweight.streaming.listener:[Register: 0]: marketSubscription\n",
      "WARNING:betfairlightweight.streaming.listener:[Listener: 0]: stream already registered, replacing data\n",
      "INFO:betfairlightweight.streaming.stream:[MarketStream: 0]: \"MarketStream\" created\n",
      "INFO:betfairlightweight.streaming.stream:[MarketStream: 0]: 1.177444103 added, 1 markets in cache\n",
      "INFO:betfairlightweight.streaming.stream:[MarketStream: 0]: 1.177444103 added, 1 markets in cache\n",
      "INFO:betfairlightweight.streaming.stream:[MarketStream: 0]: 1.177444103 added, 1 markets in cache\n",
      "INFO:betfairlightweight.streaming.stream:[MarketStream: 0]: 1.177444103 added, 1 markets in cache\n",
      "INFO:betfairlightweight.streaming.stream:[MarketStream: 0]: 1.177444103 added, 1 markets in cache\n",
      "INFO:betfairlightweight.streaming.stream:[MarketStream: 0]: 1.177444103 added, 1 markets in cache\n",
      "INFO:betfairlightweight.streaming.stream:[MarketStream: 0]: 1.177444103 added, 1 markets in cache\n",
      "INFO:betfairlightweight.streaming.stream:[MarketStream: 0]: 1.177444103 added, 1 markets in cache\n"
     ]
    },
    {
     "name": "stdout",
     "output_type": "stream",
     "text": [
      "didnt find postplay results?\n",
      "didnt find postplay results?\n"
     ]
    },
    {
     "name": "stderr",
     "output_type": "stream",
     "text": [
      "INFO:betfairlightweight.streaming.listener:[Register: 0]: marketSubscription\n",
      "WARNING:betfairlightweight.streaming.listener:[Listener: 0]: stream already registered, replacing data\n",
      "INFO:betfairlightweight.streaming.stream:[MarketStream: 0]: \"MarketStream\" created\n",
      "INFO:betfairlightweight.streaming.stream:[MarketStream: 0]: 1.178620164 added, 1 markets in cache\n"
     ]
    },
    {
     "name": "stdout",
     "output_type": "stream",
     "text": [
      "didnt find postplay results?\n"
     ]
    },
    {
     "name": "stderr",
     "output_type": "stream",
     "text": [
      "INFO:betfairlightweight.streaming.listener:[Register: 0]: marketSubscription\n",
      "WARNING:betfairlightweight.streaming.listener:[Listener: 0]: stream already registered, replacing data\n",
      "INFO:betfairlightweight.streaming.stream:[MarketStream: 0]: \"MarketStream\" created\n",
      "INFO:betfairlightweight.streaming.stream:[MarketStream: 0]: 1.177444104 added, 1 markets in cache\n",
      "INFO:betfairlightweight.streaming.stream:[MarketStream: 0]: 1.177444104 added, 1 markets in cache\n",
      "INFO:betfairlightweight.streaming.stream:[MarketStream: 0]: 1.177444104 added, 1 markets in cache\n",
      "INFO:betfairlightweight.streaming.stream:[MarketStream: 0]: 1.177444104 added, 1 markets in cache\n",
      "INFO:betfairlightweight.streaming.stream:[MarketStream: 0]: 1.177444104 added, 1 markets in cache\n",
      "INFO:betfairlightweight.streaming.stream:[MarketStream: 0]: 1.177444104 added, 1 markets in cache\n",
      "INFO:betfairlightweight.streaming.stream:[MarketStream: 0]: 1.177444104 added, 1 markets in cache\n"
     ]
    },
    {
     "name": "stdout",
     "output_type": "stream",
     "text": [
      "didnt find postplay results?\n"
     ]
    },
    {
     "name": "stderr",
     "output_type": "stream",
     "text": [
      "INFO:betfairlightweight.streaming.listener:[Register: 0]: marketSubscription\n",
      "WARNING:betfairlightweight.streaming.listener:[Listener: 0]: stream already registered, replacing data\n",
      "INFO:betfairlightweight.streaming.stream:[MarketStream: 0]: \"MarketStream\" created\n",
      "INFO:betfairlightweight.streaming.stream:[MarketStream: 0]: 1.178620163 added, 1 markets in cache\n",
      "INFO:betfairlightweight.streaming.stream:[MarketStream: 0]: 1.178620163 added, 1 markets in cache\n",
      "INFO:betfairlightweight.streaming.stream:[MarketStream: 0]: 1.178620163 added, 1 markets in cache\n"
     ]
    },
    {
     "name": "stdout",
     "output_type": "stream",
     "text": [
      "didnt find postplay results?\n"
     ]
    },
    {
     "name": "stderr",
     "output_type": "stream",
     "text": [
      "INFO:betfairlightweight.streaming.listener:[Register: 0]: marketSubscription\n",
      "WARNING:betfairlightweight.streaming.listener:[Listener: 0]: stream already registered, replacing data\n",
      "INFO:betfairlightweight.streaming.stream:[MarketStream: 0]: \"MarketStream\" created\n",
      "INFO:betfairlightweight.streaming.stream:[MarketStream: 0]: 1.177444868 added, 1 markets in cache\n",
      "INFO:betfairlightweight.streaming.stream:[MarketStream: 0]: 1.177444868 added, 1 markets in cache\n",
      "INFO:betfairlightweight.streaming.stream:[MarketStream: 0]: 1.177444868 added, 1 markets in cache\n",
      "INFO:betfairlightweight.streaming.stream:[MarketStream: 0]: 1.177444868 added, 1 markets in cache\n",
      "INFO:betfairlightweight.streaming.stream:[MarketStream: 0]: 1.177444868 added, 1 markets in cache\n"
     ]
    },
    {
     "name": "stdout",
     "output_type": "stream",
     "text": [
      "didnt find postplay results?\n"
     ]
    },
    {
     "name": "stderr",
     "output_type": "stream",
     "text": [
      "INFO:betfairlightweight.streaming.stream:[MarketStream: 0]: 1.177444868 added, 1 markets in cache\n",
      "INFO:betfairlightweight.streaming.listener:[Register: 0]: marketSubscription\n",
      "WARNING:betfairlightweight.streaming.listener:[Listener: 0]: stream already registered, replacing data\n",
      "INFO:betfairlightweight.streaming.stream:[MarketStream: 0]: \"MarketStream\" created\n",
      "INFO:betfairlightweight.streaming.stream:[MarketStream: 0]: 1.177444869 added, 1 markets in cache\n",
      "INFO:betfairlightweight.streaming.stream:[MarketStream: 0]: 1.177444869 added, 1 markets in cache\n",
      "INFO:betfairlightweight.streaming.stream:[MarketStream: 0]: 1.177444869 added, 1 markets in cache\n",
      "INFO:betfairlightweight.streaming.stream:[MarketStream: 0]: 1.177444869 added, 1 markets in cache\n",
      "INFO:betfairlightweight.streaming.stream:[MarketStream: 0]: 1.177444869 added, 1 markets in cache\n",
      "INFO:betfairlightweight.streaming.stream:[MarketStream: 0]: 1.177444869 added, 1 markets in cache\n",
      "INFO:betfairlightweight.streaming.stream:[MarketStream: 0]: 1.177444869 added, 1 markets in cache\n",
      "INFO:betfairlightweight.streaming.stream:[MarketStream: 0]: 1.177444869 added, 1 markets in cache\n",
      "INFO:betfairlightweight.streaming.stream:[MarketStream: 0]: 1.177444869 added, 1 markets in cache\n",
      "INFO:betfairlightweight.streaming.stream:[MarketStream: 0]: 1.177444869 added, 1 markets in cache\n",
      "INFO:betfairlightweight.streaming.stream:[MarketStream: 0]: 1.177444869 added, 1 markets in cache\n",
      "INFO:betfairlightweight.streaming.listener:[Register: 0]: marketSubscription\n",
      "WARNING:betfairlightweight.streaming.listener:[Listener: 0]: stream already registered, replacing data\n",
      "INFO:betfairlightweight.streaming.stream:[MarketStream: 0]: \"MarketStream\" created\n",
      "INFO:betfairlightweight.streaming.stream:[MarketStream: 0]: 1.177444883 added, 1 markets in cache\n",
      "INFO:betfairlightweight.streaming.listener:[Register: 0]: marketSubscription\n",
      "WARNING:betfairlightweight.streaming.listener:[Listener: 0]: stream already registered, replacing data\n",
      "INFO:betfairlightweight.streaming.stream:[MarketStream: 0]: \"MarketStream\" created\n",
      "INFO:betfairlightweight.streaming.stream:[MarketStream: 0]: 1.178559066 added, 1 markets in cache\n",
      "INFO:betfairlightweight.streaming.stream:[MarketStream: 0]: 1.178559066 added, 1 markets in cache\n",
      "INFO:betfairlightweight.streaming.stream:[MarketStream: 0]: 1.178559066 added, 1 markets in cache\n",
      "INFO:betfairlightweight.streaming.stream:[MarketStream: 0]: 1.178559066 added, 1 markets in cache\n"
     ]
    },
    {
     "name": "stdout",
     "output_type": "stream",
     "text": [
      "didnt find postplay results?\n",
      "didnt find postplay results?\n"
     ]
    },
    {
     "name": "stderr",
     "output_type": "stream",
     "text": [
      "INFO:betfairlightweight.streaming.listener:[Register: 0]: marketSubscription\n",
      "WARNING:betfairlightweight.streaming.listener:[Listener: 0]: stream already registered, replacing data\n",
      "INFO:betfairlightweight.streaming.stream:[MarketStream: 0]: \"MarketStream\" created\n",
      "INFO:betfairlightweight.streaming.stream:[MarketStream: 0]: 1.177442923 added, 1 markets in cache\n",
      "INFO:betfairlightweight.streaming.stream:[MarketStream: 0]: 1.177442923 added, 1 markets in cache\n",
      "INFO:betfairlightweight.streaming.stream:[MarketStream: 0]: 1.177442923 added, 1 markets in cache\n",
      "INFO:betfairlightweight.streaming.stream:[MarketStream: 0]: 1.177442923 added, 1 markets in cache\n",
      "INFO:betfairlightweight.streaming.stream:[MarketStream: 0]: 1.177442923 added, 1 markets in cache\n",
      "INFO:betfairlightweight.streaming.stream:[MarketStream: 0]: 1.177442923 added, 1 markets in cache\n",
      "INFO:betfairlightweight.streaming.stream:[MarketStream: 0]: 1.177442923 added, 1 markets in cache\n",
      "INFO:betfairlightweight.streaming.stream:[MarketStream: 0]: 1.177442923 added, 1 markets in cache\n",
      "INFO:betfairlightweight.streaming.stream:[MarketStream: 0]: 1.177442923 added, 1 markets in cache\n"
     ]
    },
    {
     "name": "stdout",
     "output_type": "stream",
     "text": [
      "didnt find postplay results?\n"
     ]
    },
    {
     "name": "stderr",
     "output_type": "stream",
     "text": [
      "INFO:betfairlightweight.streaming.listener:[Register: 0]: marketSubscription\n",
      "WARNING:betfairlightweight.streaming.listener:[Listener: 0]: stream already registered, replacing data\n",
      "INFO:betfairlightweight.streaming.stream:[MarketStream: 0]: \"MarketStream\" created\n",
      "INFO:betfairlightweight.streaming.stream:[MarketStream: 0]: 1.177442924 added, 1 markets in cache\n",
      "INFO:betfairlightweight.streaming.stream:[MarketStream: 0]: 1.177442924 added, 1 markets in cache\n",
      "INFO:betfairlightweight.streaming.stream:[MarketStream: 0]: 1.177442924 added, 1 markets in cache\n",
      "INFO:betfairlightweight.streaming.stream:[MarketStream: 0]: 1.177442924 added, 1 markets in cache\n",
      "INFO:betfairlightweight.streaming.stream:[MarketStream: 0]: 1.177442924 added, 1 markets in cache\n",
      "INFO:betfairlightweight.streaming.stream:[MarketStream: 0]: 1.177442924 added, 1 markets in cache\n",
      "INFO:betfairlightweight.streaming.stream:[MarketStream: 0]: 1.177442924 added, 1 markets in cache\n",
      "INFO:betfairlightweight.streaming.stream:[MarketStream: 0]: 1.177442924 added, 1 markets in cache\n"
     ]
    },
    {
     "name": "stdout",
     "output_type": "stream",
     "text": [
      "didnt find postplay results?\n"
     ]
    },
    {
     "name": "stderr",
     "output_type": "stream",
     "text": [
      "INFO:betfairlightweight.streaming.listener:[Register: 0]: marketSubscription\n",
      "WARNING:betfairlightweight.streaming.listener:[Listener: 0]: stream already registered, replacing data\n",
      "INFO:betfairlightweight.streaming.stream:[MarketStream: 0]: \"MarketStream\" created\n",
      "INFO:betfairlightweight.streaming.stream:[MarketStream: 0]: 1.178559065 added, 1 markets in cache\n",
      "INFO:betfairlightweight.streaming.stream:[MarketStream: 0]: 1.178559065 added, 1 markets in cache\n",
      "INFO:betfairlightweight.streaming.stream:[MarketStream: 0]: 1.178559065 added, 1 markets in cache\n",
      "INFO:betfairlightweight.streaming.stream:[MarketStream: 0]: 1.178559065 added, 1 markets in cache\n"
     ]
    },
    {
     "name": "stdout",
     "output_type": "stream",
     "text": [
      "didnt find postplay results?\n"
     ]
    },
    {
     "name": "stderr",
     "output_type": "stream",
     "text": [
      "INFO:betfairlightweight.streaming.listener:[Register: 0]: marketSubscription\n",
      "WARNING:betfairlightweight.streaming.listener:[Listener: 0]: stream already registered, replacing data\n",
      "INFO:betfairlightweight.streaming.stream:[MarketStream: 0]: \"MarketStream\" created\n",
      "INFO:betfairlightweight.streaming.stream:[MarketStream: 0]: 1.177442883 added, 1 markets in cache\n",
      "INFO:betfairlightweight.streaming.stream:[MarketStream: 0]: 1.177442883 added, 1 markets in cache\n",
      "INFO:betfairlightweight.streaming.stream:[MarketStream: 0]: 1.177442883 added, 1 markets in cache\n",
      "INFO:betfairlightweight.streaming.stream:[MarketStream: 0]: 1.177442883 added, 1 markets in cache\n",
      "INFO:betfairlightweight.streaming.stream:[MarketStream: 0]: 1.177442883 added, 1 markets in cache\n",
      "INFO:betfairlightweight.streaming.stream:[MarketStream: 0]: 1.177442883 added, 1 markets in cache\n",
      "INFO:betfairlightweight.streaming.stream:[MarketStream: 0]: 1.177442883 added, 1 markets in cache\n",
      "INFO:betfairlightweight.streaming.stream:[MarketStream: 0]: 1.177442883 added, 1 markets in cache\n",
      "INFO:betfairlightweight.streaming.stream:[MarketStream: 0]: 1.177442883 added, 1 markets in cache\n",
      "INFO:betfairlightweight.streaming.stream:[MarketStream: 0]: 1.177442883 added, 1 markets in cache\n",
      "INFO:betfairlightweight.streaming.stream:[MarketStream: 0]: 1.177442883 added, 1 markets in cache\n"
     ]
    },
    {
     "name": "stdout",
     "output_type": "stream",
     "text": [
      "didnt find postplay results?\n"
     ]
    },
    {
     "name": "stderr",
     "output_type": "stream",
     "text": [
      "INFO:betfairlightweight.streaming.listener:[Register: 0]: marketSubscription\n",
      "WARNING:betfairlightweight.streaming.listener:[Listener: 0]: stream already registered, replacing data\n",
      "INFO:betfairlightweight.streaming.stream:[MarketStream: 0]: \"MarketStream\" created\n",
      "INFO:betfairlightweight.streaming.stream:[MarketStream: 0]: 1.177442884 added, 1 markets in cache\n",
      "INFO:betfairlightweight.streaming.stream:[MarketStream: 0]: 1.177442884 added, 1 markets in cache\n",
      "INFO:betfairlightweight.streaming.stream:[MarketStream: 0]: 1.177442884 added, 1 markets in cache\n",
      "INFO:betfairlightweight.streaming.stream:[MarketStream: 0]: 1.177442884 added, 1 markets in cache\n",
      "INFO:betfairlightweight.streaming.stream:[MarketStream: 0]: 1.177442884 added, 1 markets in cache\n",
      "INFO:betfairlightweight.streaming.stream:[MarketStream: 0]: 1.177442884 added, 1 markets in cache\n",
      "INFO:betfairlightweight.streaming.stream:[MarketStream: 0]: 1.177442884 added, 1 markets in cache\n",
      "INFO:betfairlightweight.streaming.stream:[MarketStream: 0]: 1.177442884 added, 1 markets in cache\n"
     ]
    },
    {
     "name": "stdout",
     "output_type": "stream",
     "text": [
      "didnt find postplay results?\n"
     ]
    },
    {
     "name": "stderr",
     "output_type": "stream",
     "text": [
      "INFO:betfairlightweight.streaming.listener:[Register: 0]: marketSubscription\n",
      "WARNING:betfairlightweight.streaming.listener:[Listener: 0]: stream already registered, replacing data\n",
      "INFO:betfairlightweight.streaming.stream:[MarketStream: 0]: \"MarketStream\" created\n",
      "INFO:betfairlightweight.streaming.stream:[MarketStream: 0]: 1.178559064 added, 1 markets in cache\n",
      "INFO:betfairlightweight.streaming.stream:[MarketStream: 0]: 1.178559064 added, 1 markets in cache\n",
      "INFO:betfairlightweight.streaming.listener:[Register: 0]: marketSubscription\n",
      "WARNING:betfairlightweight.streaming.listener:[Listener: 0]: stream already registered, replacing data\n",
      "INFO:betfairlightweight.streaming.stream:[MarketStream: 0]: \"MarketStream\" created\n",
      "INFO:betfairlightweight.streaming.stream:[MarketStream: 0]: 1.177443405 added, 1 markets in cache\n",
      "INFO:betfairlightweight.streaming.listener:[Register: 0]: marketSubscription\n",
      "WARNING:betfairlightweight.streaming.listener:[Listener: 0]: stream already registered, replacing data\n",
      "INFO:betfairlightweight.streaming.stream:[MarketStream: 0]: \"MarketStream\" created\n",
      "INFO:betfairlightweight.streaming.stream:[MarketStream: 0]: 1.177442869 added, 1 markets in cache\n",
      "INFO:betfairlightweight.streaming.stream:[MarketStream: 0]: 1.177442869 added, 1 markets in cache\n",
      "INFO:betfairlightweight.streaming.stream:[MarketStream: 0]: 1.177442869 added, 1 markets in cache\n",
      "INFO:betfairlightweight.streaming.stream:[MarketStream: 0]: 1.177442869 added, 1 markets in cache\n",
      "INFO:betfairlightweight.streaming.stream:[MarketStream: 0]: 1.177442869 added, 1 markets in cache\n",
      "INFO:betfairlightweight.streaming.stream:[MarketStream: 0]: 1.177442869 added, 1 markets in cache\n",
      "INFO:betfairlightweight.streaming.stream:[MarketStream: 0]: 1.177442869 added, 1 markets in cache\n",
      "INFO:betfairlightweight.streaming.stream:[MarketStream: 0]: 1.177442869 added, 1 markets in cache\n",
      "INFO:betfairlightweight.streaming.stream:[MarketStream: 0]: 1.177442869 added, 1 markets in cache\n"
     ]
    },
    {
     "name": "stdout",
     "output_type": "stream",
     "text": [
      "didnt find postplay results?\n",
      "didnt find postplay results?\n"
     ]
    },
    {
     "name": "stderr",
     "output_type": "stream",
     "text": [
      "INFO:betfairlightweight.streaming.stream:[MarketStream: 0]: 1.177442869 added, 1 markets in cache\n",
      "INFO:betfairlightweight.streaming.stream:[MarketStream: 0]: 1.177442869 added, 1 markets in cache\n",
      "INFO:betfairlightweight.streaming.stream:[MarketStream: 0]: 1.177442869 added, 1 markets in cache\n",
      "INFO:betfairlightweight.streaming.listener:[Register: 0]: marketSubscription\n",
      "WARNING:betfairlightweight.streaming.listener:[Listener: 0]: stream already registered, replacing data\n",
      "INFO:betfairlightweight.streaming.stream:[MarketStream: 0]: \"MarketStream\" created\n",
      "INFO:betfairlightweight.streaming.stream:[MarketStream: 0]: 1.177443851 added, 1 markets in cache\n",
      "INFO:betfairlightweight.streaming.stream:[MarketStream: 0]: 1.177443851 added, 1 markets in cache\n",
      "INFO:betfairlightweight.streaming.stream:[MarketStream: 0]: 1.177443851 added, 1 markets in cache\n",
      "INFO:betfairlightweight.streaming.stream:[MarketStream: 0]: 1.177443851 added, 1 markets in cache\n",
      "INFO:betfairlightweight.streaming.stream:[MarketStream: 0]: 1.177443851 added, 1 markets in cache\n",
      "INFO:betfairlightweight.streaming.stream:[MarketStream: 0]: 1.177443851 added, 1 markets in cache\n",
      "INFO:betfairlightweight.streaming.stream:[MarketStream: 0]: 1.177443851 added, 1 markets in cache\n"
     ]
    },
    {
     "name": "stdout",
     "output_type": "stream",
     "text": [
      "didnt find postplay results?\n"
     ]
    },
    {
     "name": "stderr",
     "output_type": "stream",
     "text": [
      "INFO:betfairlightweight.streaming.listener:[Register: 0]: marketSubscription\n",
      "WARNING:betfairlightweight.streaming.listener:[Listener: 0]: stream already registered, replacing data\n",
      "INFO:betfairlightweight.streaming.stream:[MarketStream: 0]: \"MarketStream\" created\n",
      "INFO:betfairlightweight.streaming.stream:[MarketStream: 0]: 1.177442907 added, 1 markets in cache\n",
      "INFO:betfairlightweight.streaming.stream:[MarketStream: 0]: 1.177442907 added, 1 markets in cache\n",
      "INFO:betfairlightweight.streaming.stream:[MarketStream: 0]: 1.177442907 added, 1 markets in cache\n",
      "INFO:betfairlightweight.streaming.stream:[MarketStream: 0]: 1.177442907 added, 1 markets in cache\n",
      "INFO:betfairlightweight.streaming.stream:[MarketStream: 0]: 1.177442907 added, 1 markets in cache\n",
      "INFO:betfairlightweight.streaming.stream:[MarketStream: 0]: 1.177442907 added, 1 markets in cache\n",
      "INFO:betfairlightweight.streaming.stream:[MarketStream: 0]: 1.177442907 added, 1 markets in cache\n",
      "INFO:betfairlightweight.streaming.stream:[MarketStream: 0]: 1.177442907 added, 1 markets in cache\n",
      "INFO:betfairlightweight.streaming.stream:[MarketStream: 0]: 1.177442907 added, 1 markets in cache\n",
      "INFO:betfairlightweight.streaming.listener:[Register: 0]: marketSubscription\n",
      "WARNING:betfairlightweight.streaming.listener:[Listener: 0]: stream already registered, replacing data\n",
      "INFO:betfairlightweight.streaming.stream:[MarketStream: 0]: \"MarketStream\" created\n",
      "INFO:betfairlightweight.streaming.stream:[MarketStream: 0]: 1.177443850 added, 1 markets in cache\n",
      "INFO:betfairlightweight.streaming.stream:[MarketStream: 0]: 1.177443850 added, 1 markets in cache\n",
      "INFO:betfairlightweight.streaming.stream:[MarketStream: 0]: 1.177443850 added, 1 markets in cache\n",
      "INFO:betfairlightweight.streaming.stream:[MarketStream: 0]: 1.177443850 added, 1 markets in cache\n",
      "INFO:betfairlightweight.streaming.stream:[MarketStream: 0]: 1.177443850 added, 1 markets in cache\n",
      "INFO:betfairlightweight.streaming.stream:[MarketStream: 0]: 1.177443850 added, 1 markets in cache\n",
      "INFO:betfairlightweight.streaming.stream:[MarketStream: 0]: 1.177443850 added, 1 markets in cache\n",
      "INFO:betfairlightweight.streaming.stream:[MarketStream: 0]: 1.177443850 added, 1 markets in cache\n",
      "INFO:betfairlightweight.streaming.stream:[MarketStream: 0]: 1.177443850 added, 1 markets in cache\n",
      "INFO:betfairlightweight.streaming.stream:[MarketStream: 0]: 1.177443850 added, 1 markets in cache\n",
      "INFO:betfairlightweight.streaming.stream:[MarketStream: 0]: 1.177443850 added, 1 markets in cache\n",
      "INFO:betfairlightweight.streaming.stream:[MarketStream: 0]: 1.177443850 added, 1 markets in cache\n"
     ]
    },
    {
     "name": "stdout",
     "output_type": "stream",
     "text": [
      "didnt find postplay results?\n"
     ]
    },
    {
     "name": "stderr",
     "output_type": "stream",
     "text": [
      "INFO:betfairlightweight.streaming.listener:[Register: 0]: marketSubscription\n",
      "WARNING:betfairlightweight.streaming.listener:[Listener: 0]: stream already registered, replacing data\n",
      "INFO:betfairlightweight.streaming.stream:[MarketStream: 0]: \"MarketStream\" created\n",
      "INFO:betfairlightweight.streaming.stream:[MarketStream: 0]: 1.177442870 added, 1 markets in cache\n",
      "INFO:betfairlightweight.streaming.stream:[MarketStream: 0]: 1.177442870 added, 1 markets in cache\n",
      "INFO:betfairlightweight.streaming.stream:[MarketStream: 0]: 1.177442870 added, 1 markets in cache\n",
      "INFO:betfairlightweight.streaming.stream:[MarketStream: 0]: 1.177442870 added, 1 markets in cache\n",
      "INFO:betfairlightweight.streaming.stream:[MarketStream: 0]: 1.177442870 added, 1 markets in cache\n"
     ]
    },
    {
     "name": "stdout",
     "output_type": "stream",
     "text": [
      "didnt find postplay results?\n"
     ]
    },
    {
     "name": "stderr",
     "output_type": "stream",
     "text": [
      "INFO:betfairlightweight.streaming.listener:[Register: 0]: marketSubscription\n",
      "WARNING:betfairlightweight.streaming.listener:[Listener: 0]: stream already registered, replacing data\n",
      "INFO:betfairlightweight.streaming.stream:[MarketStream: 0]: \"MarketStream\" created\n",
      "INFO:betfairlightweight.streaming.stream:[MarketStream: 0]: 1.178559063 added, 1 markets in cache\n",
      "INFO:betfairlightweight.streaming.stream:[MarketStream: 0]: 1.178559063 added, 1 markets in cache\n",
      "INFO:betfairlightweight.streaming.stream:[MarketStream: 0]: 1.178559063 added, 1 markets in cache\n",
      "INFO:betfairlightweight.streaming.stream:[MarketStream: 0]: 1.178559063 added, 1 markets in cache\n",
      "INFO:betfairlightweight.streaming.stream:[MarketStream: 0]: 1.178559063 added, 1 markets in cache\n",
      "INFO:betfairlightweight.streaming.stream:[MarketStream: 0]: 1.178559063 added, 1 markets in cache\n",
      "INFO:betfairlightweight.streaming.listener:[Register: 0]: marketSubscription\n",
      "WARNING:betfairlightweight.streaming.listener:[Listener: 0]: stream already registered, replacing data\n",
      "INFO:betfairlightweight.streaming.stream:[MarketStream: 0]: \"MarketStream\" created\n",
      "INFO:betfairlightweight.streaming.stream:[MarketStream: 0]: 1.177442908 added, 1 markets in cache\n",
      "INFO:betfairlightweight.streaming.stream:[MarketStream: 0]: 1.177442908 added, 1 markets in cache\n",
      "INFO:betfairlightweight.streaming.stream:[MarketStream: 0]: 1.177442908 added, 1 markets in cache\n",
      "INFO:betfairlightweight.streaming.stream:[MarketStream: 0]: 1.177442908 added, 1 markets in cache\n",
      "INFO:betfairlightweight.streaming.stream:[MarketStream: 0]: 1.177442908 added, 1 markets in cache\n",
      "INFO:betfairlightweight.streaming.stream:[MarketStream: 0]: 1.177442908 added, 1 markets in cache\n",
      "INFO:betfairlightweight.streaming.stream:[MarketStream: 0]: 1.177442908 added, 1 markets in cache\n",
      "INFO:betfairlightweight.streaming.stream:[MarketStream: 0]: 1.177442908 added, 1 markets in cache\n"
     ]
    },
    {
     "name": "stdout",
     "output_type": "stream",
     "text": [
      "didnt find postplay results?\n"
     ]
    },
    {
     "name": "stderr",
     "output_type": "stream",
     "text": [
      "INFO:betfairlightweight.streaming.listener:[Register: 0]: marketSubscription\n",
      "WARNING:betfairlightweight.streaming.listener:[Listener: 0]: stream already registered, replacing data\n",
      "INFO:betfairlightweight.streaming.stream:[MarketStream: 0]: \"MarketStream\" created\n",
      "INFO:betfairlightweight.streaming.stream:[MarketStream: 0]: 1.177443175 added, 1 markets in cache\n",
      "INFO:betfairlightweight.streaming.listener:[Register: 0]: marketSubscription\n",
      "WARNING:betfairlightweight.streaming.listener:[Listener: 0]: stream already registered, replacing data\n",
      "INFO:betfairlightweight.streaming.stream:[MarketStream: 0]: \"MarketStream\" created\n",
      "INFO:betfairlightweight.streaming.stream:[MarketStream: 0]: 1.177442928 added, 1 markets in cache\n",
      "INFO:betfairlightweight.streaming.stream:[MarketStream: 0]: 1.177442928 added, 1 markets in cache\n",
      "INFO:betfairlightweight.streaming.stream:[MarketStream: 0]: 1.177442928 added, 1 markets in cache\n",
      "INFO:betfairlightweight.streaming.stream:[MarketStream: 0]: 1.177442928 added, 1 markets in cache\n",
      "INFO:betfairlightweight.streaming.stream:[MarketStream: 0]: 1.177442928 added, 1 markets in cache\n",
      "INFO:betfairlightweight.streaming.stream:[MarketStream: 0]: 1.177442928 added, 1 markets in cache\n",
      "INFO:betfairlightweight.streaming.stream:[MarketStream: 0]: 1.177442928 added, 1 markets in cache\n",
      "INFO:betfairlightweight.streaming.stream:[MarketStream: 0]: 1.177442928 added, 1 markets in cache\n",
      "INFO:betfairlightweight.streaming.stream:[MarketStream: 0]: 1.177442928 added, 1 markets in cache\n",
      "INFO:betfairlightweight.streaming.stream:[MarketStream: 0]: 1.177442928 added, 1 markets in cache\n"
     ]
    },
    {
     "name": "stdout",
     "output_type": "stream",
     "text": [
      "didnt find postplay results?\n",
      "didnt find postplay results?\n"
     ]
    },
    {
     "name": "stderr",
     "output_type": "stream",
     "text": [
      "INFO:betfairlightweight.streaming.listener:[Register: 0]: marketSubscription\n",
      "WARNING:betfairlightweight.streaming.listener:[Listener: 0]: stream already registered, replacing data\n",
      "INFO:betfairlightweight.streaming.stream:[MarketStream: 0]: \"MarketStream\" created\n",
      "INFO:betfairlightweight.streaming.stream:[MarketStream: 0]: 1.177442927 added, 1 markets in cache\n",
      "INFO:betfairlightweight.streaming.stream:[MarketStream: 0]: 1.177442927 added, 1 markets in cache\n",
      "INFO:betfairlightweight.streaming.stream:[MarketStream: 0]: 1.177442927 added, 1 markets in cache\n",
      "INFO:betfairlightweight.streaming.stream:[MarketStream: 0]: 1.177442927 added, 1 markets in cache\n",
      "INFO:betfairlightweight.streaming.stream:[MarketStream: 0]: 1.177442927 added, 1 markets in cache\n",
      "INFO:betfairlightweight.streaming.stream:[MarketStream: 0]: 1.177442927 added, 1 markets in cache\n",
      "INFO:betfairlightweight.streaming.stream:[MarketStream: 0]: 1.177442927 added, 1 markets in cache\n",
      "INFO:betfairlightweight.streaming.stream:[MarketStream: 0]: 1.177442927 added, 1 markets in cache\n",
      "INFO:betfairlightweight.streaming.stream:[MarketStream: 0]: 1.177442927 added, 1 markets in cache\n",
      "INFO:betfairlightweight.streaming.stream:[MarketStream: 0]: 1.177442927 added, 1 markets in cache\n",
      "INFO:betfairlightweight.streaming.stream:[MarketStream: 0]: 1.177442927 added, 1 markets in cache\n",
      "INFO:betfairlightweight.streaming.stream:[MarketStream: 0]: 1.177442927 added, 1 markets in cache\n",
      "INFO:betfairlightweight.streaming.stream:[MarketStream: 0]: 1.177442927 added, 1 markets in cache\n",
      "INFO:betfairlightweight.streaming.stream:[MarketStream: 0]: 1.177442927 added, 1 markets in cache\n",
      "INFO:betfairlightweight.streaming.stream:[MarketStream: 0]: 1.177442927 added, 1 markets in cache\n",
      "INFO:betfairlightweight.streaming.stream:[MarketStream: 0]: 1.177442927 added, 1 markets in cache\n",
      "INFO:betfairlightweight.streaming.stream:[MarketStream: 0]: 1.177442927 added, 1 markets in cache\n",
      "INFO:betfairlightweight.streaming.stream:[MarketStream: 0]: 1.177442927 added, 1 markets in cache\n",
      "INFO:betfairlightweight.streaming.stream:[MarketStream: 0]: 1.177442927 added, 1 markets in cache\n",
      "INFO:betfairlightweight.streaming.stream:[MarketStream: 0]: 1.177442927 added, 1 markets in cache\n",
      "INFO:betfairlightweight.streaming.stream:[MarketStream: 0]: 1.177442927 added, 1 markets in cache\n",
      "INFO:betfairlightweight.streaming.stream:[MarketStream: 0]: 1.177442927 added, 1 markets in cache\n",
      "INFO:betfairlightweight.streaming.stream:[MarketStream: 0]: 1.177442927 added, 1 markets in cache\n",
      "INFO:betfairlightweight.streaming.listener:[Register: 0]: marketSubscription\n",
      "WARNING:betfairlightweight.streaming.listener:[Listener: 0]: stream already registered, replacing data\n",
      "INFO:betfairlightweight.streaming.stream:[MarketStream: 0]: \"MarketStream\" created\n",
      "INFO:betfairlightweight.streaming.stream:[MarketStream: 0]: 1.177444545 added, 1 markets in cache\n",
      "INFO:betfairlightweight.streaming.stream:[MarketStream: 0]: 1.177444545 added, 1 markets in cache\n",
      "INFO:betfairlightweight.streaming.stream:[MarketStream: 0]: 1.177444545 added, 1 markets in cache\n",
      "INFO:betfairlightweight.streaming.stream:[MarketStream: 0]: 1.177444545 added, 1 markets in cache\n",
      "INFO:betfairlightweight.streaming.stream:[MarketStream: 0]: 1.177444545 added, 1 markets in cache\n",
      "INFO:betfairlightweight.streaming.stream:[MarketStream: 0]: 1.177444545 added, 1 markets in cache\n",
      "INFO:betfairlightweight.streaming.stream:[MarketStream: 0]: 1.177444545 added, 1 markets in cache\n",
      "INFO:betfairlightweight.streaming.stream:[MarketStream: 0]: 1.177444545 added, 1 markets in cache\n"
     ]
    },
    {
     "name": "stdout",
     "output_type": "stream",
     "text": [
      "didnt find postplay results?\n"
     ]
    },
    {
     "name": "stderr",
     "output_type": "stream",
     "text": [
      "INFO:betfairlightweight.streaming.listener:[Register: 0]: marketSubscription\n",
      "WARNING:betfairlightweight.streaming.listener:[Listener: 0]: stream already registered, replacing data\n",
      "INFO:betfairlightweight.streaming.stream:[MarketStream: 0]: \"MarketStream\" created\n",
      "INFO:betfairlightweight.streaming.stream:[MarketStream: 0]: 1.178559062 added, 1 markets in cache\n",
      "INFO:betfairlightweight.streaming.stream:[MarketStream: 0]: 1.178559062 added, 1 markets in cache\n",
      "INFO:betfairlightweight.streaming.stream:[MarketStream: 0]: 1.178559062 added, 1 markets in cache\n",
      "INFO:betfairlightweight.streaming.stream:[MarketStream: 0]: 1.178559062 added, 1 markets in cache\n",
      "INFO:betfairlightweight.streaming.stream:[MarketStream: 0]: 1.178559062 added, 1 markets in cache\n",
      "INFO:betfairlightweight.streaming.stream:[MarketStream: 0]: 1.178559062 added, 1 markets in cache\n",
      "INFO:betfairlightweight.streaming.stream:[MarketStream: 0]: 1.178559062 added, 1 markets in cache\n",
      "INFO:betfairlightweight.streaming.stream:[MarketStream: 0]: 1.178559062 added, 1 markets in cache\n",
      "INFO:betfairlightweight.streaming.stream:[MarketStream: 0]: 1.178559062 added, 1 markets in cache\n",
      "INFO:betfairlightweight.streaming.stream:[MarketStream: 0]: 1.178559062 added, 1 markets in cache\n",
      "INFO:betfairlightweight.streaming.stream:[MarketStream: 0]: 1.178559062 added, 1 markets in cache\n",
      "INFO:betfairlightweight.streaming.stream:[MarketStream: 0]: 1.178559062 added, 1 markets in cache\n",
      "INFO:betfairlightweight.streaming.listener:[Register: 0]: marketSubscription\n",
      "WARNING:betfairlightweight.streaming.listener:[Listener: 0]: stream already registered, replacing data\n",
      "INFO:betfairlightweight.streaming.stream:[MarketStream: 0]: \"MarketStream\" created\n",
      "INFO:betfairlightweight.streaming.stream:[MarketStream: 0]: 1.177444812 added, 1 markets in cache\n",
      "INFO:betfairlightweight.streaming.listener:[Register: 0]: marketSubscription\n",
      "WARNING:betfairlightweight.streaming.listener:[Listener: 0]: stream already registered, replacing data\n",
      "INFO:betfairlightweight.streaming.stream:[MarketStream: 0]: \"MarketStream\" created\n",
      "INFO:betfairlightweight.streaming.stream:[MarketStream: 0]: 1.177444546 added, 1 markets in cache\n",
      "INFO:betfairlightweight.streaming.stream:[MarketStream: 0]: 1.177444546 added, 1 markets in cache\n",
      "INFO:betfairlightweight.streaming.stream:[MarketStream: 0]: 1.177444546 added, 1 markets in cache\n",
      "INFO:betfairlightweight.streaming.stream:[MarketStream: 0]: 1.177444546 added, 1 markets in cache\n",
      "INFO:betfairlightweight.streaming.stream:[MarketStream: 0]: 1.177444546 added, 1 markets in cache\n",
      "INFO:betfairlightweight.streaming.stream:[MarketStream: 0]: 1.177444546 added, 1 markets in cache\n",
      "INFO:betfairlightweight.streaming.stream:[MarketStream: 0]: 1.177444546 added, 1 markets in cache\n",
      "INFO:betfairlightweight.streaming.stream:[MarketStream: 0]: 1.177444546 added, 1 markets in cache\n",
      "INFO:betfairlightweight.streaming.stream:[MarketStream: 0]: 1.177444546 added, 1 markets in cache\n",
      "INFO:betfairlightweight.streaming.stream:[MarketStream: 0]: 1.177444546 added, 1 markets in cache\n",
      "INFO:betfairlightweight.streaming.stream:[MarketStream: 0]: 1.177444546 added, 1 markets in cache\n"
     ]
    },
    {
     "name": "stdout",
     "output_type": "stream",
     "text": [
      "didnt find postplay results?\n",
      "didnt find postplay results?\n"
     ]
    },
    {
     "name": "stderr",
     "output_type": "stream",
     "text": [
      "INFO:betfairlightweight.streaming.stream:[MarketStream: 0]: 1.177444546 added, 1 markets in cache\n",
      "INFO:betfairlightweight.streaming.listener:[Register: 0]: marketSubscription\n",
      "WARNING:betfairlightweight.streaming.listener:[Listener: 0]: stream already registered, replacing data\n",
      "INFO:betfairlightweight.streaming.stream:[MarketStream: 0]: \"MarketStream\" created\n",
      "INFO:betfairlightweight.streaming.stream:[MarketStream: 0]: 1.177444105 added, 1 markets in cache\n",
      "INFO:betfairlightweight.streaming.stream:[MarketStream: 0]: 1.177444105 added, 1 markets in cache\n",
      "INFO:betfairlightweight.streaming.stream:[MarketStream: 0]: 1.177444105 added, 1 markets in cache\n",
      "INFO:betfairlightweight.streaming.stream:[MarketStream: 0]: 1.177444105 added, 1 markets in cache\n",
      "INFO:betfairlightweight.streaming.stream:[MarketStream: 0]: 1.177444105 added, 1 markets in cache\n",
      "INFO:betfairlightweight.streaming.stream:[MarketStream: 0]: 1.177444105 added, 1 markets in cache\n",
      "INFO:betfairlightweight.streaming.stream:[MarketStream: 0]: 1.177444105 added, 1 markets in cache\n",
      "INFO:betfairlightweight.streaming.stream:[MarketStream: 0]: 1.177444105 added, 1 markets in cache\n"
     ]
    },
    {
     "name": "stdout",
     "output_type": "stream",
     "text": [
      "didnt find postplay results?\n"
     ]
    },
    {
     "name": "stderr",
     "output_type": "stream",
     "text": [
      "INFO:betfairlightweight.streaming.listener:[Register: 0]: marketSubscription\n",
      "WARNING:betfairlightweight.streaming.listener:[Listener: 0]: stream already registered, replacing data\n",
      "INFO:betfairlightweight.streaming.stream:[MarketStream: 0]: \"MarketStream\" created\n",
      "INFO:betfairlightweight.streaming.stream:[MarketStream: 0]: 1.177444106 added, 1 markets in cache\n",
      "INFO:betfairlightweight.streaming.stream:[MarketStream: 0]: 1.177444106 added, 1 markets in cache\n",
      "INFO:betfairlightweight.streaming.stream:[MarketStream: 0]: 1.177444106 added, 1 markets in cache\n",
      "INFO:betfairlightweight.streaming.stream:[MarketStream: 0]: 1.177444106 added, 1 markets in cache\n",
      "INFO:betfairlightweight.streaming.stream:[MarketStream: 0]: 1.177444106 added, 1 markets in cache\n",
      "INFO:betfairlightweight.streaming.stream:[MarketStream: 0]: 1.177444106 added, 1 markets in cache\n",
      "INFO:betfairlightweight.streaming.stream:[MarketStream: 0]: 1.177444106 added, 1 markets in cache\n",
      "INFO:betfairlightweight.streaming.stream:[MarketStream: 0]: 1.177444106 added, 1 markets in cache\n"
     ]
    },
    {
     "name": "stdout",
     "output_type": "stream",
     "text": [
      "didnt find postplay results?\n"
     ]
    },
    {
     "name": "stderr",
     "output_type": "stream",
     "text": [
      "INFO:betfairlightweight.streaming.listener:[Register: 0]: marketSubscription\n",
      "WARNING:betfairlightweight.streaming.listener:[Listener: 0]: stream already registered, replacing data\n",
      "INFO:betfairlightweight.streaming.stream:[MarketStream: 0]: \"MarketStream\" created\n",
      "INFO:betfairlightweight.streaming.stream:[MarketStream: 0]: 1.178625398 added, 1 markets in cache\n"
     ]
    },
    {
     "name": "stdout",
     "output_type": "stream",
     "text": [
      "didnt find postplay results?\n"
     ]
    },
    {
     "name": "stderr",
     "output_type": "stream",
     "text": [
      "INFO:betfairlightweight.streaming.listener:[Register: 0]: marketSubscription\n",
      "WARNING:betfairlightweight.streaming.listener:[Listener: 0]: stream already registered, replacing data\n",
      "INFO:betfairlightweight.streaming.stream:[MarketStream: 0]: \"MarketStream\" created\n",
      "INFO:betfairlightweight.streaming.stream:[MarketStream: 0]: 1.177442948 added, 1 markets in cache\n",
      "INFO:betfairlightweight.streaming.stream:[MarketStream: 0]: 1.177442948 added, 1 markets in cache\n",
      "INFO:betfairlightweight.streaming.stream:[MarketStream: 0]: 1.177442948 added, 1 markets in cache\n",
      "INFO:betfairlightweight.streaming.stream:[MarketStream: 0]: 1.177442948 added, 1 markets in cache\n",
      "INFO:betfairlightweight.streaming.stream:[MarketStream: 0]: 1.177442948 added, 1 markets in cache\n",
      "INFO:betfairlightweight.streaming.stream:[MarketStream: 0]: 1.177442948 added, 1 markets in cache\n",
      "INFO:betfairlightweight.streaming.stream:[MarketStream: 0]: 1.177442948 added, 1 markets in cache\n",
      "INFO:betfairlightweight.streaming.stream:[MarketStream: 0]: 1.177442948 added, 1 markets in cache\n",
      "INFO:betfairlightweight.streaming.stream:[MarketStream: 0]: 1.177442948 added, 1 markets in cache\n",
      "INFO:betfairlightweight.streaming.stream:[MarketStream: 0]: 1.177442948 added, 1 markets in cache\n",
      "INFO:betfairlightweight.streaming.stream:[MarketStream: 0]: 1.177442948 added, 1 markets in cache\n",
      "INFO:betfairlightweight.streaming.stream:[MarketStream: 0]: 1.177442948 added, 1 markets in cache\n"
     ]
    },
    {
     "name": "stdout",
     "output_type": "stream",
     "text": [
      "didnt find postplay results?\n"
     ]
    },
    {
     "name": "stderr",
     "output_type": "stream",
     "text": [
      "INFO:betfairlightweight.streaming.listener:[Register: 0]: marketSubscription\n",
      "WARNING:betfairlightweight.streaming.listener:[Listener: 0]: stream already registered, replacing data\n",
      "INFO:betfairlightweight.streaming.stream:[MarketStream: 0]: \"MarketStream\" created\n",
      "INFO:betfairlightweight.streaming.stream:[MarketStream: 0]: 1.177442947 added, 1 markets in cache\n",
      "INFO:betfairlightweight.streaming.stream:[MarketStream: 0]: 1.177442947 added, 1 markets in cache\n",
      "INFO:betfairlightweight.streaming.stream:[MarketStream: 0]: 1.177442947 added, 1 markets in cache\n",
      "INFO:betfairlightweight.streaming.stream:[MarketStream: 0]: 1.177442947 added, 1 markets in cache\n",
      "INFO:betfairlightweight.streaming.stream:[MarketStream: 0]: 1.177442947 added, 1 markets in cache\n",
      "INFO:betfairlightweight.streaming.stream:[MarketStream: 0]: 1.177442947 added, 1 markets in cache\n",
      "INFO:betfairlightweight.streaming.stream:[MarketStream: 0]: 1.177442947 added, 1 markets in cache\n"
     ]
    },
    {
     "name": "stdout",
     "output_type": "stream",
     "text": [
      "didnt find postplay results?\n"
     ]
    },
    {
     "name": "stderr",
     "output_type": "stream",
     "text": [
      "INFO:betfairlightweight.streaming.listener:[Register: 0]: marketSubscription\n",
      "WARNING:betfairlightweight.streaming.listener:[Listener: 0]: stream already registered, replacing data\n",
      "INFO:betfairlightweight.streaming.stream:[MarketStream: 0]: \"MarketStream\" created\n",
      "INFO:betfairlightweight.streaming.stream:[MarketStream: 0]: 1.177442925 added, 1 markets in cache\n",
      "INFO:betfairlightweight.streaming.stream:[MarketStream: 0]: 1.177442925 added, 1 markets in cache\n",
      "INFO:betfairlightweight.streaming.stream:[MarketStream: 0]: 1.177442925 added, 1 markets in cache\n",
      "INFO:betfairlightweight.streaming.stream:[MarketStream: 0]: 1.177442925 added, 1 markets in cache\n",
      "INFO:betfairlightweight.streaming.stream:[MarketStream: 0]: 1.177442925 added, 1 markets in cache\n",
      "INFO:betfairlightweight.streaming.stream:[MarketStream: 0]: 1.177442925 added, 1 markets in cache\n",
      "INFO:betfairlightweight.streaming.stream:[MarketStream: 0]: 1.177442925 added, 1 markets in cache\n",
      "INFO:betfairlightweight.streaming.stream:[MarketStream: 0]: 1.177442925 added, 1 markets in cache\n",
      "INFO:betfairlightweight.streaming.stream:[MarketStream: 0]: 1.177442925 added, 1 markets in cache\n",
      "INFO:betfairlightweight.streaming.listener:[Register: 0]: marketSubscription\n",
      "WARNING:betfairlightweight.streaming.listener:[Listener: 0]: stream already registered, replacing data\n",
      "INFO:betfairlightweight.streaming.stream:[MarketStream: 0]: \"MarketStream\" created\n",
      "INFO:betfairlightweight.streaming.stream:[MarketStream: 0]: 1.177444870 added, 1 markets in cache\n",
      "INFO:betfairlightweight.streaming.stream:[MarketStream: 0]: 1.177444870 added, 1 markets in cache\n",
      "INFO:betfairlightweight.streaming.stream:[MarketStream: 0]: 1.177444870 added, 1 markets in cache\n",
      "INFO:betfairlightweight.streaming.stream:[MarketStream: 0]: 1.177444870 added, 1 markets in cache\n",
      "INFO:betfairlightweight.streaming.stream:[MarketStream: 0]: 1.177444870 added, 1 markets in cache\n",
      "INFO:betfairlightweight.streaming.stream:[MarketStream: 0]: 1.177444870 added, 1 markets in cache\n",
      "INFO:betfairlightweight.streaming.stream:[MarketStream: 0]: 1.177444870 added, 1 markets in cache\n",
      "INFO:betfairlightweight.streaming.stream:[MarketStream: 0]: 1.177444870 added, 1 markets in cache\n",
      "INFO:betfairlightweight.streaming.stream:[MarketStream: 0]: 1.177444870 added, 1 markets in cache\n",
      "INFO:betfairlightweight.streaming.stream:[MarketStream: 0]: 1.177444870 added, 1 markets in cache\n",
      "INFO:betfairlightweight.streaming.stream:[MarketStream: 0]: 1.177444870 added, 1 markets in cache\n"
     ]
    },
    {
     "name": "stdout",
     "output_type": "stream",
     "text": [
      "didnt find postplay results?\n"
     ]
    },
    {
     "name": "stderr",
     "output_type": "stream",
     "text": [
      "INFO:betfairlightweight.streaming.listener:[Register: 0]: marketSubscription\n",
      "WARNING:betfairlightweight.streaming.listener:[Listener: 0]: stream already registered, replacing data\n",
      "INFO:betfairlightweight.streaming.stream:[MarketStream: 0]: \"MarketStream\" created\n",
      "INFO:betfairlightweight.streaming.stream:[MarketStream: 0]: 1.177480847 added, 1 markets in cache\n",
      "INFO:betfairlightweight.streaming.listener:[Register: 0]: marketSubscription\n",
      "WARNING:betfairlightweight.streaming.listener:[Listener: 0]: stream already registered, replacing data\n",
      "INFO:betfairlightweight.streaming.stream:[MarketStream: 0]: \"MarketStream\" created\n",
      "INFO:betfairlightweight.streaming.stream:[MarketStream: 0]: 1.178625437 added, 1 markets in cache\n",
      "INFO:betfairlightweight.streaming.listener:[Register: 0]: marketSubscription\n",
      "WARNING:betfairlightweight.streaming.listener:[Listener: 0]: stream already registered, replacing data\n",
      "INFO:betfairlightweight.streaming.stream:[MarketStream: 0]: \"MarketStream\" created\n",
      "INFO:betfairlightweight.streaming.stream:[MarketStream: 0]: 1.177480853 added, 1 markets in cache\n",
      "INFO:betfairlightweight.streaming.listener:[Register: 0]: marketSubscription\n",
      "WARNING:betfairlightweight.streaming.listener:[Listener: 0]: stream already registered, replacing data\n",
      "INFO:betfairlightweight.streaming.stream:[MarketStream: 0]: \"MarketStream\" created\n",
      "INFO:betfairlightweight.streaming.stream:[MarketStream: 0]: 1.177480846 added, 1 markets in cache\n",
      "INFO:betfairlightweight.streaming.listener:[Register: 0]: marketSubscription\n",
      "WARNING:betfairlightweight.streaming.listener:[Listener: 0]: stream already registered, replacing data\n",
      "INFO:betfairlightweight.streaming.stream:[MarketStream: 0]: \"MarketStream\" created\n",
      "INFO:betfairlightweight.streaming.stream:[MarketStream: 0]: 1.177480854 added, 1 markets in cache\n",
      "INFO:betfairlightweight.streaming.listener:[Register: 0]: marketSubscription\n",
      "WARNING:betfairlightweight.streaming.listener:[Listener: 0]: stream already registered, replacing data\n",
      "INFO:betfairlightweight.streaming.stream:[MarketStream: 0]: \"MarketStream\" created\n",
      "INFO:betfairlightweight.streaming.stream:[MarketStream: 0]: 1.177444884 added, 1 markets in cache\n"
     ]
    },
    {
     "name": "stdout",
     "output_type": "stream",
     "text": [
      "didnt find postplay results?\n",
      "didnt find postplay results?\n",
      "didnt find postplay results?\n",
      "didnt find postplay results?\n",
      "didnt find postplay results?\n",
      "didnt find postplay results?\n"
     ]
    },
    {
     "name": "stderr",
     "output_type": "stream",
     "text": [
      "INFO:betfairlightweight.streaming.listener:[Register: 0]: marketSubscription\n",
      "WARNING:betfairlightweight.streaming.listener:[Listener: 0]: stream already registered, replacing data\n",
      "INFO:betfairlightweight.streaming.stream:[MarketStream: 0]: \"MarketStream\" created\n",
      "INFO:betfairlightweight.streaming.stream:[MarketStream: 0]: 1.177442926 added, 1 markets in cache\n",
      "INFO:betfairlightweight.streaming.stream:[MarketStream: 0]: 1.177442926 added, 1 markets in cache\n",
      "INFO:betfairlightweight.streaming.stream:[MarketStream: 0]: 1.177442926 added, 1 markets in cache\n",
      "INFO:betfairlightweight.streaming.stream:[MarketStream: 0]: 1.177442926 added, 1 markets in cache\n",
      "INFO:betfairlightweight.streaming.stream:[MarketStream: 0]: 1.177442926 added, 1 markets in cache\n",
      "INFO:betfairlightweight.streaming.stream:[MarketStream: 0]: 1.177442926 added, 1 markets in cache\n",
      "INFO:betfairlightweight.streaming.stream:[MarketStream: 0]: 1.177442926 added, 1 markets in cache\n",
      "INFO:betfairlightweight.streaming.stream:[MarketStream: 0]: 1.177442926 added, 1 markets in cache\n",
      "INFO:betfairlightweight.streaming.stream:[MarketStream: 0]: 1.177442926 added, 1 markets in cache\n",
      "INFO:betfairlightweight.streaming.listener:[Register: 0]: marketSubscription\n",
      "WARNING:betfairlightweight.streaming.listener:[Listener: 0]: stream already registered, replacing data\n",
      "INFO:betfairlightweight.streaming.stream:[MarketStream: 0]: \"MarketStream\" created\n",
      "INFO:betfairlightweight.streaming.stream:[MarketStream: 0]: 1.178625396 added, 1 markets in cache\n"
     ]
    },
    {
     "name": "stdout",
     "output_type": "stream",
     "text": [
      "didnt find postplay results?\n"
     ]
    },
    {
     "name": "stderr",
     "output_type": "stream",
     "text": [
      "INFO:betfairlightweight.streaming.listener:[Register: 0]: marketSubscription\n",
      "WARNING:betfairlightweight.streaming.listener:[Listener: 0]: stream already registered, replacing data\n",
      "INFO:betfairlightweight.streaming.stream:[MarketStream: 0]: \"MarketStream\" created\n",
      "INFO:betfairlightweight.streaming.stream:[MarketStream: 0]: 1.177444871 added, 1 markets in cache\n",
      "INFO:betfairlightweight.streaming.stream:[MarketStream: 0]: 1.177444871 added, 1 markets in cache\n",
      "INFO:betfairlightweight.streaming.stream:[MarketStream: 0]: 1.177444871 added, 1 markets in cache\n",
      "INFO:betfairlightweight.streaming.stream:[MarketStream: 0]: 1.177444871 added, 1 markets in cache\n",
      "INFO:betfairlightweight.streaming.stream:[MarketStream: 0]: 1.177444871 added, 1 markets in cache\n",
      "INFO:betfairlightweight.streaming.stream:[MarketStream: 0]: 1.177444871 added, 1 markets in cache\n",
      "INFO:betfairlightweight.streaming.stream:[MarketStream: 0]: 1.177444871 added, 1 markets in cache\n",
      "INFO:betfairlightweight.streaming.stream:[MarketStream: 0]: 1.177444871 added, 1 markets in cache\n",
      "INFO:betfairlightweight.streaming.stream:[MarketStream: 0]: 1.177444871 added, 1 markets in cache\n",
      "INFO:betfairlightweight.streaming.stream:[MarketStream: 0]: 1.177444871 added, 1 markets in cache\n",
      "INFO:betfairlightweight.streaming.stream:[MarketStream: 0]: 1.177444871 added, 1 markets in cache\n"
     ]
    },
    {
     "name": "stdout",
     "output_type": "stream",
     "text": [
      "didnt find postplay results?\n"
     ]
    },
    {
     "name": "stderr",
     "output_type": "stream",
     "text": [
      "INFO:betfairlightweight.streaming.listener:[Register: 0]: marketSubscription\n",
      "WARNING:betfairlightweight.streaming.listener:[Listener: 0]: stream already registered, replacing data\n",
      "INFO:betfairlightweight.streaming.stream:[MarketStream: 0]: \"MarketStream\" created\n",
      "INFO:betfairlightweight.streaming.stream:[MarketStream: 0]: 1.177442886 added, 1 markets in cache\n",
      "INFO:betfairlightweight.streaming.stream:[MarketStream: 0]: 1.177442886 added, 1 markets in cache\n",
      "INFO:betfairlightweight.streaming.stream:[MarketStream: 0]: 1.177442886 added, 1 markets in cache\n",
      "INFO:betfairlightweight.streaming.stream:[MarketStream: 0]: 1.177442886 added, 1 markets in cache\n",
      "INFO:betfairlightweight.streaming.stream:[MarketStream: 0]: 1.177442886 added, 1 markets in cache\n",
      "INFO:betfairlightweight.streaming.stream:[MarketStream: 0]: 1.177442886 added, 1 markets in cache\n"
     ]
    },
    {
     "name": "stdout",
     "output_type": "stream",
     "text": [
      "didnt find postplay results?\n"
     ]
    },
    {
     "name": "stderr",
     "output_type": "stream",
     "text": [
      "INFO:betfairlightweight.streaming.stream:[MarketStream: 0]: 1.177442886 added, 1 markets in cache\n",
      "INFO:betfairlightweight.streaming.listener:[Register: 0]: marketSubscription\n",
      "WARNING:betfairlightweight.streaming.listener:[Listener: 0]: stream already registered, replacing data\n",
      "INFO:betfairlightweight.streaming.stream:[MarketStream: 0]: \"MarketStream\" created\n",
      "INFO:betfairlightweight.streaming.stream:[MarketStream: 0]: 1.178620161 added, 1 markets in cache\n",
      "INFO:betfairlightweight.streaming.listener:[Register: 0]: marketSubscription\n",
      "WARNING:betfairlightweight.streaming.listener:[Listener: 0]: stream already registered, replacing data\n",
      "INFO:betfairlightweight.streaming.stream:[MarketStream: 0]: \"MarketStream\" created\n",
      "INFO:betfairlightweight.streaming.stream:[MarketStream: 0]: 1.177442885 added, 1 markets in cache\n",
      "INFO:betfairlightweight.streaming.stream:[MarketStream: 0]: 1.177442885 added, 1 markets in cache\n",
      "INFO:betfairlightweight.streaming.stream:[MarketStream: 0]: 1.177442885 added, 1 markets in cache\n",
      "INFO:betfairlightweight.streaming.stream:[MarketStream: 0]: 1.177442885 added, 1 markets in cache\n",
      "INFO:betfairlightweight.streaming.stream:[MarketStream: 0]: 1.177442885 added, 1 markets in cache\n",
      "INFO:betfairlightweight.streaming.stream:[MarketStream: 0]: 1.177442885 added, 1 markets in cache\n",
      "INFO:betfairlightweight.streaming.stream:[MarketStream: 0]: 1.177442885 added, 1 markets in cache\n",
      "INFO:betfairlightweight.streaming.stream:[MarketStream: 0]: 1.177442885 added, 1 markets in cache\n",
      "INFO:betfairlightweight.streaming.stream:[MarketStream: 0]: 1.177442885 added, 1 markets in cache\n"
     ]
    },
    {
     "name": "stdout",
     "output_type": "stream",
     "text": [
      "didnt find postplay results?\n"
     ]
    },
    {
     "name": "stderr",
     "output_type": "stream",
     "text": [
      "INFO:betfairlightweight.streaming.listener:[Register: 0]: marketSubscription\n",
      "WARNING:betfairlightweight.streaming.listener:[Listener: 0]: stream already registered, replacing data\n",
      "INFO:betfairlightweight.streaming.stream:[MarketStream: 0]: \"MarketStream\" created\n",
      "INFO:betfairlightweight.streaming.stream:[MarketStream: 0]: 1.177443406 added, 1 markets in cache\n",
      "INFO:betfairlightweight.streaming.listener:[Register: 0]: marketSubscription\n",
      "WARNING:betfairlightweight.streaming.listener:[Listener: 0]: stream already registered, replacing data\n",
      "INFO:betfairlightweight.streaming.stream:[MarketStream: 0]: \"MarketStream\" created\n",
      "INFO:betfairlightweight.streaming.stream:[MarketStream: 0]: 1.177442871 added, 1 markets in cache\n",
      "INFO:betfairlightweight.streaming.stream:[MarketStream: 0]: 1.177442871 added, 1 markets in cache\n",
      "INFO:betfairlightweight.streaming.stream:[MarketStream: 0]: 1.177442871 added, 1 markets in cache\n",
      "INFO:betfairlightweight.streaming.stream:[MarketStream: 0]: 1.177442871 added, 1 markets in cache\n",
      "INFO:betfairlightweight.streaming.stream:[MarketStream: 0]: 1.177442871 added, 1 markets in cache\n",
      "INFO:betfairlightweight.streaming.stream:[MarketStream: 0]: 1.177442871 added, 1 markets in cache\n",
      "INFO:betfairlightweight.streaming.stream:[MarketStream: 0]: 1.177442871 added, 1 markets in cache\n",
      "INFO:betfairlightweight.streaming.stream:[MarketStream: 0]: 1.177442871 added, 1 markets in cache\n",
      "INFO:betfairlightweight.streaming.stream:[MarketStream: 0]: 1.177442871 added, 1 markets in cache\n",
      "INFO:betfairlightweight.streaming.stream:[MarketStream: 0]: 1.177442871 added, 1 markets in cache\n",
      "INFO:betfairlightweight.streaming.stream:[MarketStream: 0]: 1.177442871 added, 1 markets in cache\n"
     ]
    },
    {
     "name": "stdout",
     "output_type": "stream",
     "text": [
      "didnt find postplay results?\n",
      "didnt find postplay results?\n"
     ]
    },
    {
     "name": "stderr",
     "output_type": "stream",
     "text": [
      "INFO:betfairlightweight.streaming.stream:[MarketStream: 0]: 1.177442871 added, 1 markets in cache\n",
      "INFO:betfairlightweight.streaming.stream:[MarketStream: 0]: 1.177442871 added, 1 markets in cache\n",
      "INFO:betfairlightweight.streaming.stream:[MarketStream: 0]: 1.177442871 added, 1 markets in cache\n",
      "INFO:betfairlightweight.streaming.listener:[Register: 0]: marketSubscription\n",
      "WARNING:betfairlightweight.streaming.listener:[Listener: 0]: stream already registered, replacing data\n",
      "INFO:betfairlightweight.streaming.stream:[MarketStream: 0]: \"MarketStream\" created\n",
      "INFO:betfairlightweight.streaming.stream:[MarketStream: 0]: 1.177442872 added, 1 markets in cache\n",
      "INFO:betfairlightweight.streaming.stream:[MarketStream: 0]: 1.177442872 added, 1 markets in cache\n",
      "INFO:betfairlightweight.streaming.stream:[MarketStream: 0]: 1.177442872 added, 1 markets in cache\n",
      "INFO:betfairlightweight.streaming.stream:[MarketStream: 0]: 1.177442872 added, 1 markets in cache\n",
      "INFO:betfairlightweight.streaming.stream:[MarketStream: 0]: 1.177442872 added, 1 markets in cache\n",
      "INFO:betfairlightweight.streaming.stream:[MarketStream: 0]: 1.177442872 added, 1 markets in cache\n",
      "INFO:betfairlightweight.streaming.stream:[MarketStream: 0]: 1.177442872 added, 1 markets in cache\n",
      "INFO:betfairlightweight.streaming.stream:[MarketStream: 0]: 1.177442872 added, 1 markets in cache\n"
     ]
    },
    {
     "name": "stdout",
     "output_type": "stream",
     "text": [
      "didnt find postplay results?\n"
     ]
    },
    {
     "name": "stderr",
     "output_type": "stream",
     "text": [
      "INFO:betfairlightweight.streaming.listener:[Register: 0]: marketSubscription\n",
      "WARNING:betfairlightweight.streaming.listener:[Listener: 0]: stream already registered, replacing data\n",
      "INFO:betfairlightweight.streaming.stream:[MarketStream: 0]: \"MarketStream\" created\n",
      "INFO:betfairlightweight.streaming.stream:[MarketStream: 0]: 1.178647205 added, 1 markets in cache\n",
      "INFO:betfairlightweight.streaming.listener:[Register: 0]: marketSubscription\n",
      "WARNING:betfairlightweight.streaming.listener:[Listener: 0]: stream already registered, replacing data\n",
      "INFO:betfairlightweight.streaming.stream:[MarketStream: 0]: \"MarketStream\" created\n",
      "INFO:betfairlightweight.streaming.stream:[MarketStream: 0]: 1.177442909 added, 1 markets in cache\n",
      "INFO:betfairlightweight.streaming.stream:[MarketStream: 0]: 1.177442909 added, 1 markets in cache\n",
      "INFO:betfairlightweight.streaming.stream:[MarketStream: 0]: 1.177442909 added, 1 markets in cache\n",
      "INFO:betfairlightweight.streaming.stream:[MarketStream: 0]: 1.177442909 added, 1 markets in cache\n",
      "INFO:betfairlightweight.streaming.stream:[MarketStream: 0]: 1.177442909 added, 1 markets in cache\n",
      "INFO:betfairlightweight.streaming.stream:[MarketStream: 0]: 1.177442909 added, 1 markets in cache\n",
      "INFO:betfairlightweight.streaming.stream:[MarketStream: 0]: 1.177442909 added, 1 markets in cache\n",
      "INFO:betfairlightweight.streaming.stream:[MarketStream: 0]: 1.177442909 added, 1 markets in cache\n",
      "INFO:betfairlightweight.streaming.stream:[MarketStream: 0]: 1.177442909 added, 1 markets in cache\n",
      "INFO:betfairlightweight.streaming.stream:[MarketStream: 0]: 1.177442909 added, 1 markets in cache\n",
      "INFO:betfairlightweight.streaming.stream:[MarketStream: 0]: 1.177442909 added, 1 markets in cache\n"
     ]
    },
    {
     "name": "stdout",
     "output_type": "stream",
     "text": [
      "didnt find postplay results?\n"
     ]
    },
    {
     "name": "stderr",
     "output_type": "stream",
     "text": [
      "INFO:betfairlightweight.streaming.listener:[Register: 0]: marketSubscription\n",
      "WARNING:betfairlightweight.streaming.listener:[Listener: 0]: stream already registered, replacing data\n",
      "INFO:betfairlightweight.streaming.stream:[MarketStream: 0]: \"MarketStream\" created\n",
      "INFO:betfairlightweight.streaming.stream:[MarketStream: 0]: 1.177443176 added, 1 markets in cache\n",
      "INFO:betfairlightweight.streaming.listener:[Register: 0]: marketSubscription\n",
      "WARNING:betfairlightweight.streaming.listener:[Listener: 0]: stream already registered, replacing data\n",
      "INFO:betfairlightweight.streaming.stream:[MarketStream: 0]: \"MarketStream\" created\n",
      "INFO:betfairlightweight.streaming.stream:[MarketStream: 0]: 1.177442910 added, 1 markets in cache\n",
      "INFO:betfairlightweight.streaming.stream:[MarketStream: 0]: 1.177442910 added, 1 markets in cache\n",
      "INFO:betfairlightweight.streaming.stream:[MarketStream: 0]: 1.177442910 added, 1 markets in cache\n",
      "INFO:betfairlightweight.streaming.stream:[MarketStream: 0]: 1.177442910 added, 1 markets in cache\n",
      "INFO:betfairlightweight.streaming.stream:[MarketStream: 0]: 1.177442910 added, 1 markets in cache\n",
      "INFO:betfairlightweight.streaming.stream:[MarketStream: 0]: 1.177442910 added, 1 markets in cache\n",
      "INFO:betfairlightweight.streaming.stream:[MarketStream: 0]: 1.177442910 added, 1 markets in cache\n"
     ]
    },
    {
     "name": "stdout",
     "output_type": "stream",
     "text": [
      "didnt find postplay results?\n",
      "didnt find postplay results?\n"
     ]
    },
    {
     "name": "stderr",
     "output_type": "stream",
     "text": [
      "INFO:betfairlightweight.streaming.listener:[Register: 0]: marketSubscription\n",
      "WARNING:betfairlightweight.streaming.listener:[Listener: 0]: stream already registered, replacing data\n",
      "INFO:betfairlightweight.streaming.stream:[MarketStream: 0]: \"MarketStream\" created\n",
      "INFO:betfairlightweight.streaming.stream:[MarketStream: 0]: 1.177442929 added, 1 markets in cache\n",
      "INFO:betfairlightweight.streaming.stream:[MarketStream: 0]: 1.177442929 added, 1 markets in cache\n",
      "INFO:betfairlightweight.streaming.stream:[MarketStream: 0]: 1.177442929 added, 1 markets in cache\n",
      "INFO:betfairlightweight.streaming.stream:[MarketStream: 0]: 1.177442929 added, 1 markets in cache\n",
      "INFO:betfairlightweight.streaming.stream:[MarketStream: 0]: 1.177442929 added, 1 markets in cache\n",
      "INFO:betfairlightweight.streaming.stream:[MarketStream: 0]: 1.177442929 added, 1 markets in cache\n",
      "INFO:betfairlightweight.streaming.stream:[MarketStream: 0]: 1.177442929 added, 1 markets in cache\n",
      "INFO:betfairlightweight.streaming.stream:[MarketStream: 0]: 1.177442929 added, 1 markets in cache\n",
      "INFO:betfairlightweight.streaming.stream:[MarketStream: 0]: 1.177442929 added, 1 markets in cache\n",
      "INFO:betfairlightweight.streaming.stream:[MarketStream: 0]: 1.177442929 added, 1 markets in cache\n",
      "INFO:betfairlightweight.streaming.stream:[MarketStream: 0]: 1.177442929 added, 1 markets in cache\n",
      "INFO:betfairlightweight.streaming.stream:[MarketStream: 0]: 1.177442929 added, 1 markets in cache\n",
      "INFO:betfairlightweight.streaming.stream:[MarketStream: 0]: 1.177442929 added, 1 markets in cache\n",
      "INFO:betfairlightweight.streaming.stream:[MarketStream: 0]: 1.177442929 added, 1 markets in cache\n",
      "INFO:betfairlightweight.streaming.stream:[MarketStream: 0]: 1.177442929 added, 1 markets in cache\n",
      "INFO:betfairlightweight.streaming.stream:[MarketStream: 0]: 1.177442929 added, 1 markets in cache\n",
      "INFO:betfairlightweight.streaming.stream:[MarketStream: 0]: 1.177442929 added, 1 markets in cache\n",
      "INFO:betfairlightweight.streaming.stream:[MarketStream: 0]: 1.177442929 added, 1 markets in cache\n",
      "INFO:betfairlightweight.streaming.stream:[MarketStream: 0]: 1.177442929 added, 1 markets in cache\n",
      "INFO:betfairlightweight.streaming.stream:[MarketStream: 0]: 1.177442929 added, 1 markets in cache\n",
      "INFO:betfairlightweight.streaming.stream:[MarketStream: 0]: 1.177442929 added, 1 markets in cache\n"
     ]
    },
    {
     "name": "stdout",
     "output_type": "stream",
     "text": [
      "didnt find postplay results?\n"
     ]
    },
    {
     "name": "stderr",
     "output_type": "stream",
     "text": [
      "INFO:betfairlightweight.streaming.stream:[MarketStream: 0]: 1.177442929 added, 1 markets in cache\n",
      "INFO:betfairlightweight.streaming.listener:[Register: 0]: marketSubscription\n",
      "WARNING:betfairlightweight.streaming.listener:[Listener: 0]: stream already registered, replacing data\n",
      "INFO:betfairlightweight.streaming.stream:[MarketStream: 0]: \"MarketStream\" created\n",
      "INFO:betfairlightweight.streaming.stream:[MarketStream: 0]: 1.177443178 added, 1 markets in cache\n",
      "INFO:betfairlightweight.streaming.listener:[Register: 0]: marketSubscription\n",
      "WARNING:betfairlightweight.streaming.listener:[Listener: 0]: stream already registered, replacing data\n",
      "INFO:betfairlightweight.streaming.stream:[MarketStream: 0]: \"MarketStream\" created\n",
      "INFO:betfairlightweight.streaming.stream:[MarketStream: 0]: 1.177442930 added, 1 markets in cache\n",
      "INFO:betfairlightweight.streaming.stream:[MarketStream: 0]: 1.177442930 added, 1 markets in cache\n",
      "INFO:betfairlightweight.streaming.stream:[MarketStream: 0]: 1.177442930 added, 1 markets in cache\n",
      "INFO:betfairlightweight.streaming.stream:[MarketStream: 0]: 1.177442930 added, 1 markets in cache\n"
     ]
    },
    {
     "name": "stdout",
     "output_type": "stream",
     "text": [
      "didnt find postplay results?\n",
      "didnt find postplay results?\n"
     ]
    },
    {
     "name": "stderr",
     "output_type": "stream",
     "text": [
      "INFO:betfairlightweight.streaming.stream:[MarketStream: 0]: 1.177442930 added, 1 markets in cache\n",
      "INFO:betfairlightweight.streaming.stream:[MarketStream: 0]: 1.177442930 added, 1 markets in cache\n",
      "INFO:betfairlightweight.streaming.stream:[MarketStream: 0]: 1.177442930 added, 1 markets in cache\n",
      "INFO:betfairlightweight.streaming.stream:[MarketStream: 0]: 1.177442930 added, 1 markets in cache\n",
      "INFO:betfairlightweight.streaming.stream:[MarketStream: 0]: 1.177442930 added, 1 markets in cache\n",
      "INFO:betfairlightweight.streaming.stream:[MarketStream: 0]: 1.177442930 added, 1 markets in cache\n",
      "INFO:betfairlightweight.streaming.stream:[MarketStream: 0]: 1.177442930 added, 1 markets in cache\n",
      "INFO:betfairlightweight.streaming.stream:[MarketStream: 0]: 1.177442930 added, 1 markets in cache\n",
      "INFO:betfairlightweight.streaming.stream:[MarketStream: 0]: 1.177442930 added, 1 markets in cache\n",
      "INFO:betfairlightweight.streaming.listener:[Register: 0]: marketSubscription\n",
      "WARNING:betfairlightweight.streaming.listener:[Listener: 0]: stream already registered, replacing data\n",
      "INFO:betfairlightweight.streaming.stream:[MarketStream: 0]: \"MarketStream\" created\n",
      "INFO:betfairlightweight.streaming.stream:[MarketStream: 0]: 1.178620160 added, 1 markets in cache\n",
      "INFO:betfairlightweight.streaming.stream:[MarketStream: 0]: 1.178620160 added, 1 markets in cache\n",
      "INFO:betfairlightweight.streaming.stream:[MarketStream: 0]: 1.178620160 added, 1 markets in cache\n",
      "INFO:betfairlightweight.streaming.stream:[MarketStream: 0]: 1.178620160 added, 1 markets in cache\n",
      "INFO:betfairlightweight.streaming.listener:[Register: 0]: marketSubscription\n",
      "WARNING:betfairlightweight.streaming.listener:[Listener: 0]: stream already registered, replacing data\n",
      "INFO:betfairlightweight.streaming.stream:[MarketStream: 0]: \"MarketStream\" created\n",
      "INFO:betfairlightweight.streaming.stream:[MarketStream: 0]: 1.177443852 added, 1 markets in cache\n",
      "INFO:betfairlightweight.streaming.stream:[MarketStream: 0]: 1.177443852 added, 1 markets in cache\n",
      "INFO:betfairlightweight.streaming.stream:[MarketStream: 0]: 1.177443852 added, 1 markets in cache\n",
      "INFO:betfairlightweight.streaming.stream:[MarketStream: 0]: 1.177443852 added, 1 markets in cache\n",
      "INFO:betfairlightweight.streaming.stream:[MarketStream: 0]: 1.177443852 added, 1 markets in cache\n",
      "INFO:betfairlightweight.streaming.stream:[MarketStream: 0]: 1.177443852 added, 1 markets in cache\n",
      "INFO:betfairlightweight.streaming.stream:[MarketStream: 0]: 1.177443852 added, 1 markets in cache\n",
      "INFO:betfairlightweight.streaming.stream:[MarketStream: 0]: 1.177443852 added, 1 markets in cache\n",
      "INFO:betfairlightweight.streaming.stream:[MarketStream: 0]: 1.177443852 added, 1 markets in cache\n"
     ]
    },
    {
     "name": "stdout",
     "output_type": "stream",
     "text": [
      "didnt find postplay results?\n"
     ]
    },
    {
     "name": "stderr",
     "output_type": "stream",
     "text": [
      "INFO:betfairlightweight.streaming.listener:[Register: 0]: marketSubscription\n",
      "WARNING:betfairlightweight.streaming.listener:[Listener: 0]: stream already registered, replacing data\n",
      "INFO:betfairlightweight.streaming.stream:[MarketStream: 0]: \"MarketStream\" created\n",
      "INFO:betfairlightweight.streaming.stream:[MarketStream: 0]: 1.177444547 added, 1 markets in cache\n",
      "INFO:betfairlightweight.streaming.stream:[MarketStream: 0]: 1.177444547 added, 1 markets in cache\n",
      "INFO:betfairlightweight.streaming.stream:[MarketStream: 0]: 1.177444547 added, 1 markets in cache\n",
      "INFO:betfairlightweight.streaming.stream:[MarketStream: 0]: 1.177444547 added, 1 markets in cache\n",
      "INFO:betfairlightweight.streaming.stream:[MarketStream: 0]: 1.177444547 added, 1 markets in cache\n",
      "INFO:betfairlightweight.streaming.stream:[MarketStream: 0]: 1.177444547 added, 1 markets in cache\n",
      "INFO:betfairlightweight.streaming.stream:[MarketStream: 0]: 1.177444547 added, 1 markets in cache\n"
     ]
    },
    {
     "name": "stdout",
     "output_type": "stream",
     "text": [
      "didnt find postplay results?\n"
     ]
    },
    {
     "name": "stderr",
     "output_type": "stream",
     "text": [
      "INFO:betfairlightweight.streaming.listener:[Register: 0]: marketSubscription\n",
      "WARNING:betfairlightweight.streaming.listener:[Listener: 0]: stream already registered, replacing data\n",
      "INFO:betfairlightweight.streaming.stream:[MarketStream: 0]: \"MarketStream\" created\n",
      "INFO:betfairlightweight.streaming.stream:[MarketStream: 0]: 1.177443853 added, 1 markets in cache\n",
      "INFO:betfairlightweight.streaming.stream:[MarketStream: 0]: 1.177443853 added, 1 markets in cache\n",
      "INFO:betfairlightweight.streaming.stream:[MarketStream: 0]: 1.177443853 added, 1 markets in cache\n",
      "INFO:betfairlightweight.streaming.stream:[MarketStream: 0]: 1.177443853 added, 1 markets in cache\n",
      "INFO:betfairlightweight.streaming.stream:[MarketStream: 0]: 1.177443853 added, 1 markets in cache\n",
      "INFO:betfairlightweight.streaming.stream:[MarketStream: 0]: 1.177443853 added, 1 markets in cache\n",
      "INFO:betfairlightweight.streaming.stream:[MarketStream: 0]: 1.177443853 added, 1 markets in cache\n",
      "INFO:betfairlightweight.streaming.stream:[MarketStream: 0]: 1.177443853 added, 1 markets in cache\n",
      "INFO:betfairlightweight.streaming.stream:[MarketStream: 0]: 1.177443853 added, 1 markets in cache\n",
      "INFO:betfairlightweight.streaming.stream:[MarketStream: 0]: 1.177443853 added, 1 markets in cache\n",
      "INFO:betfairlightweight.streaming.listener:[Register: 0]: marketSubscription\n",
      "WARNING:betfairlightweight.streaming.listener:[Listener: 0]: stream already registered, replacing data\n",
      "INFO:betfairlightweight.streaming.stream:[MarketStream: 0]: \"MarketStream\" created\n",
      "INFO:betfairlightweight.streaming.stream:[MarketStream: 0]: 1.178661446 added, 1 markets in cache\n",
      "INFO:betfairlightweight.streaming.listener:[Register: 0]: marketSubscription\n",
      "WARNING:betfairlightweight.streaming.listener:[Listener: 0]: stream already registered, replacing data\n",
      "INFO:betfairlightweight.streaming.stream:[MarketStream: 0]: \"MarketStream\" created\n",
      "INFO:betfairlightweight.streaming.stream:[MarketStream: 0]: 1.177444548 added, 1 markets in cache\n",
      "INFO:betfairlightweight.streaming.stream:[MarketStream: 0]: 1.177444548 added, 1 markets in cache\n",
      "INFO:betfairlightweight.streaming.stream:[MarketStream: 0]: 1.177444548 added, 1 markets in cache\n",
      "INFO:betfairlightweight.streaming.stream:[MarketStream: 0]: 1.177444548 added, 1 markets in cache\n",
      "INFO:betfairlightweight.streaming.stream:[MarketStream: 0]: 1.177444548 added, 1 markets in cache\n",
      "INFO:betfairlightweight.streaming.stream:[MarketStream: 0]: 1.177444548 added, 1 markets in cache\n",
      "INFO:betfairlightweight.streaming.stream:[MarketStream: 0]: 1.177444548 added, 1 markets in cache\n",
      "INFO:betfairlightweight.streaming.stream:[MarketStream: 0]: 1.177444548 added, 1 markets in cache\n",
      "INFO:betfairlightweight.streaming.stream:[MarketStream: 0]: 1.177444548 added, 1 markets in cache\n",
      "INFO:betfairlightweight.streaming.stream:[MarketStream: 0]: 1.177444548 added, 1 markets in cache\n",
      "INFO:betfairlightweight.streaming.stream:[MarketStream: 0]: 1.177444548 added, 1 markets in cache\n"
     ]
    },
    {
     "name": "stdout",
     "output_type": "stream",
     "text": [
      "didnt find postplay results?\n"
     ]
    },
    {
     "name": "stderr",
     "output_type": "stream",
     "text": [
      "INFO:betfairlightweight.streaming.listener:[Register: 0]: marketSubscription\n",
      "WARNING:betfairlightweight.streaming.listener:[Listener: 0]: stream already registered, replacing data\n",
      "INFO:betfairlightweight.streaming.stream:[MarketStream: 0]: \"MarketStream\" created\n",
      "INFO:betfairlightweight.streaming.stream:[MarketStream: 0]: 1.177444108 added, 1 markets in cache\n",
      "INFO:betfairlightweight.streaming.stream:[MarketStream: 0]: 1.177444108 added, 1 markets in cache\n",
      "INFO:betfairlightweight.streaming.stream:[MarketStream: 0]: 1.177444108 added, 1 markets in cache\n",
      "INFO:betfairlightweight.streaming.stream:[MarketStream: 0]: 1.177444108 added, 1 markets in cache\n",
      "INFO:betfairlightweight.streaming.stream:[MarketStream: 0]: 1.177444108 added, 1 markets in cache\n",
      "INFO:betfairlightweight.streaming.stream:[MarketStream: 0]: 1.177444108 added, 1 markets in cache\n",
      "INFO:betfairlightweight.streaming.stream:[MarketStream: 0]: 1.177444108 added, 1 markets in cache\n",
      "INFO:betfairlightweight.streaming.stream:[MarketStream: 0]: 1.177444108 added, 1 markets in cache\n",
      "INFO:betfairlightweight.streaming.stream:[MarketStream: 0]: 1.177444108 added, 1 markets in cache\n"
     ]
    },
    {
     "name": "stdout",
     "output_type": "stream",
     "text": [
      "didnt find postplay results?\n"
     ]
    },
    {
     "name": "stderr",
     "output_type": "stream",
     "text": [
      "INFO:betfairlightweight.streaming.listener:[Register: 0]: marketSubscription\n",
      "WARNING:betfairlightweight.streaming.listener:[Listener: 0]: stream already registered, replacing data\n",
      "INFO:betfairlightweight.streaming.stream:[MarketStream: 0]: \"MarketStream\" created\n",
      "INFO:betfairlightweight.streaming.stream:[MarketStream: 0]: 1.177444107 added, 1 markets in cache\n",
      "INFO:betfairlightweight.streaming.stream:[MarketStream: 0]: 1.177444107 added, 1 markets in cache\n",
      "INFO:betfairlightweight.streaming.stream:[MarketStream: 0]: 1.177444107 added, 1 markets in cache\n",
      "INFO:betfairlightweight.streaming.stream:[MarketStream: 0]: 1.177444107 added, 1 markets in cache\n",
      "INFO:betfairlightweight.streaming.stream:[MarketStream: 0]: 1.177444107 added, 1 markets in cache\n",
      "INFO:betfairlightweight.streaming.stream:[MarketStream: 0]: 1.177444107 added, 1 markets in cache\n",
      "INFO:betfairlightweight.streaming.stream:[MarketStream: 0]: 1.177444107 added, 1 markets in cache\n",
      "INFO:betfairlightweight.streaming.stream:[MarketStream: 0]: 1.177444107 added, 1 markets in cache\n"
     ]
    },
    {
     "name": "stdout",
     "output_type": "stream",
     "text": [
      "didnt find postplay results?\n"
     ]
    },
    {
     "name": "stderr",
     "output_type": "stream",
     "text": [
      "INFO:betfairlightweight.streaming.listener:[Register: 0]: marketSubscription\n",
      "WARNING:betfairlightweight.streaming.listener:[Listener: 0]: stream already registered, replacing data\n",
      "INFO:betfairlightweight.streaming.stream:[MarketStream: 0]: \"MarketStream\" created\n",
      "INFO:betfairlightweight.streaming.stream:[MarketStream: 0]: 1.178559061 added, 1 markets in cache\n",
      "INFO:betfairlightweight.streaming.stream:[MarketStream: 0]: 1.178559061 added, 1 markets in cache\n"
     ]
    },
    {
     "name": "stdout",
     "output_type": "stream",
     "text": [
      "didnt find postplay results?\n"
     ]
    },
    {
     "name": "stderr",
     "output_type": "stream",
     "text": [
      "INFO:betfairlightweight.streaming.listener:[Register: 0]: marketSubscription\n",
      "WARNING:betfairlightweight.streaming.listener:[Listener: 0]: stream already registered, replacing data\n",
      "INFO:betfairlightweight.streaming.stream:[MarketStream: 0]: \"MarketStream\" created\n",
      "INFO:betfairlightweight.streaming.stream:[MarketStream: 0]: 1.177443177 added, 1 markets in cache\n",
      "INFO:betfairlightweight.streaming.listener:[Register: 0]: marketSubscription\n",
      "WARNING:betfairlightweight.streaming.listener:[Listener: 0]: stream already registered, replacing data\n",
      "INFO:betfairlightweight.streaming.stream:[MarketStream: 0]: \"MarketStream\" created\n",
      "INFO:betfairlightweight.streaming.stream:[MarketStream: 0]: 1.177442949 added, 1 markets in cache\n",
      "INFO:betfairlightweight.streaming.stream:[MarketStream: 0]: 1.177442949 added, 1 markets in cache\n",
      "INFO:betfairlightweight.streaming.stream:[MarketStream: 0]: 1.177442949 added, 1 markets in cache\n",
      "INFO:betfairlightweight.streaming.stream:[MarketStream: 0]: 1.177442949 added, 1 markets in cache\n",
      "INFO:betfairlightweight.streaming.stream:[MarketStream: 0]: 1.177442949 added, 1 markets in cache\n",
      "INFO:betfairlightweight.streaming.stream:[MarketStream: 0]: 1.177442949 added, 1 markets in cache\n",
      "INFO:betfairlightweight.streaming.stream:[MarketStream: 0]: 1.177442949 added, 1 markets in cache\n"
     ]
    },
    {
     "name": "stdout",
     "output_type": "stream",
     "text": [
      "didnt find postplay results?\n",
      "didnt find postplay results?\n"
     ]
    },
    {
     "name": "stderr",
     "output_type": "stream",
     "text": [
      "INFO:betfairlightweight.streaming.stream:[MarketStream: 0]: 1.177442949 added, 1 markets in cache\n",
      "INFO:betfairlightweight.streaming.listener:[Register: 0]: marketSubscription\n",
      "WARNING:betfairlightweight.streaming.listener:[Listener: 0]: stream already registered, replacing data\n",
      "INFO:betfairlightweight.streaming.stream:[MarketStream: 0]: \"MarketStream\" created\n",
      "INFO:betfairlightweight.streaming.stream:[MarketStream: 0]: 1.178559059 added, 1 markets in cache\n",
      "INFO:betfairlightweight.streaming.stream:[MarketStream: 0]: 1.178559059 added, 1 markets in cache\n",
      "INFO:betfairlightweight.streaming.listener:[Register: 0]: marketSubscription\n",
      "WARNING:betfairlightweight.streaming.listener:[Listener: 0]: stream already registered, replacing data\n",
      "INFO:betfairlightweight.streaming.stream:[MarketStream: 0]: \"MarketStream\" created\n",
      "INFO:betfairlightweight.streaming.stream:[MarketStream: 0]: 1.177444872 added, 1 markets in cache\n",
      "INFO:betfairlightweight.streaming.stream:[MarketStream: 0]: 1.177444872 added, 1 markets in cache\n",
      "INFO:betfairlightweight.streaming.stream:[MarketStream: 0]: 1.177444872 added, 1 markets in cache\n",
      "INFO:betfairlightweight.streaming.stream:[MarketStream: 0]: 1.177444872 added, 1 markets in cache\n",
      "INFO:betfairlightweight.streaming.stream:[MarketStream: 0]: 1.177444872 added, 1 markets in cache\n",
      "INFO:betfairlightweight.streaming.stream:[MarketStream: 0]: 1.177444872 added, 1 markets in cache\n",
      "INFO:betfairlightweight.streaming.stream:[MarketStream: 0]: 1.177444872 added, 1 markets in cache\n"
     ]
    },
    {
     "name": "stdout",
     "output_type": "stream",
     "text": [
      "didnt find postplay results?\n"
     ]
    },
    {
     "name": "stderr",
     "output_type": "stream",
     "text": [
      "INFO:betfairlightweight.streaming.listener:[Register: 0]: marketSubscription\n",
      "WARNING:betfairlightweight.streaming.listener:[Listener: 0]: stream already registered, replacing data\n",
      "INFO:betfairlightweight.streaming.stream:[MarketStream: 0]: \"MarketStream\" created\n",
      "INFO:betfairlightweight.streaming.stream:[MarketStream: 0]: 1.177444885 added, 1 markets in cache\n",
      "INFO:betfairlightweight.streaming.listener:[Register: 0]: marketSubscription\n",
      "WARNING:betfairlightweight.streaming.listener:[Listener: 0]: stream already registered, replacing data\n",
      "INFO:betfairlightweight.streaming.stream:[MarketStream: 0]: \"MarketStream\" created\n",
      "INFO:betfairlightweight.streaming.stream:[MarketStream: 0]: 1.178559060 added, 1 markets in cache\n",
      "INFO:betfairlightweight.streaming.stream:[MarketStream: 0]: 1.178559060 added, 1 markets in cache\n",
      "INFO:betfairlightweight.streaming.stream:[MarketStream: 0]: 1.178559060 added, 1 markets in cache\n"
     ]
    },
    {
     "name": "stdout",
     "output_type": "stream",
     "text": [
      "didnt find postplay results?\n"
     ]
    },
    {
     "name": "stderr",
     "output_type": "stream",
     "text": [
      "INFO:betfairlightweight.streaming.listener:[Register: 0]: marketSubscription\n",
      "WARNING:betfairlightweight.streaming.listener:[Listener: 0]: stream already registered, replacing data\n",
      "INFO:betfairlightweight.streaming.stream:[MarketStream: 0]: \"MarketStream\" created\n",
      "INFO:betfairlightweight.streaming.stream:[MarketStream: 0]: 1.177444873 added, 1 markets in cache\n",
      "INFO:betfairlightweight.streaming.stream:[MarketStream: 0]: 1.177444873 added, 1 markets in cache\n",
      "INFO:betfairlightweight.streaming.stream:[MarketStream: 0]: 1.177444873 added, 1 markets in cache\n",
      "INFO:betfairlightweight.streaming.stream:[MarketStream: 0]: 1.177444873 added, 1 markets in cache\n",
      "INFO:betfairlightweight.streaming.stream:[MarketStream: 0]: 1.177444873 added, 1 markets in cache\n",
      "INFO:betfairlightweight.streaming.stream:[MarketStream: 0]: 1.177444873 added, 1 markets in cache\n",
      "INFO:betfairlightweight.streaming.stream:[MarketStream: 0]: 1.177444873 added, 1 markets in cache\n",
      "INFO:betfairlightweight.streaming.stream:[MarketStream: 0]: 1.177444873 added, 1 markets in cache\n",
      "INFO:betfairlightweight.streaming.stream:[MarketStream: 0]: 1.177444873 added, 1 markets in cache\n",
      "INFO:betfairlightweight.streaming.stream:[MarketStream: 0]: 1.177444873 added, 1 markets in cache\n",
      "INFO:betfairlightweight.streaming.stream:[MarketStream: 0]: 1.177444873 added, 1 markets in cache\n"
     ]
    },
    {
     "name": "stdout",
     "output_type": "stream",
     "text": [
      "didnt find postplay results?\n"
     ]
    },
    {
     "name": "stderr",
     "output_type": "stream",
     "text": [
      "INFO:betfairlightweight.streaming.listener:[Register: 0]: marketSubscription\n",
      "WARNING:betfairlightweight.streaming.listener:[Listener: 0]: stream already registered, replacing data\n",
      "INFO:betfairlightweight.streaming.stream:[MarketStream: 0]: \"MarketStream\" created\n",
      "INFO:betfairlightweight.streaming.stream:[MarketStream: 0]: 1.177442950 added, 1 markets in cache\n",
      "INFO:betfairlightweight.streaming.stream:[MarketStream: 0]: 1.177442950 added, 1 markets in cache\n",
      "INFO:betfairlightweight.streaming.stream:[MarketStream: 0]: 1.177442950 added, 1 markets in cache\n",
      "INFO:betfairlightweight.streaming.stream:[MarketStream: 0]: 1.177442950 added, 1 markets in cache\n",
      "INFO:betfairlightweight.streaming.stream:[MarketStream: 0]: 1.177442950 added, 1 markets in cache\n",
      "INFO:betfairlightweight.streaming.stream:[MarketStream: 0]: 1.177442950 added, 1 markets in cache\n",
      "INFO:betfairlightweight.streaming.stream:[MarketStream: 0]: 1.177442950 added, 1 markets in cache\n",
      "INFO:betfairlightweight.streaming.stream:[MarketStream: 0]: 1.177442950 added, 1 markets in cache\n",
      "INFO:betfairlightweight.streaming.stream:[MarketStream: 0]: 1.177442950 added, 1 markets in cache\n",
      "INFO:betfairlightweight.streaming.stream:[MarketStream: 0]: 1.177442950 added, 1 markets in cache\n"
     ]
    },
    {
     "name": "stdout",
     "output_type": "stream",
     "text": [
      "didnt find postplay results?\n"
     ]
    },
    {
     "name": "stderr",
     "output_type": "stream",
     "text": [
      "INFO:betfairlightweight.streaming.listener:[Register: 0]: marketSubscription\n",
      "WARNING:betfairlightweight.streaming.listener:[Listener: 0]: stream already registered, replacing data\n",
      "INFO:betfairlightweight.streaming.stream:[MarketStream: 0]: \"MarketStream\" created\n",
      "INFO:betfairlightweight.streaming.stream:[MarketStream: 0]: 1.177442887 added, 1 markets in cache\n",
      "INFO:betfairlightweight.streaming.stream:[MarketStream: 0]: 1.177442887 added, 1 markets in cache\n",
      "INFO:betfairlightweight.streaming.stream:[MarketStream: 0]: 1.177442887 added, 1 markets in cache\n",
      "INFO:betfairlightweight.streaming.stream:[MarketStream: 0]: 1.177442887 added, 1 markets in cache\n",
      "INFO:betfairlightweight.streaming.stream:[MarketStream: 0]: 1.177442887 added, 1 markets in cache\n",
      "INFO:betfairlightweight.streaming.stream:[MarketStream: 0]: 1.177442887 added, 1 markets in cache\n",
      "INFO:betfairlightweight.streaming.stream:[MarketStream: 0]: 1.177442887 added, 1 markets in cache\n",
      "INFO:betfairlightweight.streaming.stream:[MarketStream: 0]: 1.177442887 added, 1 markets in cache\n",
      "INFO:betfairlightweight.streaming.stream:[MarketStream: 0]: 1.177442887 added, 1 markets in cache\n",
      "INFO:betfairlightweight.streaming.stream:[MarketStream: 0]: 1.177442887 added, 1 markets in cache\n"
     ]
    },
    {
     "name": "stdout",
     "output_type": "stream",
     "text": [
      "didnt find postplay results?\n"
     ]
    },
    {
     "name": "stderr",
     "output_type": "stream",
     "text": [
      "INFO:betfairlightweight.streaming.listener:[Register: 0]: marketSubscription\n",
      "WARNING:betfairlightweight.streaming.listener:[Listener: 0]: stream already registered, replacing data\n",
      "INFO:betfairlightweight.streaming.stream:[MarketStream: 0]: \"MarketStream\" created\n",
      "INFO:betfairlightweight.streaming.stream:[MarketStream: 0]: 1.177444813 added, 1 markets in cache\n",
      "INFO:betfairlightweight.streaming.listener:[Register: 0]: marketSubscription\n",
      "WARNING:betfairlightweight.streaming.listener:[Listener: 0]: stream already registered, replacing data\n",
      "INFO:betfairlightweight.streaming.stream:[MarketStream: 0]: \"MarketStream\" created\n",
      "INFO:betfairlightweight.streaming.stream:[MarketStream: 0]: 1.178559058 added, 1 markets in cache\n",
      "INFO:betfairlightweight.streaming.stream:[MarketStream: 0]: 1.178559058 added, 1 markets in cache\n",
      "INFO:betfairlightweight.streaming.stream:[MarketStream: 0]: 1.178559058 added, 1 markets in cache\n",
      "INFO:betfairlightweight.streaming.stream:[MarketStream: 0]: 1.178559058 added, 1 markets in cache\n",
      "INFO:betfairlightweight.streaming.stream:[MarketStream: 0]: 1.178559058 added, 1 markets in cache\n",
      "INFO:betfairlightweight.streaming.stream:[MarketStream: 0]: 1.178559058 added, 1 markets in cache\n",
      "INFO:betfairlightweight.streaming.stream:[MarketStream: 0]: 1.178559058 added, 1 markets in cache\n",
      "INFO:betfairlightweight.streaming.stream:[MarketStream: 0]: 1.178559058 added, 1 markets in cache\n"
     ]
    },
    {
     "name": "stdout",
     "output_type": "stream",
     "text": [
      "didnt find postplay results?\n",
      "didnt find postplay results?\n"
     ]
    },
    {
     "name": "stderr",
     "output_type": "stream",
     "text": [
      "INFO:betfairlightweight.streaming.stream:[MarketStream: 0]: 1.178559058 added, 1 markets in cache\n",
      "INFO:betfairlightweight.streaming.listener:[Register: 0]: marketSubscription\n",
      "WARNING:betfairlightweight.streaming.listener:[Listener: 0]: stream already registered, replacing data\n",
      "INFO:betfairlightweight.streaming.stream:[MarketStream: 0]: \"MarketStream\" created\n",
      "INFO:betfairlightweight.streaming.stream:[MarketStream: 0]: 1.177442888 added, 1 markets in cache\n",
      "INFO:betfairlightweight.streaming.stream:[MarketStream: 0]: 1.177442888 added, 1 markets in cache\n",
      "INFO:betfairlightweight.streaming.stream:[MarketStream: 0]: 1.177442888 added, 1 markets in cache\n",
      "INFO:betfairlightweight.streaming.stream:[MarketStream: 0]: 1.177442888 added, 1 markets in cache\n",
      "INFO:betfairlightweight.streaming.stream:[MarketStream: 0]: 1.177442888 added, 1 markets in cache\n",
      "INFO:betfairlightweight.streaming.stream:[MarketStream: 0]: 1.177442888 added, 1 markets in cache\n",
      "INFO:betfairlightweight.streaming.stream:[MarketStream: 0]: 1.177442888 added, 1 markets in cache\n"
     ]
    },
    {
     "name": "stdout",
     "output_type": "stream",
     "text": [
      "didnt find postplay results?\n"
     ]
    },
    {
     "name": "stderr",
     "output_type": "stream",
     "text": [
      "INFO:betfairlightweight.streaming.listener:[Register: 0]: marketSubscription\n",
      "WARNING:betfairlightweight.streaming.listener:[Listener: 0]: stream already registered, replacing data\n",
      "INFO:betfairlightweight.streaming.stream:[MarketStream: 0]: \"MarketStream\" created\n",
      "INFO:betfairlightweight.streaming.stream:[MarketStream: 0]: 1.177443407 added, 1 markets in cache\n",
      "INFO:betfairlightweight.streaming.listener:[Register: 0]: marketSubscription\n",
      "WARNING:betfairlightweight.streaming.listener:[Listener: 0]: stream already registered, replacing data\n",
      "INFO:betfairlightweight.streaming.stream:[MarketStream: 0]: \"MarketStream\" created\n",
      "INFO:betfairlightweight.streaming.stream:[MarketStream: 0]: 1.177442912 added, 1 markets in cache\n",
      "INFO:betfairlightweight.streaming.stream:[MarketStream: 0]: 1.177442912 added, 1 markets in cache\n",
      "INFO:betfairlightweight.streaming.stream:[MarketStream: 0]: 1.177442912 added, 1 markets in cache\n",
      "INFO:betfairlightweight.streaming.stream:[MarketStream: 0]: 1.177442912 added, 1 markets in cache\n",
      "INFO:betfairlightweight.streaming.stream:[MarketStream: 0]: 1.177442912 added, 1 markets in cache\n",
      "INFO:betfairlightweight.streaming.stream:[MarketStream: 0]: 1.177442912 added, 1 markets in cache\n"
     ]
    },
    {
     "name": "stdout",
     "output_type": "stream",
     "text": [
      "didnt find postplay results?\n"
     ]
    },
    {
     "name": "stderr",
     "output_type": "stream",
     "text": [
      "INFO:betfairlightweight.streaming.listener:[Register: 0]: marketSubscription\n",
      "WARNING:betfairlightweight.streaming.listener:[Listener: 0]: stream already registered, replacing data\n",
      "INFO:betfairlightweight.streaming.stream:[MarketStream: 0]: \"MarketStream\" created\n",
      "INFO:betfairlightweight.streaming.stream:[MarketStream: 0]: 1.177443854 added, 1 markets in cache\n",
      "INFO:betfairlightweight.streaming.stream:[MarketStream: 0]: 1.177443854 added, 1 markets in cache\n",
      "INFO:betfairlightweight.streaming.stream:[MarketStream: 0]: 1.177443854 added, 1 markets in cache\n",
      "INFO:betfairlightweight.streaming.stream:[MarketStream: 0]: 1.177443854 added, 1 markets in cache\n",
      "INFO:betfairlightweight.streaming.stream:[MarketStream: 0]: 1.177443854 added, 1 markets in cache\n",
      "INFO:betfairlightweight.streaming.stream:[MarketStream: 0]: 1.177443854 added, 1 markets in cache\n",
      "INFO:betfairlightweight.streaming.stream:[MarketStream: 0]: 1.177443854 added, 1 markets in cache\n",
      "INFO:betfairlightweight.streaming.stream:[MarketStream: 0]: 1.177443854 added, 1 markets in cache\n",
      "INFO:betfairlightweight.streaming.stream:[MarketStream: 0]: 1.177443854 added, 1 markets in cache\n",
      "INFO:betfairlightweight.streaming.stream:[MarketStream: 0]: 1.177443854 added, 1 markets in cache\n"
     ]
    },
    {
     "name": "stdout",
     "output_type": "stream",
     "text": [
      "didnt find postplay results?\n"
     ]
    },
    {
     "name": "stderr",
     "output_type": "stream",
     "text": [
      "INFO:betfairlightweight.streaming.listener:[Register: 0]: marketSubscription\n",
      "WARNING:betfairlightweight.streaming.listener:[Listener: 0]: stream already registered, replacing data\n",
      "INFO:betfairlightweight.streaming.stream:[MarketStream: 0]: \"MarketStream\" created\n",
      "INFO:betfairlightweight.streaming.stream:[MarketStream: 0]: 1.177442911 added, 1 markets in cache\n",
      "INFO:betfairlightweight.streaming.stream:[MarketStream: 0]: 1.177442911 added, 1 markets in cache\n",
      "INFO:betfairlightweight.streaming.stream:[MarketStream: 0]: 1.177442911 added, 1 markets in cache\n",
      "INFO:betfairlightweight.streaming.stream:[MarketStream: 0]: 1.177442911 added, 1 markets in cache\n",
      "INFO:betfairlightweight.streaming.stream:[MarketStream: 0]: 1.177442911 added, 1 markets in cache\n",
      "INFO:betfairlightweight.streaming.stream:[MarketStream: 0]: 1.177442911 added, 1 markets in cache\n",
      "INFO:betfairlightweight.streaming.stream:[MarketStream: 0]: 1.177442911 added, 1 markets in cache\n",
      "INFO:betfairlightweight.streaming.stream:[MarketStream: 0]: 1.177442911 added, 1 markets in cache\n",
      "INFO:betfairlightweight.streaming.stream:[MarketStream: 0]: 1.177442911 added, 1 markets in cache\n",
      "INFO:betfairlightweight.streaming.stream:[MarketStream: 0]: 1.177442911 added, 1 markets in cache\n",
      "INFO:betfairlightweight.streaming.stream:[MarketStream: 0]: 1.177442911 added, 1 markets in cache\n"
     ]
    },
    {
     "name": "stdout",
     "output_type": "stream",
     "text": [
      "didnt find postplay results?\n"
     ]
    },
    {
     "name": "stderr",
     "output_type": "stream",
     "text": [
      "INFO:betfairlightweight.streaming.listener:[Register: 0]: marketSubscription\n",
      "WARNING:betfairlightweight.streaming.listener:[Listener: 0]: stream already registered, replacing data\n",
      "INFO:betfairlightweight.streaming.stream:[MarketStream: 0]: \"MarketStream\" created\n",
      "INFO:betfairlightweight.streaming.stream:[MarketStream: 0]: 1.177443855 added, 1 markets in cache\n",
      "INFO:betfairlightweight.streaming.stream:[MarketStream: 0]: 1.177443855 added, 1 markets in cache\n",
      "INFO:betfairlightweight.streaming.stream:[MarketStream: 0]: 1.177443855 added, 1 markets in cache\n",
      "INFO:betfairlightweight.streaming.stream:[MarketStream: 0]: 1.177443855 added, 1 markets in cache\n",
      "INFO:betfairlightweight.streaming.stream:[MarketStream: 0]: 1.177443855 added, 1 markets in cache\n",
      "INFO:betfairlightweight.streaming.stream:[MarketStream: 0]: 1.177443855 added, 1 markets in cache\n",
      "INFO:betfairlightweight.streaming.stream:[MarketStream: 0]: 1.177443855 added, 1 markets in cache\n"
     ]
    },
    {
     "name": "stdout",
     "output_type": "stream",
     "text": [
      "didnt find postplay results?\n"
     ]
    },
    {
     "name": "stderr",
     "output_type": "stream",
     "text": [
      "INFO:betfairlightweight.streaming.listener:[Register: 0]: marketSubscription\n",
      "WARNING:betfairlightweight.streaming.listener:[Listener: 0]: stream already registered, replacing data\n",
      "INFO:betfairlightweight.streaming.stream:[MarketStream: 0]: \"MarketStream\" created\n",
      "INFO:betfairlightweight.streaming.stream:[MarketStream: 0]: 1.177442873 added, 1 markets in cache\n",
      "INFO:betfairlightweight.streaming.stream:[MarketStream: 0]: 1.177442873 added, 1 markets in cache\n",
      "INFO:betfairlightweight.streaming.stream:[MarketStream: 0]: 1.177442873 added, 1 markets in cache\n",
      "INFO:betfairlightweight.streaming.stream:[MarketStream: 0]: 1.177442873 added, 1 markets in cache\n",
      "INFO:betfairlightweight.streaming.stream:[MarketStream: 0]: 1.177442873 added, 1 markets in cache\n",
      "INFO:betfairlightweight.streaming.stream:[MarketStream: 0]: 1.177442873 added, 1 markets in cache\n",
      "INFO:betfairlightweight.streaming.stream:[MarketStream: 0]: 1.177442873 added, 1 markets in cache\n",
      "INFO:betfairlightweight.streaming.stream:[MarketStream: 0]: 1.177442873 added, 1 markets in cache\n",
      "INFO:betfairlightweight.streaming.stream:[MarketStream: 0]: 1.177442873 added, 1 markets in cache\n",
      "INFO:betfairlightweight.streaming.stream:[MarketStream: 0]: 1.177442873 added, 1 markets in cache\n",
      "INFO:betfairlightweight.streaming.stream:[MarketStream: 0]: 1.177442873 added, 1 markets in cache\n",
      "INFO:betfairlightweight.streaming.stream:[MarketStream: 0]: 1.177442873 added, 1 markets in cache\n",
      "INFO:betfairlightweight.streaming.stream:[MarketStream: 0]: 1.177442873 added, 1 markets in cache\n",
      "INFO:betfairlightweight.streaming.listener:[Register: 0]: marketSubscription\n",
      "WARNING:betfairlightweight.streaming.listener:[Listener: 0]: stream already registered, replacing data\n",
      "INFO:betfairlightweight.streaming.stream:[MarketStream: 0]: \"MarketStream\" created\n",
      "INFO:betfairlightweight.streaming.stream:[MarketStream: 0]: 1.178559057 added, 1 markets in cache\n",
      "INFO:betfairlightweight.streaming.stream:[MarketStream: 0]: 1.178559057 added, 1 markets in cache\n",
      "INFO:betfairlightweight.streaming.stream:[MarketStream: 0]: 1.178559057 added, 1 markets in cache\n",
      "INFO:betfairlightweight.streaming.stream:[MarketStream: 0]: 1.178559057 added, 1 markets in cache\n",
      "INFO:betfairlightweight.streaming.stream:[MarketStream: 0]: 1.178559057 added, 1 markets in cache\n",
      "INFO:betfairlightweight.streaming.stream:[MarketStream: 0]: 1.178559057 added, 1 markets in cache\n",
      "INFO:betfairlightweight.streaming.stream:[MarketStream: 0]: 1.178559057 added, 1 markets in cache\n",
      "INFO:betfairlightweight.streaming.stream:[MarketStream: 0]: 1.178559057 added, 1 markets in cache\n"
     ]
    },
    {
     "name": "stdout",
     "output_type": "stream",
     "text": [
      "didnt find postplay results?\n"
     ]
    },
    {
     "name": "stderr",
     "output_type": "stream",
     "text": [
      "INFO:betfairlightweight.streaming.stream:[MarketStream: 0]: 1.178559057 added, 1 markets in cache\n",
      "INFO:betfairlightweight.streaming.listener:[Register: 0]: marketSubscription\n",
      "WARNING:betfairlightweight.streaming.listener:[Listener: 0]: stream already registered, replacing data\n",
      "INFO:betfairlightweight.streaming.stream:[MarketStream: 0]: \"MarketStream\" created\n",
      "INFO:betfairlightweight.streaming.stream:[MarketStream: 0]: 1.177443180 added, 1 markets in cache\n",
      "INFO:betfairlightweight.streaming.listener:[Register: 0]: marketSubscription\n",
      "WARNING:betfairlightweight.streaming.listener:[Listener: 0]: stream already registered, replacing data\n",
      "INFO:betfairlightweight.streaming.stream:[MarketStream: 0]: \"MarketStream\" created\n",
      "INFO:betfairlightweight.streaming.stream:[MarketStream: 0]: 1.177442874 added, 1 markets in cache\n",
      "INFO:betfairlightweight.streaming.stream:[MarketStream: 0]: 1.177442874 added, 1 markets in cache\n",
      "INFO:betfairlightweight.streaming.stream:[MarketStream: 0]: 1.177442874 added, 1 markets in cache\n",
      "INFO:betfairlightweight.streaming.stream:[MarketStream: 0]: 1.177442874 added, 1 markets in cache\n",
      "INFO:betfairlightweight.streaming.stream:[MarketStream: 0]: 1.177442874 added, 1 markets in cache\n",
      "INFO:betfairlightweight.streaming.stream:[MarketStream: 0]: 1.177442874 added, 1 markets in cache\n",
      "INFO:betfairlightweight.streaming.stream:[MarketStream: 0]: 1.177442874 added, 1 markets in cache\n",
      "INFO:betfairlightweight.streaming.stream:[MarketStream: 0]: 1.177442874 added, 1 markets in cache\n"
     ]
    },
    {
     "name": "stdout",
     "output_type": "stream",
     "text": [
      "didnt find postplay results?\n",
      "didnt find postplay results?\n"
     ]
    },
    {
     "name": "stderr",
     "output_type": "stream",
     "text": [
      "INFO:betfairlightweight.streaming.listener:[Register: 0]: marketSubscription\n",
      "WARNING:betfairlightweight.streaming.listener:[Listener: 0]: stream already registered, replacing data\n",
      "INFO:betfairlightweight.streaming.stream:[MarketStream: 0]: \"MarketStream\" created\n",
      "INFO:betfairlightweight.streaming.stream:[MarketStream: 0]: 1.177442932 added, 1 markets in cache\n",
      "INFO:betfairlightweight.streaming.stream:[MarketStream: 0]: 1.177442932 added, 1 markets in cache\n",
      "INFO:betfairlightweight.streaming.stream:[MarketStream: 0]: 1.177442932 added, 1 markets in cache\n",
      "INFO:betfairlightweight.streaming.stream:[MarketStream: 0]: 1.177442932 added, 1 markets in cache\n",
      "INFO:betfairlightweight.streaming.stream:[MarketStream: 0]: 1.177442932 added, 1 markets in cache\n",
      "INFO:betfairlightweight.streaming.stream:[MarketStream: 0]: 1.177442932 added, 1 markets in cache\n",
      "INFO:betfairlightweight.streaming.stream:[MarketStream: 0]: 1.177442932 added, 1 markets in cache\n",
      "INFO:betfairlightweight.streaming.stream:[MarketStream: 0]: 1.177442932 added, 1 markets in cache\n",
      "INFO:betfairlightweight.streaming.stream:[MarketStream: 0]: 1.177442932 added, 1 markets in cache\n",
      "INFO:betfairlightweight.streaming.stream:[MarketStream: 0]: 1.177442932 added, 1 markets in cache\n",
      "INFO:betfairlightweight.streaming.stream:[MarketStream: 0]: 1.177442932 added, 1 markets in cache\n",
      "INFO:betfairlightweight.streaming.stream:[MarketStream: 0]: 1.177442932 added, 1 markets in cache\n",
      "INFO:betfairlightweight.streaming.listener:[Register: 0]: marketSubscription\n",
      "WARNING:betfairlightweight.streaming.listener:[Listener: 0]: stream already registered, replacing data\n",
      "INFO:betfairlightweight.streaming.stream:[MarketStream: 0]: \"MarketStream\" created\n",
      "INFO:betfairlightweight.streaming.stream:[MarketStream: 0]: 1.177442931 added, 1 markets in cache\n",
      "INFO:betfairlightweight.streaming.stream:[MarketStream: 0]: 1.177442931 added, 1 markets in cache\n",
      "INFO:betfairlightweight.streaming.stream:[MarketStream: 0]: 1.177442931 added, 1 markets in cache\n",
      "INFO:betfairlightweight.streaming.stream:[MarketStream: 0]: 1.177442931 added, 1 markets in cache\n",
      "INFO:betfairlightweight.streaming.stream:[MarketStream: 0]: 1.177442931 added, 1 markets in cache\n",
      "INFO:betfairlightweight.streaming.stream:[MarketStream: 0]: 1.177442931 added, 1 markets in cache\n",
      "INFO:betfairlightweight.streaming.stream:[MarketStream: 0]: 1.177442931 added, 1 markets in cache\n",
      "INFO:betfairlightweight.streaming.stream:[MarketStream: 0]: 1.177442931 added, 1 markets in cache\n",
      "INFO:betfairlightweight.streaming.stream:[MarketStream: 0]: 1.177442931 added, 1 markets in cache\n",
      "INFO:betfairlightweight.streaming.stream:[MarketStream: 0]: 1.177442931 added, 1 markets in cache\n",
      "INFO:betfairlightweight.streaming.stream:[MarketStream: 0]: 1.177442931 added, 1 markets in cache\n",
      "INFO:betfairlightweight.streaming.stream:[MarketStream: 0]: 1.177442931 added, 1 markets in cache\n",
      "INFO:betfairlightweight.streaming.stream:[MarketStream: 0]: 1.177442931 added, 1 markets in cache\n",
      "INFO:betfairlightweight.streaming.stream:[MarketStream: 0]: 1.177442931 added, 1 markets in cache\n",
      "INFO:betfairlightweight.streaming.stream:[MarketStream: 0]: 1.177442931 added, 1 markets in cache\n",
      "INFO:betfairlightweight.streaming.stream:[MarketStream: 0]: 1.177442931 added, 1 markets in cache\n",
      "INFO:betfairlightweight.streaming.stream:[MarketStream: 0]: 1.177442931 added, 1 markets in cache\n",
      "INFO:betfairlightweight.streaming.stream:[MarketStream: 0]: 1.177442931 added, 1 markets in cache\n",
      "INFO:betfairlightweight.streaming.stream:[MarketStream: 0]: 1.177442931 added, 1 markets in cache\n",
      "INFO:betfairlightweight.streaming.stream:[MarketStream: 0]: 1.177442931 added, 1 markets in cache\n",
      "INFO:betfairlightweight.streaming.stream:[MarketStream: 0]: 1.177442931 added, 1 markets in cache\n",
      "INFO:betfairlightweight.streaming.listener:[Register: 0]: marketSubscription\n",
      "WARNING:betfairlightweight.streaming.listener:[Listener: 0]: stream already registered, replacing data\n",
      "INFO:betfairlightweight.streaming.stream:[MarketStream: 0]: \"MarketStream\" created\n",
      "INFO:betfairlightweight.streaming.stream:[MarketStream: 0]: 1.178625436 added, 1 markets in cache\n",
      "INFO:betfairlightweight.streaming.listener:[Register: 0]: marketSubscription\n",
      "WARNING:betfairlightweight.streaming.listener:[Listener: 0]: stream already registered, replacing data\n",
      "INFO:betfairlightweight.streaming.stream:[MarketStream: 0]: \"MarketStream\" created\n",
      "INFO:betfairlightweight.streaming.stream:[MarketStream: 0]: 1.177443179 added, 1 markets in cache\n",
      "INFO:betfairlightweight.streaming.listener:[Register: 0]: marketSubscription\n",
      "WARNING:betfairlightweight.streaming.listener:[Listener: 0]: stream already registered, replacing data\n",
      "INFO:betfairlightweight.streaming.stream:[MarketStream: 0]: \"MarketStream\" created\n",
      "INFO:betfairlightweight.streaming.stream:[MarketStream: 0]: 1.177444814 added, 1 markets in cache\n"
     ]
    },
    {
     "name": "stdout",
     "output_type": "stream",
     "text": [
      "didnt find postplay results?\n",
      "didnt find postplay results?\n",
      "didnt find postplay results?\n"
     ]
    },
    {
     "name": "stderr",
     "output_type": "stream",
     "text": [
      "INFO:betfairlightweight.streaming.listener:[Register: 0]: marketSubscription\n",
      "WARNING:betfairlightweight.streaming.listener:[Listener: 0]: stream already registered, replacing data\n",
      "INFO:betfairlightweight.streaming.stream:[MarketStream: 0]: \"MarketStream\" created\n",
      "INFO:betfairlightweight.streaming.stream:[MarketStream: 0]: 1.178625394 added, 1 markets in cache\n"
     ]
    },
    {
     "name": "stdout",
     "output_type": "stream",
     "text": [
      "didnt find postplay results?\n"
     ]
    },
    {
     "name": "stderr",
     "output_type": "stream",
     "text": [
      "INFO:betfairlightweight.streaming.listener:[Register: 0]: marketSubscription\n",
      "WARNING:betfairlightweight.streaming.listener:[Listener: 0]: stream already registered, replacing data\n",
      "INFO:betfairlightweight.streaming.stream:[MarketStream: 0]: \"MarketStream\" created\n",
      "INFO:betfairlightweight.streaming.stream:[MarketStream: 0]: 1.177444549 added, 1 markets in cache\n",
      "INFO:betfairlightweight.streaming.stream:[MarketStream: 0]: 1.177444549 added, 1 markets in cache\n",
      "INFO:betfairlightweight.streaming.stream:[MarketStream: 0]: 1.177444549 added, 1 markets in cache\n",
      "INFO:betfairlightweight.streaming.stream:[MarketStream: 0]: 1.177444549 added, 1 markets in cache\n",
      "INFO:betfairlightweight.streaming.stream:[MarketStream: 0]: 1.177444549 added, 1 markets in cache\n",
      "INFO:betfairlightweight.streaming.stream:[MarketStream: 0]: 1.177444549 added, 1 markets in cache\n",
      "INFO:betfairlightweight.streaming.stream:[MarketStream: 0]: 1.177444549 added, 1 markets in cache\n",
      "INFO:betfairlightweight.streaming.stream:[MarketStream: 0]: 1.177444549 added, 1 markets in cache\n",
      "INFO:betfairlightweight.streaming.stream:[MarketStream: 0]: 1.177444549 added, 1 markets in cache\n",
      "INFO:betfairlightweight.streaming.stream:[MarketStream: 0]: 1.177444549 added, 1 markets in cache\n",
      "INFO:betfairlightweight.streaming.stream:[MarketStream: 0]: 1.177444549 added, 1 markets in cache\n",
      "INFO:betfairlightweight.streaming.stream:[MarketStream: 0]: 1.177444549 added, 1 markets in cache\n"
     ]
    },
    {
     "name": "stdout",
     "output_type": "stream",
     "text": [
      "didnt find postplay results?\n"
     ]
    },
    {
     "name": "stderr",
     "output_type": "stream",
     "text": [
      "INFO:betfairlightweight.streaming.listener:[Register: 0]: marketSubscription\n",
      "WARNING:betfairlightweight.streaming.listener:[Listener: 0]: stream already registered, replacing data\n",
      "INFO:betfairlightweight.streaming.stream:[MarketStream: 0]: \"MarketStream\" created\n",
      "INFO:betfairlightweight.streaming.stream:[MarketStream: 0]: 1.177442951 added, 1 markets in cache\n",
      "INFO:betfairlightweight.streaming.stream:[MarketStream: 0]: 1.177442951 added, 1 markets in cache\n",
      "INFO:betfairlightweight.streaming.stream:[MarketStream: 0]: 1.177442951 added, 1 markets in cache\n",
      "INFO:betfairlightweight.streaming.stream:[MarketStream: 0]: 1.177442951 added, 1 markets in cache\n",
      "INFO:betfairlightweight.streaming.stream:[MarketStream: 0]: 1.177442951 added, 1 markets in cache\n",
      "INFO:betfairlightweight.streaming.stream:[MarketStream: 0]: 1.177442951 added, 1 markets in cache\n",
      "INFO:betfairlightweight.streaming.stream:[MarketStream: 0]: 1.177442951 added, 1 markets in cache\n",
      "INFO:betfairlightweight.streaming.stream:[MarketStream: 0]: 1.177442951 added, 1 markets in cache\n",
      "INFO:betfairlightweight.streaming.listener:[Register: 0]: marketSubscription\n",
      "WARNING:betfairlightweight.streaming.listener:[Listener: 0]: stream already registered, replacing data\n",
      "INFO:betfairlightweight.streaming.stream:[MarketStream: 0]: \"MarketStream\" created\n",
      "INFO:betfairlightweight.streaming.stream:[MarketStream: 0]: 1.177444875 added, 1 markets in cache\n",
      "INFO:betfairlightweight.streaming.stream:[MarketStream: 0]: 1.177444875 added, 1 markets in cache\n",
      "INFO:betfairlightweight.streaming.stream:[MarketStream: 0]: 1.177444875 added, 1 markets in cache\n",
      "INFO:betfairlightweight.streaming.stream:[MarketStream: 0]: 1.177444875 added, 1 markets in cache\n",
      "INFO:betfairlightweight.streaming.stream:[MarketStream: 0]: 1.177444875 added, 1 markets in cache\n",
      "INFO:betfairlightweight.streaming.stream:[MarketStream: 0]: 1.177444875 added, 1 markets in cache\n",
      "INFO:betfairlightweight.streaming.stream:[MarketStream: 0]: 1.177444875 added, 1 markets in cache\n",
      "INFO:betfairlightweight.streaming.stream:[MarketStream: 0]: 1.177444875 added, 1 markets in cache\n",
      "INFO:betfairlightweight.streaming.stream:[MarketStream: 0]: 1.177444875 added, 1 markets in cache\n",
      "INFO:betfairlightweight.streaming.stream:[MarketStream: 0]: 1.177444875 added, 1 markets in cache\n",
      "INFO:betfairlightweight.streaming.stream:[MarketStream: 0]: 1.177444875 added, 1 markets in cache\n",
      "INFO:betfairlightweight.streaming.listener:[Register: 0]: marketSubscription\n",
      "WARNING:betfairlightweight.streaming.listener:[Listener: 0]: stream already registered, replacing data\n",
      "INFO:betfairlightweight.streaming.stream:[MarketStream: 0]: \"MarketStream\" created\n",
      "INFO:betfairlightweight.streaming.stream:[MarketStream: 0]: 1.177442952 added, 1 markets in cache\n",
      "INFO:betfairlightweight.streaming.stream:[MarketStream: 0]: 1.177442952 added, 1 markets in cache\n",
      "INFO:betfairlightweight.streaming.stream:[MarketStream: 0]: 1.177442952 added, 1 markets in cache\n",
      "INFO:betfairlightweight.streaming.stream:[MarketStream: 0]: 1.177442952 added, 1 markets in cache\n",
      "INFO:betfairlightweight.streaming.stream:[MarketStream: 0]: 1.177442952 added, 1 markets in cache\n",
      "INFO:betfairlightweight.streaming.stream:[MarketStream: 0]: 1.177442952 added, 1 markets in cache\n",
      "INFO:betfairlightweight.streaming.stream:[MarketStream: 0]: 1.177442952 added, 1 markets in cache\n",
      "INFO:betfairlightweight.streaming.stream:[MarketStream: 0]: 1.177442952 added, 1 markets in cache\n",
      "INFO:betfairlightweight.streaming.stream:[MarketStream: 0]: 1.177442952 added, 1 markets in cache\n",
      "INFO:betfairlightweight.streaming.stream:[MarketStream: 0]: 1.177442952 added, 1 markets in cache\n",
      "INFO:betfairlightweight.streaming.stream:[MarketStream: 0]: 1.177442952 added, 1 markets in cache\n"
     ]
    },
    {
     "name": "stdout",
     "output_type": "stream",
     "text": [
      "didnt find postplay results?\n"
     ]
    },
    {
     "name": "stderr",
     "output_type": "stream",
     "text": [
      "INFO:betfairlightweight.streaming.listener:[Register: 0]: marketSubscription\n",
      "WARNING:betfairlightweight.streaming.listener:[Listener: 0]: stream already registered, replacing data\n",
      "INFO:betfairlightweight.streaming.stream:[MarketStream: 0]: \"MarketStream\" created\n",
      "INFO:betfairlightweight.streaming.stream:[MarketStream: 0]: 1.177444550 added, 1 markets in cache\n",
      "INFO:betfairlightweight.streaming.stream:[MarketStream: 0]: 1.177444550 added, 1 markets in cache\n",
      "INFO:betfairlightweight.streaming.stream:[MarketStream: 0]: 1.177444550 added, 1 markets in cache\n",
      "INFO:betfairlightweight.streaming.stream:[MarketStream: 0]: 1.177444550 added, 1 markets in cache\n",
      "INFO:betfairlightweight.streaming.stream:[MarketStream: 0]: 1.177444550 added, 1 markets in cache\n",
      "INFO:betfairlightweight.streaming.stream:[MarketStream: 0]: 1.177444550 added, 1 markets in cache\n",
      "INFO:betfairlightweight.streaming.stream:[MarketStream: 0]: 1.177444550 added, 1 markets in cache\n",
      "INFO:betfairlightweight.streaming.stream:[MarketStream: 0]: 1.177444550 added, 1 markets in cache\n",
      "INFO:betfairlightweight.streaming.stream:[MarketStream: 0]: 1.177444550 added, 1 markets in cache\n",
      "INFO:betfairlightweight.streaming.stream:[MarketStream: 0]: 1.177444550 added, 1 markets in cache\n",
      "INFO:betfairlightweight.streaming.stream:[MarketStream: 0]: 1.177444550 added, 1 markets in cache\n",
      "INFO:betfairlightweight.streaming.stream:[MarketStream: 0]: 1.177444550 added, 1 markets in cache\n",
      "INFO:betfairlightweight.streaming.stream:[MarketStream: 0]: 1.177444550 added, 1 markets in cache\n",
      "INFO:betfairlightweight.streaming.stream:[MarketStream: 0]: 1.177444550 added, 1 markets in cache\n",
      "INFO:betfairlightweight.streaming.stream:[MarketStream: 0]: 1.177444550 added, 1 markets in cache\n"
     ]
    },
    {
     "name": "stdout",
     "output_type": "stream",
     "text": [
      "didnt find postplay results?\n"
     ]
    },
    {
     "name": "stderr",
     "output_type": "stream",
     "text": [
      "INFO:betfairlightweight.streaming.listener:[Register: 0]: marketSubscription\n",
      "WARNING:betfairlightweight.streaming.listener:[Listener: 0]: stream already registered, replacing data\n",
      "INFO:betfairlightweight.streaming.stream:[MarketStream: 0]: \"MarketStream\" created\n",
      "INFO:betfairlightweight.streaming.stream:[MarketStream: 0]: 1.178625393 added, 1 markets in cache\n"
     ]
    },
    {
     "name": "stdout",
     "output_type": "stream",
     "text": [
      "didnt find postplay results?\n"
     ]
    },
    {
     "name": "stderr",
     "output_type": "stream",
     "text": [
      "INFO:betfairlightweight.streaming.listener:[Register: 0]: marketSubscription\n",
      "WARNING:betfairlightweight.streaming.listener:[Listener: 0]: stream already registered, replacing data\n",
      "INFO:betfairlightweight.streaming.stream:[MarketStream: 0]: \"MarketStream\" created\n",
      "INFO:betfairlightweight.streaming.stream:[MarketStream: 0]: 1.177444110 added, 1 markets in cache\n",
      "INFO:betfairlightweight.streaming.stream:[MarketStream: 0]: 1.177444110 added, 1 markets in cache\n",
      "INFO:betfairlightweight.streaming.stream:[MarketStream: 0]: 1.177444110 added, 1 markets in cache\n",
      "INFO:betfairlightweight.streaming.stream:[MarketStream: 0]: 1.177444110 added, 1 markets in cache\n",
      "INFO:betfairlightweight.streaming.stream:[MarketStream: 0]: 1.177444110 added, 1 markets in cache\n",
      "INFO:betfairlightweight.streaming.stream:[MarketStream: 0]: 1.177444110 added, 1 markets in cache\n",
      "INFO:betfairlightweight.streaming.stream:[MarketStream: 0]: 1.177444110 added, 1 markets in cache\n"
     ]
    },
    {
     "name": "stdout",
     "output_type": "stream",
     "text": [
      "didnt find postplay results?\n"
     ]
    },
    {
     "name": "stderr",
     "output_type": "stream",
     "text": [
      "INFO:betfairlightweight.streaming.listener:[Register: 0]: marketSubscription\n",
      "WARNING:betfairlightweight.streaming.listener:[Listener: 0]: stream already registered, replacing data\n",
      "INFO:betfairlightweight.streaming.stream:[MarketStream: 0]: \"MarketStream\" created\n",
      "INFO:betfairlightweight.streaming.stream:[MarketStream: 0]: 1.177444874 added, 1 markets in cache\n",
      "INFO:betfairlightweight.streaming.stream:[MarketStream: 0]: 1.177444874 added, 1 markets in cache\n",
      "INFO:betfairlightweight.streaming.stream:[MarketStream: 0]: 1.177444874 added, 1 markets in cache\n",
      "INFO:betfairlightweight.streaming.stream:[MarketStream: 0]: 1.177444874 added, 1 markets in cache\n",
      "INFO:betfairlightweight.streaming.stream:[MarketStream: 0]: 1.177444874 added, 1 markets in cache\n"
     ]
    },
    {
     "name": "stdout",
     "output_type": "stream",
     "text": [
      "didnt find postplay results?\n"
     ]
    },
    {
     "name": "stderr",
     "output_type": "stream",
     "text": [
      "INFO:betfairlightweight.streaming.stream:[MarketStream: 0]: 1.177444874 added, 1 markets in cache\n",
      "INFO:betfairlightweight.streaming.listener:[Register: 0]: marketSubscription\n",
      "WARNING:betfairlightweight.streaming.listener:[Listener: 0]: stream already registered, replacing data\n",
      "INFO:betfairlightweight.streaming.stream:[MarketStream: 0]: \"MarketStream\" created\n",
      "INFO:betfairlightweight.streaming.stream:[MarketStream: 0]: 1.177444886 added, 1 markets in cache\n",
      "INFO:betfairlightweight.streaming.listener:[Register: 0]: marketSubscription\n",
      "WARNING:betfairlightweight.streaming.listener:[Listener: 0]: stream already registered, replacing data\n",
      "INFO:betfairlightweight.streaming.stream:[MarketStream: 0]: \"MarketStream\" created\n",
      "INFO:betfairlightweight.streaming.stream:[MarketStream: 0]: 1.177444109 added, 1 markets in cache\n",
      "INFO:betfairlightweight.streaming.stream:[MarketStream: 0]: 1.177444109 added, 1 markets in cache\n",
      "INFO:betfairlightweight.streaming.stream:[MarketStream: 0]: 1.177444109 added, 1 markets in cache\n",
      "INFO:betfairlightweight.streaming.stream:[MarketStream: 0]: 1.177444109 added, 1 markets in cache\n",
      "INFO:betfairlightweight.streaming.stream:[MarketStream: 0]: 1.177444109 added, 1 markets in cache\n",
      "INFO:betfairlightweight.streaming.stream:[MarketStream: 0]: 1.177444109 added, 1 markets in cache\n",
      "INFO:betfairlightweight.streaming.stream:[MarketStream: 0]: 1.177444109 added, 1 markets in cache\n",
      "INFO:betfairlightweight.streaming.stream:[MarketStream: 0]: 1.177444109 added, 1 markets in cache\n",
      "INFO:betfairlightweight.streaming.stream:[MarketStream: 0]: 1.177444109 added, 1 markets in cache\n",
      "INFO:betfairlightweight.streaming.stream:[MarketStream: 0]: 1.177444109 added, 1 markets in cache\n",
      "INFO:betfairlightweight.streaming.stream:[MarketStream: 0]: 1.177444109 added, 1 markets in cache\n"
     ]
    },
    {
     "name": "stdout",
     "output_type": "stream",
     "text": [
      "didnt find postplay results?\n"
     ]
    },
    {
     "name": "stderr",
     "output_type": "stream",
     "text": [
      "INFO:betfairlightweight.streaming.listener:[Register: 0]: marketSubscription\n",
      "WARNING:betfairlightweight.streaming.listener:[Listener: 0]: stream already registered, replacing data\n",
      "INFO:betfairlightweight.streaming.stream:[MarketStream: 0]: \"MarketStream\" created\n",
      "INFO:betfairlightweight.streaming.stream:[MarketStream: 0]: 1.177442889 added, 1 markets in cache\n",
      "INFO:betfairlightweight.streaming.stream:[MarketStream: 0]: 1.177442889 added, 1 markets in cache\n",
      "INFO:betfairlightweight.streaming.stream:[MarketStream: 0]: 1.177442889 added, 1 markets in cache\n",
      "INFO:betfairlightweight.streaming.stream:[MarketStream: 0]: 1.177442889 added, 1 markets in cache\n",
      "INFO:betfairlightweight.streaming.stream:[MarketStream: 0]: 1.177442889 added, 1 markets in cache\n",
      "INFO:betfairlightweight.streaming.stream:[MarketStream: 0]: 1.177442889 added, 1 markets in cache\n",
      "INFO:betfairlightweight.streaming.stream:[MarketStream: 0]: 1.177442889 added, 1 markets in cache\n",
      "INFO:betfairlightweight.streaming.stream:[MarketStream: 0]: 1.177442889 added, 1 markets in cache\n",
      "INFO:betfairlightweight.streaming.stream:[MarketStream: 0]: 1.177442889 added, 1 markets in cache\n",
      "INFO:betfairlightweight.streaming.stream:[MarketStream: 0]: 1.177442889 added, 1 markets in cache\n"
     ]
    },
    {
     "name": "stdout",
     "output_type": "stream",
     "text": [
      "didnt find postplay results?\n"
     ]
    },
    {
     "name": "stderr",
     "output_type": "stream",
     "text": [
      "INFO:betfairlightweight.streaming.listener:[Register: 0]: marketSubscription\n",
      "WARNING:betfairlightweight.streaming.listener:[Listener: 0]: stream already registered, replacing data\n",
      "INFO:betfairlightweight.streaming.stream:[MarketStream: 0]: \"MarketStream\" created\n",
      "INFO:betfairlightweight.streaming.stream:[MarketStream: 0]: 1.177442890 added, 1 markets in cache\n",
      "INFO:betfairlightweight.streaming.stream:[MarketStream: 0]: 1.177442890 added, 1 markets in cache\n",
      "INFO:betfairlightweight.streaming.stream:[MarketStream: 0]: 1.177442890 added, 1 markets in cache\n",
      "INFO:betfairlightweight.streaming.stream:[MarketStream: 0]: 1.177442890 added, 1 markets in cache\n"
     ]
    },
    {
     "name": "stdout",
     "output_type": "stream",
     "text": [
      "didnt find postplay results?\n"
     ]
    },
    {
     "name": "stderr",
     "output_type": "stream",
     "text": [
      "INFO:betfairlightweight.streaming.listener:[Register: 0]: marketSubscription\n",
      "WARNING:betfairlightweight.streaming.listener:[Listener: 0]: stream already registered, replacing data\n",
      "INFO:betfairlightweight.streaming.stream:[MarketStream: 0]: \"MarketStream\" created\n",
      "INFO:betfairlightweight.streaming.stream:[MarketStream: 0]: 1.178595800 added, 1 markets in cache\n",
      "INFO:betfairlightweight.streaming.stream:[MarketStream: 0]: 1.178595800 added, 1 markets in cache\n",
      "INFO:betfairlightweight.streaming.listener:[Register: 0]: marketSubscription\n",
      "WARNING:betfairlightweight.streaming.listener:[Listener: 0]: stream already registered, replacing data\n",
      "INFO:betfairlightweight.streaming.stream:[MarketStream: 0]: \"MarketStream\" created\n",
      "INFO:betfairlightweight.streaming.stream:[MarketStream: 0]: 1.177443408 added, 1 markets in cache\n",
      "INFO:betfairlightweight.streaming.listener:[Register: 0]: marketSubscription\n",
      "WARNING:betfairlightweight.streaming.listener:[Listener: 0]: stream already registered, replacing data\n",
      "INFO:betfairlightweight.streaming.stream:[MarketStream: 0]: \"MarketStream\" created\n",
      "INFO:betfairlightweight.streaming.stream:[MarketStream: 0]: 1.177443857 added, 1 markets in cache\n",
      "INFO:betfairlightweight.streaming.stream:[MarketStream: 0]: 1.177443857 added, 1 markets in cache\n",
      "INFO:betfairlightweight.streaming.stream:[MarketStream: 0]: 1.177443857 added, 1 markets in cache\n",
      "INFO:betfairlightweight.streaming.stream:[MarketStream: 0]: 1.177443857 added, 1 markets in cache\n",
      "INFO:betfairlightweight.streaming.stream:[MarketStream: 0]: 1.177443857 added, 1 markets in cache\n",
      "INFO:betfairlightweight.streaming.stream:[MarketStream: 0]: 1.177443857 added, 1 markets in cache\n",
      "INFO:betfairlightweight.streaming.stream:[MarketStream: 0]: 1.177443857 added, 1 markets in cache\n"
     ]
    },
    {
     "name": "stdout",
     "output_type": "stream",
     "text": [
      "didnt find postplay results?\n",
      "didnt find postplay results?\n"
     ]
    },
    {
     "name": "stderr",
     "output_type": "stream",
     "text": [
      "INFO:betfairlightweight.streaming.listener:[Register: 0]: marketSubscription\n",
      "WARNING:betfairlightweight.streaming.listener:[Listener: 0]: stream already registered, replacing data\n",
      "INFO:betfairlightweight.streaming.stream:[MarketStream: 0]: \"MarketStream\" created\n",
      "INFO:betfairlightweight.streaming.stream:[MarketStream: 0]: 1.177442816 added, 1 markets in cache\n",
      "INFO:betfairlightweight.streaming.stream:[MarketStream: 0]: 1.177442816 added, 1 markets in cache\n",
      "INFO:betfairlightweight.streaming.stream:[MarketStream: 0]: 1.177442816 added, 1 markets in cache\n",
      "INFO:betfairlightweight.streaming.stream:[MarketStream: 0]: 1.177442816 added, 1 markets in cache\n",
      "INFO:betfairlightweight.streaming.stream:[MarketStream: 0]: 1.177442816 added, 1 markets in cache\n",
      "INFO:betfairlightweight.streaming.stream:[MarketStream: 0]: 1.177442816 added, 1 markets in cache\n",
      "INFO:betfairlightweight.streaming.stream:[MarketStream: 0]: 1.177442816 added, 1 markets in cache\n",
      "INFO:betfairlightweight.streaming.stream:[MarketStream: 0]: 1.177442816 added, 1 markets in cache\n",
      "INFO:betfairlightweight.streaming.stream:[MarketStream: 0]: 1.177442816 added, 1 markets in cache\n",
      "INFO:betfairlightweight.streaming.stream:[MarketStream: 0]: 1.177442816 added, 1 markets in cache\n",
      "INFO:betfairlightweight.streaming.listener:[Register: 0]: marketSubscription\n",
      "WARNING:betfairlightweight.streaming.listener:[Listener: 0]: stream already registered, replacing data\n",
      "INFO:betfairlightweight.streaming.stream:[MarketStream: 0]: \"MarketStream\" created\n",
      "INFO:betfairlightweight.streaming.stream:[MarketStream: 0]: 1.177442914 added, 1 markets in cache\n",
      "INFO:betfairlightweight.streaming.stream:[MarketStream: 0]: 1.177442914 added, 1 markets in cache\n",
      "INFO:betfairlightweight.streaming.stream:[MarketStream: 0]: 1.177442914 added, 1 markets in cache\n",
      "INFO:betfairlightweight.streaming.stream:[MarketStream: 0]: 1.177442914 added, 1 markets in cache\n",
      "INFO:betfairlightweight.streaming.stream:[MarketStream: 0]: 1.177442914 added, 1 markets in cache\n",
      "INFO:betfairlightweight.streaming.stream:[MarketStream: 0]: 1.177442914 added, 1 markets in cache\n"
     ]
    },
    {
     "name": "stdout",
     "output_type": "stream",
     "text": [
      "didnt find postplay results?\n"
     ]
    },
    {
     "name": "stderr",
     "output_type": "stream",
     "text": [
      "INFO:betfairlightweight.streaming.listener:[Register: 0]: marketSubscription\n",
      "WARNING:betfairlightweight.streaming.listener:[Listener: 0]: stream already registered, replacing data\n",
      "INFO:betfairlightweight.streaming.stream:[MarketStream: 0]: \"MarketStream\" created\n",
      "INFO:betfairlightweight.streaming.stream:[MarketStream: 0]: 1.177442815 added, 1 markets in cache\n",
      "INFO:betfairlightweight.streaming.stream:[MarketStream: 0]: 1.177442815 added, 1 markets in cache\n",
      "INFO:betfairlightweight.streaming.stream:[MarketStream: 0]: 1.177442815 added, 1 markets in cache\n",
      "INFO:betfairlightweight.streaming.stream:[MarketStream: 0]: 1.177442815 added, 1 markets in cache\n",
      "INFO:betfairlightweight.streaming.stream:[MarketStream: 0]: 1.177442815 added, 1 markets in cache\n",
      "INFO:betfairlightweight.streaming.stream:[MarketStream: 0]: 1.177442815 added, 1 markets in cache\n",
      "INFO:betfairlightweight.streaming.stream:[MarketStream: 0]: 1.177442815 added, 1 markets in cache\n",
      "INFO:betfairlightweight.streaming.stream:[MarketStream: 0]: 1.177442815 added, 1 markets in cache\n",
      "INFO:betfairlightweight.streaming.stream:[MarketStream: 0]: 1.177442815 added, 1 markets in cache\n",
      "INFO:betfairlightweight.streaming.stream:[MarketStream: 0]: 1.177442815 added, 1 markets in cache\n",
      "INFO:betfairlightweight.streaming.stream:[MarketStream: 0]: 1.177442815 added, 1 markets in cache\n"
     ]
    },
    {
     "name": "stdout",
     "output_type": "stream",
     "text": [
      "didnt find postplay results?\n"
     ]
    },
    {
     "name": "stderr",
     "output_type": "stream",
     "text": [
      "INFO:betfairlightweight.streaming.listener:[Register: 0]: marketSubscription\n",
      "WARNING:betfairlightweight.streaming.listener:[Listener: 0]: stream already registered, replacing data\n",
      "INFO:betfairlightweight.streaming.stream:[MarketStream: 0]: \"MarketStream\" created\n",
      "INFO:betfairlightweight.streaming.stream:[MarketStream: 0]: 1.177442913 added, 1 markets in cache\n",
      "INFO:betfairlightweight.streaming.stream:[MarketStream: 0]: 1.177442913 added, 1 markets in cache\n",
      "INFO:betfairlightweight.streaming.stream:[MarketStream: 0]: 1.177442913 added, 1 markets in cache\n",
      "INFO:betfairlightweight.streaming.stream:[MarketStream: 0]: 1.177442913 added, 1 markets in cache\n",
      "INFO:betfairlightweight.streaming.stream:[MarketStream: 0]: 1.177442913 added, 1 markets in cache\n",
      "INFO:betfairlightweight.streaming.stream:[MarketStream: 0]: 1.177442913 added, 1 markets in cache\n",
      "INFO:betfairlightweight.streaming.stream:[MarketStream: 0]: 1.177442913 added, 1 markets in cache\n",
      "INFO:betfairlightweight.streaming.stream:[MarketStream: 0]: 1.177442913 added, 1 markets in cache\n",
      "INFO:betfairlightweight.streaming.listener:[Register: 0]: marketSubscription\n",
      "WARNING:betfairlightweight.streaming.listener:[Listener: 0]: stream already registered, replacing data\n",
      "INFO:betfairlightweight.streaming.stream:[MarketStream: 0]: \"MarketStream\" created\n",
      "INFO:betfairlightweight.streaming.stream:[MarketStream: 0]: 1.178562751 added, 1 markets in cache\n",
      "INFO:betfairlightweight.streaming.listener:[Register: 0]: marketSubscription\n",
      "WARNING:betfairlightweight.streaming.listener:[Listener: 0]: stream already registered, replacing data\n",
      "INFO:betfairlightweight.streaming.stream:[MarketStream: 0]: \"MarketStream\" created\n",
      "INFO:betfairlightweight.streaming.stream:[MarketStream: 0]: 1.177443856 added, 1 markets in cache\n",
      "INFO:betfairlightweight.streaming.stream:[MarketStream: 0]: 1.177443856 added, 1 markets in cache\n",
      "INFO:betfairlightweight.streaming.stream:[MarketStream: 0]: 1.177443856 added, 1 markets in cache\n",
      "INFO:betfairlightweight.streaming.stream:[MarketStream: 0]: 1.177443856 added, 1 markets in cache\n",
      "INFO:betfairlightweight.streaming.stream:[MarketStream: 0]: 1.177443856 added, 1 markets in cache\n",
      "INFO:betfairlightweight.streaming.stream:[MarketStream: 0]: 1.177443856 added, 1 markets in cache\n",
      "INFO:betfairlightweight.streaming.stream:[MarketStream: 0]: 1.177443856 added, 1 markets in cache\n",
      "INFO:betfairlightweight.streaming.stream:[MarketStream: 0]: 1.177443856 added, 1 markets in cache\n",
      "INFO:betfairlightweight.streaming.stream:[MarketStream: 0]: 1.177443856 added, 1 markets in cache\n"
     ]
    },
    {
     "name": "stdout",
     "output_type": "stream",
     "text": [
      "didnt find postplay results?\n",
      "didnt find postplay results?\n"
     ]
    },
    {
     "name": "stderr",
     "output_type": "stream",
     "text": [
      "INFO:betfairlightweight.streaming.listener:[Register: 0]: marketSubscription\n",
      "WARNING:betfairlightweight.streaming.listener:[Listener: 0]: stream already registered, replacing data\n",
      "INFO:betfairlightweight.streaming.stream:[MarketStream: 0]: \"MarketStream\" created\n",
      "INFO:betfairlightweight.streaming.stream:[MarketStream: 0]: 1.177442876 added, 1 markets in cache\n",
      "INFO:betfairlightweight.streaming.stream:[MarketStream: 0]: 1.177442876 added, 1 markets in cache\n",
      "INFO:betfairlightweight.streaming.stream:[MarketStream: 0]: 1.177442876 added, 1 markets in cache\n",
      "INFO:betfairlightweight.streaming.stream:[MarketStream: 0]: 1.177442876 added, 1 markets in cache\n",
      "INFO:betfairlightweight.streaming.stream:[MarketStream: 0]: 1.177442876 added, 1 markets in cache\n",
      "INFO:betfairlightweight.streaming.stream:[MarketStream: 0]: 1.177442876 added, 1 markets in cache\n",
      "INFO:betfairlightweight.streaming.stream:[MarketStream: 0]: 1.177442876 added, 1 markets in cache\n",
      "INFO:betfairlightweight.streaming.stream:[MarketStream: 0]: 1.177442876 added, 1 markets in cache\n",
      "INFO:betfairlightweight.streaming.stream:[MarketStream: 0]: 1.177442876 added, 1 markets in cache\n"
     ]
    },
    {
     "name": "stdout",
     "output_type": "stream",
     "text": [
      "didnt find postplay results?\n"
     ]
    },
    {
     "name": "stderr",
     "output_type": "stream",
     "text": [
      "INFO:betfairlightweight.streaming.stream:[MarketStream: 0]: 1.177442876 added, 1 markets in cache\n",
      "INFO:betfairlightweight.streaming.listener:[Register: 0]: marketSubscription\n",
      "WARNING:betfairlightweight.streaming.listener:[Listener: 0]: stream already registered, replacing data\n",
      "INFO:betfairlightweight.streaming.stream:[MarketStream: 0]: \"MarketStream\" created\n",
      "INFO:betfairlightweight.streaming.stream:[MarketStream: 0]: 1.178562766 added, 1 markets in cache\n",
      "INFO:betfairlightweight.streaming.listener:[Register: 0]: marketSubscription\n",
      "WARNING:betfairlightweight.streaming.listener:[Listener: 0]: stream already registered, replacing data\n",
      "INFO:betfairlightweight.streaming.stream:[MarketStream: 0]: \"MarketStream\" created\n",
      "INFO:betfairlightweight.streaming.stream:[MarketStream: 0]: 1.177442875 added, 1 markets in cache\n",
      "INFO:betfairlightweight.streaming.stream:[MarketStream: 0]: 1.177442875 added, 1 markets in cache\n",
      "INFO:betfairlightweight.streaming.stream:[MarketStream: 0]: 1.177442875 added, 1 markets in cache\n",
      "INFO:betfairlightweight.streaming.stream:[MarketStream: 0]: 1.177442875 added, 1 markets in cache\n",
      "INFO:betfairlightweight.streaming.stream:[MarketStream: 0]: 1.177442875 added, 1 markets in cache\n",
      "INFO:betfairlightweight.streaming.stream:[MarketStream: 0]: 1.177442875 added, 1 markets in cache\n",
      "INFO:betfairlightweight.streaming.stream:[MarketStream: 0]: 1.177442875 added, 1 markets in cache\n",
      "INFO:betfairlightweight.streaming.stream:[MarketStream: 0]: 1.177442875 added, 1 markets in cache\n",
      "INFO:betfairlightweight.streaming.stream:[MarketStream: 0]: 1.177442875 added, 1 markets in cache\n",
      "INFO:betfairlightweight.streaming.stream:[MarketStream: 0]: 1.177442875 added, 1 markets in cache\n",
      "INFO:betfairlightweight.streaming.stream:[MarketStream: 0]: 1.177442875 added, 1 markets in cache\n",
      "INFO:betfairlightweight.streaming.stream:[MarketStream: 0]: 1.177442875 added, 1 markets in cache\n"
     ]
    },
    {
     "name": "stdout",
     "output_type": "stream",
     "text": [
      "didnt find postplay results?\n"
     ]
    },
    {
     "name": "stderr",
     "output_type": "stream",
     "text": [
      "INFO:betfairlightweight.streaming.listener:[Register: 0]: marketSubscription\n",
      "WARNING:betfairlightweight.streaming.listener:[Listener: 0]: stream already registered, replacing data\n",
      "INFO:betfairlightweight.streaming.stream:[MarketStream: 0]: \"MarketStream\" created\n",
      "INFO:betfairlightweight.streaming.stream:[MarketStream: 0]: 1.177442933 added, 1 markets in cache\n",
      "INFO:betfairlightweight.streaming.stream:[MarketStream: 0]: 1.177442933 added, 1 markets in cache\n",
      "INFO:betfairlightweight.streaming.stream:[MarketStream: 0]: 1.177442933 added, 1 markets in cache\n",
      "INFO:betfairlightweight.streaming.stream:[MarketStream: 0]: 1.177442933 added, 1 markets in cache\n",
      "INFO:betfairlightweight.streaming.stream:[MarketStream: 0]: 1.177442933 added, 1 markets in cache\n",
      "INFO:betfairlightweight.streaming.stream:[MarketStream: 0]: 1.177442933 added, 1 markets in cache\n",
      "INFO:betfairlightweight.streaming.stream:[MarketStream: 0]: 1.177442933 added, 1 markets in cache\n",
      "INFO:betfairlightweight.streaming.stream:[MarketStream: 0]: 1.177442933 added, 1 markets in cache\n",
      "INFO:betfairlightweight.streaming.stream:[MarketStream: 0]: 1.177442933 added, 1 markets in cache\n",
      "INFO:betfairlightweight.streaming.stream:[MarketStream: 0]: 1.177442933 added, 1 markets in cache\n",
      "INFO:betfairlightweight.streaming.stream:[MarketStream: 0]: 1.177442933 added, 1 markets in cache\n",
      "INFO:betfairlightweight.streaming.stream:[MarketStream: 0]: 1.177442933 added, 1 markets in cache\n",
      "INFO:betfairlightweight.streaming.stream:[MarketStream: 0]: 1.177442933 added, 1 markets in cache\n",
      "INFO:betfairlightweight.streaming.stream:[MarketStream: 0]: 1.177442933 added, 1 markets in cache\n",
      "INFO:betfairlightweight.streaming.stream:[MarketStream: 0]: 1.177442933 added, 1 markets in cache\n",
      "INFO:betfairlightweight.streaming.stream:[MarketStream: 0]: 1.177442933 added, 1 markets in cache\n",
      "INFO:betfairlightweight.streaming.stream:[MarketStream: 0]: 1.177442933 added, 1 markets in cache\n",
      "INFO:betfairlightweight.streaming.stream:[MarketStream: 0]: 1.177442933 added, 1 markets in cache\n",
      "INFO:betfairlightweight.streaming.stream:[MarketStream: 0]: 1.177442933 added, 1 markets in cache\n",
      "INFO:betfairlightweight.streaming.stream:[MarketStream: 0]: 1.177442933 added, 1 markets in cache\n",
      "INFO:betfairlightweight.streaming.stream:[MarketStream: 0]: 1.177442933 added, 1 markets in cache\n",
      "INFO:betfairlightweight.streaming.stream:[MarketStream: 0]: 1.177442933 added, 1 markets in cache\n"
     ]
    },
    {
     "name": "stdout",
     "output_type": "stream",
     "text": [
      "didnt find postplay results?\n"
     ]
    },
    {
     "name": "stderr",
     "output_type": "stream",
     "text": [
      "INFO:betfairlightweight.streaming.stream:[MarketStream: 0]: 1.177442933 added, 1 markets in cache\n",
      "INFO:betfairlightweight.streaming.listener:[Register: 0]: marketSubscription\n",
      "WARNING:betfairlightweight.streaming.listener:[Listener: 0]: stream already registered, replacing data\n",
      "INFO:betfairlightweight.streaming.stream:[MarketStream: 0]: \"MarketStream\" created\n",
      "INFO:betfairlightweight.streaming.stream:[MarketStream: 0]: 1.178562756 added, 1 markets in cache\n",
      "INFO:betfairlightweight.streaming.listener:[Register: 0]: marketSubscription\n",
      "WARNING:betfairlightweight.streaming.listener:[Listener: 0]: stream already registered, replacing data\n",
      "INFO:betfairlightweight.streaming.stream:[MarketStream: 0]: \"MarketStream\" created\n",
      "INFO:betfairlightweight.streaming.stream:[MarketStream: 0]: 1.177443182 added, 1 markets in cache\n",
      "INFO:betfairlightweight.streaming.listener:[Register: 0]: marketSubscription\n",
      "WARNING:betfairlightweight.streaming.listener:[Listener: 0]: stream already registered, replacing data\n",
      "INFO:betfairlightweight.streaming.stream:[MarketStream: 0]: \"MarketStream\" created\n",
      "INFO:betfairlightweight.streaming.stream:[MarketStream: 0]: 1.177442934 added, 1 markets in cache\n",
      "INFO:betfairlightweight.streaming.stream:[MarketStream: 0]: 1.177442934 added, 1 markets in cache\n"
     ]
    },
    {
     "name": "stdout",
     "output_type": "stream",
     "text": [
      "didnt find postplay results?\n",
      "didnt find postplay results?\n",
      "didnt find postplay results?\n"
     ]
    },
    {
     "name": "stderr",
     "output_type": "stream",
     "text": [
      "INFO:betfairlightweight.streaming.stream:[MarketStream: 0]: 1.177442934 added, 1 markets in cache\n",
      "INFO:betfairlightweight.streaming.stream:[MarketStream: 0]: 1.177442934 added, 1 markets in cache\n",
      "INFO:betfairlightweight.streaming.stream:[MarketStream: 0]: 1.177442934 added, 1 markets in cache\n",
      "INFO:betfairlightweight.streaming.stream:[MarketStream: 0]: 1.177442934 added, 1 markets in cache\n",
      "INFO:betfairlightweight.streaming.stream:[MarketStream: 0]: 1.177442934 added, 1 markets in cache\n",
      "INFO:betfairlightweight.streaming.stream:[MarketStream: 0]: 1.177442934 added, 1 markets in cache\n",
      "INFO:betfairlightweight.streaming.stream:[MarketStream: 0]: 1.177442934 added, 1 markets in cache\n",
      "INFO:betfairlightweight.streaming.stream:[MarketStream: 0]: 1.177442934 added, 1 markets in cache\n",
      "INFO:betfairlightweight.streaming.stream:[MarketStream: 0]: 1.177442934 added, 1 markets in cache\n",
      "INFO:betfairlightweight.streaming.stream:[MarketStream: 0]: 1.177442934 added, 1 markets in cache\n",
      "INFO:betfairlightweight.streaming.listener:[Register: 0]: marketSubscription\n",
      "WARNING:betfairlightweight.streaming.listener:[Listener: 0]: stream already registered, replacing data\n",
      "INFO:betfairlightweight.streaming.stream:[MarketStream: 0]: \"MarketStream\" created\n",
      "INFO:betfairlightweight.streaming.stream:[MarketStream: 0]: 1.177444815 added, 1 markets in cache\n",
      "INFO:betfairlightweight.streaming.listener:[Register: 0]: marketSubscription\n",
      "WARNING:betfairlightweight.streaming.listener:[Listener: 0]: stream already registered, replacing data\n",
      "INFO:betfairlightweight.streaming.stream:[MarketStream: 0]: \"MarketStream\" created\n",
      "INFO:betfairlightweight.streaming.stream:[MarketStream: 0]: 1.178562741 added, 1 markets in cache\n",
      "INFO:betfairlightweight.streaming.listener:[Register: 0]: marketSubscription\n",
      "WARNING:betfairlightweight.streaming.listener:[Listener: 0]: stream already registered, replacing data\n",
      "INFO:betfairlightweight.streaming.stream:[MarketStream: 0]: \"MarketStream\" created\n",
      "INFO:betfairlightweight.streaming.stream:[MarketStream: 0]: 1.177444551 added, 1 markets in cache\n",
      "INFO:betfairlightweight.streaming.stream:[MarketStream: 0]: 1.177444551 added, 1 markets in cache\n",
      "INFO:betfairlightweight.streaming.stream:[MarketStream: 0]: 1.177444551 added, 1 markets in cache\n",
      "INFO:betfairlightweight.streaming.stream:[MarketStream: 0]: 1.177444551 added, 1 markets in cache\n",
      "INFO:betfairlightweight.streaming.stream:[MarketStream: 0]: 1.177444551 added, 1 markets in cache\n",
      "INFO:betfairlightweight.streaming.stream:[MarketStream: 0]: 1.177444551 added, 1 markets in cache\n",
      "INFO:betfairlightweight.streaming.stream:[MarketStream: 0]: 1.177444551 added, 1 markets in cache\n",
      "INFO:betfairlightweight.streaming.stream:[MarketStream: 0]: 1.177444551 added, 1 markets in cache\n"
     ]
    },
    {
     "name": "stdout",
     "output_type": "stream",
     "text": [
      "didnt find postplay results?\n",
      "didnt find postplay results?\n"
     ]
    },
    {
     "name": "stderr",
     "output_type": "stream",
     "text": [
      "INFO:betfairlightweight.streaming.listener:[Register: 0]: marketSubscription\n",
      "WARNING:betfairlightweight.streaming.listener:[Listener: 0]: stream already registered, replacing data\n",
      "INFO:betfairlightweight.streaming.stream:[MarketStream: 0]: \"MarketStream\" created\n",
      "INFO:betfairlightweight.streaming.stream:[MarketStream: 0]: 1.177444552 added, 1 markets in cache\n",
      "INFO:betfairlightweight.streaming.stream:[MarketStream: 0]: 1.177444552 added, 1 markets in cache\n",
      "INFO:betfairlightweight.streaming.stream:[MarketStream: 0]: 1.177444552 added, 1 markets in cache\n",
      "INFO:betfairlightweight.streaming.stream:[MarketStream: 0]: 1.177444552 added, 1 markets in cache\n",
      "INFO:betfairlightweight.streaming.stream:[MarketStream: 0]: 1.177444552 added, 1 markets in cache\n",
      "INFO:betfairlightweight.streaming.stream:[MarketStream: 0]: 1.177444552 added, 1 markets in cache\n",
      "INFO:betfairlightweight.streaming.stream:[MarketStream: 0]: 1.177444552 added, 1 markets in cache\n",
      "INFO:betfairlightweight.streaming.stream:[MarketStream: 0]: 1.177444552 added, 1 markets in cache\n",
      "INFO:betfairlightweight.streaming.stream:[MarketStream: 0]: 1.177444552 added, 1 markets in cache\n",
      "INFO:betfairlightweight.streaming.stream:[MarketStream: 0]: 1.177444552 added, 1 markets in cache\n",
      "INFO:betfairlightweight.streaming.stream:[MarketStream: 0]: 1.177444552 added, 1 markets in cache\n",
      "INFO:betfairlightweight.streaming.stream:[MarketStream: 0]: 1.177444552 added, 1 markets in cache\n",
      "INFO:betfairlightweight.streaming.listener:[Register: 0]: marketSubscription\n",
      "WARNING:betfairlightweight.streaming.listener:[Listener: 0]: stream already registered, replacing data\n",
      "INFO:betfairlightweight.streaming.stream:[MarketStream: 0]: \"MarketStream\" created\n",
      "INFO:betfairlightweight.streaming.stream:[MarketStream: 0]: 1.177442954 added, 1 markets in cache\n",
      "INFO:betfairlightweight.streaming.stream:[MarketStream: 0]: 1.177442954 added, 1 markets in cache\n",
      "INFO:betfairlightweight.streaming.stream:[MarketStream: 0]: 1.177442954 added, 1 markets in cache\n",
      "INFO:betfairlightweight.streaming.stream:[MarketStream: 0]: 1.177442954 added, 1 markets in cache\n",
      "INFO:betfairlightweight.streaming.stream:[MarketStream: 0]: 1.177442954 added, 1 markets in cache\n",
      "INFO:betfairlightweight.streaming.stream:[MarketStream: 0]: 1.177442954 added, 1 markets in cache\n",
      "INFO:betfairlightweight.streaming.stream:[MarketStream: 0]: 1.177442954 added, 1 markets in cache\n",
      "INFO:betfairlightweight.streaming.stream:[MarketStream: 0]: 1.177442954 added, 1 markets in cache\n",
      "INFO:betfairlightweight.streaming.stream:[MarketStream: 0]: 1.177442954 added, 1 markets in cache\n",
      "INFO:betfairlightweight.streaming.stream:[MarketStream: 0]: 1.177442954 added, 1 markets in cache\n",
      "INFO:betfairlightweight.streaming.stream:[MarketStream: 0]: 1.177442954 added, 1 markets in cache\n",
      "INFO:betfairlightweight.streaming.stream:[MarketStream: 0]: 1.177442954 added, 1 markets in cache\n",
      "INFO:betfairlightweight.streaming.stream:[MarketStream: 0]: 1.177442954 added, 1 markets in cache\n",
      "INFO:betfairlightweight.streaming.stream:[MarketStream: 0]: 1.177442954 added, 1 markets in cache\n"
     ]
    },
    {
     "name": "stdout",
     "output_type": "stream",
     "text": [
      "didnt find postplay results?\n"
     ]
    },
    {
     "name": "stderr",
     "output_type": "stream",
     "text": [
      "INFO:betfairlightweight.streaming.listener:[Register: 0]: marketSubscription\n",
      "WARNING:betfairlightweight.streaming.listener:[Listener: 0]: stream already registered, replacing data\n",
      "INFO:betfairlightweight.streaming.stream:[MarketStream: 0]: \"MarketStream\" created\n",
      "INFO:betfairlightweight.streaming.stream:[MarketStream: 0]: 1.177442953 added, 1 markets in cache\n",
      "INFO:betfairlightweight.streaming.stream:[MarketStream: 0]: 1.177442953 added, 1 markets in cache\n",
      "INFO:betfairlightweight.streaming.stream:[MarketStream: 0]: 1.177442953 added, 1 markets in cache\n",
      "INFO:betfairlightweight.streaming.stream:[MarketStream: 0]: 1.177442953 added, 1 markets in cache\n",
      "INFO:betfairlightweight.streaming.stream:[MarketStream: 0]: 1.177442953 added, 1 markets in cache\n",
      "INFO:betfairlightweight.streaming.stream:[MarketStream: 0]: 1.177442953 added, 1 markets in cache\n",
      "INFO:betfairlightweight.streaming.stream:[MarketStream: 0]: 1.177442953 added, 1 markets in cache\n",
      "INFO:betfairlightweight.streaming.stream:[MarketStream: 0]: 1.177442953 added, 1 markets in cache\n"
     ]
    },
    {
     "name": "stdout",
     "output_type": "stream",
     "text": [
      "didnt find postplay results?\n"
     ]
    },
    {
     "name": "stderr",
     "output_type": "stream",
     "text": [
      "INFO:betfairlightweight.streaming.listener:[Register: 0]: marketSubscription\n",
      "WARNING:betfairlightweight.streaming.listener:[Listener: 0]: stream already registered, replacing data\n",
      "INFO:betfairlightweight.streaming.stream:[MarketStream: 0]: \"MarketStream\" created\n",
      "INFO:betfairlightweight.streaming.stream:[MarketStream: 0]: 1.178647203 added, 1 markets in cache\n",
      "INFO:betfairlightweight.streaming.listener:[Register: 0]: marketSubscription\n",
      "WARNING:betfairlightweight.streaming.listener:[Listener: 0]: stream already registered, replacing data\n",
      "INFO:betfairlightweight.streaming.stream:[MarketStream: 0]: \"MarketStream\" created\n",
      "INFO:betfairlightweight.streaming.stream:[MarketStream: 0]: 1.177444876 added, 1 markets in cache\n",
      "INFO:betfairlightweight.streaming.stream:[MarketStream: 0]: 1.177444876 added, 1 markets in cache\n",
      "INFO:betfairlightweight.streaming.stream:[MarketStream: 0]: 1.177444876 added, 1 markets in cache\n",
      "INFO:betfairlightweight.streaming.stream:[MarketStream: 0]: 1.177444876 added, 1 markets in cache\n",
      "INFO:betfairlightweight.streaming.stream:[MarketStream: 0]: 1.177444876 added, 1 markets in cache\n",
      "INFO:betfairlightweight.streaming.stream:[MarketStream: 0]: 1.177444876 added, 1 markets in cache\n",
      "INFO:betfairlightweight.streaming.stream:[MarketStream: 0]: 1.177444876 added, 1 markets in cache\n",
      "INFO:betfairlightweight.streaming.stream:[MarketStream: 0]: 1.177444876 added, 1 markets in cache\n",
      "INFO:betfairlightweight.streaming.stream:[MarketStream: 0]: 1.177444876 added, 1 markets in cache\n"
     ]
    },
    {
     "name": "stdout",
     "output_type": "stream",
     "text": [
      "didnt find postplay results?\n"
     ]
    },
    {
     "name": "stderr",
     "output_type": "stream",
     "text": [
      "INFO:betfairlightweight.streaming.listener:[Register: 0]: marketSubscription\n",
      "WARNING:betfairlightweight.streaming.listener:[Listener: 0]: stream already registered, replacing data\n",
      "INFO:betfairlightweight.streaming.stream:[MarketStream: 0]: \"MarketStream\" created\n",
      "INFO:betfairlightweight.streaming.stream:[MarketStream: 0]: 1.177444887 added, 1 markets in cache\n",
      "INFO:betfairlightweight.streaming.listener:[Register: 0]: marketSubscription\n",
      "WARNING:betfairlightweight.streaming.listener:[Listener: 0]: stream already registered, replacing data\n",
      "INFO:betfairlightweight.streaming.stream:[MarketStream: 0]: \"MarketStream\" created\n",
      "INFO:betfairlightweight.streaming.stream:[MarketStream: 0]: 1.178644102 added, 1 markets in cache\n",
      "INFO:betfairlightweight.streaming.listener:[Register: 0]: marketSubscription\n",
      "WARNING:betfairlightweight.streaming.listener:[Listener: 0]: stream already registered, replacing data\n",
      "INFO:betfairlightweight.streaming.stream:[MarketStream: 0]: \"MarketStream\" created\n",
      "INFO:betfairlightweight.streaming.stream:[MarketStream: 0]: 1.177444877 added, 1 markets in cache\n",
      "INFO:betfairlightweight.streaming.stream:[MarketStream: 0]: 1.177444877 added, 1 markets in cache\n",
      "INFO:betfairlightweight.streaming.stream:[MarketStream: 0]: 1.177444877 added, 1 markets in cache\n",
      "INFO:betfairlightweight.streaming.stream:[MarketStream: 0]: 1.177444877 added, 1 markets in cache\n",
      "INFO:betfairlightweight.streaming.stream:[MarketStream: 0]: 1.177444877 added, 1 markets in cache\n",
      "INFO:betfairlightweight.streaming.stream:[MarketStream: 0]: 1.177444877 added, 1 markets in cache\n",
      "INFO:betfairlightweight.streaming.stream:[MarketStream: 0]: 1.177444877 added, 1 markets in cache\n",
      "INFO:betfairlightweight.streaming.stream:[MarketStream: 0]: 1.177444877 added, 1 markets in cache\n"
     ]
    },
    {
     "name": "stdout",
     "output_type": "stream",
     "text": [
      "didnt find postplay results?\n",
      "didnt find postplay results?\n"
     ]
    },
    {
     "name": "stderr",
     "output_type": "stream",
     "text": [
      "INFO:betfairlightweight.streaming.stream:[MarketStream: 0]: 1.177444877 added, 1 markets in cache\n",
      "INFO:betfairlightweight.streaming.stream:[MarketStream: 0]: 1.177444877 added, 1 markets in cache\n",
      "INFO:betfairlightweight.streaming.stream:[MarketStream: 0]: 1.177444877 added, 1 markets in cache\n",
      "INFO:betfairlightweight.streaming.listener:[Register: 0]: marketSubscription\n",
      "WARNING:betfairlightweight.streaming.listener:[Listener: 0]: stream already registered, replacing data\n",
      "INFO:betfairlightweight.streaming.stream:[MarketStream: 0]: \"MarketStream\" created\n",
      "INFO:betfairlightweight.streaming.stream:[MarketStream: 0]: 1.177442892 added, 1 markets in cache\n",
      "INFO:betfairlightweight.streaming.stream:[MarketStream: 0]: 1.177442892 added, 1 markets in cache\n",
      "INFO:betfairlightweight.streaming.stream:[MarketStream: 0]: 1.177442892 added, 1 markets in cache\n",
      "INFO:betfairlightweight.streaming.stream:[MarketStream: 0]: 1.177442892 added, 1 markets in cache\n",
      "INFO:betfairlightweight.streaming.stream:[MarketStream: 0]: 1.177442892 added, 1 markets in cache\n",
      "INFO:betfairlightweight.streaming.stream:[MarketStream: 0]: 1.177442892 added, 1 markets in cache\n",
      "INFO:betfairlightweight.streaming.stream:[MarketStream: 0]: 1.177442892 added, 1 markets in cache\n",
      "INFO:betfairlightweight.streaming.stream:[MarketStream: 0]: 1.177442892 added, 1 markets in cache\n",
      "INFO:betfairlightweight.streaming.stream:[MarketStream: 0]: 1.177442892 added, 1 markets in cache\n",
      "INFO:betfairlightweight.streaming.stream:[MarketStream: 0]: 1.177442892 added, 1 markets in cache\n",
      "INFO:betfairlightweight.streaming.stream:[MarketStream: 0]: 1.177442892 added, 1 markets in cache\n",
      "INFO:betfairlightweight.streaming.stream:[MarketStream: 0]: 1.177442892 added, 1 markets in cache\n"
     ]
    },
    {
     "name": "stdout",
     "output_type": "stream",
     "text": [
      "didnt find postplay results?\n"
     ]
    },
    {
     "name": "stderr",
     "output_type": "stream",
     "text": [
      "INFO:betfairlightweight.streaming.listener:[Register: 0]: marketSubscription\n",
      "WARNING:betfairlightweight.streaming.listener:[Listener: 0]: stream already registered, replacing data\n",
      "INFO:betfairlightweight.streaming.stream:[MarketStream: 0]: \"MarketStream\" created\n",
      "INFO:betfairlightweight.streaming.stream:[MarketStream: 0]: 1.177442891 added, 1 markets in cache\n",
      "INFO:betfairlightweight.streaming.stream:[MarketStream: 0]: 1.177442891 added, 1 markets in cache\n",
      "INFO:betfairlightweight.streaming.stream:[MarketStream: 0]: 1.177442891 added, 1 markets in cache\n",
      "INFO:betfairlightweight.streaming.stream:[MarketStream: 0]: 1.177442891 added, 1 markets in cache\n",
      "INFO:betfairlightweight.streaming.stream:[MarketStream: 0]: 1.177442891 added, 1 markets in cache\n",
      "INFO:betfairlightweight.streaming.stream:[MarketStream: 0]: 1.177442891 added, 1 markets in cache\n",
      "INFO:betfairlightweight.streaming.stream:[MarketStream: 0]: 1.177442891 added, 1 markets in cache\n",
      "INFO:betfairlightweight.streaming.stream:[MarketStream: 0]: 1.177442891 added, 1 markets in cache\n",
      "INFO:betfairlightweight.streaming.stream:[MarketStream: 0]: 1.177442891 added, 1 markets in cache\n",
      "INFO:betfairlightweight.streaming.listener:[Register: 0]: marketSubscription\n",
      "WARNING:betfairlightweight.streaming.listener:[Listener: 0]: stream already registered, replacing data\n",
      "INFO:betfairlightweight.streaming.stream:[MarketStream: 0]: \"MarketStream\" created\n",
      "INFO:betfairlightweight.streaming.stream:[MarketStream: 0]: 1.177443410 added, 1 markets in cache\n",
      "INFO:betfairlightweight.streaming.listener:[Register: 0]: marketSubscription\n",
      "WARNING:betfairlightweight.streaming.listener:[Listener: 0]: stream already registered, replacing data\n",
      "INFO:betfairlightweight.streaming.stream:[MarketStream: 0]: \"MarketStream\" created\n",
      "INFO:betfairlightweight.streaming.stream:[MarketStream: 0]: 1.177442818 added, 1 markets in cache\n",
      "INFO:betfairlightweight.streaming.stream:[MarketStream: 0]: 1.177442818 added, 1 markets in cache\n",
      "INFO:betfairlightweight.streaming.stream:[MarketStream: 0]: 1.177442818 added, 1 markets in cache\n",
      "INFO:betfairlightweight.streaming.stream:[MarketStream: 0]: 1.177442818 added, 1 markets in cache\n",
      "INFO:betfairlightweight.streaming.stream:[MarketStream: 0]: 1.177442818 added, 1 markets in cache\n",
      "INFO:betfairlightweight.streaming.stream:[MarketStream: 0]: 1.177442818 added, 1 markets in cache\n",
      "INFO:betfairlightweight.streaming.stream:[MarketStream: 0]: 1.177442818 added, 1 markets in cache\n",
      "INFO:betfairlightweight.streaming.stream:[MarketStream: 0]: 1.177442818 added, 1 markets in cache\n",
      "INFO:betfairlightweight.streaming.stream:[MarketStream: 0]: 1.177442818 added, 1 markets in cache\n",
      "INFO:betfairlightweight.streaming.stream:[MarketStream: 0]: 1.177442818 added, 1 markets in cache\n"
     ]
    },
    {
     "name": "stdout",
     "output_type": "stream",
     "text": [
      "didnt find postplay results?\n",
      "didnt find postplay results?\n"
     ]
    },
    {
     "name": "stderr",
     "output_type": "stream",
     "text": [
      "INFO:betfairlightweight.streaming.listener:[Register: 0]: marketSubscription\n",
      "WARNING:betfairlightweight.streaming.listener:[Listener: 0]: stream already registered, replacing data\n",
      "INFO:betfairlightweight.streaming.stream:[MarketStream: 0]: \"MarketStream\" created\n",
      "INFO:betfairlightweight.streaming.stream:[MarketStream: 0]: 1.177442834 added, 1 markets in cache\n",
      "INFO:betfairlightweight.streaming.stream:[MarketStream: 0]: 1.177442834 added, 1 markets in cache\n",
      "INFO:betfairlightweight.streaming.stream:[MarketStream: 0]: 1.177442834 added, 1 markets in cache\n",
      "INFO:betfairlightweight.streaming.stream:[MarketStream: 0]: 1.177442834 added, 1 markets in cache\n",
      "INFO:betfairlightweight.streaming.stream:[MarketStream: 0]: 1.177442834 added, 1 markets in cache\n",
      "INFO:betfairlightweight.streaming.stream:[MarketStream: 0]: 1.177442834 added, 1 markets in cache\n",
      "INFO:betfairlightweight.streaming.stream:[MarketStream: 0]: 1.177442834 added, 1 markets in cache\n",
      "INFO:betfairlightweight.streaming.stream:[MarketStream: 0]: 1.177442834 added, 1 markets in cache\n",
      "INFO:betfairlightweight.streaming.stream:[MarketStream: 0]: 1.177442834 added, 1 markets in cache\n"
     ]
    },
    {
     "name": "stdout",
     "output_type": "stream",
     "text": [
      "didnt find postplay results?\n"
     ]
    },
    {
     "name": "stderr",
     "output_type": "stream",
     "text": [
      "INFO:betfairlightweight.streaming.listener:[Register: 0]: marketSubscription\n",
      "WARNING:betfairlightweight.streaming.listener:[Listener: 0]: stream already registered, replacing data\n",
      "INFO:betfairlightweight.streaming.stream:[MarketStream: 0]: \"MarketStream\" created\n",
      "INFO:betfairlightweight.streaming.stream:[MarketStream: 0]: 1.178559056 added, 1 markets in cache\n",
      "INFO:betfairlightweight.streaming.listener:[Register: 0]: marketSubscription\n",
      "WARNING:betfairlightweight.streaming.listener:[Listener: 0]: stream already registered, replacing data\n",
      "INFO:betfairlightweight.streaming.stream:[MarketStream: 0]: \"MarketStream\" created\n",
      "INFO:betfairlightweight.streaming.stream:[MarketStream: 0]: 1.177442833 added, 1 markets in cache\n",
      "INFO:betfairlightweight.streaming.stream:[MarketStream: 0]: 1.177442833 added, 1 markets in cache\n",
      "INFO:betfairlightweight.streaming.stream:[MarketStream: 0]: 1.177442833 added, 1 markets in cache\n",
      "INFO:betfairlightweight.streaming.stream:[MarketStream: 0]: 1.177442833 added, 1 markets in cache\n",
      "INFO:betfairlightweight.streaming.stream:[MarketStream: 0]: 1.177442833 added, 1 markets in cache\n",
      "INFO:betfairlightweight.streaming.stream:[MarketStream: 0]: 1.177442833 added, 1 markets in cache\n",
      "INFO:betfairlightweight.streaming.stream:[MarketStream: 0]: 1.177442833 added, 1 markets in cache\n",
      "INFO:betfairlightweight.streaming.stream:[MarketStream: 0]: 1.177442833 added, 1 markets in cache\n",
      "INFO:betfairlightweight.streaming.stream:[MarketStream: 0]: 1.177442833 added, 1 markets in cache\n",
      "INFO:betfairlightweight.streaming.stream:[MarketStream: 0]: 1.177442833 added, 1 markets in cache\n",
      "INFO:betfairlightweight.streaming.stream:[MarketStream: 0]: 1.177442833 added, 1 markets in cache\n",
      "INFO:betfairlightweight.streaming.stream:[MarketStream: 0]: 1.177442833 added, 1 markets in cache\n"
     ]
    },
    {
     "name": "stdout",
     "output_type": "stream",
     "text": [
      "didnt find postplay results?\n"
     ]
    },
    {
     "name": "stderr",
     "output_type": "stream",
     "text": [
      "INFO:betfairlightweight.streaming.listener:[Register: 0]: marketSubscription\n",
      "WARNING:betfairlightweight.streaming.listener:[Listener: 0]: stream already registered, replacing data\n",
      "INFO:betfairlightweight.streaming.stream:[MarketStream: 0]: \"MarketStream\" created\n",
      "INFO:betfairlightweight.streaming.stream:[MarketStream: 0]: 1.177442817 added, 1 markets in cache\n",
      "INFO:betfairlightweight.streaming.stream:[MarketStream: 0]: 1.177442817 added, 1 markets in cache\n",
      "INFO:betfairlightweight.streaming.stream:[MarketStream: 0]: 1.177442817 added, 1 markets in cache\n",
      "INFO:betfairlightweight.streaming.stream:[MarketStream: 0]: 1.177442817 added, 1 markets in cache\n",
      "INFO:betfairlightweight.streaming.stream:[MarketStream: 0]: 1.177442817 added, 1 markets in cache\n",
      "INFO:betfairlightweight.streaming.stream:[MarketStream: 0]: 1.177442817 added, 1 markets in cache\n",
      "INFO:betfairlightweight.streaming.stream:[MarketStream: 0]: 1.177442817 added, 1 markets in cache\n",
      "INFO:betfairlightweight.streaming.stream:[MarketStream: 0]: 1.177442817 added, 1 markets in cache\n",
      "INFO:betfairlightweight.streaming.stream:[MarketStream: 0]: 1.177442817 added, 1 markets in cache\n"
     ]
    },
    {
     "name": "stdout",
     "output_type": "stream",
     "text": [
      "didnt find postplay results?\n"
     ]
    },
    {
     "name": "stderr",
     "output_type": "stream",
     "text": [
      "INFO:betfairlightweight.streaming.listener:[Register: 0]: marketSubscription\n",
      "WARNING:betfairlightweight.streaming.listener:[Listener: 0]: stream already registered, replacing data\n",
      "INFO:betfairlightweight.streaming.stream:[MarketStream: 0]: \"MarketStream\" created\n",
      "INFO:betfairlightweight.streaming.stream:[MarketStream: 0]: 1.177443181 added, 1 markets in cache\n",
      "INFO:betfairlightweight.streaming.listener:[Register: 0]: marketSubscription\n",
      "WARNING:betfairlightweight.streaming.listener:[Listener: 0]: stream already registered, replacing data\n",
      "INFO:betfairlightweight.streaming.stream:[MarketStream: 0]: \"MarketStream\" created\n",
      "INFO:betfairlightweight.streaming.stream:[MarketStream: 0]: 1.177442877 added, 1 markets in cache\n",
      "INFO:betfairlightweight.streaming.stream:[MarketStream: 0]: 1.177442877 added, 1 markets in cache\n",
      "INFO:betfairlightweight.streaming.stream:[MarketStream: 0]: 1.177442877 added, 1 markets in cache\n",
      "INFO:betfairlightweight.streaming.stream:[MarketStream: 0]: 1.177442877 added, 1 markets in cache\n",
      "INFO:betfairlightweight.streaming.stream:[MarketStream: 0]: 1.177442877 added, 1 markets in cache\n",
      "INFO:betfairlightweight.streaming.stream:[MarketStream: 0]: 1.177442877 added, 1 markets in cache\n",
      "INFO:betfairlightweight.streaming.stream:[MarketStream: 0]: 1.177442877 added, 1 markets in cache\n",
      "INFO:betfairlightweight.streaming.stream:[MarketStream: 0]: 1.177442877 added, 1 markets in cache\n",
      "INFO:betfairlightweight.streaming.stream:[MarketStream: 0]: 1.177442877 added, 1 markets in cache\n",
      "INFO:betfairlightweight.streaming.stream:[MarketStream: 0]: 1.177442877 added, 1 markets in cache\n",
      "INFO:betfairlightweight.streaming.stream:[MarketStream: 0]: 1.177442877 added, 1 markets in cache\n",
      "INFO:betfairlightweight.streaming.stream:[MarketStream: 0]: 1.177442877 added, 1 markets in cache\n"
     ]
    },
    {
     "name": "stdout",
     "output_type": "stream",
     "text": [
      "didnt find postplay results?\n"
     ]
    },
    {
     "name": "stderr",
     "output_type": "stream",
     "text": [
      "INFO:betfairlightweight.streaming.listener:[Register: 0]: marketSubscription\n",
      "WARNING:betfairlightweight.streaming.listener:[Listener: 0]: stream already registered, replacing data\n",
      "INFO:betfairlightweight.streaming.stream:[MarketStream: 0]: \"MarketStream\" created\n",
      "INFO:betfairlightweight.streaming.stream:[MarketStream: 0]: 1.177442878 added, 1 markets in cache\n",
      "INFO:betfairlightweight.streaming.stream:[MarketStream: 0]: 1.177442878 added, 1 markets in cache\n",
      "INFO:betfairlightweight.streaming.stream:[MarketStream: 0]: 1.177442878 added, 1 markets in cache\n",
      "INFO:betfairlightweight.streaming.stream:[MarketStream: 0]: 1.177442878 added, 1 markets in cache\n",
      "INFO:betfairlightweight.streaming.stream:[MarketStream: 0]: 1.177442878 added, 1 markets in cache\n",
      "INFO:betfairlightweight.streaming.stream:[MarketStream: 0]: 1.177442878 added, 1 markets in cache\n",
      "INFO:betfairlightweight.streaming.stream:[MarketStream: 0]: 1.177442878 added, 1 markets in cache\n",
      "INFO:betfairlightweight.streaming.stream:[MarketStream: 0]: 1.177442878 added, 1 markets in cache\n",
      "INFO:betfairlightweight.streaming.stream:[MarketStream: 0]: 1.177442878 added, 1 markets in cache\n",
      "INFO:betfairlightweight.streaming.stream:[MarketStream: 0]: 1.177442878 added, 1 markets in cache\n",
      "INFO:betfairlightweight.streaming.stream:[MarketStream: 0]: 1.177442878 added, 1 markets in cache\n"
     ]
    },
    {
     "name": "stdout",
     "output_type": "stream",
     "text": [
      "didnt find postplay results?\n"
     ]
    },
    {
     "name": "stderr",
     "output_type": "stream",
     "text": [
      "INFO:betfairlightweight.streaming.listener:[Register: 0]: marketSubscription\n",
      "WARNING:betfairlightweight.streaming.listener:[Listener: 0]: stream already registered, replacing data\n",
      "INFO:betfairlightweight.streaming.stream:[MarketStream: 0]: \"MarketStream\" created\n",
      "INFO:betfairlightweight.streaming.stream:[MarketStream: 0]: 1.177443859 added, 1 markets in cache\n",
      "INFO:betfairlightweight.streaming.stream:[MarketStream: 0]: 1.177443859 added, 1 markets in cache\n",
      "INFO:betfairlightweight.streaming.stream:[MarketStream: 0]: 1.177443859 added, 1 markets in cache\n",
      "INFO:betfairlightweight.streaming.stream:[MarketStream: 0]: 1.177443859 added, 1 markets in cache\n",
      "INFO:betfairlightweight.streaming.stream:[MarketStream: 0]: 1.177443859 added, 1 markets in cache\n",
      "INFO:betfairlightweight.streaming.stream:[MarketStream: 0]: 1.177443859 added, 1 markets in cache\n",
      "INFO:betfairlightweight.streaming.stream:[MarketStream: 0]: 1.177443859 added, 1 markets in cache\n",
      "INFO:betfairlightweight.streaming.stream:[MarketStream: 0]: 1.177443859 added, 1 markets in cache\n",
      "INFO:betfairlightweight.streaming.stream:[MarketStream: 0]: 1.177443859 added, 1 markets in cache\n",
      "INFO:betfairlightweight.streaming.stream:[MarketStream: 0]: 1.177443859 added, 1 markets in cache\n",
      "INFO:betfairlightweight.streaming.stream:[MarketStream: 0]: 1.177443859 added, 1 markets in cache\n",
      "INFO:betfairlightweight.streaming.listener:[Register: 0]: marketSubscription\n",
      "WARNING:betfairlightweight.streaming.listener:[Listener: 0]: stream already registered, replacing data\n",
      "INFO:betfairlightweight.streaming.stream:[MarketStream: 0]: \"MarketStream\" created\n",
      "INFO:betfairlightweight.streaming.stream:[MarketStream: 0]: 1.178559055 added, 1 markets in cache\n",
      "INFO:betfairlightweight.streaming.stream:[MarketStream: 0]: 1.178559055 added, 1 markets in cache\n",
      "INFO:betfairlightweight.streaming.stream:[MarketStream: 0]: 1.178559055 added, 1 markets in cache\n",
      "INFO:betfairlightweight.streaming.listener:[Register: 0]: marketSubscription\n",
      "WARNING:betfairlightweight.streaming.listener:[Listener: 0]: stream already registered, replacing data\n",
      "INFO:betfairlightweight.streaming.stream:[MarketStream: 0]: \"MarketStream\" created\n",
      "INFO:betfairlightweight.streaming.stream:[MarketStream: 0]: 1.177443858 added, 1 markets in cache\n",
      "INFO:betfairlightweight.streaming.stream:[MarketStream: 0]: 1.177443858 added, 1 markets in cache\n",
      "INFO:betfairlightweight.streaming.stream:[MarketStream: 0]: 1.177443858 added, 1 markets in cache\n",
      "INFO:betfairlightweight.streaming.stream:[MarketStream: 0]: 1.177443858 added, 1 markets in cache\n",
      "INFO:betfairlightweight.streaming.stream:[MarketStream: 0]: 1.177443858 added, 1 markets in cache\n",
      "INFO:betfairlightweight.streaming.stream:[MarketStream: 0]: 1.177443858 added, 1 markets in cache\n",
      "INFO:betfairlightweight.streaming.stream:[MarketStream: 0]: 1.177443858 added, 1 markets in cache\n",
      "INFO:betfairlightweight.streaming.stream:[MarketStream: 0]: 1.177443858 added, 1 markets in cache\n",
      "INFO:betfairlightweight.streaming.stream:[MarketStream: 0]: 1.177443858 added, 1 markets in cache\n",
      "INFO:betfairlightweight.streaming.stream:[MarketStream: 0]: 1.177443858 added, 1 markets in cache\n",
      "INFO:betfairlightweight.streaming.stream:[MarketStream: 0]: 1.177443858 added, 1 markets in cache\n",
      "INFO:betfairlightweight.streaming.stream:[MarketStream: 0]: 1.177443858 added, 1 markets in cache\n"
     ]
    },
    {
     "name": "stdout",
     "output_type": "stream",
     "text": [
      "didnt find postplay results?\n"
     ]
    },
    {
     "name": "stderr",
     "output_type": "stream",
     "text": [
      "INFO:betfairlightweight.streaming.listener:[Register: 0]: marketSubscription\n",
      "WARNING:betfairlightweight.streaming.listener:[Listener: 0]: stream already registered, replacing data\n",
      "INFO:betfairlightweight.streaming.stream:[MarketStream: 0]: \"MarketStream\" created\n",
      "INFO:betfairlightweight.streaming.stream:[MarketStream: 0]: 1.177444554 added, 1 markets in cache\n",
      "INFO:betfairlightweight.streaming.stream:[MarketStream: 0]: 1.177444554 added, 1 markets in cache\n",
      "INFO:betfairlightweight.streaming.stream:[MarketStream: 0]: 1.177444554 added, 1 markets in cache\n",
      "INFO:betfairlightweight.streaming.stream:[MarketStream: 0]: 1.177444554 added, 1 markets in cache\n",
      "INFO:betfairlightweight.streaming.stream:[MarketStream: 0]: 1.177444554 added, 1 markets in cache\n",
      "INFO:betfairlightweight.streaming.stream:[MarketStream: 0]: 1.177444554 added, 1 markets in cache\n",
      "INFO:betfairlightweight.streaming.stream:[MarketStream: 0]: 1.177444554 added, 1 markets in cache\n",
      "INFO:betfairlightweight.streaming.stream:[MarketStream: 0]: 1.177444554 added, 1 markets in cache\n",
      "INFO:betfairlightweight.streaming.stream:[MarketStream: 0]: 1.177444554 added, 1 markets in cache\n",
      "INFO:betfairlightweight.streaming.stream:[MarketStream: 0]: 1.177444554 added, 1 markets in cache\n",
      "INFO:betfairlightweight.streaming.stream:[MarketStream: 0]: 1.177444554 added, 1 markets in cache\n",
      "INFO:betfairlightweight.streaming.stream:[MarketStream: 0]: 1.177444554 added, 1 markets in cache\n",
      "INFO:betfairlightweight.streaming.stream:[MarketStream: 0]: 1.177444554 added, 1 markets in cache\n"
     ]
    },
    {
     "name": "stdout",
     "output_type": "stream",
     "text": [
      "didnt find postplay results?\n"
     ]
    },
    {
     "name": "stderr",
     "output_type": "stream",
     "text": [
      "INFO:betfairlightweight.streaming.listener:[Register: 0]: marketSubscription\n",
      "WARNING:betfairlightweight.streaming.listener:[Listener: 0]: stream already registered, replacing data\n",
      "INFO:betfairlightweight.streaming.stream:[MarketStream: 0]: \"MarketStream\" created\n",
      "INFO:betfairlightweight.streaming.stream:[MarketStream: 0]: 1.177443184 added, 1 markets in cache\n",
      "INFO:betfairlightweight.streaming.listener:[Register: 0]: marketSubscription\n",
      "WARNING:betfairlightweight.streaming.listener:[Listener: 0]: stream already registered, replacing data\n",
      "INFO:betfairlightweight.streaming.stream:[MarketStream: 0]: \"MarketStream\" created\n",
      "INFO:betfairlightweight.streaming.stream:[MarketStream: 0]: 1.177442935 added, 1 markets in cache\n",
      "INFO:betfairlightweight.streaming.stream:[MarketStream: 0]: 1.177442935 added, 1 markets in cache\n",
      "INFO:betfairlightweight.streaming.stream:[MarketStream: 0]: 1.177442935 added, 1 markets in cache\n",
      "INFO:betfairlightweight.streaming.stream:[MarketStream: 0]: 1.177442935 added, 1 markets in cache\n",
      "INFO:betfairlightweight.streaming.stream:[MarketStream: 0]: 1.177442935 added, 1 markets in cache\n",
      "INFO:betfairlightweight.streaming.stream:[MarketStream: 0]: 1.177442935 added, 1 markets in cache\n",
      "INFO:betfairlightweight.streaming.stream:[MarketStream: 0]: 1.177442935 added, 1 markets in cache\n",
      "INFO:betfairlightweight.streaming.stream:[MarketStream: 0]: 1.177442935 added, 1 markets in cache\n",
      "INFO:betfairlightweight.streaming.stream:[MarketStream: 0]: 1.177442935 added, 1 markets in cache\n",
      "INFO:betfairlightweight.streaming.stream:[MarketStream: 0]: 1.177442935 added, 1 markets in cache\n",
      "INFO:betfairlightweight.streaming.stream:[MarketStream: 0]: 1.177442935 added, 1 markets in cache\n",
      "INFO:betfairlightweight.streaming.stream:[MarketStream: 0]: 1.177442935 added, 1 markets in cache\n",
      "INFO:betfairlightweight.streaming.stream:[MarketStream: 0]: 1.177442935 added, 1 markets in cache\n",
      "INFO:betfairlightweight.streaming.stream:[MarketStream: 0]: 1.177442935 added, 1 markets in cache\n",
      "INFO:betfairlightweight.streaming.stream:[MarketStream: 0]: 1.177442935 added, 1 markets in cache\n",
      "INFO:betfairlightweight.streaming.stream:[MarketStream: 0]: 1.177442935 added, 1 markets in cache\n"
     ]
    },
    {
     "name": "stdout",
     "output_type": "stream",
     "text": [
      "didnt find postplay results?\n",
      "didnt find postplay results?\n"
     ]
    },
    {
     "name": "stderr",
     "output_type": "stream",
     "text": [
      "INFO:betfairlightweight.streaming.stream:[MarketStream: 0]: 1.177442935 added, 1 markets in cache\n",
      "INFO:betfairlightweight.streaming.stream:[MarketStream: 0]: 1.177442935 added, 1 markets in cache\n",
      "INFO:betfairlightweight.streaming.listener:[Register: 0]: marketSubscription\n",
      "WARNING:betfairlightweight.streaming.listener:[Listener: 0]: stream already registered, replacing data\n",
      "INFO:betfairlightweight.streaming.stream:[MarketStream: 0]: \"MarketStream\" created\n",
      "INFO:betfairlightweight.streaming.stream:[MarketStream: 0]: 1.177444553 added, 1 markets in cache\n",
      "INFO:betfairlightweight.streaming.stream:[MarketStream: 0]: 1.177444553 added, 1 markets in cache\n",
      "INFO:betfairlightweight.streaming.stream:[MarketStream: 0]: 1.177444553 added, 1 markets in cache\n",
      "INFO:betfairlightweight.streaming.stream:[MarketStream: 0]: 1.177444553 added, 1 markets in cache\n",
      "INFO:betfairlightweight.streaming.stream:[MarketStream: 0]: 1.177444553 added, 1 markets in cache\n",
      "INFO:betfairlightweight.streaming.stream:[MarketStream: 0]: 1.177444553 added, 1 markets in cache\n",
      "INFO:betfairlightweight.streaming.stream:[MarketStream: 0]: 1.177444553 added, 1 markets in cache\n",
      "INFO:betfairlightweight.streaming.stream:[MarketStream: 0]: 1.177444553 added, 1 markets in cache\n",
      "INFO:betfairlightweight.streaming.stream:[MarketStream: 0]: 1.177444553 added, 1 markets in cache\n",
      "INFO:betfairlightweight.streaming.stream:[MarketStream: 0]: 1.177444553 added, 1 markets in cache\n",
      "INFO:betfairlightweight.streaming.stream:[MarketStream: 0]: 1.177444553 added, 1 markets in cache\n"
     ]
    },
    {
     "name": "stdout",
     "output_type": "stream",
     "text": [
      "didnt find postplay results?\n"
     ]
    },
    {
     "name": "stderr",
     "output_type": "stream",
     "text": [
      "INFO:betfairlightweight.streaming.listener:[Register: 0]: marketSubscription\n",
      "WARNING:betfairlightweight.streaming.listener:[Listener: 0]: stream already registered, replacing data\n",
      "INFO:betfairlightweight.streaming.stream:[MarketStream: 0]: \"MarketStream\" created\n",
      "INFO:betfairlightweight.streaming.stream:[MarketStream: 0]: 1.178559054 added, 1 markets in cache\n",
      "INFO:betfairlightweight.streaming.listener:[Register: 0]: marketSubscription\n",
      "WARNING:betfairlightweight.streaming.listener:[Listener: 0]: stream already registered, replacing data\n",
      "INFO:betfairlightweight.streaming.stream:[MarketStream: 0]: \"MarketStream\" created\n",
      "INFO:betfairlightweight.streaming.stream:[MarketStream: 0]: 1.177442936 added, 1 markets in cache\n",
      "INFO:betfairlightweight.streaming.stream:[MarketStream: 0]: 1.177442936 added, 1 markets in cache\n",
      "INFO:betfairlightweight.streaming.stream:[MarketStream: 0]: 1.177442936 added, 1 markets in cache\n",
      "INFO:betfairlightweight.streaming.stream:[MarketStream: 0]: 1.177442936 added, 1 markets in cache\n",
      "INFO:betfairlightweight.streaming.stream:[MarketStream: 0]: 1.177442936 added, 1 markets in cache\n",
      "INFO:betfairlightweight.streaming.stream:[MarketStream: 0]: 1.177442936 added, 1 markets in cache\n",
      "INFO:betfairlightweight.streaming.stream:[MarketStream: 0]: 1.177442936 added, 1 markets in cache\n",
      "INFO:betfairlightweight.streaming.stream:[MarketStream: 0]: 1.177442936 added, 1 markets in cache\n",
      "INFO:betfairlightweight.streaming.stream:[MarketStream: 0]: 1.177442936 added, 1 markets in cache\n",
      "INFO:betfairlightweight.streaming.stream:[MarketStream: 0]: 1.177442936 added, 1 markets in cache\n",
      "INFO:betfairlightweight.streaming.stream:[MarketStream: 0]: 1.177442936 added, 1 markets in cache\n",
      "INFO:betfairlightweight.streaming.stream:[MarketStream: 0]: 1.177442936 added, 1 markets in cache\n"
     ]
    },
    {
     "name": "stdout",
     "output_type": "stream",
     "text": [
      "didnt find postplay results?\n"
     ]
    },
    {
     "name": "stderr",
     "output_type": "stream",
     "text": [
      "INFO:betfairlightweight.streaming.stream:[MarketStream: 0]: 1.177442936 added, 1 markets in cache\n",
      "INFO:betfairlightweight.streaming.stream:[MarketStream: 0]: 1.177442936 added, 1 markets in cache\n",
      "INFO:betfairlightweight.streaming.stream:[MarketStream: 0]: 1.177442936 added, 1 markets in cache\n",
      "INFO:betfairlightweight.streaming.stream:[MarketStream: 0]: 1.177442936 added, 1 markets in cache\n",
      "INFO:betfairlightweight.streaming.stream:[MarketStream: 0]: 1.177442936 added, 1 markets in cache\n",
      "INFO:betfairlightweight.streaming.listener:[Register: 0]: marketSubscription\n",
      "WARNING:betfairlightweight.streaming.listener:[Listener: 0]: stream already registered, replacing data\n",
      "INFO:betfairlightweight.streaming.stream:[MarketStream: 0]: \"MarketStream\" created\n",
      "INFO:betfairlightweight.streaming.stream:[MarketStream: 0]: 1.177443183 added, 1 markets in cache\n",
      "INFO:betfairlightweight.streaming.listener:[Register: 0]: marketSubscription\n",
      "WARNING:betfairlightweight.streaming.listener:[Listener: 0]: stream already registered, replacing data\n",
      "INFO:betfairlightweight.streaming.stream:[MarketStream: 0]: \"MarketStream\" created\n",
      "INFO:betfairlightweight.streaming.stream:[MarketStream: 0]: 1.177444816 added, 1 markets in cache\n",
      "INFO:betfairlightweight.streaming.listener:[Register: 0]: marketSubscription\n",
      "WARNING:betfairlightweight.streaming.listener:[Listener: 0]: stream already registered, replacing data\n",
      "INFO:betfairlightweight.streaming.stream:[MarketStream: 0]: \"MarketStream\" created\n",
      "INFO:betfairlightweight.streaming.stream:[MarketStream: 0]: 1.177442956 added, 1 markets in cache\n",
      "INFO:betfairlightweight.streaming.stream:[MarketStream: 0]: 1.177442956 added, 1 markets in cache\n",
      "INFO:betfairlightweight.streaming.stream:[MarketStream: 0]: 1.177442956 added, 1 markets in cache\n",
      "INFO:betfairlightweight.streaming.stream:[MarketStream: 0]: 1.177442956 added, 1 markets in cache\n",
      "INFO:betfairlightweight.streaming.stream:[MarketStream: 0]: 1.177442956 added, 1 markets in cache\n",
      "INFO:betfairlightweight.streaming.stream:[MarketStream: 0]: 1.177442956 added, 1 markets in cache\n",
      "INFO:betfairlightweight.streaming.stream:[MarketStream: 0]: 1.177442956 added, 1 markets in cache\n",
      "INFO:betfairlightweight.streaming.stream:[MarketStream: 0]: 1.177442956 added, 1 markets in cache\n",
      "INFO:betfairlightweight.streaming.stream:[MarketStream: 0]: 1.177442956 added, 1 markets in cache\n"
     ]
    },
    {
     "name": "stdout",
     "output_type": "stream",
     "text": [
      "didnt find postplay results?\n",
      "didnt find postplay results?\n"
     ]
    },
    {
     "name": "stderr",
     "output_type": "stream",
     "text": [
      "INFO:betfairlightweight.streaming.listener:[Register: 0]: marketSubscription\n",
      "WARNING:betfairlightweight.streaming.listener:[Listener: 0]: stream already registered, replacing data\n",
      "INFO:betfairlightweight.streaming.stream:[MarketStream: 0]: \"MarketStream\" created\n",
      "INFO:betfairlightweight.streaming.stream:[MarketStream: 0]: 1.177442955 added, 1 markets in cache\n",
      "INFO:betfairlightweight.streaming.stream:[MarketStream: 0]: 1.177442955 added, 1 markets in cache\n",
      "INFO:betfairlightweight.streaming.stream:[MarketStream: 0]: 1.177442955 added, 1 markets in cache\n",
      "INFO:betfairlightweight.streaming.stream:[MarketStream: 0]: 1.177442955 added, 1 markets in cache\n",
      "INFO:betfairlightweight.streaming.stream:[MarketStream: 0]: 1.177442955 added, 1 markets in cache\n",
      "INFO:betfairlightweight.streaming.stream:[MarketStream: 0]: 1.177442955 added, 1 markets in cache\n",
      "INFO:betfairlightweight.streaming.stream:[MarketStream: 0]: 1.177442955 added, 1 markets in cache\n",
      "INFO:betfairlightweight.streaming.stream:[MarketStream: 0]: 1.177442955 added, 1 markets in cache\n",
      "INFO:betfairlightweight.streaming.stream:[MarketStream: 0]: 1.177442955 added, 1 markets in cache\n"
     ]
    },
    {
     "name": "stdout",
     "output_type": "stream",
     "text": [
      "didnt find postplay results?\n"
     ]
    },
    {
     "name": "stderr",
     "output_type": "stream",
     "text": [
      "INFO:betfairlightweight.streaming.listener:[Register: 0]: marketSubscription\n",
      "WARNING:betfairlightweight.streaming.listener:[Listener: 0]: stream already registered, replacing data\n",
      "INFO:betfairlightweight.streaming.stream:[MarketStream: 0]: \"MarketStream\" created\n",
      "INFO:betfairlightweight.streaming.stream:[MarketStream: 0]: 1.177443411 added, 1 markets in cache\n",
      "INFO:betfairlightweight.streaming.listener:[Register: 0]: marketSubscription\n",
      "WARNING:betfairlightweight.streaming.listener:[Listener: 0]: stream already registered, replacing data\n",
      "INFO:betfairlightweight.streaming.stream:[MarketStream: 0]: \"MarketStream\" created\n",
      "INFO:betfairlightweight.streaming.stream:[MarketStream: 0]: 1.177442894 added, 1 markets in cache\n",
      "INFO:betfairlightweight.streaming.stream:[MarketStream: 0]: 1.177442894 added, 1 markets in cache\n",
      "INFO:betfairlightweight.streaming.stream:[MarketStream: 0]: 1.177442894 added, 1 markets in cache\n",
      "INFO:betfairlightweight.streaming.stream:[MarketStream: 0]: 1.177442894 added, 1 markets in cache\n",
      "INFO:betfairlightweight.streaming.stream:[MarketStream: 0]: 1.177442894 added, 1 markets in cache\n",
      "INFO:betfairlightweight.streaming.stream:[MarketStream: 0]: 1.177442894 added, 1 markets in cache\n",
      "INFO:betfairlightweight.streaming.stream:[MarketStream: 0]: 1.177442894 added, 1 markets in cache\n",
      "INFO:betfairlightweight.streaming.stream:[MarketStream: 0]: 1.177442894 added, 1 markets in cache\n"
     ]
    },
    {
     "name": "stdout",
     "output_type": "stream",
     "text": [
      "didnt find postplay results?\n"
     ]
    },
    {
     "name": "stderr",
     "output_type": "stream",
     "text": [
      "INFO:betfairlightweight.streaming.listener:[Register: 0]: marketSubscription\n",
      "WARNING:betfairlightweight.streaming.listener:[Listener: 0]: stream already registered, replacing data\n",
      "INFO:betfairlightweight.streaming.stream:[MarketStream: 0]: \"MarketStream\" created\n",
      "INFO:betfairlightweight.streaming.stream:[MarketStream: 0]: 1.177442893 added, 1 markets in cache\n",
      "INFO:betfairlightweight.streaming.stream:[MarketStream: 0]: 1.177442893 added, 1 markets in cache\n",
      "INFO:betfairlightweight.streaming.stream:[MarketStream: 0]: 1.177442893 added, 1 markets in cache\n",
      "INFO:betfairlightweight.streaming.stream:[MarketStream: 0]: 1.177442893 added, 1 markets in cache\n",
      "INFO:betfairlightweight.streaming.stream:[MarketStream: 0]: 1.177442893 added, 1 markets in cache\n",
      "INFO:betfairlightweight.streaming.stream:[MarketStream: 0]: 1.177442893 added, 1 markets in cache\n",
      "INFO:betfairlightweight.streaming.stream:[MarketStream: 0]: 1.177442893 added, 1 markets in cache\n",
      "INFO:betfairlightweight.streaming.stream:[MarketStream: 0]: 1.177442893 added, 1 markets in cache\n",
      "INFO:betfairlightweight.streaming.stream:[MarketStream: 0]: 1.177442893 added, 1 markets in cache\n",
      "INFO:betfairlightweight.streaming.stream:[MarketStream: 0]: 1.177442893 added, 1 markets in cache\n",
      "INFO:betfairlightweight.streaming.listener:[Register: 0]: marketSubscription\n",
      "WARNING:betfairlightweight.streaming.listener:[Listener: 0]: stream already registered, replacing data\n",
      "INFO:betfairlightweight.streaming.stream:[MarketStream: 0]: \"MarketStream\" created\n",
      "INFO:betfairlightweight.streaming.stream:[MarketStream: 0]: 1.178559053 added, 1 markets in cache\n",
      "INFO:betfairlightweight.streaming.stream:[MarketStream: 0]: 1.178559053 added, 1 markets in cache\n",
      "INFO:betfairlightweight.streaming.stream:[MarketStream: 0]: 1.178559053 added, 1 markets in cache\n",
      "INFO:betfairlightweight.streaming.stream:[MarketStream: 0]: 1.178559053 added, 1 markets in cache\n",
      "INFO:betfairlightweight.streaming.stream:[MarketStream: 0]: 1.178559053 added, 1 markets in cache\n",
      "INFO:betfairlightweight.streaming.stream:[MarketStream: 0]: 1.178559053 added, 1 markets in cache\n",
      "INFO:betfairlightweight.streaming.stream:[MarketStream: 0]: 1.178559053 added, 1 markets in cache\n",
      "INFO:betfairlightweight.streaming.stream:[MarketStream: 0]: 1.178559053 added, 1 markets in cache\n"
     ]
    },
    {
     "name": "stdout",
     "output_type": "stream",
     "text": [
      "didnt find postplay results?\n"
     ]
    },
    {
     "name": "stderr",
     "output_type": "stream",
     "text": [
      "INFO:betfairlightweight.streaming.listener:[Register: 0]: marketSubscription\n",
      "WARNING:betfairlightweight.streaming.listener:[Listener: 0]: stream already registered, replacing data\n",
      "INFO:betfairlightweight.streaming.stream:[MarketStream: 0]: \"MarketStream\" created\n",
      "INFO:betfairlightweight.streaming.stream:[MarketStream: 0]: 1.177444878 added, 1 markets in cache\n",
      "INFO:betfairlightweight.streaming.stream:[MarketStream: 0]: 1.177444878 added, 1 markets in cache\n",
      "INFO:betfairlightweight.streaming.stream:[MarketStream: 0]: 1.177444878 added, 1 markets in cache\n",
      "INFO:betfairlightweight.streaming.stream:[MarketStream: 0]: 1.177444878 added, 1 markets in cache\n",
      "INFO:betfairlightweight.streaming.stream:[MarketStream: 0]: 1.177444878 added, 1 markets in cache\n",
      "INFO:betfairlightweight.streaming.stream:[MarketStream: 0]: 1.177444878 added, 1 markets in cache\n",
      "INFO:betfairlightweight.streaming.stream:[MarketStream: 0]: 1.177444878 added, 1 markets in cache\n",
      "INFO:betfairlightweight.streaming.stream:[MarketStream: 0]: 1.177444878 added, 1 markets in cache\n",
      "INFO:betfairlightweight.streaming.stream:[MarketStream: 0]: 1.177444878 added, 1 markets in cache\n"
     ]
    },
    {
     "name": "stdout",
     "output_type": "stream",
     "text": [
      "didnt find postplay results?\n"
     ]
    },
    {
     "name": "stderr",
     "output_type": "stream",
     "text": [
      "INFO:betfairlightweight.streaming.listener:[Register: 0]: marketSubscription\n",
      "WARNING:betfairlightweight.streaming.listener:[Listener: 0]: stream already registered, replacing data\n",
      "INFO:betfairlightweight.streaming.stream:[MarketStream: 0]: \"MarketStream\" created\n",
      "INFO:betfairlightweight.streaming.stream:[MarketStream: 0]: 1.177444879 added, 1 markets in cache\n",
      "INFO:betfairlightweight.streaming.stream:[MarketStream: 0]: 1.177444879 added, 1 markets in cache\n",
      "INFO:betfairlightweight.streaming.stream:[MarketStream: 0]: 1.177444879 added, 1 markets in cache\n",
      "INFO:betfairlightweight.streaming.stream:[MarketStream: 0]: 1.177444879 added, 1 markets in cache\n",
      "INFO:betfairlightweight.streaming.stream:[MarketStream: 0]: 1.177444879 added, 1 markets in cache\n",
      "INFO:betfairlightweight.streaming.stream:[MarketStream: 0]: 1.177444879 added, 1 markets in cache\n",
      "INFO:betfairlightweight.streaming.stream:[MarketStream: 0]: 1.177444879 added, 1 markets in cache\n",
      "INFO:betfairlightweight.streaming.stream:[MarketStream: 0]: 1.177444879 added, 1 markets in cache\n",
      "INFO:betfairlightweight.streaming.stream:[MarketStream: 0]: 1.177444879 added, 1 markets in cache\n",
      "INFO:betfairlightweight.streaming.stream:[MarketStream: 0]: 1.177444879 added, 1 markets in cache\n",
      "INFO:betfairlightweight.streaming.stream:[MarketStream: 0]: 1.177444879 added, 1 markets in cache\n",
      "INFO:betfairlightweight.streaming.stream:[MarketStream: 0]: 1.177444879 added, 1 markets in cache\n",
      "INFO:betfairlightweight.streaming.listener:[Register: 0]: marketSubscription\n",
      "WARNING:betfairlightweight.streaming.listener:[Listener: 0]: stream already registered, replacing data\n",
      "INFO:betfairlightweight.streaming.stream:[MarketStream: 0]: \"MarketStream\" created\n",
      "INFO:betfairlightweight.streaming.stream:[MarketStream: 0]: 1.177442836 added, 1 markets in cache\n",
      "INFO:betfairlightweight.streaming.stream:[MarketStream: 0]: 1.177442836 added, 1 markets in cache\n",
      "INFO:betfairlightweight.streaming.stream:[MarketStream: 0]: 1.177442836 added, 1 markets in cache\n",
      "INFO:betfairlightweight.streaming.stream:[MarketStream: 0]: 1.177442836 added, 1 markets in cache\n",
      "INFO:betfairlightweight.streaming.stream:[MarketStream: 0]: 1.177442836 added, 1 markets in cache\n",
      "INFO:betfairlightweight.streaming.stream:[MarketStream: 0]: 1.177442836 added, 1 markets in cache\n",
      "INFO:betfairlightweight.streaming.stream:[MarketStream: 0]: 1.177442836 added, 1 markets in cache\n",
      "INFO:betfairlightweight.streaming.stream:[MarketStream: 0]: 1.177442836 added, 1 markets in cache\n"
     ]
    },
    {
     "name": "stdout",
     "output_type": "stream",
     "text": [
      "didnt find postplay results?\n"
     ]
    },
    {
     "name": "stderr",
     "output_type": "stream",
     "text": [
      "INFO:betfairlightweight.streaming.stream:[MarketStream: 0]: 1.177442836 added, 1 markets in cache\n",
      "INFO:betfairlightweight.streaming.listener:[Register: 0]: marketSubscription\n",
      "WARNING:betfairlightweight.streaming.listener:[Listener: 0]: stream already registered, replacing data\n",
      "INFO:betfairlightweight.streaming.stream:[MarketStream: 0]: \"MarketStream\" created\n",
      "INFO:betfairlightweight.streaming.stream:[MarketStream: 0]: 1.177444888 added, 1 markets in cache\n",
      "INFO:betfairlightweight.streaming.listener:[Register: 0]: marketSubscription\n",
      "WARNING:betfairlightweight.streaming.listener:[Listener: 0]: stream already registered, replacing data\n",
      "INFO:betfairlightweight.streaming.stream:[MarketStream: 0]: \"MarketStream\" created\n",
      "INFO:betfairlightweight.streaming.stream:[MarketStream: 0]: 1.177442820 added, 1 markets in cache\n",
      "INFO:betfairlightweight.streaming.stream:[MarketStream: 0]: 1.177442820 added, 1 markets in cache\n",
      "INFO:betfairlightweight.streaming.stream:[MarketStream: 0]: 1.177442820 added, 1 markets in cache\n",
      "INFO:betfairlightweight.streaming.stream:[MarketStream: 0]: 1.177442820 added, 1 markets in cache\n",
      "INFO:betfairlightweight.streaming.stream:[MarketStream: 0]: 1.177442820 added, 1 markets in cache\n",
      "INFO:betfairlightweight.streaming.stream:[MarketStream: 0]: 1.177442820 added, 1 markets in cache\n",
      "INFO:betfairlightweight.streaming.stream:[MarketStream: 0]: 1.177442820 added, 1 markets in cache\n",
      "INFO:betfairlightweight.streaming.stream:[MarketStream: 0]: 1.177442820 added, 1 markets in cache\n",
      "INFO:betfairlightweight.streaming.stream:[MarketStream: 0]: 1.177442820 added, 1 markets in cache\n",
      "INFO:betfairlightweight.streaming.stream:[MarketStream: 0]: 1.177442820 added, 1 markets in cache\n",
      "INFO:betfairlightweight.streaming.stream:[MarketStream: 0]: 1.177442820 added, 1 markets in cache\n"
     ]
    },
    {
     "name": "stdout",
     "output_type": "stream",
     "text": [
      "didnt find postplay results?\n"
     ]
    },
    {
     "name": "stderr",
     "output_type": "stream",
     "text": [
      "INFO:betfairlightweight.streaming.listener:[Register: 0]: marketSubscription\n",
      "WARNING:betfairlightweight.streaming.listener:[Listener: 0]: stream already registered, replacing data\n",
      "INFO:betfairlightweight.streaming.stream:[MarketStream: 0]: \"MarketStream\" created\n",
      "INFO:betfairlightweight.streaming.stream:[MarketStream: 0]: 1.177442879 added, 1 markets in cache\n",
      "INFO:betfairlightweight.streaming.stream:[MarketStream: 0]: 1.177442879 added, 1 markets in cache\n",
      "INFO:betfairlightweight.streaming.stream:[MarketStream: 0]: 1.177442879 added, 1 markets in cache\n",
      "INFO:betfairlightweight.streaming.stream:[MarketStream: 0]: 1.177442879 added, 1 markets in cache\n",
      "INFO:betfairlightweight.streaming.stream:[MarketStream: 0]: 1.177442879 added, 1 markets in cache\n",
      "INFO:betfairlightweight.streaming.stream:[MarketStream: 0]: 1.177442879 added, 1 markets in cache\n",
      "INFO:betfairlightweight.streaming.stream:[MarketStream: 0]: 1.177442879 added, 1 markets in cache\n",
      "INFO:betfairlightweight.streaming.stream:[MarketStream: 0]: 1.177442879 added, 1 markets in cache\n",
      "INFO:betfairlightweight.streaming.stream:[MarketStream: 0]: 1.177442879 added, 1 markets in cache\n",
      "INFO:betfairlightweight.streaming.stream:[MarketStream: 0]: 1.177442879 added, 1 markets in cache\n",
      "INFO:betfairlightweight.streaming.stream:[MarketStream: 0]: 1.177442879 added, 1 markets in cache\n",
      "INFO:betfairlightweight.streaming.stream:[MarketStream: 0]: 1.177442879 added, 1 markets in cache\n"
     ]
    },
    {
     "name": "stdout",
     "output_type": "stream",
     "text": [
      "didnt find postplay results?\n"
     ]
    },
    {
     "name": "stderr",
     "output_type": "stream",
     "text": [
      "INFO:betfairlightweight.streaming.listener:[Register: 0]: marketSubscription\n",
      "WARNING:betfairlightweight.streaming.listener:[Listener: 0]: stream already registered, replacing data\n",
      "INFO:betfairlightweight.streaming.stream:[MarketStream: 0]: \"MarketStream\" created\n",
      "INFO:betfairlightweight.streaming.stream:[MarketStream: 0]: 1.177442835 added, 1 markets in cache\n",
      "INFO:betfairlightweight.streaming.stream:[MarketStream: 0]: 1.177442835 added, 1 markets in cache\n",
      "INFO:betfairlightweight.streaming.stream:[MarketStream: 0]: 1.177442835 added, 1 markets in cache\n",
      "INFO:betfairlightweight.streaming.stream:[MarketStream: 0]: 1.177442835 added, 1 markets in cache\n",
      "INFO:betfairlightweight.streaming.stream:[MarketStream: 0]: 1.177442835 added, 1 markets in cache\n",
      "INFO:betfairlightweight.streaming.stream:[MarketStream: 0]: 1.177442835 added, 1 markets in cache\n",
      "INFO:betfairlightweight.streaming.stream:[MarketStream: 0]: 1.177442835 added, 1 markets in cache\n",
      "INFO:betfairlightweight.streaming.stream:[MarketStream: 0]: 1.177442835 added, 1 markets in cache\n",
      "INFO:betfairlightweight.streaming.stream:[MarketStream: 0]: 1.177442835 added, 1 markets in cache\n",
      "INFO:betfairlightweight.streaming.stream:[MarketStream: 0]: 1.177442835 added, 1 markets in cache\n",
      "INFO:betfairlightweight.streaming.stream:[MarketStream: 0]: 1.177442835 added, 1 markets in cache\n",
      "INFO:betfairlightweight.streaming.stream:[MarketStream: 0]: 1.177442835 added, 1 markets in cache\n"
     ]
    },
    {
     "name": "stdout",
     "output_type": "stream",
     "text": [
      "didnt find postplay results?\n"
     ]
    },
    {
     "name": "stderr",
     "output_type": "stream",
     "text": [
      "INFO:betfairlightweight.streaming.listener:[Register: 0]: marketSubscription\n",
      "WARNING:betfairlightweight.streaming.listener:[Listener: 0]: stream already registered, replacing data\n",
      "INFO:betfairlightweight.streaming.stream:[MarketStream: 0]: \"MarketStream\" created\n",
      "INFO:betfairlightweight.streaming.stream:[MarketStream: 0]: 1.177443861 added, 1 markets in cache\n",
      "INFO:betfairlightweight.streaming.stream:[MarketStream: 0]: 1.177443861 added, 1 markets in cache\n",
      "INFO:betfairlightweight.streaming.stream:[MarketStream: 0]: 1.177443861 added, 1 markets in cache\n",
      "INFO:betfairlightweight.streaming.stream:[MarketStream: 0]: 1.177443861 added, 1 markets in cache\n",
      "INFO:betfairlightweight.streaming.stream:[MarketStream: 0]: 1.177443861 added, 1 markets in cache\n",
      "INFO:betfairlightweight.streaming.stream:[MarketStream: 0]: 1.177443861 added, 1 markets in cache\n",
      "INFO:betfairlightweight.streaming.stream:[MarketStream: 0]: 1.177443861 added, 1 markets in cache\n",
      "INFO:betfairlightweight.streaming.stream:[MarketStream: 0]: 1.177443861 added, 1 markets in cache\n",
      "INFO:betfairlightweight.streaming.stream:[MarketStream: 0]: 1.177443861 added, 1 markets in cache\n"
     ]
    },
    {
     "name": "stdout",
     "output_type": "stream",
     "text": [
      "didnt find postplay results?\n"
     ]
    },
    {
     "name": "stderr",
     "output_type": "stream",
     "text": [
      "INFO:betfairlightweight.streaming.listener:[Register: 0]: marketSubscription\n",
      "WARNING:betfairlightweight.streaming.listener:[Listener: 0]: stream already registered, replacing data\n",
      "INFO:betfairlightweight.streaming.stream:[MarketStream: 0]: \"MarketStream\" created\n",
      "INFO:betfairlightweight.streaming.stream:[MarketStream: 0]: 1.177442819 added, 1 markets in cache\n",
      "INFO:betfairlightweight.streaming.stream:[MarketStream: 0]: 1.177442819 added, 1 markets in cache\n",
      "INFO:betfairlightweight.streaming.stream:[MarketStream: 0]: 1.177442819 added, 1 markets in cache\n",
      "INFO:betfairlightweight.streaming.stream:[MarketStream: 0]: 1.177442819 added, 1 markets in cache\n",
      "INFO:betfairlightweight.streaming.stream:[MarketStream: 0]: 1.177442819 added, 1 markets in cache\n",
      "INFO:betfairlightweight.streaming.stream:[MarketStream: 0]: 1.177442819 added, 1 markets in cache\n",
      "INFO:betfairlightweight.streaming.stream:[MarketStream: 0]: 1.177442819 added, 1 markets in cache\n",
      "INFO:betfairlightweight.streaming.stream:[MarketStream: 0]: 1.177442819 added, 1 markets in cache\n",
      "INFO:betfairlightweight.streaming.listener:[Register: 0]: marketSubscription\n",
      "WARNING:betfairlightweight.streaming.listener:[Listener: 0]: stream already registered, replacing data\n",
      "INFO:betfairlightweight.streaming.stream:[MarketStream: 0]: \"MarketStream\" created\n",
      "INFO:betfairlightweight.streaming.stream:[MarketStream: 0]: 1.177442880 added, 1 markets in cache\n",
      "INFO:betfairlightweight.streaming.stream:[MarketStream: 0]: 1.177442880 added, 1 markets in cache\n",
      "INFO:betfairlightweight.streaming.stream:[MarketStream: 0]: 1.177442880 added, 1 markets in cache\n",
      "INFO:betfairlightweight.streaming.stream:[MarketStream: 0]: 1.177442880 added, 1 markets in cache\n",
      "INFO:betfairlightweight.streaming.stream:[MarketStream: 0]: 1.177442880 added, 1 markets in cache\n",
      "INFO:betfairlightweight.streaming.stream:[MarketStream: 0]: 1.177442880 added, 1 markets in cache\n",
      "INFO:betfairlightweight.streaming.stream:[MarketStream: 0]: 1.177442880 added, 1 markets in cache\n",
      "INFO:betfairlightweight.streaming.stream:[MarketStream: 0]: 1.177442880 added, 1 markets in cache\n",
      "INFO:betfairlightweight.streaming.stream:[MarketStream: 0]: 1.177442880 added, 1 markets in cache\n",
      "INFO:betfairlightweight.streaming.listener:[Register: 0]: marketSubscription\n",
      "WARNING:betfairlightweight.streaming.listener:[Listener: 0]: stream already registered, replacing data\n",
      "INFO:betfairlightweight.streaming.stream:[MarketStream: 0]: \"MarketStream\" created\n",
      "INFO:betfairlightweight.streaming.stream:[MarketStream: 0]: 1.177444817 added, 1 markets in cache\n",
      "INFO:betfairlightweight.streaming.listener:[Register: 0]: marketSubscription\n",
      "WARNING:betfairlightweight.streaming.listener:[Listener: 0]: stream already registered, replacing data\n",
      "INFO:betfairlightweight.streaming.stream:[MarketStream: 0]: \"MarketStream\" created\n",
      "INFO:betfairlightweight.streaming.stream:[MarketStream: 0]: 1.177443860 added, 1 markets in cache\n",
      "INFO:betfairlightweight.streaming.stream:[MarketStream: 0]: 1.177443860 added, 1 markets in cache\n",
      "INFO:betfairlightweight.streaming.stream:[MarketStream: 0]: 1.177443860 added, 1 markets in cache\n",
      "INFO:betfairlightweight.streaming.stream:[MarketStream: 0]: 1.177443860 added, 1 markets in cache\n",
      "INFO:betfairlightweight.streaming.stream:[MarketStream: 0]: 1.177443860 added, 1 markets in cache\n",
      "INFO:betfairlightweight.streaming.stream:[MarketStream: 0]: 1.177443860 added, 1 markets in cache\n",
      "INFO:betfairlightweight.streaming.stream:[MarketStream: 0]: 1.177443860 added, 1 markets in cache\n",
      "INFO:betfairlightweight.streaming.stream:[MarketStream: 0]: 1.177443860 added, 1 markets in cache\n",
      "INFO:betfairlightweight.streaming.stream:[MarketStream: 0]: 1.177443860 added, 1 markets in cache\n",
      "INFO:betfairlightweight.streaming.stream:[MarketStream: 0]: 1.177443860 added, 1 markets in cache\n"
     ]
    },
    {
     "name": "stdout",
     "output_type": "stream",
     "text": [
      "didnt find postplay results?\n"
     ]
    },
    {
     "name": "stderr",
     "output_type": "stream",
     "text": [
      "INFO:betfairlightweight.streaming.listener:[Register: 0]: marketSubscription\n",
      "WARNING:betfairlightweight.streaming.listener:[Listener: 0]: stream already registered, replacing data\n",
      "INFO:betfairlightweight.streaming.stream:[MarketStream: 0]: \"MarketStream\" created\n",
      "INFO:betfairlightweight.streaming.stream:[MarketStream: 0]: 1.178559052 added, 1 markets in cache\n",
      "INFO:betfairlightweight.streaming.stream:[MarketStream: 0]: 1.178559052 added, 1 markets in cache\n",
      "INFO:betfairlightweight.streaming.stream:[MarketStream: 0]: 1.178559052 added, 1 markets in cache\n",
      "INFO:betfairlightweight.streaming.stream:[MarketStream: 0]: 1.178559052 added, 1 markets in cache\n",
      "INFO:betfairlightweight.streaming.stream:[MarketStream: 0]: 1.178559052 added, 1 markets in cache\n",
      "INFO:betfairlightweight.streaming.stream:[MarketStream: 0]: 1.178559052 added, 1 markets in cache\n",
      "INFO:betfairlightweight.streaming.stream:[MarketStream: 0]: 1.178559052 added, 1 markets in cache\n"
     ]
    },
    {
     "name": "stdout",
     "output_type": "stream",
     "text": [
      "didnt find postplay results?\n"
     ]
    },
    {
     "name": "stderr",
     "output_type": "stream",
     "text": [
      "INFO:betfairlightweight.streaming.stream:[MarketStream: 0]: 1.178559052 added, 1 markets in cache\n",
      "INFO:betfairlightweight.streaming.listener:[Register: 0]: marketSubscription\n",
      "WARNING:betfairlightweight.streaming.listener:[Listener: 0]: stream already registered, replacing data\n",
      "INFO:betfairlightweight.streaming.stream:[MarketStream: 0]: \"MarketStream\" created\n",
      "INFO:betfairlightweight.streaming.stream:[MarketStream: 0]: 1.177444555 added, 1 markets in cache\n",
      "INFO:betfairlightweight.streaming.stream:[MarketStream: 0]: 1.177444555 added, 1 markets in cache\n",
      "INFO:betfairlightweight.streaming.stream:[MarketStream: 0]: 1.177444555 added, 1 markets in cache\n",
      "INFO:betfairlightweight.streaming.stream:[MarketStream: 0]: 1.177444555 added, 1 markets in cache\n",
      "INFO:betfairlightweight.streaming.stream:[MarketStream: 0]: 1.177444555 added, 1 markets in cache\n",
      "INFO:betfairlightweight.streaming.stream:[MarketStream: 0]: 1.177444555 added, 1 markets in cache\n",
      "INFO:betfairlightweight.streaming.stream:[MarketStream: 0]: 1.177444555 added, 1 markets in cache\n",
      "INFO:betfairlightweight.streaming.stream:[MarketStream: 0]: 1.177444555 added, 1 markets in cache\n",
      "INFO:betfairlightweight.streaming.stream:[MarketStream: 0]: 1.177444555 added, 1 markets in cache\n",
      "INFO:betfairlightweight.streaming.stream:[MarketStream: 0]: 1.177444555 added, 1 markets in cache\n",
      "INFO:betfairlightweight.streaming.stream:[MarketStream: 0]: 1.177444555 added, 1 markets in cache\n"
     ]
    },
    {
     "name": "stdout",
     "output_type": "stream",
     "text": [
      "didnt find postplay results?\n"
     ]
    },
    {
     "name": "stderr",
     "output_type": "stream",
     "text": [
      "INFO:betfairlightweight.streaming.listener:[Register: 0]: marketSubscription\n",
      "WARNING:betfairlightweight.streaming.listener:[Listener: 0]: stream already registered, replacing data\n",
      "INFO:betfairlightweight.streaming.stream:[MarketStream: 0]: \"MarketStream\" created\n",
      "INFO:betfairlightweight.streaming.stream:[MarketStream: 0]: 1.177442938 added, 1 markets in cache\n",
      "INFO:betfairlightweight.streaming.stream:[MarketStream: 0]: 1.177442938 added, 1 markets in cache\n",
      "INFO:betfairlightweight.streaming.stream:[MarketStream: 0]: 1.177442938 added, 1 markets in cache\n",
      "INFO:betfairlightweight.streaming.stream:[MarketStream: 0]: 1.177442938 added, 1 markets in cache\n",
      "INFO:betfairlightweight.streaming.stream:[MarketStream: 0]: 1.177442938 added, 1 markets in cache\n",
      "INFO:betfairlightweight.streaming.stream:[MarketStream: 0]: 1.177442938 added, 1 markets in cache\n",
      "INFO:betfairlightweight.streaming.stream:[MarketStream: 0]: 1.177442938 added, 1 markets in cache\n",
      "INFO:betfairlightweight.streaming.stream:[MarketStream: 0]: 1.177442938 added, 1 markets in cache\n",
      "INFO:betfairlightweight.streaming.stream:[MarketStream: 0]: 1.177442938 added, 1 markets in cache\n",
      "INFO:betfairlightweight.streaming.stream:[MarketStream: 0]: 1.177442938 added, 1 markets in cache\n",
      "INFO:betfairlightweight.streaming.stream:[MarketStream: 0]: 1.177442938 added, 1 markets in cache\n",
      "INFO:betfairlightweight.streaming.stream:[MarketStream: 0]: 1.177442938 added, 1 markets in cache\n",
      "INFO:betfairlightweight.streaming.stream:[MarketStream: 0]: 1.177442938 added, 1 markets in cache\n",
      "INFO:betfairlightweight.streaming.stream:[MarketStream: 0]: 1.177442938 added, 1 markets in cache\n",
      "INFO:betfairlightweight.streaming.listener:[Register: 0]: marketSubscription\n",
      "WARNING:betfairlightweight.streaming.listener:[Listener: 0]: stream already registered, replacing data\n",
      "INFO:betfairlightweight.streaming.stream:[MarketStream: 0]: \"MarketStream\" created\n",
      "INFO:betfairlightweight.streaming.stream:[MarketStream: 0]: 1.177444556 added, 1 markets in cache\n",
      "INFO:betfairlightweight.streaming.stream:[MarketStream: 0]: 1.177444556 added, 1 markets in cache\n",
      "INFO:betfairlightweight.streaming.stream:[MarketStream: 0]: 1.177444556 added, 1 markets in cache\n",
      "INFO:betfairlightweight.streaming.stream:[MarketStream: 0]: 1.177444556 added, 1 markets in cache\n",
      "INFO:betfairlightweight.streaming.stream:[MarketStream: 0]: 1.177444556 added, 1 markets in cache\n",
      "INFO:betfairlightweight.streaming.stream:[MarketStream: 0]: 1.177444556 added, 1 markets in cache\n",
      "INFO:betfairlightweight.streaming.stream:[MarketStream: 0]: 1.177444556 added, 1 markets in cache\n",
      "INFO:betfairlightweight.streaming.stream:[MarketStream: 0]: 1.177444556 added, 1 markets in cache\n",
      "INFO:betfairlightweight.streaming.stream:[MarketStream: 0]: 1.177444556 added, 1 markets in cache\n",
      "INFO:betfairlightweight.streaming.stream:[MarketStream: 0]: 1.177444556 added, 1 markets in cache\n",
      "INFO:betfairlightweight.streaming.stream:[MarketStream: 0]: 1.177444556 added, 1 markets in cache\n",
      "INFO:betfairlightweight.streaming.stream:[MarketStream: 0]: 1.177444556 added, 1 markets in cache\n",
      "INFO:betfairlightweight.streaming.stream:[MarketStream: 0]: 1.177444556 added, 1 markets in cache\n",
      "INFO:betfairlightweight.streaming.stream:[MarketStream: 0]: 1.177444556 added, 1 markets in cache\n",
      "INFO:betfairlightweight.streaming.stream:[MarketStream: 0]: 1.177444556 added, 1 markets in cache\n",
      "INFO:betfairlightweight.streaming.listener:[Register: 0]: marketSubscription\n",
      "WARNING:betfairlightweight.streaming.listener:[Listener: 0]: stream already registered, replacing data\n",
      "INFO:betfairlightweight.streaming.stream:[MarketStream: 0]: \"MarketStream\" created\n",
      "INFO:betfairlightweight.streaming.stream:[MarketStream: 0]: 1.177442937 added, 1 markets in cache\n",
      "INFO:betfairlightweight.streaming.stream:[MarketStream: 0]: 1.177442937 added, 1 markets in cache\n",
      "INFO:betfairlightweight.streaming.stream:[MarketStream: 0]: 1.177442937 added, 1 markets in cache\n",
      "INFO:betfairlightweight.streaming.stream:[MarketStream: 0]: 1.177442937 added, 1 markets in cache\n",
      "INFO:betfairlightweight.streaming.stream:[MarketStream: 0]: 1.177442937 added, 1 markets in cache\n",
      "INFO:betfairlightweight.streaming.stream:[MarketStream: 0]: 1.177442937 added, 1 markets in cache\n",
      "INFO:betfairlightweight.streaming.stream:[MarketStream: 0]: 1.177442937 added, 1 markets in cache\n",
      "INFO:betfairlightweight.streaming.stream:[MarketStream: 0]: 1.177442937 added, 1 markets in cache\n",
      "INFO:betfairlightweight.streaming.stream:[MarketStream: 0]: 1.177442937 added, 1 markets in cache\n",
      "INFO:betfairlightweight.streaming.stream:[MarketStream: 0]: 1.177442937 added, 1 markets in cache\n",
      "INFO:betfairlightweight.streaming.stream:[MarketStream: 0]: 1.177442937 added, 1 markets in cache\n",
      "INFO:betfairlightweight.streaming.stream:[MarketStream: 0]: 1.177442937 added, 1 markets in cache\n",
      "INFO:betfairlightweight.streaming.stream:[MarketStream: 0]: 1.177442937 added, 1 markets in cache\n",
      "INFO:betfairlightweight.streaming.stream:[MarketStream: 0]: 1.177442937 added, 1 markets in cache\n",
      "INFO:betfairlightweight.streaming.stream:[MarketStream: 0]: 1.177442937 added, 1 markets in cache\n",
      "INFO:betfairlightweight.streaming.stream:[MarketStream: 0]: 1.177442937 added, 1 markets in cache\n"
     ]
    },
    {
     "name": "stdout",
     "output_type": "stream",
     "text": [
      "didnt find postplay results?\n"
     ]
    },
    {
     "name": "stderr",
     "output_type": "stream",
     "text": [
      "INFO:betfairlightweight.streaming.listener:[Register: 0]: marketSubscription\n",
      "WARNING:betfairlightweight.streaming.listener:[Listener: 0]: stream already registered, replacing data\n",
      "INFO:betfairlightweight.streaming.stream:[MarketStream: 0]: \"MarketStream\" created\n",
      "INFO:betfairlightweight.streaming.stream:[MarketStream: 0]: 1.177443185 added, 1 markets in cache\n",
      "INFO:betfairlightweight.streaming.listener:[Register: 0]: marketSubscription\n",
      "WARNING:betfairlightweight.streaming.listener:[Listener: 0]: stream already registered, replacing data\n",
      "INFO:betfairlightweight.streaming.stream:[MarketStream: 0]: \"MarketStream\" created\n",
      "INFO:betfairlightweight.streaming.stream:[MarketStream: 0]: 1.177444881 added, 1 markets in cache\n",
      "INFO:betfairlightweight.streaming.stream:[MarketStream: 0]: 1.177444881 added, 1 markets in cache\n",
      "INFO:betfairlightweight.streaming.stream:[MarketStream: 0]: 1.177444881 added, 1 markets in cache\n",
      "INFO:betfairlightweight.streaming.stream:[MarketStream: 0]: 1.177444881 added, 1 markets in cache\n",
      "INFO:betfairlightweight.streaming.stream:[MarketStream: 0]: 1.177444881 added, 1 markets in cache\n",
      "INFO:betfairlightweight.streaming.stream:[MarketStream: 0]: 1.177444881 added, 1 markets in cache\n",
      "INFO:betfairlightweight.streaming.stream:[MarketStream: 0]: 1.177444881 added, 1 markets in cache\n",
      "INFO:betfairlightweight.streaming.stream:[MarketStream: 0]: 1.177444881 added, 1 markets in cache\n",
      "INFO:betfairlightweight.streaming.stream:[MarketStream: 0]: 1.177444881 added, 1 markets in cache\n"
     ]
    },
    {
     "name": "stdout",
     "output_type": "stream",
     "text": [
      "didnt find postplay results?\n",
      "didnt find postplay results?\n"
     ]
    },
    {
     "name": "stderr",
     "output_type": "stream",
     "text": [
      "INFO:betfairlightweight.streaming.listener:[Register: 0]: marketSubscription\n",
      "WARNING:betfairlightweight.streaming.listener:[Listener: 0]: stream already registered, replacing data\n",
      "INFO:betfairlightweight.streaming.stream:[MarketStream: 0]: \"MarketStream\" created\n",
      "INFO:betfairlightweight.streaming.stream:[MarketStream: 0]: 1.177444889 added, 1 markets in cache\n",
      "INFO:betfairlightweight.streaming.listener:[Register: 0]: marketSubscription\n",
      "WARNING:betfairlightweight.streaming.listener:[Listener: 0]: stream already registered, replacing data\n",
      "INFO:betfairlightweight.streaming.stream:[MarketStream: 0]: \"MarketStream\" created\n",
      "INFO:betfairlightweight.streaming.stream:[MarketStream: 0]: 1.178595799 added, 1 markets in cache\n",
      "INFO:betfairlightweight.streaming.stream:[MarketStream: 0]: 1.178595799 added, 1 markets in cache\n",
      "INFO:betfairlightweight.streaming.stream:[MarketStream: 0]: 1.178595799 added, 1 markets in cache\n",
      "INFO:betfairlightweight.streaming.stream:[MarketStream: 0]: 1.178595799 added, 1 markets in cache\n"
     ]
    },
    {
     "name": "stdout",
     "output_type": "stream",
     "text": [
      "didnt find postplay results?\n",
      "didnt find postplay results?\n"
     ]
    },
    {
     "name": "stderr",
     "output_type": "stream",
     "text": [
      "INFO:betfairlightweight.streaming.stream:[MarketStream: 0]: 1.178595799 added, 1 markets in cache\n",
      "INFO:betfairlightweight.streaming.stream:[MarketStream: 0]: 1.178595799 added, 1 markets in cache\n",
      "INFO:betfairlightweight.streaming.listener:[Register: 0]: marketSubscription\n",
      "WARNING:betfairlightweight.streaming.listener:[Listener: 0]: stream already registered, replacing data\n",
      "INFO:betfairlightweight.streaming.stream:[MarketStream: 0]: \"MarketStream\" created\n",
      "INFO:betfairlightweight.streaming.stream:[MarketStream: 0]: 1.177442838 added, 1 markets in cache\n",
      "INFO:betfairlightweight.streaming.stream:[MarketStream: 0]: 1.177442838 added, 1 markets in cache\n",
      "INFO:betfairlightweight.streaming.stream:[MarketStream: 0]: 1.177442838 added, 1 markets in cache\n",
      "INFO:betfairlightweight.streaming.stream:[MarketStream: 0]: 1.177442838 added, 1 markets in cache\n",
      "INFO:betfairlightweight.streaming.stream:[MarketStream: 0]: 1.177442838 added, 1 markets in cache\n",
      "INFO:betfairlightweight.streaming.stream:[MarketStream: 0]: 1.177442838 added, 1 markets in cache\n",
      "INFO:betfairlightweight.streaming.stream:[MarketStream: 0]: 1.177442838 added, 1 markets in cache\n",
      "INFO:betfairlightweight.streaming.stream:[MarketStream: 0]: 1.177442838 added, 1 markets in cache\n"
     ]
    },
    {
     "name": "stdout",
     "output_type": "stream",
     "text": [
      "didnt find postplay results?\n"
     ]
    },
    {
     "name": "stderr",
     "output_type": "stream",
     "text": [
      "INFO:betfairlightweight.streaming.listener:[Register: 0]: marketSubscription\n",
      "WARNING:betfairlightweight.streaming.listener:[Listener: 0]: stream already registered, replacing data\n",
      "INFO:betfairlightweight.streaming.stream:[MarketStream: 0]: \"MarketStream\" created\n",
      "INFO:betfairlightweight.streaming.stream:[MarketStream: 0]: 1.177444880 added, 1 markets in cache\n",
      "INFO:betfairlightweight.streaming.stream:[MarketStream: 0]: 1.177444880 added, 1 markets in cache\n",
      "INFO:betfairlightweight.streaming.stream:[MarketStream: 0]: 1.177444880 added, 1 markets in cache\n",
      "INFO:betfairlightweight.streaming.stream:[MarketStream: 0]: 1.177444880 added, 1 markets in cache\n",
      "INFO:betfairlightweight.streaming.stream:[MarketStream: 0]: 1.177444880 added, 1 markets in cache\n",
      "INFO:betfairlightweight.streaming.stream:[MarketStream: 0]: 1.177444880 added, 1 markets in cache\n",
      "INFO:betfairlightweight.streaming.stream:[MarketStream: 0]: 1.177444880 added, 1 markets in cache\n",
      "INFO:betfairlightweight.streaming.stream:[MarketStream: 0]: 1.177444880 added, 1 markets in cache\n",
      "INFO:betfairlightweight.streaming.stream:[MarketStream: 0]: 1.177444880 added, 1 markets in cache\n",
      "INFO:betfairlightweight.streaming.stream:[MarketStream: 0]: 1.177444880 added, 1 markets in cache\n",
      "INFO:betfairlightweight.streaming.listener:[Register: 0]: marketSubscription\n",
      "WARNING:betfairlightweight.streaming.listener:[Listener: 0]: stream already registered, replacing data\n",
      "INFO:betfairlightweight.streaming.stream:[MarketStream: 0]: \"MarketStream\" created\n",
      "INFO:betfairlightweight.streaming.stream:[MarketStream: 0]: 1.177442821 added, 1 markets in cache\n",
      "INFO:betfairlightweight.streaming.stream:[MarketStream: 0]: 1.177442821 added, 1 markets in cache\n",
      "INFO:betfairlightweight.streaming.stream:[MarketStream: 0]: 1.177442821 added, 1 markets in cache\n",
      "INFO:betfairlightweight.streaming.stream:[MarketStream: 0]: 1.177442821 added, 1 markets in cache\n",
      "INFO:betfairlightweight.streaming.stream:[MarketStream: 0]: 1.177442821 added, 1 markets in cache\n",
      "INFO:betfairlightweight.streaming.stream:[MarketStream: 0]: 1.177442821 added, 1 markets in cache\n",
      "INFO:betfairlightweight.streaming.stream:[MarketStream: 0]: 1.177442821 added, 1 markets in cache\n",
      "INFO:betfairlightweight.streaming.stream:[MarketStream: 0]: 1.177442821 added, 1 markets in cache\n",
      "INFO:betfairlightweight.streaming.stream:[MarketStream: 0]: 1.177442821 added, 1 markets in cache\n",
      "INFO:betfairlightweight.streaming.stream:[MarketStream: 0]: 1.177442821 added, 1 markets in cache\n",
      "INFO:betfairlightweight.streaming.listener:[Register: 0]: marketSubscription\n",
      "WARNING:betfairlightweight.streaming.listener:[Listener: 0]: stream already registered, replacing data\n",
      "INFO:betfairlightweight.streaming.stream:[MarketStream: 0]: \"MarketStream\" created\n",
      "INFO:betfairlightweight.streaming.stream:[MarketStream: 0]: 1.177442837 added, 1 markets in cache\n",
      "INFO:betfairlightweight.streaming.stream:[MarketStream: 0]: 1.177442837 added, 1 markets in cache\n",
      "INFO:betfairlightweight.streaming.stream:[MarketStream: 0]: 1.177442837 added, 1 markets in cache\n",
      "INFO:betfairlightweight.streaming.stream:[MarketStream: 0]: 1.177442837 added, 1 markets in cache\n",
      "INFO:betfairlightweight.streaming.stream:[MarketStream: 0]: 1.177442837 added, 1 markets in cache\n",
      "INFO:betfairlightweight.streaming.stream:[MarketStream: 0]: 1.177442837 added, 1 markets in cache\n",
      "INFO:betfairlightweight.streaming.stream:[MarketStream: 0]: 1.177442837 added, 1 markets in cache\n",
      "INFO:betfairlightweight.streaming.stream:[MarketStream: 0]: 1.177442837 added, 1 markets in cache\n",
      "INFO:betfairlightweight.streaming.stream:[MarketStream: 0]: 1.177442837 added, 1 markets in cache\n",
      "INFO:betfairlightweight.streaming.stream:[MarketStream: 0]: 1.177442837 added, 1 markets in cache\n",
      "INFO:betfairlightweight.streaming.stream:[MarketStream: 0]: 1.177442837 added, 1 markets in cache\n",
      "INFO:betfairlightweight.streaming.listener:[Register: 0]: marketSubscription\n",
      "WARNING:betfairlightweight.streaming.listener:[Listener: 0]: stream already registered, replacing data\n",
      "INFO:betfairlightweight.streaming.stream:[MarketStream: 0]: \"MarketStream\" created\n",
      "INFO:betfairlightweight.streaming.stream:[MarketStream: 0]: 1.177442822 added, 1 markets in cache\n",
      "INFO:betfairlightweight.streaming.stream:[MarketStream: 0]: 1.177442822 added, 1 markets in cache\n",
      "INFO:betfairlightweight.streaming.stream:[MarketStream: 0]: 1.177442822 added, 1 markets in cache\n",
      "INFO:betfairlightweight.streaming.stream:[MarketStream: 0]: 1.177442822 added, 1 markets in cache\n",
      "INFO:betfairlightweight.streaming.stream:[MarketStream: 0]: 1.177442822 added, 1 markets in cache\n",
      "INFO:betfairlightweight.streaming.stream:[MarketStream: 0]: 1.177442822 added, 1 markets in cache\n",
      "INFO:betfairlightweight.streaming.stream:[MarketStream: 0]: 1.177442822 added, 1 markets in cache\n",
      "INFO:betfairlightweight.streaming.stream:[MarketStream: 0]: 1.177442822 added, 1 markets in cache\n",
      "INFO:betfairlightweight.streaming.stream:[MarketStream: 0]: 1.177442822 added, 1 markets in cache\n",
      "INFO:betfairlightweight.streaming.stream:[MarketStream: 0]: 1.177442822 added, 1 markets in cache\n"
     ]
    },
    {
     "name": "stdout",
     "output_type": "stream",
     "text": [
      "didnt find postplay results?\n"
     ]
    },
    {
     "name": "stderr",
     "output_type": "stream",
     "text": [
      "INFO:betfairlightweight.streaming.listener:[Register: 0]: marketSubscription\n",
      "WARNING:betfairlightweight.streaming.listener:[Listener: 0]: stream already registered, replacing data\n",
      "INFO:betfairlightweight.streaming.stream:[MarketStream: 0]: \"MarketStream\" created\n",
      "INFO:betfairlightweight.streaming.stream:[MarketStream: 0]: 1.177444795 added, 1 markets in cache\n",
      "INFO:betfairlightweight.streaming.stream:[MarketStream: 0]: 1.177444795 added, 1 markets in cache\n",
      "INFO:betfairlightweight.streaming.stream:[MarketStream: 0]: 1.177444795 added, 1 markets in cache\n",
      "INFO:betfairlightweight.streaming.stream:[MarketStream: 0]: 1.177444795 added, 1 markets in cache\n",
      "INFO:betfairlightweight.streaming.stream:[MarketStream: 0]: 1.177444795 added, 1 markets in cache\n",
      "INFO:betfairlightweight.streaming.stream:[MarketStream: 0]: 1.177444795 added, 1 markets in cache\n",
      "INFO:betfairlightweight.streaming.stream:[MarketStream: 0]: 1.177444795 added, 1 markets in cache\n",
      "INFO:betfairlightweight.streaming.stream:[MarketStream: 0]: 1.177444795 added, 1 markets in cache\n",
      "INFO:betfairlightweight.streaming.stream:[MarketStream: 0]: 1.177444795 added, 1 markets in cache\n",
      "INFO:betfairlightweight.streaming.stream:[MarketStream: 0]: 1.177444795 added, 1 markets in cache\n",
      "INFO:betfairlightweight.streaming.stream:[MarketStream: 0]: 1.177444795 added, 1 markets in cache\n",
      "INFO:betfairlightweight.streaming.stream:[MarketStream: 0]: 1.177444795 added, 1 markets in cache\n"
     ]
    },
    {
     "name": "stdout",
     "output_type": "stream",
     "text": [
      "didnt find postplay results?\n"
     ]
    },
    {
     "name": "stderr",
     "output_type": "stream",
     "text": [
      "INFO:betfairlightweight.streaming.listener:[Register: 0]: marketSubscription\n",
      "WARNING:betfairlightweight.streaming.listener:[Listener: 0]: stream already registered, replacing data\n",
      "INFO:betfairlightweight.streaming.stream:[MarketStream: 0]: \"MarketStream\" created\n",
      "INFO:betfairlightweight.streaming.stream:[MarketStream: 0]: 1.177444818 added, 1 markets in cache\n",
      "INFO:betfairlightweight.streaming.listener:[Register: 0]: marketSubscription\n",
      "WARNING:betfairlightweight.streaming.listener:[Listener: 0]: stream already registered, replacing data\n",
      "INFO:betfairlightweight.streaming.stream:[MarketStream: 0]: \"MarketStream\" created\n",
      "INFO:betfairlightweight.streaming.stream:[MarketStream: 0]: 1.177444796 added, 1 markets in cache\n",
      "INFO:betfairlightweight.streaming.stream:[MarketStream: 0]: 1.177444796 added, 1 markets in cache\n",
      "INFO:betfairlightweight.streaming.stream:[MarketStream: 0]: 1.177444796 added, 1 markets in cache\n",
      "INFO:betfairlightweight.streaming.stream:[MarketStream: 0]: 1.177444796 added, 1 markets in cache\n",
      "INFO:betfairlightweight.streaming.stream:[MarketStream: 0]: 1.177444796 added, 1 markets in cache\n",
      "INFO:betfairlightweight.streaming.stream:[MarketStream: 0]: 1.177444796 added, 1 markets in cache\n",
      "INFO:betfairlightweight.streaming.stream:[MarketStream: 0]: 1.177444796 added, 1 markets in cache\n",
      "INFO:betfairlightweight.streaming.stream:[MarketStream: 0]: 1.177444796 added, 1 markets in cache\n",
      "INFO:betfairlightweight.streaming.stream:[MarketStream: 0]: 1.177444796 added, 1 markets in cache\n"
     ]
    },
    {
     "name": "stdout",
     "output_type": "stream",
     "text": [
      "didnt find postplay results?\n",
      "didnt find postplay results?\n"
     ]
    },
    {
     "name": "stderr",
     "output_type": "stream",
     "text": [
      "INFO:betfairlightweight.streaming.listener:[Register: 0]: marketSubscription\n",
      "WARNING:betfairlightweight.streaming.listener:[Listener: 0]: stream already registered, replacing data\n",
      "INFO:betfairlightweight.streaming.stream:[MarketStream: 0]: \"MarketStream\" created\n",
      "INFO:betfairlightweight.streaming.stream:[MarketStream: 0]: 1.177444558 added, 1 markets in cache\n",
      "INFO:betfairlightweight.streaming.stream:[MarketStream: 0]: 1.177444558 added, 1 markets in cache\n",
      "INFO:betfairlightweight.streaming.stream:[MarketStream: 0]: 1.177444558 added, 1 markets in cache\n",
      "INFO:betfairlightweight.streaming.stream:[MarketStream: 0]: 1.177444558 added, 1 markets in cache\n",
      "INFO:betfairlightweight.streaming.stream:[MarketStream: 0]: 1.177444558 added, 1 markets in cache\n",
      "INFO:betfairlightweight.streaming.stream:[MarketStream: 0]: 1.177444558 added, 1 markets in cache\n",
      "INFO:betfairlightweight.streaming.stream:[MarketStream: 0]: 1.177444558 added, 1 markets in cache\n",
      "INFO:betfairlightweight.streaming.stream:[MarketStream: 0]: 1.177444558 added, 1 markets in cache\n",
      "INFO:betfairlightweight.streaming.stream:[MarketStream: 0]: 1.177444558 added, 1 markets in cache\n",
      "INFO:betfairlightweight.streaming.stream:[MarketStream: 0]: 1.177444558 added, 1 markets in cache\n",
      "INFO:betfairlightweight.streaming.stream:[MarketStream: 0]: 1.177444558 added, 1 markets in cache\n",
      "INFO:betfairlightweight.streaming.stream:[MarketStream: 0]: 1.177444558 added, 1 markets in cache\n"
     ]
    },
    {
     "name": "stdout",
     "output_type": "stream",
     "text": [
      "didnt find postplay results?\n"
     ]
    },
    {
     "name": "stderr",
     "output_type": "stream",
     "text": [
      "INFO:betfairlightweight.streaming.listener:[Register: 0]: marketSubscription\n",
      "WARNING:betfairlightweight.streaming.listener:[Listener: 0]: stream already registered, replacing data\n",
      "INFO:betfairlightweight.streaming.stream:[MarketStream: 0]: \"MarketStream\" created\n",
      "INFO:betfairlightweight.streaming.stream:[MarketStream: 0]: 1.177444557 added, 1 markets in cache\n",
      "INFO:betfairlightweight.streaming.stream:[MarketStream: 0]: 1.177444557 added, 1 markets in cache\n",
      "INFO:betfairlightweight.streaming.stream:[MarketStream: 0]: 1.177444557 added, 1 markets in cache\n",
      "INFO:betfairlightweight.streaming.stream:[MarketStream: 0]: 1.177444557 added, 1 markets in cache\n",
      "INFO:betfairlightweight.streaming.stream:[MarketStream: 0]: 1.177444557 added, 1 markets in cache\n",
      "INFO:betfairlightweight.streaming.stream:[MarketStream: 0]: 1.177444557 added, 1 markets in cache\n",
      "INFO:betfairlightweight.streaming.stream:[MarketStream: 0]: 1.177444557 added, 1 markets in cache\n",
      "INFO:betfairlightweight.streaming.stream:[MarketStream: 0]: 1.177444557 added, 1 markets in cache\n",
      "INFO:betfairlightweight.streaming.stream:[MarketStream: 0]: 1.177444557 added, 1 markets in cache\n",
      "INFO:betfairlightweight.streaming.stream:[MarketStream: 0]: 1.177444557 added, 1 markets in cache\n",
      "INFO:betfairlightweight.streaming.stream:[MarketStream: 0]: 1.177444557 added, 1 markets in cache\n",
      "INFO:betfairlightweight.streaming.stream:[MarketStream: 0]: 1.177444557 added, 1 markets in cache\n"
     ]
    },
    {
     "name": "stdout",
     "output_type": "stream",
     "text": [
      "didnt find postplay results?\n"
     ]
    },
    {
     "name": "stderr",
     "output_type": "stream",
     "text": [
      "INFO:betfairlightweight.streaming.listener:[Register: 0]: marketSubscription\n",
      "WARNING:betfairlightweight.streaming.listener:[Listener: 0]: stream already registered, replacing data\n",
      "INFO:betfairlightweight.streaming.stream:[MarketStream: 0]: \"MarketStream\" created\n",
      "INFO:betfairlightweight.streaming.stream:[MarketStream: 0]: 1.177442940 added, 1 markets in cache\n",
      "INFO:betfairlightweight.streaming.stream:[MarketStream: 0]: 1.177442940 added, 1 markets in cache\n",
      "INFO:betfairlightweight.streaming.stream:[MarketStream: 0]: 1.177442940 added, 1 markets in cache\n",
      "INFO:betfairlightweight.streaming.stream:[MarketStream: 0]: 1.177442940 added, 1 markets in cache\n",
      "INFO:betfairlightweight.streaming.stream:[MarketStream: 0]: 1.177442940 added, 1 markets in cache\n",
      "INFO:betfairlightweight.streaming.stream:[MarketStream: 0]: 1.177442940 added, 1 markets in cache\n",
      "INFO:betfairlightweight.streaming.stream:[MarketStream: 0]: 1.177442940 added, 1 markets in cache\n",
      "INFO:betfairlightweight.streaming.stream:[MarketStream: 0]: 1.177442940 added, 1 markets in cache\n",
      "INFO:betfairlightweight.streaming.stream:[MarketStream: 0]: 1.177442940 added, 1 markets in cache\n",
      "INFO:betfairlightweight.streaming.stream:[MarketStream: 0]: 1.177442940 added, 1 markets in cache\n",
      "INFO:betfairlightweight.streaming.stream:[MarketStream: 0]: 1.177442940 added, 1 markets in cache\n",
      "INFO:betfairlightweight.streaming.stream:[MarketStream: 0]: 1.177442940 added, 1 markets in cache\n",
      "INFO:betfairlightweight.streaming.stream:[MarketStream: 0]: 1.177442940 added, 1 markets in cache\n",
      "INFO:betfairlightweight.streaming.stream:[MarketStream: 0]: 1.177442940 added, 1 markets in cache\n",
      "INFO:betfairlightweight.streaming.stream:[MarketStream: 0]: 1.177442940 added, 1 markets in cache\n",
      "INFO:betfairlightweight.streaming.stream:[MarketStream: 0]: 1.177442940 added, 1 markets in cache\n",
      "INFO:betfairlightweight.streaming.stream:[MarketStream: 0]: 1.177442940 added, 1 markets in cache\n",
      "INFO:betfairlightweight.streaming.stream:[MarketStream: 0]: 1.177442940 added, 1 markets in cache\n",
      "INFO:betfairlightweight.streaming.listener:[Register: 0]: marketSubscription\n",
      "WARNING:betfairlightweight.streaming.listener:[Listener: 0]: stream already registered, replacing data\n",
      "INFO:betfairlightweight.streaming.stream:[MarketStream: 0]: \"MarketStream\" created\n",
      "INFO:betfairlightweight.streaming.stream:[MarketStream: 0]: 1.177443186 added, 1 markets in cache\n",
      "INFO:betfairlightweight.streaming.listener:[Register: 0]: marketSubscription\n",
      "WARNING:betfairlightweight.streaming.listener:[Listener: 0]: stream already registered, replacing data\n",
      "INFO:betfairlightweight.streaming.stream:[MarketStream: 0]: \"MarketStream\" created\n",
      "INFO:betfairlightweight.streaming.stream:[MarketStream: 0]: 1.177447145 added, 1 markets in cache\n",
      "INFO:betfairlightweight.streaming.stream:[MarketStream: 0]: 1.177447145 added, 1 markets in cache\n",
      "INFO:betfairlightweight.streaming.stream:[MarketStream: 0]: 1.177447145 added, 1 markets in cache\n",
      "INFO:betfairlightweight.streaming.stream:[MarketStream: 0]: 1.177447145 added, 1 markets in cache\n",
      "INFO:betfairlightweight.streaming.stream:[MarketStream: 0]: 1.177447145 added, 1 markets in cache\n",
      "INFO:betfairlightweight.streaming.stream:[MarketStream: 0]: 1.177447145 added, 1 markets in cache\n",
      "INFO:betfairlightweight.streaming.stream:[MarketStream: 0]: 1.177447145 added, 1 markets in cache\n",
      "INFO:betfairlightweight.streaming.stream:[MarketStream: 0]: 1.177447145 added, 1 markets in cache\n",
      "INFO:betfairlightweight.streaming.stream:[MarketStream: 0]: 1.177447145 added, 1 markets in cache\n",
      "INFO:betfairlightweight.streaming.stream:[MarketStream: 0]: 1.177447145 added, 1 markets in cache\n",
      "INFO:betfairlightweight.streaming.stream:[MarketStream: 0]: 1.177447145 added, 1 markets in cache\n",
      "INFO:betfairlightweight.streaming.stream:[MarketStream: 0]: 1.177447145 added, 1 markets in cache\n",
      "INFO:betfairlightweight.streaming.stream:[MarketStream: 0]: 1.177447145 added, 1 markets in cache\n"
     ]
    },
    {
     "name": "stdout",
     "output_type": "stream",
     "text": [
      "didnt find postplay results?\n"
     ]
    },
    {
     "name": "stderr",
     "output_type": "stream",
     "text": [
      "INFO:betfairlightweight.streaming.listener:[Register: 0]: marketSubscription\n",
      "WARNING:betfairlightweight.streaming.listener:[Listener: 0]: stream already registered, replacing data\n",
      "INFO:betfairlightweight.streaming.stream:[MarketStream: 0]: \"MarketStream\" created\n",
      "INFO:betfairlightweight.streaming.stream:[MarketStream: 0]: 1.177447168 added, 1 markets in cache\n",
      "INFO:betfairlightweight.streaming.listener:[Register: 0]: marketSubscription\n",
      "WARNING:betfairlightweight.streaming.listener:[Listener: 0]: stream already registered, replacing data\n",
      "INFO:betfairlightweight.streaming.stream:[MarketStream: 0]: \"MarketStream\" created\n",
      "INFO:betfairlightweight.streaming.stream:[MarketStream: 0]: 1.177447144 added, 1 markets in cache\n",
      "INFO:betfairlightweight.streaming.stream:[MarketStream: 0]: 1.177447144 added, 1 markets in cache\n",
      "INFO:betfairlightweight.streaming.stream:[MarketStream: 0]: 1.177447144 added, 1 markets in cache\n",
      "INFO:betfairlightweight.streaming.stream:[MarketStream: 0]: 1.177447144 added, 1 markets in cache\n",
      "INFO:betfairlightweight.streaming.stream:[MarketStream: 0]: 1.177447144 added, 1 markets in cache\n",
      "INFO:betfairlightweight.streaming.stream:[MarketStream: 0]: 1.177447144 added, 1 markets in cache\n",
      "INFO:betfairlightweight.streaming.stream:[MarketStream: 0]: 1.177447144 added, 1 markets in cache\n",
      "INFO:betfairlightweight.streaming.stream:[MarketStream: 0]: 1.177447144 added, 1 markets in cache\n",
      "INFO:betfairlightweight.streaming.stream:[MarketStream: 0]: 1.177447144 added, 1 markets in cache\n",
      "INFO:betfairlightweight.streaming.stream:[MarketStream: 0]: 1.177447144 added, 1 markets in cache\n"
     ]
    },
    {
     "name": "stdout",
     "output_type": "stream",
     "text": [
      "didnt find postplay results?\n",
      "didnt find postplay results?\n"
     ]
    },
    {
     "name": "stderr",
     "output_type": "stream",
     "text": [
      "INFO:betfairlightweight.streaming.listener:[Register: 0]: marketSubscription\n",
      "WARNING:betfairlightweight.streaming.listener:[Listener: 0]: stream already registered, replacing data\n",
      "INFO:betfairlightweight.streaming.stream:[MarketStream: 0]: \"MarketStream\" created\n",
      "INFO:betfairlightweight.streaming.stream:[MarketStream: 0]: 1.177442939 added, 1 markets in cache\n",
      "INFO:betfairlightweight.streaming.stream:[MarketStream: 0]: 1.177442939 added, 1 markets in cache\n",
      "INFO:betfairlightweight.streaming.stream:[MarketStream: 0]: 1.177442939 added, 1 markets in cache\n",
      "INFO:betfairlightweight.streaming.stream:[MarketStream: 0]: 1.177442939 added, 1 markets in cache\n",
      "INFO:betfairlightweight.streaming.stream:[MarketStream: 0]: 1.177442939 added, 1 markets in cache\n",
      "INFO:betfairlightweight.streaming.stream:[MarketStream: 0]: 1.177442939 added, 1 markets in cache\n",
      "INFO:betfairlightweight.streaming.stream:[MarketStream: 0]: 1.177442939 added, 1 markets in cache\n",
      "INFO:betfairlightweight.streaming.stream:[MarketStream: 0]: 1.177442939 added, 1 markets in cache\n",
      "INFO:betfairlightweight.streaming.stream:[MarketStream: 0]: 1.177442939 added, 1 markets in cache\n",
      "INFO:betfairlightweight.streaming.stream:[MarketStream: 0]: 1.177442939 added, 1 markets in cache\n",
      "INFO:betfairlightweight.streaming.stream:[MarketStream: 0]: 1.177442939 added, 1 markets in cache\n",
      "INFO:betfairlightweight.streaming.stream:[MarketStream: 0]: 1.177442939 added, 1 markets in cache\n",
      "INFO:betfairlightweight.streaming.stream:[MarketStream: 0]: 1.177442939 added, 1 markets in cache\n",
      "INFO:betfairlightweight.streaming.stream:[MarketStream: 0]: 1.177442939 added, 1 markets in cache\n",
      "INFO:betfairlightweight.streaming.stream:[MarketStream: 0]: 1.177442939 added, 1 markets in cache\n",
      "INFO:betfairlightweight.streaming.stream:[MarketStream: 0]: 1.177442939 added, 1 markets in cache\n",
      "INFO:betfairlightweight.streaming.stream:[MarketStream: 0]: 1.177442939 added, 1 markets in cache\n",
      "INFO:betfairlightweight.streaming.stream:[MarketStream: 0]: 1.177442939 added, 1 markets in cache\n",
      "INFO:betfairlightweight.streaming.stream:[MarketStream: 0]: 1.177442939 added, 1 markets in cache\n"
     ]
    },
    {
     "name": "stdout",
     "output_type": "stream",
     "text": [
      "didnt find postplay results?\n"
     ]
    },
    {
     "name": "stderr",
     "output_type": "stream",
     "text": [
      "INFO:betfairlightweight.streaming.listener:[Register: 0]: marketSubscription\n",
      "WARNING:betfairlightweight.streaming.listener:[Listener: 0]: stream already registered, replacing data\n",
      "INFO:betfairlightweight.streaming.stream:[MarketStream: 0]: \"MarketStream\" created\n",
      "INFO:betfairlightweight.streaming.stream:[MarketStream: 0]: 1.177442840 added, 1 markets in cache\n",
      "INFO:betfairlightweight.streaming.stream:[MarketStream: 0]: 1.177442840 added, 1 markets in cache\n",
      "INFO:betfairlightweight.streaming.stream:[MarketStream: 0]: 1.177442840 added, 1 markets in cache\n",
      "INFO:betfairlightweight.streaming.stream:[MarketStream: 0]: 1.177442840 added, 1 markets in cache\n",
      "INFO:betfairlightweight.streaming.stream:[MarketStream: 0]: 1.177442840 added, 1 markets in cache\n",
      "INFO:betfairlightweight.streaming.stream:[MarketStream: 0]: 1.177442840 added, 1 markets in cache\n",
      "INFO:betfairlightweight.streaming.stream:[MarketStream: 0]: 1.177442840 added, 1 markets in cache\n",
      "INFO:betfairlightweight.streaming.stream:[MarketStream: 0]: 1.177442840 added, 1 markets in cache\n",
      "INFO:betfairlightweight.streaming.stream:[MarketStream: 0]: 1.177442840 added, 1 markets in cache\n",
      "INFO:betfairlightweight.streaming.stream:[MarketStream: 0]: 1.177442840 added, 1 markets in cache\n"
     ]
    },
    {
     "name": "stdout",
     "output_type": "stream",
     "text": [
      "didnt find postplay results?\n"
     ]
    },
    {
     "name": "stderr",
     "output_type": "stream",
     "text": [
      "INFO:betfairlightweight.streaming.stream:[MarketStream: 0]: 1.177442840 added, 1 markets in cache\n",
      "INFO:betfairlightweight.streaming.listener:[Register: 0]: marketSubscription\n",
      "WARNING:betfairlightweight.streaming.listener:[Listener: 0]: stream already registered, replacing data\n",
      "INFO:betfairlightweight.streaming.stream:[MarketStream: 0]: \"MarketStream\" created\n",
      "INFO:betfairlightweight.streaming.stream:[MarketStream: 0]: 1.177442839 added, 1 markets in cache\n",
      "INFO:betfairlightweight.streaming.stream:[MarketStream: 0]: 1.177442839 added, 1 markets in cache\n",
      "INFO:betfairlightweight.streaming.stream:[MarketStream: 0]: 1.177442839 added, 1 markets in cache\n",
      "INFO:betfairlightweight.streaming.stream:[MarketStream: 0]: 1.177442839 added, 1 markets in cache\n",
      "INFO:betfairlightweight.streaming.stream:[MarketStream: 0]: 1.177442839 added, 1 markets in cache\n",
      "INFO:betfairlightweight.streaming.stream:[MarketStream: 0]: 1.177442839 added, 1 markets in cache\n",
      "INFO:betfairlightweight.streaming.stream:[MarketStream: 0]: 1.177442839 added, 1 markets in cache\n",
      "INFO:betfairlightweight.streaming.stream:[MarketStream: 0]: 1.177442839 added, 1 markets in cache\n",
      "INFO:betfairlightweight.streaming.stream:[MarketStream: 0]: 1.177442839 added, 1 markets in cache\n",
      "INFO:betfairlightweight.streaming.stream:[MarketStream: 0]: 1.177442839 added, 1 markets in cache\n",
      "INFO:betfairlightweight.streaming.stream:[MarketStream: 0]: 1.177442839 added, 1 markets in cache\n",
      "INFO:betfairlightweight.streaming.stream:[MarketStream: 0]: 1.177442839 added, 1 markets in cache\n",
      "INFO:betfairlightweight.streaming.stream:[MarketStream: 0]: 1.177442839 added, 1 markets in cache\n",
      "INFO:betfairlightweight.streaming.listener:[Register: 0]: marketSubscription\n",
      "WARNING:betfairlightweight.streaming.listener:[Listener: 0]: stream already registered, replacing data\n",
      "INFO:betfairlightweight.streaming.stream:[MarketStream: 0]: \"MarketStream\" created\n",
      "INFO:betfairlightweight.streaming.stream:[MarketStream: 0]: 1.177442823 added, 1 markets in cache\n",
      "INFO:betfairlightweight.streaming.stream:[MarketStream: 0]: 1.177442823 added, 1 markets in cache\n",
      "INFO:betfairlightweight.streaming.stream:[MarketStream: 0]: 1.177442823 added, 1 markets in cache\n",
      "INFO:betfairlightweight.streaming.stream:[MarketStream: 0]: 1.177442823 added, 1 markets in cache\n",
      "INFO:betfairlightweight.streaming.stream:[MarketStream: 0]: 1.177442823 added, 1 markets in cache\n",
      "INFO:betfairlightweight.streaming.stream:[MarketStream: 0]: 1.177442823 added, 1 markets in cache\n",
      "INFO:betfairlightweight.streaming.stream:[MarketStream: 0]: 1.177442823 added, 1 markets in cache\n",
      "INFO:betfairlightweight.streaming.stream:[MarketStream: 0]: 1.177442823 added, 1 markets in cache\n"
     ]
    },
    {
     "name": "stdout",
     "output_type": "stream",
     "text": [
      "didnt find postplay results?\n"
     ]
    },
    {
     "name": "stderr",
     "output_type": "stream",
     "text": [
      "INFO:betfairlightweight.streaming.listener:[Register: 0]: marketSubscription\n",
      "WARNING:betfairlightweight.streaming.listener:[Listener: 0]: stream already registered, replacing data\n",
      "INFO:betfairlightweight.streaming.stream:[MarketStream: 0]: \"MarketStream\" created\n",
      "INFO:betfairlightweight.streaming.stream:[MarketStream: 0]: 1.177444822 added, 1 markets in cache\n",
      "INFO:betfairlightweight.streaming.stream:[MarketStream: 0]: 1.177444822 added, 1 markets in cache\n",
      "INFO:betfairlightweight.streaming.stream:[MarketStream: 0]: 1.177444822 added, 1 markets in cache\n",
      "INFO:betfairlightweight.streaming.stream:[MarketStream: 0]: 1.177444822 added, 1 markets in cache\n",
      "INFO:betfairlightweight.streaming.stream:[MarketStream: 0]: 1.177444822 added, 1 markets in cache\n",
      "INFO:betfairlightweight.streaming.stream:[MarketStream: 0]: 1.177444822 added, 1 markets in cache\n",
      "INFO:betfairlightweight.streaming.stream:[MarketStream: 0]: 1.177444822 added, 1 markets in cache\n",
      "INFO:betfairlightweight.streaming.stream:[MarketStream: 0]: 1.177444822 added, 1 markets in cache\n",
      "INFO:betfairlightweight.streaming.stream:[MarketStream: 0]: 1.177444822 added, 1 markets in cache\n",
      "INFO:betfairlightweight.streaming.stream:[MarketStream: 0]: 1.177444822 added, 1 markets in cache\n",
      "INFO:betfairlightweight.streaming.stream:[MarketStream: 0]: 1.177444822 added, 1 markets in cache\n",
      "INFO:betfairlightweight.streaming.stream:[MarketStream: 0]: 1.177444822 added, 1 markets in cache\n",
      "INFO:betfairlightweight.streaming.listener:[Register: 0]: marketSubscription\n",
      "WARNING:betfairlightweight.streaming.listener:[Listener: 0]: stream already registered, replacing data\n",
      "INFO:betfairlightweight.streaming.stream:[MarketStream: 0]: \"MarketStream\" created\n",
      "INFO:betfairlightweight.streaming.stream:[MarketStream: 0]: 1.177442824 added, 1 markets in cache\n",
      "INFO:betfairlightweight.streaming.stream:[MarketStream: 0]: 1.177442824 added, 1 markets in cache\n",
      "INFO:betfairlightweight.streaming.stream:[MarketStream: 0]: 1.177442824 added, 1 markets in cache\n",
      "INFO:betfairlightweight.streaming.stream:[MarketStream: 0]: 1.177442824 added, 1 markets in cache\n",
      "INFO:betfairlightweight.streaming.stream:[MarketStream: 0]: 1.177442824 added, 1 markets in cache\n",
      "INFO:betfairlightweight.streaming.stream:[MarketStream: 0]: 1.177442824 added, 1 markets in cache\n",
      "INFO:betfairlightweight.streaming.stream:[MarketStream: 0]: 1.177442824 added, 1 markets in cache\n",
      "INFO:betfairlightweight.streaming.stream:[MarketStream: 0]: 1.177442824 added, 1 markets in cache\n",
      "INFO:betfairlightweight.streaming.stream:[MarketStream: 0]: 1.177442824 added, 1 markets in cache\n",
      "INFO:betfairlightweight.streaming.stream:[MarketStream: 0]: 1.177442824 added, 1 markets in cache\n",
      "INFO:betfairlightweight.streaming.stream:[MarketStream: 0]: 1.177442824 added, 1 markets in cache\n",
      "INFO:betfairlightweight.streaming.stream:[MarketStream: 0]: 1.177442824 added, 1 markets in cache\n"
     ]
    },
    {
     "name": "stdout",
     "output_type": "stream",
     "text": [
      "didnt find postplay results?\n"
     ]
    },
    {
     "name": "stderr",
     "output_type": "stream",
     "text": [
      "INFO:betfairlightweight.streaming.listener:[Register: 0]: marketSubscription\n",
      "WARNING:betfairlightweight.streaming.listener:[Listener: 0]: stream already registered, replacing data\n",
      "INFO:betfairlightweight.streaming.stream:[MarketStream: 0]: \"MarketStream\" created\n",
      "INFO:betfairlightweight.streaming.stream:[MarketStream: 0]: 1.177444821 added, 1 markets in cache\n",
      "INFO:betfairlightweight.streaming.stream:[MarketStream: 0]: 1.177444821 added, 1 markets in cache\n",
      "INFO:betfairlightweight.streaming.stream:[MarketStream: 0]: 1.177444821 added, 1 markets in cache\n",
      "INFO:betfairlightweight.streaming.stream:[MarketStream: 0]: 1.177444821 added, 1 markets in cache\n",
      "INFO:betfairlightweight.streaming.stream:[MarketStream: 0]: 1.177444821 added, 1 markets in cache\n",
      "INFO:betfairlightweight.streaming.stream:[MarketStream: 0]: 1.177444821 added, 1 markets in cache\n",
      "INFO:betfairlightweight.streaming.stream:[MarketStream: 0]: 1.177444821 added, 1 markets in cache\n",
      "INFO:betfairlightweight.streaming.stream:[MarketStream: 0]: 1.177444821 added, 1 markets in cache\n",
      "INFO:betfairlightweight.streaming.stream:[MarketStream: 0]: 1.177444821 added, 1 markets in cache\n",
      "INFO:betfairlightweight.streaming.stream:[MarketStream: 0]: 1.177444821 added, 1 markets in cache\n",
      "INFO:betfairlightweight.streaming.stream:[MarketStream: 0]: 1.177444821 added, 1 markets in cache\n",
      "INFO:betfairlightweight.streaming.stream:[MarketStream: 0]: 1.177444821 added, 1 markets in cache\n",
      "INFO:betfairlightweight.streaming.stream:[MarketStream: 0]: 1.177444821 added, 1 markets in cache\n"
     ]
    },
    {
     "name": "stdout",
     "output_type": "stream",
     "text": [
      "didnt find postplay results?\n"
     ]
    },
    {
     "name": "stderr",
     "output_type": "stream",
     "text": [
      "INFO:betfairlightweight.streaming.listener:[Register: 0]: marketSubscription\n",
      "WARNING:betfairlightweight.streaming.listener:[Listener: 0]: stream already registered, replacing data\n",
      "INFO:betfairlightweight.streaming.stream:[MarketStream: 0]: \"MarketStream\" created\n",
      "INFO:betfairlightweight.streaming.stream:[MarketStream: 0]: 1.177444797 added, 1 markets in cache\n",
      "INFO:betfairlightweight.streaming.stream:[MarketStream: 0]: 1.177444797 added, 1 markets in cache\n",
      "INFO:betfairlightweight.streaming.stream:[MarketStream: 0]: 1.177444797 added, 1 markets in cache\n",
      "INFO:betfairlightweight.streaming.stream:[MarketStream: 0]: 1.177444797 added, 1 markets in cache\n",
      "INFO:betfairlightweight.streaming.stream:[MarketStream: 0]: 1.177444797 added, 1 markets in cache\n",
      "INFO:betfairlightweight.streaming.stream:[MarketStream: 0]: 1.177444797 added, 1 markets in cache\n",
      "INFO:betfairlightweight.streaming.stream:[MarketStream: 0]: 1.177444797 added, 1 markets in cache\n",
      "INFO:betfairlightweight.streaming.stream:[MarketStream: 0]: 1.177444797 added, 1 markets in cache\n",
      "INFO:betfairlightweight.streaming.stream:[MarketStream: 0]: 1.177444797 added, 1 markets in cache\n",
      "INFO:betfairlightweight.streaming.stream:[MarketStream: 0]: 1.177444797 added, 1 markets in cache\n",
      "INFO:betfairlightweight.streaming.stream:[MarketStream: 0]: 1.177444797 added, 1 markets in cache\n"
     ]
    },
    {
     "name": "stdout",
     "output_type": "stream",
     "text": [
      "didnt find postplay results?\n"
     ]
    },
    {
     "name": "stderr",
     "output_type": "stream",
     "text": [
      "INFO:betfairlightweight.streaming.listener:[Register: 0]: marketSubscription\n",
      "WARNING:betfairlightweight.streaming.listener:[Listener: 0]: stream already registered, replacing data\n",
      "INFO:betfairlightweight.streaming.stream:[MarketStream: 0]: \"MarketStream\" created\n",
      "INFO:betfairlightweight.streaming.stream:[MarketStream: 0]: 1.177444819 added, 1 markets in cache\n",
      "INFO:betfairlightweight.streaming.listener:[Register: 0]: marketSubscription\n",
      "WARNING:betfairlightweight.streaming.listener:[Listener: 0]: stream already registered, replacing data\n",
      "INFO:betfairlightweight.streaming.stream:[MarketStream: 0]: \"MarketStream\" created\n",
      "INFO:betfairlightweight.streaming.stream:[MarketStream: 0]: 1.177444798 added, 1 markets in cache\n",
      "INFO:betfairlightweight.streaming.stream:[MarketStream: 0]: 1.177444798 added, 1 markets in cache\n",
      "INFO:betfairlightweight.streaming.stream:[MarketStream: 0]: 1.177444798 added, 1 markets in cache\n",
      "INFO:betfairlightweight.streaming.stream:[MarketStream: 0]: 1.177444798 added, 1 markets in cache\n",
      "INFO:betfairlightweight.streaming.stream:[MarketStream: 0]: 1.177444798 added, 1 markets in cache\n",
      "INFO:betfairlightweight.streaming.stream:[MarketStream: 0]: 1.177444798 added, 1 markets in cache\n",
      "INFO:betfairlightweight.streaming.stream:[MarketStream: 0]: 1.177444798 added, 1 markets in cache\n",
      "INFO:betfairlightweight.streaming.stream:[MarketStream: 0]: 1.177444798 added, 1 markets in cache\n",
      "INFO:betfairlightweight.streaming.stream:[MarketStream: 0]: 1.177444798 added, 1 markets in cache\n"
     ]
    },
    {
     "name": "stdout",
     "output_type": "stream",
     "text": [
      "didnt find postplay results?\n",
      "didnt find postplay results?\n"
     ]
    },
    {
     "name": "stderr",
     "output_type": "stream",
     "text": [
      "INFO:betfairlightweight.streaming.listener:[Register: 0]: marketSubscription\n",
      "WARNING:betfairlightweight.streaming.listener:[Listener: 0]: stream already registered, replacing data\n",
      "INFO:betfairlightweight.streaming.stream:[MarketStream: 0]: \"MarketStream\" created\n",
      "INFO:betfairlightweight.streaming.stream:[MarketStream: 0]: 1.177444559 added, 1 markets in cache\n",
      "INFO:betfairlightweight.streaming.stream:[MarketStream: 0]: 1.177444559 added, 1 markets in cache\n",
      "INFO:betfairlightweight.streaming.stream:[MarketStream: 0]: 1.177444559 added, 1 markets in cache\n",
      "INFO:betfairlightweight.streaming.stream:[MarketStream: 0]: 1.177444559 added, 1 markets in cache\n",
      "INFO:betfairlightweight.streaming.stream:[MarketStream: 0]: 1.177444559 added, 1 markets in cache\n",
      "INFO:betfairlightweight.streaming.stream:[MarketStream: 0]: 1.177444559 added, 1 markets in cache\n",
      "INFO:betfairlightweight.streaming.stream:[MarketStream: 0]: 1.177444559 added, 1 markets in cache\n",
      "INFO:betfairlightweight.streaming.stream:[MarketStream: 0]: 1.177444559 added, 1 markets in cache\n",
      "INFO:betfairlightweight.streaming.stream:[MarketStream: 0]: 1.177444559 added, 1 markets in cache\n",
      "INFO:betfairlightweight.streaming.stream:[MarketStream: 0]: 1.177444559 added, 1 markets in cache\n"
     ]
    },
    {
     "name": "stdout",
     "output_type": "stream",
     "text": [
      "didnt find postplay results?\n"
     ]
    },
    {
     "name": "stderr",
     "output_type": "stream",
     "text": [
      "INFO:betfairlightweight.streaming.listener:[Register: 0]: marketSubscription\n",
      "WARNING:betfairlightweight.streaming.listener:[Listener: 0]: stream already registered, replacing data\n",
      "INFO:betfairlightweight.streaming.stream:[MarketStream: 0]: \"MarketStream\" created\n",
      "INFO:betfairlightweight.streaming.stream:[MarketStream: 0]: 1.177444560 added, 1 markets in cache\n",
      "INFO:betfairlightweight.streaming.stream:[MarketStream: 0]: 1.177444560 added, 1 markets in cache\n",
      "INFO:betfairlightweight.streaming.stream:[MarketStream: 0]: 1.177444560 added, 1 markets in cache\n",
      "INFO:betfairlightweight.streaming.stream:[MarketStream: 0]: 1.177444560 added, 1 markets in cache\n",
      "INFO:betfairlightweight.streaming.stream:[MarketStream: 0]: 1.177444560 added, 1 markets in cache\n",
      "INFO:betfairlightweight.streaming.stream:[MarketStream: 0]: 1.177444560 added, 1 markets in cache\n",
      "INFO:betfairlightweight.streaming.stream:[MarketStream: 0]: 1.177444560 added, 1 markets in cache\n",
      "INFO:betfairlightweight.streaming.stream:[MarketStream: 0]: 1.177444560 added, 1 markets in cache\n",
      "INFO:betfairlightweight.streaming.stream:[MarketStream: 0]: 1.177444560 added, 1 markets in cache\n",
      "INFO:betfairlightweight.streaming.stream:[MarketStream: 0]: 1.177444560 added, 1 markets in cache\n",
      "INFO:betfairlightweight.streaming.stream:[MarketStream: 0]: 1.177444560 added, 1 markets in cache\n",
      "INFO:betfairlightweight.streaming.listener:[Register: 0]: marketSubscription\n",
      "WARNING:betfairlightweight.streaming.listener:[Listener: 0]: stream already registered, replacing data\n",
      "INFO:betfairlightweight.streaming.stream:[MarketStream: 0]: \"MarketStream\" created\n",
      "INFO:betfairlightweight.streaming.stream:[MarketStream: 0]: 1.177447169 added, 1 markets in cache\n",
      "INFO:betfairlightweight.streaming.listener:[Register: 0]: marketSubscription\n",
      "WARNING:betfairlightweight.streaming.listener:[Listener: 0]: stream already registered, replacing data\n",
      "INFO:betfairlightweight.streaming.stream:[MarketStream: 0]: \"MarketStream\" created\n",
      "INFO:betfairlightweight.streaming.stream:[MarketStream: 0]: 1.177447147 added, 1 markets in cache\n",
      "INFO:betfairlightweight.streaming.stream:[MarketStream: 0]: 1.177447147 added, 1 markets in cache\n",
      "INFO:betfairlightweight.streaming.stream:[MarketStream: 0]: 1.177447147 added, 1 markets in cache\n",
      "INFO:betfairlightweight.streaming.stream:[MarketStream: 0]: 1.177447147 added, 1 markets in cache\n",
      "INFO:betfairlightweight.streaming.stream:[MarketStream: 0]: 1.177447147 added, 1 markets in cache\n",
      "INFO:betfairlightweight.streaming.stream:[MarketStream: 0]: 1.177447147 added, 1 markets in cache\n",
      "INFO:betfairlightweight.streaming.stream:[MarketStream: 0]: 1.177447147 added, 1 markets in cache\n",
      "INFO:betfairlightweight.streaming.stream:[MarketStream: 0]: 1.177447147 added, 1 markets in cache\n",
      "INFO:betfairlightweight.streaming.stream:[MarketStream: 0]: 1.177447147 added, 1 markets in cache\n",
      "INFO:betfairlightweight.streaming.stream:[MarketStream: 0]: 1.177447147 added, 1 markets in cache\n",
      "INFO:betfairlightweight.streaming.stream:[MarketStream: 0]: 1.177447147 added, 1 markets in cache\n",
      "INFO:betfairlightweight.streaming.stream:[MarketStream: 0]: 1.177447147 added, 1 markets in cache\n"
     ]
    },
    {
     "name": "stdout",
     "output_type": "stream",
     "text": [
      "didnt find postplay results?\n",
      "didnt find postplay results?\n"
     ]
    },
    {
     "name": "stderr",
     "output_type": "stream",
     "text": [
      "INFO:betfairlightweight.streaming.listener:[Register: 0]: marketSubscription\n",
      "WARNING:betfairlightweight.streaming.listener:[Listener: 0]: stream already registered, replacing data\n",
      "INFO:betfairlightweight.streaming.stream:[MarketStream: 0]: \"MarketStream\" created\n",
      "INFO:betfairlightweight.streaming.stream:[MarketStream: 0]: 1.178557351 added, 1 markets in cache\n",
      "INFO:betfairlightweight.streaming.listener:[Register: 0]: marketSubscription\n",
      "WARNING:betfairlightweight.streaming.listener:[Listener: 0]: stream already registered, replacing data\n",
      "INFO:betfairlightweight.streaming.stream:[MarketStream: 0]: \"MarketStream\" created\n",
      "INFO:betfairlightweight.streaming.stream:[MarketStream: 0]: 1.177447146 added, 1 markets in cache\n",
      "INFO:betfairlightweight.streaming.stream:[MarketStream: 0]: 1.177447146 added, 1 markets in cache\n",
      "INFO:betfairlightweight.streaming.stream:[MarketStream: 0]: 1.177447146 added, 1 markets in cache\n",
      "INFO:betfairlightweight.streaming.stream:[MarketStream: 0]: 1.177447146 added, 1 markets in cache\n",
      "INFO:betfairlightweight.streaming.stream:[MarketStream: 0]: 1.177447146 added, 1 markets in cache\n",
      "INFO:betfairlightweight.streaming.stream:[MarketStream: 0]: 1.177447146 added, 1 markets in cache\n",
      "INFO:betfairlightweight.streaming.stream:[MarketStream: 0]: 1.177447146 added, 1 markets in cache\n",
      "INFO:betfairlightweight.streaming.stream:[MarketStream: 0]: 1.177447146 added, 1 markets in cache\n",
      "INFO:betfairlightweight.streaming.stream:[MarketStream: 0]: 1.177447146 added, 1 markets in cache\n",
      "INFO:betfairlightweight.streaming.stream:[MarketStream: 0]: 1.177447146 added, 1 markets in cache\n",
      "INFO:betfairlightweight.streaming.stream:[MarketStream: 0]: 1.177447146 added, 1 markets in cache\n"
     ]
    },
    {
     "name": "stdout",
     "output_type": "stream",
     "text": [
      "didnt find postplay results?\n",
      "didnt find postplay results?\n"
     ]
    },
    {
     "name": "stderr",
     "output_type": "stream",
     "text": [
      "INFO:betfairlightweight.streaming.listener:[Register: 0]: marketSubscription\n",
      "WARNING:betfairlightweight.streaming.listener:[Listener: 0]: stream already registered, replacing data\n",
      "INFO:betfairlightweight.streaming.stream:[MarketStream: 0]: \"MarketStream\" created\n",
      "INFO:betfairlightweight.streaming.stream:[MarketStream: 0]: 1.177442941 added, 1 markets in cache\n",
      "INFO:betfairlightweight.streaming.stream:[MarketStream: 0]: 1.177442941 added, 1 markets in cache\n",
      "INFO:betfairlightweight.streaming.stream:[MarketStream: 0]: 1.177442941 added, 1 markets in cache\n",
      "INFO:betfairlightweight.streaming.stream:[MarketStream: 0]: 1.177442941 added, 1 markets in cache\n",
      "INFO:betfairlightweight.streaming.stream:[MarketStream: 0]: 1.177442941 added, 1 markets in cache\n",
      "INFO:betfairlightweight.streaming.stream:[MarketStream: 0]: 1.177442941 added, 1 markets in cache\n",
      "INFO:betfairlightweight.streaming.stream:[MarketStream: 0]: 1.177442941 added, 1 markets in cache\n",
      "INFO:betfairlightweight.streaming.stream:[MarketStream: 0]: 1.177442941 added, 1 markets in cache\n",
      "INFO:betfairlightweight.streaming.stream:[MarketStream: 0]: 1.177442941 added, 1 markets in cache\n",
      "INFO:betfairlightweight.streaming.stream:[MarketStream: 0]: 1.177442941 added, 1 markets in cache\n",
      "INFO:betfairlightweight.streaming.stream:[MarketStream: 0]: 1.177442941 added, 1 markets in cache\n",
      "INFO:betfairlightweight.streaming.stream:[MarketStream: 0]: 1.177442941 added, 1 markets in cache\n",
      "INFO:betfairlightweight.streaming.stream:[MarketStream: 0]: 1.177442941 added, 1 markets in cache\n",
      "INFO:betfairlightweight.streaming.stream:[MarketStream: 0]: 1.177442941 added, 1 markets in cache\n",
      "INFO:betfairlightweight.streaming.stream:[MarketStream: 0]: 1.177442941 added, 1 markets in cache\n",
      "INFO:betfairlightweight.streaming.stream:[MarketStream: 0]: 1.177442941 added, 1 markets in cache\n"
     ]
    },
    {
     "name": "stdout",
     "output_type": "stream",
     "text": [
      "didnt find postplay results?\n"
     ]
    },
    {
     "name": "stderr",
     "output_type": "stream",
     "text": [
      "INFO:betfairlightweight.streaming.listener:[Register: 0]: marketSubscription\n",
      "WARNING:betfairlightweight.streaming.listener:[Listener: 0]: stream already registered, replacing data\n",
      "INFO:betfairlightweight.streaming.stream:[MarketStream: 0]: \"MarketStream\" created\n",
      "INFO:betfairlightweight.streaming.stream:[MarketStream: 0]: 1.178557340 added, 1 markets in cache\n",
      "INFO:betfairlightweight.streaming.listener:[Register: 0]: marketSubscription\n",
      "WARNING:betfairlightweight.streaming.listener:[Listener: 0]: stream already registered, replacing data\n",
      "INFO:betfairlightweight.streaming.stream:[MarketStream: 0]: \"MarketStream\" created\n",
      "INFO:betfairlightweight.streaming.stream:[MarketStream: 0]: 1.177444824 added, 1 markets in cache\n",
      "INFO:betfairlightweight.streaming.stream:[MarketStream: 0]: 1.177444824 added, 1 markets in cache\n",
      "INFO:betfairlightweight.streaming.stream:[MarketStream: 0]: 1.177444824 added, 1 markets in cache\n",
      "INFO:betfairlightweight.streaming.stream:[MarketStream: 0]: 1.177444824 added, 1 markets in cache\n",
      "INFO:betfairlightweight.streaming.stream:[MarketStream: 0]: 1.177444824 added, 1 markets in cache\n",
      "INFO:betfairlightweight.streaming.stream:[MarketStream: 0]: 1.177444824 added, 1 markets in cache\n",
      "INFO:betfairlightweight.streaming.stream:[MarketStream: 0]: 1.177444824 added, 1 markets in cache\n",
      "INFO:betfairlightweight.streaming.stream:[MarketStream: 0]: 1.177444824 added, 1 markets in cache\n",
      "INFO:betfairlightweight.streaming.stream:[MarketStream: 0]: 1.177444824 added, 1 markets in cache\n",
      "INFO:betfairlightweight.streaming.stream:[MarketStream: 0]: 1.177444824 added, 1 markets in cache\n",
      "INFO:betfairlightweight.streaming.stream:[MarketStream: 0]: 1.177444824 added, 1 markets in cache\n",
      "INFO:betfairlightweight.streaming.stream:[MarketStream: 0]: 1.177444824 added, 1 markets in cache\n"
     ]
    },
    {
     "name": "stdout",
     "output_type": "stream",
     "text": [
      "didnt find postplay results?\n",
      "didnt find postplay results?\n"
     ]
    },
    {
     "name": "stderr",
     "output_type": "stream",
     "text": [
      "INFO:betfairlightweight.streaming.listener:[Register: 0]: marketSubscription\n",
      "WARNING:betfairlightweight.streaming.listener:[Listener: 0]: stream already registered, replacing data\n",
      "INFO:betfairlightweight.streaming.stream:[MarketStream: 0]: \"MarketStream\" created\n",
      "INFO:betfairlightweight.streaming.stream:[MarketStream: 0]: 1.177442842 added, 1 markets in cache\n",
      "INFO:betfairlightweight.streaming.stream:[MarketStream: 0]: 1.177442842 added, 1 markets in cache\n",
      "INFO:betfairlightweight.streaming.stream:[MarketStream: 0]: 1.177442842 added, 1 markets in cache\n",
      "INFO:betfairlightweight.streaming.stream:[MarketStream: 0]: 1.177442842 added, 1 markets in cache\n",
      "INFO:betfairlightweight.streaming.stream:[MarketStream: 0]: 1.177442842 added, 1 markets in cache\n",
      "INFO:betfairlightweight.streaming.stream:[MarketStream: 0]: 1.177442842 added, 1 markets in cache\n",
      "INFO:betfairlightweight.streaming.stream:[MarketStream: 0]: 1.177442842 added, 1 markets in cache\n",
      "INFO:betfairlightweight.streaming.stream:[MarketStream: 0]: 1.177442842 added, 1 markets in cache\n",
      "INFO:betfairlightweight.streaming.stream:[MarketStream: 0]: 1.177442842 added, 1 markets in cache\n"
     ]
    },
    {
     "name": "stdout",
     "output_type": "stream",
     "text": [
      "didnt find postplay results?\n"
     ]
    },
    {
     "name": "stderr",
     "output_type": "stream",
     "text": [
      "INFO:betfairlightweight.streaming.stream:[MarketStream: 0]: 1.177442842 added, 1 markets in cache\n",
      "INFO:betfairlightweight.streaming.listener:[Register: 0]: marketSubscription\n",
      "WARNING:betfairlightweight.streaming.listener:[Listener: 0]: stream already registered, replacing data\n",
      "INFO:betfairlightweight.streaming.stream:[MarketStream: 0]: \"MarketStream\" created\n",
      "INFO:betfairlightweight.streaming.stream:[MarketStream: 0]: 1.177443187 added, 1 markets in cache\n",
      "INFO:betfairlightweight.streaming.listener:[Register: 0]: marketSubscription\n",
      "WARNING:betfairlightweight.streaming.listener:[Listener: 0]: stream already registered, replacing data\n",
      "INFO:betfairlightweight.streaming.stream:[MarketStream: 0]: \"MarketStream\" created\n",
      "INFO:betfairlightweight.streaming.stream:[MarketStream: 0]: 1.178557384 added, 1 markets in cache\n",
      "INFO:betfairlightweight.streaming.listener:[Register: 0]: marketSubscription\n",
      "WARNING:betfairlightweight.streaming.listener:[Listener: 0]: stream already registered, replacing data\n",
      "INFO:betfairlightweight.streaming.stream:[MarketStream: 0]: \"MarketStream\" created\n",
      "INFO:betfairlightweight.streaming.stream:[MarketStream: 0]: 1.177442942 added, 1 markets in cache\n",
      "INFO:betfairlightweight.streaming.stream:[MarketStream: 0]: 1.177442942 added, 1 markets in cache\n",
      "INFO:betfairlightweight.streaming.stream:[MarketStream: 0]: 1.177442942 added, 1 markets in cache\n",
      "INFO:betfairlightweight.streaming.stream:[MarketStream: 0]: 1.177442942 added, 1 markets in cache\n",
      "INFO:betfairlightweight.streaming.stream:[MarketStream: 0]: 1.177442942 added, 1 markets in cache\n",
      "INFO:betfairlightweight.streaming.stream:[MarketStream: 0]: 1.177442942 added, 1 markets in cache\n",
      "INFO:betfairlightweight.streaming.stream:[MarketStream: 0]: 1.177442942 added, 1 markets in cache\n",
      "INFO:betfairlightweight.streaming.stream:[MarketStream: 0]: 1.177442942 added, 1 markets in cache\n",
      "INFO:betfairlightweight.streaming.stream:[MarketStream: 0]: 1.177442942 added, 1 markets in cache\n"
     ]
    },
    {
     "name": "stdout",
     "output_type": "stream",
     "text": [
      "didnt find postplay results?\n",
      "didnt find postplay results?\n"
     ]
    },
    {
     "name": "stderr",
     "output_type": "stream",
     "text": [
      "INFO:betfairlightweight.streaming.stream:[MarketStream: 0]: 1.177442942 added, 1 markets in cache\n",
      "INFO:betfairlightweight.streaming.stream:[MarketStream: 0]: 1.177442942 added, 1 markets in cache\n",
      "INFO:betfairlightweight.streaming.stream:[MarketStream: 0]: 1.177442942 added, 1 markets in cache\n",
      "INFO:betfairlightweight.streaming.stream:[MarketStream: 0]: 1.177442942 added, 1 markets in cache\n",
      "INFO:betfairlightweight.streaming.stream:[MarketStream: 0]: 1.177442942 added, 1 markets in cache\n",
      "INFO:betfairlightweight.streaming.stream:[MarketStream: 0]: 1.177442942 added, 1 markets in cache\n",
      "INFO:betfairlightweight.streaming.stream:[MarketStream: 0]: 1.177442942 added, 1 markets in cache\n",
      "INFO:betfairlightweight.streaming.listener:[Register: 0]: marketSubscription\n",
      "WARNING:betfairlightweight.streaming.listener:[Listener: 0]: stream already registered, replacing data\n",
      "INFO:betfairlightweight.streaming.stream:[MarketStream: 0]: \"MarketStream\" created\n",
      "INFO:betfairlightweight.streaming.stream:[MarketStream: 0]: 1.177444823 added, 1 markets in cache\n",
      "INFO:betfairlightweight.streaming.stream:[MarketStream: 0]: 1.177444823 added, 1 markets in cache\n",
      "INFO:betfairlightweight.streaming.stream:[MarketStream: 0]: 1.177444823 added, 1 markets in cache\n",
      "INFO:betfairlightweight.streaming.stream:[MarketStream: 0]: 1.177444823 added, 1 markets in cache\n",
      "INFO:betfairlightweight.streaming.stream:[MarketStream: 0]: 1.177444823 added, 1 markets in cache\n",
      "INFO:betfairlightweight.streaming.stream:[MarketStream: 0]: 1.177444823 added, 1 markets in cache\n",
      "INFO:betfairlightweight.streaming.stream:[MarketStream: 0]: 1.177444823 added, 1 markets in cache\n",
      "INFO:betfairlightweight.streaming.stream:[MarketStream: 0]: 1.177444823 added, 1 markets in cache\n",
      "INFO:betfairlightweight.streaming.stream:[MarketStream: 0]: 1.177444823 added, 1 markets in cache\n",
      "INFO:betfairlightweight.streaming.stream:[MarketStream: 0]: 1.177444823 added, 1 markets in cache\n",
      "INFO:betfairlightweight.streaming.stream:[MarketStream: 0]: 1.177444823 added, 1 markets in cache\n",
      "INFO:betfairlightweight.streaming.stream:[MarketStream: 0]: 1.177444823 added, 1 markets in cache\n",
      "INFO:betfairlightweight.streaming.listener:[Register: 0]: marketSubscription\n",
      "WARNING:betfairlightweight.streaming.listener:[Listener: 0]: stream already registered, replacing data\n",
      "INFO:betfairlightweight.streaming.stream:[MarketStream: 0]: \"MarketStream\" created\n",
      "INFO:betfairlightweight.streaming.stream:[MarketStream: 0]: 1.177442841 added, 1 markets in cache\n",
      "INFO:betfairlightweight.streaming.stream:[MarketStream: 0]: 1.177442841 added, 1 markets in cache\n",
      "INFO:betfairlightweight.streaming.stream:[MarketStream: 0]: 1.177442841 added, 1 markets in cache\n",
      "INFO:betfairlightweight.streaming.stream:[MarketStream: 0]: 1.177442841 added, 1 markets in cache\n",
      "INFO:betfairlightweight.streaming.stream:[MarketStream: 0]: 1.177442841 added, 1 markets in cache\n",
      "INFO:betfairlightweight.streaming.stream:[MarketStream: 0]: 1.177442841 added, 1 markets in cache\n",
      "INFO:betfairlightweight.streaming.stream:[MarketStream: 0]: 1.177442841 added, 1 markets in cache\n",
      "INFO:betfairlightweight.streaming.stream:[MarketStream: 0]: 1.177442841 added, 1 markets in cache\n",
      "INFO:betfairlightweight.streaming.stream:[MarketStream: 0]: 1.177442841 added, 1 markets in cache\n",
      "INFO:betfairlightweight.streaming.stream:[MarketStream: 0]: 1.177442841 added, 1 markets in cache\n"
     ]
    },
    {
     "name": "stdout",
     "output_type": "stream",
     "text": [
      "didnt find postplay results?\n"
     ]
    },
    {
     "name": "stderr",
     "output_type": "stream",
     "text": [
      "INFO:betfairlightweight.streaming.listener:[Register: 0]: marketSubscription\n",
      "WARNING:betfairlightweight.streaming.listener:[Listener: 0]: stream already registered, replacing data\n",
      "INFO:betfairlightweight.streaming.stream:[MarketStream: 0]: \"MarketStream\" created\n",
      "INFO:betfairlightweight.streaming.stream:[MarketStream: 0]: 1.177444800 added, 1 markets in cache\n",
      "INFO:betfairlightweight.streaming.stream:[MarketStream: 0]: 1.177444800 added, 1 markets in cache\n",
      "INFO:betfairlightweight.streaming.stream:[MarketStream: 0]: 1.177444800 added, 1 markets in cache\n",
      "INFO:betfairlightweight.streaming.stream:[MarketStream: 0]: 1.177444800 added, 1 markets in cache\n",
      "INFO:betfairlightweight.streaming.stream:[MarketStream: 0]: 1.177444800 added, 1 markets in cache\n",
      "INFO:betfairlightweight.streaming.stream:[MarketStream: 0]: 1.177444800 added, 1 markets in cache\n",
      "INFO:betfairlightweight.streaming.stream:[MarketStream: 0]: 1.177444800 added, 1 markets in cache\n",
      "INFO:betfairlightweight.streaming.stream:[MarketStream: 0]: 1.177444800 added, 1 markets in cache\n",
      "INFO:betfairlightweight.streaming.stream:[MarketStream: 0]: 1.177444800 added, 1 markets in cache\n",
      "INFO:betfairlightweight.streaming.stream:[MarketStream: 0]: 1.177444800 added, 1 markets in cache\n",
      "INFO:betfairlightweight.streaming.stream:[MarketStream: 0]: 1.177444800 added, 1 markets in cache\n"
     ]
    },
    {
     "name": "stdout",
     "output_type": "stream",
     "text": [
      "didnt find postplay results?\n"
     ]
    },
    {
     "name": "stderr",
     "output_type": "stream",
     "text": [
      "INFO:betfairlightweight.streaming.listener:[Register: 0]: marketSubscription\n",
      "WARNING:betfairlightweight.streaming.listener:[Listener: 0]: stream already registered, replacing data\n",
      "INFO:betfairlightweight.streaming.stream:[MarketStream: 0]: \"MarketStream\" created\n",
      "INFO:betfairlightweight.streaming.stream:[MarketStream: 0]: 1.178557381 added, 1 markets in cache\n",
      "INFO:betfairlightweight.streaming.listener:[Register: 0]: marketSubscription\n",
      "WARNING:betfairlightweight.streaming.listener:[Listener: 0]: stream already registered, replacing data\n",
      "INFO:betfairlightweight.streaming.stream:[MarketStream: 0]: \"MarketStream\" created\n",
      "INFO:betfairlightweight.streaming.stream:[MarketStream: 0]: 1.177444799 added, 1 markets in cache\n",
      "INFO:betfairlightweight.streaming.stream:[MarketStream: 0]: 1.177444799 added, 1 markets in cache\n",
      "INFO:betfairlightweight.streaming.stream:[MarketStream: 0]: 1.177444799 added, 1 markets in cache\n",
      "INFO:betfairlightweight.streaming.stream:[MarketStream: 0]: 1.177444799 added, 1 markets in cache\n",
      "INFO:betfairlightweight.streaming.stream:[MarketStream: 0]: 1.177444799 added, 1 markets in cache\n",
      "INFO:betfairlightweight.streaming.stream:[MarketStream: 0]: 1.177444799 added, 1 markets in cache\n",
      "INFO:betfairlightweight.streaming.stream:[MarketStream: 0]: 1.177444799 added, 1 markets in cache\n",
      "INFO:betfairlightweight.streaming.stream:[MarketStream: 0]: 1.177444799 added, 1 markets in cache\n",
      "INFO:betfairlightweight.streaming.stream:[MarketStream: 0]: 1.177444799 added, 1 markets in cache\n",
      "INFO:betfairlightweight.streaming.stream:[MarketStream: 0]: 1.177444799 added, 1 markets in cache\n",
      "INFO:betfairlightweight.streaming.stream:[MarketStream: 0]: 1.177444799 added, 1 markets in cache\n"
     ]
    },
    {
     "name": "stdout",
     "output_type": "stream",
     "text": [
      "didnt find postplay results?\n",
      "didnt find postplay results?\n"
     ]
    },
    {
     "name": "stderr",
     "output_type": "stream",
     "text": [
      "INFO:betfairlightweight.streaming.listener:[Register: 0]: marketSubscription\n",
      "WARNING:betfairlightweight.streaming.listener:[Listener: 0]: stream already registered, replacing data\n",
      "INFO:betfairlightweight.streaming.stream:[MarketStream: 0]: \"MarketStream\" created\n",
      "INFO:betfairlightweight.streaming.stream:[MarketStream: 0]: 1.177447149 added, 1 markets in cache\n",
      "INFO:betfairlightweight.streaming.stream:[MarketStream: 0]: 1.177447149 added, 1 markets in cache\n",
      "INFO:betfairlightweight.streaming.stream:[MarketStream: 0]: 1.177447149 added, 1 markets in cache\n",
      "INFO:betfairlightweight.streaming.stream:[MarketStream: 0]: 1.177447149 added, 1 markets in cache\n",
      "INFO:betfairlightweight.streaming.stream:[MarketStream: 0]: 1.177447149 added, 1 markets in cache\n",
      "INFO:betfairlightweight.streaming.stream:[MarketStream: 0]: 1.177447149 added, 1 markets in cache\n",
      "INFO:betfairlightweight.streaming.stream:[MarketStream: 0]: 1.177447149 added, 1 markets in cache\n",
      "INFO:betfairlightweight.streaming.stream:[MarketStream: 0]: 1.177447149 added, 1 markets in cache\n",
      "INFO:betfairlightweight.streaming.stream:[MarketStream: 0]: 1.177447149 added, 1 markets in cache\n",
      "INFO:betfairlightweight.streaming.stream:[MarketStream: 0]: 1.177447149 added, 1 markets in cache\n",
      "INFO:betfairlightweight.streaming.stream:[MarketStream: 0]: 1.177447149 added, 1 markets in cache\n",
      "INFO:betfairlightweight.streaming.stream:[MarketStream: 0]: 1.177447149 added, 1 markets in cache\n"
     ]
    },
    {
     "name": "stdout",
     "output_type": "stream",
     "text": [
      "didnt find postplay results?\n"
     ]
    },
    {
     "name": "stderr",
     "output_type": "stream",
     "text": [
      "INFO:betfairlightweight.streaming.listener:[Register: 0]: marketSubscription\n",
      "WARNING:betfairlightweight.streaming.listener:[Listener: 0]: stream already registered, replacing data\n",
      "INFO:betfairlightweight.streaming.stream:[MarketStream: 0]: \"MarketStream\" created\n",
      "INFO:betfairlightweight.streaming.stream:[MarketStream: 0]: 1.177442825 added, 1 markets in cache\n",
      "INFO:betfairlightweight.streaming.stream:[MarketStream: 0]: 1.177442825 added, 1 markets in cache\n",
      "INFO:betfairlightweight.streaming.stream:[MarketStream: 0]: 1.177442825 added, 1 markets in cache\n",
      "INFO:betfairlightweight.streaming.stream:[MarketStream: 0]: 1.177442825 added, 1 markets in cache\n",
      "INFO:betfairlightweight.streaming.stream:[MarketStream: 0]: 1.177442825 added, 1 markets in cache\n",
      "INFO:betfairlightweight.streaming.stream:[MarketStream: 0]: 1.177442825 added, 1 markets in cache\n",
      "INFO:betfairlightweight.streaming.stream:[MarketStream: 0]: 1.177442825 added, 1 markets in cache\n",
      "INFO:betfairlightweight.streaming.stream:[MarketStream: 0]: 1.177442825 added, 1 markets in cache\n"
     ]
    },
    {
     "name": "stdout",
     "output_type": "stream",
     "text": [
      "didnt find postplay results?\n"
     ]
    },
    {
     "name": "stderr",
     "output_type": "stream",
     "text": [
      "INFO:betfairlightweight.streaming.listener:[Register: 0]: marketSubscription\n",
      "WARNING:betfairlightweight.streaming.listener:[Listener: 0]: stream already registered, replacing data\n",
      "INFO:betfairlightweight.streaming.stream:[MarketStream: 0]: \"MarketStream\" created\n",
      "INFO:betfairlightweight.streaming.stream:[MarketStream: 0]: 1.177447170 added, 1 markets in cache\n",
      "INFO:betfairlightweight.streaming.listener:[Register: 0]: marketSubscription\n",
      "WARNING:betfairlightweight.streaming.listener:[Listener: 0]: stream already registered, replacing data\n",
      "INFO:betfairlightweight.streaming.stream:[MarketStream: 0]: \"MarketStream\" created\n",
      "INFO:betfairlightweight.streaming.stream:[MarketStream: 0]: 1.177442826 added, 1 markets in cache\n",
      "INFO:betfairlightweight.streaming.stream:[MarketStream: 0]: 1.177442826 added, 1 markets in cache\n",
      "INFO:betfairlightweight.streaming.stream:[MarketStream: 0]: 1.177442826 added, 1 markets in cache\n",
      "INFO:betfairlightweight.streaming.stream:[MarketStream: 0]: 1.177442826 added, 1 markets in cache\n",
      "INFO:betfairlightweight.streaming.stream:[MarketStream: 0]: 1.177442826 added, 1 markets in cache\n",
      "INFO:betfairlightweight.streaming.stream:[MarketStream: 0]: 1.177442826 added, 1 markets in cache\n",
      "INFO:betfairlightweight.streaming.stream:[MarketStream: 0]: 1.177442826 added, 1 markets in cache\n",
      "INFO:betfairlightweight.streaming.stream:[MarketStream: 0]: 1.177442826 added, 1 markets in cache\n",
      "INFO:betfairlightweight.streaming.stream:[MarketStream: 0]: 1.177442826 added, 1 markets in cache\n",
      "INFO:betfairlightweight.streaming.stream:[MarketStream: 0]: 1.177442826 added, 1 markets in cache\n",
      "INFO:betfairlightweight.streaming.stream:[MarketStream: 0]: 1.177442826 added, 1 markets in cache\n"
     ]
    },
    {
     "name": "stdout",
     "output_type": "stream",
     "text": [
      "didnt find postplay results?\n"
     ]
    },
    {
     "name": "stderr",
     "output_type": "stream",
     "text": [
      "INFO:betfairlightweight.streaming.listener:[Register: 0]: marketSubscription\n",
      "WARNING:betfairlightweight.streaming.listener:[Listener: 0]: stream already registered, replacing data\n",
      "INFO:betfairlightweight.streaming.stream:[MarketStream: 0]: \"MarketStream\" created\n",
      "INFO:betfairlightweight.streaming.stream:[MarketStream: 0]: 1.177447148 added, 1 markets in cache\n",
      "INFO:betfairlightweight.streaming.stream:[MarketStream: 0]: 1.177447148 added, 1 markets in cache\n",
      "INFO:betfairlightweight.streaming.stream:[MarketStream: 0]: 1.177447148 added, 1 markets in cache\n",
      "INFO:betfairlightweight.streaming.stream:[MarketStream: 0]: 1.177447148 added, 1 markets in cache\n",
      "INFO:betfairlightweight.streaming.stream:[MarketStream: 0]: 1.177447148 added, 1 markets in cache\n",
      "INFO:betfairlightweight.streaming.stream:[MarketStream: 0]: 1.177447148 added, 1 markets in cache\n",
      "INFO:betfairlightweight.streaming.stream:[MarketStream: 0]: 1.177447148 added, 1 markets in cache\n",
      "INFO:betfairlightweight.streaming.stream:[MarketStream: 0]: 1.177447148 added, 1 markets in cache\n",
      "INFO:betfairlightweight.streaming.stream:[MarketStream: 0]: 1.177447148 added, 1 markets in cache\n",
      "INFO:betfairlightweight.streaming.stream:[MarketStream: 0]: 1.177447148 added, 1 markets in cache\n",
      "INFO:betfairlightweight.streaming.stream:[MarketStream: 0]: 1.177447148 added, 1 markets in cache\n",
      "INFO:betfairlightweight.streaming.stream:[MarketStream: 0]: 1.177447148 added, 1 markets in cache\n"
     ]
    },
    {
     "name": "stdout",
     "output_type": "stream",
     "text": [
      "didnt find postplay results?\n"
     ]
    },
    {
     "name": "stderr",
     "output_type": "stream",
     "text": [
      "INFO:betfairlightweight.streaming.listener:[Register: 0]: marketSubscription\n",
      "WARNING:betfairlightweight.streaming.listener:[Listener: 0]: stream already registered, replacing data\n",
      "INFO:betfairlightweight.streaming.stream:[MarketStream: 0]: \"MarketStream\" created\n",
      "INFO:betfairlightweight.streaming.stream:[MarketStream: 0]: 1.178557372 added, 1 markets in cache\n",
      "INFO:betfairlightweight.streaming.listener:[Register: 0]: marketSubscription\n",
      "WARNING:betfairlightweight.streaming.listener:[Listener: 0]: stream already registered, replacing data\n",
      "INFO:betfairlightweight.streaming.stream:[MarketStream: 0]: \"MarketStream\" created\n",
      "INFO:betfairlightweight.streaming.stream:[MarketStream: 0]: 1.177447202 added, 1 markets in cache\n",
      "INFO:betfairlightweight.streaming.listener:[Register: 0]: marketSubscription\n",
      "WARNING:betfairlightweight.streaming.listener:[Listener: 0]: stream already registered, replacing data\n",
      "INFO:betfairlightweight.streaming.stream:[MarketStream: 0]: \"MarketStream\" created\n",
      "INFO:betfairlightweight.streaming.stream:[MarketStream: 0]: 1.177447182 added, 1 markets in cache\n",
      "INFO:betfairlightweight.streaming.stream:[MarketStream: 0]: 1.177447182 added, 1 markets in cache\n",
      "INFO:betfairlightweight.streaming.stream:[MarketStream: 0]: 1.177447182 added, 1 markets in cache\n",
      "INFO:betfairlightweight.streaming.stream:[MarketStream: 0]: 1.177447182 added, 1 markets in cache\n",
      "INFO:betfairlightweight.streaming.stream:[MarketStream: 0]: 1.177447182 added, 1 markets in cache\n",
      "INFO:betfairlightweight.streaming.stream:[MarketStream: 0]: 1.177447182 added, 1 markets in cache\n",
      "INFO:betfairlightweight.streaming.stream:[MarketStream: 0]: 1.177447182 added, 1 markets in cache\n",
      "INFO:betfairlightweight.streaming.stream:[MarketStream: 0]: 1.177447182 added, 1 markets in cache\n",
      "INFO:betfairlightweight.streaming.stream:[MarketStream: 0]: 1.177447182 added, 1 markets in cache\n",
      "INFO:betfairlightweight.streaming.stream:[MarketStream: 0]: 1.177447182 added, 1 markets in cache\n",
      "INFO:betfairlightweight.streaming.stream:[MarketStream: 0]: 1.177447182 added, 1 markets in cache\n",
      "INFO:betfairlightweight.streaming.stream:[MarketStream: 0]: 1.177447182 added, 1 markets in cache\n",
      "INFO:betfairlightweight.streaming.stream:[MarketStream: 0]: 1.177447182 added, 1 markets in cache\n",
      "INFO:betfairlightweight.streaming.stream:[MarketStream: 0]: 1.177447182 added, 1 markets in cache\n"
     ]
    },
    {
     "name": "stdout",
     "output_type": "stream",
     "text": [
      "didnt find postplay results?\n",
      "didnt find postplay results?\n",
      "didnt find postplay results?\n"
     ]
    },
    {
     "name": "stderr",
     "output_type": "stream",
     "text": [
      "INFO:betfairlightweight.streaming.listener:[Register: 0]: marketSubscription\n",
      "WARNING:betfairlightweight.streaming.listener:[Listener: 0]: stream already registered, replacing data\n",
      "INFO:betfairlightweight.streaming.stream:[MarketStream: 0]: \"MarketStream\" created\n",
      "INFO:betfairlightweight.streaming.stream:[MarketStream: 0]: 1.178557358 added, 1 markets in cache\n",
      "INFO:betfairlightweight.streaming.listener:[Register: 0]: marketSubscription\n",
      "WARNING:betfairlightweight.streaming.listener:[Listener: 0]: stream already registered, replacing data\n",
      "INFO:betfairlightweight.streaming.stream:[MarketStream: 0]: \"MarketStream\" created\n",
      "INFO:betfairlightweight.streaming.stream:[MarketStream: 0]: 1.177429714 added, 1 markets in cache\n",
      "INFO:betfairlightweight.streaming.listener:[Register: 0]: marketSubscription\n",
      "WARNING:betfairlightweight.streaming.listener:[Listener: 0]: stream already registered, replacing data\n",
      "INFO:betfairlightweight.streaming.stream:[MarketStream: 0]: \"MarketStream\" created\n",
      "INFO:betfairlightweight.streaming.stream:[MarketStream: 0]: 1.177429718 added, 1 markets in cache\n",
      "INFO:betfairlightweight.streaming.listener:[Register: 0]: marketSubscription\n",
      "WARNING:betfairlightweight.streaming.listener:[Listener: 0]: stream already registered, replacing data\n",
      "INFO:betfairlightweight.streaming.stream:[MarketStream: 0]: \"MarketStream\" created\n",
      "INFO:betfairlightweight.streaming.stream:[MarketStream: 0]: 1.177447181 added, 1 markets in cache\n",
      "INFO:betfairlightweight.streaming.stream:[MarketStream: 0]: 1.177447181 added, 1 markets in cache\n",
      "INFO:betfairlightweight.streaming.stream:[MarketStream: 0]: 1.177447181 added, 1 markets in cache\n",
      "INFO:betfairlightweight.streaming.stream:[MarketStream: 0]: 1.177447181 added, 1 markets in cache\n",
      "INFO:betfairlightweight.streaming.stream:[MarketStream: 0]: 1.177447181 added, 1 markets in cache\n",
      "INFO:betfairlightweight.streaming.stream:[MarketStream: 0]: 1.177447181 added, 1 markets in cache\n",
      "INFO:betfairlightweight.streaming.stream:[MarketStream: 0]: 1.177447181 added, 1 markets in cache\n",
      "INFO:betfairlightweight.streaming.stream:[MarketStream: 0]: 1.177447181 added, 1 markets in cache\n",
      "INFO:betfairlightweight.streaming.stream:[MarketStream: 0]: 1.177447181 added, 1 markets in cache\n",
      "INFO:betfairlightweight.streaming.stream:[MarketStream: 0]: 1.177447181 added, 1 markets in cache\n",
      "INFO:betfairlightweight.streaming.stream:[MarketStream: 0]: 1.177447181 added, 1 markets in cache\n",
      "INFO:betfairlightweight.streaming.stream:[MarketStream: 0]: 1.177447181 added, 1 markets in cache\n"
     ]
    },
    {
     "name": "stdout",
     "output_type": "stream",
     "text": [
      "didnt find postplay results?\n",
      "didnt find postplay results?\n",
      "didnt find postplay results?\n",
      "didnt find postplay results?\n"
     ]
    },
    {
     "name": "stderr",
     "output_type": "stream",
     "text": [
      "INFO:betfairlightweight.streaming.listener:[Register: 0]: marketSubscription\n",
      "WARNING:betfairlightweight.streaming.listener:[Listener: 0]: stream already registered, replacing data\n",
      "INFO:betfairlightweight.streaming.stream:[MarketStream: 0]: \"MarketStream\" created\n",
      "INFO:betfairlightweight.streaming.stream:[MarketStream: 0]: 1.177442844 added, 1 markets in cache\n",
      "INFO:betfairlightweight.streaming.stream:[MarketStream: 0]: 1.177442844 added, 1 markets in cache\n",
      "INFO:betfairlightweight.streaming.stream:[MarketStream: 0]: 1.177442844 added, 1 markets in cache\n",
      "INFO:betfairlightweight.streaming.stream:[MarketStream: 0]: 1.177442844 added, 1 markets in cache\n",
      "INFO:betfairlightweight.streaming.stream:[MarketStream: 0]: 1.177442844 added, 1 markets in cache\n",
      "INFO:betfairlightweight.streaming.stream:[MarketStream: 0]: 1.177442844 added, 1 markets in cache\n",
      "INFO:betfairlightweight.streaming.stream:[MarketStream: 0]: 1.177442844 added, 1 markets in cache\n",
      "INFO:betfairlightweight.streaming.stream:[MarketStream: 0]: 1.177442844 added, 1 markets in cache\n"
     ]
    },
    {
     "name": "stdout",
     "output_type": "stream",
     "text": [
      "didnt find postplay results?\n"
     ]
    },
    {
     "name": "stderr",
     "output_type": "stream",
     "text": [
      "INFO:betfairlightweight.streaming.listener:[Register: 0]: marketSubscription\n",
      "WARNING:betfairlightweight.streaming.listener:[Listener: 0]: stream already registered, replacing data\n",
      "INFO:betfairlightweight.streaming.stream:[MarketStream: 0]: \"MarketStream\" created\n",
      "INFO:betfairlightweight.streaming.stream:[MarketStream: 0]: 1.178557356 added, 1 markets in cache\n",
      "INFO:betfairlightweight.streaming.listener:[Register: 0]: marketSubscription\n",
      "WARNING:betfairlightweight.streaming.listener:[Listener: 0]: stream already registered, replacing data\n",
      "INFO:betfairlightweight.streaming.stream:[MarketStream: 0]: \"MarketStream\" created\n",
      "INFO:betfairlightweight.streaming.stream:[MarketStream: 0]: 1.177444826 added, 1 markets in cache\n",
      "INFO:betfairlightweight.streaming.stream:[MarketStream: 0]: 1.177444826 added, 1 markets in cache\n",
      "INFO:betfairlightweight.streaming.stream:[MarketStream: 0]: 1.177444826 added, 1 markets in cache\n",
      "INFO:betfairlightweight.streaming.stream:[MarketStream: 0]: 1.177444826 added, 1 markets in cache\n",
      "INFO:betfairlightweight.streaming.stream:[MarketStream: 0]: 1.177444826 added, 1 markets in cache\n",
      "INFO:betfairlightweight.streaming.stream:[MarketStream: 0]: 1.177444826 added, 1 markets in cache\n",
      "INFO:betfairlightweight.streaming.stream:[MarketStream: 0]: 1.177444826 added, 1 markets in cache\n",
      "INFO:betfairlightweight.streaming.stream:[MarketStream: 0]: 1.177444826 added, 1 markets in cache\n",
      "INFO:betfairlightweight.streaming.stream:[MarketStream: 0]: 1.177444826 added, 1 markets in cache\n",
      "INFO:betfairlightweight.streaming.stream:[MarketStream: 0]: 1.177444826 added, 1 markets in cache\n",
      "INFO:betfairlightweight.streaming.stream:[MarketStream: 0]: 1.177444826 added, 1 markets in cache\n",
      "INFO:betfairlightweight.streaming.stream:[MarketStream: 0]: 1.177444826 added, 1 markets in cache\n"
     ]
    },
    {
     "name": "stdout",
     "output_type": "stream",
     "text": [
      "didnt find postplay results?\n"
     ]
    },
    {
     "name": "stderr",
     "output_type": "stream",
     "text": [
      "INFO:betfairlightweight.streaming.listener:[Register: 0]: marketSubscription\n",
      "WARNING:betfairlightweight.streaming.listener:[Listener: 0]: stream already registered, replacing data\n",
      "INFO:betfairlightweight.streaming.stream:[MarketStream: 0]: \"MarketStream\" created\n",
      "INFO:betfairlightweight.streaming.stream:[MarketStream: 0]: 1.178557349 added, 1 markets in cache\n",
      "INFO:betfairlightweight.streaming.listener:[Register: 0]: marketSubscription\n",
      "WARNING:betfairlightweight.streaming.listener:[Listener: 0]: stream already registered, replacing data\n",
      "INFO:betfairlightweight.streaming.stream:[MarketStream: 0]: \"MarketStream\" created\n",
      "INFO:betfairlightweight.streaming.stream:[MarketStream: 0]: 1.177442843 added, 1 markets in cache\n",
      "INFO:betfairlightweight.streaming.stream:[MarketStream: 0]: 1.177442843 added, 1 markets in cache\n",
      "INFO:betfairlightweight.streaming.stream:[MarketStream: 0]: 1.177442843 added, 1 markets in cache\n",
      "INFO:betfairlightweight.streaming.stream:[MarketStream: 0]: 1.177442843 added, 1 markets in cache\n",
      "INFO:betfairlightweight.streaming.stream:[MarketStream: 0]: 1.177442843 added, 1 markets in cache\n",
      "INFO:betfairlightweight.streaming.stream:[MarketStream: 0]: 1.177442843 added, 1 markets in cache\n",
      "INFO:betfairlightweight.streaming.stream:[MarketStream: 0]: 1.177442843 added, 1 markets in cache\n",
      "INFO:betfairlightweight.streaming.stream:[MarketStream: 0]: 1.177442843 added, 1 markets in cache\n",
      "INFO:betfairlightweight.streaming.stream:[MarketStream: 0]: 1.177442843 added, 1 markets in cache\n",
      "INFO:betfairlightweight.streaming.stream:[MarketStream: 0]: 1.177442843 added, 1 markets in cache\n"
     ]
    },
    {
     "name": "stdout",
     "output_type": "stream",
     "text": [
      "didnt find postplay results?\n",
      "didnt find postplay results?\n"
     ]
    },
    {
     "name": "stderr",
     "output_type": "stream",
     "text": [
      "INFO:betfairlightweight.streaming.listener:[Register: 0]: marketSubscription\n",
      "WARNING:betfairlightweight.streaming.listener:[Listener: 0]: stream already registered, replacing data\n",
      "INFO:betfairlightweight.streaming.stream:[MarketStream: 0]: \"MarketStream\" created\n",
      "INFO:betfairlightweight.streaming.stream:[MarketStream: 0]: 1.177444801 added, 1 markets in cache\n",
      "INFO:betfairlightweight.streaming.stream:[MarketStream: 0]: 1.177444801 added, 1 markets in cache\n",
      "INFO:betfairlightweight.streaming.stream:[MarketStream: 0]: 1.177444801 added, 1 markets in cache\n",
      "INFO:betfairlightweight.streaming.stream:[MarketStream: 0]: 1.177444801 added, 1 markets in cache\n",
      "INFO:betfairlightweight.streaming.stream:[MarketStream: 0]: 1.177444801 added, 1 markets in cache\n",
      "INFO:betfairlightweight.streaming.stream:[MarketStream: 0]: 1.177444801 added, 1 markets in cache\n",
      "INFO:betfairlightweight.streaming.stream:[MarketStream: 0]: 1.177444801 added, 1 markets in cache\n",
      "INFO:betfairlightweight.streaming.stream:[MarketStream: 0]: 1.177444801 added, 1 markets in cache\n",
      "INFO:betfairlightweight.streaming.stream:[MarketStream: 0]: 1.177444801 added, 1 markets in cache\n",
      "INFO:betfairlightweight.streaming.stream:[MarketStream: 0]: 1.177444801 added, 1 markets in cache\n",
      "INFO:betfairlightweight.streaming.stream:[MarketStream: 0]: 1.177444801 added, 1 markets in cache\n",
      "INFO:betfairlightweight.streaming.stream:[MarketStream: 0]: 1.177444801 added, 1 markets in cache\n",
      "INFO:betfairlightweight.streaming.stream:[MarketStream: 0]: 1.177444801 added, 1 markets in cache\n"
     ]
    },
    {
     "name": "stdout",
     "output_type": "stream",
     "text": [
      "didnt find postplay results?\n"
     ]
    },
    {
     "name": "stderr",
     "output_type": "stream",
     "text": [
      "INFO:betfairlightweight.streaming.listener:[Register: 0]: marketSubscription\n",
      "WARNING:betfairlightweight.streaming.listener:[Listener: 0]: stream already registered, replacing data\n",
      "INFO:betfairlightweight.streaming.stream:[MarketStream: 0]: \"MarketStream\" created\n",
      "INFO:betfairlightweight.streaming.stream:[MarketStream: 0]: 1.177444825 added, 1 markets in cache\n",
      "INFO:betfairlightweight.streaming.stream:[MarketStream: 0]: 1.177444825 added, 1 markets in cache\n",
      "INFO:betfairlightweight.streaming.stream:[MarketStream: 0]: 1.177444825 added, 1 markets in cache\n",
      "INFO:betfairlightweight.streaming.stream:[MarketStream: 0]: 1.177444825 added, 1 markets in cache\n",
      "INFO:betfairlightweight.streaming.stream:[MarketStream: 0]: 1.177444825 added, 1 markets in cache\n",
      "INFO:betfairlightweight.streaming.stream:[MarketStream: 0]: 1.177444825 added, 1 markets in cache\n",
      "INFO:betfairlightweight.streaming.stream:[MarketStream: 0]: 1.177444825 added, 1 markets in cache\n",
      "INFO:betfairlightweight.streaming.stream:[MarketStream: 0]: 1.177444825 added, 1 markets in cache\n",
      "INFO:betfairlightweight.streaming.stream:[MarketStream: 0]: 1.177444825 added, 1 markets in cache\n",
      "INFO:betfairlightweight.streaming.stream:[MarketStream: 0]: 1.177444825 added, 1 markets in cache\n",
      "INFO:betfairlightweight.streaming.stream:[MarketStream: 0]: 1.177444825 added, 1 markets in cache\n",
      "INFO:betfairlightweight.streaming.stream:[MarketStream: 0]: 1.177444825 added, 1 markets in cache\n",
      "INFO:betfairlightweight.streaming.stream:[MarketStream: 0]: 1.177444825 added, 1 markets in cache\n",
      "INFO:betfairlightweight.streaming.stream:[MarketStream: 0]: 1.177444825 added, 1 markets in cache\n"
     ]
    },
    {
     "name": "stdout",
     "output_type": "stream",
     "text": [
      "didnt find postplay results?\n"
     ]
    },
    {
     "name": "stderr",
     "output_type": "stream",
     "text": [
      "INFO:betfairlightweight.streaming.listener:[Register: 0]: marketSubscription\n",
      "WARNING:betfairlightweight.streaming.listener:[Listener: 0]: stream already registered, replacing data\n",
      "INFO:betfairlightweight.streaming.stream:[MarketStream: 0]: \"MarketStream\" created\n",
      "INFO:betfairlightweight.streaming.stream:[MarketStream: 0]: 1.177444802 added, 1 markets in cache\n",
      "INFO:betfairlightweight.streaming.stream:[MarketStream: 0]: 1.177444802 added, 1 markets in cache\n",
      "INFO:betfairlightweight.streaming.stream:[MarketStream: 0]: 1.177444802 added, 1 markets in cache\n",
      "INFO:betfairlightweight.streaming.stream:[MarketStream: 0]: 1.177444802 added, 1 markets in cache\n",
      "INFO:betfairlightweight.streaming.stream:[MarketStream: 0]: 1.177444802 added, 1 markets in cache\n",
      "INFO:betfairlightweight.streaming.stream:[MarketStream: 0]: 1.177444802 added, 1 markets in cache\n",
      "INFO:betfairlightweight.streaming.stream:[MarketStream: 0]: 1.177444802 added, 1 markets in cache\n",
      "INFO:betfairlightweight.streaming.stream:[MarketStream: 0]: 1.177444802 added, 1 markets in cache\n",
      "INFO:betfairlightweight.streaming.stream:[MarketStream: 0]: 1.177444802 added, 1 markets in cache\n",
      "INFO:betfairlightweight.streaming.stream:[MarketStream: 0]: 1.177444802 added, 1 markets in cache\n",
      "INFO:betfairlightweight.streaming.stream:[MarketStream: 0]: 1.177444802 added, 1 markets in cache\n",
      "INFO:betfairlightweight.streaming.stream:[MarketStream: 0]: 1.177444802 added, 1 markets in cache\n",
      "INFO:betfairlightweight.streaming.stream:[MarketStream: 0]: 1.177444802 added, 1 markets in cache\n"
     ]
    },
    {
     "name": "stdout",
     "output_type": "stream",
     "text": [
      "didnt find postplay results?\n"
     ]
    },
    {
     "name": "stderr",
     "output_type": "stream",
     "text": [
      "INFO:betfairlightweight.streaming.listener:[Register: 0]: marketSubscription\n",
      "WARNING:betfairlightweight.streaming.listener:[Listener: 0]: stream already registered, replacing data\n",
      "INFO:betfairlightweight.streaming.stream:[MarketStream: 0]: \"MarketStream\" created\n",
      "INFO:betfairlightweight.streaming.stream:[MarketStream: 0]: 1.177442827 added, 1 markets in cache\n",
      "INFO:betfairlightweight.streaming.stream:[MarketStream: 0]: 1.177442827 added, 1 markets in cache\n",
      "INFO:betfairlightweight.streaming.stream:[MarketStream: 0]: 1.177442827 added, 1 markets in cache\n",
      "INFO:betfairlightweight.streaming.stream:[MarketStream: 0]: 1.177442827 added, 1 markets in cache\n",
      "INFO:betfairlightweight.streaming.stream:[MarketStream: 0]: 1.177442827 added, 1 markets in cache\n",
      "INFO:betfairlightweight.streaming.stream:[MarketStream: 0]: 1.177442827 added, 1 markets in cache\n",
      "INFO:betfairlightweight.streaming.stream:[MarketStream: 0]: 1.177442827 added, 1 markets in cache\n",
      "INFO:betfairlightweight.streaming.stream:[MarketStream: 0]: 1.177442827 added, 1 markets in cache\n",
      "INFO:betfairlightweight.streaming.stream:[MarketStream: 0]: 1.177442827 added, 1 markets in cache\n",
      "INFO:betfairlightweight.streaming.stream:[MarketStream: 0]: 1.177442827 added, 1 markets in cache\n",
      "INFO:betfairlightweight.streaming.stream:[MarketStream: 0]: 1.177442827 added, 1 markets in cache\n"
     ]
    },
    {
     "name": "stdout",
     "output_type": "stream",
     "text": [
      "didnt find postplay results?\n"
     ]
    },
    {
     "name": "stderr",
     "output_type": "stream",
     "text": [
      "INFO:betfairlightweight.streaming.listener:[Register: 0]: marketSubscription\n",
      "WARNING:betfairlightweight.streaming.listener:[Listener: 0]: stream already registered, replacing data\n",
      "INFO:betfairlightweight.streaming.stream:[MarketStream: 0]: \"MarketStream\" created\n",
      "INFO:betfairlightweight.streaming.stream:[MarketStream: 0]: 1.177447150 added, 1 markets in cache\n",
      "INFO:betfairlightweight.streaming.stream:[MarketStream: 0]: 1.177447150 added, 1 markets in cache\n",
      "INFO:betfairlightweight.streaming.stream:[MarketStream: 0]: 1.177447150 added, 1 markets in cache\n",
      "INFO:betfairlightweight.streaming.stream:[MarketStream: 0]: 1.177447150 added, 1 markets in cache\n",
      "INFO:betfairlightweight.streaming.stream:[MarketStream: 0]: 1.177447150 added, 1 markets in cache\n",
      "INFO:betfairlightweight.streaming.stream:[MarketStream: 0]: 1.177447150 added, 1 markets in cache\n",
      "INFO:betfairlightweight.streaming.stream:[MarketStream: 0]: 1.177447150 added, 1 markets in cache\n",
      "INFO:betfairlightweight.streaming.stream:[MarketStream: 0]: 1.177447150 added, 1 markets in cache\n",
      "INFO:betfairlightweight.streaming.stream:[MarketStream: 0]: 1.177447150 added, 1 markets in cache\n",
      "INFO:betfairlightweight.streaming.stream:[MarketStream: 0]: 1.177447150 added, 1 markets in cache\n",
      "INFO:betfairlightweight.streaming.stream:[MarketStream: 0]: 1.177447150 added, 1 markets in cache\n",
      "INFO:betfairlightweight.streaming.stream:[MarketStream: 0]: 1.177447150 added, 1 markets in cache\n",
      "INFO:betfairlightweight.streaming.stream:[MarketStream: 0]: 1.177447150 added, 1 markets in cache\n",
      "INFO:betfairlightweight.streaming.stream:[MarketStream: 0]: 1.177447150 added, 1 markets in cache\n",
      "INFO:betfairlightweight.streaming.listener:[Register: 0]: marketSubscription\n",
      "WARNING:betfairlightweight.streaming.listener:[Listener: 0]: stream already registered, replacing data\n",
      "INFO:betfairlightweight.streaming.stream:[MarketStream: 0]: \"MarketStream\" created\n",
      "INFO:betfairlightweight.streaming.stream:[MarketStream: 0]: 1.177442828 added, 1 markets in cache\n",
      "INFO:betfairlightweight.streaming.stream:[MarketStream: 0]: 1.177442828 added, 1 markets in cache\n",
      "INFO:betfairlightweight.streaming.stream:[MarketStream: 0]: 1.177442828 added, 1 markets in cache\n",
      "INFO:betfairlightweight.streaming.stream:[MarketStream: 0]: 1.177442828 added, 1 markets in cache\n",
      "INFO:betfairlightweight.streaming.stream:[MarketStream: 0]: 1.177442828 added, 1 markets in cache\n",
      "INFO:betfairlightweight.streaming.stream:[MarketStream: 0]: 1.177442828 added, 1 markets in cache\n",
      "INFO:betfairlightweight.streaming.stream:[MarketStream: 0]: 1.177442828 added, 1 markets in cache\n",
      "INFO:betfairlightweight.streaming.stream:[MarketStream: 0]: 1.177442828 added, 1 markets in cache\n",
      "INFO:betfairlightweight.streaming.stream:[MarketStream: 0]: 1.177442828 added, 1 markets in cache\n",
      "INFO:betfairlightweight.streaming.stream:[MarketStream: 0]: 1.177442828 added, 1 markets in cache\n",
      "INFO:betfairlightweight.streaming.stream:[MarketStream: 0]: 1.177442828 added, 1 markets in cache\n",
      "INFO:betfairlightweight.streaming.stream:[MarketStream: 0]: 1.177442828 added, 1 markets in cache\n"
     ]
    },
    {
     "name": "stdout",
     "output_type": "stream",
     "text": [
      "didnt find postplay results?\n"
     ]
    },
    {
     "name": "stderr",
     "output_type": "stream",
     "text": [
      "INFO:betfairlightweight.streaming.listener:[Register: 0]: marketSubscription\n",
      "WARNING:betfairlightweight.streaming.listener:[Listener: 0]: stream already registered, replacing data\n",
      "INFO:betfairlightweight.streaming.stream:[MarketStream: 0]: \"MarketStream\" created\n",
      "INFO:betfairlightweight.streaming.stream:[MarketStream: 0]: 1.177447151 added, 1 markets in cache\n",
      "INFO:betfairlightweight.streaming.stream:[MarketStream: 0]: 1.177447151 added, 1 markets in cache\n",
      "INFO:betfairlightweight.streaming.stream:[MarketStream: 0]: 1.177447151 added, 1 markets in cache\n",
      "INFO:betfairlightweight.streaming.stream:[MarketStream: 0]: 1.177447151 added, 1 markets in cache\n",
      "INFO:betfairlightweight.streaming.stream:[MarketStream: 0]: 1.177447151 added, 1 markets in cache\n",
      "INFO:betfairlightweight.streaming.stream:[MarketStream: 0]: 1.177447151 added, 1 markets in cache\n",
      "INFO:betfairlightweight.streaming.stream:[MarketStream: 0]: 1.177447151 added, 1 markets in cache\n",
      "INFO:betfairlightweight.streaming.stream:[MarketStream: 0]: 1.177447151 added, 1 markets in cache\n",
      "INFO:betfairlightweight.streaming.stream:[MarketStream: 0]: 1.177447151 added, 1 markets in cache\n",
      "INFO:betfairlightweight.streaming.stream:[MarketStream: 0]: 1.177447151 added, 1 markets in cache\n",
      "INFO:betfairlightweight.streaming.stream:[MarketStream: 0]: 1.177447151 added, 1 markets in cache\n",
      "INFO:betfairlightweight.streaming.stream:[MarketStream: 0]: 1.177447151 added, 1 markets in cache\n",
      "INFO:betfairlightweight.streaming.stream:[MarketStream: 0]: 1.177447151 added, 1 markets in cache\n"
     ]
    },
    {
     "name": "stdout",
     "output_type": "stream",
     "text": [
      "didnt find postplay results?\n"
     ]
    },
    {
     "name": "stderr",
     "output_type": "stream",
     "text": [
      "INFO:betfairlightweight.streaming.listener:[Register: 0]: marketSubscription\n",
      "WARNING:betfairlightweight.streaming.listener:[Listener: 0]: stream already registered, replacing data\n",
      "INFO:betfairlightweight.streaming.stream:[MarketStream: 0]: \"MarketStream\" created\n",
      "INFO:betfairlightweight.streaming.stream:[MarketStream: 0]: 1.177447171 added, 1 markets in cache\n",
      "INFO:betfairlightweight.streaming.listener:[Register: 0]: marketSubscription\n",
      "WARNING:betfairlightweight.streaming.listener:[Listener: 0]: stream already registered, replacing data\n",
      "INFO:betfairlightweight.streaming.stream:[MarketStream: 0]: \"MarketStream\" created\n",
      "INFO:betfairlightweight.streaming.stream:[MarketStream: 0]: 1.177447183 added, 1 markets in cache\n",
      "INFO:betfairlightweight.streaming.stream:[MarketStream: 0]: 1.177447183 added, 1 markets in cache\n",
      "INFO:betfairlightweight.streaming.stream:[MarketStream: 0]: 1.177447183 added, 1 markets in cache\n",
      "INFO:betfairlightweight.streaming.stream:[MarketStream: 0]: 1.177447183 added, 1 markets in cache\n",
      "INFO:betfairlightweight.streaming.stream:[MarketStream: 0]: 1.177447183 added, 1 markets in cache\n",
      "INFO:betfairlightweight.streaming.stream:[MarketStream: 0]: 1.177447183 added, 1 markets in cache\n",
      "INFO:betfairlightweight.streaming.stream:[MarketStream: 0]: 1.177447183 added, 1 markets in cache\n",
      "INFO:betfairlightweight.streaming.stream:[MarketStream: 0]: 1.177447183 added, 1 markets in cache\n",
      "INFO:betfairlightweight.streaming.stream:[MarketStream: 0]: 1.177447183 added, 1 markets in cache\n",
      "INFO:betfairlightweight.streaming.stream:[MarketStream: 0]: 1.177447183 added, 1 markets in cache\n",
      "INFO:betfairlightweight.streaming.stream:[MarketStream: 0]: 1.177447183 added, 1 markets in cache\n"
     ]
    },
    {
     "name": "stdout",
     "output_type": "stream",
     "text": [
      "didnt find postplay results?\n",
      "didnt find postplay results?\n"
     ]
    },
    {
     "name": "stderr",
     "output_type": "stream",
     "text": [
      "INFO:betfairlightweight.streaming.listener:[Register: 0]: marketSubscription\n",
      "WARNING:betfairlightweight.streaming.listener:[Listener: 0]: stream already registered, replacing data\n",
      "INFO:betfairlightweight.streaming.stream:[MarketStream: 0]: \"MarketStream\" created\n",
      "INFO:betfairlightweight.streaming.stream:[MarketStream: 0]: 1.177447203 added, 1 markets in cache\n",
      "INFO:betfairlightweight.streaming.listener:[Register: 0]: marketSubscription\n",
      "WARNING:betfairlightweight.streaming.listener:[Listener: 0]: stream already registered, replacing data\n",
      "INFO:betfairlightweight.streaming.stream:[MarketStream: 0]: \"MarketStream\" created\n",
      "INFO:betfairlightweight.streaming.stream:[MarketStream: 0]: 1.177447184 added, 1 markets in cache\n",
      "INFO:betfairlightweight.streaming.stream:[MarketStream: 0]: 1.177447184 added, 1 markets in cache\n",
      "INFO:betfairlightweight.streaming.stream:[MarketStream: 0]: 1.177447184 added, 1 markets in cache\n",
      "INFO:betfairlightweight.streaming.stream:[MarketStream: 0]: 1.177447184 added, 1 markets in cache\n",
      "INFO:betfairlightweight.streaming.stream:[MarketStream: 0]: 1.177447184 added, 1 markets in cache\n",
      "INFO:betfairlightweight.streaming.stream:[MarketStream: 0]: 1.177447184 added, 1 markets in cache\n",
      "INFO:betfairlightweight.streaming.stream:[MarketStream: 0]: 1.177447184 added, 1 markets in cache\n",
      "INFO:betfairlightweight.streaming.stream:[MarketStream: 0]: 1.177447184 added, 1 markets in cache\n",
      "INFO:betfairlightweight.streaming.stream:[MarketStream: 0]: 1.177447184 added, 1 markets in cache\n",
      "INFO:betfairlightweight.streaming.stream:[MarketStream: 0]: 1.177447184 added, 1 markets in cache\n",
      "INFO:betfairlightweight.streaming.stream:[MarketStream: 0]: 1.177447184 added, 1 markets in cache\n",
      "INFO:betfairlightweight.streaming.stream:[MarketStream: 0]: 1.177447184 added, 1 markets in cache\n",
      "INFO:betfairlightweight.streaming.stream:[MarketStream: 0]: 1.177447184 added, 1 markets in cache\n"
     ]
    },
    {
     "name": "stdout",
     "output_type": "stream",
     "text": [
      "didnt find postplay results?\n",
      "didnt find postplay results?\n"
     ]
    },
    {
     "name": "stderr",
     "output_type": "stream",
     "text": [
      "INFO:betfairlightweight.streaming.listener:[Register: 0]: marketSubscription\n",
      "WARNING:betfairlightweight.streaming.listener:[Listener: 0]: stream already registered, replacing data\n",
      "INFO:betfairlightweight.streaming.stream:[MarketStream: 0]: \"MarketStream\" created\n",
      "INFO:betfairlightweight.streaming.stream:[MarketStream: 0]: 1.177444828 added, 1 markets in cache\n",
      "INFO:betfairlightweight.streaming.stream:[MarketStream: 0]: 1.177444828 added, 1 markets in cache\n",
      "INFO:betfairlightweight.streaming.stream:[MarketStream: 0]: 1.177444828 added, 1 markets in cache\n",
      "INFO:betfairlightweight.streaming.stream:[MarketStream: 0]: 1.177444828 added, 1 markets in cache\n",
      "INFO:betfairlightweight.streaming.stream:[MarketStream: 0]: 1.177444828 added, 1 markets in cache\n",
      "INFO:betfairlightweight.streaming.stream:[MarketStream: 0]: 1.177444828 added, 1 markets in cache\n",
      "INFO:betfairlightweight.streaming.stream:[MarketStream: 0]: 1.177444828 added, 1 markets in cache\n",
      "INFO:betfairlightweight.streaming.stream:[MarketStream: 0]: 1.177444828 added, 1 markets in cache\n",
      "INFO:betfairlightweight.streaming.stream:[MarketStream: 0]: 1.177444828 added, 1 markets in cache\n",
      "INFO:betfairlightweight.streaming.stream:[MarketStream: 0]: 1.177444828 added, 1 markets in cache\n",
      "INFO:betfairlightweight.streaming.stream:[MarketStream: 0]: 1.177444828 added, 1 markets in cache\n",
      "INFO:betfairlightweight.streaming.stream:[MarketStream: 0]: 1.177444828 added, 1 markets in cache\n",
      "INFO:betfairlightweight.streaming.stream:[MarketStream: 0]: 1.177444828 added, 1 markets in cache\n"
     ]
    },
    {
     "name": "stdout",
     "output_type": "stream",
     "text": [
      "didnt find postplay results?\n"
     ]
    },
    {
     "name": "stderr",
     "output_type": "stream",
     "text": [
      "INFO:betfairlightweight.streaming.listener:[Register: 0]: marketSubscription\n",
      "WARNING:betfairlightweight.streaming.listener:[Listener: 0]: stream already registered, replacing data\n",
      "INFO:betfairlightweight.streaming.stream:[MarketStream: 0]: \"MarketStream\" created\n",
      "INFO:betfairlightweight.streaming.stream:[MarketStream: 0]: 1.177444827 added, 1 markets in cache\n",
      "INFO:betfairlightweight.streaming.stream:[MarketStream: 0]: 1.177444827 added, 1 markets in cache\n",
      "INFO:betfairlightweight.streaming.stream:[MarketStream: 0]: 1.177444827 added, 1 markets in cache\n",
      "INFO:betfairlightweight.streaming.stream:[MarketStream: 0]: 1.177444827 added, 1 markets in cache\n",
      "INFO:betfairlightweight.streaming.stream:[MarketStream: 0]: 1.177444827 added, 1 markets in cache\n",
      "INFO:betfairlightweight.streaming.stream:[MarketStream: 0]: 1.177444827 added, 1 markets in cache\n",
      "INFO:betfairlightweight.streaming.stream:[MarketStream: 0]: 1.177444827 added, 1 markets in cache\n",
      "INFO:betfairlightweight.streaming.stream:[MarketStream: 0]: 1.177444827 added, 1 markets in cache\n",
      "INFO:betfairlightweight.streaming.stream:[MarketStream: 0]: 1.177444827 added, 1 markets in cache\n",
      "INFO:betfairlightweight.streaming.stream:[MarketStream: 0]: 1.177444827 added, 1 markets in cache\n",
      "INFO:betfairlightweight.streaming.stream:[MarketStream: 0]: 1.177444827 added, 1 markets in cache\n",
      "INFO:betfairlightweight.streaming.stream:[MarketStream: 0]: 1.177444827 added, 1 markets in cache\n",
      "INFO:betfairlightweight.streaming.stream:[MarketStream: 0]: 1.177444827 added, 1 markets in cache\n",
      "INFO:betfairlightweight.streaming.stream:[MarketStream: 0]: 1.177444827 added, 1 markets in cache\n",
      "INFO:betfairlightweight.streaming.stream:[MarketStream: 0]: 1.177444827 added, 1 markets in cache\n"
     ]
    },
    {
     "name": "stdout",
     "output_type": "stream",
     "text": [
      "didnt find postplay results?\n"
     ]
    },
    {
     "name": "stderr",
     "output_type": "stream",
     "text": [
      "INFO:betfairlightweight.streaming.listener:[Register: 0]: marketSubscription\n",
      "WARNING:betfairlightweight.streaming.listener:[Listener: 0]: stream already registered, replacing data\n",
      "INFO:betfairlightweight.streaming.stream:[MarketStream: 0]: \"MarketStream\" created\n",
      "INFO:betfairlightweight.streaming.stream:[MarketStream: 0]: 1.177442846 added, 1 markets in cache\n",
      "INFO:betfairlightweight.streaming.stream:[MarketStream: 0]: 1.177442846 added, 1 markets in cache\n",
      "INFO:betfairlightweight.streaming.stream:[MarketStream: 0]: 1.177442846 added, 1 markets in cache\n",
      "INFO:betfairlightweight.streaming.stream:[MarketStream: 0]: 1.177442846 added, 1 markets in cache\n",
      "INFO:betfairlightweight.streaming.stream:[MarketStream: 0]: 1.177442846 added, 1 markets in cache\n",
      "INFO:betfairlightweight.streaming.stream:[MarketStream: 0]: 1.177442846 added, 1 markets in cache\n",
      "INFO:betfairlightweight.streaming.stream:[MarketStream: 0]: 1.177442846 added, 1 markets in cache\n",
      "INFO:betfairlightweight.streaming.stream:[MarketStream: 0]: 1.177442846 added, 1 markets in cache\n"
     ]
    },
    {
     "name": "stdout",
     "output_type": "stream",
     "text": [
      "didnt find postplay results?\n"
     ]
    },
    {
     "name": "stderr",
     "output_type": "stream",
     "text": [
      "INFO:betfairlightweight.streaming.listener:[Register: 0]: marketSubscription\n",
      "WARNING:betfairlightweight.streaming.listener:[Listener: 0]: stream already registered, replacing data\n",
      "INFO:betfairlightweight.streaming.stream:[MarketStream: 0]: \"MarketStream\" created\n",
      "INFO:betfairlightweight.streaming.stream:[MarketStream: 0]: 1.177444804 added, 1 markets in cache\n",
      "INFO:betfairlightweight.streaming.stream:[MarketStream: 0]: 1.177444804 added, 1 markets in cache\n",
      "INFO:betfairlightweight.streaming.stream:[MarketStream: 0]: 1.177444804 added, 1 markets in cache\n",
      "INFO:betfairlightweight.streaming.stream:[MarketStream: 0]: 1.177444804 added, 1 markets in cache\n",
      "INFO:betfairlightweight.streaming.stream:[MarketStream: 0]: 1.177444804 added, 1 markets in cache\n",
      "INFO:betfairlightweight.streaming.stream:[MarketStream: 0]: 1.177444804 added, 1 markets in cache\n",
      "INFO:betfairlightweight.streaming.stream:[MarketStream: 0]: 1.177444804 added, 1 markets in cache\n",
      "INFO:betfairlightweight.streaming.stream:[MarketStream: 0]: 1.177444804 added, 1 markets in cache\n",
      "INFO:betfairlightweight.streaming.stream:[MarketStream: 0]: 1.177444804 added, 1 markets in cache\n",
      "INFO:betfairlightweight.streaming.stream:[MarketStream: 0]: 1.177444804 added, 1 markets in cache\n",
      "INFO:betfairlightweight.streaming.stream:[MarketStream: 0]: 1.177444804 added, 1 markets in cache\n",
      "INFO:betfairlightweight.streaming.stream:[MarketStream: 0]: 1.177444804 added, 1 markets in cache\n",
      "INFO:betfairlightweight.streaming.listener:[Register: 0]: marketSubscription\n",
      "WARNING:betfairlightweight.streaming.listener:[Listener: 0]: stream already registered, replacing data\n",
      "INFO:betfairlightweight.streaming.stream:[MarketStream: 0]: \"MarketStream\" created\n",
      "INFO:betfairlightweight.streaming.stream:[MarketStream: 0]: 1.177442845 added, 1 markets in cache\n",
      "INFO:betfairlightweight.streaming.stream:[MarketStream: 0]: 1.177442845 added, 1 markets in cache\n",
      "INFO:betfairlightweight.streaming.stream:[MarketStream: 0]: 1.177442845 added, 1 markets in cache\n",
      "INFO:betfairlightweight.streaming.stream:[MarketStream: 0]: 1.177442845 added, 1 markets in cache\n",
      "INFO:betfairlightweight.streaming.stream:[MarketStream: 0]: 1.177442845 added, 1 markets in cache\n",
      "INFO:betfairlightweight.streaming.stream:[MarketStream: 0]: 1.177442845 added, 1 markets in cache\n",
      "INFO:betfairlightweight.streaming.stream:[MarketStream: 0]: 1.177442845 added, 1 markets in cache\n",
      "INFO:betfairlightweight.streaming.stream:[MarketStream: 0]: 1.177442845 added, 1 markets in cache\n",
      "INFO:betfairlightweight.streaming.stream:[MarketStream: 0]: 1.177442845 added, 1 markets in cache\n",
      "INFO:betfairlightweight.streaming.stream:[MarketStream: 0]: 1.177442845 added, 1 markets in cache\n",
      "INFO:betfairlightweight.streaming.stream:[MarketStream: 0]: 1.177442845 added, 1 markets in cache\n",
      "INFO:betfairlightweight.streaming.stream:[MarketStream: 0]: 1.177442845 added, 1 markets in cache\n",
      "INFO:betfairlightweight.streaming.stream:[MarketStream: 0]: 1.177442845 added, 1 markets in cache\n",
      "INFO:betfairlightweight.streaming.stream:[MarketStream: 0]: 1.177442845 added, 1 markets in cache\n"
     ]
    },
    {
     "name": "stdout",
     "output_type": "stream",
     "text": [
      "didnt find postplay results?\n"
     ]
    },
    {
     "name": "stderr",
     "output_type": "stream",
     "text": [
      "INFO:betfairlightweight.streaming.listener:[Register: 0]: marketSubscription\n",
      "WARNING:betfairlightweight.streaming.listener:[Listener: 0]: stream already registered, replacing data\n",
      "INFO:betfairlightweight.streaming.stream:[MarketStream: 0]: \"MarketStream\" created\n",
      "INFO:betfairlightweight.streaming.stream:[MarketStream: 0]: 1.177444803 added, 1 markets in cache\n",
      "INFO:betfairlightweight.streaming.stream:[MarketStream: 0]: 1.177444803 added, 1 markets in cache\n",
      "INFO:betfairlightweight.streaming.stream:[MarketStream: 0]: 1.177444803 added, 1 markets in cache\n",
      "INFO:betfairlightweight.streaming.stream:[MarketStream: 0]: 1.177444803 added, 1 markets in cache\n",
      "INFO:betfairlightweight.streaming.stream:[MarketStream: 0]: 1.177444803 added, 1 markets in cache\n",
      "INFO:betfairlightweight.streaming.stream:[MarketStream: 0]: 1.177444803 added, 1 markets in cache\n",
      "INFO:betfairlightweight.streaming.stream:[MarketStream: 0]: 1.177444803 added, 1 markets in cache\n",
      "INFO:betfairlightweight.streaming.stream:[MarketStream: 0]: 1.177444803 added, 1 markets in cache\n",
      "INFO:betfairlightweight.streaming.stream:[MarketStream: 0]: 1.177444803 added, 1 markets in cache\n",
      "INFO:betfairlightweight.streaming.stream:[MarketStream: 0]: 1.177444803 added, 1 markets in cache\n",
      "INFO:betfairlightweight.streaming.stream:[MarketStream: 0]: 1.177444803 added, 1 markets in cache\n",
      "INFO:betfairlightweight.streaming.stream:[MarketStream: 0]: 1.177444803 added, 1 markets in cache\n",
      "INFO:betfairlightweight.streaming.stream:[MarketStream: 0]: 1.177444803 added, 1 markets in cache\n"
     ]
    },
    {
     "name": "stdout",
     "output_type": "stream",
     "text": [
      "didnt find postplay results?\n"
     ]
    },
    {
     "name": "stderr",
     "output_type": "stream",
     "text": [
      "INFO:betfairlightweight.streaming.listener:[Register: 0]: marketSubscription\n",
      "WARNING:betfairlightweight.streaming.listener:[Listener: 0]: stream already registered, replacing data\n",
      "INFO:betfairlightweight.streaming.stream:[MarketStream: 0]: \"MarketStream\" created\n",
      "INFO:betfairlightweight.streaming.stream:[MarketStream: 0]: 1.177442829 added, 1 markets in cache\n",
      "INFO:betfairlightweight.streaming.stream:[MarketStream: 0]: 1.177442829 added, 1 markets in cache\n",
      "INFO:betfairlightweight.streaming.stream:[MarketStream: 0]: 1.177442829 added, 1 markets in cache\n",
      "INFO:betfairlightweight.streaming.stream:[MarketStream: 0]: 1.177442829 added, 1 markets in cache\n",
      "INFO:betfairlightweight.streaming.stream:[MarketStream: 0]: 1.177442829 added, 1 markets in cache\n",
      "INFO:betfairlightweight.streaming.stream:[MarketStream: 0]: 1.177442829 added, 1 markets in cache\n",
      "INFO:betfairlightweight.streaming.stream:[MarketStream: 0]: 1.177442829 added, 1 markets in cache\n",
      "INFO:betfairlightweight.streaming.stream:[MarketStream: 0]: 1.177442829 added, 1 markets in cache\n",
      "INFO:betfairlightweight.streaming.stream:[MarketStream: 0]: 1.177442829 added, 1 markets in cache\n"
     ]
    },
    {
     "name": "stdout",
     "output_type": "stream",
     "text": [
      "didnt find postplay results?\n"
     ]
    },
    {
     "name": "stderr",
     "output_type": "stream",
     "text": [
      "INFO:betfairlightweight.streaming.listener:[Register: 0]: marketSubscription\n",
      "WARNING:betfairlightweight.streaming.listener:[Listener: 0]: stream already registered, replacing data\n",
      "INFO:betfairlightweight.streaming.stream:[MarketStream: 0]: \"MarketStream\" created\n",
      "INFO:betfairlightweight.streaming.stream:[MarketStream: 0]: 1.177442830 added, 1 markets in cache\n",
      "INFO:betfairlightweight.streaming.stream:[MarketStream: 0]: 1.177442830 added, 1 markets in cache\n",
      "INFO:betfairlightweight.streaming.stream:[MarketStream: 0]: 1.177442830 added, 1 markets in cache\n",
      "INFO:betfairlightweight.streaming.stream:[MarketStream: 0]: 1.177442830 added, 1 markets in cache\n",
      "INFO:betfairlightweight.streaming.stream:[MarketStream: 0]: 1.177442830 added, 1 markets in cache\n",
      "INFO:betfairlightweight.streaming.stream:[MarketStream: 0]: 1.177442830 added, 1 markets in cache\n",
      "INFO:betfairlightweight.streaming.stream:[MarketStream: 0]: 1.177442830 added, 1 markets in cache\n",
      "INFO:betfairlightweight.streaming.stream:[MarketStream: 0]: 1.177442830 added, 1 markets in cache\n",
      "INFO:betfairlightweight.streaming.stream:[MarketStream: 0]: 1.177442830 added, 1 markets in cache\n",
      "INFO:betfairlightweight.streaming.stream:[MarketStream: 0]: 1.177442830 added, 1 markets in cache\n",
      "INFO:betfairlightweight.streaming.stream:[MarketStream: 0]: 1.177442830 added, 1 markets in cache\n",
      "INFO:betfairlightweight.streaming.stream:[MarketStream: 0]: 1.177442830 added, 1 markets in cache\n",
      "INFO:betfairlightweight.streaming.stream:[MarketStream: 0]: 1.177442830 added, 1 markets in cache\n",
      "INFO:betfairlightweight.streaming.listener:[Register: 0]: marketSubscription\n",
      "WARNING:betfairlightweight.streaming.listener:[Listener: 0]: stream already registered, replacing data\n",
      "INFO:betfairlightweight.streaming.stream:[MarketStream: 0]: \"MarketStream\" created\n",
      "INFO:betfairlightweight.streaming.stream:[MarketStream: 0]: 1.177447153 added, 1 markets in cache\n",
      "INFO:betfairlightweight.streaming.stream:[MarketStream: 0]: 1.177447153 added, 1 markets in cache\n",
      "INFO:betfairlightweight.streaming.stream:[MarketStream: 0]: 1.177447153 added, 1 markets in cache\n",
      "INFO:betfairlightweight.streaming.stream:[MarketStream: 0]: 1.177447153 added, 1 markets in cache\n",
      "INFO:betfairlightweight.streaming.stream:[MarketStream: 0]: 1.177447153 added, 1 markets in cache\n",
      "INFO:betfairlightweight.streaming.stream:[MarketStream: 0]: 1.177447153 added, 1 markets in cache\n",
      "INFO:betfairlightweight.streaming.stream:[MarketStream: 0]: 1.177447153 added, 1 markets in cache\n",
      "INFO:betfairlightweight.streaming.stream:[MarketStream: 0]: 1.177447153 added, 1 markets in cache\n",
      "INFO:betfairlightweight.streaming.stream:[MarketStream: 0]: 1.177447153 added, 1 markets in cache\n",
      "INFO:betfairlightweight.streaming.stream:[MarketStream: 0]: 1.177447153 added, 1 markets in cache\n",
      "INFO:betfairlightweight.streaming.stream:[MarketStream: 0]: 1.177447153 added, 1 markets in cache\n",
      "INFO:betfairlightweight.streaming.stream:[MarketStream: 0]: 1.177447153 added, 1 markets in cache\n",
      "INFO:betfairlightweight.streaming.stream:[MarketStream: 0]: 1.177447153 added, 1 markets in cache\n",
      "INFO:betfairlightweight.streaming.stream:[MarketStream: 0]: 1.177447153 added, 1 markets in cache\n"
     ]
    },
    {
     "name": "stdout",
     "output_type": "stream",
     "text": [
      "didnt find postplay results?\n"
     ]
    },
    {
     "name": "stderr",
     "output_type": "stream",
     "text": [
      "INFO:betfairlightweight.streaming.listener:[Register: 0]: marketSubscription\n",
      "WARNING:betfairlightweight.streaming.listener:[Listener: 0]: stream already registered, replacing data\n",
      "INFO:betfairlightweight.streaming.stream:[MarketStream: 0]: \"MarketStream\" created\n",
      "INFO:betfairlightweight.streaming.stream:[MarketStream: 0]: 1.177447152 added, 1 markets in cache\n",
      "INFO:betfairlightweight.streaming.stream:[MarketStream: 0]: 1.177447152 added, 1 markets in cache\n",
      "INFO:betfairlightweight.streaming.stream:[MarketStream: 0]: 1.177447152 added, 1 markets in cache\n",
      "INFO:betfairlightweight.streaming.stream:[MarketStream: 0]: 1.177447152 added, 1 markets in cache\n",
      "INFO:betfairlightweight.streaming.stream:[MarketStream: 0]: 1.177447152 added, 1 markets in cache\n",
      "INFO:betfairlightweight.streaming.stream:[MarketStream: 0]: 1.177447152 added, 1 markets in cache\n",
      "INFO:betfairlightweight.streaming.stream:[MarketStream: 0]: 1.177447152 added, 1 markets in cache\n",
      "INFO:betfairlightweight.streaming.stream:[MarketStream: 0]: 1.177447152 added, 1 markets in cache\n",
      "INFO:betfairlightweight.streaming.stream:[MarketStream: 0]: 1.177447152 added, 1 markets in cache\n",
      "INFO:betfairlightweight.streaming.stream:[MarketStream: 0]: 1.177447152 added, 1 markets in cache\n",
      "INFO:betfairlightweight.streaming.stream:[MarketStream: 0]: 1.177447152 added, 1 markets in cache\n",
      "INFO:betfairlightweight.streaming.stream:[MarketStream: 0]: 1.177447152 added, 1 markets in cache\n",
      "INFO:betfairlightweight.streaming.stream:[MarketStream: 0]: 1.177447152 added, 1 markets in cache\n",
      "INFO:betfairlightweight.streaming.stream:[MarketStream: 0]: 1.177447152 added, 1 markets in cache\n",
      "INFO:betfairlightweight.streaming.stream:[MarketStream: 0]: 1.177447152 added, 1 markets in cache\n"
     ]
    },
    {
     "name": "stdout",
     "output_type": "stream",
     "text": [
      "didnt find postplay results?\n"
     ]
    },
    {
     "name": "stderr",
     "output_type": "stream",
     "text": [
      "INFO:betfairlightweight.streaming.listener:[Register: 0]: marketSubscription\n",
      "WARNING:betfairlightweight.streaming.listener:[Listener: 0]: stream already registered, replacing data\n",
      "INFO:betfairlightweight.streaming.stream:[MarketStream: 0]: \"MarketStream\" created\n",
      "INFO:betfairlightweight.streaming.stream:[MarketStream: 0]: 1.177447172 added, 1 markets in cache\n",
      "INFO:betfairlightweight.streaming.listener:[Register: 0]: marketSubscription\n",
      "WARNING:betfairlightweight.streaming.listener:[Listener: 0]: stream already registered, replacing data\n",
      "INFO:betfairlightweight.streaming.stream:[MarketStream: 0]: \"MarketStream\" created\n",
      "INFO:betfairlightweight.streaming.stream:[MarketStream: 0]: 1.177447205 added, 1 markets in cache\n"
     ]
    },
    {
     "name": "stdout",
     "output_type": "stream",
     "text": [
      "didnt find postplay results?\n",
      "didnt find postplay results?\n"
     ]
    },
    {
     "name": "stderr",
     "output_type": "stream",
     "text": [
      "INFO:betfairlightweight.streaming.listener:[Register: 0]: marketSubscription\n",
      "WARNING:betfairlightweight.streaming.listener:[Listener: 0]: stream already registered, replacing data\n",
      "INFO:betfairlightweight.streaming.stream:[MarketStream: 0]: \"MarketStream\" created\n",
      "INFO:betfairlightweight.streaming.stream:[MarketStream: 0]: 1.177447185 added, 1 markets in cache\n",
      "INFO:betfairlightweight.streaming.stream:[MarketStream: 0]: 1.177447185 added, 1 markets in cache\n",
      "INFO:betfairlightweight.streaming.stream:[MarketStream: 0]: 1.177447185 added, 1 markets in cache\n",
      "INFO:betfairlightweight.streaming.stream:[MarketStream: 0]: 1.177447185 added, 1 markets in cache\n",
      "INFO:betfairlightweight.streaming.stream:[MarketStream: 0]: 1.177447185 added, 1 markets in cache\n",
      "INFO:betfairlightweight.streaming.stream:[MarketStream: 0]: 1.177447185 added, 1 markets in cache\n",
      "INFO:betfairlightweight.streaming.stream:[MarketStream: 0]: 1.177447185 added, 1 markets in cache\n",
      "INFO:betfairlightweight.streaming.stream:[MarketStream: 0]: 1.177447185 added, 1 markets in cache\n",
      "INFO:betfairlightweight.streaming.stream:[MarketStream: 0]: 1.177447185 added, 1 markets in cache\n",
      "INFO:betfairlightweight.streaming.stream:[MarketStream: 0]: 1.177447185 added, 1 markets in cache\n"
     ]
    },
    {
     "name": "stdout",
     "output_type": "stream",
     "text": [
      "didnt find postplay results?\n"
     ]
    },
    {
     "name": "stderr",
     "output_type": "stream",
     "text": [
      "INFO:betfairlightweight.streaming.listener:[Register: 0]: marketSubscription\n",
      "WARNING:betfairlightweight.streaming.listener:[Listener: 0]: stream already registered, replacing data\n",
      "INFO:betfairlightweight.streaming.stream:[MarketStream: 0]: \"MarketStream\" created\n",
      "INFO:betfairlightweight.streaming.stream:[MarketStream: 0]: 1.177447186 added, 1 markets in cache\n",
      "INFO:betfairlightweight.streaming.stream:[MarketStream: 0]: 1.177447186 added, 1 markets in cache\n",
      "INFO:betfairlightweight.streaming.stream:[MarketStream: 0]: 1.177447186 added, 1 markets in cache\n",
      "INFO:betfairlightweight.streaming.stream:[MarketStream: 0]: 1.177447186 added, 1 markets in cache\n",
      "INFO:betfairlightweight.streaming.stream:[MarketStream: 0]: 1.177447186 added, 1 markets in cache\n",
      "INFO:betfairlightweight.streaming.stream:[MarketStream: 0]: 1.177447186 added, 1 markets in cache\n",
      "INFO:betfairlightweight.streaming.stream:[MarketStream: 0]: 1.177447186 added, 1 markets in cache\n",
      "INFO:betfairlightweight.streaming.stream:[MarketStream: 0]: 1.177447186 added, 1 markets in cache\n",
      "INFO:betfairlightweight.streaming.stream:[MarketStream: 0]: 1.177447186 added, 1 markets in cache\n",
      "INFO:betfairlightweight.streaming.stream:[MarketStream: 0]: 1.177447186 added, 1 markets in cache\n",
      "INFO:betfairlightweight.streaming.stream:[MarketStream: 0]: 1.177447186 added, 1 markets in cache\n",
      "INFO:betfairlightweight.streaming.stream:[MarketStream: 0]: 1.177447186 added, 1 markets in cache\n"
     ]
    },
    {
     "name": "stdout",
     "output_type": "stream",
     "text": [
      "didnt find postplay results?\n"
     ]
    },
    {
     "name": "stderr",
     "output_type": "stream",
     "text": [
      "INFO:betfairlightweight.streaming.listener:[Register: 0]: marketSubscription\n",
      "WARNING:betfairlightweight.streaming.listener:[Listener: 0]: stream already registered, replacing data\n",
      "INFO:betfairlightweight.streaming.stream:[MarketStream: 0]: \"MarketStream\" created\n",
      "INFO:betfairlightweight.streaming.stream:[MarketStream: 0]: 1.177442848 added, 1 markets in cache\n",
      "INFO:betfairlightweight.streaming.stream:[MarketStream: 0]: 1.177442848 added, 1 markets in cache\n",
      "INFO:betfairlightweight.streaming.stream:[MarketStream: 0]: 1.177442848 added, 1 markets in cache\n",
      "INFO:betfairlightweight.streaming.stream:[MarketStream: 0]: 1.177442848 added, 1 markets in cache\n",
      "INFO:betfairlightweight.streaming.stream:[MarketStream: 0]: 1.177442848 added, 1 markets in cache\n",
      "INFO:betfairlightweight.streaming.stream:[MarketStream: 0]: 1.177442848 added, 1 markets in cache\n",
      "INFO:betfairlightweight.streaming.stream:[MarketStream: 0]: 1.177442848 added, 1 markets in cache\n",
      "INFO:betfairlightweight.streaming.stream:[MarketStream: 0]: 1.177442848 added, 1 markets in cache\n",
      "INFO:betfairlightweight.streaming.stream:[MarketStream: 0]: 1.177442848 added, 1 markets in cache\n"
     ]
    },
    {
     "name": "stdout",
     "output_type": "stream",
     "text": [
      "didnt find postplay results?\n"
     ]
    },
    {
     "name": "stderr",
     "output_type": "stream",
     "text": [
      "INFO:betfairlightweight.streaming.stream:[MarketStream: 0]: 1.177442848 added, 1 markets in cache\n",
      "INFO:betfairlightweight.streaming.listener:[Register: 0]: marketSubscription\n",
      "WARNING:betfairlightweight.streaming.listener:[Listener: 0]: stream already registered, replacing data\n",
      "INFO:betfairlightweight.streaming.stream:[MarketStream: 0]: \"MarketStream\" created\n",
      "INFO:betfairlightweight.streaming.stream:[MarketStream: 0]: 1.177442847 added, 1 markets in cache\n",
      "INFO:betfairlightweight.streaming.stream:[MarketStream: 0]: 1.177442847 added, 1 markets in cache\n",
      "INFO:betfairlightweight.streaming.stream:[MarketStream: 0]: 1.177442847 added, 1 markets in cache\n",
      "INFO:betfairlightweight.streaming.stream:[MarketStream: 0]: 1.177442847 added, 1 markets in cache\n",
      "INFO:betfairlightweight.streaming.stream:[MarketStream: 0]: 1.177442847 added, 1 markets in cache\n",
      "INFO:betfairlightweight.streaming.stream:[MarketStream: 0]: 1.177442847 added, 1 markets in cache\n",
      "INFO:betfairlightweight.streaming.stream:[MarketStream: 0]: 1.177442847 added, 1 markets in cache\n",
      "INFO:betfairlightweight.streaming.stream:[MarketStream: 0]: 1.177442847 added, 1 markets in cache\n",
      "INFO:betfairlightweight.streaming.stream:[MarketStream: 0]: 1.177442847 added, 1 markets in cache\n",
      "INFO:betfairlightweight.streaming.stream:[MarketStream: 0]: 1.177442847 added, 1 markets in cache\n",
      "INFO:betfairlightweight.streaming.listener:[Register: 0]: marketSubscription\n",
      "WARNING:betfairlightweight.streaming.listener:[Listener: 0]: stream already registered, replacing data\n",
      "INFO:betfairlightweight.streaming.stream:[MarketStream: 0]: \"MarketStream\" created\n",
      "INFO:betfairlightweight.streaming.stream:[MarketStream: 0]: 1.177444806 added, 1 markets in cache\n",
      "INFO:betfairlightweight.streaming.stream:[MarketStream: 0]: 1.177444806 added, 1 markets in cache\n",
      "INFO:betfairlightweight.streaming.stream:[MarketStream: 0]: 1.177444806 added, 1 markets in cache\n",
      "INFO:betfairlightweight.streaming.stream:[MarketStream: 0]: 1.177444806 added, 1 markets in cache\n",
      "INFO:betfairlightweight.streaming.stream:[MarketStream: 0]: 1.177444806 added, 1 markets in cache\n",
      "INFO:betfairlightweight.streaming.stream:[MarketStream: 0]: 1.177444806 added, 1 markets in cache\n",
      "INFO:betfairlightweight.streaming.stream:[MarketStream: 0]: 1.177444806 added, 1 markets in cache\n",
      "INFO:betfairlightweight.streaming.stream:[MarketStream: 0]: 1.177444806 added, 1 markets in cache\n",
      "INFO:betfairlightweight.streaming.stream:[MarketStream: 0]: 1.177444806 added, 1 markets in cache\n",
      "INFO:betfairlightweight.streaming.stream:[MarketStream: 0]: 1.177444806 added, 1 markets in cache\n",
      "INFO:betfairlightweight.streaming.stream:[MarketStream: 0]: 1.177444806 added, 1 markets in cache\n"
     ]
    },
    {
     "name": "stdout",
     "output_type": "stream",
     "text": [
      "didnt find postplay results?\n"
     ]
    },
    {
     "name": "stderr",
     "output_type": "stream",
     "text": [
      "INFO:betfairlightweight.streaming.listener:[Register: 0]: marketSubscription\n",
      "WARNING:betfairlightweight.streaming.listener:[Listener: 0]: stream already registered, replacing data\n",
      "INFO:betfairlightweight.streaming.stream:[MarketStream: 0]: \"MarketStream\" created\n",
      "INFO:betfairlightweight.streaming.stream:[MarketStream: 0]: 1.177444830 added, 1 markets in cache\n",
      "INFO:betfairlightweight.streaming.stream:[MarketStream: 0]: 1.177444830 added, 1 markets in cache\n",
      "INFO:betfairlightweight.streaming.stream:[MarketStream: 0]: 1.177444830 added, 1 markets in cache\n",
      "INFO:betfairlightweight.streaming.stream:[MarketStream: 0]: 1.177444830 added, 1 markets in cache\n",
      "INFO:betfairlightweight.streaming.stream:[MarketStream: 0]: 1.177444830 added, 1 markets in cache\n",
      "INFO:betfairlightweight.streaming.stream:[MarketStream: 0]: 1.177444830 added, 1 markets in cache\n",
      "INFO:betfairlightweight.streaming.stream:[MarketStream: 0]: 1.177444830 added, 1 markets in cache\n",
      "INFO:betfairlightweight.streaming.stream:[MarketStream: 0]: 1.177444830 added, 1 markets in cache\n",
      "INFO:betfairlightweight.streaming.stream:[MarketStream: 0]: 1.177444830 added, 1 markets in cache\n",
      "INFO:betfairlightweight.streaming.stream:[MarketStream: 0]: 1.177444830 added, 1 markets in cache\n",
      "INFO:betfairlightweight.streaming.stream:[MarketStream: 0]: 1.177444830 added, 1 markets in cache\n",
      "INFO:betfairlightweight.streaming.stream:[MarketStream: 0]: 1.177444830 added, 1 markets in cache\n",
      "INFO:betfairlightweight.streaming.stream:[MarketStream: 0]: 1.177444830 added, 1 markets in cache\n",
      "INFO:betfairlightweight.streaming.stream:[MarketStream: 0]: 1.177444830 added, 1 markets in cache\n",
      "INFO:betfairlightweight.streaming.stream:[MarketStream: 0]: 1.177444830 added, 1 markets in cache\n",
      "INFO:betfairlightweight.streaming.listener:[Register: 0]: marketSubscription\n"
     ]
    },
    {
     "name": "stdout",
     "output_type": "stream",
     "text": [
      "didnt find postplay results?\n",
      "didnt find postplay results?\n"
     ]
    },
    {
     "name": "stderr",
     "output_type": "stream",
     "text": [
      "WARNING:betfairlightweight.streaming.listener:[Listener: 0]: stream already registered, replacing data\n",
      "INFO:betfairlightweight.streaming.stream:[MarketStream: 0]: \"MarketStream\" created\n",
      "INFO:betfairlightweight.streaming.stream:[MarketStream: 0]: 1.177444829 added, 1 markets in cache\n",
      "INFO:betfairlightweight.streaming.stream:[MarketStream: 0]: 1.177444829 added, 1 markets in cache\n",
      "INFO:betfairlightweight.streaming.stream:[MarketStream: 0]: 1.177444829 added, 1 markets in cache\n",
      "INFO:betfairlightweight.streaming.stream:[MarketStream: 0]: 1.177444829 added, 1 markets in cache\n",
      "INFO:betfairlightweight.streaming.stream:[MarketStream: 0]: 1.177444829 added, 1 markets in cache\n",
      "INFO:betfairlightweight.streaming.stream:[MarketStream: 0]: 1.177444829 added, 1 markets in cache\n",
      "INFO:betfairlightweight.streaming.stream:[MarketStream: 0]: 1.177444829 added, 1 markets in cache\n",
      "INFO:betfairlightweight.streaming.stream:[MarketStream: 0]: 1.177444829 added, 1 markets in cache\n",
      "INFO:betfairlightweight.streaming.stream:[MarketStream: 0]: 1.177444829 added, 1 markets in cache\n",
      "INFO:betfairlightweight.streaming.stream:[MarketStream: 0]: 1.177444829 added, 1 markets in cache\n",
      "INFO:betfairlightweight.streaming.stream:[MarketStream: 0]: 1.177444829 added, 1 markets in cache\n",
      "INFO:betfairlightweight.streaming.stream:[MarketStream: 0]: 1.177444829 added, 1 markets in cache\n",
      "INFO:betfairlightweight.streaming.stream:[MarketStream: 0]: 1.177444829 added, 1 markets in cache\n",
      "INFO:betfairlightweight.streaming.stream:[MarketStream: 0]: 1.177444829 added, 1 markets in cache\n",
      "INFO:betfairlightweight.streaming.stream:[MarketStream: 0]: 1.177444829 added, 1 markets in cache\n",
      "INFO:betfairlightweight.streaming.listener:[Register: 0]: marketSubscription\n",
      "WARNING:betfairlightweight.streaming.listener:[Listener: 0]: stream already registered, replacing data\n",
      "INFO:betfairlightweight.streaming.stream:[MarketStream: 0]: \"MarketStream\" created\n",
      "INFO:betfairlightweight.streaming.stream:[MarketStream: 0]: 1.177444805 added, 1 markets in cache\n",
      "INFO:betfairlightweight.streaming.stream:[MarketStream: 0]: 1.177444805 added, 1 markets in cache\n",
      "INFO:betfairlightweight.streaming.stream:[MarketStream: 0]: 1.177444805 added, 1 markets in cache\n",
      "INFO:betfairlightweight.streaming.stream:[MarketStream: 0]: 1.177444805 added, 1 markets in cache\n",
      "INFO:betfairlightweight.streaming.stream:[MarketStream: 0]: 1.177444805 added, 1 markets in cache\n",
      "INFO:betfairlightweight.streaming.stream:[MarketStream: 0]: 1.177444805 added, 1 markets in cache\n",
      "INFO:betfairlightweight.streaming.stream:[MarketStream: 0]: 1.177444805 added, 1 markets in cache\n",
      "INFO:betfairlightweight.streaming.stream:[MarketStream: 0]: 1.177444805 added, 1 markets in cache\n",
      "INFO:betfairlightweight.streaming.stream:[MarketStream: 0]: 1.177444805 added, 1 markets in cache\n",
      "INFO:betfairlightweight.streaming.stream:[MarketStream: 0]: 1.177444805 added, 1 markets in cache\n",
      "INFO:betfairlightweight.streaming.stream:[MarketStream: 0]: 1.177444805 added, 1 markets in cache\n",
      "INFO:betfairlightweight.streaming.stream:[MarketStream: 0]: 1.177444805 added, 1 markets in cache\n"
     ]
    },
    {
     "name": "stdout",
     "output_type": "stream",
     "text": [
      "didnt find postplay results?\n"
     ]
    },
    {
     "name": "stderr",
     "output_type": "stream",
     "text": [
      "INFO:betfairlightweight.streaming.listener:[Register: 0]: marketSubscription\n",
      "WARNING:betfairlightweight.streaming.listener:[Listener: 0]: stream already registered, replacing data\n",
      "INFO:betfairlightweight.streaming.stream:[MarketStream: 0]: \"MarketStream\" created\n",
      "INFO:betfairlightweight.streaming.stream:[MarketStream: 0]: 1.177442831 added, 1 markets in cache\n",
      "INFO:betfairlightweight.streaming.stream:[MarketStream: 0]: 1.177442831 added, 1 markets in cache\n",
      "INFO:betfairlightweight.streaming.stream:[MarketStream: 0]: 1.177442831 added, 1 markets in cache\n",
      "INFO:betfairlightweight.streaming.stream:[MarketStream: 0]: 1.177442831 added, 1 markets in cache\n",
      "INFO:betfairlightweight.streaming.stream:[MarketStream: 0]: 1.177442831 added, 1 markets in cache\n",
      "INFO:betfairlightweight.streaming.stream:[MarketStream: 0]: 1.177442831 added, 1 markets in cache\n",
      "INFO:betfairlightweight.streaming.stream:[MarketStream: 0]: 1.177442831 added, 1 markets in cache\n",
      "INFO:betfairlightweight.streaming.stream:[MarketStream: 0]: 1.177442831 added, 1 markets in cache\n",
      "INFO:betfairlightweight.streaming.stream:[MarketStream: 0]: 1.177442831 added, 1 markets in cache\n"
     ]
    },
    {
     "name": "stdout",
     "output_type": "stream",
     "text": [
      "didnt find postplay results?\n"
     ]
    },
    {
     "name": "stderr",
     "output_type": "stream",
     "text": [
      "INFO:betfairlightweight.streaming.listener:[Register: 0]: marketSubscription\n",
      "WARNING:betfairlightweight.streaming.listener:[Listener: 0]: stream already registered, replacing data\n",
      "INFO:betfairlightweight.streaming.stream:[MarketStream: 0]: \"MarketStream\" created\n",
      "INFO:betfairlightweight.streaming.stream:[MarketStream: 0]: 1.177447155 added, 1 markets in cache\n",
      "INFO:betfairlightweight.streaming.stream:[MarketStream: 0]: 1.177447155 added, 1 markets in cache\n",
      "INFO:betfairlightweight.streaming.stream:[MarketStream: 0]: 1.177447155 added, 1 markets in cache\n",
      "INFO:betfairlightweight.streaming.stream:[MarketStream: 0]: 1.177447155 added, 1 markets in cache\n",
      "INFO:betfairlightweight.streaming.stream:[MarketStream: 0]: 1.177447155 added, 1 markets in cache\n",
      "INFO:betfairlightweight.streaming.stream:[MarketStream: 0]: 1.177447155 added, 1 markets in cache\n",
      "INFO:betfairlightweight.streaming.stream:[MarketStream: 0]: 1.177447155 added, 1 markets in cache\n",
      "INFO:betfairlightweight.streaming.stream:[MarketStream: 0]: 1.177447155 added, 1 markets in cache\n",
      "INFO:betfairlightweight.streaming.stream:[MarketStream: 0]: 1.177447155 added, 1 markets in cache\n",
      "INFO:betfairlightweight.streaming.stream:[MarketStream: 0]: 1.177447155 added, 1 markets in cache\n",
      "INFO:betfairlightweight.streaming.stream:[MarketStream: 0]: 1.177447155 added, 1 markets in cache\n",
      "INFO:betfairlightweight.streaming.stream:[MarketStream: 0]: 1.177447155 added, 1 markets in cache\n",
      "INFO:betfairlightweight.streaming.stream:[MarketStream: 0]: 1.177447155 added, 1 markets in cache\n",
      "INFO:betfairlightweight.streaming.listener:[Register: 0]: marketSubscription\n",
      "WARNING:betfairlightweight.streaming.listener:[Listener: 0]: stream already registered, replacing data\n",
      "INFO:betfairlightweight.streaming.stream:[MarketStream: 0]: \"MarketStream\" created\n",
      "INFO:betfairlightweight.streaming.stream:[MarketStream: 0]: 1.177447173 added, 1 markets in cache\n",
      "INFO:betfairlightweight.streaming.listener:[Register: 0]: marketSubscription\n",
      "WARNING:betfairlightweight.streaming.listener:[Listener: 0]: stream already registered, replacing data\n",
      "INFO:betfairlightweight.streaming.stream:[MarketStream: 0]: \"MarketStream\" created\n",
      "INFO:betfairlightweight.streaming.stream:[MarketStream: 0]: 1.177447154 added, 1 markets in cache\n",
      "INFO:betfairlightweight.streaming.stream:[MarketStream: 0]: 1.177447154 added, 1 markets in cache\n",
      "INFO:betfairlightweight.streaming.stream:[MarketStream: 0]: 1.177447154 added, 1 markets in cache\n",
      "INFO:betfairlightweight.streaming.stream:[MarketStream: 0]: 1.177447154 added, 1 markets in cache\n",
      "INFO:betfairlightweight.streaming.stream:[MarketStream: 0]: 1.177447154 added, 1 markets in cache\n",
      "INFO:betfairlightweight.streaming.stream:[MarketStream: 0]: 1.177447154 added, 1 markets in cache\n",
      "INFO:betfairlightweight.streaming.stream:[MarketStream: 0]: 1.177447154 added, 1 markets in cache\n",
      "INFO:betfairlightweight.streaming.stream:[MarketStream: 0]: 1.177447154 added, 1 markets in cache\n",
      "INFO:betfairlightweight.streaming.stream:[MarketStream: 0]: 1.177447154 added, 1 markets in cache\n",
      "INFO:betfairlightweight.streaming.stream:[MarketStream: 0]: 1.177447154 added, 1 markets in cache\n",
      "INFO:betfairlightweight.streaming.stream:[MarketStream: 0]: 1.177447154 added, 1 markets in cache\n",
      "INFO:betfairlightweight.streaming.stream:[MarketStream: 0]: 1.177447154 added, 1 markets in cache\n",
      "INFO:betfairlightweight.streaming.stream:[MarketStream: 0]: 1.177447154 added, 1 markets in cache\n",
      "INFO:betfairlightweight.streaming.stream:[MarketStream: 0]: 1.177447154 added, 1 markets in cache\n"
     ]
    },
    {
     "name": "stdout",
     "output_type": "stream",
     "text": [
      "didnt find postplay results?\n",
      "didnt find postplay results?\n"
     ]
    },
    {
     "name": "stderr",
     "output_type": "stream",
     "text": [
      "INFO:betfairlightweight.streaming.listener:[Register: 0]: marketSubscription\n",
      "WARNING:betfairlightweight.streaming.listener:[Listener: 0]: stream already registered, replacing data\n",
      "INFO:betfairlightweight.streaming.stream:[MarketStream: 0]: \"MarketStream\" created\n",
      "INFO:betfairlightweight.streaming.stream:[MarketStream: 0]: 1.177447187 added, 1 markets in cache\n",
      "INFO:betfairlightweight.streaming.stream:[MarketStream: 0]: 1.177447187 added, 1 markets in cache\n",
      "INFO:betfairlightweight.streaming.stream:[MarketStream: 0]: 1.177447187 added, 1 markets in cache\n",
      "INFO:betfairlightweight.streaming.stream:[MarketStream: 0]: 1.177447187 added, 1 markets in cache\n",
      "INFO:betfairlightweight.streaming.stream:[MarketStream: 0]: 1.177447187 added, 1 markets in cache\n",
      "INFO:betfairlightweight.streaming.stream:[MarketStream: 0]: 1.177447187 added, 1 markets in cache\n",
      "INFO:betfairlightweight.streaming.stream:[MarketStream: 0]: 1.177447187 added, 1 markets in cache\n",
      "INFO:betfairlightweight.streaming.stream:[MarketStream: 0]: 1.177447187 added, 1 markets in cache\n",
      "INFO:betfairlightweight.streaming.stream:[MarketStream: 0]: 1.177447187 added, 1 markets in cache\n",
      "INFO:betfairlightweight.streaming.stream:[MarketStream: 0]: 1.177447187 added, 1 markets in cache\n",
      "INFO:betfairlightweight.streaming.stream:[MarketStream: 0]: 1.177447187 added, 1 markets in cache\n"
     ]
    },
    {
     "name": "stdout",
     "output_type": "stream",
     "text": [
      "didnt find postplay results?\n"
     ]
    },
    {
     "name": "stderr",
     "output_type": "stream",
     "text": [
      "INFO:betfairlightweight.streaming.listener:[Register: 0]: marketSubscription\n",
      "WARNING:betfairlightweight.streaming.listener:[Listener: 0]: stream already registered, replacing data\n",
      "INFO:betfairlightweight.streaming.stream:[MarketStream: 0]: \"MarketStream\" created\n",
      "INFO:betfairlightweight.streaming.stream:[MarketStream: 0]: 1.177442832 added, 1 markets in cache\n",
      "INFO:betfairlightweight.streaming.stream:[MarketStream: 0]: 1.177442832 added, 1 markets in cache\n",
      "INFO:betfairlightweight.streaming.stream:[MarketStream: 0]: 1.177442832 added, 1 markets in cache\n",
      "INFO:betfairlightweight.streaming.stream:[MarketStream: 0]: 1.177442832 added, 1 markets in cache\n",
      "INFO:betfairlightweight.streaming.stream:[MarketStream: 0]: 1.177442832 added, 1 markets in cache\n",
      "INFO:betfairlightweight.streaming.stream:[MarketStream: 0]: 1.177442832 added, 1 markets in cache\n",
      "INFO:betfairlightweight.streaming.stream:[MarketStream: 0]: 1.177442832 added, 1 markets in cache\n",
      "INFO:betfairlightweight.streaming.stream:[MarketStream: 0]: 1.177442832 added, 1 markets in cache\n",
      "INFO:betfairlightweight.streaming.stream:[MarketStream: 0]: 1.177442832 added, 1 markets in cache\n",
      "INFO:betfairlightweight.streaming.stream:[MarketStream: 0]: 1.177442832 added, 1 markets in cache\n",
      "INFO:betfairlightweight.streaming.stream:[MarketStream: 0]: 1.177442832 added, 1 markets in cache\n",
      "INFO:betfairlightweight.streaming.stream:[MarketStream: 0]: 1.177442832 added, 1 markets in cache\n",
      "INFO:betfairlightweight.streaming.stream:[MarketStream: 0]: 1.177442832 added, 1 markets in cache\n"
     ]
    },
    {
     "name": "stdout",
     "output_type": "stream",
     "text": [
      "didnt find postplay results?\n"
     ]
    },
    {
     "name": "stderr",
     "output_type": "stream",
     "text": [
      "INFO:betfairlightweight.streaming.listener:[Register: 0]: marketSubscription\n",
      "WARNING:betfairlightweight.streaming.listener:[Listener: 0]: stream already registered, replacing data\n",
      "INFO:betfairlightweight.streaming.stream:[MarketStream: 0]: \"MarketStream\" created\n",
      "INFO:betfairlightweight.streaming.stream:[MarketStream: 0]: 1.177447188 added, 1 markets in cache\n",
      "INFO:betfairlightweight.streaming.stream:[MarketStream: 0]: 1.177447188 added, 1 markets in cache\n",
      "INFO:betfairlightweight.streaming.stream:[MarketStream: 0]: 1.177447188 added, 1 markets in cache\n",
      "INFO:betfairlightweight.streaming.stream:[MarketStream: 0]: 1.177447188 added, 1 markets in cache\n",
      "INFO:betfairlightweight.streaming.stream:[MarketStream: 0]: 1.177447188 added, 1 markets in cache\n",
      "INFO:betfairlightweight.streaming.stream:[MarketStream: 0]: 1.177447188 added, 1 markets in cache\n",
      "INFO:betfairlightweight.streaming.stream:[MarketStream: 0]: 1.177447188 added, 1 markets in cache\n",
      "INFO:betfairlightweight.streaming.stream:[MarketStream: 0]: 1.177447188 added, 1 markets in cache\n",
      "INFO:betfairlightweight.streaming.stream:[MarketStream: 0]: 1.177447188 added, 1 markets in cache\n",
      "INFO:betfairlightweight.streaming.stream:[MarketStream: 0]: 1.177447188 added, 1 markets in cache\n",
      "INFO:betfairlightweight.streaming.stream:[MarketStream: 0]: 1.177447188 added, 1 markets in cache\n",
      "INFO:betfairlightweight.streaming.stream:[MarketStream: 0]: 1.177447188 added, 1 markets in cache\n"
     ]
    },
    {
     "name": "stdout",
     "output_type": "stream",
     "text": [
      "didnt find postplay results?\n"
     ]
    },
    {
     "name": "stderr",
     "output_type": "stream",
     "text": [
      "INFO:betfairlightweight.streaming.listener:[Register: 0]: marketSubscription\n",
      "WARNING:betfairlightweight.streaming.listener:[Listener: 0]: stream already registered, replacing data\n",
      "INFO:betfairlightweight.streaming.stream:[MarketStream: 0]: \"MarketStream\" created\n",
      "INFO:betfairlightweight.streaming.stream:[MarketStream: 0]: 1.177444832 added, 1 markets in cache\n",
      "INFO:betfairlightweight.streaming.stream:[MarketStream: 0]: 1.177444832 added, 1 markets in cache\n",
      "INFO:betfairlightweight.streaming.stream:[MarketStream: 0]: 1.177444832 added, 1 markets in cache\n",
      "INFO:betfairlightweight.streaming.stream:[MarketStream: 0]: 1.177444832 added, 1 markets in cache\n",
      "INFO:betfairlightweight.streaming.stream:[MarketStream: 0]: 1.177444832 added, 1 markets in cache\n",
      "INFO:betfairlightweight.streaming.stream:[MarketStream: 0]: 1.177444832 added, 1 markets in cache\n",
      "INFO:betfairlightweight.streaming.stream:[MarketStream: 0]: 1.177444832 added, 1 markets in cache\n",
      "INFO:betfairlightweight.streaming.stream:[MarketStream: 0]: 1.177444832 added, 1 markets in cache\n",
      "INFO:betfairlightweight.streaming.stream:[MarketStream: 0]: 1.177444832 added, 1 markets in cache\n",
      "INFO:betfairlightweight.streaming.stream:[MarketStream: 0]: 1.177444832 added, 1 markets in cache\n",
      "INFO:betfairlightweight.streaming.stream:[MarketStream: 0]: 1.177444832 added, 1 markets in cache\n",
      "INFO:betfairlightweight.streaming.stream:[MarketStream: 0]: 1.177444832 added, 1 markets in cache\n",
      "INFO:betfairlightweight.streaming.stream:[MarketStream: 0]: 1.177444832 added, 1 markets in cache\n"
     ]
    },
    {
     "name": "stdout",
     "output_type": "stream",
     "text": [
      "didnt find postplay results?\n"
     ]
    },
    {
     "name": "stderr",
     "output_type": "stream",
     "text": [
      "INFO:betfairlightweight.streaming.listener:[Register: 0]: marketSubscription\n",
      "WARNING:betfairlightweight.streaming.listener:[Listener: 0]: stream already registered, replacing data\n",
      "INFO:betfairlightweight.streaming.stream:[MarketStream: 0]: \"MarketStream\" created\n",
      "INFO:betfairlightweight.streaming.stream:[MarketStream: 0]: 1.177444807 added, 1 markets in cache\n",
      "INFO:betfairlightweight.streaming.stream:[MarketStream: 0]: 1.177444807 added, 1 markets in cache\n",
      "INFO:betfairlightweight.streaming.stream:[MarketStream: 0]: 1.177444807 added, 1 markets in cache\n",
      "INFO:betfairlightweight.streaming.stream:[MarketStream: 0]: 1.177444807 added, 1 markets in cache\n",
      "INFO:betfairlightweight.streaming.stream:[MarketStream: 0]: 1.177444807 added, 1 markets in cache\n",
      "INFO:betfairlightweight.streaming.stream:[MarketStream: 0]: 1.177444807 added, 1 markets in cache\n",
      "INFO:betfairlightweight.streaming.stream:[MarketStream: 0]: 1.177444807 added, 1 markets in cache\n",
      "INFO:betfairlightweight.streaming.stream:[MarketStream: 0]: 1.177444807 added, 1 markets in cache\n",
      "INFO:betfairlightweight.streaming.stream:[MarketStream: 0]: 1.177444807 added, 1 markets in cache\n",
      "INFO:betfairlightweight.streaming.stream:[MarketStream: 0]: 1.177444807 added, 1 markets in cache\n",
      "INFO:betfairlightweight.streaming.stream:[MarketStream: 0]: 1.177444807 added, 1 markets in cache\n",
      "INFO:betfairlightweight.streaming.stream:[MarketStream: 0]: 1.177444807 added, 1 markets in cache\n"
     ]
    },
    {
     "name": "stdout",
     "output_type": "stream",
     "text": [
      "didnt find postplay results?\n"
     ]
    },
    {
     "name": "stderr",
     "output_type": "stream",
     "text": [
      "INFO:betfairlightweight.streaming.listener:[Register: 0]: marketSubscription\n",
      "WARNING:betfairlightweight.streaming.listener:[Listener: 0]: stream already registered, replacing data\n",
      "INFO:betfairlightweight.streaming.stream:[MarketStream: 0]: \"MarketStream\" created\n",
      "INFO:betfairlightweight.streaming.stream:[MarketStream: 0]: 1.177447206 added, 1 markets in cache\n",
      "INFO:betfairlightweight.streaming.listener:[Register: 0]: marketSubscription\n",
      "WARNING:betfairlightweight.streaming.listener:[Listener: 0]: stream already registered, replacing data\n",
      "INFO:betfairlightweight.streaming.stream:[MarketStream: 0]: \"MarketStream\" created\n",
      "INFO:betfairlightweight.streaming.stream:[MarketStream: 0]: 1.177444808 added, 1 markets in cache\n",
      "INFO:betfairlightweight.streaming.stream:[MarketStream: 0]: 1.177444808 added, 1 markets in cache\n",
      "INFO:betfairlightweight.streaming.stream:[MarketStream: 0]: 1.177444808 added, 1 markets in cache\n",
      "INFO:betfairlightweight.streaming.stream:[MarketStream: 0]: 1.177444808 added, 1 markets in cache\n",
      "INFO:betfairlightweight.streaming.stream:[MarketStream: 0]: 1.177444808 added, 1 markets in cache\n",
      "INFO:betfairlightweight.streaming.stream:[MarketStream: 0]: 1.177444808 added, 1 markets in cache\n",
      "INFO:betfairlightweight.streaming.stream:[MarketStream: 0]: 1.177444808 added, 1 markets in cache\n",
      "INFO:betfairlightweight.streaming.stream:[MarketStream: 0]: 1.177444808 added, 1 markets in cache\n",
      "INFO:betfairlightweight.streaming.stream:[MarketStream: 0]: 1.177444808 added, 1 markets in cache\n",
      "INFO:betfairlightweight.streaming.stream:[MarketStream: 0]: 1.177444808 added, 1 markets in cache\n",
      "INFO:betfairlightweight.streaming.stream:[MarketStream: 0]: 1.177444808 added, 1 markets in cache\n",
      "INFO:betfairlightweight.streaming.stream:[MarketStream: 0]: 1.177444808 added, 1 markets in cache\n"
     ]
    },
    {
     "name": "stdout",
     "output_type": "stream",
     "text": [
      "didnt find postplay results?\n",
      "didnt find postplay results?\n"
     ]
    },
    {
     "name": "stderr",
     "output_type": "stream",
     "text": [
      "INFO:betfairlightweight.streaming.listener:[Register: 0]: marketSubscription\n",
      "WARNING:betfairlightweight.streaming.listener:[Listener: 0]: stream already registered, replacing data\n",
      "INFO:betfairlightweight.streaming.stream:[MarketStream: 0]: \"MarketStream\" created\n",
      "INFO:betfairlightweight.streaming.stream:[MarketStream: 0]: 1.177450938 added, 1 markets in cache\n"
     ]
    },
    {
     "name": "stdout",
     "output_type": "stream",
     "text": [
      "didnt find postplay results?\n"
     ]
    },
    {
     "name": "stderr",
     "output_type": "stream",
     "text": [
      "INFO:betfairlightweight.streaming.listener:[Register: 0]: marketSubscription\n",
      "WARNING:betfairlightweight.streaming.listener:[Listener: 0]: stream already registered, replacing data\n",
      "INFO:betfairlightweight.streaming.stream:[MarketStream: 0]: \"MarketStream\" created\n",
      "INFO:betfairlightweight.streaming.stream:[MarketStream: 0]: 1.177444831 added, 1 markets in cache\n",
      "INFO:betfairlightweight.streaming.stream:[MarketStream: 0]: 1.177444831 added, 1 markets in cache\n",
      "INFO:betfairlightweight.streaming.stream:[MarketStream: 0]: 1.177444831 added, 1 markets in cache\n",
      "INFO:betfairlightweight.streaming.stream:[MarketStream: 0]: 1.177444831 added, 1 markets in cache\n",
      "INFO:betfairlightweight.streaming.stream:[MarketStream: 0]: 1.177444831 added, 1 markets in cache\n",
      "INFO:betfairlightweight.streaming.stream:[MarketStream: 0]: 1.177444831 added, 1 markets in cache\n",
      "INFO:betfairlightweight.streaming.stream:[MarketStream: 0]: 1.177444831 added, 1 markets in cache\n",
      "INFO:betfairlightweight.streaming.stream:[MarketStream: 0]: 1.177444831 added, 1 markets in cache\n",
      "INFO:betfairlightweight.streaming.stream:[MarketStream: 0]: 1.177444831 added, 1 markets in cache\n",
      "INFO:betfairlightweight.streaming.stream:[MarketStream: 0]: 1.177444831 added, 1 markets in cache\n",
      "INFO:betfairlightweight.streaming.stream:[MarketStream: 0]: 1.177444831 added, 1 markets in cache\n",
      "INFO:betfairlightweight.streaming.stream:[MarketStream: 0]: 1.177444831 added, 1 markets in cache\n",
      "INFO:betfairlightweight.streaming.stream:[MarketStream: 0]: 1.177444831 added, 1 markets in cache\n"
     ]
    },
    {
     "name": "stdout",
     "output_type": "stream",
     "text": [
      "didnt find postplay results?\n"
     ]
    },
    {
     "name": "stderr",
     "output_type": "stream",
     "text": [
      "INFO:betfairlightweight.streaming.listener:[Register: 0]: marketSubscription\n",
      "WARNING:betfairlightweight.streaming.listener:[Listener: 0]: stream already registered, replacing data\n",
      "INFO:betfairlightweight.streaming.stream:[MarketStream: 0]: \"MarketStream\" created\n",
      "INFO:betfairlightweight.streaming.stream:[MarketStream: 0]: 1.177450940 added, 1 markets in cache\n",
      "INFO:betfairlightweight.streaming.stream:[MarketStream: 0]: 1.177450940 added, 1 markets in cache\n",
      "INFO:betfairlightweight.streaming.stream:[MarketStream: 0]: 1.177450940 added, 1 markets in cache\n",
      "INFO:betfairlightweight.streaming.stream:[MarketStream: 0]: 1.177450940 added, 1 markets in cache\n",
      "INFO:betfairlightweight.streaming.stream:[MarketStream: 0]: 1.177450940 added, 1 markets in cache\n",
      "INFO:betfairlightweight.streaming.stream:[MarketStream: 0]: 1.177450940 added, 1 markets in cache\n",
      "INFO:betfairlightweight.streaming.stream:[MarketStream: 0]: 1.177450940 added, 1 markets in cache\n",
      "INFO:betfairlightweight.streaming.stream:[MarketStream: 0]: 1.177450940 added, 1 markets in cache\n",
      "INFO:betfairlightweight.streaming.stream:[MarketStream: 0]: 1.177450940 added, 1 markets in cache\n",
      "INFO:betfairlightweight.streaming.stream:[MarketStream: 0]: 1.177450940 added, 1 markets in cache\n",
      "INFO:betfairlightweight.streaming.stream:[MarketStream: 0]: 1.177450940 added, 1 markets in cache\n",
      "INFO:betfairlightweight.streaming.stream:[MarketStream: 0]: 1.177450940 added, 1 markets in cache\n",
      "INFO:betfairlightweight.streaming.stream:[MarketStream: 0]: 1.177450940 added, 1 markets in cache\n"
     ]
    },
    {
     "name": "stdout",
     "output_type": "stream",
     "text": [
      "didnt find postplay results?\n"
     ]
    },
    {
     "name": "stderr",
     "output_type": "stream",
     "text": [
      "INFO:betfairlightweight.streaming.stream:[MarketStream: 0]: 1.177450940 added, 1 markets in cache\n",
      "INFO:betfairlightweight.streaming.stream:[MarketStream: 0]: 1.177450940 added, 1 markets in cache\n",
      "INFO:betfairlightweight.streaming.stream:[MarketStream: 0]: 1.177450940 added, 1 markets in cache\n",
      "INFO:betfairlightweight.streaming.listener:[Register: 0]: marketSubscription\n",
      "WARNING:betfairlightweight.streaming.listener:[Listener: 0]: stream already registered, replacing data\n",
      "INFO:betfairlightweight.streaming.stream:[MarketStream: 0]: \"MarketStream\" created\n",
      "INFO:betfairlightweight.streaming.stream:[MarketStream: 0]: 1.177450965 added, 1 markets in cache\n",
      "INFO:betfairlightweight.streaming.stream:[MarketStream: 0]: 1.177450965 added, 1 markets in cache\n",
      "INFO:betfairlightweight.streaming.stream:[MarketStream: 0]: 1.177450965 added, 1 markets in cache\n",
      "INFO:betfairlightweight.streaming.stream:[MarketStream: 0]: 1.177450965 added, 1 markets in cache\n",
      "INFO:betfairlightweight.streaming.stream:[MarketStream: 0]: 1.177450965 added, 1 markets in cache\n",
      "INFO:betfairlightweight.streaming.stream:[MarketStream: 0]: 1.177450965 added, 1 markets in cache\n",
      "INFO:betfairlightweight.streaming.stream:[MarketStream: 0]: 1.177450965 added, 1 markets in cache\n",
      "INFO:betfairlightweight.streaming.stream:[MarketStream: 0]: 1.177450965 added, 1 markets in cache\n",
      "INFO:betfairlightweight.streaming.stream:[MarketStream: 0]: 1.177450965 added, 1 markets in cache\n",
      "INFO:betfairlightweight.streaming.stream:[MarketStream: 0]: 1.177450965 added, 1 markets in cache\n",
      "INFO:betfairlightweight.streaming.stream:[MarketStream: 0]: 1.177450965 added, 1 markets in cache\n",
      "INFO:betfairlightweight.streaming.stream:[MarketStream: 0]: 1.177450965 added, 1 markets in cache\n",
      "INFO:betfairlightweight.streaming.stream:[MarketStream: 0]: 1.177450965 added, 1 markets in cache\n",
      "INFO:betfairlightweight.streaming.stream:[MarketStream: 0]: 1.177450965 added, 1 markets in cache\n"
     ]
    },
    {
     "name": "stdout",
     "output_type": "stream",
     "text": [
      "didnt find postplay results?\n"
     ]
    },
    {
     "name": "stderr",
     "output_type": "stream",
     "text": [
      "INFO:betfairlightweight.streaming.stream:[MarketStream: 0]: 1.177450965 added, 1 markets in cache\n",
      "INFO:betfairlightweight.streaming.stream:[MarketStream: 0]: 1.177450965 added, 1 markets in cache\n",
      "INFO:betfairlightweight.streaming.listener:[Register: 0]: marketSubscription\n",
      "WARNING:betfairlightweight.streaming.listener:[Listener: 0]: stream already registered, replacing data\n",
      "INFO:betfairlightweight.streaming.stream:[MarketStream: 0]: \"MarketStream\" created\n",
      "INFO:betfairlightweight.streaming.stream:[MarketStream: 0]: 1.177450950 added, 1 markets in cache\n",
      "INFO:betfairlightweight.streaming.stream:[MarketStream: 0]: 1.177450950 added, 1 markets in cache\n",
      "INFO:betfairlightweight.streaming.stream:[MarketStream: 0]: 1.177450950 added, 1 markets in cache\n",
      "INFO:betfairlightweight.streaming.stream:[MarketStream: 0]: 1.177450950 added, 1 markets in cache\n",
      "INFO:betfairlightweight.streaming.stream:[MarketStream: 0]: 1.177450950 added, 1 markets in cache\n",
      "INFO:betfairlightweight.streaming.stream:[MarketStream: 0]: 1.177450950 added, 1 markets in cache\n",
      "INFO:betfairlightweight.streaming.stream:[MarketStream: 0]: 1.177450950 added, 1 markets in cache\n",
      "INFO:betfairlightweight.streaming.stream:[MarketStream: 0]: 1.177450950 added, 1 markets in cache\n",
      "INFO:betfairlightweight.streaming.stream:[MarketStream: 0]: 1.177450950 added, 1 markets in cache\n",
      "INFO:betfairlightweight.streaming.stream:[MarketStream: 0]: 1.177450950 added, 1 markets in cache\n",
      "INFO:betfairlightweight.streaming.stream:[MarketStream: 0]: 1.177450950 added, 1 markets in cache\n",
      "INFO:betfairlightweight.streaming.stream:[MarketStream: 0]: 1.177450950 added, 1 markets in cache\n",
      "INFO:betfairlightweight.streaming.stream:[MarketStream: 0]: 1.177450950 added, 1 markets in cache\n"
     ]
    },
    {
     "name": "stdout",
     "output_type": "stream",
     "text": [
      "didnt find postplay results?\n"
     ]
    },
    {
     "name": "stderr",
     "output_type": "stream",
     "text": [
      "INFO:betfairlightweight.streaming.stream:[MarketStream: 0]: 1.177450950 added, 1 markets in cache\n",
      "INFO:betfairlightweight.streaming.listener:[Register: 0]: marketSubscription\n",
      "WARNING:betfairlightweight.streaming.listener:[Listener: 0]: stream already registered, replacing data\n",
      "INFO:betfairlightweight.streaming.stream:[MarketStream: 0]: \"MarketStream\" created\n",
      "INFO:betfairlightweight.streaming.stream:[MarketStream: 0]: 1.177450937 added, 1 markets in cache\n",
      "INFO:betfairlightweight.streaming.listener:[Register: 0]: marketSubscription\n",
      "WARNING:betfairlightweight.streaming.listener:[Listener: 0]: stream already registered, replacing data\n",
      "INFO:betfairlightweight.streaming.stream:[MarketStream: 0]: \"MarketStream\" created\n",
      "INFO:betfairlightweight.streaming.stream:[MarketStream: 0]: 1.177450936 added, 1 markets in cache\n",
      "INFO:betfairlightweight.streaming.stream:[MarketStream: 0]: 1.177450936 added, 1 markets in cache\n"
     ]
    },
    {
     "name": "stdout",
     "output_type": "stream",
     "text": [
      "didnt find postplay results?\n",
      "didnt find postplay results?\n"
     ]
    },
    {
     "name": "stderr",
     "output_type": "stream",
     "text": [
      "INFO:betfairlightweight.streaming.stream:[MarketStream: 0]: 1.177450936 added, 1 markets in cache\n",
      "INFO:betfairlightweight.streaming.listener:[Register: 0]: marketSubscription\n",
      "WARNING:betfairlightweight.streaming.listener:[Listener: 0]: stream already registered, replacing data\n",
      "INFO:betfairlightweight.streaming.stream:[MarketStream: 0]: \"MarketStream\" created\n",
      "INFO:betfairlightweight.streaming.stream:[MarketStream: 0]: 1.177450935 added, 1 markets in cache\n",
      "INFO:betfairlightweight.streaming.stream:[MarketStream: 0]: 1.177450935 added, 1 markets in cache\n",
      "INFO:betfairlightweight.streaming.stream:[MarketStream: 0]: 1.177450935 added, 1 markets in cache\n",
      "INFO:betfairlightweight.streaming.stream:[MarketStream: 0]: 1.177450935 added, 1 markets in cache\n",
      "INFO:betfairlightweight.streaming.stream:[MarketStream: 0]: 1.177450935 added, 1 markets in cache\n",
      "INFO:betfairlightweight.streaming.stream:[MarketStream: 0]: 1.177450935 added, 1 markets in cache\n",
      "INFO:betfairlightweight.streaming.stream:[MarketStream: 0]: 1.177450935 added, 1 markets in cache\n",
      "INFO:betfairlightweight.streaming.stream:[MarketStream: 0]: 1.177450935 added, 1 markets in cache\n",
      "INFO:betfairlightweight.streaming.stream:[MarketStream: 0]: 1.177450935 added, 1 markets in cache\n",
      "INFO:betfairlightweight.streaming.stream:[MarketStream: 0]: 1.177450935 added, 1 markets in cache\n",
      "INFO:betfairlightweight.streaming.stream:[MarketStream: 0]: 1.177450935 added, 1 markets in cache\n",
      "INFO:betfairlightweight.streaming.stream:[MarketStream: 0]: 1.177450935 added, 1 markets in cache\n",
      "INFO:betfairlightweight.streaming.stream:[MarketStream: 0]: 1.177450935 added, 1 markets in cache\n",
      "INFO:betfairlightweight.streaming.stream:[MarketStream: 0]: 1.177450935 added, 1 markets in cache\n"
     ]
    },
    {
     "name": "stdout",
     "output_type": "stream",
     "text": [
      "didnt find postplay results?\n"
     ]
    },
    {
     "name": "stderr",
     "output_type": "stream",
     "text": [
      "INFO:betfairlightweight.streaming.stream:[MarketStream: 0]: 1.177450935 added, 1 markets in cache\n",
      "INFO:betfairlightweight.streaming.listener:[Register: 0]: marketSubscription\n",
      "WARNING:betfairlightweight.streaming.listener:[Listener: 0]: stream already registered, replacing data\n",
      "INFO:betfairlightweight.streaming.stream:[MarketStream: 0]: \"MarketStream\" created\n",
      "INFO:betfairlightweight.streaming.stream:[MarketStream: 0]: 1.177450941 added, 1 markets in cache\n",
      "INFO:betfairlightweight.streaming.stream:[MarketStream: 0]: 1.177450941 added, 1 markets in cache\n",
      "INFO:betfairlightweight.streaming.stream:[MarketStream: 0]: 1.177450941 added, 1 markets in cache\n",
      "INFO:betfairlightweight.streaming.stream:[MarketStream: 0]: 1.177450941 added, 1 markets in cache\n",
      "INFO:betfairlightweight.streaming.stream:[MarketStream: 0]: 1.177450941 added, 1 markets in cache\n",
      "INFO:betfairlightweight.streaming.stream:[MarketStream: 0]: 1.177450941 added, 1 markets in cache\n"
     ]
    },
    {
     "name": "stdout",
     "output_type": "stream",
     "text": [
      "didnt find postplay results?\n"
     ]
    },
    {
     "name": "stderr",
     "output_type": "stream",
     "text": [
      "INFO:betfairlightweight.streaming.listener:[Register: 0]: marketSubscription\n",
      "WARNING:betfairlightweight.streaming.listener:[Listener: 0]: stream already registered, replacing data\n",
      "INFO:betfairlightweight.streaming.stream:[MarketStream: 0]: \"MarketStream\" created\n",
      "INFO:betfairlightweight.streaming.stream:[MarketStream: 0]: 1.177450939 added, 1 markets in cache\n",
      "INFO:betfairlightweight.streaming.listener:[Register: 0]: marketSubscription\n",
      "WARNING:betfairlightweight.streaming.listener:[Listener: 0]: stream already registered, replacing data\n",
      "INFO:betfairlightweight.streaming.stream:[MarketStream: 0]: \"MarketStream\" created\n",
      "INFO:betfairlightweight.streaming.stream:[MarketStream: 0]: 1.177450943 added, 1 markets in cache\n",
      "INFO:betfairlightweight.streaming.listener:[Register: 0]: marketSubscription\n",
      "WARNING:betfairlightweight.streaming.listener:[Listener: 0]: stream already registered, replacing data\n",
      "INFO:betfairlightweight.streaming.stream:[MarketStream: 0]: \"MarketStream\" created\n",
      "INFO:betfairlightweight.streaming.stream:[MarketStream: 0]: 1.177450946 added, 1 markets in cache\n"
     ]
    },
    {
     "name": "stdout",
     "output_type": "stream",
     "text": [
      "didnt find postplay results?\n",
      "didnt find postplay results?\n",
      "didnt find postplay results?\n"
     ]
    },
    {
     "name": "stderr",
     "output_type": "stream",
     "text": [
      "INFO:betfairlightweight.streaming.stream:[MarketStream: 0]: 1.177450946 added, 1 markets in cache\n",
      "INFO:betfairlightweight.streaming.stream:[MarketStream: 0]: 1.177450946 added, 1 markets in cache\n",
      "INFO:betfairlightweight.streaming.stream:[MarketStream: 0]: 1.177450946 added, 1 markets in cache\n",
      "INFO:betfairlightweight.streaming.stream:[MarketStream: 0]: 1.177450946 added, 1 markets in cache\n",
      "INFO:betfairlightweight.streaming.listener:[Register: 0]: marketSubscription\n",
      "WARNING:betfairlightweight.streaming.listener:[Listener: 0]: stream already registered, replacing data\n",
      "INFO:betfairlightweight.streaming.stream:[MarketStream: 0]: \"MarketStream\" created\n",
      "INFO:betfairlightweight.streaming.stream:[MarketStream: 0]: 1.177450948 added, 1 markets in cache\n",
      "INFO:betfairlightweight.streaming.listener:[Register: 0]: marketSubscription\n",
      "WARNING:betfairlightweight.streaming.listener:[Listener: 0]: stream already registered, replacing data\n",
      "INFO:betfairlightweight.streaming.stream:[MarketStream: 0]: \"MarketStream\" created\n",
      "INFO:betfairlightweight.streaming.stream:[MarketStream: 0]: 1.177450945 added, 1 markets in cache\n",
      "INFO:betfairlightweight.streaming.stream:[MarketStream: 0]: 1.177450945 added, 1 markets in cache\n",
      "INFO:betfairlightweight.streaming.stream:[MarketStream: 0]: 1.177450945 added, 1 markets in cache\n"
     ]
    },
    {
     "name": "stdout",
     "output_type": "stream",
     "text": [
      "didnt find postplay results?\n",
      "didnt find postplay results?\n"
     ]
    },
    {
     "name": "stderr",
     "output_type": "stream",
     "text": [
      "INFO:betfairlightweight.streaming.stream:[MarketStream: 0]: 1.177450945 added, 1 markets in cache\n",
      "INFO:betfairlightweight.streaming.stream:[MarketStream: 0]: 1.177450945 added, 1 markets in cache\n",
      "INFO:betfairlightweight.streaming.stream:[MarketStream: 0]: 1.177450945 added, 1 markets in cache\n",
      "INFO:betfairlightweight.streaming.stream:[MarketStream: 0]: 1.177450945 added, 1 markets in cache\n",
      "INFO:betfairlightweight.streaming.stream:[MarketStream: 0]: 1.177450945 added, 1 markets in cache\n",
      "INFO:betfairlightweight.streaming.listener:[Register: 0]: marketSubscription\n",
      "WARNING:betfairlightweight.streaming.listener:[Listener: 0]: stream already registered, replacing data\n",
      "INFO:betfairlightweight.streaming.stream:[MarketStream: 0]: \"MarketStream\" created\n",
      "INFO:betfairlightweight.streaming.stream:[MarketStream: 0]: 1.177450947 added, 1 markets in cache\n",
      "INFO:betfairlightweight.streaming.listener:[Register: 0]: marketSubscription\n",
      "WARNING:betfairlightweight.streaming.listener:[Listener: 0]: stream already registered, replacing data\n",
      "INFO:betfairlightweight.streaming.stream:[MarketStream: 0]: \"MarketStream\" created\n",
      "INFO:betfairlightweight.streaming.stream:[MarketStream: 0]: 1.177450949 added, 1 markets in cache\n",
      "INFO:betfairlightweight.streaming.listener:[Register: 0]: marketSubscription\n",
      "WARNING:betfairlightweight.streaming.listener:[Listener: 0]: stream already registered, replacing data\n",
      "INFO:betfairlightweight.streaming.stream:[MarketStream: 0]: \"MarketStream\" created\n",
      "INFO:betfairlightweight.streaming.stream:[MarketStream: 0]: 1.177450954 added, 1 markets in cache\n",
      "INFO:betfairlightweight.streaming.listener:[Register: 0]: marketSubscription\n",
      "WARNING:betfairlightweight.streaming.listener:[Listener: 0]: stream already registered, replacing data\n",
      "INFO:betfairlightweight.streaming.stream:[MarketStream: 0]: \"MarketStream\" created\n",
      "INFO:betfairlightweight.streaming.stream:[MarketStream: 0]: 1.177450959 added, 1 markets in cache\n",
      "INFO:betfairlightweight.streaming.listener:[Register: 0]: marketSubscription\n"
     ]
    },
    {
     "name": "stdout",
     "output_type": "stream",
     "text": [
      "didnt find postplay results?\n",
      "didnt find postplay results?\n",
      "didnt find postplay results?\n",
      "didnt find postplay results?\n",
      "didnt find postplay results?\n"
     ]
    },
    {
     "name": "stderr",
     "output_type": "stream",
     "text": [
      "WARNING:betfairlightweight.streaming.listener:[Listener: 0]: stream already registered, replacing data\n",
      "INFO:betfairlightweight.streaming.stream:[MarketStream: 0]: \"MarketStream\" created\n",
      "INFO:betfairlightweight.streaming.stream:[MarketStream: 0]: 1.177450956 added, 1 markets in cache\n",
      "INFO:betfairlightweight.streaming.stream:[MarketStream: 0]: 1.177450956 added, 1 markets in cache\n",
      "INFO:betfairlightweight.streaming.listener:[Register: 0]: marketSubscription\n",
      "WARNING:betfairlightweight.streaming.listener:[Listener: 0]: stream already registered, replacing data\n",
      "INFO:betfairlightweight.streaming.stream:[MarketStream: 0]: \"MarketStream\" created\n",
      "INFO:betfairlightweight.streaming.stream:[MarketStream: 0]: 1.177450966 added, 1 markets in cache\n",
      "INFO:betfairlightweight.streaming.stream:[MarketStream: 0]: 1.177450966 added, 1 markets in cache\n",
      "INFO:betfairlightweight.streaming.stream:[MarketStream: 0]: 1.177450966 added, 1 markets in cache\n",
      "INFO:betfairlightweight.streaming.listener:[Register: 0]: marketSubscription\n",
      "WARNING:betfairlightweight.streaming.listener:[Listener: 0]: stream already registered, replacing data\n",
      "INFO:betfairlightweight.streaming.stream:[MarketStream: 0]: \"MarketStream\" created\n",
      "INFO:betfairlightweight.streaming.stream:[MarketStream: 0]: 1.177450962 added, 1 markets in cache\n",
      "INFO:betfairlightweight.streaming.listener:[Register: 0]: marketSubscription\n",
      "WARNING:betfairlightweight.streaming.listener:[Listener: 0]: stream already registered, replacing data\n",
      "INFO:betfairlightweight.streaming.stream:[MarketStream: 0]: \"MarketStream\" created\n",
      "INFO:betfairlightweight.streaming.stream:[MarketStream: 0]: 1.177450955 added, 1 markets in cache\n",
      "INFO:betfairlightweight.streaming.stream:[MarketStream: 0]: 1.177450955 added, 1 markets in cache\n",
      "INFO:betfairlightweight.streaming.stream:[MarketStream: 0]: 1.177450955 added, 1 markets in cache\n",
      "INFO:betfairlightweight.streaming.stream:[MarketStream: 0]: 1.177450955 added, 1 markets in cache\n",
      "INFO:betfairlightweight.streaming.stream:[MarketStream: 0]: 1.177450955 added, 1 markets in cache\n",
      "INFO:betfairlightweight.streaming.stream:[MarketStream: 0]: 1.177450955 added, 1 markets in cache\n",
      "INFO:betfairlightweight.streaming.stream:[MarketStream: 0]: 1.177450955 added, 1 markets in cache\n",
      "INFO:betfairlightweight.streaming.stream:[MarketStream: 0]: 1.177450955 added, 1 markets in cache\n"
     ]
    },
    {
     "name": "stdout",
     "output_type": "stream",
     "text": [
      "didnt find postplay results?\n",
      "didnt find postplay results?\n",
      "didnt find postplay results?\n"
     ]
    },
    {
     "name": "stderr",
     "output_type": "stream",
     "text": [
      "INFO:betfairlightweight.streaming.stream:[MarketStream: 0]: 1.177450955 added, 1 markets in cache\n",
      "INFO:betfairlightweight.streaming.listener:[Register: 0]: marketSubscription\n",
      "WARNING:betfairlightweight.streaming.listener:[Listener: 0]: stream already registered, replacing data\n",
      "INFO:betfairlightweight.streaming.stream:[MarketStream: 0]: \"MarketStream\" created\n",
      "INFO:betfairlightweight.streaming.stream:[MarketStream: 0]: 1.177450967 added, 1 markets in cache\n",
      "INFO:betfairlightweight.streaming.listener:[Register: 0]: marketSubscription\n",
      "WARNING:betfairlightweight.streaming.listener:[Listener: 0]: stream already registered, replacing data\n",
      "INFO:betfairlightweight.streaming.stream:[MarketStream: 0]: \"MarketStream\" created\n",
      "INFO:betfairlightweight.streaming.stream:[MarketStream: 0]: 1.177450963 added, 1 markets in cache\n",
      "INFO:betfairlightweight.streaming.listener:[Register: 0]: marketSubscription\n",
      "WARNING:betfairlightweight.streaming.listener:[Listener: 0]: stream already registered, replacing data\n",
      "INFO:betfairlightweight.streaming.stream:[MarketStream: 0]: \"MarketStream\" created\n",
      "INFO:betfairlightweight.streaming.stream:[MarketStream: 0]: 1.177450968 added, 1 markets in cache\n",
      "INFO:betfairlightweight.streaming.listener:[Register: 0]: marketSubscription\n",
      "WARNING:betfairlightweight.streaming.listener:[Listener: 0]: stream already registered, replacing data\n",
      "INFO:betfairlightweight.streaming.stream:[MarketStream: 0]: \"MarketStream\" created\n",
      "INFO:betfairlightweight.streaming.stream:[MarketStream: 0]: 1.177450942 added, 1 markets in cache\n"
     ]
    },
    {
     "name": "stdout",
     "output_type": "stream",
     "text": [
      "didnt find postplay results?\n",
      "didnt find postplay results?\n",
      "didnt find postplay results?\n",
      "didnt find postplay results?\n",
      "didnt find postplay results?\n"
     ]
    },
    {
     "name": "stderr",
     "output_type": "stream",
     "text": [
      "INFO:betfairlightweight.streaming.listener:[Register: 0]: marketSubscription\n",
      "WARNING:betfairlightweight.streaming.listener:[Listener: 0]: stream already registered, replacing data\n",
      "INFO:betfairlightweight.streaming.stream:[MarketStream: 0]: \"MarketStream\" created\n",
      "INFO:betfairlightweight.streaming.stream:[MarketStream: 0]: 1.177450969 added, 1 markets in cache\n",
      "INFO:betfairlightweight.streaming.listener:[Register: 0]: marketSubscription\n",
      "WARNING:betfairlightweight.streaming.listener:[Listener: 0]: stream already registered, replacing data\n",
      "INFO:betfairlightweight.streaming.stream:[MarketStream: 0]: \"MarketStream\" created\n",
      "INFO:betfairlightweight.streaming.stream:[MarketStream: 0]: 1.177450944 added, 1 markets in cache\n",
      "INFO:betfairlightweight.streaming.listener:[Register: 0]: marketSubscription\n",
      "WARNING:betfairlightweight.streaming.listener:[Listener: 0]: stream already registered, replacing data\n",
      "INFO:betfairlightweight.streaming.stream:[MarketStream: 0]: \"MarketStream\" created\n",
      "INFO:betfairlightweight.streaming.stream:[MarketStream: 0]: 1.177450953 added, 1 markets in cache\n",
      "INFO:betfairlightweight.streaming.stream:[MarketStream: 0]: 1.177450953 added, 1 markets in cache\n",
      "INFO:betfairlightweight.streaming.listener:[Register: 0]: marketSubscription\n",
      "WARNING:betfairlightweight.streaming.listener:[Listener: 0]: stream already registered, replacing data\n",
      "INFO:betfairlightweight.streaming.stream:[MarketStream: 0]: \"MarketStream\" created\n",
      "INFO:betfairlightweight.streaming.stream:[MarketStream: 0]: 1.177450957 added, 1 markets in cache\n"
     ]
    },
    {
     "name": "stdout",
     "output_type": "stream",
     "text": [
      "didnt find postplay results?\n",
      "didnt find postplay results?\n",
      "didnt find postplay results?\n"
     ]
    },
    {
     "name": "stderr",
     "output_type": "stream",
     "text": [
      "INFO:betfairlightweight.streaming.listener:[Register: 0]: marketSubscription\n",
      "WARNING:betfairlightweight.streaming.listener:[Listener: 0]: stream already registered, replacing data\n",
      "INFO:betfairlightweight.streaming.stream:[MarketStream: 0]: \"MarketStream\" created\n",
      "INFO:betfairlightweight.streaming.stream:[MarketStream: 0]: 1.177450951 added, 1 markets in cache\n",
      "INFO:betfairlightweight.streaming.stream:[MarketStream: 0]: 1.177450951 added, 1 markets in cache\n"
     ]
    },
    {
     "name": "stdout",
     "output_type": "stream",
     "text": [
      "didnt find postplay results?\n"
     ]
    },
    {
     "name": "stderr",
     "output_type": "stream",
     "text": [
      "INFO:betfairlightweight.streaming.listener:[Register: 0]: marketSubscription\n",
      "WARNING:betfairlightweight.streaming.listener:[Listener: 0]: stream already registered, replacing data\n",
      "INFO:betfairlightweight.streaming.stream:[MarketStream: 0]: \"MarketStream\" created\n",
      "INFO:betfairlightweight.streaming.stream:[MarketStream: 0]: 1.177450958 added, 1 markets in cache\n",
      "INFO:betfairlightweight.streaming.listener:[Register: 0]: marketSubscription\n",
      "WARNING:betfairlightweight.streaming.listener:[Listener: 0]: stream already registered, replacing data\n",
      "INFO:betfairlightweight.streaming.stream:[MarketStream: 0]: \"MarketStream\" created\n",
      "INFO:betfairlightweight.streaming.stream:[MarketStream: 0]: 1.177450964 added, 1 markets in cache\n",
      "INFO:betfairlightweight.streaming.listener:[Register: 0]: marketSubscription\n",
      "WARNING:betfairlightweight.streaming.listener:[Listener: 0]: stream already registered, replacing data\n",
      "INFO:betfairlightweight.streaming.stream:[MarketStream: 0]: \"MarketStream\" created\n",
      "INFO:betfairlightweight.streaming.stream:[MarketStream: 0]: 1.177450961 added, 1 markets in cache\n",
      "INFO:betfairlightweight.streaming.stream:[MarketStream: 0]: 1.177450961 added, 1 markets in cache\n"
     ]
    },
    {
     "name": "stdout",
     "output_type": "stream",
     "text": [
      "didnt find postplay results?\n",
      "didnt find postplay results?\n",
      "didnt find postplay results?\n"
     ]
    },
    {
     "name": "stderr",
     "output_type": "stream",
     "text": [
      "INFO:betfairlightweight.streaming.stream:[MarketStream: 0]: 1.177450961 added, 1 markets in cache\n",
      "INFO:betfairlightweight.streaming.listener:[Register: 0]: marketSubscription\n",
      "WARNING:betfairlightweight.streaming.listener:[Listener: 0]: stream already registered, replacing data\n",
      "INFO:betfairlightweight.streaming.stream:[MarketStream: 0]: \"MarketStream\" created\n",
      "INFO:betfairlightweight.streaming.stream:[MarketStream: 0]: 1.177450960 added, 1 markets in cache\n",
      "INFO:betfairlightweight.streaming.stream:[MarketStream: 0]: 1.177450960 added, 1 markets in cache\n",
      "INFO:betfairlightweight.streaming.stream:[MarketStream: 0]: 1.177450960 added, 1 markets in cache\n",
      "INFO:betfairlightweight.streaming.stream:[MarketStream: 0]: 1.177450960 added, 1 markets in cache\n",
      "INFO:betfairlightweight.streaming.stream:[MarketStream: 0]: 1.177450960 added, 1 markets in cache\n",
      "INFO:betfairlightweight.streaming.stream:[MarketStream: 0]: 1.177450960 added, 1 markets in cache\n",
      "INFO:betfairlightweight.streaming.stream:[MarketStream: 0]: 1.177450960 added, 1 markets in cache\n",
      "INFO:betfairlightweight.streaming.stream:[MarketStream: 0]: 1.177450960 added, 1 markets in cache\n",
      "INFO:betfairlightweight.streaming.stream:[MarketStream: 0]: 1.177450960 added, 1 markets in cache\n",
      "INFO:betfairlightweight.streaming.stream:[MarketStream: 0]: 1.177450960 added, 1 markets in cache\n",
      "INFO:betfairlightweight.streaming.stream:[MarketStream: 0]: 1.177450960 added, 1 markets in cache\n",
      "INFO:betfairlightweight.streaming.stream:[MarketStream: 0]: 1.177450960 added, 1 markets in cache\n",
      "INFO:betfairlightweight.streaming.stream:[MarketStream: 0]: 1.177450960 added, 1 markets in cache\n"
     ]
    },
    {
     "name": "stdout",
     "output_type": "stream",
     "text": [
      "didnt find postplay results?\n"
     ]
    },
    {
     "name": "stderr",
     "output_type": "stream",
     "text": [
      "INFO:betfairlightweight.streaming.stream:[MarketStream: 0]: 1.177450960 added, 1 markets in cache\n",
      "INFO:betfairlightweight.streaming.listener:[Register: 0]: marketSubscription\n",
      "WARNING:betfairlightweight.streaming.listener:[Listener: 0]: stream already registered, replacing data\n",
      "INFO:betfairlightweight.streaming.stream:[MarketStream: 0]: \"MarketStream\" created\n",
      "INFO:betfairlightweight.streaming.stream:[MarketStream: 0]: 1.177447174 added, 1 markets in cache\n",
      "INFO:betfairlightweight.streaming.listener:[Register: 0]: marketSubscription\n",
      "WARNING:betfairlightweight.streaming.listener:[Listener: 0]: stream already registered, replacing data\n",
      "INFO:betfairlightweight.streaming.stream:[MarketStream: 0]: \"MarketStream\" created\n",
      "INFO:betfairlightweight.streaming.stream:[MarketStream: 0]: 1.177447157 added, 1 markets in cache\n",
      "INFO:betfairlightweight.streaming.stream:[MarketStream: 0]: 1.177447157 added, 1 markets in cache\n",
      "INFO:betfairlightweight.streaming.stream:[MarketStream: 0]: 1.177447157 added, 1 markets in cache\n",
      "INFO:betfairlightweight.streaming.stream:[MarketStream: 0]: 1.177447157 added, 1 markets in cache\n",
      "INFO:betfairlightweight.streaming.stream:[MarketStream: 0]: 1.177447157 added, 1 markets in cache\n",
      "INFO:betfairlightweight.streaming.stream:[MarketStream: 0]: 1.177447157 added, 1 markets in cache\n",
      "INFO:betfairlightweight.streaming.stream:[MarketStream: 0]: 1.177447157 added, 1 markets in cache\n",
      "INFO:betfairlightweight.streaming.stream:[MarketStream: 0]: 1.177447157 added, 1 markets in cache\n",
      "INFO:betfairlightweight.streaming.stream:[MarketStream: 0]: 1.177447157 added, 1 markets in cache\n",
      "INFO:betfairlightweight.streaming.stream:[MarketStream: 0]: 1.177447157 added, 1 markets in cache\n",
      "INFO:betfairlightweight.streaming.stream:[MarketStream: 0]: 1.177447157 added, 1 markets in cache\n",
      "INFO:betfairlightweight.streaming.stream:[MarketStream: 0]: 1.177447157 added, 1 markets in cache\n",
      "INFO:betfairlightweight.streaming.stream:[MarketStream: 0]: 1.177447157 added, 1 markets in cache\n"
     ]
    },
    {
     "name": "stdout",
     "output_type": "stream",
     "text": [
      "didnt find postplay results?\n",
      "didnt find postplay results?\n"
     ]
    },
    {
     "name": "stderr",
     "output_type": "stream",
     "text": [
      "INFO:betfairlightweight.streaming.listener:[Register: 0]: marketSubscription\n",
      "WARNING:betfairlightweight.streaming.listener:[Listener: 0]: stream already registered, replacing data\n",
      "INFO:betfairlightweight.streaming.stream:[MarketStream: 0]: \"MarketStream\" created\n",
      "INFO:betfairlightweight.streaming.stream:[MarketStream: 0]: 1.177447156 added, 1 markets in cache\n",
      "INFO:betfairlightweight.streaming.stream:[MarketStream: 0]: 1.177447156 added, 1 markets in cache\n",
      "INFO:betfairlightweight.streaming.stream:[MarketStream: 0]: 1.177447156 added, 1 markets in cache\n",
      "INFO:betfairlightweight.streaming.stream:[MarketStream: 0]: 1.177447156 added, 1 markets in cache\n",
      "INFO:betfairlightweight.streaming.stream:[MarketStream: 0]: 1.177447156 added, 1 markets in cache\n",
      "INFO:betfairlightweight.streaming.stream:[MarketStream: 0]: 1.177447156 added, 1 markets in cache\n",
      "INFO:betfairlightweight.streaming.stream:[MarketStream: 0]: 1.177447156 added, 1 markets in cache\n",
      "INFO:betfairlightweight.streaming.stream:[MarketStream: 0]: 1.177447156 added, 1 markets in cache\n",
      "INFO:betfairlightweight.streaming.stream:[MarketStream: 0]: 1.177447156 added, 1 markets in cache\n",
      "INFO:betfairlightweight.streaming.stream:[MarketStream: 0]: 1.177447156 added, 1 markets in cache\n",
      "INFO:betfairlightweight.streaming.stream:[MarketStream: 0]: 1.177447156 added, 1 markets in cache\n",
      "INFO:betfairlightweight.streaming.stream:[MarketStream: 0]: 1.177447156 added, 1 markets in cache\n",
      "INFO:betfairlightweight.streaming.stream:[MarketStream: 0]: 1.177447156 added, 1 markets in cache\n",
      "INFO:betfairlightweight.streaming.stream:[MarketStream: 0]: 1.177447156 added, 1 markets in cache\n"
     ]
    },
    {
     "name": "stdout",
     "output_type": "stream",
     "text": [
      "didnt find postplay results?\n"
     ]
    },
    {
     "name": "stderr",
     "output_type": "stream",
     "text": [
      "INFO:betfairlightweight.streaming.listener:[Register: 0]: marketSubscription\n",
      "WARNING:betfairlightweight.streaming.listener:[Listener: 0]: stream already registered, replacing data\n",
      "INFO:betfairlightweight.streaming.stream:[MarketStream: 0]: \"MarketStream\" created\n",
      "INFO:betfairlightweight.streaming.stream:[MarketStream: 0]: 1.177482125 added, 1 markets in cache\n"
     ]
    },
    {
     "name": "stdout",
     "output_type": "stream",
     "text": [
      "didnt find postplay results?\n"
     ]
    },
    {
     "name": "stderr",
     "output_type": "stream",
     "text": [
      "INFO:betfairlightweight.streaming.listener:[Register: 0]: marketSubscription\n",
      "WARNING:betfairlightweight.streaming.listener:[Listener: 0]: stream already registered, replacing data\n",
      "INFO:betfairlightweight.streaming.stream:[MarketStream: 0]: \"MarketStream\" created\n",
      "INFO:betfairlightweight.streaming.stream:[MarketStream: 0]: 1.177482124 added, 1 markets in cache\n",
      "INFO:betfairlightweight.streaming.stream:[MarketStream: 0]: 1.177482124 added, 1 markets in cache\n",
      "INFO:betfairlightweight.streaming.stream:[MarketStream: 0]: 1.177482124 added, 1 markets in cache\n",
      "INFO:betfairlightweight.streaming.stream:[MarketStream: 0]: 1.177482124 added, 1 markets in cache\n",
      "INFO:betfairlightweight.streaming.stream:[MarketStream: 0]: 1.177482124 added, 1 markets in cache\n",
      "INFO:betfairlightweight.streaming.stream:[MarketStream: 0]: 1.177482124 added, 1 markets in cache\n",
      "INFO:betfairlightweight.streaming.stream:[MarketStream: 0]: 1.177482124 added, 1 markets in cache\n",
      "INFO:betfairlightweight.streaming.stream:[MarketStream: 0]: 1.177482124 added, 1 markets in cache\n"
     ]
    },
    {
     "name": "stdout",
     "output_type": "stream",
     "text": [
      "didnt find postplay results?\n"
     ]
    },
    {
     "name": "stderr",
     "output_type": "stream",
     "text": [
      "INFO:betfairlightweight.streaming.listener:[Register: 0]: marketSubscription\n",
      "WARNING:betfairlightweight.streaming.listener:[Listener: 0]: stream already registered, replacing data\n",
      "INFO:betfairlightweight.streaming.stream:[MarketStream: 0]: \"MarketStream\" created\n",
      "INFO:betfairlightweight.streaming.stream:[MarketStream: 0]: 1.177447190 added, 1 markets in cache\n",
      "INFO:betfairlightweight.streaming.stream:[MarketStream: 0]: 1.177447190 added, 1 markets in cache\n",
      "INFO:betfairlightweight.streaming.stream:[MarketStream: 0]: 1.177447190 added, 1 markets in cache\n",
      "INFO:betfairlightweight.streaming.stream:[MarketStream: 0]: 1.177447190 added, 1 markets in cache\n",
      "INFO:betfairlightweight.streaming.stream:[MarketStream: 0]: 1.177447190 added, 1 markets in cache\n",
      "INFO:betfairlightweight.streaming.stream:[MarketStream: 0]: 1.177447190 added, 1 markets in cache\n",
      "INFO:betfairlightweight.streaming.stream:[MarketStream: 0]: 1.177447190 added, 1 markets in cache\n",
      "INFO:betfairlightweight.streaming.stream:[MarketStream: 0]: 1.177447190 added, 1 markets in cache\n",
      "INFO:betfairlightweight.streaming.stream:[MarketStream: 0]: 1.177447190 added, 1 markets in cache\n",
      "INFO:betfairlightweight.streaming.stream:[MarketStream: 0]: 1.177447190 added, 1 markets in cache\n",
      "INFO:betfairlightweight.streaming.stream:[MarketStream: 0]: 1.177447190 added, 1 markets in cache\n",
      "INFO:betfairlightweight.streaming.stream:[MarketStream: 0]: 1.177447190 added, 1 markets in cache\n",
      "INFO:betfairlightweight.streaming.stream:[MarketStream: 0]: 1.177447190 added, 1 markets in cache\n",
      "INFO:betfairlightweight.streaming.stream:[MarketStream: 0]: 1.177447190 added, 1 markets in cache\n",
      "INFO:betfairlightweight.streaming.stream:[MarketStream: 0]: 1.177447190 added, 1 markets in cache\n"
     ]
    },
    {
     "name": "stdout",
     "output_type": "stream",
     "text": [
      "didnt find postplay results?\n"
     ]
    },
    {
     "name": "stderr",
     "output_type": "stream",
     "text": [
      "INFO:betfairlightweight.streaming.listener:[Register: 0]: marketSubscription\n",
      "WARNING:betfairlightweight.streaming.listener:[Listener: 0]: stream already registered, replacing data\n",
      "INFO:betfairlightweight.streaming.stream:[MarketStream: 0]: \"MarketStream\" created\n",
      "INFO:betfairlightweight.streaming.stream:[MarketStream: 0]: 1.177447189 added, 1 markets in cache\n",
      "INFO:betfairlightweight.streaming.stream:[MarketStream: 0]: 1.177447189 added, 1 markets in cache\n",
      "INFO:betfairlightweight.streaming.stream:[MarketStream: 0]: 1.177447189 added, 1 markets in cache\n",
      "INFO:betfairlightweight.streaming.stream:[MarketStream: 0]: 1.177447189 added, 1 markets in cache\n",
      "INFO:betfairlightweight.streaming.stream:[MarketStream: 0]: 1.177447189 added, 1 markets in cache\n",
      "INFO:betfairlightweight.streaming.stream:[MarketStream: 0]: 1.177447189 added, 1 markets in cache\n",
      "INFO:betfairlightweight.streaming.stream:[MarketStream: 0]: 1.177447189 added, 1 markets in cache\n",
      "INFO:betfairlightweight.streaming.stream:[MarketStream: 0]: 1.177447189 added, 1 markets in cache\n",
      "INFO:betfairlightweight.streaming.stream:[MarketStream: 0]: 1.177447189 added, 1 markets in cache\n",
      "INFO:betfairlightweight.streaming.stream:[MarketStream: 0]: 1.177447189 added, 1 markets in cache\n",
      "INFO:betfairlightweight.streaming.stream:[MarketStream: 0]: 1.177447189 added, 1 markets in cache\n",
      "INFO:betfairlightweight.streaming.stream:[MarketStream: 0]: 1.177447189 added, 1 markets in cache\n",
      "INFO:betfairlightweight.streaming.stream:[MarketStream: 0]: 1.177447189 added, 1 markets in cache\n"
     ]
    },
    {
     "name": "stdout",
     "output_type": "stream",
     "text": [
      "didnt find postplay results?\n"
     ]
    },
    {
     "name": "stderr",
     "output_type": "stream",
     "text": [
      "INFO:betfairlightweight.streaming.listener:[Register: 0]: marketSubscription\n",
      "WARNING:betfairlightweight.streaming.listener:[Listener: 0]: stream already registered, replacing data\n",
      "INFO:betfairlightweight.streaming.stream:[MarketStream: 0]: \"MarketStream\" created\n",
      "INFO:betfairlightweight.streaming.stream:[MarketStream: 0]: 1.177444810 added, 1 markets in cache\n",
      "INFO:betfairlightweight.streaming.stream:[MarketStream: 0]: 1.177444810 added, 1 markets in cache\n",
      "INFO:betfairlightweight.streaming.stream:[MarketStream: 0]: 1.177444810 added, 1 markets in cache\n",
      "INFO:betfairlightweight.streaming.stream:[MarketStream: 0]: 1.177444810 added, 1 markets in cache\n",
      "INFO:betfairlightweight.streaming.stream:[MarketStream: 0]: 1.177444810 added, 1 markets in cache\n",
      "INFO:betfairlightweight.streaming.stream:[MarketStream: 0]: 1.177444810 added, 1 markets in cache\n",
      "INFO:betfairlightweight.streaming.stream:[MarketStream: 0]: 1.177444810 added, 1 markets in cache\n",
      "INFO:betfairlightweight.streaming.stream:[MarketStream: 0]: 1.177444810 added, 1 markets in cache\n",
      "INFO:betfairlightweight.streaming.stream:[MarketStream: 0]: 1.177444810 added, 1 markets in cache\n",
      "INFO:betfairlightweight.streaming.stream:[MarketStream: 0]: 1.177444810 added, 1 markets in cache\n",
      "INFO:betfairlightweight.streaming.stream:[MarketStream: 0]: 1.177444810 added, 1 markets in cache\n"
     ]
    },
    {
     "name": "stdout",
     "output_type": "stream",
     "text": [
      "didnt find postplay results?\n"
     ]
    },
    {
     "name": "stderr",
     "output_type": "stream",
     "text": [
      "INFO:betfairlightweight.streaming.listener:[Register: 0]: marketSubscription\n",
      "WARNING:betfairlightweight.streaming.listener:[Listener: 0]: stream already registered, replacing data\n",
      "INFO:betfairlightweight.streaming.stream:[MarketStream: 0]: \"MarketStream\" created\n",
      "INFO:betfairlightweight.streaming.stream:[MarketStream: 0]: 1.177444834 added, 1 markets in cache\n",
      "INFO:betfairlightweight.streaming.stream:[MarketStream: 0]: 1.177444834 added, 1 markets in cache\n",
      "INFO:betfairlightweight.streaming.stream:[MarketStream: 0]: 1.177444834 added, 1 markets in cache\n",
      "INFO:betfairlightweight.streaming.stream:[MarketStream: 0]: 1.177444834 added, 1 markets in cache\n",
      "INFO:betfairlightweight.streaming.stream:[MarketStream: 0]: 1.177444834 added, 1 markets in cache\n",
      "INFO:betfairlightweight.streaming.stream:[MarketStream: 0]: 1.177444834 added, 1 markets in cache\n",
      "INFO:betfairlightweight.streaming.stream:[MarketStream: 0]: 1.177444834 added, 1 markets in cache\n",
      "INFO:betfairlightweight.streaming.stream:[MarketStream: 0]: 1.177444834 added, 1 markets in cache\n",
      "INFO:betfairlightweight.streaming.stream:[MarketStream: 0]: 1.177444834 added, 1 markets in cache\n",
      "INFO:betfairlightweight.streaming.stream:[MarketStream: 0]: 1.177444834 added, 1 markets in cache\n",
      "INFO:betfairlightweight.streaming.stream:[MarketStream: 0]: 1.177444834 added, 1 markets in cache\n"
     ]
    },
    {
     "name": "stdout",
     "output_type": "stream",
     "text": [
      "didnt find postplay results?\n"
     ]
    },
    {
     "name": "stderr",
     "output_type": "stream",
     "text": [
      "INFO:betfairlightweight.streaming.listener:[Register: 0]: marketSubscription\n",
      "WARNING:betfairlightweight.streaming.listener:[Listener: 0]: stream already registered, replacing data\n",
      "INFO:betfairlightweight.streaming.stream:[MarketStream: 0]: \"MarketStream\" created\n",
      "INFO:betfairlightweight.streaming.stream:[MarketStream: 0]: 1.177444833 added, 1 markets in cache\n",
      "INFO:betfairlightweight.streaming.stream:[MarketStream: 0]: 1.177444833 added, 1 markets in cache\n",
      "INFO:betfairlightweight.streaming.stream:[MarketStream: 0]: 1.177444833 added, 1 markets in cache\n",
      "INFO:betfairlightweight.streaming.stream:[MarketStream: 0]: 1.177444833 added, 1 markets in cache\n",
      "INFO:betfairlightweight.streaming.stream:[MarketStream: 0]: 1.177444833 added, 1 markets in cache\n",
      "INFO:betfairlightweight.streaming.stream:[MarketStream: 0]: 1.177444833 added, 1 markets in cache\n",
      "INFO:betfairlightweight.streaming.stream:[MarketStream: 0]: 1.177444833 added, 1 markets in cache\n",
      "INFO:betfairlightweight.streaming.stream:[MarketStream: 0]: 1.177444833 added, 1 markets in cache\n",
      "INFO:betfairlightweight.streaming.stream:[MarketStream: 0]: 1.177444833 added, 1 markets in cache\n",
      "INFO:betfairlightweight.streaming.stream:[MarketStream: 0]: 1.177444833 added, 1 markets in cache\n",
      "INFO:betfairlightweight.streaming.stream:[MarketStream: 0]: 1.177444833 added, 1 markets in cache\n",
      "INFO:betfairlightweight.streaming.stream:[MarketStream: 0]: 1.177444833 added, 1 markets in cache\n"
     ]
    },
    {
     "name": "stdout",
     "output_type": "stream",
     "text": [
      "didnt find postplay results?\n"
     ]
    },
    {
     "name": "stderr",
     "output_type": "stream",
     "text": [
      "INFO:betfairlightweight.streaming.listener:[Register: 0]: marketSubscription\n",
      "WARNING:betfairlightweight.streaming.listener:[Listener: 0]: stream already registered, replacing data\n",
      "INFO:betfairlightweight.streaming.stream:[MarketStream: 0]: \"MarketStream\" created\n",
      "INFO:betfairlightweight.streaming.stream:[MarketStream: 0]: 1.177444809 added, 1 markets in cache\n",
      "INFO:betfairlightweight.streaming.stream:[MarketStream: 0]: 1.177444809 added, 1 markets in cache\n",
      "INFO:betfairlightweight.streaming.stream:[MarketStream: 0]: 1.177444809 added, 1 markets in cache\n",
      "INFO:betfairlightweight.streaming.stream:[MarketStream: 0]: 1.177444809 added, 1 markets in cache\n",
      "INFO:betfairlightweight.streaming.stream:[MarketStream: 0]: 1.177444809 added, 1 markets in cache\n",
      "INFO:betfairlightweight.streaming.stream:[MarketStream: 0]: 1.177444809 added, 1 markets in cache\n",
      "INFO:betfairlightweight.streaming.stream:[MarketStream: 0]: 1.177444809 added, 1 markets in cache\n",
      "INFO:betfairlightweight.streaming.stream:[MarketStream: 0]: 1.177444809 added, 1 markets in cache\n",
      "INFO:betfairlightweight.streaming.stream:[MarketStream: 0]: 1.177444809 added, 1 markets in cache\n",
      "INFO:betfairlightweight.streaming.stream:[MarketStream: 0]: 1.177444809 added, 1 markets in cache\n",
      "INFO:betfairlightweight.streaming.stream:[MarketStream: 0]: 1.177444809 added, 1 markets in cache\n",
      "INFO:betfairlightweight.streaming.stream:[MarketStream: 0]: 1.177444809 added, 1 markets in cache\n",
      "INFO:betfairlightweight.streaming.stream:[MarketStream: 0]: 1.177444809 added, 1 markets in cache\n",
      "INFO:betfairlightweight.streaming.stream:[MarketStream: 0]: 1.177444809 added, 1 markets in cache\n"
     ]
    },
    {
     "name": "stdout",
     "output_type": "stream",
     "text": [
      "didnt find postplay results?\n"
     ]
    },
    {
     "name": "stderr",
     "output_type": "stream",
     "text": [
      "INFO:betfairlightweight.streaming.listener:[Register: 0]: marketSubscription\n",
      "WARNING:betfairlightweight.streaming.listener:[Listener: 0]: stream already registered, replacing data\n",
      "INFO:betfairlightweight.streaming.stream:[MarketStream: 0]: \"MarketStream\" created\n",
      "INFO:betfairlightweight.streaming.stream:[MarketStream: 0]: 1.177447207 added, 1 markets in cache\n",
      "INFO:betfairlightweight.streaming.listener:[Register: 0]: marketSubscription\n",
      "WARNING:betfairlightweight.streaming.listener:[Listener: 0]: stream already registered, replacing data\n",
      "INFO:betfairlightweight.streaming.stream:[MarketStream: 0]: \"MarketStream\" created\n",
      "INFO:betfairlightweight.streaming.stream:[MarketStream: 0]: 1.177447175 added, 1 markets in cache\n"
     ]
    },
    {
     "name": "stdout",
     "output_type": "stream",
     "text": [
      "didnt find postplay results?\n",
      "didnt find postplay results?\n"
     ]
    },
    {
     "name": "stderr",
     "output_type": "stream",
     "text": [
      "INFO:betfairlightweight.streaming.listener:[Register: 0]: marketSubscription\n",
      "WARNING:betfairlightweight.streaming.listener:[Listener: 0]: stream already registered, replacing data\n",
      "INFO:betfairlightweight.streaming.stream:[MarketStream: 0]: \"MarketStream\" created\n",
      "INFO:betfairlightweight.streaming.stream:[MarketStream: 0]: 1.177447158 added, 1 markets in cache\n",
      "INFO:betfairlightweight.streaming.stream:[MarketStream: 0]: 1.177447158 added, 1 markets in cache\n",
      "INFO:betfairlightweight.streaming.stream:[MarketStream: 0]: 1.177447158 added, 1 markets in cache\n",
      "INFO:betfairlightweight.streaming.stream:[MarketStream: 0]: 1.177447158 added, 1 markets in cache\n",
      "INFO:betfairlightweight.streaming.stream:[MarketStream: 0]: 1.177447158 added, 1 markets in cache\n",
      "INFO:betfairlightweight.streaming.stream:[MarketStream: 0]: 1.177447158 added, 1 markets in cache\n",
      "INFO:betfairlightweight.streaming.stream:[MarketStream: 0]: 1.177447158 added, 1 markets in cache\n",
      "INFO:betfairlightweight.streaming.stream:[MarketStream: 0]: 1.177447158 added, 1 markets in cache\n",
      "INFO:betfairlightweight.streaming.stream:[MarketStream: 0]: 1.177447158 added, 1 markets in cache\n",
      "INFO:betfairlightweight.streaming.stream:[MarketStream: 0]: 1.177447158 added, 1 markets in cache\n",
      "INFO:betfairlightweight.streaming.stream:[MarketStream: 0]: 1.177447158 added, 1 markets in cache\n"
     ]
    },
    {
     "name": "stdout",
     "output_type": "stream",
     "text": [
      "didnt find postplay results?\n"
     ]
    },
    {
     "name": "stderr",
     "output_type": "stream",
     "text": [
      "INFO:betfairlightweight.streaming.listener:[Register: 0]: marketSubscription\n",
      "WARNING:betfairlightweight.streaming.listener:[Listener: 0]: stream already registered, replacing data\n",
      "INFO:betfairlightweight.streaming.stream:[MarketStream: 0]: \"MarketStream\" created\n",
      "INFO:betfairlightweight.streaming.stream:[MarketStream: 0]: 1.177447159 added, 1 markets in cache\n",
      "INFO:betfairlightweight.streaming.stream:[MarketStream: 0]: 1.177447159 added, 1 markets in cache\n",
      "INFO:betfairlightweight.streaming.stream:[MarketStream: 0]: 1.177447159 added, 1 markets in cache\n",
      "INFO:betfairlightweight.streaming.stream:[MarketStream: 0]: 1.177447159 added, 1 markets in cache\n",
      "INFO:betfairlightweight.streaming.stream:[MarketStream: 0]: 1.177447159 added, 1 markets in cache\n",
      "INFO:betfairlightweight.streaming.stream:[MarketStream: 0]: 1.177447159 added, 1 markets in cache\n",
      "INFO:betfairlightweight.streaming.stream:[MarketStream: 0]: 1.177447159 added, 1 markets in cache\n",
      "INFO:betfairlightweight.streaming.stream:[MarketStream: 0]: 1.177447159 added, 1 markets in cache\n",
      "INFO:betfairlightweight.streaming.stream:[MarketStream: 0]: 1.177447159 added, 1 markets in cache\n",
      "INFO:betfairlightweight.streaming.stream:[MarketStream: 0]: 1.177447159 added, 1 markets in cache\n",
      "INFO:betfairlightweight.streaming.stream:[MarketStream: 0]: 1.177447159 added, 1 markets in cache\n",
      "INFO:betfairlightweight.streaming.stream:[MarketStream: 0]: 1.177447159 added, 1 markets in cache\n",
      "INFO:betfairlightweight.streaming.stream:[MarketStream: 0]: 1.177447159 added, 1 markets in cache\n"
     ]
    },
    {
     "name": "stdout",
     "output_type": "stream",
     "text": [
      "didnt find postplay results?\n"
     ]
    },
    {
     "name": "stderr",
     "output_type": "stream",
     "text": [
      "INFO:betfairlightweight.streaming.listener:[Register: 0]: marketSubscription\n",
      "WARNING:betfairlightweight.streaming.listener:[Listener: 0]: stream already registered, replacing data\n",
      "INFO:betfairlightweight.streaming.stream:[MarketStream: 0]: \"MarketStream\" created\n",
      "INFO:betfairlightweight.streaming.stream:[MarketStream: 0]: 1.177444835 added, 1 markets in cache\n",
      "INFO:betfairlightweight.streaming.stream:[MarketStream: 0]: 1.177444835 added, 1 markets in cache\n",
      "INFO:betfairlightweight.streaming.stream:[MarketStream: 0]: 1.177444835 added, 1 markets in cache\n",
      "INFO:betfairlightweight.streaming.stream:[MarketStream: 0]: 1.177444835 added, 1 markets in cache\n",
      "INFO:betfairlightweight.streaming.stream:[MarketStream: 0]: 1.177444835 added, 1 markets in cache\n",
      "INFO:betfairlightweight.streaming.stream:[MarketStream: 0]: 1.177444835 added, 1 markets in cache\n",
      "INFO:betfairlightweight.streaming.stream:[MarketStream: 0]: 1.177444835 added, 1 markets in cache\n",
      "INFO:betfairlightweight.streaming.stream:[MarketStream: 0]: 1.177444835 added, 1 markets in cache\n",
      "INFO:betfairlightweight.streaming.stream:[MarketStream: 0]: 1.177444835 added, 1 markets in cache\n",
      "INFO:betfairlightweight.streaming.stream:[MarketStream: 0]: 1.177444835 added, 1 markets in cache\n",
      "INFO:betfairlightweight.streaming.stream:[MarketStream: 0]: 1.177444835 added, 1 markets in cache\n",
      "INFO:betfairlightweight.streaming.stream:[MarketStream: 0]: 1.177444835 added, 1 markets in cache\n",
      "INFO:betfairlightweight.streaming.stream:[MarketStream: 0]: 1.177444835 added, 1 markets in cache\n",
      "INFO:betfairlightweight.streaming.stream:[MarketStream: 0]: 1.177444835 added, 1 markets in cache\n"
     ]
    },
    {
     "name": "stdout",
     "output_type": "stream",
     "text": [
      "didnt find postplay results?\n"
     ]
    },
    {
     "name": "stderr",
     "output_type": "stream",
     "text": [
      "INFO:betfairlightweight.streaming.listener:[Register: 0]: marketSubscription\n",
      "WARNING:betfairlightweight.streaming.listener:[Listener: 0]: stream already registered, replacing data\n",
      "INFO:betfairlightweight.streaming.stream:[MarketStream: 0]: \"MarketStream\" created\n",
      "INFO:betfairlightweight.streaming.stream:[MarketStream: 0]: 1.177444836 added, 1 markets in cache\n",
      "INFO:betfairlightweight.streaming.stream:[MarketStream: 0]: 1.177444836 added, 1 markets in cache\n",
      "INFO:betfairlightweight.streaming.stream:[MarketStream: 0]: 1.177444836 added, 1 markets in cache\n",
      "INFO:betfairlightweight.streaming.stream:[MarketStream: 0]: 1.177444836 added, 1 markets in cache\n",
      "INFO:betfairlightweight.streaming.stream:[MarketStream: 0]: 1.177444836 added, 1 markets in cache\n",
      "INFO:betfairlightweight.streaming.stream:[MarketStream: 0]: 1.177444836 added, 1 markets in cache\n",
      "INFO:betfairlightweight.streaming.stream:[MarketStream: 0]: 1.177444836 added, 1 markets in cache\n",
      "INFO:betfairlightweight.streaming.stream:[MarketStream: 0]: 1.177444836 added, 1 markets in cache\n",
      "INFO:betfairlightweight.streaming.stream:[MarketStream: 0]: 1.177444836 added, 1 markets in cache\n",
      "INFO:betfairlightweight.streaming.stream:[MarketStream: 0]: 1.177444836 added, 1 markets in cache\n",
      "INFO:betfairlightweight.streaming.stream:[MarketStream: 0]: 1.177444836 added, 1 markets in cache\n",
      "INFO:betfairlightweight.streaming.stream:[MarketStream: 0]: 1.177444836 added, 1 markets in cache\n"
     ]
    },
    {
     "name": "stdout",
     "output_type": "stream",
     "text": [
      "didnt find postplay results?\n"
     ]
    },
    {
     "name": "stderr",
     "output_type": "stream",
     "text": [
      "INFO:betfairlightweight.streaming.listener:[Register: 0]: marketSubscription\n",
      "WARNING:betfairlightweight.streaming.listener:[Listener: 0]: stream already registered, replacing data\n",
      "INFO:betfairlightweight.streaming.stream:[MarketStream: 0]: \"MarketStream\" created\n",
      "INFO:betfairlightweight.streaming.stream:[MarketStream: 0]: 1.177447208 added, 1 markets in cache\n",
      "INFO:betfairlightweight.streaming.listener:[Register: 0]: marketSubscription\n",
      "WARNING:betfairlightweight.streaming.listener:[Listener: 0]: stream already registered, replacing data\n",
      "INFO:betfairlightweight.streaming.stream:[MarketStream: 0]: \"MarketStream\" created\n",
      "INFO:betfairlightweight.streaming.stream:[MarketStream: 0]: 1.177447191 added, 1 markets in cache\n",
      "INFO:betfairlightweight.streaming.stream:[MarketStream: 0]: 1.177447191 added, 1 markets in cache\n",
      "INFO:betfairlightweight.streaming.stream:[MarketStream: 0]: 1.177447191 added, 1 markets in cache\n",
      "INFO:betfairlightweight.streaming.stream:[MarketStream: 0]: 1.177447191 added, 1 markets in cache\n",
      "INFO:betfairlightweight.streaming.stream:[MarketStream: 0]: 1.177447191 added, 1 markets in cache\n",
      "INFO:betfairlightweight.streaming.stream:[MarketStream: 0]: 1.177447191 added, 1 markets in cache\n",
      "INFO:betfairlightweight.streaming.stream:[MarketStream: 0]: 1.177447191 added, 1 markets in cache\n"
     ]
    },
    {
     "name": "stdout",
     "output_type": "stream",
     "text": [
      "didnt find postplay results?\n",
      "didnt find postplay results?\n"
     ]
    },
    {
     "name": "stderr",
     "output_type": "stream",
     "text": [
      "INFO:betfairlightweight.streaming.stream:[MarketStream: 0]: 1.177447191 added, 1 markets in cache\n",
      "INFO:betfairlightweight.streaming.stream:[MarketStream: 0]: 1.177447191 added, 1 markets in cache\n",
      "INFO:betfairlightweight.streaming.stream:[MarketStream: 0]: 1.177447191 added, 1 markets in cache\n",
      "INFO:betfairlightweight.streaming.stream:[MarketStream: 0]: 1.177447191 added, 1 markets in cache\n",
      "INFO:betfairlightweight.streaming.listener:[Register: 0]: marketSubscription\n",
      "WARNING:betfairlightweight.streaming.listener:[Listener: 0]: stream already registered, replacing data\n",
      "INFO:betfairlightweight.streaming.stream:[MarketStream: 0]: \"MarketStream\" created\n",
      "INFO:betfairlightweight.streaming.stream:[MarketStream: 0]: 1.178595798 added, 1 markets in cache\n",
      "INFO:betfairlightweight.streaming.stream:[MarketStream: 0]: 1.178595798 added, 1 markets in cache\n"
     ]
    },
    {
     "name": "stdout",
     "output_type": "stream",
     "text": [
      "didnt find postplay results?\n"
     ]
    },
    {
     "name": "stderr",
     "output_type": "stream",
     "text": [
      "INFO:betfairlightweight.streaming.listener:[Register: 0]: marketSubscription\n",
      "WARNING:betfairlightweight.streaming.listener:[Listener: 0]: stream already registered, replacing data\n",
      "INFO:betfairlightweight.streaming.stream:[MarketStream: 0]: \"MarketStream\" created\n",
      "INFO:betfairlightweight.streaming.stream:[MarketStream: 0]: 1.177447192 added, 1 markets in cache\n",
      "INFO:betfairlightweight.streaming.stream:[MarketStream: 0]: 1.177447192 added, 1 markets in cache\n",
      "INFO:betfairlightweight.streaming.stream:[MarketStream: 0]: 1.177447192 added, 1 markets in cache\n",
      "INFO:betfairlightweight.streaming.stream:[MarketStream: 0]: 1.177447192 added, 1 markets in cache\n",
      "INFO:betfairlightweight.streaming.stream:[MarketStream: 0]: 1.177447192 added, 1 markets in cache\n",
      "INFO:betfairlightweight.streaming.stream:[MarketStream: 0]: 1.177447192 added, 1 markets in cache\n",
      "INFO:betfairlightweight.streaming.stream:[MarketStream: 0]: 1.177447192 added, 1 markets in cache\n",
      "INFO:betfairlightweight.streaming.stream:[MarketStream: 0]: 1.177447192 added, 1 markets in cache\n",
      "INFO:betfairlightweight.streaming.stream:[MarketStream: 0]: 1.177447192 added, 1 markets in cache\n",
      "INFO:betfairlightweight.streaming.stream:[MarketStream: 0]: 1.177447192 added, 1 markets in cache\n",
      "INFO:betfairlightweight.streaming.stream:[MarketStream: 0]: 1.177447192 added, 1 markets in cache\n",
      "INFO:betfairlightweight.streaming.stream:[MarketStream: 0]: 1.177447192 added, 1 markets in cache\n",
      "INFO:betfairlightweight.streaming.stream:[MarketStream: 0]: 1.177447192 added, 1 markets in cache\n",
      "INFO:betfairlightweight.streaming.stream:[MarketStream: 0]: 1.177447192 added, 1 markets in cache\n"
     ]
    },
    {
     "name": "stdout",
     "output_type": "stream",
     "text": [
      "didnt find postplay results?\n"
     ]
    },
    {
     "name": "stderr",
     "output_type": "stream",
     "text": [
      "INFO:betfairlightweight.streaming.listener:[Register: 0]: marketSubscription\n",
      "WARNING:betfairlightweight.streaming.listener:[Listener: 0]: stream already registered, replacing data\n",
      "INFO:betfairlightweight.streaming.stream:[MarketStream: 0]: \"MarketStream\" created\n",
      "INFO:betfairlightweight.streaming.stream:[MarketStream: 0]: 1.177482126 added, 1 markets in cache\n",
      "INFO:betfairlightweight.streaming.stream:[MarketStream: 0]: 1.177482126 added, 1 markets in cache\n",
      "INFO:betfairlightweight.streaming.stream:[MarketStream: 0]: 1.177482126 added, 1 markets in cache\n",
      "INFO:betfairlightweight.streaming.stream:[MarketStream: 0]: 1.177482126 added, 1 markets in cache\n",
      "INFO:betfairlightweight.streaming.stream:[MarketStream: 0]: 1.177482126 added, 1 markets in cache\n",
      "INFO:betfairlightweight.streaming.stream:[MarketStream: 0]: 1.177482126 added, 1 markets in cache\n",
      "INFO:betfairlightweight.streaming.stream:[MarketStream: 0]: 1.177482126 added, 1 markets in cache\n"
     ]
    },
    {
     "name": "stdout",
     "output_type": "stream",
     "text": [
      "didnt find postplay results?\n"
     ]
    },
    {
     "name": "stderr",
     "output_type": "stream",
     "text": [
      "INFO:betfairlightweight.streaming.listener:[Register: 0]: marketSubscription\n",
      "WARNING:betfairlightweight.streaming.listener:[Listener: 0]: stream already registered, replacing data\n",
      "INFO:betfairlightweight.streaming.stream:[MarketStream: 0]: \"MarketStream\" created\n",
      "INFO:betfairlightweight.streaming.stream:[MarketStream: 0]: 1.178557382 added, 1 markets in cache\n",
      "INFO:betfairlightweight.streaming.stream:[MarketStream: 0]: 1.178557382 added, 1 markets in cache\n"
     ]
    },
    {
     "name": "stdout",
     "output_type": "stream",
     "text": [
      "didnt find postplay results?\n"
     ]
    },
    {
     "name": "stderr",
     "output_type": "stream",
     "text": [
      "INFO:betfairlightweight.streaming.listener:[Register: 0]: marketSubscription\n",
      "WARNING:betfairlightweight.streaming.listener:[Listener: 0]: stream already registered, replacing data\n",
      "INFO:betfairlightweight.streaming.stream:[MarketStream: 0]: \"MarketStream\" created\n",
      "INFO:betfairlightweight.streaming.stream:[MarketStream: 0]: 1.177482127 added, 1 markets in cache\n",
      "INFO:betfairlightweight.streaming.stream:[MarketStream: 0]: 1.177482127 added, 1 markets in cache\n"
     ]
    },
    {
     "name": "stdout",
     "output_type": "stream",
     "text": [
      "didnt find postplay results?\n"
     ]
    },
    {
     "name": "stderr",
     "output_type": "stream",
     "text": [
      "INFO:betfairlightweight.streaming.listener:[Register: 0]: marketSubscription\n",
      "WARNING:betfairlightweight.streaming.listener:[Listener: 0]: stream already registered, replacing data\n",
      "INFO:betfairlightweight.streaming.stream:[MarketStream: 0]: \"MarketStream\" created\n",
      "INFO:betfairlightweight.streaming.stream:[MarketStream: 0]: 1.177482830 added, 1 markets in cache\n"
     ]
    },
    {
     "name": "stdout",
     "output_type": "stream",
     "text": [
      "didnt find postplay results?\n"
     ]
    },
    {
     "name": "stderr",
     "output_type": "stream",
     "text": [
      "INFO:betfairlightweight.streaming.listener:[Register: 0]: marketSubscription\n",
      "WARNING:betfairlightweight.streaming.listener:[Listener: 0]: stream already registered, replacing data\n",
      "INFO:betfairlightweight.streaming.stream:[MarketStream: 0]: \"MarketStream\" created\n",
      "INFO:betfairlightweight.streaming.stream:[MarketStream: 0]: 1.177482831 added, 1 markets in cache\n",
      "INFO:betfairlightweight.streaming.stream:[MarketStream: 0]: 1.177482831 added, 1 markets in cache\n",
      "INFO:betfairlightweight.streaming.stream:[MarketStream: 0]: 1.177482831 added, 1 markets in cache\n",
      "INFO:betfairlightweight.streaming.stream:[MarketStream: 0]: 1.177482831 added, 1 markets in cache\n",
      "INFO:betfairlightweight.streaming.stream:[MarketStream: 0]: 1.177482831 added, 1 markets in cache\n",
      "INFO:betfairlightweight.streaming.stream:[MarketStream: 0]: 1.177482831 added, 1 markets in cache\n",
      "INFO:betfairlightweight.streaming.stream:[MarketStream: 0]: 1.177482831 added, 1 markets in cache\n",
      "INFO:betfairlightweight.streaming.stream:[MarketStream: 0]: 1.177482831 added, 1 markets in cache\n",
      "INFO:betfairlightweight.streaming.stream:[MarketStream: 0]: 1.177482831 added, 1 markets in cache\n",
      "INFO:betfairlightweight.streaming.stream:[MarketStream: 0]: 1.177482831 added, 1 markets in cache\n"
     ]
    },
    {
     "name": "stdout",
     "output_type": "stream",
     "text": [
      "didnt find postplay results?\n"
     ]
    },
    {
     "name": "stderr",
     "output_type": "stream",
     "text": [
      "INFO:betfairlightweight.streaming.listener:[Register: 0]: marketSubscription\n",
      "WARNING:betfairlightweight.streaming.listener:[Listener: 0]: stream already registered, replacing data\n",
      "INFO:betfairlightweight.streaming.stream:[MarketStream: 0]: \"MarketStream\" created\n",
      "INFO:betfairlightweight.streaming.stream:[MarketStream: 0]: 1.177450344 added, 1 markets in cache\n",
      "INFO:betfairlightweight.streaming.stream:[MarketStream: 0]: 1.177450344 added, 1 markets in cache\n",
      "INFO:betfairlightweight.streaming.stream:[MarketStream: 0]: 1.177450344 added, 1 markets in cache\n",
      "INFO:betfairlightweight.streaming.stream:[MarketStream: 0]: 1.177450344 added, 1 markets in cache\n",
      "INFO:betfairlightweight.streaming.stream:[MarketStream: 0]: 1.177450344 added, 1 markets in cache\n",
      "INFO:betfairlightweight.streaming.stream:[MarketStream: 0]: 1.177450344 added, 1 markets in cache\n",
      "INFO:betfairlightweight.streaming.stream:[MarketStream: 0]: 1.177450344 added, 1 markets in cache\n",
      "INFO:betfairlightweight.streaming.stream:[MarketStream: 0]: 1.177450344 added, 1 markets in cache\n",
      "INFO:betfairlightweight.streaming.stream:[MarketStream: 0]: 1.177450344 added, 1 markets in cache\n",
      "INFO:betfairlightweight.streaming.stream:[MarketStream: 0]: 1.177450344 added, 1 markets in cache\n",
      "INFO:betfairlightweight.streaming.stream:[MarketStream: 0]: 1.177450344 added, 1 markets in cache\n",
      "INFO:betfairlightweight.streaming.stream:[MarketStream: 0]: 1.177450344 added, 1 markets in cache\n",
      "INFO:betfairlightweight.streaming.stream:[MarketStream: 0]: 1.177450344 added, 1 markets in cache\n",
      "INFO:betfairlightweight.streaming.stream:[MarketStream: 0]: 1.177450344 added, 1 markets in cache\n",
      "INFO:betfairlightweight.streaming.stream:[MarketStream: 0]: 1.177450344 added, 1 markets in cache\n",
      "INFO:betfairlightweight.streaming.stream:[MarketStream: 0]: 1.177450344 added, 1 markets in cache\n"
     ]
    },
    {
     "name": "stdout",
     "output_type": "stream",
     "text": [
      "didnt find postplay results?\n"
     ]
    },
    {
     "name": "stderr",
     "output_type": "stream",
     "text": [
      "INFO:betfairlightweight.streaming.listener:[Register: 0]: marketSubscription\n",
      "WARNING:betfairlightweight.streaming.listener:[Listener: 0]: stream already registered, replacing data\n",
      "INFO:betfairlightweight.streaming.stream:[MarketStream: 0]: \"MarketStream\" created\n",
      "INFO:betfairlightweight.streaming.stream:[MarketStream: 0]: 1.178644574 added, 1 markets in cache\n",
      "INFO:betfairlightweight.streaming.listener:[Register: 0]: marketSubscription\n",
      "WARNING:betfairlightweight.streaming.listener:[Listener: 0]: stream already registered, replacing data\n",
      "INFO:betfairlightweight.streaming.stream:[MarketStream: 0]: \"MarketStream\" created\n",
      "INFO:betfairlightweight.streaming.stream:[MarketStream: 0]: 1.177450343 added, 1 markets in cache\n",
      "INFO:betfairlightweight.streaming.stream:[MarketStream: 0]: 1.177450343 added, 1 markets in cache\n",
      "INFO:betfairlightweight.streaming.stream:[MarketStream: 0]: 1.177450343 added, 1 markets in cache\n",
      "INFO:betfairlightweight.streaming.stream:[MarketStream: 0]: 1.177450343 added, 1 markets in cache\n",
      "INFO:betfairlightweight.streaming.stream:[MarketStream: 0]: 1.177450343 added, 1 markets in cache\n",
      "INFO:betfairlightweight.streaming.stream:[MarketStream: 0]: 1.177450343 added, 1 markets in cache\n",
      "INFO:betfairlightweight.streaming.stream:[MarketStream: 0]: 1.177450343 added, 1 markets in cache\n",
      "INFO:betfairlightweight.streaming.stream:[MarketStream: 0]: 1.177450343 added, 1 markets in cache\n",
      "INFO:betfairlightweight.streaming.stream:[MarketStream: 0]: 1.177450343 added, 1 markets in cache\n"
     ]
    },
    {
     "name": "stdout",
     "output_type": "stream",
     "text": [
      "didnt find postplay results?\n",
      "didnt find postplay results?\n"
     ]
    },
    {
     "name": "stderr",
     "output_type": "stream",
     "text": [
      "INFO:betfairlightweight.streaming.stream:[MarketStream: 0]: 1.177450343 added, 1 markets in cache\n",
      "INFO:betfairlightweight.streaming.stream:[MarketStream: 0]: 1.177450343 added, 1 markets in cache\n",
      "INFO:betfairlightweight.streaming.stream:[MarketStream: 0]: 1.177450343 added, 1 markets in cache\n",
      "INFO:betfairlightweight.streaming.stream:[MarketStream: 0]: 1.177450343 added, 1 markets in cache\n",
      "INFO:betfairlightweight.streaming.stream:[MarketStream: 0]: 1.177450343 added, 1 markets in cache\n",
      "INFO:betfairlightweight.streaming.listener:[Register: 0]: marketSubscription\n",
      "WARNING:betfairlightweight.streaming.listener:[Listener: 0]: stream already registered, replacing data\n",
      "INFO:betfairlightweight.streaming.stream:[MarketStream: 0]: \"MarketStream\" created\n",
      "INFO:betfairlightweight.streaming.stream:[MarketStream: 0]: 1.177447161 added, 1 markets in cache\n",
      "INFO:betfairlightweight.streaming.stream:[MarketStream: 0]: 1.177447161 added, 1 markets in cache\n",
      "INFO:betfairlightweight.streaming.stream:[MarketStream: 0]: 1.177447161 added, 1 markets in cache\n",
      "INFO:betfairlightweight.streaming.stream:[MarketStream: 0]: 1.177447161 added, 1 markets in cache\n",
      "INFO:betfairlightweight.streaming.stream:[MarketStream: 0]: 1.177447161 added, 1 markets in cache\n",
      "INFO:betfairlightweight.streaming.stream:[MarketStream: 0]: 1.177447161 added, 1 markets in cache\n",
      "INFO:betfairlightweight.streaming.stream:[MarketStream: 0]: 1.177447161 added, 1 markets in cache\n",
      "INFO:betfairlightweight.streaming.stream:[MarketStream: 0]: 1.177447161 added, 1 markets in cache\n",
      "INFO:betfairlightweight.streaming.stream:[MarketStream: 0]: 1.177447161 added, 1 markets in cache\n",
      "INFO:betfairlightweight.streaming.stream:[MarketStream: 0]: 1.177447161 added, 1 markets in cache\n",
      "INFO:betfairlightweight.streaming.stream:[MarketStream: 0]: 1.177447161 added, 1 markets in cache\n",
      "INFO:betfairlightweight.streaming.stream:[MarketStream: 0]: 1.177447161 added, 1 markets in cache\n",
      "INFO:betfairlightweight.streaming.stream:[MarketStream: 0]: 1.177447161 added, 1 markets in cache\n",
      "INFO:betfairlightweight.streaming.stream:[MarketStream: 0]: 1.177447161 added, 1 markets in cache\n",
      "INFO:betfairlightweight.streaming.stream:[MarketStream: 0]: 1.177447161 added, 1 markets in cache\n",
      "INFO:betfairlightweight.streaming.stream:[MarketStream: 0]: 1.177447161 added, 1 markets in cache\n"
     ]
    },
    {
     "name": "stdout",
     "output_type": "stream",
     "text": [
      "didnt find postplay results?\n"
     ]
    },
    {
     "name": "stderr",
     "output_type": "stream",
     "text": [
      "INFO:betfairlightweight.streaming.listener:[Register: 0]: marketSubscription\n",
      "WARNING:betfairlightweight.streaming.listener:[Listener: 0]: stream already registered, replacing data\n",
      "INFO:betfairlightweight.streaming.stream:[MarketStream: 0]: \"MarketStream\" created\n",
      "INFO:betfairlightweight.streaming.stream:[MarketStream: 0]: 1.177447177 added, 1 markets in cache\n",
      "INFO:betfairlightweight.streaming.listener:[Register: 0]: marketSubscription\n",
      "WARNING:betfairlightweight.streaming.listener:[Listener: 0]: stream already registered, replacing data\n",
      "INFO:betfairlightweight.streaming.stream:[MarketStream: 0]: \"MarketStream\" created\n",
      "INFO:betfairlightweight.streaming.stream:[MarketStream: 0]: 1.177447160 added, 1 markets in cache\n",
      "INFO:betfairlightweight.streaming.stream:[MarketStream: 0]: 1.177447160 added, 1 markets in cache\n",
      "INFO:betfairlightweight.streaming.stream:[MarketStream: 0]: 1.177447160 added, 1 markets in cache\n",
      "INFO:betfairlightweight.streaming.stream:[MarketStream: 0]: 1.177447160 added, 1 markets in cache\n",
      "INFO:betfairlightweight.streaming.stream:[MarketStream: 0]: 1.177447160 added, 1 markets in cache\n",
      "INFO:betfairlightweight.streaming.stream:[MarketStream: 0]: 1.177447160 added, 1 markets in cache\n",
      "INFO:betfairlightweight.streaming.stream:[MarketStream: 0]: 1.177447160 added, 1 markets in cache\n",
      "INFO:betfairlightweight.streaming.stream:[MarketStream: 0]: 1.177447160 added, 1 markets in cache\n",
      "INFO:betfairlightweight.streaming.stream:[MarketStream: 0]: 1.177447160 added, 1 markets in cache\n",
      "INFO:betfairlightweight.streaming.stream:[MarketStream: 0]: 1.177447160 added, 1 markets in cache\n",
      "INFO:betfairlightweight.streaming.stream:[MarketStream: 0]: 1.177447160 added, 1 markets in cache\n",
      "INFO:betfairlightweight.streaming.stream:[MarketStream: 0]: 1.177447160 added, 1 markets in cache\n",
      "INFO:betfairlightweight.streaming.stream:[MarketStream: 0]: 1.177447160 added, 1 markets in cache\n"
     ]
    },
    {
     "name": "stdout",
     "output_type": "stream",
     "text": [
      "didnt find postplay results?\n",
      "didnt find postplay results?\n"
     ]
    },
    {
     "name": "stderr",
     "output_type": "stream",
     "text": [
      "INFO:betfairlightweight.streaming.listener:[Register: 0]: marketSubscription\n",
      "WARNING:betfairlightweight.streaming.listener:[Listener: 0]: stream already registered, replacing data\n",
      "INFO:betfairlightweight.streaming.stream:[MarketStream: 0]: \"MarketStream\" created\n",
      "INFO:betfairlightweight.streaming.stream:[MarketStream: 0]: 1.177447193 added, 1 markets in cache\n",
      "INFO:betfairlightweight.streaming.stream:[MarketStream: 0]: 1.177447193 added, 1 markets in cache\n",
      "INFO:betfairlightweight.streaming.stream:[MarketStream: 0]: 1.177447193 added, 1 markets in cache\n",
      "INFO:betfairlightweight.streaming.stream:[MarketStream: 0]: 1.177447193 added, 1 markets in cache\n",
      "INFO:betfairlightweight.streaming.stream:[MarketStream: 0]: 1.177447193 added, 1 markets in cache\n",
      "INFO:betfairlightweight.streaming.stream:[MarketStream: 0]: 1.177447193 added, 1 markets in cache\n",
      "INFO:betfairlightweight.streaming.stream:[MarketStream: 0]: 1.177447193 added, 1 markets in cache\n",
      "INFO:betfairlightweight.streaming.stream:[MarketStream: 0]: 1.177447193 added, 1 markets in cache\n",
      "INFO:betfairlightweight.streaming.stream:[MarketStream: 0]: 1.177447193 added, 1 markets in cache\n",
      "INFO:betfairlightweight.streaming.stream:[MarketStream: 0]: 1.177447193 added, 1 markets in cache\n",
      "INFO:betfairlightweight.streaming.stream:[MarketStream: 0]: 1.177447193 added, 1 markets in cache\n",
      "INFO:betfairlightweight.streaming.stream:[MarketStream: 0]: 1.177447193 added, 1 markets in cache\n"
     ]
    },
    {
     "name": "stdout",
     "output_type": "stream",
     "text": [
      "didnt find postplay results?\n"
     ]
    },
    {
     "name": "stderr",
     "output_type": "stream",
     "text": [
      "INFO:betfairlightweight.streaming.listener:[Register: 0]: marketSubscription\n",
      "WARNING:betfairlightweight.streaming.listener:[Listener: 0]: stream already registered, replacing data\n",
      "INFO:betfairlightweight.streaming.stream:[MarketStream: 0]: \"MarketStream\" created\n",
      "INFO:betfairlightweight.streaming.stream:[MarketStream: 0]: 1.177447194 added, 1 markets in cache\n",
      "INFO:betfairlightweight.streaming.stream:[MarketStream: 0]: 1.177447194 added, 1 markets in cache\n",
      "INFO:betfairlightweight.streaming.stream:[MarketStream: 0]: 1.177447194 added, 1 markets in cache\n",
      "INFO:betfairlightweight.streaming.stream:[MarketStream: 0]: 1.177447194 added, 1 markets in cache\n",
      "INFO:betfairlightweight.streaming.stream:[MarketStream: 0]: 1.177447194 added, 1 markets in cache\n",
      "INFO:betfairlightweight.streaming.stream:[MarketStream: 0]: 1.177447194 added, 1 markets in cache\n",
      "INFO:betfairlightweight.streaming.stream:[MarketStream: 0]: 1.177447194 added, 1 markets in cache\n",
      "INFO:betfairlightweight.streaming.stream:[MarketStream: 0]: 1.177447194 added, 1 markets in cache\n",
      "INFO:betfairlightweight.streaming.stream:[MarketStream: 0]: 1.177447194 added, 1 markets in cache\n",
      "INFO:betfairlightweight.streaming.stream:[MarketStream: 0]: 1.177447194 added, 1 markets in cache\n",
      "INFO:betfairlightweight.streaming.stream:[MarketStream: 0]: 1.177447194 added, 1 markets in cache\n",
      "INFO:betfairlightweight.streaming.stream:[MarketStream: 0]: 1.177447194 added, 1 markets in cache\n",
      "INFO:betfairlightweight.streaming.stream:[MarketStream: 0]: 1.177447194 added, 1 markets in cache\n",
      "INFO:betfairlightweight.streaming.stream:[MarketStream: 0]: 1.177447194 added, 1 markets in cache\n",
      "INFO:betfairlightweight.streaming.stream:[MarketStream: 0]: 1.177447194 added, 1 markets in cache\n",
      "INFO:betfairlightweight.streaming.stream:[MarketStream: 0]: 1.177447194 added, 1 markets in cache\n",
      "INFO:betfairlightweight.streaming.stream:[MarketStream: 0]: 1.177447194 added, 1 markets in cache\n"
     ]
    },
    {
     "name": "stdout",
     "output_type": "stream",
     "text": [
      "didnt find postplay results?\n"
     ]
    },
    {
     "name": "stderr",
     "output_type": "stream",
     "text": [
      "INFO:betfairlightweight.streaming.listener:[Register: 0]: marketSubscription\n",
      "WARNING:betfairlightweight.streaming.listener:[Listener: 0]: stream already registered, replacing data\n",
      "INFO:betfairlightweight.streaming.stream:[MarketStream: 0]: \"MarketStream\" created\n",
      "INFO:betfairlightweight.streaming.stream:[MarketStream: 0]: 1.178647201 added, 1 markets in cache\n"
     ]
    },
    {
     "name": "stdout",
     "output_type": "stream",
     "text": [
      "didnt find postplay results?\n"
     ]
    },
    {
     "name": "stderr",
     "output_type": "stream",
     "text": [
      "INFO:betfairlightweight.streaming.listener:[Register: 0]: marketSubscription\n",
      "WARNING:betfairlightweight.streaming.listener:[Listener: 0]: stream already registered, replacing data\n",
      "INFO:betfairlightweight.streaming.stream:[MarketStream: 0]: \"MarketStream\" created\n",
      "INFO:betfairlightweight.streaming.stream:[MarketStream: 0]: 1.177447209 added, 1 markets in cache\n",
      "INFO:betfairlightweight.streaming.listener:[Register: 0]: marketSubscription\n",
      "WARNING:betfairlightweight.streaming.listener:[Listener: 0]: stream already registered, replacing data\n",
      "INFO:betfairlightweight.streaming.stream:[MarketStream: 0]: \"MarketStream\" created\n",
      "INFO:betfairlightweight.streaming.stream:[MarketStream: 0]: 1.177450346 added, 1 markets in cache\n",
      "INFO:betfairlightweight.streaming.stream:[MarketStream: 0]: 1.177450346 added, 1 markets in cache\n",
      "INFO:betfairlightweight.streaming.stream:[MarketStream: 0]: 1.177450346 added, 1 markets in cache\n",
      "INFO:betfairlightweight.streaming.stream:[MarketStream: 0]: 1.177450346 added, 1 markets in cache\n",
      "INFO:betfairlightweight.streaming.stream:[MarketStream: 0]: 1.177450346 added, 1 markets in cache\n",
      "INFO:betfairlightweight.streaming.stream:[MarketStream: 0]: 1.177450346 added, 1 markets in cache\n",
      "INFO:betfairlightweight.streaming.stream:[MarketStream: 0]: 1.177450346 added, 1 markets in cache\n",
      "INFO:betfairlightweight.streaming.stream:[MarketStream: 0]: 1.177450346 added, 1 markets in cache\n",
      "INFO:betfairlightweight.streaming.stream:[MarketStream: 0]: 1.177450346 added, 1 markets in cache\n",
      "INFO:betfairlightweight.streaming.stream:[MarketStream: 0]: 1.177450346 added, 1 markets in cache\n",
      "INFO:betfairlightweight.streaming.stream:[MarketStream: 0]: 1.177450346 added, 1 markets in cache\n",
      "INFO:betfairlightweight.streaming.stream:[MarketStream: 0]: 1.177450346 added, 1 markets in cache\n",
      "INFO:betfairlightweight.streaming.stream:[MarketStream: 0]: 1.177450346 added, 1 markets in cache\n",
      "INFO:betfairlightweight.streaming.stream:[MarketStream: 0]: 1.177450346 added, 1 markets in cache\n",
      "INFO:betfairlightweight.streaming.stream:[MarketStream: 0]: 1.177450346 added, 1 markets in cache\n"
     ]
    },
    {
     "name": "stdout",
     "output_type": "stream",
     "text": [
      "didnt find postplay results?\n",
      "didnt find postplay results?\n"
     ]
    },
    {
     "name": "stderr",
     "output_type": "stream",
     "text": [
      "INFO:betfairlightweight.streaming.listener:[Register: 0]: marketSubscription\n",
      "WARNING:betfairlightweight.streaming.listener:[Listener: 0]: stream already registered, replacing data\n",
      "INFO:betfairlightweight.streaming.stream:[MarketStream: 0]: \"MarketStream\" created\n",
      "INFO:betfairlightweight.streaming.stream:[MarketStream: 0]: 1.177450345 added, 1 markets in cache\n",
      "INFO:betfairlightweight.streaming.stream:[MarketStream: 0]: 1.177450345 added, 1 markets in cache\n",
      "INFO:betfairlightweight.streaming.stream:[MarketStream: 0]: 1.177450345 added, 1 markets in cache\n",
      "INFO:betfairlightweight.streaming.stream:[MarketStream: 0]: 1.177450345 added, 1 markets in cache\n",
      "INFO:betfairlightweight.streaming.stream:[MarketStream: 0]: 1.177450345 added, 1 markets in cache\n",
      "INFO:betfairlightweight.streaming.stream:[MarketStream: 0]: 1.177450345 added, 1 markets in cache\n",
      "INFO:betfairlightweight.streaming.stream:[MarketStream: 0]: 1.177450345 added, 1 markets in cache\n",
      "INFO:betfairlightweight.streaming.stream:[MarketStream: 0]: 1.177450345 added, 1 markets in cache\n",
      "INFO:betfairlightweight.streaming.stream:[MarketStream: 0]: 1.177450345 added, 1 markets in cache\n",
      "INFO:betfairlightweight.streaming.stream:[MarketStream: 0]: 1.177450345 added, 1 markets in cache\n",
      "INFO:betfairlightweight.streaming.stream:[MarketStream: 0]: 1.177450345 added, 1 markets in cache\n",
      "INFO:betfairlightweight.streaming.stream:[MarketStream: 0]: 1.177450345 added, 1 markets in cache\n"
     ]
    },
    {
     "name": "stdout",
     "output_type": "stream",
     "text": [
      "didnt find postplay results?\n"
     ]
    },
    {
     "name": "stderr",
     "output_type": "stream",
     "text": [
      "INFO:betfairlightweight.streaming.listener:[Register: 0]: marketSubscription\n",
      "WARNING:betfairlightweight.streaming.listener:[Listener: 0]: stream already registered, replacing data\n",
      "INFO:betfairlightweight.streaming.stream:[MarketStream: 0]: \"MarketStream\" created\n",
      "INFO:betfairlightweight.streaming.stream:[MarketStream: 0]: 1.177482128 added, 1 markets in cache\n",
      "INFO:betfairlightweight.streaming.stream:[MarketStream: 0]: 1.177482128 added, 1 markets in cache\n",
      "INFO:betfairlightweight.streaming.stream:[MarketStream: 0]: 1.177482128 added, 1 markets in cache\n",
      "INFO:betfairlightweight.streaming.stream:[MarketStream: 0]: 1.177482128 added, 1 markets in cache\n",
      "INFO:betfairlightweight.streaming.stream:[MarketStream: 0]: 1.177482128 added, 1 markets in cache\n",
      "INFO:betfairlightweight.streaming.stream:[MarketStream: 0]: 1.177482128 added, 1 markets in cache\n"
     ]
    },
    {
     "name": "stdout",
     "output_type": "stream",
     "text": [
      "didnt find postplay results?\n"
     ]
    },
    {
     "name": "stderr",
     "output_type": "stream",
     "text": [
      "INFO:betfairlightweight.streaming.listener:[Register: 0]: marketSubscription\n",
      "WARNING:betfairlightweight.streaming.listener:[Listener: 0]: stream already registered, replacing data\n",
      "INFO:betfairlightweight.streaming.stream:[MarketStream: 0]: \"MarketStream\" created\n",
      "INFO:betfairlightweight.streaming.stream:[MarketStream: 0]: 1.177482129 added, 1 markets in cache\n",
      "INFO:betfairlightweight.streaming.stream:[MarketStream: 0]: 1.177482129 added, 1 markets in cache\n"
     ]
    },
    {
     "name": "stdout",
     "output_type": "stream",
     "text": [
      "didnt find postplay results?\n"
     ]
    },
    {
     "name": "stderr",
     "output_type": "stream",
     "text": [
      "INFO:betfairlightweight.streaming.listener:[Register: 0]: marketSubscription\n",
      "WARNING:betfairlightweight.streaming.listener:[Listener: 0]: stream already registered, replacing data\n",
      "INFO:betfairlightweight.streaming.stream:[MarketStream: 0]: \"MarketStream\" created\n",
      "INFO:betfairlightweight.streaming.stream:[MarketStream: 0]: 1.178557385 added, 1 markets in cache\n"
     ]
    },
    {
     "name": "stdout",
     "output_type": "stream",
     "text": [
      "didnt find postplay results?\n"
     ]
    },
    {
     "name": "stderr",
     "output_type": "stream",
     "text": [
      "INFO:betfairlightweight.streaming.listener:[Register: 0]: marketSubscription\n",
      "WARNING:betfairlightweight.streaming.listener:[Listener: 0]: stream already registered, replacing data\n",
      "INFO:betfairlightweight.streaming.stream:[MarketStream: 0]: \"MarketStream\" created\n",
      "INFO:betfairlightweight.streaming.stream:[MarketStream: 0]: 1.177482832 added, 1 markets in cache\n"
     ]
    },
    {
     "name": "stdout",
     "output_type": "stream",
     "text": [
      "didnt find postplay results?\n"
     ]
    },
    {
     "name": "stderr",
     "output_type": "stream",
     "text": [
      "INFO:betfairlightweight.streaming.listener:[Register: 0]: marketSubscription\n",
      "WARNING:betfairlightweight.streaming.listener:[Listener: 0]: stream already registered, replacing data\n",
      "INFO:betfairlightweight.streaming.stream:[MarketStream: 0]: \"MarketStream\" created\n",
      "INFO:betfairlightweight.streaming.stream:[MarketStream: 0]: 1.177447196 added, 1 markets in cache\n",
      "INFO:betfairlightweight.streaming.stream:[MarketStream: 0]: 1.177447196 added, 1 markets in cache\n",
      "INFO:betfairlightweight.streaming.stream:[MarketStream: 0]: 1.177447196 added, 1 markets in cache\n",
      "INFO:betfairlightweight.streaming.stream:[MarketStream: 0]: 1.177447196 added, 1 markets in cache\n",
      "INFO:betfairlightweight.streaming.stream:[MarketStream: 0]: 1.177447196 added, 1 markets in cache\n",
      "INFO:betfairlightweight.streaming.stream:[MarketStream: 0]: 1.177447196 added, 1 markets in cache\n",
      "INFO:betfairlightweight.streaming.stream:[MarketStream: 0]: 1.177447196 added, 1 markets in cache\n",
      "INFO:betfairlightweight.streaming.stream:[MarketStream: 0]: 1.177447196 added, 1 markets in cache\n",
      "INFO:betfairlightweight.streaming.stream:[MarketStream: 0]: 1.177447196 added, 1 markets in cache\n",
      "INFO:betfairlightweight.streaming.stream:[MarketStream: 0]: 1.177447196 added, 1 markets in cache\n",
      "INFO:betfairlightweight.streaming.stream:[MarketStream: 0]: 1.177447196 added, 1 markets in cache\n",
      "INFO:betfairlightweight.streaming.stream:[MarketStream: 0]: 1.177447196 added, 1 markets in cache\n",
      "INFO:betfairlightweight.streaming.stream:[MarketStream: 0]: 1.177447196 added, 1 markets in cache\n",
      "INFO:betfairlightweight.streaming.stream:[MarketStream: 0]: 1.177447196 added, 1 markets in cache\n",
      "INFO:betfairlightweight.streaming.stream:[MarketStream: 0]: 1.177447196 added, 1 markets in cache\n"
     ]
    },
    {
     "name": "stdout",
     "output_type": "stream",
     "text": [
      "didnt find postplay results?\n"
     ]
    },
    {
     "name": "stderr",
     "output_type": "stream",
     "text": [
      "INFO:betfairlightweight.streaming.listener:[Register: 0]: marketSubscription\n",
      "WARNING:betfairlightweight.streaming.listener:[Listener: 0]: stream already registered, replacing data\n",
      "INFO:betfairlightweight.streaming.stream:[MarketStream: 0]: \"MarketStream\" created\n",
      "INFO:betfairlightweight.streaming.stream:[MarketStream: 0]: 1.177447210 added, 1 markets in cache\n",
      "INFO:betfairlightweight.streaming.listener:[Register: 0]: marketSubscription\n",
      "WARNING:betfairlightweight.streaming.listener:[Listener: 0]: stream already registered, replacing data\n",
      "INFO:betfairlightweight.streaming.stream:[MarketStream: 0]: \"MarketStream\" created\n",
      "INFO:betfairlightweight.streaming.stream:[MarketStream: 0]: 1.177482833 added, 1 markets in cache\n",
      "INFO:betfairlightweight.streaming.stream:[MarketStream: 0]: 1.177482833 added, 1 markets in cache\n",
      "INFO:betfairlightweight.streaming.stream:[MarketStream: 0]: 1.177482833 added, 1 markets in cache\n",
      "INFO:betfairlightweight.streaming.stream:[MarketStream: 0]: 1.177482833 added, 1 markets in cache\n",
      "INFO:betfairlightweight.streaming.stream:[MarketStream: 0]: 1.177482833 added, 1 markets in cache\n",
      "INFO:betfairlightweight.streaming.stream:[MarketStream: 0]: 1.177482833 added, 1 markets in cache\n",
      "INFO:betfairlightweight.streaming.stream:[MarketStream: 0]: 1.177482833 added, 1 markets in cache\n",
      "INFO:betfairlightweight.streaming.stream:[MarketStream: 0]: 1.177482833 added, 1 markets in cache\n",
      "INFO:betfairlightweight.streaming.stream:[MarketStream: 0]: 1.177482833 added, 1 markets in cache\n",
      "INFO:betfairlightweight.streaming.stream:[MarketStream: 0]: 1.177482833 added, 1 markets in cache\n"
     ]
    },
    {
     "name": "stdout",
     "output_type": "stream",
     "text": [
      "didnt find postplay results?\n",
      "didnt find postplay results?\n"
     ]
    },
    {
     "name": "stderr",
     "output_type": "stream",
     "text": [
      "INFO:betfairlightweight.streaming.listener:[Register: 0]: marketSubscription\n",
      "WARNING:betfairlightweight.streaming.listener:[Listener: 0]: stream already registered, replacing data\n",
      "INFO:betfairlightweight.streaming.stream:[MarketStream: 0]: \"MarketStream\" created\n",
      "INFO:betfairlightweight.streaming.stream:[MarketStream: 0]: 1.177447195 added, 1 markets in cache\n",
      "INFO:betfairlightweight.streaming.stream:[MarketStream: 0]: 1.177447195 added, 1 markets in cache\n",
      "INFO:betfairlightweight.streaming.stream:[MarketStream: 0]: 1.177447195 added, 1 markets in cache\n",
      "INFO:betfairlightweight.streaming.stream:[MarketStream: 0]: 1.177447195 added, 1 markets in cache\n",
      "INFO:betfairlightweight.streaming.stream:[MarketStream: 0]: 1.177447195 added, 1 markets in cache\n",
      "INFO:betfairlightweight.streaming.stream:[MarketStream: 0]: 1.177447195 added, 1 markets in cache\n",
      "INFO:betfairlightweight.streaming.stream:[MarketStream: 0]: 1.177447195 added, 1 markets in cache\n",
      "INFO:betfairlightweight.streaming.stream:[MarketStream: 0]: 1.177447195 added, 1 markets in cache\n",
      "INFO:betfairlightweight.streaming.stream:[MarketStream: 0]: 1.177447195 added, 1 markets in cache\n",
      "INFO:betfairlightweight.streaming.stream:[MarketStream: 0]: 1.177447195 added, 1 markets in cache\n",
      "INFO:betfairlightweight.streaming.stream:[MarketStream: 0]: 1.177447195 added, 1 markets in cache\n",
      "INFO:betfairlightweight.streaming.stream:[MarketStream: 0]: 1.177447195 added, 1 markets in cache\n",
      "INFO:betfairlightweight.streaming.stream:[MarketStream: 0]: 1.177447195 added, 1 markets in cache\n",
      "INFO:betfairlightweight.streaming.stream:[MarketStream: 0]: 1.177447195 added, 1 markets in cache\n"
     ]
    },
    {
     "name": "stdout",
     "output_type": "stream",
     "text": [
      "didnt find postplay results?\n"
     ]
    },
    {
     "name": "stderr",
     "output_type": "stream",
     "text": [
      "INFO:betfairlightweight.streaming.listener:[Register: 0]: marketSubscription\n",
      "WARNING:betfairlightweight.streaming.listener:[Listener: 0]: stream already registered, replacing data\n",
      "INFO:betfairlightweight.streaming.stream:[MarketStream: 0]: \"MarketStream\" created\n",
      "INFO:betfairlightweight.streaming.stream:[MarketStream: 0]: 1.178557386 added, 1 markets in cache\n"
     ]
    },
    {
     "name": "stdout",
     "output_type": "stream",
     "text": [
      "didnt find postplay results?\n"
     ]
    },
    {
     "name": "stderr",
     "output_type": "stream",
     "text": [
      "INFO:betfairlightweight.streaming.listener:[Register: 0]: marketSubscription\n",
      "WARNING:betfairlightweight.streaming.listener:[Listener: 0]: stream already registered, replacing data\n",
      "INFO:betfairlightweight.streaming.stream:[MarketStream: 0]: \"MarketStream\" created\n",
      "INFO:betfairlightweight.streaming.stream:[MarketStream: 0]: 1.177482834 added, 1 markets in cache\n"
     ]
    },
    {
     "name": "stdout",
     "output_type": "stream",
     "text": [
      "didnt find postplay results?\n"
     ]
    },
    {
     "name": "stderr",
     "output_type": "stream",
     "text": [
      "INFO:betfairlightweight.streaming.listener:[Register: 0]: marketSubscription\n",
      "WARNING:betfairlightweight.streaming.listener:[Listener: 0]: stream already registered, replacing data\n",
      "INFO:betfairlightweight.streaming.stream:[MarketStream: 0]: \"MarketStream\" created\n",
      "INFO:betfairlightweight.streaming.stream:[MarketStream: 0]: 1.177482835 added, 1 markets in cache\n",
      "INFO:betfairlightweight.streaming.stream:[MarketStream: 0]: 1.177482835 added, 1 markets in cache\n",
      "INFO:betfairlightweight.streaming.stream:[MarketStream: 0]: 1.177482835 added, 1 markets in cache\n",
      "INFO:betfairlightweight.streaming.stream:[MarketStream: 0]: 1.177482835 added, 1 markets in cache\n",
      "INFO:betfairlightweight.streaming.stream:[MarketStream: 0]: 1.177482835 added, 1 markets in cache\n",
      "INFO:betfairlightweight.streaming.stream:[MarketStream: 0]: 1.177482835 added, 1 markets in cache\n",
      "INFO:betfairlightweight.streaming.stream:[MarketStream: 0]: 1.177482835 added, 1 markets in cache\n",
      "INFO:betfairlightweight.streaming.stream:[MarketStream: 0]: 1.177482835 added, 1 markets in cache\n",
      "INFO:betfairlightweight.streaming.stream:[MarketStream: 0]: 1.177482835 added, 1 markets in cache\n"
     ]
    },
    {
     "name": "stdout",
     "output_type": "stream",
     "text": [
      "didnt find postplay results?\n"
     ]
    },
    {
     "name": "stderr",
     "output_type": "stream",
     "text": [
      "INFO:betfairlightweight.streaming.listener:[Register: 0]: marketSubscription\n",
      "WARNING:betfairlightweight.streaming.listener:[Listener: 0]: stream already registered, replacing data\n",
      "INFO:betfairlightweight.streaming.stream:[MarketStream: 0]: \"MarketStream\" created\n",
      "INFO:betfairlightweight.streaming.stream:[MarketStream: 0]: 1.177482130 added, 1 markets in cache\n",
      "INFO:betfairlightweight.streaming.stream:[MarketStream: 0]: 1.177482130 added, 1 markets in cache\n",
      "INFO:betfairlightweight.streaming.stream:[MarketStream: 0]: 1.177482130 added, 1 markets in cache\n",
      "INFO:betfairlightweight.streaming.stream:[MarketStream: 0]: 1.177482130 added, 1 markets in cache\n",
      "INFO:betfairlightweight.streaming.stream:[MarketStream: 0]: 1.177482130 added, 1 markets in cache\n",
      "INFO:betfairlightweight.streaming.stream:[MarketStream: 0]: 1.177482130 added, 1 markets in cache\n"
     ]
    },
    {
     "name": "stdout",
     "output_type": "stream",
     "text": [
      "didnt find postplay results?\n"
     ]
    },
    {
     "name": "stderr",
     "output_type": "stream",
     "text": [
      "INFO:betfairlightweight.streaming.listener:[Register: 0]: marketSubscription\n",
      "WARNING:betfairlightweight.streaming.listener:[Listener: 0]: stream already registered, replacing data\n",
      "INFO:betfairlightweight.streaming.stream:[MarketStream: 0]: \"MarketStream\" created\n",
      "INFO:betfairlightweight.streaming.stream:[MarketStream: 0]: 1.177482131 added, 1 markets in cache\n",
      "INFO:betfairlightweight.streaming.stream:[MarketStream: 0]: 1.177482131 added, 1 markets in cache\n"
     ]
    },
    {
     "name": "stdout",
     "output_type": "stream",
     "text": [
      "didnt find postplay results?\n"
     ]
    },
    {
     "name": "stderr",
     "output_type": "stream",
     "text": [
      "INFO:betfairlightweight.streaming.listener:[Register: 0]: marketSubscription\n",
      "WARNING:betfairlightweight.streaming.listener:[Listener: 0]: stream already registered, replacing data\n",
      "INFO:betfairlightweight.streaming.stream:[MarketStream: 0]: \"MarketStream\" created\n",
      "INFO:betfairlightweight.streaming.stream:[MarketStream: 0]: 1.178557383 added, 1 markets in cache\n",
      "INFO:betfairlightweight.streaming.stream:[MarketStream: 0]: 1.178557383 added, 1 markets in cache\n",
      "INFO:betfairlightweight.streaming.stream:[MarketStream: 0]: 1.178557383 added, 1 markets in cache\n",
      "INFO:betfairlightweight.streaming.stream:[MarketStream: 0]: 1.178557383 added, 1 markets in cache\n",
      "INFO:betfairlightweight.streaming.stream:[MarketStream: 0]: 1.178557383 added, 1 markets in cache\n",
      "INFO:betfairlightweight.streaming.stream:[MarketStream: 0]: 1.178557383 added, 1 markets in cache\n",
      "INFO:betfairlightweight.streaming.stream:[MarketStream: 0]: 1.178557383 added, 1 markets in cache\n",
      "INFO:betfairlightweight.streaming.stream:[MarketStream: 0]: 1.178557383 added, 1 markets in cache\n"
     ]
    },
    {
     "name": "stdout",
     "output_type": "stream",
     "text": [
      "didnt find postplay results?\n"
     ]
    },
    {
     "name": "stderr",
     "output_type": "stream",
     "text": [
      "INFO:betfairlightweight.streaming.listener:[Register: 0]: marketSubscription\n",
      "WARNING:betfairlightweight.streaming.listener:[Listener: 0]: stream already registered, replacing data\n",
      "INFO:betfairlightweight.streaming.stream:[MarketStream: 0]: \"MarketStream\" created\n",
      "INFO:betfairlightweight.streaming.stream:[MarketStream: 0]: 1.177452820 added, 1 markets in cache\n"
     ]
    },
    {
     "name": "stdout",
     "output_type": "stream",
     "text": [
      "didnt find postplay results?\n"
     ]
    },
    {
     "name": "stderr",
     "output_type": "stream",
     "text": [
      "INFO:betfairlightweight.streaming.listener:[Register: 0]: marketSubscription\n",
      "WARNING:betfairlightweight.streaming.listener:[Listener: 0]: stream already registered, replacing data\n",
      "INFO:betfairlightweight.streaming.stream:[MarketStream: 0]: \"MarketStream\" created\n",
      "INFO:betfairlightweight.streaming.stream:[MarketStream: 0]: 1.177452819 added, 1 markets in cache\n",
      "INFO:betfairlightweight.streaming.stream:[MarketStream: 0]: 1.177452819 added, 1 markets in cache\n",
      "INFO:betfairlightweight.streaming.stream:[MarketStream: 0]: 1.177452819 added, 1 markets in cache\n",
      "INFO:betfairlightweight.streaming.stream:[MarketStream: 0]: 1.177452819 added, 1 markets in cache\n",
      "INFO:betfairlightweight.streaming.stream:[MarketStream: 0]: 1.177452819 added, 1 markets in cache\n",
      "INFO:betfairlightweight.streaming.stream:[MarketStream: 0]: 1.177452819 added, 1 markets in cache\n",
      "INFO:betfairlightweight.streaming.stream:[MarketStream: 0]: 1.177452819 added, 1 markets in cache\n",
      "INFO:betfairlightweight.streaming.stream:[MarketStream: 0]: 1.177452819 added, 1 markets in cache\n",
      "INFO:betfairlightweight.streaming.stream:[MarketStream: 0]: 1.177452819 added, 1 markets in cache\n",
      "INFO:betfairlightweight.streaming.stream:[MarketStream: 0]: 1.177452819 added, 1 markets in cache\n",
      "INFO:betfairlightweight.streaming.stream:[MarketStream: 0]: 1.177452819 added, 1 markets in cache\n",
      "INFO:betfairlightweight.streaming.stream:[MarketStream: 0]: 1.177452819 added, 1 markets in cache\n",
      "INFO:betfairlightweight.streaming.stream:[MarketStream: 0]: 1.177452819 added, 1 markets in cache\n",
      "INFO:betfairlightweight.streaming.stream:[MarketStream: 0]: 1.177452819 added, 1 markets in cache\n",
      "INFO:betfairlightweight.streaming.stream:[MarketStream: 0]: 1.177452819 added, 1 markets in cache\n"
     ]
    },
    {
     "name": "stdout",
     "output_type": "stream",
     "text": [
      "didnt find postplay results?\n"
     ]
    },
    {
     "name": "stderr",
     "output_type": "stream",
     "text": [
      "INFO:betfairlightweight.streaming.stream:[MarketStream: 0]: 1.177452819 added, 1 markets in cache\n",
      "INFO:betfairlightweight.streaming.stream:[MarketStream: 0]: 1.177452819 added, 1 markets in cache\n",
      "INFO:betfairlightweight.streaming.listener:[Register: 0]: marketSubscription\n",
      "WARNING:betfairlightweight.streaming.listener:[Listener: 0]: stream already registered, replacing data\n",
      "INFO:betfairlightweight.streaming.stream:[MarketStream: 0]: \"MarketStream\" created\n",
      "INFO:betfairlightweight.streaming.stream:[MarketStream: 0]: 1.177452821 added, 1 markets in cache\n",
      "INFO:betfairlightweight.streaming.stream:[MarketStream: 0]: 1.177452821 added, 1 markets in cache\n"
     ]
    },
    {
     "name": "stdout",
     "output_type": "stream",
     "text": [
      "didnt find postplay results?\n"
     ]
    },
    {
     "name": "stderr",
     "output_type": "stream",
     "text": [
      "INFO:betfairlightweight.streaming.listener:[Register: 0]: marketSubscription\n",
      "WARNING:betfairlightweight.streaming.listener:[Listener: 0]: stream already registered, replacing data\n",
      "INFO:betfairlightweight.streaming.stream:[MarketStream: 0]: \"MarketStream\" created\n",
      "INFO:betfairlightweight.streaming.stream:[MarketStream: 0]: 1.177506713 added, 1 markets in cache\n"
     ]
    },
    {
     "name": "stdout",
     "output_type": "stream",
     "text": [
      "didnt find postplay results?\n"
     ]
    },
    {
     "name": "stderr",
     "output_type": "stream",
     "text": [
      "INFO:betfairlightweight.streaming.listener:[Register: 0]: marketSubscription\n",
      "WARNING:betfairlightweight.streaming.listener:[Listener: 0]: stream already registered, replacing data\n",
      "INFO:betfairlightweight.streaming.stream:[MarketStream: 0]: \"MarketStream\" created\n",
      "INFO:betfairlightweight.streaming.stream:[MarketStream: 0]: 1.177452823 added, 1 markets in cache\n"
     ]
    },
    {
     "name": "stdout",
     "output_type": "stream",
     "text": [
      "didnt find postplay results?\n"
     ]
    },
    {
     "name": "stderr",
     "output_type": "stream",
     "text": [
      "INFO:betfairlightweight.streaming.listener:[Register: 0]: marketSubscription\n",
      "WARNING:betfairlightweight.streaming.listener:[Listener: 0]: stream already registered, replacing data\n",
      "INFO:betfairlightweight.streaming.stream:[MarketStream: 0]: \"MarketStream\" created\n",
      "INFO:betfairlightweight.streaming.stream:[MarketStream: 0]: 1.177513942 added, 1 markets in cache\n",
      "INFO:betfairlightweight.streaming.listener:[Register: 0]: marketSubscription\n",
      "WARNING:betfairlightweight.streaming.listener:[Listener: 0]: stream already registered, replacing data\n",
      "INFO:betfairlightweight.streaming.stream:[MarketStream: 0]: \"MarketStream\" created\n",
      "INFO:betfairlightweight.streaming.stream:[MarketStream: 0]: 1.177450347 added, 1 markets in cache\n",
      "INFO:betfairlightweight.streaming.stream:[MarketStream: 0]: 1.177450347 added, 1 markets in cache\n",
      "INFO:betfairlightweight.streaming.stream:[MarketStream: 0]: 1.177450347 added, 1 markets in cache\n",
      "INFO:betfairlightweight.streaming.stream:[MarketStream: 0]: 1.177450347 added, 1 markets in cache\n",
      "INFO:betfairlightweight.streaming.stream:[MarketStream: 0]: 1.177450347 added, 1 markets in cache\n",
      "INFO:betfairlightweight.streaming.stream:[MarketStream: 0]: 1.177450347 added, 1 markets in cache\n",
      "INFO:betfairlightweight.streaming.stream:[MarketStream: 0]: 1.177450347 added, 1 markets in cache\n",
      "INFO:betfairlightweight.streaming.stream:[MarketStream: 0]: 1.177450347 added, 1 markets in cache\n",
      "INFO:betfairlightweight.streaming.stream:[MarketStream: 0]: 1.177450347 added, 1 markets in cache\n",
      "INFO:betfairlightweight.streaming.stream:[MarketStream: 0]: 1.177450347 added, 1 markets in cache\n",
      "INFO:betfairlightweight.streaming.stream:[MarketStream: 0]: 1.177450347 added, 1 markets in cache\n"
     ]
    },
    {
     "name": "stdout",
     "output_type": "stream",
     "text": [
      "didnt find postplay results?\n",
      "didnt find postplay results?\n"
     ]
    },
    {
     "name": "stderr",
     "output_type": "stream",
     "text": [
      "INFO:betfairlightweight.streaming.stream:[MarketStream: 0]: 1.177450347 added, 1 markets in cache\n",
      "INFO:betfairlightweight.streaming.stream:[MarketStream: 0]: 1.177450347 added, 1 markets in cache\n",
      "INFO:betfairlightweight.streaming.stream:[MarketStream: 0]: 1.177450347 added, 1 markets in cache\n",
      "INFO:betfairlightweight.streaming.listener:[Register: 0]: marketSubscription\n",
      "WARNING:betfairlightweight.streaming.listener:[Listener: 0]: stream already registered, replacing data\n",
      "INFO:betfairlightweight.streaming.stream:[MarketStream: 0]: \"MarketStream\" created\n",
      "INFO:betfairlightweight.streaming.stream:[MarketStream: 0]: 1.177450348 added, 1 markets in cache\n",
      "INFO:betfairlightweight.streaming.stream:[MarketStream: 0]: 1.177450348 added, 1 markets in cache\n",
      "INFO:betfairlightweight.streaming.stream:[MarketStream: 0]: 1.177450348 added, 1 markets in cache\n",
      "INFO:betfairlightweight.streaming.stream:[MarketStream: 0]: 1.177450348 added, 1 markets in cache\n",
      "INFO:betfairlightweight.streaming.stream:[MarketStream: 0]: 1.177450348 added, 1 markets in cache\n",
      "INFO:betfairlightweight.streaming.stream:[MarketStream: 0]: 1.177450348 added, 1 markets in cache\n",
      "INFO:betfairlightweight.streaming.stream:[MarketStream: 0]: 1.177450348 added, 1 markets in cache\n",
      "INFO:betfairlightweight.streaming.stream:[MarketStream: 0]: 1.177450348 added, 1 markets in cache\n",
      "INFO:betfairlightweight.streaming.stream:[MarketStream: 0]: 1.177450348 added, 1 markets in cache\n",
      "INFO:betfairlightweight.streaming.stream:[MarketStream: 0]: 1.177450348 added, 1 markets in cache\n",
      "INFO:betfairlightweight.streaming.stream:[MarketStream: 0]: 1.177450348 added, 1 markets in cache\n",
      "INFO:betfairlightweight.streaming.stream:[MarketStream: 0]: 1.177450348 added, 1 markets in cache\n",
      "INFO:betfairlightweight.streaming.stream:[MarketStream: 0]: 1.177450348 added, 1 markets in cache\n",
      "INFO:betfairlightweight.streaming.stream:[MarketStream: 0]: 1.177450348 added, 1 markets in cache\n",
      "INFO:betfairlightweight.streaming.stream:[MarketStream: 0]: 1.177450348 added, 1 markets in cache\n",
      "INFO:betfairlightweight.streaming.stream:[MarketStream: 0]: 1.177450348 added, 1 markets in cache\n"
     ]
    },
    {
     "name": "stdout",
     "output_type": "stream",
     "text": [
      "didnt find postplay results?\n"
     ]
    },
    {
     "name": "stderr",
     "output_type": "stream",
     "text": [
      "INFO:betfairlightweight.streaming.listener:[Register: 0]: marketSubscription\n",
      "WARNING:betfairlightweight.streaming.listener:[Listener: 0]: stream already registered, replacing data\n",
      "INFO:betfairlightweight.streaming.stream:[MarketStream: 0]: \"MarketStream\" created\n",
      "INFO:betfairlightweight.streaming.stream:[MarketStream: 0]: 1.178612660 added, 1 markets in cache\n"
     ]
    },
    {
     "name": "stdout",
     "output_type": "stream",
     "text": [
      "didnt find postplay results?\n"
     ]
    },
    {
     "name": "stderr",
     "output_type": "stream",
     "text": [
      "INFO:betfairlightweight.streaming.listener:[Register: 0]: marketSubscription\n",
      "WARNING:betfairlightweight.streaming.listener:[Listener: 0]: stream already registered, replacing data\n",
      "INFO:betfairlightweight.streaming.stream:[MarketStream: 0]: \"MarketStream\" created\n",
      "INFO:betfairlightweight.streaming.stream:[MarketStream: 0]: 1.177447197 added, 1 markets in cache\n",
      "INFO:betfairlightweight.streaming.stream:[MarketStream: 0]: 1.177447197 added, 1 markets in cache\n",
      "INFO:betfairlightweight.streaming.stream:[MarketStream: 0]: 1.177447197 added, 1 markets in cache\n",
      "INFO:betfairlightweight.streaming.stream:[MarketStream: 0]: 1.177447197 added, 1 markets in cache\n",
      "INFO:betfairlightweight.streaming.stream:[MarketStream: 0]: 1.177447197 added, 1 markets in cache\n",
      "INFO:betfairlightweight.streaming.stream:[MarketStream: 0]: 1.177447197 added, 1 markets in cache\n",
      "INFO:betfairlightweight.streaming.stream:[MarketStream: 0]: 1.177447197 added, 1 markets in cache\n",
      "INFO:betfairlightweight.streaming.stream:[MarketStream: 0]: 1.177447197 added, 1 markets in cache\n",
      "INFO:betfairlightweight.streaming.stream:[MarketStream: 0]: 1.177447197 added, 1 markets in cache\n",
      "INFO:betfairlightweight.streaming.stream:[MarketStream: 0]: 1.177447197 added, 1 markets in cache\n",
      "INFO:betfairlightweight.streaming.stream:[MarketStream: 0]: 1.177447197 added, 1 markets in cache\n",
      "INFO:betfairlightweight.streaming.stream:[MarketStream: 0]: 1.177447197 added, 1 markets in cache\n",
      "INFO:betfairlightweight.streaming.stream:[MarketStream: 0]: 1.177447197 added, 1 markets in cache\n",
      "INFO:betfairlightweight.streaming.stream:[MarketStream: 0]: 1.177447197 added, 1 markets in cache\n",
      "INFO:betfairlightweight.streaming.stream:[MarketStream: 0]: 1.177447197 added, 1 markets in cache\n",
      "INFO:betfairlightweight.streaming.stream:[MarketStream: 0]: 1.177447197 added, 1 markets in cache\n"
     ]
    },
    {
     "name": "stdout",
     "output_type": "stream",
     "text": [
      "didnt find postplay results?\n"
     ]
    },
    {
     "name": "stderr",
     "output_type": "stream",
     "text": [
      "INFO:betfairlightweight.streaming.listener:[Register: 0]: marketSubscription\n",
      "WARNING:betfairlightweight.streaming.listener:[Listener: 0]: stream already registered, replacing data\n",
      "INFO:betfairlightweight.streaming.stream:[MarketStream: 0]: \"MarketStream\" created\n",
      "INFO:betfairlightweight.streaming.stream:[MarketStream: 0]: 1.177514998 added, 1 markets in cache\n",
      "INFO:betfairlightweight.streaming.listener:[Register: 0]: marketSubscription\n",
      "WARNING:betfairlightweight.streaming.listener:[Listener: 0]: stream already registered, replacing data\n",
      "INFO:betfairlightweight.streaming.stream:[MarketStream: 0]: \"MarketStream\" created\n",
      "INFO:betfairlightweight.streaming.stream:[MarketStream: 0]: 1.177447198 added, 1 markets in cache\n",
      "INFO:betfairlightweight.streaming.stream:[MarketStream: 0]: 1.177447198 added, 1 markets in cache\n",
      "INFO:betfairlightweight.streaming.stream:[MarketStream: 0]: 1.177447198 added, 1 markets in cache\n",
      "INFO:betfairlightweight.streaming.stream:[MarketStream: 0]: 1.177447198 added, 1 markets in cache\n",
      "INFO:betfairlightweight.streaming.stream:[MarketStream: 0]: 1.177447198 added, 1 markets in cache\n",
      "INFO:betfairlightweight.streaming.stream:[MarketStream: 0]: 1.177447198 added, 1 markets in cache\n",
      "INFO:betfairlightweight.streaming.stream:[MarketStream: 0]: 1.177447198 added, 1 markets in cache\n",
      "INFO:betfairlightweight.streaming.stream:[MarketStream: 0]: 1.177447198 added, 1 markets in cache\n",
      "INFO:betfairlightweight.streaming.stream:[MarketStream: 0]: 1.177447198 added, 1 markets in cache\n",
      "INFO:betfairlightweight.streaming.stream:[MarketStream: 0]: 1.177447198 added, 1 markets in cache\n",
      "INFO:betfairlightweight.streaming.stream:[MarketStream: 0]: 1.177447198 added, 1 markets in cache\n",
      "INFO:betfairlightweight.streaming.stream:[MarketStream: 0]: 1.177447198 added, 1 markets in cache\n",
      "INFO:betfairlightweight.streaming.stream:[MarketStream: 0]: 1.177447198 added, 1 markets in cache\n",
      "INFO:betfairlightweight.streaming.stream:[MarketStream: 0]: 1.177447198 added, 1 markets in cache\n",
      "INFO:betfairlightweight.streaming.stream:[MarketStream: 0]: 1.177447198 added, 1 markets in cache\n"
     ]
    },
    {
     "name": "stdout",
     "output_type": "stream",
     "text": [
      "didnt find postplay results?\n",
      "didnt find postplay results?\n"
     ]
    },
    {
     "name": "stderr",
     "output_type": "stream",
     "text": [
      "INFO:betfairlightweight.streaming.listener:[Register: 0]: marketSubscription\n",
      "WARNING:betfairlightweight.streaming.listener:[Listener: 0]: stream already registered, replacing data\n",
      "INFO:betfairlightweight.streaming.stream:[MarketStream: 0]: \"MarketStream\" created\n",
      "INFO:betfairlightweight.streaming.stream:[MarketStream: 0]: 1.177447212 added, 1 markets in cache\n",
      "INFO:betfairlightweight.streaming.listener:[Register: 0]: marketSubscription\n",
      "WARNING:betfairlightweight.streaming.listener:[Listener: 0]: stream already registered, replacing data\n",
      "INFO:betfairlightweight.streaming.stream:[MarketStream: 0]: \"MarketStream\" created\n",
      "INFO:betfairlightweight.streaming.stream:[MarketStream: 0]: 1.178557380 added, 1 markets in cache\n",
      "INFO:betfairlightweight.streaming.stream:[MarketStream: 0]: 1.178557380 added, 1 markets in cache\n",
      "INFO:betfairlightweight.streaming.stream:[MarketStream: 0]: 1.178557380 added, 1 markets in cache\n",
      "INFO:betfairlightweight.streaming.stream:[MarketStream: 0]: 1.178557380 added, 1 markets in cache\n",
      "INFO:betfairlightweight.streaming.stream:[MarketStream: 0]: 1.178557380 added, 1 markets in cache\n"
     ]
    },
    {
     "name": "stdout",
     "output_type": "stream",
     "text": [
      "didnt find postplay results?\n",
      "didnt find postplay results?\n"
     ]
    },
    {
     "name": "stderr",
     "output_type": "stream",
     "text": [
      "INFO:betfairlightweight.streaming.stream:[MarketStream: 0]: 1.178557380 added, 1 markets in cache\n",
      "INFO:betfairlightweight.streaming.stream:[MarketStream: 0]: 1.178557380 added, 1 markets in cache\n",
      "INFO:betfairlightweight.streaming.listener:[Register: 0]: marketSubscription\n",
      "WARNING:betfairlightweight.streaming.listener:[Listener: 0]: stream already registered, replacing data\n",
      "INFO:betfairlightweight.streaming.stream:[MarketStream: 0]: \"MarketStream\" created\n",
      "INFO:betfairlightweight.streaming.stream:[MarketStream: 0]: 1.177454799 added, 1 markets in cache\n",
      "INFO:betfairlightweight.streaming.stream:[MarketStream: 0]: 1.177454799 added, 1 markets in cache\n",
      "INFO:betfairlightweight.streaming.stream:[MarketStream: 0]: 1.177454799 added, 1 markets in cache\n",
      "INFO:betfairlightweight.streaming.stream:[MarketStream: 0]: 1.177454799 added, 1 markets in cache\n",
      "INFO:betfairlightweight.streaming.stream:[MarketStream: 0]: 1.177454799 added, 1 markets in cache\n",
      "INFO:betfairlightweight.streaming.stream:[MarketStream: 0]: 1.177454799 added, 1 markets in cache\n",
      "INFO:betfairlightweight.streaming.stream:[MarketStream: 0]: 1.177454799 added, 1 markets in cache\n",
      "INFO:betfairlightweight.streaming.stream:[MarketStream: 0]: 1.177454799 added, 1 markets in cache\n",
      "INFO:betfairlightweight.streaming.stream:[MarketStream: 0]: 1.177454799 added, 1 markets in cache\n",
      "INFO:betfairlightweight.streaming.stream:[MarketStream: 0]: 1.177454799 added, 1 markets in cache\n",
      "INFO:betfairlightweight.streaming.stream:[MarketStream: 0]: 1.177454799 added, 1 markets in cache\n",
      "INFO:betfairlightweight.streaming.stream:[MarketStream: 0]: 1.177454799 added, 1 markets in cache\n",
      "INFO:betfairlightweight.streaming.stream:[MarketStream: 0]: 1.177454799 added, 1 markets in cache\n",
      "INFO:betfairlightweight.streaming.stream:[MarketStream: 0]: 1.177454799 added, 1 markets in cache\n",
      "INFO:betfairlightweight.streaming.stream:[MarketStream: 0]: 1.177454799 added, 1 markets in cache\n"
     ]
    },
    {
     "name": "stdout",
     "output_type": "stream",
     "text": [
      "didnt find postplay results?\n"
     ]
    },
    {
     "name": "stderr",
     "output_type": "stream",
     "text": [
      "INFO:betfairlightweight.streaming.listener:[Register: 0]: marketSubscription\n",
      "WARNING:betfairlightweight.streaming.listener:[Listener: 0]: stream already registered, replacing data\n",
      "INFO:betfairlightweight.streaming.stream:[MarketStream: 0]: \"MarketStream\" created\n",
      "INFO:betfairlightweight.streaming.stream:[MarketStream: 0]: 1.178612659 added, 1 markets in cache\n",
      "INFO:betfairlightweight.streaming.stream:[MarketStream: 0]: 1.178612659 added, 1 markets in cache\n",
      "INFO:betfairlightweight.streaming.stream:[MarketStream: 0]: 1.178612659 added, 1 markets in cache\n",
      "INFO:betfairlightweight.streaming.stream:[MarketStream: 0]: 1.178612659 added, 1 markets in cache\n",
      "INFO:betfairlightweight.streaming.stream:[MarketStream: 0]: 1.178612659 added, 1 markets in cache\n"
     ]
    },
    {
     "name": "stdout",
     "output_type": "stream",
     "text": [
      "didnt find postplay results?\n"
     ]
    },
    {
     "name": "stderr",
     "output_type": "stream",
     "text": [
      "INFO:betfairlightweight.streaming.listener:[Register: 0]: marketSubscription\n",
      "WARNING:betfairlightweight.streaming.listener:[Listener: 0]: stream already registered, replacing data\n",
      "INFO:betfairlightweight.streaming.stream:[MarketStream: 0]: \"MarketStream\" created\n",
      "INFO:betfairlightweight.streaming.stream:[MarketStream: 0]: 1.177454801 added, 1 markets in cache\n",
      "INFO:betfairlightweight.streaming.stream:[MarketStream: 0]: 1.177454801 added, 1 markets in cache\n"
     ]
    },
    {
     "name": "stdout",
     "output_type": "stream",
     "text": [
      "didnt find postplay results?\n"
     ]
    },
    {
     "name": "stderr",
     "output_type": "stream",
     "text": [
      "INFO:betfairlightweight.streaming.listener:[Register: 0]: marketSubscription\n",
      "WARNING:betfairlightweight.streaming.listener:[Listener: 0]: stream already registered, replacing data\n",
      "INFO:betfairlightweight.streaming.stream:[MarketStream: 0]: \"MarketStream\" created\n",
      "INFO:betfairlightweight.streaming.stream:[MarketStream: 0]: 1.177454800 added, 1 markets in cache\n"
     ]
    },
    {
     "name": "stdout",
     "output_type": "stream",
     "text": [
      "didnt find postplay results?\n"
     ]
    },
    {
     "name": "stderr",
     "output_type": "stream",
     "text": [
      "INFO:betfairlightweight.streaming.listener:[Register: 0]: marketSubscription\n",
      "WARNING:betfairlightweight.streaming.listener:[Listener: 0]: stream already registered, replacing data\n",
      "INFO:betfairlightweight.streaming.stream:[MarketStream: 0]: \"MarketStream\" created\n",
      "INFO:betfairlightweight.streaming.stream:[MarketStream: 0]: 1.178644103 added, 1 markets in cache\n",
      "INFO:betfairlightweight.streaming.listener:[Register: 0]: marketSubscription\n",
      "WARNING:betfairlightweight.streaming.listener:[Listener: 0]: stream already registered, replacing data\n",
      "INFO:betfairlightweight.streaming.stream:[MarketStream: 0]: \"MarketStream\" created\n",
      "INFO:betfairlightweight.streaming.stream:[MarketStream: 0]: 1.177454802 added, 1 markets in cache\n"
     ]
    },
    {
     "name": "stdout",
     "output_type": "stream",
     "text": [
      "didnt find postplay results?\n",
      "didnt find postplay results?\n"
     ]
    },
    {
     "name": "stderr",
     "output_type": "stream",
     "text": [
      "INFO:betfairlightweight.streaming.listener:[Register: 0]: marketSubscription\n",
      "WARNING:betfairlightweight.streaming.listener:[Listener: 0]: stream already registered, replacing data\n",
      "INFO:betfairlightweight.streaming.stream:[MarketStream: 0]: \"MarketStream\" created\n",
      "INFO:betfairlightweight.streaming.stream:[MarketStream: 0]: 1.178653052 added, 1 markets in cache\n",
      "INFO:betfairlightweight.streaming.listener:[Register: 0]: marketSubscription\n",
      "WARNING:betfairlightweight.streaming.listener:[Listener: 0]: stream already registered, replacing data\n",
      "INFO:betfairlightweight.streaming.stream:[MarketStream: 0]: \"MarketStream\" created\n",
      "INFO:betfairlightweight.streaming.stream:[MarketStream: 0]: 1.177454803 added, 1 markets in cache\n"
     ]
    },
    {
     "name": "stdout",
     "output_type": "stream",
     "text": [
      "didnt find postplay results?\n",
      "didnt find postplay results?\n"
     ]
    },
    {
     "name": "stderr",
     "output_type": "stream",
     "text": [
      "INFO:betfairlightweight.streaming.listener:[Register: 0]: marketSubscription\n",
      "WARNING:betfairlightweight.streaming.listener:[Listener: 0]: stream already registered, replacing data\n",
      "INFO:betfairlightweight.streaming.stream:[MarketStream: 0]: \"MarketStream\" created\n",
      "INFO:betfairlightweight.streaming.stream:[MarketStream: 0]: 1.178647110 added, 1 markets in cache\n"
     ]
    },
    {
     "name": "stdout",
     "output_type": "stream",
     "text": [
      "didnt find postplay results?\n"
     ]
    },
    {
     "name": "stderr",
     "output_type": "stream",
     "text": [
      "INFO:betfairlightweight.streaming.listener:[Register: 0]: marketSubscription\n",
      "WARNING:betfairlightweight.streaming.listener:[Listener: 0]: stream already registered, replacing data\n",
      "INFO:betfairlightweight.streaming.stream:[MarketStream: 0]: \"MarketStream\" created\n",
      "INFO:betfairlightweight.streaming.stream:[MarketStream: 0]: 1.177450349 added, 1 markets in cache\n",
      "INFO:betfairlightweight.streaming.stream:[MarketStream: 0]: 1.177450349 added, 1 markets in cache\n",
      "INFO:betfairlightweight.streaming.stream:[MarketStream: 0]: 1.177450349 added, 1 markets in cache\n",
      "INFO:betfairlightweight.streaming.stream:[MarketStream: 0]: 1.177450349 added, 1 markets in cache\n",
      "INFO:betfairlightweight.streaming.stream:[MarketStream: 0]: 1.177450349 added, 1 markets in cache\n",
      "INFO:betfairlightweight.streaming.stream:[MarketStream: 0]: 1.177450349 added, 1 markets in cache\n",
      "INFO:betfairlightweight.streaming.stream:[MarketStream: 0]: 1.177450349 added, 1 markets in cache\n",
      "INFO:betfairlightweight.streaming.stream:[MarketStream: 0]: 1.177450349 added, 1 markets in cache\n",
      "INFO:betfairlightweight.streaming.stream:[MarketStream: 0]: 1.177450349 added, 1 markets in cache\n",
      "INFO:betfairlightweight.streaming.stream:[MarketStream: 0]: 1.177450349 added, 1 markets in cache\n",
      "INFO:betfairlightweight.streaming.stream:[MarketStream: 0]: 1.177450349 added, 1 markets in cache\n",
      "INFO:betfairlightweight.streaming.stream:[MarketStream: 0]: 1.177450349 added, 1 markets in cache\n",
      "INFO:betfairlightweight.streaming.stream:[MarketStream: 0]: 1.177450349 added, 1 markets in cache\n",
      "INFO:betfairlightweight.streaming.stream:[MarketStream: 0]: 1.177450349 added, 1 markets in cache\n",
      "INFO:betfairlightweight.streaming.stream:[MarketStream: 0]: 1.177450349 added, 1 markets in cache\n"
     ]
    },
    {
     "name": "stdout",
     "output_type": "stream",
     "text": [
      "didnt find postplay results?\n"
     ]
    },
    {
     "name": "stderr",
     "output_type": "stream",
     "text": [
      "INFO:betfairlightweight.streaming.listener:[Register: 0]: marketSubscription\n",
      "WARNING:betfairlightweight.streaming.listener:[Listener: 0]: stream already registered, replacing data\n",
      "INFO:betfairlightweight.streaming.stream:[MarketStream: 0]: \"MarketStream\" created\n",
      "INFO:betfairlightweight.streaming.stream:[MarketStream: 0]: 1.177450350 added, 1 markets in cache\n",
      "INFO:betfairlightweight.streaming.stream:[MarketStream: 0]: 1.177450350 added, 1 markets in cache\n",
      "INFO:betfairlightweight.streaming.stream:[MarketStream: 0]: 1.177450350 added, 1 markets in cache\n",
      "INFO:betfairlightweight.streaming.stream:[MarketStream: 0]: 1.177450350 added, 1 markets in cache\n",
      "INFO:betfairlightweight.streaming.stream:[MarketStream: 0]: 1.177450350 added, 1 markets in cache\n",
      "INFO:betfairlightweight.streaming.stream:[MarketStream: 0]: 1.177450350 added, 1 markets in cache\n",
      "INFO:betfairlightweight.streaming.stream:[MarketStream: 0]: 1.177450350 added, 1 markets in cache\n",
      "INFO:betfairlightweight.streaming.stream:[MarketStream: 0]: 1.177450350 added, 1 markets in cache\n",
      "INFO:betfairlightweight.streaming.stream:[MarketStream: 0]: 1.177450350 added, 1 markets in cache\n",
      "INFO:betfairlightweight.streaming.stream:[MarketStream: 0]: 1.177450350 added, 1 markets in cache\n",
      "INFO:betfairlightweight.streaming.stream:[MarketStream: 0]: 1.177450350 added, 1 markets in cache\n",
      "INFO:betfairlightweight.streaming.stream:[MarketStream: 0]: 1.177450350 added, 1 markets in cache\n",
      "INFO:betfairlightweight.streaming.stream:[MarketStream: 0]: 1.177450350 added, 1 markets in cache\n",
      "INFO:betfairlightweight.streaming.stream:[MarketStream: 0]: 1.177450350 added, 1 markets in cache\n",
      "INFO:betfairlightweight.streaming.stream:[MarketStream: 0]: 1.177450350 added, 1 markets in cache\n"
     ]
    },
    {
     "name": "stdout",
     "output_type": "stream",
     "text": [
      "didnt find postplay results?\n"
     ]
    },
    {
     "name": "stderr",
     "output_type": "stream",
     "text": [
      "INFO:betfairlightweight.streaming.listener:[Register: 0]: marketSubscription\n",
      "WARNING:betfairlightweight.streaming.listener:[Listener: 0]: stream already registered, replacing data\n",
      "INFO:betfairlightweight.streaming.stream:[MarketStream: 0]: \"MarketStream\" created\n",
      "INFO:betfairlightweight.streaming.stream:[MarketStream: 0]: 1.177514009 added, 1 markets in cache\n",
      "INFO:betfairlightweight.streaming.listener:[Register: 0]: marketSubscription\n",
      "WARNING:betfairlightweight.streaming.listener:[Listener: 0]: stream already registered, replacing data\n",
      "INFO:betfairlightweight.streaming.stream:[MarketStream: 0]: \"MarketStream\" created\n",
      "INFO:betfairlightweight.streaming.stream:[MarketStream: 0]: 1.177482132 added, 1 markets in cache\n",
      "INFO:betfairlightweight.streaming.stream:[MarketStream: 0]: 1.177482132 added, 1 markets in cache\n",
      "INFO:betfairlightweight.streaming.stream:[MarketStream: 0]: 1.177482132 added, 1 markets in cache\n",
      "INFO:betfairlightweight.streaming.stream:[MarketStream: 0]: 1.177482132 added, 1 markets in cache\n",
      "INFO:betfairlightweight.streaming.stream:[MarketStream: 0]: 1.177482132 added, 1 markets in cache\n",
      "INFO:betfairlightweight.streaming.stream:[MarketStream: 0]: 1.177482132 added, 1 markets in cache\n"
     ]
    },
    {
     "name": "stdout",
     "output_type": "stream",
     "text": [
      "didnt find postplay results?\n",
      "didnt find postplay results?\n"
     ]
    },
    {
     "name": "stderr",
     "output_type": "stream",
     "text": [
      "INFO:betfairlightweight.streaming.listener:[Register: 0]: marketSubscription\n",
      "WARNING:betfairlightweight.streaming.listener:[Listener: 0]: stream already registered, replacing data\n",
      "INFO:betfairlightweight.streaming.stream:[MarketStream: 0]: \"MarketStream\" created\n",
      "INFO:betfairlightweight.streaming.stream:[MarketStream: 0]: 1.177482133 added, 1 markets in cache\n",
      "INFO:betfairlightweight.streaming.stream:[MarketStream: 0]: 1.177482133 added, 1 markets in cache\n"
     ]
    },
    {
     "name": "stdout",
     "output_type": "stream",
     "text": [
      "didnt find postplay results?\n"
     ]
    },
    {
     "name": "stderr",
     "output_type": "stream",
     "text": [
      "INFO:betfairlightweight.streaming.listener:[Register: 0]: marketSubscription\n",
      "WARNING:betfairlightweight.streaming.listener:[Listener: 0]: stream already registered, replacing data\n",
      "INFO:betfairlightweight.streaming.stream:[MarketStream: 0]: \"MarketStream\" created\n",
      "INFO:betfairlightweight.streaming.stream:[MarketStream: 0]: 1.178559051 added, 1 markets in cache\n"
     ]
    },
    {
     "name": "stdout",
     "output_type": "stream",
     "text": [
      "didnt find postplay results?\n"
     ]
    },
    {
     "name": "stderr",
     "output_type": "stream",
     "text": [
      "INFO:betfairlightweight.streaming.listener:[Register: 0]: marketSubscription\n",
      "WARNING:betfairlightweight.streaming.listener:[Listener: 0]: stream already registered, replacing data\n",
      "INFO:betfairlightweight.streaming.stream:[MarketStream: 0]: \"MarketStream\" created\n",
      "INFO:betfairlightweight.streaming.stream:[MarketStream: 0]: 1.177452828 added, 1 markets in cache\n"
     ]
    },
    {
     "name": "stdout",
     "output_type": "stream",
     "text": [
      "didnt find postplay results?\n"
     ]
    },
    {
     "name": "stderr",
     "output_type": "stream",
     "text": [
      "INFO:betfairlightweight.streaming.listener:[Register: 0]: marketSubscription\n",
      "WARNING:betfairlightweight.streaming.listener:[Listener: 0]: stream already registered, replacing data\n",
      "INFO:betfairlightweight.streaming.stream:[MarketStream: 0]: \"MarketStream\" created\n",
      "INFO:betfairlightweight.streaming.stream:[MarketStream: 0]: 1.177452825 added, 1 markets in cache\n"
     ]
    },
    {
     "name": "stdout",
     "output_type": "stream",
     "text": [
      "didnt find postplay results?\n"
     ]
    },
    {
     "name": "stderr",
     "output_type": "stream",
     "text": [
      "INFO:betfairlightweight.streaming.listener:[Register: 0]: marketSubscription\n",
      "WARNING:betfairlightweight.streaming.listener:[Listener: 0]: stream already registered, replacing data\n",
      "INFO:betfairlightweight.streaming.stream:[MarketStream: 0]: \"MarketStream\" created\n",
      "INFO:betfairlightweight.streaming.stream:[MarketStream: 0]: 1.177452824 added, 1 markets in cache\n",
      "INFO:betfairlightweight.streaming.stream:[MarketStream: 0]: 1.177452824 added, 1 markets in cache\n",
      "INFO:betfairlightweight.streaming.stream:[MarketStream: 0]: 1.177452824 added, 1 markets in cache\n",
      "INFO:betfairlightweight.streaming.stream:[MarketStream: 0]: 1.177452824 added, 1 markets in cache\n",
      "INFO:betfairlightweight.streaming.stream:[MarketStream: 0]: 1.177452824 added, 1 markets in cache\n",
      "INFO:betfairlightweight.streaming.stream:[MarketStream: 0]: 1.177452824 added, 1 markets in cache\n",
      "INFO:betfairlightweight.streaming.stream:[MarketStream: 0]: 1.177452824 added, 1 markets in cache\n",
      "INFO:betfairlightweight.streaming.stream:[MarketStream: 0]: 1.177452824 added, 1 markets in cache\n",
      "INFO:betfairlightweight.streaming.stream:[MarketStream: 0]: 1.177452824 added, 1 markets in cache\n",
      "INFO:betfairlightweight.streaming.stream:[MarketStream: 0]: 1.177452824 added, 1 markets in cache\n",
      "INFO:betfairlightweight.streaming.stream:[MarketStream: 0]: 1.177452824 added, 1 markets in cache\n",
      "INFO:betfairlightweight.streaming.stream:[MarketStream: 0]: 1.177452824 added, 1 markets in cache\n",
      "INFO:betfairlightweight.streaming.stream:[MarketStream: 0]: 1.177452824 added, 1 markets in cache\n",
      "INFO:betfairlightweight.streaming.stream:[MarketStream: 0]: 1.177452824 added, 1 markets in cache\n"
     ]
    },
    {
     "name": "stdout",
     "output_type": "stream",
     "text": [
      "didnt find postplay results?\n"
     ]
    },
    {
     "name": "stderr",
     "output_type": "stream",
     "text": [
      "INFO:betfairlightweight.streaming.stream:[MarketStream: 0]: 1.177452824 added, 1 markets in cache\n",
      "INFO:betfairlightweight.streaming.listener:[Register: 0]: marketSubscription\n",
      "WARNING:betfairlightweight.streaming.listener:[Listener: 0]: stream already registered, replacing data\n",
      "INFO:betfairlightweight.streaming.stream:[MarketStream: 0]: \"MarketStream\" created\n",
      "INFO:betfairlightweight.streaming.stream:[MarketStream: 0]: 1.177513943 added, 1 markets in cache\n",
      "INFO:betfairlightweight.streaming.listener:[Register: 0]: marketSubscription\n",
      "WARNING:betfairlightweight.streaming.listener:[Listener: 0]: stream already registered, replacing data\n",
      "INFO:betfairlightweight.streaming.stream:[MarketStream: 0]: \"MarketStream\" created\n",
      "INFO:betfairlightweight.streaming.stream:[MarketStream: 0]: 1.178559050 added, 1 markets in cache\n",
      "INFO:betfairlightweight.streaming.stream:[MarketStream: 0]: 1.178559050 added, 1 markets in cache\n",
      "INFO:betfairlightweight.streaming.stream:[MarketStream: 0]: 1.178559050 added, 1 markets in cache\n"
     ]
    },
    {
     "name": "stdout",
     "output_type": "stream",
     "text": [
      "didnt find postplay results?\n",
      "didnt find postplay results?\n"
     ]
    },
    {
     "name": "stderr",
     "output_type": "stream",
     "text": [
      "INFO:betfairlightweight.streaming.stream:[MarketStream: 0]: 1.178559050 added, 1 markets in cache\n",
      "INFO:betfairlightweight.streaming.listener:[Register: 0]: marketSubscription\n",
      "WARNING:betfairlightweight.streaming.listener:[Listener: 0]: stream already registered, replacing data\n",
      "INFO:betfairlightweight.streaming.stream:[MarketStream: 0]: \"MarketStream\" created\n",
      "INFO:betfairlightweight.streaming.stream:[MarketStream: 0]: 1.177452826 added, 1 markets in cache\n"
     ]
    },
    {
     "name": "stdout",
     "output_type": "stream",
     "text": [
      "didnt find postplay results?\n"
     ]
    },
    {
     "name": "stderr",
     "output_type": "stream",
     "text": [
      "INFO:betfairlightweight.streaming.listener:[Register: 0]: marketSubscription\n",
      "WARNING:betfairlightweight.streaming.listener:[Listener: 0]: stream already registered, replacing data\n",
      "INFO:betfairlightweight.streaming.stream:[MarketStream: 0]: \"MarketStream\" created\n",
      "INFO:betfairlightweight.streaming.stream:[MarketStream: 0]: 1.177452827 added, 1 markets in cache\n"
     ]
    },
    {
     "name": "stdout",
     "output_type": "stream",
     "text": [
      "didnt find postplay results?\n"
     ]
    },
    {
     "name": "stderr",
     "output_type": "stream",
     "text": [
      "INFO:betfairlightweight.streaming.listener:[Register: 0]: marketSubscription\n",
      "WARNING:betfairlightweight.streaming.listener:[Listener: 0]: stream already registered, replacing data\n",
      "INFO:betfairlightweight.streaming.stream:[MarketStream: 0]: \"MarketStream\" created\n",
      "INFO:betfairlightweight.streaming.stream:[MarketStream: 0]: 1.177482836 added, 1 markets in cache\n"
     ]
    },
    {
     "name": "stdout",
     "output_type": "stream",
     "text": [
      "didnt find postplay results?\n"
     ]
    },
    {
     "name": "stderr",
     "output_type": "stream",
     "text": [
      "INFO:betfairlightweight.streaming.listener:[Register: 0]: marketSubscription\n",
      "WARNING:betfairlightweight.streaming.listener:[Listener: 0]: stream already registered, replacing data\n",
      "INFO:betfairlightweight.streaming.stream:[MarketStream: 0]: \"MarketStream\" created\n",
      "INFO:betfairlightweight.streaming.stream:[MarketStream: 0]: 1.177482837 added, 1 markets in cache\n",
      "INFO:betfairlightweight.streaming.stream:[MarketStream: 0]: 1.177482837 added, 1 markets in cache\n",
      "INFO:betfairlightweight.streaming.stream:[MarketStream: 0]: 1.177482837 added, 1 markets in cache\n",
      "INFO:betfairlightweight.streaming.stream:[MarketStream: 0]: 1.177482837 added, 1 markets in cache\n",
      "INFO:betfairlightweight.streaming.stream:[MarketStream: 0]: 1.177482837 added, 1 markets in cache\n",
      "INFO:betfairlightweight.streaming.stream:[MarketStream: 0]: 1.177482837 added, 1 markets in cache\n",
      "INFO:betfairlightweight.streaming.stream:[MarketStream: 0]: 1.177482837 added, 1 markets in cache\n",
      "INFO:betfairlightweight.streaming.stream:[MarketStream: 0]: 1.177482837 added, 1 markets in cache\n"
     ]
    },
    {
     "name": "stdout",
     "output_type": "stream",
     "text": [
      "didnt find postplay results?\n"
     ]
    },
    {
     "name": "stderr",
     "output_type": "stream",
     "text": [
      "INFO:betfairlightweight.streaming.listener:[Register: 0]: marketSubscription\n",
      "WARNING:betfairlightweight.streaming.listener:[Listener: 0]: stream already registered, replacing data\n",
      "INFO:betfairlightweight.streaming.stream:[MarketStream: 0]: \"MarketStream\" created\n",
      "INFO:betfairlightweight.streaming.stream:[MarketStream: 0]: 1.178559049 added, 1 markets in cache\n"
     ]
    },
    {
     "name": "stdout",
     "output_type": "stream",
     "text": [
      "didnt find postplay results?\n"
     ]
    },
    {
     "name": "stderr",
     "output_type": "stream",
     "text": [
      "INFO:betfairlightweight.streaming.listener:[Register: 0]: marketSubscription\n",
      "WARNING:betfairlightweight.streaming.listener:[Listener: 0]: stream already registered, replacing data\n",
      "INFO:betfairlightweight.streaming.stream:[MarketStream: 0]: \"MarketStream\" created\n",
      "INFO:betfairlightweight.streaming.stream:[MarketStream: 0]: 1.177450975 added, 1 markets in cache\n"
     ]
    },
    {
     "name": "stdout",
     "output_type": "stream",
     "text": [
      "didnt find postplay results?\n"
     ]
    },
    {
     "name": "stderr",
     "output_type": "stream",
     "text": [
      "INFO:betfairlightweight.streaming.listener:[Register: 0]: marketSubscription\n",
      "WARNING:betfairlightweight.streaming.listener:[Listener: 0]: stream already registered, replacing data\n",
      "INFO:betfairlightweight.streaming.stream:[MarketStream: 0]: \"MarketStream\" created\n",
      "INFO:betfairlightweight.streaming.stream:[MarketStream: 0]: 1.178559048 added, 1 markets in cache\n",
      "INFO:betfairlightweight.streaming.stream:[MarketStream: 0]: 1.178559048 added, 1 markets in cache\n",
      "INFO:betfairlightweight.streaming.stream:[MarketStream: 0]: 1.178559048 added, 1 markets in cache\n",
      "INFO:betfairlightweight.streaming.stream:[MarketStream: 0]: 1.178559048 added, 1 markets in cache\n"
     ]
    },
    {
     "name": "stdout",
     "output_type": "stream",
     "text": [
      "didnt find postplay results?\n"
     ]
    },
    {
     "name": "stderr",
     "output_type": "stream",
     "text": [
      "INFO:betfairlightweight.streaming.listener:[Register: 0]: marketSubscription\n",
      "WARNING:betfairlightweight.streaming.listener:[Listener: 0]: stream already registered, replacing data\n",
      "INFO:betfairlightweight.streaming.stream:[MarketStream: 0]: \"MarketStream\" created\n",
      "INFO:betfairlightweight.streaming.stream:[MarketStream: 0]: 1.177450973 added, 1 markets in cache\n",
      "INFO:betfairlightweight.streaming.stream:[MarketStream: 0]: 1.177450973 added, 1 markets in cache\n",
      "INFO:betfairlightweight.streaming.stream:[MarketStream: 0]: 1.177450973 added, 1 markets in cache\n",
      "INFO:betfairlightweight.streaming.stream:[MarketStream: 0]: 1.177450973 added, 1 markets in cache\n"
     ]
    },
    {
     "name": "stdout",
     "output_type": "stream",
     "text": [
      "didnt find postplay results?\n"
     ]
    },
    {
     "name": "stderr",
     "output_type": "stream",
     "text": [
      "INFO:betfairlightweight.streaming.stream:[MarketStream: 0]: 1.177450973 added, 1 markets in cache\n",
      "INFO:betfairlightweight.streaming.listener:[Register: 0]: marketSubscription\n",
      "WARNING:betfairlightweight.streaming.listener:[Listener: 0]: stream already registered, replacing data\n",
      "INFO:betfairlightweight.streaming.stream:[MarketStream: 0]: \"MarketStream\" created\n",
      "INFO:betfairlightweight.streaming.stream:[MarketStream: 0]: 1.177450972 added, 1 markets in cache\n",
      "INFO:betfairlightweight.streaming.stream:[MarketStream: 0]: 1.177450972 added, 1 markets in cache\n",
      "INFO:betfairlightweight.streaming.stream:[MarketStream: 0]: 1.177450972 added, 1 markets in cache\n",
      "INFO:betfairlightweight.streaming.stream:[MarketStream: 0]: 1.177450972 added, 1 markets in cache\n",
      "INFO:betfairlightweight.streaming.stream:[MarketStream: 0]: 1.177450972 added, 1 markets in cache\n",
      "INFO:betfairlightweight.streaming.stream:[MarketStream: 0]: 1.177450972 added, 1 markets in cache\n",
      "INFO:betfairlightweight.streaming.stream:[MarketStream: 0]: 1.177450972 added, 1 markets in cache\n",
      "INFO:betfairlightweight.streaming.stream:[MarketStream: 0]: 1.177450972 added, 1 markets in cache\n",
      "INFO:betfairlightweight.streaming.stream:[MarketStream: 0]: 1.177450972 added, 1 markets in cache\n",
      "INFO:betfairlightweight.streaming.stream:[MarketStream: 0]: 1.177450972 added, 1 markets in cache\n",
      "INFO:betfairlightweight.streaming.stream:[MarketStream: 0]: 1.177450972 added, 1 markets in cache\n",
      "INFO:betfairlightweight.streaming.stream:[MarketStream: 0]: 1.177450972 added, 1 markets in cache\n",
      "INFO:betfairlightweight.streaming.stream:[MarketStream: 0]: 1.177450972 added, 1 markets in cache\n"
     ]
    },
    {
     "name": "stdout",
     "output_type": "stream",
     "text": [
      "didnt find postplay results?\n"
     ]
    },
    {
     "name": "stderr",
     "output_type": "stream",
     "text": [
      "INFO:betfairlightweight.streaming.stream:[MarketStream: 0]: 1.177450972 added, 1 markets in cache\n",
      "INFO:betfairlightweight.streaming.stream:[MarketStream: 0]: 1.177450972 added, 1 markets in cache\n",
      "INFO:betfairlightweight.streaming.listener:[Register: 0]: marketSubscription\n",
      "WARNING:betfairlightweight.streaming.listener:[Listener: 0]: stream already registered, replacing data\n",
      "INFO:betfairlightweight.streaming.stream:[MarketStream: 0]: \"MarketStream\" created\n",
      "INFO:betfairlightweight.streaming.stream:[MarketStream: 0]: 1.177450976 added, 1 markets in cache\n"
     ]
    },
    {
     "name": "stdout",
     "output_type": "stream",
     "text": [
      "didnt find postplay results?\n"
     ]
    },
    {
     "name": "stderr",
     "output_type": "stream",
     "text": [
      "INFO:betfairlightweight.streaming.listener:[Register: 0]: marketSubscription\n",
      "WARNING:betfairlightweight.streaming.listener:[Listener: 0]: stream already registered, replacing data\n",
      "INFO:betfairlightweight.streaming.stream:[MarketStream: 0]: \"MarketStream\" created\n",
      "INFO:betfairlightweight.streaming.stream:[MarketStream: 0]: 1.177513904 added, 1 markets in cache\n",
      "INFO:betfairlightweight.streaming.listener:[Register: 0]: marketSubscription\n"
     ]
    },
    {
     "name": "stdout",
     "output_type": "stream",
     "text": [
      "didnt find postplay results?\n",
      "didnt find postplay results?\n"
     ]
    },
    {
     "name": "stderr",
     "output_type": "stream",
     "text": [
      "WARNING:betfairlightweight.streaming.listener:[Listener: 0]: stream already registered, replacing data\n",
      "INFO:betfairlightweight.streaming.stream:[MarketStream: 0]: \"MarketStream\" created\n",
      "INFO:betfairlightweight.streaming.stream:[MarketStream: 0]: 1.177515015 added, 1 markets in cache\n",
      "INFO:betfairlightweight.streaming.listener:[Register: 0]: marketSubscription\n",
      "WARNING:betfairlightweight.streaming.listener:[Listener: 0]: stream already registered, replacing data\n",
      "INFO:betfairlightweight.streaming.stream:[MarketStream: 0]: \"MarketStream\" created\n",
      "INFO:betfairlightweight.streaming.stream:[MarketStream: 0]: 1.177450974 added, 1 markets in cache\n"
     ]
    },
    {
     "name": "stdout",
     "output_type": "stream",
     "text": [
      "didnt find postplay results?\n"
     ]
    },
    {
     "name": "stderr",
     "output_type": "stream",
     "text": [
      "INFO:betfairlightweight.streaming.listener:[Register: 0]: marketSubscription\n",
      "WARNING:betfairlightweight.streaming.listener:[Listener: 0]: stream already registered, replacing data\n",
      "INFO:betfairlightweight.streaming.stream:[MarketStream: 0]: \"MarketStream\" created\n",
      "INFO:betfairlightweight.streaming.stream:[MarketStream: 0]: 1.178559047 added, 1 markets in cache\n",
      "INFO:betfairlightweight.streaming.stream:[MarketStream: 0]: 1.178559047 added, 1 markets in cache\n",
      "INFO:betfairlightweight.streaming.stream:[MarketStream: 0]: 1.178559047 added, 1 markets in cache\n",
      "INFO:betfairlightweight.streaming.stream:[MarketStream: 0]: 1.178559047 added, 1 markets in cache\n",
      "INFO:betfairlightweight.streaming.stream:[MarketStream: 0]: 1.178559047 added, 1 markets in cache\n",
      "INFO:betfairlightweight.streaming.stream:[MarketStream: 0]: 1.178559047 added, 1 markets in cache\n"
     ]
    },
    {
     "name": "stdout",
     "output_type": "stream",
     "text": [
      "didnt find postplay results?\n"
     ]
    },
    {
     "name": "stderr",
     "output_type": "stream",
     "text": [
      "INFO:betfairlightweight.streaming.stream:[MarketStream: 0]: 1.178559047 added, 1 markets in cache\n",
      "INFO:betfairlightweight.streaming.stream:[MarketStream: 0]: 1.178559047 added, 1 markets in cache\n",
      "INFO:betfairlightweight.streaming.listener:[Register: 0]: marketSubscription\n",
      "WARNING:betfairlightweight.streaming.listener:[Listener: 0]: stream already registered, replacing data\n",
      "INFO:betfairlightweight.streaming.stream:[MarketStream: 0]: \"MarketStream\" created\n",
      "INFO:betfairlightweight.streaming.stream:[MarketStream: 0]: 1.177506709 added, 1 markets in cache\n"
     ]
    },
    {
     "name": "stdout",
     "output_type": "stream",
     "text": [
      "didnt find postplay results?\n"
     ]
    },
    {
     "name": "stderr",
     "output_type": "stream",
     "text": [
      "INFO:betfairlightweight.streaming.listener:[Register: 0]: marketSubscription\n",
      "WARNING:betfairlightweight.streaming.listener:[Listener: 0]: stream already registered, replacing data\n",
      "INFO:betfairlightweight.streaming.stream:[MarketStream: 0]: \"MarketStream\" created\n",
      "INFO:betfairlightweight.streaming.stream:[MarketStream: 0]: 1.178595797 added, 1 markets in cache\n",
      "INFO:betfairlightweight.streaming.stream:[MarketStream: 0]: 1.178595797 added, 1 markets in cache\n",
      "INFO:betfairlightweight.streaming.stream:[MarketStream: 0]: 1.178595797 added, 1 markets in cache\n",
      "INFO:betfairlightweight.streaming.stream:[MarketStream: 0]: 1.178595797 added, 1 markets in cache\n",
      "INFO:betfairlightweight.streaming.stream:[MarketStream: 0]: 1.178595797 added, 1 markets in cache\n",
      "INFO:betfairlightweight.streaming.stream:[MarketStream: 0]: 1.178595797 added, 1 markets in cache\n"
     ]
    },
    {
     "name": "stdout",
     "output_type": "stream",
     "text": [
      "didnt find postplay results?\n"
     ]
    },
    {
     "name": "stderr",
     "output_type": "stream",
     "text": [
      "INFO:betfairlightweight.streaming.listener:[Register: 0]: marketSubscription\n",
      "WARNING:betfairlightweight.streaming.listener:[Listener: 0]: stream already registered, replacing data\n",
      "INFO:betfairlightweight.streaming.stream:[MarketStream: 0]: \"MarketStream\" created\n",
      "INFO:betfairlightweight.streaming.stream:[MarketStream: 0]: 1.177454805 added, 1 markets in cache\n"
     ]
    },
    {
     "name": "stdout",
     "output_type": "stream",
     "text": [
      "didnt find postplay results?\n"
     ]
    },
    {
     "name": "stderr",
     "output_type": "stream",
     "text": [
      "INFO:betfairlightweight.streaming.listener:[Register: 0]: marketSubscription\n",
      "WARNING:betfairlightweight.streaming.listener:[Listener: 0]: stream already registered, replacing data\n",
      "INFO:betfairlightweight.streaming.stream:[MarketStream: 0]: \"MarketStream\" created\n",
      "INFO:betfairlightweight.streaming.stream:[MarketStream: 0]: 1.177454804 added, 1 markets in cache\n",
      "INFO:betfairlightweight.streaming.stream:[MarketStream: 0]: 1.177454804 added, 1 markets in cache\n",
      "INFO:betfairlightweight.streaming.stream:[MarketStream: 0]: 1.177454804 added, 1 markets in cache\n",
      "INFO:betfairlightweight.streaming.stream:[MarketStream: 0]: 1.177454804 added, 1 markets in cache\n",
      "INFO:betfairlightweight.streaming.stream:[MarketStream: 0]: 1.177454804 added, 1 markets in cache\n",
      "INFO:betfairlightweight.streaming.stream:[MarketStream: 0]: 1.177454804 added, 1 markets in cache\n",
      "INFO:betfairlightweight.streaming.stream:[MarketStream: 0]: 1.177454804 added, 1 markets in cache\n",
      "INFO:betfairlightweight.streaming.stream:[MarketStream: 0]: 1.177454804 added, 1 markets in cache\n",
      "INFO:betfairlightweight.streaming.stream:[MarketStream: 0]: 1.177454804 added, 1 markets in cache\n",
      "INFO:betfairlightweight.streaming.stream:[MarketStream: 0]: 1.177454804 added, 1 markets in cache\n",
      "INFO:betfairlightweight.streaming.stream:[MarketStream: 0]: 1.177454804 added, 1 markets in cache\n",
      "INFO:betfairlightweight.streaming.stream:[MarketStream: 0]: 1.177454804 added, 1 markets in cache\n",
      "INFO:betfairlightweight.streaming.stream:[MarketStream: 0]: 1.177454804 added, 1 markets in cache\n"
     ]
    },
    {
     "name": "stdout",
     "output_type": "stream",
     "text": [
      "didnt find postplay results?\n"
     ]
    },
    {
     "name": "stderr",
     "output_type": "stream",
     "text": [
      "INFO:betfairlightweight.streaming.stream:[MarketStream: 0]: 1.177454804 added, 1 markets in cache\n",
      "INFO:betfairlightweight.streaming.listener:[Register: 0]: marketSubscription\n",
      "WARNING:betfairlightweight.streaming.listener:[Listener: 0]: stream already registered, replacing data\n",
      "INFO:betfairlightweight.streaming.stream:[MarketStream: 0]: \"MarketStream\" created\n",
      "INFO:betfairlightweight.streaming.stream:[MarketStream: 0]: 1.178659388 added, 1 markets in cache\n"
     ]
    },
    {
     "name": "stdout",
     "output_type": "stream",
     "text": [
      "didnt find postplay results?\n"
     ]
    },
    {
     "name": "stderr",
     "output_type": "stream",
     "text": [
      "INFO:betfairlightweight.streaming.listener:[Register: 0]: marketSubscription\n",
      "WARNING:betfairlightweight.streaming.listener:[Listener: 0]: stream already registered, replacing data\n",
      "INFO:betfairlightweight.streaming.stream:[MarketStream: 0]: \"MarketStream\" created\n",
      "INFO:betfairlightweight.streaming.stream:[MarketStream: 0]: 1.177454807 added, 1 markets in cache\n"
     ]
    },
    {
     "name": "stdout",
     "output_type": "stream",
     "text": [
      "didnt find postplay results?\n"
     ]
    },
    {
     "name": "stderr",
     "output_type": "stream",
     "text": [
      "INFO:betfairlightweight.streaming.listener:[Register: 0]: marketSubscription\n",
      "WARNING:betfairlightweight.streaming.listener:[Listener: 0]: stream already registered, replacing data\n",
      "INFO:betfairlightweight.streaming.stream:[MarketStream: 0]: \"MarketStream\" created\n",
      "INFO:betfairlightweight.streaming.stream:[MarketStream: 0]: 1.177454806 added, 1 markets in cache\n"
     ]
    },
    {
     "name": "stdout",
     "output_type": "stream",
     "text": [
      "didnt find postplay results?\n"
     ]
    },
    {
     "name": "stderr",
     "output_type": "stream",
     "text": [
      "INFO:betfairlightweight.streaming.listener:[Register: 0]: marketSubscription\n",
      "WARNING:betfairlightweight.streaming.listener:[Listener: 0]: stream already registered, replacing data\n",
      "INFO:betfairlightweight.streaming.stream:[MarketStream: 0]: \"MarketStream\" created\n",
      "INFO:betfairlightweight.streaming.stream:[MarketStream: 0]: 1.177454808 added, 1 markets in cache\n"
     ]
    },
    {
     "name": "stdout",
     "output_type": "stream",
     "text": [
      "didnt find postplay results?\n"
     ]
    },
    {
     "name": "stderr",
     "output_type": "stream",
     "text": [
      "INFO:betfairlightweight.streaming.listener:[Register: 0]: marketSubscription\n",
      "WARNING:betfairlightweight.streaming.listener:[Listener: 0]: stream already registered, replacing data\n",
      "INFO:betfairlightweight.streaming.stream:[MarketStream: 0]: \"MarketStream\" created\n",
      "INFO:betfairlightweight.streaming.stream:[MarketStream: 0]: 1.177450351 added, 1 markets in cache\n",
      "INFO:betfairlightweight.streaming.stream:[MarketStream: 0]: 1.177450351 added, 1 markets in cache\n",
      "INFO:betfairlightweight.streaming.stream:[MarketStream: 0]: 1.177450351 added, 1 markets in cache\n",
      "INFO:betfairlightweight.streaming.stream:[MarketStream: 0]: 1.177450351 added, 1 markets in cache\n",
      "INFO:betfairlightweight.streaming.stream:[MarketStream: 0]: 1.177450351 added, 1 markets in cache\n",
      "INFO:betfairlightweight.streaming.stream:[MarketStream: 0]: 1.177450351 added, 1 markets in cache\n",
      "INFO:betfairlightweight.streaming.stream:[MarketStream: 0]: 1.177450351 added, 1 markets in cache\n",
      "INFO:betfairlightweight.streaming.stream:[MarketStream: 0]: 1.177450351 added, 1 markets in cache\n",
      "INFO:betfairlightweight.streaming.stream:[MarketStream: 0]: 1.177450351 added, 1 markets in cache\n",
      "INFO:betfairlightweight.streaming.stream:[MarketStream: 0]: 1.177450351 added, 1 markets in cache\n",
      "INFO:betfairlightweight.streaming.stream:[MarketStream: 0]: 1.177450351 added, 1 markets in cache\n",
      "INFO:betfairlightweight.streaming.stream:[MarketStream: 0]: 1.177450351 added, 1 markets in cache\n",
      "INFO:betfairlightweight.streaming.stream:[MarketStream: 0]: 1.177450351 added, 1 markets in cache\n",
      "INFO:betfairlightweight.streaming.stream:[MarketStream: 0]: 1.177450351 added, 1 markets in cache\n"
     ]
    },
    {
     "name": "stdout",
     "output_type": "stream",
     "text": [
      "didnt find postplay results?\n"
     ]
    },
    {
     "name": "stderr",
     "output_type": "stream",
     "text": [
      "INFO:betfairlightweight.streaming.listener:[Register: 0]: marketSubscription\n",
      "WARNING:betfairlightweight.streaming.listener:[Listener: 0]: stream already registered, replacing data\n",
      "INFO:betfairlightweight.streaming.stream:[MarketStream: 0]: \"MarketStream\" created\n",
      "INFO:betfairlightweight.streaming.stream:[MarketStream: 0]: 1.177513950 added, 1 markets in cache\n",
      "INFO:betfairlightweight.streaming.listener:[Register: 0]: marketSubscription\n",
      "WARNING:betfairlightweight.streaming.listener:[Listener: 0]: stream already registered, replacing data\n",
      "INFO:betfairlightweight.streaming.stream:[MarketStream: 0]: \"MarketStream\" created\n",
      "INFO:betfairlightweight.streaming.stream:[MarketStream: 0]: 1.177450352 added, 1 markets in cache\n",
      "INFO:betfairlightweight.streaming.stream:[MarketStream: 0]: 1.177450352 added, 1 markets in cache\n",
      "INFO:betfairlightweight.streaming.stream:[MarketStream: 0]: 1.177450352 added, 1 markets in cache\n",
      "INFO:betfairlightweight.streaming.stream:[MarketStream: 0]: 1.177450352 added, 1 markets in cache\n",
      "INFO:betfairlightweight.streaming.stream:[MarketStream: 0]: 1.177450352 added, 1 markets in cache\n",
      "INFO:betfairlightweight.streaming.stream:[MarketStream: 0]: 1.177450352 added, 1 markets in cache\n",
      "INFO:betfairlightweight.streaming.stream:[MarketStream: 0]: 1.177450352 added, 1 markets in cache\n",
      "INFO:betfairlightweight.streaming.stream:[MarketStream: 0]: 1.177450352 added, 1 markets in cache\n",
      "INFO:betfairlightweight.streaming.stream:[MarketStream: 0]: 1.177450352 added, 1 markets in cache\n",
      "INFO:betfairlightweight.streaming.stream:[MarketStream: 0]: 1.177450352 added, 1 markets in cache\n",
      "INFO:betfairlightweight.streaming.stream:[MarketStream: 0]: 1.177450352 added, 1 markets in cache\n",
      "INFO:betfairlightweight.streaming.stream:[MarketStream: 0]: 1.177450352 added, 1 markets in cache\n",
      "INFO:betfairlightweight.streaming.stream:[MarketStream: 0]: 1.177450352 added, 1 markets in cache\n",
      "INFO:betfairlightweight.streaming.stream:[MarketStream: 0]: 1.177450352 added, 1 markets in cache\n",
      "INFO:betfairlightweight.streaming.stream:[MarketStream: 0]: 1.177450352 added, 1 markets in cache\n",
      "INFO:betfairlightweight.streaming.stream:[MarketStream: 0]: 1.177450352 added, 1 markets in cache\n"
     ]
    },
    {
     "name": "stdout",
     "output_type": "stream",
     "text": [
      "didnt find postplay results?\n",
      "didnt find postplay results?\n"
     ]
    },
    {
     "name": "stderr",
     "output_type": "stream",
     "text": [
      "INFO:betfairlightweight.streaming.listener:[Register: 0]: marketSubscription\n",
      "WARNING:betfairlightweight.streaming.listener:[Listener: 0]: stream already registered, replacing data\n",
      "INFO:betfairlightweight.streaming.stream:[MarketStream: 0]: \"MarketStream\" created\n",
      "INFO:betfairlightweight.streaming.stream:[MarketStream: 0]: 1.177514403 added, 1 markets in cache\n",
      "INFO:betfairlightweight.streaming.listener:[Register: 0]: marketSubscription\n",
      "WARNING:betfairlightweight.streaming.listener:[Listener: 0]: stream already registered, replacing data\n",
      "INFO:betfairlightweight.streaming.stream:[MarketStream: 0]: \"MarketStream\" created\n",
      "INFO:betfairlightweight.streaming.stream:[MarketStream: 0]: 1.177482135 added, 1 markets in cache\n",
      "INFO:betfairlightweight.streaming.stream:[MarketStream: 0]: 1.177482135 added, 1 markets in cache\n"
     ]
    },
    {
     "name": "stdout",
     "output_type": "stream",
     "text": [
      "didnt find postplay results?\n",
      "didnt find postplay results?\n"
     ]
    },
    {
     "name": "stderr",
     "output_type": "stream",
     "text": [
      "INFO:betfairlightweight.streaming.listener:[Register: 0]: marketSubscription\n",
      "WARNING:betfairlightweight.streaming.listener:[Listener: 0]: stream already registered, replacing data\n",
      "INFO:betfairlightweight.streaming.stream:[MarketStream: 0]: \"MarketStream\" created\n",
      "INFO:betfairlightweight.streaming.stream:[MarketStream: 0]: 1.177482134 added, 1 markets in cache\n",
      "INFO:betfairlightweight.streaming.stream:[MarketStream: 0]: 1.177482134 added, 1 markets in cache\n",
      "INFO:betfairlightweight.streaming.stream:[MarketStream: 0]: 1.177482134 added, 1 markets in cache\n",
      "INFO:betfairlightweight.streaming.stream:[MarketStream: 0]: 1.177482134 added, 1 markets in cache\n",
      "INFO:betfairlightweight.streaming.stream:[MarketStream: 0]: 1.177482134 added, 1 markets in cache\n",
      "INFO:betfairlightweight.streaming.stream:[MarketStream: 0]: 1.177482134 added, 1 markets in cache\n",
      "INFO:betfairlightweight.streaming.stream:[MarketStream: 0]: 1.177482134 added, 1 markets in cache\n",
      "INFO:betfairlightweight.streaming.stream:[MarketStream: 0]: 1.177482134 added, 1 markets in cache\n"
     ]
    },
    {
     "name": "stdout",
     "output_type": "stream",
     "text": [
      "didnt find postplay results?\n"
     ]
    },
    {
     "name": "stderr",
     "output_type": "stream",
     "text": [
      "INFO:betfairlightweight.streaming.listener:[Register: 0]: marketSubscription\n",
      "WARNING:betfairlightweight.streaming.listener:[Listener: 0]: stream already registered, replacing data\n",
      "INFO:betfairlightweight.streaming.stream:[MarketStream: 0]: \"MarketStream\" created\n",
      "INFO:betfairlightweight.streaming.stream:[MarketStream: 0]: 1.177506714 added, 1 markets in cache\n"
     ]
    },
    {
     "name": "stdout",
     "output_type": "stream",
     "text": [
      "didnt find postplay results?\n"
     ]
    },
    {
     "name": "stderr",
     "output_type": "stream",
     "text": [
      "INFO:betfairlightweight.streaming.listener:[Register: 0]: marketSubscription\n",
      "WARNING:betfairlightweight.streaming.listener:[Listener: 0]: stream already registered, replacing data\n",
      "INFO:betfairlightweight.streaming.stream:[MarketStream: 0]: \"MarketStream\" created\n",
      "INFO:betfairlightweight.streaming.stream:[MarketStream: 0]: 1.177452830 added, 1 markets in cache\n",
      "INFO:betfairlightweight.streaming.stream:[MarketStream: 0]: 1.177452830 added, 1 markets in cache\n",
      "INFO:betfairlightweight.streaming.stream:[MarketStream: 0]: 1.177452830 added, 1 markets in cache\n",
      "INFO:betfairlightweight.streaming.stream:[MarketStream: 0]: 1.177452830 added, 1 markets in cache\n",
      "INFO:betfairlightweight.streaming.stream:[MarketStream: 0]: 1.177452830 added, 1 markets in cache\n",
      "INFO:betfairlightweight.streaming.stream:[MarketStream: 0]: 1.177452830 added, 1 markets in cache\n"
     ]
    },
    {
     "name": "stdout",
     "output_type": "stream",
     "text": [
      "didnt find postplay results?\n"
     ]
    },
    {
     "name": "stderr",
     "output_type": "stream",
     "text": [
      "INFO:betfairlightweight.streaming.listener:[Register: 0]: marketSubscription\n",
      "WARNING:betfairlightweight.streaming.listener:[Listener: 0]: stream already registered, replacing data\n",
      "INFO:betfairlightweight.streaming.stream:[MarketStream: 0]: \"MarketStream\" created\n",
      "INFO:betfairlightweight.streaming.stream:[MarketStream: 0]: 1.177452829 added, 1 markets in cache\n",
      "INFO:betfairlightweight.streaming.stream:[MarketStream: 0]: 1.177452829 added, 1 markets in cache\n",
      "INFO:betfairlightweight.streaming.stream:[MarketStream: 0]: 1.177452829 added, 1 markets in cache\n",
      "INFO:betfairlightweight.streaming.stream:[MarketStream: 0]: 1.177452829 added, 1 markets in cache\n",
      "INFO:betfairlightweight.streaming.stream:[MarketStream: 0]: 1.177452829 added, 1 markets in cache\n",
      "INFO:betfairlightweight.streaming.stream:[MarketStream: 0]: 1.177452829 added, 1 markets in cache\n",
      "INFO:betfairlightweight.streaming.stream:[MarketStream: 0]: 1.177452829 added, 1 markets in cache\n",
      "INFO:betfairlightweight.streaming.stream:[MarketStream: 0]: 1.177452829 added, 1 markets in cache\n",
      "INFO:betfairlightweight.streaming.stream:[MarketStream: 0]: 1.177452829 added, 1 markets in cache\n",
      "INFO:betfairlightweight.streaming.stream:[MarketStream: 0]: 1.177452829 added, 1 markets in cache\n",
      "INFO:betfairlightweight.streaming.stream:[MarketStream: 0]: 1.177452829 added, 1 markets in cache\n",
      "INFO:betfairlightweight.streaming.stream:[MarketStream: 0]: 1.177452829 added, 1 markets in cache\n"
     ]
    },
    {
     "name": "stdout",
     "output_type": "stream",
     "text": [
      "didnt find postplay results?\n"
     ]
    },
    {
     "name": "stderr",
     "output_type": "stream",
     "text": [
      "INFO:betfairlightweight.streaming.stream:[MarketStream: 0]: 1.177452829 added, 1 markets in cache\n",
      "INFO:betfairlightweight.streaming.stream:[MarketStream: 0]: 1.177452829 added, 1 markets in cache\n",
      "INFO:betfairlightweight.streaming.listener:[Register: 0]: marketSubscription\n",
      "WARNING:betfairlightweight.streaming.listener:[Listener: 0]: stream already registered, replacing data\n",
      "INFO:betfairlightweight.streaming.stream:[MarketStream: 0]: \"MarketStream\" created\n",
      "INFO:betfairlightweight.streaming.stream:[MarketStream: 0]: 1.177513945 added, 1 markets in cache\n",
      "INFO:betfairlightweight.streaming.listener:[Register: 0]: marketSubscription\n",
      "WARNING:betfairlightweight.streaming.listener:[Listener: 0]: stream already registered, replacing data\n",
      "INFO:betfairlightweight.streaming.stream:[MarketStream: 0]: \"MarketStream\" created\n",
      "INFO:betfairlightweight.streaming.stream:[MarketStream: 0]: 1.177452833 added, 1 markets in cache\n"
     ]
    },
    {
     "name": "stdout",
     "output_type": "stream",
     "text": [
      "didnt find postplay results?\n",
      "didnt find postplay results?\n"
     ]
    },
    {
     "name": "stderr",
     "output_type": "stream",
     "text": [
      "INFO:betfairlightweight.streaming.listener:[Register: 0]: marketSubscription\n",
      "WARNING:betfairlightweight.streaming.listener:[Listener: 0]: stream already registered, replacing data\n",
      "INFO:betfairlightweight.streaming.stream:[MarketStream: 0]: \"MarketStream\" created\n",
      "INFO:betfairlightweight.streaming.stream:[MarketStream: 0]: 1.177452831 added, 1 markets in cache\n",
      "INFO:betfairlightweight.streaming.stream:[MarketStream: 0]: 1.177452831 added, 1 markets in cache\n"
     ]
    },
    {
     "name": "stdout",
     "output_type": "stream",
     "text": [
      "didnt find postplay results?\n"
     ]
    },
    {
     "name": "stderr",
     "output_type": "stream",
     "text": [
      "INFO:betfairlightweight.streaming.listener:[Register: 0]: marketSubscription\n",
      "WARNING:betfairlightweight.streaming.listener:[Listener: 0]: stream already registered, replacing data\n",
      "INFO:betfairlightweight.streaming.stream:[MarketStream: 0]: \"MarketStream\" created\n",
      "INFO:betfairlightweight.streaming.stream:[MarketStream: 0]: 1.177450980 added, 1 markets in cache\n",
      "INFO:betfairlightweight.streaming.stream:[MarketStream: 0]: 1.177450980 added, 1 markets in cache\n",
      "INFO:betfairlightweight.streaming.stream:[MarketStream: 0]: 1.177450980 added, 1 markets in cache\n"
     ]
    },
    {
     "name": "stdout",
     "output_type": "stream",
     "text": [
      "didnt find postplay results?\n"
     ]
    },
    {
     "name": "stderr",
     "output_type": "stream",
     "text": [
      "INFO:betfairlightweight.streaming.listener:[Register: 0]: marketSubscription\n",
      "WARNING:betfairlightweight.streaming.listener:[Listener: 0]: stream already registered, replacing data\n",
      "INFO:betfairlightweight.streaming.stream:[MarketStream: 0]: \"MarketStream\" created\n",
      "INFO:betfairlightweight.streaming.stream:[MarketStream: 0]: 1.177450978 added, 1 markets in cache\n",
      "INFO:betfairlightweight.streaming.stream:[MarketStream: 0]: 1.177450978 added, 1 markets in cache\n",
      "INFO:betfairlightweight.streaming.stream:[MarketStream: 0]: 1.177450978 added, 1 markets in cache\n"
     ]
    },
    {
     "name": "stdout",
     "output_type": "stream",
     "text": [
      "didnt find postplay results?\n"
     ]
    },
    {
     "name": "stderr",
     "output_type": "stream",
     "text": [
      "INFO:betfairlightweight.streaming.listener:[Register: 0]: marketSubscription\n",
      "WARNING:betfairlightweight.streaming.listener:[Listener: 0]: stream already registered, replacing data\n",
      "INFO:betfairlightweight.streaming.stream:[MarketStream: 0]: \"MarketStream\" created\n",
      "INFO:betfairlightweight.streaming.stream:[MarketStream: 0]: 1.177450981 added, 1 markets in cache\n"
     ]
    },
    {
     "name": "stdout",
     "output_type": "stream",
     "text": [
      "didnt find postplay results?\n"
     ]
    },
    {
     "name": "stderr",
     "output_type": "stream",
     "text": [
      "INFO:betfairlightweight.streaming.stream:[MarketStream: 0]: 1.177450981 added, 1 markets in cache\n",
      "INFO:betfairlightweight.streaming.listener:[Register: 0]: marketSubscription\n",
      "WARNING:betfairlightweight.streaming.listener:[Listener: 0]: stream already registered, replacing data\n",
      "INFO:betfairlightweight.streaming.stream:[MarketStream: 0]: \"MarketStream\" created\n",
      "INFO:betfairlightweight.streaming.stream:[MarketStream: 0]: 1.177506710 added, 1 markets in cache\n"
     ]
    },
    {
     "name": "stdout",
     "output_type": "stream",
     "text": [
      "didnt find postplay results?\n"
     ]
    },
    {
     "name": "stderr",
     "output_type": "stream",
     "text": [
      "INFO:betfairlightweight.streaming.listener:[Register: 0]: marketSubscription\n",
      "WARNING:betfairlightweight.streaming.listener:[Listener: 0]: stream already registered, replacing data\n",
      "INFO:betfairlightweight.streaming.stream:[MarketStream: 0]: \"MarketStream\" created\n",
      "INFO:betfairlightweight.streaming.stream:[MarketStream: 0]: 1.177450977 added, 1 markets in cache\n",
      "INFO:betfairlightweight.streaming.stream:[MarketStream: 0]: 1.177450977 added, 1 markets in cache\n",
      "INFO:betfairlightweight.streaming.stream:[MarketStream: 0]: 1.177450977 added, 1 markets in cache\n",
      "INFO:betfairlightweight.streaming.stream:[MarketStream: 0]: 1.177450977 added, 1 markets in cache\n",
      "INFO:betfairlightweight.streaming.stream:[MarketStream: 0]: 1.177450977 added, 1 markets in cache\n",
      "INFO:betfairlightweight.streaming.stream:[MarketStream: 0]: 1.177450977 added, 1 markets in cache\n",
      "INFO:betfairlightweight.streaming.stream:[MarketStream: 0]: 1.177450977 added, 1 markets in cache\n",
      "INFO:betfairlightweight.streaming.stream:[MarketStream: 0]: 1.177450977 added, 1 markets in cache\n"
     ]
    },
    {
     "name": "stdout",
     "output_type": "stream",
     "text": [
      "didnt find postplay results?\n"
     ]
    },
    {
     "name": "stderr",
     "output_type": "stream",
     "text": [
      "INFO:betfairlightweight.streaming.stream:[MarketStream: 0]: 1.177450977 added, 1 markets in cache\n",
      "INFO:betfairlightweight.streaming.listener:[Register: 0]: marketSubscription\n",
      "WARNING:betfairlightweight.streaming.listener:[Listener: 0]: stream already registered, replacing data\n",
      "INFO:betfairlightweight.streaming.stream:[MarketStream: 0]: \"MarketStream\" created\n",
      "INFO:betfairlightweight.streaming.stream:[MarketStream: 0]: 1.177450979 added, 1 markets in cache\n",
      "INFO:betfairlightweight.streaming.stream:[MarketStream: 0]: 1.177450979 added, 1 markets in cache\n"
     ]
    },
    {
     "name": "stdout",
     "output_type": "stream",
     "text": [
      "didnt find postplay results?\n"
     ]
    },
    {
     "name": "stderr",
     "output_type": "stream",
     "text": [
      "INFO:betfairlightweight.streaming.listener:[Register: 0]: marketSubscription\n",
      "WARNING:betfairlightweight.streaming.listener:[Listener: 0]: stream already registered, replacing data\n",
      "INFO:betfairlightweight.streaming.stream:[MarketStream: 0]: \"MarketStream\" created\n",
      "INFO:betfairlightweight.streaming.stream:[MarketStream: 0]: 1.177450353 added, 1 markets in cache\n",
      "INFO:betfairlightweight.streaming.stream:[MarketStream: 0]: 1.177450353 added, 1 markets in cache\n",
      "INFO:betfairlightweight.streaming.stream:[MarketStream: 0]: 1.177450353 added, 1 markets in cache\n",
      "INFO:betfairlightweight.streaming.stream:[MarketStream: 0]: 1.177450353 added, 1 markets in cache\n",
      "INFO:betfairlightweight.streaming.stream:[MarketStream: 0]: 1.177450353 added, 1 markets in cache\n",
      "INFO:betfairlightweight.streaming.stream:[MarketStream: 0]: 1.177450353 added, 1 markets in cache\n",
      "INFO:betfairlightweight.streaming.stream:[MarketStream: 0]: 1.177450353 added, 1 markets in cache\n",
      "INFO:betfairlightweight.streaming.stream:[MarketStream: 0]: 1.177450353 added, 1 markets in cache\n",
      "INFO:betfairlightweight.streaming.stream:[MarketStream: 0]: 1.177450353 added, 1 markets in cache\n",
      "INFO:betfairlightweight.streaming.stream:[MarketStream: 0]: 1.177450353 added, 1 markets in cache\n",
      "INFO:betfairlightweight.streaming.stream:[MarketStream: 0]: 1.177450353 added, 1 markets in cache\n",
      "INFO:betfairlightweight.streaming.stream:[MarketStream: 0]: 1.177450353 added, 1 markets in cache\n",
      "INFO:betfairlightweight.streaming.stream:[MarketStream: 0]: 1.177450353 added, 1 markets in cache\n",
      "INFO:betfairlightweight.streaming.stream:[MarketStream: 0]: 1.177450353 added, 1 markets in cache\n"
     ]
    },
    {
     "name": "stdout",
     "output_type": "stream",
     "text": [
      "didnt find postplay results?\n"
     ]
    },
    {
     "name": "stderr",
     "output_type": "stream",
     "text": [
      "INFO:betfairlightweight.streaming.listener:[Register: 0]: marketSubscription\n",
      "WARNING:betfairlightweight.streaming.listener:[Listener: 0]: stream already registered, replacing data\n",
      "INFO:betfairlightweight.streaming.stream:[MarketStream: 0]: \"MarketStream\" created\n",
      "INFO:betfairlightweight.streaming.stream:[MarketStream: 0]: 1.177482838 added, 1 markets in cache\n"
     ]
    },
    {
     "name": "stdout",
     "output_type": "stream",
     "text": [
      "didnt find postplay results?\n"
     ]
    },
    {
     "name": "stderr",
     "output_type": "stream",
     "text": [
      "INFO:betfairlightweight.streaming.listener:[Register: 0]: marketSubscription\n",
      "WARNING:betfairlightweight.streaming.listener:[Listener: 0]: stream already registered, replacing data\n",
      "INFO:betfairlightweight.streaming.stream:[MarketStream: 0]: \"MarketStream\" created\n",
      "INFO:betfairlightweight.streaming.stream:[MarketStream: 0]: 1.177482839 added, 1 markets in cache\n",
      "INFO:betfairlightweight.streaming.stream:[MarketStream: 0]: 1.177482839 added, 1 markets in cache\n",
      "INFO:betfairlightweight.streaming.stream:[MarketStream: 0]: 1.177482839 added, 1 markets in cache\n",
      "INFO:betfairlightweight.streaming.stream:[MarketStream: 0]: 1.177482839 added, 1 markets in cache\n",
      "INFO:betfairlightweight.streaming.stream:[MarketStream: 0]: 1.177482839 added, 1 markets in cache\n",
      "INFO:betfairlightweight.streaming.stream:[MarketStream: 0]: 1.177482839 added, 1 markets in cache\n",
      "INFO:betfairlightweight.streaming.stream:[MarketStream: 0]: 1.177482839 added, 1 markets in cache\n"
     ]
    },
    {
     "name": "stdout",
     "output_type": "stream",
     "text": [
      "didnt find postplay results?\n"
     ]
    },
    {
     "name": "stderr",
     "output_type": "stream",
     "text": [
      "INFO:betfairlightweight.streaming.listener:[Register: 0]: marketSubscription\n",
      "WARNING:betfairlightweight.streaming.listener:[Listener: 0]: stream already registered, replacing data\n",
      "INFO:betfairlightweight.streaming.stream:[MarketStream: 0]: \"MarketStream\" created\n",
      "INFO:betfairlightweight.streaming.stream:[MarketStream: 0]: 1.177450354 added, 1 markets in cache\n",
      "INFO:betfairlightweight.streaming.stream:[MarketStream: 0]: 1.177450354 added, 1 markets in cache\n",
      "INFO:betfairlightweight.streaming.stream:[MarketStream: 0]: 1.177450354 added, 1 markets in cache\n",
      "INFO:betfairlightweight.streaming.stream:[MarketStream: 0]: 1.177450354 added, 1 markets in cache\n",
      "INFO:betfairlightweight.streaming.stream:[MarketStream: 0]: 1.177450354 added, 1 markets in cache\n",
      "INFO:betfairlightweight.streaming.stream:[MarketStream: 0]: 1.177450354 added, 1 markets in cache\n",
      "INFO:betfairlightweight.streaming.stream:[MarketStream: 0]: 1.177450354 added, 1 markets in cache\n",
      "INFO:betfairlightweight.streaming.stream:[MarketStream: 0]: 1.177450354 added, 1 markets in cache\n",
      "INFO:betfairlightweight.streaming.stream:[MarketStream: 0]: 1.177450354 added, 1 markets in cache\n",
      "INFO:betfairlightweight.streaming.stream:[MarketStream: 0]: 1.177450354 added, 1 markets in cache\n",
      "INFO:betfairlightweight.streaming.stream:[MarketStream: 0]: 1.177450354 added, 1 markets in cache\n",
      "INFO:betfairlightweight.streaming.stream:[MarketStream: 0]: 1.177450354 added, 1 markets in cache\n",
      "INFO:betfairlightweight.streaming.stream:[MarketStream: 0]: 1.177450354 added, 1 markets in cache\n",
      "INFO:betfairlightweight.streaming.stream:[MarketStream: 0]: 1.177450354 added, 1 markets in cache\n",
      "INFO:betfairlightweight.streaming.stream:[MarketStream: 0]: 1.177450354 added, 1 markets in cache\n",
      "INFO:betfairlightweight.streaming.stream:[MarketStream: 0]: 1.177450354 added, 1 markets in cache\n"
     ]
    },
    {
     "name": "stdout",
     "output_type": "stream",
     "text": [
      "didnt find postplay results?\n"
     ]
    },
    {
     "name": "stderr",
     "output_type": "stream",
     "text": [
      "INFO:betfairlightweight.streaming.listener:[Register: 0]: marketSubscription\n",
      "WARNING:betfairlightweight.streaming.listener:[Listener: 0]: stream already registered, replacing data\n",
      "INFO:betfairlightweight.streaming.stream:[MarketStream: 0]: \"MarketStream\" created\n",
      "INFO:betfairlightweight.streaming.stream:[MarketStream: 0]: 1.177513944 added, 1 markets in cache\n",
      "INFO:betfairlightweight.streaming.listener:[Register: 0]: marketSubscription\n",
      "WARNING:betfairlightweight.streaming.listener:[Listener: 0]: stream already registered, replacing data\n",
      "INFO:betfairlightweight.streaming.stream:[MarketStream: 0]: \"MarketStream\" created\n",
      "INFO:betfairlightweight.streaming.stream:[MarketStream: 0]: 1.177454809 added, 1 markets in cache\n",
      "INFO:betfairlightweight.streaming.stream:[MarketStream: 0]: 1.177454809 added, 1 markets in cache\n",
      "INFO:betfairlightweight.streaming.stream:[MarketStream: 0]: 1.177454809 added, 1 markets in cache\n",
      "INFO:betfairlightweight.streaming.stream:[MarketStream: 0]: 1.177454809 added, 1 markets in cache\n",
      "INFO:betfairlightweight.streaming.stream:[MarketStream: 0]: 1.177454809 added, 1 markets in cache\n",
      "INFO:betfairlightweight.streaming.stream:[MarketStream: 0]: 1.177454809 added, 1 markets in cache\n",
      "INFO:betfairlightweight.streaming.stream:[MarketStream: 0]: 1.177454809 added, 1 markets in cache\n",
      "INFO:betfairlightweight.streaming.stream:[MarketStream: 0]: 1.177454809 added, 1 markets in cache\n",
      "INFO:betfairlightweight.streaming.stream:[MarketStream: 0]: 1.177454809 added, 1 markets in cache\n",
      "INFO:betfairlightweight.streaming.stream:[MarketStream: 0]: 1.177454809 added, 1 markets in cache\n",
      "INFO:betfairlightweight.streaming.stream:[MarketStream: 0]: 1.177454809 added, 1 markets in cache\n",
      "INFO:betfairlightweight.streaming.stream:[MarketStream: 0]: 1.177454809 added, 1 markets in cache\n"
     ]
    },
    {
     "name": "stdout",
     "output_type": "stream",
     "text": [
      "didnt find postplay results?\n",
      "didnt find postplay results?\n"
     ]
    },
    {
     "name": "stderr",
     "output_type": "stream",
     "text": [
      "INFO:betfairlightweight.streaming.stream:[MarketStream: 0]: 1.177454809 added, 1 markets in cache\n",
      "INFO:betfairlightweight.streaming.listener:[Register: 0]: marketSubscription\n",
      "WARNING:betfairlightweight.streaming.listener:[Listener: 0]: stream already registered, replacing data\n",
      "INFO:betfairlightweight.streaming.stream:[MarketStream: 0]: \"MarketStream\" created\n",
      "INFO:betfairlightweight.streaming.stream:[MarketStream: 0]: 1.177454812 added, 1 markets in cache\n"
     ]
    },
    {
     "name": "stdout",
     "output_type": "stream",
     "text": [
      "didnt find postplay results?\n"
     ]
    },
    {
     "name": "stderr",
     "output_type": "stream",
     "text": [
      "INFO:betfairlightweight.streaming.listener:[Register: 0]: marketSubscription\n",
      "WARNING:betfairlightweight.streaming.listener:[Listener: 0]: stream already registered, replacing data\n",
      "INFO:betfairlightweight.streaming.stream:[MarketStream: 0]: \"MarketStream\" created\n",
      "INFO:betfairlightweight.streaming.stream:[MarketStream: 0]: 1.177506799 added, 1 markets in cache\n",
      "INFO:betfairlightweight.streaming.listener:[Register: 0]: marketSubscription\n",
      "WARNING:betfairlightweight.streaming.listener:[Listener: 0]: stream already registered, replacing data\n",
      "INFO:betfairlightweight.streaming.stream:[MarketStream: 0]: \"MarketStream\" created\n",
      "INFO:betfairlightweight.streaming.stream:[MarketStream: 0]: 1.177454810 added, 1 markets in cache\n"
     ]
    },
    {
     "name": "stdout",
     "output_type": "stream",
     "text": [
      "didnt find postplay results?\n",
      "didnt find postplay results?\n"
     ]
    },
    {
     "name": "stderr",
     "output_type": "stream",
     "text": [
      "INFO:betfairlightweight.streaming.listener:[Register: 0]: marketSubscription\n",
      "WARNING:betfairlightweight.streaming.listener:[Listener: 0]: stream already registered, replacing data\n",
      "INFO:betfairlightweight.streaming.stream:[MarketStream: 0]: \"MarketStream\" created\n",
      "INFO:betfairlightweight.streaming.stream:[MarketStream: 0]: 1.177454811 added, 1 markets in cache\n"
     ]
    },
    {
     "name": "stdout",
     "output_type": "stream",
     "text": [
      "didnt find postplay results?\n"
     ]
    },
    {
     "name": "stderr",
     "output_type": "stream",
     "text": [
      "INFO:betfairlightweight.streaming.listener:[Register: 0]: marketSubscription\n",
      "WARNING:betfairlightweight.streaming.listener:[Listener: 0]: stream already registered, replacing data\n",
      "INFO:betfairlightweight.streaming.stream:[MarketStream: 0]: \"MarketStream\" created\n",
      "INFO:betfairlightweight.streaming.stream:[MarketStream: 0]: 1.177507960 added, 1 markets in cache\n"
     ]
    },
    {
     "name": "stdout",
     "output_type": "stream",
     "text": [
      "didnt find postplay results?\n"
     ]
    },
    {
     "name": "stderr",
     "output_type": "stream",
     "text": [
      "INFO:betfairlightweight.streaming.listener:[Register: 0]: marketSubscription\n",
      "WARNING:betfairlightweight.streaming.listener:[Listener: 0]: stream already registered, replacing data\n",
      "INFO:betfairlightweight.streaming.stream:[MarketStream: 0]: \"MarketStream\" created\n",
      "INFO:betfairlightweight.streaming.stream:[MarketStream: 0]: 1.177513903 added, 1 markets in cache\n",
      "INFO:betfairlightweight.streaming.listener:[Register: 0]: marketSubscription\n"
     ]
    },
    {
     "name": "stdout",
     "output_type": "stream",
     "text": [
      "didnt find postplay results?\n",
      "didnt find postplay results?\n"
     ]
    },
    {
     "name": "stderr",
     "output_type": "stream",
     "text": [
      "WARNING:betfairlightweight.streaming.listener:[Listener: 0]: stream already registered, replacing data\n",
      "INFO:betfairlightweight.streaming.stream:[MarketStream: 0]: \"MarketStream\" created\n",
      "INFO:betfairlightweight.streaming.stream:[MarketStream: 0]: 1.177482137 added, 1 markets in cache\n",
      "INFO:betfairlightweight.streaming.stream:[MarketStream: 0]: 1.177482137 added, 1 markets in cache\n",
      "INFO:betfairlightweight.streaming.listener:[Register: 0]: marketSubscription\n",
      "WARNING:betfairlightweight.streaming.listener:[Listener: 0]: stream already registered, replacing data\n",
      "INFO:betfairlightweight.streaming.stream:[MarketStream: 0]: \"MarketStream\" created\n",
      "INFO:betfairlightweight.streaming.stream:[MarketStream: 0]: 1.177482136 added, 1 markets in cache\n",
      "INFO:betfairlightweight.streaming.stream:[MarketStream: 0]: 1.177482136 added, 1 markets in cache\n",
      "INFO:betfairlightweight.streaming.stream:[MarketStream: 0]: 1.177482136 added, 1 markets in cache\n",
      "INFO:betfairlightweight.streaming.stream:[MarketStream: 0]: 1.177482136 added, 1 markets in cache\n",
      "INFO:betfairlightweight.streaming.stream:[MarketStream: 0]: 1.177482136 added, 1 markets in cache\n",
      "INFO:betfairlightweight.streaming.stream:[MarketStream: 0]: 1.177482136 added, 1 markets in cache\n",
      "INFO:betfairlightweight.streaming.stream:[MarketStream: 0]: 1.177482136 added, 1 markets in cache\n",
      "INFO:betfairlightweight.streaming.stream:[MarketStream: 0]: 1.177482136 added, 1 markets in cache\n"
     ]
    },
    {
     "name": "stdout",
     "output_type": "stream",
     "text": [
      "didnt find postplay results?\n"
     ]
    },
    {
     "name": "stderr",
     "output_type": "stream",
     "text": [
      "INFO:betfairlightweight.streaming.listener:[Register: 0]: marketSubscription\n",
      "WARNING:betfairlightweight.streaming.listener:[Listener: 0]: stream already registered, replacing data\n",
      "INFO:betfairlightweight.streaming.stream:[MarketStream: 0]: \"MarketStream\" created\n",
      "INFO:betfairlightweight.streaming.stream:[MarketStream: 0]: 1.177513946 added, 1 markets in cache\n",
      "INFO:betfairlightweight.streaming.listener:[Register: 0]: marketSubscription\n",
      "WARNING:betfairlightweight.streaming.listener:[Listener: 0]: stream already registered, replacing data\n",
      "INFO:betfairlightweight.streaming.stream:[MarketStream: 0]: \"MarketStream\" created\n",
      "INFO:betfairlightweight.streaming.stream:[MarketStream: 0]: 1.177452836 added, 1 markets in cache\n",
      "INFO:betfairlightweight.streaming.stream:[MarketStream: 0]: 1.177452836 added, 1 markets in cache\n"
     ]
    },
    {
     "name": "stdout",
     "output_type": "stream",
     "text": [
      "didnt find postplay results?\n",
      "didnt find postplay results?\n"
     ]
    },
    {
     "name": "stderr",
     "output_type": "stream",
     "text": [
      "INFO:betfairlightweight.streaming.listener:[Register: 0]: marketSubscription\n",
      "WARNING:betfairlightweight.streaming.listener:[Listener: 0]: stream already registered, replacing data\n",
      "INFO:betfairlightweight.streaming.stream:[MarketStream: 0]: \"MarketStream\" created\n",
      "INFO:betfairlightweight.streaming.stream:[MarketStream: 0]: 1.177506715 added, 1 markets in cache\n"
     ]
    },
    {
     "name": "stdout",
     "output_type": "stream",
     "text": [
      "didnt find postplay results?\n"
     ]
    },
    {
     "name": "stderr",
     "output_type": "stream",
     "text": [
      "INFO:betfairlightweight.streaming.listener:[Register: 0]: marketSubscription\n",
      "WARNING:betfairlightweight.streaming.listener:[Listener: 0]: stream already registered, replacing data\n",
      "INFO:betfairlightweight.streaming.stream:[MarketStream: 0]: \"MarketStream\" created\n",
      "INFO:betfairlightweight.streaming.stream:[MarketStream: 0]: 1.177452834 added, 1 markets in cache\n",
      "INFO:betfairlightweight.streaming.stream:[MarketStream: 0]: 1.177452834 added, 1 markets in cache\n",
      "INFO:betfairlightweight.streaming.stream:[MarketStream: 0]: 1.177452834 added, 1 markets in cache\n",
      "INFO:betfairlightweight.streaming.stream:[MarketStream: 0]: 1.177452834 added, 1 markets in cache\n",
      "INFO:betfairlightweight.streaming.stream:[MarketStream: 0]: 1.177452834 added, 1 markets in cache\n",
      "INFO:betfairlightweight.streaming.stream:[MarketStream: 0]: 1.177452834 added, 1 markets in cache\n",
      "INFO:betfairlightweight.streaming.stream:[MarketStream: 0]: 1.177452834 added, 1 markets in cache\n",
      "INFO:betfairlightweight.streaming.stream:[MarketStream: 0]: 1.177452834 added, 1 markets in cache\n",
      "INFO:betfairlightweight.streaming.stream:[MarketStream: 0]: 1.177452834 added, 1 markets in cache\n",
      "INFO:betfairlightweight.streaming.stream:[MarketStream: 0]: 1.177452834 added, 1 markets in cache\n",
      "INFO:betfairlightweight.streaming.stream:[MarketStream: 0]: 1.177452834 added, 1 markets in cache\n"
     ]
    },
    {
     "name": "stdout",
     "output_type": "stream",
     "text": [
      "didnt find postplay results?\n"
     ]
    },
    {
     "name": "stderr",
     "output_type": "stream",
     "text": [
      "INFO:betfairlightweight.streaming.stream:[MarketStream: 0]: 1.177452834 added, 1 markets in cache\n",
      "INFO:betfairlightweight.streaming.listener:[Register: 0]: marketSubscription\n",
      "WARNING:betfairlightweight.streaming.listener:[Listener: 0]: stream already registered, replacing data\n",
      "INFO:betfairlightweight.streaming.stream:[MarketStream: 0]: \"MarketStream\" created\n",
      "INFO:betfairlightweight.streaming.stream:[MarketStream: 0]: 1.177514008 added, 1 markets in cache\n",
      "INFO:betfairlightweight.streaming.listener:[Register: 0]: marketSubscription\n",
      "WARNING:betfairlightweight.streaming.listener:[Listener: 0]: stream already registered, replacing data\n",
      "INFO:betfairlightweight.streaming.stream:[MarketStream: 0]: \"MarketStream\" created\n",
      "INFO:betfairlightweight.streaming.stream:[MarketStream: 0]: 1.177452835 added, 1 markets in cache\n",
      "INFO:betfairlightweight.streaming.stream:[MarketStream: 0]: 1.177452835 added, 1 markets in cache\n",
      "INFO:betfairlightweight.streaming.stream:[MarketStream: 0]: 1.177452835 added, 1 markets in cache\n",
      "INFO:betfairlightweight.streaming.stream:[MarketStream: 0]: 1.177452835 added, 1 markets in cache\n",
      "INFO:betfairlightweight.streaming.stream:[MarketStream: 0]: 1.177452835 added, 1 markets in cache\n"
     ]
    },
    {
     "name": "stdout",
     "output_type": "stream",
     "text": [
      "didnt find postplay results?\n",
      "didnt find postplay results?\n"
     ]
    },
    {
     "name": "stderr",
     "output_type": "stream",
     "text": [
      "INFO:betfairlightweight.streaming.listener:[Register: 0]: marketSubscription\n",
      "WARNING:betfairlightweight.streaming.listener:[Listener: 0]: stream already registered, replacing data\n",
      "INFO:betfairlightweight.streaming.stream:[MarketStream: 0]: \"MarketStream\" created\n",
      "INFO:betfairlightweight.streaming.stream:[MarketStream: 0]: 1.177450983 added, 1 markets in cache\n",
      "INFO:betfairlightweight.streaming.stream:[MarketStream: 0]: 1.177450983 added, 1 markets in cache\n",
      "INFO:betfairlightweight.streaming.stream:[MarketStream: 0]: 1.177450983 added, 1 markets in cache\n",
      "INFO:betfairlightweight.streaming.stream:[MarketStream: 0]: 1.177450983 added, 1 markets in cache\n"
     ]
    },
    {
     "name": "stdout",
     "output_type": "stream",
     "text": [
      "didnt find postplay results?\n"
     ]
    },
    {
     "name": "stderr",
     "output_type": "stream",
     "text": [
      "INFO:betfairlightweight.streaming.listener:[Register: 0]: marketSubscription\n",
      "WARNING:betfairlightweight.streaming.listener:[Listener: 0]: stream already registered, replacing data\n",
      "INFO:betfairlightweight.streaming.stream:[MarketStream: 0]: \"MarketStream\" created\n",
      "INFO:betfairlightweight.streaming.stream:[MarketStream: 0]: 1.177450982 added, 1 markets in cache\n",
      "INFO:betfairlightweight.streaming.stream:[MarketStream: 0]: 1.177450982 added, 1 markets in cache\n",
      "INFO:betfairlightweight.streaming.stream:[MarketStream: 0]: 1.177450982 added, 1 markets in cache\n"
     ]
    },
    {
     "name": "stdout",
     "output_type": "stream",
     "text": [
      "didnt find postplay results?\n"
     ]
    },
    {
     "name": "stderr",
     "output_type": "stream",
     "text": [
      "INFO:betfairlightweight.streaming.stream:[MarketStream: 0]: 1.177450982 added, 1 markets in cache\n",
      "INFO:betfairlightweight.streaming.stream:[MarketStream: 0]: 1.177450982 added, 1 markets in cache\n",
      "INFO:betfairlightweight.streaming.stream:[MarketStream: 0]: 1.177450982 added, 1 markets in cache\n",
      "INFO:betfairlightweight.streaming.stream:[MarketStream: 0]: 1.177450982 added, 1 markets in cache\n",
      "INFO:betfairlightweight.streaming.stream:[MarketStream: 0]: 1.177450982 added, 1 markets in cache\n",
      "INFO:betfairlightweight.streaming.listener:[Register: 0]: marketSubscription\n",
      "WARNING:betfairlightweight.streaming.listener:[Listener: 0]: stream already registered, replacing data\n",
      "INFO:betfairlightweight.streaming.stream:[MarketStream: 0]: \"MarketStream\" created\n",
      "INFO:betfairlightweight.streaming.stream:[MarketStream: 0]: 1.177450986 added, 1 markets in cache\n",
      "INFO:betfairlightweight.streaming.stream:[MarketStream: 0]: 1.177450986 added, 1 markets in cache\n"
     ]
    },
    {
     "name": "stdout",
     "output_type": "stream",
     "text": [
      "didnt find postplay results?\n"
     ]
    },
    {
     "name": "stderr",
     "output_type": "stream",
     "text": [
      "INFO:betfairlightweight.streaming.listener:[Register: 0]: marketSubscription\n",
      "WARNING:betfairlightweight.streaming.listener:[Listener: 0]: stream already registered, replacing data\n",
      "INFO:betfairlightweight.streaming.stream:[MarketStream: 0]: \"MarketStream\" created\n",
      "INFO:betfairlightweight.streaming.stream:[MarketStream: 0]: 1.177450985 added, 1 markets in cache\n",
      "INFO:betfairlightweight.streaming.stream:[MarketStream: 0]: 1.177450985 added, 1 markets in cache\n",
      "INFO:betfairlightweight.streaming.stream:[MarketStream: 0]: 1.177450985 added, 1 markets in cache\n",
      "INFO:betfairlightweight.streaming.stream:[MarketStream: 0]: 1.177450985 added, 1 markets in cache\n"
     ]
    },
    {
     "name": "stdout",
     "output_type": "stream",
     "text": [
      "didnt find postplay results?\n"
     ]
    },
    {
     "name": "stderr",
     "output_type": "stream",
     "text": [
      "INFO:betfairlightweight.streaming.listener:[Register: 0]: marketSubscription\n",
      "WARNING:betfairlightweight.streaming.listener:[Listener: 0]: stream already registered, replacing data\n",
      "INFO:betfairlightweight.streaming.stream:[MarketStream: 0]: \"MarketStream\" created\n",
      "INFO:betfairlightweight.streaming.stream:[MarketStream: 0]: 1.177513948 added, 1 markets in cache\n",
      "INFO:betfairlightweight.streaming.listener:[Register: 0]: marketSubscription\n",
      "WARNING:betfairlightweight.streaming.listener:[Listener: 0]: stream already registered, replacing data\n",
      "INFO:betfairlightweight.streaming.stream:[MarketStream: 0]: \"MarketStream\" created\n",
      "INFO:betfairlightweight.streaming.stream:[MarketStream: 0]: 1.177506711 added, 1 markets in cache\n"
     ]
    },
    {
     "name": "stdout",
     "output_type": "stream",
     "text": [
      "didnt find postplay results?\n",
      "didnt find postplay results?\n"
     ]
    },
    {
     "name": "stderr",
     "output_type": "stream",
     "text": [
      "INFO:betfairlightweight.streaming.listener:[Register: 0]: marketSubscription\n",
      "WARNING:betfairlightweight.streaming.listener:[Listener: 0]: stream already registered, replacing data\n",
      "INFO:betfairlightweight.streaming.stream:[MarketStream: 0]: \"MarketStream\" created\n",
      "INFO:betfairlightweight.streaming.stream:[MarketStream: 0]: 1.177482840 added, 1 markets in cache\n",
      "INFO:betfairlightweight.streaming.stream:[MarketStream: 0]: 1.177482840 added, 1 markets in cache\n"
     ]
    },
    {
     "name": "stdout",
     "output_type": "stream",
     "text": [
      "didnt find postplay results?\n"
     ]
    },
    {
     "name": "stderr",
     "output_type": "stream",
     "text": [
      "INFO:betfairlightweight.streaming.listener:[Register: 0]: marketSubscription\n",
      "WARNING:betfairlightweight.streaming.listener:[Listener: 0]: stream already registered, replacing data\n",
      "INFO:betfairlightweight.streaming.stream:[MarketStream: 0]: \"MarketStream\" created\n",
      "INFO:betfairlightweight.streaming.stream:[MarketStream: 0]: 1.177482841 added, 1 markets in cache\n",
      "INFO:betfairlightweight.streaming.stream:[MarketStream: 0]: 1.177482841 added, 1 markets in cache\n",
      "INFO:betfairlightweight.streaming.stream:[MarketStream: 0]: 1.177482841 added, 1 markets in cache\n",
      "INFO:betfairlightweight.streaming.stream:[MarketStream: 0]: 1.177482841 added, 1 markets in cache\n",
      "INFO:betfairlightweight.streaming.stream:[MarketStream: 0]: 1.177482841 added, 1 markets in cache\n",
      "INFO:betfairlightweight.streaming.stream:[MarketStream: 0]: 1.177482841 added, 1 markets in cache\n",
      "INFO:betfairlightweight.streaming.stream:[MarketStream: 0]: 1.177482841 added, 1 markets in cache\n",
      "INFO:betfairlightweight.streaming.stream:[MarketStream: 0]: 1.177482841 added, 1 markets in cache\n",
      "INFO:betfairlightweight.streaming.stream:[MarketStream: 0]: 1.177482841 added, 1 markets in cache\n"
     ]
    },
    {
     "name": "stdout",
     "output_type": "stream",
     "text": [
      "didnt find postplay results?\n"
     ]
    },
    {
     "name": "stderr",
     "output_type": "stream",
     "text": [
      "INFO:betfairlightweight.streaming.listener:[Register: 0]: marketSubscription\n",
      "WARNING:betfairlightweight.streaming.listener:[Listener: 0]: stream already registered, replacing data\n",
      "INFO:betfairlightweight.streaming.stream:[MarketStream: 0]: \"MarketStream\" created\n",
      "INFO:betfairlightweight.streaming.stream:[MarketStream: 0]: 1.177450984 added, 1 markets in cache\n"
     ]
    },
    {
     "name": "stdout",
     "output_type": "stream",
     "text": [
      "didnt find postplay results?\n"
     ]
    },
    {
     "name": "stderr",
     "output_type": "stream",
     "text": [
      "INFO:betfairlightweight.streaming.listener:[Register: 0]: marketSubscription\n",
      "WARNING:betfairlightweight.streaming.listener:[Listener: 0]: stream already registered, replacing data\n",
      "INFO:betfairlightweight.streaming.stream:[MarketStream: 0]: \"MarketStream\" created\n",
      "INFO:betfairlightweight.streaming.stream:[MarketStream: 0]: 1.177454815 added, 1 markets in cache\n"
     ]
    },
    {
     "name": "stdout",
     "output_type": "stream",
     "text": [
      "didnt find postplay results?\n"
     ]
    },
    {
     "name": "stderr",
     "output_type": "stream",
     "text": [
      "INFO:betfairlightweight.streaming.stream:[MarketStream: 0]: 1.177454815 added, 1 markets in cache\n",
      "INFO:betfairlightweight.streaming.listener:[Register: 0]: marketSubscription\n",
      "WARNING:betfairlightweight.streaming.listener:[Listener: 0]: stream already registered, replacing data\n",
      "INFO:betfairlightweight.streaming.stream:[MarketStream: 0]: \"MarketStream\" created\n",
      "INFO:betfairlightweight.streaming.stream:[MarketStream: 0]: 1.177454814 added, 1 markets in cache\n",
      "INFO:betfairlightweight.streaming.stream:[MarketStream: 0]: 1.177454814 added, 1 markets in cache\n",
      "INFO:betfairlightweight.streaming.stream:[MarketStream: 0]: 1.177454814 added, 1 markets in cache\n",
      "INFO:betfairlightweight.streaming.stream:[MarketStream: 0]: 1.177454814 added, 1 markets in cache\n",
      "INFO:betfairlightweight.streaming.stream:[MarketStream: 0]: 1.177454814 added, 1 markets in cache\n",
      "INFO:betfairlightweight.streaming.stream:[MarketStream: 0]: 1.177454814 added, 1 markets in cache\n",
      "INFO:betfairlightweight.streaming.stream:[MarketStream: 0]: 1.177454814 added, 1 markets in cache\n",
      "INFO:betfairlightweight.streaming.stream:[MarketStream: 0]: 1.177454814 added, 1 markets in cache\n",
      "INFO:betfairlightweight.streaming.stream:[MarketStream: 0]: 1.177454814 added, 1 markets in cache\n",
      "INFO:betfairlightweight.streaming.stream:[MarketStream: 0]: 1.177454814 added, 1 markets in cache\n",
      "INFO:betfairlightweight.streaming.stream:[MarketStream: 0]: 1.177454814 added, 1 markets in cache\n",
      "INFO:betfairlightweight.streaming.stream:[MarketStream: 0]: 1.177454814 added, 1 markets in cache\n",
      "INFO:betfairlightweight.streaming.stream:[MarketStream: 0]: 1.177454814 added, 1 markets in cache\n",
      "INFO:betfairlightweight.streaming.stream:[MarketStream: 0]: 1.177454814 added, 1 markets in cache\n",
      "INFO:betfairlightweight.streaming.stream:[MarketStream: 0]: 1.177454814 added, 1 markets in cache\n"
     ]
    },
    {
     "name": "stdout",
     "output_type": "stream",
     "text": [
      "didnt find postplay results?\n"
     ]
    },
    {
     "name": "stderr",
     "output_type": "stream",
     "text": [
      "INFO:betfairlightweight.streaming.stream:[MarketStream: 0]: 1.177454814 added, 1 markets in cache\n",
      "INFO:betfairlightweight.streaming.listener:[Register: 0]: marketSubscription\n",
      "WARNING:betfairlightweight.streaming.listener:[Listener: 0]: stream already registered, replacing data\n",
      "INFO:betfairlightweight.streaming.stream:[MarketStream: 0]: \"MarketStream\" created\n",
      "INFO:betfairlightweight.streaming.stream:[MarketStream: 0]: 1.177454816 added, 1 markets in cache\n"
     ]
    },
    {
     "name": "stdout",
     "output_type": "stream",
     "text": [
      "didnt find postplay results?\n"
     ]
    },
    {
     "name": "stderr",
     "output_type": "stream",
     "text": [
      "INFO:betfairlightweight.streaming.listener:[Register: 0]: marketSubscription\n",
      "WARNING:betfairlightweight.streaming.listener:[Listener: 0]: stream already registered, replacing data\n",
      "INFO:betfairlightweight.streaming.stream:[MarketStream: 0]: \"MarketStream\" created\n",
      "INFO:betfairlightweight.streaming.stream:[MarketStream: 0]: 1.177454817 added, 1 markets in cache\n"
     ]
    },
    {
     "name": "stdout",
     "output_type": "stream",
     "text": [
      "didnt find postplay results?\n"
     ]
    },
    {
     "name": "stderr",
     "output_type": "stream",
     "text": [
      "INFO:betfairlightweight.streaming.listener:[Register: 0]: marketSubscription\n",
      "WARNING:betfairlightweight.streaming.listener:[Listener: 0]: stream already registered, replacing data\n",
      "INFO:betfairlightweight.streaming.stream:[MarketStream: 0]: \"MarketStream\" created\n",
      "INFO:betfairlightweight.streaming.stream:[MarketStream: 0]: 1.177513970 added, 1 markets in cache\n",
      "INFO:betfairlightweight.streaming.listener:[Register: 0]: marketSubscription\n",
      "WARNING:betfairlightweight.streaming.listener:[Listener: 0]: stream already registered, replacing data\n",
      "INFO:betfairlightweight.streaming.stream:[MarketStream: 0]: \"MarketStream\" created\n",
      "INFO:betfairlightweight.streaming.stream:[MarketStream: 0]: 1.177482138 added, 1 markets in cache\n",
      "INFO:betfairlightweight.streaming.stream:[MarketStream: 0]: 1.177482138 added, 1 markets in cache\n",
      "INFO:betfairlightweight.streaming.stream:[MarketStream: 0]: 1.177482138 added, 1 markets in cache\n",
      "INFO:betfairlightweight.streaming.stream:[MarketStream: 0]: 1.177482138 added, 1 markets in cache\n",
      "INFO:betfairlightweight.streaming.stream:[MarketStream: 0]: 1.177482138 added, 1 markets in cache\n",
      "INFO:betfairlightweight.streaming.stream:[MarketStream: 0]: 1.177482138 added, 1 markets in cache\n",
      "INFO:betfairlightweight.streaming.stream:[MarketStream: 0]: 1.177482138 added, 1 markets in cache\n",
      "INFO:betfairlightweight.streaming.stream:[MarketStream: 0]: 1.177482138 added, 1 markets in cache\n",
      "INFO:betfairlightweight.streaming.stream:[MarketStream: 0]: 1.177482138 added, 1 markets in cache\n"
     ]
    },
    {
     "name": "stdout",
     "output_type": "stream",
     "text": [
      "didnt find postplay results?\n",
      "didnt find postplay results?\n"
     ]
    },
    {
     "name": "stderr",
     "output_type": "stream",
     "text": [
      "INFO:betfairlightweight.streaming.listener:[Register: 0]: marketSubscription\n",
      "WARNING:betfairlightweight.streaming.listener:[Listener: 0]: stream already registered, replacing data\n",
      "INFO:betfairlightweight.streaming.stream:[MarketStream: 0]: \"MarketStream\" created\n",
      "INFO:betfairlightweight.streaming.stream:[MarketStream: 0]: 1.177454818 added, 1 markets in cache\n",
      "INFO:betfairlightweight.streaming.stream:[MarketStream: 0]: 1.177454818 added, 1 markets in cache\n"
     ]
    },
    {
     "name": "stdout",
     "output_type": "stream",
     "text": [
      "didnt find postplay results?\n"
     ]
    },
    {
     "name": "stderr",
     "output_type": "stream",
     "text": [
      "INFO:betfairlightweight.streaming.listener:[Register: 0]: marketSubscription\n",
      "WARNING:betfairlightweight.streaming.listener:[Listener: 0]: stream already registered, replacing data\n",
      "INFO:betfairlightweight.streaming.stream:[MarketStream: 0]: \"MarketStream\" created\n",
      "INFO:betfairlightweight.streaming.stream:[MarketStream: 0]: 1.177482139 added, 1 markets in cache\n",
      "INFO:betfairlightweight.streaming.stream:[MarketStream: 0]: 1.177482139 added, 1 markets in cache\n",
      "INFO:betfairlightweight.streaming.stream:[MarketStream: 0]: 1.177482139 added, 1 markets in cache\n"
     ]
    },
    {
     "name": "stdout",
     "output_type": "stream",
     "text": [
      "didnt find postplay results?\n"
     ]
    },
    {
     "name": "stderr",
     "output_type": "stream",
     "text": [
      "INFO:betfairlightweight.streaming.listener:[Register: 0]: marketSubscription\n",
      "WARNING:betfairlightweight.streaming.listener:[Listener: 0]: stream already registered, replacing data\n",
      "INFO:betfairlightweight.streaming.stream:[MarketStream: 0]: \"MarketStream\" created\n",
      "INFO:betfairlightweight.streaming.stream:[MarketStream: 0]: 1.177452839 added, 1 markets in cache\n",
      "INFO:betfairlightweight.streaming.stream:[MarketStream: 0]: 1.177452839 added, 1 markets in cache\n",
      "INFO:betfairlightweight.streaming.stream:[MarketStream: 0]: 1.177452839 added, 1 markets in cache\n",
      "INFO:betfairlightweight.streaming.stream:[MarketStream: 0]: 1.177452839 added, 1 markets in cache\n",
      "INFO:betfairlightweight.streaming.stream:[MarketStream: 0]: 1.177452839 added, 1 markets in cache\n",
      "INFO:betfairlightweight.streaming.stream:[MarketStream: 0]: 1.177452839 added, 1 markets in cache\n",
      "INFO:betfairlightweight.streaming.stream:[MarketStream: 0]: 1.177452839 added, 1 markets in cache\n",
      "INFO:betfairlightweight.streaming.stream:[MarketStream: 0]: 1.177452839 added, 1 markets in cache\n",
      "INFO:betfairlightweight.streaming.stream:[MarketStream: 0]: 1.177452839 added, 1 markets in cache\n",
      "INFO:betfairlightweight.streaming.stream:[MarketStream: 0]: 1.177452839 added, 1 markets in cache\n",
      "INFO:betfairlightweight.streaming.stream:[MarketStream: 0]: 1.177452839 added, 1 markets in cache\n",
      "INFO:betfairlightweight.streaming.stream:[MarketStream: 0]: 1.177452839 added, 1 markets in cache\n",
      "INFO:betfairlightweight.streaming.stream:[MarketStream: 0]: 1.177452839 added, 1 markets in cache\n",
      "INFO:betfairlightweight.streaming.stream:[MarketStream: 0]: 1.177452839 added, 1 markets in cache\n"
     ]
    },
    {
     "name": "stdout",
     "output_type": "stream",
     "text": [
      "didnt find postplay results?\n"
     ]
    },
    {
     "name": "stderr",
     "output_type": "stream",
     "text": [
      "INFO:betfairlightweight.streaming.listener:[Register: 0]: marketSubscription\n",
      "WARNING:betfairlightweight.streaming.listener:[Listener: 0]: stream already registered, replacing data\n",
      "INFO:betfairlightweight.streaming.stream:[MarketStream: 0]: \"MarketStream\" created\n",
      "INFO:betfairlightweight.streaming.stream:[MarketStream: 0]: 1.177452840 added, 1 markets in cache\n",
      "INFO:betfairlightweight.streaming.stream:[MarketStream: 0]: 1.177452840 added, 1 markets in cache\n"
     ]
    },
    {
     "name": "stdout",
     "output_type": "stream",
     "text": [
      "didnt find postplay results?\n"
     ]
    },
    {
     "name": "stderr",
     "output_type": "stream",
     "text": [
      "INFO:betfairlightweight.streaming.listener:[Register: 0]: marketSubscription\n",
      "WARNING:betfairlightweight.streaming.listener:[Listener: 0]: stream already registered, replacing data\n",
      "INFO:betfairlightweight.streaming.stream:[MarketStream: 0]: \"MarketStream\" created\n",
      "INFO:betfairlightweight.streaming.stream:[MarketStream: 0]: 1.177515435 added, 1 markets in cache\n"
     ]
    },
    {
     "name": "stdout",
     "output_type": "stream",
     "text": [
      "didnt find postplay results?\n"
     ]
    },
    {
     "name": "stderr",
     "output_type": "stream",
     "text": [
      "INFO:betfairlightweight.streaming.listener:[Register: 0]: marketSubscription\n",
      "WARNING:betfairlightweight.streaming.listener:[Listener: 0]: stream already registered, replacing data\n",
      "INFO:betfairlightweight.streaming.stream:[MarketStream: 0]: \"MarketStream\" created\n",
      "INFO:betfairlightweight.streaming.stream:[MarketStream: 0]: 1.177513971 added, 1 markets in cache\n",
      "INFO:betfairlightweight.streaming.listener:[Register: 0]: marketSubscription\n",
      "WARNING:betfairlightweight.streaming.listener:[Listener: 0]: stream already registered, replacing data\n",
      "INFO:betfairlightweight.streaming.stream:[MarketStream: 0]: \"MarketStream\" created\n",
      "INFO:betfairlightweight.streaming.stream:[MarketStream: 0]: 1.177452841 added, 1 markets in cache\n"
     ]
    },
    {
     "name": "stdout",
     "output_type": "stream",
     "text": [
      "didnt find postplay results?\n",
      "didnt find postplay results?\n"
     ]
    },
    {
     "name": "stderr",
     "output_type": "stream",
     "text": [
      "INFO:betfairlightweight.streaming.listener:[Register: 0]: marketSubscription\n",
      "WARNING:betfairlightweight.streaming.listener:[Listener: 0]: stream already registered, replacing data\n",
      "INFO:betfairlightweight.streaming.stream:[MarketStream: 0]: \"MarketStream\" created\n",
      "INFO:betfairlightweight.streaming.stream:[MarketStream: 0]: 1.177452843 added, 1 markets in cache\n"
     ]
    },
    {
     "name": "stdout",
     "output_type": "stream",
     "text": [
      "didnt find postplay results?\n"
     ]
    },
    {
     "name": "stderr",
     "output_type": "stream",
     "text": [
      "INFO:betfairlightweight.streaming.listener:[Register: 0]: marketSubscription\n",
      "WARNING:betfairlightweight.streaming.listener:[Listener: 0]: stream already registered, replacing data\n",
      "INFO:betfairlightweight.streaming.stream:[MarketStream: 0]: \"MarketStream\" created\n",
      "INFO:betfairlightweight.streaming.stream:[MarketStream: 0]: 1.177482843 added, 1 markets in cache\n",
      "INFO:betfairlightweight.streaming.stream:[MarketStream: 0]: 1.177482843 added, 1 markets in cache\n",
      "INFO:betfairlightweight.streaming.stream:[MarketStream: 0]: 1.177482843 added, 1 markets in cache\n",
      "INFO:betfairlightweight.streaming.stream:[MarketStream: 0]: 1.177482843 added, 1 markets in cache\n",
      "INFO:betfairlightweight.streaming.stream:[MarketStream: 0]: 1.177482843 added, 1 markets in cache\n",
      "INFO:betfairlightweight.streaming.stream:[MarketStream: 0]: 1.177482843 added, 1 markets in cache\n",
      "INFO:betfairlightweight.streaming.stream:[MarketStream: 0]: 1.177482843 added, 1 markets in cache\n"
     ]
    },
    {
     "name": "stdout",
     "output_type": "stream",
     "text": [
      "didnt find postplay results?\n"
     ]
    },
    {
     "name": "stderr",
     "output_type": "stream",
     "text": [
      "INFO:betfairlightweight.streaming.listener:[Register: 0]: marketSubscription\n",
      "WARNING:betfairlightweight.streaming.listener:[Listener: 0]: stream already registered, replacing data\n",
      "INFO:betfairlightweight.streaming.stream:[MarketStream: 0]: \"MarketStream\" created\n",
      "INFO:betfairlightweight.streaming.stream:[MarketStream: 0]: 1.177482842 added, 1 markets in cache\n",
      "INFO:betfairlightweight.streaming.stream:[MarketStream: 0]: 1.177482842 added, 1 markets in cache\n",
      "INFO:betfairlightweight.streaming.stream:[MarketStream: 0]: 1.177482842 added, 1 markets in cache\n"
     ]
    },
    {
     "name": "stdout",
     "output_type": "stream",
     "text": [
      "didnt find postplay results?\n"
     ]
    },
    {
     "name": "stderr",
     "output_type": "stream",
     "text": [
      "INFO:betfairlightweight.streaming.listener:[Register: 0]: marketSubscription\n",
      "WARNING:betfairlightweight.streaming.listener:[Listener: 0]: stream already registered, replacing data\n",
      "INFO:betfairlightweight.streaming.stream:[MarketStream: 0]: \"MarketStream\" created\n",
      "INFO:betfairlightweight.streaming.stream:[MarketStream: 0]: 1.177450987 added, 1 markets in cache\n",
      "INFO:betfairlightweight.streaming.stream:[MarketStream: 0]: 1.177450987 added, 1 markets in cache\n",
      "INFO:betfairlightweight.streaming.stream:[MarketStream: 0]: 1.177450987 added, 1 markets in cache\n",
      "INFO:betfairlightweight.streaming.stream:[MarketStream: 0]: 1.177450987 added, 1 markets in cache\n",
      "INFO:betfairlightweight.streaming.stream:[MarketStream: 0]: 1.177450987 added, 1 markets in cache\n",
      "INFO:betfairlightweight.streaming.stream:[MarketStream: 0]: 1.177450987 added, 1 markets in cache\n",
      "INFO:betfairlightweight.streaming.stream:[MarketStream: 0]: 1.177450987 added, 1 markets in cache\n",
      "INFO:betfairlightweight.streaming.stream:[MarketStream: 0]: 1.177450987 added, 1 markets in cache\n",
      "INFO:betfairlightweight.streaming.stream:[MarketStream: 0]: 1.177450987 added, 1 markets in cache\n",
      "INFO:betfairlightweight.streaming.stream:[MarketStream: 0]: 1.177450987 added, 1 markets in cache\n",
      "INFO:betfairlightweight.streaming.stream:[MarketStream: 0]: 1.177450987 added, 1 markets in cache\n"
     ]
    },
    {
     "name": "stdout",
     "output_type": "stream",
     "text": [
      "didnt find postplay results?\n"
     ]
    },
    {
     "name": "stderr",
     "output_type": "stream",
     "text": [
      "INFO:betfairlightweight.streaming.stream:[MarketStream: 0]: 1.177450987 added, 1 markets in cache\n",
      "INFO:betfairlightweight.streaming.stream:[MarketStream: 0]: 1.177450987 added, 1 markets in cache\n",
      "INFO:betfairlightweight.streaming.stream:[MarketStream: 0]: 1.177450987 added, 1 markets in cache\n",
      "INFO:betfairlightweight.streaming.listener:[Register: 0]: marketSubscription\n",
      "WARNING:betfairlightweight.streaming.listener:[Listener: 0]: stream already registered, replacing data\n",
      "INFO:betfairlightweight.streaming.stream:[MarketStream: 0]: \"MarketStream\" created\n",
      "INFO:betfairlightweight.streaming.stream:[MarketStream: 0]: 1.178644362 added, 1 markets in cache\n",
      "INFO:betfairlightweight.streaming.listener:[Register: 0]: marketSubscription\n",
      "WARNING:betfairlightweight.streaming.listener:[Listener: 0]: stream already registered, replacing data\n",
      "INFO:betfairlightweight.streaming.stream:[MarketStream: 0]: \"MarketStream\" created\n",
      "INFO:betfairlightweight.streaming.stream:[MarketStream: 0]: 1.177450990 added, 1 markets in cache\n"
     ]
    },
    {
     "name": "stdout",
     "output_type": "stream",
     "text": [
      "didnt find postplay results?\n",
      "didnt find postplay results?\n"
     ]
    },
    {
     "name": "stderr",
     "output_type": "stream",
     "text": [
      "INFO:betfairlightweight.streaming.listener:[Register: 0]: marketSubscription\n",
      "WARNING:betfairlightweight.streaming.listener:[Listener: 0]: stream already registered, replacing data\n",
      "INFO:betfairlightweight.streaming.stream:[MarketStream: 0]: \"MarketStream\" created\n",
      "INFO:betfairlightweight.streaming.stream:[MarketStream: 0]: 1.177450988 added, 1 markets in cache\n",
      "INFO:betfairlightweight.streaming.stream:[MarketStream: 0]: 1.177450988 added, 1 markets in cache\n",
      "INFO:betfairlightweight.streaming.stream:[MarketStream: 0]: 1.177450988 added, 1 markets in cache\n"
     ]
    },
    {
     "name": "stdout",
     "output_type": "stream",
     "text": [
      "didnt find postplay results?\n"
     ]
    },
    {
     "name": "stderr",
     "output_type": "stream",
     "text": [
      "INFO:betfairlightweight.streaming.stream:[MarketStream: 0]: 1.177450988 added, 1 markets in cache\n",
      "INFO:betfairlightweight.streaming.listener:[Register: 0]: marketSubscription\n",
      "WARNING:betfairlightweight.streaming.listener:[Listener: 0]: stream already registered, replacing data\n",
      "INFO:betfairlightweight.streaming.stream:[MarketStream: 0]: \"MarketStream\" created\n",
      "INFO:betfairlightweight.streaming.stream:[MarketStream: 0]: 1.177450991 added, 1 markets in cache\n"
     ]
    },
    {
     "name": "stdout",
     "output_type": "stream",
     "text": [
      "didnt find postplay results?\n"
     ]
    },
    {
     "name": "stderr",
     "output_type": "stream",
     "text": [
      "INFO:betfairlightweight.streaming.listener:[Register: 0]: marketSubscription\n",
      "WARNING:betfairlightweight.streaming.listener:[Listener: 0]: stream already registered, replacing data\n",
      "INFO:betfairlightweight.streaming.stream:[MarketStream: 0]: \"MarketStream\" created\n",
      "INFO:betfairlightweight.streaming.stream:[MarketStream: 0]: 1.177515436 added, 1 markets in cache\n",
      "INFO:betfairlightweight.streaming.listener:[Register: 0]: marketSubscription\n",
      "WARNING:betfairlightweight.streaming.listener:[Listener: 0]: stream already registered, replacing data\n",
      "INFO:betfairlightweight.streaming.stream:[MarketStream: 0]: \"MarketStream\" created\n",
      "INFO:betfairlightweight.streaming.stream:[MarketStream: 0]: 1.178557379 added, 1 markets in cache\n"
     ]
    },
    {
     "name": "stdout",
     "output_type": "stream",
     "text": [
      "didnt find postplay results?\n",
      "didnt find postplay results?\n"
     ]
    },
    {
     "name": "stderr",
     "output_type": "stream",
     "text": [
      "INFO:betfairlightweight.streaming.stream:[MarketStream: 0]: 1.178557379 added, 1 markets in cache\n",
      "INFO:betfairlightweight.streaming.listener:[Register: 0]: marketSubscription\n",
      "WARNING:betfairlightweight.streaming.listener:[Listener: 0]: stream already registered, replacing data\n",
      "INFO:betfairlightweight.streaming.stream:[MarketStream: 0]: \"MarketStream\" created\n",
      "INFO:betfairlightweight.streaming.stream:[MarketStream: 0]: 1.177506712 added, 1 markets in cache\n"
     ]
    },
    {
     "name": "stdout",
     "output_type": "stream",
     "text": [
      "didnt find postplay results?\n"
     ]
    },
    {
     "name": "stderr",
     "output_type": "stream",
     "text": [
      "INFO:betfairlightweight.streaming.listener:[Register: 0]: marketSubscription\n",
      "WARNING:betfairlightweight.streaming.listener:[Listener: 0]: stream already registered, replacing data\n",
      "INFO:betfairlightweight.streaming.stream:[MarketStream: 0]: \"MarketStream\" created\n",
      "INFO:betfairlightweight.streaming.stream:[MarketStream: 0]: 1.177450989 added, 1 markets in cache\n",
      "INFO:betfairlightweight.streaming.stream:[MarketStream: 0]: 1.177450989 added, 1 markets in cache\n"
     ]
    },
    {
     "name": "stdout",
     "output_type": "stream",
     "text": [
      "didnt find postplay results?\n"
     ]
    },
    {
     "name": "stderr",
     "output_type": "stream",
     "text": [
      "INFO:betfairlightweight.streaming.listener:[Register: 0]: marketSubscription\n",
      "WARNING:betfairlightweight.streaming.listener:[Listener: 0]: stream already registered, replacing data\n",
      "INFO:betfairlightweight.streaming.stream:[MarketStream: 0]: \"MarketStream\" created\n",
      "INFO:betfairlightweight.streaming.stream:[MarketStream: 0]: 1.178557378 added, 1 markets in cache\n"
     ]
    },
    {
     "name": "stdout",
     "output_type": "stream",
     "text": [
      "didnt find postplay results?\n"
     ]
    },
    {
     "name": "stderr",
     "output_type": "stream",
     "text": [
      "INFO:betfairlightweight.streaming.listener:[Register: 0]: marketSubscription\n",
      "WARNING:betfairlightweight.streaming.listener:[Listener: 0]: stream already registered, replacing data\n",
      "INFO:betfairlightweight.streaming.stream:[MarketStream: 0]: \"MarketStream\" created\n",
      "INFO:betfairlightweight.streaming.stream:[MarketStream: 0]: 1.177454820 added, 1 markets in cache\n",
      "INFO:betfairlightweight.streaming.stream:[MarketStream: 0]: 1.177454820 added, 1 markets in cache\n",
      "INFO:betfairlightweight.streaming.stream:[MarketStream: 0]: 1.177454820 added, 1 markets in cache\n"
     ]
    },
    {
     "name": "stdout",
     "output_type": "stream",
     "text": [
      "didnt find postplay results?\n"
     ]
    },
    {
     "name": "stderr",
     "output_type": "stream",
     "text": [
      "INFO:betfairlightweight.streaming.listener:[Register: 0]: marketSubscription\n",
      "WARNING:betfairlightweight.streaming.listener:[Listener: 0]: stream already registered, replacing data\n",
      "INFO:betfairlightweight.streaming.stream:[MarketStream: 0]: \"MarketStream\" created\n",
      "INFO:betfairlightweight.streaming.stream:[MarketStream: 0]: 1.178557376 added, 1 markets in cache\n"
     ]
    },
    {
     "name": "stdout",
     "output_type": "stream",
     "text": [
      "didnt find postplay results?\n"
     ]
    },
    {
     "name": "stderr",
     "output_type": "stream",
     "text": [
      "INFO:betfairlightweight.streaming.stream:[MarketStream: 0]: 1.178557376 added, 1 markets in cache\n",
      "INFO:betfairlightweight.streaming.listener:[Register: 0]: marketSubscription\n",
      "WARNING:betfairlightweight.streaming.listener:[Listener: 0]: stream already registered, replacing data\n",
      "INFO:betfairlightweight.streaming.stream:[MarketStream: 0]: \"MarketStream\" created\n",
      "INFO:betfairlightweight.streaming.stream:[MarketStream: 0]: 1.177454819 added, 1 markets in cache\n",
      "INFO:betfairlightweight.streaming.stream:[MarketStream: 0]: 1.177454819 added, 1 markets in cache\n",
      "INFO:betfairlightweight.streaming.stream:[MarketStream: 0]: 1.177454819 added, 1 markets in cache\n",
      "INFO:betfairlightweight.streaming.stream:[MarketStream: 0]: 1.177454819 added, 1 markets in cache\n",
      "INFO:betfairlightweight.streaming.stream:[MarketStream: 0]: 1.177454819 added, 1 markets in cache\n",
      "INFO:betfairlightweight.streaming.stream:[MarketStream: 0]: 1.177454819 added, 1 markets in cache\n"
     ]
    },
    {
     "name": "stdout",
     "output_type": "stream",
     "text": [
      "didnt find postplay results?\n"
     ]
    },
    {
     "name": "stderr",
     "output_type": "stream",
     "text": [
      "INFO:betfairlightweight.streaming.stream:[MarketStream: 0]: 1.177454819 added, 1 markets in cache\n",
      "INFO:betfairlightweight.streaming.stream:[MarketStream: 0]: 1.177454819 added, 1 markets in cache\n",
      "INFO:betfairlightweight.streaming.stream:[MarketStream: 0]: 1.177454819 added, 1 markets in cache\n",
      "INFO:betfairlightweight.streaming.stream:[MarketStream: 0]: 1.177454819 added, 1 markets in cache\n",
      "INFO:betfairlightweight.streaming.listener:[Register: 0]: marketSubscription\n",
      "WARNING:betfairlightweight.streaming.listener:[Listener: 0]: stream already registered, replacing data\n",
      "INFO:betfairlightweight.streaming.stream:[MarketStream: 0]: \"MarketStream\" created\n",
      "INFO:betfairlightweight.streaming.stream:[MarketStream: 0]: 1.177454821 added, 1 markets in cache\n",
      "INFO:betfairlightweight.streaming.stream:[MarketStream: 0]: 1.177454821 added, 1 markets in cache\n"
     ]
    },
    {
     "name": "stdout",
     "output_type": "stream",
     "text": [
      "didnt find postplay results?\n"
     ]
    },
    {
     "name": "stderr",
     "output_type": "stream",
     "text": [
      "INFO:betfairlightweight.streaming.listener:[Register: 0]: marketSubscription\n",
      "WARNING:betfairlightweight.streaming.listener:[Listener: 0]: stream already registered, replacing data\n",
      "INFO:betfairlightweight.streaming.stream:[MarketStream: 0]: \"MarketStream\" created\n",
      "INFO:betfairlightweight.streaming.stream:[MarketStream: 0]: 1.178557375 added, 1 markets in cache\n",
      "INFO:betfairlightweight.streaming.stream:[MarketStream: 0]: 1.178557375 added, 1 markets in cache\n",
      "INFO:betfairlightweight.streaming.stream:[MarketStream: 0]: 1.178557375 added, 1 markets in cache\n"
     ]
    },
    {
     "name": "stdout",
     "output_type": "stream",
     "text": [
      "didnt find postplay results?\n"
     ]
    },
    {
     "name": "stderr",
     "output_type": "stream",
     "text": [
      "INFO:betfairlightweight.streaming.listener:[Register: 0]: marketSubscription\n",
      "WARNING:betfairlightweight.streaming.listener:[Listener: 0]: stream already registered, replacing data\n",
      "INFO:betfairlightweight.streaming.stream:[MarketStream: 0]: \"MarketStream\" created\n",
      "INFO:betfairlightweight.streaming.stream:[MarketStream: 0]: 1.177506700 added, 1 markets in cache\n"
     ]
    },
    {
     "name": "stdout",
     "output_type": "stream",
     "text": [
      "didnt find postplay results?\n",
      "didnt find postplay results?\n"
     ]
    },
    {
     "name": "stderr",
     "output_type": "stream",
     "text": [
      "INFO:betfairlightweight.streaming.listener:[Register: 0]: marketSubscription\n",
      "WARNING:betfairlightweight.streaming.listener:[Listener: 0]: stream already registered, replacing data\n",
      "INFO:betfairlightweight.streaming.stream:[MarketStream: 0]: \"MarketStream\" created\n",
      "INFO:betfairlightweight.streaming.stream:[MarketStream: 0]: 1.177454822 added, 1 markets in cache\n",
      "INFO:betfairlightweight.streaming.stream:[MarketStream: 0]: 1.177454822 added, 1 markets in cache\n",
      "INFO:betfairlightweight.streaming.stream:[MarketStream: 0]: 1.177454822 added, 1 markets in cache\n",
      "INFO:betfairlightweight.streaming.listener:[Register: 0]: marketSubscription\n",
      "WARNING:betfairlightweight.streaming.listener:[Listener: 0]: stream already registered, replacing data\n",
      "INFO:betfairlightweight.streaming.stream:[MarketStream: 0]: \"MarketStream\" created\n",
      "INFO:betfairlightweight.streaming.stream:[MarketStream: 0]: 1.177506705 added, 1 markets in cache\n"
     ]
    },
    {
     "name": "stdout",
     "output_type": "stream",
     "text": [
      "didnt find postplay results?\n",
      "didnt find postplay results?\n"
     ]
    },
    {
     "name": "stderr",
     "output_type": "stream",
     "text": [
      "INFO:betfairlightweight.streaming.listener:[Register: 0]: marketSubscription\n",
      "WARNING:betfairlightweight.streaming.listener:[Listener: 0]: stream already registered, replacing data\n",
      "INFO:betfairlightweight.streaming.stream:[MarketStream: 0]: \"MarketStream\" created\n",
      "INFO:betfairlightweight.streaming.stream:[MarketStream: 0]: 1.177454823 added, 1 markets in cache\n",
      "INFO:betfairlightweight.streaming.listener:[Register: 0]: marketSubscription\n",
      "WARNING:betfairlightweight.streaming.listener:[Listener: 0]: stream already registered, replacing data\n",
      "INFO:betfairlightweight.streaming.stream:[MarketStream: 0]: \"MarketStream\" created\n",
      "INFO:betfairlightweight.streaming.stream:[MarketStream: 0]: 1.177506703 added, 1 markets in cache\n"
     ]
    },
    {
     "name": "stdout",
     "output_type": "stream",
     "text": [
      "didnt find postplay results?\n"
     ]
    },
    {
     "name": "stderr",
     "output_type": "stream",
     "text": [
      "INFO:betfairlightweight.streaming.listener:[Register: 0]: marketSubscription\n",
      "WARNING:betfairlightweight.streaming.listener:[Listener: 0]: stream already registered, replacing data\n",
      "INFO:betfairlightweight.streaming.stream:[MarketStream: 0]: \"MarketStream\" created\n",
      "INFO:betfairlightweight.streaming.stream:[MarketStream: 0]: 1.177506708 added, 1 markets in cache\n",
      "INFO:betfairlightweight.streaming.listener:[Register: 0]: marketSubscription\n",
      "WARNING:betfairlightweight.streaming.listener:[Listener: 0]: stream already registered, replacing data\n",
      "INFO:betfairlightweight.streaming.stream:[MarketStream: 0]: \"MarketStream\" created\n",
      "INFO:betfairlightweight.streaming.stream:[MarketStream: 0]: 1.177452845 added, 1 markets in cache\n",
      "INFO:betfairlightweight.streaming.stream:[MarketStream: 0]: 1.177452845 added, 1 markets in cache\n"
     ]
    },
    {
     "name": "stdout",
     "output_type": "stream",
     "text": [
      "didnt find postplay results?\n",
      "didnt find postplay results?\n"
     ]
    },
    {
     "name": "stderr",
     "output_type": "stream",
     "text": [
      "INFO:betfairlightweight.streaming.stream:[MarketStream: 0]: 1.177452845 added, 1 markets in cache\n",
      "INFO:betfairlightweight.streaming.stream:[MarketStream: 0]: 1.177452845 added, 1 markets in cache\n",
      "INFO:betfairlightweight.streaming.listener:[Register: 0]: marketSubscription\n",
      "WARNING:betfairlightweight.streaming.listener:[Listener: 0]: stream already registered, replacing data\n",
      "INFO:betfairlightweight.streaming.stream:[MarketStream: 0]: \"MarketStream\" created\n",
      "INFO:betfairlightweight.streaming.stream:[MarketStream: 0]: 1.177452844 added, 1 markets in cache\n",
      "INFO:betfairlightweight.streaming.stream:[MarketStream: 0]: 1.177452844 added, 1 markets in cache\n",
      "INFO:betfairlightweight.streaming.stream:[MarketStream: 0]: 1.177452844 added, 1 markets in cache\n",
      "INFO:betfairlightweight.streaming.stream:[MarketStream: 0]: 1.177452844 added, 1 markets in cache\n",
      "INFO:betfairlightweight.streaming.stream:[MarketStream: 0]: 1.177452844 added, 1 markets in cache\n",
      "INFO:betfairlightweight.streaming.stream:[MarketStream: 0]: 1.177452844 added, 1 markets in cache\n",
      "INFO:betfairlightweight.streaming.stream:[MarketStream: 0]: 1.177452844 added, 1 markets in cache\n",
      "INFO:betfairlightweight.streaming.stream:[MarketStream: 0]: 1.177452844 added, 1 markets in cache\n",
      "INFO:betfairlightweight.streaming.stream:[MarketStream: 0]: 1.177452844 added, 1 markets in cache\n",
      "INFO:betfairlightweight.streaming.stream:[MarketStream: 0]: 1.177452844 added, 1 markets in cache\n",
      "INFO:betfairlightweight.streaming.stream:[MarketStream: 0]: 1.177452844 added, 1 markets in cache\n",
      "INFO:betfairlightweight.streaming.stream:[MarketStream: 0]: 1.177452844 added, 1 markets in cache\n",
      "INFO:betfairlightweight.streaming.stream:[MarketStream: 0]: 1.177452844 added, 1 markets in cache\n"
     ]
    },
    {
     "name": "stdout",
     "output_type": "stream",
     "text": [
      "didnt find postplay results?\n"
     ]
    },
    {
     "name": "stderr",
     "output_type": "stream",
     "text": [
      "INFO:betfairlightweight.streaming.stream:[MarketStream: 0]: 1.177452844 added, 1 markets in cache\n",
      "INFO:betfairlightweight.streaming.stream:[MarketStream: 0]: 1.177452844 added, 1 markets in cache\n",
      "INFO:betfairlightweight.streaming.stream:[MarketStream: 0]: 1.177452844 added, 1 markets in cache\n",
      "INFO:betfairlightweight.streaming.listener:[Register: 0]: marketSubscription\n",
      "WARNING:betfairlightweight.streaming.listener:[Listener: 0]: stream already registered, replacing data\n",
      "INFO:betfairlightweight.streaming.stream:[MarketStream: 0]: \"MarketStream\" created\n",
      "INFO:betfairlightweight.streaming.stream:[MarketStream: 0]: 1.177452846 added, 1 markets in cache\n",
      "INFO:betfairlightweight.streaming.stream:[MarketStream: 0]: 1.177452846 added, 1 markets in cache\n",
      "INFO:betfairlightweight.streaming.stream:[MarketStream: 0]: 1.177452846 added, 1 markets in cache\n"
     ]
    },
    {
     "name": "stdout",
     "output_type": "stream",
     "text": [
      "didnt find postplay results?\n"
     ]
    },
    {
     "name": "stderr",
     "output_type": "stream",
     "text": [
      "INFO:betfairlightweight.streaming.listener:[Register: 0]: marketSubscription\n",
      "WARNING:betfairlightweight.streaming.listener:[Listener: 0]: stream already registered, replacing data\n",
      "INFO:betfairlightweight.streaming.stream:[MarketStream: 0]: \"MarketStream\" created\n",
      "INFO:betfairlightweight.streaming.stream:[MarketStream: 0]: 1.177507310 added, 1 markets in cache\n"
     ]
    },
    {
     "name": "stdout",
     "output_type": "stream",
     "text": [
      "didnt find postplay results?\n"
     ]
    },
    {
     "name": "stderr",
     "output_type": "stream",
     "text": [
      "INFO:betfairlightweight.streaming.listener:[Register: 0]: marketSubscription\n",
      "WARNING:betfairlightweight.streaming.listener:[Listener: 0]: stream already registered, replacing data\n",
      "INFO:betfairlightweight.streaming.stream:[MarketStream: 0]: \"MarketStream\" created\n",
      "INFO:betfairlightweight.streaming.stream:[MarketStream: 0]: 1.177513905 added, 1 markets in cache\n",
      "INFO:betfairlightweight.streaming.listener:[Register: 0]: marketSubscription\n"
     ]
    },
    {
     "name": "stdout",
     "output_type": "stream",
     "text": [
      "didnt find postplay results?\n",
      "didnt find postplay results?\n"
     ]
    },
    {
     "name": "stderr",
     "output_type": "stream",
     "text": [
      "WARNING:betfairlightweight.streaming.listener:[Listener: 0]: stream already registered, replacing data\n",
      "INFO:betfairlightweight.streaming.stream:[MarketStream: 0]: \"MarketStream\" created\n",
      "INFO:betfairlightweight.streaming.stream:[MarketStream: 0]: 1.177452848 added, 1 markets in cache\n",
      "INFO:betfairlightweight.streaming.stream:[MarketStream: 0]: 1.177452848 added, 1 markets in cache\n",
      "INFO:betfairlightweight.streaming.listener:[Register: 0]: marketSubscription\n",
      "WARNING:betfairlightweight.streaming.listener:[Listener: 0]: stream already registered, replacing data\n",
      "INFO:betfairlightweight.streaming.stream:[MarketStream: 0]: \"MarketStream\" created\n",
      "INFO:betfairlightweight.streaming.stream:[MarketStream: 0]: 1.177450994 added, 1 markets in cache\n"
     ]
    },
    {
     "name": "stdout",
     "output_type": "stream",
     "text": [
      "didnt find postplay results?\n"
     ]
    },
    {
     "name": "stderr",
     "output_type": "stream",
     "text": [
      "INFO:betfairlightweight.streaming.listener:[Register: 0]: marketSubscription\n",
      "WARNING:betfairlightweight.streaming.listener:[Listener: 0]: stream already registered, replacing data\n",
      "INFO:betfairlightweight.streaming.stream:[MarketStream: 0]: \"MarketStream\" created\n",
      "INFO:betfairlightweight.streaming.stream:[MarketStream: 0]: 1.177450993 added, 1 markets in cache\n",
      "INFO:betfairlightweight.streaming.stream:[MarketStream: 0]: 1.177450993 added, 1 markets in cache\n",
      "INFO:betfairlightweight.streaming.stream:[MarketStream: 0]: 1.177450993 added, 1 markets in cache\n"
     ]
    },
    {
     "name": "stdout",
     "output_type": "stream",
     "text": [
      "didnt find postplay results?\n"
     ]
    },
    {
     "name": "stderr",
     "output_type": "stream",
     "text": [
      "INFO:betfairlightweight.streaming.listener:[Register: 0]: marketSubscription\n",
      "WARNING:betfairlightweight.streaming.listener:[Listener: 0]: stream already registered, replacing data\n",
      "INFO:betfairlightweight.streaming.stream:[MarketStream: 0]: \"MarketStream\" created\n",
      "INFO:betfairlightweight.streaming.stream:[MarketStream: 0]: 1.177450995 added, 1 markets in cache\n",
      "INFO:betfairlightweight.streaming.stream:[MarketStream: 0]: 1.177450995 added, 1 markets in cache\n",
      "INFO:betfairlightweight.streaming.stream:[MarketStream: 0]: 1.177450995 added, 1 markets in cache\n"
     ]
    },
    {
     "name": "stdout",
     "output_type": "stream",
     "text": [
      "didnt find postplay results?\n"
     ]
    },
    {
     "name": "stderr",
     "output_type": "stream",
     "text": [
      "INFO:betfairlightweight.streaming.listener:[Register: 0]: marketSubscription\n",
      "WARNING:betfairlightweight.streaming.listener:[Listener: 0]: stream already registered, replacing data\n",
      "INFO:betfairlightweight.streaming.stream:[MarketStream: 0]: \"MarketStream\" created\n",
      "INFO:betfairlightweight.streaming.stream:[MarketStream: 0]: 1.177450992 added, 1 markets in cache\n",
      "INFO:betfairlightweight.streaming.stream:[MarketStream: 0]: 1.177450992 added, 1 markets in cache\n",
      "INFO:betfairlightweight.streaming.stream:[MarketStream: 0]: 1.177450992 added, 1 markets in cache\n"
     ]
    },
    {
     "name": "stdout",
     "output_type": "stream",
     "text": [
      "didnt find postplay results?\n"
     ]
    },
    {
     "name": "stderr",
     "output_type": "stream",
     "text": [
      "INFO:betfairlightweight.streaming.stream:[MarketStream: 0]: 1.177450992 added, 1 markets in cache\n",
      "INFO:betfairlightweight.streaming.stream:[MarketStream: 0]: 1.177450992 added, 1 markets in cache\n",
      "INFO:betfairlightweight.streaming.stream:[MarketStream: 0]: 1.177450992 added, 1 markets in cache\n",
      "INFO:betfairlightweight.streaming.stream:[MarketStream: 0]: 1.177450992 added, 1 markets in cache\n",
      "INFO:betfairlightweight.streaming.listener:[Register: 0]: marketSubscription\n",
      "WARNING:betfairlightweight.streaming.listener:[Listener: 0]: stream already registered, replacing data\n",
      "INFO:betfairlightweight.streaming.stream:[MarketStream: 0]: \"MarketStream\" created\n",
      "INFO:betfairlightweight.streaming.stream:[MarketStream: 0]: 1.177513947 added, 1 markets in cache\n",
      "INFO:betfairlightweight.streaming.listener:[Register: 0]: marketSubscription\n",
      "WARNING:betfairlightweight.streaming.listener:[Listener: 0]: stream already registered, replacing data\n",
      "INFO:betfairlightweight.streaming.stream:[MarketStream: 0]: \"MarketStream\" created\n",
      "INFO:betfairlightweight.streaming.stream:[MarketStream: 0]: 1.177450996 added, 1 markets in cache\n"
     ]
    },
    {
     "name": "stdout",
     "output_type": "stream",
     "text": [
      "didnt find postplay results?\n",
      "didnt find postplay results?\n"
     ]
    },
    {
     "name": "stderr",
     "output_type": "stream",
     "text": [
      "INFO:betfairlightweight.streaming.listener:[Register: 0]: marketSubscription\n",
      "WARNING:betfairlightweight.streaming.listener:[Listener: 0]: stream already registered, replacing data\n",
      "INFO:betfairlightweight.streaming.stream:[MarketStream: 0]: \"MarketStream\" created\n",
      "INFO:betfairlightweight.streaming.stream:[MarketStream: 0]: 1.177454825 added, 1 markets in cache\n"
     ]
    },
    {
     "name": "stdout",
     "output_type": "stream",
     "text": [
      "didnt find postplay results?\n"
     ]
    },
    {
     "name": "stderr",
     "output_type": "stream",
     "text": [
      "INFO:betfairlightweight.streaming.listener:[Register: 0]: marketSubscription\n",
      "WARNING:betfairlightweight.streaming.listener:[Listener: 0]: stream already registered, replacing data\n",
      "INFO:betfairlightweight.streaming.stream:[MarketStream: 0]: \"MarketStream\" created\n",
      "INFO:betfairlightweight.streaming.stream:[MarketStream: 0]: 1.177454824 added, 1 markets in cache\n",
      "INFO:betfairlightweight.streaming.stream:[MarketStream: 0]: 1.177454824 added, 1 markets in cache\n",
      "INFO:betfairlightweight.streaming.stream:[MarketStream: 0]: 1.177454824 added, 1 markets in cache\n",
      "INFO:betfairlightweight.streaming.stream:[MarketStream: 0]: 1.177454824 added, 1 markets in cache\n",
      "INFO:betfairlightweight.streaming.stream:[MarketStream: 0]: 1.177454824 added, 1 markets in cache\n",
      "INFO:betfairlightweight.streaming.stream:[MarketStream: 0]: 1.177454824 added, 1 markets in cache\n",
      "INFO:betfairlightweight.streaming.stream:[MarketStream: 0]: 1.177454824 added, 1 markets in cache\n",
      "INFO:betfairlightweight.streaming.stream:[MarketStream: 0]: 1.177454824 added, 1 markets in cache\n",
      "INFO:betfairlightweight.streaming.stream:[MarketStream: 0]: 1.177454824 added, 1 markets in cache\n",
      "INFO:betfairlightweight.streaming.stream:[MarketStream: 0]: 1.177454824 added, 1 markets in cache\n",
      "INFO:betfairlightweight.streaming.stream:[MarketStream: 0]: 1.177454824 added, 1 markets in cache\n",
      "INFO:betfairlightweight.streaming.stream:[MarketStream: 0]: 1.177454824 added, 1 markets in cache\n",
      "INFO:betfairlightweight.streaming.stream:[MarketStream: 0]: 1.177454824 added, 1 markets in cache\n",
      "INFO:betfairlightweight.streaming.stream:[MarketStream: 0]: 1.177454824 added, 1 markets in cache\n"
     ]
    },
    {
     "name": "stdout",
     "output_type": "stream",
     "text": [
      "didnt find postplay results?\n"
     ]
    },
    {
     "name": "stderr",
     "output_type": "stream",
     "text": [
      "INFO:betfairlightweight.streaming.listener:[Register: 0]: marketSubscription\n",
      "WARNING:betfairlightweight.streaming.listener:[Listener: 0]: stream already registered, replacing data\n",
      "INFO:betfairlightweight.streaming.stream:[MarketStream: 0]: \"MarketStream\" created\n",
      "INFO:betfairlightweight.streaming.stream:[MarketStream: 0]: 1.177454826 added, 1 markets in cache\n"
     ]
    },
    {
     "name": "stdout",
     "output_type": "stream",
     "text": [
      "didnt find postplay results?\n"
     ]
    },
    {
     "name": "stderr",
     "output_type": "stream",
     "text": [
      "INFO:betfairlightweight.streaming.listener:[Register: 0]: marketSubscription\n",
      "WARNING:betfairlightweight.streaming.listener:[Listener: 0]: stream already registered, replacing data\n",
      "INFO:betfairlightweight.streaming.stream:[MarketStream: 0]: \"MarketStream\" created\n",
      "INFO:betfairlightweight.streaming.stream:[MarketStream: 0]: 1.177454827 added, 1 markets in cache\n"
     ]
    },
    {
     "name": "stdout",
     "output_type": "stream",
     "text": [
      "didnt find postplay results?\n"
     ]
    },
    {
     "name": "stderr",
     "output_type": "stream",
     "text": [
      "INFO:betfairlightweight.streaming.listener:[Register: 0]: marketSubscription\n",
      "WARNING:betfairlightweight.streaming.listener:[Listener: 0]: stream already registered, replacing data\n",
      "INFO:betfairlightweight.streaming.stream:[MarketStream: 0]: \"MarketStream\" created\n",
      "INFO:betfairlightweight.streaming.stream:[MarketStream: 0]: 1.177513951 added, 1 markets in cache\n",
      "INFO:betfairlightweight.streaming.listener:[Register: 0]: marketSubscription\n",
      "WARNING:betfairlightweight.streaming.listener:[Listener: 0]: stream already registered, replacing data\n",
      "INFO:betfairlightweight.streaming.stream:[MarketStream: 0]: \"MarketStream\" created\n",
      "INFO:betfairlightweight.streaming.stream:[MarketStream: 0]: 1.177454828 added, 1 markets in cache\n"
     ]
    },
    {
     "name": "stdout",
     "output_type": "stream",
     "text": [
      "didnt find postplay results?\n",
      "didnt find postplay results?\n"
     ]
    },
    {
     "name": "stderr",
     "output_type": "stream",
     "text": [
      "INFO:betfairlightweight.streaming.listener:[Register: 0]: marketSubscription\n",
      "WARNING:betfairlightweight.streaming.listener:[Listener: 0]: stream already registered, replacing data\n",
      "INFO:betfairlightweight.streaming.stream:[MarketStream: 0]: \"MarketStream\" created\n",
      "INFO:betfairlightweight.streaming.stream:[MarketStream: 0]: 1.177452849 added, 1 markets in cache\n",
      "INFO:betfairlightweight.streaming.stream:[MarketStream: 0]: 1.177452849 added, 1 markets in cache\n",
      "INFO:betfairlightweight.streaming.stream:[MarketStream: 0]: 1.177452849 added, 1 markets in cache\n",
      "INFO:betfairlightweight.streaming.stream:[MarketStream: 0]: 1.177452849 added, 1 markets in cache\n",
      "INFO:betfairlightweight.streaming.stream:[MarketStream: 0]: 1.177452849 added, 1 markets in cache\n",
      "INFO:betfairlightweight.streaming.stream:[MarketStream: 0]: 1.177452849 added, 1 markets in cache\n",
      "INFO:betfairlightweight.streaming.stream:[MarketStream: 0]: 1.177452849 added, 1 markets in cache\n",
      "INFO:betfairlightweight.streaming.stream:[MarketStream: 0]: 1.177452849 added, 1 markets in cache\n",
      "INFO:betfairlightweight.streaming.stream:[MarketStream: 0]: 1.177452849 added, 1 markets in cache\n",
      "INFO:betfairlightweight.streaming.stream:[MarketStream: 0]: 1.177452849 added, 1 markets in cache\n",
      "INFO:betfairlightweight.streaming.stream:[MarketStream: 0]: 1.177452849 added, 1 markets in cache\n",
      "INFO:betfairlightweight.streaming.stream:[MarketStream: 0]: 1.177452849 added, 1 markets in cache\n",
      "INFO:betfairlightweight.streaming.stream:[MarketStream: 0]: 1.177452849 added, 1 markets in cache\n",
      "INFO:betfairlightweight.streaming.stream:[MarketStream: 0]: 1.177452849 added, 1 markets in cache\n"
     ]
    },
    {
     "name": "stdout",
     "output_type": "stream",
     "text": [
      "didnt find postplay results?\n"
     ]
    },
    {
     "name": "stderr",
     "output_type": "stream",
     "text": [
      "INFO:betfairlightweight.streaming.stream:[MarketStream: 0]: 1.177452849 added, 1 markets in cache\n",
      "INFO:betfairlightweight.streaming.stream:[MarketStream: 0]: 1.177452849 added, 1 markets in cache\n",
      "INFO:betfairlightweight.streaming.listener:[Register: 0]: marketSubscription\n",
      "WARNING:betfairlightweight.streaming.listener:[Listener: 0]: stream already registered, replacing data\n",
      "INFO:betfairlightweight.streaming.stream:[MarketStream: 0]: \"MarketStream\" created\n",
      "INFO:betfairlightweight.streaming.stream:[MarketStream: 0]: 1.177452850 added, 1 markets in cache\n",
      "INFO:betfairlightweight.streaming.stream:[MarketStream: 0]: 1.177452850 added, 1 markets in cache\n",
      "INFO:betfairlightweight.streaming.stream:[MarketStream: 0]: 1.177452850 added, 1 markets in cache\n"
     ]
    },
    {
     "name": "stdout",
     "output_type": "stream",
     "text": [
      "didnt find postplay results?\n"
     ]
    },
    {
     "name": "stderr",
     "output_type": "stream",
     "text": [
      "INFO:betfairlightweight.streaming.listener:[Register: 0]: marketSubscription\n",
      "WARNING:betfairlightweight.streaming.listener:[Listener: 0]: stream already registered, replacing data\n",
      "INFO:betfairlightweight.streaming.stream:[MarketStream: 0]: \"MarketStream\" created\n",
      "INFO:betfairlightweight.streaming.stream:[MarketStream: 0]: 1.177514007 added, 1 markets in cache\n",
      "INFO:betfairlightweight.streaming.listener:[Register: 0]: marketSubscription\n",
      "WARNING:betfairlightweight.streaming.listener:[Listener: 0]: stream already registered, replacing data\n",
      "INFO:betfairlightweight.streaming.stream:[MarketStream: 0]: \"MarketStream\" created\n",
      "INFO:betfairlightweight.streaming.stream:[MarketStream: 0]: 1.177452851 added, 1 markets in cache\n"
     ]
    },
    {
     "name": "stdout",
     "output_type": "stream",
     "text": [
      "didnt find postplay results?\n",
      "didnt find postplay results?\n"
     ]
    },
    {
     "name": "stderr",
     "output_type": "stream",
     "text": [
      "INFO:betfairlightweight.streaming.listener:[Register: 0]: marketSubscription\n",
      "WARNING:betfairlightweight.streaming.listener:[Listener: 0]: stream already registered, replacing data\n",
      "INFO:betfairlightweight.streaming.stream:[MarketStream: 0]: \"MarketStream\" created\n",
      "INFO:betfairlightweight.streaming.stream:[MarketStream: 0]: 1.177452853 added, 1 markets in cache\n"
     ]
    },
    {
     "name": "stdout",
     "output_type": "stream",
     "text": [
      "didnt find postplay results?\n"
     ]
    },
    {
     "name": "stderr",
     "output_type": "stream",
     "text": [
      "INFO:betfairlightweight.streaming.listener:[Register: 0]: marketSubscription\n",
      "WARNING:betfairlightweight.streaming.listener:[Listener: 0]: stream already registered, replacing data\n",
      "INFO:betfairlightweight.streaming.stream:[MarketStream: 0]: \"MarketStream\" created\n",
      "INFO:betfairlightweight.streaming.stream:[MarketStream: 0]: 1.177507527 added, 1 markets in cache\n"
     ]
    },
    {
     "name": "stdout",
     "output_type": "stream",
     "text": [
      "didnt find postplay results?\n"
     ]
    },
    {
     "name": "stderr",
     "output_type": "stream",
     "text": [
      "INFO:betfairlightweight.streaming.listener:[Register: 0]: marketSubscription\n",
      "WARNING:betfairlightweight.streaming.listener:[Listener: 0]: stream already registered, replacing data\n",
      "INFO:betfairlightweight.streaming.stream:[MarketStream: 0]: \"MarketStream\" created\n",
      "INFO:betfairlightweight.streaming.stream:[MarketStream: 0]: 1.177452852 added, 1 markets in cache\n"
     ]
    },
    {
     "name": "stdout",
     "output_type": "stream",
     "text": [
      "didnt find postplay results?\n"
     ]
    },
    {
     "name": "stderr",
     "output_type": "stream",
     "text": [
      "INFO:betfairlightweight.streaming.stream:[MarketStream: 0]: 1.177452852 added, 1 markets in cache\n",
      "INFO:betfairlightweight.streaming.listener:[Register: 0]: marketSubscription\n",
      "WARNING:betfairlightweight.streaming.listener:[Listener: 0]: stream already registered, replacing data\n",
      "INFO:betfairlightweight.streaming.stream:[MarketStream: 0]: \"MarketStream\" created\n",
      "INFO:betfairlightweight.streaming.stream:[MarketStream: 0]: 1.177452847 added, 1 markets in cache\n",
      "INFO:betfairlightweight.streaming.listener:[Register: 0]: marketSubscription\n",
      "WARNING:betfairlightweight.streaming.listener:[Listener: 0]: stream already registered, replacing data\n",
      "INFO:betfairlightweight.streaming.stream:[MarketStream: 0]: \"MarketStream\" created\n",
      "INFO:betfairlightweight.streaming.stream:[MarketStream: 0]: 1.177452832 added, 1 markets in cache\n",
      "INFO:betfairlightweight.streaming.listener:[Register: 0]: marketSubscription\n",
      "WARNING:betfairlightweight.streaming.listener:[Listener: 0]: stream already registered, replacing data\n",
      "INFO:betfairlightweight.streaming.stream:[MarketStream: 0]: \"MarketStream\" created\n",
      "INFO:betfairlightweight.streaming.stream:[MarketStream: 0]: 1.177452822 added, 1 markets in cache\n",
      "INFO:betfairlightweight.streaming.listener:[Register: 0]: marketSubscription\n",
      "WARNING:betfairlightweight.streaming.listener:[Listener: 0]: stream already registered, replacing data\n",
      "INFO:betfairlightweight.streaming.stream:[MarketStream: 0]: \"MarketStream\" created\n",
      "INFO:betfairlightweight.streaming.stream:[MarketStream: 0]: 1.177452837 added, 1 markets in cache\n",
      "INFO:betfairlightweight.streaming.listener:[Register: 0]: marketSubscription\n",
      "WARNING:betfairlightweight.streaming.listener:[Listener: 0]: stream already registered, replacing data\n",
      "INFO:betfairlightweight.streaming.stream:[MarketStream: 0]: \"MarketStream\" created\n",
      "INFO:betfairlightweight.streaming.stream:[MarketStream: 0]: 1.177450998 added, 1 markets in cache\n",
      "INFO:betfairlightweight.streaming.stream:[MarketStream: 0]: 1.177450998 added, 1 markets in cache\n",
      "INFO:betfairlightweight.streaming.stream:[MarketStream: 0]: 1.177450998 added, 1 markets in cache\n"
     ]
    },
    {
     "name": "stdout",
     "output_type": "stream",
     "text": [
      "didnt find postplay results?\n",
      "didnt find postplay results?\n",
      "didnt find postplay results?\n",
      "didnt find postplay results?\n",
      "didnt find postplay results?\n"
     ]
    },
    {
     "name": "stderr",
     "output_type": "stream",
     "text": [
      "INFO:betfairlightweight.streaming.stream:[MarketStream: 0]: 1.177450998 added, 1 markets in cache\n",
      "INFO:betfairlightweight.streaming.stream:[MarketStream: 0]: 1.177450998 added, 1 markets in cache\n",
      "INFO:betfairlightweight.streaming.listener:[Register: 0]: marketSubscription\n",
      "WARNING:betfairlightweight.streaming.listener:[Listener: 0]: stream already registered, replacing data\n",
      "INFO:betfairlightweight.streaming.stream:[MarketStream: 0]: \"MarketStream\" created\n",
      "INFO:betfairlightweight.streaming.stream:[MarketStream: 0]: 1.177450997 added, 1 markets in cache\n",
      "INFO:betfairlightweight.streaming.stream:[MarketStream: 0]: 1.177450997 added, 1 markets in cache\n",
      "INFO:betfairlightweight.streaming.stream:[MarketStream: 0]: 1.177450997 added, 1 markets in cache\n",
      "INFO:betfairlightweight.streaming.stream:[MarketStream: 0]: 1.177450997 added, 1 markets in cache\n",
      "INFO:betfairlightweight.streaming.stream:[MarketStream: 0]: 1.177450997 added, 1 markets in cache\n",
      "INFO:betfairlightweight.streaming.stream:[MarketStream: 0]: 1.177450997 added, 1 markets in cache\n",
      "INFO:betfairlightweight.streaming.stream:[MarketStream: 0]: 1.177450997 added, 1 markets in cache\n",
      "INFO:betfairlightweight.streaming.stream:[MarketStream: 0]: 1.177450997 added, 1 markets in cache\n",
      "INFO:betfairlightweight.streaming.stream:[MarketStream: 0]: 1.177450997 added, 1 markets in cache\n",
      "INFO:betfairlightweight.streaming.stream:[MarketStream: 0]: 1.177450997 added, 1 markets in cache\n",
      "INFO:betfairlightweight.streaming.stream:[MarketStream: 0]: 1.177450997 added, 1 markets in cache\n",
      "INFO:betfairlightweight.streaming.stream:[MarketStream: 0]: 1.177450997 added, 1 markets in cache\n",
      "INFO:betfairlightweight.streaming.stream:[MarketStream: 0]: 1.177450997 added, 1 markets in cache\n"
     ]
    },
    {
     "name": "stdout",
     "output_type": "stream",
     "text": [
      "didnt find postplay results?\n"
     ]
    },
    {
     "name": "stderr",
     "output_type": "stream",
     "text": [
      "INFO:betfairlightweight.streaming.stream:[MarketStream: 0]: 1.177450997 added, 1 markets in cache\n",
      "INFO:betfairlightweight.streaming.stream:[MarketStream: 0]: 1.177450997 added, 1 markets in cache\n",
      "INFO:betfairlightweight.streaming.stream:[MarketStream: 0]: 1.177450997 added, 1 markets in cache\n",
      "INFO:betfairlightweight.streaming.listener:[Register: 0]: marketSubscription\n",
      "WARNING:betfairlightweight.streaming.listener:[Listener: 0]: stream already registered, replacing data\n",
      "INFO:betfairlightweight.streaming.stream:[MarketStream: 0]: \"MarketStream\" created\n",
      "INFO:betfairlightweight.streaming.stream:[MarketStream: 0]: 1.177451000 added, 1 markets in cache\n"
     ]
    },
    {
     "name": "stdout",
     "output_type": "stream",
     "text": [
      "didnt find postplay results?\n"
     ]
    },
    {
     "name": "stderr",
     "output_type": "stream",
     "text": [
      "INFO:betfairlightweight.streaming.listener:[Register: 0]: marketSubscription\n",
      "WARNING:betfairlightweight.streaming.listener:[Listener: 0]: stream already registered, replacing data\n",
      "INFO:betfairlightweight.streaming.stream:[MarketStream: 0]: \"MarketStream\" created\n",
      "INFO:betfairlightweight.streaming.stream:[MarketStream: 0]: 1.177450999 added, 1 markets in cache\n"
     ]
    },
    {
     "name": "stdout",
     "output_type": "stream",
     "text": [
      "didnt find postplay results?\n"
     ]
    },
    {
     "name": "stderr",
     "output_type": "stream",
     "text": [
      "INFO:betfairlightweight.streaming.listener:[Register: 0]: marketSubscription\n",
      "WARNING:betfairlightweight.streaming.listener:[Listener: 0]: stream already registered, replacing data\n",
      "INFO:betfairlightweight.streaming.stream:[MarketStream: 0]: \"MarketStream\" created\n",
      "INFO:betfairlightweight.streaming.stream:[MarketStream: 0]: 1.177513941 added, 1 markets in cache\n",
      "INFO:betfairlightweight.streaming.listener:[Register: 0]: marketSubscription\n",
      "WARNING:betfairlightweight.streaming.listener:[Listener: 0]: stream already registered, replacing data\n",
      "INFO:betfairlightweight.streaming.stream:[MarketStream: 0]: \"MarketStream\" created\n",
      "INFO:betfairlightweight.streaming.stream:[MarketStream: 0]: 1.177451001 added, 1 markets in cache\n"
     ]
    },
    {
     "name": "stdout",
     "output_type": "stream",
     "text": [
      "didnt find postplay results?\n",
      "didnt find postplay results?\n"
     ]
    },
    {
     "name": "stderr",
     "output_type": "stream",
     "text": [
      "INFO:betfairlightweight.streaming.listener:[Register: 0]: marketSubscription\n",
      "WARNING:betfairlightweight.streaming.listener:[Listener: 0]: stream already registered, replacing data\n",
      "INFO:betfairlightweight.streaming.stream:[MarketStream: 0]: \"MarketStream\" created\n",
      "INFO:betfairlightweight.streaming.stream:[MarketStream: 0]: 1.177454830 added, 1 markets in cache\n"
     ]
    },
    {
     "name": "stdout",
     "output_type": "stream",
     "text": [
      "didnt find postplay results?\n"
     ]
    },
    {
     "name": "stderr",
     "output_type": "stream",
     "text": [
      "INFO:betfairlightweight.streaming.stream:[MarketStream: 0]: 1.177454830 added, 1 markets in cache\n",
      "INFO:betfairlightweight.streaming.listener:[Register: 0]: marketSubscription\n",
      "WARNING:betfairlightweight.streaming.listener:[Listener: 0]: stream already registered, replacing data\n",
      "INFO:betfairlightweight.streaming.stream:[MarketStream: 0]: \"MarketStream\" created\n",
      "INFO:betfairlightweight.streaming.stream:[MarketStream: 0]: 1.177454829 added, 1 markets in cache\n",
      "INFO:betfairlightweight.streaming.stream:[MarketStream: 0]: 1.177454829 added, 1 markets in cache\n",
      "INFO:betfairlightweight.streaming.stream:[MarketStream: 0]: 1.177454829 added, 1 markets in cache\n",
      "INFO:betfairlightweight.streaming.stream:[MarketStream: 0]: 1.177454829 added, 1 markets in cache\n",
      "INFO:betfairlightweight.streaming.stream:[MarketStream: 0]: 1.177454829 added, 1 markets in cache\n",
      "INFO:betfairlightweight.streaming.stream:[MarketStream: 0]: 1.177454829 added, 1 markets in cache\n",
      "INFO:betfairlightweight.streaming.stream:[MarketStream: 0]: 1.177454829 added, 1 markets in cache\n",
      "INFO:betfairlightweight.streaming.stream:[MarketStream: 0]: 1.177454829 added, 1 markets in cache\n",
      "INFO:betfairlightweight.streaming.stream:[MarketStream: 0]: 1.177454829 added, 1 markets in cache\n",
      "INFO:betfairlightweight.streaming.stream:[MarketStream: 0]: 1.177454829 added, 1 markets in cache\n",
      "INFO:betfairlightweight.streaming.stream:[MarketStream: 0]: 1.177454829 added, 1 markets in cache\n",
      "INFO:betfairlightweight.streaming.stream:[MarketStream: 0]: 1.177454829 added, 1 markets in cache\n",
      "INFO:betfairlightweight.streaming.stream:[MarketStream: 0]: 1.177454829 added, 1 markets in cache\n",
      "INFO:betfairlightweight.streaming.stream:[MarketStream: 0]: 1.177454829 added, 1 markets in cache\n",
      "INFO:betfairlightweight.streaming.stream:[MarketStream: 0]: 1.177454829 added, 1 markets in cache\n",
      "INFO:betfairlightweight.streaming.stream:[MarketStream: 0]: 1.177454829 added, 1 markets in cache\n"
     ]
    },
    {
     "name": "stdout",
     "output_type": "stream",
     "text": [
      "didnt find postplay results?\n"
     ]
    },
    {
     "name": "stderr",
     "output_type": "stream",
     "text": [
      "INFO:betfairlightweight.streaming.listener:[Register: 0]: marketSubscription\n",
      "WARNING:betfairlightweight.streaming.listener:[Listener: 0]: stream already registered, replacing data\n",
      "INFO:betfairlightweight.streaming.stream:[MarketStream: 0]: \"MarketStream\" created\n",
      "INFO:betfairlightweight.streaming.stream:[MarketStream: 0]: 1.177454831 added, 1 markets in cache\n"
     ]
    },
    {
     "name": "stdout",
     "output_type": "stream",
     "text": [
      "didnt find postplay results?\n"
     ]
    },
    {
     "name": "stderr",
     "output_type": "stream",
     "text": [
      "INFO:betfairlightweight.streaming.listener:[Register: 0]: marketSubscription\n",
      "WARNING:betfairlightweight.streaming.listener:[Listener: 0]: stream already registered, replacing data\n",
      "INFO:betfairlightweight.streaming.stream:[MarketStream: 0]: \"MarketStream\" created\n",
      "INFO:betfairlightweight.streaming.stream:[MarketStream: 0]: 1.177454832 added, 1 markets in cache\n"
     ]
    },
    {
     "name": "stdout",
     "output_type": "stream",
     "text": [
      "didnt find postplay results?\n"
     ]
    },
    {
     "name": "stderr",
     "output_type": "stream",
     "text": [
      "INFO:betfairlightweight.streaming.listener:[Register: 0]: marketSubscription\n",
      "WARNING:betfairlightweight.streaming.listener:[Listener: 0]: stream already registered, replacing data\n",
      "INFO:betfairlightweight.streaming.stream:[MarketStream: 0]: \"MarketStream\" created\n",
      "INFO:betfairlightweight.streaming.stream:[MarketStream: 0]: 1.177454833 added, 1 markets in cache\n",
      "INFO:betfairlightweight.streaming.stream:[MarketStream: 0]: 1.177454833 added, 1 markets in cache\n"
     ]
    },
    {
     "name": "stdout",
     "output_type": "stream",
     "text": [
      "didnt find postplay results?\n"
     ]
    },
    {
     "name": "stderr",
     "output_type": "stream",
     "text": [
      "INFO:betfairlightweight.streaming.listener:[Register: 0]: marketSubscription\n",
      "WARNING:betfairlightweight.streaming.listener:[Listener: 0]: stream already registered, replacing data\n",
      "INFO:betfairlightweight.streaming.stream:[MarketStream: 0]: \"MarketStream\" created\n",
      "INFO:betfairlightweight.streaming.stream:[MarketStream: 0]: 1.177513949 added, 1 markets in cache\n",
      "INFO:betfairlightweight.streaming.listener:[Register: 0]: marketSubscription\n",
      "WARNING:betfairlightweight.streaming.listener:[Listener: 0]: stream already registered, replacing data\n",
      "INFO:betfairlightweight.streaming.stream:[MarketStream: 0]: \"MarketStream\" created\n",
      "INFO:betfairlightweight.streaming.stream:[MarketStream: 0]: 1.177484034 added, 1 markets in cache\n",
      "INFO:betfairlightweight.streaming.listener:[Register: 0]: marketSubscription\n",
      "WARNING:betfairlightweight.streaming.listener:[Listener: 0]: stream already registered, replacing data\n",
      "INFO:betfairlightweight.streaming.stream:[MarketStream: 0]: \"MarketStream\" created\n",
      "INFO:betfairlightweight.streaming.stream:[MarketStream: 0]: 1.177484046 added, 1 markets in cache\n",
      "INFO:betfairlightweight.streaming.listener:[Register: 0]: marketSubscription\n",
      "WARNING:betfairlightweight.streaming.listener:[Listener: 0]: stream already registered, replacing data\n",
      "INFO:betfairlightweight.streaming.stream:[MarketStream: 0]: \"MarketStream\" created\n",
      "INFO:betfairlightweight.streaming.stream:[MarketStream: 0]: 1.177484056 added, 1 markets in cache\n",
      "INFO:betfairlightweight.streaming.listener:[Register: 0]: marketSubscription\n",
      "WARNING:betfairlightweight.streaming.listener:[Listener: 0]: stream already registered, replacing data\n",
      "INFO:betfairlightweight.streaming.stream:[MarketStream: 0]: \"MarketStream\" created\n",
      "INFO:betfairlightweight.streaming.stream:[MarketStream: 0]: 1.177484040 added, 1 markets in cache\n",
      "INFO:betfairlightweight.streaming.listener:[Register: 0]: marketSubscription\n",
      "WARNING:betfairlightweight.streaming.listener:[Listener: 0]: stream already registered, replacing data\n",
      "INFO:betfairlightweight.streaming.stream:[MarketStream: 0]: \"MarketStream\" created\n",
      "INFO:betfairlightweight.streaming.stream:[MarketStream: 0]: 1.177484043 added, 1 markets in cache\n",
      "INFO:betfairlightweight.streaming.listener:[Register: 0]: marketSubscription\n",
      "WARNING:betfairlightweight.streaming.listener:[Listener: 0]: stream already registered, replacing data\n",
      "INFO:betfairlightweight.streaming.stream:[MarketStream: 0]: \"MarketStream\" created\n",
      "INFO:betfairlightweight.streaming.stream:[MarketStream: 0]: 1.177484065 added, 1 markets in cache\n",
      "INFO:betfairlightweight.streaming.listener:[Register: 0]: marketSubscription\n",
      "WARNING:betfairlightweight.streaming.listener:[Listener: 0]: stream already registered, replacing data\n",
      "INFO:betfairlightweight.streaming.stream:[MarketStream: 0]: \"MarketStream\" created\n",
      "INFO:betfairlightweight.streaming.stream:[MarketStream: 0]: 1.177484082 added, 1 markets in cache\n",
      "INFO:betfairlightweight.streaming.listener:[Register: 0]: marketSubscription\n",
      "WARNING:betfairlightweight.streaming.listener:[Listener: 0]: stream already registered, replacing data\n",
      "INFO:betfairlightweight.streaming.stream:[MarketStream: 0]: \"MarketStream\" created\n",
      "INFO:betfairlightweight.streaming.stream:[MarketStream: 0]: 1.177484088 added, 1 markets in cache\n",
      "INFO:betfairlightweight.streaming.listener:[Register: 0]: marketSubscription\n",
      "WARNING:betfairlightweight.streaming.listener:[Listener: 0]: stream already registered, replacing data\n",
      "INFO:betfairlightweight.streaming.stream:[MarketStream: 0]: \"MarketStream\" created\n",
      "INFO:betfairlightweight.streaming.stream:[MarketStream: 0]: 1.177484077 added, 1 markets in cache\n",
      "INFO:betfairlightweight.streaming.listener:[Register: 0]: marketSubscription\n",
      "WARNING:betfairlightweight.streaming.listener:[Listener: 0]: stream already registered, replacing data\n",
      "INFO:betfairlightweight.streaming.stream:[MarketStream: 0]: \"MarketStream\" created\n",
      "INFO:betfairlightweight.streaming.stream:[MarketStream: 0]: 1.177484071 added, 1 markets in cache\n",
      "INFO:betfairlightweight.streaming.listener:[Register: 0]: marketSubscription\n",
      "WARNING:betfairlightweight.streaming.listener:[Listener: 0]: stream already registered, replacing data\n",
      "INFO:betfairlightweight.streaming.stream:[MarketStream: 0]: \"MarketStream\" created\n",
      "INFO:betfairlightweight.streaming.stream:[MarketStream: 0]: 1.177515541 added, 1 markets in cache\n",
      "INFO:betfairlightweight.streaming.listener:[Register: 0]: marketSubscription\n",
      "WARNING:betfairlightweight.streaming.listener:[Listener: 0]: stream already registered, replacing data\n",
      "INFO:betfairlightweight.streaming.stream:[MarketStream: 0]: \"MarketStream\" created\n",
      "INFO:betfairlightweight.streaming.stream:[MarketStream: 0]: 1.177484035 added, 1 markets in cache\n"
     ]
    },
    {
     "name": "stdout",
     "output_type": "stream",
     "text": [
      "didnt find postplay results?\n",
      "didnt find postplay results?\n",
      "didnt find postplay results?\n",
      "didnt find postplay results?\n",
      "didnt find postplay results?\n",
      "didnt find postplay results?\n",
      "didnt find postplay results?\n",
      "didnt find postplay results?\n",
      "didnt find postplay results?\n",
      "didnt find postplay results?\n",
      "didnt find postplay results?\n",
      "didnt find postplay results?\n",
      "didnt find postplay results?\n"
     ]
    },
    {
     "name": "stderr",
     "output_type": "stream",
     "text": [
      "INFO:betfairlightweight.streaming.listener:[Register: 0]: marketSubscription\n",
      "WARNING:betfairlightweight.streaming.listener:[Listener: 0]: stream already registered, replacing data\n",
      "INFO:betfairlightweight.streaming.stream:[MarketStream: 0]: \"MarketStream\" created\n",
      "INFO:betfairlightweight.streaming.stream:[MarketStream: 0]: 1.177484033 added, 1 markets in cache\n",
      "INFO:betfairlightweight.streaming.stream:[MarketStream: 0]: 1.177484033 added, 1 markets in cache\n",
      "INFO:betfairlightweight.streaming.stream:[MarketStream: 0]: 1.177484033 added, 1 markets in cache\n",
      "INFO:betfairlightweight.streaming.stream:[MarketStream: 0]: 1.177484033 added, 1 markets in cache\n",
      "INFO:betfairlightweight.streaming.stream:[MarketStream: 0]: 1.177484033 added, 1 markets in cache\n",
      "INFO:betfairlightweight.streaming.stream:[MarketStream: 0]: 1.177484033 added, 1 markets in cache\n",
      "INFO:betfairlightweight.streaming.stream:[MarketStream: 0]: 1.177484033 added, 1 markets in cache\n",
      "INFO:betfairlightweight.streaming.stream:[MarketStream: 0]: 1.177484033 added, 1 markets in cache\n",
      "INFO:betfairlightweight.streaming.stream:[MarketStream: 0]: 1.177484033 added, 1 markets in cache\n",
      "INFO:betfairlightweight.streaming.stream:[MarketStream: 0]: 1.177484033 added, 1 markets in cache\n"
     ]
    },
    {
     "name": "stdout",
     "output_type": "stream",
     "text": [
      "didnt find postplay results?\n"
     ]
    },
    {
     "name": "stderr",
     "output_type": "stream",
     "text": [
      "INFO:betfairlightweight.streaming.listener:[Register: 0]: marketSubscription\n",
      "WARNING:betfairlightweight.streaming.listener:[Listener: 0]: stream already registered, replacing data\n",
      "INFO:betfairlightweight.streaming.stream:[MarketStream: 0]: \"MarketStream\" created\n",
      "INFO:betfairlightweight.streaming.stream:[MarketStream: 0]: 1.177484064 added, 1 markets in cache\n"
     ]
    },
    {
     "name": "stdout",
     "output_type": "stream",
     "text": [
      "didnt find postplay results?\n"
     ]
    },
    {
     "name": "stderr",
     "output_type": "stream",
     "text": [
      "INFO:betfairlightweight.streaming.listener:[Register: 0]: marketSubscription\n",
      "WARNING:betfairlightweight.streaming.listener:[Listener: 0]: stream already registered, replacing data\n",
      "INFO:betfairlightweight.streaming.stream:[MarketStream: 0]: \"MarketStream\" created\n",
      "INFO:betfairlightweight.streaming.stream:[MarketStream: 0]: 1.177484063 added, 1 markets in cache\n",
      "INFO:betfairlightweight.streaming.stream:[MarketStream: 0]: 1.177484063 added, 1 markets in cache\n",
      "INFO:betfairlightweight.streaming.stream:[MarketStream: 0]: 1.177484063 added, 1 markets in cache\n",
      "INFO:betfairlightweight.streaming.stream:[MarketStream: 0]: 1.177484063 added, 1 markets in cache\n",
      "INFO:betfairlightweight.streaming.stream:[MarketStream: 0]: 1.177484063 added, 1 markets in cache\n",
      "INFO:betfairlightweight.streaming.stream:[MarketStream: 0]: 1.177484063 added, 1 markets in cache\n",
      "INFO:betfairlightweight.streaming.stream:[MarketStream: 0]: 1.177484063 added, 1 markets in cache\n",
      "INFO:betfairlightweight.streaming.stream:[MarketStream: 0]: 1.177484063 added, 1 markets in cache\n",
      "INFO:betfairlightweight.streaming.stream:[MarketStream: 0]: 1.177484063 added, 1 markets in cache\n",
      "INFO:betfairlightweight.streaming.stream:[MarketStream: 0]: 1.177484063 added, 1 markets in cache\n",
      "INFO:betfairlightweight.streaming.stream:[MarketStream: 0]: 1.177484063 added, 1 markets in cache\n",
      "INFO:betfairlightweight.streaming.stream:[MarketStream: 0]: 1.177484063 added, 1 markets in cache\n",
      "INFO:betfairlightweight.streaming.stream:[MarketStream: 0]: 1.177484063 added, 1 markets in cache\n"
     ]
    },
    {
     "name": "stdout",
     "output_type": "stream",
     "text": [
      "didnt find postplay results?\n"
     ]
    },
    {
     "name": "stderr",
     "output_type": "stream",
     "text": [
      "INFO:betfairlightweight.streaming.listener:[Register: 0]: marketSubscription\n",
      "WARNING:betfairlightweight.streaming.listener:[Listener: 0]: stream already registered, replacing data\n",
      "INFO:betfairlightweight.streaming.stream:[MarketStream: 0]: \"MarketStream\" created\n",
      "INFO:betfairlightweight.streaming.stream:[MarketStream: 0]: 1.177515550 added, 1 markets in cache\n",
      "INFO:betfairlightweight.streaming.listener:[Register: 0]: marketSubscription\n",
      "WARNING:betfairlightweight.streaming.listener:[Listener: 0]: stream already registered, replacing data\n",
      "INFO:betfairlightweight.streaming.stream:[MarketStream: 0]: \"MarketStream\" created\n",
      "INFO:betfairlightweight.streaming.stream:[MarketStream: 0]: 1.177484036 added, 1 markets in cache\n",
      "INFO:betfairlightweight.streaming.stream:[MarketStream: 0]: 1.177484036 added, 1 markets in cache\n",
      "INFO:betfairlightweight.streaming.stream:[MarketStream: 0]: 1.177484036 added, 1 markets in cache\n",
      "INFO:betfairlightweight.streaming.stream:[MarketStream: 0]: 1.177484036 added, 1 markets in cache\n",
      "INFO:betfairlightweight.streaming.stream:[MarketStream: 0]: 1.177484036 added, 1 markets in cache\n",
      "INFO:betfairlightweight.streaming.stream:[MarketStream: 0]: 1.177484036 added, 1 markets in cache\n",
      "INFO:betfairlightweight.streaming.stream:[MarketStream: 0]: 1.177484036 added, 1 markets in cache\n",
      "INFO:betfairlightweight.streaming.stream:[MarketStream: 0]: 1.177484036 added, 1 markets in cache\n",
      "INFO:betfairlightweight.streaming.stream:[MarketStream: 0]: 1.177484036 added, 1 markets in cache\n",
      "INFO:betfairlightweight.streaming.stream:[MarketStream: 0]: 1.177484036 added, 1 markets in cache\n",
      "INFO:betfairlightweight.streaming.stream:[MarketStream: 0]: 1.177484036 added, 1 markets in cache\n",
      "INFO:betfairlightweight.streaming.stream:[MarketStream: 0]: 1.177484036 added, 1 markets in cache\n"
     ]
    },
    {
     "name": "stdout",
     "output_type": "stream",
     "text": [
      "didnt find postplay results?\n",
      "didnt find postplay results?\n"
     ]
    },
    {
     "name": "stderr",
     "output_type": "stream",
     "text": [
      "INFO:betfairlightweight.streaming.listener:[Register: 0]: marketSubscription\n",
      "WARNING:betfairlightweight.streaming.listener:[Listener: 0]: stream already registered, replacing data\n",
      "INFO:betfairlightweight.streaming.stream:[MarketStream: 0]: \"MarketStream\" created\n",
      "INFO:betfairlightweight.streaming.stream:[MarketStream: 0]: 1.177484038 added, 1 markets in cache\n"
     ]
    },
    {
     "name": "stdout",
     "output_type": "stream",
     "text": [
      "didnt find postplay results?\n"
     ]
    },
    {
     "name": "stderr",
     "output_type": "stream",
     "text": [
      "INFO:betfairlightweight.streaming.listener:[Register: 0]: marketSubscription\n",
      "WARNING:betfairlightweight.streaming.listener:[Listener: 0]: stream already registered, replacing data\n",
      "INFO:betfairlightweight.streaming.stream:[MarketStream: 0]: \"MarketStream\" created\n",
      "INFO:betfairlightweight.streaming.stream:[MarketStream: 0]: 1.177484066 added, 1 markets in cache\n",
      "INFO:betfairlightweight.streaming.stream:[MarketStream: 0]: 1.177484066 added, 1 markets in cache\n",
      "INFO:betfairlightweight.streaming.stream:[MarketStream: 0]: 1.177484066 added, 1 markets in cache\n",
      "INFO:betfairlightweight.streaming.stream:[MarketStream: 0]: 1.177484066 added, 1 markets in cache\n",
      "INFO:betfairlightweight.streaming.stream:[MarketStream: 0]: 1.177484066 added, 1 markets in cache\n",
      "INFO:betfairlightweight.streaming.stream:[MarketStream: 0]: 1.177484066 added, 1 markets in cache\n",
      "INFO:betfairlightweight.streaming.stream:[MarketStream: 0]: 1.177484066 added, 1 markets in cache\n",
      "INFO:betfairlightweight.streaming.stream:[MarketStream: 0]: 1.177484066 added, 1 markets in cache\n",
      "INFO:betfairlightweight.streaming.stream:[MarketStream: 0]: 1.177484066 added, 1 markets in cache\n"
     ]
    },
    {
     "name": "stdout",
     "output_type": "stream",
     "text": [
      "didnt find postplay results?\n"
     ]
    },
    {
     "name": "stderr",
     "output_type": "stream",
     "text": [
      "INFO:betfairlightweight.streaming.listener:[Register: 0]: marketSubscription\n",
      "WARNING:betfairlightweight.streaming.listener:[Listener: 0]: stream already registered, replacing data\n",
      "INFO:betfairlightweight.streaming.stream:[MarketStream: 0]: \"MarketStream\" created\n",
      "INFO:betfairlightweight.streaming.stream:[MarketStream: 0]: 1.177515551 added, 1 markets in cache\n",
      "INFO:betfairlightweight.streaming.listener:[Register: 0]: marketSubscription\n",
      "WARNING:betfairlightweight.streaming.listener:[Listener: 0]: stream already registered, replacing data\n",
      "INFO:betfairlightweight.streaming.stream:[MarketStream: 0]: \"MarketStream\" created\n",
      "INFO:betfairlightweight.streaming.stream:[MarketStream: 0]: 1.177484067 added, 1 markets in cache\n"
     ]
    },
    {
     "name": "stdout",
     "output_type": "stream",
     "text": [
      "didnt find postplay results?\n",
      "didnt find postplay results?\n"
     ]
    },
    {
     "name": "stderr",
     "output_type": "stream",
     "text": [
      "INFO:betfairlightweight.streaming.listener:[Register: 0]: marketSubscription\n",
      "WARNING:betfairlightweight.streaming.listener:[Listener: 0]: stream already registered, replacing data\n",
      "INFO:betfairlightweight.streaming.stream:[MarketStream: 0]: \"MarketStream\" created\n",
      "INFO:betfairlightweight.streaming.stream:[MarketStream: 0]: 1.177484039 added, 1 markets in cache\n",
      "INFO:betfairlightweight.streaming.stream:[MarketStream: 0]: 1.177484039 added, 1 markets in cache\n",
      "INFO:betfairlightweight.streaming.stream:[MarketStream: 0]: 1.177484039 added, 1 markets in cache\n",
      "INFO:betfairlightweight.streaming.stream:[MarketStream: 0]: 1.177484039 added, 1 markets in cache\n",
      "INFO:betfairlightweight.streaming.stream:[MarketStream: 0]: 1.177484039 added, 1 markets in cache\n",
      "INFO:betfairlightweight.streaming.stream:[MarketStream: 0]: 1.177484039 added, 1 markets in cache\n",
      "INFO:betfairlightweight.streaming.stream:[MarketStream: 0]: 1.177484039 added, 1 markets in cache\n",
      "INFO:betfairlightweight.streaming.stream:[MarketStream: 0]: 1.177484039 added, 1 markets in cache\n",
      "INFO:betfairlightweight.streaming.stream:[MarketStream: 0]: 1.177484039 added, 1 markets in cache\n",
      "INFO:betfairlightweight.streaming.stream:[MarketStream: 0]: 1.177484039 added, 1 markets in cache\n",
      "INFO:betfairlightweight.streaming.stream:[MarketStream: 0]: 1.177484039 added, 1 markets in cache\n"
     ]
    },
    {
     "name": "stdout",
     "output_type": "stream",
     "text": [
      "didnt find postplay results?\n"
     ]
    },
    {
     "name": "stderr",
     "output_type": "stream",
     "text": [
      "INFO:betfairlightweight.streaming.listener:[Register: 0]: marketSubscription\n",
      "WARNING:betfairlightweight.streaming.listener:[Listener: 0]: stream already registered, replacing data\n",
      "INFO:betfairlightweight.streaming.stream:[MarketStream: 0]: \"MarketStream\" created\n",
      "INFO:betfairlightweight.streaming.stream:[MarketStream: 0]: 1.177515543 added, 1 markets in cache\n",
      "INFO:betfairlightweight.streaming.listener:[Register: 0]: marketSubscription\n",
      "WARNING:betfairlightweight.streaming.listener:[Listener: 0]: stream already registered, replacing data\n",
      "INFO:betfairlightweight.streaming.stream:[MarketStream: 0]: \"MarketStream\" created\n",
      "INFO:betfairlightweight.streaming.stream:[MarketStream: 0]: 1.177484041 added, 1 markets in cache\n"
     ]
    },
    {
     "name": "stdout",
     "output_type": "stream",
     "text": [
      "didnt find postplay results?\n",
      "didnt find postplay results?\n"
     ]
    },
    {
     "name": "stderr",
     "output_type": "stream",
     "text": [
      "INFO:betfairlightweight.streaming.listener:[Register: 0]: marketSubscription\n",
      "WARNING:betfairlightweight.streaming.listener:[Listener: 0]: stream already registered, replacing data\n",
      "INFO:betfairlightweight.streaming.stream:[MarketStream: 0]: \"MarketStream\" created\n",
      "INFO:betfairlightweight.streaming.stream:[MarketStream: 0]: 1.177484069 added, 1 markets in cache\n",
      "INFO:betfairlightweight.streaming.stream:[MarketStream: 0]: 1.177484069 added, 1 markets in cache\n",
      "INFO:betfairlightweight.streaming.stream:[MarketStream: 0]: 1.177484069 added, 1 markets in cache\n",
      "INFO:betfairlightweight.streaming.stream:[MarketStream: 0]: 1.177484069 added, 1 markets in cache\n",
      "INFO:betfairlightweight.streaming.stream:[MarketStream: 0]: 1.177484069 added, 1 markets in cache\n",
      "INFO:betfairlightweight.streaming.stream:[MarketStream: 0]: 1.177484069 added, 1 markets in cache\n",
      "INFO:betfairlightweight.streaming.stream:[MarketStream: 0]: 1.177484069 added, 1 markets in cache\n",
      "INFO:betfairlightweight.streaming.stream:[MarketStream: 0]: 1.177484069 added, 1 markets in cache\n",
      "INFO:betfairlightweight.streaming.stream:[MarketStream: 0]: 1.177484069 added, 1 markets in cache\n"
     ]
    },
    {
     "name": "stdout",
     "output_type": "stream",
     "text": [
      "didnt find postplay results?\n"
     ]
    },
    {
     "name": "stderr",
     "output_type": "stream",
     "text": [
      "INFO:betfairlightweight.streaming.listener:[Register: 0]: marketSubscription\n",
      "WARNING:betfairlightweight.streaming.listener:[Listener: 0]: stream already registered, replacing data\n",
      "INFO:betfairlightweight.streaming.stream:[MarketStream: 0]: \"MarketStream\" created\n",
      "INFO:betfairlightweight.streaming.stream:[MarketStream: 0]: 1.177484070 added, 1 markets in cache\n"
     ]
    },
    {
     "name": "stdout",
     "output_type": "stream",
     "text": [
      "didnt find postplay results?\n"
     ]
    },
    {
     "name": "stderr",
     "output_type": "stream",
     "text": [
      "INFO:betfairlightweight.streaming.listener:[Register: 0]: marketSubscription\n",
      "WARNING:betfairlightweight.streaming.listener:[Listener: 0]: stream already registered, replacing data\n",
      "INFO:betfairlightweight.streaming.stream:[MarketStream: 0]: \"MarketStream\" created\n",
      "INFO:betfairlightweight.streaming.stream:[MarketStream: 0]: 1.177515552 added, 1 markets in cache\n",
      "INFO:betfairlightweight.streaming.listener:[Register: 0]: marketSubscription\n",
      "WARNING:betfairlightweight.streaming.listener:[Listener: 0]: stream already registered, replacing data\n",
      "INFO:betfairlightweight.streaming.stream:[MarketStream: 0]: \"MarketStream\" created\n",
      "INFO:betfairlightweight.streaming.stream:[MarketStream: 0]: 1.177484042 added, 1 markets in cache\n",
      "INFO:betfairlightweight.streaming.stream:[MarketStream: 0]: 1.177484042 added, 1 markets in cache\n",
      "INFO:betfairlightweight.streaming.stream:[MarketStream: 0]: 1.177484042 added, 1 markets in cache\n",
      "INFO:betfairlightweight.streaming.stream:[MarketStream: 0]: 1.177484042 added, 1 markets in cache\n",
      "INFO:betfairlightweight.streaming.stream:[MarketStream: 0]: 1.177484042 added, 1 markets in cache\n",
      "INFO:betfairlightweight.streaming.stream:[MarketStream: 0]: 1.177484042 added, 1 markets in cache\n",
      "INFO:betfairlightweight.streaming.stream:[MarketStream: 0]: 1.177484042 added, 1 markets in cache\n",
      "INFO:betfairlightweight.streaming.stream:[MarketStream: 0]: 1.177484042 added, 1 markets in cache\n",
      "INFO:betfairlightweight.streaming.stream:[MarketStream: 0]: 1.177484042 added, 1 markets in cache\n",
      "INFO:betfairlightweight.streaming.stream:[MarketStream: 0]: 1.177484042 added, 1 markets in cache\n",
      "INFO:betfairlightweight.streaming.stream:[MarketStream: 0]: 1.177484042 added, 1 markets in cache\n",
      "INFO:betfairlightweight.streaming.stream:[MarketStream: 0]: 1.177484042 added, 1 markets in cache\n",
      "INFO:betfairlightweight.streaming.stream:[MarketStream: 0]: 1.177484042 added, 1 markets in cache\n",
      "INFO:betfairlightweight.streaming.stream:[MarketStream: 0]: 1.177484042 added, 1 markets in cache\n"
     ]
    },
    {
     "name": "stdout",
     "output_type": "stream",
     "text": [
      "didnt find postplay results?\n",
      "didnt find postplay results?\n"
     ]
    },
    {
     "name": "stderr",
     "output_type": "stream",
     "text": [
      "INFO:betfairlightweight.streaming.listener:[Register: 0]: marketSubscription\n",
      "WARNING:betfairlightweight.streaming.listener:[Listener: 0]: stream already registered, replacing data\n",
      "INFO:betfairlightweight.streaming.stream:[MarketStream: 0]: \"MarketStream\" created\n",
      "INFO:betfairlightweight.streaming.stream:[MarketStream: 0]: 1.177484044 added, 1 markets in cache\n"
     ]
    },
    {
     "name": "stdout",
     "output_type": "stream",
     "text": [
      "didnt find postplay results?\n"
     ]
    },
    {
     "name": "stderr",
     "output_type": "stream",
     "text": [
      "INFO:betfairlightweight.streaming.listener:[Register: 0]: marketSubscription\n",
      "WARNING:betfairlightweight.streaming.listener:[Listener: 0]: stream already registered, replacing data\n",
      "INFO:betfairlightweight.streaming.stream:[MarketStream: 0]: \"MarketStream\" created\n",
      "INFO:betfairlightweight.streaming.stream:[MarketStream: 0]: 1.177515544 added, 1 markets in cache\n",
      "INFO:betfairlightweight.streaming.listener:[Register: 0]: marketSubscription\n",
      "WARNING:betfairlightweight.streaming.listener:[Listener: 0]: stream already registered, replacing data\n",
      "INFO:betfairlightweight.streaming.stream:[MarketStream: 0]: \"MarketStream\" created\n",
      "INFO:betfairlightweight.streaming.stream:[MarketStream: 0]: 1.177484072 added, 1 markets in cache\n",
      "INFO:betfairlightweight.streaming.stream:[MarketStream: 0]: 1.177484072 added, 1 markets in cache\n",
      "INFO:betfairlightweight.streaming.stream:[MarketStream: 0]: 1.177484072 added, 1 markets in cache\n",
      "INFO:betfairlightweight.streaming.stream:[MarketStream: 0]: 1.177484072 added, 1 markets in cache\n",
      "INFO:betfairlightweight.streaming.stream:[MarketStream: 0]: 1.177484072 added, 1 markets in cache\n",
      "INFO:betfairlightweight.streaming.stream:[MarketStream: 0]: 1.177484072 added, 1 markets in cache\n",
      "INFO:betfairlightweight.streaming.stream:[MarketStream: 0]: 1.177484072 added, 1 markets in cache\n",
      "INFO:betfairlightweight.streaming.stream:[MarketStream: 0]: 1.177484072 added, 1 markets in cache\n",
      "INFO:betfairlightweight.streaming.stream:[MarketStream: 0]: 1.177484072 added, 1 markets in cache\n",
      "INFO:betfairlightweight.streaming.stream:[MarketStream: 0]: 1.177484072 added, 1 markets in cache\n",
      "INFO:betfairlightweight.streaming.stream:[MarketStream: 0]: 1.177484072 added, 1 markets in cache\n"
     ]
    },
    {
     "name": "stdout",
     "output_type": "stream",
     "text": [
      "didnt find postplay results?\n",
      "didnt find postplay results?\n"
     ]
    },
    {
     "name": "stderr",
     "output_type": "stream",
     "text": [
      "INFO:betfairlightweight.streaming.listener:[Register: 0]: marketSubscription\n",
      "WARNING:betfairlightweight.streaming.listener:[Listener: 0]: stream already registered, replacing data\n",
      "INFO:betfairlightweight.streaming.stream:[MarketStream: 0]: \"MarketStream\" created\n",
      "INFO:betfairlightweight.streaming.stream:[MarketStream: 0]: 1.177484073 added, 1 markets in cache\n"
     ]
    },
    {
     "name": "stdout",
     "output_type": "stream",
     "text": [
      "didnt find postplay results?\n"
     ]
    },
    {
     "name": "stderr",
     "output_type": "stream",
     "text": [
      "INFO:betfairlightweight.streaming.listener:[Register: 0]: marketSubscription\n",
      "WARNING:betfairlightweight.streaming.listener:[Listener: 0]: stream already registered, replacing data\n",
      "INFO:betfairlightweight.streaming.stream:[MarketStream: 0]: \"MarketStream\" created\n",
      "INFO:betfairlightweight.streaming.stream:[MarketStream: 0]: 1.177515553 added, 1 markets in cache\n",
      "INFO:betfairlightweight.streaming.listener:[Register: 0]: marketSubscription\n",
      "WARNING:betfairlightweight.streaming.listener:[Listener: 0]: stream already registered, replacing data\n",
      "INFO:betfairlightweight.streaming.stream:[MarketStream: 0]: \"MarketStream\" created\n",
      "INFO:betfairlightweight.streaming.stream:[MarketStream: 0]: 1.177484047 added, 1 markets in cache\n"
     ]
    },
    {
     "name": "stdout",
     "output_type": "stream",
     "text": [
      "didnt find postplay results?\n",
      "didnt find postplay results?\n"
     ]
    },
    {
     "name": "stderr",
     "output_type": "stream",
     "text": [
      "INFO:betfairlightweight.streaming.listener:[Register: 0]: marketSubscription\n",
      "WARNING:betfairlightweight.streaming.listener:[Listener: 0]: stream already registered, replacing data\n",
      "INFO:betfairlightweight.streaming.stream:[MarketStream: 0]: \"MarketStream\" created\n",
      "INFO:betfairlightweight.streaming.stream:[MarketStream: 0]: 1.177484045 added, 1 markets in cache\n",
      "INFO:betfairlightweight.streaming.stream:[MarketStream: 0]: 1.177484045 added, 1 markets in cache\n",
      "INFO:betfairlightweight.streaming.stream:[MarketStream: 0]: 1.177484045 added, 1 markets in cache\n",
      "INFO:betfairlightweight.streaming.stream:[MarketStream: 0]: 1.177484045 added, 1 markets in cache\n",
      "INFO:betfairlightweight.streaming.stream:[MarketStream: 0]: 1.177484045 added, 1 markets in cache\n",
      "INFO:betfairlightweight.streaming.stream:[MarketStream: 0]: 1.177484045 added, 1 markets in cache\n",
      "INFO:betfairlightweight.streaming.stream:[MarketStream: 0]: 1.177484045 added, 1 markets in cache\n",
      "INFO:betfairlightweight.streaming.stream:[MarketStream: 0]: 1.177484045 added, 1 markets in cache\n",
      "INFO:betfairlightweight.streaming.stream:[MarketStream: 0]: 1.177484045 added, 1 markets in cache\n",
      "INFO:betfairlightweight.streaming.stream:[MarketStream: 0]: 1.177484045 added, 1 markets in cache\n",
      "INFO:betfairlightweight.streaming.stream:[MarketStream: 0]: 1.177484045 added, 1 markets in cache\n",
      "INFO:betfairlightweight.streaming.stream:[MarketStream: 0]: 1.177484045 added, 1 markets in cache\n"
     ]
    },
    {
     "name": "stdout",
     "output_type": "stream",
     "text": [
      "didnt find postplay results?\n"
     ]
    },
    {
     "name": "stderr",
     "output_type": "stream",
     "text": [
      "INFO:betfairlightweight.streaming.listener:[Register: 0]: marketSubscription\n",
      "WARNING:betfairlightweight.streaming.listener:[Listener: 0]: stream already registered, replacing data\n",
      "INFO:betfairlightweight.streaming.stream:[MarketStream: 0]: \"MarketStream\" created\n",
      "INFO:betfairlightweight.streaming.stream:[MarketStream: 0]: 1.177515545 added, 1 markets in cache\n",
      "INFO:betfairlightweight.streaming.listener:[Register: 0]: marketSubscription\n",
      "WARNING:betfairlightweight.streaming.listener:[Listener: 0]: stream already registered, replacing data\n",
      "INFO:betfairlightweight.streaming.stream:[MarketStream: 0]: \"MarketStream\" created\n",
      "INFO:betfairlightweight.streaming.stream:[MarketStream: 0]: 1.177484076 added, 1 markets in cache\n"
     ]
    },
    {
     "name": "stdout",
     "output_type": "stream",
     "text": [
      "didnt find postplay results?\n",
      "didnt find postplay results?\n"
     ]
    },
    {
     "name": "stderr",
     "output_type": "stream",
     "text": [
      "INFO:betfairlightweight.streaming.listener:[Register: 0]: marketSubscription\n",
      "WARNING:betfairlightweight.streaming.listener:[Listener: 0]: stream already registered, replacing data\n",
      "INFO:betfairlightweight.streaming.stream:[MarketStream: 0]: \"MarketStream\" created\n",
      "INFO:betfairlightweight.streaming.stream:[MarketStream: 0]: 1.177515554 added, 1 markets in cache\n",
      "INFO:betfairlightweight.streaming.listener:[Register: 0]: marketSubscription\n",
      "WARNING:betfairlightweight.streaming.listener:[Listener: 0]: stream already registered, replacing data\n",
      "INFO:betfairlightweight.streaming.stream:[MarketStream: 0]: \"MarketStream\" created\n",
      "INFO:betfairlightweight.streaming.stream:[MarketStream: 0]: 1.177484075 added, 1 markets in cache\n",
      "INFO:betfairlightweight.streaming.stream:[MarketStream: 0]: 1.177484075 added, 1 markets in cache\n",
      "INFO:betfairlightweight.streaming.stream:[MarketStream: 0]: 1.177484075 added, 1 markets in cache\n",
      "INFO:betfairlightweight.streaming.stream:[MarketStream: 0]: 1.177484075 added, 1 markets in cache\n",
      "INFO:betfairlightweight.streaming.stream:[MarketStream: 0]: 1.177484075 added, 1 markets in cache\n",
      "INFO:betfairlightweight.streaming.stream:[MarketStream: 0]: 1.177484075 added, 1 markets in cache\n",
      "INFO:betfairlightweight.streaming.stream:[MarketStream: 0]: 1.177484075 added, 1 markets in cache\n",
      "INFO:betfairlightweight.streaming.stream:[MarketStream: 0]: 1.177484075 added, 1 markets in cache\n",
      "INFO:betfairlightweight.streaming.stream:[MarketStream: 0]: 1.177484075 added, 1 markets in cache\n",
      "INFO:betfairlightweight.streaming.stream:[MarketStream: 0]: 1.177484075 added, 1 markets in cache\n"
     ]
    },
    {
     "name": "stdout",
     "output_type": "stream",
     "text": [
      "didnt find postplay results?\n",
      "didnt find postplay results?\n"
     ]
    },
    {
     "name": "stderr",
     "output_type": "stream",
     "text": [
      "INFO:betfairlightweight.streaming.listener:[Register: 0]: marketSubscription\n",
      "WARNING:betfairlightweight.streaming.listener:[Listener: 0]: stream already registered, replacing data\n",
      "INFO:betfairlightweight.streaming.stream:[MarketStream: 0]: \"MarketStream\" created\n",
      "INFO:betfairlightweight.streaming.stream:[MarketStream: 0]: 1.177484048 added, 1 markets in cache\n",
      "INFO:betfairlightweight.streaming.stream:[MarketStream: 0]: 1.177484048 added, 1 markets in cache\n",
      "INFO:betfairlightweight.streaming.stream:[MarketStream: 0]: 1.177484048 added, 1 markets in cache\n",
      "INFO:betfairlightweight.streaming.stream:[MarketStream: 0]: 1.177484048 added, 1 markets in cache\n",
      "INFO:betfairlightweight.streaming.stream:[MarketStream: 0]: 1.177484048 added, 1 markets in cache\n",
      "INFO:betfairlightweight.streaming.stream:[MarketStream: 0]: 1.177484048 added, 1 markets in cache\n",
      "INFO:betfairlightweight.streaming.stream:[MarketStream: 0]: 1.177484048 added, 1 markets in cache\n",
      "INFO:betfairlightweight.streaming.stream:[MarketStream: 0]: 1.177484048 added, 1 markets in cache\n",
      "INFO:betfairlightweight.streaming.stream:[MarketStream: 0]: 1.177484048 added, 1 markets in cache\n",
      "INFO:betfairlightweight.streaming.stream:[MarketStream: 0]: 1.177484048 added, 1 markets in cache\n",
      "INFO:betfairlightweight.streaming.stream:[MarketStream: 0]: 1.177484048 added, 1 markets in cache\n"
     ]
    },
    {
     "name": "stdout",
     "output_type": "stream",
     "text": [
      "didnt find postplay results?\n"
     ]
    },
    {
     "name": "stderr",
     "output_type": "stream",
     "text": [
      "INFO:betfairlightweight.streaming.listener:[Register: 0]: marketSubscription\n",
      "WARNING:betfairlightweight.streaming.listener:[Listener: 0]: stream already registered, replacing data\n",
      "INFO:betfairlightweight.streaming.stream:[MarketStream: 0]: \"MarketStream\" created\n",
      "INFO:betfairlightweight.streaming.stream:[MarketStream: 0]: 1.177484050 added, 1 markets in cache\n"
     ]
    },
    {
     "name": "stdout",
     "output_type": "stream",
     "text": [
      "didnt find postplay results?\n"
     ]
    },
    {
     "name": "stderr",
     "output_type": "stream",
     "text": [
      "INFO:betfairlightweight.streaming.listener:[Register: 0]: marketSubscription\n",
      "WARNING:betfairlightweight.streaming.listener:[Listener: 0]: stream already registered, replacing data\n",
      "INFO:betfairlightweight.streaming.stream:[MarketStream: 0]: \"MarketStream\" created\n",
      "INFO:betfairlightweight.streaming.stream:[MarketStream: 0]: 1.177515546 added, 1 markets in cache\n",
      "INFO:betfairlightweight.streaming.listener:[Register: 0]: marketSubscription\n",
      "WARNING:betfairlightweight.streaming.listener:[Listener: 0]: stream already registered, replacing data\n",
      "INFO:betfairlightweight.streaming.stream:[MarketStream: 0]: \"MarketStream\" created\n",
      "INFO:betfairlightweight.streaming.stream:[MarketStream: 0]: 1.177484078 added, 1 markets in cache\n",
      "INFO:betfairlightweight.streaming.stream:[MarketStream: 0]: 1.177484078 added, 1 markets in cache\n",
      "INFO:betfairlightweight.streaming.stream:[MarketStream: 0]: 1.177484078 added, 1 markets in cache\n",
      "INFO:betfairlightweight.streaming.stream:[MarketStream: 0]: 1.177484078 added, 1 markets in cache\n",
      "INFO:betfairlightweight.streaming.stream:[MarketStream: 0]: 1.177484078 added, 1 markets in cache\n",
      "INFO:betfairlightweight.streaming.stream:[MarketStream: 0]: 1.177484078 added, 1 markets in cache\n",
      "INFO:betfairlightweight.streaming.stream:[MarketStream: 0]: 1.177484078 added, 1 markets in cache\n",
      "INFO:betfairlightweight.streaming.stream:[MarketStream: 0]: 1.177484078 added, 1 markets in cache\n"
     ]
    },
    {
     "name": "stdout",
     "output_type": "stream",
     "text": [
      "didnt find postplay results?\n",
      "didnt find postplay results?\n"
     ]
    },
    {
     "name": "stderr",
     "output_type": "stream",
     "text": [
      "INFO:betfairlightweight.streaming.listener:[Register: 0]: marketSubscription\n",
      "WARNING:betfairlightweight.streaming.listener:[Listener: 0]: stream already registered, replacing data\n",
      "INFO:betfairlightweight.streaming.stream:[MarketStream: 0]: \"MarketStream\" created\n",
      "INFO:betfairlightweight.streaming.stream:[MarketStream: 0]: 1.177515555 added, 1 markets in cache\n",
      "INFO:betfairlightweight.streaming.listener:[Register: 0]: marketSubscription\n",
      "WARNING:betfairlightweight.streaming.listener:[Listener: 0]: stream already registered, replacing data\n",
      "INFO:betfairlightweight.streaming.stream:[MarketStream: 0]: \"MarketStream\" created\n",
      "INFO:betfairlightweight.streaming.stream:[MarketStream: 0]: 1.177484079 added, 1 markets in cache\n",
      "INFO:betfairlightweight.streaming.stream:[MarketStream: 0]: 1.177484079 added, 1 markets in cache\n"
     ]
    },
    {
     "name": "stdout",
     "output_type": "stream",
     "text": [
      "didnt find postplay results?\n",
      "didnt find postplay results?\n"
     ]
    },
    {
     "name": "stderr",
     "output_type": "stream",
     "text": [
      "INFO:betfairlightweight.streaming.listener:[Register: 0]: marketSubscription\n",
      "WARNING:betfairlightweight.streaming.listener:[Listener: 0]: stream already registered, replacing data\n",
      "INFO:betfairlightweight.streaming.stream:[MarketStream: 0]: \"MarketStream\" created\n",
      "INFO:betfairlightweight.streaming.stream:[MarketStream: 0]: 1.177484053 added, 1 markets in cache\n"
     ]
    },
    {
     "name": "stdout",
     "output_type": "stream",
     "text": [
      "didnt find postplay results?\n"
     ]
    },
    {
     "name": "stderr",
     "output_type": "stream",
     "text": [
      "INFO:betfairlightweight.streaming.listener:[Register: 0]: marketSubscription\n",
      "WARNING:betfairlightweight.streaming.listener:[Listener: 0]: stream already registered, replacing data\n",
      "INFO:betfairlightweight.streaming.stream:[MarketStream: 0]: \"MarketStream\" created\n",
      "INFO:betfairlightweight.streaming.stream:[MarketStream: 0]: 1.177484051 added, 1 markets in cache\n",
      "INFO:betfairlightweight.streaming.stream:[MarketStream: 0]: 1.177484051 added, 1 markets in cache\n",
      "INFO:betfairlightweight.streaming.stream:[MarketStream: 0]: 1.177484051 added, 1 markets in cache\n",
      "INFO:betfairlightweight.streaming.stream:[MarketStream: 0]: 1.177484051 added, 1 markets in cache\n",
      "INFO:betfairlightweight.streaming.stream:[MarketStream: 0]: 1.177484051 added, 1 markets in cache\n",
      "INFO:betfairlightweight.streaming.stream:[MarketStream: 0]: 1.177484051 added, 1 markets in cache\n",
      "INFO:betfairlightweight.streaming.stream:[MarketStream: 0]: 1.177484051 added, 1 markets in cache\n",
      "INFO:betfairlightweight.streaming.stream:[MarketStream: 0]: 1.177484051 added, 1 markets in cache\n",
      "INFO:betfairlightweight.streaming.stream:[MarketStream: 0]: 1.177484051 added, 1 markets in cache\n"
     ]
    },
    {
     "name": "stdout",
     "output_type": "stream",
     "text": [
      "didnt find postplay results?\n"
     ]
    },
    {
     "name": "stderr",
     "output_type": "stream",
     "text": [
      "INFO:betfairlightweight.streaming.listener:[Register: 0]: marketSubscription\n",
      "WARNING:betfairlightweight.streaming.listener:[Listener: 0]: stream already registered, replacing data\n",
      "INFO:betfairlightweight.streaming.stream:[MarketStream: 0]: \"MarketStream\" created\n",
      "INFO:betfairlightweight.streaming.stream:[MarketStream: 0]: 1.177515547 added, 1 markets in cache\n",
      "INFO:betfairlightweight.streaming.listener:[Register: 0]: marketSubscription\n",
      "WARNING:betfairlightweight.streaming.listener:[Listener: 0]: stream already registered, replacing data\n",
      "INFO:betfairlightweight.streaming.stream:[MarketStream: 0]: \"MarketStream\" created\n",
      "INFO:betfairlightweight.streaming.stream:[MarketStream: 0]: 1.177480835 added, 1 markets in cache\n",
      "INFO:betfairlightweight.streaming.stream:[MarketStream: 0]: 1.177480835 added, 1 markets in cache\n",
      "INFO:betfairlightweight.streaming.stream:[MarketStream: 0]: 1.177480835 added, 1 markets in cache\n",
      "INFO:betfairlightweight.streaming.stream:[MarketStream: 0]: 1.177480835 added, 1 markets in cache\n",
      "INFO:betfairlightweight.streaming.stream:[MarketStream: 0]: 1.177480835 added, 1 markets in cache\n",
      "INFO:betfairlightweight.streaming.stream:[MarketStream: 0]: 1.177480835 added, 1 markets in cache\n",
      "INFO:betfairlightweight.streaming.listener:[Register: 0]: marketSubscription\n",
      "WARNING:betfairlightweight.streaming.listener:[Listener: 0]: stream already registered, replacing data\n",
      "INFO:betfairlightweight.streaming.stream:[MarketStream: 0]: \"MarketStream\" created\n",
      "INFO:betfairlightweight.streaming.stream:[MarketStream: 0]: 1.177480833 added, 1 markets in cache\n",
      "INFO:betfairlightweight.streaming.stream:[MarketStream: 0]: 1.177480833 added, 1 markets in cache\n",
      "INFO:betfairlightweight.streaming.stream:[MarketStream: 0]: 1.177480833 added, 1 markets in cache\n",
      "INFO:betfairlightweight.streaming.stream:[MarketStream: 0]: 1.177480833 added, 1 markets in cache\n",
      "INFO:betfairlightweight.streaming.stream:[MarketStream: 0]: 1.177480833 added, 1 markets in cache\n",
      "INFO:betfairlightweight.streaming.stream:[MarketStream: 0]: 1.177480833 added, 1 markets in cache\n",
      "INFO:betfairlightweight.streaming.listener:[Register: 0]: marketSubscription\n",
      "WARNING:betfairlightweight.streaming.listener:[Listener: 0]: stream already registered, replacing data\n",
      "INFO:betfairlightweight.streaming.stream:[MarketStream: 0]: \"MarketStream\" created\n",
      "INFO:betfairlightweight.streaming.stream:[MarketStream: 0]: 1.177480841 added, 1 markets in cache\n",
      "INFO:betfairlightweight.streaming.stream:[MarketStream: 0]: 1.177480841 added, 1 markets in cache\n",
      "INFO:betfairlightweight.streaming.stream:[MarketStream: 0]: 1.177480841 added, 1 markets in cache\n",
      "INFO:betfairlightweight.streaming.stream:[MarketStream: 0]: 1.177480841 added, 1 markets in cache\n",
      "INFO:betfairlightweight.streaming.stream:[MarketStream: 0]: 1.177480841 added, 1 markets in cache\n",
      "INFO:betfairlightweight.streaming.stream:[MarketStream: 0]: 1.177480841 added, 1 markets in cache\n",
      "INFO:betfairlightweight.streaming.listener:[Register: 0]: marketSubscription\n",
      "WARNING:betfairlightweight.streaming.listener:[Listener: 0]: stream already registered, replacing data\n",
      "INFO:betfairlightweight.streaming.stream:[MarketStream: 0]: \"MarketStream\" created\n",
      "INFO:betfairlightweight.streaming.stream:[MarketStream: 0]: 1.177480837 added, 1 markets in cache\n",
      "INFO:betfairlightweight.streaming.stream:[MarketStream: 0]: 1.177480837 added, 1 markets in cache\n",
      "INFO:betfairlightweight.streaming.stream:[MarketStream: 0]: 1.177480837 added, 1 markets in cache\n",
      "INFO:betfairlightweight.streaming.stream:[MarketStream: 0]: 1.177480837 added, 1 markets in cache\n",
      "INFO:betfairlightweight.streaming.stream:[MarketStream: 0]: 1.177480837 added, 1 markets in cache\n",
      "INFO:betfairlightweight.streaming.stream:[MarketStream: 0]: 1.177480837 added, 1 markets in cache\n",
      "INFO:betfairlightweight.streaming.listener:[Register: 0]: marketSubscription\n",
      "WARNING:betfairlightweight.streaming.listener:[Listener: 0]: stream already registered, replacing data\n",
      "INFO:betfairlightweight.streaming.stream:[MarketStream: 0]: \"MarketStream\" created\n",
      "INFO:betfairlightweight.streaming.stream:[MarketStream: 0]: 1.177480838 added, 1 markets in cache\n",
      "INFO:betfairlightweight.streaming.stream:[MarketStream: 0]: 1.177480838 added, 1 markets in cache\n",
      "INFO:betfairlightweight.streaming.stream:[MarketStream: 0]: 1.177480838 added, 1 markets in cache\n",
      "INFO:betfairlightweight.streaming.stream:[MarketStream: 0]: 1.177480838 added, 1 markets in cache\n",
      "INFO:betfairlightweight.streaming.stream:[MarketStream: 0]: 1.177480838 added, 1 markets in cache\n",
      "INFO:betfairlightweight.streaming.stream:[MarketStream: 0]: 1.177480838 added, 1 markets in cache\n",
      "INFO:betfairlightweight.streaming.listener:[Register: 0]: marketSubscription\n",
      "WARNING:betfairlightweight.streaming.listener:[Listener: 0]: stream already registered, replacing data\n",
      "INFO:betfairlightweight.streaming.stream:[MarketStream: 0]: \"MarketStream\" created\n",
      "INFO:betfairlightweight.streaming.stream:[MarketStream: 0]: 1.177480839 added, 1 markets in cache\n",
      "INFO:betfairlightweight.streaming.stream:[MarketStream: 0]: 1.177480839 added, 1 markets in cache\n",
      "INFO:betfairlightweight.streaming.stream:[MarketStream: 0]: 1.177480839 added, 1 markets in cache\n",
      "INFO:betfairlightweight.streaming.stream:[MarketStream: 0]: 1.177480839 added, 1 markets in cache\n",
      "INFO:betfairlightweight.streaming.stream:[MarketStream: 0]: 1.177480839 added, 1 markets in cache\n",
      "INFO:betfairlightweight.streaming.stream:[MarketStream: 0]: 1.177480839 added, 1 markets in cache\n",
      "INFO:betfairlightweight.streaming.listener:[Register: 0]: marketSubscription\n",
      "WARNING:betfairlightweight.streaming.listener:[Listener: 0]: stream already registered, replacing data\n",
      "INFO:betfairlightweight.streaming.stream:[MarketStream: 0]: \"MarketStream\" created\n",
      "INFO:betfairlightweight.streaming.stream:[MarketStream: 0]: 1.177480840 added, 1 markets in cache\n",
      "INFO:betfairlightweight.streaming.stream:[MarketStream: 0]: 1.177480840 added, 1 markets in cache\n",
      "INFO:betfairlightweight.streaming.stream:[MarketStream: 0]: 1.177480840 added, 1 markets in cache\n",
      "INFO:betfairlightweight.streaming.stream:[MarketStream: 0]: 1.177480840 added, 1 markets in cache\n",
      "INFO:betfairlightweight.streaming.stream:[MarketStream: 0]: 1.177480840 added, 1 markets in cache\n",
      "INFO:betfairlightweight.streaming.stream:[MarketStream: 0]: 1.177480840 added, 1 markets in cache\n",
      "INFO:betfairlightweight.streaming.listener:[Register: 0]: marketSubscription\n",
      "WARNING:betfairlightweight.streaming.listener:[Listener: 0]: stream already registered, replacing data\n",
      "INFO:betfairlightweight.streaming.stream:[MarketStream: 0]: \"MarketStream\" created\n",
      "INFO:betfairlightweight.streaming.stream:[MarketStream: 0]: 1.177480834 added, 1 markets in cache\n",
      "INFO:betfairlightweight.streaming.stream:[MarketStream: 0]: 1.177480834 added, 1 markets in cache\n",
      "INFO:betfairlightweight.streaming.stream:[MarketStream: 0]: 1.177480834 added, 1 markets in cache\n",
      "INFO:betfairlightweight.streaming.stream:[MarketStream: 0]: 1.177480834 added, 1 markets in cache\n",
      "INFO:betfairlightweight.streaming.stream:[MarketStream: 0]: 1.177480834 added, 1 markets in cache\n",
      "INFO:betfairlightweight.streaming.stream:[MarketStream: 0]: 1.177480834 added, 1 markets in cache\n",
      "INFO:betfairlightweight.streaming.listener:[Register: 0]: marketSubscription\n",
      "WARNING:betfairlightweight.streaming.listener:[Listener: 0]: stream already registered, replacing data\n",
      "INFO:betfairlightweight.streaming.stream:[MarketStream: 0]: \"MarketStream\" created\n",
      "INFO:betfairlightweight.streaming.stream:[MarketStream: 0]: 1.177480842 added, 1 markets in cache\n",
      "INFO:betfairlightweight.streaming.stream:[MarketStream: 0]: 1.177480842 added, 1 markets in cache\n",
      "INFO:betfairlightweight.streaming.stream:[MarketStream: 0]: 1.177480842 added, 1 markets in cache\n",
      "INFO:betfairlightweight.streaming.stream:[MarketStream: 0]: 1.177480842 added, 1 markets in cache\n",
      "INFO:betfairlightweight.streaming.stream:[MarketStream: 0]: 1.177480842 added, 1 markets in cache\n",
      "INFO:betfairlightweight.streaming.stream:[MarketStream: 0]: 1.177480842 added, 1 markets in cache\n",
      "INFO:betfairlightweight.streaming.listener:[Register: 0]: marketSubscription\n",
      "WARNING:betfairlightweight.streaming.listener:[Listener: 0]: stream already registered, replacing data\n"
     ]
    },
    {
     "name": "stderr",
     "output_type": "stream",
     "text": [
      "INFO:betfairlightweight.streaming.stream:[MarketStream: 0]: \"MarketStream\" created\n",
      "INFO:betfairlightweight.streaming.stream:[MarketStream: 0]: 1.177480836 added, 1 markets in cache\n",
      "INFO:betfairlightweight.streaming.stream:[MarketStream: 0]: 1.177480836 added, 1 markets in cache\n",
      "INFO:betfairlightweight.streaming.stream:[MarketStream: 0]: 1.177480836 added, 1 markets in cache\n",
      "INFO:betfairlightweight.streaming.stream:[MarketStream: 0]: 1.177480836 added, 1 markets in cache\n",
      "INFO:betfairlightweight.streaming.stream:[MarketStream: 0]: 1.177480836 added, 1 markets in cache\n"
     ]
    },
    {
     "name": "stdout",
     "output_type": "stream",
     "text": [
      "didnt find postplay results?\n",
      "didnt find postplay results?\n",
      "didnt find postplay results?\n",
      "didnt find postplay results?\n",
      "didnt find postplay results?\n",
      "didnt find postplay results?\n",
      "didnt find postplay results?\n",
      "didnt find postplay results?\n",
      "didnt find postplay results?\n",
      "didnt find postplay results?\n",
      "didnt find postplay results?\n"
     ]
    },
    {
     "name": "stderr",
     "output_type": "stream",
     "text": [
      "INFO:betfairlightweight.streaming.stream:[MarketStream: 0]: 1.177480836 added, 1 markets in cache\n",
      "INFO:betfairlightweight.streaming.listener:[Register: 0]: marketSubscription\n",
      "WARNING:betfairlightweight.streaming.listener:[Listener: 0]: stream already registered, replacing data\n",
      "INFO:betfairlightweight.streaming.stream:[MarketStream: 0]: \"MarketStream\" created\n",
      "INFO:betfairlightweight.streaming.stream:[MarketStream: 0]: 1.177484054 added, 1 markets in cache\n",
      "INFO:betfairlightweight.streaming.stream:[MarketStream: 0]: 1.177484054 added, 1 markets in cache\n",
      "INFO:betfairlightweight.streaming.stream:[MarketStream: 0]: 1.177484054 added, 1 markets in cache\n",
      "INFO:betfairlightweight.streaming.stream:[MarketStream: 0]: 1.177484054 added, 1 markets in cache\n",
      "INFO:betfairlightweight.streaming.stream:[MarketStream: 0]: 1.177484054 added, 1 markets in cache\n",
      "INFO:betfairlightweight.streaming.stream:[MarketStream: 0]: 1.177484054 added, 1 markets in cache\n",
      "INFO:betfairlightweight.streaming.stream:[MarketStream: 0]: 1.177484054 added, 1 markets in cache\n",
      "INFO:betfairlightweight.streaming.stream:[MarketStream: 0]: 1.177484054 added, 1 markets in cache\n",
      "INFO:betfairlightweight.streaming.stream:[MarketStream: 0]: 1.177484054 added, 1 markets in cache\n",
      "INFO:betfairlightweight.streaming.stream:[MarketStream: 0]: 1.177484054 added, 1 markets in cache\n",
      "INFO:betfairlightweight.streaming.stream:[MarketStream: 0]: 1.177484054 added, 1 markets in cache\n"
     ]
    },
    {
     "name": "stdout",
     "output_type": "stream",
     "text": [
      "didnt find postplay results?\n"
     ]
    },
    {
     "name": "stderr",
     "output_type": "stream",
     "text": [
      "INFO:betfairlightweight.streaming.listener:[Register: 0]: marketSubscription\n",
      "WARNING:betfairlightweight.streaming.listener:[Listener: 0]: stream already registered, replacing data\n",
      "INFO:betfairlightweight.streaming.stream:[MarketStream: 0]: \"MarketStream\" created\n",
      "INFO:betfairlightweight.streaming.stream:[MarketStream: 0]: 1.177484081 added, 1 markets in cache\n",
      "INFO:betfairlightweight.streaming.stream:[MarketStream: 0]: 1.177484081 added, 1 markets in cache\n",
      "INFO:betfairlightweight.streaming.stream:[MarketStream: 0]: 1.177484081 added, 1 markets in cache\n",
      "INFO:betfairlightweight.streaming.stream:[MarketStream: 0]: 1.177484081 added, 1 markets in cache\n",
      "INFO:betfairlightweight.streaming.stream:[MarketStream: 0]: 1.177484081 added, 1 markets in cache\n",
      "INFO:betfairlightweight.streaming.stream:[MarketStream: 0]: 1.177484081 added, 1 markets in cache\n",
      "INFO:betfairlightweight.streaming.stream:[MarketStream: 0]: 1.177484081 added, 1 markets in cache\n",
      "INFO:betfairlightweight.streaming.stream:[MarketStream: 0]: 1.177484081 added, 1 markets in cache\n",
      "INFO:betfairlightweight.streaming.stream:[MarketStream: 0]: 1.177484081 added, 1 markets in cache\n",
      "INFO:betfairlightweight.streaming.stream:[MarketStream: 0]: 1.177484081 added, 1 markets in cache\n",
      "INFO:betfairlightweight.streaming.stream:[MarketStream: 0]: 1.177484081 added, 1 markets in cache\n",
      "INFO:betfairlightweight.streaming.stream:[MarketStream: 0]: 1.177484081 added, 1 markets in cache\n"
     ]
    },
    {
     "name": "stdout",
     "output_type": "stream",
     "text": [
      "didnt find postplay results?\n"
     ]
    },
    {
     "name": "stderr",
     "output_type": "stream",
     "text": [
      "INFO:betfairlightweight.streaming.listener:[Register: 0]: marketSubscription\n",
      "WARNING:betfairlightweight.streaming.listener:[Listener: 0]: stream already registered, replacing data\n",
      "INFO:betfairlightweight.streaming.stream:[MarketStream: 0]: \"MarketStream\" created\n",
      "INFO:betfairlightweight.streaming.stream:[MarketStream: 0]: 1.177484083 added, 1 markets in cache\n",
      "INFO:betfairlightweight.streaming.stream:[MarketStream: 0]: 1.177484083 added, 1 markets in cache\n"
     ]
    },
    {
     "name": "stdout",
     "output_type": "stream",
     "text": [
      "didnt find postplay results?\n"
     ]
    },
    {
     "name": "stderr",
     "output_type": "stream",
     "text": [
      "INFO:betfairlightweight.streaming.listener:[Register: 0]: marketSubscription\n",
      "WARNING:betfairlightweight.streaming.listener:[Listener: 0]: stream already registered, replacing data\n",
      "INFO:betfairlightweight.streaming.stream:[MarketStream: 0]: \"MarketStream\" created\n",
      "INFO:betfairlightweight.streaming.stream:[MarketStream: 0]: 1.177515548 added, 1 markets in cache\n",
      "INFO:betfairlightweight.streaming.listener:[Register: 0]: marketSubscription\n",
      "WARNING:betfairlightweight.streaming.listener:[Listener: 0]: stream already registered, replacing data\n",
      "INFO:betfairlightweight.streaming.stream:[MarketStream: 0]: \"MarketStream\" created\n",
      "INFO:betfairlightweight.streaming.stream:[MarketStream: 0]: 1.177515556 added, 1 markets in cache\n",
      "INFO:betfairlightweight.streaming.listener:[Register: 0]: marketSubscription\n",
      "WARNING:betfairlightweight.streaming.listener:[Listener: 0]: stream already registered, replacing data\n",
      "INFO:betfairlightweight.streaming.stream:[MarketStream: 0]: \"MarketStream\" created\n",
      "INFO:betfairlightweight.streaming.stream:[MarketStream: 0]: 1.177484055 added, 1 markets in cache\n"
     ]
    },
    {
     "name": "stdout",
     "output_type": "stream",
     "text": [
      "didnt find postplay results?\n",
      "didnt find postplay results?\n",
      "didnt find postplay results?\n"
     ]
    },
    {
     "name": "stderr",
     "output_type": "stream",
     "text": [
      "INFO:betfairlightweight.streaming.listener:[Register: 0]: marketSubscription\n",
      "WARNING:betfairlightweight.streaming.listener:[Listener: 0]: stream already registered, replacing data\n",
      "INFO:betfairlightweight.streaming.stream:[MarketStream: 0]: \"MarketStream\" created\n",
      "INFO:betfairlightweight.streaming.stream:[MarketStream: 0]: 1.177484059 added, 1 markets in cache\n",
      "INFO:betfairlightweight.streaming.stream:[MarketStream: 0]: 1.177484059 added, 1 markets in cache\n"
     ]
    },
    {
     "name": "stdout",
     "output_type": "stream",
     "text": [
      "didnt find postplay results?\n"
     ]
    },
    {
     "name": "stderr",
     "output_type": "stream",
     "text": [
      "INFO:betfairlightweight.streaming.listener:[Register: 0]: marketSubscription\n",
      "WARNING:betfairlightweight.streaming.listener:[Listener: 0]: stream already registered, replacing data\n",
      "INFO:betfairlightweight.streaming.stream:[MarketStream: 0]: \"MarketStream\" created\n",
      "INFO:betfairlightweight.streaming.stream:[MarketStream: 0]: 1.177484057 added, 1 markets in cache\n",
      "INFO:betfairlightweight.streaming.stream:[MarketStream: 0]: 1.177484057 added, 1 markets in cache\n",
      "INFO:betfairlightweight.streaming.stream:[MarketStream: 0]: 1.177484057 added, 1 markets in cache\n",
      "INFO:betfairlightweight.streaming.stream:[MarketStream: 0]: 1.177484057 added, 1 markets in cache\n",
      "INFO:betfairlightweight.streaming.stream:[MarketStream: 0]: 1.177484057 added, 1 markets in cache\n",
      "INFO:betfairlightweight.streaming.stream:[MarketStream: 0]: 1.177484057 added, 1 markets in cache\n",
      "INFO:betfairlightweight.streaming.stream:[MarketStream: 0]: 1.177484057 added, 1 markets in cache\n",
      "INFO:betfairlightweight.streaming.stream:[MarketStream: 0]: 1.177484057 added, 1 markets in cache\n",
      "INFO:betfairlightweight.streaming.stream:[MarketStream: 0]: 1.177484057 added, 1 markets in cache\n",
      "INFO:betfairlightweight.streaming.stream:[MarketStream: 0]: 1.177484057 added, 1 markets in cache\n",
      "INFO:betfairlightweight.streaming.stream:[MarketStream: 0]: 1.177484057 added, 1 markets in cache\n"
     ]
    },
    {
     "name": "stdout",
     "output_type": "stream",
     "text": [
      "didnt find postplay results?\n"
     ]
    },
    {
     "name": "stderr",
     "output_type": "stream",
     "text": [
      "INFO:betfairlightweight.streaming.listener:[Register: 0]: marketSubscription\n",
      "WARNING:betfairlightweight.streaming.listener:[Listener: 0]: stream already registered, replacing data\n",
      "INFO:betfairlightweight.streaming.stream:[MarketStream: 0]: \"MarketStream\" created\n",
      "INFO:betfairlightweight.streaming.stream:[MarketStream: 0]: 1.178557373 added, 1 markets in cache\n",
      "INFO:betfairlightweight.streaming.stream:[MarketStream: 0]: 1.178557373 added, 1 markets in cache\n",
      "INFO:betfairlightweight.streaming.stream:[MarketStream: 0]: 1.178557373 added, 1 markets in cache\n",
      "INFO:betfairlightweight.streaming.stream:[MarketStream: 0]: 1.178557373 added, 1 markets in cache\n"
     ]
    },
    {
     "name": "stdout",
     "output_type": "stream",
     "text": [
      "didnt find postplay results?\n"
     ]
    },
    {
     "name": "stderr",
     "output_type": "stream",
     "text": [
      "INFO:betfairlightweight.streaming.listener:[Register: 0]: marketSubscription\n",
      "WARNING:betfairlightweight.streaming.listener:[Listener: 0]: stream already registered, replacing data\n",
      "INFO:betfairlightweight.streaming.stream:[MarketStream: 0]: \"MarketStream\" created\n",
      "INFO:betfairlightweight.streaming.stream:[MarketStream: 0]: 1.177484084 added, 1 markets in cache\n",
      "INFO:betfairlightweight.streaming.stream:[MarketStream: 0]: 1.177484084 added, 1 markets in cache\n",
      "INFO:betfairlightweight.streaming.stream:[MarketStream: 0]: 1.177484084 added, 1 markets in cache\n",
      "INFO:betfairlightweight.streaming.stream:[MarketStream: 0]: 1.177484084 added, 1 markets in cache\n",
      "INFO:betfairlightweight.streaming.stream:[MarketStream: 0]: 1.177484084 added, 1 markets in cache\n",
      "INFO:betfairlightweight.streaming.stream:[MarketStream: 0]: 1.177484084 added, 1 markets in cache\n",
      "INFO:betfairlightweight.streaming.stream:[MarketStream: 0]: 1.177484084 added, 1 markets in cache\n",
      "INFO:betfairlightweight.streaming.stream:[MarketStream: 0]: 1.177484084 added, 1 markets in cache\n",
      "INFO:betfairlightweight.streaming.stream:[MarketStream: 0]: 1.177484084 added, 1 markets in cache\n",
      "INFO:betfairlightweight.streaming.stream:[MarketStream: 0]: 1.177484084 added, 1 markets in cache\n"
     ]
    },
    {
     "name": "stdout",
     "output_type": "stream",
     "text": [
      "didnt find postplay results?\n"
     ]
    },
    {
     "name": "stderr",
     "output_type": "stream",
     "text": [
      "INFO:betfairlightweight.streaming.listener:[Register: 0]: marketSubscription\n",
      "WARNING:betfairlightweight.streaming.listener:[Listener: 0]: stream already registered, replacing data\n",
      "INFO:betfairlightweight.streaming.stream:[MarketStream: 0]: \"MarketStream\" created\n",
      "INFO:betfairlightweight.streaming.stream:[MarketStream: 0]: 1.178644097 added, 1 markets in cache\n",
      "INFO:betfairlightweight.streaming.listener:[Register: 0]: marketSubscription\n"
     ]
    },
    {
     "name": "stdout",
     "output_type": "stream",
     "text": [
      "didnt find postplay results?\n",
      "didnt find postplay results?\n"
     ]
    },
    {
     "name": "stderr",
     "output_type": "stream",
     "text": [
      "WARNING:betfairlightweight.streaming.listener:[Listener: 0]: stream already registered, replacing data\n",
      "INFO:betfairlightweight.streaming.stream:[MarketStream: 0]: \"MarketStream\" created\n",
      "INFO:betfairlightweight.streaming.stream:[MarketStream: 0]: 1.177484085 added, 1 markets in cache\n",
      "INFO:betfairlightweight.streaming.stream:[MarketStream: 0]: 1.177484085 added, 1 markets in cache\n",
      "INFO:betfairlightweight.streaming.listener:[Register: 0]: marketSubscription\n",
      "WARNING:betfairlightweight.streaming.listener:[Listener: 0]: stream already registered, replacing data\n",
      "INFO:betfairlightweight.streaming.stream:[MarketStream: 0]: \"MarketStream\" created\n",
      "INFO:betfairlightweight.streaming.stream:[MarketStream: 0]: 1.177515557 added, 1 markets in cache\n",
      "INFO:betfairlightweight.streaming.listener:[Register: 0]: marketSubscription\n",
      "WARNING:betfairlightweight.streaming.listener:[Listener: 0]: stream already registered, replacing data\n",
      "INFO:betfairlightweight.streaming.stream:[MarketStream: 0]: \"MarketStream\" created\n",
      "INFO:betfairlightweight.streaming.stream:[MarketStream: 0]: 1.177484087 added, 1 markets in cache\n",
      "INFO:betfairlightweight.streaming.stream:[MarketStream: 0]: 1.177484087 added, 1 markets in cache\n",
      "INFO:betfairlightweight.streaming.stream:[MarketStream: 0]: 1.177484087 added, 1 markets in cache\n",
      "INFO:betfairlightweight.streaming.stream:[MarketStream: 0]: 1.177484087 added, 1 markets in cache\n",
      "INFO:betfairlightweight.streaming.stream:[MarketStream: 0]: 1.177484087 added, 1 markets in cache\n",
      "INFO:betfairlightweight.streaming.stream:[MarketStream: 0]: 1.177484087 added, 1 markets in cache\n",
      "INFO:betfairlightweight.streaming.stream:[MarketStream: 0]: 1.177484087 added, 1 markets in cache\n",
      "INFO:betfairlightweight.streaming.stream:[MarketStream: 0]: 1.177484087 added, 1 markets in cache\n",
      "INFO:betfairlightweight.streaming.stream:[MarketStream: 0]: 1.177484087 added, 1 markets in cache\n",
      "INFO:betfairlightweight.streaming.stream:[MarketStream: 0]: 1.177484087 added, 1 markets in cache\n",
      "INFO:betfairlightweight.streaming.stream:[MarketStream: 0]: 1.177484087 added, 1 markets in cache\n"
     ]
    },
    {
     "name": "stdout",
     "output_type": "stream",
     "text": [
      "didnt find postplay results?\n",
      "didnt find postplay results?\n"
     ]
    },
    {
     "name": "stderr",
     "output_type": "stream",
     "text": [
      "INFO:betfairlightweight.streaming.listener:[Register: 0]: marketSubscription\n",
      "WARNING:betfairlightweight.streaming.listener:[Listener: 0]: stream already registered, replacing data\n",
      "INFO:betfairlightweight.streaming.stream:[MarketStream: 0]: \"MarketStream\" created\n",
      "INFO:betfairlightweight.streaming.stream:[MarketStream: 0]: 1.178565765 added, 1 markets in cache\n"
     ]
    },
    {
     "name": "stdout",
     "output_type": "stream",
     "text": [
      "didnt find postplay results?\n"
     ]
    },
    {
     "name": "stderr",
     "output_type": "stream",
     "text": [
      "INFO:betfairlightweight.streaming.listener:[Register: 0]: marketSubscription\n",
      "WARNING:betfairlightweight.streaming.listener:[Listener: 0]: stream already registered, replacing data\n",
      "INFO:betfairlightweight.streaming.stream:[MarketStream: 0]: \"MarketStream\" created\n",
      "INFO:betfairlightweight.streaming.stream:[MarketStream: 0]: 1.177423844 added, 1 markets in cache\n",
      "INFO:betfairlightweight.streaming.listener:[Register: 0]: marketSubscription\n",
      "WARNING:betfairlightweight.streaming.listener:[Listener: 0]: stream already registered, replacing data\n",
      "INFO:betfairlightweight.streaming.stream:[MarketStream: 0]: \"MarketStream\" created\n",
      "INFO:betfairlightweight.streaming.stream:[MarketStream: 0]: 1.177484089 added, 1 markets in cache\n",
      "INFO:betfairlightweight.streaming.stream:[MarketStream: 0]: 1.177484089 added, 1 markets in cache\n"
     ]
    },
    {
     "name": "stdout",
     "output_type": "stream",
     "text": [
      "didnt find postplay results?\n",
      "didnt find postplay results?\n"
     ]
    },
    {
     "name": "stderr",
     "output_type": "stream",
     "text": [
      "INFO:betfairlightweight.streaming.listener:[Register: 0]: marketSubscription\n",
      "WARNING:betfairlightweight.streaming.listener:[Listener: 0]: stream already registered, replacing data\n",
      "INFO:betfairlightweight.streaming.stream:[MarketStream: 0]: \"MarketStream\" created\n",
      "INFO:betfairlightweight.streaming.stream:[MarketStream: 0]: 1.178565766 added, 1 markets in cache\n",
      "INFO:betfairlightweight.streaming.stream:[MarketStream: 0]: 1.178565766 added, 1 markets in cache\n"
     ]
    },
    {
     "name": "stdout",
     "output_type": "stream",
     "text": [
      "didnt find postplay results?\n"
     ]
    },
    {
     "name": "stderr",
     "output_type": "stream",
     "text": [
      "INFO:betfairlightweight.streaming.listener:[Register: 0]: marketSubscription\n",
      "WARNING:betfairlightweight.streaming.listener:[Listener: 0]: stream already registered, replacing data\n",
      "INFO:betfairlightweight.streaming.stream:[MarketStream: 0]: \"MarketStream\" created\n",
      "INFO:betfairlightweight.streaming.stream:[MarketStream: 0]: 1.177480898 added, 1 markets in cache\n",
      "INFO:betfairlightweight.streaming.stream:[MarketStream: 0]: 1.177480898 added, 1 markets in cache\n",
      "INFO:betfairlightweight.streaming.stream:[MarketStream: 0]: 1.177480898 added, 1 markets in cache\n",
      "INFO:betfairlightweight.streaming.stream:[MarketStream: 0]: 1.177480898 added, 1 markets in cache\n",
      "INFO:betfairlightweight.streaming.stream:[MarketStream: 0]: 1.177480898 added, 1 markets in cache\n",
      "INFO:betfairlightweight.streaming.stream:[MarketStream: 0]: 1.177480898 added, 1 markets in cache\n",
      "INFO:betfairlightweight.streaming.listener:[Register: 0]: marketSubscription\n"
     ]
    },
    {
     "name": "stdout",
     "output_type": "stream",
     "text": [
      "didnt find postplay results?\n",
      "didnt find postplay results?\n"
     ]
    },
    {
     "name": "stderr",
     "output_type": "stream",
     "text": [
      "WARNING:betfairlightweight.streaming.listener:[Listener: 0]: stream already registered, replacing data\n",
      "INFO:betfairlightweight.streaming.stream:[MarketStream: 0]: \"MarketStream\" created\n",
      "INFO:betfairlightweight.streaming.stream:[MarketStream: 0]: 1.177480897 added, 1 markets in cache\n",
      "INFO:betfairlightweight.streaming.stream:[MarketStream: 0]: 1.177480897 added, 1 markets in cache\n",
      "INFO:betfairlightweight.streaming.stream:[MarketStream: 0]: 1.177480897 added, 1 markets in cache\n",
      "INFO:betfairlightweight.streaming.stream:[MarketStream: 0]: 1.177480897 added, 1 markets in cache\n",
      "INFO:betfairlightweight.streaming.stream:[MarketStream: 0]: 1.177480897 added, 1 markets in cache\n",
      "INFO:betfairlightweight.streaming.listener:[Register: 0]: marketSubscription\n",
      "WARNING:betfairlightweight.streaming.listener:[Listener: 0]: stream already registered, replacing data\n",
      "INFO:betfairlightweight.streaming.stream:[MarketStream: 0]: \"MarketStream\" created\n",
      "INFO:betfairlightweight.streaming.stream:[MarketStream: 0]: 1.177480900 added, 1 markets in cache\n",
      "INFO:betfairlightweight.streaming.stream:[MarketStream: 0]: 1.177480900 added, 1 markets in cache\n",
      "INFO:betfairlightweight.streaming.stream:[MarketStream: 0]: 1.177480900 added, 1 markets in cache\n",
      "INFO:betfairlightweight.streaming.stream:[MarketStream: 0]: 1.177480900 added, 1 markets in cache\n",
      "INFO:betfairlightweight.streaming.stream:[MarketStream: 0]: 1.177480900 added, 1 markets in cache\n",
      "INFO:betfairlightweight.streaming.stream:[MarketStream: 0]: 1.177480900 added, 1 markets in cache\n"
     ]
    },
    {
     "name": "stdout",
     "output_type": "stream",
     "text": [
      "didnt find postplay results?\n"
     ]
    },
    {
     "name": "stderr",
     "output_type": "stream",
     "text": [
      "INFO:betfairlightweight.streaming.listener:[Register: 0]: marketSubscription\n",
      "WARNING:betfairlightweight.streaming.listener:[Listener: 0]: stream already registered, replacing data\n",
      "INFO:betfairlightweight.streaming.stream:[MarketStream: 0]: \"MarketStream\" created\n",
      "INFO:betfairlightweight.streaming.stream:[MarketStream: 0]: 1.177480899 added, 1 markets in cache\n",
      "INFO:betfairlightweight.streaming.stream:[MarketStream: 0]: 1.177480899 added, 1 markets in cache\n",
      "INFO:betfairlightweight.streaming.stream:[MarketStream: 0]: 1.177480899 added, 1 markets in cache\n",
      "INFO:betfairlightweight.streaming.stream:[MarketStream: 0]: 1.177480899 added, 1 markets in cache\n",
      "INFO:betfairlightweight.streaming.stream:[MarketStream: 0]: 1.177480899 added, 1 markets in cache\n",
      "INFO:betfairlightweight.streaming.stream:[MarketStream: 0]: 1.177480899 added, 1 markets in cache\n"
     ]
    },
    {
     "name": "stdout",
     "output_type": "stream",
     "text": [
      "didnt find postplay results?\n"
     ]
    },
    {
     "name": "stderr",
     "output_type": "stream",
     "text": [
      "INFO:betfairlightweight.streaming.listener:[Register: 0]: marketSubscription\n",
      "WARNING:betfairlightweight.streaming.listener:[Listener: 0]: stream already registered, replacing data\n",
      "INFO:betfairlightweight.streaming.stream:[MarketStream: 0]: \"MarketStream\" created\n",
      "INFO:betfairlightweight.streaming.stream:[MarketStream: 0]: 1.177480901 added, 1 markets in cache\n",
      "INFO:betfairlightweight.streaming.stream:[MarketStream: 0]: 1.177480901 added, 1 markets in cache\n",
      "INFO:betfairlightweight.streaming.stream:[MarketStream: 0]: 1.177480901 added, 1 markets in cache\n",
      "INFO:betfairlightweight.streaming.stream:[MarketStream: 0]: 1.177480901 added, 1 markets in cache\n",
      "INFO:betfairlightweight.streaming.stream:[MarketStream: 0]: 1.177480901 added, 1 markets in cache\n",
      "INFO:betfairlightweight.streaming.stream:[MarketStream: 0]: 1.177480901 added, 1 markets in cache\n"
     ]
    },
    {
     "name": "stdout",
     "output_type": "stream",
     "text": [
      "didnt find postplay results?\n"
     ]
    },
    {
     "name": "stderr",
     "output_type": "stream",
     "text": [
      "INFO:betfairlightweight.streaming.listener:[Register: 0]: marketSubscription\n",
      "WARNING:betfairlightweight.streaming.listener:[Listener: 0]: stream already registered, replacing data\n",
      "INFO:betfairlightweight.streaming.stream:[MarketStream: 0]: \"MarketStream\" created\n",
      "INFO:betfairlightweight.streaming.stream:[MarketStream: 0]: 1.177480902 added, 1 markets in cache\n",
      "INFO:betfairlightweight.streaming.stream:[MarketStream: 0]: 1.177480902 added, 1 markets in cache\n",
      "INFO:betfairlightweight.streaming.stream:[MarketStream: 0]: 1.177480902 added, 1 markets in cache\n",
      "INFO:betfairlightweight.streaming.stream:[MarketStream: 0]: 1.177480902 added, 1 markets in cache\n",
      "INFO:betfairlightweight.streaming.stream:[MarketStream: 0]: 1.177480902 added, 1 markets in cache\n",
      "INFO:betfairlightweight.streaming.stream:[MarketStream: 0]: 1.177480902 added, 1 markets in cache\n"
     ]
    },
    {
     "name": "stdout",
     "output_type": "stream",
     "text": [
      "didnt find postplay results?\n"
     ]
    },
    {
     "name": "stderr",
     "output_type": "stream",
     "text": [
      "INFO:betfairlightweight.streaming.listener:[Register: 0]: marketSubscription\n",
      "WARNING:betfairlightweight.streaming.listener:[Listener: 0]: stream already registered, replacing data\n",
      "INFO:betfairlightweight.streaming.stream:[MarketStream: 0]: \"MarketStream\" created\n",
      "INFO:betfairlightweight.streaming.stream:[MarketStream: 0]: 1.177480903 added, 1 markets in cache\n",
      "INFO:betfairlightweight.streaming.stream:[MarketStream: 0]: 1.177480903 added, 1 markets in cache\n",
      "INFO:betfairlightweight.streaming.stream:[MarketStream: 0]: 1.177480903 added, 1 markets in cache\n",
      "INFO:betfairlightweight.streaming.stream:[MarketStream: 0]: 1.177480903 added, 1 markets in cache\n",
      "INFO:betfairlightweight.streaming.stream:[MarketStream: 0]: 1.177480903 added, 1 markets in cache\n",
      "INFO:betfairlightweight.streaming.stream:[MarketStream: 0]: 1.177480903 added, 1 markets in cache\n"
     ]
    },
    {
     "name": "stdout",
     "output_type": "stream",
     "text": [
      "didnt find postplay results?\n"
     ]
    },
    {
     "name": "stderr",
     "output_type": "stream",
     "text": [
      "INFO:betfairlightweight.streaming.listener:[Register: 0]: marketSubscription\n",
      "WARNING:betfairlightweight.streaming.listener:[Listener: 0]: stream already registered, replacing data\n",
      "INFO:betfairlightweight.streaming.stream:[MarketStream: 0]: \"MarketStream\" created\n",
      "INFO:betfairlightweight.streaming.stream:[MarketStream: 0]: 1.177480904 added, 1 markets in cache\n",
      "INFO:betfairlightweight.streaming.stream:[MarketStream: 0]: 1.177480904 added, 1 markets in cache\n",
      "INFO:betfairlightweight.streaming.stream:[MarketStream: 0]: 1.177480904 added, 1 markets in cache\n",
      "INFO:betfairlightweight.streaming.stream:[MarketStream: 0]: 1.177480904 added, 1 markets in cache\n",
      "INFO:betfairlightweight.streaming.stream:[MarketStream: 0]: 1.177480904 added, 1 markets in cache\n",
      "INFO:betfairlightweight.streaming.stream:[MarketStream: 0]: 1.177480904 added, 1 markets in cache\n"
     ]
    },
    {
     "name": "stdout",
     "output_type": "stream",
     "text": [
      "didnt find postplay results?\n"
     ]
    },
    {
     "name": "stderr",
     "output_type": "stream",
     "text": [
      "INFO:betfairlightweight.streaming.listener:[Register: 0]: marketSubscription\n",
      "WARNING:betfairlightweight.streaming.listener:[Listener: 0]: stream already registered, replacing data\n",
      "INFO:betfairlightweight.streaming.stream:[MarketStream: 0]: \"MarketStream\" created\n",
      "INFO:betfairlightweight.streaming.stream:[MarketStream: 0]: 1.177480660 added, 1 markets in cache\n",
      "INFO:betfairlightweight.streaming.stream:[MarketStream: 0]: 1.177480660 added, 1 markets in cache\n",
      "INFO:betfairlightweight.streaming.stream:[MarketStream: 0]: 1.177480660 added, 1 markets in cache\n",
      "INFO:betfairlightweight.streaming.stream:[MarketStream: 0]: 1.177480660 added, 1 markets in cache\n"
     ]
    },
    {
     "name": "stdout",
     "output_type": "stream",
     "text": [
      "didnt find postplay results?\n"
     ]
    },
    {
     "name": "stderr",
     "output_type": "stream",
     "text": [
      "INFO:betfairlightweight.streaming.listener:[Register: 0]: marketSubscription\n",
      "WARNING:betfairlightweight.streaming.listener:[Listener: 0]: stream already registered, replacing data\n",
      "INFO:betfairlightweight.streaming.stream:[MarketStream: 0]: \"MarketStream\" created\n",
      "INFO:betfairlightweight.streaming.stream:[MarketStream: 0]: 1.177480659 added, 1 markets in cache\n",
      "INFO:betfairlightweight.streaming.stream:[MarketStream: 0]: 1.177480659 added, 1 markets in cache\n",
      "INFO:betfairlightweight.streaming.stream:[MarketStream: 0]: 1.177480659 added, 1 markets in cache\n",
      "INFO:betfairlightweight.streaming.stream:[MarketStream: 0]: 1.177480659 added, 1 markets in cache\n"
     ]
    },
    {
     "name": "stdout",
     "output_type": "stream",
     "text": [
      "didnt find postplay results?\n"
     ]
    },
    {
     "name": "stderr",
     "output_type": "stream",
     "text": [
      "INFO:betfairlightweight.streaming.listener:[Register: 0]: marketSubscription\n",
      "WARNING:betfairlightweight.streaming.listener:[Listener: 0]: stream already registered, replacing data\n",
      "INFO:betfairlightweight.streaming.stream:[MarketStream: 0]: \"MarketStream\" created\n",
      "INFO:betfairlightweight.streaming.stream:[MarketStream: 0]: 1.177480661 added, 1 markets in cache\n",
      "INFO:betfairlightweight.streaming.stream:[MarketStream: 0]: 1.177480661 added, 1 markets in cache\n",
      "INFO:betfairlightweight.streaming.stream:[MarketStream: 0]: 1.177480661 added, 1 markets in cache\n",
      "INFO:betfairlightweight.streaming.stream:[MarketStream: 0]: 1.177480661 added, 1 markets in cache\n",
      "INFO:betfairlightweight.streaming.stream:[MarketStream: 0]: 1.177480661 added, 1 markets in cache\n",
      "INFO:betfairlightweight.streaming.stream:[MarketStream: 0]: 1.177480661 added, 1 markets in cache\n",
      "INFO:betfairlightweight.streaming.stream:[MarketStream: 0]: 1.177480661 added, 1 markets in cache\n"
     ]
    },
    {
     "name": "stdout",
     "output_type": "stream",
     "text": [
      "didnt find postplay results?\n"
     ]
    },
    {
     "name": "stderr",
     "output_type": "stream",
     "text": [
      "INFO:betfairlightweight.streaming.listener:[Register: 0]: marketSubscription\n",
      "WARNING:betfairlightweight.streaming.listener:[Listener: 0]: stream already registered, replacing data\n",
      "INFO:betfairlightweight.streaming.stream:[MarketStream: 0]: \"MarketStream\" created\n",
      "INFO:betfairlightweight.streaming.stream:[MarketStream: 0]: 1.177480662 added, 1 markets in cache\n",
      "INFO:betfairlightweight.streaming.stream:[MarketStream: 0]: 1.177480662 added, 1 markets in cache\n",
      "INFO:betfairlightweight.streaming.stream:[MarketStream: 0]: 1.177480662 added, 1 markets in cache\n",
      "INFO:betfairlightweight.streaming.stream:[MarketStream: 0]: 1.177480662 added, 1 markets in cache\n",
      "INFO:betfairlightweight.streaming.stream:[MarketStream: 0]: 1.177480662 added, 1 markets in cache\n"
     ]
    },
    {
     "name": "stdout",
     "output_type": "stream",
     "text": [
      "didnt find postplay results?\n"
     ]
    },
    {
     "name": "stderr",
     "output_type": "stream",
     "text": [
      "INFO:betfairlightweight.streaming.listener:[Register: 0]: marketSubscription\n",
      "WARNING:betfairlightweight.streaming.listener:[Listener: 0]: stream already registered, replacing data\n",
      "INFO:betfairlightweight.streaming.stream:[MarketStream: 0]: \"MarketStream\" created\n",
      "INFO:betfairlightweight.streaming.stream:[MarketStream: 0]: 1.177480905 added, 1 markets in cache\n",
      "INFO:betfairlightweight.streaming.stream:[MarketStream: 0]: 1.177480905 added, 1 markets in cache\n",
      "INFO:betfairlightweight.streaming.stream:[MarketStream: 0]: 1.177480905 added, 1 markets in cache\n",
      "INFO:betfairlightweight.streaming.stream:[MarketStream: 0]: 1.177480905 added, 1 markets in cache\n",
      "INFO:betfairlightweight.streaming.stream:[MarketStream: 0]: 1.177480905 added, 1 markets in cache\n",
      "INFO:betfairlightweight.streaming.stream:[MarketStream: 0]: 1.177480905 added, 1 markets in cache\n"
     ]
    },
    {
     "name": "stdout",
     "output_type": "stream",
     "text": [
      "didnt find postplay results?\n"
     ]
    },
    {
     "name": "stderr",
     "output_type": "stream",
     "text": [
      "INFO:betfairlightweight.streaming.listener:[Register: 0]: marketSubscription\n",
      "WARNING:betfairlightweight.streaming.listener:[Listener: 0]: stream already registered, replacing data\n",
      "INFO:betfairlightweight.streaming.stream:[MarketStream: 0]: \"MarketStream\" created\n",
      "INFO:betfairlightweight.streaming.stream:[MarketStream: 0]: 1.177480822 added, 1 markets in cache\n",
      "INFO:betfairlightweight.streaming.stream:[MarketStream: 0]: 1.177480822 added, 1 markets in cache\n",
      "INFO:betfairlightweight.streaming.stream:[MarketStream: 0]: 1.177480822 added, 1 markets in cache\n",
      "INFO:betfairlightweight.streaming.stream:[MarketStream: 0]: 1.177480822 added, 1 markets in cache\n",
      "INFO:betfairlightweight.streaming.stream:[MarketStream: 0]: 1.177480822 added, 1 markets in cache\n",
      "INFO:betfairlightweight.streaming.stream:[MarketStream: 0]: 1.177480822 added, 1 markets in cache\n"
     ]
    },
    {
     "name": "stdout",
     "output_type": "stream",
     "text": [
      "didnt find postplay results?\n"
     ]
    },
    {
     "name": "stderr",
     "output_type": "stream",
     "text": [
      "INFO:betfairlightweight.streaming.listener:[Register: 0]: marketSubscription\n",
      "WARNING:betfairlightweight.streaming.listener:[Listener: 0]: stream already registered, replacing data\n",
      "INFO:betfairlightweight.streaming.stream:[MarketStream: 0]: \"MarketStream\" created\n",
      "INFO:betfairlightweight.streaming.stream:[MarketStream: 0]: 1.177480906 added, 1 markets in cache\n",
      "INFO:betfairlightweight.streaming.stream:[MarketStream: 0]: 1.177480906 added, 1 markets in cache\n",
      "INFO:betfairlightweight.streaming.stream:[MarketStream: 0]: 1.177480906 added, 1 markets in cache\n",
      "INFO:betfairlightweight.streaming.stream:[MarketStream: 0]: 1.177480906 added, 1 markets in cache\n",
      "INFO:betfairlightweight.streaming.stream:[MarketStream: 0]: 1.177480906 added, 1 markets in cache\n"
     ]
    },
    {
     "name": "stdout",
     "output_type": "stream",
     "text": [
      "didnt find postplay results?\n"
     ]
    },
    {
     "name": "stderr",
     "output_type": "stream",
     "text": [
      "INFO:betfairlightweight.streaming.listener:[Register: 0]: marketSubscription\n",
      "WARNING:betfairlightweight.streaming.listener:[Listener: 0]: stream already registered, replacing data\n",
      "INFO:betfairlightweight.streaming.stream:[MarketStream: 0]: \"MarketStream\" created\n",
      "INFO:betfairlightweight.streaming.stream:[MarketStream: 0]: 1.177480821 added, 1 markets in cache\n",
      "INFO:betfairlightweight.streaming.stream:[MarketStream: 0]: 1.177480821 added, 1 markets in cache\n",
      "INFO:betfairlightweight.streaming.stream:[MarketStream: 0]: 1.177480821 added, 1 markets in cache\n",
      "INFO:betfairlightweight.streaming.stream:[MarketStream: 0]: 1.177480821 added, 1 markets in cache\n",
      "INFO:betfairlightweight.streaming.stream:[MarketStream: 0]: 1.177480821 added, 1 markets in cache\n",
      "INFO:betfairlightweight.streaming.stream:[MarketStream: 0]: 1.177480821 added, 1 markets in cache\n",
      "INFO:betfairlightweight.streaming.stream:[MarketStream: 0]: 1.177480821 added, 1 markets in cache\n",
      "INFO:betfairlightweight.streaming.stream:[MarketStream: 0]: 1.177480821 added, 1 markets in cache\n"
     ]
    },
    {
     "name": "stdout",
     "output_type": "stream",
     "text": [
      "didnt find postplay results?\n"
     ]
    },
    {
     "name": "stderr",
     "output_type": "stream",
     "text": [
      "INFO:betfairlightweight.streaming.listener:[Register: 0]: marketSubscription\n",
      "WARNING:betfairlightweight.streaming.listener:[Listener: 0]: stream already registered, replacing data\n",
      "INFO:betfairlightweight.streaming.stream:[MarketStream: 0]: \"MarketStream\" created\n",
      "INFO:betfairlightweight.streaming.stream:[MarketStream: 0]: 1.177480663 added, 1 markets in cache\n",
      "INFO:betfairlightweight.streaming.stream:[MarketStream: 0]: 1.177480663 added, 1 markets in cache\n",
      "INFO:betfairlightweight.streaming.stream:[MarketStream: 0]: 1.177480663 added, 1 markets in cache\n",
      "INFO:betfairlightweight.streaming.stream:[MarketStream: 0]: 1.177480663 added, 1 markets in cache\n"
     ]
    },
    {
     "name": "stdout",
     "output_type": "stream",
     "text": [
      "didnt find postplay results?\n"
     ]
    },
    {
     "name": "stderr",
     "output_type": "stream",
     "text": [
      "INFO:betfairlightweight.streaming.listener:[Register: 0]: marketSubscription\n",
      "WARNING:betfairlightweight.streaming.listener:[Listener: 0]: stream already registered, replacing data\n",
      "INFO:betfairlightweight.streaming.stream:[MarketStream: 0]: \"MarketStream\" created\n",
      "INFO:betfairlightweight.streaming.stream:[MarketStream: 0]: 1.177480664 added, 1 markets in cache\n",
      "INFO:betfairlightweight.streaming.stream:[MarketStream: 0]: 1.177480664 added, 1 markets in cache\n",
      "INFO:betfairlightweight.streaming.stream:[MarketStream: 0]: 1.177480664 added, 1 markets in cache\n"
     ]
    },
    {
     "name": "stdout",
     "output_type": "stream",
     "text": [
      "didnt find postplay results?\n"
     ]
    },
    {
     "name": "stderr",
     "output_type": "stream",
     "text": [
      "INFO:betfairlightweight.streaming.listener:[Register: 0]: marketSubscription\n",
      "WARNING:betfairlightweight.streaming.listener:[Listener: 0]: stream already registered, replacing data\n",
      "INFO:betfairlightweight.streaming.stream:[MarketStream: 0]: \"MarketStream\" created\n",
      "INFO:betfairlightweight.streaming.stream:[MarketStream: 0]: 1.177480823 added, 1 markets in cache\n",
      "INFO:betfairlightweight.streaming.stream:[MarketStream: 0]: 1.177480823 added, 1 markets in cache\n",
      "INFO:betfairlightweight.streaming.stream:[MarketStream: 0]: 1.177480823 added, 1 markets in cache\n",
      "INFO:betfairlightweight.streaming.stream:[MarketStream: 0]: 1.177480823 added, 1 markets in cache\n",
      "INFO:betfairlightweight.streaming.stream:[MarketStream: 0]: 1.177480823 added, 1 markets in cache\n",
      "INFO:betfairlightweight.streaming.stream:[MarketStream: 0]: 1.177480823 added, 1 markets in cache\n",
      "INFO:betfairlightweight.streaming.stream:[MarketStream: 0]: 1.177480823 added, 1 markets in cache\n",
      "INFO:betfairlightweight.streaming.stream:[MarketStream: 0]: 1.177480823 added, 1 markets in cache\n"
     ]
    },
    {
     "name": "stdout",
     "output_type": "stream",
     "text": [
      "didnt find postplay results?\n"
     ]
    },
    {
     "name": "stderr",
     "output_type": "stream",
     "text": [
      "INFO:betfairlightweight.streaming.listener:[Register: 0]: marketSubscription\n",
      "WARNING:betfairlightweight.streaming.listener:[Listener: 0]: stream already registered, replacing data\n",
      "INFO:betfairlightweight.streaming.stream:[MarketStream: 0]: \"MarketStream\" created\n",
      "INFO:betfairlightweight.streaming.stream:[MarketStream: 0]: 1.177480824 added, 1 markets in cache\n",
      "INFO:betfairlightweight.streaming.stream:[MarketStream: 0]: 1.177480824 added, 1 markets in cache\n",
      "INFO:betfairlightweight.streaming.stream:[MarketStream: 0]: 1.177480824 added, 1 markets in cache\n",
      "INFO:betfairlightweight.streaming.stream:[MarketStream: 0]: 1.177480824 added, 1 markets in cache\n",
      "INFO:betfairlightweight.streaming.stream:[MarketStream: 0]: 1.177480824 added, 1 markets in cache\n"
     ]
    },
    {
     "name": "stdout",
     "output_type": "stream",
     "text": [
      "didnt find postplay results?\n"
     ]
    },
    {
     "name": "stderr",
     "output_type": "stream",
     "text": [
      "INFO:betfairlightweight.streaming.listener:[Register: 0]: marketSubscription\n",
      "WARNING:betfairlightweight.streaming.listener:[Listener: 0]: stream already registered, replacing data\n",
      "INFO:betfairlightweight.streaming.stream:[MarketStream: 0]: \"MarketStream\" created\n",
      "INFO:betfairlightweight.streaming.stream:[MarketStream: 0]: 1.177480666 added, 1 markets in cache\n",
      "INFO:betfairlightweight.streaming.stream:[MarketStream: 0]: 1.177480666 added, 1 markets in cache\n"
     ]
    },
    {
     "name": "stdout",
     "output_type": "stream",
     "text": [
      "didnt find postplay results?\n"
     ]
    },
    {
     "name": "stderr",
     "output_type": "stream",
     "text": [
      "INFO:betfairlightweight.streaming.listener:[Register: 0]: marketSubscription\n",
      "WARNING:betfairlightweight.streaming.listener:[Listener: 0]: stream already registered, replacing data\n",
      "INFO:betfairlightweight.streaming.stream:[MarketStream: 0]: \"MarketStream\" created\n",
      "INFO:betfairlightweight.streaming.stream:[MarketStream: 0]: 1.177480665 added, 1 markets in cache\n",
      "INFO:betfairlightweight.streaming.stream:[MarketStream: 0]: 1.177480665 added, 1 markets in cache\n",
      "INFO:betfairlightweight.streaming.stream:[MarketStream: 0]: 1.177480665 added, 1 markets in cache\n",
      "INFO:betfairlightweight.streaming.stream:[MarketStream: 0]: 1.177480665 added, 1 markets in cache\n",
      "INFO:betfairlightweight.streaming.stream:[MarketStream: 0]: 1.177480665 added, 1 markets in cache\n",
      "INFO:betfairlightweight.streaming.stream:[MarketStream: 0]: 1.177480665 added, 1 markets in cache\n"
     ]
    },
    {
     "name": "stdout",
     "output_type": "stream",
     "text": [
      "didnt find postplay results?\n"
     ]
    },
    {
     "name": "stderr",
     "output_type": "stream",
     "text": [
      "INFO:betfairlightweight.streaming.listener:[Register: 0]: marketSubscription\n",
      "WARNING:betfairlightweight.streaming.listener:[Listener: 0]: stream already registered, replacing data\n",
      "INFO:betfairlightweight.streaming.stream:[MarketStream: 0]: \"MarketStream\" created\n",
      "INFO:betfairlightweight.streaming.stream:[MarketStream: 0]: 1.177480825 added, 1 markets in cache\n",
      "INFO:betfairlightweight.streaming.stream:[MarketStream: 0]: 1.177480825 added, 1 markets in cache\n",
      "INFO:betfairlightweight.streaming.stream:[MarketStream: 0]: 1.177480825 added, 1 markets in cache\n",
      "INFO:betfairlightweight.streaming.stream:[MarketStream: 0]: 1.177480825 added, 1 markets in cache\n",
      "INFO:betfairlightweight.streaming.stream:[MarketStream: 0]: 1.177480825 added, 1 markets in cache\n",
      "INFO:betfairlightweight.streaming.stream:[MarketStream: 0]: 1.177480825 added, 1 markets in cache\n"
     ]
    },
    {
     "name": "stdout",
     "output_type": "stream",
     "text": [
      "didnt find postplay results?\n"
     ]
    },
    {
     "name": "stderr",
     "output_type": "stream",
     "text": [
      "INFO:betfairlightweight.streaming.listener:[Register: 0]: marketSubscription\n",
      "WARNING:betfairlightweight.streaming.listener:[Listener: 0]: stream already registered, replacing data\n",
      "INFO:betfairlightweight.streaming.stream:[MarketStream: 0]: \"MarketStream\" created\n",
      "INFO:betfairlightweight.streaming.stream:[MarketStream: 0]: 1.177480826 added, 1 markets in cache\n",
      "INFO:betfairlightweight.streaming.stream:[MarketStream: 0]: 1.177480826 added, 1 markets in cache\n",
      "INFO:betfairlightweight.streaming.stream:[MarketStream: 0]: 1.177480826 added, 1 markets in cache\n",
      "INFO:betfairlightweight.streaming.stream:[MarketStream: 0]: 1.177480826 added, 1 markets in cache\n"
     ]
    },
    {
     "name": "stdout",
     "output_type": "stream",
     "text": [
      "didnt find postplay results?\n"
     ]
    },
    {
     "name": "stderr",
     "output_type": "stream",
     "text": [
      "INFO:betfairlightweight.streaming.listener:[Register: 0]: marketSubscription\n",
      "WARNING:betfairlightweight.streaming.listener:[Listener: 0]: stream already registered, replacing data\n",
      "INFO:betfairlightweight.streaming.stream:[MarketStream: 0]: \"MarketStream\" created\n",
      "INFO:betfairlightweight.streaming.stream:[MarketStream: 0]: 1.177444928 added, 1 markets in cache\n",
      "INFO:betfairlightweight.streaming.stream:[MarketStream: 0]: 1.177444928 added, 1 markets in cache\n",
      "INFO:betfairlightweight.streaming.stream:[MarketStream: 0]: 1.177444928 added, 1 markets in cache\n",
      "INFO:betfairlightweight.streaming.stream:[MarketStream: 0]: 1.177444928 added, 1 markets in cache\n",
      "INFO:betfairlightweight.streaming.stream:[MarketStream: 0]: 1.177444928 added, 1 markets in cache\n",
      "INFO:betfairlightweight.streaming.stream:[MarketStream: 0]: 1.177444928 added, 1 markets in cache\n",
      "INFO:betfairlightweight.streaming.stream:[MarketStream: 0]: 1.177444928 added, 1 markets in cache\n",
      "INFO:betfairlightweight.streaming.stream:[MarketStream: 0]: 1.177444928 added, 1 markets in cache\n",
      "INFO:betfairlightweight.streaming.stream:[MarketStream: 0]: 1.177444928 added, 1 markets in cache\n",
      "INFO:betfairlightweight.streaming.stream:[MarketStream: 0]: 1.177444928 added, 1 markets in cache\n",
      "INFO:betfairlightweight.streaming.stream:[MarketStream: 0]: 1.177444928 added, 1 markets in cache\n",
      "INFO:betfairlightweight.streaming.stream:[MarketStream: 0]: 1.177444928 added, 1 markets in cache\n",
      "INFO:betfairlightweight.streaming.stream:[MarketStream: 0]: 1.177444928 added, 1 markets in cache\n",
      "INFO:betfairlightweight.streaming.stream:[MarketStream: 0]: 1.177444928 added, 1 markets in cache\n",
      "INFO:betfairlightweight.streaming.stream:[MarketStream: 0]: 1.177444928 added, 1 markets in cache\n",
      "INFO:betfairlightweight.streaming.stream:[MarketStream: 0]: 1.177444928 added, 1 markets in cache\n",
      "INFO:betfairlightweight.streaming.stream:[MarketStream: 0]: 1.177444928 added, 1 markets in cache\n",
      "INFO:betfairlightweight.streaming.stream:[MarketStream: 0]: 1.177444928 added, 1 markets in cache\n"
     ]
    },
    {
     "name": "stdout",
     "output_type": "stream",
     "text": [
      "didnt find postplay results?\n"
     ]
    },
    {
     "name": "stderr",
     "output_type": "stream",
     "text": [
      "INFO:betfairlightweight.streaming.stream:[MarketStream: 0]: 1.177444928 added, 1 markets in cache\n",
      "INFO:betfairlightweight.streaming.stream:[MarketStream: 0]: 1.177444928 added, 1 markets in cache\n",
      "INFO:betfairlightweight.streaming.stream:[MarketStream: 0]: 1.177444928 added, 1 markets in cache\n",
      "INFO:betfairlightweight.streaming.stream:[MarketStream: 0]: 1.177444928 added, 1 markets in cache\n",
      "INFO:betfairlightweight.streaming.stream:[MarketStream: 0]: 1.177444928 added, 1 markets in cache\n",
      "INFO:betfairlightweight.streaming.stream:[MarketStream: 0]: 1.177444928 added, 1 markets in cache\n",
      "INFO:betfairlightweight.streaming.stream:[MarketStream: 0]: 1.177444928 added, 1 markets in cache\n",
      "INFO:betfairlightweight.streaming.listener:[Register: 0]: marketSubscription\n",
      "WARNING:betfairlightweight.streaming.listener:[Listener: 0]: stream already registered, replacing data\n",
      "INFO:betfairlightweight.streaming.stream:[MarketStream: 0]: \"MarketStream\" created\n",
      "INFO:betfairlightweight.streaming.stream:[MarketStream: 0]: 1.177447069 added, 1 markets in cache\n",
      "INFO:betfairlightweight.streaming.listener:[Register: 0]: marketSubscription\n",
      "WARNING:betfairlightweight.streaming.listener:[Listener: 0]: stream already registered, replacing data\n",
      "INFO:betfairlightweight.streaming.stream:[MarketStream: 0]: \"MarketStream\" created\n",
      "INFO:betfairlightweight.streaming.stream:[MarketStream: 0]: 1.177444927 added, 1 markets in cache\n",
      "INFO:betfairlightweight.streaming.stream:[MarketStream: 0]: 1.177444927 added, 1 markets in cache\n",
      "INFO:betfairlightweight.streaming.stream:[MarketStream: 0]: 1.177444927 added, 1 markets in cache\n",
      "INFO:betfairlightweight.streaming.stream:[MarketStream: 0]: 1.177444927 added, 1 markets in cache\n",
      "INFO:betfairlightweight.streaming.stream:[MarketStream: 0]: 1.177444927 added, 1 markets in cache\n",
      "INFO:betfairlightweight.streaming.stream:[MarketStream: 0]: 1.177444927 added, 1 markets in cache\n",
      "INFO:betfairlightweight.streaming.stream:[MarketStream: 0]: 1.177444927 added, 1 markets in cache\n",
      "INFO:betfairlightweight.streaming.stream:[MarketStream: 0]: 1.177444927 added, 1 markets in cache\n",
      "INFO:betfairlightweight.streaming.stream:[MarketStream: 0]: 1.177444927 added, 1 markets in cache\n",
      "INFO:betfairlightweight.streaming.stream:[MarketStream: 0]: 1.177444927 added, 1 markets in cache\n",
      "INFO:betfairlightweight.streaming.stream:[MarketStream: 0]: 1.177444927 added, 1 markets in cache\n",
      "INFO:betfairlightweight.streaming.stream:[MarketStream: 0]: 1.177444927 added, 1 markets in cache\n",
      "INFO:betfairlightweight.streaming.stream:[MarketStream: 0]: 1.177444927 added, 1 markets in cache\n",
      "INFO:betfairlightweight.streaming.stream:[MarketStream: 0]: 1.177444927 added, 1 markets in cache\n",
      "INFO:betfairlightweight.streaming.stream:[MarketStream: 0]: 1.177444927 added, 1 markets in cache\n",
      "INFO:betfairlightweight.streaming.stream:[MarketStream: 0]: 1.177444927 added, 1 markets in cache\n",
      "INFO:betfairlightweight.streaming.stream:[MarketStream: 0]: 1.177444927 added, 1 markets in cache\n",
      "INFO:betfairlightweight.streaming.stream:[MarketStream: 0]: 1.177444927 added, 1 markets in cache\n",
      "INFO:betfairlightweight.streaming.stream:[MarketStream: 0]: 1.177444927 added, 1 markets in cache\n",
      "INFO:betfairlightweight.streaming.stream:[MarketStream: 0]: 1.177444927 added, 1 markets in cache\n",
      "INFO:betfairlightweight.streaming.stream:[MarketStream: 0]: 1.177444927 added, 1 markets in cache\n",
      "INFO:betfairlightweight.streaming.stream:[MarketStream: 0]: 1.177444927 added, 1 markets in cache\n",
      "INFO:betfairlightweight.streaming.stream:[MarketStream: 0]: 1.177444927 added, 1 markets in cache\n",
      "INFO:betfairlightweight.streaming.stream:[MarketStream: 0]: 1.177444927 added, 1 markets in cache\n",
      "INFO:betfairlightweight.streaming.stream:[MarketStream: 0]: 1.177444927 added, 1 markets in cache\n",
      "INFO:betfairlightweight.streaming.stream:[MarketStream: 0]: 1.177444927 added, 1 markets in cache\n",
      "INFO:betfairlightweight.streaming.stream:[MarketStream: 0]: 1.177444927 added, 1 markets in cache\n",
      "INFO:betfairlightweight.streaming.stream:[MarketStream: 0]: 1.177444927 added, 1 markets in cache\n",
      "INFO:betfairlightweight.streaming.stream:[MarketStream: 0]: 1.177444927 added, 1 markets in cache\n",
      "INFO:betfairlightweight.streaming.stream:[MarketStream: 0]: 1.177444927 added, 1 markets in cache\n",
      "INFO:betfairlightweight.streaming.stream:[MarketStream: 0]: 1.177444927 added, 1 markets in cache\n"
     ]
    },
    {
     "name": "stdout",
     "output_type": "stream",
     "text": [
      "didnt find postplay results?\n"
     ]
    },
    {
     "name": "stderr",
     "output_type": "stream",
     "text": [
      "INFO:betfairlightweight.streaming.stream:[MarketStream: 0]: 1.177444927 added, 1 markets in cache\n",
      "INFO:betfairlightweight.streaming.listener:[Register: 0]: marketSubscription\n",
      "WARNING:betfairlightweight.streaming.listener:[Listener: 0]: stream already registered, replacing data\n",
      "INFO:betfairlightweight.streaming.stream:[MarketStream: 0]: \"MarketStream\" created\n",
      "INFO:betfairlightweight.streaming.stream:[MarketStream: 0]: 1.177477776 added, 1 markets in cache\n",
      "INFO:betfairlightweight.streaming.stream:[MarketStream: 0]: 1.177477776 added, 1 markets in cache\n",
      "INFO:betfairlightweight.streaming.stream:[MarketStream: 0]: 1.177477776 added, 1 markets in cache\n",
      "INFO:betfairlightweight.streaming.stream:[MarketStream: 0]: 1.177477776 added, 1 markets in cache\n",
      "INFO:betfairlightweight.streaming.stream:[MarketStream: 0]: 1.177477776 added, 1 markets in cache\n",
      "INFO:betfairlightweight.streaming.stream:[MarketStream: 0]: 1.177477776 added, 1 markets in cache\n",
      "INFO:betfairlightweight.streaming.stream:[MarketStream: 0]: 1.177477776 added, 1 markets in cache\n",
      "INFO:betfairlightweight.streaming.stream:[MarketStream: 0]: 1.177477776 added, 1 markets in cache\n",
      "INFO:betfairlightweight.streaming.stream:[MarketStream: 0]: 1.177477776 added, 1 markets in cache\n"
     ]
    },
    {
     "name": "stdout",
     "output_type": "stream",
     "text": [
      "didnt find postplay results?\n"
     ]
    },
    {
     "name": "stderr",
     "output_type": "stream",
     "text": [
      "INFO:betfairlightweight.streaming.listener:[Register: 0]: marketSubscription\n",
      "WARNING:betfairlightweight.streaming.listener:[Listener: 0]: stream already registered, replacing data\n",
      "INFO:betfairlightweight.streaming.stream:[MarketStream: 0]: \"MarketStream\" created\n",
      "INFO:betfairlightweight.streaming.stream:[MarketStream: 0]: 1.177477777 added, 1 markets in cache\n",
      "INFO:betfairlightweight.streaming.stream:[MarketStream: 0]: 1.177477777 added, 1 markets in cache\n",
      "INFO:betfairlightweight.streaming.stream:[MarketStream: 0]: 1.177477777 added, 1 markets in cache\n",
      "INFO:betfairlightweight.streaming.stream:[MarketStream: 0]: 1.177477777 added, 1 markets in cache\n",
      "INFO:betfairlightweight.streaming.stream:[MarketStream: 0]: 1.177477777 added, 1 markets in cache\n",
      "INFO:betfairlightweight.streaming.stream:[MarketStream: 0]: 1.177477777 added, 1 markets in cache\n",
      "INFO:betfairlightweight.streaming.stream:[MarketStream: 0]: 1.177477777 added, 1 markets in cache\n",
      "INFO:betfairlightweight.streaming.stream:[MarketStream: 0]: 1.177477777 added, 1 markets in cache\n",
      "INFO:betfairlightweight.streaming.stream:[MarketStream: 0]: 1.177477777 added, 1 markets in cache\n"
     ]
    },
    {
     "name": "stdout",
     "output_type": "stream",
     "text": [
      "didnt find postplay results?\n"
     ]
    },
    {
     "name": "stderr",
     "output_type": "stream",
     "text": [
      "INFO:betfairlightweight.streaming.listener:[Register: 0]: marketSubscription\n",
      "WARNING:betfairlightweight.streaming.listener:[Listener: 0]: stream already registered, replacing data\n",
      "INFO:betfairlightweight.streaming.stream:[MarketStream: 0]: \"MarketStream\" created\n",
      "INFO:betfairlightweight.streaming.stream:[MarketStream: 0]: 1.177479110 added, 1 markets in cache\n",
      "INFO:betfairlightweight.streaming.stream:[MarketStream: 0]: 1.177479110 added, 1 markets in cache\n",
      "INFO:betfairlightweight.streaming.stream:[MarketStream: 0]: 1.177479110 added, 1 markets in cache\n",
      "INFO:betfairlightweight.streaming.stream:[MarketStream: 0]: 1.177479110 added, 1 markets in cache\n",
      "INFO:betfairlightweight.streaming.stream:[MarketStream: 0]: 1.177479110 added, 1 markets in cache\n",
      "INFO:betfairlightweight.streaming.stream:[MarketStream: 0]: 1.177479110 added, 1 markets in cache\n",
      "INFO:betfairlightweight.streaming.stream:[MarketStream: 0]: 1.177479110 added, 1 markets in cache\n",
      "INFO:betfairlightweight.streaming.stream:[MarketStream: 0]: 1.177479110 added, 1 markets in cache\n",
      "INFO:betfairlightweight.streaming.stream:[MarketStream: 0]: 1.177479110 added, 1 markets in cache\n",
      "INFO:betfairlightweight.streaming.listener:[Register: 0]: marketSubscription\n",
      "WARNING:betfairlightweight.streaming.listener:[Listener: 0]: stream already registered, replacing data\n",
      "INFO:betfairlightweight.streaming.stream:[MarketStream: 0]: \"MarketStream\" created\n",
      "INFO:betfairlightweight.streaming.stream:[MarketStream: 0]: 1.177479111 added, 1 markets in cache\n",
      "INFO:betfairlightweight.streaming.stream:[MarketStream: 0]: 1.177479111 added, 1 markets in cache\n",
      "INFO:betfairlightweight.streaming.stream:[MarketStream: 0]: 1.177479111 added, 1 markets in cache\n",
      "INFO:betfairlightweight.streaming.stream:[MarketStream: 0]: 1.177479111 added, 1 markets in cache\n",
      "INFO:betfairlightweight.streaming.stream:[MarketStream: 0]: 1.177479111 added, 1 markets in cache\n",
      "INFO:betfairlightweight.streaming.stream:[MarketStream: 0]: 1.177479111 added, 1 markets in cache\n",
      "INFO:betfairlightweight.streaming.stream:[MarketStream: 0]: 1.177479111 added, 1 markets in cache\n",
      "INFO:betfairlightweight.streaming.listener:[Register: 0]: marketSubscription\n",
      "WARNING:betfairlightweight.streaming.listener:[Listener: 0]: stream already registered, replacing data\n",
      "INFO:betfairlightweight.streaming.stream:[MarketStream: 0]: \"MarketStream\" created\n",
      "INFO:betfairlightweight.streaming.stream:[MarketStream: 0]: 1.177442849 added, 1 markets in cache\n",
      "INFO:betfairlightweight.streaming.stream:[MarketStream: 0]: 1.177442849 added, 1 markets in cache\n",
      "INFO:betfairlightweight.streaming.stream:[MarketStream: 0]: 1.177442849 added, 1 markets in cache\n",
      "INFO:betfairlightweight.streaming.stream:[MarketStream: 0]: 1.177442849 added, 1 markets in cache\n",
      "INFO:betfairlightweight.streaming.stream:[MarketStream: 0]: 1.177442849 added, 1 markets in cache\n",
      "INFO:betfairlightweight.streaming.stream:[MarketStream: 0]: 1.177442849 added, 1 markets in cache\n",
      "INFO:betfairlightweight.streaming.stream:[MarketStream: 0]: 1.177442849 added, 1 markets in cache\n",
      "INFO:betfairlightweight.streaming.stream:[MarketStream: 0]: 1.177442849 added, 1 markets in cache\n",
      "INFO:betfairlightweight.streaming.stream:[MarketStream: 0]: 1.177442849 added, 1 markets in cache\n",
      "INFO:betfairlightweight.streaming.stream:[MarketStream: 0]: 1.177442849 added, 1 markets in cache\n",
      "INFO:betfairlightweight.streaming.stream:[MarketStream: 0]: 1.177442849 added, 1 markets in cache\n",
      "INFO:betfairlightweight.streaming.stream:[MarketStream: 0]: 1.177442849 added, 1 markets in cache\n",
      "INFO:betfairlightweight.streaming.stream:[MarketStream: 0]: 1.177442849 added, 1 markets in cache\n",
      "INFO:betfairlightweight.streaming.stream:[MarketStream: 0]: 1.177442849 added, 1 markets in cache\n",
      "INFO:betfairlightweight.streaming.stream:[MarketStream: 0]: 1.177442849 added, 1 markets in cache\n",
      "INFO:betfairlightweight.streaming.stream:[MarketStream: 0]: 1.177442849 added, 1 markets in cache\n",
      "INFO:betfairlightweight.streaming.stream:[MarketStream: 0]: 1.177442849 added, 1 markets in cache\n",
      "INFO:betfairlightweight.streaming.stream:[MarketStream: 0]: 1.177442849 added, 1 markets in cache\n",
      "INFO:betfairlightweight.streaming.stream:[MarketStream: 0]: 1.177442849 added, 1 markets in cache\n",
      "INFO:betfairlightweight.streaming.stream:[MarketStream: 0]: 1.177442849 added, 1 markets in cache\n",
      "INFO:betfairlightweight.streaming.stream:[MarketStream: 0]: 1.177442849 added, 1 markets in cache\n",
      "INFO:betfairlightweight.streaming.stream:[MarketStream: 0]: 1.177442849 added, 1 markets in cache\n",
      "INFO:betfairlightweight.streaming.stream:[MarketStream: 0]: 1.177442849 added, 1 markets in cache\n",
      "INFO:betfairlightweight.streaming.stream:[MarketStream: 0]: 1.177442849 added, 1 markets in cache\n",
      "INFO:betfairlightweight.streaming.stream:[MarketStream: 0]: 1.177442849 added, 1 markets in cache\n",
      "INFO:betfairlightweight.streaming.stream:[MarketStream: 0]: 1.177442849 added, 1 markets in cache\n",
      "INFO:betfairlightweight.streaming.stream:[MarketStream: 0]: 1.177442849 added, 1 markets in cache\n"
     ]
    },
    {
     "name": "stdout",
     "output_type": "stream",
     "text": [
      "didnt find postplay results?\n"
     ]
    },
    {
     "name": "stderr",
     "output_type": "stream",
     "text": [
      "INFO:betfairlightweight.streaming.stream:[MarketStream: 0]: 1.177442849 added, 1 markets in cache\n",
      "INFO:betfairlightweight.streaming.stream:[MarketStream: 0]: 1.177442849 added, 1 markets in cache\n",
      "INFO:betfairlightweight.streaming.listener:[Register: 0]: marketSubscription\n",
      "WARNING:betfairlightweight.streaming.listener:[Listener: 0]: stream already registered, replacing data\n",
      "INFO:betfairlightweight.streaming.stream:[MarketStream: 0]: \"MarketStream\" created\n",
      "INFO:betfairlightweight.streaming.stream:[MarketStream: 0]: 1.177480667 added, 1 markets in cache\n",
      "INFO:betfairlightweight.streaming.stream:[MarketStream: 0]: 1.177480667 added, 1 markets in cache\n",
      "INFO:betfairlightweight.streaming.stream:[MarketStream: 0]: 1.177480667 added, 1 markets in cache\n",
      "INFO:betfairlightweight.streaming.listener:[Register: 0]: marketSubscription\n",
      "WARNING:betfairlightweight.streaming.listener:[Listener: 0]: stream already registered, replacing data\n",
      "INFO:betfairlightweight.streaming.stream:[MarketStream: 0]: \"MarketStream\" created\n",
      "INFO:betfairlightweight.streaming.stream:[MarketStream: 0]: 1.177480668 added, 1 markets in cache\n",
      "INFO:betfairlightweight.streaming.stream:[MarketStream: 0]: 1.177480668 added, 1 markets in cache\n",
      "INFO:betfairlightweight.streaming.stream:[MarketStream: 0]: 1.177480668 added, 1 markets in cache\n"
     ]
    },
    {
     "name": "stdout",
     "output_type": "stream",
     "text": [
      "didnt find postplay results?\n"
     ]
    },
    {
     "name": "stderr",
     "output_type": "stream",
     "text": [
      "INFO:betfairlightweight.streaming.listener:[Register: 0]: marketSubscription\n",
      "WARNING:betfairlightweight.streaming.listener:[Listener: 0]: stream already registered, replacing data\n",
      "INFO:betfairlightweight.streaming.stream:[MarketStream: 0]: \"MarketStream\" created\n",
      "INFO:betfairlightweight.streaming.stream:[MarketStream: 0]: 1.177496666 added, 1 markets in cache\n",
      "INFO:betfairlightweight.streaming.listener:[Register: 0]: marketSubscription\n",
      "WARNING:betfairlightweight.streaming.listener:[Listener: 0]: stream already registered, replacing data\n",
      "INFO:betfairlightweight.streaming.stream:[MarketStream: 0]: \"MarketStream\" created\n",
      "INFO:betfairlightweight.streaming.stream:[MarketStream: 0]: 1.177442850 added, 1 markets in cache\n",
      "INFO:betfairlightweight.streaming.stream:[MarketStream: 0]: 1.177442850 added, 1 markets in cache\n",
      "INFO:betfairlightweight.streaming.stream:[MarketStream: 0]: 1.177442850 added, 1 markets in cache\n",
      "INFO:betfairlightweight.streaming.stream:[MarketStream: 0]: 1.177442850 added, 1 markets in cache\n",
      "INFO:betfairlightweight.streaming.stream:[MarketStream: 0]: 1.177442850 added, 1 markets in cache\n",
      "INFO:betfairlightweight.streaming.stream:[MarketStream: 0]: 1.177442850 added, 1 markets in cache\n",
      "INFO:betfairlightweight.streaming.stream:[MarketStream: 0]: 1.177442850 added, 1 markets in cache\n",
      "INFO:betfairlightweight.streaming.stream:[MarketStream: 0]: 1.177442850 added, 1 markets in cache\n",
      "INFO:betfairlightweight.streaming.stream:[MarketStream: 0]: 1.177442850 added, 1 markets in cache\n",
      "INFO:betfairlightweight.streaming.stream:[MarketStream: 0]: 1.177442850 added, 1 markets in cache\n",
      "INFO:betfairlightweight.streaming.stream:[MarketStream: 0]: 1.177442850 added, 1 markets in cache\n",
      "INFO:betfairlightweight.streaming.stream:[MarketStream: 0]: 1.177442850 added, 1 markets in cache\n",
      "INFO:betfairlightweight.streaming.stream:[MarketStream: 0]: 1.177442850 added, 1 markets in cache\n",
      "INFO:betfairlightweight.streaming.stream:[MarketStream: 0]: 1.177442850 added, 1 markets in cache\n",
      "INFO:betfairlightweight.streaming.stream:[MarketStream: 0]: 1.177442850 added, 1 markets in cache\n",
      "INFO:betfairlightweight.streaming.stream:[MarketStream: 0]: 1.177442850 added, 1 markets in cache\n",
      "INFO:betfairlightweight.streaming.stream:[MarketStream: 0]: 1.177442850 added, 1 markets in cache\n",
      "INFO:betfairlightweight.streaming.stream:[MarketStream: 0]: 1.177442850 added, 1 markets in cache\n",
      "INFO:betfairlightweight.streaming.stream:[MarketStream: 0]: 1.177442850 added, 1 markets in cache\n",
      "INFO:betfairlightweight.streaming.stream:[MarketStream: 0]: 1.177442850 added, 1 markets in cache\n",
      "INFO:betfairlightweight.streaming.stream:[MarketStream: 0]: 1.177442850 added, 1 markets in cache\n",
      "INFO:betfairlightweight.streaming.stream:[MarketStream: 0]: 1.177442850 added, 1 markets in cache\n",
      "INFO:betfairlightweight.streaming.stream:[MarketStream: 0]: 1.177442850 added, 1 markets in cache\n",
      "INFO:betfairlightweight.streaming.stream:[MarketStream: 0]: 1.177442850 added, 1 markets in cache\n",
      "INFO:betfairlightweight.streaming.stream:[MarketStream: 0]: 1.177442850 added, 1 markets in cache\n",
      "INFO:betfairlightweight.streaming.stream:[MarketStream: 0]: 1.177442850 added, 1 markets in cache\n",
      "INFO:betfairlightweight.streaming.stream:[MarketStream: 0]: 1.177442850 added, 1 markets in cache\n",
      "INFO:betfairlightweight.streaming.stream:[MarketStream: 0]: 1.177442850 added, 1 markets in cache\n",
      "INFO:betfairlightweight.streaming.stream:[MarketStream: 0]: 1.177442850 added, 1 markets in cache\n",
      "INFO:betfairlightweight.streaming.stream:[MarketStream: 0]: 1.177442850 added, 1 markets in cache\n",
      "INFO:betfairlightweight.streaming.stream:[MarketStream: 0]: 1.177442850 added, 1 markets in cache\n"
     ]
    },
    {
     "name": "stdout",
     "output_type": "stream",
     "text": [
      "didnt find postplay results?\n",
      "didnt find postplay results?\n"
     ]
    },
    {
     "name": "stderr",
     "output_type": "stream",
     "text": [
      "INFO:betfairlightweight.streaming.stream:[MarketStream: 0]: 1.177442850 added, 1 markets in cache\n",
      "INFO:betfairlightweight.streaming.stream:[MarketStream: 0]: 1.177442850 added, 1 markets in cache\n",
      "INFO:betfairlightweight.streaming.listener:[Register: 0]: marketSubscription\n",
      "WARNING:betfairlightweight.streaming.listener:[Listener: 0]: stream already registered, replacing data\n",
      "INFO:betfairlightweight.streaming.stream:[MarketStream: 0]: \"MarketStream\" created\n",
      "INFO:betfairlightweight.streaming.stream:[MarketStream: 0]: 1.177477339 added, 1 markets in cache\n",
      "INFO:betfairlightweight.streaming.stream:[MarketStream: 0]: 1.177477339 added, 1 markets in cache\n",
      "INFO:betfairlightweight.streaming.stream:[MarketStream: 0]: 1.177477339 added, 1 markets in cache\n",
      "INFO:betfairlightweight.streaming.stream:[MarketStream: 0]: 1.177477339 added, 1 markets in cache\n",
      "INFO:betfairlightweight.streaming.stream:[MarketStream: 0]: 1.177477339 added, 1 markets in cache\n",
      "INFO:betfairlightweight.streaming.stream:[MarketStream: 0]: 1.177477339 added, 1 markets in cache\n",
      "INFO:betfairlightweight.streaming.stream:[MarketStream: 0]: 1.177477339 added, 1 markets in cache\n",
      "INFO:betfairlightweight.streaming.stream:[MarketStream: 0]: 1.177477339 added, 1 markets in cache\n"
     ]
    },
    {
     "name": "stdout",
     "output_type": "stream",
     "text": [
      "didnt find postplay results?\n"
     ]
    },
    {
     "name": "stderr",
     "output_type": "stream",
     "text": [
      "INFO:betfairlightweight.streaming.listener:[Register: 0]: marketSubscription\n",
      "WARNING:betfairlightweight.streaming.listener:[Listener: 0]: stream already registered, replacing data\n",
      "INFO:betfairlightweight.streaming.stream:[MarketStream: 0]: \"MarketStream\" created\n",
      "INFO:betfairlightweight.streaming.stream:[MarketStream: 0]: 1.177477338 added, 1 markets in cache\n",
      "INFO:betfairlightweight.streaming.stream:[MarketStream: 0]: 1.177477338 added, 1 markets in cache\n",
      "INFO:betfairlightweight.streaming.stream:[MarketStream: 0]: 1.177477338 added, 1 markets in cache\n",
      "INFO:betfairlightweight.streaming.stream:[MarketStream: 0]: 1.177477338 added, 1 markets in cache\n",
      "INFO:betfairlightweight.streaming.stream:[MarketStream: 0]: 1.177477338 added, 1 markets in cache\n",
      "INFO:betfairlightweight.streaming.listener:[Register: 0]: marketSubscription\n",
      "WARNING:betfairlightweight.streaming.listener:[Listener: 0]: stream already registered, replacing data\n",
      "INFO:betfairlightweight.streaming.stream:[MarketStream: 0]: \"MarketStream\" created\n",
      "INFO:betfairlightweight.streaming.stream:[MarketStream: 0]: 1.177477769 added, 1 markets in cache\n",
      "INFO:betfairlightweight.streaming.listener:[Register: 0]: marketSubscription\n",
      "WARNING:betfairlightweight.streaming.listener:[Listener: 0]: stream already registered, replacing data\n",
      "INFO:betfairlightweight.streaming.stream:[MarketStream: 0]: \"MarketStream\" created\n",
      "INFO:betfairlightweight.streaming.stream:[MarketStream: 0]: 1.177444778 added, 1 markets in cache\n",
      "INFO:betfairlightweight.streaming.stream:[MarketStream: 0]: 1.177444778 added, 1 markets in cache\n",
      "INFO:betfairlightweight.streaming.stream:[MarketStream: 0]: 1.177444778 added, 1 markets in cache\n",
      "INFO:betfairlightweight.streaming.stream:[MarketStream: 0]: 1.177444778 added, 1 markets in cache\n",
      "INFO:betfairlightweight.streaming.stream:[MarketStream: 0]: 1.177444778 added, 1 markets in cache\n",
      "INFO:betfairlightweight.streaming.stream:[MarketStream: 0]: 1.177444778 added, 1 markets in cache\n",
      "INFO:betfairlightweight.streaming.stream:[MarketStream: 0]: 1.177444778 added, 1 markets in cache\n",
      "INFO:betfairlightweight.streaming.stream:[MarketStream: 0]: 1.177444778 added, 1 markets in cache\n",
      "INFO:betfairlightweight.streaming.stream:[MarketStream: 0]: 1.177444778 added, 1 markets in cache\n",
      "INFO:betfairlightweight.streaming.stream:[MarketStream: 0]: 1.177444778 added, 1 markets in cache\n",
      "INFO:betfairlightweight.streaming.stream:[MarketStream: 0]: 1.177444778 added, 1 markets in cache\n",
      "INFO:betfairlightweight.streaming.stream:[MarketStream: 0]: 1.177444778 added, 1 markets in cache\n",
      "INFO:betfairlightweight.streaming.stream:[MarketStream: 0]: 1.177444778 added, 1 markets in cache\n",
      "INFO:betfairlightweight.streaming.stream:[MarketStream: 0]: 1.177444778 added, 1 markets in cache\n",
      "INFO:betfairlightweight.streaming.stream:[MarketStream: 0]: 1.177444778 added, 1 markets in cache\n",
      "INFO:betfairlightweight.streaming.stream:[MarketStream: 0]: 1.177444778 added, 1 markets in cache\n",
      "INFO:betfairlightweight.streaming.stream:[MarketStream: 0]: 1.177444778 added, 1 markets in cache\n",
      "INFO:betfairlightweight.streaming.stream:[MarketStream: 0]: 1.177444778 added, 1 markets in cache\n",
      "INFO:betfairlightweight.streaming.stream:[MarketStream: 0]: 1.177444778 added, 1 markets in cache\n"
     ]
    },
    {
     "name": "stdout",
     "output_type": "stream",
     "text": [
      "didnt find postplay results?\n",
      "didnt find postplay results?\n"
     ]
    },
    {
     "name": "stderr",
     "output_type": "stream",
     "text": [
      "INFO:betfairlightweight.streaming.stream:[MarketStream: 0]: 1.177444778 added, 1 markets in cache\n",
      "INFO:betfairlightweight.streaming.stream:[MarketStream: 0]: 1.177444778 added, 1 markets in cache\n",
      "INFO:betfairlightweight.streaming.stream:[MarketStream: 0]: 1.177444778 added, 1 markets in cache\n",
      "INFO:betfairlightweight.streaming.listener:[Register: 0]: marketSubscription\n",
      "WARNING:betfairlightweight.streaming.listener:[Listener: 0]: stream already registered, replacing data\n",
      "INFO:betfairlightweight.streaming.stream:[MarketStream: 0]: \"MarketStream\" created\n",
      "INFO:betfairlightweight.streaming.stream:[MarketStream: 0]: 1.177444777 added, 1 markets in cache\n",
      "INFO:betfairlightweight.streaming.stream:[MarketStream: 0]: 1.177444777 added, 1 markets in cache\n",
      "INFO:betfairlightweight.streaming.stream:[MarketStream: 0]: 1.177444777 added, 1 markets in cache\n",
      "INFO:betfairlightweight.streaming.stream:[MarketStream: 0]: 1.177444777 added, 1 markets in cache\n",
      "INFO:betfairlightweight.streaming.stream:[MarketStream: 0]: 1.177444777 added, 1 markets in cache\n",
      "INFO:betfairlightweight.streaming.stream:[MarketStream: 0]: 1.177444777 added, 1 markets in cache\n",
      "INFO:betfairlightweight.streaming.stream:[MarketStream: 0]: 1.177444777 added, 1 markets in cache\n",
      "INFO:betfairlightweight.streaming.stream:[MarketStream: 0]: 1.177444777 added, 1 markets in cache\n",
      "INFO:betfairlightweight.streaming.stream:[MarketStream: 0]: 1.177444777 added, 1 markets in cache\n",
      "INFO:betfairlightweight.streaming.stream:[MarketStream: 0]: 1.177444777 added, 1 markets in cache\n",
      "INFO:betfairlightweight.streaming.stream:[MarketStream: 0]: 1.177444777 added, 1 markets in cache\n",
      "INFO:betfairlightweight.streaming.stream:[MarketStream: 0]: 1.177444777 added, 1 markets in cache\n",
      "INFO:betfairlightweight.streaming.stream:[MarketStream: 0]: 1.177444777 added, 1 markets in cache\n",
      "INFO:betfairlightweight.streaming.stream:[MarketStream: 0]: 1.177444777 added, 1 markets in cache\n",
      "INFO:betfairlightweight.streaming.stream:[MarketStream: 0]: 1.177444777 added, 1 markets in cache\n",
      "INFO:betfairlightweight.streaming.stream:[MarketStream: 0]: 1.177444777 added, 1 markets in cache\n",
      "INFO:betfairlightweight.streaming.stream:[MarketStream: 0]: 1.177444777 added, 1 markets in cache\n",
      "INFO:betfairlightweight.streaming.stream:[MarketStream: 0]: 1.177444777 added, 1 markets in cache\n",
      "INFO:betfairlightweight.streaming.stream:[MarketStream: 0]: 1.177444777 added, 1 markets in cache\n",
      "INFO:betfairlightweight.streaming.stream:[MarketStream: 0]: 1.177444777 added, 1 markets in cache\n",
      "INFO:betfairlightweight.streaming.stream:[MarketStream: 0]: 1.177444777 added, 1 markets in cache\n",
      "INFO:betfairlightweight.streaming.stream:[MarketStream: 0]: 1.177444777 added, 1 markets in cache\n",
      "INFO:betfairlightweight.streaming.stream:[MarketStream: 0]: 1.177444777 added, 1 markets in cache\n",
      "INFO:betfairlightweight.streaming.stream:[MarketStream: 0]: 1.177444777 added, 1 markets in cache\n",
      "INFO:betfairlightweight.streaming.stream:[MarketStream: 0]: 1.177444777 added, 1 markets in cache\n",
      "INFO:betfairlightweight.streaming.stream:[MarketStream: 0]: 1.177444777 added, 1 markets in cache\n",
      "INFO:betfairlightweight.streaming.stream:[MarketStream: 0]: 1.177444777 added, 1 markets in cache\n",
      "INFO:betfairlightweight.streaming.stream:[MarketStream: 0]: 1.177444777 added, 1 markets in cache\n",
      "INFO:betfairlightweight.streaming.stream:[MarketStream: 0]: 1.177444777 added, 1 markets in cache\n",
      "INFO:betfairlightweight.streaming.stream:[MarketStream: 0]: 1.177444777 added, 1 markets in cache\n",
      "INFO:betfairlightweight.streaming.listener:[Register: 0]: marketSubscription\n",
      "WARNING:betfairlightweight.streaming.listener:[Listener: 0]: stream already registered, replacing data\n",
      "INFO:betfairlightweight.streaming.stream:[MarketStream: 0]: \"MarketStream\" created\n",
      "INFO:betfairlightweight.streaming.stream:[MarketStream: 0]: 1.177444839 added, 1 markets in cache\n",
      "INFO:betfairlightweight.streaming.stream:[MarketStream: 0]: 1.177444839 added, 1 markets in cache\n",
      "INFO:betfairlightweight.streaming.stream:[MarketStream: 0]: 1.177444839 added, 1 markets in cache\n",
      "INFO:betfairlightweight.streaming.stream:[MarketStream: 0]: 1.177444839 added, 1 markets in cache\n",
      "INFO:betfairlightweight.streaming.stream:[MarketStream: 0]: 1.177444839 added, 1 markets in cache\n",
      "INFO:betfairlightweight.streaming.stream:[MarketStream: 0]: 1.177444839 added, 1 markets in cache\n",
      "INFO:betfairlightweight.streaming.stream:[MarketStream: 0]: 1.177444839 added, 1 markets in cache\n",
      "INFO:betfairlightweight.streaming.stream:[MarketStream: 0]: 1.177444839 added, 1 markets in cache\n",
      "INFO:betfairlightweight.streaming.stream:[MarketStream: 0]: 1.177444839 added, 1 markets in cache\n",
      "INFO:betfairlightweight.streaming.stream:[MarketStream: 0]: 1.177444839 added, 1 markets in cache\n"
     ]
    },
    {
     "name": "stdout",
     "output_type": "stream",
     "text": [
      "didnt find postplay results?\n"
     ]
    },
    {
     "name": "stderr",
     "output_type": "stream",
     "text": [
      "INFO:betfairlightweight.streaming.stream:[MarketStream: 0]: 1.177444839 added, 1 markets in cache\n",
      "INFO:betfairlightweight.streaming.stream:[MarketStream: 0]: 1.177444839 added, 1 markets in cache\n",
      "INFO:betfairlightweight.streaming.stream:[MarketStream: 0]: 1.177444839 added, 1 markets in cache\n",
      "INFO:betfairlightweight.streaming.stream:[MarketStream: 0]: 1.177444839 added, 1 markets in cache\n",
      "INFO:betfairlightweight.streaming.stream:[MarketStream: 0]: 1.177444839 added, 1 markets in cache\n",
      "INFO:betfairlightweight.streaming.stream:[MarketStream: 0]: 1.177444839 added, 1 markets in cache\n",
      "INFO:betfairlightweight.streaming.stream:[MarketStream: 0]: 1.177444839 added, 1 markets in cache\n",
      "INFO:betfairlightweight.streaming.stream:[MarketStream: 0]: 1.177444839 added, 1 markets in cache\n",
      "INFO:betfairlightweight.streaming.stream:[MarketStream: 0]: 1.177444839 added, 1 markets in cache\n",
      "INFO:betfairlightweight.streaming.stream:[MarketStream: 0]: 1.177444839 added, 1 markets in cache\n",
      "INFO:betfairlightweight.streaming.stream:[MarketStream: 0]: 1.177444839 added, 1 markets in cache\n",
      "INFO:betfairlightweight.streaming.stream:[MarketStream: 0]: 1.177444839 added, 1 markets in cache\n",
      "INFO:betfairlightweight.streaming.stream:[MarketStream: 0]: 1.177444839 added, 1 markets in cache\n",
      "INFO:betfairlightweight.streaming.stream:[MarketStream: 0]: 1.177444839 added, 1 markets in cache\n",
      "INFO:betfairlightweight.streaming.stream:[MarketStream: 0]: 1.177444839 added, 1 markets in cache\n",
      "INFO:betfairlightweight.streaming.listener:[Register: 0]: marketSubscription\n",
      "WARNING:betfairlightweight.streaming.listener:[Listener: 0]: stream already registered, replacing data\n",
      "INFO:betfairlightweight.streaming.stream:[MarketStream: 0]: \"MarketStream\" created\n",
      "INFO:betfairlightweight.streaming.stream:[MarketStream: 0]: 1.177444840 added, 1 markets in cache\n",
      "INFO:betfairlightweight.streaming.stream:[MarketStream: 0]: 1.177444840 added, 1 markets in cache\n",
      "INFO:betfairlightweight.streaming.stream:[MarketStream: 0]: 1.177444840 added, 1 markets in cache\n",
      "INFO:betfairlightweight.streaming.stream:[MarketStream: 0]: 1.177444840 added, 1 markets in cache\n",
      "INFO:betfairlightweight.streaming.stream:[MarketStream: 0]: 1.177444840 added, 1 markets in cache\n",
      "INFO:betfairlightweight.streaming.stream:[MarketStream: 0]: 1.177444840 added, 1 markets in cache\n",
      "INFO:betfairlightweight.streaming.stream:[MarketStream: 0]: 1.177444840 added, 1 markets in cache\n",
      "INFO:betfairlightweight.streaming.stream:[MarketStream: 0]: 1.177444840 added, 1 markets in cache\n",
      "INFO:betfairlightweight.streaming.stream:[MarketStream: 0]: 1.177444840 added, 1 markets in cache\n",
      "INFO:betfairlightweight.streaming.stream:[MarketStream: 0]: 1.177444840 added, 1 markets in cache\n",
      "INFO:betfairlightweight.streaming.stream:[MarketStream: 0]: 1.177444840 added, 1 markets in cache\n",
      "INFO:betfairlightweight.streaming.stream:[MarketStream: 0]: 1.177444840 added, 1 markets in cache\n",
      "INFO:betfairlightweight.streaming.stream:[MarketStream: 0]: 1.177444840 added, 1 markets in cache\n",
      "INFO:betfairlightweight.streaming.stream:[MarketStream: 0]: 1.177444840 added, 1 markets in cache\n",
      "INFO:betfairlightweight.streaming.stream:[MarketStream: 0]: 1.177444840 added, 1 markets in cache\n",
      "INFO:betfairlightweight.streaming.stream:[MarketStream: 0]: 1.177444840 added, 1 markets in cache\n",
      "INFO:betfairlightweight.streaming.stream:[MarketStream: 0]: 1.177444840 added, 1 markets in cache\n",
      "INFO:betfairlightweight.streaming.stream:[MarketStream: 0]: 1.177444840 added, 1 markets in cache\n",
      "INFO:betfairlightweight.streaming.stream:[MarketStream: 0]: 1.177444840 added, 1 markets in cache\n",
      "INFO:betfairlightweight.streaming.stream:[MarketStream: 0]: 1.177444840 added, 1 markets in cache\n",
      "INFO:betfairlightweight.streaming.stream:[MarketStream: 0]: 1.177444840 added, 1 markets in cache\n",
      "INFO:betfairlightweight.streaming.stream:[MarketStream: 0]: 1.177444840 added, 1 markets in cache\n",
      "INFO:betfairlightweight.streaming.stream:[MarketStream: 0]: 1.177444840 added, 1 markets in cache\n",
      "INFO:betfairlightweight.streaming.stream:[MarketStream: 0]: 1.177444840 added, 1 markets in cache\n",
      "INFO:betfairlightweight.streaming.stream:[MarketStream: 0]: 1.177444840 added, 1 markets in cache\n",
      "INFO:betfairlightweight.streaming.stream:[MarketStream: 0]: 1.177444840 added, 1 markets in cache\n",
      "INFO:betfairlightweight.streaming.stream:[MarketStream: 0]: 1.177444840 added, 1 markets in cache\n",
      "INFO:betfairlightweight.streaming.stream:[MarketStream: 0]: 1.177444840 added, 1 markets in cache\n",
      "INFO:betfairlightweight.streaming.stream:[MarketStream: 0]: 1.177444840 added, 1 markets in cache\n",
      "INFO:betfairlightweight.streaming.stream:[MarketStream: 0]: 1.177444840 added, 1 markets in cache\n",
      "INFO:betfairlightweight.streaming.stream:[MarketStream: 0]: 1.177444840 added, 1 markets in cache\n",
      "INFO:betfairlightweight.streaming.listener:[Register: 0]: marketSubscription\n",
      "WARNING:betfairlightweight.streaming.listener:[Listener: 0]: stream already registered, replacing data\n",
      "INFO:betfairlightweight.streaming.stream:[MarketStream: 0]: \"MarketStream\" created\n",
      "INFO:betfairlightweight.streaming.stream:[MarketStream: 0]: 1.177444857 added, 1 markets in cache\n",
      "INFO:betfairlightweight.streaming.listener:[Register: 0]: marketSubscription\n",
      "WARNING:betfairlightweight.streaming.listener:[Listener: 0]: stream already registered, replacing data\n",
      "INFO:betfairlightweight.streaming.stream:[MarketStream: 0]: \"MarketStream\" created\n",
      "INFO:betfairlightweight.streaming.stream:[MarketStream: 0]: 1.177480827 added, 1 markets in cache\n",
      "INFO:betfairlightweight.streaming.stream:[MarketStream: 0]: 1.177480827 added, 1 markets in cache\n",
      "INFO:betfairlightweight.streaming.stream:[MarketStream: 0]: 1.177480827 added, 1 markets in cache\n",
      "INFO:betfairlightweight.streaming.stream:[MarketStream: 0]: 1.177480827 added, 1 markets in cache\n",
      "INFO:betfairlightweight.streaming.stream:[MarketStream: 0]: 1.177480827 added, 1 markets in cache\n",
      "INFO:betfairlightweight.streaming.stream:[MarketStream: 0]: 1.177480827 added, 1 markets in cache\n",
      "INFO:betfairlightweight.streaming.stream:[MarketStream: 0]: 1.177480827 added, 1 markets in cache\n",
      "INFO:betfairlightweight.streaming.stream:[MarketStream: 0]: 1.177480827 added, 1 markets in cache\n"
     ]
    },
    {
     "name": "stdout",
     "output_type": "stream",
     "text": [
      "didnt find postplay results?\n",
      "didnt find postplay results?\n"
     ]
    },
    {
     "name": "stderr",
     "output_type": "stream",
     "text": [
      "INFO:betfairlightweight.streaming.listener:[Register: 0]: marketSubscription\n",
      "WARNING:betfairlightweight.streaming.listener:[Listener: 0]: stream already registered, replacing data\n",
      "INFO:betfairlightweight.streaming.stream:[MarketStream: 0]: \"MarketStream\" created\n",
      "INFO:betfairlightweight.streaming.stream:[MarketStream: 0]: 1.177480828 added, 1 markets in cache\n",
      "INFO:betfairlightweight.streaming.stream:[MarketStream: 0]: 1.177480828 added, 1 markets in cache\n",
      "INFO:betfairlightweight.streaming.stream:[MarketStream: 0]: 1.177480828 added, 1 markets in cache\n",
      "INFO:betfairlightweight.streaming.stream:[MarketStream: 0]: 1.177480828 added, 1 markets in cache\n",
      "INFO:betfairlightweight.streaming.stream:[MarketStream: 0]: 1.177480828 added, 1 markets in cache\n",
      "INFO:betfairlightweight.streaming.stream:[MarketStream: 0]: 1.177480828 added, 1 markets in cache\n",
      "INFO:betfairlightweight.streaming.stream:[MarketStream: 0]: 1.177480828 added, 1 markets in cache\n"
     ]
    },
    {
     "name": "stdout",
     "output_type": "stream",
     "text": [
      "didnt find postplay results?\n"
     ]
    },
    {
     "name": "stderr",
     "output_type": "stream",
     "text": [
      "INFO:betfairlightweight.streaming.listener:[Register: 0]: marketSubscription\n",
      "WARNING:betfairlightweight.streaming.listener:[Listener: 0]: stream already registered, replacing data\n",
      "INFO:betfairlightweight.streaming.stream:[MarketStream: 0]: \"MarketStream\" created\n",
      "INFO:betfairlightweight.streaming.stream:[MarketStream: 0]: 1.177477779 added, 1 markets in cache\n",
      "INFO:betfairlightweight.streaming.stream:[MarketStream: 0]: 1.177477779 added, 1 markets in cache\n",
      "INFO:betfairlightweight.streaming.stream:[MarketStream: 0]: 1.177477779 added, 1 markets in cache\n",
      "INFO:betfairlightweight.streaming.stream:[MarketStream: 0]: 1.177477779 added, 1 markets in cache\n",
      "INFO:betfairlightweight.streaming.stream:[MarketStream: 0]: 1.177477779 added, 1 markets in cache\n",
      "INFO:betfairlightweight.streaming.stream:[MarketStream: 0]: 1.177477779 added, 1 markets in cache\n",
      "INFO:betfairlightweight.streaming.stream:[MarketStream: 0]: 1.177477779 added, 1 markets in cache\n"
     ]
    },
    {
     "name": "stdout",
     "output_type": "stream",
     "text": [
      "didnt find postplay results?\n"
     ]
    },
    {
     "name": "stderr",
     "output_type": "stream",
     "text": [
      "INFO:betfairlightweight.streaming.listener:[Register: 0]: marketSubscription\n",
      "WARNING:betfairlightweight.streaming.listener:[Listener: 0]: stream already registered, replacing data\n",
      "INFO:betfairlightweight.streaming.stream:[MarketStream: 0]: \"MarketStream\" created\n",
      "INFO:betfairlightweight.streaming.stream:[MarketStream: 0]: 1.177444930 added, 1 markets in cache\n",
      "INFO:betfairlightweight.streaming.stream:[MarketStream: 0]: 1.177444930 added, 1 markets in cache\n",
      "INFO:betfairlightweight.streaming.stream:[MarketStream: 0]: 1.177444930 added, 1 markets in cache\n",
      "INFO:betfairlightweight.streaming.stream:[MarketStream: 0]: 1.177444930 added, 1 markets in cache\n",
      "INFO:betfairlightweight.streaming.stream:[MarketStream: 0]: 1.177444930 added, 1 markets in cache\n",
      "INFO:betfairlightweight.streaming.stream:[MarketStream: 0]: 1.177444930 added, 1 markets in cache\n",
      "INFO:betfairlightweight.streaming.stream:[MarketStream: 0]: 1.177444930 added, 1 markets in cache\n",
      "INFO:betfairlightweight.streaming.stream:[MarketStream: 0]: 1.177444930 added, 1 markets in cache\n",
      "INFO:betfairlightweight.streaming.stream:[MarketStream: 0]: 1.177444930 added, 1 markets in cache\n",
      "INFO:betfairlightweight.streaming.stream:[MarketStream: 0]: 1.177444930 added, 1 markets in cache\n",
      "INFO:betfairlightweight.streaming.stream:[MarketStream: 0]: 1.177444930 added, 1 markets in cache\n",
      "INFO:betfairlightweight.streaming.stream:[MarketStream: 0]: 1.177444930 added, 1 markets in cache\n",
      "INFO:betfairlightweight.streaming.stream:[MarketStream: 0]: 1.177444930 added, 1 markets in cache\n",
      "INFO:betfairlightweight.streaming.stream:[MarketStream: 0]: 1.177444930 added, 1 markets in cache\n",
      "INFO:betfairlightweight.streaming.stream:[MarketStream: 0]: 1.177444930 added, 1 markets in cache\n",
      "INFO:betfairlightweight.streaming.stream:[MarketStream: 0]: 1.177444930 added, 1 markets in cache\n",
      "INFO:betfairlightweight.streaming.stream:[MarketStream: 0]: 1.177444930 added, 1 markets in cache\n",
      "INFO:betfairlightweight.streaming.stream:[MarketStream: 0]: 1.177444930 added, 1 markets in cache\n",
      "INFO:betfairlightweight.streaming.stream:[MarketStream: 0]: 1.177444930 added, 1 markets in cache\n",
      "INFO:betfairlightweight.streaming.stream:[MarketStream: 0]: 1.177444930 added, 1 markets in cache\n",
      "INFO:betfairlightweight.streaming.stream:[MarketStream: 0]: 1.177444930 added, 1 markets in cache\n",
      "INFO:betfairlightweight.streaming.stream:[MarketStream: 0]: 1.177444930 added, 1 markets in cache\n",
      "INFO:betfairlightweight.streaming.listener:[Register: 0]: marketSubscription\n",
      "WARNING:betfairlightweight.streaming.listener:[Listener: 0]: stream already registered, replacing data\n",
      "INFO:betfairlightweight.streaming.stream:[MarketStream: 0]: \"MarketStream\" created\n",
      "INFO:betfairlightweight.streaming.stream:[MarketStream: 0]: 1.177447070 added, 1 markets in cache\n",
      "INFO:betfairlightweight.streaming.listener:[Register: 0]: marketSubscription\n",
      "WARNING:betfairlightweight.streaming.listener:[Listener: 0]: stream already registered, replacing data\n",
      "INFO:betfairlightweight.streaming.stream:[MarketStream: 0]: \"MarketStream\" created\n",
      "INFO:betfairlightweight.streaming.stream:[MarketStream: 0]: 1.177444929 added, 1 markets in cache\n",
      "INFO:betfairlightweight.streaming.stream:[MarketStream: 0]: 1.177444929 added, 1 markets in cache\n",
      "INFO:betfairlightweight.streaming.stream:[MarketStream: 0]: 1.177444929 added, 1 markets in cache\n",
      "INFO:betfairlightweight.streaming.stream:[MarketStream: 0]: 1.177444929 added, 1 markets in cache\n",
      "INFO:betfairlightweight.streaming.stream:[MarketStream: 0]: 1.177444929 added, 1 markets in cache\n",
      "INFO:betfairlightweight.streaming.stream:[MarketStream: 0]: 1.177444929 added, 1 markets in cache\n",
      "INFO:betfairlightweight.streaming.stream:[MarketStream: 0]: 1.177444929 added, 1 markets in cache\n",
      "INFO:betfairlightweight.streaming.stream:[MarketStream: 0]: 1.177444929 added, 1 markets in cache\n",
      "INFO:betfairlightweight.streaming.stream:[MarketStream: 0]: 1.177444929 added, 1 markets in cache\n",
      "INFO:betfairlightweight.streaming.stream:[MarketStream: 0]: 1.177444929 added, 1 markets in cache\n",
      "INFO:betfairlightweight.streaming.stream:[MarketStream: 0]: 1.177444929 added, 1 markets in cache\n",
      "INFO:betfairlightweight.streaming.stream:[MarketStream: 0]: 1.177444929 added, 1 markets in cache\n",
      "INFO:betfairlightweight.streaming.stream:[MarketStream: 0]: 1.177444929 added, 1 markets in cache\n",
      "INFO:betfairlightweight.streaming.stream:[MarketStream: 0]: 1.177444929 added, 1 markets in cache\n",
      "INFO:betfairlightweight.streaming.stream:[MarketStream: 0]: 1.177444929 added, 1 markets in cache\n",
      "INFO:betfairlightweight.streaming.stream:[MarketStream: 0]: 1.177444929 added, 1 markets in cache\n",
      "INFO:betfairlightweight.streaming.stream:[MarketStream: 0]: 1.177444929 added, 1 markets in cache\n",
      "INFO:betfairlightweight.streaming.stream:[MarketStream: 0]: 1.177444929 added, 1 markets in cache\n",
      "INFO:betfairlightweight.streaming.stream:[MarketStream: 0]: 1.177444929 added, 1 markets in cache\n",
      "INFO:betfairlightweight.streaming.stream:[MarketStream: 0]: 1.177444929 added, 1 markets in cache\n",
      "INFO:betfairlightweight.streaming.stream:[MarketStream: 0]: 1.177444929 added, 1 markets in cache\n",
      "INFO:betfairlightweight.streaming.stream:[MarketStream: 0]: 1.177444929 added, 1 markets in cache\n",
      "INFO:betfairlightweight.streaming.stream:[MarketStream: 0]: 1.177444929 added, 1 markets in cache\n",
      "INFO:betfairlightweight.streaming.stream:[MarketStream: 0]: 1.177444929 added, 1 markets in cache\n",
      "INFO:betfairlightweight.streaming.stream:[MarketStream: 0]: 1.177444929 added, 1 markets in cache\n",
      "INFO:betfairlightweight.streaming.stream:[MarketStream: 0]: 1.177444929 added, 1 markets in cache\n",
      "INFO:betfairlightweight.streaming.stream:[MarketStream: 0]: 1.177444929 added, 1 markets in cache\n",
      "INFO:betfairlightweight.streaming.stream:[MarketStream: 0]: 1.177444929 added, 1 markets in cache\n",
      "INFO:betfairlightweight.streaming.stream:[MarketStream: 0]: 1.177444929 added, 1 markets in cache\n",
      "INFO:betfairlightweight.streaming.stream:[MarketStream: 0]: 1.177444929 added, 1 markets in cache\n",
      "INFO:betfairlightweight.streaming.stream:[MarketStream: 0]: 1.177444929 added, 1 markets in cache\n",
      "INFO:betfairlightweight.streaming.stream:[MarketStream: 0]: 1.177444929 added, 1 markets in cache\n"
     ]
    },
    {
     "name": "stdout",
     "output_type": "stream",
     "text": [
      "didnt find postplay results?\n"
     ]
    },
    {
     "name": "stderr",
     "output_type": "stream",
     "text": [
      "INFO:betfairlightweight.streaming.listener:[Register: 0]: marketSubscription\n",
      "WARNING:betfairlightweight.streaming.listener:[Listener: 0]: stream already registered, replacing data\n",
      "INFO:betfairlightweight.streaming.stream:[MarketStream: 0]: \"MarketStream\" created\n",
      "INFO:betfairlightweight.streaming.stream:[MarketStream: 0]: 1.177477778 added, 1 markets in cache\n",
      "INFO:betfairlightweight.streaming.stream:[MarketStream: 0]: 1.177477778 added, 1 markets in cache\n",
      "INFO:betfairlightweight.streaming.stream:[MarketStream: 0]: 1.177477778 added, 1 markets in cache\n",
      "INFO:betfairlightweight.streaming.stream:[MarketStream: 0]: 1.177477778 added, 1 markets in cache\n",
      "INFO:betfairlightweight.streaming.stream:[MarketStream: 0]: 1.177477778 added, 1 markets in cache\n",
      "INFO:betfairlightweight.streaming.stream:[MarketStream: 0]: 1.177477778 added, 1 markets in cache\n",
      "INFO:betfairlightweight.streaming.stream:[MarketStream: 0]: 1.177477778 added, 1 markets in cache\n",
      "INFO:betfairlightweight.streaming.stream:[MarketStream: 0]: 1.177477778 added, 1 markets in cache\n",
      "INFO:betfairlightweight.streaming.stream:[MarketStream: 0]: 1.177477778 added, 1 markets in cache\n",
      "INFO:betfairlightweight.streaming.stream:[MarketStream: 0]: 1.177477778 added, 1 markets in cache\n"
     ]
    },
    {
     "name": "stdout",
     "output_type": "stream",
     "text": [
      "didnt find postplay results?\n"
     ]
    },
    {
     "name": "stderr",
     "output_type": "stream",
     "text": [
      "INFO:betfairlightweight.streaming.listener:[Register: 0]: marketSubscription\n",
      "WARNING:betfairlightweight.streaming.listener:[Listener: 0]: stream already registered, replacing data\n",
      "INFO:betfairlightweight.streaming.stream:[MarketStream: 0]: \"MarketStream\" created\n",
      "INFO:betfairlightweight.streaming.stream:[MarketStream: 0]: 1.177479113 added, 1 markets in cache\n",
      "INFO:betfairlightweight.streaming.stream:[MarketStream: 0]: 1.177479113 added, 1 markets in cache\n",
      "INFO:betfairlightweight.streaming.stream:[MarketStream: 0]: 1.177479113 added, 1 markets in cache\n",
      "INFO:betfairlightweight.streaming.stream:[MarketStream: 0]: 1.177479113 added, 1 markets in cache\n",
      "INFO:betfairlightweight.streaming.stream:[MarketStream: 0]: 1.177479113 added, 1 markets in cache\n",
      "INFO:betfairlightweight.streaming.stream:[MarketStream: 0]: 1.177479113 added, 1 markets in cache\n",
      "INFO:betfairlightweight.streaming.stream:[MarketStream: 0]: 1.177479113 added, 1 markets in cache\n"
     ]
    },
    {
     "name": "stdout",
     "output_type": "stream",
     "text": [
      "didnt find postplay results?\n"
     ]
    },
    {
     "ename": "KeyboardInterrupt",
     "evalue": "",
     "output_type": "error",
     "traceback": [
      "\u001b[1;31m---------------------------------------------------------------------------\u001b[0m",
      "\u001b[1;31mKeyboardInterrupt\u001b[0m                         Traceback (most recent call last)",
      "\u001b[1;32m<ipython-input-16-a30a05ad5156>\u001b[0m in \u001b[0;36m<module>\u001b[1;34m\u001b[0m\n\u001b[0;32m     23\u001b[0m \u001b[1;33m\u001b[0m\u001b[0m\n\u001b[0;32m     24\u001b[0m             \u001b[0mgen\u001b[0m \u001b[1;33m=\u001b[0m \u001b[0mstream\u001b[0m\u001b[1;33m.\u001b[0m\u001b[0mget_generator\u001b[0m\u001b[1;33m(\u001b[0m\u001b[1;33m)\u001b[0m\u001b[1;33m\u001b[0m\u001b[1;33m\u001b[0m\u001b[0m\n\u001b[1;32m---> 25\u001b[1;33m             \u001b[1;32mfor\u001b[0m \u001b[0mmarket_books\u001b[0m \u001b[1;32min\u001b[0m \u001b[0mgen\u001b[0m\u001b[1;33m(\u001b[0m\u001b[1;33m)\u001b[0m\u001b[1;33m:\u001b[0m\u001b[1;33m\u001b[0m\u001b[1;33m\u001b[0m\u001b[0m\n\u001b[0m\u001b[0;32m     26\u001b[0m                 \u001b[1;32mfor\u001b[0m \u001b[0mmarket_book\u001b[0m \u001b[1;32min\u001b[0m \u001b[0mmarket_books\u001b[0m\u001b[1;33m:\u001b[0m\u001b[1;33m\u001b[0m\u001b[1;33m\u001b[0m\u001b[0m\n\u001b[0;32m     27\u001b[0m \u001b[1;33m\u001b[0m\u001b[0m\n",
      "\u001b[1;32m~\\Anaconda3\\lib\\site-packages\\betfairlightweight\\streaming\\betfairstream.py\u001b[0m in \u001b[0;36m_read_loop\u001b[1;34m(self)\u001b[0m\n\u001b[0;32m    345\u001b[0m         \u001b[0mself\u001b[0m\u001b[1;33m.\u001b[0m\u001b[0mlistener\u001b[0m\u001b[1;33m.\u001b[0m\u001b[0mregister_stream\u001b[0m\u001b[1;33m(\u001b[0m\u001b[0mself\u001b[0m\u001b[1;33m.\u001b[0m\u001b[0munique_id\u001b[0m\u001b[1;33m,\u001b[0m \u001b[0mself\u001b[0m\u001b[1;33m.\u001b[0m\u001b[0moperation\u001b[0m\u001b[1;33m)\u001b[0m\u001b[1;33m\u001b[0m\u001b[1;33m\u001b[0m\u001b[0m\n\u001b[0;32m    346\u001b[0m         \u001b[1;32mwith\u001b[0m \u001b[0mopen\u001b[0m\u001b[1;33m(\u001b[0m\u001b[0mself\u001b[0m\u001b[1;33m.\u001b[0m\u001b[0mfile_path\u001b[0m\u001b[1;33m,\u001b[0m \u001b[1;34m\"r\"\u001b[0m\u001b[1;33m)\u001b[0m \u001b[1;32mas\u001b[0m \u001b[0mf\u001b[0m\u001b[1;33m:\u001b[0m\u001b[1;33m\u001b[0m\u001b[1;33m\u001b[0m\u001b[0m\n\u001b[1;32m--> 347\u001b[1;33m             \u001b[1;32mfor\u001b[0m \u001b[0mupdate\u001b[0m \u001b[1;32min\u001b[0m \u001b[0mf\u001b[0m\u001b[1;33m:\u001b[0m\u001b[1;33m\u001b[0m\u001b[1;33m\u001b[0m\u001b[0m\n\u001b[0m\u001b[0;32m    348\u001b[0m                 \u001b[1;32mif\u001b[0m \u001b[0mself\u001b[0m\u001b[1;33m.\u001b[0m\u001b[0mlistener\u001b[0m\u001b[1;33m.\u001b[0m\u001b[0mon_data\u001b[0m\u001b[1;33m(\u001b[0m\u001b[0mupdate\u001b[0m\u001b[1;33m)\u001b[0m \u001b[1;32mis\u001b[0m \u001b[1;32mFalse\u001b[0m\u001b[1;33m:\u001b[0m\u001b[1;33m\u001b[0m\u001b[1;33m\u001b[0m\u001b[0m\n\u001b[0;32m    349\u001b[0m                     \u001b[1;31m# if on_data returns an error stop the stream and raise error\u001b[0m\u001b[1;33m\u001b[0m\u001b[1;33m\u001b[0m\u001b[1;33m\u001b[0m\u001b[0m\n",
      "\u001b[1;32m~\\Anaconda3\\lib\\bz2.py\u001b[0m in \u001b[0;36mreadline\u001b[1;34m(self, size)\u001b[0m\n\u001b[0;32m    217\u001b[0m         \u001b[1;32mwith\u001b[0m \u001b[0mself\u001b[0m\u001b[1;33m.\u001b[0m\u001b[0m_lock\u001b[0m\u001b[1;33m:\u001b[0m\u001b[1;33m\u001b[0m\u001b[1;33m\u001b[0m\u001b[0m\n\u001b[0;32m    218\u001b[0m             \u001b[0mself\u001b[0m\u001b[1;33m.\u001b[0m\u001b[0m_check_can_read\u001b[0m\u001b[1;33m(\u001b[0m\u001b[1;33m)\u001b[0m\u001b[1;33m\u001b[0m\u001b[1;33m\u001b[0m\u001b[0m\n\u001b[1;32m--> 219\u001b[1;33m             \u001b[1;32mreturn\u001b[0m \u001b[0mself\u001b[0m\u001b[1;33m.\u001b[0m\u001b[0m_buffer\u001b[0m\u001b[1;33m.\u001b[0m\u001b[0mreadline\u001b[0m\u001b[1;33m(\u001b[0m\u001b[0msize\u001b[0m\u001b[1;33m)\u001b[0m\u001b[1;33m\u001b[0m\u001b[1;33m\u001b[0m\u001b[0m\n\u001b[0m\u001b[0;32m    220\u001b[0m \u001b[1;33m\u001b[0m\u001b[0m\n\u001b[0;32m    221\u001b[0m     \u001b[1;32mdef\u001b[0m \u001b[0mreadlines\u001b[0m\u001b[1;33m(\u001b[0m\u001b[0mself\u001b[0m\u001b[1;33m,\u001b[0m \u001b[0msize\u001b[0m\u001b[1;33m=\u001b[0m\u001b[1;33m-\u001b[0m\u001b[1;36m1\u001b[0m\u001b[1;33m)\u001b[0m\u001b[1;33m:\u001b[0m\u001b[1;33m\u001b[0m\u001b[1;33m\u001b[0m\u001b[0m\n",
      "\u001b[1;32m~\\Anaconda3\\lib\\_compression.py\u001b[0m in \u001b[0;36mreadinto\u001b[1;34m(self, b)\u001b[0m\n\u001b[0;32m     66\u001b[0m     \u001b[1;32mdef\u001b[0m \u001b[0mreadinto\u001b[0m\u001b[1;33m(\u001b[0m\u001b[0mself\u001b[0m\u001b[1;33m,\u001b[0m \u001b[0mb\u001b[0m\u001b[1;33m)\u001b[0m\u001b[1;33m:\u001b[0m\u001b[1;33m\u001b[0m\u001b[1;33m\u001b[0m\u001b[0m\n\u001b[0;32m     67\u001b[0m         \u001b[1;32mwith\u001b[0m \u001b[0mmemoryview\u001b[0m\u001b[1;33m(\u001b[0m\u001b[0mb\u001b[0m\u001b[1;33m)\u001b[0m \u001b[1;32mas\u001b[0m \u001b[0mview\u001b[0m\u001b[1;33m,\u001b[0m \u001b[0mview\u001b[0m\u001b[1;33m.\u001b[0m\u001b[0mcast\u001b[0m\u001b[1;33m(\u001b[0m\u001b[1;34m\"B\"\u001b[0m\u001b[1;33m)\u001b[0m \u001b[1;32mas\u001b[0m \u001b[0mbyte_view\u001b[0m\u001b[1;33m:\u001b[0m\u001b[1;33m\u001b[0m\u001b[1;33m\u001b[0m\u001b[0m\n\u001b[1;32m---> 68\u001b[1;33m             \u001b[0mdata\u001b[0m \u001b[1;33m=\u001b[0m \u001b[0mself\u001b[0m\u001b[1;33m.\u001b[0m\u001b[0mread\u001b[0m\u001b[1;33m(\u001b[0m\u001b[0mlen\u001b[0m\u001b[1;33m(\u001b[0m\u001b[0mbyte_view\u001b[0m\u001b[1;33m)\u001b[0m\u001b[1;33m)\u001b[0m\u001b[1;33m\u001b[0m\u001b[1;33m\u001b[0m\u001b[0m\n\u001b[0m\u001b[0;32m     69\u001b[0m             \u001b[0mbyte_view\u001b[0m\u001b[1;33m[\u001b[0m\u001b[1;33m:\u001b[0m\u001b[0mlen\u001b[0m\u001b[1;33m(\u001b[0m\u001b[0mdata\u001b[0m\u001b[1;33m)\u001b[0m\u001b[1;33m]\u001b[0m \u001b[1;33m=\u001b[0m \u001b[0mdata\u001b[0m\u001b[1;33m\u001b[0m\u001b[1;33m\u001b[0m\u001b[0m\n\u001b[0;32m     70\u001b[0m         \u001b[1;32mreturn\u001b[0m \u001b[0mlen\u001b[0m\u001b[1;33m(\u001b[0m\u001b[0mdata\u001b[0m\u001b[1;33m)\u001b[0m\u001b[1;33m\u001b[0m\u001b[1;33m\u001b[0m\u001b[0m\n",
      "\u001b[1;32m~\\Anaconda3\\lib\\_compression.py\u001b[0m in \u001b[0;36mread\u001b[1;34m(self, size)\u001b[0m\n\u001b[0;32m    101\u001b[0m                 \u001b[1;32melse\u001b[0m\u001b[1;33m:\u001b[0m\u001b[1;33m\u001b[0m\u001b[1;33m\u001b[0m\u001b[0m\n\u001b[0;32m    102\u001b[0m                     \u001b[0mrawblock\u001b[0m \u001b[1;33m=\u001b[0m \u001b[1;34mb\"\"\u001b[0m\u001b[1;33m\u001b[0m\u001b[1;33m\u001b[0m\u001b[0m\n\u001b[1;32m--> 103\u001b[1;33m                 \u001b[0mdata\u001b[0m \u001b[1;33m=\u001b[0m \u001b[0mself\u001b[0m\u001b[1;33m.\u001b[0m\u001b[0m_decompressor\u001b[0m\u001b[1;33m.\u001b[0m\u001b[0mdecompress\u001b[0m\u001b[1;33m(\u001b[0m\u001b[0mrawblock\u001b[0m\u001b[1;33m,\u001b[0m \u001b[0msize\u001b[0m\u001b[1;33m)\u001b[0m\u001b[1;33m\u001b[0m\u001b[1;33m\u001b[0m\u001b[0m\n\u001b[0m\u001b[0;32m    104\u001b[0m             \u001b[1;32mif\u001b[0m \u001b[0mdata\u001b[0m\u001b[1;33m:\u001b[0m\u001b[1;33m\u001b[0m\u001b[1;33m\u001b[0m\u001b[0m\n\u001b[0;32m    105\u001b[0m                 \u001b[1;32mbreak\u001b[0m\u001b[1;33m\u001b[0m\u001b[1;33m\u001b[0m\u001b[0m\n",
      "\u001b[1;31mKeyboardInterrupt\u001b[0m: "
     ]
    }
   ],
   "source": [
    "# record prices to a file\n",
    "with open(\"outputs/kg-example.csv\", \"w\") as output:\n",
    "    # defining column headers\n",
    "    output.write(\"market_id,event_date,country,track,market_name,selection_id,selection_name,result,bsp,pp_min,pp_max,pp_wap,pp_ltp,pp_volume,ip_min,ip_max,ip_wap,ip_ltp,ip_volume\\n\")\n",
    "\n",
    "    for file_obj in load_markets(data_path):\n",
    "\n",
    "        # Instantiate a \"stream\" object\n",
    "        stream = trading.streaming.create_historical_generator_stream(\n",
    "            file_path=file_obj,\n",
    "            listener=listener,\n",
    "        )\n",
    "\n",
    "\n",
    "        # For this stream object execute the following Lambda function\n",
    "        with patch(\"builtins.open\", lambda f, _: f): \n",
    "\n",
    "            evaluate_market = False\n",
    "            preplay_market = None\n",
    "            postplay_market = None\n",
    "            preplay_traded = None\n",
    "            postplay_traded = None   \n",
    "\n",
    "            gen = stream.get_generator()\n",
    "            for market_books in gen():\n",
    "                for market_book in market_books:\n",
    "\n",
    "                    # skipping markets that don't meet the filter\n",
    "                    if evaluate_market == False and filter_market(market_book) == False:\n",
    "                        continue\n",
    "                    else:\n",
    "                        evaluate_market = True\n",
    "\n",
    "                    # final market view before market goes in play\n",
    "                    if preplay_market is not None and preplay_market.inplay != market_book.inplay:\n",
    "                        preplay_traded = [ (r.last_price_traded, r.ex.traded_volume.copy()) for r in preplay_market.runners ]\n",
    "                    preplay_market = market_book\n",
    "\n",
    "                    # final market view at the conclusion of the market\n",
    "                    if postplay_market is not None and postplay_market.status == \"OPEN\" and market_book.status != postplay_market.status:\n",
    "                        postplay_traded = [ (r.last_price_traded, r.ex.traded_volume.copy()) for r in market_book.runners ]\n",
    "                    postplay_market = market_book   \n",
    "\n",
    "            # no price data for market\n",
    "            if postplay_traded is None:\n",
    "                print('didnt find postplay results?')\n",
    "                continue; \n",
    "\n",
    "            # generic runner data\n",
    "            runner_data = [\n",
    "                {\n",
    "                    'selection_id': r.selection_id,\n",
    "                    'selection_name': next((rd.name for rd in postplay_market.market_definition.runners if rd.selection_id == r.selection_id), None),\n",
    "                    'selection_status': r.status,\n",
    "                    'sp': as_str(r.sp.actual_sp),\n",
    "                }\n",
    "                for r in postplay_market.runners \n",
    "            ]\n",
    "\n",
    "            # runner price data for markets that go in play\n",
    "            if preplay_traded is not None:\n",
    "                def runner_vals(r):\n",
    "                    (pre_ltp, pre_traded), (post_ltp, post_traded) = r\n",
    "\n",
    "                    inplay_only = list(filter(lambda ps: ps.size > 0, [\n",
    "                        PriceSize(\n",
    "                            price=post_ps.price, \n",
    "                            size=post_ps.size - next((pre_ps.size for pre_ps in pre_traded if pre_ps.price == post_ps.price), 0)\n",
    "                        )\n",
    "                        for post_ps in post_traded \n",
    "                    ]))\n",
    "\n",
    "                    (ip_wavg, ip_matched, ip_min, ip_max) = parse_traded(inplay_only)\n",
    "                    (pre_wavg, pre_matched, pre_min, pre_max) = parse_traded(pre_traded)\n",
    "\n",
    "                    return {\n",
    "                        'preplay_ltp': as_str(pre_ltp),\n",
    "                        'preplay_min': as_str(pre_min),\n",
    "                        'preplay_max': as_str(pre_max),\n",
    "                        'preplay_wavg': as_str(pre_wavg),\n",
    "                        'preplay_matched': as_str(pre_matched),\n",
    "                        'inplay_ltp': as_str(post_ltp),\n",
    "                        'inplay_min': as_str(ip_min),\n",
    "                        'inplay_max': as_str(ip_max),\n",
    "                        'inplay_wavg': as_str(ip_wavg),\n",
    "                        'inplay_matched': as_str(ip_matched),\n",
    "                    }\n",
    "\n",
    "                runner_traded = [ runner_vals(r) for r in zip_longest(preplay_traded, postplay_traded, fillvalue=PriceSize(0, 0)) ]\n",
    "\n",
    "            # runner price data for markets that don't go in play\n",
    "            else:\n",
    "                def runner_vals(r):\n",
    "                    (ltp, traded) = r\n",
    "                    (wavg, matched, min_price, max_price) = parse_traded(traded)\n",
    "\n",
    "                    return {\n",
    "                        'preplay_ltp': as_str(ltp),\n",
    "                        'preplay_min': as_str(min_price),\n",
    "                        'preplay_max': as_str(max_price),\n",
    "                        'preplay_wavg': as_str(wavg),\n",
    "                        'preplay_matched': as_str(matched),\n",
    "                        'inplay_ltp': '',\n",
    "                        'inplay_min': '',\n",
    "                        'inplay_max': '',\n",
    "                        'inplay_wavg': '',\n",
    "                        'inplay_matched': '',\n",
    "                    }\n",
    "\n",
    "                runner_traded = [ runner_vals(r) for r in postplay_traded ]\n",
    "\n",
    "            # printing to csv for each runner\n",
    "            for (rdata, rprices) in zip(runner_data, runner_traded):\n",
    "                # defining data to go in each column\n",
    "                output.write(\n",
    "                    \"{},{},{},{},{},{},{},{},{},{},{},{},{},{},{},{},{},{},{}\\n\".format(\n",
    "                        postplay_market.market_id,\n",
    "                        postplay_market.market_definition.market_time,\n",
    "                        postplay_market.market_definition.country_code,\n",
    "                        postplay_market.market_definition.venue,\n",
    "                        postplay_market.market_definition.name,\n",
    "                        rdata['selection_id'],\n",
    "                        rdata['selection_name'],\n",
    "                        rdata['selection_status'],\n",
    "                        rdata['sp'],\n",
    "                        rprices['preplay_min'],\n",
    "                        rprices['preplay_max'],\n",
    "                        rprices['preplay_wavg'],\n",
    "                        rprices['preplay_ltp'],\n",
    "                        rprices['preplay_matched'],\n",
    "                        rprices['inplay_min'],\n",
    "                        rprices['inplay_max'],\n",
    "                        rprices['inplay_wavg'],\n",
    "                        rprices['inplay_ltp'],\n",
    "                        rprices['inplay_matched'],\n",
    "                    )\n",
    "                )"
   ]
  },
  {
   "cell_type": "markdown",
   "metadata": {},
   "source": [
    "# Stripped Back Version\n",
    "\n",
    "What if I just want to pull out the BSP and the runner metadata"
   ]
  },
  {
   "cell_type": "code",
   "execution_count": null,
   "metadata": {},
   "outputs": [],
   "source": [
    "# record prices to a file\n",
    "with open(\"outputs/example-1.csv\", \"w\") as output:\n",
    "    # defining column headers\\\n",
    "    \n",
    "    # Column Headers\n",
    "    #output.write(\"m\")\n",
    "\n",
    "    for file_obj in load_markets(data_path):\n",
    "\n",
    "        # Instantiate a \"stream\" object\n",
    "        stream = trading.streaming.create_historical_generator_stream(\n",
    "            file_path=file_obj,\n",
    "            listener=listener,\n",
    "        )\n",
    "\n",
    "\n",
    "        # For this stream object execute the following Lambda function\n",
    "        with patch(\"builtins.open\", lambda f, _: f): \n",
    "\n",
    "            evaluate_market = False\n",
    "            preplay_market = None\n",
    "            postplay_market = None\n",
    "            preplay_traded = None\n",
    "            postplay_traded = None   \n",
    "\n",
    "            gen = stream.get_generator()\n",
    "            for market_books in gen():\n",
    "                for market_book in market_books:\n",
    "\n",
    "                    # skipping markets that don't meet the filter\n",
    "                    if evaluate_market == False and filter_market(market_book) == False:\n",
    "                        continue\n",
    "                    else:\n",
    "                        evaluate_market = True\n",
    "\n",
    "                    # final market view before market goes in play\n",
    "                    if preplay_market is not None and preplay_market.inplay != market_book.inplay:\n",
    "                        preplay_traded = [ (r.last_price_traded, r.ex.traded_volume.copy()) for r in preplay_market.runners ]\n",
    "                    preplay_market = market_book\n",
    "\n",
    "                    # final market view at the conclusion of the market\n",
    "                    if postplay_market is not None and postplay_market.status == \"OPEN\" and market_book.status != postplay_market.status:\n",
    "                        postplay_traded = [ (r.last_price_traded, r.ex.traded_volume.copy()) for r in market_book.runners ]\n",
    "                    postplay_market = market_book   \n",
    "\n",
    "            # no price data for market\n",
    "            if postplay_traded is None:\n",
    "                print('didnt find postplay results?')\n",
    "                continue; \n",
    "\n",
    "            # generic runner data\n",
    "            runner_data = [\n",
    "                {\n",
    "                    'selection_id': r.selection_id,\n",
    "                    'selection_name': next((rd.name for rd in postplay_market.market_definition.runners if rd.selection_id == r.selection_id), None),\n",
    "                    'selection_status': r.status,\n",
    "                    'sp': as_str(r.sp.actual_sp),\n",
    "                }\n",
    "                for r in postplay_market.runners \n",
    "            ]\n",
    "\n",
    "            # runner price data for markets that go in play\n",
    "            if preplay_traded is not None:\n",
    "                def runner_vals(r):\n",
    "                    (pre_ltp, pre_traded), (post_ltp, post_traded) = r\n",
    "\n",
    "                    inplay_only = list(filter(lambda ps: ps.size > 0, [\n",
    "                        PriceSize(\n",
    "                            price=post_ps.price, \n",
    "                            size=post_ps.size - next((pre_ps.size for pre_ps in pre_traded if pre_ps.price == post_ps.price), 0)\n",
    "                        )\n",
    "                        for post_ps in post_traded \n",
    "                    ]))\n",
    "\n",
    "                    (ip_wavg, ip_matched, ip_min, ip_max) = parse_traded(inplay_only)\n",
    "                    (pre_wavg, pre_matched, pre_min, pre_max) = parse_traded(pre_traded)\n",
    "\n",
    "                    return {\n",
    "                        'preplay_ltp': as_str(pre_ltp),\n",
    "                        'preplay_min': as_str(pre_min),\n",
    "                        'preplay_max': as_str(pre_max),\n",
    "                        'preplay_wavg': as_str(pre_wavg),\n",
    "                        'preplay_matched': as_str(pre_matched),\n",
    "                        'inplay_ltp': as_str(post_ltp),\n",
    "                        'inplay_min': as_str(ip_min),\n",
    "                        'inplay_max': as_str(ip_max),\n",
    "                        'inplay_wavg': as_str(ip_wavg),\n",
    "                        'inplay_matched': as_str(ip_matched),\n",
    "                    }\n",
    "\n",
    "                runner_traded = [ runner_vals(r) for r in zip_longest(preplay_traded, postplay_traded, fillvalue=PriceSize(0, 0)) ]\n",
    "\n",
    "            # runner price data for markets that don't go in play\n",
    "            else:\n",
    "                def runner_vals(r):\n",
    "                    (ltp, traded) = r\n",
    "                    (wavg, matched, min_price, max_price) = parse_traded(traded)\n",
    "\n",
    "                    return {\n",
    "                        'preplay_ltp': as_str(ltp),\n",
    "                        'preplay_min': as_str(min_price),\n",
    "                        'preplay_max': as_str(max_price),\n",
    "                        'preplay_wavg': as_str(wavg),\n",
    "                        'preplay_matched': as_str(matched),\n",
    "                        'inplay_ltp': '',\n",
    "                        'inplay_min': '',\n",
    "                        'inplay_max': '',\n",
    "                        'inplay_wavg': '',\n",
    "                        'inplay_matched': '',\n",
    "                    }\n",
    "\n",
    "                runner_traded = [ runner_vals(r) for r in postplay_traded ]\n",
    "\n",
    "            # printing to csv for each runner\n",
    "            for (rdata, rprices) in zip(runner_data, runner_traded):\n",
    "                # defining data to go in each column\n",
    "                output.write(\n",
    "                    \"{},{},{},{},{},{},{},{},{},{},{},{},{},{},{},{},{},{},{}\\n\".format(\n",
    "                        postplay_market.market_id,\n",
    "                        postplay_market.market_definition.market_time,\n",
    "                        postplay_market.market_definition.country_code,\n",
    "                        postplay_market.market_definition.venue,\n",
    "                        postplay_market.market_definition.name,\n",
    "                        rdata['selection_id'],\n",
    "                        rdata['selection_name'],\n",
    "                        rdata['selection_status'],\n",
    "                        rdata['sp'],\n",
    "                        rprices['preplay_min'],\n",
    "                        rprices['preplay_max'],\n",
    "                        rprices['preplay_wavg'],\n",
    "                        rprices['preplay_ltp'],\n",
    "                        rprices['preplay_matched'],\n",
    "                        rprices['inplay_min'],\n",
    "                        rprices['inplay_max'],\n",
    "                        rprices['inplay_wavg'],\n",
    "                        rprices['inplay_ltp'],\n",
    "                        rprices['inplay_matched'],\n",
    "                    )\n",
    "                )"
   ]
  }
 ],
 "metadata": {
  "kernelspec": {
   "display_name": "Python 3",
   "language": "python",
   "name": "python3"
  },
  "language_info": {
   "codemirror_mode": {
    "name": "ipython",
    "version": 3
   },
   "file_extension": ".py",
   "mimetype": "text/x-python",
   "name": "python",
   "nbconvert_exporter": "python",
   "pygments_lexer": "ipython3",
   "version": "3.8.5"
  }
 },
 "nbformat": 4,
 "nbformat_minor": 2
}
