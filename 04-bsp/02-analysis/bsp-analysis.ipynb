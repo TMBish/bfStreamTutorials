{
    "cells": [
        {
            "cell_type": "code",
            "execution_count": 2,
            "source": [
                "import pandas as pd\n",
                "import numpy as np\n",
                "import requests\n",
                "import os\n",
                "import re\n",
                "import csv\n",
                "import plotly.express as px\n",
                "import plotly.graph_objects as go\n",
                "import math\n"
            ],
            "outputs": [],
            "metadata": {}
        },
        {
            "cell_type": "code",
            "execution_count": 3,
            "source": [
                "selection = pd.read_csv(\"/media/hdd/tmp/bsp/meta.csv\", dtype={'market_id': object, 'selection_id': object}, parse_dates = ['market_time'])\n",
                "\n",
                "selection.head(3)"
            ],
            "outputs": [
                {
                    "output_type": "execute_result",
                    "data": {
                        "text/plain": [
                            "     market_id selection_id     venue         market_time    selection_name  \\\n",
                            "0  1.183995724     22832649  Hamilton 2021-06-01 01:40:00      1. Ablestock   \n",
                            "1  1.183995724     13688381  Hamilton 2021-06-01 01:40:00     2. Annunciate   \n",
                            "2  1.183995724      2659734  Hamilton 2021-06-01 01:40:00  3. Eyes Are Blue   \n",
                            "\n",
                            "   win     bsp  \n",
                            "0    0    8.40  \n",
                            "1    1    2.30  \n",
                            "2    0  382.87  "
                        ],
                        "text/html": [
                            "<div>\n",
                            "<style scoped>\n",
                            "    .dataframe tbody tr th:only-of-type {\n",
                            "        vertical-align: middle;\n",
                            "    }\n",
                            "\n",
                            "    .dataframe tbody tr th {\n",
                            "        vertical-align: top;\n",
                            "    }\n",
                            "\n",
                            "    .dataframe thead th {\n",
                            "        text-align: right;\n",
                            "    }\n",
                            "</style>\n",
                            "<table border=\"1\" class=\"dataframe\">\n",
                            "  <thead>\n",
                            "    <tr style=\"text-align: right;\">\n",
                            "      <th></th>\n",
                            "      <th>market_id</th>\n",
                            "      <th>selection_id</th>\n",
                            "      <th>venue</th>\n",
                            "      <th>market_time</th>\n",
                            "      <th>selection_name</th>\n",
                            "      <th>win</th>\n",
                            "      <th>bsp</th>\n",
                            "    </tr>\n",
                            "  </thead>\n",
                            "  <tbody>\n",
                            "    <tr>\n",
                            "      <th>0</th>\n",
                            "      <td>1.183995724</td>\n",
                            "      <td>22832649</td>\n",
                            "      <td>Hamilton</td>\n",
                            "      <td>2021-06-01 01:40:00</td>\n",
                            "      <td>1. Ablestock</td>\n",
                            "      <td>0</td>\n",
                            "      <td>8.40</td>\n",
                            "    </tr>\n",
                            "    <tr>\n",
                            "      <th>1</th>\n",
                            "      <td>1.183995724</td>\n",
                            "      <td>13688381</td>\n",
                            "      <td>Hamilton</td>\n",
                            "      <td>2021-06-01 01:40:00</td>\n",
                            "      <td>2. Annunciate</td>\n",
                            "      <td>1</td>\n",
                            "      <td>2.30</td>\n",
                            "    </tr>\n",
                            "    <tr>\n",
                            "      <th>2</th>\n",
                            "      <td>1.183995724</td>\n",
                            "      <td>2659734</td>\n",
                            "      <td>Hamilton</td>\n",
                            "      <td>2021-06-01 01:40:00</td>\n",
                            "      <td>3. Eyes Are Blue</td>\n",
                            "      <td>0</td>\n",
                            "      <td>382.87</td>\n",
                            "    </tr>\n",
                            "  </tbody>\n",
                            "</table>\n",
                            "</div>"
                        ]
                    },
                    "metadata": {},
                    "execution_count": 3
                }
            ],
            "metadata": {}
        },
        {
            "cell_type": "code",
            "execution_count": 5,
            "source": [
                "prices = pd.read_csv(\n",
                "    \"/media/hdd/tmp/bsp/prices.csv\", \n",
                "    quoting=csv.QUOTE_ALL,\n",
                "    dtype={'market_id': 'string', 'selection_id': 'string', 'atb_ladder': 'string', 'atl_ladder': 'string'},\n",
                "    parse_dates=['time']\n",
                ")\n",
                "prices.head(3)"
            ],
            "outputs": [
                {
                    "output_type": "execute_result",
                    "data": {
                        "text/plain": [
                            "     market_id selection_id                    time  near_price  far_price  \\\n",
                            "0  1.183995724     22832649 2021-05-31 06:17:15.379         NaN        NaN   \n",
                            "1  1.183995724     13688381 2021-05-31 06:17:15.379         NaN        NaN   \n",
                            "2  1.183995724      2659734 2021-05-31 06:17:15.379         NaN        NaN   \n",
                            "\n",
                            "   bsp_back_pool_stake  bsp_lay_pool_liability atb_ladder atl_ladder  \n",
                            "0                    0                       0         {}         {}  \n",
                            "1                    0                       0         {}         {}  \n",
                            "2                    0                       0         {}         {}  "
                        ],
                        "text/html": [
                            "<div>\n",
                            "<style scoped>\n",
                            "    .dataframe tbody tr th:only-of-type {\n",
                            "        vertical-align: middle;\n",
                            "    }\n",
                            "\n",
                            "    .dataframe tbody tr th {\n",
                            "        vertical-align: top;\n",
                            "    }\n",
                            "\n",
                            "    .dataframe thead th {\n",
                            "        text-align: right;\n",
                            "    }\n",
                            "</style>\n",
                            "<table border=\"1\" class=\"dataframe\">\n",
                            "  <thead>\n",
                            "    <tr style=\"text-align: right;\">\n",
                            "      <th></th>\n",
                            "      <th>market_id</th>\n",
                            "      <th>selection_id</th>\n",
                            "      <th>time</th>\n",
                            "      <th>near_price</th>\n",
                            "      <th>far_price</th>\n",
                            "      <th>bsp_back_pool_stake</th>\n",
                            "      <th>bsp_lay_pool_liability</th>\n",
                            "      <th>atb_ladder</th>\n",
                            "      <th>atl_ladder</th>\n",
                            "    </tr>\n",
                            "  </thead>\n",
                            "  <tbody>\n",
                            "    <tr>\n",
                            "      <th>0</th>\n",
                            "      <td>1.183995724</td>\n",
                            "      <td>22832649</td>\n",
                            "      <td>2021-05-31 06:17:15.379</td>\n",
                            "      <td>NaN</td>\n",
                            "      <td>NaN</td>\n",
                            "      <td>0</td>\n",
                            "      <td>0</td>\n",
                            "      <td>{}</td>\n",
                            "      <td>{}</td>\n",
                            "    </tr>\n",
                            "    <tr>\n",
                            "      <th>1</th>\n",
                            "      <td>1.183995724</td>\n",
                            "      <td>13688381</td>\n",
                            "      <td>2021-05-31 06:17:15.379</td>\n",
                            "      <td>NaN</td>\n",
                            "      <td>NaN</td>\n",
                            "      <td>0</td>\n",
                            "      <td>0</td>\n",
                            "      <td>{}</td>\n",
                            "      <td>{}</td>\n",
                            "    </tr>\n",
                            "    <tr>\n",
                            "      <th>2</th>\n",
                            "      <td>1.183995724</td>\n",
                            "      <td>2659734</td>\n",
                            "      <td>2021-05-31 06:17:15.379</td>\n",
                            "      <td>NaN</td>\n",
                            "      <td>NaN</td>\n",
                            "      <td>0</td>\n",
                            "      <td>0</td>\n",
                            "      <td>{}</td>\n",
                            "      <td>{}</td>\n",
                            "    </tr>\n",
                            "  </tbody>\n",
                            "</table>\n",
                            "</div>"
                        ]
                    },
                    "metadata": {},
                    "execution_count": 5
                }
            ],
            "metadata": {}
        },
        {
            "cell_type": "code",
            "execution_count": 6,
            "source": [
                "prices.shape"
            ],
            "outputs": [
                {
                    "output_type": "execute_result",
                    "data": {
                        "text/plain": [
                            "(696648, 9)"
                        ]
                    },
                    "metadata": {},
                    "execution_count": 6
                }
            ],
            "metadata": {}
        },
        {
            "cell_type": "code",
            "execution_count": null,
            "source": [
                "prices.query('market_id == \"1.183995724\" and selection_id = \"22832649\"')"
            ],
            "outputs": [],
            "metadata": {}
        }
    ],
    "metadata": {
        "orig_nbformat": 4,
        "language_info": {
            "name": "python",
            "version": "3.9.5",
            "mimetype": "text/x-python",
            "codemirror_mode": {
                "name": "ipython",
                "version": 3
            },
            "pygments_lexer": "ipython3",
            "nbconvert_exporter": "python",
            "file_extension": ".py"
        },
        "kernelspec": {
            "name": "python3",
            "display_name": "Python 3.9.5 64-bit"
        },
        "interpreter": {
            "hash": "916dbcbb3f70747c44a77c7bcd40155683ae19c65e1c03b4aa3499c5328201f1"
        }
    },
    "nbformat": 4,
    "nbformat_minor": 2
}