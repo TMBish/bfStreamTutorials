{
    "cells": [
        {
            "cell_type": "code",
            "execution_count": 10,
            "source": [
                "import pandas as pd\n",
                "import numpy as np\n",
                "import requests\n",
                "import os\n",
                "import re\n",
                "import csv\n",
                "import plotly.express as px\n",
                "import plotly.graph_objects as go\n",
                "import math\n"
            ],
            "outputs": [],
            "metadata": {}
        },
        {
            "cell_type": "code",
            "execution_count": 46,
            "source": [
                "selection = pd.read_csv(\"/media/hdd/tmp/bsp/meta.csv\", dtype={'market_id': object, 'selection_id': object}, parse_dates = ['market_time'])\n",
                "\n",
                "selection.traded_volume.value_counts()"
            ],
            "outputs": [
                {
                    "output_type": "execute_result",
                    "data": {
                        "text/plain": [
                            "0    25979\n",
                            "Name: traded_volume, dtype: int64"
                        ]
                    },
                    "metadata": {},
                    "execution_count": 46
                }
            ],
            "metadata": {}
        },
        {
            "cell_type": "code",
            "execution_count": 12,
            "source": [
                "prices = pd.read_csv(\n",
                "    \"/media/hdd/tmp/bsp/prices.csv\", \n",
                "    quoting=csv.QUOTE_ALL,\n",
                "    dtype={'market_id': 'string', 'selection_id': 'string', 'atb_ladder': 'string', 'atl_ladder': 'string'},\n",
                "    parse_dates=['time']\n",
                ")\n",
                "prices.head(3)"
            ],
            "outputs": [
                {
                    "output_type": "execute_result",
                    "data": {
                        "text/plain": [
                            "     market_id selection_id                    time  near_price  far_price  \\\n",
                            "0  1.183995724     22832649 2021-05-31 06:17:15.379         NaN        NaN   \n",
                            "1  1.183995724     13688381 2021-05-31 06:17:15.379         NaN        NaN   \n",
                            "2  1.183995724      2659734 2021-05-31 06:17:15.379         NaN        NaN   \n",
                            "\n",
                            "   bsp_back_pool_stake  bsp_lay_pool_liability atb_ladder atl_ladder  \n",
                            "0                    0                       0         {}         {}  \n",
                            "1                    0                       0         {}         {}  \n",
                            "2                    0                       0         {}         {}  "
                        ],
                        "text/html": [
                            "<div>\n",
                            "<style scoped>\n",
                            "    .dataframe tbody tr th:only-of-type {\n",
                            "        vertical-align: middle;\n",
                            "    }\n",
                            "\n",
                            "    .dataframe tbody tr th {\n",
                            "        vertical-align: top;\n",
                            "    }\n",
                            "\n",
                            "    .dataframe thead th {\n",
                            "        text-align: right;\n",
                            "    }\n",
                            "</style>\n",
                            "<table border=\"1\" class=\"dataframe\">\n",
                            "  <thead>\n",
                            "    <tr style=\"text-align: right;\">\n",
                            "      <th></th>\n",
                            "      <th>market_id</th>\n",
                            "      <th>selection_id</th>\n",
                            "      <th>time</th>\n",
                            "      <th>near_price</th>\n",
                            "      <th>far_price</th>\n",
                            "      <th>bsp_back_pool_stake</th>\n",
                            "      <th>bsp_lay_pool_liability</th>\n",
                            "      <th>atb_ladder</th>\n",
                            "      <th>atl_ladder</th>\n",
                            "    </tr>\n",
                            "  </thead>\n",
                            "  <tbody>\n",
                            "    <tr>\n",
                            "      <th>0</th>\n",
                            "      <td>1.183995724</td>\n",
                            "      <td>22832649</td>\n",
                            "      <td>2021-05-31 06:17:15.379</td>\n",
                            "      <td>NaN</td>\n",
                            "      <td>NaN</td>\n",
                            "      <td>0</td>\n",
                            "      <td>0</td>\n",
                            "      <td>{}</td>\n",
                            "      <td>{}</td>\n",
                            "    </tr>\n",
                            "    <tr>\n",
                            "      <th>1</th>\n",
                            "      <td>1.183995724</td>\n",
                            "      <td>13688381</td>\n",
                            "      <td>2021-05-31 06:17:15.379</td>\n",
                            "      <td>NaN</td>\n",
                            "      <td>NaN</td>\n",
                            "      <td>0</td>\n",
                            "      <td>0</td>\n",
                            "      <td>{}</td>\n",
                            "      <td>{}</td>\n",
                            "    </tr>\n",
                            "    <tr>\n",
                            "      <th>2</th>\n",
                            "      <td>1.183995724</td>\n",
                            "      <td>2659734</td>\n",
                            "      <td>2021-05-31 06:17:15.379</td>\n",
                            "      <td>NaN</td>\n",
                            "      <td>NaN</td>\n",
                            "      <td>0</td>\n",
                            "      <td>0</td>\n",
                            "      <td>{}</td>\n",
                            "      <td>{}</td>\n",
                            "    </tr>\n",
                            "  </tbody>\n",
                            "</table>\n",
                            "</div>"
                        ]
                    },
                    "metadata": {},
                    "execution_count": 12
                }
            ],
            "metadata": {}
        },
        {
            "cell_type": "code",
            "execution_count": 13,
            "source": [
                "prices.shape"
            ],
            "outputs": [
                {
                    "output_type": "execute_result",
                    "data": {
                        "text/plain": [
                            "(660111, 9)"
                        ]
                    },
                    "metadata": {},
                    "execution_count": 13
                }
            ],
            "metadata": {}
        },
        {
            "cell_type": "code",
            "execution_count": 14,
            "source": [
                "prices.query('market_id == \"1.183995724\" and selection_id == \"22832649\"')"
            ],
            "outputs": [
                {
                    "output_type": "execute_result",
                    "data": {
                        "text/plain": [
                            "       market_id selection_id                    time  near_price  far_price  \\\n",
                            "0    1.183995724     22832649 2021-05-31 06:17:15.379         NaN        NaN   \n",
                            "10   1.183995724     22832649 2021-06-01 01:38:00.062        8.60       7.69   \n",
                            "20   1.183995724     22832649 2021-06-01 01:38:10.158        8.60       7.69   \n",
                            "30   1.183995724     22832649 2021-06-01 01:38:20.159        8.00       7.69   \n",
                            "40   1.183995724     22832649 2021-06-01 01:38:30.182        8.00       7.69   \n",
                            "50   1.183995724     22832649 2021-06-01 01:38:40.221        8.00       7.69   \n",
                            "60   1.183995724     22832649 2021-06-01 01:38:50.923        8.00       7.69   \n",
                            "70   1.183995724     22832649 2021-06-01 01:39:00.955        8.00       7.69   \n",
                            "80   1.183995724     22832649 2021-06-01 01:39:10.962        8.00       7.69   \n",
                            "90   1.183995724     22832649 2021-06-01 01:39:20.966        8.18       2.68   \n",
                            "100  1.183995724     22832649 2021-06-01 01:39:30.971        8.18       2.68   \n",
                            "110  1.183995724     22832649 2021-06-01 01:39:41.018        8.18       2.68   \n",
                            "120  1.183995724     22832649 2021-06-01 01:39:51.119        8.18       2.68   \n",
                            "130  1.183995724     22832649 2021-06-01 01:40:01.123        8.18       2.68   \n",
                            "140  1.183995724     22832649 2021-06-01 01:40:11.136        8.18       2.68   \n",
                            "150  1.183995724     22832649 2021-06-01 01:40:18.201        8.04       7.60   \n",
                            "\n",
                            "     bsp_back_pool_stake  bsp_lay_pool_liability  \\\n",
                            "0                      0                       0   \n",
                            "10                    27                     184   \n",
                            "20                    27                     184   \n",
                            "30                    27                     184   \n",
                            "40                    27                     190   \n",
                            "50                   136                     205   \n",
                            "60                   136                     205   \n",
                            "70                   137                     214   \n",
                            "80                   137                     229   \n",
                            "90                   212                     243   \n",
                            "100                  212                     243   \n",
                            "110                  245                     324   \n",
                            "120                  324                     459   \n",
                            "130                  324                     748   \n",
                            "140                  447                    2285   \n",
                            "150                  327                    2469   \n",
                            "\n",
                            "                                            atb_ladder  \\\n",
                            "0                                                   {}   \n",
                            "10   {'p':[8,7.8,7.6,7.4,7.2],'v':[31.23,37.93,108....   \n",
                            "20   {'p':[8,7.8,7.6,7.4,7.2],'v':[25.54,49.14,113....   \n",
                            "30   {'p':[8,7.8,7.6,7.4,7.2],'v':[94.52,49.14,113....   \n",
                            "40   {'p':[8,7.8,7.6,7.4,7.2],'v':[62.88,49.14,113....   \n",
                            "50   {'p':[8.2,8,7.8,7.6,7.4],'v':[13.92,129.4,53.0...   \n",
                            "60   {'p':[8,7.8,7.6,7.4,7.2],'v':[129.4,53.01,133....   \n",
                            "70   {'p':[8.2,8,7.8,7.6,7.4],'v':[26.93,136.73,63....   \n",
                            "80   {'p':[8.2,8,7.8,7.6,7.4],'v':[29.2,146.88,61.3...   \n",
                            "90   {'p':[8.4,8.2,8,7.8,7.6],'v':[19.2,89.65,91.13...   \n",
                            "100  {'p':[8.2,8,7.8,7.6,7.4],'v':[79.45,82.25,45.8...   \n",
                            "110  {'p':[8.4,8.2,8,7.8,7.6],'v':[37.01,125.57,156...   \n",
                            "120  {'p':[8.2,8,7.8,7.6,7.4],'v':[63.46,94.12,63.6...   \n",
                            "130  {'p':[8.4,8.2,8,7.8,7.6],'v':[32.81,97.72,92.2...   \n",
                            "140  {'p':[8.2,8,7.8,7.6,7.4],'v':[46.15,99.45,134....   \n",
                            "150  {'p':[6.8,6.4,5.9,5.1,4.4],'v':[4.01,3.9,1.18,...   \n",
                            "\n",
                            "                                            atl_ladder  \n",
                            "0                                                   {}  \n",
                            "10   {'p':[8.4,8.6,8.8,9,9.2],'v':[63.98,14.57,29.1...  \n",
                            "20   {'p':[8.2,8.4,8.6,8.8,9],'v':[37.63,68.03,41.2...  \n",
                            "30   {'p':[8.2,8.4,8.6,8.8,9],'v':[37.63,56.27,41.2...  \n",
                            "40   {'p':[8.2,8.4,8.6,8.8,9],'v':[22.99,56.27,41.2...  \n",
                            "50   {'p':[8.4,8.6,8.8,9,9.2],'v':[53.28,41.2,29.12...  \n",
                            "60   {'p':[8.4,8.6,8.8,9,9.2],'v':[67.76,41.2,29.12...  \n",
                            "70   {'p':[8.4,8.6,8.8,9,9.2],'v':[53.28,41.2,29.12...  \n",
                            "80   {'p':[8.4,8.6,8.8,9,9.2],'v':[53.26,23.52,32.3...  \n",
                            "90   {'p':[8.6,8.8,9,9.2,9.4],'v':[69.9,16.6,33.14,...  \n",
                            "100  {'p':[8.4,8.6,8.8,9,9.2],'v':[59.89,65.64,40.7...  \n",
                            "110  {'p':[8.6,8.8,9,9.2,9.4],'v':[73.69,37.27,33.4...  \n",
                            "120  {'p':[8.6,8.8,9,9.2,9.4],'v':[19.59,18.59,33.4...  \n",
                            "130  {'p':[8.6,8.8,9,9.2,9.4],'v':[0.96,15.7,34.25,...  \n",
                            "140  {'p':[8.4,8.6,8.8,9,9.2],'v':[20.11,47.35,19.1...  \n",
                            "150  {'p':[10,11,11.5,15,15.5],'v':[6.05,0.68,5.18,...  "
                        ],
                        "text/html": [
                            "<div>\n",
                            "<style scoped>\n",
                            "    .dataframe tbody tr th:only-of-type {\n",
                            "        vertical-align: middle;\n",
                            "    }\n",
                            "\n",
                            "    .dataframe tbody tr th {\n",
                            "        vertical-align: top;\n",
                            "    }\n",
                            "\n",
                            "    .dataframe thead th {\n",
                            "        text-align: right;\n",
                            "    }\n",
                            "</style>\n",
                            "<table border=\"1\" class=\"dataframe\">\n",
                            "  <thead>\n",
                            "    <tr style=\"text-align: right;\">\n",
                            "      <th></th>\n",
                            "      <th>market_id</th>\n",
                            "      <th>selection_id</th>\n",
                            "      <th>time</th>\n",
                            "      <th>near_price</th>\n",
                            "      <th>far_price</th>\n",
                            "      <th>bsp_back_pool_stake</th>\n",
                            "      <th>bsp_lay_pool_liability</th>\n",
                            "      <th>atb_ladder</th>\n",
                            "      <th>atl_ladder</th>\n",
                            "    </tr>\n",
                            "  </thead>\n",
                            "  <tbody>\n",
                            "    <tr>\n",
                            "      <th>0</th>\n",
                            "      <td>1.183995724</td>\n",
                            "      <td>22832649</td>\n",
                            "      <td>2021-05-31 06:17:15.379</td>\n",
                            "      <td>NaN</td>\n",
                            "      <td>NaN</td>\n",
                            "      <td>0</td>\n",
                            "      <td>0</td>\n",
                            "      <td>{}</td>\n",
                            "      <td>{}</td>\n",
                            "    </tr>\n",
                            "    <tr>\n",
                            "      <th>10</th>\n",
                            "      <td>1.183995724</td>\n",
                            "      <td>22832649</td>\n",
                            "      <td>2021-06-01 01:38:00.062</td>\n",
                            "      <td>8.60</td>\n",
                            "      <td>7.69</td>\n",
                            "      <td>27</td>\n",
                            "      <td>184</td>\n",
                            "      <td>{'p':[8,7.8,7.6,7.4,7.2],'v':[31.23,37.93,108....</td>\n",
                            "      <td>{'p':[8.4,8.6,8.8,9,9.2],'v':[63.98,14.57,29.1...</td>\n",
                            "    </tr>\n",
                            "    <tr>\n",
                            "      <th>20</th>\n",
                            "      <td>1.183995724</td>\n",
                            "      <td>22832649</td>\n",
                            "      <td>2021-06-01 01:38:10.158</td>\n",
                            "      <td>8.60</td>\n",
                            "      <td>7.69</td>\n",
                            "      <td>27</td>\n",
                            "      <td>184</td>\n",
                            "      <td>{'p':[8,7.8,7.6,7.4,7.2],'v':[25.54,49.14,113....</td>\n",
                            "      <td>{'p':[8.2,8.4,8.6,8.8,9],'v':[37.63,68.03,41.2...</td>\n",
                            "    </tr>\n",
                            "    <tr>\n",
                            "      <th>30</th>\n",
                            "      <td>1.183995724</td>\n",
                            "      <td>22832649</td>\n",
                            "      <td>2021-06-01 01:38:20.159</td>\n",
                            "      <td>8.00</td>\n",
                            "      <td>7.69</td>\n",
                            "      <td>27</td>\n",
                            "      <td>184</td>\n",
                            "      <td>{'p':[8,7.8,7.6,7.4,7.2],'v':[94.52,49.14,113....</td>\n",
                            "      <td>{'p':[8.2,8.4,8.6,8.8,9],'v':[37.63,56.27,41.2...</td>\n",
                            "    </tr>\n",
                            "    <tr>\n",
                            "      <th>40</th>\n",
                            "      <td>1.183995724</td>\n",
                            "      <td>22832649</td>\n",
                            "      <td>2021-06-01 01:38:30.182</td>\n",
                            "      <td>8.00</td>\n",
                            "      <td>7.69</td>\n",
                            "      <td>27</td>\n",
                            "      <td>190</td>\n",
                            "      <td>{'p':[8,7.8,7.6,7.4,7.2],'v':[62.88,49.14,113....</td>\n",
                            "      <td>{'p':[8.2,8.4,8.6,8.8,9],'v':[22.99,56.27,41.2...</td>\n",
                            "    </tr>\n",
                            "    <tr>\n",
                            "      <th>50</th>\n",
                            "      <td>1.183995724</td>\n",
                            "      <td>22832649</td>\n",
                            "      <td>2021-06-01 01:38:40.221</td>\n",
                            "      <td>8.00</td>\n",
                            "      <td>7.69</td>\n",
                            "      <td>136</td>\n",
                            "      <td>205</td>\n",
                            "      <td>{'p':[8.2,8,7.8,7.6,7.4],'v':[13.92,129.4,53.0...</td>\n",
                            "      <td>{'p':[8.4,8.6,8.8,9,9.2],'v':[53.28,41.2,29.12...</td>\n",
                            "    </tr>\n",
                            "    <tr>\n",
                            "      <th>60</th>\n",
                            "      <td>1.183995724</td>\n",
                            "      <td>22832649</td>\n",
                            "      <td>2021-06-01 01:38:50.923</td>\n",
                            "      <td>8.00</td>\n",
                            "      <td>7.69</td>\n",
                            "      <td>136</td>\n",
                            "      <td>205</td>\n",
                            "      <td>{'p':[8,7.8,7.6,7.4,7.2],'v':[129.4,53.01,133....</td>\n",
                            "      <td>{'p':[8.4,8.6,8.8,9,9.2],'v':[67.76,41.2,29.12...</td>\n",
                            "    </tr>\n",
                            "    <tr>\n",
                            "      <th>70</th>\n",
                            "      <td>1.183995724</td>\n",
                            "      <td>22832649</td>\n",
                            "      <td>2021-06-01 01:39:00.955</td>\n",
                            "      <td>8.00</td>\n",
                            "      <td>7.69</td>\n",
                            "      <td>137</td>\n",
                            "      <td>214</td>\n",
                            "      <td>{'p':[8.2,8,7.8,7.6,7.4],'v':[26.93,136.73,63....</td>\n",
                            "      <td>{'p':[8.4,8.6,8.8,9,9.2],'v':[53.28,41.2,29.12...</td>\n",
                            "    </tr>\n",
                            "    <tr>\n",
                            "      <th>80</th>\n",
                            "      <td>1.183995724</td>\n",
                            "      <td>22832649</td>\n",
                            "      <td>2021-06-01 01:39:10.962</td>\n",
                            "      <td>8.00</td>\n",
                            "      <td>7.69</td>\n",
                            "      <td>137</td>\n",
                            "      <td>229</td>\n",
                            "      <td>{'p':[8.2,8,7.8,7.6,7.4],'v':[29.2,146.88,61.3...</td>\n",
                            "      <td>{'p':[8.4,8.6,8.8,9,9.2],'v':[53.26,23.52,32.3...</td>\n",
                            "    </tr>\n",
                            "    <tr>\n",
                            "      <th>90</th>\n",
                            "      <td>1.183995724</td>\n",
                            "      <td>22832649</td>\n",
                            "      <td>2021-06-01 01:39:20.966</td>\n",
                            "      <td>8.18</td>\n",
                            "      <td>2.68</td>\n",
                            "      <td>212</td>\n",
                            "      <td>243</td>\n",
                            "      <td>{'p':[8.4,8.2,8,7.8,7.6],'v':[19.2,89.65,91.13...</td>\n",
                            "      <td>{'p':[8.6,8.8,9,9.2,9.4],'v':[69.9,16.6,33.14,...</td>\n",
                            "    </tr>\n",
                            "    <tr>\n",
                            "      <th>100</th>\n",
                            "      <td>1.183995724</td>\n",
                            "      <td>22832649</td>\n",
                            "      <td>2021-06-01 01:39:30.971</td>\n",
                            "      <td>8.18</td>\n",
                            "      <td>2.68</td>\n",
                            "      <td>212</td>\n",
                            "      <td>243</td>\n",
                            "      <td>{'p':[8.2,8,7.8,7.6,7.4],'v':[79.45,82.25,45.8...</td>\n",
                            "      <td>{'p':[8.4,8.6,8.8,9,9.2],'v':[59.89,65.64,40.7...</td>\n",
                            "    </tr>\n",
                            "    <tr>\n",
                            "      <th>110</th>\n",
                            "      <td>1.183995724</td>\n",
                            "      <td>22832649</td>\n",
                            "      <td>2021-06-01 01:39:41.018</td>\n",
                            "      <td>8.18</td>\n",
                            "      <td>2.68</td>\n",
                            "      <td>245</td>\n",
                            "      <td>324</td>\n",
                            "      <td>{'p':[8.4,8.2,8,7.8,7.6],'v':[37.01,125.57,156...</td>\n",
                            "      <td>{'p':[8.6,8.8,9,9.2,9.4],'v':[73.69,37.27,33.4...</td>\n",
                            "    </tr>\n",
                            "    <tr>\n",
                            "      <th>120</th>\n",
                            "      <td>1.183995724</td>\n",
                            "      <td>22832649</td>\n",
                            "      <td>2021-06-01 01:39:51.119</td>\n",
                            "      <td>8.18</td>\n",
                            "      <td>2.68</td>\n",
                            "      <td>324</td>\n",
                            "      <td>459</td>\n",
                            "      <td>{'p':[8.2,8,7.8,7.6,7.4],'v':[63.46,94.12,63.6...</td>\n",
                            "      <td>{'p':[8.6,8.8,9,9.2,9.4],'v':[19.59,18.59,33.4...</td>\n",
                            "    </tr>\n",
                            "    <tr>\n",
                            "      <th>130</th>\n",
                            "      <td>1.183995724</td>\n",
                            "      <td>22832649</td>\n",
                            "      <td>2021-06-01 01:40:01.123</td>\n",
                            "      <td>8.18</td>\n",
                            "      <td>2.68</td>\n",
                            "      <td>324</td>\n",
                            "      <td>748</td>\n",
                            "      <td>{'p':[8.4,8.2,8,7.8,7.6],'v':[32.81,97.72,92.2...</td>\n",
                            "      <td>{'p':[8.6,8.8,9,9.2,9.4],'v':[0.96,15.7,34.25,...</td>\n",
                            "    </tr>\n",
                            "    <tr>\n",
                            "      <th>140</th>\n",
                            "      <td>1.183995724</td>\n",
                            "      <td>22832649</td>\n",
                            "      <td>2021-06-01 01:40:11.136</td>\n",
                            "      <td>8.18</td>\n",
                            "      <td>2.68</td>\n",
                            "      <td>447</td>\n",
                            "      <td>2285</td>\n",
                            "      <td>{'p':[8.2,8,7.8,7.6,7.4],'v':[46.15,99.45,134....</td>\n",
                            "      <td>{'p':[8.4,8.6,8.8,9,9.2],'v':[20.11,47.35,19.1...</td>\n",
                            "    </tr>\n",
                            "    <tr>\n",
                            "      <th>150</th>\n",
                            "      <td>1.183995724</td>\n",
                            "      <td>22832649</td>\n",
                            "      <td>2021-06-01 01:40:18.201</td>\n",
                            "      <td>8.04</td>\n",
                            "      <td>7.60</td>\n",
                            "      <td>327</td>\n",
                            "      <td>2469</td>\n",
                            "      <td>{'p':[6.8,6.4,5.9,5.1,4.4],'v':[4.01,3.9,1.18,...</td>\n",
                            "      <td>{'p':[10,11,11.5,15,15.5],'v':[6.05,0.68,5.18,...</td>\n",
                            "    </tr>\n",
                            "  </tbody>\n",
                            "</table>\n",
                            "</div>"
                        ]
                    },
                    "metadata": {},
                    "execution_count": 14
                }
            ],
            "metadata": {}
        },
        {
            "cell_type": "code",
            "execution_count": 9,
            "source": [
                "prices.dtypes"
            ],
            "outputs": [
                {
                    "output_type": "execute_result",
                    "data": {
                        "text/plain": [
                            "market_id                         string\n",
                            "selection_id                      string\n",
                            "time                      datetime64[ns]\n",
                            "near_price                       float64\n",
                            "far_price                        float64\n",
                            "bsp_back_pool_stake                int64\n",
                            "bsp_lay_pool_liability             int64\n",
                            "atb_ladder                        string\n",
                            "atl_ladder                        string\n",
                            "dtype: object"
                        ]
                    },
                    "metadata": {},
                    "execution_count": 9
                }
            ],
            "metadata": {}
        },
        {
            "cell_type": "markdown",
            "source": [
                "# The BSP\n",
                "\n",
                "- Volumes traded\n",
                "- Accuracy\n",
                "- Back profit / lay profit in certain odds ranges"
            ],
            "metadata": {}
        },
        {
            "cell_type": "code",
            "execution_count": null,
            "source": [
                "# Volume Traded\n",
                "# ___________________________\n",
                "\n",
                "df\n"
            ],
            "outputs": [],
            "metadata": {}
        },
        {
            "cell_type": "code",
            "execution_count": 15,
            "source": [
                "# Accuracy\n",
                "# ___________________________\n"
            ],
            "outputs": [],
            "metadata": {}
        },
        {
            "cell_type": "code",
            "execution_count": 38,
            "source": [
                "# Implied chance vs Actual chance ++++++++++++++++++++++++++++++++++++++++\n",
                "\n",
                "winRates = (\n",
                "    selection\n",
                "    .assign(implied_chance = lambda x: round(20 * (1 / x['bsp']))/20)\n",
                "    .groupby('implied_chance', as_index = False)\n",
                "    .agg({'win': 'mean'})\n",
                ")\n",
                "\n",
                "fig = px.scatter(winRates, x = \"implied_chance\", y = \"win\", template = \"plotly_white\", title = \"BSP: implied win vs actual win\")\n",
                "fig.add_trace(\n",
                "    go.Scatter(\n",
                "        x = winRates.implied_chance, y = winRates.implied_chance, name = 'no bias', line_color = 'rgba(8,61,119, 0.3)'\n",
                "    )\n",
                ")\n",
                "fig.show()"
            ],
            "outputs": [
                {
                    "output_type": "display_data",
                    "data": {
                        "application/vnd.plotly.v1+json": {
                            "config": {
                                "plotlyServerURL": "https://plot.ly"
                            },
                            "data": [
                                {
                                    "hovertemplate": "implied_chance=%{x}<br>win=%{y}<extra></extra>",
                                    "legendgroup": "",
                                    "marker": {
                                        "color": "#636efa",
                                        "symbol": "circle"
                                    },
                                    "mode": "markers",
                                    "name": "",
                                    "orientation": "v",
                                    "showlegend": false,
                                    "type": "scatter",
                                    "x": [
                                        0,
                                        0.05,
                                        0.1,
                                        0.15,
                                        0.2,
                                        0.25,
                                        0.3,
                                        0.35,
                                        0.4,
                                        0.45,
                                        0.5,
                                        0.55,
                                        0.6,
                                        0.65,
                                        0.7,
                                        0.75,
                                        0.8,
                                        0.85,
                                        0.9
                                    ],
                                    "xaxis": "x",
                                    "y": [
                                        0.010752688172043012,
                                        0.04838090362216818,
                                        0.1002921129503408,
                                        0.15198412698412697,
                                        0.1954756380510441,
                                        0.24932975871313673,
                                        0.321285140562249,
                                        0.3092979127134725,
                                        0.35555555555555557,
                                        0.41081081081081083,
                                        0.4875,
                                        0.5495495495495496,
                                        0.6388888888888888,
                                        0.6451612903225806,
                                        0.7222222222222222,
                                        1,
                                        0.75,
                                        1,
                                        1
                                    ],
                                    "yaxis": "y"
                                },
                                {
                                    "line": {
                                        "color": "rgba(8,61,119, 0.3)"
                                    },
                                    "name": "no bias",
                                    "type": "scatter",
                                    "x": [
                                        0,
                                        0.05,
                                        0.1,
                                        0.15,
                                        0.2,
                                        0.25,
                                        0.3,
                                        0.35,
                                        0.4,
                                        0.45,
                                        0.5,
                                        0.55,
                                        0.6,
                                        0.65,
                                        0.7,
                                        0.75,
                                        0.8,
                                        0.85,
                                        0.9
                                    ],
                                    "y": [
                                        0,
                                        0.05,
                                        0.1,
                                        0.15,
                                        0.2,
                                        0.25,
                                        0.3,
                                        0.35,
                                        0.4,
                                        0.45,
                                        0.5,
                                        0.55,
                                        0.6,
                                        0.65,
                                        0.7,
                                        0.75,
                                        0.8,
                                        0.85,
                                        0.9
                                    ]
                                }
                            ],
                            "layout": {
                                "legend": {
                                    "tracegroupgap": 0
                                },
                                "template": {
                                    "data": {
                                        "bar": [
                                            {
                                                "error_x": {
                                                    "color": "#2a3f5f"
                                                },
                                                "error_y": {
                                                    "color": "#2a3f5f"
                                                },
                                                "marker": {
                                                    "line": {
                                                        "color": "white",
                                                        "width": 0.5
                                                    },
                                                    "pattern": {
                                                        "fillmode": "overlay",
                                                        "size": 10,
                                                        "solidity": 0.2
                                                    }
                                                },
                                                "type": "bar"
                                            }
                                        ],
                                        "barpolar": [
                                            {
                                                "marker": {
                                                    "line": {
                                                        "color": "white",
                                                        "width": 0.5
                                                    },
                                                    "pattern": {
                                                        "fillmode": "overlay",
                                                        "size": 10,
                                                        "solidity": 0.2
                                                    }
                                                },
                                                "type": "barpolar"
                                            }
                                        ],
                                        "carpet": [
                                            {
                                                "aaxis": {
                                                    "endlinecolor": "#2a3f5f",
                                                    "gridcolor": "#C8D4E3",
                                                    "linecolor": "#C8D4E3",
                                                    "minorgridcolor": "#C8D4E3",
                                                    "startlinecolor": "#2a3f5f"
                                                },
                                                "baxis": {
                                                    "endlinecolor": "#2a3f5f",
                                                    "gridcolor": "#C8D4E3",
                                                    "linecolor": "#C8D4E3",
                                                    "minorgridcolor": "#C8D4E3",
                                                    "startlinecolor": "#2a3f5f"
                                                },
                                                "type": "carpet"
                                            }
                                        ],
                                        "choropleth": [
                                            {
                                                "colorbar": {
                                                    "outlinewidth": 0,
                                                    "ticks": ""
                                                },
                                                "type": "choropleth"
                                            }
                                        ],
                                        "contour": [
                                            {
                                                "colorbar": {
                                                    "outlinewidth": 0,
                                                    "ticks": ""
                                                },
                                                "colorscale": [
                                                    [
                                                        0,
                                                        "#0d0887"
                                                    ],
                                                    [
                                                        0.1111111111111111,
                                                        "#46039f"
                                                    ],
                                                    [
                                                        0.2222222222222222,
                                                        "#7201a8"
                                                    ],
                                                    [
                                                        0.3333333333333333,
                                                        "#9c179e"
                                                    ],
                                                    [
                                                        0.4444444444444444,
                                                        "#bd3786"
                                                    ],
                                                    [
                                                        0.5555555555555556,
                                                        "#d8576b"
                                                    ],
                                                    [
                                                        0.6666666666666666,
                                                        "#ed7953"
                                                    ],
                                                    [
                                                        0.7777777777777778,
                                                        "#fb9f3a"
                                                    ],
                                                    [
                                                        0.8888888888888888,
                                                        "#fdca26"
                                                    ],
                                                    [
                                                        1,
                                                        "#f0f921"
                                                    ]
                                                ],
                                                "type": "contour"
                                            }
                                        ],
                                        "contourcarpet": [
                                            {
                                                "colorbar": {
                                                    "outlinewidth": 0,
                                                    "ticks": ""
                                                },
                                                "type": "contourcarpet"
                                            }
                                        ],
                                        "heatmap": [
                                            {
                                                "colorbar": {
                                                    "outlinewidth": 0,
                                                    "ticks": ""
                                                },
                                                "colorscale": [
                                                    [
                                                        0,
                                                        "#0d0887"
                                                    ],
                                                    [
                                                        0.1111111111111111,
                                                        "#46039f"
                                                    ],
                                                    [
                                                        0.2222222222222222,
                                                        "#7201a8"
                                                    ],
                                                    [
                                                        0.3333333333333333,
                                                        "#9c179e"
                                                    ],
                                                    [
                                                        0.4444444444444444,
                                                        "#bd3786"
                                                    ],
                                                    [
                                                        0.5555555555555556,
                                                        "#d8576b"
                                                    ],
                                                    [
                                                        0.6666666666666666,
                                                        "#ed7953"
                                                    ],
                                                    [
                                                        0.7777777777777778,
                                                        "#fb9f3a"
                                                    ],
                                                    [
                                                        0.8888888888888888,
                                                        "#fdca26"
                                                    ],
                                                    [
                                                        1,
                                                        "#f0f921"
                                                    ]
                                                ],
                                                "type": "heatmap"
                                            }
                                        ],
                                        "heatmapgl": [
                                            {
                                                "colorbar": {
                                                    "outlinewidth": 0,
                                                    "ticks": ""
                                                },
                                                "colorscale": [
                                                    [
                                                        0,
                                                        "#0d0887"
                                                    ],
                                                    [
                                                        0.1111111111111111,
                                                        "#46039f"
                                                    ],
                                                    [
                                                        0.2222222222222222,
                                                        "#7201a8"
                                                    ],
                                                    [
                                                        0.3333333333333333,
                                                        "#9c179e"
                                                    ],
                                                    [
                                                        0.4444444444444444,
                                                        "#bd3786"
                                                    ],
                                                    [
                                                        0.5555555555555556,
                                                        "#d8576b"
                                                    ],
                                                    [
                                                        0.6666666666666666,
                                                        "#ed7953"
                                                    ],
                                                    [
                                                        0.7777777777777778,
                                                        "#fb9f3a"
                                                    ],
                                                    [
                                                        0.8888888888888888,
                                                        "#fdca26"
                                                    ],
                                                    [
                                                        1,
                                                        "#f0f921"
                                                    ]
                                                ],
                                                "type": "heatmapgl"
                                            }
                                        ],
                                        "histogram": [
                                            {
                                                "marker": {
                                                    "pattern": {
                                                        "fillmode": "overlay",
                                                        "size": 10,
                                                        "solidity": 0.2
                                                    }
                                                },
                                                "type": "histogram"
                                            }
                                        ],
                                        "histogram2d": [
                                            {
                                                "colorbar": {
                                                    "outlinewidth": 0,
                                                    "ticks": ""
                                                },
                                                "colorscale": [
                                                    [
                                                        0,
                                                        "#0d0887"
                                                    ],
                                                    [
                                                        0.1111111111111111,
                                                        "#46039f"
                                                    ],
                                                    [
                                                        0.2222222222222222,
                                                        "#7201a8"
                                                    ],
                                                    [
                                                        0.3333333333333333,
                                                        "#9c179e"
                                                    ],
                                                    [
                                                        0.4444444444444444,
                                                        "#bd3786"
                                                    ],
                                                    [
                                                        0.5555555555555556,
                                                        "#d8576b"
                                                    ],
                                                    [
                                                        0.6666666666666666,
                                                        "#ed7953"
                                                    ],
                                                    [
                                                        0.7777777777777778,
                                                        "#fb9f3a"
                                                    ],
                                                    [
                                                        0.8888888888888888,
                                                        "#fdca26"
                                                    ],
                                                    [
                                                        1,
                                                        "#f0f921"
                                                    ]
                                                ],
                                                "type": "histogram2d"
                                            }
                                        ],
                                        "histogram2dcontour": [
                                            {
                                                "colorbar": {
                                                    "outlinewidth": 0,
                                                    "ticks": ""
                                                },
                                                "colorscale": [
                                                    [
                                                        0,
                                                        "#0d0887"
                                                    ],
                                                    [
                                                        0.1111111111111111,
                                                        "#46039f"
                                                    ],
                                                    [
                                                        0.2222222222222222,
                                                        "#7201a8"
                                                    ],
                                                    [
                                                        0.3333333333333333,
                                                        "#9c179e"
                                                    ],
                                                    [
                                                        0.4444444444444444,
                                                        "#bd3786"
                                                    ],
                                                    [
                                                        0.5555555555555556,
                                                        "#d8576b"
                                                    ],
                                                    [
                                                        0.6666666666666666,
                                                        "#ed7953"
                                                    ],
                                                    [
                                                        0.7777777777777778,
                                                        "#fb9f3a"
                                                    ],
                                                    [
                                                        0.8888888888888888,
                                                        "#fdca26"
                                                    ],
                                                    [
                                                        1,
                                                        "#f0f921"
                                                    ]
                                                ],
                                                "type": "histogram2dcontour"
                                            }
                                        ],
                                        "mesh3d": [
                                            {
                                                "colorbar": {
                                                    "outlinewidth": 0,
                                                    "ticks": ""
                                                },
                                                "type": "mesh3d"
                                            }
                                        ],
                                        "parcoords": [
                                            {
                                                "line": {
                                                    "colorbar": {
                                                        "outlinewidth": 0,
                                                        "ticks": ""
                                                    }
                                                },
                                                "type": "parcoords"
                                            }
                                        ],
                                        "pie": [
                                            {
                                                "automargin": true,
                                                "type": "pie"
                                            }
                                        ],
                                        "scatter": [
                                            {
                                                "marker": {
                                                    "colorbar": {
                                                        "outlinewidth": 0,
                                                        "ticks": ""
                                                    }
                                                },
                                                "type": "scatter"
                                            }
                                        ],
                                        "scatter3d": [
                                            {
                                                "line": {
                                                    "colorbar": {
                                                        "outlinewidth": 0,
                                                        "ticks": ""
                                                    }
                                                },
                                                "marker": {
                                                    "colorbar": {
                                                        "outlinewidth": 0,
                                                        "ticks": ""
                                                    }
                                                },
                                                "type": "scatter3d"
                                            }
                                        ],
                                        "scattercarpet": [
                                            {
                                                "marker": {
                                                    "colorbar": {
                                                        "outlinewidth": 0,
                                                        "ticks": ""
                                                    }
                                                },
                                                "type": "scattercarpet"
                                            }
                                        ],
                                        "scattergeo": [
                                            {
                                                "marker": {
                                                    "colorbar": {
                                                        "outlinewidth": 0,
                                                        "ticks": ""
                                                    }
                                                },
                                                "type": "scattergeo"
                                            }
                                        ],
                                        "scattergl": [
                                            {
                                                "marker": {
                                                    "colorbar": {
                                                        "outlinewidth": 0,
                                                        "ticks": ""
                                                    }
                                                },
                                                "type": "scattergl"
                                            }
                                        ],
                                        "scattermapbox": [
                                            {
                                                "marker": {
                                                    "colorbar": {
                                                        "outlinewidth": 0,
                                                        "ticks": ""
                                                    }
                                                },
                                                "type": "scattermapbox"
                                            }
                                        ],
                                        "scatterpolar": [
                                            {
                                                "marker": {
                                                    "colorbar": {
                                                        "outlinewidth": 0,
                                                        "ticks": ""
                                                    }
                                                },
                                                "type": "scatterpolar"
                                            }
                                        ],
                                        "scatterpolargl": [
                                            {
                                                "marker": {
                                                    "colorbar": {
                                                        "outlinewidth": 0,
                                                        "ticks": ""
                                                    }
                                                },
                                                "type": "scatterpolargl"
                                            }
                                        ],
                                        "scatterternary": [
                                            {
                                                "marker": {
                                                    "colorbar": {
                                                        "outlinewidth": 0,
                                                        "ticks": ""
                                                    }
                                                },
                                                "type": "scatterternary"
                                            }
                                        ],
                                        "surface": [
                                            {
                                                "colorbar": {
                                                    "outlinewidth": 0,
                                                    "ticks": ""
                                                },
                                                "colorscale": [
                                                    [
                                                        0,
                                                        "#0d0887"
                                                    ],
                                                    [
                                                        0.1111111111111111,
                                                        "#46039f"
                                                    ],
                                                    [
                                                        0.2222222222222222,
                                                        "#7201a8"
                                                    ],
                                                    [
                                                        0.3333333333333333,
                                                        "#9c179e"
                                                    ],
                                                    [
                                                        0.4444444444444444,
                                                        "#bd3786"
                                                    ],
                                                    [
                                                        0.5555555555555556,
                                                        "#d8576b"
                                                    ],
                                                    [
                                                        0.6666666666666666,
                                                        "#ed7953"
                                                    ],
                                                    [
                                                        0.7777777777777778,
                                                        "#fb9f3a"
                                                    ],
                                                    [
                                                        0.8888888888888888,
                                                        "#fdca26"
                                                    ],
                                                    [
                                                        1,
                                                        "#f0f921"
                                                    ]
                                                ],
                                                "type": "surface"
                                            }
                                        ],
                                        "table": [
                                            {
                                                "cells": {
                                                    "fill": {
                                                        "color": "#EBF0F8"
                                                    },
                                                    "line": {
                                                        "color": "white"
                                                    }
                                                },
                                                "header": {
                                                    "fill": {
                                                        "color": "#C8D4E3"
                                                    },
                                                    "line": {
                                                        "color": "white"
                                                    }
                                                },
                                                "type": "table"
                                            }
                                        ]
                                    },
                                    "layout": {
                                        "annotationdefaults": {
                                            "arrowcolor": "#2a3f5f",
                                            "arrowhead": 0,
                                            "arrowwidth": 1
                                        },
                                        "autotypenumbers": "strict",
                                        "coloraxis": {
                                            "colorbar": {
                                                "outlinewidth": 0,
                                                "ticks": ""
                                            }
                                        },
                                        "colorscale": {
                                            "diverging": [
                                                [
                                                    0,
                                                    "#8e0152"
                                                ],
                                                [
                                                    0.1,
                                                    "#c51b7d"
                                                ],
                                                [
                                                    0.2,
                                                    "#de77ae"
                                                ],
                                                [
                                                    0.3,
                                                    "#f1b6da"
                                                ],
                                                [
                                                    0.4,
                                                    "#fde0ef"
                                                ],
                                                [
                                                    0.5,
                                                    "#f7f7f7"
                                                ],
                                                [
                                                    0.6,
                                                    "#e6f5d0"
                                                ],
                                                [
                                                    0.7,
                                                    "#b8e186"
                                                ],
                                                [
                                                    0.8,
                                                    "#7fbc41"
                                                ],
                                                [
                                                    0.9,
                                                    "#4d9221"
                                                ],
                                                [
                                                    1,
                                                    "#276419"
                                                ]
                                            ],
                                            "sequential": [
                                                [
                                                    0,
                                                    "#0d0887"
                                                ],
                                                [
                                                    0.1111111111111111,
                                                    "#46039f"
                                                ],
                                                [
                                                    0.2222222222222222,
                                                    "#7201a8"
                                                ],
                                                [
                                                    0.3333333333333333,
                                                    "#9c179e"
                                                ],
                                                [
                                                    0.4444444444444444,
                                                    "#bd3786"
                                                ],
                                                [
                                                    0.5555555555555556,
                                                    "#d8576b"
                                                ],
                                                [
                                                    0.6666666666666666,
                                                    "#ed7953"
                                                ],
                                                [
                                                    0.7777777777777778,
                                                    "#fb9f3a"
                                                ],
                                                [
                                                    0.8888888888888888,
                                                    "#fdca26"
                                                ],
                                                [
                                                    1,
                                                    "#f0f921"
                                                ]
                                            ],
                                            "sequentialminus": [
                                                [
                                                    0,
                                                    "#0d0887"
                                                ],
                                                [
                                                    0.1111111111111111,
                                                    "#46039f"
                                                ],
                                                [
                                                    0.2222222222222222,
                                                    "#7201a8"
                                                ],
                                                [
                                                    0.3333333333333333,
                                                    "#9c179e"
                                                ],
                                                [
                                                    0.4444444444444444,
                                                    "#bd3786"
                                                ],
                                                [
                                                    0.5555555555555556,
                                                    "#d8576b"
                                                ],
                                                [
                                                    0.6666666666666666,
                                                    "#ed7953"
                                                ],
                                                [
                                                    0.7777777777777778,
                                                    "#fb9f3a"
                                                ],
                                                [
                                                    0.8888888888888888,
                                                    "#fdca26"
                                                ],
                                                [
                                                    1,
                                                    "#f0f921"
                                                ]
                                            ]
                                        },
                                        "colorway": [
                                            "#636efa",
                                            "#EF553B",
                                            "#00cc96",
                                            "#ab63fa",
                                            "#FFA15A",
                                            "#19d3f3",
                                            "#FF6692",
                                            "#B6E880",
                                            "#FF97FF",
                                            "#FECB52"
                                        ],
                                        "font": {
                                            "color": "#2a3f5f"
                                        },
                                        "geo": {
                                            "bgcolor": "white",
                                            "lakecolor": "white",
                                            "landcolor": "white",
                                            "showlakes": true,
                                            "showland": true,
                                            "subunitcolor": "#C8D4E3"
                                        },
                                        "hoverlabel": {
                                            "align": "left"
                                        },
                                        "hovermode": "closest",
                                        "mapbox": {
                                            "style": "light"
                                        },
                                        "paper_bgcolor": "white",
                                        "plot_bgcolor": "white",
                                        "polar": {
                                            "angularaxis": {
                                                "gridcolor": "#EBF0F8",
                                                "linecolor": "#EBF0F8",
                                                "ticks": ""
                                            },
                                            "bgcolor": "white",
                                            "radialaxis": {
                                                "gridcolor": "#EBF0F8",
                                                "linecolor": "#EBF0F8",
                                                "ticks": ""
                                            }
                                        },
                                        "scene": {
                                            "xaxis": {
                                                "backgroundcolor": "white",
                                                "gridcolor": "#DFE8F3",
                                                "gridwidth": 2,
                                                "linecolor": "#EBF0F8",
                                                "showbackground": true,
                                                "ticks": "",
                                                "zerolinecolor": "#EBF0F8"
                                            },
                                            "yaxis": {
                                                "backgroundcolor": "white",
                                                "gridcolor": "#DFE8F3",
                                                "gridwidth": 2,
                                                "linecolor": "#EBF0F8",
                                                "showbackground": true,
                                                "ticks": "",
                                                "zerolinecolor": "#EBF0F8"
                                            },
                                            "zaxis": {
                                                "backgroundcolor": "white",
                                                "gridcolor": "#DFE8F3",
                                                "gridwidth": 2,
                                                "linecolor": "#EBF0F8",
                                                "showbackground": true,
                                                "ticks": "",
                                                "zerolinecolor": "#EBF0F8"
                                            }
                                        },
                                        "shapedefaults": {
                                            "line": {
                                                "color": "#2a3f5f"
                                            }
                                        },
                                        "ternary": {
                                            "aaxis": {
                                                "gridcolor": "#DFE8F3",
                                                "linecolor": "#A2B1C6",
                                                "ticks": ""
                                            },
                                            "baxis": {
                                                "gridcolor": "#DFE8F3",
                                                "linecolor": "#A2B1C6",
                                                "ticks": ""
                                            },
                                            "bgcolor": "white",
                                            "caxis": {
                                                "gridcolor": "#DFE8F3",
                                                "linecolor": "#A2B1C6",
                                                "ticks": ""
                                            }
                                        },
                                        "title": {
                                            "x": 0.05
                                        },
                                        "xaxis": {
                                            "automargin": true,
                                            "gridcolor": "#EBF0F8",
                                            "linecolor": "#EBF0F8",
                                            "ticks": "",
                                            "title": {
                                                "standoff": 15
                                            },
                                            "zerolinecolor": "#EBF0F8",
                                            "zerolinewidth": 2
                                        },
                                        "yaxis": {
                                            "automargin": true,
                                            "gridcolor": "#EBF0F8",
                                            "linecolor": "#EBF0F8",
                                            "ticks": "",
                                            "title": {
                                                "standoff": 15
                                            },
                                            "zerolinecolor": "#EBF0F8",
                                            "zerolinewidth": 2
                                        }
                                    }
                                },
                                "title": {
                                    "text": "BSP: implied win vs actual win"
                                },
                                "xaxis": {
                                    "anchor": "y",
                                    "domain": [
                                        0,
                                        1
                                    ],
                                    "title": {
                                        "text": "implied_chance"
                                    }
                                },
                                "yaxis": {
                                    "anchor": "x",
                                    "domain": [
                                        0,
                                        1
                                    ],
                                    "title": {
                                        "text": "win"
                                    }
                                }
                            }
                        }
                    },
                    "metadata": {}
                }
            ],
            "metadata": {}
        },
        {
            "cell_type": "code",
            "execution_count": 43,
            "source": [
                "# Logloss ++++++++++++++++++++++++++++++++++++++++\n",
                "\n",
                "from sklearn.metrics import log_loss\n",
                "\n",
                "# Overall Logloss\n",
                "# _________________\n",
                "\n",
                "bspLoss = log_loss(\n",
                "    y_pred = 1 / selection['bsp'],\n",
                "    y_true = selection['win']\n",
                ")\n",
                "\n",
                "print(f'The overall logloss of the BSP is {round(bspLoss,4)}')\n",
                "\n",
                "# Logloss at Different Time Points\n",
                "# _________________\n",
                "\n"
            ],
            "outputs": [
                {
                    "output_type": "stream",
                    "name": "stdout",
                    "text": [
                        "The overall logloss of the BSP is 0.2767\n"
                    ]
                }
            ],
            "metadata": {}
        },
        {
            "cell_type": "code",
            "execution_count": 44,
            "source": [
                "prices.head(3)"
            ],
            "outputs": [
                {
                    "output_type": "execute_result",
                    "data": {
                        "text/plain": [
                            "     market_id selection_id                    time  near_price  far_price  \\\n",
                            "0  1.183995724     22832649 2021-05-31 06:17:15.379         NaN        NaN   \n",
                            "1  1.183995724     13688381 2021-05-31 06:17:15.379         NaN        NaN   \n",
                            "2  1.183995724      2659734 2021-05-31 06:17:15.379         NaN        NaN   \n",
                            "\n",
                            "   bsp_back_pool_stake  bsp_lay_pool_liability atb_ladder atl_ladder  \n",
                            "0                    0                       0         {}         {}  \n",
                            "1                    0                       0         {}         {}  \n",
                            "2                    0                       0         {}         {}  "
                        ],
                        "text/html": [
                            "<div>\n",
                            "<style scoped>\n",
                            "    .dataframe tbody tr th:only-of-type {\n",
                            "        vertical-align: middle;\n",
                            "    }\n",
                            "\n",
                            "    .dataframe tbody tr th {\n",
                            "        vertical-align: top;\n",
                            "    }\n",
                            "\n",
                            "    .dataframe thead th {\n",
                            "        text-align: right;\n",
                            "    }\n",
                            "</style>\n",
                            "<table border=\"1\" class=\"dataframe\">\n",
                            "  <thead>\n",
                            "    <tr style=\"text-align: right;\">\n",
                            "      <th></th>\n",
                            "      <th>market_id</th>\n",
                            "      <th>selection_id</th>\n",
                            "      <th>time</th>\n",
                            "      <th>near_price</th>\n",
                            "      <th>far_price</th>\n",
                            "      <th>bsp_back_pool_stake</th>\n",
                            "      <th>bsp_lay_pool_liability</th>\n",
                            "      <th>atb_ladder</th>\n",
                            "      <th>atl_ladder</th>\n",
                            "    </tr>\n",
                            "  </thead>\n",
                            "  <tbody>\n",
                            "    <tr>\n",
                            "      <th>0</th>\n",
                            "      <td>1.183995724</td>\n",
                            "      <td>22832649</td>\n",
                            "      <td>2021-05-31 06:17:15.379</td>\n",
                            "      <td>NaN</td>\n",
                            "      <td>NaN</td>\n",
                            "      <td>0</td>\n",
                            "      <td>0</td>\n",
                            "      <td>{}</td>\n",
                            "      <td>{}</td>\n",
                            "    </tr>\n",
                            "    <tr>\n",
                            "      <th>1</th>\n",
                            "      <td>1.183995724</td>\n",
                            "      <td>13688381</td>\n",
                            "      <td>2021-05-31 06:17:15.379</td>\n",
                            "      <td>NaN</td>\n",
                            "      <td>NaN</td>\n",
                            "      <td>0</td>\n",
                            "      <td>0</td>\n",
                            "      <td>{}</td>\n",
                            "      <td>{}</td>\n",
                            "    </tr>\n",
                            "    <tr>\n",
                            "      <th>2</th>\n",
                            "      <td>1.183995724</td>\n",
                            "      <td>2659734</td>\n",
                            "      <td>2021-05-31 06:17:15.379</td>\n",
                            "      <td>NaN</td>\n",
                            "      <td>NaN</td>\n",
                            "      <td>0</td>\n",
                            "      <td>0</td>\n",
                            "      <td>{}</td>\n",
                            "      <td>{}</td>\n",
                            "    </tr>\n",
                            "  </tbody>\n",
                            "</table>\n",
                            "</div>"
                        ]
                    },
                    "metadata": {},
                    "execution_count": 44
                }
            ],
            "metadata": {}
        },
        {
            "cell_type": "markdown",
            "source": [
                "# Projecting BSP\n",
                "\n",
                "- Near price\n",
                "    + showing 60 second lag\n",
                "    +"
            ],
            "metadata": {}
        }
    ],
    "metadata": {
        "orig_nbformat": 4,
        "language_info": {
            "name": "python",
            "version": "3.9.5",
            "mimetype": "text/x-python",
            "codemirror_mode": {
                "name": "ipython",
                "version": 3
            },
            "pygments_lexer": "ipython3",
            "nbconvert_exporter": "python",
            "file_extension": ".py"
        },
        "kernelspec": {
            "name": "python3",
            "display_name": "Python 3.9.5 64-bit"
        },
        "interpreter": {
            "hash": "916dbcbb3f70747c44a77c7bcd40155683ae19c65e1c03b4aa3499c5328201f1"
        }
    },
    "nbformat": 4,
    "nbformat_minor": 2
}