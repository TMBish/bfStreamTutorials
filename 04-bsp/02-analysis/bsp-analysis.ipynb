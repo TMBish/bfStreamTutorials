{
    "cells": [
        {
            "cell_type": "code",
            "execution_count": 1,
            "source": [
                "import pandas as pd\n",
                "import numpy as np\n",
                "import requests\n",
                "import os\n",
                "import re\n",
                "import csv\n",
                "import plotly.express as px\n",
                "import plotly.graph_objects as go\n",
                "import math\n",
                "import ast\n",
                "\n"
            ],
            "outputs": [],
            "metadata": {}
        },
        {
            "cell_type": "code",
            "execution_count": 2,
            "source": [
                "selection = pd.read_csv(\"/media/hdd/tmp/bsp/meta.csv\", dtype={'market_id': object, 'selection_id': object}, parse_dates = ['market_time'])\n",
                "\n",
                "selection.head(3)"
            ],
            "outputs": [
                {
                    "output_type": "execute_result",
                    "data": {
                        "text/plain": [
                            "     market_id selection_id  venue         market_time     selection_name  \\\n",
                            "0  1.179845158     23493550  Cowra 2021-03-01 04:15:00         1. Larmour   \n",
                            "1  1.179845158     16374800  Cowra 2021-03-01 04:15:00  3. Careering Away   \n",
                            "2  1.179845158     19740699  Cowra 2021-03-01 04:15:00    4. Bells N Bows   \n",
                            "\n",
                            "   win   bsp  \n",
                            "0    0  6.20  \n",
                            "1    1  3.60  \n",
                            "2    0  6.62  "
                        ],
                        "text/html": [
                            "<div>\n",
                            "<style scoped>\n",
                            "    .dataframe tbody tr th:only-of-type {\n",
                            "        vertical-align: middle;\n",
                            "    }\n",
                            "\n",
                            "    .dataframe tbody tr th {\n",
                            "        vertical-align: top;\n",
                            "    }\n",
                            "\n",
                            "    .dataframe thead th {\n",
                            "        text-align: right;\n",
                            "    }\n",
                            "</style>\n",
                            "<table border=\"1\" class=\"dataframe\">\n",
                            "  <thead>\n",
                            "    <tr style=\"text-align: right;\">\n",
                            "      <th></th>\n",
                            "      <th>market_id</th>\n",
                            "      <th>selection_id</th>\n",
                            "      <th>venue</th>\n",
                            "      <th>market_time</th>\n",
                            "      <th>selection_name</th>\n",
                            "      <th>win</th>\n",
                            "      <th>bsp</th>\n",
                            "    </tr>\n",
                            "  </thead>\n",
                            "  <tbody>\n",
                            "    <tr>\n",
                            "      <th>0</th>\n",
                            "      <td>1.179845158</td>\n",
                            "      <td>23493550</td>\n",
                            "      <td>Cowra</td>\n",
                            "      <td>2021-03-01 04:15:00</td>\n",
                            "      <td>1. Larmour</td>\n",
                            "      <td>0</td>\n",
                            "      <td>6.20</td>\n",
                            "    </tr>\n",
                            "    <tr>\n",
                            "      <th>1</th>\n",
                            "      <td>1.179845158</td>\n",
                            "      <td>16374800</td>\n",
                            "      <td>Cowra</td>\n",
                            "      <td>2021-03-01 04:15:00</td>\n",
                            "      <td>3. Careering Away</td>\n",
                            "      <td>1</td>\n",
                            "      <td>3.60</td>\n",
                            "    </tr>\n",
                            "    <tr>\n",
                            "      <th>2</th>\n",
                            "      <td>1.179845158</td>\n",
                            "      <td>19740699</td>\n",
                            "      <td>Cowra</td>\n",
                            "      <td>2021-03-01 04:15:00</td>\n",
                            "      <td>4. Bells N Bows</td>\n",
                            "      <td>0</td>\n",
                            "      <td>6.62</td>\n",
                            "    </tr>\n",
                            "  </tbody>\n",
                            "</table>\n",
                            "</div>"
                        ]
                    },
                    "metadata": {},
                    "execution_count": 2
                }
            ],
            "metadata": {}
        },
        {
            "cell_type": "code",
            "execution_count": 18,
            "source": [
                "prices = pd.read_csv(\n",
                "    \"/media/hdd/tmp/bsp/prices.csv\", \n",
                "    quoting=csv.QUOTE_ALL,\n",
                "    dtype={'market_id': 'string', 'selection_id': 'string', 'atb_ladder': 'string', 'atl_ladder': 'string'},\n",
                "    parse_dates=['time']\n",
                ")\n",
                "prices['atb_ladder'] = [ast.literal_eval(x) for x in prices['atb_ladder']]\n",
                "prices['atl_ladder'] = [ast.literal_eval(x) for x in prices['atl_ladder']]\n",
                "\n",
                "# Drop the first row within each group\n",
                "prices = prices.drop(prices.groupby(['market_id', 'selection_id'],as_index=False).nth(0).index)\n",
                "\n",
                "prices.head(3)"
            ],
            "outputs": [
                {
                    "output_type": "execute_result",
                    "data": {
                        "text/plain": [
                            "      market_id selection_id                    time  traded_volume  \\\n",
                            "21  1.179845158     23493550 2021-03-01 04:13:00.058           2465   \n",
                            "22  1.179845158     16374800 2021-03-01 04:13:00.058           5046   \n",
                            "23  1.179845158     19740699 2021-03-01 04:13:00.058           1978   \n",
                            "\n",
                            "    near_price  far_price  bsp_back_pool_stake  bsp_lay_pool_liability  \\\n",
                            "21        5.93       3.17                  113                     238   \n",
                            "22        3.35       1.70                  449                     300   \n",
                            "23        6.39       3.25                  154                     251   \n",
                            "\n",
                            "                                           atb_ladder  \\\n",
                            "21  {'p': [6.2, 6, 5.9, 5.8, 5.7], 'v': [14.63, 13...   \n",
                            "22  {'p': [3.65, 3.6, 3.55, 3.5, 3.45], 'v': [0.45...   \n",
                            "23  {'p': [6, 5.9, 5.8, 5.7, 5.6], 'v': [4.71, 89....   \n",
                            "\n",
                            "                                           atl_ladder  \n",
                            "21  {'p': [6.6, 6.8, 7, 7.2, 7.4], 'v': [22.86, 12...  \n",
                            "22  {'p': [3.75, 3.8, 3.9, 4.1, 4.3], 'v': [5.14, ...  \n",
                            "23  {'p': [6.4, 6.6, 6.8, 7, 7.2], 'v': [30.24, 2....  "
                        ],
                        "text/html": [
                            "<div>\n",
                            "<style scoped>\n",
                            "    .dataframe tbody tr th:only-of-type {\n",
                            "        vertical-align: middle;\n",
                            "    }\n",
                            "\n",
                            "    .dataframe tbody tr th {\n",
                            "        vertical-align: top;\n",
                            "    }\n",
                            "\n",
                            "    .dataframe thead th {\n",
                            "        text-align: right;\n",
                            "    }\n",
                            "</style>\n",
                            "<table border=\"1\" class=\"dataframe\">\n",
                            "  <thead>\n",
                            "    <tr style=\"text-align: right;\">\n",
                            "      <th></th>\n",
                            "      <th>market_id</th>\n",
                            "      <th>selection_id</th>\n",
                            "      <th>time</th>\n",
                            "      <th>traded_volume</th>\n",
                            "      <th>near_price</th>\n",
                            "      <th>far_price</th>\n",
                            "      <th>bsp_back_pool_stake</th>\n",
                            "      <th>bsp_lay_pool_liability</th>\n",
                            "      <th>atb_ladder</th>\n",
                            "      <th>atl_ladder</th>\n",
                            "    </tr>\n",
                            "  </thead>\n",
                            "  <tbody>\n",
                            "    <tr>\n",
                            "      <th>21</th>\n",
                            "      <td>1.179845158</td>\n",
                            "      <td>23493550</td>\n",
                            "      <td>2021-03-01 04:13:00.058</td>\n",
                            "      <td>2465</td>\n",
                            "      <td>5.93</td>\n",
                            "      <td>3.17</td>\n",
                            "      <td>113</td>\n",
                            "      <td>238</td>\n",
                            "      <td>{'p': [6.2, 6, 5.9, 5.8, 5.7], 'v': [14.63, 13...</td>\n",
                            "      <td>{'p': [6.6, 6.8, 7, 7.2, 7.4], 'v': [22.86, 12...</td>\n",
                            "    </tr>\n",
                            "    <tr>\n",
                            "      <th>22</th>\n",
                            "      <td>1.179845158</td>\n",
                            "      <td>16374800</td>\n",
                            "      <td>2021-03-01 04:13:00.058</td>\n",
                            "      <td>5046</td>\n",
                            "      <td>3.35</td>\n",
                            "      <td>1.70</td>\n",
                            "      <td>449</td>\n",
                            "      <td>300</td>\n",
                            "      <td>{'p': [3.65, 3.6, 3.55, 3.5, 3.45], 'v': [0.45...</td>\n",
                            "      <td>{'p': [3.75, 3.8, 3.9, 4.1, 4.3], 'v': [5.14, ...</td>\n",
                            "    </tr>\n",
                            "    <tr>\n",
                            "      <th>23</th>\n",
                            "      <td>1.179845158</td>\n",
                            "      <td>19740699</td>\n",
                            "      <td>2021-03-01 04:13:00.058</td>\n",
                            "      <td>1978</td>\n",
                            "      <td>6.39</td>\n",
                            "      <td>3.25</td>\n",
                            "      <td>154</td>\n",
                            "      <td>251</td>\n",
                            "      <td>{'p': [6, 5.9, 5.8, 5.7, 5.6], 'v': [4.71, 89....</td>\n",
                            "      <td>{'p': [6.4, 6.6, 6.8, 7, 7.2], 'v': [30.24, 2....</td>\n",
                            "    </tr>\n",
                            "  </tbody>\n",
                            "</table>\n",
                            "</div>"
                        ]
                    },
                    "metadata": {},
                    "execution_count": 18
                }
            ],
            "metadata": {}
        },
        {
            "cell_type": "code",
            "execution_count": 19,
            "source": [
                "prices.shape"
            ],
            "outputs": [
                {
                    "output_type": "execute_result",
                    "data": {
                        "text/plain": [
                            "(3937805, 10)"
                        ]
                    },
                    "metadata": {},
                    "execution_count": 19
                }
            ],
            "metadata": {}
        },
        {
            "cell_type": "code",
            "execution_count": 20,
            "source": [
                "prices.query('market_id == \"1.183995724\" and selection_id == \"22832649\"')"
            ],
            "outputs": [
                {
                    "output_type": "execute_result",
                    "data": {
                        "text/plain": [
                            "           market_id selection_id                    time  traded_volume  \\\n",
                            "2762714  1.183995724     22832649 2021-06-01 01:38:00.062           1894   \n",
                            "2762724  1.183995724     22832649 2021-06-01 01:38:10.158           2082   \n",
                            "2762734  1.183995724     22832649 2021-06-01 01:38:20.159           2094   \n",
                            "2762744  1.183995724     22832649 2021-06-01 01:38:30.182           2229   \n",
                            "2762754  1.183995724     22832649 2021-06-01 01:38:40.221           2240   \n",
                            "2762764  1.183995724     22832649 2021-06-01 01:38:50.923           2294   \n",
                            "2762774  1.183995724     22832649 2021-06-01 01:39:00.955           2297   \n",
                            "2762784  1.183995724     22832649 2021-06-01 01:39:10.962           2417   \n",
                            "2762794  1.183995724     22832649 2021-06-01 01:39:20.966           2677   \n",
                            "2762804  1.183995724     22832649 2021-06-01 01:39:30.971           2795   \n",
                            "2762814  1.183995724     22832649 2021-06-01 01:39:41.018           3039   \n",
                            "2762824  1.183995724     22832649 2021-06-01 01:39:51.119           3290   \n",
                            "2762834  1.183995724     22832649 2021-06-01 01:40:01.123           3488   \n",
                            "2762844  1.183995724     22832649 2021-06-01 01:40:11.136           3831   \n",
                            "2762854  1.183995724     22832649 2021-06-01 01:40:18.201           3950   \n",
                            "\n",
                            "         near_price  far_price  bsp_back_pool_stake  bsp_lay_pool_liability  \\\n",
                            "2762714        8.60       7.69                   27                     184   \n",
                            "2762724        8.60       7.69                   27                     184   \n",
                            "2762734        8.00       7.69                   27                     184   \n",
                            "2762744        8.00       7.69                   27                     190   \n",
                            "2762754        8.00       7.69                  136                     205   \n",
                            "2762764        8.00       7.69                  136                     205   \n",
                            "2762774        8.00       7.69                  137                     214   \n",
                            "2762784        8.00       7.69                  137                     229   \n",
                            "2762794        8.18       2.68                  212                     243   \n",
                            "2762804        8.18       2.68                  212                     243   \n",
                            "2762814        8.18       2.68                  245                     324   \n",
                            "2762824        8.18       2.68                  324                     459   \n",
                            "2762834        8.18       2.68                  324                     748   \n",
                            "2762844        8.18       2.68                  447                    2285   \n",
                            "2762854        8.04       7.60                  327                    2469   \n",
                            "\n",
                            "                                                atb_ladder  \\\n",
                            "2762714  {'p': [8, 7.8, 7.6, 7.4, 7.2], 'v': [31.23, 37...   \n",
                            "2762724  {'p': [8, 7.8, 7.6, 7.4, 7.2], 'v': [25.54, 49...   \n",
                            "2762734  {'p': [8, 7.8, 7.6, 7.4, 7.2], 'v': [94.52, 49...   \n",
                            "2762744  {'p': [8, 7.8, 7.6, 7.4, 7.2], 'v': [62.88, 49...   \n",
                            "2762754  {'p': [8.2, 8, 7.8, 7.6, 7.4], 'v': [13.92, 12...   \n",
                            "2762764  {'p': [8, 7.8, 7.6, 7.4, 7.2], 'v': [129.4, 53...   \n",
                            "2762774  {'p': [8.2, 8, 7.8, 7.6, 7.4], 'v': [26.93, 13...   \n",
                            "2762784  {'p': [8.2, 8, 7.8, 7.6, 7.4], 'v': [29.2, 146...   \n",
                            "2762794  {'p': [8.4, 8.2, 8, 7.8, 7.6], 'v': [19.2, 89....   \n",
                            "2762804  {'p': [8.2, 8, 7.8, 7.6, 7.4], 'v': [79.45, 82...   \n",
                            "2762814  {'p': [8.4, 8.2, 8, 7.8, 7.6], 'v': [37.01, 12...   \n",
                            "2762824  {'p': [8.2, 8, 7.8, 7.6, 7.4], 'v': [63.46, 94...   \n",
                            "2762834  {'p': [8.4, 8.2, 8, 7.8, 7.6], 'v': [32.81, 97...   \n",
                            "2762844  {'p': [8.2, 8, 7.8, 7.6, 7.4], 'v': [46.15, 99...   \n",
                            "2762854  {'p': [6.8, 6.4, 5.9, 5.1, 4.4], 'v': [4.01, 3...   \n",
                            "\n",
                            "                                                atl_ladder  \n",
                            "2762714  {'p': [8.4, 8.6, 8.8, 9, 9.2], 'v': [63.98, 14...  \n",
                            "2762724  {'p': [8.2, 8.4, 8.6, 8.8, 9], 'v': [37.63, 68...  \n",
                            "2762734  {'p': [8.2, 8.4, 8.6, 8.8, 9], 'v': [37.63, 56...  \n",
                            "2762744  {'p': [8.2, 8.4, 8.6, 8.8, 9], 'v': [22.99, 56...  \n",
                            "2762754  {'p': [8.4, 8.6, 8.8, 9, 9.2], 'v': [53.28, 41...  \n",
                            "2762764  {'p': [8.4, 8.6, 8.8, 9, 9.2], 'v': [67.76, 41...  \n",
                            "2762774  {'p': [8.4, 8.6, 8.8, 9, 9.2], 'v': [53.28, 41...  \n",
                            "2762784  {'p': [8.4, 8.6, 8.8, 9, 9.2], 'v': [53.26, 23...  \n",
                            "2762794  {'p': [8.6, 8.8, 9, 9.2, 9.4], 'v': [69.9, 16....  \n",
                            "2762804  {'p': [8.4, 8.6, 8.8, 9, 9.2], 'v': [59.89, 65...  \n",
                            "2762814  {'p': [8.6, 8.8, 9, 9.2, 9.4], 'v': [73.69, 37...  \n",
                            "2762824  {'p': [8.6, 8.8, 9, 9.2, 9.4], 'v': [19.59, 18...  \n",
                            "2762834  {'p': [8.6, 8.8, 9, 9.2, 9.4], 'v': [0.96, 15....  \n",
                            "2762844  {'p': [8.4, 8.6, 8.8, 9, 9.2], 'v': [20.11, 47...  \n",
                            "2762854  {'p': [10, 11, 11.5, 15, 15.5], 'v': [6.05, 0....  "
                        ],
                        "text/html": [
                            "<div>\n",
                            "<style scoped>\n",
                            "    .dataframe tbody tr th:only-of-type {\n",
                            "        vertical-align: middle;\n",
                            "    }\n",
                            "\n",
                            "    .dataframe tbody tr th {\n",
                            "        vertical-align: top;\n",
                            "    }\n",
                            "\n",
                            "    .dataframe thead th {\n",
                            "        text-align: right;\n",
                            "    }\n",
                            "</style>\n",
                            "<table border=\"1\" class=\"dataframe\">\n",
                            "  <thead>\n",
                            "    <tr style=\"text-align: right;\">\n",
                            "      <th></th>\n",
                            "      <th>market_id</th>\n",
                            "      <th>selection_id</th>\n",
                            "      <th>time</th>\n",
                            "      <th>traded_volume</th>\n",
                            "      <th>near_price</th>\n",
                            "      <th>far_price</th>\n",
                            "      <th>bsp_back_pool_stake</th>\n",
                            "      <th>bsp_lay_pool_liability</th>\n",
                            "      <th>atb_ladder</th>\n",
                            "      <th>atl_ladder</th>\n",
                            "    </tr>\n",
                            "  </thead>\n",
                            "  <tbody>\n",
                            "    <tr>\n",
                            "      <th>2762714</th>\n",
                            "      <td>1.183995724</td>\n",
                            "      <td>22832649</td>\n",
                            "      <td>2021-06-01 01:38:00.062</td>\n",
                            "      <td>1894</td>\n",
                            "      <td>8.60</td>\n",
                            "      <td>7.69</td>\n",
                            "      <td>27</td>\n",
                            "      <td>184</td>\n",
                            "      <td>{'p': [8, 7.8, 7.6, 7.4, 7.2], 'v': [31.23, 37...</td>\n",
                            "      <td>{'p': [8.4, 8.6, 8.8, 9, 9.2], 'v': [63.98, 14...</td>\n",
                            "    </tr>\n",
                            "    <tr>\n",
                            "      <th>2762724</th>\n",
                            "      <td>1.183995724</td>\n",
                            "      <td>22832649</td>\n",
                            "      <td>2021-06-01 01:38:10.158</td>\n",
                            "      <td>2082</td>\n",
                            "      <td>8.60</td>\n",
                            "      <td>7.69</td>\n",
                            "      <td>27</td>\n",
                            "      <td>184</td>\n",
                            "      <td>{'p': [8, 7.8, 7.6, 7.4, 7.2], 'v': [25.54, 49...</td>\n",
                            "      <td>{'p': [8.2, 8.4, 8.6, 8.8, 9], 'v': [37.63, 68...</td>\n",
                            "    </tr>\n",
                            "    <tr>\n",
                            "      <th>2762734</th>\n",
                            "      <td>1.183995724</td>\n",
                            "      <td>22832649</td>\n",
                            "      <td>2021-06-01 01:38:20.159</td>\n",
                            "      <td>2094</td>\n",
                            "      <td>8.00</td>\n",
                            "      <td>7.69</td>\n",
                            "      <td>27</td>\n",
                            "      <td>184</td>\n",
                            "      <td>{'p': [8, 7.8, 7.6, 7.4, 7.2], 'v': [94.52, 49...</td>\n",
                            "      <td>{'p': [8.2, 8.4, 8.6, 8.8, 9], 'v': [37.63, 56...</td>\n",
                            "    </tr>\n",
                            "    <tr>\n",
                            "      <th>2762744</th>\n",
                            "      <td>1.183995724</td>\n",
                            "      <td>22832649</td>\n",
                            "      <td>2021-06-01 01:38:30.182</td>\n",
                            "      <td>2229</td>\n",
                            "      <td>8.00</td>\n",
                            "      <td>7.69</td>\n",
                            "      <td>27</td>\n",
                            "      <td>190</td>\n",
                            "      <td>{'p': [8, 7.8, 7.6, 7.4, 7.2], 'v': [62.88, 49...</td>\n",
                            "      <td>{'p': [8.2, 8.4, 8.6, 8.8, 9], 'v': [22.99, 56...</td>\n",
                            "    </tr>\n",
                            "    <tr>\n",
                            "      <th>2762754</th>\n",
                            "      <td>1.183995724</td>\n",
                            "      <td>22832649</td>\n",
                            "      <td>2021-06-01 01:38:40.221</td>\n",
                            "      <td>2240</td>\n",
                            "      <td>8.00</td>\n",
                            "      <td>7.69</td>\n",
                            "      <td>136</td>\n",
                            "      <td>205</td>\n",
                            "      <td>{'p': [8.2, 8, 7.8, 7.6, 7.4], 'v': [13.92, 12...</td>\n",
                            "      <td>{'p': [8.4, 8.6, 8.8, 9, 9.2], 'v': [53.28, 41...</td>\n",
                            "    </tr>\n",
                            "    <tr>\n",
                            "      <th>2762764</th>\n",
                            "      <td>1.183995724</td>\n",
                            "      <td>22832649</td>\n",
                            "      <td>2021-06-01 01:38:50.923</td>\n",
                            "      <td>2294</td>\n",
                            "      <td>8.00</td>\n",
                            "      <td>7.69</td>\n",
                            "      <td>136</td>\n",
                            "      <td>205</td>\n",
                            "      <td>{'p': [8, 7.8, 7.6, 7.4, 7.2], 'v': [129.4, 53...</td>\n",
                            "      <td>{'p': [8.4, 8.6, 8.8, 9, 9.2], 'v': [67.76, 41...</td>\n",
                            "    </tr>\n",
                            "    <tr>\n",
                            "      <th>2762774</th>\n",
                            "      <td>1.183995724</td>\n",
                            "      <td>22832649</td>\n",
                            "      <td>2021-06-01 01:39:00.955</td>\n",
                            "      <td>2297</td>\n",
                            "      <td>8.00</td>\n",
                            "      <td>7.69</td>\n",
                            "      <td>137</td>\n",
                            "      <td>214</td>\n",
                            "      <td>{'p': [8.2, 8, 7.8, 7.6, 7.4], 'v': [26.93, 13...</td>\n",
                            "      <td>{'p': [8.4, 8.6, 8.8, 9, 9.2], 'v': [53.28, 41...</td>\n",
                            "    </tr>\n",
                            "    <tr>\n",
                            "      <th>2762784</th>\n",
                            "      <td>1.183995724</td>\n",
                            "      <td>22832649</td>\n",
                            "      <td>2021-06-01 01:39:10.962</td>\n",
                            "      <td>2417</td>\n",
                            "      <td>8.00</td>\n",
                            "      <td>7.69</td>\n",
                            "      <td>137</td>\n",
                            "      <td>229</td>\n",
                            "      <td>{'p': [8.2, 8, 7.8, 7.6, 7.4], 'v': [29.2, 146...</td>\n",
                            "      <td>{'p': [8.4, 8.6, 8.8, 9, 9.2], 'v': [53.26, 23...</td>\n",
                            "    </tr>\n",
                            "    <tr>\n",
                            "      <th>2762794</th>\n",
                            "      <td>1.183995724</td>\n",
                            "      <td>22832649</td>\n",
                            "      <td>2021-06-01 01:39:20.966</td>\n",
                            "      <td>2677</td>\n",
                            "      <td>8.18</td>\n",
                            "      <td>2.68</td>\n",
                            "      <td>212</td>\n",
                            "      <td>243</td>\n",
                            "      <td>{'p': [8.4, 8.2, 8, 7.8, 7.6], 'v': [19.2, 89....</td>\n",
                            "      <td>{'p': [8.6, 8.8, 9, 9.2, 9.4], 'v': [69.9, 16....</td>\n",
                            "    </tr>\n",
                            "    <tr>\n",
                            "      <th>2762804</th>\n",
                            "      <td>1.183995724</td>\n",
                            "      <td>22832649</td>\n",
                            "      <td>2021-06-01 01:39:30.971</td>\n",
                            "      <td>2795</td>\n",
                            "      <td>8.18</td>\n",
                            "      <td>2.68</td>\n",
                            "      <td>212</td>\n",
                            "      <td>243</td>\n",
                            "      <td>{'p': [8.2, 8, 7.8, 7.6, 7.4], 'v': [79.45, 82...</td>\n",
                            "      <td>{'p': [8.4, 8.6, 8.8, 9, 9.2], 'v': [59.89, 65...</td>\n",
                            "    </tr>\n",
                            "    <tr>\n",
                            "      <th>2762814</th>\n",
                            "      <td>1.183995724</td>\n",
                            "      <td>22832649</td>\n",
                            "      <td>2021-06-01 01:39:41.018</td>\n",
                            "      <td>3039</td>\n",
                            "      <td>8.18</td>\n",
                            "      <td>2.68</td>\n",
                            "      <td>245</td>\n",
                            "      <td>324</td>\n",
                            "      <td>{'p': [8.4, 8.2, 8, 7.8, 7.6], 'v': [37.01, 12...</td>\n",
                            "      <td>{'p': [8.6, 8.8, 9, 9.2, 9.4], 'v': [73.69, 37...</td>\n",
                            "    </tr>\n",
                            "    <tr>\n",
                            "      <th>2762824</th>\n",
                            "      <td>1.183995724</td>\n",
                            "      <td>22832649</td>\n",
                            "      <td>2021-06-01 01:39:51.119</td>\n",
                            "      <td>3290</td>\n",
                            "      <td>8.18</td>\n",
                            "      <td>2.68</td>\n",
                            "      <td>324</td>\n",
                            "      <td>459</td>\n",
                            "      <td>{'p': [8.2, 8, 7.8, 7.6, 7.4], 'v': [63.46, 94...</td>\n",
                            "      <td>{'p': [8.6, 8.8, 9, 9.2, 9.4], 'v': [19.59, 18...</td>\n",
                            "    </tr>\n",
                            "    <tr>\n",
                            "      <th>2762834</th>\n",
                            "      <td>1.183995724</td>\n",
                            "      <td>22832649</td>\n",
                            "      <td>2021-06-01 01:40:01.123</td>\n",
                            "      <td>3488</td>\n",
                            "      <td>8.18</td>\n",
                            "      <td>2.68</td>\n",
                            "      <td>324</td>\n",
                            "      <td>748</td>\n",
                            "      <td>{'p': [8.4, 8.2, 8, 7.8, 7.6], 'v': [32.81, 97...</td>\n",
                            "      <td>{'p': [8.6, 8.8, 9, 9.2, 9.4], 'v': [0.96, 15....</td>\n",
                            "    </tr>\n",
                            "    <tr>\n",
                            "      <th>2762844</th>\n",
                            "      <td>1.183995724</td>\n",
                            "      <td>22832649</td>\n",
                            "      <td>2021-06-01 01:40:11.136</td>\n",
                            "      <td>3831</td>\n",
                            "      <td>8.18</td>\n",
                            "      <td>2.68</td>\n",
                            "      <td>447</td>\n",
                            "      <td>2285</td>\n",
                            "      <td>{'p': [8.2, 8, 7.8, 7.6, 7.4], 'v': [46.15, 99...</td>\n",
                            "      <td>{'p': [8.4, 8.6, 8.8, 9, 9.2], 'v': [20.11, 47...</td>\n",
                            "    </tr>\n",
                            "    <tr>\n",
                            "      <th>2762854</th>\n",
                            "      <td>1.183995724</td>\n",
                            "      <td>22832649</td>\n",
                            "      <td>2021-06-01 01:40:18.201</td>\n",
                            "      <td>3950</td>\n",
                            "      <td>8.04</td>\n",
                            "      <td>7.60</td>\n",
                            "      <td>327</td>\n",
                            "      <td>2469</td>\n",
                            "      <td>{'p': [6.8, 6.4, 5.9, 5.1, 4.4], 'v': [4.01, 3...</td>\n",
                            "      <td>{'p': [10, 11, 11.5, 15, 15.5], 'v': [6.05, 0....</td>\n",
                            "    </tr>\n",
                            "  </tbody>\n",
                            "</table>\n",
                            "</div>"
                        ]
                    },
                    "metadata": {},
                    "execution_count": 20
                }
            ],
            "metadata": {}
        },
        {
            "cell_type": "code",
            "execution_count": 21,
            "source": [
                "selection.query('market_id == \"1.183995724\" and selection_id == \"22832649\"')"
            ],
            "outputs": [
                {
                    "output_type": "execute_result",
                    "data": {
                        "text/plain": [
                            "          market_id selection_id     venue         market_time selection_name  \\\n",
                            "106966  1.183995724     22832649  Hamilton 2021-06-01 01:40:00   1. Ablestock   \n",
                            "\n",
                            "        win  bsp  \n",
                            "106966    0  8.4  "
                        ],
                        "text/html": [
                            "<div>\n",
                            "<style scoped>\n",
                            "    .dataframe tbody tr th:only-of-type {\n",
                            "        vertical-align: middle;\n",
                            "    }\n",
                            "\n",
                            "    .dataframe tbody tr th {\n",
                            "        vertical-align: top;\n",
                            "    }\n",
                            "\n",
                            "    .dataframe thead th {\n",
                            "        text-align: right;\n",
                            "    }\n",
                            "</style>\n",
                            "<table border=\"1\" class=\"dataframe\">\n",
                            "  <thead>\n",
                            "    <tr style=\"text-align: right;\">\n",
                            "      <th></th>\n",
                            "      <th>market_id</th>\n",
                            "      <th>selection_id</th>\n",
                            "      <th>venue</th>\n",
                            "      <th>market_time</th>\n",
                            "      <th>selection_name</th>\n",
                            "      <th>win</th>\n",
                            "      <th>bsp</th>\n",
                            "    </tr>\n",
                            "  </thead>\n",
                            "  <tbody>\n",
                            "    <tr>\n",
                            "      <th>106966</th>\n",
                            "      <td>1.183995724</td>\n",
                            "      <td>22832649</td>\n",
                            "      <td>Hamilton</td>\n",
                            "      <td>2021-06-01 01:40:00</td>\n",
                            "      <td>1. Ablestock</td>\n",
                            "      <td>0</td>\n",
                            "      <td>8.4</td>\n",
                            "    </tr>\n",
                            "  </tbody>\n",
                            "</table>\n",
                            "</div>"
                        ]
                    },
                    "metadata": {},
                    "execution_count": 21
                }
            ],
            "metadata": {}
        },
        {
            "cell_type": "code",
            "execution_count": 22,
            "source": [
                "# Define the betfair tick ladder\n",
                "def bfTickLadder():\n",
                "\n",
                "    tickIncrements = {\n",
                "        1.0: 0.01,\n",
                "        2.0: 0.02,\n",
                "        3.0: 0.05,\n",
                "        4.0: 0.1,\n",
                "        6.0: 0.2,\n",
                "        10.0: 0.5,\n",
                "        20.0: 1.0,\n",
                "        30.0: 2.0,\n",
                "        50.0: 5.0,\n",
                "        100.0: 10.0,\n",
                "        1000.0: 1000,\n",
                "    }\n",
                "\n",
                "    ladder = []\n",
                "\n",
                "    for index, key in enumerate(tickIncrements):\n",
                "\n",
                "        increment = tickIncrements[key]\n",
                "\n",
                "        if (index+1) == len(tickIncrements):\n",
                "            ladder.append(key)\n",
                "        else:\n",
                "            key1 = [*tickIncrements][index]\n",
                "            key2 = [*tickIncrements][index+1]\n",
                "            steps = (key2 - key1) / increment\n",
                "\n",
                "            for i in range(int(steps)):\n",
                "                ladder.append(round(key + i * increment, 2))\n",
                "\n",
                "    return(ladder)\n",
                "\n",
                "bfticks = bfTickLadder()\n",
                "    \n",
                "# Round a decimal to the betfair tick value below\n",
                "def bfTickFloor(price, includeIndex=False):\n",
                "\n",
                "    if 'bfticks' in globals():\n",
                "        global bfticks\n",
                "    else:\n",
                "        bfticks = bfTickLadder()\n",
                "\n",
                "    ind = [ n for n,i in enumerate(bfticks) if i>=price][0]\n",
                "    if includeIndex:\n",
                "        if bfticks[ind]==price:\n",
                "            return((ind, price))\n",
                "        else:\n",
                "            return((ind-1, bfticks[ind-1]))\n",
                "    else:\n",
                "        if bfticks[ind]==price:\n",
                "            return(price)\n",
                "        else:\n",
                "            return(bfticks[ind-1])\n",
                "\n",
                "# Calculate the numder of ticks between two tick values\n",
                "def bfTickDelta(p1, p2):\n",
                "\n",
                "    if np.isnan(p1) or np.isnan(p2):\n",
                "        return(np.nan)\n",
                "\n",
                "    x = bfTickFloor(p1, includeIndex=True)\n",
                "    y = bfTickFloor(p2, includeIndex=True)\n",
                "    return(x[0]-y[0])\n",
                "\n",
                "def bfTickShift(p, rungs):\n",
                "\n",
                "    if 'bfticks' in globals():\n",
                "        global bfticks\n",
                "    else:\n",
                "        bfticks = bfTickLadder()\n",
                "    \n",
                "    flr = bfTickFloor(p, includeIndex = True)\n",
                "\n",
                "    return(bfticks[flr[0]+rungs])\n",
                "\n",
                "\n",
                "def bfLadderMidPoint(p1, p2):\n",
                "\n",
                "    if np.isnan(p1) or np.isnan(p2):\n",
                "        return(np.nan)\n",
                "\n",
                "    delta = -1 * bfTickDelta(p1, p2)\n",
                "\n",
                "    if delta == 1:\n",
                "        return(p1)\n",
                "    elif delta % 2 != 0:\n",
                "        return(bfTickShift(p1, math.ceil(delta / 2)))\n",
                "    else:\n",
                "        return(bfTickShift(p1, math.floor(delta / 2)))"
            ],
            "outputs": [],
            "metadata": {}
        },
        {
            "cell_type": "code",
            "execution_count": 62,
            "source": [
                "# Join and augment\n",
                "df = (\n",
                "    selection.merge(prices, on = ['market_id', 'selection_id'])\n",
                "    .assign(sbsj = lambda x: round((x['market_time'] - x['time']).dt.total_seconds() / 10) * 10)\n",
                "    .assign(back_best = lambda x: [np.nan if d.get('p') is None else d.get('p')[0] for d in x['atb_ladder']])\n",
                "    .assign(lay_best = lambda x: [np.nan if d.get('p') is None else d.get('p')[0] for d in x['atl_ladder']])\n",
                "    .assign(geometric_mid_point = lambda x: round(1 / np.sqrt((1/x['back_best']) * (1/x['lay_best'])), 3))\n",
                "    .assign(ladder_mid_point = lambda x: x.apply(lambda x: bfLadderMidPoint(x.back_best, x.lay_best), axis=1))\n",
                "    .replace([np.inf, -np.inf], np.nan)\n",
                ")\n",
                "\n",
                "df.head(3)\n"
            ],
            "outputs": [
                {
                    "output_type": "execute_result",
                    "data": {
                        "text/plain": [
                            "     market_id selection_id  venue         market_time selection_name  win  \\\n",
                            "0  1.179845158     23493550  Cowra 2021-03-01 04:15:00     1. Larmour    0   \n",
                            "1  1.179845158     23493550  Cowra 2021-03-01 04:15:00     1. Larmour    0   \n",
                            "2  1.179845158     23493550  Cowra 2021-03-01 04:15:00     1. Larmour    0   \n",
                            "\n",
                            "   bsp                    time  traded_volume  near_price  far_price  \\\n",
                            "0  6.2 2021-03-01 04:13:00.058           2465        5.93       3.17   \n",
                            "1  6.2 2021-03-01 04:13:10.077           2848        5.93       3.17   \n",
                            "2  6.2 2021-03-01 04:13:20.161           2866        5.93       3.17   \n",
                            "\n",
                            "   bsp_back_pool_stake  bsp_lay_pool_liability  \\\n",
                            "0                  113                     238   \n",
                            "1                  113                     238   \n",
                            "2                  113                     238   \n",
                            "\n",
                            "                                          atb_ladder  \\\n",
                            "0  {'p': [6.2, 6, 5.9, 5.8, 5.7], 'v': [14.63, 13...   \n",
                            "1  {'p': [6, 5.9, 5.8, 5.7, 5.6], 'v': [59.93, 36...   \n",
                            "2  {'p': [6.2, 6, 5.9, 5.8, 5.7], 'v': [22.91, 88...   \n",
                            "\n",
                            "                                          atl_ladder   sbsj  back_best  \\\n",
                            "0  {'p': [6.6, 6.8, 7, 7.2, 7.4], 'v': [22.86, 12...  120.0        6.2   \n",
                            "1  {'p': [6.4, 6.6, 6.8, 7, 7.2], 'v': [28.79, 50...  110.0        6.0   \n",
                            "2  {'p': [6.6, 6.8, 7, 7.2, 7.4], 'v': [55.19, 22...  100.0        6.2   \n",
                            "\n",
                            "   lay_best  geometric_mid_point  ladder_mid_point  \n",
                            "0       6.6                6.397               6.4  \n",
                            "1       6.4                6.197               6.2  \n",
                            "2       6.6                6.397               6.4  "
                        ],
                        "text/html": [
                            "<div>\n",
                            "<style scoped>\n",
                            "    .dataframe tbody tr th:only-of-type {\n",
                            "        vertical-align: middle;\n",
                            "    }\n",
                            "\n",
                            "    .dataframe tbody tr th {\n",
                            "        vertical-align: top;\n",
                            "    }\n",
                            "\n",
                            "    .dataframe thead th {\n",
                            "        text-align: right;\n",
                            "    }\n",
                            "</style>\n",
                            "<table border=\"1\" class=\"dataframe\">\n",
                            "  <thead>\n",
                            "    <tr style=\"text-align: right;\">\n",
                            "      <th></th>\n",
                            "      <th>market_id</th>\n",
                            "      <th>selection_id</th>\n",
                            "      <th>venue</th>\n",
                            "      <th>market_time</th>\n",
                            "      <th>selection_name</th>\n",
                            "      <th>win</th>\n",
                            "      <th>bsp</th>\n",
                            "      <th>time</th>\n",
                            "      <th>traded_volume</th>\n",
                            "      <th>near_price</th>\n",
                            "      <th>far_price</th>\n",
                            "      <th>bsp_back_pool_stake</th>\n",
                            "      <th>bsp_lay_pool_liability</th>\n",
                            "      <th>atb_ladder</th>\n",
                            "      <th>atl_ladder</th>\n",
                            "      <th>sbsj</th>\n",
                            "      <th>back_best</th>\n",
                            "      <th>lay_best</th>\n",
                            "      <th>geometric_mid_point</th>\n",
                            "      <th>ladder_mid_point</th>\n",
                            "    </tr>\n",
                            "  </thead>\n",
                            "  <tbody>\n",
                            "    <tr>\n",
                            "      <th>0</th>\n",
                            "      <td>1.179845158</td>\n",
                            "      <td>23493550</td>\n",
                            "      <td>Cowra</td>\n",
                            "      <td>2021-03-01 04:15:00</td>\n",
                            "      <td>1. Larmour</td>\n",
                            "      <td>0</td>\n",
                            "      <td>6.2</td>\n",
                            "      <td>2021-03-01 04:13:00.058</td>\n",
                            "      <td>2465</td>\n",
                            "      <td>5.93</td>\n",
                            "      <td>3.17</td>\n",
                            "      <td>113</td>\n",
                            "      <td>238</td>\n",
                            "      <td>{'p': [6.2, 6, 5.9, 5.8, 5.7], 'v': [14.63, 13...</td>\n",
                            "      <td>{'p': [6.6, 6.8, 7, 7.2, 7.4], 'v': [22.86, 12...</td>\n",
                            "      <td>120.0</td>\n",
                            "      <td>6.2</td>\n",
                            "      <td>6.6</td>\n",
                            "      <td>6.397</td>\n",
                            "      <td>6.4</td>\n",
                            "    </tr>\n",
                            "    <tr>\n",
                            "      <th>1</th>\n",
                            "      <td>1.179845158</td>\n",
                            "      <td>23493550</td>\n",
                            "      <td>Cowra</td>\n",
                            "      <td>2021-03-01 04:15:00</td>\n",
                            "      <td>1. Larmour</td>\n",
                            "      <td>0</td>\n",
                            "      <td>6.2</td>\n",
                            "      <td>2021-03-01 04:13:10.077</td>\n",
                            "      <td>2848</td>\n",
                            "      <td>5.93</td>\n",
                            "      <td>3.17</td>\n",
                            "      <td>113</td>\n",
                            "      <td>238</td>\n",
                            "      <td>{'p': [6, 5.9, 5.8, 5.7, 5.6], 'v': [59.93, 36...</td>\n",
                            "      <td>{'p': [6.4, 6.6, 6.8, 7, 7.2], 'v': [28.79, 50...</td>\n",
                            "      <td>110.0</td>\n",
                            "      <td>6.0</td>\n",
                            "      <td>6.4</td>\n",
                            "      <td>6.197</td>\n",
                            "      <td>6.2</td>\n",
                            "    </tr>\n",
                            "    <tr>\n",
                            "      <th>2</th>\n",
                            "      <td>1.179845158</td>\n",
                            "      <td>23493550</td>\n",
                            "      <td>Cowra</td>\n",
                            "      <td>2021-03-01 04:15:00</td>\n",
                            "      <td>1. Larmour</td>\n",
                            "      <td>0</td>\n",
                            "      <td>6.2</td>\n",
                            "      <td>2021-03-01 04:13:20.161</td>\n",
                            "      <td>2866</td>\n",
                            "      <td>5.93</td>\n",
                            "      <td>3.17</td>\n",
                            "      <td>113</td>\n",
                            "      <td>238</td>\n",
                            "      <td>{'p': [6.2, 6, 5.9, 5.8, 5.7], 'v': [22.91, 88...</td>\n",
                            "      <td>{'p': [6.6, 6.8, 7, 7.2, 7.4], 'v': [55.19, 22...</td>\n",
                            "      <td>100.0</td>\n",
                            "      <td>6.2</td>\n",
                            "      <td>6.6</td>\n",
                            "      <td>6.397</td>\n",
                            "      <td>6.4</td>\n",
                            "    </tr>\n",
                            "  </tbody>\n",
                            "</table>\n",
                            "</div>"
                        ]
                    },
                    "metadata": {},
                    "execution_count": 62
                }
            ],
            "metadata": {}
        },
        {
            "cell_type": "markdown",
            "source": [
                "# The BSP\n",
                "\n",
                "- Volumes traded\n",
                "- Accuracy\n",
                "- Back profit / lay profit in certain odds ranges"
            ],
            "metadata": {}
        },
        {
            "cell_type": "code",
            "execution_count": 13,
            "source": [
                "# Volume Traded\n",
                "# ___________________________\n"
            ],
            "outputs": [],
            "metadata": {}
        },
        {
            "cell_type": "code",
            "execution_count": 91,
            "source": [
                "# Accuracy\n",
                "# ___________________________\n",
                "\n",
                "# Prepare dataframe with BSP and the geometric midpoint first\n",
                "\n",
                "preplay = df[df.sbsj.isin([120,90,60,30,0])][['market_id', 'selection_id', 'win', 'sbsj', 'geometric_mid_point']].sort_values(['market_id', 'selection_id', 'sbsj'], ascending = [True, True, False]).rename(columns={'geometric_mid_point': 'odds'}).assign(type = lambda x: \"seconds before off: \" + x['sbsj'].astype(int).astype(str))\n",
                "\n",
                "bsp = df.sort_values(['market_id', 'selection_id', 'time'], ascending = [True, True, False]).groupby(['market_id', 'selection_id']).head(1)[['market_id', 'selection_id', 'win', 'sbsj', 'bsp']].rename(columns={'bsp': 'odds'}).assign(type = \"bsp\")\n",
                "\n",
                "accuracyFrame = pd.concat([preplay, bsp]).dropna()\n",
                "accuracyFrame"
            ],
            "outputs": [
                {
                    "output_type": "execute_result",
                    "data": {
                        "text/plain": [
                            "           market_id selection_id  win   sbsj     odds  \\\n",
                            "2790008  1.171091071     10693094    0  120.0  134.164   \n",
                            "2790011  1.171091071     10693094    0   90.0  149.666   \n",
                            "2790014  1.171091071     10693094    0   60.0  200.000   \n",
                            "2790017  1.171091071     10693094    0   30.0  239.792   \n",
                            "2790020  1.171091071     10693094    0   -0.0  239.165   \n",
                            "...              ...          ...  ...    ...      ...   \n",
                            "2253017  1.184845396     24644026    0  -20.0   39.580   \n",
                            "2253081  1.184845396     28640078    0  -20.0   13.240   \n",
                            "2253065  1.184845396     37583926    0  -20.0   70.420   \n",
                            "2253049  1.184845396     37996263    1  -20.0    5.970   \n",
                            "2253033  1.184845396     39990425    0  -20.0    2.640   \n",
                            "\n",
                            "                            type  \n",
                            "2790008  seconds before off: 120  \n",
                            "2790011   seconds before off: 90  \n",
                            "2790014   seconds before off: 60  \n",
                            "2790017   seconds before off: 30  \n",
                            "2790020    seconds before off: 0  \n",
                            "...                          ...  \n",
                            "2253017                      bsp  \n",
                            "2253081                      bsp  \n",
                            "2253065                      bsp  \n",
                            "2253049                      bsp  \n",
                            "2253033                      bsp  \n",
                            "\n",
                            "[960566 rows x 6 columns]"
                        ],
                        "text/html": [
                            "<div>\n",
                            "<style scoped>\n",
                            "    .dataframe tbody tr th:only-of-type {\n",
                            "        vertical-align: middle;\n",
                            "    }\n",
                            "\n",
                            "    .dataframe tbody tr th {\n",
                            "        vertical-align: top;\n",
                            "    }\n",
                            "\n",
                            "    .dataframe thead th {\n",
                            "        text-align: right;\n",
                            "    }\n",
                            "</style>\n",
                            "<table border=\"1\" class=\"dataframe\">\n",
                            "  <thead>\n",
                            "    <tr style=\"text-align: right;\">\n",
                            "      <th></th>\n",
                            "      <th>market_id</th>\n",
                            "      <th>selection_id</th>\n",
                            "      <th>win</th>\n",
                            "      <th>sbsj</th>\n",
                            "      <th>odds</th>\n",
                            "      <th>type</th>\n",
                            "    </tr>\n",
                            "  </thead>\n",
                            "  <tbody>\n",
                            "    <tr>\n",
                            "      <th>2790008</th>\n",
                            "      <td>1.171091071</td>\n",
                            "      <td>10693094</td>\n",
                            "      <td>0</td>\n",
                            "      <td>120.0</td>\n",
                            "      <td>134.164</td>\n",
                            "      <td>seconds before off: 120</td>\n",
                            "    </tr>\n",
                            "    <tr>\n",
                            "      <th>2790011</th>\n",
                            "      <td>1.171091071</td>\n",
                            "      <td>10693094</td>\n",
                            "      <td>0</td>\n",
                            "      <td>90.0</td>\n",
                            "      <td>149.666</td>\n",
                            "      <td>seconds before off: 90</td>\n",
                            "    </tr>\n",
                            "    <tr>\n",
                            "      <th>2790014</th>\n",
                            "      <td>1.171091071</td>\n",
                            "      <td>10693094</td>\n",
                            "      <td>0</td>\n",
                            "      <td>60.0</td>\n",
                            "      <td>200.000</td>\n",
                            "      <td>seconds before off: 60</td>\n",
                            "    </tr>\n",
                            "    <tr>\n",
                            "      <th>2790017</th>\n",
                            "      <td>1.171091071</td>\n",
                            "      <td>10693094</td>\n",
                            "      <td>0</td>\n",
                            "      <td>30.0</td>\n",
                            "      <td>239.792</td>\n",
                            "      <td>seconds before off: 30</td>\n",
                            "    </tr>\n",
                            "    <tr>\n",
                            "      <th>2790020</th>\n",
                            "      <td>1.171091071</td>\n",
                            "      <td>10693094</td>\n",
                            "      <td>0</td>\n",
                            "      <td>-0.0</td>\n",
                            "      <td>239.165</td>\n",
                            "      <td>seconds before off: 0</td>\n",
                            "    </tr>\n",
                            "    <tr>\n",
                            "      <th>...</th>\n",
                            "      <td>...</td>\n",
                            "      <td>...</td>\n",
                            "      <td>...</td>\n",
                            "      <td>...</td>\n",
                            "      <td>...</td>\n",
                            "      <td>...</td>\n",
                            "    </tr>\n",
                            "    <tr>\n",
                            "      <th>2253017</th>\n",
                            "      <td>1.184845396</td>\n",
                            "      <td>24644026</td>\n",
                            "      <td>0</td>\n",
                            "      <td>-20.0</td>\n",
                            "      <td>39.580</td>\n",
                            "      <td>bsp</td>\n",
                            "    </tr>\n",
                            "    <tr>\n",
                            "      <th>2253081</th>\n",
                            "      <td>1.184845396</td>\n",
                            "      <td>28640078</td>\n",
                            "      <td>0</td>\n",
                            "      <td>-20.0</td>\n",
                            "      <td>13.240</td>\n",
                            "      <td>bsp</td>\n",
                            "    </tr>\n",
                            "    <tr>\n",
                            "      <th>2253065</th>\n",
                            "      <td>1.184845396</td>\n",
                            "      <td>37583926</td>\n",
                            "      <td>0</td>\n",
                            "      <td>-20.0</td>\n",
                            "      <td>70.420</td>\n",
                            "      <td>bsp</td>\n",
                            "    </tr>\n",
                            "    <tr>\n",
                            "      <th>2253049</th>\n",
                            "      <td>1.184845396</td>\n",
                            "      <td>37996263</td>\n",
                            "      <td>1</td>\n",
                            "      <td>-20.0</td>\n",
                            "      <td>5.970</td>\n",
                            "      <td>bsp</td>\n",
                            "    </tr>\n",
                            "    <tr>\n",
                            "      <th>2253033</th>\n",
                            "      <td>1.184845396</td>\n",
                            "      <td>39990425</td>\n",
                            "      <td>0</td>\n",
                            "      <td>-20.0</td>\n",
                            "      <td>2.640</td>\n",
                            "      <td>bsp</td>\n",
                            "    </tr>\n",
                            "  </tbody>\n",
                            "</table>\n",
                            "<p>960566 rows × 6 columns</p>\n",
                            "</div>"
                        ]
                    },
                    "metadata": {},
                    "execution_count": 91
                }
            ],
            "metadata": {}
        },
        {
            "cell_type": "code",
            "execution_count": 92,
            "source": [
                "# Implied chance vs Actual chance ++++++++++++++++++++++++++++++++++++++++\n",
                "\n",
                "# BSP Only\n",
                "# __________________\n",
                "\n",
                "winRates = (\n",
                "    accuracyFrame\n",
                "    .query('type == \"bsp\"')\n",
                "    .assign(implied_chance = lambda x: round(20 * (1 / x['odds']))/20)\n",
                "    .groupby('implied_chance', as_index = False)\n",
                "    .agg({'win': 'mean'})\n",
                ")\n",
                "\n",
                "fig = px.scatter(winRates, x = \"implied_chance\", y = \"win\", template = \"plotly_white\", title = \"BSP: implied win vs actual win\")\n",
                "fig.add_trace(\n",
                "    go.Scatter(\n",
                "        x = winRates.implied_chance, y = winRates.implied_chance, name = 'no bias', line_color = 'rgba(8,61,119, 0.3)'\n",
                "    )\n",
                ")\n",
                "fig.show()"
            ],
            "outputs": [
                {
                    "output_type": "display_data",
                    "data": {
                        "application/vnd.plotly.v1+json": {
                            "config": {
                                "plotlyServerURL": "https://plot.ly"
                            },
                            "data": [
                                {
                                    "hovertemplate": "implied_chance=%{x}<br>win=%{y}<extra></extra>",
                                    "legendgroup": "",
                                    "marker": {
                                        "color": "#636efa",
                                        "symbol": "circle"
                                    },
                                    "mode": "markers",
                                    "name": "",
                                    "orientation": "v",
                                    "showlegend": false,
                                    "type": "scatter",
                                    "x": [
                                        0,
                                        0.05,
                                        0.1,
                                        0.15,
                                        0.2,
                                        0.25,
                                        0.3,
                                        0.35,
                                        0.4,
                                        0.45,
                                        0.5,
                                        0.55,
                                        0.6,
                                        0.65,
                                        0.7,
                                        0.75,
                                        0.8,
                                        0.85,
                                        0.9,
                                        0.95
                                    ],
                                    "xaxis": "x",
                                    "y": [
                                        0.011267392619479734,
                                        0.047895919671759345,
                                        0.09898958615616894,
                                        0.15057889944061403,
                                        0.19809962568384681,
                                        0.24584155624471385,
                                        0.29716670327256756,
                                        0.3373153096510531,
                                        0.3938931297709924,
                                        0.4178294573643411,
                                        0.4962805526036132,
                                        0.5558659217877095,
                                        0.5752427184466019,
                                        0.6411483253588517,
                                        0.7019867549668874,
                                        0.7794117647058824,
                                        0.7241379310344828,
                                        0.9333333333333333,
                                        1,
                                        1
                                    ],
                                    "yaxis": "y"
                                },
                                {
                                    "line": {
                                        "color": "rgba(8,61,119, 0.3)"
                                    },
                                    "name": "no bias",
                                    "type": "scatter",
                                    "x": [
                                        0,
                                        0.05,
                                        0.1,
                                        0.15,
                                        0.2,
                                        0.25,
                                        0.3,
                                        0.35,
                                        0.4,
                                        0.45,
                                        0.5,
                                        0.55,
                                        0.6,
                                        0.65,
                                        0.7,
                                        0.75,
                                        0.8,
                                        0.85,
                                        0.9,
                                        0.95
                                    ],
                                    "y": [
                                        0,
                                        0.05,
                                        0.1,
                                        0.15,
                                        0.2,
                                        0.25,
                                        0.3,
                                        0.35,
                                        0.4,
                                        0.45,
                                        0.5,
                                        0.55,
                                        0.6,
                                        0.65,
                                        0.7,
                                        0.75,
                                        0.8,
                                        0.85,
                                        0.9,
                                        0.95
                                    ]
                                }
                            ],
                            "layout": {
                                "legend": {
                                    "tracegroupgap": 0
                                },
                                "template": {
                                    "data": {
                                        "bar": [
                                            {
                                                "error_x": {
                                                    "color": "#2a3f5f"
                                                },
                                                "error_y": {
                                                    "color": "#2a3f5f"
                                                },
                                                "marker": {
                                                    "line": {
                                                        "color": "white",
                                                        "width": 0.5
                                                    },
                                                    "pattern": {
                                                        "fillmode": "overlay",
                                                        "size": 10,
                                                        "solidity": 0.2
                                                    }
                                                },
                                                "type": "bar"
                                            }
                                        ],
                                        "barpolar": [
                                            {
                                                "marker": {
                                                    "line": {
                                                        "color": "white",
                                                        "width": 0.5
                                                    },
                                                    "pattern": {
                                                        "fillmode": "overlay",
                                                        "size": 10,
                                                        "solidity": 0.2
                                                    }
                                                },
                                                "type": "barpolar"
                                            }
                                        ],
                                        "carpet": [
                                            {
                                                "aaxis": {
                                                    "endlinecolor": "#2a3f5f",
                                                    "gridcolor": "#C8D4E3",
                                                    "linecolor": "#C8D4E3",
                                                    "minorgridcolor": "#C8D4E3",
                                                    "startlinecolor": "#2a3f5f"
                                                },
                                                "baxis": {
                                                    "endlinecolor": "#2a3f5f",
                                                    "gridcolor": "#C8D4E3",
                                                    "linecolor": "#C8D4E3",
                                                    "minorgridcolor": "#C8D4E3",
                                                    "startlinecolor": "#2a3f5f"
                                                },
                                                "type": "carpet"
                                            }
                                        ],
                                        "choropleth": [
                                            {
                                                "colorbar": {
                                                    "outlinewidth": 0,
                                                    "ticks": ""
                                                },
                                                "type": "choropleth"
                                            }
                                        ],
                                        "contour": [
                                            {
                                                "colorbar": {
                                                    "outlinewidth": 0,
                                                    "ticks": ""
                                                },
                                                "colorscale": [
                                                    [
                                                        0,
                                                        "#0d0887"
                                                    ],
                                                    [
                                                        0.1111111111111111,
                                                        "#46039f"
                                                    ],
                                                    [
                                                        0.2222222222222222,
                                                        "#7201a8"
                                                    ],
                                                    [
                                                        0.3333333333333333,
                                                        "#9c179e"
                                                    ],
                                                    [
                                                        0.4444444444444444,
                                                        "#bd3786"
                                                    ],
                                                    [
                                                        0.5555555555555556,
                                                        "#d8576b"
                                                    ],
                                                    [
                                                        0.6666666666666666,
                                                        "#ed7953"
                                                    ],
                                                    [
                                                        0.7777777777777778,
                                                        "#fb9f3a"
                                                    ],
                                                    [
                                                        0.8888888888888888,
                                                        "#fdca26"
                                                    ],
                                                    [
                                                        1,
                                                        "#f0f921"
                                                    ]
                                                ],
                                                "type": "contour"
                                            }
                                        ],
                                        "contourcarpet": [
                                            {
                                                "colorbar": {
                                                    "outlinewidth": 0,
                                                    "ticks": ""
                                                },
                                                "type": "contourcarpet"
                                            }
                                        ],
                                        "heatmap": [
                                            {
                                                "colorbar": {
                                                    "outlinewidth": 0,
                                                    "ticks": ""
                                                },
                                                "colorscale": [
                                                    [
                                                        0,
                                                        "#0d0887"
                                                    ],
                                                    [
                                                        0.1111111111111111,
                                                        "#46039f"
                                                    ],
                                                    [
                                                        0.2222222222222222,
                                                        "#7201a8"
                                                    ],
                                                    [
                                                        0.3333333333333333,
                                                        "#9c179e"
                                                    ],
                                                    [
                                                        0.4444444444444444,
                                                        "#bd3786"
                                                    ],
                                                    [
                                                        0.5555555555555556,
                                                        "#d8576b"
                                                    ],
                                                    [
                                                        0.6666666666666666,
                                                        "#ed7953"
                                                    ],
                                                    [
                                                        0.7777777777777778,
                                                        "#fb9f3a"
                                                    ],
                                                    [
                                                        0.8888888888888888,
                                                        "#fdca26"
                                                    ],
                                                    [
                                                        1,
                                                        "#f0f921"
                                                    ]
                                                ],
                                                "type": "heatmap"
                                            }
                                        ],
                                        "heatmapgl": [
                                            {
                                                "colorbar": {
                                                    "outlinewidth": 0,
                                                    "ticks": ""
                                                },
                                                "colorscale": [
                                                    [
                                                        0,
                                                        "#0d0887"
                                                    ],
                                                    [
                                                        0.1111111111111111,
                                                        "#46039f"
                                                    ],
                                                    [
                                                        0.2222222222222222,
                                                        "#7201a8"
                                                    ],
                                                    [
                                                        0.3333333333333333,
                                                        "#9c179e"
                                                    ],
                                                    [
                                                        0.4444444444444444,
                                                        "#bd3786"
                                                    ],
                                                    [
                                                        0.5555555555555556,
                                                        "#d8576b"
                                                    ],
                                                    [
                                                        0.6666666666666666,
                                                        "#ed7953"
                                                    ],
                                                    [
                                                        0.7777777777777778,
                                                        "#fb9f3a"
                                                    ],
                                                    [
                                                        0.8888888888888888,
                                                        "#fdca26"
                                                    ],
                                                    [
                                                        1,
                                                        "#f0f921"
                                                    ]
                                                ],
                                                "type": "heatmapgl"
                                            }
                                        ],
                                        "histogram": [
                                            {
                                                "marker": {
                                                    "pattern": {
                                                        "fillmode": "overlay",
                                                        "size": 10,
                                                        "solidity": 0.2
                                                    }
                                                },
                                                "type": "histogram"
                                            }
                                        ],
                                        "histogram2d": [
                                            {
                                                "colorbar": {
                                                    "outlinewidth": 0,
                                                    "ticks": ""
                                                },
                                                "colorscale": [
                                                    [
                                                        0,
                                                        "#0d0887"
                                                    ],
                                                    [
                                                        0.1111111111111111,
                                                        "#46039f"
                                                    ],
                                                    [
                                                        0.2222222222222222,
                                                        "#7201a8"
                                                    ],
                                                    [
                                                        0.3333333333333333,
                                                        "#9c179e"
                                                    ],
                                                    [
                                                        0.4444444444444444,
                                                        "#bd3786"
                                                    ],
                                                    [
                                                        0.5555555555555556,
                                                        "#d8576b"
                                                    ],
                                                    [
                                                        0.6666666666666666,
                                                        "#ed7953"
                                                    ],
                                                    [
                                                        0.7777777777777778,
                                                        "#fb9f3a"
                                                    ],
                                                    [
                                                        0.8888888888888888,
                                                        "#fdca26"
                                                    ],
                                                    [
                                                        1,
                                                        "#f0f921"
                                                    ]
                                                ],
                                                "type": "histogram2d"
                                            }
                                        ],
                                        "histogram2dcontour": [
                                            {
                                                "colorbar": {
                                                    "outlinewidth": 0,
                                                    "ticks": ""
                                                },
                                                "colorscale": [
                                                    [
                                                        0,
                                                        "#0d0887"
                                                    ],
                                                    [
                                                        0.1111111111111111,
                                                        "#46039f"
                                                    ],
                                                    [
                                                        0.2222222222222222,
                                                        "#7201a8"
                                                    ],
                                                    [
                                                        0.3333333333333333,
                                                        "#9c179e"
                                                    ],
                                                    [
                                                        0.4444444444444444,
                                                        "#bd3786"
                                                    ],
                                                    [
                                                        0.5555555555555556,
                                                        "#d8576b"
                                                    ],
                                                    [
                                                        0.6666666666666666,
                                                        "#ed7953"
                                                    ],
                                                    [
                                                        0.7777777777777778,
                                                        "#fb9f3a"
                                                    ],
                                                    [
                                                        0.8888888888888888,
                                                        "#fdca26"
                                                    ],
                                                    [
                                                        1,
                                                        "#f0f921"
                                                    ]
                                                ],
                                                "type": "histogram2dcontour"
                                            }
                                        ],
                                        "mesh3d": [
                                            {
                                                "colorbar": {
                                                    "outlinewidth": 0,
                                                    "ticks": ""
                                                },
                                                "type": "mesh3d"
                                            }
                                        ],
                                        "parcoords": [
                                            {
                                                "line": {
                                                    "colorbar": {
                                                        "outlinewidth": 0,
                                                        "ticks": ""
                                                    }
                                                },
                                                "type": "parcoords"
                                            }
                                        ],
                                        "pie": [
                                            {
                                                "automargin": true,
                                                "type": "pie"
                                            }
                                        ],
                                        "scatter": [
                                            {
                                                "marker": {
                                                    "colorbar": {
                                                        "outlinewidth": 0,
                                                        "ticks": ""
                                                    }
                                                },
                                                "type": "scatter"
                                            }
                                        ],
                                        "scatter3d": [
                                            {
                                                "line": {
                                                    "colorbar": {
                                                        "outlinewidth": 0,
                                                        "ticks": ""
                                                    }
                                                },
                                                "marker": {
                                                    "colorbar": {
                                                        "outlinewidth": 0,
                                                        "ticks": ""
                                                    }
                                                },
                                                "type": "scatter3d"
                                            }
                                        ],
                                        "scattercarpet": [
                                            {
                                                "marker": {
                                                    "colorbar": {
                                                        "outlinewidth": 0,
                                                        "ticks": ""
                                                    }
                                                },
                                                "type": "scattercarpet"
                                            }
                                        ],
                                        "scattergeo": [
                                            {
                                                "marker": {
                                                    "colorbar": {
                                                        "outlinewidth": 0,
                                                        "ticks": ""
                                                    }
                                                },
                                                "type": "scattergeo"
                                            }
                                        ],
                                        "scattergl": [
                                            {
                                                "marker": {
                                                    "colorbar": {
                                                        "outlinewidth": 0,
                                                        "ticks": ""
                                                    }
                                                },
                                                "type": "scattergl"
                                            }
                                        ],
                                        "scattermapbox": [
                                            {
                                                "marker": {
                                                    "colorbar": {
                                                        "outlinewidth": 0,
                                                        "ticks": ""
                                                    }
                                                },
                                                "type": "scattermapbox"
                                            }
                                        ],
                                        "scatterpolar": [
                                            {
                                                "marker": {
                                                    "colorbar": {
                                                        "outlinewidth": 0,
                                                        "ticks": ""
                                                    }
                                                },
                                                "type": "scatterpolar"
                                            }
                                        ],
                                        "scatterpolargl": [
                                            {
                                                "marker": {
                                                    "colorbar": {
                                                        "outlinewidth": 0,
                                                        "ticks": ""
                                                    }
                                                },
                                                "type": "scatterpolargl"
                                            }
                                        ],
                                        "scatterternary": [
                                            {
                                                "marker": {
                                                    "colorbar": {
                                                        "outlinewidth": 0,
                                                        "ticks": ""
                                                    }
                                                },
                                                "type": "scatterternary"
                                            }
                                        ],
                                        "surface": [
                                            {
                                                "colorbar": {
                                                    "outlinewidth": 0,
                                                    "ticks": ""
                                                },
                                                "colorscale": [
                                                    [
                                                        0,
                                                        "#0d0887"
                                                    ],
                                                    [
                                                        0.1111111111111111,
                                                        "#46039f"
                                                    ],
                                                    [
                                                        0.2222222222222222,
                                                        "#7201a8"
                                                    ],
                                                    [
                                                        0.3333333333333333,
                                                        "#9c179e"
                                                    ],
                                                    [
                                                        0.4444444444444444,
                                                        "#bd3786"
                                                    ],
                                                    [
                                                        0.5555555555555556,
                                                        "#d8576b"
                                                    ],
                                                    [
                                                        0.6666666666666666,
                                                        "#ed7953"
                                                    ],
                                                    [
                                                        0.7777777777777778,
                                                        "#fb9f3a"
                                                    ],
                                                    [
                                                        0.8888888888888888,
                                                        "#fdca26"
                                                    ],
                                                    [
                                                        1,
                                                        "#f0f921"
                                                    ]
                                                ],
                                                "type": "surface"
                                            }
                                        ],
                                        "table": [
                                            {
                                                "cells": {
                                                    "fill": {
                                                        "color": "#EBF0F8"
                                                    },
                                                    "line": {
                                                        "color": "white"
                                                    }
                                                },
                                                "header": {
                                                    "fill": {
                                                        "color": "#C8D4E3"
                                                    },
                                                    "line": {
                                                        "color": "white"
                                                    }
                                                },
                                                "type": "table"
                                            }
                                        ]
                                    },
                                    "layout": {
                                        "annotationdefaults": {
                                            "arrowcolor": "#2a3f5f",
                                            "arrowhead": 0,
                                            "arrowwidth": 1
                                        },
                                        "autotypenumbers": "strict",
                                        "coloraxis": {
                                            "colorbar": {
                                                "outlinewidth": 0,
                                                "ticks": ""
                                            }
                                        },
                                        "colorscale": {
                                            "diverging": [
                                                [
                                                    0,
                                                    "#8e0152"
                                                ],
                                                [
                                                    0.1,
                                                    "#c51b7d"
                                                ],
                                                [
                                                    0.2,
                                                    "#de77ae"
                                                ],
                                                [
                                                    0.3,
                                                    "#f1b6da"
                                                ],
                                                [
                                                    0.4,
                                                    "#fde0ef"
                                                ],
                                                [
                                                    0.5,
                                                    "#f7f7f7"
                                                ],
                                                [
                                                    0.6,
                                                    "#e6f5d0"
                                                ],
                                                [
                                                    0.7,
                                                    "#b8e186"
                                                ],
                                                [
                                                    0.8,
                                                    "#7fbc41"
                                                ],
                                                [
                                                    0.9,
                                                    "#4d9221"
                                                ],
                                                [
                                                    1,
                                                    "#276419"
                                                ]
                                            ],
                                            "sequential": [
                                                [
                                                    0,
                                                    "#0d0887"
                                                ],
                                                [
                                                    0.1111111111111111,
                                                    "#46039f"
                                                ],
                                                [
                                                    0.2222222222222222,
                                                    "#7201a8"
                                                ],
                                                [
                                                    0.3333333333333333,
                                                    "#9c179e"
                                                ],
                                                [
                                                    0.4444444444444444,
                                                    "#bd3786"
                                                ],
                                                [
                                                    0.5555555555555556,
                                                    "#d8576b"
                                                ],
                                                [
                                                    0.6666666666666666,
                                                    "#ed7953"
                                                ],
                                                [
                                                    0.7777777777777778,
                                                    "#fb9f3a"
                                                ],
                                                [
                                                    0.8888888888888888,
                                                    "#fdca26"
                                                ],
                                                [
                                                    1,
                                                    "#f0f921"
                                                ]
                                            ],
                                            "sequentialminus": [
                                                [
                                                    0,
                                                    "#0d0887"
                                                ],
                                                [
                                                    0.1111111111111111,
                                                    "#46039f"
                                                ],
                                                [
                                                    0.2222222222222222,
                                                    "#7201a8"
                                                ],
                                                [
                                                    0.3333333333333333,
                                                    "#9c179e"
                                                ],
                                                [
                                                    0.4444444444444444,
                                                    "#bd3786"
                                                ],
                                                [
                                                    0.5555555555555556,
                                                    "#d8576b"
                                                ],
                                                [
                                                    0.6666666666666666,
                                                    "#ed7953"
                                                ],
                                                [
                                                    0.7777777777777778,
                                                    "#fb9f3a"
                                                ],
                                                [
                                                    0.8888888888888888,
                                                    "#fdca26"
                                                ],
                                                [
                                                    1,
                                                    "#f0f921"
                                                ]
                                            ]
                                        },
                                        "colorway": [
                                            "#636efa",
                                            "#EF553B",
                                            "#00cc96",
                                            "#ab63fa",
                                            "#FFA15A",
                                            "#19d3f3",
                                            "#FF6692",
                                            "#B6E880",
                                            "#FF97FF",
                                            "#FECB52"
                                        ],
                                        "font": {
                                            "color": "#2a3f5f"
                                        },
                                        "geo": {
                                            "bgcolor": "white",
                                            "lakecolor": "white",
                                            "landcolor": "white",
                                            "showlakes": true,
                                            "showland": true,
                                            "subunitcolor": "#C8D4E3"
                                        },
                                        "hoverlabel": {
                                            "align": "left"
                                        },
                                        "hovermode": "closest",
                                        "mapbox": {
                                            "style": "light"
                                        },
                                        "paper_bgcolor": "white",
                                        "plot_bgcolor": "white",
                                        "polar": {
                                            "angularaxis": {
                                                "gridcolor": "#EBF0F8",
                                                "linecolor": "#EBF0F8",
                                                "ticks": ""
                                            },
                                            "bgcolor": "white",
                                            "radialaxis": {
                                                "gridcolor": "#EBF0F8",
                                                "linecolor": "#EBF0F8",
                                                "ticks": ""
                                            }
                                        },
                                        "scene": {
                                            "xaxis": {
                                                "backgroundcolor": "white",
                                                "gridcolor": "#DFE8F3",
                                                "gridwidth": 2,
                                                "linecolor": "#EBF0F8",
                                                "showbackground": true,
                                                "ticks": "",
                                                "zerolinecolor": "#EBF0F8"
                                            },
                                            "yaxis": {
                                                "backgroundcolor": "white",
                                                "gridcolor": "#DFE8F3",
                                                "gridwidth": 2,
                                                "linecolor": "#EBF0F8",
                                                "showbackground": true,
                                                "ticks": "",
                                                "zerolinecolor": "#EBF0F8"
                                            },
                                            "zaxis": {
                                                "backgroundcolor": "white",
                                                "gridcolor": "#DFE8F3",
                                                "gridwidth": 2,
                                                "linecolor": "#EBF0F8",
                                                "showbackground": true,
                                                "ticks": "",
                                                "zerolinecolor": "#EBF0F8"
                                            }
                                        },
                                        "shapedefaults": {
                                            "line": {
                                                "color": "#2a3f5f"
                                            }
                                        },
                                        "ternary": {
                                            "aaxis": {
                                                "gridcolor": "#DFE8F3",
                                                "linecolor": "#A2B1C6",
                                                "ticks": ""
                                            },
                                            "baxis": {
                                                "gridcolor": "#DFE8F3",
                                                "linecolor": "#A2B1C6",
                                                "ticks": ""
                                            },
                                            "bgcolor": "white",
                                            "caxis": {
                                                "gridcolor": "#DFE8F3",
                                                "linecolor": "#A2B1C6",
                                                "ticks": ""
                                            }
                                        },
                                        "title": {
                                            "x": 0.05
                                        },
                                        "xaxis": {
                                            "automargin": true,
                                            "gridcolor": "#EBF0F8",
                                            "linecolor": "#EBF0F8",
                                            "ticks": "",
                                            "title": {
                                                "standoff": 15
                                            },
                                            "zerolinecolor": "#EBF0F8",
                                            "zerolinewidth": 2
                                        },
                                        "yaxis": {
                                            "automargin": true,
                                            "gridcolor": "#EBF0F8",
                                            "linecolor": "#EBF0F8",
                                            "ticks": "",
                                            "title": {
                                                "standoff": 15
                                            },
                                            "zerolinecolor": "#EBF0F8",
                                            "zerolinewidth": 2
                                        }
                                    }
                                },
                                "title": {
                                    "text": "BSP: implied win vs actual win"
                                },
                                "xaxis": {
                                    "anchor": "y",
                                    "domain": [
                                        0,
                                        1
                                    ],
                                    "title": {
                                        "text": "implied_chance"
                                    }
                                },
                                "yaxis": {
                                    "anchor": "x",
                                    "domain": [
                                        0,
                                        1
                                    ],
                                    "title": {
                                        "text": "win"
                                    }
                                }
                            }
                        }
                    },
                    "metadata": {}
                }
            ],
            "metadata": {}
        },
        {
            "cell_type": "code",
            "execution_count": 93,
            "source": [
                "# Odds Comparison\n",
                "# __________________\n",
                "\n",
                "winRates = (\n",
                "    accuracyFrame\n",
                "    .assign(implied_chance = lambda x: round(20 * (1 / x['odds']))/20)\n",
                "    .groupby(['type', 'implied_chance'], as_index = False)\n",
                "    .agg({'win': 'mean'})\n",
                ")\n",
                "\n",
                "fig = px.scatter(winRates, x = \"implied_chance\", y = \"win\", color = 'type', template = \"plotly_white\", title = \"Comparing Price Points: implied win vs actual win\")\n",
                "fig.add_trace(\n",
                "    go.Scatter(\n",
                "        x = winRates.implied_chance, y = winRates.implied_chance, name = 'no bias', line_color = 'rgba(8,61,119, 0.3)'\n",
                "    )\n",
                ")\n",
                "fig.show()\n"
            ],
            "outputs": [
                {
                    "output_type": "display_data",
                    "data": {
                        "application/vnd.plotly.v1+json": {
                            "config": {
                                "plotlyServerURL": "https://plot.ly"
                            },
                            "data": [
                                {
                                    "hovertemplate": "type=bsp<br>implied_chance=%{x}<br>win=%{y}<extra></extra>",
                                    "legendgroup": "bsp",
                                    "marker": {
                                        "color": "#636efa",
                                        "symbol": "circle"
                                    },
                                    "mode": "markers",
                                    "name": "bsp",
                                    "orientation": "v",
                                    "showlegend": true,
                                    "type": "scatter",
                                    "x": [
                                        0,
                                        0.05,
                                        0.1,
                                        0.15,
                                        0.2,
                                        0.25,
                                        0.3,
                                        0.35,
                                        0.4,
                                        0.45,
                                        0.5,
                                        0.55,
                                        0.6,
                                        0.65,
                                        0.7,
                                        0.75,
                                        0.8,
                                        0.85,
                                        0.9,
                                        0.95
                                    ],
                                    "xaxis": "x",
                                    "y": [
                                        0.011267392619479734,
                                        0.047895919671759345,
                                        0.09898958615616894,
                                        0.15057889944061403,
                                        0.19809962568384681,
                                        0.24584155624471385,
                                        0.29716670327256756,
                                        0.3373153096510531,
                                        0.3938931297709924,
                                        0.4178294573643411,
                                        0.4962805526036132,
                                        0.5558659217877095,
                                        0.5752427184466019,
                                        0.6411483253588517,
                                        0.7019867549668874,
                                        0.7794117647058824,
                                        0.7241379310344828,
                                        0.9333333333333333,
                                        1,
                                        1
                                    ],
                                    "yaxis": "y"
                                },
                                {
                                    "hovertemplate": "type=seconds before off: 0<br>implied_chance=%{x}<br>win=%{y}<extra></extra>",
                                    "legendgroup": "seconds before off: 0",
                                    "marker": {
                                        "color": "#EF553B",
                                        "symbol": "circle"
                                    },
                                    "mode": "markers",
                                    "name": "seconds before off: 0",
                                    "orientation": "v",
                                    "showlegend": true,
                                    "type": "scatter",
                                    "x": [
                                        0,
                                        0.05,
                                        0.1,
                                        0.15,
                                        0.2,
                                        0.25,
                                        0.3,
                                        0.35,
                                        0.4,
                                        0.45,
                                        0.5,
                                        0.55,
                                        0.6,
                                        0.65,
                                        0.7,
                                        0.75,
                                        0.8,
                                        0.85,
                                        0.9
                                    ],
                                    "xaxis": "x",
                                    "y": [
                                        0.011168515423187966,
                                        0.047595601509929426,
                                        0.1005868544600939,
                                        0.15317734305076078,
                                        0.19570360556449323,
                                        0.24935223289132755,
                                        0.30134182397088927,
                                        0.33263284299009305,
                                        0.3920844327176781,
                                        0.4362108479755539,
                                        0.4921135646687697,
                                        0.5656877897990726,
                                        0.592255125284738,
                                        0.6205357142857143,
                                        0.7196969696969697,
                                        0.7741935483870968,
                                        0.78125,
                                        0.8571428571428571,
                                        1
                                    ],
                                    "yaxis": "y"
                                },
                                {
                                    "hovertemplate": "type=seconds before off: 120<br>implied_chance=%{x}<br>win=%{y}<extra></extra>",
                                    "legendgroup": "seconds before off: 120",
                                    "marker": {
                                        "color": "#00cc96",
                                        "symbol": "circle"
                                    },
                                    "mode": "markers",
                                    "name": "seconds before off: 120",
                                    "orientation": "v",
                                    "showlegend": true,
                                    "type": "scatter",
                                    "x": [
                                        0,
                                        0.05,
                                        0.1,
                                        0.15,
                                        0.2,
                                        0.25,
                                        0.3,
                                        0.35,
                                        0.4,
                                        0.45,
                                        0.5,
                                        0.55,
                                        0.6,
                                        0.65,
                                        0.7,
                                        0.75,
                                        0.8,
                                        0.85,
                                        0.9
                                    ],
                                    "xaxis": "x",
                                    "y": [
                                        0.01106755821996772,
                                        0.04854546936114733,
                                        0.09855380856681246,
                                        0.15090104134189686,
                                        0.19828399019422968,
                                        0.2522051128718792,
                                        0.29250457038391225,
                                        0.34737799333131253,
                                        0.38303619665045924,
                                        0.43187250996015936,
                                        0.48452508004268946,
                                        0.5675675675675675,
                                        0.5766590389016019,
                                        0.6666666666666666,
                                        0.7007874015748031,
                                        0.765625,
                                        0.8333333333333334,
                                        0.8888888888888888,
                                        1
                                    ],
                                    "yaxis": "y"
                                },
                                {
                                    "hovertemplate": "type=seconds before off: 30<br>implied_chance=%{x}<br>win=%{y}<extra></extra>",
                                    "legendgroup": "seconds before off: 30",
                                    "marker": {
                                        "color": "#ab63fa",
                                        "symbol": "circle"
                                    },
                                    "mode": "markers",
                                    "name": "seconds before off: 30",
                                    "orientation": "v",
                                    "showlegend": true,
                                    "type": "scatter",
                                    "x": [
                                        0,
                                        0.05,
                                        0.1,
                                        0.15,
                                        0.2,
                                        0.25,
                                        0.3,
                                        0.35,
                                        0.4,
                                        0.45,
                                        0.5,
                                        0.55,
                                        0.6,
                                        0.65,
                                        0.7,
                                        0.75,
                                        0.8,
                                        0.85,
                                        0.9
                                    ],
                                    "xaxis": "x",
                                    "y": [
                                        0.011221945137157107,
                                        0.04811353409484251,
                                        0.09993287795633118,
                                        0.15177033492822967,
                                        0.19994303617203077,
                                        0.24657121326299924,
                                        0.2988610478359909,
                                        0.3376196172248804,
                                        0.3874933190807055,
                                        0.43788819875776397,
                                        0.4802981895633653,
                                        0.584518167456556,
                                        0.5781584582441114,
                                        0.6372093023255814,
                                        0.6992481203007519,
                                        0.7868852459016393,
                                        0.7666666666666667,
                                        0.8888888888888888,
                                        1
                                    ],
                                    "yaxis": "y"
                                },
                                {
                                    "hovertemplate": "type=seconds before off: 60<br>implied_chance=%{x}<br>win=%{y}<extra></extra>",
                                    "legendgroup": "seconds before off: 60",
                                    "marker": {
                                        "color": "#FFA15A",
                                        "symbol": "circle"
                                    },
                                    "mode": "markers",
                                    "name": "seconds before off: 60",
                                    "orientation": "v",
                                    "showlegend": true,
                                    "type": "scatter",
                                    "x": [
                                        0,
                                        0.05,
                                        0.1,
                                        0.15,
                                        0.2,
                                        0.25,
                                        0.3,
                                        0.35,
                                        0.4,
                                        0.45,
                                        0.5,
                                        0.55,
                                        0.6,
                                        0.65,
                                        0.7,
                                        0.75,
                                        0.8,
                                        0.85,
                                        0.9
                                    ],
                                    "xaxis": "x",
                                    "y": [
                                        0.011230245439300778,
                                        0.04808948399738733,
                                        0.10031187083020804,
                                        0.15085497150094998,
                                        0.19807674177429999,
                                        0.2491307634164777,
                                        0.2965501485035412,
                                        0.33949329359165425,
                                        0.39285714285714285,
                                        0.4429790535298681,
                                        0.46359743040685225,
                                        0.5884194053208138,
                                        0.5707762557077626,
                                        0.6594827586206896,
                                        0.6992481203007519,
                                        0.8,
                                        0.7241379310344828,
                                        0.9,
                                        1
                                    ],
                                    "yaxis": "y"
                                },
                                {
                                    "hovertemplate": "type=seconds before off: 90<br>implied_chance=%{x}<br>win=%{y}<extra></extra>",
                                    "legendgroup": "seconds before off: 90",
                                    "marker": {
                                        "color": "#19d3f3",
                                        "symbol": "circle"
                                    },
                                    "mode": "markers",
                                    "name": "seconds before off: 90",
                                    "orientation": "v",
                                    "showlegend": true,
                                    "type": "scatter",
                                    "x": [
                                        0,
                                        0.05,
                                        0.1,
                                        0.15,
                                        0.2,
                                        0.25,
                                        0.3,
                                        0.35,
                                        0.4,
                                        0.45,
                                        0.5,
                                        0.55,
                                        0.6,
                                        0.65,
                                        0.7,
                                        0.75,
                                        0.8,
                                        0.85,
                                        0.9
                                    ],
                                    "xaxis": "x",
                                    "y": [
                                        0.011117344076699474,
                                        0.04850548464706602,
                                        0.09770727279902135,
                                        0.15466314731020614,
                                        0.1947537271183242,
                                        0.2518275399075041,
                                        0.2995112869443798,
                                        0.33629893238434166,
                                        0.39759036144578314,
                                        0.43648960739030024,
                                        0.4771739130434783,
                                        0.5562599049128367,
                                        0.591743119266055,
                                        0.6565217391304348,
                                        0.7054263565891473,
                                        0.7796610169491526,
                                        0.8,
                                        0.9,
                                        1
                                    ],
                                    "yaxis": "y"
                                },
                                {
                                    "line": {
                                        "color": "rgba(8,61,119, 0.3)"
                                    },
                                    "name": "no bias",
                                    "type": "scatter",
                                    "x": [
                                        0,
                                        0.05,
                                        0.1,
                                        0.15,
                                        0.2,
                                        0.25,
                                        0.3,
                                        0.35,
                                        0.4,
                                        0.45,
                                        0.5,
                                        0.55,
                                        0.6,
                                        0.65,
                                        0.7,
                                        0.75,
                                        0.8,
                                        0.85,
                                        0.9,
                                        0.95,
                                        0,
                                        0.05,
                                        0.1,
                                        0.15,
                                        0.2,
                                        0.25,
                                        0.3,
                                        0.35,
                                        0.4,
                                        0.45,
                                        0.5,
                                        0.55,
                                        0.6,
                                        0.65,
                                        0.7,
                                        0.75,
                                        0.8,
                                        0.85,
                                        0.9,
                                        0,
                                        0.05,
                                        0.1,
                                        0.15,
                                        0.2,
                                        0.25,
                                        0.3,
                                        0.35,
                                        0.4,
                                        0.45,
                                        0.5,
                                        0.55,
                                        0.6,
                                        0.65,
                                        0.7,
                                        0.75,
                                        0.8,
                                        0.85,
                                        0.9,
                                        0,
                                        0.05,
                                        0.1,
                                        0.15,
                                        0.2,
                                        0.25,
                                        0.3,
                                        0.35,
                                        0.4,
                                        0.45,
                                        0.5,
                                        0.55,
                                        0.6,
                                        0.65,
                                        0.7,
                                        0.75,
                                        0.8,
                                        0.85,
                                        0.9,
                                        0,
                                        0.05,
                                        0.1,
                                        0.15,
                                        0.2,
                                        0.25,
                                        0.3,
                                        0.35,
                                        0.4,
                                        0.45,
                                        0.5,
                                        0.55,
                                        0.6,
                                        0.65,
                                        0.7,
                                        0.75,
                                        0.8,
                                        0.85,
                                        0.9,
                                        0,
                                        0.05,
                                        0.1,
                                        0.15,
                                        0.2,
                                        0.25,
                                        0.3,
                                        0.35,
                                        0.4,
                                        0.45,
                                        0.5,
                                        0.55,
                                        0.6,
                                        0.65,
                                        0.7,
                                        0.75,
                                        0.8,
                                        0.85,
                                        0.9
                                    ],
                                    "y": [
                                        0,
                                        0.05,
                                        0.1,
                                        0.15,
                                        0.2,
                                        0.25,
                                        0.3,
                                        0.35,
                                        0.4,
                                        0.45,
                                        0.5,
                                        0.55,
                                        0.6,
                                        0.65,
                                        0.7,
                                        0.75,
                                        0.8,
                                        0.85,
                                        0.9,
                                        0.95,
                                        0,
                                        0.05,
                                        0.1,
                                        0.15,
                                        0.2,
                                        0.25,
                                        0.3,
                                        0.35,
                                        0.4,
                                        0.45,
                                        0.5,
                                        0.55,
                                        0.6,
                                        0.65,
                                        0.7,
                                        0.75,
                                        0.8,
                                        0.85,
                                        0.9,
                                        0,
                                        0.05,
                                        0.1,
                                        0.15,
                                        0.2,
                                        0.25,
                                        0.3,
                                        0.35,
                                        0.4,
                                        0.45,
                                        0.5,
                                        0.55,
                                        0.6,
                                        0.65,
                                        0.7,
                                        0.75,
                                        0.8,
                                        0.85,
                                        0.9,
                                        0,
                                        0.05,
                                        0.1,
                                        0.15,
                                        0.2,
                                        0.25,
                                        0.3,
                                        0.35,
                                        0.4,
                                        0.45,
                                        0.5,
                                        0.55,
                                        0.6,
                                        0.65,
                                        0.7,
                                        0.75,
                                        0.8,
                                        0.85,
                                        0.9,
                                        0,
                                        0.05,
                                        0.1,
                                        0.15,
                                        0.2,
                                        0.25,
                                        0.3,
                                        0.35,
                                        0.4,
                                        0.45,
                                        0.5,
                                        0.55,
                                        0.6,
                                        0.65,
                                        0.7,
                                        0.75,
                                        0.8,
                                        0.85,
                                        0.9,
                                        0,
                                        0.05,
                                        0.1,
                                        0.15,
                                        0.2,
                                        0.25,
                                        0.3,
                                        0.35,
                                        0.4,
                                        0.45,
                                        0.5,
                                        0.55,
                                        0.6,
                                        0.65,
                                        0.7,
                                        0.75,
                                        0.8,
                                        0.85,
                                        0.9
                                    ]
                                }
                            ],
                            "layout": {
                                "legend": {
                                    "title": {
                                        "text": "type"
                                    },
                                    "tracegroupgap": 0
                                },
                                "template": {
                                    "data": {
                                        "bar": [
                                            {
                                                "error_x": {
                                                    "color": "#2a3f5f"
                                                },
                                                "error_y": {
                                                    "color": "#2a3f5f"
                                                },
                                                "marker": {
                                                    "line": {
                                                        "color": "white",
                                                        "width": 0.5
                                                    },
                                                    "pattern": {
                                                        "fillmode": "overlay",
                                                        "size": 10,
                                                        "solidity": 0.2
                                                    }
                                                },
                                                "type": "bar"
                                            }
                                        ],
                                        "barpolar": [
                                            {
                                                "marker": {
                                                    "line": {
                                                        "color": "white",
                                                        "width": 0.5
                                                    },
                                                    "pattern": {
                                                        "fillmode": "overlay",
                                                        "size": 10,
                                                        "solidity": 0.2
                                                    }
                                                },
                                                "type": "barpolar"
                                            }
                                        ],
                                        "carpet": [
                                            {
                                                "aaxis": {
                                                    "endlinecolor": "#2a3f5f",
                                                    "gridcolor": "#C8D4E3",
                                                    "linecolor": "#C8D4E3",
                                                    "minorgridcolor": "#C8D4E3",
                                                    "startlinecolor": "#2a3f5f"
                                                },
                                                "baxis": {
                                                    "endlinecolor": "#2a3f5f",
                                                    "gridcolor": "#C8D4E3",
                                                    "linecolor": "#C8D4E3",
                                                    "minorgridcolor": "#C8D4E3",
                                                    "startlinecolor": "#2a3f5f"
                                                },
                                                "type": "carpet"
                                            }
                                        ],
                                        "choropleth": [
                                            {
                                                "colorbar": {
                                                    "outlinewidth": 0,
                                                    "ticks": ""
                                                },
                                                "type": "choropleth"
                                            }
                                        ],
                                        "contour": [
                                            {
                                                "colorbar": {
                                                    "outlinewidth": 0,
                                                    "ticks": ""
                                                },
                                                "colorscale": [
                                                    [
                                                        0,
                                                        "#0d0887"
                                                    ],
                                                    [
                                                        0.1111111111111111,
                                                        "#46039f"
                                                    ],
                                                    [
                                                        0.2222222222222222,
                                                        "#7201a8"
                                                    ],
                                                    [
                                                        0.3333333333333333,
                                                        "#9c179e"
                                                    ],
                                                    [
                                                        0.4444444444444444,
                                                        "#bd3786"
                                                    ],
                                                    [
                                                        0.5555555555555556,
                                                        "#d8576b"
                                                    ],
                                                    [
                                                        0.6666666666666666,
                                                        "#ed7953"
                                                    ],
                                                    [
                                                        0.7777777777777778,
                                                        "#fb9f3a"
                                                    ],
                                                    [
                                                        0.8888888888888888,
                                                        "#fdca26"
                                                    ],
                                                    [
                                                        1,
                                                        "#f0f921"
                                                    ]
                                                ],
                                                "type": "contour"
                                            }
                                        ],
                                        "contourcarpet": [
                                            {
                                                "colorbar": {
                                                    "outlinewidth": 0,
                                                    "ticks": ""
                                                },
                                                "type": "contourcarpet"
                                            }
                                        ],
                                        "heatmap": [
                                            {
                                                "colorbar": {
                                                    "outlinewidth": 0,
                                                    "ticks": ""
                                                },
                                                "colorscale": [
                                                    [
                                                        0,
                                                        "#0d0887"
                                                    ],
                                                    [
                                                        0.1111111111111111,
                                                        "#46039f"
                                                    ],
                                                    [
                                                        0.2222222222222222,
                                                        "#7201a8"
                                                    ],
                                                    [
                                                        0.3333333333333333,
                                                        "#9c179e"
                                                    ],
                                                    [
                                                        0.4444444444444444,
                                                        "#bd3786"
                                                    ],
                                                    [
                                                        0.5555555555555556,
                                                        "#d8576b"
                                                    ],
                                                    [
                                                        0.6666666666666666,
                                                        "#ed7953"
                                                    ],
                                                    [
                                                        0.7777777777777778,
                                                        "#fb9f3a"
                                                    ],
                                                    [
                                                        0.8888888888888888,
                                                        "#fdca26"
                                                    ],
                                                    [
                                                        1,
                                                        "#f0f921"
                                                    ]
                                                ],
                                                "type": "heatmap"
                                            }
                                        ],
                                        "heatmapgl": [
                                            {
                                                "colorbar": {
                                                    "outlinewidth": 0,
                                                    "ticks": ""
                                                },
                                                "colorscale": [
                                                    [
                                                        0,
                                                        "#0d0887"
                                                    ],
                                                    [
                                                        0.1111111111111111,
                                                        "#46039f"
                                                    ],
                                                    [
                                                        0.2222222222222222,
                                                        "#7201a8"
                                                    ],
                                                    [
                                                        0.3333333333333333,
                                                        "#9c179e"
                                                    ],
                                                    [
                                                        0.4444444444444444,
                                                        "#bd3786"
                                                    ],
                                                    [
                                                        0.5555555555555556,
                                                        "#d8576b"
                                                    ],
                                                    [
                                                        0.6666666666666666,
                                                        "#ed7953"
                                                    ],
                                                    [
                                                        0.7777777777777778,
                                                        "#fb9f3a"
                                                    ],
                                                    [
                                                        0.8888888888888888,
                                                        "#fdca26"
                                                    ],
                                                    [
                                                        1,
                                                        "#f0f921"
                                                    ]
                                                ],
                                                "type": "heatmapgl"
                                            }
                                        ],
                                        "histogram": [
                                            {
                                                "marker": {
                                                    "pattern": {
                                                        "fillmode": "overlay",
                                                        "size": 10,
                                                        "solidity": 0.2
                                                    }
                                                },
                                                "type": "histogram"
                                            }
                                        ],
                                        "histogram2d": [
                                            {
                                                "colorbar": {
                                                    "outlinewidth": 0,
                                                    "ticks": ""
                                                },
                                                "colorscale": [
                                                    [
                                                        0,
                                                        "#0d0887"
                                                    ],
                                                    [
                                                        0.1111111111111111,
                                                        "#46039f"
                                                    ],
                                                    [
                                                        0.2222222222222222,
                                                        "#7201a8"
                                                    ],
                                                    [
                                                        0.3333333333333333,
                                                        "#9c179e"
                                                    ],
                                                    [
                                                        0.4444444444444444,
                                                        "#bd3786"
                                                    ],
                                                    [
                                                        0.5555555555555556,
                                                        "#d8576b"
                                                    ],
                                                    [
                                                        0.6666666666666666,
                                                        "#ed7953"
                                                    ],
                                                    [
                                                        0.7777777777777778,
                                                        "#fb9f3a"
                                                    ],
                                                    [
                                                        0.8888888888888888,
                                                        "#fdca26"
                                                    ],
                                                    [
                                                        1,
                                                        "#f0f921"
                                                    ]
                                                ],
                                                "type": "histogram2d"
                                            }
                                        ],
                                        "histogram2dcontour": [
                                            {
                                                "colorbar": {
                                                    "outlinewidth": 0,
                                                    "ticks": ""
                                                },
                                                "colorscale": [
                                                    [
                                                        0,
                                                        "#0d0887"
                                                    ],
                                                    [
                                                        0.1111111111111111,
                                                        "#46039f"
                                                    ],
                                                    [
                                                        0.2222222222222222,
                                                        "#7201a8"
                                                    ],
                                                    [
                                                        0.3333333333333333,
                                                        "#9c179e"
                                                    ],
                                                    [
                                                        0.4444444444444444,
                                                        "#bd3786"
                                                    ],
                                                    [
                                                        0.5555555555555556,
                                                        "#d8576b"
                                                    ],
                                                    [
                                                        0.6666666666666666,
                                                        "#ed7953"
                                                    ],
                                                    [
                                                        0.7777777777777778,
                                                        "#fb9f3a"
                                                    ],
                                                    [
                                                        0.8888888888888888,
                                                        "#fdca26"
                                                    ],
                                                    [
                                                        1,
                                                        "#f0f921"
                                                    ]
                                                ],
                                                "type": "histogram2dcontour"
                                            }
                                        ],
                                        "mesh3d": [
                                            {
                                                "colorbar": {
                                                    "outlinewidth": 0,
                                                    "ticks": ""
                                                },
                                                "type": "mesh3d"
                                            }
                                        ],
                                        "parcoords": [
                                            {
                                                "line": {
                                                    "colorbar": {
                                                        "outlinewidth": 0,
                                                        "ticks": ""
                                                    }
                                                },
                                                "type": "parcoords"
                                            }
                                        ],
                                        "pie": [
                                            {
                                                "automargin": true,
                                                "type": "pie"
                                            }
                                        ],
                                        "scatter": [
                                            {
                                                "marker": {
                                                    "colorbar": {
                                                        "outlinewidth": 0,
                                                        "ticks": ""
                                                    }
                                                },
                                                "type": "scatter"
                                            }
                                        ],
                                        "scatter3d": [
                                            {
                                                "line": {
                                                    "colorbar": {
                                                        "outlinewidth": 0,
                                                        "ticks": ""
                                                    }
                                                },
                                                "marker": {
                                                    "colorbar": {
                                                        "outlinewidth": 0,
                                                        "ticks": ""
                                                    }
                                                },
                                                "type": "scatter3d"
                                            }
                                        ],
                                        "scattercarpet": [
                                            {
                                                "marker": {
                                                    "colorbar": {
                                                        "outlinewidth": 0,
                                                        "ticks": ""
                                                    }
                                                },
                                                "type": "scattercarpet"
                                            }
                                        ],
                                        "scattergeo": [
                                            {
                                                "marker": {
                                                    "colorbar": {
                                                        "outlinewidth": 0,
                                                        "ticks": ""
                                                    }
                                                },
                                                "type": "scattergeo"
                                            }
                                        ],
                                        "scattergl": [
                                            {
                                                "marker": {
                                                    "colorbar": {
                                                        "outlinewidth": 0,
                                                        "ticks": ""
                                                    }
                                                },
                                                "type": "scattergl"
                                            }
                                        ],
                                        "scattermapbox": [
                                            {
                                                "marker": {
                                                    "colorbar": {
                                                        "outlinewidth": 0,
                                                        "ticks": ""
                                                    }
                                                },
                                                "type": "scattermapbox"
                                            }
                                        ],
                                        "scatterpolar": [
                                            {
                                                "marker": {
                                                    "colorbar": {
                                                        "outlinewidth": 0,
                                                        "ticks": ""
                                                    }
                                                },
                                                "type": "scatterpolar"
                                            }
                                        ],
                                        "scatterpolargl": [
                                            {
                                                "marker": {
                                                    "colorbar": {
                                                        "outlinewidth": 0,
                                                        "ticks": ""
                                                    }
                                                },
                                                "type": "scatterpolargl"
                                            }
                                        ],
                                        "scatterternary": [
                                            {
                                                "marker": {
                                                    "colorbar": {
                                                        "outlinewidth": 0,
                                                        "ticks": ""
                                                    }
                                                },
                                                "type": "scatterternary"
                                            }
                                        ],
                                        "surface": [
                                            {
                                                "colorbar": {
                                                    "outlinewidth": 0,
                                                    "ticks": ""
                                                },
                                                "colorscale": [
                                                    [
                                                        0,
                                                        "#0d0887"
                                                    ],
                                                    [
                                                        0.1111111111111111,
                                                        "#46039f"
                                                    ],
                                                    [
                                                        0.2222222222222222,
                                                        "#7201a8"
                                                    ],
                                                    [
                                                        0.3333333333333333,
                                                        "#9c179e"
                                                    ],
                                                    [
                                                        0.4444444444444444,
                                                        "#bd3786"
                                                    ],
                                                    [
                                                        0.5555555555555556,
                                                        "#d8576b"
                                                    ],
                                                    [
                                                        0.6666666666666666,
                                                        "#ed7953"
                                                    ],
                                                    [
                                                        0.7777777777777778,
                                                        "#fb9f3a"
                                                    ],
                                                    [
                                                        0.8888888888888888,
                                                        "#fdca26"
                                                    ],
                                                    [
                                                        1,
                                                        "#f0f921"
                                                    ]
                                                ],
                                                "type": "surface"
                                            }
                                        ],
                                        "table": [
                                            {
                                                "cells": {
                                                    "fill": {
                                                        "color": "#EBF0F8"
                                                    },
                                                    "line": {
                                                        "color": "white"
                                                    }
                                                },
                                                "header": {
                                                    "fill": {
                                                        "color": "#C8D4E3"
                                                    },
                                                    "line": {
                                                        "color": "white"
                                                    }
                                                },
                                                "type": "table"
                                            }
                                        ]
                                    },
                                    "layout": {
                                        "annotationdefaults": {
                                            "arrowcolor": "#2a3f5f",
                                            "arrowhead": 0,
                                            "arrowwidth": 1
                                        },
                                        "autotypenumbers": "strict",
                                        "coloraxis": {
                                            "colorbar": {
                                                "outlinewidth": 0,
                                                "ticks": ""
                                            }
                                        },
                                        "colorscale": {
                                            "diverging": [
                                                [
                                                    0,
                                                    "#8e0152"
                                                ],
                                                [
                                                    0.1,
                                                    "#c51b7d"
                                                ],
                                                [
                                                    0.2,
                                                    "#de77ae"
                                                ],
                                                [
                                                    0.3,
                                                    "#f1b6da"
                                                ],
                                                [
                                                    0.4,
                                                    "#fde0ef"
                                                ],
                                                [
                                                    0.5,
                                                    "#f7f7f7"
                                                ],
                                                [
                                                    0.6,
                                                    "#e6f5d0"
                                                ],
                                                [
                                                    0.7,
                                                    "#b8e186"
                                                ],
                                                [
                                                    0.8,
                                                    "#7fbc41"
                                                ],
                                                [
                                                    0.9,
                                                    "#4d9221"
                                                ],
                                                [
                                                    1,
                                                    "#276419"
                                                ]
                                            ],
                                            "sequential": [
                                                [
                                                    0,
                                                    "#0d0887"
                                                ],
                                                [
                                                    0.1111111111111111,
                                                    "#46039f"
                                                ],
                                                [
                                                    0.2222222222222222,
                                                    "#7201a8"
                                                ],
                                                [
                                                    0.3333333333333333,
                                                    "#9c179e"
                                                ],
                                                [
                                                    0.4444444444444444,
                                                    "#bd3786"
                                                ],
                                                [
                                                    0.5555555555555556,
                                                    "#d8576b"
                                                ],
                                                [
                                                    0.6666666666666666,
                                                    "#ed7953"
                                                ],
                                                [
                                                    0.7777777777777778,
                                                    "#fb9f3a"
                                                ],
                                                [
                                                    0.8888888888888888,
                                                    "#fdca26"
                                                ],
                                                [
                                                    1,
                                                    "#f0f921"
                                                ]
                                            ],
                                            "sequentialminus": [
                                                [
                                                    0,
                                                    "#0d0887"
                                                ],
                                                [
                                                    0.1111111111111111,
                                                    "#46039f"
                                                ],
                                                [
                                                    0.2222222222222222,
                                                    "#7201a8"
                                                ],
                                                [
                                                    0.3333333333333333,
                                                    "#9c179e"
                                                ],
                                                [
                                                    0.4444444444444444,
                                                    "#bd3786"
                                                ],
                                                [
                                                    0.5555555555555556,
                                                    "#d8576b"
                                                ],
                                                [
                                                    0.6666666666666666,
                                                    "#ed7953"
                                                ],
                                                [
                                                    0.7777777777777778,
                                                    "#fb9f3a"
                                                ],
                                                [
                                                    0.8888888888888888,
                                                    "#fdca26"
                                                ],
                                                [
                                                    1,
                                                    "#f0f921"
                                                ]
                                            ]
                                        },
                                        "colorway": [
                                            "#636efa",
                                            "#EF553B",
                                            "#00cc96",
                                            "#ab63fa",
                                            "#FFA15A",
                                            "#19d3f3",
                                            "#FF6692",
                                            "#B6E880",
                                            "#FF97FF",
                                            "#FECB52"
                                        ],
                                        "font": {
                                            "color": "#2a3f5f"
                                        },
                                        "geo": {
                                            "bgcolor": "white",
                                            "lakecolor": "white",
                                            "landcolor": "white",
                                            "showlakes": true,
                                            "showland": true,
                                            "subunitcolor": "#C8D4E3"
                                        },
                                        "hoverlabel": {
                                            "align": "left"
                                        },
                                        "hovermode": "closest",
                                        "mapbox": {
                                            "style": "light"
                                        },
                                        "paper_bgcolor": "white",
                                        "plot_bgcolor": "white",
                                        "polar": {
                                            "angularaxis": {
                                                "gridcolor": "#EBF0F8",
                                                "linecolor": "#EBF0F8",
                                                "ticks": ""
                                            },
                                            "bgcolor": "white",
                                            "radialaxis": {
                                                "gridcolor": "#EBF0F8",
                                                "linecolor": "#EBF0F8",
                                                "ticks": ""
                                            }
                                        },
                                        "scene": {
                                            "xaxis": {
                                                "backgroundcolor": "white",
                                                "gridcolor": "#DFE8F3",
                                                "gridwidth": 2,
                                                "linecolor": "#EBF0F8",
                                                "showbackground": true,
                                                "ticks": "",
                                                "zerolinecolor": "#EBF0F8"
                                            },
                                            "yaxis": {
                                                "backgroundcolor": "white",
                                                "gridcolor": "#DFE8F3",
                                                "gridwidth": 2,
                                                "linecolor": "#EBF0F8",
                                                "showbackground": true,
                                                "ticks": "",
                                                "zerolinecolor": "#EBF0F8"
                                            },
                                            "zaxis": {
                                                "backgroundcolor": "white",
                                                "gridcolor": "#DFE8F3",
                                                "gridwidth": 2,
                                                "linecolor": "#EBF0F8",
                                                "showbackground": true,
                                                "ticks": "",
                                                "zerolinecolor": "#EBF0F8"
                                            }
                                        },
                                        "shapedefaults": {
                                            "line": {
                                                "color": "#2a3f5f"
                                            }
                                        },
                                        "ternary": {
                                            "aaxis": {
                                                "gridcolor": "#DFE8F3",
                                                "linecolor": "#A2B1C6",
                                                "ticks": ""
                                            },
                                            "baxis": {
                                                "gridcolor": "#DFE8F3",
                                                "linecolor": "#A2B1C6",
                                                "ticks": ""
                                            },
                                            "bgcolor": "white",
                                            "caxis": {
                                                "gridcolor": "#DFE8F3",
                                                "linecolor": "#A2B1C6",
                                                "ticks": ""
                                            }
                                        },
                                        "title": {
                                            "x": 0.05
                                        },
                                        "xaxis": {
                                            "automargin": true,
                                            "gridcolor": "#EBF0F8",
                                            "linecolor": "#EBF0F8",
                                            "ticks": "",
                                            "title": {
                                                "standoff": 15
                                            },
                                            "zerolinecolor": "#EBF0F8",
                                            "zerolinewidth": 2
                                        },
                                        "yaxis": {
                                            "automargin": true,
                                            "gridcolor": "#EBF0F8",
                                            "linecolor": "#EBF0F8",
                                            "ticks": "",
                                            "title": {
                                                "standoff": 15
                                            },
                                            "zerolinecolor": "#EBF0F8",
                                            "zerolinewidth": 2
                                        }
                                    }
                                },
                                "title": {
                                    "text": "Comparing Price Points: implied win vs actual win"
                                },
                                "xaxis": {
                                    "anchor": "y",
                                    "domain": [
                                        0,
                                        1
                                    ],
                                    "title": {
                                        "text": "implied_chance"
                                    }
                                },
                                "yaxis": {
                                    "anchor": "x",
                                    "domain": [
                                        0,
                                        1
                                    ],
                                    "title": {
                                        "text": "win"
                                    }
                                }
                            }
                        }
                    },
                    "metadata": {}
                }
            ],
            "metadata": {}
        },
        {
            "cell_type": "code",
            "execution_count": 95,
            "source": [
                "# Logloss ++++++++++++++++++++++++++++++++++++++++\n",
                "\n",
                "from sklearn.metrics import log_loss\n",
                "\n",
                "# Overall Logloss\n",
                "# _________________\n",
                "\n",
                "bspLoss = log_loss(\n",
                "    y_pred = 1 / accuracyFrame.query('type == \"bsp\"')['odds'],\n",
                "    y_true = accuracyFrame.query('type == \"bsp\"')['win']\n",
                ")\n",
                "\n",
                "print(f'The overall logloss of the BSP is {round(bspLoss,4)}')"
            ],
            "outputs": [
                {
                    "output_type": "stream",
                    "name": "stdout",
                    "text": [
                        "The overall logloss of the BSP is 0.2757\n"
                    ]
                }
            ],
            "metadata": {}
        },
        {
            "cell_type": "code",
            "execution_count": 96,
            "source": [
                "\n",
                "# Logloss at Different Time Points\n",
                "# _________________\n",
                "\n",
                "accuracyFrame.groupby('type', as_index = False).apply(lambda x: log_loss(y_pred=1/x['odds'],y_true=x['win'])).rename(columns = {None: 'logloss'}).sort_values('logloss')"
            ],
            "outputs": [
                {
                    "output_type": "execute_result",
                    "data": {
                        "text/plain": [
                            "                      type   logloss\n",
                            "0                      bsp  0.275679\n",
                            "1    seconds before off: 0  0.275824\n",
                            "3   seconds before off: 30  0.275999\n",
                            "4   seconds before off: 60  0.276044\n",
                            "5   seconds before off: 90  0.276206\n",
                            "2  seconds before off: 120  0.276256"
                        ],
                        "text/html": [
                            "<div>\n",
                            "<style scoped>\n",
                            "    .dataframe tbody tr th:only-of-type {\n",
                            "        vertical-align: middle;\n",
                            "    }\n",
                            "\n",
                            "    .dataframe tbody tr th {\n",
                            "        vertical-align: top;\n",
                            "    }\n",
                            "\n",
                            "    .dataframe thead th {\n",
                            "        text-align: right;\n",
                            "    }\n",
                            "</style>\n",
                            "<table border=\"1\" class=\"dataframe\">\n",
                            "  <thead>\n",
                            "    <tr style=\"text-align: right;\">\n",
                            "      <th></th>\n",
                            "      <th>type</th>\n",
                            "      <th>logloss</th>\n",
                            "    </tr>\n",
                            "  </thead>\n",
                            "  <tbody>\n",
                            "    <tr>\n",
                            "      <th>0</th>\n",
                            "      <td>bsp</td>\n",
                            "      <td>0.275679</td>\n",
                            "    </tr>\n",
                            "    <tr>\n",
                            "      <th>1</th>\n",
                            "      <td>seconds before off: 0</td>\n",
                            "      <td>0.275824</td>\n",
                            "    </tr>\n",
                            "    <tr>\n",
                            "      <th>3</th>\n",
                            "      <td>seconds before off: 30</td>\n",
                            "      <td>0.275999</td>\n",
                            "    </tr>\n",
                            "    <tr>\n",
                            "      <th>4</th>\n",
                            "      <td>seconds before off: 60</td>\n",
                            "      <td>0.276044</td>\n",
                            "    </tr>\n",
                            "    <tr>\n",
                            "      <th>5</th>\n",
                            "      <td>seconds before off: 90</td>\n",
                            "      <td>0.276206</td>\n",
                            "    </tr>\n",
                            "    <tr>\n",
                            "      <th>2</th>\n",
                            "      <td>seconds before off: 120</td>\n",
                            "      <td>0.276256</td>\n",
                            "    </tr>\n",
                            "  </tbody>\n",
                            "</table>\n",
                            "</div>"
                        ]
                    },
                    "metadata": {},
                    "execution_count": 96
                }
            ],
            "metadata": {}
        },
        {
            "cell_type": "code",
            "execution_count": 114,
            "source": [
                "fig = px.bar(\n",
                "    accuracyFrame.groupby('type', as_index = False).apply(lambda x: log_loss(y_pred=1/x['odds'],y_true=x['win'])).rename(columns = {None: 'logloss'}).sort_values('logloss', ascending = False),\n",
                "    x = \"type\",\n",
                "    y = \"logloss\",\n",
                "    template = \"plotly_white\",\n",
                "    title = \"Logloss Of Odds At Various Time Points\"\n",
                ")\n",
                "fig.update_yaxes(range=[.2755, .2765])\n",
                "fig.show()"
            ],
            "outputs": [
                {
                    "output_type": "display_data",
                    "data": {
                        "application/vnd.plotly.v1+json": {
                            "config": {
                                "plotlyServerURL": "https://plot.ly"
                            },
                            "data": [
                                {
                                    "alignmentgroup": "True",
                                    "hovertemplate": "type=%{x}<br>logloss=%{y}<extra></extra>",
                                    "legendgroup": "",
                                    "marker": {
                                        "color": "#636efa",
                                        "pattern": {
                                            "shape": ""
                                        }
                                    },
                                    "name": "",
                                    "offsetgroup": "",
                                    "orientation": "v",
                                    "showlegend": false,
                                    "textposition": "auto",
                                    "type": "bar",
                                    "x": [
                                        "seconds before off: 120",
                                        "seconds before off: 90",
                                        "seconds before off: 60",
                                        "seconds before off: 30",
                                        "seconds before off: 0",
                                        "bsp"
                                    ],
                                    "xaxis": "x",
                                    "y": [
                                        0.27625622698141944,
                                        0.276205542681414,
                                        0.27604391650665755,
                                        0.2759989186373514,
                                        0.2758238546818102,
                                        0.2756792571059702
                                    ],
                                    "yaxis": "y"
                                }
                            ],
                            "layout": {
                                "barmode": "relative",
                                "legend": {
                                    "tracegroupgap": 0
                                },
                                "template": {
                                    "data": {
                                        "bar": [
                                            {
                                                "error_x": {
                                                    "color": "#2a3f5f"
                                                },
                                                "error_y": {
                                                    "color": "#2a3f5f"
                                                },
                                                "marker": {
                                                    "line": {
                                                        "color": "white",
                                                        "width": 0.5
                                                    },
                                                    "pattern": {
                                                        "fillmode": "overlay",
                                                        "size": 10,
                                                        "solidity": 0.2
                                                    }
                                                },
                                                "type": "bar"
                                            }
                                        ],
                                        "barpolar": [
                                            {
                                                "marker": {
                                                    "line": {
                                                        "color": "white",
                                                        "width": 0.5
                                                    },
                                                    "pattern": {
                                                        "fillmode": "overlay",
                                                        "size": 10,
                                                        "solidity": 0.2
                                                    }
                                                },
                                                "type": "barpolar"
                                            }
                                        ],
                                        "carpet": [
                                            {
                                                "aaxis": {
                                                    "endlinecolor": "#2a3f5f",
                                                    "gridcolor": "#C8D4E3",
                                                    "linecolor": "#C8D4E3",
                                                    "minorgridcolor": "#C8D4E3",
                                                    "startlinecolor": "#2a3f5f"
                                                },
                                                "baxis": {
                                                    "endlinecolor": "#2a3f5f",
                                                    "gridcolor": "#C8D4E3",
                                                    "linecolor": "#C8D4E3",
                                                    "minorgridcolor": "#C8D4E3",
                                                    "startlinecolor": "#2a3f5f"
                                                },
                                                "type": "carpet"
                                            }
                                        ],
                                        "choropleth": [
                                            {
                                                "colorbar": {
                                                    "outlinewidth": 0,
                                                    "ticks": ""
                                                },
                                                "type": "choropleth"
                                            }
                                        ],
                                        "contour": [
                                            {
                                                "colorbar": {
                                                    "outlinewidth": 0,
                                                    "ticks": ""
                                                },
                                                "colorscale": [
                                                    [
                                                        0,
                                                        "#0d0887"
                                                    ],
                                                    [
                                                        0.1111111111111111,
                                                        "#46039f"
                                                    ],
                                                    [
                                                        0.2222222222222222,
                                                        "#7201a8"
                                                    ],
                                                    [
                                                        0.3333333333333333,
                                                        "#9c179e"
                                                    ],
                                                    [
                                                        0.4444444444444444,
                                                        "#bd3786"
                                                    ],
                                                    [
                                                        0.5555555555555556,
                                                        "#d8576b"
                                                    ],
                                                    [
                                                        0.6666666666666666,
                                                        "#ed7953"
                                                    ],
                                                    [
                                                        0.7777777777777778,
                                                        "#fb9f3a"
                                                    ],
                                                    [
                                                        0.8888888888888888,
                                                        "#fdca26"
                                                    ],
                                                    [
                                                        1,
                                                        "#f0f921"
                                                    ]
                                                ],
                                                "type": "contour"
                                            }
                                        ],
                                        "contourcarpet": [
                                            {
                                                "colorbar": {
                                                    "outlinewidth": 0,
                                                    "ticks": ""
                                                },
                                                "type": "contourcarpet"
                                            }
                                        ],
                                        "heatmap": [
                                            {
                                                "colorbar": {
                                                    "outlinewidth": 0,
                                                    "ticks": ""
                                                },
                                                "colorscale": [
                                                    [
                                                        0,
                                                        "#0d0887"
                                                    ],
                                                    [
                                                        0.1111111111111111,
                                                        "#46039f"
                                                    ],
                                                    [
                                                        0.2222222222222222,
                                                        "#7201a8"
                                                    ],
                                                    [
                                                        0.3333333333333333,
                                                        "#9c179e"
                                                    ],
                                                    [
                                                        0.4444444444444444,
                                                        "#bd3786"
                                                    ],
                                                    [
                                                        0.5555555555555556,
                                                        "#d8576b"
                                                    ],
                                                    [
                                                        0.6666666666666666,
                                                        "#ed7953"
                                                    ],
                                                    [
                                                        0.7777777777777778,
                                                        "#fb9f3a"
                                                    ],
                                                    [
                                                        0.8888888888888888,
                                                        "#fdca26"
                                                    ],
                                                    [
                                                        1,
                                                        "#f0f921"
                                                    ]
                                                ],
                                                "type": "heatmap"
                                            }
                                        ],
                                        "heatmapgl": [
                                            {
                                                "colorbar": {
                                                    "outlinewidth": 0,
                                                    "ticks": ""
                                                },
                                                "colorscale": [
                                                    [
                                                        0,
                                                        "#0d0887"
                                                    ],
                                                    [
                                                        0.1111111111111111,
                                                        "#46039f"
                                                    ],
                                                    [
                                                        0.2222222222222222,
                                                        "#7201a8"
                                                    ],
                                                    [
                                                        0.3333333333333333,
                                                        "#9c179e"
                                                    ],
                                                    [
                                                        0.4444444444444444,
                                                        "#bd3786"
                                                    ],
                                                    [
                                                        0.5555555555555556,
                                                        "#d8576b"
                                                    ],
                                                    [
                                                        0.6666666666666666,
                                                        "#ed7953"
                                                    ],
                                                    [
                                                        0.7777777777777778,
                                                        "#fb9f3a"
                                                    ],
                                                    [
                                                        0.8888888888888888,
                                                        "#fdca26"
                                                    ],
                                                    [
                                                        1,
                                                        "#f0f921"
                                                    ]
                                                ],
                                                "type": "heatmapgl"
                                            }
                                        ],
                                        "histogram": [
                                            {
                                                "marker": {
                                                    "pattern": {
                                                        "fillmode": "overlay",
                                                        "size": 10,
                                                        "solidity": 0.2
                                                    }
                                                },
                                                "type": "histogram"
                                            }
                                        ],
                                        "histogram2d": [
                                            {
                                                "colorbar": {
                                                    "outlinewidth": 0,
                                                    "ticks": ""
                                                },
                                                "colorscale": [
                                                    [
                                                        0,
                                                        "#0d0887"
                                                    ],
                                                    [
                                                        0.1111111111111111,
                                                        "#46039f"
                                                    ],
                                                    [
                                                        0.2222222222222222,
                                                        "#7201a8"
                                                    ],
                                                    [
                                                        0.3333333333333333,
                                                        "#9c179e"
                                                    ],
                                                    [
                                                        0.4444444444444444,
                                                        "#bd3786"
                                                    ],
                                                    [
                                                        0.5555555555555556,
                                                        "#d8576b"
                                                    ],
                                                    [
                                                        0.6666666666666666,
                                                        "#ed7953"
                                                    ],
                                                    [
                                                        0.7777777777777778,
                                                        "#fb9f3a"
                                                    ],
                                                    [
                                                        0.8888888888888888,
                                                        "#fdca26"
                                                    ],
                                                    [
                                                        1,
                                                        "#f0f921"
                                                    ]
                                                ],
                                                "type": "histogram2d"
                                            }
                                        ],
                                        "histogram2dcontour": [
                                            {
                                                "colorbar": {
                                                    "outlinewidth": 0,
                                                    "ticks": ""
                                                },
                                                "colorscale": [
                                                    [
                                                        0,
                                                        "#0d0887"
                                                    ],
                                                    [
                                                        0.1111111111111111,
                                                        "#46039f"
                                                    ],
                                                    [
                                                        0.2222222222222222,
                                                        "#7201a8"
                                                    ],
                                                    [
                                                        0.3333333333333333,
                                                        "#9c179e"
                                                    ],
                                                    [
                                                        0.4444444444444444,
                                                        "#bd3786"
                                                    ],
                                                    [
                                                        0.5555555555555556,
                                                        "#d8576b"
                                                    ],
                                                    [
                                                        0.6666666666666666,
                                                        "#ed7953"
                                                    ],
                                                    [
                                                        0.7777777777777778,
                                                        "#fb9f3a"
                                                    ],
                                                    [
                                                        0.8888888888888888,
                                                        "#fdca26"
                                                    ],
                                                    [
                                                        1,
                                                        "#f0f921"
                                                    ]
                                                ],
                                                "type": "histogram2dcontour"
                                            }
                                        ],
                                        "mesh3d": [
                                            {
                                                "colorbar": {
                                                    "outlinewidth": 0,
                                                    "ticks": ""
                                                },
                                                "type": "mesh3d"
                                            }
                                        ],
                                        "parcoords": [
                                            {
                                                "line": {
                                                    "colorbar": {
                                                        "outlinewidth": 0,
                                                        "ticks": ""
                                                    }
                                                },
                                                "type": "parcoords"
                                            }
                                        ],
                                        "pie": [
                                            {
                                                "automargin": true,
                                                "type": "pie"
                                            }
                                        ],
                                        "scatter": [
                                            {
                                                "marker": {
                                                    "colorbar": {
                                                        "outlinewidth": 0,
                                                        "ticks": ""
                                                    }
                                                },
                                                "type": "scatter"
                                            }
                                        ],
                                        "scatter3d": [
                                            {
                                                "line": {
                                                    "colorbar": {
                                                        "outlinewidth": 0,
                                                        "ticks": ""
                                                    }
                                                },
                                                "marker": {
                                                    "colorbar": {
                                                        "outlinewidth": 0,
                                                        "ticks": ""
                                                    }
                                                },
                                                "type": "scatter3d"
                                            }
                                        ],
                                        "scattercarpet": [
                                            {
                                                "marker": {
                                                    "colorbar": {
                                                        "outlinewidth": 0,
                                                        "ticks": ""
                                                    }
                                                },
                                                "type": "scattercarpet"
                                            }
                                        ],
                                        "scattergeo": [
                                            {
                                                "marker": {
                                                    "colorbar": {
                                                        "outlinewidth": 0,
                                                        "ticks": ""
                                                    }
                                                },
                                                "type": "scattergeo"
                                            }
                                        ],
                                        "scattergl": [
                                            {
                                                "marker": {
                                                    "colorbar": {
                                                        "outlinewidth": 0,
                                                        "ticks": ""
                                                    }
                                                },
                                                "type": "scattergl"
                                            }
                                        ],
                                        "scattermapbox": [
                                            {
                                                "marker": {
                                                    "colorbar": {
                                                        "outlinewidth": 0,
                                                        "ticks": ""
                                                    }
                                                },
                                                "type": "scattermapbox"
                                            }
                                        ],
                                        "scatterpolar": [
                                            {
                                                "marker": {
                                                    "colorbar": {
                                                        "outlinewidth": 0,
                                                        "ticks": ""
                                                    }
                                                },
                                                "type": "scatterpolar"
                                            }
                                        ],
                                        "scatterpolargl": [
                                            {
                                                "marker": {
                                                    "colorbar": {
                                                        "outlinewidth": 0,
                                                        "ticks": ""
                                                    }
                                                },
                                                "type": "scatterpolargl"
                                            }
                                        ],
                                        "scatterternary": [
                                            {
                                                "marker": {
                                                    "colorbar": {
                                                        "outlinewidth": 0,
                                                        "ticks": ""
                                                    }
                                                },
                                                "type": "scatterternary"
                                            }
                                        ],
                                        "surface": [
                                            {
                                                "colorbar": {
                                                    "outlinewidth": 0,
                                                    "ticks": ""
                                                },
                                                "colorscale": [
                                                    [
                                                        0,
                                                        "#0d0887"
                                                    ],
                                                    [
                                                        0.1111111111111111,
                                                        "#46039f"
                                                    ],
                                                    [
                                                        0.2222222222222222,
                                                        "#7201a8"
                                                    ],
                                                    [
                                                        0.3333333333333333,
                                                        "#9c179e"
                                                    ],
                                                    [
                                                        0.4444444444444444,
                                                        "#bd3786"
                                                    ],
                                                    [
                                                        0.5555555555555556,
                                                        "#d8576b"
                                                    ],
                                                    [
                                                        0.6666666666666666,
                                                        "#ed7953"
                                                    ],
                                                    [
                                                        0.7777777777777778,
                                                        "#fb9f3a"
                                                    ],
                                                    [
                                                        0.8888888888888888,
                                                        "#fdca26"
                                                    ],
                                                    [
                                                        1,
                                                        "#f0f921"
                                                    ]
                                                ],
                                                "type": "surface"
                                            }
                                        ],
                                        "table": [
                                            {
                                                "cells": {
                                                    "fill": {
                                                        "color": "#EBF0F8"
                                                    },
                                                    "line": {
                                                        "color": "white"
                                                    }
                                                },
                                                "header": {
                                                    "fill": {
                                                        "color": "#C8D4E3"
                                                    },
                                                    "line": {
                                                        "color": "white"
                                                    }
                                                },
                                                "type": "table"
                                            }
                                        ]
                                    },
                                    "layout": {
                                        "annotationdefaults": {
                                            "arrowcolor": "#2a3f5f",
                                            "arrowhead": 0,
                                            "arrowwidth": 1
                                        },
                                        "autotypenumbers": "strict",
                                        "coloraxis": {
                                            "colorbar": {
                                                "outlinewidth": 0,
                                                "ticks": ""
                                            }
                                        },
                                        "colorscale": {
                                            "diverging": [
                                                [
                                                    0,
                                                    "#8e0152"
                                                ],
                                                [
                                                    0.1,
                                                    "#c51b7d"
                                                ],
                                                [
                                                    0.2,
                                                    "#de77ae"
                                                ],
                                                [
                                                    0.3,
                                                    "#f1b6da"
                                                ],
                                                [
                                                    0.4,
                                                    "#fde0ef"
                                                ],
                                                [
                                                    0.5,
                                                    "#f7f7f7"
                                                ],
                                                [
                                                    0.6,
                                                    "#e6f5d0"
                                                ],
                                                [
                                                    0.7,
                                                    "#b8e186"
                                                ],
                                                [
                                                    0.8,
                                                    "#7fbc41"
                                                ],
                                                [
                                                    0.9,
                                                    "#4d9221"
                                                ],
                                                [
                                                    1,
                                                    "#276419"
                                                ]
                                            ],
                                            "sequential": [
                                                [
                                                    0,
                                                    "#0d0887"
                                                ],
                                                [
                                                    0.1111111111111111,
                                                    "#46039f"
                                                ],
                                                [
                                                    0.2222222222222222,
                                                    "#7201a8"
                                                ],
                                                [
                                                    0.3333333333333333,
                                                    "#9c179e"
                                                ],
                                                [
                                                    0.4444444444444444,
                                                    "#bd3786"
                                                ],
                                                [
                                                    0.5555555555555556,
                                                    "#d8576b"
                                                ],
                                                [
                                                    0.6666666666666666,
                                                    "#ed7953"
                                                ],
                                                [
                                                    0.7777777777777778,
                                                    "#fb9f3a"
                                                ],
                                                [
                                                    0.8888888888888888,
                                                    "#fdca26"
                                                ],
                                                [
                                                    1,
                                                    "#f0f921"
                                                ]
                                            ],
                                            "sequentialminus": [
                                                [
                                                    0,
                                                    "#0d0887"
                                                ],
                                                [
                                                    0.1111111111111111,
                                                    "#46039f"
                                                ],
                                                [
                                                    0.2222222222222222,
                                                    "#7201a8"
                                                ],
                                                [
                                                    0.3333333333333333,
                                                    "#9c179e"
                                                ],
                                                [
                                                    0.4444444444444444,
                                                    "#bd3786"
                                                ],
                                                [
                                                    0.5555555555555556,
                                                    "#d8576b"
                                                ],
                                                [
                                                    0.6666666666666666,
                                                    "#ed7953"
                                                ],
                                                [
                                                    0.7777777777777778,
                                                    "#fb9f3a"
                                                ],
                                                [
                                                    0.8888888888888888,
                                                    "#fdca26"
                                                ],
                                                [
                                                    1,
                                                    "#f0f921"
                                                ]
                                            ]
                                        },
                                        "colorway": [
                                            "#636efa",
                                            "#EF553B",
                                            "#00cc96",
                                            "#ab63fa",
                                            "#FFA15A",
                                            "#19d3f3",
                                            "#FF6692",
                                            "#B6E880",
                                            "#FF97FF",
                                            "#FECB52"
                                        ],
                                        "font": {
                                            "color": "#2a3f5f"
                                        },
                                        "geo": {
                                            "bgcolor": "white",
                                            "lakecolor": "white",
                                            "landcolor": "white",
                                            "showlakes": true,
                                            "showland": true,
                                            "subunitcolor": "#C8D4E3"
                                        },
                                        "hoverlabel": {
                                            "align": "left"
                                        },
                                        "hovermode": "closest",
                                        "mapbox": {
                                            "style": "light"
                                        },
                                        "paper_bgcolor": "white",
                                        "plot_bgcolor": "white",
                                        "polar": {
                                            "angularaxis": {
                                                "gridcolor": "#EBF0F8",
                                                "linecolor": "#EBF0F8",
                                                "ticks": ""
                                            },
                                            "bgcolor": "white",
                                            "radialaxis": {
                                                "gridcolor": "#EBF0F8",
                                                "linecolor": "#EBF0F8",
                                                "ticks": ""
                                            }
                                        },
                                        "scene": {
                                            "xaxis": {
                                                "backgroundcolor": "white",
                                                "gridcolor": "#DFE8F3",
                                                "gridwidth": 2,
                                                "linecolor": "#EBF0F8",
                                                "showbackground": true,
                                                "ticks": "",
                                                "zerolinecolor": "#EBF0F8"
                                            },
                                            "yaxis": {
                                                "backgroundcolor": "white",
                                                "gridcolor": "#DFE8F3",
                                                "gridwidth": 2,
                                                "linecolor": "#EBF0F8",
                                                "showbackground": true,
                                                "ticks": "",
                                                "zerolinecolor": "#EBF0F8"
                                            },
                                            "zaxis": {
                                                "backgroundcolor": "white",
                                                "gridcolor": "#DFE8F3",
                                                "gridwidth": 2,
                                                "linecolor": "#EBF0F8",
                                                "showbackground": true,
                                                "ticks": "",
                                                "zerolinecolor": "#EBF0F8"
                                            }
                                        },
                                        "shapedefaults": {
                                            "line": {
                                                "color": "#2a3f5f"
                                            }
                                        },
                                        "ternary": {
                                            "aaxis": {
                                                "gridcolor": "#DFE8F3",
                                                "linecolor": "#A2B1C6",
                                                "ticks": ""
                                            },
                                            "baxis": {
                                                "gridcolor": "#DFE8F3",
                                                "linecolor": "#A2B1C6",
                                                "ticks": ""
                                            },
                                            "bgcolor": "white",
                                            "caxis": {
                                                "gridcolor": "#DFE8F3",
                                                "linecolor": "#A2B1C6",
                                                "ticks": ""
                                            }
                                        },
                                        "title": {
                                            "x": 0.05
                                        },
                                        "xaxis": {
                                            "automargin": true,
                                            "gridcolor": "#EBF0F8",
                                            "linecolor": "#EBF0F8",
                                            "ticks": "",
                                            "title": {
                                                "standoff": 15
                                            },
                                            "zerolinecolor": "#EBF0F8",
                                            "zerolinewidth": 2
                                        },
                                        "yaxis": {
                                            "automargin": true,
                                            "gridcolor": "#EBF0F8",
                                            "linecolor": "#EBF0F8",
                                            "ticks": "",
                                            "title": {
                                                "standoff": 15
                                            },
                                            "zerolinecolor": "#EBF0F8",
                                            "zerolinewidth": 2
                                        }
                                    }
                                },
                                "title": {
                                    "text": "Logloss Of Odds At Various Time Points"
                                },
                                "xaxis": {
                                    "anchor": "y",
                                    "domain": [
                                        0,
                                        1
                                    ],
                                    "title": {
                                        "text": "type"
                                    }
                                },
                                "yaxis": {
                                    "anchor": "x",
                                    "domain": [
                                        0,
                                        1
                                    ],
                                    "range": [
                                        0.2755,
                                        0.2765
                                    ],
                                    "title": {
                                        "text": "logloss"
                                    }
                                }
                            }
                        }
                    },
                    "metadata": {}
                }
            ],
            "metadata": {}
        },
        {
            "cell_type": "markdown",
            "source": [
                "# Projecting BSP\n",
                "\n",
                "- Near price\n",
                "    + showing 60 second lag\n",
                "    +"
            ],
            "metadata": {}
        },
        {
            "cell_type": "code",
            "execution_count": 67,
            "source": [
                "# VISUALISATION\n",
                "# ________________________\n",
                "\n",
                "\n",
                "\n",
                "# Show 60 second lag of the near price\n",
                "\n",
                "# def chartPrices(dSlice):\n",
                "\n",
                "dSlice = df.query('market_id == \"1.182394184\" and selection_id == \"39243409\"').dropna()\n",
                "\n",
                "dSlice\n"
            ],
            "outputs": [
                {
                    "output_type": "execute_result",
                    "data": {
                        "text/plain": [
                            "           market_id selection_id     venue         market_time  \\\n",
                            "1664988  1.182394184     39243409  Randwick 2021-04-25 05:05:00   \n",
                            "1664989  1.182394184     39243409  Randwick 2021-04-25 05:05:00   \n",
                            "1664990  1.182394184     39243409  Randwick 2021-04-25 05:05:00   \n",
                            "1664991  1.182394184     39243409  Randwick 2021-04-25 05:05:00   \n",
                            "1664992  1.182394184     39243409  Randwick 2021-04-25 05:05:00   \n",
                            "1664993  1.182394184     39243409  Randwick 2021-04-25 05:05:00   \n",
                            "1664994  1.182394184     39243409  Randwick 2021-04-25 05:05:00   \n",
                            "1664995  1.182394184     39243409  Randwick 2021-04-25 05:05:00   \n",
                            "1664996  1.182394184     39243409  Randwick 2021-04-25 05:05:00   \n",
                            "1664997  1.182394184     39243409  Randwick 2021-04-25 05:05:00   \n",
                            "1664998  1.182394184     39243409  Randwick 2021-04-25 05:05:00   \n",
                            "1664999  1.182394184     39243409  Randwick 2021-04-25 05:05:00   \n",
                            "1665000  1.182394184     39243409  Randwick 2021-04-25 05:05:00   \n",
                            "1665001  1.182394184     39243409  Randwick 2021-04-25 05:05:00   \n",
                            "1665002  1.182394184     39243409  Randwick 2021-04-25 05:05:00   \n",
                            "1665003  1.182394184     39243409  Randwick 2021-04-25 05:05:00   \n",
                            "1665004  1.182394184     39243409  Randwick 2021-04-25 05:05:00   \n",
                            "1665005  1.182394184     39243409  Randwick 2021-04-25 05:05:00   \n",
                            "1665006  1.182394184     39243409  Randwick 2021-04-25 05:05:00   \n",
                            "\n",
                            "        selection_name  win   bsp                    time  traded_volume  \\\n",
                            "1664988     4. Rubamos    0  2.79 2021-04-25 05:03:00.064          14073   \n",
                            "1664989     4. Rubamos    0  2.79 2021-04-25 05:03:10.106          14579   \n",
                            "1664990     4. Rubamos    0  2.79 2021-04-25 05:03:20.181          15107   \n",
                            "1664991     4. Rubamos    0  2.79 2021-04-25 05:03:30.203          15346   \n",
                            "1664992     4. Rubamos    0  2.79 2021-04-25 05:03:40.259          17248   \n",
                            "1664993     4. Rubamos    0  2.79 2021-04-25 05:03:50.466          19506   \n",
                            "1664994     4. Rubamos    0  2.79 2021-04-25 05:04:00.494          21456   \n",
                            "1664995     4. Rubamos    0  2.79 2021-04-25 05:04:10.565          30742   \n",
                            "1664996     4. Rubamos    0  2.79 2021-04-25 05:04:20.604          33417   \n",
                            "1664997     4. Rubamos    0  2.79 2021-04-25 05:04:30.691          35432   \n",
                            "1664998     4. Rubamos    0  2.79 2021-04-25 05:04:40.711          37155   \n",
                            "1664999     4. Rubamos    0  2.79 2021-04-25 05:04:50.759          40440   \n",
                            "1665000     4. Rubamos    0  2.79 2021-04-25 05:05:00.868          41602   \n",
                            "1665001     4. Rubamos    0  2.79 2021-04-25 05:05:10.875          43106   \n",
                            "1665002     4. Rubamos    0  2.79 2021-04-25 05:05:20.903          51116   \n",
                            "1665003     4. Rubamos    0  2.79 2021-04-25 05:05:30.927          54459   \n",
                            "1665004     4. Rubamos    0  2.79 2021-04-25 05:05:40.954          58244   \n",
                            "1665005     4. Rubamos    0  2.79 2021-04-25 05:05:51.052          60368   \n",
                            "1665006     4. Rubamos    0  2.79 2021-04-25 05:05:53.273          61337   \n",
                            "\n",
                            "         near_price  far_price  bsp_back_pool_stake  bsp_lay_pool_liability  \\\n",
                            "1664988        2.97       2.01                  650                     661   \n",
                            "1664989        2.97       2.01                  664                     939   \n",
                            "1664990        2.97       2.01                  664                     967   \n",
                            "1664991        2.97       2.01                  669                     973   \n",
                            "1664992        3.00       2.54                  774                     973   \n",
                            "1664993        3.00       2.54                  774                     973   \n",
                            "1664994        3.00       2.54                  774                     973   \n",
                            "1664995        3.00       2.54                  801                     982   \n",
                            "1664996        3.00       2.54                  832                    1007   \n",
                            "1664997        3.00       2.54                  832                    1241   \n",
                            "1664998        2.98       2.81                  891                    1486   \n",
                            "1664999        2.98       2.81                 1110                    1885   \n",
                            "1665000        2.98       2.81                 1223                    1914   \n",
                            "1665001        2.98       2.81                 1310                    3742   \n",
                            "1665002        2.98       2.81                 3084                    3902   \n",
                            "1665003        2.98       2.81                 3441                    4141   \n",
                            "1665004        2.80       2.30                 3458                    4638   \n",
                            "1665005        2.80       2.30                 3722                    6243   \n",
                            "1665006        2.80       2.30                 3311                    5218   \n",
                            "\n",
                            "                                                atb_ladder  \\\n",
                            "1664988  {'p': [2.96, 2.94, 2.92, 2.9, 2.88], 'v': [24....   \n",
                            "1664989  {'p': [2.96, 2.94, 2.92, 2.9, 2.88], 'v': [223...   \n",
                            "1664990  {'p': [2.96, 2.94, 2.92, 2.9, 2.88], 'v': [38....   \n",
                            "1664991  {'p': [2.98, 2.96, 2.94, 2.92, 2.9], 'v': [71....   \n",
                            "1664992  {'p': [3, 2.98, 2.96, 2.94, 2.92], 'v': [34.6,...   \n",
                            "1664993  {'p': [3, 2.98, 2.96, 2.94, 2.92], 'v': [14.38...   \n",
                            "1664994  {'p': [2.98, 2.96, 2.94, 2.92, 2.9], 'v': [249...   \n",
                            "1664995  {'p': [3.1, 3.05, 3, 2.98, 2.96], 'v': [345.54...   \n",
                            "1664996  {'p': [3.05, 3, 2.98, 2.96, 2.94], 'v': [85.36...   \n",
                            "1664997  {'p': [3, 2.98, 2.96, 2.94, 2.92], 'v': [48.05...   \n",
                            "1664998  {'p': [2.96, 2.94, 2.92, 2.9, 2.88], 'v': [20....   \n",
                            "1664999  {'p': [2.9, 2.88, 2.86, 2.84, 2.82], 'v': [163...   \n",
                            "1665000  {'p': [2.9, 2.88, 2.86, 2.84, 2.82], 'v': [301...   \n",
                            "1665001  {'p': [2.92, 2.9, 2.88, 2.86, 2.84], 'v': [259...   \n",
                            "1665002  {'p': [2.92, 2.88, 2.86, 2.84, 2.82], 'v': [37...   \n",
                            "1665003  {'p': [2.84, 2.82, 2.8, 2.78, 2.76], 'v': [143...   \n",
                            "1665004  {'p': [2.88, 2.86, 2.84, 2.82, 2.8], 'v': [34....   \n",
                            "1665005  {'p': [2.84, 2.82, 2.8, 2.78, 2.76], 'v': [52....   \n",
                            "1665006  {'p': [2.78, 2.76, 2.74, 2.72, 2.7], 'v': [376...   \n",
                            "\n",
                            "                                                atl_ladder   sbsj  back_best  \\\n",
                            "1664988  {'p': [2.98, 3, 3.05, 3.1, 3.15], 'v': [10.01,...  120.0       2.96   \n",
                            "1664989  {'p': [2.98, 3, 3.05, 3.1, 3.15], 'v': [59.52,...  110.0       2.96   \n",
                            "1664990  {'p': [2.98, 3, 3.05, 3.1, 3.15], 'v': [7.76, ...  100.0       2.96   \n",
                            "1664991  {'p': [3, 3.05, 3.1, 3.15, 3.2], 'v': [80.54, ...   90.0       2.98   \n",
                            "1664992  {'p': [3.05, 3.1, 3.15, 3.2, 3.25], 'v': [1444...   80.0       3.00   \n",
                            "1664993  {'p': [3.05, 3.1, 3.15, 3.2, 3.25], 'v': [1438...   70.0       3.00   \n",
                            "1664994  {'p': [3, 3.05, 3.1, 3.15, 3.2], 'v': [334.69,...   60.0       2.98   \n",
                            "1664995  {'p': [3.15, 3.2, 3.25, 3.3, 3.35], 'v': [555....   50.0       3.10   \n",
                            "1664996  {'p': [3.1, 3.15, 3.2, 3.25, 3.3], 'v': [5.55,...   40.0       3.05   \n",
                            "1664997  {'p': [3.05, 3.1, 3.15, 3.2, 3.25], 'v': [38.1...   30.0       3.00   \n",
                            "1664998  {'p': [2.98, 3, 3.05, 3.1, 3.15], 'v': [18.56,...   20.0       2.96   \n",
                            "1664999  {'p': [2.92, 2.96, 2.98, 3, 3.05], 'v': [11.06...   10.0       2.90   \n",
                            "1665000  {'p': [2.92, 2.94, 2.96, 2.98, 3], 'v': [116.7...   -0.0       2.90   \n",
                            "1665001  {'p': [2.94, 2.96, 2.98, 3, 3.05], 'v': [7.76,...  -10.0       2.92   \n",
                            "1665002  {'p': [2.98, 3, 3.05, 3.1, 3.15], 'v': [240.43...  -20.0       2.92   \n",
                            "1665003  {'p': [2.86, 2.88, 2.92, 2.94, 2.96], 'v': [22...  -30.0       2.84   \n",
                            "1665004  {'p': [2.9, 2.92, 2.94, 2.96, 2.98], 'v': [157...  -40.0       2.88   \n",
                            "1665005  {'p': [2.86, 2.9, 2.92, 2.94, 2.96], 'v': [101...  -50.0       2.84   \n",
                            "1665006  {'p': [2.86, 2.9, 2.92, 2.94, 2.96], 'v': [993...  -50.0       2.78   \n",
                            "\n",
                            "         lay_best  geometric_mid_point  ladder_mid_point  \n",
                            "1664988      2.98                2.970              2.96  \n",
                            "1664989      2.98                2.970              2.96  \n",
                            "1664990      2.98                2.970              2.96  \n",
                            "1664991      3.00                2.990              2.98  \n",
                            "1664992      3.05                3.025              3.00  \n",
                            "1664993      3.05                3.025              3.00  \n",
                            "1664994      3.00                2.990              2.98  \n",
                            "1664995      3.15                3.125              3.10  \n",
                            "1664996      3.10                3.075              3.05  \n",
                            "1664997      3.05                3.025              3.00  \n",
                            "1664998      2.98                2.970              2.96  \n",
                            "1664999      2.92                2.910              2.90  \n",
                            "1665000      2.92                2.910              2.90  \n",
                            "1665001      2.94                2.930              2.92  \n",
                            "1665002      2.98                2.950              2.96  \n",
                            "1665003      2.86                2.850              2.84  \n",
                            "1665004      2.90                2.890              2.88  \n",
                            "1665005      2.86                2.850              2.84  \n",
                            "1665006      2.86                2.820              2.82  "
                        ],
                        "text/html": [
                            "<div>\n",
                            "<style scoped>\n",
                            "    .dataframe tbody tr th:only-of-type {\n",
                            "        vertical-align: middle;\n",
                            "    }\n",
                            "\n",
                            "    .dataframe tbody tr th {\n",
                            "        vertical-align: top;\n",
                            "    }\n",
                            "\n",
                            "    .dataframe thead th {\n",
                            "        text-align: right;\n",
                            "    }\n",
                            "</style>\n",
                            "<table border=\"1\" class=\"dataframe\">\n",
                            "  <thead>\n",
                            "    <tr style=\"text-align: right;\">\n",
                            "      <th></th>\n",
                            "      <th>market_id</th>\n",
                            "      <th>selection_id</th>\n",
                            "      <th>venue</th>\n",
                            "      <th>market_time</th>\n",
                            "      <th>selection_name</th>\n",
                            "      <th>win</th>\n",
                            "      <th>bsp</th>\n",
                            "      <th>time</th>\n",
                            "      <th>traded_volume</th>\n",
                            "      <th>near_price</th>\n",
                            "      <th>far_price</th>\n",
                            "      <th>bsp_back_pool_stake</th>\n",
                            "      <th>bsp_lay_pool_liability</th>\n",
                            "      <th>atb_ladder</th>\n",
                            "      <th>atl_ladder</th>\n",
                            "      <th>sbsj</th>\n",
                            "      <th>back_best</th>\n",
                            "      <th>lay_best</th>\n",
                            "      <th>geometric_mid_point</th>\n",
                            "      <th>ladder_mid_point</th>\n",
                            "    </tr>\n",
                            "  </thead>\n",
                            "  <tbody>\n",
                            "    <tr>\n",
                            "      <th>1664988</th>\n",
                            "      <td>1.182394184</td>\n",
                            "      <td>39243409</td>\n",
                            "      <td>Randwick</td>\n",
                            "      <td>2021-04-25 05:05:00</td>\n",
                            "      <td>4. Rubamos</td>\n",
                            "      <td>0</td>\n",
                            "      <td>2.79</td>\n",
                            "      <td>2021-04-25 05:03:00.064</td>\n",
                            "      <td>14073</td>\n",
                            "      <td>2.97</td>\n",
                            "      <td>2.01</td>\n",
                            "      <td>650</td>\n",
                            "      <td>661</td>\n",
                            "      <td>{'p': [2.96, 2.94, 2.92, 2.9, 2.88], 'v': [24....</td>\n",
                            "      <td>{'p': [2.98, 3, 3.05, 3.1, 3.15], 'v': [10.01,...</td>\n",
                            "      <td>120.0</td>\n",
                            "      <td>2.96</td>\n",
                            "      <td>2.98</td>\n",
                            "      <td>2.970</td>\n",
                            "      <td>2.96</td>\n",
                            "    </tr>\n",
                            "    <tr>\n",
                            "      <th>1664989</th>\n",
                            "      <td>1.182394184</td>\n",
                            "      <td>39243409</td>\n",
                            "      <td>Randwick</td>\n",
                            "      <td>2021-04-25 05:05:00</td>\n",
                            "      <td>4. Rubamos</td>\n",
                            "      <td>0</td>\n",
                            "      <td>2.79</td>\n",
                            "      <td>2021-04-25 05:03:10.106</td>\n",
                            "      <td>14579</td>\n",
                            "      <td>2.97</td>\n",
                            "      <td>2.01</td>\n",
                            "      <td>664</td>\n",
                            "      <td>939</td>\n",
                            "      <td>{'p': [2.96, 2.94, 2.92, 2.9, 2.88], 'v': [223...</td>\n",
                            "      <td>{'p': [2.98, 3, 3.05, 3.1, 3.15], 'v': [59.52,...</td>\n",
                            "      <td>110.0</td>\n",
                            "      <td>2.96</td>\n",
                            "      <td>2.98</td>\n",
                            "      <td>2.970</td>\n",
                            "      <td>2.96</td>\n",
                            "    </tr>\n",
                            "    <tr>\n",
                            "      <th>1664990</th>\n",
                            "      <td>1.182394184</td>\n",
                            "      <td>39243409</td>\n",
                            "      <td>Randwick</td>\n",
                            "      <td>2021-04-25 05:05:00</td>\n",
                            "      <td>4. Rubamos</td>\n",
                            "      <td>0</td>\n",
                            "      <td>2.79</td>\n",
                            "      <td>2021-04-25 05:03:20.181</td>\n",
                            "      <td>15107</td>\n",
                            "      <td>2.97</td>\n",
                            "      <td>2.01</td>\n",
                            "      <td>664</td>\n",
                            "      <td>967</td>\n",
                            "      <td>{'p': [2.96, 2.94, 2.92, 2.9, 2.88], 'v': [38....</td>\n",
                            "      <td>{'p': [2.98, 3, 3.05, 3.1, 3.15], 'v': [7.76, ...</td>\n",
                            "      <td>100.0</td>\n",
                            "      <td>2.96</td>\n",
                            "      <td>2.98</td>\n",
                            "      <td>2.970</td>\n",
                            "      <td>2.96</td>\n",
                            "    </tr>\n",
                            "    <tr>\n",
                            "      <th>1664991</th>\n",
                            "      <td>1.182394184</td>\n",
                            "      <td>39243409</td>\n",
                            "      <td>Randwick</td>\n",
                            "      <td>2021-04-25 05:05:00</td>\n",
                            "      <td>4. Rubamos</td>\n",
                            "      <td>0</td>\n",
                            "      <td>2.79</td>\n",
                            "      <td>2021-04-25 05:03:30.203</td>\n",
                            "      <td>15346</td>\n",
                            "      <td>2.97</td>\n",
                            "      <td>2.01</td>\n",
                            "      <td>669</td>\n",
                            "      <td>973</td>\n",
                            "      <td>{'p': [2.98, 2.96, 2.94, 2.92, 2.9], 'v': [71....</td>\n",
                            "      <td>{'p': [3, 3.05, 3.1, 3.15, 3.2], 'v': [80.54, ...</td>\n",
                            "      <td>90.0</td>\n",
                            "      <td>2.98</td>\n",
                            "      <td>3.00</td>\n",
                            "      <td>2.990</td>\n",
                            "      <td>2.98</td>\n",
                            "    </tr>\n",
                            "    <tr>\n",
                            "      <th>1664992</th>\n",
                            "      <td>1.182394184</td>\n",
                            "      <td>39243409</td>\n",
                            "      <td>Randwick</td>\n",
                            "      <td>2021-04-25 05:05:00</td>\n",
                            "      <td>4. Rubamos</td>\n",
                            "      <td>0</td>\n",
                            "      <td>2.79</td>\n",
                            "      <td>2021-04-25 05:03:40.259</td>\n",
                            "      <td>17248</td>\n",
                            "      <td>3.00</td>\n",
                            "      <td>2.54</td>\n",
                            "      <td>774</td>\n",
                            "      <td>973</td>\n",
                            "      <td>{'p': [3, 2.98, 2.96, 2.94, 2.92], 'v': [34.6,...</td>\n",
                            "      <td>{'p': [3.05, 3.1, 3.15, 3.2, 3.25], 'v': [1444...</td>\n",
                            "      <td>80.0</td>\n",
                            "      <td>3.00</td>\n",
                            "      <td>3.05</td>\n",
                            "      <td>3.025</td>\n",
                            "      <td>3.00</td>\n",
                            "    </tr>\n",
                            "    <tr>\n",
                            "      <th>1664993</th>\n",
                            "      <td>1.182394184</td>\n",
                            "      <td>39243409</td>\n",
                            "      <td>Randwick</td>\n",
                            "      <td>2021-04-25 05:05:00</td>\n",
                            "      <td>4. Rubamos</td>\n",
                            "      <td>0</td>\n",
                            "      <td>2.79</td>\n",
                            "      <td>2021-04-25 05:03:50.466</td>\n",
                            "      <td>19506</td>\n",
                            "      <td>3.00</td>\n",
                            "      <td>2.54</td>\n",
                            "      <td>774</td>\n",
                            "      <td>973</td>\n",
                            "      <td>{'p': [3, 2.98, 2.96, 2.94, 2.92], 'v': [14.38...</td>\n",
                            "      <td>{'p': [3.05, 3.1, 3.15, 3.2, 3.25], 'v': [1438...</td>\n",
                            "      <td>70.0</td>\n",
                            "      <td>3.00</td>\n",
                            "      <td>3.05</td>\n",
                            "      <td>3.025</td>\n",
                            "      <td>3.00</td>\n",
                            "    </tr>\n",
                            "    <tr>\n",
                            "      <th>1664994</th>\n",
                            "      <td>1.182394184</td>\n",
                            "      <td>39243409</td>\n",
                            "      <td>Randwick</td>\n",
                            "      <td>2021-04-25 05:05:00</td>\n",
                            "      <td>4. Rubamos</td>\n",
                            "      <td>0</td>\n",
                            "      <td>2.79</td>\n",
                            "      <td>2021-04-25 05:04:00.494</td>\n",
                            "      <td>21456</td>\n",
                            "      <td>3.00</td>\n",
                            "      <td>2.54</td>\n",
                            "      <td>774</td>\n",
                            "      <td>973</td>\n",
                            "      <td>{'p': [2.98, 2.96, 2.94, 2.92, 2.9], 'v': [249...</td>\n",
                            "      <td>{'p': [3, 3.05, 3.1, 3.15, 3.2], 'v': [334.69,...</td>\n",
                            "      <td>60.0</td>\n",
                            "      <td>2.98</td>\n",
                            "      <td>3.00</td>\n",
                            "      <td>2.990</td>\n",
                            "      <td>2.98</td>\n",
                            "    </tr>\n",
                            "    <tr>\n",
                            "      <th>1664995</th>\n",
                            "      <td>1.182394184</td>\n",
                            "      <td>39243409</td>\n",
                            "      <td>Randwick</td>\n",
                            "      <td>2021-04-25 05:05:00</td>\n",
                            "      <td>4. Rubamos</td>\n",
                            "      <td>0</td>\n",
                            "      <td>2.79</td>\n",
                            "      <td>2021-04-25 05:04:10.565</td>\n",
                            "      <td>30742</td>\n",
                            "      <td>3.00</td>\n",
                            "      <td>2.54</td>\n",
                            "      <td>801</td>\n",
                            "      <td>982</td>\n",
                            "      <td>{'p': [3.1, 3.05, 3, 2.98, 2.96], 'v': [345.54...</td>\n",
                            "      <td>{'p': [3.15, 3.2, 3.25, 3.3, 3.35], 'v': [555....</td>\n",
                            "      <td>50.0</td>\n",
                            "      <td>3.10</td>\n",
                            "      <td>3.15</td>\n",
                            "      <td>3.125</td>\n",
                            "      <td>3.10</td>\n",
                            "    </tr>\n",
                            "    <tr>\n",
                            "      <th>1664996</th>\n",
                            "      <td>1.182394184</td>\n",
                            "      <td>39243409</td>\n",
                            "      <td>Randwick</td>\n",
                            "      <td>2021-04-25 05:05:00</td>\n",
                            "      <td>4. Rubamos</td>\n",
                            "      <td>0</td>\n",
                            "      <td>2.79</td>\n",
                            "      <td>2021-04-25 05:04:20.604</td>\n",
                            "      <td>33417</td>\n",
                            "      <td>3.00</td>\n",
                            "      <td>2.54</td>\n",
                            "      <td>832</td>\n",
                            "      <td>1007</td>\n",
                            "      <td>{'p': [3.05, 3, 2.98, 2.96, 2.94], 'v': [85.36...</td>\n",
                            "      <td>{'p': [3.1, 3.15, 3.2, 3.25, 3.3], 'v': [5.55,...</td>\n",
                            "      <td>40.0</td>\n",
                            "      <td>3.05</td>\n",
                            "      <td>3.10</td>\n",
                            "      <td>3.075</td>\n",
                            "      <td>3.05</td>\n",
                            "    </tr>\n",
                            "    <tr>\n",
                            "      <th>1664997</th>\n",
                            "      <td>1.182394184</td>\n",
                            "      <td>39243409</td>\n",
                            "      <td>Randwick</td>\n",
                            "      <td>2021-04-25 05:05:00</td>\n",
                            "      <td>4. Rubamos</td>\n",
                            "      <td>0</td>\n",
                            "      <td>2.79</td>\n",
                            "      <td>2021-04-25 05:04:30.691</td>\n",
                            "      <td>35432</td>\n",
                            "      <td>3.00</td>\n",
                            "      <td>2.54</td>\n",
                            "      <td>832</td>\n",
                            "      <td>1241</td>\n",
                            "      <td>{'p': [3, 2.98, 2.96, 2.94, 2.92], 'v': [48.05...</td>\n",
                            "      <td>{'p': [3.05, 3.1, 3.15, 3.2, 3.25], 'v': [38.1...</td>\n",
                            "      <td>30.0</td>\n",
                            "      <td>3.00</td>\n",
                            "      <td>3.05</td>\n",
                            "      <td>3.025</td>\n",
                            "      <td>3.00</td>\n",
                            "    </tr>\n",
                            "    <tr>\n",
                            "      <th>1664998</th>\n",
                            "      <td>1.182394184</td>\n",
                            "      <td>39243409</td>\n",
                            "      <td>Randwick</td>\n",
                            "      <td>2021-04-25 05:05:00</td>\n",
                            "      <td>4. Rubamos</td>\n",
                            "      <td>0</td>\n",
                            "      <td>2.79</td>\n",
                            "      <td>2021-04-25 05:04:40.711</td>\n",
                            "      <td>37155</td>\n",
                            "      <td>2.98</td>\n",
                            "      <td>2.81</td>\n",
                            "      <td>891</td>\n",
                            "      <td>1486</td>\n",
                            "      <td>{'p': [2.96, 2.94, 2.92, 2.9, 2.88], 'v': [20....</td>\n",
                            "      <td>{'p': [2.98, 3, 3.05, 3.1, 3.15], 'v': [18.56,...</td>\n",
                            "      <td>20.0</td>\n",
                            "      <td>2.96</td>\n",
                            "      <td>2.98</td>\n",
                            "      <td>2.970</td>\n",
                            "      <td>2.96</td>\n",
                            "    </tr>\n",
                            "    <tr>\n",
                            "      <th>1664999</th>\n",
                            "      <td>1.182394184</td>\n",
                            "      <td>39243409</td>\n",
                            "      <td>Randwick</td>\n",
                            "      <td>2021-04-25 05:05:00</td>\n",
                            "      <td>4. Rubamos</td>\n",
                            "      <td>0</td>\n",
                            "      <td>2.79</td>\n",
                            "      <td>2021-04-25 05:04:50.759</td>\n",
                            "      <td>40440</td>\n",
                            "      <td>2.98</td>\n",
                            "      <td>2.81</td>\n",
                            "      <td>1110</td>\n",
                            "      <td>1885</td>\n",
                            "      <td>{'p': [2.9, 2.88, 2.86, 2.84, 2.82], 'v': [163...</td>\n",
                            "      <td>{'p': [2.92, 2.96, 2.98, 3, 3.05], 'v': [11.06...</td>\n",
                            "      <td>10.0</td>\n",
                            "      <td>2.90</td>\n",
                            "      <td>2.92</td>\n",
                            "      <td>2.910</td>\n",
                            "      <td>2.90</td>\n",
                            "    </tr>\n",
                            "    <tr>\n",
                            "      <th>1665000</th>\n",
                            "      <td>1.182394184</td>\n",
                            "      <td>39243409</td>\n",
                            "      <td>Randwick</td>\n",
                            "      <td>2021-04-25 05:05:00</td>\n",
                            "      <td>4. Rubamos</td>\n",
                            "      <td>0</td>\n",
                            "      <td>2.79</td>\n",
                            "      <td>2021-04-25 05:05:00.868</td>\n",
                            "      <td>41602</td>\n",
                            "      <td>2.98</td>\n",
                            "      <td>2.81</td>\n",
                            "      <td>1223</td>\n",
                            "      <td>1914</td>\n",
                            "      <td>{'p': [2.9, 2.88, 2.86, 2.84, 2.82], 'v': [301...</td>\n",
                            "      <td>{'p': [2.92, 2.94, 2.96, 2.98, 3], 'v': [116.7...</td>\n",
                            "      <td>-0.0</td>\n",
                            "      <td>2.90</td>\n",
                            "      <td>2.92</td>\n",
                            "      <td>2.910</td>\n",
                            "      <td>2.90</td>\n",
                            "    </tr>\n",
                            "    <tr>\n",
                            "      <th>1665001</th>\n",
                            "      <td>1.182394184</td>\n",
                            "      <td>39243409</td>\n",
                            "      <td>Randwick</td>\n",
                            "      <td>2021-04-25 05:05:00</td>\n",
                            "      <td>4. Rubamos</td>\n",
                            "      <td>0</td>\n",
                            "      <td>2.79</td>\n",
                            "      <td>2021-04-25 05:05:10.875</td>\n",
                            "      <td>43106</td>\n",
                            "      <td>2.98</td>\n",
                            "      <td>2.81</td>\n",
                            "      <td>1310</td>\n",
                            "      <td>3742</td>\n",
                            "      <td>{'p': [2.92, 2.9, 2.88, 2.86, 2.84], 'v': [259...</td>\n",
                            "      <td>{'p': [2.94, 2.96, 2.98, 3, 3.05], 'v': [7.76,...</td>\n",
                            "      <td>-10.0</td>\n",
                            "      <td>2.92</td>\n",
                            "      <td>2.94</td>\n",
                            "      <td>2.930</td>\n",
                            "      <td>2.92</td>\n",
                            "    </tr>\n",
                            "    <tr>\n",
                            "      <th>1665002</th>\n",
                            "      <td>1.182394184</td>\n",
                            "      <td>39243409</td>\n",
                            "      <td>Randwick</td>\n",
                            "      <td>2021-04-25 05:05:00</td>\n",
                            "      <td>4. Rubamos</td>\n",
                            "      <td>0</td>\n",
                            "      <td>2.79</td>\n",
                            "      <td>2021-04-25 05:05:20.903</td>\n",
                            "      <td>51116</td>\n",
                            "      <td>2.98</td>\n",
                            "      <td>2.81</td>\n",
                            "      <td>3084</td>\n",
                            "      <td>3902</td>\n",
                            "      <td>{'p': [2.92, 2.88, 2.86, 2.84, 2.82], 'v': [37...</td>\n",
                            "      <td>{'p': [2.98, 3, 3.05, 3.1, 3.15], 'v': [240.43...</td>\n",
                            "      <td>-20.0</td>\n",
                            "      <td>2.92</td>\n",
                            "      <td>2.98</td>\n",
                            "      <td>2.950</td>\n",
                            "      <td>2.96</td>\n",
                            "    </tr>\n",
                            "    <tr>\n",
                            "      <th>1665003</th>\n",
                            "      <td>1.182394184</td>\n",
                            "      <td>39243409</td>\n",
                            "      <td>Randwick</td>\n",
                            "      <td>2021-04-25 05:05:00</td>\n",
                            "      <td>4. Rubamos</td>\n",
                            "      <td>0</td>\n",
                            "      <td>2.79</td>\n",
                            "      <td>2021-04-25 05:05:30.927</td>\n",
                            "      <td>54459</td>\n",
                            "      <td>2.98</td>\n",
                            "      <td>2.81</td>\n",
                            "      <td>3441</td>\n",
                            "      <td>4141</td>\n",
                            "      <td>{'p': [2.84, 2.82, 2.8, 2.78, 2.76], 'v': [143...</td>\n",
                            "      <td>{'p': [2.86, 2.88, 2.92, 2.94, 2.96], 'v': [22...</td>\n",
                            "      <td>-30.0</td>\n",
                            "      <td>2.84</td>\n",
                            "      <td>2.86</td>\n",
                            "      <td>2.850</td>\n",
                            "      <td>2.84</td>\n",
                            "    </tr>\n",
                            "    <tr>\n",
                            "      <th>1665004</th>\n",
                            "      <td>1.182394184</td>\n",
                            "      <td>39243409</td>\n",
                            "      <td>Randwick</td>\n",
                            "      <td>2021-04-25 05:05:00</td>\n",
                            "      <td>4. Rubamos</td>\n",
                            "      <td>0</td>\n",
                            "      <td>2.79</td>\n",
                            "      <td>2021-04-25 05:05:40.954</td>\n",
                            "      <td>58244</td>\n",
                            "      <td>2.80</td>\n",
                            "      <td>2.30</td>\n",
                            "      <td>3458</td>\n",
                            "      <td>4638</td>\n",
                            "      <td>{'p': [2.88, 2.86, 2.84, 2.82, 2.8], 'v': [34....</td>\n",
                            "      <td>{'p': [2.9, 2.92, 2.94, 2.96, 2.98], 'v': [157...</td>\n",
                            "      <td>-40.0</td>\n",
                            "      <td>2.88</td>\n",
                            "      <td>2.90</td>\n",
                            "      <td>2.890</td>\n",
                            "      <td>2.88</td>\n",
                            "    </tr>\n",
                            "    <tr>\n",
                            "      <th>1665005</th>\n",
                            "      <td>1.182394184</td>\n",
                            "      <td>39243409</td>\n",
                            "      <td>Randwick</td>\n",
                            "      <td>2021-04-25 05:05:00</td>\n",
                            "      <td>4. Rubamos</td>\n",
                            "      <td>0</td>\n",
                            "      <td>2.79</td>\n",
                            "      <td>2021-04-25 05:05:51.052</td>\n",
                            "      <td>60368</td>\n",
                            "      <td>2.80</td>\n",
                            "      <td>2.30</td>\n",
                            "      <td>3722</td>\n",
                            "      <td>6243</td>\n",
                            "      <td>{'p': [2.84, 2.82, 2.8, 2.78, 2.76], 'v': [52....</td>\n",
                            "      <td>{'p': [2.86, 2.9, 2.92, 2.94, 2.96], 'v': [101...</td>\n",
                            "      <td>-50.0</td>\n",
                            "      <td>2.84</td>\n",
                            "      <td>2.86</td>\n",
                            "      <td>2.850</td>\n",
                            "      <td>2.84</td>\n",
                            "    </tr>\n",
                            "    <tr>\n",
                            "      <th>1665006</th>\n",
                            "      <td>1.182394184</td>\n",
                            "      <td>39243409</td>\n",
                            "      <td>Randwick</td>\n",
                            "      <td>2021-04-25 05:05:00</td>\n",
                            "      <td>4. Rubamos</td>\n",
                            "      <td>0</td>\n",
                            "      <td>2.79</td>\n",
                            "      <td>2021-04-25 05:05:53.273</td>\n",
                            "      <td>61337</td>\n",
                            "      <td>2.80</td>\n",
                            "      <td>2.30</td>\n",
                            "      <td>3311</td>\n",
                            "      <td>5218</td>\n",
                            "      <td>{'p': [2.78, 2.76, 2.74, 2.72, 2.7], 'v': [376...</td>\n",
                            "      <td>{'p': [2.86, 2.9, 2.92, 2.94, 2.96], 'v': [993...</td>\n",
                            "      <td>-50.0</td>\n",
                            "      <td>2.78</td>\n",
                            "      <td>2.86</td>\n",
                            "      <td>2.820</td>\n",
                            "      <td>2.82</td>\n",
                            "    </tr>\n",
                            "  </tbody>\n",
                            "</table>\n",
                            "</div>"
                        ]
                    },
                    "metadata": {},
                    "execution_count": 67
                }
            ],
            "metadata": {}
        },
        {
            "cell_type": "code",
            "execution_count": 68,
            "source": [
                "def chartClosingPrices(d):\n",
                "\n",
                "    fig = px.line(\n",
                "        pd.melt(d[:-1][['sbsj', 'back_best', 'near_price']], id_vars = 'sbsj', var_name = 'price'), \n",
                "            x='sbsj', y='value',\n",
                "            color = 'price',\n",
                "            template='plotly_white',\n",
                "            title=\"Selection\",\n",
                "            labels = {\n",
                "                'sbsj': \"Seconds Before Scheduled Jump\"\n",
                "            }\n",
                "    )\n",
                "    fig.update_layout(font_family=\"Roboto\")\n",
                "    fig.add_trace(\n",
                "        go.Line(x = dSlice.sbsj, y = dSlice.bsp, name = 'BSP', line_color = 'rgba(8,61,119, 0.3)', mode = \"lines\")\n",
                "    )\n",
                "    fig['layout']['xaxis']['autorange'] = \"reversed\"\n",
                "    fig.show()\n",
                "\n",
                "chartClosingPrices(dSlice)\n"
            ],
            "outputs": [
                {
                    "output_type": "stream",
                    "name": "stderr",
                    "text": [
                        "/home/tmbish/.local/lib/python3.9/site-packages/plotly/graph_objs/_deprecations.py:378: DeprecationWarning:\n",
                        "\n",
                        "plotly.graph_objs.Line is deprecated.\n",
                        "Please replace it with one of the following more specific types\n",
                        "  - plotly.graph_objs.scatter.Line\n",
                        "  - plotly.graph_objs.layout.shape.Line\n",
                        "  - etc.\n",
                        "\n",
                        "\n"
                    ]
                },
                {
                    "output_type": "display_data",
                    "data": {
                        "application/vnd.plotly.v1+json": {
                            "config": {
                                "plotlyServerURL": "https://plot.ly"
                            },
                            "data": [
                                {
                                    "hovertemplate": "price=back_best<br>Seconds Before Scheduled Jump=%{x}<br>value=%{y}<extra></extra>",
                                    "legendgroup": "back_best",
                                    "line": {
                                        "color": "#636efa",
                                        "dash": "solid"
                                    },
                                    "mode": "lines",
                                    "name": "back_best",
                                    "orientation": "v",
                                    "showlegend": true,
                                    "type": "scatter",
                                    "x": [
                                        120,
                                        110,
                                        100,
                                        90,
                                        80,
                                        70,
                                        60,
                                        50,
                                        40,
                                        30,
                                        20,
                                        10,
                                        0,
                                        -10,
                                        -20,
                                        -30,
                                        -40,
                                        -50
                                    ],
                                    "xaxis": "x",
                                    "y": [
                                        2.96,
                                        2.96,
                                        2.96,
                                        2.98,
                                        3,
                                        3,
                                        2.98,
                                        3.1,
                                        3.05,
                                        3,
                                        2.96,
                                        2.9,
                                        2.9,
                                        2.92,
                                        2.92,
                                        2.84,
                                        2.88,
                                        2.84
                                    ],
                                    "yaxis": "y"
                                },
                                {
                                    "hovertemplate": "price=near_price<br>Seconds Before Scheduled Jump=%{x}<br>value=%{y}<extra></extra>",
                                    "legendgroup": "near_price",
                                    "line": {
                                        "color": "#EF553B",
                                        "dash": "solid"
                                    },
                                    "mode": "lines",
                                    "name": "near_price",
                                    "orientation": "v",
                                    "showlegend": true,
                                    "type": "scatter",
                                    "x": [
                                        120,
                                        110,
                                        100,
                                        90,
                                        80,
                                        70,
                                        60,
                                        50,
                                        40,
                                        30,
                                        20,
                                        10,
                                        0,
                                        -10,
                                        -20,
                                        -30,
                                        -40,
                                        -50
                                    ],
                                    "xaxis": "x",
                                    "y": [
                                        2.97,
                                        2.97,
                                        2.97,
                                        2.97,
                                        3,
                                        3,
                                        3,
                                        3,
                                        3,
                                        3,
                                        2.98,
                                        2.98,
                                        2.98,
                                        2.98,
                                        2.98,
                                        2.98,
                                        2.8,
                                        2.8
                                    ],
                                    "yaxis": "y"
                                },
                                {
                                    "line": {
                                        "color": "rgba(8,61,119, 0.3)"
                                    },
                                    "mode": "lines",
                                    "name": "BSP",
                                    "type": "scatter",
                                    "x": [
                                        120,
                                        110,
                                        100,
                                        90,
                                        80,
                                        70,
                                        60,
                                        50,
                                        40,
                                        30,
                                        20,
                                        10,
                                        0,
                                        -10,
                                        -20,
                                        -30,
                                        -40,
                                        -50,
                                        -50
                                    ],
                                    "y": [
                                        2.79,
                                        2.79,
                                        2.79,
                                        2.79,
                                        2.79,
                                        2.79,
                                        2.79,
                                        2.79,
                                        2.79,
                                        2.79,
                                        2.79,
                                        2.79,
                                        2.79,
                                        2.79,
                                        2.79,
                                        2.79,
                                        2.79,
                                        2.79,
                                        2.79
                                    ]
                                }
                            ],
                            "layout": {
                                "font": {
                                    "family": "Roboto"
                                },
                                "legend": {
                                    "title": {
                                        "text": "price"
                                    },
                                    "tracegroupgap": 0
                                },
                                "template": {
                                    "data": {
                                        "bar": [
                                            {
                                                "error_x": {
                                                    "color": "#2a3f5f"
                                                },
                                                "error_y": {
                                                    "color": "#2a3f5f"
                                                },
                                                "marker": {
                                                    "line": {
                                                        "color": "white",
                                                        "width": 0.5
                                                    },
                                                    "pattern": {
                                                        "fillmode": "overlay",
                                                        "size": 10,
                                                        "solidity": 0.2
                                                    }
                                                },
                                                "type": "bar"
                                            }
                                        ],
                                        "barpolar": [
                                            {
                                                "marker": {
                                                    "line": {
                                                        "color": "white",
                                                        "width": 0.5
                                                    },
                                                    "pattern": {
                                                        "fillmode": "overlay",
                                                        "size": 10,
                                                        "solidity": 0.2
                                                    }
                                                },
                                                "type": "barpolar"
                                            }
                                        ],
                                        "carpet": [
                                            {
                                                "aaxis": {
                                                    "endlinecolor": "#2a3f5f",
                                                    "gridcolor": "#C8D4E3",
                                                    "linecolor": "#C8D4E3",
                                                    "minorgridcolor": "#C8D4E3",
                                                    "startlinecolor": "#2a3f5f"
                                                },
                                                "baxis": {
                                                    "endlinecolor": "#2a3f5f",
                                                    "gridcolor": "#C8D4E3",
                                                    "linecolor": "#C8D4E3",
                                                    "minorgridcolor": "#C8D4E3",
                                                    "startlinecolor": "#2a3f5f"
                                                },
                                                "type": "carpet"
                                            }
                                        ],
                                        "choropleth": [
                                            {
                                                "colorbar": {
                                                    "outlinewidth": 0,
                                                    "ticks": ""
                                                },
                                                "type": "choropleth"
                                            }
                                        ],
                                        "contour": [
                                            {
                                                "colorbar": {
                                                    "outlinewidth": 0,
                                                    "ticks": ""
                                                },
                                                "colorscale": [
                                                    [
                                                        0,
                                                        "#0d0887"
                                                    ],
                                                    [
                                                        0.1111111111111111,
                                                        "#46039f"
                                                    ],
                                                    [
                                                        0.2222222222222222,
                                                        "#7201a8"
                                                    ],
                                                    [
                                                        0.3333333333333333,
                                                        "#9c179e"
                                                    ],
                                                    [
                                                        0.4444444444444444,
                                                        "#bd3786"
                                                    ],
                                                    [
                                                        0.5555555555555556,
                                                        "#d8576b"
                                                    ],
                                                    [
                                                        0.6666666666666666,
                                                        "#ed7953"
                                                    ],
                                                    [
                                                        0.7777777777777778,
                                                        "#fb9f3a"
                                                    ],
                                                    [
                                                        0.8888888888888888,
                                                        "#fdca26"
                                                    ],
                                                    [
                                                        1,
                                                        "#f0f921"
                                                    ]
                                                ],
                                                "type": "contour"
                                            }
                                        ],
                                        "contourcarpet": [
                                            {
                                                "colorbar": {
                                                    "outlinewidth": 0,
                                                    "ticks": ""
                                                },
                                                "type": "contourcarpet"
                                            }
                                        ],
                                        "heatmap": [
                                            {
                                                "colorbar": {
                                                    "outlinewidth": 0,
                                                    "ticks": ""
                                                },
                                                "colorscale": [
                                                    [
                                                        0,
                                                        "#0d0887"
                                                    ],
                                                    [
                                                        0.1111111111111111,
                                                        "#46039f"
                                                    ],
                                                    [
                                                        0.2222222222222222,
                                                        "#7201a8"
                                                    ],
                                                    [
                                                        0.3333333333333333,
                                                        "#9c179e"
                                                    ],
                                                    [
                                                        0.4444444444444444,
                                                        "#bd3786"
                                                    ],
                                                    [
                                                        0.5555555555555556,
                                                        "#d8576b"
                                                    ],
                                                    [
                                                        0.6666666666666666,
                                                        "#ed7953"
                                                    ],
                                                    [
                                                        0.7777777777777778,
                                                        "#fb9f3a"
                                                    ],
                                                    [
                                                        0.8888888888888888,
                                                        "#fdca26"
                                                    ],
                                                    [
                                                        1,
                                                        "#f0f921"
                                                    ]
                                                ],
                                                "type": "heatmap"
                                            }
                                        ],
                                        "heatmapgl": [
                                            {
                                                "colorbar": {
                                                    "outlinewidth": 0,
                                                    "ticks": ""
                                                },
                                                "colorscale": [
                                                    [
                                                        0,
                                                        "#0d0887"
                                                    ],
                                                    [
                                                        0.1111111111111111,
                                                        "#46039f"
                                                    ],
                                                    [
                                                        0.2222222222222222,
                                                        "#7201a8"
                                                    ],
                                                    [
                                                        0.3333333333333333,
                                                        "#9c179e"
                                                    ],
                                                    [
                                                        0.4444444444444444,
                                                        "#bd3786"
                                                    ],
                                                    [
                                                        0.5555555555555556,
                                                        "#d8576b"
                                                    ],
                                                    [
                                                        0.6666666666666666,
                                                        "#ed7953"
                                                    ],
                                                    [
                                                        0.7777777777777778,
                                                        "#fb9f3a"
                                                    ],
                                                    [
                                                        0.8888888888888888,
                                                        "#fdca26"
                                                    ],
                                                    [
                                                        1,
                                                        "#f0f921"
                                                    ]
                                                ],
                                                "type": "heatmapgl"
                                            }
                                        ],
                                        "histogram": [
                                            {
                                                "marker": {
                                                    "pattern": {
                                                        "fillmode": "overlay",
                                                        "size": 10,
                                                        "solidity": 0.2
                                                    }
                                                },
                                                "type": "histogram"
                                            }
                                        ],
                                        "histogram2d": [
                                            {
                                                "colorbar": {
                                                    "outlinewidth": 0,
                                                    "ticks": ""
                                                },
                                                "colorscale": [
                                                    [
                                                        0,
                                                        "#0d0887"
                                                    ],
                                                    [
                                                        0.1111111111111111,
                                                        "#46039f"
                                                    ],
                                                    [
                                                        0.2222222222222222,
                                                        "#7201a8"
                                                    ],
                                                    [
                                                        0.3333333333333333,
                                                        "#9c179e"
                                                    ],
                                                    [
                                                        0.4444444444444444,
                                                        "#bd3786"
                                                    ],
                                                    [
                                                        0.5555555555555556,
                                                        "#d8576b"
                                                    ],
                                                    [
                                                        0.6666666666666666,
                                                        "#ed7953"
                                                    ],
                                                    [
                                                        0.7777777777777778,
                                                        "#fb9f3a"
                                                    ],
                                                    [
                                                        0.8888888888888888,
                                                        "#fdca26"
                                                    ],
                                                    [
                                                        1,
                                                        "#f0f921"
                                                    ]
                                                ],
                                                "type": "histogram2d"
                                            }
                                        ],
                                        "histogram2dcontour": [
                                            {
                                                "colorbar": {
                                                    "outlinewidth": 0,
                                                    "ticks": ""
                                                },
                                                "colorscale": [
                                                    [
                                                        0,
                                                        "#0d0887"
                                                    ],
                                                    [
                                                        0.1111111111111111,
                                                        "#46039f"
                                                    ],
                                                    [
                                                        0.2222222222222222,
                                                        "#7201a8"
                                                    ],
                                                    [
                                                        0.3333333333333333,
                                                        "#9c179e"
                                                    ],
                                                    [
                                                        0.4444444444444444,
                                                        "#bd3786"
                                                    ],
                                                    [
                                                        0.5555555555555556,
                                                        "#d8576b"
                                                    ],
                                                    [
                                                        0.6666666666666666,
                                                        "#ed7953"
                                                    ],
                                                    [
                                                        0.7777777777777778,
                                                        "#fb9f3a"
                                                    ],
                                                    [
                                                        0.8888888888888888,
                                                        "#fdca26"
                                                    ],
                                                    [
                                                        1,
                                                        "#f0f921"
                                                    ]
                                                ],
                                                "type": "histogram2dcontour"
                                            }
                                        ],
                                        "mesh3d": [
                                            {
                                                "colorbar": {
                                                    "outlinewidth": 0,
                                                    "ticks": ""
                                                },
                                                "type": "mesh3d"
                                            }
                                        ],
                                        "parcoords": [
                                            {
                                                "line": {
                                                    "colorbar": {
                                                        "outlinewidth": 0,
                                                        "ticks": ""
                                                    }
                                                },
                                                "type": "parcoords"
                                            }
                                        ],
                                        "pie": [
                                            {
                                                "automargin": true,
                                                "type": "pie"
                                            }
                                        ],
                                        "scatter": [
                                            {
                                                "marker": {
                                                    "colorbar": {
                                                        "outlinewidth": 0,
                                                        "ticks": ""
                                                    }
                                                },
                                                "type": "scatter"
                                            }
                                        ],
                                        "scatter3d": [
                                            {
                                                "line": {
                                                    "colorbar": {
                                                        "outlinewidth": 0,
                                                        "ticks": ""
                                                    }
                                                },
                                                "marker": {
                                                    "colorbar": {
                                                        "outlinewidth": 0,
                                                        "ticks": ""
                                                    }
                                                },
                                                "type": "scatter3d"
                                            }
                                        ],
                                        "scattercarpet": [
                                            {
                                                "marker": {
                                                    "colorbar": {
                                                        "outlinewidth": 0,
                                                        "ticks": ""
                                                    }
                                                },
                                                "type": "scattercarpet"
                                            }
                                        ],
                                        "scattergeo": [
                                            {
                                                "marker": {
                                                    "colorbar": {
                                                        "outlinewidth": 0,
                                                        "ticks": ""
                                                    }
                                                },
                                                "type": "scattergeo"
                                            }
                                        ],
                                        "scattergl": [
                                            {
                                                "marker": {
                                                    "colorbar": {
                                                        "outlinewidth": 0,
                                                        "ticks": ""
                                                    }
                                                },
                                                "type": "scattergl"
                                            }
                                        ],
                                        "scattermapbox": [
                                            {
                                                "marker": {
                                                    "colorbar": {
                                                        "outlinewidth": 0,
                                                        "ticks": ""
                                                    }
                                                },
                                                "type": "scattermapbox"
                                            }
                                        ],
                                        "scatterpolar": [
                                            {
                                                "marker": {
                                                    "colorbar": {
                                                        "outlinewidth": 0,
                                                        "ticks": ""
                                                    }
                                                },
                                                "type": "scatterpolar"
                                            }
                                        ],
                                        "scatterpolargl": [
                                            {
                                                "marker": {
                                                    "colorbar": {
                                                        "outlinewidth": 0,
                                                        "ticks": ""
                                                    }
                                                },
                                                "type": "scatterpolargl"
                                            }
                                        ],
                                        "scatterternary": [
                                            {
                                                "marker": {
                                                    "colorbar": {
                                                        "outlinewidth": 0,
                                                        "ticks": ""
                                                    }
                                                },
                                                "type": "scatterternary"
                                            }
                                        ],
                                        "surface": [
                                            {
                                                "colorbar": {
                                                    "outlinewidth": 0,
                                                    "ticks": ""
                                                },
                                                "colorscale": [
                                                    [
                                                        0,
                                                        "#0d0887"
                                                    ],
                                                    [
                                                        0.1111111111111111,
                                                        "#46039f"
                                                    ],
                                                    [
                                                        0.2222222222222222,
                                                        "#7201a8"
                                                    ],
                                                    [
                                                        0.3333333333333333,
                                                        "#9c179e"
                                                    ],
                                                    [
                                                        0.4444444444444444,
                                                        "#bd3786"
                                                    ],
                                                    [
                                                        0.5555555555555556,
                                                        "#d8576b"
                                                    ],
                                                    [
                                                        0.6666666666666666,
                                                        "#ed7953"
                                                    ],
                                                    [
                                                        0.7777777777777778,
                                                        "#fb9f3a"
                                                    ],
                                                    [
                                                        0.8888888888888888,
                                                        "#fdca26"
                                                    ],
                                                    [
                                                        1,
                                                        "#f0f921"
                                                    ]
                                                ],
                                                "type": "surface"
                                            }
                                        ],
                                        "table": [
                                            {
                                                "cells": {
                                                    "fill": {
                                                        "color": "#EBF0F8"
                                                    },
                                                    "line": {
                                                        "color": "white"
                                                    }
                                                },
                                                "header": {
                                                    "fill": {
                                                        "color": "#C8D4E3"
                                                    },
                                                    "line": {
                                                        "color": "white"
                                                    }
                                                },
                                                "type": "table"
                                            }
                                        ]
                                    },
                                    "layout": {
                                        "annotationdefaults": {
                                            "arrowcolor": "#2a3f5f",
                                            "arrowhead": 0,
                                            "arrowwidth": 1
                                        },
                                        "autotypenumbers": "strict",
                                        "coloraxis": {
                                            "colorbar": {
                                                "outlinewidth": 0,
                                                "ticks": ""
                                            }
                                        },
                                        "colorscale": {
                                            "diverging": [
                                                [
                                                    0,
                                                    "#8e0152"
                                                ],
                                                [
                                                    0.1,
                                                    "#c51b7d"
                                                ],
                                                [
                                                    0.2,
                                                    "#de77ae"
                                                ],
                                                [
                                                    0.3,
                                                    "#f1b6da"
                                                ],
                                                [
                                                    0.4,
                                                    "#fde0ef"
                                                ],
                                                [
                                                    0.5,
                                                    "#f7f7f7"
                                                ],
                                                [
                                                    0.6,
                                                    "#e6f5d0"
                                                ],
                                                [
                                                    0.7,
                                                    "#b8e186"
                                                ],
                                                [
                                                    0.8,
                                                    "#7fbc41"
                                                ],
                                                [
                                                    0.9,
                                                    "#4d9221"
                                                ],
                                                [
                                                    1,
                                                    "#276419"
                                                ]
                                            ],
                                            "sequential": [
                                                [
                                                    0,
                                                    "#0d0887"
                                                ],
                                                [
                                                    0.1111111111111111,
                                                    "#46039f"
                                                ],
                                                [
                                                    0.2222222222222222,
                                                    "#7201a8"
                                                ],
                                                [
                                                    0.3333333333333333,
                                                    "#9c179e"
                                                ],
                                                [
                                                    0.4444444444444444,
                                                    "#bd3786"
                                                ],
                                                [
                                                    0.5555555555555556,
                                                    "#d8576b"
                                                ],
                                                [
                                                    0.6666666666666666,
                                                    "#ed7953"
                                                ],
                                                [
                                                    0.7777777777777778,
                                                    "#fb9f3a"
                                                ],
                                                [
                                                    0.8888888888888888,
                                                    "#fdca26"
                                                ],
                                                [
                                                    1,
                                                    "#f0f921"
                                                ]
                                            ],
                                            "sequentialminus": [
                                                [
                                                    0,
                                                    "#0d0887"
                                                ],
                                                [
                                                    0.1111111111111111,
                                                    "#46039f"
                                                ],
                                                [
                                                    0.2222222222222222,
                                                    "#7201a8"
                                                ],
                                                [
                                                    0.3333333333333333,
                                                    "#9c179e"
                                                ],
                                                [
                                                    0.4444444444444444,
                                                    "#bd3786"
                                                ],
                                                [
                                                    0.5555555555555556,
                                                    "#d8576b"
                                                ],
                                                [
                                                    0.6666666666666666,
                                                    "#ed7953"
                                                ],
                                                [
                                                    0.7777777777777778,
                                                    "#fb9f3a"
                                                ],
                                                [
                                                    0.8888888888888888,
                                                    "#fdca26"
                                                ],
                                                [
                                                    1,
                                                    "#f0f921"
                                                ]
                                            ]
                                        },
                                        "colorway": [
                                            "#636efa",
                                            "#EF553B",
                                            "#00cc96",
                                            "#ab63fa",
                                            "#FFA15A",
                                            "#19d3f3",
                                            "#FF6692",
                                            "#B6E880",
                                            "#FF97FF",
                                            "#FECB52"
                                        ],
                                        "font": {
                                            "color": "#2a3f5f"
                                        },
                                        "geo": {
                                            "bgcolor": "white",
                                            "lakecolor": "white",
                                            "landcolor": "white",
                                            "showlakes": true,
                                            "showland": true,
                                            "subunitcolor": "#C8D4E3"
                                        },
                                        "hoverlabel": {
                                            "align": "left"
                                        },
                                        "hovermode": "closest",
                                        "mapbox": {
                                            "style": "light"
                                        },
                                        "paper_bgcolor": "white",
                                        "plot_bgcolor": "white",
                                        "polar": {
                                            "angularaxis": {
                                                "gridcolor": "#EBF0F8",
                                                "linecolor": "#EBF0F8",
                                                "ticks": ""
                                            },
                                            "bgcolor": "white",
                                            "radialaxis": {
                                                "gridcolor": "#EBF0F8",
                                                "linecolor": "#EBF0F8",
                                                "ticks": ""
                                            }
                                        },
                                        "scene": {
                                            "xaxis": {
                                                "backgroundcolor": "white",
                                                "gridcolor": "#DFE8F3",
                                                "gridwidth": 2,
                                                "linecolor": "#EBF0F8",
                                                "showbackground": true,
                                                "ticks": "",
                                                "zerolinecolor": "#EBF0F8"
                                            },
                                            "yaxis": {
                                                "backgroundcolor": "white",
                                                "gridcolor": "#DFE8F3",
                                                "gridwidth": 2,
                                                "linecolor": "#EBF0F8",
                                                "showbackground": true,
                                                "ticks": "",
                                                "zerolinecolor": "#EBF0F8"
                                            },
                                            "zaxis": {
                                                "backgroundcolor": "white",
                                                "gridcolor": "#DFE8F3",
                                                "gridwidth": 2,
                                                "linecolor": "#EBF0F8",
                                                "showbackground": true,
                                                "ticks": "",
                                                "zerolinecolor": "#EBF0F8"
                                            }
                                        },
                                        "shapedefaults": {
                                            "line": {
                                                "color": "#2a3f5f"
                                            }
                                        },
                                        "ternary": {
                                            "aaxis": {
                                                "gridcolor": "#DFE8F3",
                                                "linecolor": "#A2B1C6",
                                                "ticks": ""
                                            },
                                            "baxis": {
                                                "gridcolor": "#DFE8F3",
                                                "linecolor": "#A2B1C6",
                                                "ticks": ""
                                            },
                                            "bgcolor": "white",
                                            "caxis": {
                                                "gridcolor": "#DFE8F3",
                                                "linecolor": "#A2B1C6",
                                                "ticks": ""
                                            }
                                        },
                                        "title": {
                                            "x": 0.05
                                        },
                                        "xaxis": {
                                            "automargin": true,
                                            "gridcolor": "#EBF0F8",
                                            "linecolor": "#EBF0F8",
                                            "ticks": "",
                                            "title": {
                                                "standoff": 15
                                            },
                                            "zerolinecolor": "#EBF0F8",
                                            "zerolinewidth": 2
                                        },
                                        "yaxis": {
                                            "automargin": true,
                                            "gridcolor": "#EBF0F8",
                                            "linecolor": "#EBF0F8",
                                            "ticks": "",
                                            "title": {
                                                "standoff": 15
                                            },
                                            "zerolinecolor": "#EBF0F8",
                                            "zerolinewidth": 2
                                        }
                                    }
                                },
                                "title": {
                                    "text": "Selection"
                                },
                                "xaxis": {
                                    "anchor": "y",
                                    "autorange": "reversed",
                                    "domain": [
                                        0,
                                        1
                                    ],
                                    "title": {
                                        "text": "Seconds Before Scheduled Jump"
                                    }
                                },
                                "yaxis": {
                                    "anchor": "x",
                                    "domain": [
                                        0,
                                        1
                                    ],
                                    "title": {
                                        "text": "value"
                                    }
                                }
                            }
                        }
                    },
                    "metadata": {}
                }
            ],
            "metadata": {}
        },
        {
            "cell_type": "code",
            "execution_count": 115,
            "source": [
                "# Measurement\n",
                "# ________________________\n",
                "\n",
                "# Comparing the accuracy of several methods - at the scheduled off\n",
                "\n",
                "estimatesDf = df[df.sbsj == 0][['bsp', 'near_price', 'far_price', 'back_best', 'lay_best', 'geometric_mid_point', 'ladder_mid_point']]"
            ],
            "outputs": [],
            "metadata": {}
        },
        {
            "cell_type": "code",
            "execution_count": 116,
            "source": [
                "\n",
                "(\n",
                "    pd.melt(estimatesDf, id_vars = 'bsp', var_name = 'estimate')\n",
                "    .assign(error = lambda x: abs(x['value'] - x['bsp']) / x['bsp'])\n",
                "    .groupby('estimate', as_index=False)\n",
                "    .agg({'error': 'mean'})\n",
                "    .sort_values('error')\n",
                ")"
            ],
            "outputs": [
                {
                    "output_type": "execute_result",
                    "data": {
                        "text/plain": [
                            "              estimate     error\n",
                            "0            back_best  0.091702\n",
                            "3     ladder_mid_point  0.093181\n",
                            "2  geometric_mid_point  0.094405\n",
                            "4             lay_best  0.103142\n",
                            "5           near_price  0.121266\n",
                            "1            far_price  0.578425"
                        ],
                        "text/html": [
                            "<div>\n",
                            "<style scoped>\n",
                            "    .dataframe tbody tr th:only-of-type {\n",
                            "        vertical-align: middle;\n",
                            "    }\n",
                            "\n",
                            "    .dataframe tbody tr th {\n",
                            "        vertical-align: top;\n",
                            "    }\n",
                            "\n",
                            "    .dataframe thead th {\n",
                            "        text-align: right;\n",
                            "    }\n",
                            "</style>\n",
                            "<table border=\"1\" class=\"dataframe\">\n",
                            "  <thead>\n",
                            "    <tr style=\"text-align: right;\">\n",
                            "      <th></th>\n",
                            "      <th>estimate</th>\n",
                            "      <th>error</th>\n",
                            "    </tr>\n",
                            "  </thead>\n",
                            "  <tbody>\n",
                            "    <tr>\n",
                            "      <th>0</th>\n",
                            "      <td>back_best</td>\n",
                            "      <td>0.091702</td>\n",
                            "    </tr>\n",
                            "    <tr>\n",
                            "      <th>3</th>\n",
                            "      <td>ladder_mid_point</td>\n",
                            "      <td>0.093181</td>\n",
                            "    </tr>\n",
                            "    <tr>\n",
                            "      <th>2</th>\n",
                            "      <td>geometric_mid_point</td>\n",
                            "      <td>0.094405</td>\n",
                            "    </tr>\n",
                            "    <tr>\n",
                            "      <th>4</th>\n",
                            "      <td>lay_best</td>\n",
                            "      <td>0.103142</td>\n",
                            "    </tr>\n",
                            "    <tr>\n",
                            "      <th>5</th>\n",
                            "      <td>near_price</td>\n",
                            "      <td>0.121266</td>\n",
                            "    </tr>\n",
                            "    <tr>\n",
                            "      <th>1</th>\n",
                            "      <td>far_price</td>\n",
                            "      <td>0.578425</td>\n",
                            "    </tr>\n",
                            "  </tbody>\n",
                            "</table>\n",
                            "</div>"
                        ]
                    },
                    "metadata": {},
                    "execution_count": 116
                }
            ],
            "metadata": {}
        },
        {
            "cell_type": "code",
            "execution_count": 126,
            "source": [
                "# We can see that although the near price is a perfect run of the BSP execution algorithm it's not nearly the most accurate estimator cause of the lag\n",
                "\n",
                "\n",
                "# Let's isolate the last second which is the last second before the market goes inplay to show that it is indeed the best if not for the lag\n",
                "\n",
                "lastEstimatesDf = df.groupby(['market_id', 'selection_id'],as_index=False).nth(-1)[['bsp', 'near_price', 'far_price', 'back_best', 'lay_best', 'geometric_mid_point', 'ladder_mid_point']]\n",
                "\n",
                "(\n",
                "    pd.melt(lastEstimatesDf, id_vars = 'bsp', var_name = 'estimate')\n",
                "    .assign(error = lambda x: abs(x['value'] - x['bsp']) / x['bsp'])\n",
                "    .groupby('estimate', as_index=False)\n",
                "    .agg({'error': 'mean'})\n",
                "    .sort_values('error')\n",
                ")\n",
                "\n",
                "# Ok not event he best estimate just before the off"
            ],
            "outputs": [
                {
                    "output_type": "execute_result",
                    "data": {
                        "text/plain": [
                            "              estimate     error\n",
                            "2  geometric_mid_point  0.039627\n",
                            "3     ladder_mid_point  0.042526\n",
                            "0            back_best  0.063622\n",
                            "5           near_price  0.077108\n",
                            "4             lay_best  0.098198\n",
                            "1            far_price  0.290777"
                        ],
                        "text/html": [
                            "<div>\n",
                            "<style scoped>\n",
                            "    .dataframe tbody tr th:only-of-type {\n",
                            "        vertical-align: middle;\n",
                            "    }\n",
                            "\n",
                            "    .dataframe tbody tr th {\n",
                            "        vertical-align: top;\n",
                            "    }\n",
                            "\n",
                            "    .dataframe thead th {\n",
                            "        text-align: right;\n",
                            "    }\n",
                            "</style>\n",
                            "<table border=\"1\" class=\"dataframe\">\n",
                            "  <thead>\n",
                            "    <tr style=\"text-align: right;\">\n",
                            "      <th></th>\n",
                            "      <th>estimate</th>\n",
                            "      <th>error</th>\n",
                            "    </tr>\n",
                            "  </thead>\n",
                            "  <tbody>\n",
                            "    <tr>\n",
                            "      <th>2</th>\n",
                            "      <td>geometric_mid_point</td>\n",
                            "      <td>0.039627</td>\n",
                            "    </tr>\n",
                            "    <tr>\n",
                            "      <th>3</th>\n",
                            "      <td>ladder_mid_point</td>\n",
                            "      <td>0.042526</td>\n",
                            "    </tr>\n",
                            "    <tr>\n",
                            "      <th>0</th>\n",
                            "      <td>back_best</td>\n",
                            "      <td>0.063622</td>\n",
                            "    </tr>\n",
                            "    <tr>\n",
                            "      <th>5</th>\n",
                            "      <td>near_price</td>\n",
                            "      <td>0.077108</td>\n",
                            "    </tr>\n",
                            "    <tr>\n",
                            "      <th>4</th>\n",
                            "      <td>lay_best</td>\n",
                            "      <td>0.098198</td>\n",
                            "    </tr>\n",
                            "    <tr>\n",
                            "      <th>1</th>\n",
                            "      <td>far_price</td>\n",
                            "      <td>0.290777</td>\n",
                            "    </tr>\n",
                            "  </tbody>\n",
                            "</table>\n",
                            "</div>"
                        ]
                    },
                    "metadata": {},
                    "execution_count": 126
                }
            ],
            "metadata": {}
        },
        {
            "cell_type": "markdown",
            "source": [
                "# ML Attempt\n",
                "\n",
                "Let's see if we can build a better estimate of the BSP than any of our existing metrics"
            ],
            "metadata": {}
        },
        {
            "cell_type": "code",
            "execution_count": 219,
            "source": [
                "ladder = df.atb_ladder.iloc[0]\n",
                "print(ladder)\n",
                "# stake = 200\n",
                "# liability_pool = 200\n",
                "# price = ladder['p']\n",
                "# volume = ladder['v']\n",
                "# liability = [(a-1) * b for a, b in zip(price, volume)]\n",
                "# print(liability)\n",
                "# cLiability = np.cumsum(liability)\n",
                "# print(cLiability)\n",
                "\n",
                "# min([ i for (i,j) in enumerate(cLiability) if j > liability_pool ])\n",
                "# # indmax = min([ i for (i,j) in enumerate(cLiability) if j > liability ])+1\n",
                "# # return(round(sum([a * b for a, b in zip(price[:indmax], volume[:indmax])]) / sum(volume[:indmax]),4))\n",
                "\n",
                "\n",
                "\n",
                "def wapToGetBack(pool, ladder):\n",
                "    price = ladder['p']\n",
                "    volume = ladder['v']\n",
                "    try:\n",
                "        indmax = min([ i for (i,j) in enumerate(cVolume) if j > pool ])+1\n",
                "    except:\n",
                "        indmax = len(volume)\n",
                "    return(round(sum([a * b for a, b in zip(price[:indmax], volume[:indmax])]) / sum(volume[:indmax]),4))\n",
                "\n",
                "def wapToGetLay(liability_pool, ladder):\n",
                "    price = ladder['p']\n",
                "    volume = ladder['v']\n",
                "    liability = [(a-1) * b for a, b in zip(price, volume)]\n",
                "    cLiability = np.cumsum(liability)\n",
                "    try:\n",
                "        indmax = min([ i for (i,j) in enumerate(cLiability) if j > liability_pool ])+1\n",
                "    except:\n",
                "        indmax = len(volume)\n",
                "    return(round(sum([a * b for a, b in zip(price[:indmax], volume[:indmax])]) / sum(volume[:indmax]),4))\n",
                "\n",
                "wapToGetBack(2000000, ladder)\n",
                "\n",
                "wapToGetLay(2000000, ladder)"
            ],
            "outputs": [
                {
                    "output_type": "stream",
                    "name": "stdout",
                    "text": [
                        "{'p': [6.2, 6, 5.9, 5.8, 5.7], 'v': [14.63, 136.22, 29.28, 37.25, 42.16]}\n"
                    ]
                },
                {
                    "output_type": "execute_result",
                    "data": {
                        "text/plain": [
                            "5.9226"
                        ]
                    },
                    "metadata": {},
                    "execution_count": 219
                }
            ],
            "metadata": {}
        },
        {
            "cell_type": "code",
            "execution_count": 223,
            "source": [
                "model_matrix = df[['sbsj', 'atb_ladder', 'atl_ladder','bsp', 'traded_volume', 'near_price', 'far_price', 'bsp_back_pool_stake', 'bsp_lay_pool_liability', 'back_best', 'lay_best', 'geometric_mid_point', 'ladder_mid_point']]\n",
                "\n",
                "# Filter at scheduled jump\n",
                "model_matrix = model_matrix[model_matrix.sbsj == 0].dropna()\n",
                "\n",
                "# Some feature engineering\n",
                "# Will add the weighted average price required to back at the BSP back pool stake\n",
                "# And the weighted average price required to lay at the BSP lay pool stake\n",
                "\n",
                "def wapToGetBack(pool, ladder):\n",
                "    price = ladder['p']\n",
                "    volume = ladder['v']\n",
                "    try:\n",
                "        indmax = min([ i for (i,j) in enumerate(cVolume) if j > pool ])+1\n",
                "    except:\n",
                "        indmax = len(volume)\n",
                "    return(round(sum([a * b for a, b in zip(price[:indmax], volume[:indmax])]) / sum(volume[:indmax]),4))\n",
                "\n",
                "def wapToGetLay(liability_pool, ladder):\n",
                "    price = ladder['p']\n",
                "    volume = ladder['v']\n",
                "    liability = [(a-1) * b for a, b in zip(price, volume)]\n",
                "    cLiability = np.cumsum(liability)\n",
                "    try:\n",
                "        indmax = min([ i for (i,j) in enumerate(cLiability) if j > liability_pool ])+1\n",
                "    except:\n",
                "        indmax = len(volume)\n",
                "    return(round(sum([a * b for a, b in zip(price[:indmax], volume[:indmax])]) / sum(volume[:indmax]),4))\n",
                "\n",
                "model_matrix = (\n",
                "    model_matrix\n",
                "    .assign(wap_to_get_back_pool = lambda x: x.apply(lambda x: wapToGetBack(x.bsp_back_pool_stake, x.atb_ladder), axis=1))\n",
                "    .assign(wap_to_get_lay_pool = lambda x: x.apply(lambda x: wapToGetLay(x.bsp_lay_pool_liability, x.atl_ladder), axis=1))\n",
                ")\n",
                "\n",
                "# Convert to probabilities\n",
                "for col in ['bsp', 'near_price', 'far_price', 'back_best', 'lay_best', 'geometric_mid_point', 'ladder_mid_point', 'wap_to_get_back_pool', 'wap_to_get_lay_pool']:\n",
                "    model_matrix[col] = 1 / model_matrix[col]\n",
                "\n",
                "# Drop other columns\n",
                "model_matrix.drop(columns = ['sbsj', 'atb_ladder', 'atl_ladder'], inplace = True)\n",
                "\n",
                "model_matrix.head(3)"
            ],
            "outputs": [
                {
                    "output_type": "execute_result",
                    "data": {
                        "text/plain": [
                            "         bsp  traded_volume  near_price  far_price  bsp_back_pool_stake  \\\n",
                            "12  0.161290           6891    0.174216   0.236967                  518   \n",
                            "28  0.277778          13579    0.280112   0.578035                 1023   \n",
                            "44  0.151057           5911    0.172117   0.628931                  845   \n",
                            "\n",
                            "    bsp_lay_pool_liability  back_best  lay_best  geometric_mid_point  \\\n",
                            "12                    1580   0.166667  0.161290             0.163961   \n",
                            "28                    1771   0.289855  0.277778             0.283768   \n",
                            "44                    1378   0.161290  0.151515             0.156323   \n",
                            "\n",
                            "    ladder_mid_point  wap_to_get_back_pool  wap_to_get_lay_pool  \n",
                            "12          0.166667              0.173124             0.156910  \n",
                            "28          0.281690              0.302939             0.270219  \n",
                            "44          0.156250              0.169045             0.140515  "
                        ],
                        "text/html": [
                            "<div>\n",
                            "<style scoped>\n",
                            "    .dataframe tbody tr th:only-of-type {\n",
                            "        vertical-align: middle;\n",
                            "    }\n",
                            "\n",
                            "    .dataframe tbody tr th {\n",
                            "        vertical-align: top;\n",
                            "    }\n",
                            "\n",
                            "    .dataframe thead th {\n",
                            "        text-align: right;\n",
                            "    }\n",
                            "</style>\n",
                            "<table border=\"1\" class=\"dataframe\">\n",
                            "  <thead>\n",
                            "    <tr style=\"text-align: right;\">\n",
                            "      <th></th>\n",
                            "      <th>bsp</th>\n",
                            "      <th>traded_volume</th>\n",
                            "      <th>near_price</th>\n",
                            "      <th>far_price</th>\n",
                            "      <th>bsp_back_pool_stake</th>\n",
                            "      <th>bsp_lay_pool_liability</th>\n",
                            "      <th>back_best</th>\n",
                            "      <th>lay_best</th>\n",
                            "      <th>geometric_mid_point</th>\n",
                            "      <th>ladder_mid_point</th>\n",
                            "      <th>wap_to_get_back_pool</th>\n",
                            "      <th>wap_to_get_lay_pool</th>\n",
                            "    </tr>\n",
                            "  </thead>\n",
                            "  <tbody>\n",
                            "    <tr>\n",
                            "      <th>12</th>\n",
                            "      <td>0.161290</td>\n",
                            "      <td>6891</td>\n",
                            "      <td>0.174216</td>\n",
                            "      <td>0.236967</td>\n",
                            "      <td>518</td>\n",
                            "      <td>1580</td>\n",
                            "      <td>0.166667</td>\n",
                            "      <td>0.161290</td>\n",
                            "      <td>0.163961</td>\n",
                            "      <td>0.166667</td>\n",
                            "      <td>0.173124</td>\n",
                            "      <td>0.156910</td>\n",
                            "    </tr>\n",
                            "    <tr>\n",
                            "      <th>28</th>\n",
                            "      <td>0.277778</td>\n",
                            "      <td>13579</td>\n",
                            "      <td>0.280112</td>\n",
                            "      <td>0.578035</td>\n",
                            "      <td>1023</td>\n",
                            "      <td>1771</td>\n",
                            "      <td>0.289855</td>\n",
                            "      <td>0.277778</td>\n",
                            "      <td>0.283768</td>\n",
                            "      <td>0.281690</td>\n",
                            "      <td>0.302939</td>\n",
                            "      <td>0.270219</td>\n",
                            "    </tr>\n",
                            "    <tr>\n",
                            "      <th>44</th>\n",
                            "      <td>0.151057</td>\n",
                            "      <td>5911</td>\n",
                            "      <td>0.172117</td>\n",
                            "      <td>0.628931</td>\n",
                            "      <td>845</td>\n",
                            "      <td>1378</td>\n",
                            "      <td>0.161290</td>\n",
                            "      <td>0.151515</td>\n",
                            "      <td>0.156323</td>\n",
                            "      <td>0.156250</td>\n",
                            "      <td>0.169045</td>\n",
                            "      <td>0.140515</td>\n",
                            "    </tr>\n",
                            "  </tbody>\n",
                            "</table>\n",
                            "</div>"
                        ]
                    },
                    "metadata": {},
                    "execution_count": 223
                }
            ],
            "metadata": {}
        },
        {
            "cell_type": "code",
            "execution_count": 225,
            "source": [
                "from sklearn.ensemble import RandomForestRegressor\n",
                "from sklearn.model_selection import train_test_split\n",
                "\n",
                "# Setup Train / Test\n",
                "train_features, test_features, train_labels, test_labels = train_test_split(model_matrix.drop(columns = ['bsp']), model_matrix['bsp'], test_size = 0.25)\n",
                "\n",
                "print('Training Features Shape:', train_features.shape)\n",
                "print('Training Labels Shape:', train_labels.shape)\n",
                "print('Testing Features Shape:', test_features.shape)\n",
                "print('Testing Labels Shape:', test_labels.shape)\n",
                "\n",
                "# Instantiate Model\n",
                "rf = RandomForestRegressor(n_estimators = 100)\n",
                "\n",
                "# Train Model\n",
                "rf.fit(train_features, train_labels)"
            ],
            "outputs": [
                {
                    "output_type": "stream",
                    "name": "stdout",
                    "text": [
                        "Training Features Shape: (119822, 11)\n",
                        "Training Labels Shape: (119822,)\n",
                        "Testing Features Shape: (39941, 11)\n",
                        "Testing Labels Shape: (39941,)\n"
                    ]
                },
                {
                    "output_type": "execute_result",
                    "data": {
                        "text/plain": [
                            "RandomForestRegressor()"
                        ]
                    },
                    "metadata": {},
                    "execution_count": 225
                }
            ],
            "metadata": {}
        },
        {
            "cell_type": "code",
            "execution_count": 226,
            "source": [
                "# Use the forest's predict method on the test data\n",
                "predicted_bsp_prob = rf.predict(test_features)\n",
                "predicted_bsp_prob"
            ],
            "outputs": [
                {
                    "output_type": "execute_result",
                    "data": {
                        "text/plain": [
                            "array([0.02467371, 0.0312447 , 0.11456683, ..., 0.00283577, 0.04084674,\n",
                            "       0.11241565])"
                        ]
                    },
                    "metadata": {},
                    "execution_count": 226
                }
            ],
            "metadata": {}
        },
        {
            "cell_type": "code",
            "execution_count": 229,
            "source": [
                "# Let's test our estimate vs our others in the same way as before\n",
                "\n",
                "testDf = test_features\n",
                "testDf['bsp'] = test_labels\n",
                "testDf['rf_bsp_prediction'] = predicted_bsp_prob\n",
                "\n",
                "for col in ['bsp', 'near_price', 'far_price', 'back_best', 'lay_best', 'geometric_mid_point', 'ladder_mid_point', 'rf_bsp_prediction', 'wap_to_get_back_pool', 'wap_to_get_lay_pool']:\n",
                "    testDf[col] = 1 / testDf[col]\n",
                "\n",
                "testDf.head(3)\n"
            ],
            "outputs": [
                {
                    "output_type": "execute_result",
                    "data": {
                        "text/plain": [
                            "         traded_volume  near_price  far_price  bsp_back_pool_stake  \\\n",
                            "1696983            803       35.34      13.19                  225   \n",
                            "2261008           2736       27.80       5.00                  475   \n",
                            "1117864           4940        8.77       1.80                  366   \n",
                            "\n",
                            "         bsp_lay_pool_liability  back_best  lay_best  geometric_mid_point  \\\n",
                            "1696983                    2948       42.0      44.0               42.988   \n",
                            "2261008                    4627       32.0      34.0               32.985   \n",
                            "1117864                     675        8.6       8.8                8.699   \n",
                            "\n",
                            "         ladder_mid_point  wap_to_get_back_pool  wap_to_get_lay_pool    bsp  \\\n",
                            "1696983              42.0              0.026493             0.019670  37.07   \n",
                            "2261008              32.0              0.034267             0.026493  31.61   \n",
                            "1117864               8.6              0.124513             0.109905   9.40   \n",
                            "\n",
                            "         rf_bsp_prediction  \n",
                            "1696983          40.528965  \n",
                            "2261008          32.005428  \n",
                            "1117864           8.728530  "
                        ],
                        "text/html": [
                            "<div>\n",
                            "<style scoped>\n",
                            "    .dataframe tbody tr th:only-of-type {\n",
                            "        vertical-align: middle;\n",
                            "    }\n",
                            "\n",
                            "    .dataframe tbody tr th {\n",
                            "        vertical-align: top;\n",
                            "    }\n",
                            "\n",
                            "    .dataframe thead th {\n",
                            "        text-align: right;\n",
                            "    }\n",
                            "</style>\n",
                            "<table border=\"1\" class=\"dataframe\">\n",
                            "  <thead>\n",
                            "    <tr style=\"text-align: right;\">\n",
                            "      <th></th>\n",
                            "      <th>traded_volume</th>\n",
                            "      <th>near_price</th>\n",
                            "      <th>far_price</th>\n",
                            "      <th>bsp_back_pool_stake</th>\n",
                            "      <th>bsp_lay_pool_liability</th>\n",
                            "      <th>back_best</th>\n",
                            "      <th>lay_best</th>\n",
                            "      <th>geometric_mid_point</th>\n",
                            "      <th>ladder_mid_point</th>\n",
                            "      <th>wap_to_get_back_pool</th>\n",
                            "      <th>wap_to_get_lay_pool</th>\n",
                            "      <th>bsp</th>\n",
                            "      <th>rf_bsp_prediction</th>\n",
                            "    </tr>\n",
                            "  </thead>\n",
                            "  <tbody>\n",
                            "    <tr>\n",
                            "      <th>1696983</th>\n",
                            "      <td>803</td>\n",
                            "      <td>35.34</td>\n",
                            "      <td>13.19</td>\n",
                            "      <td>225</td>\n",
                            "      <td>2948</td>\n",
                            "      <td>42.0</td>\n",
                            "      <td>44.0</td>\n",
                            "      <td>42.988</td>\n",
                            "      <td>42.0</td>\n",
                            "      <td>0.026493</td>\n",
                            "      <td>0.019670</td>\n",
                            "      <td>37.07</td>\n",
                            "      <td>40.528965</td>\n",
                            "    </tr>\n",
                            "    <tr>\n",
                            "      <th>2261008</th>\n",
                            "      <td>2736</td>\n",
                            "      <td>27.80</td>\n",
                            "      <td>5.00</td>\n",
                            "      <td>475</td>\n",
                            "      <td>4627</td>\n",
                            "      <td>32.0</td>\n",
                            "      <td>34.0</td>\n",
                            "      <td>32.985</td>\n",
                            "      <td>32.0</td>\n",
                            "      <td>0.034267</td>\n",
                            "      <td>0.026493</td>\n",
                            "      <td>31.61</td>\n",
                            "      <td>32.005428</td>\n",
                            "    </tr>\n",
                            "    <tr>\n",
                            "      <th>1117864</th>\n",
                            "      <td>4940</td>\n",
                            "      <td>8.77</td>\n",
                            "      <td>1.80</td>\n",
                            "      <td>366</td>\n",
                            "      <td>675</td>\n",
                            "      <td>8.6</td>\n",
                            "      <td>8.8</td>\n",
                            "      <td>8.699</td>\n",
                            "      <td>8.6</td>\n",
                            "      <td>0.124513</td>\n",
                            "      <td>0.109905</td>\n",
                            "      <td>9.40</td>\n",
                            "      <td>8.728530</td>\n",
                            "    </tr>\n",
                            "  </tbody>\n",
                            "</table>\n",
                            "</div>"
                        ]
                    },
                    "metadata": {},
                    "execution_count": 229
                }
            ],
            "metadata": {}
        },
        {
            "cell_type": "code",
            "execution_count": 230,
            "source": [
                "(\n",
                "    pd.melt(testDf[['bsp', 'near_price', 'far_price', 'back_best', 'lay_best', 'geometric_mid_point', 'ladder_mid_point', 'rf_bsp_prediction']], id_vars = 'bsp', var_name = 'estimate')\n",
                "    .assign(error = lambda x: abs(x['value'] - x['bsp']) / x['bsp'])\n",
                "    .groupby('estimate', as_index=False)\n",
                "    .agg({'error': 'mean'})\n",
                "    .sort_values('error')\n",
                ")"
            ],
            "outputs": [
                {
                    "output_type": "execute_result",
                    "data": {
                        "text/plain": [
                            "              estimate     error\n",
                            "6    rf_bsp_prediction  0.086749\n",
                            "0            back_best  0.090688\n",
                            "3     ladder_mid_point  0.092202\n",
                            "2  geometric_mid_point  0.093363\n",
                            "4             lay_best  0.102073\n",
                            "5           near_price  0.120600\n",
                            "1            far_price  0.579210"
                        ],
                        "text/html": [
                            "<div>\n",
                            "<style scoped>\n",
                            "    .dataframe tbody tr th:only-of-type {\n",
                            "        vertical-align: middle;\n",
                            "    }\n",
                            "\n",
                            "    .dataframe tbody tr th {\n",
                            "        vertical-align: top;\n",
                            "    }\n",
                            "\n",
                            "    .dataframe thead th {\n",
                            "        text-align: right;\n",
                            "    }\n",
                            "</style>\n",
                            "<table border=\"1\" class=\"dataframe\">\n",
                            "  <thead>\n",
                            "    <tr style=\"text-align: right;\">\n",
                            "      <th></th>\n",
                            "      <th>estimate</th>\n",
                            "      <th>error</th>\n",
                            "    </tr>\n",
                            "  </thead>\n",
                            "  <tbody>\n",
                            "    <tr>\n",
                            "      <th>6</th>\n",
                            "      <td>rf_bsp_prediction</td>\n",
                            "      <td>0.086749</td>\n",
                            "    </tr>\n",
                            "    <tr>\n",
                            "      <th>0</th>\n",
                            "      <td>back_best</td>\n",
                            "      <td>0.090688</td>\n",
                            "    </tr>\n",
                            "    <tr>\n",
                            "      <th>3</th>\n",
                            "      <td>ladder_mid_point</td>\n",
                            "      <td>0.092202</td>\n",
                            "    </tr>\n",
                            "    <tr>\n",
                            "      <th>2</th>\n",
                            "      <td>geometric_mid_point</td>\n",
                            "      <td>0.093363</td>\n",
                            "    </tr>\n",
                            "    <tr>\n",
                            "      <th>4</th>\n",
                            "      <td>lay_best</td>\n",
                            "      <td>0.102073</td>\n",
                            "    </tr>\n",
                            "    <tr>\n",
                            "      <th>5</th>\n",
                            "      <td>near_price</td>\n",
                            "      <td>0.120600</td>\n",
                            "    </tr>\n",
                            "    <tr>\n",
                            "      <th>1</th>\n",
                            "      <td>far_price</td>\n",
                            "      <td>0.579210</td>\n",
                            "    </tr>\n",
                            "  </tbody>\n",
                            "</table>\n",
                            "</div>"
                        ]
                    },
                    "metadata": {},
                    "execution_count": 230
                }
            ],
            "metadata": {}
        },
        {
            "cell_type": "code",
            "execution_count": 240,
            "source": [
                "# Validate it on a completely different time point - 10 seconds after scheduled jump\n",
                "\n",
                "outOfSample = df[['sbsj', 'atb_ladder', 'atl_ladder','bsp', 'traded_volume', 'near_price', 'far_price', 'bsp_back_pool_stake', 'bsp_lay_pool_liability', 'back_best', 'lay_best', 'geometric_mid_point', 'ladder_mid_point']]\n",
                "\n",
                "outOfSample = outOfSample[outOfSample.sbsj == -10].dropna()\n",
                "\n",
                "outOfSample = (\n",
                "    outOfSample\n",
                "    .assign(wap_to_get_back_pool = lambda x: x.apply(lambda x: wapToGetBack(x.bsp_back_pool_stake, x.atb_ladder), axis=1))\n",
                "    .assign(wap_to_get_lay_pool = lambda x: x.apply(lambda x: wapToGetLay(x.bsp_lay_pool_liability, x.atl_ladder), axis=1))\n",
                ")\n",
                "\n",
                "\n",
                "modelInputs = outOfSample\n",
                "\n",
                "# Convert to probabilities\n",
                "for col in ['bsp', 'near_price', 'far_price', 'back_best', 'lay_best', 'geometric_mid_point', 'ladder_mid_point', 'wap_to_get_back_pool', 'wap_to_get_lay_pool']:\n",
                "    modelInputs[col] = 1 / modelInputs[col]\n",
                "\n",
                "# Drop other columns\n",
                "modelInputs.drop(columns = ['sbsj', 'atb_ladder', 'atl_ladder'], inplace = True)\n",
                "\n",
                "outofsamplebspprediction = rf.predict(modelInputs.drop(columns = 'bsp'))\n",
                "\n",
                "outofsamplebspprediction\n"
            ],
            "outputs": [
                {
                    "output_type": "execute_result",
                    "data": {
                        "text/plain": [
                            "array([0.15982679, 0.28651998, 0.15968522, ..., 0.00227314, 0.00492101,\n",
                            "       0.01890296])"
                        ]
                    },
                    "metadata": {},
                    "execution_count": 240
                }
            ],
            "metadata": {}
        },
        {
            "cell_type": "code",
            "execution_count": 241,
            "source": [
                "outOfSample['rf_bsp_prediction'] = outofsamplebspprediction\n",
                "\n",
                "for col in ['bsp', 'near_price', 'far_price', 'back_best', 'lay_best', 'geometric_mid_point', 'ladder_mid_point', 'rf_bsp_prediction', 'wap_to_get_back_pool', 'wap_to_get_lay_pool']:\n",
                "    outOfSample[col] = 1 / outOfSample[col]\n",
                "\n",
                "(\n",
                "    pd.melt(outOfSample[['bsp', 'near_price', 'far_price', 'back_best', 'lay_best', 'geometric_mid_point', 'ladder_mid_point', 'rf_bsp_prediction']], id_vars = 'bsp', var_name = 'estimate')\n",
                "    .assign(error = lambda x: abs(x['value'] - x['bsp']) / x['bsp'])\n",
                "    .groupby('estimate', as_index=False)\n",
                "    .agg({'error': 'mean'})\n",
                "    .sort_values('error')\n",
                ")"
            ],
            "outputs": [
                {
                    "output_type": "execute_result",
                    "data": {
                        "text/plain": [
                            "              estimate     error\n",
                            "6    rf_bsp_prediction  0.076963\n",
                            "0            back_best  0.084658\n",
                            "3     ladder_mid_point  0.086128\n",
                            "2  geometric_mid_point  0.087326\n",
                            "4             lay_best  0.098311\n",
                            "5           near_price  0.109640\n",
                            "1            far_price  0.501813"
                        ],
                        "text/html": [
                            "<div>\n",
                            "<style scoped>\n",
                            "    .dataframe tbody tr th:only-of-type {\n",
                            "        vertical-align: middle;\n",
                            "    }\n",
                            "\n",
                            "    .dataframe tbody tr th {\n",
                            "        vertical-align: top;\n",
                            "    }\n",
                            "\n",
                            "    .dataframe thead th {\n",
                            "        text-align: right;\n",
                            "    }\n",
                            "</style>\n",
                            "<table border=\"1\" class=\"dataframe\">\n",
                            "  <thead>\n",
                            "    <tr style=\"text-align: right;\">\n",
                            "      <th></th>\n",
                            "      <th>estimate</th>\n",
                            "      <th>error</th>\n",
                            "    </tr>\n",
                            "  </thead>\n",
                            "  <tbody>\n",
                            "    <tr>\n",
                            "      <th>6</th>\n",
                            "      <td>rf_bsp_prediction</td>\n",
                            "      <td>0.076963</td>\n",
                            "    </tr>\n",
                            "    <tr>\n",
                            "      <th>0</th>\n",
                            "      <td>back_best</td>\n",
                            "      <td>0.084658</td>\n",
                            "    </tr>\n",
                            "    <tr>\n",
                            "      <th>3</th>\n",
                            "      <td>ladder_mid_point</td>\n",
                            "      <td>0.086128</td>\n",
                            "    </tr>\n",
                            "    <tr>\n",
                            "      <th>2</th>\n",
                            "      <td>geometric_mid_point</td>\n",
                            "      <td>0.087326</td>\n",
                            "    </tr>\n",
                            "    <tr>\n",
                            "      <th>4</th>\n",
                            "      <td>lay_best</td>\n",
                            "      <td>0.098311</td>\n",
                            "    </tr>\n",
                            "    <tr>\n",
                            "      <th>5</th>\n",
                            "      <td>near_price</td>\n",
                            "      <td>0.109640</td>\n",
                            "    </tr>\n",
                            "    <tr>\n",
                            "      <th>1</th>\n",
                            "      <td>far_price</td>\n",
                            "      <td>0.501813</td>\n",
                            "    </tr>\n",
                            "  </tbody>\n",
                            "</table>\n",
                            "</div>"
                        ]
                    },
                    "metadata": {},
                    "execution_count": 241
                }
            ],
            "metadata": {}
        }
    ],
    "metadata": {
        "orig_nbformat": 4,
        "language_info": {
            "name": "python",
            "version": "3.9.5",
            "mimetype": "text/x-python",
            "codemirror_mode": {
                "name": "ipython",
                "version": 3
            },
            "pygments_lexer": "ipython3",
            "nbconvert_exporter": "python",
            "file_extension": ".py"
        },
        "kernelspec": {
            "name": "python3",
            "display_name": "Python 3.9.5 64-bit"
        },
        "interpreter": {
            "hash": "916dbcbb3f70747c44a77c7bcd40155683ae19c65e1c03b4aa3499c5328201f1"
        }
    },
    "nbformat": 4,
    "nbformat_minor": 2
}