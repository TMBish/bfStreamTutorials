{
    "cells": [
        {
            "cell_type": "code",
            "execution_count": 51,
            "source": [
                "import pandas as pd\n",
                "import numpy as np\n",
                "import requests\n",
                "import os\n",
                "import re\n",
                "import csv\n",
                "import plotly.express as px\n",
                "import plotly.graph_objects as go\n",
                "import math\n",
                "import ast\n",
                "\n"
            ],
            "outputs": [],
            "metadata": {}
        },
        {
            "cell_type": "code",
            "execution_count": 46,
            "source": [
                "selection = pd.read_csv(\"/media/hdd/tmp/bsp/meta.csv\", dtype={'market_id': object, 'selection_id': object}, parse_dates = ['market_time'])\n",
                "\n",
                "selection.traded_volume.value_counts()"
            ],
            "outputs": [
                {
                    "output_type": "execute_result",
                    "data": {
                        "text/plain": [
                            "0    25979\n",
                            "Name: traded_volume, dtype: int64"
                        ]
                    },
                    "metadata": {},
                    "execution_count": 46
                }
            ],
            "metadata": {}
        },
        {
            "cell_type": "code",
            "execution_count": 12,
            "source": [
                "prices = pd.read_csv(\n",
                "    \"/media/hdd/tmp/bsp/prices.csv\", \n",
                "    quoting=csv.QUOTE_ALL,\n",
                "    dtype={'market_id': 'string', 'selection_id': 'string', 'atb_ladder': 'string', 'atl_ladder': 'string'},\n",
                "    parse_dates=['time']\n",
                ")\n",
                "prices.head(3)"
            ],
            "outputs": [
                {
                    "output_type": "execute_result",
                    "data": {
                        "text/plain": [
                            "     market_id selection_id                    time  near_price  far_price  \\\n",
                            "0  1.183995724     22832649 2021-05-31 06:17:15.379         NaN        NaN   \n",
                            "1  1.183995724     13688381 2021-05-31 06:17:15.379         NaN        NaN   \n",
                            "2  1.183995724      2659734 2021-05-31 06:17:15.379         NaN        NaN   \n",
                            "\n",
                            "   bsp_back_pool_stake  bsp_lay_pool_liability atb_ladder atl_ladder  \n",
                            "0                    0                       0         {}         {}  \n",
                            "1                    0                       0         {}         {}  \n",
                            "2                    0                       0         {}         {}  "
                        ],
                        "text/html": [
                            "<div>\n",
                            "<style scoped>\n",
                            "    .dataframe tbody tr th:only-of-type {\n",
                            "        vertical-align: middle;\n",
                            "    }\n",
                            "\n",
                            "    .dataframe tbody tr th {\n",
                            "        vertical-align: top;\n",
                            "    }\n",
                            "\n",
                            "    .dataframe thead th {\n",
                            "        text-align: right;\n",
                            "    }\n",
                            "</style>\n",
                            "<table border=\"1\" class=\"dataframe\">\n",
                            "  <thead>\n",
                            "    <tr style=\"text-align: right;\">\n",
                            "      <th></th>\n",
                            "      <th>market_id</th>\n",
                            "      <th>selection_id</th>\n",
                            "      <th>time</th>\n",
                            "      <th>near_price</th>\n",
                            "      <th>far_price</th>\n",
                            "      <th>bsp_back_pool_stake</th>\n",
                            "      <th>bsp_lay_pool_liability</th>\n",
                            "      <th>atb_ladder</th>\n",
                            "      <th>atl_ladder</th>\n",
                            "    </tr>\n",
                            "  </thead>\n",
                            "  <tbody>\n",
                            "    <tr>\n",
                            "      <th>0</th>\n",
                            "      <td>1.183995724</td>\n",
                            "      <td>22832649</td>\n",
                            "      <td>2021-05-31 06:17:15.379</td>\n",
                            "      <td>NaN</td>\n",
                            "      <td>NaN</td>\n",
                            "      <td>0</td>\n",
                            "      <td>0</td>\n",
                            "      <td>{}</td>\n",
                            "      <td>{}</td>\n",
                            "    </tr>\n",
                            "    <tr>\n",
                            "      <th>1</th>\n",
                            "      <td>1.183995724</td>\n",
                            "      <td>13688381</td>\n",
                            "      <td>2021-05-31 06:17:15.379</td>\n",
                            "      <td>NaN</td>\n",
                            "      <td>NaN</td>\n",
                            "      <td>0</td>\n",
                            "      <td>0</td>\n",
                            "      <td>{}</td>\n",
                            "      <td>{}</td>\n",
                            "    </tr>\n",
                            "    <tr>\n",
                            "      <th>2</th>\n",
                            "      <td>1.183995724</td>\n",
                            "      <td>2659734</td>\n",
                            "      <td>2021-05-31 06:17:15.379</td>\n",
                            "      <td>NaN</td>\n",
                            "      <td>NaN</td>\n",
                            "      <td>0</td>\n",
                            "      <td>0</td>\n",
                            "      <td>{}</td>\n",
                            "      <td>{}</td>\n",
                            "    </tr>\n",
                            "  </tbody>\n",
                            "</table>\n",
                            "</div>"
                        ]
                    },
                    "metadata": {},
                    "execution_count": 12
                }
            ],
            "metadata": {}
        },
        {
            "cell_type": "code",
            "execution_count": 13,
            "source": [
                "prices.shape"
            ],
            "outputs": [
                {
                    "output_type": "execute_result",
                    "data": {
                        "text/plain": [
                            "(660111, 9)"
                        ]
                    },
                    "metadata": {},
                    "execution_count": 13
                }
            ],
            "metadata": {}
        },
        {
            "cell_type": "code",
            "execution_count": 14,
            "source": [
                "prices.query('market_id == \"1.183995724\" and selection_id == \"22832649\"')"
            ],
            "outputs": [
                {
                    "output_type": "execute_result",
                    "data": {
                        "text/plain": [
                            "       market_id selection_id                    time  near_price  far_price  \\\n",
                            "0    1.183995724     22832649 2021-05-31 06:17:15.379         NaN        NaN   \n",
                            "10   1.183995724     22832649 2021-06-01 01:38:00.062        8.60       7.69   \n",
                            "20   1.183995724     22832649 2021-06-01 01:38:10.158        8.60       7.69   \n",
                            "30   1.183995724     22832649 2021-06-01 01:38:20.159        8.00       7.69   \n",
                            "40   1.183995724     22832649 2021-06-01 01:38:30.182        8.00       7.69   \n",
                            "50   1.183995724     22832649 2021-06-01 01:38:40.221        8.00       7.69   \n",
                            "60   1.183995724     22832649 2021-06-01 01:38:50.923        8.00       7.69   \n",
                            "70   1.183995724     22832649 2021-06-01 01:39:00.955        8.00       7.69   \n",
                            "80   1.183995724     22832649 2021-06-01 01:39:10.962        8.00       7.69   \n",
                            "90   1.183995724     22832649 2021-06-01 01:39:20.966        8.18       2.68   \n",
                            "100  1.183995724     22832649 2021-06-01 01:39:30.971        8.18       2.68   \n",
                            "110  1.183995724     22832649 2021-06-01 01:39:41.018        8.18       2.68   \n",
                            "120  1.183995724     22832649 2021-06-01 01:39:51.119        8.18       2.68   \n",
                            "130  1.183995724     22832649 2021-06-01 01:40:01.123        8.18       2.68   \n",
                            "140  1.183995724     22832649 2021-06-01 01:40:11.136        8.18       2.68   \n",
                            "150  1.183995724     22832649 2021-06-01 01:40:18.201        8.04       7.60   \n",
                            "\n",
                            "     bsp_back_pool_stake  bsp_lay_pool_liability  \\\n",
                            "0                      0                       0   \n",
                            "10                    27                     184   \n",
                            "20                    27                     184   \n",
                            "30                    27                     184   \n",
                            "40                    27                     190   \n",
                            "50                   136                     205   \n",
                            "60                   136                     205   \n",
                            "70                   137                     214   \n",
                            "80                   137                     229   \n",
                            "90                   212                     243   \n",
                            "100                  212                     243   \n",
                            "110                  245                     324   \n",
                            "120                  324                     459   \n",
                            "130                  324                     748   \n",
                            "140                  447                    2285   \n",
                            "150                  327                    2469   \n",
                            "\n",
                            "                                            atb_ladder  \\\n",
                            "0                                                   {}   \n",
                            "10   {'p':[8,7.8,7.6,7.4,7.2],'v':[31.23,37.93,108....   \n",
                            "20   {'p':[8,7.8,7.6,7.4,7.2],'v':[25.54,49.14,113....   \n",
                            "30   {'p':[8,7.8,7.6,7.4,7.2],'v':[94.52,49.14,113....   \n",
                            "40   {'p':[8,7.8,7.6,7.4,7.2],'v':[62.88,49.14,113....   \n",
                            "50   {'p':[8.2,8,7.8,7.6,7.4],'v':[13.92,129.4,53.0...   \n",
                            "60   {'p':[8,7.8,7.6,7.4,7.2],'v':[129.4,53.01,133....   \n",
                            "70   {'p':[8.2,8,7.8,7.6,7.4],'v':[26.93,136.73,63....   \n",
                            "80   {'p':[8.2,8,7.8,7.6,7.4],'v':[29.2,146.88,61.3...   \n",
                            "90   {'p':[8.4,8.2,8,7.8,7.6],'v':[19.2,89.65,91.13...   \n",
                            "100  {'p':[8.2,8,7.8,7.6,7.4],'v':[79.45,82.25,45.8...   \n",
                            "110  {'p':[8.4,8.2,8,7.8,7.6],'v':[37.01,125.57,156...   \n",
                            "120  {'p':[8.2,8,7.8,7.6,7.4],'v':[63.46,94.12,63.6...   \n",
                            "130  {'p':[8.4,8.2,8,7.8,7.6],'v':[32.81,97.72,92.2...   \n",
                            "140  {'p':[8.2,8,7.8,7.6,7.4],'v':[46.15,99.45,134....   \n",
                            "150  {'p':[6.8,6.4,5.9,5.1,4.4],'v':[4.01,3.9,1.18,...   \n",
                            "\n",
                            "                                            atl_ladder  \n",
                            "0                                                   {}  \n",
                            "10   {'p':[8.4,8.6,8.8,9,9.2],'v':[63.98,14.57,29.1...  \n",
                            "20   {'p':[8.2,8.4,8.6,8.8,9],'v':[37.63,68.03,41.2...  \n",
                            "30   {'p':[8.2,8.4,8.6,8.8,9],'v':[37.63,56.27,41.2...  \n",
                            "40   {'p':[8.2,8.4,8.6,8.8,9],'v':[22.99,56.27,41.2...  \n",
                            "50   {'p':[8.4,8.6,8.8,9,9.2],'v':[53.28,41.2,29.12...  \n",
                            "60   {'p':[8.4,8.6,8.8,9,9.2],'v':[67.76,41.2,29.12...  \n",
                            "70   {'p':[8.4,8.6,8.8,9,9.2],'v':[53.28,41.2,29.12...  \n",
                            "80   {'p':[8.4,8.6,8.8,9,9.2],'v':[53.26,23.52,32.3...  \n",
                            "90   {'p':[8.6,8.8,9,9.2,9.4],'v':[69.9,16.6,33.14,...  \n",
                            "100  {'p':[8.4,8.6,8.8,9,9.2],'v':[59.89,65.64,40.7...  \n",
                            "110  {'p':[8.6,8.8,9,9.2,9.4],'v':[73.69,37.27,33.4...  \n",
                            "120  {'p':[8.6,8.8,9,9.2,9.4],'v':[19.59,18.59,33.4...  \n",
                            "130  {'p':[8.6,8.8,9,9.2,9.4],'v':[0.96,15.7,34.25,...  \n",
                            "140  {'p':[8.4,8.6,8.8,9,9.2],'v':[20.11,47.35,19.1...  \n",
                            "150  {'p':[10,11,11.5,15,15.5],'v':[6.05,0.68,5.18,...  "
                        ],
                        "text/html": [
                            "<div>\n",
                            "<style scoped>\n",
                            "    .dataframe tbody tr th:only-of-type {\n",
                            "        vertical-align: middle;\n",
                            "    }\n",
                            "\n",
                            "    .dataframe tbody tr th {\n",
                            "        vertical-align: top;\n",
                            "    }\n",
                            "\n",
                            "    .dataframe thead th {\n",
                            "        text-align: right;\n",
                            "    }\n",
                            "</style>\n",
                            "<table border=\"1\" class=\"dataframe\">\n",
                            "  <thead>\n",
                            "    <tr style=\"text-align: right;\">\n",
                            "      <th></th>\n",
                            "      <th>market_id</th>\n",
                            "      <th>selection_id</th>\n",
                            "      <th>time</th>\n",
                            "      <th>near_price</th>\n",
                            "      <th>far_price</th>\n",
                            "      <th>bsp_back_pool_stake</th>\n",
                            "      <th>bsp_lay_pool_liability</th>\n",
                            "      <th>atb_ladder</th>\n",
                            "      <th>atl_ladder</th>\n",
                            "    </tr>\n",
                            "  </thead>\n",
                            "  <tbody>\n",
                            "    <tr>\n",
                            "      <th>0</th>\n",
                            "      <td>1.183995724</td>\n",
                            "      <td>22832649</td>\n",
                            "      <td>2021-05-31 06:17:15.379</td>\n",
                            "      <td>NaN</td>\n",
                            "      <td>NaN</td>\n",
                            "      <td>0</td>\n",
                            "      <td>0</td>\n",
                            "      <td>{}</td>\n",
                            "      <td>{}</td>\n",
                            "    </tr>\n",
                            "    <tr>\n",
                            "      <th>10</th>\n",
                            "      <td>1.183995724</td>\n",
                            "      <td>22832649</td>\n",
                            "      <td>2021-06-01 01:38:00.062</td>\n",
                            "      <td>8.60</td>\n",
                            "      <td>7.69</td>\n",
                            "      <td>27</td>\n",
                            "      <td>184</td>\n",
                            "      <td>{'p':[8,7.8,7.6,7.4,7.2],'v':[31.23,37.93,108....</td>\n",
                            "      <td>{'p':[8.4,8.6,8.8,9,9.2],'v':[63.98,14.57,29.1...</td>\n",
                            "    </tr>\n",
                            "    <tr>\n",
                            "      <th>20</th>\n",
                            "      <td>1.183995724</td>\n",
                            "      <td>22832649</td>\n",
                            "      <td>2021-06-01 01:38:10.158</td>\n",
                            "      <td>8.60</td>\n",
                            "      <td>7.69</td>\n",
                            "      <td>27</td>\n",
                            "      <td>184</td>\n",
                            "      <td>{'p':[8,7.8,7.6,7.4,7.2],'v':[25.54,49.14,113....</td>\n",
                            "      <td>{'p':[8.2,8.4,8.6,8.8,9],'v':[37.63,68.03,41.2...</td>\n",
                            "    </tr>\n",
                            "    <tr>\n",
                            "      <th>30</th>\n",
                            "      <td>1.183995724</td>\n",
                            "      <td>22832649</td>\n",
                            "      <td>2021-06-01 01:38:20.159</td>\n",
                            "      <td>8.00</td>\n",
                            "      <td>7.69</td>\n",
                            "      <td>27</td>\n",
                            "      <td>184</td>\n",
                            "      <td>{'p':[8,7.8,7.6,7.4,7.2],'v':[94.52,49.14,113....</td>\n",
                            "      <td>{'p':[8.2,8.4,8.6,8.8,9],'v':[37.63,56.27,41.2...</td>\n",
                            "    </tr>\n",
                            "    <tr>\n",
                            "      <th>40</th>\n",
                            "      <td>1.183995724</td>\n",
                            "      <td>22832649</td>\n",
                            "      <td>2021-06-01 01:38:30.182</td>\n",
                            "      <td>8.00</td>\n",
                            "      <td>7.69</td>\n",
                            "      <td>27</td>\n",
                            "      <td>190</td>\n",
                            "      <td>{'p':[8,7.8,7.6,7.4,7.2],'v':[62.88,49.14,113....</td>\n",
                            "      <td>{'p':[8.2,8.4,8.6,8.8,9],'v':[22.99,56.27,41.2...</td>\n",
                            "    </tr>\n",
                            "    <tr>\n",
                            "      <th>50</th>\n",
                            "      <td>1.183995724</td>\n",
                            "      <td>22832649</td>\n",
                            "      <td>2021-06-01 01:38:40.221</td>\n",
                            "      <td>8.00</td>\n",
                            "      <td>7.69</td>\n",
                            "      <td>136</td>\n",
                            "      <td>205</td>\n",
                            "      <td>{'p':[8.2,8,7.8,7.6,7.4],'v':[13.92,129.4,53.0...</td>\n",
                            "      <td>{'p':[8.4,8.6,8.8,9,9.2],'v':[53.28,41.2,29.12...</td>\n",
                            "    </tr>\n",
                            "    <tr>\n",
                            "      <th>60</th>\n",
                            "      <td>1.183995724</td>\n",
                            "      <td>22832649</td>\n",
                            "      <td>2021-06-01 01:38:50.923</td>\n",
                            "      <td>8.00</td>\n",
                            "      <td>7.69</td>\n",
                            "      <td>136</td>\n",
                            "      <td>205</td>\n",
                            "      <td>{'p':[8,7.8,7.6,7.4,7.2],'v':[129.4,53.01,133....</td>\n",
                            "      <td>{'p':[8.4,8.6,8.8,9,9.2],'v':[67.76,41.2,29.12...</td>\n",
                            "    </tr>\n",
                            "    <tr>\n",
                            "      <th>70</th>\n",
                            "      <td>1.183995724</td>\n",
                            "      <td>22832649</td>\n",
                            "      <td>2021-06-01 01:39:00.955</td>\n",
                            "      <td>8.00</td>\n",
                            "      <td>7.69</td>\n",
                            "      <td>137</td>\n",
                            "      <td>214</td>\n",
                            "      <td>{'p':[8.2,8,7.8,7.6,7.4],'v':[26.93,136.73,63....</td>\n",
                            "      <td>{'p':[8.4,8.6,8.8,9,9.2],'v':[53.28,41.2,29.12...</td>\n",
                            "    </tr>\n",
                            "    <tr>\n",
                            "      <th>80</th>\n",
                            "      <td>1.183995724</td>\n",
                            "      <td>22832649</td>\n",
                            "      <td>2021-06-01 01:39:10.962</td>\n",
                            "      <td>8.00</td>\n",
                            "      <td>7.69</td>\n",
                            "      <td>137</td>\n",
                            "      <td>229</td>\n",
                            "      <td>{'p':[8.2,8,7.8,7.6,7.4],'v':[29.2,146.88,61.3...</td>\n",
                            "      <td>{'p':[8.4,8.6,8.8,9,9.2],'v':[53.26,23.52,32.3...</td>\n",
                            "    </tr>\n",
                            "    <tr>\n",
                            "      <th>90</th>\n",
                            "      <td>1.183995724</td>\n",
                            "      <td>22832649</td>\n",
                            "      <td>2021-06-01 01:39:20.966</td>\n",
                            "      <td>8.18</td>\n",
                            "      <td>2.68</td>\n",
                            "      <td>212</td>\n",
                            "      <td>243</td>\n",
                            "      <td>{'p':[8.4,8.2,8,7.8,7.6],'v':[19.2,89.65,91.13...</td>\n",
                            "      <td>{'p':[8.6,8.8,9,9.2,9.4],'v':[69.9,16.6,33.14,...</td>\n",
                            "    </tr>\n",
                            "    <tr>\n",
                            "      <th>100</th>\n",
                            "      <td>1.183995724</td>\n",
                            "      <td>22832649</td>\n",
                            "      <td>2021-06-01 01:39:30.971</td>\n",
                            "      <td>8.18</td>\n",
                            "      <td>2.68</td>\n",
                            "      <td>212</td>\n",
                            "      <td>243</td>\n",
                            "      <td>{'p':[8.2,8,7.8,7.6,7.4],'v':[79.45,82.25,45.8...</td>\n",
                            "      <td>{'p':[8.4,8.6,8.8,9,9.2],'v':[59.89,65.64,40.7...</td>\n",
                            "    </tr>\n",
                            "    <tr>\n",
                            "      <th>110</th>\n",
                            "      <td>1.183995724</td>\n",
                            "      <td>22832649</td>\n",
                            "      <td>2021-06-01 01:39:41.018</td>\n",
                            "      <td>8.18</td>\n",
                            "      <td>2.68</td>\n",
                            "      <td>245</td>\n",
                            "      <td>324</td>\n",
                            "      <td>{'p':[8.4,8.2,8,7.8,7.6],'v':[37.01,125.57,156...</td>\n",
                            "      <td>{'p':[8.6,8.8,9,9.2,9.4],'v':[73.69,37.27,33.4...</td>\n",
                            "    </tr>\n",
                            "    <tr>\n",
                            "      <th>120</th>\n",
                            "      <td>1.183995724</td>\n",
                            "      <td>22832649</td>\n",
                            "      <td>2021-06-01 01:39:51.119</td>\n",
                            "      <td>8.18</td>\n",
                            "      <td>2.68</td>\n",
                            "      <td>324</td>\n",
                            "      <td>459</td>\n",
                            "      <td>{'p':[8.2,8,7.8,7.6,7.4],'v':[63.46,94.12,63.6...</td>\n",
                            "      <td>{'p':[8.6,8.8,9,9.2,9.4],'v':[19.59,18.59,33.4...</td>\n",
                            "    </tr>\n",
                            "    <tr>\n",
                            "      <th>130</th>\n",
                            "      <td>1.183995724</td>\n",
                            "      <td>22832649</td>\n",
                            "      <td>2021-06-01 01:40:01.123</td>\n",
                            "      <td>8.18</td>\n",
                            "      <td>2.68</td>\n",
                            "      <td>324</td>\n",
                            "      <td>748</td>\n",
                            "      <td>{'p':[8.4,8.2,8,7.8,7.6],'v':[32.81,97.72,92.2...</td>\n",
                            "      <td>{'p':[8.6,8.8,9,9.2,9.4],'v':[0.96,15.7,34.25,...</td>\n",
                            "    </tr>\n",
                            "    <tr>\n",
                            "      <th>140</th>\n",
                            "      <td>1.183995724</td>\n",
                            "      <td>22832649</td>\n",
                            "      <td>2021-06-01 01:40:11.136</td>\n",
                            "      <td>8.18</td>\n",
                            "      <td>2.68</td>\n",
                            "      <td>447</td>\n",
                            "      <td>2285</td>\n",
                            "      <td>{'p':[8.2,8,7.8,7.6,7.4],'v':[46.15,99.45,134....</td>\n",
                            "      <td>{'p':[8.4,8.6,8.8,9,9.2],'v':[20.11,47.35,19.1...</td>\n",
                            "    </tr>\n",
                            "    <tr>\n",
                            "      <th>150</th>\n",
                            "      <td>1.183995724</td>\n",
                            "      <td>22832649</td>\n",
                            "      <td>2021-06-01 01:40:18.201</td>\n",
                            "      <td>8.04</td>\n",
                            "      <td>7.60</td>\n",
                            "      <td>327</td>\n",
                            "      <td>2469</td>\n",
                            "      <td>{'p':[6.8,6.4,5.9,5.1,4.4],'v':[4.01,3.9,1.18,...</td>\n",
                            "      <td>{'p':[10,11,11.5,15,15.5],'v':[6.05,0.68,5.18,...</td>\n",
                            "    </tr>\n",
                            "  </tbody>\n",
                            "</table>\n",
                            "</div>"
                        ]
                    },
                    "metadata": {},
                    "execution_count": 14
                }
            ],
            "metadata": {}
        },
        {
            "cell_type": "code",
            "execution_count": 75,
            "source": [
                "# Join and augment\n",
                "# prices['atb_ladder'] = [ast.literal_eval(x) for x in prices['atb_ladder']]\n",
                "# prices['atl_ladder'] = [ast.literal_eval(x) for x in prices['atl_ladder']]\n",
                "\n",
                "df = (\n",
                "    selection.merge(prices, on = ['market_id', 'selection_id'])\n",
                "    .assign(sbsj = lambda x: round((x['market_time'] - x['time']).dt.total_seconds() / 10) * 10)\n",
                "    .assign(back_best = lambda x: [np.nan if d.get('p') is None else d.get('p')[0] for d in x['atb_ladder']])\n",
                "    .assign(lay_best = lambda x: [np.nan if d.get('p') is None else d.get('p')[0] for d in x['atl_ladder']])\n",
                ")\n",
                "\n",
                "df.head(3)\n"
            ],
            "outputs": [
                {
                    "output_type": "execute_result",
                    "data": {
                        "text/plain": [
                            "     market_id selection_id     venue         market_time selection_name  \\\n",
                            "0  1.183995724     22832649  Hamilton 2021-06-01 01:40:00   1. Ablestock   \n",
                            "1  1.183995724     22832649  Hamilton 2021-06-01 01:40:00   1. Ablestock   \n",
                            "2  1.183995724     22832649  Hamilton 2021-06-01 01:40:00   1. Ablestock   \n",
                            "\n",
                            "   traded_volume  win  bsp                    time  near_price  far_price  \\\n",
                            "0              0    0  8.4 2021-05-31 06:17:15.379         NaN        NaN   \n",
                            "1              0    0  8.4 2021-06-01 01:38:00.062         8.6       7.69   \n",
                            "2              0    0  8.4 2021-06-01 01:38:10.158         8.6       7.69   \n",
                            "\n",
                            "   bsp_back_pool_stake  bsp_lay_pool_liability  \\\n",
                            "0                    0                       0   \n",
                            "1                   27                     184   \n",
                            "2                   27                     184   \n",
                            "\n",
                            "                                          atb_ladder  \\\n",
                            "0                                                 {}   \n",
                            "1  {'p': [8, 7.8, 7.6, 7.4, 7.2], 'v': [31.23, 37...   \n",
                            "2  {'p': [8, 7.8, 7.6, 7.4, 7.2], 'v': [25.54, 49...   \n",
                            "\n",
                            "                                          atl_ladder     sbsj  back_best  \\\n",
                            "0                                                 {}  69760.0        NaN   \n",
                            "1  {'p': [8.4, 8.6, 8.8, 9, 9.2], 'v': [63.98, 14...    120.0        8.0   \n",
                            "2  {'p': [8.2, 8.4, 8.6, 8.8, 9], 'v': [37.63, 68...    110.0        8.0   \n",
                            "\n",
                            "   lay_best  \n",
                            "0       NaN  \n",
                            "1       8.4  \n",
                            "2       8.2  "
                        ],
                        "text/html": [
                            "<div>\n",
                            "<style scoped>\n",
                            "    .dataframe tbody tr th:only-of-type {\n",
                            "        vertical-align: middle;\n",
                            "    }\n",
                            "\n",
                            "    .dataframe tbody tr th {\n",
                            "        vertical-align: top;\n",
                            "    }\n",
                            "\n",
                            "    .dataframe thead th {\n",
                            "        text-align: right;\n",
                            "    }\n",
                            "</style>\n",
                            "<table border=\"1\" class=\"dataframe\">\n",
                            "  <thead>\n",
                            "    <tr style=\"text-align: right;\">\n",
                            "      <th></th>\n",
                            "      <th>market_id</th>\n",
                            "      <th>selection_id</th>\n",
                            "      <th>venue</th>\n",
                            "      <th>market_time</th>\n",
                            "      <th>selection_name</th>\n",
                            "      <th>traded_volume</th>\n",
                            "      <th>win</th>\n",
                            "      <th>bsp</th>\n",
                            "      <th>time</th>\n",
                            "      <th>near_price</th>\n",
                            "      <th>far_price</th>\n",
                            "      <th>bsp_back_pool_stake</th>\n",
                            "      <th>bsp_lay_pool_liability</th>\n",
                            "      <th>atb_ladder</th>\n",
                            "      <th>atl_ladder</th>\n",
                            "      <th>sbsj</th>\n",
                            "      <th>back_best</th>\n",
                            "      <th>lay_best</th>\n",
                            "    </tr>\n",
                            "  </thead>\n",
                            "  <tbody>\n",
                            "    <tr>\n",
                            "      <th>0</th>\n",
                            "      <td>1.183995724</td>\n",
                            "      <td>22832649</td>\n",
                            "      <td>Hamilton</td>\n",
                            "      <td>2021-06-01 01:40:00</td>\n",
                            "      <td>1. Ablestock</td>\n",
                            "      <td>0</td>\n",
                            "      <td>0</td>\n",
                            "      <td>8.4</td>\n",
                            "      <td>2021-05-31 06:17:15.379</td>\n",
                            "      <td>NaN</td>\n",
                            "      <td>NaN</td>\n",
                            "      <td>0</td>\n",
                            "      <td>0</td>\n",
                            "      <td>{}</td>\n",
                            "      <td>{}</td>\n",
                            "      <td>69760.0</td>\n",
                            "      <td>NaN</td>\n",
                            "      <td>NaN</td>\n",
                            "    </tr>\n",
                            "    <tr>\n",
                            "      <th>1</th>\n",
                            "      <td>1.183995724</td>\n",
                            "      <td>22832649</td>\n",
                            "      <td>Hamilton</td>\n",
                            "      <td>2021-06-01 01:40:00</td>\n",
                            "      <td>1. Ablestock</td>\n",
                            "      <td>0</td>\n",
                            "      <td>0</td>\n",
                            "      <td>8.4</td>\n",
                            "      <td>2021-06-01 01:38:00.062</td>\n",
                            "      <td>8.6</td>\n",
                            "      <td>7.69</td>\n",
                            "      <td>27</td>\n",
                            "      <td>184</td>\n",
                            "      <td>{'p': [8, 7.8, 7.6, 7.4, 7.2], 'v': [31.23, 37...</td>\n",
                            "      <td>{'p': [8.4, 8.6, 8.8, 9, 9.2], 'v': [63.98, 14...</td>\n",
                            "      <td>120.0</td>\n",
                            "      <td>8.0</td>\n",
                            "      <td>8.4</td>\n",
                            "    </tr>\n",
                            "    <tr>\n",
                            "      <th>2</th>\n",
                            "      <td>1.183995724</td>\n",
                            "      <td>22832649</td>\n",
                            "      <td>Hamilton</td>\n",
                            "      <td>2021-06-01 01:40:00</td>\n",
                            "      <td>1. Ablestock</td>\n",
                            "      <td>0</td>\n",
                            "      <td>0</td>\n",
                            "      <td>8.4</td>\n",
                            "      <td>2021-06-01 01:38:10.158</td>\n",
                            "      <td>8.6</td>\n",
                            "      <td>7.69</td>\n",
                            "      <td>27</td>\n",
                            "      <td>184</td>\n",
                            "      <td>{'p': [8, 7.8, 7.6, 7.4, 7.2], 'v': [25.54, 49...</td>\n",
                            "      <td>{'p': [8.2, 8.4, 8.6, 8.8, 9], 'v': [37.63, 68...</td>\n",
                            "      <td>110.0</td>\n",
                            "      <td>8.0</td>\n",
                            "      <td>8.2</td>\n",
                            "    </tr>\n",
                            "  </tbody>\n",
                            "</table>\n",
                            "</div>"
                        ]
                    },
                    "metadata": {},
                    "execution_count": 75
                }
            ],
            "metadata": {}
        },
        {
            "cell_type": "markdown",
            "source": [
                "# The BSP\n",
                "\n",
                "- Volumes traded\n",
                "- Accuracy\n",
                "- Back profit / lay profit in certain odds ranges"
            ],
            "metadata": {}
        },
        {
            "cell_type": "code",
            "execution_count": null,
            "source": [
                "# Volume Traded\n",
                "# ___________________________\n",
                "\n"
            ],
            "outputs": [],
            "metadata": {}
        },
        {
            "cell_type": "code",
            "execution_count": 77,
            "source": [
                "df.groupby('sbsj', as_index = False).size().sort_values('size')"
            ],
            "outputs": [
                {
                    "output_type": "execute_result",
                    "data": {
                        "text/plain": [
                            "        sbsj   size\n",
                            "369  54220.0      4\n",
                            "691  76590.0      4\n",
                            "434  70800.0      4\n",
                            "559  74210.0      4\n",
                            "595  74800.0      4\n",
                            "..       ...    ...\n",
                            "78      30.0  25950\n",
                            "86     110.0  25950\n",
                            "81      60.0  25962\n",
                            "74     -10.0  26532\n",
                            "73     -20.0  26899\n",
                            "\n",
                            "[2110 rows x 2 columns]"
                        ],
                        "text/html": [
                            "<div>\n",
                            "<style scoped>\n",
                            "    .dataframe tbody tr th:only-of-type {\n",
                            "        vertical-align: middle;\n",
                            "    }\n",
                            "\n",
                            "    .dataframe tbody tr th {\n",
                            "        vertical-align: top;\n",
                            "    }\n",
                            "\n",
                            "    .dataframe thead th {\n",
                            "        text-align: right;\n",
                            "    }\n",
                            "</style>\n",
                            "<table border=\"1\" class=\"dataframe\">\n",
                            "  <thead>\n",
                            "    <tr style=\"text-align: right;\">\n",
                            "      <th></th>\n",
                            "      <th>sbsj</th>\n",
                            "      <th>size</th>\n",
                            "    </tr>\n",
                            "  </thead>\n",
                            "  <tbody>\n",
                            "    <tr>\n",
                            "      <th>369</th>\n",
                            "      <td>54220.0</td>\n",
                            "      <td>4</td>\n",
                            "    </tr>\n",
                            "    <tr>\n",
                            "      <th>691</th>\n",
                            "      <td>76590.0</td>\n",
                            "      <td>4</td>\n",
                            "    </tr>\n",
                            "    <tr>\n",
                            "      <th>434</th>\n",
                            "      <td>70800.0</td>\n",
                            "      <td>4</td>\n",
                            "    </tr>\n",
                            "    <tr>\n",
                            "      <th>559</th>\n",
                            "      <td>74210.0</td>\n",
                            "      <td>4</td>\n",
                            "    </tr>\n",
                            "    <tr>\n",
                            "      <th>595</th>\n",
                            "      <td>74800.0</td>\n",
                            "      <td>4</td>\n",
                            "    </tr>\n",
                            "    <tr>\n",
                            "      <th>...</th>\n",
                            "      <td>...</td>\n",
                            "      <td>...</td>\n",
                            "    </tr>\n",
                            "    <tr>\n",
                            "      <th>78</th>\n",
                            "      <td>30.0</td>\n",
                            "      <td>25950</td>\n",
                            "    </tr>\n",
                            "    <tr>\n",
                            "      <th>86</th>\n",
                            "      <td>110.0</td>\n",
                            "      <td>25950</td>\n",
                            "    </tr>\n",
                            "    <tr>\n",
                            "      <th>81</th>\n",
                            "      <td>60.0</td>\n",
                            "      <td>25962</td>\n",
                            "    </tr>\n",
                            "    <tr>\n",
                            "      <th>74</th>\n",
                            "      <td>-10.0</td>\n",
                            "      <td>26532</td>\n",
                            "    </tr>\n",
                            "    <tr>\n",
                            "      <th>73</th>\n",
                            "      <td>-20.0</td>\n",
                            "      <td>26899</td>\n",
                            "    </tr>\n",
                            "  </tbody>\n",
                            "</table>\n",
                            "<p>2110 rows × 2 columns</p>\n",
                            "</div>"
                        ]
                    },
                    "metadata": {},
                    "execution_count": 77
                }
            ],
            "metadata": {}
        },
        {
            "cell_type": "code",
            "execution_count": 109,
            "source": [
                "# Accuracy\n",
                "# ___________________________\n",
                "\n",
                "# Prepare dataframe with \n",
                "\n",
                "preplay = df[df.sbsj.isin([120,90,60,30,-10])][['market_id', 'selection_id', 'win', 'sbsj', 'back_best']].sort_values(['market_id', 'selection_id', 'sbsj'], ascending = [True, True, False]).rename(columns={'back_best': 'odds'}).assign(type = lambda x: \"seconds before off: \" + x['sbsj'].astype(str))\n",
                "bsp = df.sort_values(['market_id', 'selection_id', 'time'], ascending = [True, True, False]).groupby(['market_id', 'selection_id']).head(1)[['market_id', 'selection_id', 'win', 'sbsj', 'bsp']].rename(columns={'bsp': 'odds'}).assign(type = \"bsp\")\n",
                "\n",
                "accuracyFrame = pd.concat([preplay, bsp]).dropna()\n",
                "accuracyFrame"
            ],
            "outputs": [
                {
                    "output_type": "execute_result",
                    "data": {
                        "text/plain": [
                            "          market_id selection_id  win   sbsj   odds                       type\n",
                            "280770  1.181289390      2004182    0  120.0   3.85  seconds before off: 120.0\n",
                            "280773  1.181289390      2004182    0   90.0   3.80   seconds before off: 90.0\n",
                            "280776  1.181289390      2004182    0   60.0   3.80   seconds before off: 60.0\n",
                            "280779  1.181289390      2004182    0   30.0   3.90   seconds before off: 30.0\n",
                            "280783  1.181289390      2004182    0  -10.0   3.80  seconds before off: -10.0\n",
                            "...             ...          ...  ...    ...    ...                        ...\n",
                            "6594    1.184845396     24644026    0  -20.0  39.58                        bsp\n",
                            "6662    1.184845396     28640078    0  -20.0  13.24                        bsp\n",
                            "6645    1.184845396     37583926    0  -20.0  70.42                        bsp\n",
                            "6628    1.184845396     37996263    1  -20.0   5.97                        bsp\n",
                            "6611    1.184845396     39990425    0  -20.0   2.64                        bsp\n",
                            "\n",
                            "[156312 rows x 6 columns]"
                        ],
                        "text/html": [
                            "<div>\n",
                            "<style scoped>\n",
                            "    .dataframe tbody tr th:only-of-type {\n",
                            "        vertical-align: middle;\n",
                            "    }\n",
                            "\n",
                            "    .dataframe tbody tr th {\n",
                            "        vertical-align: top;\n",
                            "    }\n",
                            "\n",
                            "    .dataframe thead th {\n",
                            "        text-align: right;\n",
                            "    }\n",
                            "</style>\n",
                            "<table border=\"1\" class=\"dataframe\">\n",
                            "  <thead>\n",
                            "    <tr style=\"text-align: right;\">\n",
                            "      <th></th>\n",
                            "      <th>market_id</th>\n",
                            "      <th>selection_id</th>\n",
                            "      <th>win</th>\n",
                            "      <th>sbsj</th>\n",
                            "      <th>odds</th>\n",
                            "      <th>type</th>\n",
                            "    </tr>\n",
                            "  </thead>\n",
                            "  <tbody>\n",
                            "    <tr>\n",
                            "      <th>280770</th>\n",
                            "      <td>1.181289390</td>\n",
                            "      <td>2004182</td>\n",
                            "      <td>0</td>\n",
                            "      <td>120.0</td>\n",
                            "      <td>3.85</td>\n",
                            "      <td>seconds before off: 120.0</td>\n",
                            "    </tr>\n",
                            "    <tr>\n",
                            "      <th>280773</th>\n",
                            "      <td>1.181289390</td>\n",
                            "      <td>2004182</td>\n",
                            "      <td>0</td>\n",
                            "      <td>90.0</td>\n",
                            "      <td>3.80</td>\n",
                            "      <td>seconds before off: 90.0</td>\n",
                            "    </tr>\n",
                            "    <tr>\n",
                            "      <th>280776</th>\n",
                            "      <td>1.181289390</td>\n",
                            "      <td>2004182</td>\n",
                            "      <td>0</td>\n",
                            "      <td>60.0</td>\n",
                            "      <td>3.80</td>\n",
                            "      <td>seconds before off: 60.0</td>\n",
                            "    </tr>\n",
                            "    <tr>\n",
                            "      <th>280779</th>\n",
                            "      <td>1.181289390</td>\n",
                            "      <td>2004182</td>\n",
                            "      <td>0</td>\n",
                            "      <td>30.0</td>\n",
                            "      <td>3.90</td>\n",
                            "      <td>seconds before off: 30.0</td>\n",
                            "    </tr>\n",
                            "    <tr>\n",
                            "      <th>280783</th>\n",
                            "      <td>1.181289390</td>\n",
                            "      <td>2004182</td>\n",
                            "      <td>0</td>\n",
                            "      <td>-10.0</td>\n",
                            "      <td>3.80</td>\n",
                            "      <td>seconds before off: -10.0</td>\n",
                            "    </tr>\n",
                            "    <tr>\n",
                            "      <th>...</th>\n",
                            "      <td>...</td>\n",
                            "      <td>...</td>\n",
                            "      <td>...</td>\n",
                            "      <td>...</td>\n",
                            "      <td>...</td>\n",
                            "      <td>...</td>\n",
                            "    </tr>\n",
                            "    <tr>\n",
                            "      <th>6594</th>\n",
                            "      <td>1.184845396</td>\n",
                            "      <td>24644026</td>\n",
                            "      <td>0</td>\n",
                            "      <td>-20.0</td>\n",
                            "      <td>39.58</td>\n",
                            "      <td>bsp</td>\n",
                            "    </tr>\n",
                            "    <tr>\n",
                            "      <th>6662</th>\n",
                            "      <td>1.184845396</td>\n",
                            "      <td>28640078</td>\n",
                            "      <td>0</td>\n",
                            "      <td>-20.0</td>\n",
                            "      <td>13.24</td>\n",
                            "      <td>bsp</td>\n",
                            "    </tr>\n",
                            "    <tr>\n",
                            "      <th>6645</th>\n",
                            "      <td>1.184845396</td>\n",
                            "      <td>37583926</td>\n",
                            "      <td>0</td>\n",
                            "      <td>-20.0</td>\n",
                            "      <td>70.42</td>\n",
                            "      <td>bsp</td>\n",
                            "    </tr>\n",
                            "    <tr>\n",
                            "      <th>6628</th>\n",
                            "      <td>1.184845396</td>\n",
                            "      <td>37996263</td>\n",
                            "      <td>1</td>\n",
                            "      <td>-20.0</td>\n",
                            "      <td>5.97</td>\n",
                            "      <td>bsp</td>\n",
                            "    </tr>\n",
                            "    <tr>\n",
                            "      <th>6611</th>\n",
                            "      <td>1.184845396</td>\n",
                            "      <td>39990425</td>\n",
                            "      <td>0</td>\n",
                            "      <td>-20.0</td>\n",
                            "      <td>2.64</td>\n",
                            "      <td>bsp</td>\n",
                            "    </tr>\n",
                            "  </tbody>\n",
                            "</table>\n",
                            "<p>156312 rows × 6 columns</p>\n",
                            "</div>"
                        ]
                    },
                    "metadata": {},
                    "execution_count": 109
                }
            ],
            "metadata": {}
        },
        {
            "cell_type": "code",
            "execution_count": 110,
            "source": [
                "# Implied chance vs Actual chance ++++++++++++++++++++++++++++++++++++++++\n",
                "\n",
                "# BSP Only\n",
                "# __________________\n",
                "\n",
                "winRates = (\n",
                "    accuracyFrame\n",
                "    .query('type == \"bsp\"')\n",
                "    .assign(implied_chance = lambda x: round(20 * (1 / x['odds']))/20)\n",
                "    .groupby('implied_chance', as_index = False)\n",
                "    .agg({'win': 'mean'})\n",
                ")\n",
                "\n",
                "fig = px.scatter(winRates, x = \"implied_chance\", y = \"win\", template = \"plotly_white\", title = \"BSP: implied win vs actual win\")\n",
                "fig.add_trace(\n",
                "    go.Scatter(\n",
                "        x = winRates.implied_chance, y = winRates.implied_chance, name = 'no bias', line_color = 'rgba(8,61,119, 0.3)'\n",
                "    )\n",
                ")\n",
                "fig.show()"
            ],
            "outputs": [
                {
                    "output_type": "display_data",
                    "data": {
                        "application/vnd.plotly.v1+json": {
                            "config": {
                                "plotlyServerURL": "https://plot.ly"
                            },
                            "data": [
                                {
                                    "hovertemplate": "implied_chance=%{x}<br>win=%{y}<extra></extra>",
                                    "legendgroup": "",
                                    "marker": {
                                        "color": "#636efa",
                                        "symbol": "circle"
                                    },
                                    "mode": "markers",
                                    "name": "",
                                    "orientation": "v",
                                    "showlegend": false,
                                    "type": "scatter",
                                    "x": [
                                        0,
                                        0.05,
                                        0.1,
                                        0.15,
                                        0.2,
                                        0.25,
                                        0.3,
                                        0.35,
                                        0.4,
                                        0.45,
                                        0.5,
                                        0.55,
                                        0.6,
                                        0.65,
                                        0.7,
                                        0.75,
                                        0.8,
                                        0.85,
                                        0.9
                                    ],
                                    "xaxis": "x",
                                    "y": [
                                        0.010752688172043012,
                                        0.04838090362216818,
                                        0.1002921129503408,
                                        0.15198412698412697,
                                        0.1954756380510441,
                                        0.24932975871313673,
                                        0.321285140562249,
                                        0.3092979127134725,
                                        0.35555555555555557,
                                        0.41081081081081083,
                                        0.4875,
                                        0.5495495495495496,
                                        0.6388888888888888,
                                        0.6451612903225806,
                                        0.7222222222222222,
                                        1,
                                        0.75,
                                        1,
                                        1
                                    ],
                                    "yaxis": "y"
                                },
                                {
                                    "line": {
                                        "color": "rgba(8,61,119, 0.3)"
                                    },
                                    "name": "no bias",
                                    "type": "scatter",
                                    "x": [
                                        0,
                                        0.05,
                                        0.1,
                                        0.15,
                                        0.2,
                                        0.25,
                                        0.3,
                                        0.35,
                                        0.4,
                                        0.45,
                                        0.5,
                                        0.55,
                                        0.6,
                                        0.65,
                                        0.7,
                                        0.75,
                                        0.8,
                                        0.85,
                                        0.9
                                    ],
                                    "y": [
                                        0,
                                        0.05,
                                        0.1,
                                        0.15,
                                        0.2,
                                        0.25,
                                        0.3,
                                        0.35,
                                        0.4,
                                        0.45,
                                        0.5,
                                        0.55,
                                        0.6,
                                        0.65,
                                        0.7,
                                        0.75,
                                        0.8,
                                        0.85,
                                        0.9
                                    ]
                                }
                            ],
                            "layout": {
                                "legend": {
                                    "tracegroupgap": 0
                                },
                                "template": {
                                    "data": {
                                        "bar": [
                                            {
                                                "error_x": {
                                                    "color": "#2a3f5f"
                                                },
                                                "error_y": {
                                                    "color": "#2a3f5f"
                                                },
                                                "marker": {
                                                    "line": {
                                                        "color": "white",
                                                        "width": 0.5
                                                    },
                                                    "pattern": {
                                                        "fillmode": "overlay",
                                                        "size": 10,
                                                        "solidity": 0.2
                                                    }
                                                },
                                                "type": "bar"
                                            }
                                        ],
                                        "barpolar": [
                                            {
                                                "marker": {
                                                    "line": {
                                                        "color": "white",
                                                        "width": 0.5
                                                    },
                                                    "pattern": {
                                                        "fillmode": "overlay",
                                                        "size": 10,
                                                        "solidity": 0.2
                                                    }
                                                },
                                                "type": "barpolar"
                                            }
                                        ],
                                        "carpet": [
                                            {
                                                "aaxis": {
                                                    "endlinecolor": "#2a3f5f",
                                                    "gridcolor": "#C8D4E3",
                                                    "linecolor": "#C8D4E3",
                                                    "minorgridcolor": "#C8D4E3",
                                                    "startlinecolor": "#2a3f5f"
                                                },
                                                "baxis": {
                                                    "endlinecolor": "#2a3f5f",
                                                    "gridcolor": "#C8D4E3",
                                                    "linecolor": "#C8D4E3",
                                                    "minorgridcolor": "#C8D4E3",
                                                    "startlinecolor": "#2a3f5f"
                                                },
                                                "type": "carpet"
                                            }
                                        ],
                                        "choropleth": [
                                            {
                                                "colorbar": {
                                                    "outlinewidth": 0,
                                                    "ticks": ""
                                                },
                                                "type": "choropleth"
                                            }
                                        ],
                                        "contour": [
                                            {
                                                "colorbar": {
                                                    "outlinewidth": 0,
                                                    "ticks": ""
                                                },
                                                "colorscale": [
                                                    [
                                                        0,
                                                        "#0d0887"
                                                    ],
                                                    [
                                                        0.1111111111111111,
                                                        "#46039f"
                                                    ],
                                                    [
                                                        0.2222222222222222,
                                                        "#7201a8"
                                                    ],
                                                    [
                                                        0.3333333333333333,
                                                        "#9c179e"
                                                    ],
                                                    [
                                                        0.4444444444444444,
                                                        "#bd3786"
                                                    ],
                                                    [
                                                        0.5555555555555556,
                                                        "#d8576b"
                                                    ],
                                                    [
                                                        0.6666666666666666,
                                                        "#ed7953"
                                                    ],
                                                    [
                                                        0.7777777777777778,
                                                        "#fb9f3a"
                                                    ],
                                                    [
                                                        0.8888888888888888,
                                                        "#fdca26"
                                                    ],
                                                    [
                                                        1,
                                                        "#f0f921"
                                                    ]
                                                ],
                                                "type": "contour"
                                            }
                                        ],
                                        "contourcarpet": [
                                            {
                                                "colorbar": {
                                                    "outlinewidth": 0,
                                                    "ticks": ""
                                                },
                                                "type": "contourcarpet"
                                            }
                                        ],
                                        "heatmap": [
                                            {
                                                "colorbar": {
                                                    "outlinewidth": 0,
                                                    "ticks": ""
                                                },
                                                "colorscale": [
                                                    [
                                                        0,
                                                        "#0d0887"
                                                    ],
                                                    [
                                                        0.1111111111111111,
                                                        "#46039f"
                                                    ],
                                                    [
                                                        0.2222222222222222,
                                                        "#7201a8"
                                                    ],
                                                    [
                                                        0.3333333333333333,
                                                        "#9c179e"
                                                    ],
                                                    [
                                                        0.4444444444444444,
                                                        "#bd3786"
                                                    ],
                                                    [
                                                        0.5555555555555556,
                                                        "#d8576b"
                                                    ],
                                                    [
                                                        0.6666666666666666,
                                                        "#ed7953"
                                                    ],
                                                    [
                                                        0.7777777777777778,
                                                        "#fb9f3a"
                                                    ],
                                                    [
                                                        0.8888888888888888,
                                                        "#fdca26"
                                                    ],
                                                    [
                                                        1,
                                                        "#f0f921"
                                                    ]
                                                ],
                                                "type": "heatmap"
                                            }
                                        ],
                                        "heatmapgl": [
                                            {
                                                "colorbar": {
                                                    "outlinewidth": 0,
                                                    "ticks": ""
                                                },
                                                "colorscale": [
                                                    [
                                                        0,
                                                        "#0d0887"
                                                    ],
                                                    [
                                                        0.1111111111111111,
                                                        "#46039f"
                                                    ],
                                                    [
                                                        0.2222222222222222,
                                                        "#7201a8"
                                                    ],
                                                    [
                                                        0.3333333333333333,
                                                        "#9c179e"
                                                    ],
                                                    [
                                                        0.4444444444444444,
                                                        "#bd3786"
                                                    ],
                                                    [
                                                        0.5555555555555556,
                                                        "#d8576b"
                                                    ],
                                                    [
                                                        0.6666666666666666,
                                                        "#ed7953"
                                                    ],
                                                    [
                                                        0.7777777777777778,
                                                        "#fb9f3a"
                                                    ],
                                                    [
                                                        0.8888888888888888,
                                                        "#fdca26"
                                                    ],
                                                    [
                                                        1,
                                                        "#f0f921"
                                                    ]
                                                ],
                                                "type": "heatmapgl"
                                            }
                                        ],
                                        "histogram": [
                                            {
                                                "marker": {
                                                    "pattern": {
                                                        "fillmode": "overlay",
                                                        "size": 10,
                                                        "solidity": 0.2
                                                    }
                                                },
                                                "type": "histogram"
                                            }
                                        ],
                                        "histogram2d": [
                                            {
                                                "colorbar": {
                                                    "outlinewidth": 0,
                                                    "ticks": ""
                                                },
                                                "colorscale": [
                                                    [
                                                        0,
                                                        "#0d0887"
                                                    ],
                                                    [
                                                        0.1111111111111111,
                                                        "#46039f"
                                                    ],
                                                    [
                                                        0.2222222222222222,
                                                        "#7201a8"
                                                    ],
                                                    [
                                                        0.3333333333333333,
                                                        "#9c179e"
                                                    ],
                                                    [
                                                        0.4444444444444444,
                                                        "#bd3786"
                                                    ],
                                                    [
                                                        0.5555555555555556,
                                                        "#d8576b"
                                                    ],
                                                    [
                                                        0.6666666666666666,
                                                        "#ed7953"
                                                    ],
                                                    [
                                                        0.7777777777777778,
                                                        "#fb9f3a"
                                                    ],
                                                    [
                                                        0.8888888888888888,
                                                        "#fdca26"
                                                    ],
                                                    [
                                                        1,
                                                        "#f0f921"
                                                    ]
                                                ],
                                                "type": "histogram2d"
                                            }
                                        ],
                                        "histogram2dcontour": [
                                            {
                                                "colorbar": {
                                                    "outlinewidth": 0,
                                                    "ticks": ""
                                                },
                                                "colorscale": [
                                                    [
                                                        0,
                                                        "#0d0887"
                                                    ],
                                                    [
                                                        0.1111111111111111,
                                                        "#46039f"
                                                    ],
                                                    [
                                                        0.2222222222222222,
                                                        "#7201a8"
                                                    ],
                                                    [
                                                        0.3333333333333333,
                                                        "#9c179e"
                                                    ],
                                                    [
                                                        0.4444444444444444,
                                                        "#bd3786"
                                                    ],
                                                    [
                                                        0.5555555555555556,
                                                        "#d8576b"
                                                    ],
                                                    [
                                                        0.6666666666666666,
                                                        "#ed7953"
                                                    ],
                                                    [
                                                        0.7777777777777778,
                                                        "#fb9f3a"
                                                    ],
                                                    [
                                                        0.8888888888888888,
                                                        "#fdca26"
                                                    ],
                                                    [
                                                        1,
                                                        "#f0f921"
                                                    ]
                                                ],
                                                "type": "histogram2dcontour"
                                            }
                                        ],
                                        "mesh3d": [
                                            {
                                                "colorbar": {
                                                    "outlinewidth": 0,
                                                    "ticks": ""
                                                },
                                                "type": "mesh3d"
                                            }
                                        ],
                                        "parcoords": [
                                            {
                                                "line": {
                                                    "colorbar": {
                                                        "outlinewidth": 0,
                                                        "ticks": ""
                                                    }
                                                },
                                                "type": "parcoords"
                                            }
                                        ],
                                        "pie": [
                                            {
                                                "automargin": true,
                                                "type": "pie"
                                            }
                                        ],
                                        "scatter": [
                                            {
                                                "marker": {
                                                    "colorbar": {
                                                        "outlinewidth": 0,
                                                        "ticks": ""
                                                    }
                                                },
                                                "type": "scatter"
                                            }
                                        ],
                                        "scatter3d": [
                                            {
                                                "line": {
                                                    "colorbar": {
                                                        "outlinewidth": 0,
                                                        "ticks": ""
                                                    }
                                                },
                                                "marker": {
                                                    "colorbar": {
                                                        "outlinewidth": 0,
                                                        "ticks": ""
                                                    }
                                                },
                                                "type": "scatter3d"
                                            }
                                        ],
                                        "scattercarpet": [
                                            {
                                                "marker": {
                                                    "colorbar": {
                                                        "outlinewidth": 0,
                                                        "ticks": ""
                                                    }
                                                },
                                                "type": "scattercarpet"
                                            }
                                        ],
                                        "scattergeo": [
                                            {
                                                "marker": {
                                                    "colorbar": {
                                                        "outlinewidth": 0,
                                                        "ticks": ""
                                                    }
                                                },
                                                "type": "scattergeo"
                                            }
                                        ],
                                        "scattergl": [
                                            {
                                                "marker": {
                                                    "colorbar": {
                                                        "outlinewidth": 0,
                                                        "ticks": ""
                                                    }
                                                },
                                                "type": "scattergl"
                                            }
                                        ],
                                        "scattermapbox": [
                                            {
                                                "marker": {
                                                    "colorbar": {
                                                        "outlinewidth": 0,
                                                        "ticks": ""
                                                    }
                                                },
                                                "type": "scattermapbox"
                                            }
                                        ],
                                        "scatterpolar": [
                                            {
                                                "marker": {
                                                    "colorbar": {
                                                        "outlinewidth": 0,
                                                        "ticks": ""
                                                    }
                                                },
                                                "type": "scatterpolar"
                                            }
                                        ],
                                        "scatterpolargl": [
                                            {
                                                "marker": {
                                                    "colorbar": {
                                                        "outlinewidth": 0,
                                                        "ticks": ""
                                                    }
                                                },
                                                "type": "scatterpolargl"
                                            }
                                        ],
                                        "scatterternary": [
                                            {
                                                "marker": {
                                                    "colorbar": {
                                                        "outlinewidth": 0,
                                                        "ticks": ""
                                                    }
                                                },
                                                "type": "scatterternary"
                                            }
                                        ],
                                        "surface": [
                                            {
                                                "colorbar": {
                                                    "outlinewidth": 0,
                                                    "ticks": ""
                                                },
                                                "colorscale": [
                                                    [
                                                        0,
                                                        "#0d0887"
                                                    ],
                                                    [
                                                        0.1111111111111111,
                                                        "#46039f"
                                                    ],
                                                    [
                                                        0.2222222222222222,
                                                        "#7201a8"
                                                    ],
                                                    [
                                                        0.3333333333333333,
                                                        "#9c179e"
                                                    ],
                                                    [
                                                        0.4444444444444444,
                                                        "#bd3786"
                                                    ],
                                                    [
                                                        0.5555555555555556,
                                                        "#d8576b"
                                                    ],
                                                    [
                                                        0.6666666666666666,
                                                        "#ed7953"
                                                    ],
                                                    [
                                                        0.7777777777777778,
                                                        "#fb9f3a"
                                                    ],
                                                    [
                                                        0.8888888888888888,
                                                        "#fdca26"
                                                    ],
                                                    [
                                                        1,
                                                        "#f0f921"
                                                    ]
                                                ],
                                                "type": "surface"
                                            }
                                        ],
                                        "table": [
                                            {
                                                "cells": {
                                                    "fill": {
                                                        "color": "#EBF0F8"
                                                    },
                                                    "line": {
                                                        "color": "white"
                                                    }
                                                },
                                                "header": {
                                                    "fill": {
                                                        "color": "#C8D4E3"
                                                    },
                                                    "line": {
                                                        "color": "white"
                                                    }
                                                },
                                                "type": "table"
                                            }
                                        ]
                                    },
                                    "layout": {
                                        "annotationdefaults": {
                                            "arrowcolor": "#2a3f5f",
                                            "arrowhead": 0,
                                            "arrowwidth": 1
                                        },
                                        "autotypenumbers": "strict",
                                        "coloraxis": {
                                            "colorbar": {
                                                "outlinewidth": 0,
                                                "ticks": ""
                                            }
                                        },
                                        "colorscale": {
                                            "diverging": [
                                                [
                                                    0,
                                                    "#8e0152"
                                                ],
                                                [
                                                    0.1,
                                                    "#c51b7d"
                                                ],
                                                [
                                                    0.2,
                                                    "#de77ae"
                                                ],
                                                [
                                                    0.3,
                                                    "#f1b6da"
                                                ],
                                                [
                                                    0.4,
                                                    "#fde0ef"
                                                ],
                                                [
                                                    0.5,
                                                    "#f7f7f7"
                                                ],
                                                [
                                                    0.6,
                                                    "#e6f5d0"
                                                ],
                                                [
                                                    0.7,
                                                    "#b8e186"
                                                ],
                                                [
                                                    0.8,
                                                    "#7fbc41"
                                                ],
                                                [
                                                    0.9,
                                                    "#4d9221"
                                                ],
                                                [
                                                    1,
                                                    "#276419"
                                                ]
                                            ],
                                            "sequential": [
                                                [
                                                    0,
                                                    "#0d0887"
                                                ],
                                                [
                                                    0.1111111111111111,
                                                    "#46039f"
                                                ],
                                                [
                                                    0.2222222222222222,
                                                    "#7201a8"
                                                ],
                                                [
                                                    0.3333333333333333,
                                                    "#9c179e"
                                                ],
                                                [
                                                    0.4444444444444444,
                                                    "#bd3786"
                                                ],
                                                [
                                                    0.5555555555555556,
                                                    "#d8576b"
                                                ],
                                                [
                                                    0.6666666666666666,
                                                    "#ed7953"
                                                ],
                                                [
                                                    0.7777777777777778,
                                                    "#fb9f3a"
                                                ],
                                                [
                                                    0.8888888888888888,
                                                    "#fdca26"
                                                ],
                                                [
                                                    1,
                                                    "#f0f921"
                                                ]
                                            ],
                                            "sequentialminus": [
                                                [
                                                    0,
                                                    "#0d0887"
                                                ],
                                                [
                                                    0.1111111111111111,
                                                    "#46039f"
                                                ],
                                                [
                                                    0.2222222222222222,
                                                    "#7201a8"
                                                ],
                                                [
                                                    0.3333333333333333,
                                                    "#9c179e"
                                                ],
                                                [
                                                    0.4444444444444444,
                                                    "#bd3786"
                                                ],
                                                [
                                                    0.5555555555555556,
                                                    "#d8576b"
                                                ],
                                                [
                                                    0.6666666666666666,
                                                    "#ed7953"
                                                ],
                                                [
                                                    0.7777777777777778,
                                                    "#fb9f3a"
                                                ],
                                                [
                                                    0.8888888888888888,
                                                    "#fdca26"
                                                ],
                                                [
                                                    1,
                                                    "#f0f921"
                                                ]
                                            ]
                                        },
                                        "colorway": [
                                            "#636efa",
                                            "#EF553B",
                                            "#00cc96",
                                            "#ab63fa",
                                            "#FFA15A",
                                            "#19d3f3",
                                            "#FF6692",
                                            "#B6E880",
                                            "#FF97FF",
                                            "#FECB52"
                                        ],
                                        "font": {
                                            "color": "#2a3f5f"
                                        },
                                        "geo": {
                                            "bgcolor": "white",
                                            "lakecolor": "white",
                                            "landcolor": "white",
                                            "showlakes": true,
                                            "showland": true,
                                            "subunitcolor": "#C8D4E3"
                                        },
                                        "hoverlabel": {
                                            "align": "left"
                                        },
                                        "hovermode": "closest",
                                        "mapbox": {
                                            "style": "light"
                                        },
                                        "paper_bgcolor": "white",
                                        "plot_bgcolor": "white",
                                        "polar": {
                                            "angularaxis": {
                                                "gridcolor": "#EBF0F8",
                                                "linecolor": "#EBF0F8",
                                                "ticks": ""
                                            },
                                            "bgcolor": "white",
                                            "radialaxis": {
                                                "gridcolor": "#EBF0F8",
                                                "linecolor": "#EBF0F8",
                                                "ticks": ""
                                            }
                                        },
                                        "scene": {
                                            "xaxis": {
                                                "backgroundcolor": "white",
                                                "gridcolor": "#DFE8F3",
                                                "gridwidth": 2,
                                                "linecolor": "#EBF0F8",
                                                "showbackground": true,
                                                "ticks": "",
                                                "zerolinecolor": "#EBF0F8"
                                            },
                                            "yaxis": {
                                                "backgroundcolor": "white",
                                                "gridcolor": "#DFE8F3",
                                                "gridwidth": 2,
                                                "linecolor": "#EBF0F8",
                                                "showbackground": true,
                                                "ticks": "",
                                                "zerolinecolor": "#EBF0F8"
                                            },
                                            "zaxis": {
                                                "backgroundcolor": "white",
                                                "gridcolor": "#DFE8F3",
                                                "gridwidth": 2,
                                                "linecolor": "#EBF0F8",
                                                "showbackground": true,
                                                "ticks": "",
                                                "zerolinecolor": "#EBF0F8"
                                            }
                                        },
                                        "shapedefaults": {
                                            "line": {
                                                "color": "#2a3f5f"
                                            }
                                        },
                                        "ternary": {
                                            "aaxis": {
                                                "gridcolor": "#DFE8F3",
                                                "linecolor": "#A2B1C6",
                                                "ticks": ""
                                            },
                                            "baxis": {
                                                "gridcolor": "#DFE8F3",
                                                "linecolor": "#A2B1C6",
                                                "ticks": ""
                                            },
                                            "bgcolor": "white",
                                            "caxis": {
                                                "gridcolor": "#DFE8F3",
                                                "linecolor": "#A2B1C6",
                                                "ticks": ""
                                            }
                                        },
                                        "title": {
                                            "x": 0.05
                                        },
                                        "xaxis": {
                                            "automargin": true,
                                            "gridcolor": "#EBF0F8",
                                            "linecolor": "#EBF0F8",
                                            "ticks": "",
                                            "title": {
                                                "standoff": 15
                                            },
                                            "zerolinecolor": "#EBF0F8",
                                            "zerolinewidth": 2
                                        },
                                        "yaxis": {
                                            "automargin": true,
                                            "gridcolor": "#EBF0F8",
                                            "linecolor": "#EBF0F8",
                                            "ticks": "",
                                            "title": {
                                                "standoff": 15
                                            },
                                            "zerolinecolor": "#EBF0F8",
                                            "zerolinewidth": 2
                                        }
                                    }
                                },
                                "title": {
                                    "text": "BSP: implied win vs actual win"
                                },
                                "xaxis": {
                                    "anchor": "y",
                                    "domain": [
                                        0,
                                        1
                                    ],
                                    "title": {
                                        "text": "implied_chance"
                                    }
                                },
                                "yaxis": {
                                    "anchor": "x",
                                    "domain": [
                                        0,
                                        1
                                    ],
                                    "title": {
                                        "text": "win"
                                    }
                                }
                            }
                        }
                    },
                    "metadata": {}
                }
            ],
            "metadata": {}
        },
        {
            "cell_type": "code",
            "execution_count": 111,
            "source": [
                "# Odds Comparison\n",
                "# __________________\n",
                "\n",
                "winRates = (\n",
                "    accuracyFrame\n",
                "    .assign(implied_chance = lambda x: round(20 * (1 / x['odds']))/20)\n",
                "    .groupby(['type', 'implied_chance'], as_index = False)\n",
                "    .agg({'win': 'mean'})\n",
                ")\n",
                "\n",
                "fig = px.scatter(winRates, x = \"implied_chance\", y = \"win\", color = 'type', template = \"plotly_white\", title = \"Comparing Price Points: implied win vs actual win\")\n",
                "fig.add_trace(\n",
                "    go.Scatter(\n",
                "        x = winRates.implied_chance, y = winRates.implied_chance, name = 'no bias', line_color = 'rgba(8,61,119, 0.3)'\n",
                "    )\n",
                ")\n",
                "fig.show()\n"
            ],
            "outputs": [
                {
                    "output_type": "display_data",
                    "data": {
                        "application/vnd.plotly.v1+json": {
                            "config": {
                                "plotlyServerURL": "https://plot.ly"
                            },
                            "data": [
                                {
                                    "hovertemplate": "type=bsp<br>implied_chance=%{x}<br>win=%{y}<extra></extra>",
                                    "legendgroup": "bsp",
                                    "marker": {
                                        "color": "#636efa",
                                        "symbol": "circle"
                                    },
                                    "mode": "markers",
                                    "name": "bsp",
                                    "orientation": "v",
                                    "showlegend": true,
                                    "type": "scatter",
                                    "x": [
                                        0,
                                        0.05,
                                        0.1,
                                        0.15,
                                        0.2,
                                        0.25,
                                        0.3,
                                        0.35,
                                        0.4,
                                        0.45,
                                        0.5,
                                        0.55,
                                        0.6,
                                        0.65,
                                        0.7,
                                        0.75,
                                        0.8,
                                        0.85,
                                        0.9
                                    ],
                                    "xaxis": "x",
                                    "y": [
                                        0.010752688172043012,
                                        0.04838090362216818,
                                        0.1002921129503408,
                                        0.15198412698412697,
                                        0.1954756380510441,
                                        0.24932975871313673,
                                        0.321285140562249,
                                        0.3092979127134725,
                                        0.35555555555555557,
                                        0.41081081081081083,
                                        0.4875,
                                        0.5495495495495496,
                                        0.6388888888888888,
                                        0.6451612903225806,
                                        0.7222222222222222,
                                        1,
                                        0.75,
                                        1,
                                        1
                                    ],
                                    "yaxis": "y"
                                },
                                {
                                    "hovertemplate": "type=seconds before off: -10.0<br>implied_chance=%{x}<br>win=%{y}<extra></extra>",
                                    "legendgroup": "seconds before off: -10.0",
                                    "marker": {
                                        "color": "#EF553B",
                                        "symbol": "circle"
                                    },
                                    "mode": "markers",
                                    "name": "seconds before off: -10.0",
                                    "orientation": "v",
                                    "showlegend": true,
                                    "type": "scatter",
                                    "x": [
                                        0,
                                        0.05,
                                        0.1,
                                        0.15,
                                        0.2,
                                        0.25,
                                        0.3,
                                        0.35,
                                        0.4,
                                        0.45,
                                        0.5,
                                        0.55,
                                        0.6,
                                        0.65,
                                        0.7,
                                        0.75,
                                        0.8,
                                        0.85,
                                        0.95
                                    ],
                                    "xaxis": "x",
                                    "y": [
                                        0.010570824524312896,
                                        0.046774801961523955,
                                        0.10230479774223894,
                                        0.14781906300484654,
                                        0.20695457094784073,
                                        0.22985581000848176,
                                        0.32333767926988266,
                                        0.31047619047619046,
                                        0.3547486033519553,
                                        0.425531914893617,
                                        0.4662576687116564,
                                        0.6,
                                        0.6022727272727273,
                                        0.65625,
                                        0.7142857142857143,
                                        1,
                                        0.8571428571428571,
                                        1,
                                        1
                                    ],
                                    "yaxis": "y"
                                },
                                {
                                    "hovertemplate": "type=seconds before off: 120.0<br>implied_chance=%{x}<br>win=%{y}<extra></extra>",
                                    "legendgroup": "seconds before off: 120.0",
                                    "marker": {
                                        "color": "#00cc96",
                                        "symbol": "circle"
                                    },
                                    "mode": "markers",
                                    "name": "seconds before off: 120.0",
                                    "orientation": "v",
                                    "showlegend": true,
                                    "type": "scatter",
                                    "x": [
                                        0,
                                        0.05,
                                        0.1,
                                        0.15,
                                        0.2,
                                        0.25,
                                        0.3,
                                        0.35,
                                        0.4,
                                        0.45,
                                        0.5,
                                        0.55,
                                        0.6,
                                        0.65,
                                        0.7,
                                        0.75,
                                        0.8,
                                        0.85,
                                        0.9
                                    ],
                                    "xaxis": "x",
                                    "y": [
                                        0.010078387458006719,
                                        0.04818973129809512,
                                        0.09745055992375506,
                                        0.1505901505901506,
                                        0.2017291066282421,
                                        0.25,
                                        0.2884882108183079,
                                        0.329136690647482,
                                        0.32094594594594594,
                                        0.4271356783919598,
                                        0.5308641975308642,
                                        0.5588235294117647,
                                        0.5428571428571428,
                                        0.6666666666666666,
                                        0.8636363636363636,
                                        1,
                                        0.8333333333333334,
                                        1,
                                        1
                                    ],
                                    "yaxis": "y"
                                },
                                {
                                    "hovertemplate": "type=seconds before off: 30.0<br>implied_chance=%{x}<br>win=%{y}<extra></extra>",
                                    "legendgroup": "seconds before off: 30.0",
                                    "marker": {
                                        "color": "#ab63fa",
                                        "symbol": "circle"
                                    },
                                    "mode": "markers",
                                    "name": "seconds before off: 30.0",
                                    "orientation": "v",
                                    "showlegend": true,
                                    "type": "scatter",
                                    "x": [
                                        0,
                                        0.05,
                                        0.1,
                                        0.15,
                                        0.2,
                                        0.25,
                                        0.3,
                                        0.35,
                                        0.4,
                                        0.45,
                                        0.5,
                                        0.55,
                                        0.6,
                                        0.65,
                                        0.7,
                                        0.75,
                                        0.8,
                                        0.85
                                    ],
                                    "xaxis": "x",
                                    "y": [
                                        0.01019607843137255,
                                        0.04764305520544492,
                                        0.10040835935623349,
                                        0.15264928511354078,
                                        0.20404624277456648,
                                        0.23574468085106384,
                                        0.31704095112285335,
                                        0.3207920792079208,
                                        0.33534743202416917,
                                        0.4,
                                        0.48484848484848486,
                                        0.5980392156862745,
                                        0.5783132530120482,
                                        0.7,
                                        0.8095238095238095,
                                        1,
                                        0.75,
                                        1
                                    ],
                                    "yaxis": "y"
                                },
                                {
                                    "hovertemplate": "type=seconds before off: 60.0<br>implied_chance=%{x}<br>win=%{y}<extra></extra>",
                                    "legendgroup": "seconds before off: 60.0",
                                    "marker": {
                                        "color": "#FFA15A",
                                        "symbol": "circle"
                                    },
                                    "mode": "markers",
                                    "name": "seconds before off: 60.0",
                                    "orientation": "v",
                                    "showlegend": true,
                                    "type": "scatter",
                                    "x": [
                                        0,
                                        0.05,
                                        0.1,
                                        0.15,
                                        0.2,
                                        0.25,
                                        0.3,
                                        0.35,
                                        0.4,
                                        0.45,
                                        0.5,
                                        0.55,
                                        0.6,
                                        0.65,
                                        0.7,
                                        0.75,
                                        0.8,
                                        0.85,
                                        0.9
                                    ],
                                    "xaxis": "x",
                                    "y": [
                                        0.01021370207416719,
                                        0.048295811847566344,
                                        0.1010199125789218,
                                        0.14742524916943522,
                                        0.20396600566572237,
                                        0.2451063829787234,
                                        0.2878179384203481,
                                        0.3423076923076923,
                                        0.3355263157894737,
                                        0.4166666666666667,
                                        0.47878787878787876,
                                        0.594059405940594,
                                        0.5647058823529412,
                                        0.6666666666666666,
                                        0.9090909090909091,
                                        0.8,
                                        1,
                                        1,
                                        1
                                    ],
                                    "yaxis": "y"
                                },
                                {
                                    "hovertemplate": "type=seconds before off: 90.0<br>implied_chance=%{x}<br>win=%{y}<extra></extra>",
                                    "legendgroup": "seconds before off: 90.0",
                                    "marker": {
                                        "color": "#19d3f3",
                                        "symbol": "circle"
                                    },
                                    "mode": "markers",
                                    "name": "seconds before off: 90.0",
                                    "orientation": "v",
                                    "showlegend": true,
                                    "type": "scatter",
                                    "x": [
                                        0,
                                        0.05,
                                        0.1,
                                        0.15,
                                        0.2,
                                        0.25,
                                        0.3,
                                        0.35,
                                        0.4,
                                        0.45,
                                        0.5,
                                        0.55,
                                        0.6,
                                        0.65,
                                        0.7,
                                        0.75,
                                        0.8,
                                        0.85,
                                        0.9
                                    ],
                                    "xaxis": "x",
                                    "y": [
                                        0.010429835651074588,
                                        0.04767927153155432,
                                        0.0994501553908678,
                                        0.14989648033126293,
                                        0.19932241671372106,
                                        0.24913793103448276,
                                        0.3092926490984743,
                                        0.3167259786476868,
                                        0.3215547703180212,
                                        0.4630541871921182,
                                        0.4624277456647399,
                                        0.6129032258064516,
                                        0.5,
                                        0.6875,
                                        0.9,
                                        1,
                                        0.8333333333333334,
                                        1,
                                        1
                                    ],
                                    "yaxis": "y"
                                },
                                {
                                    "line": {
                                        "color": "rgba(8,61,119, 0.3)"
                                    },
                                    "name": "no bias",
                                    "type": "scatter",
                                    "x": [
                                        0,
                                        0.05,
                                        0.1,
                                        0.15,
                                        0.2,
                                        0.25,
                                        0.3,
                                        0.35,
                                        0.4,
                                        0.45,
                                        0.5,
                                        0.55,
                                        0.6,
                                        0.65,
                                        0.7,
                                        0.75,
                                        0.8,
                                        0.85,
                                        0.9,
                                        0,
                                        0.05,
                                        0.1,
                                        0.15,
                                        0.2,
                                        0.25,
                                        0.3,
                                        0.35,
                                        0.4,
                                        0.45,
                                        0.5,
                                        0.55,
                                        0.6,
                                        0.65,
                                        0.7,
                                        0.75,
                                        0.8,
                                        0.85,
                                        0.95,
                                        0,
                                        0.05,
                                        0.1,
                                        0.15,
                                        0.2,
                                        0.25,
                                        0.3,
                                        0.35,
                                        0.4,
                                        0.45,
                                        0.5,
                                        0.55,
                                        0.6,
                                        0.65,
                                        0.7,
                                        0.75,
                                        0.8,
                                        0.85,
                                        0.9,
                                        0,
                                        0.05,
                                        0.1,
                                        0.15,
                                        0.2,
                                        0.25,
                                        0.3,
                                        0.35,
                                        0.4,
                                        0.45,
                                        0.5,
                                        0.55,
                                        0.6,
                                        0.65,
                                        0.7,
                                        0.75,
                                        0.8,
                                        0.85,
                                        0,
                                        0.05,
                                        0.1,
                                        0.15,
                                        0.2,
                                        0.25,
                                        0.3,
                                        0.35,
                                        0.4,
                                        0.45,
                                        0.5,
                                        0.55,
                                        0.6,
                                        0.65,
                                        0.7,
                                        0.75,
                                        0.8,
                                        0.85,
                                        0.9,
                                        0,
                                        0.05,
                                        0.1,
                                        0.15,
                                        0.2,
                                        0.25,
                                        0.3,
                                        0.35,
                                        0.4,
                                        0.45,
                                        0.5,
                                        0.55,
                                        0.6,
                                        0.65,
                                        0.7,
                                        0.75,
                                        0.8,
                                        0.85,
                                        0.9
                                    ],
                                    "y": [
                                        0,
                                        0.05,
                                        0.1,
                                        0.15,
                                        0.2,
                                        0.25,
                                        0.3,
                                        0.35,
                                        0.4,
                                        0.45,
                                        0.5,
                                        0.55,
                                        0.6,
                                        0.65,
                                        0.7,
                                        0.75,
                                        0.8,
                                        0.85,
                                        0.9,
                                        0,
                                        0.05,
                                        0.1,
                                        0.15,
                                        0.2,
                                        0.25,
                                        0.3,
                                        0.35,
                                        0.4,
                                        0.45,
                                        0.5,
                                        0.55,
                                        0.6,
                                        0.65,
                                        0.7,
                                        0.75,
                                        0.8,
                                        0.85,
                                        0.95,
                                        0,
                                        0.05,
                                        0.1,
                                        0.15,
                                        0.2,
                                        0.25,
                                        0.3,
                                        0.35,
                                        0.4,
                                        0.45,
                                        0.5,
                                        0.55,
                                        0.6,
                                        0.65,
                                        0.7,
                                        0.75,
                                        0.8,
                                        0.85,
                                        0.9,
                                        0,
                                        0.05,
                                        0.1,
                                        0.15,
                                        0.2,
                                        0.25,
                                        0.3,
                                        0.35,
                                        0.4,
                                        0.45,
                                        0.5,
                                        0.55,
                                        0.6,
                                        0.65,
                                        0.7,
                                        0.75,
                                        0.8,
                                        0.85,
                                        0,
                                        0.05,
                                        0.1,
                                        0.15,
                                        0.2,
                                        0.25,
                                        0.3,
                                        0.35,
                                        0.4,
                                        0.45,
                                        0.5,
                                        0.55,
                                        0.6,
                                        0.65,
                                        0.7,
                                        0.75,
                                        0.8,
                                        0.85,
                                        0.9,
                                        0,
                                        0.05,
                                        0.1,
                                        0.15,
                                        0.2,
                                        0.25,
                                        0.3,
                                        0.35,
                                        0.4,
                                        0.45,
                                        0.5,
                                        0.55,
                                        0.6,
                                        0.65,
                                        0.7,
                                        0.75,
                                        0.8,
                                        0.85,
                                        0.9
                                    ]
                                }
                            ],
                            "layout": {
                                "legend": {
                                    "title": {
                                        "text": "type"
                                    },
                                    "tracegroupgap": 0
                                },
                                "template": {
                                    "data": {
                                        "bar": [
                                            {
                                                "error_x": {
                                                    "color": "#2a3f5f"
                                                },
                                                "error_y": {
                                                    "color": "#2a3f5f"
                                                },
                                                "marker": {
                                                    "line": {
                                                        "color": "white",
                                                        "width": 0.5
                                                    },
                                                    "pattern": {
                                                        "fillmode": "overlay",
                                                        "size": 10,
                                                        "solidity": 0.2
                                                    }
                                                },
                                                "type": "bar"
                                            }
                                        ],
                                        "barpolar": [
                                            {
                                                "marker": {
                                                    "line": {
                                                        "color": "white",
                                                        "width": 0.5
                                                    },
                                                    "pattern": {
                                                        "fillmode": "overlay",
                                                        "size": 10,
                                                        "solidity": 0.2
                                                    }
                                                },
                                                "type": "barpolar"
                                            }
                                        ],
                                        "carpet": [
                                            {
                                                "aaxis": {
                                                    "endlinecolor": "#2a3f5f",
                                                    "gridcolor": "#C8D4E3",
                                                    "linecolor": "#C8D4E3",
                                                    "minorgridcolor": "#C8D4E3",
                                                    "startlinecolor": "#2a3f5f"
                                                },
                                                "baxis": {
                                                    "endlinecolor": "#2a3f5f",
                                                    "gridcolor": "#C8D4E3",
                                                    "linecolor": "#C8D4E3",
                                                    "minorgridcolor": "#C8D4E3",
                                                    "startlinecolor": "#2a3f5f"
                                                },
                                                "type": "carpet"
                                            }
                                        ],
                                        "choropleth": [
                                            {
                                                "colorbar": {
                                                    "outlinewidth": 0,
                                                    "ticks": ""
                                                },
                                                "type": "choropleth"
                                            }
                                        ],
                                        "contour": [
                                            {
                                                "colorbar": {
                                                    "outlinewidth": 0,
                                                    "ticks": ""
                                                },
                                                "colorscale": [
                                                    [
                                                        0,
                                                        "#0d0887"
                                                    ],
                                                    [
                                                        0.1111111111111111,
                                                        "#46039f"
                                                    ],
                                                    [
                                                        0.2222222222222222,
                                                        "#7201a8"
                                                    ],
                                                    [
                                                        0.3333333333333333,
                                                        "#9c179e"
                                                    ],
                                                    [
                                                        0.4444444444444444,
                                                        "#bd3786"
                                                    ],
                                                    [
                                                        0.5555555555555556,
                                                        "#d8576b"
                                                    ],
                                                    [
                                                        0.6666666666666666,
                                                        "#ed7953"
                                                    ],
                                                    [
                                                        0.7777777777777778,
                                                        "#fb9f3a"
                                                    ],
                                                    [
                                                        0.8888888888888888,
                                                        "#fdca26"
                                                    ],
                                                    [
                                                        1,
                                                        "#f0f921"
                                                    ]
                                                ],
                                                "type": "contour"
                                            }
                                        ],
                                        "contourcarpet": [
                                            {
                                                "colorbar": {
                                                    "outlinewidth": 0,
                                                    "ticks": ""
                                                },
                                                "type": "contourcarpet"
                                            }
                                        ],
                                        "heatmap": [
                                            {
                                                "colorbar": {
                                                    "outlinewidth": 0,
                                                    "ticks": ""
                                                },
                                                "colorscale": [
                                                    [
                                                        0,
                                                        "#0d0887"
                                                    ],
                                                    [
                                                        0.1111111111111111,
                                                        "#46039f"
                                                    ],
                                                    [
                                                        0.2222222222222222,
                                                        "#7201a8"
                                                    ],
                                                    [
                                                        0.3333333333333333,
                                                        "#9c179e"
                                                    ],
                                                    [
                                                        0.4444444444444444,
                                                        "#bd3786"
                                                    ],
                                                    [
                                                        0.5555555555555556,
                                                        "#d8576b"
                                                    ],
                                                    [
                                                        0.6666666666666666,
                                                        "#ed7953"
                                                    ],
                                                    [
                                                        0.7777777777777778,
                                                        "#fb9f3a"
                                                    ],
                                                    [
                                                        0.8888888888888888,
                                                        "#fdca26"
                                                    ],
                                                    [
                                                        1,
                                                        "#f0f921"
                                                    ]
                                                ],
                                                "type": "heatmap"
                                            }
                                        ],
                                        "heatmapgl": [
                                            {
                                                "colorbar": {
                                                    "outlinewidth": 0,
                                                    "ticks": ""
                                                },
                                                "colorscale": [
                                                    [
                                                        0,
                                                        "#0d0887"
                                                    ],
                                                    [
                                                        0.1111111111111111,
                                                        "#46039f"
                                                    ],
                                                    [
                                                        0.2222222222222222,
                                                        "#7201a8"
                                                    ],
                                                    [
                                                        0.3333333333333333,
                                                        "#9c179e"
                                                    ],
                                                    [
                                                        0.4444444444444444,
                                                        "#bd3786"
                                                    ],
                                                    [
                                                        0.5555555555555556,
                                                        "#d8576b"
                                                    ],
                                                    [
                                                        0.6666666666666666,
                                                        "#ed7953"
                                                    ],
                                                    [
                                                        0.7777777777777778,
                                                        "#fb9f3a"
                                                    ],
                                                    [
                                                        0.8888888888888888,
                                                        "#fdca26"
                                                    ],
                                                    [
                                                        1,
                                                        "#f0f921"
                                                    ]
                                                ],
                                                "type": "heatmapgl"
                                            }
                                        ],
                                        "histogram": [
                                            {
                                                "marker": {
                                                    "pattern": {
                                                        "fillmode": "overlay",
                                                        "size": 10,
                                                        "solidity": 0.2
                                                    }
                                                },
                                                "type": "histogram"
                                            }
                                        ],
                                        "histogram2d": [
                                            {
                                                "colorbar": {
                                                    "outlinewidth": 0,
                                                    "ticks": ""
                                                },
                                                "colorscale": [
                                                    [
                                                        0,
                                                        "#0d0887"
                                                    ],
                                                    [
                                                        0.1111111111111111,
                                                        "#46039f"
                                                    ],
                                                    [
                                                        0.2222222222222222,
                                                        "#7201a8"
                                                    ],
                                                    [
                                                        0.3333333333333333,
                                                        "#9c179e"
                                                    ],
                                                    [
                                                        0.4444444444444444,
                                                        "#bd3786"
                                                    ],
                                                    [
                                                        0.5555555555555556,
                                                        "#d8576b"
                                                    ],
                                                    [
                                                        0.6666666666666666,
                                                        "#ed7953"
                                                    ],
                                                    [
                                                        0.7777777777777778,
                                                        "#fb9f3a"
                                                    ],
                                                    [
                                                        0.8888888888888888,
                                                        "#fdca26"
                                                    ],
                                                    [
                                                        1,
                                                        "#f0f921"
                                                    ]
                                                ],
                                                "type": "histogram2d"
                                            }
                                        ],
                                        "histogram2dcontour": [
                                            {
                                                "colorbar": {
                                                    "outlinewidth": 0,
                                                    "ticks": ""
                                                },
                                                "colorscale": [
                                                    [
                                                        0,
                                                        "#0d0887"
                                                    ],
                                                    [
                                                        0.1111111111111111,
                                                        "#46039f"
                                                    ],
                                                    [
                                                        0.2222222222222222,
                                                        "#7201a8"
                                                    ],
                                                    [
                                                        0.3333333333333333,
                                                        "#9c179e"
                                                    ],
                                                    [
                                                        0.4444444444444444,
                                                        "#bd3786"
                                                    ],
                                                    [
                                                        0.5555555555555556,
                                                        "#d8576b"
                                                    ],
                                                    [
                                                        0.6666666666666666,
                                                        "#ed7953"
                                                    ],
                                                    [
                                                        0.7777777777777778,
                                                        "#fb9f3a"
                                                    ],
                                                    [
                                                        0.8888888888888888,
                                                        "#fdca26"
                                                    ],
                                                    [
                                                        1,
                                                        "#f0f921"
                                                    ]
                                                ],
                                                "type": "histogram2dcontour"
                                            }
                                        ],
                                        "mesh3d": [
                                            {
                                                "colorbar": {
                                                    "outlinewidth": 0,
                                                    "ticks": ""
                                                },
                                                "type": "mesh3d"
                                            }
                                        ],
                                        "parcoords": [
                                            {
                                                "line": {
                                                    "colorbar": {
                                                        "outlinewidth": 0,
                                                        "ticks": ""
                                                    }
                                                },
                                                "type": "parcoords"
                                            }
                                        ],
                                        "pie": [
                                            {
                                                "automargin": true,
                                                "type": "pie"
                                            }
                                        ],
                                        "scatter": [
                                            {
                                                "marker": {
                                                    "colorbar": {
                                                        "outlinewidth": 0,
                                                        "ticks": ""
                                                    }
                                                },
                                                "type": "scatter"
                                            }
                                        ],
                                        "scatter3d": [
                                            {
                                                "line": {
                                                    "colorbar": {
                                                        "outlinewidth": 0,
                                                        "ticks": ""
                                                    }
                                                },
                                                "marker": {
                                                    "colorbar": {
                                                        "outlinewidth": 0,
                                                        "ticks": ""
                                                    }
                                                },
                                                "type": "scatter3d"
                                            }
                                        ],
                                        "scattercarpet": [
                                            {
                                                "marker": {
                                                    "colorbar": {
                                                        "outlinewidth": 0,
                                                        "ticks": ""
                                                    }
                                                },
                                                "type": "scattercarpet"
                                            }
                                        ],
                                        "scattergeo": [
                                            {
                                                "marker": {
                                                    "colorbar": {
                                                        "outlinewidth": 0,
                                                        "ticks": ""
                                                    }
                                                },
                                                "type": "scattergeo"
                                            }
                                        ],
                                        "scattergl": [
                                            {
                                                "marker": {
                                                    "colorbar": {
                                                        "outlinewidth": 0,
                                                        "ticks": ""
                                                    }
                                                },
                                                "type": "scattergl"
                                            }
                                        ],
                                        "scattermapbox": [
                                            {
                                                "marker": {
                                                    "colorbar": {
                                                        "outlinewidth": 0,
                                                        "ticks": ""
                                                    }
                                                },
                                                "type": "scattermapbox"
                                            }
                                        ],
                                        "scatterpolar": [
                                            {
                                                "marker": {
                                                    "colorbar": {
                                                        "outlinewidth": 0,
                                                        "ticks": ""
                                                    }
                                                },
                                                "type": "scatterpolar"
                                            }
                                        ],
                                        "scatterpolargl": [
                                            {
                                                "marker": {
                                                    "colorbar": {
                                                        "outlinewidth": 0,
                                                        "ticks": ""
                                                    }
                                                },
                                                "type": "scatterpolargl"
                                            }
                                        ],
                                        "scatterternary": [
                                            {
                                                "marker": {
                                                    "colorbar": {
                                                        "outlinewidth": 0,
                                                        "ticks": ""
                                                    }
                                                },
                                                "type": "scatterternary"
                                            }
                                        ],
                                        "surface": [
                                            {
                                                "colorbar": {
                                                    "outlinewidth": 0,
                                                    "ticks": ""
                                                },
                                                "colorscale": [
                                                    [
                                                        0,
                                                        "#0d0887"
                                                    ],
                                                    [
                                                        0.1111111111111111,
                                                        "#46039f"
                                                    ],
                                                    [
                                                        0.2222222222222222,
                                                        "#7201a8"
                                                    ],
                                                    [
                                                        0.3333333333333333,
                                                        "#9c179e"
                                                    ],
                                                    [
                                                        0.4444444444444444,
                                                        "#bd3786"
                                                    ],
                                                    [
                                                        0.5555555555555556,
                                                        "#d8576b"
                                                    ],
                                                    [
                                                        0.6666666666666666,
                                                        "#ed7953"
                                                    ],
                                                    [
                                                        0.7777777777777778,
                                                        "#fb9f3a"
                                                    ],
                                                    [
                                                        0.8888888888888888,
                                                        "#fdca26"
                                                    ],
                                                    [
                                                        1,
                                                        "#f0f921"
                                                    ]
                                                ],
                                                "type": "surface"
                                            }
                                        ],
                                        "table": [
                                            {
                                                "cells": {
                                                    "fill": {
                                                        "color": "#EBF0F8"
                                                    },
                                                    "line": {
                                                        "color": "white"
                                                    }
                                                },
                                                "header": {
                                                    "fill": {
                                                        "color": "#C8D4E3"
                                                    },
                                                    "line": {
                                                        "color": "white"
                                                    }
                                                },
                                                "type": "table"
                                            }
                                        ]
                                    },
                                    "layout": {
                                        "annotationdefaults": {
                                            "arrowcolor": "#2a3f5f",
                                            "arrowhead": 0,
                                            "arrowwidth": 1
                                        },
                                        "autotypenumbers": "strict",
                                        "coloraxis": {
                                            "colorbar": {
                                                "outlinewidth": 0,
                                                "ticks": ""
                                            }
                                        },
                                        "colorscale": {
                                            "diverging": [
                                                [
                                                    0,
                                                    "#8e0152"
                                                ],
                                                [
                                                    0.1,
                                                    "#c51b7d"
                                                ],
                                                [
                                                    0.2,
                                                    "#de77ae"
                                                ],
                                                [
                                                    0.3,
                                                    "#f1b6da"
                                                ],
                                                [
                                                    0.4,
                                                    "#fde0ef"
                                                ],
                                                [
                                                    0.5,
                                                    "#f7f7f7"
                                                ],
                                                [
                                                    0.6,
                                                    "#e6f5d0"
                                                ],
                                                [
                                                    0.7,
                                                    "#b8e186"
                                                ],
                                                [
                                                    0.8,
                                                    "#7fbc41"
                                                ],
                                                [
                                                    0.9,
                                                    "#4d9221"
                                                ],
                                                [
                                                    1,
                                                    "#276419"
                                                ]
                                            ],
                                            "sequential": [
                                                [
                                                    0,
                                                    "#0d0887"
                                                ],
                                                [
                                                    0.1111111111111111,
                                                    "#46039f"
                                                ],
                                                [
                                                    0.2222222222222222,
                                                    "#7201a8"
                                                ],
                                                [
                                                    0.3333333333333333,
                                                    "#9c179e"
                                                ],
                                                [
                                                    0.4444444444444444,
                                                    "#bd3786"
                                                ],
                                                [
                                                    0.5555555555555556,
                                                    "#d8576b"
                                                ],
                                                [
                                                    0.6666666666666666,
                                                    "#ed7953"
                                                ],
                                                [
                                                    0.7777777777777778,
                                                    "#fb9f3a"
                                                ],
                                                [
                                                    0.8888888888888888,
                                                    "#fdca26"
                                                ],
                                                [
                                                    1,
                                                    "#f0f921"
                                                ]
                                            ],
                                            "sequentialminus": [
                                                [
                                                    0,
                                                    "#0d0887"
                                                ],
                                                [
                                                    0.1111111111111111,
                                                    "#46039f"
                                                ],
                                                [
                                                    0.2222222222222222,
                                                    "#7201a8"
                                                ],
                                                [
                                                    0.3333333333333333,
                                                    "#9c179e"
                                                ],
                                                [
                                                    0.4444444444444444,
                                                    "#bd3786"
                                                ],
                                                [
                                                    0.5555555555555556,
                                                    "#d8576b"
                                                ],
                                                [
                                                    0.6666666666666666,
                                                    "#ed7953"
                                                ],
                                                [
                                                    0.7777777777777778,
                                                    "#fb9f3a"
                                                ],
                                                [
                                                    0.8888888888888888,
                                                    "#fdca26"
                                                ],
                                                [
                                                    1,
                                                    "#f0f921"
                                                ]
                                            ]
                                        },
                                        "colorway": [
                                            "#636efa",
                                            "#EF553B",
                                            "#00cc96",
                                            "#ab63fa",
                                            "#FFA15A",
                                            "#19d3f3",
                                            "#FF6692",
                                            "#B6E880",
                                            "#FF97FF",
                                            "#FECB52"
                                        ],
                                        "font": {
                                            "color": "#2a3f5f"
                                        },
                                        "geo": {
                                            "bgcolor": "white",
                                            "lakecolor": "white",
                                            "landcolor": "white",
                                            "showlakes": true,
                                            "showland": true,
                                            "subunitcolor": "#C8D4E3"
                                        },
                                        "hoverlabel": {
                                            "align": "left"
                                        },
                                        "hovermode": "closest",
                                        "mapbox": {
                                            "style": "light"
                                        },
                                        "paper_bgcolor": "white",
                                        "plot_bgcolor": "white",
                                        "polar": {
                                            "angularaxis": {
                                                "gridcolor": "#EBF0F8",
                                                "linecolor": "#EBF0F8",
                                                "ticks": ""
                                            },
                                            "bgcolor": "white",
                                            "radialaxis": {
                                                "gridcolor": "#EBF0F8",
                                                "linecolor": "#EBF0F8",
                                                "ticks": ""
                                            }
                                        },
                                        "scene": {
                                            "xaxis": {
                                                "backgroundcolor": "white",
                                                "gridcolor": "#DFE8F3",
                                                "gridwidth": 2,
                                                "linecolor": "#EBF0F8",
                                                "showbackground": true,
                                                "ticks": "",
                                                "zerolinecolor": "#EBF0F8"
                                            },
                                            "yaxis": {
                                                "backgroundcolor": "white",
                                                "gridcolor": "#DFE8F3",
                                                "gridwidth": 2,
                                                "linecolor": "#EBF0F8",
                                                "showbackground": true,
                                                "ticks": "",
                                                "zerolinecolor": "#EBF0F8"
                                            },
                                            "zaxis": {
                                                "backgroundcolor": "white",
                                                "gridcolor": "#DFE8F3",
                                                "gridwidth": 2,
                                                "linecolor": "#EBF0F8",
                                                "showbackground": true,
                                                "ticks": "",
                                                "zerolinecolor": "#EBF0F8"
                                            }
                                        },
                                        "shapedefaults": {
                                            "line": {
                                                "color": "#2a3f5f"
                                            }
                                        },
                                        "ternary": {
                                            "aaxis": {
                                                "gridcolor": "#DFE8F3",
                                                "linecolor": "#A2B1C6",
                                                "ticks": ""
                                            },
                                            "baxis": {
                                                "gridcolor": "#DFE8F3",
                                                "linecolor": "#A2B1C6",
                                                "ticks": ""
                                            },
                                            "bgcolor": "white",
                                            "caxis": {
                                                "gridcolor": "#DFE8F3",
                                                "linecolor": "#A2B1C6",
                                                "ticks": ""
                                            }
                                        },
                                        "title": {
                                            "x": 0.05
                                        },
                                        "xaxis": {
                                            "automargin": true,
                                            "gridcolor": "#EBF0F8",
                                            "linecolor": "#EBF0F8",
                                            "ticks": "",
                                            "title": {
                                                "standoff": 15
                                            },
                                            "zerolinecolor": "#EBF0F8",
                                            "zerolinewidth": 2
                                        },
                                        "yaxis": {
                                            "automargin": true,
                                            "gridcolor": "#EBF0F8",
                                            "linecolor": "#EBF0F8",
                                            "ticks": "",
                                            "title": {
                                                "standoff": 15
                                            },
                                            "zerolinecolor": "#EBF0F8",
                                            "zerolinewidth": 2
                                        }
                                    }
                                },
                                "title": {
                                    "text": "Comparing Price Points: implied win vs actual win"
                                },
                                "xaxis": {
                                    "anchor": "y",
                                    "domain": [
                                        0,
                                        1
                                    ],
                                    "title": {
                                        "text": "implied_chance"
                                    }
                                },
                                "yaxis": {
                                    "anchor": "x",
                                    "domain": [
                                        0,
                                        1
                                    ],
                                    "title": {
                                        "text": "win"
                                    }
                                }
                            }
                        }
                    },
                    "metadata": {}
                }
            ],
            "metadata": {}
        },
        {
            "cell_type": "code",
            "execution_count": 112,
            "source": [
                "# Logloss ++++++++++++++++++++++++++++++++++++++++\n",
                "\n",
                "from sklearn.metrics import log_loss\n",
                "\n",
                "# Overall Logloss\n",
                "# _________________\n",
                "\n",
                "bspLoss = log_loss(\n",
                "    y_pred = 1 / accuracyFrame.query('type == \"bsp\"')['odds'],\n",
                "    y_true = accuracyFrame.query('type == \"bsp\"')['win']\n",
                ")\n",
                "\n",
                "print(f'The overall logloss of the BSP is {round(bspLoss,4)}')\n",
                "\n",
                "# Logloss at Different Time Points\n",
                "# _________________\n",
                "\n",
                "accuracyFrame.groupby('type').apply(lambda x: log_loss(y_pred=1/x['odds'],y_true=x['win']))\n",
                "\n",
                "\n",
                "# TODO\n",
                "#   Replace the preplay odds best_back with a midpoint between best back and lay\n",
                "#   Cause I shouldn't be getting lower logloss on the preplay price vs the bsp price it kind of undermines my whole point here\n",
                "\n"
            ],
            "outputs": [
                {
                    "output_type": "stream",
                    "name": "stdout",
                    "text": [
                        "The overall logloss of the BSP is 0.2767\n"
                    ]
                },
                {
                    "output_type": "execute_result",
                    "data": {
                        "text/plain": [
                            "type\n",
                            "bsp                          0.276721\n",
                            "seconds before off: -10.0    0.275442\n",
                            "seconds before off: 120.0    0.276079\n",
                            "seconds before off: 30.0     0.275537\n",
                            "seconds before off: 60.0     0.275786\n",
                            "seconds before off: 90.0     0.275907\n",
                            "dtype: float64"
                        ]
                    },
                    "metadata": {},
                    "execution_count": 112
                }
            ],
            "metadata": {}
        },
        {
            "cell_type": "code",
            "execution_count": 107,
            "source": [
                "accuracyFrame.sort_values('odds')"
            ],
            "outputs": [
                {
                    "output_type": "execute_result",
                    "data": {
                        "text/plain": [
                            "          market_id selection_id  win   sbsj  odds                       type\n",
                            "349005  1.181608776     28364729    1  -10.0  1.03  seconds before off: -10.0\n",
                            "349005  1.181608776     28364729    1  -10.0  1.09                        bsp\n",
                            "465822  1.182079391     37793933    1  -20.0  1.12                        bsp\n",
                            "465807  1.182079391     37793933    1  120.0  1.12  seconds before off: 120.0\n",
                            "465810  1.182079391     37793933    1   90.0  1.13   seconds before off: 90.0\n",
                            "...             ...          ...  ...    ...   ...                        ...\n",
                            "257178  1.184497290     39880373    0  120.0   NaN  seconds before off: 120.0\n",
                            "257196  1.184497290     39880374    0  120.0   NaN  seconds before off: 120.0\n",
                            "257214  1.184497290     39880375    1  120.0   NaN  seconds before off: 120.0\n",
                            "257250  1.184497290     39880377    0  120.0   NaN  seconds before off: 120.0\n",
                            "257268  1.184497290     39880378    0  120.0   NaN  seconds before off: 120.0\n",
                            "\n",
                            "[156323 rows x 6 columns]"
                        ],
                        "text/html": [
                            "<div>\n",
                            "<style scoped>\n",
                            "    .dataframe tbody tr th:only-of-type {\n",
                            "        vertical-align: middle;\n",
                            "    }\n",
                            "\n",
                            "    .dataframe tbody tr th {\n",
                            "        vertical-align: top;\n",
                            "    }\n",
                            "\n",
                            "    .dataframe thead th {\n",
                            "        text-align: right;\n",
                            "    }\n",
                            "</style>\n",
                            "<table border=\"1\" class=\"dataframe\">\n",
                            "  <thead>\n",
                            "    <tr style=\"text-align: right;\">\n",
                            "      <th></th>\n",
                            "      <th>market_id</th>\n",
                            "      <th>selection_id</th>\n",
                            "      <th>win</th>\n",
                            "      <th>sbsj</th>\n",
                            "      <th>odds</th>\n",
                            "      <th>type</th>\n",
                            "    </tr>\n",
                            "  </thead>\n",
                            "  <tbody>\n",
                            "    <tr>\n",
                            "      <th>349005</th>\n",
                            "      <td>1.181608776</td>\n",
                            "      <td>28364729</td>\n",
                            "      <td>1</td>\n",
                            "      <td>-10.0</td>\n",
                            "      <td>1.03</td>\n",
                            "      <td>seconds before off: -10.0</td>\n",
                            "    </tr>\n",
                            "    <tr>\n",
                            "      <th>349005</th>\n",
                            "      <td>1.181608776</td>\n",
                            "      <td>28364729</td>\n",
                            "      <td>1</td>\n",
                            "      <td>-10.0</td>\n",
                            "      <td>1.09</td>\n",
                            "      <td>bsp</td>\n",
                            "    </tr>\n",
                            "    <tr>\n",
                            "      <th>465822</th>\n",
                            "      <td>1.182079391</td>\n",
                            "      <td>37793933</td>\n",
                            "      <td>1</td>\n",
                            "      <td>-20.0</td>\n",
                            "      <td>1.12</td>\n",
                            "      <td>bsp</td>\n",
                            "    </tr>\n",
                            "    <tr>\n",
                            "      <th>465807</th>\n",
                            "      <td>1.182079391</td>\n",
                            "      <td>37793933</td>\n",
                            "      <td>1</td>\n",
                            "      <td>120.0</td>\n",
                            "      <td>1.12</td>\n",
                            "      <td>seconds before off: 120.0</td>\n",
                            "    </tr>\n",
                            "    <tr>\n",
                            "      <th>465810</th>\n",
                            "      <td>1.182079391</td>\n",
                            "      <td>37793933</td>\n",
                            "      <td>1</td>\n",
                            "      <td>90.0</td>\n",
                            "      <td>1.13</td>\n",
                            "      <td>seconds before off: 90.0</td>\n",
                            "    </tr>\n",
                            "    <tr>\n",
                            "      <th>...</th>\n",
                            "      <td>...</td>\n",
                            "      <td>...</td>\n",
                            "      <td>...</td>\n",
                            "      <td>...</td>\n",
                            "      <td>...</td>\n",
                            "      <td>...</td>\n",
                            "    </tr>\n",
                            "    <tr>\n",
                            "      <th>257178</th>\n",
                            "      <td>1.184497290</td>\n",
                            "      <td>39880373</td>\n",
                            "      <td>0</td>\n",
                            "      <td>120.0</td>\n",
                            "      <td>NaN</td>\n",
                            "      <td>seconds before off: 120.0</td>\n",
                            "    </tr>\n",
                            "    <tr>\n",
                            "      <th>257196</th>\n",
                            "      <td>1.184497290</td>\n",
                            "      <td>39880374</td>\n",
                            "      <td>0</td>\n",
                            "      <td>120.0</td>\n",
                            "      <td>NaN</td>\n",
                            "      <td>seconds before off: 120.0</td>\n",
                            "    </tr>\n",
                            "    <tr>\n",
                            "      <th>257214</th>\n",
                            "      <td>1.184497290</td>\n",
                            "      <td>39880375</td>\n",
                            "      <td>1</td>\n",
                            "      <td>120.0</td>\n",
                            "      <td>NaN</td>\n",
                            "      <td>seconds before off: 120.0</td>\n",
                            "    </tr>\n",
                            "    <tr>\n",
                            "      <th>257250</th>\n",
                            "      <td>1.184497290</td>\n",
                            "      <td>39880377</td>\n",
                            "      <td>0</td>\n",
                            "      <td>120.0</td>\n",
                            "      <td>NaN</td>\n",
                            "      <td>seconds before off: 120.0</td>\n",
                            "    </tr>\n",
                            "    <tr>\n",
                            "      <th>257268</th>\n",
                            "      <td>1.184497290</td>\n",
                            "      <td>39880378</td>\n",
                            "      <td>0</td>\n",
                            "      <td>120.0</td>\n",
                            "      <td>NaN</td>\n",
                            "      <td>seconds before off: 120.0</td>\n",
                            "    </tr>\n",
                            "  </tbody>\n",
                            "</table>\n",
                            "<p>156323 rows × 6 columns</p>\n",
                            "</div>"
                        ]
                    },
                    "metadata": {},
                    "execution_count": 107
                }
            ],
            "metadata": {}
        },
        {
            "cell_type": "markdown",
            "source": [
                "# Projecting BSP\n",
                "\n",
                "- Near price\n",
                "    + showing 60 second lag\n",
                "    +"
            ],
            "metadata": {}
        }
    ],
    "metadata": {
        "orig_nbformat": 4,
        "language_info": {
            "name": "python",
            "version": "3.9.5",
            "mimetype": "text/x-python",
            "codemirror_mode": {
                "name": "ipython",
                "version": 3
            },
            "pygments_lexer": "ipython3",
            "nbconvert_exporter": "python",
            "file_extension": ".py"
        },
        "kernelspec": {
            "name": "python3",
            "display_name": "Python 3.9.5 64-bit"
        },
        "interpreter": {
            "hash": "916dbcbb3f70747c44a77c7bcd40155683ae19c65e1c03b4aa3499c5328201f1"
        }
    },
    "nbformat": 4,
    "nbformat_minor": 2
}