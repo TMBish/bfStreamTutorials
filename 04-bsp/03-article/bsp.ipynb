{
    "cells": [
        {
            "cell_type": "markdown",
            "source": [
                "# Analysing and Predicting The BSP\n",
                "\n",
                "\n",
                "## 0.1 Setup\n",
                "\n",
                "Once again I'll be presenting the analysis in a jupyter notebook and will be using python as a programming language.\n",
                "\n",
                "Some of the data processing code takes a while to execute - that code will be in cells that are commented out - and will require a bit of adjustment to point to places on your computer locally where you want to store the intermediate data files.\n",
                "\n",
                "You'll also need `betfairlightweight` which you can install with something like `pip install betfairlightweight`."
            ],
            "metadata": {}
        },
        {
            "cell_type": "code",
            "execution_count": 1,
            "source": [
                "import pandas as pd\n",
                "import numpy as np\n",
                "import requests\n",
                "import os\n",
                "import re\n",
                "import csv\n",
                "import plotly.express as px\n",
                "import plotly.graph_objects as go\n",
                "import math\n",
                "import logging\n",
                "import yaml\n",
                "import csv\n",
                "import tarfile\n",
                "import zipfile\n",
                "import bz2\n",
                "import glob\n",
                "import ast\n",
                "\n",
                "from datetime import date, timedelta\n",
                "from unittest.mock import patch\n",
                "from typing import List, Set, Dict, Tuple, Optional\n",
                "from itertools import zip_longest\n",
                "import betfairlightweight\n",
                "from betfairlightweight import StreamListener\n",
                "from betfairlightweight.resources.bettingresources import (\n",
                "    PriceSize,\n",
                "    MarketBook\n",
                ")"
            ],
            "outputs": [],
            "metadata": {}
        },
        {
            "cell_type": "markdown",
            "source": [
                "## 0.2 Context\n",
                "\n",
                "The BSP is betting product offered by betfair on large enough markets that gives customers a chance to back or lay any selection at a \"fair\" price. Without getting too complex too quickly, the BSP allows you lock in a bet at any time after the market is openened and for as much stake as you can afford. The BSP is a good option for many different segments of disparate customers:\n",
                "\n",
                "- Recreational punters that don't have a particular strategy for trying to get the best odds can lock in a price that is (in the aggregate) quite a bit better than what they'd get at a corporate book or they'd get by taking limit bets early in a market's trading\n",
                "- Automated customers that don't want the hassle of managing live market trading can implement automated strategies a lot easier whilst also protecting them from edge cases like race reschedules \n",
                "- Is perfect for simply backtesting fundemental models as it's a resiliant and robust single price\n",
                "\n",
                "Despite it being a good option for a lot of customers it's also a fairly contraversial topic for some other types of customers. Some people firmly believe that the BSP on big markets reflects the \"true chance\" of a selection so betting it is a fools errand that will just lose you commission over the long run. You might have heard a version of this story before: given the large pool sizes, the 0% overround, the settlement at the exact moment the market is suspended the BSP perfectly synthesises all available public information and demand and arrives at a true fair odds. You may have seens a predicted chance vs observed win rate scatterplot showing a perfect correlation between chance implied by the BSP and a horses true chance. Whilst I don't disagree that the BSP is a **very strong** estimate of a selections chance I disagree that its perfect. \n",
                "\n",
                "Furthermore, it presents some other tricky challenges for use. To use just one example say I had an estimate of fair odds for a horse from a personal model or from some other expert. If I wanted to proportionally stake (increase stakes for a better value bet) that estimate how would i decide on my stake size given i don't know what the final BSP number will be? For this and a number of other applications it becomes important to have an idea of where that final BSP number will arrive at.\n",
                "\n",
                "I'll take you through how I'd measure the accuracy of the BSP, show you how it's traded on the exchange, and take you through a host of methods of estimating the BSP and build a custom machine learning approach that's better than each of them.\n",
                "\n",
                "## 0.3 The Algorithm\n",
                "\n",
                "The actual logic of how betfair arrives at the final BSP number is quite complex and for a few reasons you won't be able to perfectly replicate it at home. However the general gist of the BSP reconciliation algorithm that is executed just as the market suspended goes like:\n",
                "\n",
                "- The algorithm combines 4 distinct groups of open bets for a given selection: \n",
                "    + Non price limited BSP orders on both the back and lay side (`market_on_close` orders)\n",
                "    + Price limited orders on both the back and lay side (`limit_on_close` orders)\n",
                "    + All non filled open lay orders\n",
                "    + All non filled open back orders \n",
                "- Combines them all together, passes a sophisticated balancing algorithm over the top of them and arrives at a single fair price for the BSP that balances the demand on either side of the ledger\n",
                "\n",
                "## 0.4 This Example\n",
                "\n",
                "\n",
                "For this exercise we'll again take advantage of the betfair historical stream json files. The slice of betfair markets I'll be analysing is all thoroughbred races over July 2020 - June 2021. As an aside the projected BSP number you see on the betfair website isn't collected inside betfair's own internal database of orders, so any custom data request you may be able to get as a VIP won't include this number. So if you were planning to include it in any kind of projection or bet placement logic operation you were making the only way to anlayse it historically is to mine these data files. "
            ],
            "metadata": {}
        },
        {
            "cell_type": "markdown",
            "source": [
                "# 1.0 Data\n",
                "\n",
                "Like the previous tutorial we won't be able to collapse the stream data down into a single row per runner because I'm interested in anlaysing how the projected BSP moves throughout the course of movements late in betfair markets. I'm also interested in plotting the efficiency of certain odds values at certain distinct time points leading up the the races so I need multiple records per runner.\n",
                "\n",
                "Like in the previous tutorial I'll split out the selection metadata, BSP and win flag values as a seperate data file to reduce the size of the datafiles extracted for this analysis.\n",
                "\n",
                "For the preplay prices dataset I'll:\n",
                "\n",
                "- Start extraction at 2 mins before the scheduled off\n",
                "- Extract prices every 10 seconds thereafter until the market is suspended\n",
                "- I'll also extract the final market state the instant before the market is suspended\n",
                "\n",
                "## 1.1 Sourcing Data\n",
                "\n",
                "First you'll need to source the stream file TAR archive files. I'll be analysing 12 months of Australian thoroughbred Pro files. Aask automation@betfair.com.au for more info if you don't know how to do this. Once you've gotten access download them to your computer and store them together in a folder.\n",
                "\n",
                "## 1.2 Utility functions\n",
                "\n",
                "First like always we'll need some general utility functions that you may have seen before:"
            ],
            "metadata": {}
        },
        {
            "cell_type": "code",
            "execution_count": 2,
            "source": [
                "# General Utility Functions\n",
                "# _________________________________\n",
                "\n",
                "def split_anz_horse_market_name(market_name: str) -> (str, str, str):\n",
                "    parts = market_name.split(' ')\n",
                "    race_no = parts[0] # return example R6\n",
                "    race_len = parts[1] # return example 1400m\n",
                "    race_type = parts[2].lower() # return example grp1, trot, pace\n",
                "    return (race_no, race_len, race_type)\n",
                "\n",
                "\n",
                "def load_markets(file_paths):\n",
                "    for file_path in file_paths:\n",
                "        print(file_path)\n",
                "        if os.path.isdir(file_path):\n",
                "            for path in glob.iglob(file_path + '**/**/*.bz2', recursive=True):\n",
                "                f = bz2.BZ2File(path, 'rb')\n",
                "                yield f\n",
                "                f.close()\n",
                "        elif os.path.isfile(file_path):\n",
                "            ext = os.path.splitext(file_path)[1]\n",
                "            # iterate through a tar archive\n",
                "            if ext == '.tar':\n",
                "                with tarfile.TarFile(file_path) as archive:\n",
                "                    for file in archive:\n",
                "                        yield bz2.open(archive.extractfile(file))\n",
                "            # or a zip archive\n",
                "            elif ext == '.zip':\n",
                "                with zipfile.ZipFile(file_path) as archive:\n",
                "                    for file in archive.namelist():\n",
                "                        yield bz2.open(archive.open(file))\n",
                "\n",
                "    return None\n",
                "\n",
                "def pull_ladder(availableLadder, n = 5):\n",
                "        out = {}\n",
                "        price = []\n",
                "        volume = []\n",
                "        if len(availableLadder) == 0:\n",
                "            return(out)        \n",
                "        else:\n",
                "            for rung in availableLadder[0:n]:\n",
                "                price.append(rung.price)\n",
                "                volume.append(rung.size)\n",
                "\n",
                "            out[\"p\"] = price\n",
                "            out[\"v\"] = volume\n",
                "            return(out)\n",
                "\n",
                "def filter_market(market: MarketBook) -> bool: \n",
                "    \n",
                "    d = market.market_definition\n",
                "\n",
                "    return (d.country_code == 'AU' \n",
                "        and d.market_type == 'WIN' \n",
                "        and (c := split_anz_horse_market_name(d.name)[2]) != 'trot' and c != 'pace')\n"
            ],
            "outputs": [],
            "metadata": {}
        },
        {
            "cell_type": "markdown",
            "source": [
                "## 1.3 Selection Metadata\n",
                "\n",
                "Given that the detailed price data will have so many records we will split out the selection metadata (including the selection win outcome flag and the bsp) into it's own dataset much you would do in a relational database to manage data volumes."
            ],
            "metadata": {}
        },
        {
            "cell_type": "code",
            "execution_count": 3,
            "source": [
                "\n",
                "def final_market_book(s):\n",
                "    with patch(\"builtins.open\", lambda f, _: f):\n",
                "        gen = s.get_generator()\n",
                "        for market_books in gen():\n",
                "            # Check if this market book meets our market filter ++++++++++++++++++++++++++++++++++\n",
                "            if ((evaluate_market := filter_market(market_books[0])) == False):\n",
                "                    return(None)\n",
                "            for market_book in market_books:\n",
                "                last_market_book = market_book\n",
                "        return(last_market_book)\n",
                "\n",
                "def parse_final_selection_meta(dir, out_file):\n",
                "    \n",
                "    with open(out_file, \"w+\") as output:\n",
                "\n",
                "        output.write(\"market_id,selection_id,venue,market_time,selection_name,win,bsp\\n\")\n",
                "\n",
                "        for file_obj in load_markets(dir):\n",
                "\n",
                "            stream = trading.streaming.create_historical_generator_stream(\n",
                "                file_path=file_obj,\n",
                "                listener=listener,\n",
                "            )\n",
                "\n",
                "            last_market_book = final_market_book(stream)\n",
                "            if last_market_book is None:\n",
                "                continue \n",
                "\n",
                "            # Extract Info ++++++++++++++++++++++++++++++++++\n",
                "            runnerMeta = [\n",
                "                {\n",
                "                    'selection_id': r.selection_id,\n",
                "                    'selection_name': next((rd.name for rd in last_market_book.market_definition.runners if rd.selection_id == r.selection_id), None),\n",
                "                    'selection_status': r.status,\n",
                "                    'win': np.where(r.status == \"WINNER\", 1, 0),\n",
                "                    'sp': r.sp.actual_sp\n",
                "                }\n",
                "                for r in last_market_book.runners \n",
                "            ]\n",
                "\n",
                "            # Return Info ++++++++++++++++++++++++++++++++++\n",
                "            for runnerMeta in runnerMeta:\n",
                "                if runnerMeta['selection_status'] != 'REMOVED':\n",
                "                    output.write(\n",
                "                        \"{},{},{},{},{},{},{}\\n\".format(\n",
                "                            str(last_market_book.market_id),\n",
                "                            runnerMeta['selection_id'],\n",
                "                            last_market_book.market_definition.venue,\n",
                "                            last_market_book.market_definition.market_time,\n",
                "                            runnerMeta['selection_name'],\n",
                "                            runnerMeta['win'],\n",
                "                            runnerMeta['sp']\n",
                "                        )\n",
                "                    )"
            ],
            "outputs": [],
            "metadata": {}
        },
        {
            "cell_type": "code",
            "execution_count": 4,
            "source": [
                "selection_meta = \"[OUTPUT PATH TO CSV FOR SELECTION METADATA]\"\n",
                "stream_files = glob.glob(\"[PATH TO STREAM FILES]*.tar\")\n",
                "# trading = betfairlightweight.APIClient(\"username\", \"password\")\n",
                "# listener = StreamListener(max_latency=None)\n",
                "\n",
                "print(\"__ Parsing Selection Metadata ___ \")\n",
                "# parse_final_selection_meta(stream_files, selection_meta)"
            ],
            "outputs": [
                {
                    "output_type": "stream",
                    "name": "stdout",
                    "text": [
                        "__ Parsing Selection Metadata ___ \n"
                    ]
                }
            ],
            "metadata": {}
        },
        {
            "cell_type": "markdown",
            "source": [
                "## 1.4 Preplay Prices and Projections\n",
                "\n",
                "In this set of preplay prices I'm interested in many of the same fields as we've extracted in previous tutorials as well as fields relating to the current state of the BSP.\n",
                "\n",
                "These objects sit under the `sp` slot within the returned `runner` object. The fields we'll extract are:\n",
                "\n",
                "- The so called \"near price\"\n",
                "- The so called \"far price\"\n",
                "- The volume currently bet into the BSP back pool\n",
                "- The liability currently laid into the BSP lay pool\n",
                "\n",
                "We'll also extract the top 5 rungs of the available to back and available to lay ladders as well as the traded volume of limit bets.\n",
                "\n",
                "It's worth noting that I am discarding some key information about the BSP pools that I could have extracted if I wanted to. The current SP bets are laid out in a way that I could split out limit on close as well as market on close sp bets but I've rolled everything together in SP stake on the back side and sp liability on the lay side. This is just to reduce complexity of this article but including it would increase the predictive power of the BSP model in the final step.\n"
            ],
            "metadata": {}
        },
        {
            "cell_type": "code",
            "execution_count": 5,
            "source": [
                "def loop_preplay_prices(s, o):\n",
                "\n",
                "    with patch(\"builtins.open\", lambda f, _: f):\n",
                "\n",
                "        gen = s.get_generator()\n",
                "\n",
                "        marketID = None\n",
                "        tradeVols = None\n",
                "        time = None\n",
                "        last_book_recorded = False\n",
                "        prev_book = None\n",
                "\n",
                "        for market_books in gen():\n",
                "\n",
                "            # Check if this market book meets our market filter ++++++++++++++++++++++++++++++++++\n",
                "\n",
                "            if ((evaluate_market := filter_market(market_books[0])) == False):\n",
                "                    break\n",
                "            \n",
                "            for market_book in market_books:\n",
                "\n",
                "                # Time Step Management ++++++++++++++++++++++++++++++++++\n",
                "\n",
                "                if marketID is None:\n",
                "                    # No market initialised\n",
                "                    marketID = market_book.market_id\n",
                "                    time =  market_book.publish_time\n",
                "                elif market_book.inplay and last_book_recorded:\n",
                "                    break\n",
                "                else:\n",
                "                                            \n",
                "                    seconds_to_start = (market_book.market_definition.market_time - market_book.publish_time).total_seconds()\n",
                "\n",
                "                    if seconds_to_start > 120:\n",
                "                        # Too early before off to start logging prices\n",
                "                        prev_book = market_book\n",
                "                        continue\n",
                "                    else:\n",
                "                        \n",
                "                        # Update data at different time steps depending on seconds to off\n",
                "                        wait = 10\n",
                "\n",
                "                        # New Market\n",
                "                        if market_book.market_id != marketID:\n",
                "                            last_book_recorded = False\n",
                "                            marketID = market_book.market_id\n",
                "                            time =  market_book.publish_time\n",
                "                            continue\n",
                "                        # (wait) seconds elapsed since last write\n",
                "                        elif (market_book.publish_time - time).total_seconds() > wait:\n",
                "                            time = market_book.publish_time\n",
                "                        # if current marketbook is inplay want to record the previous market book as it's the last preplay marketbook\n",
                "                        elif market_book.inplay:\n",
                "                            last_book_recorded = True\n",
                "                            market_book = prev_book\n",
                "                        # fewer than (wait) seconds elapsed continue to next loop\n",
                "                        else:\n",
                "                            prev_book = market_book\n",
                "                            continue\n",
                "\n",
                "                # Execute Data Logging ++++++++++++++++++++++++++++++++++\n",
                "                for runner in market_book.runners:\n",
                "\n",
                "                    try:\n",
                "                        atb_ladder = pull_ladder(runner.ex.available_to_back, n = 5)\n",
                "                        atl_ladder = pull_ladder(runner.ex.available_to_lay, n = 5)\n",
                "                    except:\n",
                "                        atb_ladder = {}\n",
                "                        atl_ladder = {}\n",
                "\n",
                "                    limitTradedVol = sum([rung.size for rung in runner.ex.traded_volume])\n",
                "\n",
                "                    o.writerow(\n",
                "                        (\n",
                "                            market_book.market_id,\n",
                "                            runner.selection_id,\n",
                "                            market_book.publish_time,\n",
                "                            int(limitTradedVol),\n",
                "                            # SP Fields\n",
                "                            runner.sp.near_price,\n",
                "                            runner.sp.far_price,\n",
                "                            int(sum([ps.size for ps in runner.sp.back_stake_taken])),\n",
                "                            int(sum([ps.size for ps in runner.sp.lay_liability_taken])),\n",
                "                            # Limit bets available\n",
                "                            str(atb_ladder).replace(' ',''), \n",
                "                            str(atl_ladder).replace(' ','')\n",
                "                        )\n",
                "                    )\n",
                "\n",
                "                prev_book = market_book\n",
                "\n",
                "def parse_preplay_prices(dir, out_file):\n",
                "    \n",
                "    with open(out_file, \"w+\") as output:\n",
                "\n",
                "        writer = csv.writer(\n",
                "            output, \n",
                "            delimiter=',',\n",
                "            lineterminator='\\r\\n',\n",
                "            quoting=csv.QUOTE_ALL\n",
                "        )\n",
                "        writer.writerow((\"market_id\",\"selection_id\",\"time\",\"traded_volume\",\"near_price\",\"far_price\",\"bsp_back_pool_stake\",\"bsp_lay_pool_liability\",\"atb_ladder\",'atl_ladder'))\n",
                "\n",
                "        for file_obj in load_markets(dir):\n",
                "\n",
                "            stream = trading.streaming.create_historical_generator_stream(\n",
                "                file_path=file_obj,\n",
                "                listener=listener,\n",
                "            )\n",
                "\n",
                "            loop_preplay_prices(stream, writer)"
            ],
            "outputs": [],
            "metadata": {}
        },
        {
            "cell_type": "code",
            "execution_count": 6,
            "source": [
                "price = \"[OUTPUT PATH TO CSV FOR SELECTION METADATA]\"\n",
                "stream_files = glob.glob(\"[PATH TO STREAM FILES]*.tar\")\n",
                "# trading = betfairlightweight.APIClient(\"username\", \"password\")\n",
                "# listener = StreamListener(max_latency=None)\n",
                "\n",
                "print(\"__ Parsing Selection Prices ___ \")\n",
                "# parse_final_selection_meta(stream_files, price)"
            ],
            "outputs": [
                {
                    "output_type": "stream",
                    "name": "stdout",
                    "text": [
                        "__ Parsing Selection Prices ___ \n"
                    ]
                }
            ],
            "metadata": {}
        },
        {
            "cell_type": "markdown",
            "source": [
                "# 2.0 Analysis\n",
                "\n",
                "First step let's boot up the datasets we extracted in the previous steps and take a look at what we've managed to extract from the raw stream files.\n",
                "\n",
                "## 2.1 Load and Inspect\n",
                "\n",
                "First we have the highlevel selection metadata as we have already seen in other tutorials"
            ],
            "metadata": {}
        },
        {
            "cell_type": "code",
            "execution_count": 7,
            "source": [
                "selection = pd.read_csv(\"/media/hdd/tmp/bsp/meta.csv\", dtype={'market_id': object, 'selection_id': object}, parse_dates = ['market_time'])\n",
                "\n",
                "selection.head(3)"
            ],
            "outputs": [
                {
                    "output_type": "execute_result",
                    "data": {
                        "text/plain": [
                            "     market_id selection_id  venue         market_time     selection_name  \\\n",
                            "0  1.179845158     23493550  Cowra 2021-03-01 04:15:00         1. Larmour   \n",
                            "1  1.179845158     16374800  Cowra 2021-03-01 04:15:00  3. Careering Away   \n",
                            "2  1.179845158     19740699  Cowra 2021-03-01 04:15:00    4. Bells N Bows   \n",
                            "\n",
                            "   win   bsp  \n",
                            "0    0  6.20  \n",
                            "1    1  3.60  \n",
                            "2    0  6.62  "
                        ],
                        "text/html": [
                            "<div>\n",
                            "<style scoped>\n",
                            "    .dataframe tbody tr th:only-of-type {\n",
                            "        vertical-align: middle;\n",
                            "    }\n",
                            "\n",
                            "    .dataframe tbody tr th {\n",
                            "        vertical-align: top;\n",
                            "    }\n",
                            "\n",
                            "    .dataframe thead th {\n",
                            "        text-align: right;\n",
                            "    }\n",
                            "</style>\n",
                            "<table border=\"1\" class=\"dataframe\">\n",
                            "  <thead>\n",
                            "    <tr style=\"text-align: right;\">\n",
                            "      <th></th>\n",
                            "      <th>market_id</th>\n",
                            "      <th>selection_id</th>\n",
                            "      <th>venue</th>\n",
                            "      <th>market_time</th>\n",
                            "      <th>selection_name</th>\n",
                            "      <th>win</th>\n",
                            "      <th>bsp</th>\n",
                            "    </tr>\n",
                            "  </thead>\n",
                            "  <tbody>\n",
                            "    <tr>\n",
                            "      <th>0</th>\n",
                            "      <td>1.179845158</td>\n",
                            "      <td>23493550</td>\n",
                            "      <td>Cowra</td>\n",
                            "      <td>2021-03-01 04:15:00</td>\n",
                            "      <td>1. Larmour</td>\n",
                            "      <td>0</td>\n",
                            "      <td>6.20</td>\n",
                            "    </tr>\n",
                            "    <tr>\n",
                            "      <th>1</th>\n",
                            "      <td>1.179845158</td>\n",
                            "      <td>16374800</td>\n",
                            "      <td>Cowra</td>\n",
                            "      <td>2021-03-01 04:15:00</td>\n",
                            "      <td>3. Careering Away</td>\n",
                            "      <td>1</td>\n",
                            "      <td>3.60</td>\n",
                            "    </tr>\n",
                            "    <tr>\n",
                            "      <th>2</th>\n",
                            "      <td>1.179845158</td>\n",
                            "      <td>19740699</td>\n",
                            "      <td>Cowra</td>\n",
                            "      <td>2021-03-01 04:15:00</td>\n",
                            "      <td>4. Bells N Bows</td>\n",
                            "      <td>0</td>\n",
                            "      <td>6.62</td>\n",
                            "    </tr>\n",
                            "  </tbody>\n",
                            "</table>\n",
                            "</div>"
                        ]
                    },
                    "metadata": {},
                    "execution_count": 7
                }
            ],
            "metadata": {}
        },
        {
            "cell_type": "markdown",
            "source": [
                "Now let's load the prices file. We'll apply some extra logic to parse the ladder columns into dictionaries and also remove the first odds record per group as it's the first record as the market was instantiated."
            ],
            "metadata": {}
        },
        {
            "cell_type": "code",
            "execution_count": 8,
            "source": [
                "prices = pd.read_csv(\n",
                "    \"/media/hdd/tmp/bsp/prices.csv\", \n",
                "    quoting=csv.QUOTE_ALL,\n",
                "    dtype={'market_id': 'string', 'selection_id': 'string', 'atb_ladder': 'string', 'atl_ladder': 'string'},\n",
                "    parse_dates=['time']\n",
                ")\n",
                "\n",
                "# Parse ladder columns\n",
                "prices['atb_ladder'] = [ast.literal_eval(x) for x in prices['atb_ladder']]\n",
                "prices['atl_ladder'] = [ast.literal_eval(x) for x in prices['atl_ladder']]\n",
                "\n",
                "# Drop the first row within each group\n",
                "prices = prices.drop(prices.groupby(['market_id', 'selection_id'],as_index=False).nth(0).index)\n",
                "\n",
                "prices.head(3)"
            ],
            "outputs": [
                {
                    "output_type": "execute_result",
                    "data": {
                        "text/plain": [
                            "      market_id selection_id                    time  traded_volume  \\\n",
                            "21  1.179845158     23493550 2021-03-01 04:13:00.058           2465   \n",
                            "22  1.179845158     16374800 2021-03-01 04:13:00.058           5046   \n",
                            "23  1.179845158     19740699 2021-03-01 04:13:00.058           1978   \n",
                            "\n",
                            "    near_price  far_price  bsp_back_pool_stake  bsp_lay_pool_liability  \\\n",
                            "21        5.93       3.17                  113                     238   \n",
                            "22        3.35       1.70                  449                     300   \n",
                            "23        6.39       3.25                  154                     251   \n",
                            "\n",
                            "                                           atb_ladder  \\\n",
                            "21  {'p': [6.2, 6, 5.9, 5.8, 5.7], 'v': [14.63, 13...   \n",
                            "22  {'p': [3.65, 3.6, 3.55, 3.5, 3.45], 'v': [0.45...   \n",
                            "23  {'p': [6, 5.9, 5.8, 5.7, 5.6], 'v': [4.71, 89....   \n",
                            "\n",
                            "                                           atl_ladder  \n",
                            "21  {'p': [6.6, 6.8, 7, 7.2, 7.4], 'v': [22.86, 12...  \n",
                            "22  {'p': [3.75, 3.8, 3.9, 4.1, 4.3], 'v': [5.14, ...  \n",
                            "23  {'p': [6.4, 6.6, 6.8, 7, 7.2], 'v': [30.24, 2....  "
                        ],
                        "text/html": [
                            "<div>\n",
                            "<style scoped>\n",
                            "    .dataframe tbody tr th:only-of-type {\n",
                            "        vertical-align: middle;\n",
                            "    }\n",
                            "\n",
                            "    .dataframe tbody tr th {\n",
                            "        vertical-align: top;\n",
                            "    }\n",
                            "\n",
                            "    .dataframe thead th {\n",
                            "        text-align: right;\n",
                            "    }\n",
                            "</style>\n",
                            "<table border=\"1\" class=\"dataframe\">\n",
                            "  <thead>\n",
                            "    <tr style=\"text-align: right;\">\n",
                            "      <th></th>\n",
                            "      <th>market_id</th>\n",
                            "      <th>selection_id</th>\n",
                            "      <th>time</th>\n",
                            "      <th>traded_volume</th>\n",
                            "      <th>near_price</th>\n",
                            "      <th>far_price</th>\n",
                            "      <th>bsp_back_pool_stake</th>\n",
                            "      <th>bsp_lay_pool_liability</th>\n",
                            "      <th>atb_ladder</th>\n",
                            "      <th>atl_ladder</th>\n",
                            "    </tr>\n",
                            "  </thead>\n",
                            "  <tbody>\n",
                            "    <tr>\n",
                            "      <th>21</th>\n",
                            "      <td>1.179845158</td>\n",
                            "      <td>23493550</td>\n",
                            "      <td>2021-03-01 04:13:00.058</td>\n",
                            "      <td>2465</td>\n",
                            "      <td>5.93</td>\n",
                            "      <td>3.17</td>\n",
                            "      <td>113</td>\n",
                            "      <td>238</td>\n",
                            "      <td>{'p': [6.2, 6, 5.9, 5.8, 5.7], 'v': [14.63, 13...</td>\n",
                            "      <td>{'p': [6.6, 6.8, 7, 7.2, 7.4], 'v': [22.86, 12...</td>\n",
                            "    </tr>\n",
                            "    <tr>\n",
                            "      <th>22</th>\n",
                            "      <td>1.179845158</td>\n",
                            "      <td>16374800</td>\n",
                            "      <td>2021-03-01 04:13:00.058</td>\n",
                            "      <td>5046</td>\n",
                            "      <td>3.35</td>\n",
                            "      <td>1.70</td>\n",
                            "      <td>449</td>\n",
                            "      <td>300</td>\n",
                            "      <td>{'p': [3.65, 3.6, 3.55, 3.5, 3.45], 'v': [0.45...</td>\n",
                            "      <td>{'p': [3.75, 3.8, 3.9, 4.1, 4.3], 'v': [5.14, ...</td>\n",
                            "    </tr>\n",
                            "    <tr>\n",
                            "      <th>23</th>\n",
                            "      <td>1.179845158</td>\n",
                            "      <td>19740699</td>\n",
                            "      <td>2021-03-01 04:13:00.058</td>\n",
                            "      <td>1978</td>\n",
                            "      <td>6.39</td>\n",
                            "      <td>3.25</td>\n",
                            "      <td>154</td>\n",
                            "      <td>251</td>\n",
                            "      <td>{'p': [6, 5.9, 5.8, 5.7, 5.6], 'v': [4.71, 89....</td>\n",
                            "      <td>{'p': [6.4, 6.6, 6.8, 7, 7.2], 'v': [30.24, 2....</td>\n",
                            "    </tr>\n",
                            "  </tbody>\n",
                            "</table>\n",
                            "</div>"
                        ]
                    },
                    "metadata": {},
                    "execution_count": 8
                }
            ],
            "metadata": {}
        },
        {
            "cell_type": "code",
            "execution_count": 9,
            "source": [
                "f'The shape of the prices data file is {prices.shape[0]} rows and {prices.shape[1]} columns'"
            ],
            "outputs": [
                {
                    "output_type": "execute_result",
                    "data": {
                        "text/plain": [
                            "'The shape of the prices data file is 3937805 rows and 10 columns'"
                        ]
                    },
                    "metadata": {},
                    "execution_count": 9
                }
            ],
            "metadata": {}
        },
        {
            "cell_type": "code",
            "execution_count": 10,
            "source": [
                "# Let's have a look at the prices datafile for a distinct market and selection\n",
                "prices.query('market_id == \"1.183995724\" and selection_id == \"22832649\"')"
            ],
            "outputs": [
                {
                    "output_type": "execute_result",
                    "data": {
                        "text/plain": [
                            "           market_id selection_id                    time  traded_volume  \\\n",
                            "2762714  1.183995724     22832649 2021-06-01 01:38:00.062           1894   \n",
                            "2762724  1.183995724     22832649 2021-06-01 01:38:10.158           2082   \n",
                            "2762734  1.183995724     22832649 2021-06-01 01:38:20.159           2094   \n",
                            "2762744  1.183995724     22832649 2021-06-01 01:38:30.182           2229   \n",
                            "2762754  1.183995724     22832649 2021-06-01 01:38:40.221           2240   \n",
                            "2762764  1.183995724     22832649 2021-06-01 01:38:50.923           2294   \n",
                            "2762774  1.183995724     22832649 2021-06-01 01:39:00.955           2297   \n",
                            "2762784  1.183995724     22832649 2021-06-01 01:39:10.962           2417   \n",
                            "2762794  1.183995724     22832649 2021-06-01 01:39:20.966           2677   \n",
                            "2762804  1.183995724     22832649 2021-06-01 01:39:30.971           2795   \n",
                            "2762814  1.183995724     22832649 2021-06-01 01:39:41.018           3039   \n",
                            "2762824  1.183995724     22832649 2021-06-01 01:39:51.119           3290   \n",
                            "2762834  1.183995724     22832649 2021-06-01 01:40:01.123           3488   \n",
                            "2762844  1.183995724     22832649 2021-06-01 01:40:11.136           3831   \n",
                            "2762854  1.183995724     22832649 2021-06-01 01:40:18.201           3950   \n",
                            "\n",
                            "         near_price  far_price  bsp_back_pool_stake  bsp_lay_pool_liability  \\\n",
                            "2762714        8.60       7.69                   27                     184   \n",
                            "2762724        8.60       7.69                   27                     184   \n",
                            "2762734        8.00       7.69                   27                     184   \n",
                            "2762744        8.00       7.69                   27                     190   \n",
                            "2762754        8.00       7.69                  136                     205   \n",
                            "2762764        8.00       7.69                  136                     205   \n",
                            "2762774        8.00       7.69                  137                     214   \n",
                            "2762784        8.00       7.69                  137                     229   \n",
                            "2762794        8.18       2.68                  212                     243   \n",
                            "2762804        8.18       2.68                  212                     243   \n",
                            "2762814        8.18       2.68                  245                     324   \n",
                            "2762824        8.18       2.68                  324                     459   \n",
                            "2762834        8.18       2.68                  324                     748   \n",
                            "2762844        8.18       2.68                  447                    2285   \n",
                            "2762854        8.04       7.60                  327                    2469   \n",
                            "\n",
                            "                                                atb_ladder  \\\n",
                            "2762714  {'p': [8, 7.8, 7.6, 7.4, 7.2], 'v': [31.23, 37...   \n",
                            "2762724  {'p': [8, 7.8, 7.6, 7.4, 7.2], 'v': [25.54, 49...   \n",
                            "2762734  {'p': [8, 7.8, 7.6, 7.4, 7.2], 'v': [94.52, 49...   \n",
                            "2762744  {'p': [8, 7.8, 7.6, 7.4, 7.2], 'v': [62.88, 49...   \n",
                            "2762754  {'p': [8.2, 8, 7.8, 7.6, 7.4], 'v': [13.92, 12...   \n",
                            "2762764  {'p': [8, 7.8, 7.6, 7.4, 7.2], 'v': [129.4, 53...   \n",
                            "2762774  {'p': [8.2, 8, 7.8, 7.6, 7.4], 'v': [26.93, 13...   \n",
                            "2762784  {'p': [8.2, 8, 7.8, 7.6, 7.4], 'v': [29.2, 146...   \n",
                            "2762794  {'p': [8.4, 8.2, 8, 7.8, 7.6], 'v': [19.2, 89....   \n",
                            "2762804  {'p': [8.2, 8, 7.8, 7.6, 7.4], 'v': [79.45, 82...   \n",
                            "2762814  {'p': [8.4, 8.2, 8, 7.8, 7.6], 'v': [37.01, 12...   \n",
                            "2762824  {'p': [8.2, 8, 7.8, 7.6, 7.4], 'v': [63.46, 94...   \n",
                            "2762834  {'p': [8.4, 8.2, 8, 7.8, 7.6], 'v': [32.81, 97...   \n",
                            "2762844  {'p': [8.2, 8, 7.8, 7.6, 7.4], 'v': [46.15, 99...   \n",
                            "2762854  {'p': [6.8, 6.4, 5.9, 5.1, 4.4], 'v': [4.01, 3...   \n",
                            "\n",
                            "                                                atl_ladder  \n",
                            "2762714  {'p': [8.4, 8.6, 8.8, 9, 9.2], 'v': [63.98, 14...  \n",
                            "2762724  {'p': [8.2, 8.4, 8.6, 8.8, 9], 'v': [37.63, 68...  \n",
                            "2762734  {'p': [8.2, 8.4, 8.6, 8.8, 9], 'v': [37.63, 56...  \n",
                            "2762744  {'p': [8.2, 8.4, 8.6, 8.8, 9], 'v': [22.99, 56...  \n",
                            "2762754  {'p': [8.4, 8.6, 8.8, 9, 9.2], 'v': [53.28, 41...  \n",
                            "2762764  {'p': [8.4, 8.6, 8.8, 9, 9.2], 'v': [67.76, 41...  \n",
                            "2762774  {'p': [8.4, 8.6, 8.8, 9, 9.2], 'v': [53.28, 41...  \n",
                            "2762784  {'p': [8.4, 8.6, 8.8, 9, 9.2], 'v': [53.26, 23...  \n",
                            "2762794  {'p': [8.6, 8.8, 9, 9.2, 9.4], 'v': [69.9, 16....  \n",
                            "2762804  {'p': [8.4, 8.6, 8.8, 9, 9.2], 'v': [59.89, 65...  \n",
                            "2762814  {'p': [8.6, 8.8, 9, 9.2, 9.4], 'v': [73.69, 37...  \n",
                            "2762824  {'p': [8.6, 8.8, 9, 9.2, 9.4], 'v': [19.59, 18...  \n",
                            "2762834  {'p': [8.6, 8.8, 9, 9.2, 9.4], 'v': [0.96, 15....  \n",
                            "2762844  {'p': [8.4, 8.6, 8.8, 9, 9.2], 'v': [20.11, 47...  \n",
                            "2762854  {'p': [10, 11, 11.5, 15, 15.5], 'v': [6.05, 0....  "
                        ],
                        "text/html": [
                            "<div>\n",
                            "<style scoped>\n",
                            "    .dataframe tbody tr th:only-of-type {\n",
                            "        vertical-align: middle;\n",
                            "    }\n",
                            "\n",
                            "    .dataframe tbody tr th {\n",
                            "        vertical-align: top;\n",
                            "    }\n",
                            "\n",
                            "    .dataframe thead th {\n",
                            "        text-align: right;\n",
                            "    }\n",
                            "</style>\n",
                            "<table border=\"1\" class=\"dataframe\">\n",
                            "  <thead>\n",
                            "    <tr style=\"text-align: right;\">\n",
                            "      <th></th>\n",
                            "      <th>market_id</th>\n",
                            "      <th>selection_id</th>\n",
                            "      <th>time</th>\n",
                            "      <th>traded_volume</th>\n",
                            "      <th>near_price</th>\n",
                            "      <th>far_price</th>\n",
                            "      <th>bsp_back_pool_stake</th>\n",
                            "      <th>bsp_lay_pool_liability</th>\n",
                            "      <th>atb_ladder</th>\n",
                            "      <th>atl_ladder</th>\n",
                            "    </tr>\n",
                            "  </thead>\n",
                            "  <tbody>\n",
                            "    <tr>\n",
                            "      <th>2762714</th>\n",
                            "      <td>1.183995724</td>\n",
                            "      <td>22832649</td>\n",
                            "      <td>2021-06-01 01:38:00.062</td>\n",
                            "      <td>1894</td>\n",
                            "      <td>8.60</td>\n",
                            "      <td>7.69</td>\n",
                            "      <td>27</td>\n",
                            "      <td>184</td>\n",
                            "      <td>{'p': [8, 7.8, 7.6, 7.4, 7.2], 'v': [31.23, 37...</td>\n",
                            "      <td>{'p': [8.4, 8.6, 8.8, 9, 9.2], 'v': [63.98, 14...</td>\n",
                            "    </tr>\n",
                            "    <tr>\n",
                            "      <th>2762724</th>\n",
                            "      <td>1.183995724</td>\n",
                            "      <td>22832649</td>\n",
                            "      <td>2021-06-01 01:38:10.158</td>\n",
                            "      <td>2082</td>\n",
                            "      <td>8.60</td>\n",
                            "      <td>7.69</td>\n",
                            "      <td>27</td>\n",
                            "      <td>184</td>\n",
                            "      <td>{'p': [8, 7.8, 7.6, 7.4, 7.2], 'v': [25.54, 49...</td>\n",
                            "      <td>{'p': [8.2, 8.4, 8.6, 8.8, 9], 'v': [37.63, 68...</td>\n",
                            "    </tr>\n",
                            "    <tr>\n",
                            "      <th>2762734</th>\n",
                            "      <td>1.183995724</td>\n",
                            "      <td>22832649</td>\n",
                            "      <td>2021-06-01 01:38:20.159</td>\n",
                            "      <td>2094</td>\n",
                            "      <td>8.00</td>\n",
                            "      <td>7.69</td>\n",
                            "      <td>27</td>\n",
                            "      <td>184</td>\n",
                            "      <td>{'p': [8, 7.8, 7.6, 7.4, 7.2], 'v': [94.52, 49...</td>\n",
                            "      <td>{'p': [8.2, 8.4, 8.6, 8.8, 9], 'v': [37.63, 56...</td>\n",
                            "    </tr>\n",
                            "    <tr>\n",
                            "      <th>2762744</th>\n",
                            "      <td>1.183995724</td>\n",
                            "      <td>22832649</td>\n",
                            "      <td>2021-06-01 01:38:30.182</td>\n",
                            "      <td>2229</td>\n",
                            "      <td>8.00</td>\n",
                            "      <td>7.69</td>\n",
                            "      <td>27</td>\n",
                            "      <td>190</td>\n",
                            "      <td>{'p': [8, 7.8, 7.6, 7.4, 7.2], 'v': [62.88, 49...</td>\n",
                            "      <td>{'p': [8.2, 8.4, 8.6, 8.8, 9], 'v': [22.99, 56...</td>\n",
                            "    </tr>\n",
                            "    <tr>\n",
                            "      <th>2762754</th>\n",
                            "      <td>1.183995724</td>\n",
                            "      <td>22832649</td>\n",
                            "      <td>2021-06-01 01:38:40.221</td>\n",
                            "      <td>2240</td>\n",
                            "      <td>8.00</td>\n",
                            "      <td>7.69</td>\n",
                            "      <td>136</td>\n",
                            "      <td>205</td>\n",
                            "      <td>{'p': [8.2, 8, 7.8, 7.6, 7.4], 'v': [13.92, 12...</td>\n",
                            "      <td>{'p': [8.4, 8.6, 8.8, 9, 9.2], 'v': [53.28, 41...</td>\n",
                            "    </tr>\n",
                            "    <tr>\n",
                            "      <th>2762764</th>\n",
                            "      <td>1.183995724</td>\n",
                            "      <td>22832649</td>\n",
                            "      <td>2021-06-01 01:38:50.923</td>\n",
                            "      <td>2294</td>\n",
                            "      <td>8.00</td>\n",
                            "      <td>7.69</td>\n",
                            "      <td>136</td>\n",
                            "      <td>205</td>\n",
                            "      <td>{'p': [8, 7.8, 7.6, 7.4, 7.2], 'v': [129.4, 53...</td>\n",
                            "      <td>{'p': [8.4, 8.6, 8.8, 9, 9.2], 'v': [67.76, 41...</td>\n",
                            "    </tr>\n",
                            "    <tr>\n",
                            "      <th>2762774</th>\n",
                            "      <td>1.183995724</td>\n",
                            "      <td>22832649</td>\n",
                            "      <td>2021-06-01 01:39:00.955</td>\n",
                            "      <td>2297</td>\n",
                            "      <td>8.00</td>\n",
                            "      <td>7.69</td>\n",
                            "      <td>137</td>\n",
                            "      <td>214</td>\n",
                            "      <td>{'p': [8.2, 8, 7.8, 7.6, 7.4], 'v': [26.93, 13...</td>\n",
                            "      <td>{'p': [8.4, 8.6, 8.8, 9, 9.2], 'v': [53.28, 41...</td>\n",
                            "    </tr>\n",
                            "    <tr>\n",
                            "      <th>2762784</th>\n",
                            "      <td>1.183995724</td>\n",
                            "      <td>22832649</td>\n",
                            "      <td>2021-06-01 01:39:10.962</td>\n",
                            "      <td>2417</td>\n",
                            "      <td>8.00</td>\n",
                            "      <td>7.69</td>\n",
                            "      <td>137</td>\n",
                            "      <td>229</td>\n",
                            "      <td>{'p': [8.2, 8, 7.8, 7.6, 7.4], 'v': [29.2, 146...</td>\n",
                            "      <td>{'p': [8.4, 8.6, 8.8, 9, 9.2], 'v': [53.26, 23...</td>\n",
                            "    </tr>\n",
                            "    <tr>\n",
                            "      <th>2762794</th>\n",
                            "      <td>1.183995724</td>\n",
                            "      <td>22832649</td>\n",
                            "      <td>2021-06-01 01:39:20.966</td>\n",
                            "      <td>2677</td>\n",
                            "      <td>8.18</td>\n",
                            "      <td>2.68</td>\n",
                            "      <td>212</td>\n",
                            "      <td>243</td>\n",
                            "      <td>{'p': [8.4, 8.2, 8, 7.8, 7.6], 'v': [19.2, 89....</td>\n",
                            "      <td>{'p': [8.6, 8.8, 9, 9.2, 9.4], 'v': [69.9, 16....</td>\n",
                            "    </tr>\n",
                            "    <tr>\n",
                            "      <th>2762804</th>\n",
                            "      <td>1.183995724</td>\n",
                            "      <td>22832649</td>\n",
                            "      <td>2021-06-01 01:39:30.971</td>\n",
                            "      <td>2795</td>\n",
                            "      <td>8.18</td>\n",
                            "      <td>2.68</td>\n",
                            "      <td>212</td>\n",
                            "      <td>243</td>\n",
                            "      <td>{'p': [8.2, 8, 7.8, 7.6, 7.4], 'v': [79.45, 82...</td>\n",
                            "      <td>{'p': [8.4, 8.6, 8.8, 9, 9.2], 'v': [59.89, 65...</td>\n",
                            "    </tr>\n",
                            "    <tr>\n",
                            "      <th>2762814</th>\n",
                            "      <td>1.183995724</td>\n",
                            "      <td>22832649</td>\n",
                            "      <td>2021-06-01 01:39:41.018</td>\n",
                            "      <td>3039</td>\n",
                            "      <td>8.18</td>\n",
                            "      <td>2.68</td>\n",
                            "      <td>245</td>\n",
                            "      <td>324</td>\n",
                            "      <td>{'p': [8.4, 8.2, 8, 7.8, 7.6], 'v': [37.01, 12...</td>\n",
                            "      <td>{'p': [8.6, 8.8, 9, 9.2, 9.4], 'v': [73.69, 37...</td>\n",
                            "    </tr>\n",
                            "    <tr>\n",
                            "      <th>2762824</th>\n",
                            "      <td>1.183995724</td>\n",
                            "      <td>22832649</td>\n",
                            "      <td>2021-06-01 01:39:51.119</td>\n",
                            "      <td>3290</td>\n",
                            "      <td>8.18</td>\n",
                            "      <td>2.68</td>\n",
                            "      <td>324</td>\n",
                            "      <td>459</td>\n",
                            "      <td>{'p': [8.2, 8, 7.8, 7.6, 7.4], 'v': [63.46, 94...</td>\n",
                            "      <td>{'p': [8.6, 8.8, 9, 9.2, 9.4], 'v': [19.59, 18...</td>\n",
                            "    </tr>\n",
                            "    <tr>\n",
                            "      <th>2762834</th>\n",
                            "      <td>1.183995724</td>\n",
                            "      <td>22832649</td>\n",
                            "      <td>2021-06-01 01:40:01.123</td>\n",
                            "      <td>3488</td>\n",
                            "      <td>8.18</td>\n",
                            "      <td>2.68</td>\n",
                            "      <td>324</td>\n",
                            "      <td>748</td>\n",
                            "      <td>{'p': [8.4, 8.2, 8, 7.8, 7.6], 'v': [32.81, 97...</td>\n",
                            "      <td>{'p': [8.6, 8.8, 9, 9.2, 9.4], 'v': [0.96, 15....</td>\n",
                            "    </tr>\n",
                            "    <tr>\n",
                            "      <th>2762844</th>\n",
                            "      <td>1.183995724</td>\n",
                            "      <td>22832649</td>\n",
                            "      <td>2021-06-01 01:40:11.136</td>\n",
                            "      <td>3831</td>\n",
                            "      <td>8.18</td>\n",
                            "      <td>2.68</td>\n",
                            "      <td>447</td>\n",
                            "      <td>2285</td>\n",
                            "      <td>{'p': [8.2, 8, 7.8, 7.6, 7.4], 'v': [46.15, 99...</td>\n",
                            "      <td>{'p': [8.4, 8.6, 8.8, 9, 9.2], 'v': [20.11, 47...</td>\n",
                            "    </tr>\n",
                            "    <tr>\n",
                            "      <th>2762854</th>\n",
                            "      <td>1.183995724</td>\n",
                            "      <td>22832649</td>\n",
                            "      <td>2021-06-01 01:40:18.201</td>\n",
                            "      <td>3950</td>\n",
                            "      <td>8.04</td>\n",
                            "      <td>7.60</td>\n",
                            "      <td>327</td>\n",
                            "      <td>2469</td>\n",
                            "      <td>{'p': [6.8, 6.4, 5.9, 5.1, 4.4], 'v': [4.01, 3...</td>\n",
                            "      <td>{'p': [10, 11, 11.5, 15, 15.5], 'v': [6.05, 0....</td>\n",
                            "    </tr>\n",
                            "  </tbody>\n",
                            "</table>\n",
                            "</div>"
                        ]
                    },
                    "metadata": {},
                    "execution_count": 10
                }
            ],
            "metadata": {}
        },
        {
            "cell_type": "markdown",
            "source": [
                "We can see some expected behaviour as we zoom in on a given selection\n",
                "\n",
                "- The traded volume increases on this selection as we get closer to the jump\n",
                "- The projected_sp (the near_price column) stays constant for a number of increments as its update is cached for 60 seconds at a time\n",
                "- The sizes in the BSP pools also increases as we get closer to the jump\n",
                "- The prices offered and traded closer to the jump are closer to the BSP than those at the start of the 2 minute period"
            ],
            "metadata": {}
        },
        {
            "cell_type": "markdown",
            "source": [
                "## 2.2 Transform and Assemble\n",
                "\n",
                "We have our 2 core datasets, but we'd prefer to work with one now. We'd also like to add some key columns that will be reused throughout our analysis so we'll add those now too.\n",
                "\n",
                "\n",
                "### 2.2.1 Mid points\n",
                "\n",
                "The first semi-interesting thing we'll do in this analysis is add selection mid-points to our dataset. Eventually we're going to be interested in estimating the BSP and measuring the efficiency of certain prices at various points leading up to the race. \n",
                "\n",
                "Betfair markets work like all markets with bids and spreads. The market equilibrium forms around the best price offered on either side of the market to back or to lay. These top prices each have some inherent advantage built into it for the offerer. For example in early markets the best offers on either side of the market might be really wide (say 1.80 as a best back and 2.50 as a best lay). Given the price discovery process is still immature each bidder is baking in a big advantage to their price offers to be compensated for this fact. This spread will naturally get tighter and tighter as the market matures and more participants seek to get volume down and must be more and more competitive. But what's the equilibrium in each case?\n",
                "\n",
                "Well it's up to you but I'll provide you two ways of finding the central mid-point of a bid-ask spread on betfair markets. The problem we're solving for here is the non-linearity of prices in odds space. We have some intuition for this: when we see a market spread of 10-100 in early trading we have an understanding that the true midpoint of this market is somewhere around 25-35 not the 55 you'd get if you simply took the mean of those two numbers.\n",
                "\n",
                "Two techniquest for accounting for that non-linearity are as follows.\n",
                "\n",
                "**Ladder Midpoint**\n",
                "\n",
                "The ladder midpoint method takes advantage of the fact that the betfair price ladder itself accounts for the nonlinearity of prices in odds space. The method calculated the difference in number of rungs on the betfair ladder, halves it, and shifts the best back or lay price that number of rungs towards the centre. This will generally provide a much better idea of the market midpoint than a simple arithmetic mean of the two prices.\n",
                "\n",
                "**Geometric Mean**\n",
                "\n",
                "Unfortunately this method is a little computationally expensive. A good approximation for this approach is to take the geometric mean of the best back and best lay values. The geometric mean is a special kind of mean that you may have never used before that is more appropriate for purposes like this. It is calculated like: `sqrt(x1 * x2 * ...)`. This number will also provide a much better estimate of the market midpoint than the simple arithmetic mean.\n",
                "\n",
                "The latter calculation is trivial. The former requires a suite of betfair tick arithmetic functions that I'll put below. It may seem like overkill for this exercise (and it is) but hopefully these functions might be of use to you for other purposes."
            ],
            "metadata": {}
        },
        {
            "cell_type": "code",
            "execution_count": 11,
            "source": [
                "# Define the betfair tick ladder\n",
                "def bfTickLadder():\n",
                "\n",
                "    tickIncrements = {\n",
                "        1.0: 0.01,\n",
                "        2.0: 0.02,\n",
                "        3.0: 0.05,\n",
                "        4.0: 0.1,\n",
                "        6.0: 0.2,\n",
                "        10.0: 0.5,\n",
                "        20.0: 1.0,\n",
                "        30.0: 2.0,\n",
                "        50.0: 5.0,\n",
                "        100.0: 10.0,\n",
                "        1000.0: 1000,\n",
                "    }\n",
                "\n",
                "    ladder = []\n",
                "\n",
                "    for index, key in enumerate(tickIncrements):\n",
                "\n",
                "        increment = tickIncrements[key]\n",
                "\n",
                "        if (index+1) == len(tickIncrements):\n",
                "            ladder.append(key)\n",
                "        else:\n",
                "            key1 = [*tickIncrements][index]\n",
                "            key2 = [*tickIncrements][index+1]\n",
                "            steps = (key2 - key1) / increment\n",
                "\n",
                "            for i in range(int(steps)):\n",
                "                ladder.append(round(key + i * increment, 2))\n",
                "\n",
                "    return(ladder)\n",
                "\n",
                "bfticks = bfTickLadder()\n",
                "    \n",
                "# Round a decimal to the betfair tick value below\n",
                "def bfTickFloor(price, includeIndex=False):\n",
                "\n",
                "    if 'bfticks' in globals():\n",
                "        global bfticks\n",
                "    else:\n",
                "        bfticks = bfTickLadder()\n",
                "\n",
                "    ind = [ n for n,i in enumerate(bfticks) if i>=price][0]\n",
                "    if includeIndex:\n",
                "        if bfticks[ind]==price:\n",
                "            return((ind, price))\n",
                "        else:\n",
                "            return((ind-1, bfticks[ind-1]))\n",
                "    else:\n",
                "        if bfticks[ind]==price:\n",
                "            return(price)\n",
                "        else:\n",
                "            return(bfticks[ind-1])\n",
                "\n",
                "# Calculate the numder of ticks between two tick values\n",
                "def bfTickDelta(p1, p2):\n",
                "\n",
                "    if np.isnan(p1) or np.isnan(p2):\n",
                "        return(np.nan)\n",
                "\n",
                "    x = bfTickFloor(p1, includeIndex=True)\n",
                "    y = bfTickFloor(p2, includeIndex=True)\n",
                "    return(x[0]-y[0])\n",
                "\n",
                "def bfTickShift(p, rungs):\n",
                "\n",
                "    if 'bfticks' in globals():\n",
                "        global bfticks\n",
                "    else:\n",
                "        bfticks = bfTickLadder()\n",
                "    \n",
                "    flr = bfTickFloor(p, includeIndex = True)\n",
                "\n",
                "    return(bfticks[flr[0]+rungs])\n",
                "\n",
                "\n",
                "def bfLadderMidPoint(p1, p2):\n",
                "\n",
                "    if np.isnan(p1) or np.isnan(p2):\n",
                "        return(np.nan)\n",
                "\n",
                "    delta = -1 * bfTickDelta(p1, p2)\n",
                "\n",
                "    if delta == 1:\n",
                "        return(p1)\n",
                "    elif delta % 2 != 0:\n",
                "        return(bfTickShift(p1, math.ceil(delta / 2)))\n",
                "    else:\n",
                "        return(bfTickShift(p1, math.floor(delta / 2)))"
            ],
            "outputs": [],
            "metadata": {}
        },
        {
            "cell_type": "code",
            "execution_count": 12,
            "source": [
                "# Let's test a midpoint using the ladder mid point method\n",
                "bfLadderMidPoint(10,100)"
            ],
            "outputs": [
                {
                    "output_type": "execute_result",
                    "data": {
                        "text/plain": [
                            "25.0"
                        ]
                    },
                    "metadata": {},
                    "execution_count": 12
                }
            ],
            "metadata": {}
        },
        {
            "cell_type": "code",
            "execution_count": 13,
            "source": [
                "# And for illustrative purposes let's calculate the geomtric mean of these values\n",
                "np.sqrt(10 * 100)"
            ],
            "outputs": [
                {
                    "output_type": "execute_result",
                    "data": {
                        "text/plain": [
                            "31.622776601683793"
                        ]
                    },
                    "metadata": {},
                    "execution_count": 13
                }
            ],
            "metadata": {}
        },
        {
            "cell_type": "markdown",
            "source": [
                "Let's put this all together while stitching together our two core datasets."
            ],
            "metadata": {}
        },
        {
            "cell_type": "code",
            "execution_count": 14,
            "source": [
                "# Join and augment\n",
                "df = (\n",
                "    selection.merge(prices, on = ['market_id', 'selection_id'])\n",
                "    .assign(sbsj = lambda x: round((x['market_time'] - x['time']).dt.total_seconds() / 10) * 10)\n",
                "    .assign(back_best = lambda x: [np.nan if d.get('p') is None else d.get('p')[0] for d in x['atb_ladder']])\n",
                "    .assign(lay_best = lambda x: [np.nan if d.get('p') is None else d.get('p')[0] for d in x['atl_ladder']])\n",
                "    .assign(geometric_mid_point = lambda x: round(1 / np.sqrt((1/x['back_best']) * (1/x['lay_best'])), 3))\n",
                "    .assign(ladder_mid_point = lambda x: x.apply(lambda x: bfLadderMidPoint(x.back_best, x.lay_best), axis=1))\n",
                "    .replace([np.inf, -np.inf], np.nan)\n",
                ")\n",
                "\n",
                "df.head(3)"
            ],
            "outputs": [
                {
                    "output_type": "execute_result",
                    "data": {
                        "text/plain": [
                            "     market_id selection_id  venue         market_time selection_name  win  \\\n",
                            "0  1.179845158     23493550  Cowra 2021-03-01 04:15:00     1. Larmour    0   \n",
                            "1  1.179845158     23493550  Cowra 2021-03-01 04:15:00     1. Larmour    0   \n",
                            "2  1.179845158     23493550  Cowra 2021-03-01 04:15:00     1. Larmour    0   \n",
                            "\n",
                            "   bsp                    time  traded_volume  near_price  far_price  \\\n",
                            "0  6.2 2021-03-01 04:13:00.058           2465        5.93       3.17   \n",
                            "1  6.2 2021-03-01 04:13:10.077           2848        5.93       3.17   \n",
                            "2  6.2 2021-03-01 04:13:20.161           2866        5.93       3.17   \n",
                            "\n",
                            "   bsp_back_pool_stake  bsp_lay_pool_liability  \\\n",
                            "0                  113                     238   \n",
                            "1                  113                     238   \n",
                            "2                  113                     238   \n",
                            "\n",
                            "                                          atb_ladder  \\\n",
                            "0  {'p': [6.2, 6, 5.9, 5.8, 5.7], 'v': [14.63, 13...   \n",
                            "1  {'p': [6, 5.9, 5.8, 5.7, 5.6], 'v': [59.93, 36...   \n",
                            "2  {'p': [6.2, 6, 5.9, 5.8, 5.7], 'v': [22.91, 88...   \n",
                            "\n",
                            "                                          atl_ladder   sbsj  back_best  \\\n",
                            "0  {'p': [6.6, 6.8, 7, 7.2, 7.4], 'v': [22.86, 12...  120.0        6.2   \n",
                            "1  {'p': [6.4, 6.6, 6.8, 7, 7.2], 'v': [28.79, 50...  110.0        6.0   \n",
                            "2  {'p': [6.6, 6.8, 7, 7.2, 7.4], 'v': [55.19, 22...  100.0        6.2   \n",
                            "\n",
                            "   lay_best  geometric_mid_point  ladder_mid_point  \n",
                            "0       6.6                6.397               6.4  \n",
                            "1       6.4                6.197               6.2  \n",
                            "2       6.6                6.397               6.4  "
                        ],
                        "text/html": [
                            "<div>\n",
                            "<style scoped>\n",
                            "    .dataframe tbody tr th:only-of-type {\n",
                            "        vertical-align: middle;\n",
                            "    }\n",
                            "\n",
                            "    .dataframe tbody tr th {\n",
                            "        vertical-align: top;\n",
                            "    }\n",
                            "\n",
                            "    .dataframe thead th {\n",
                            "        text-align: right;\n",
                            "    }\n",
                            "</style>\n",
                            "<table border=\"1\" class=\"dataframe\">\n",
                            "  <thead>\n",
                            "    <tr style=\"text-align: right;\">\n",
                            "      <th></th>\n",
                            "      <th>market_id</th>\n",
                            "      <th>selection_id</th>\n",
                            "      <th>venue</th>\n",
                            "      <th>market_time</th>\n",
                            "      <th>selection_name</th>\n",
                            "      <th>win</th>\n",
                            "      <th>bsp</th>\n",
                            "      <th>time</th>\n",
                            "      <th>traded_volume</th>\n",
                            "      <th>near_price</th>\n",
                            "      <th>far_price</th>\n",
                            "      <th>bsp_back_pool_stake</th>\n",
                            "      <th>bsp_lay_pool_liability</th>\n",
                            "      <th>atb_ladder</th>\n",
                            "      <th>atl_ladder</th>\n",
                            "      <th>sbsj</th>\n",
                            "      <th>back_best</th>\n",
                            "      <th>lay_best</th>\n",
                            "      <th>geometric_mid_point</th>\n",
                            "      <th>ladder_mid_point</th>\n",
                            "    </tr>\n",
                            "  </thead>\n",
                            "  <tbody>\n",
                            "    <tr>\n",
                            "      <th>0</th>\n",
                            "      <td>1.179845158</td>\n",
                            "      <td>23493550</td>\n",
                            "      <td>Cowra</td>\n",
                            "      <td>2021-03-01 04:15:00</td>\n",
                            "      <td>1. Larmour</td>\n",
                            "      <td>0</td>\n",
                            "      <td>6.2</td>\n",
                            "      <td>2021-03-01 04:13:00.058</td>\n",
                            "      <td>2465</td>\n",
                            "      <td>5.93</td>\n",
                            "      <td>3.17</td>\n",
                            "      <td>113</td>\n",
                            "      <td>238</td>\n",
                            "      <td>{'p': [6.2, 6, 5.9, 5.8, 5.7], 'v': [14.63, 13...</td>\n",
                            "      <td>{'p': [6.6, 6.8, 7, 7.2, 7.4], 'v': [22.86, 12...</td>\n",
                            "      <td>120.0</td>\n",
                            "      <td>6.2</td>\n",
                            "      <td>6.6</td>\n",
                            "      <td>6.397</td>\n",
                            "      <td>6.4</td>\n",
                            "    </tr>\n",
                            "    <tr>\n",
                            "      <th>1</th>\n",
                            "      <td>1.179845158</td>\n",
                            "      <td>23493550</td>\n",
                            "      <td>Cowra</td>\n",
                            "      <td>2021-03-01 04:15:00</td>\n",
                            "      <td>1. Larmour</td>\n",
                            "      <td>0</td>\n",
                            "      <td>6.2</td>\n",
                            "      <td>2021-03-01 04:13:10.077</td>\n",
                            "      <td>2848</td>\n",
                            "      <td>5.93</td>\n",
                            "      <td>3.17</td>\n",
                            "      <td>113</td>\n",
                            "      <td>238</td>\n",
                            "      <td>{'p': [6, 5.9, 5.8, 5.7, 5.6], 'v': [59.93, 36...</td>\n",
                            "      <td>{'p': [6.4, 6.6, 6.8, 7, 7.2], 'v': [28.79, 50...</td>\n",
                            "      <td>110.0</td>\n",
                            "      <td>6.0</td>\n",
                            "      <td>6.4</td>\n",
                            "      <td>6.197</td>\n",
                            "      <td>6.2</td>\n",
                            "    </tr>\n",
                            "    <tr>\n",
                            "      <th>2</th>\n",
                            "      <td>1.179845158</td>\n",
                            "      <td>23493550</td>\n",
                            "      <td>Cowra</td>\n",
                            "      <td>2021-03-01 04:15:00</td>\n",
                            "      <td>1. Larmour</td>\n",
                            "      <td>0</td>\n",
                            "      <td>6.2</td>\n",
                            "      <td>2021-03-01 04:13:20.161</td>\n",
                            "      <td>2866</td>\n",
                            "      <td>5.93</td>\n",
                            "      <td>3.17</td>\n",
                            "      <td>113</td>\n",
                            "      <td>238</td>\n",
                            "      <td>{'p': [6.2, 6, 5.9, 5.8, 5.7], 'v': [22.91, 88...</td>\n",
                            "      <td>{'p': [6.6, 6.8, 7, 7.2, 7.4], 'v': [55.19, 22...</td>\n",
                            "      <td>100.0</td>\n",
                            "      <td>6.2</td>\n",
                            "      <td>6.6</td>\n",
                            "      <td>6.397</td>\n",
                            "      <td>6.4</td>\n",
                            "    </tr>\n",
                            "  </tbody>\n",
                            "</table>\n",
                            "</div>"
                        ]
                    },
                    "metadata": {},
                    "execution_count": 14
                }
            ],
            "metadata": {}
        },
        {
            "cell_type": "markdown",
            "source": [
                "## 2.3 Analysing The BSP\n",
                "\n",
                "Before we embark on our predictive exercise let's analyse the BSP to get a feel for it as an entity.\n",
                "\n",
                "### 2.3.1 Volumes\n",
                "\n",
                "Ever wondered how much volume is traded on the BSP? How does it compare to limit bets? Well with our parsed stream data we can answer those questions! Now the BSP volume will be the bigger of the BSP back stake and the lay stake (which you can infer by the final BSP and the total lay liability).\n",
                "\n"
            ],
            "metadata": {}
        },
        {
            "cell_type": "code",
            "execution_count": 15,
            "source": [
                "# Volume Traded\n",
                "# _________________________\n",
                "\n",
                "\n",
                "# Extract the final time slice of data which includes the total preplay volumes traded across limit and BSP poools\n",
                "volumeDf = df.groupby(['market_id', 'selection_id'],as_index=False).nth(-1)[['market_id', 'selection_id', 'bsp',  'traded_volume', 'bsp_back_pool_stake', 'bsp_lay_pool_liability']]\n",
                "\n",
                "# Infer the biggest of the two BSP stakes\n",
                "volumeDf = (\n",
                "    volumeDf\n",
                "    .assign(lay_stake = lambda x: x['bsp_lay_pool_liability'] / (x['bsp']-1))\n",
                "    .assign(bsp_stake = lambda x: x[['lay_stake', 'bsp_back_pool_stake']].max(axis = 1))\n",
                ")\n",
                "\n",
                "\n",
                "\n",
                "(\n",
                "    volumeDf\n",
                "    .groupby('market_id', as_index = False)\n",
                "    .agg({'traded_volume': 'sum', 'bsp_stake': 'sum'})\n",
                "    .agg({'traded_volume': 'mean', 'bsp_stake': 'mean'})\n",
                ")"
            ],
            "outputs": [
                {
                    "output_type": "execute_result",
                    "data": {
                        "text/plain": [
                            "traded_volume    98025.705018\n",
                            "bsp_stake         7287.524766\n",
                            "dtype: float64"
                        ]
                    },
                    "metadata": {},
                    "execution_count": 15
                }
            ],
            "metadata": {}
        },
        {
            "cell_type": "markdown",
            "source": [
                "So in an average thoroughbred market there's about 98k traded limit volume and 7,300 BSP traded stake. So approximately 7% of thoroughbred volume is traded at the BSP at least for our sample of thoroughbred races.\n",
                "\n",
                "\n",
                "## 2.3.2 Efficiency?\n",
                "\n",
                "Now you may have heard this story before, you can't beat the BSP it's too efficient. I'm not sure people really have a firm idea about what they're talking about when they say this.\n",
                "\n",
                "Typically what you'll see in a discussion about efficiency is the predicted vs observed scatterplot. Let's see if we can reproduce this chart.\n",
                "\n",
                "But first let's assemble a dataframe that we can use for this chart as well as others. What we'll do is we'll extract the BSP and a price value at 5 different slices before the race starts. We could chose any price point (we'll analyse the difference between them in a subsequent step) but for this section I'm going to take the preplay market estimate as the geometric market midpoint (you'll have to trust me for now that this is a good decision)."
            ],
            "metadata": {}
        },
        {
            "cell_type": "code",
            "execution_count": 16,
            "source": [
                "\n",
                "\n",
                "# Extract the geomtric market mid point at time slices: 120, 90, 60, 30, and 0 seconds from the scheduled off\n",
                "preplay = df[df.sbsj.isin([120,90,60,30,0])][['market_id', 'selection_id', 'win', 'sbsj', 'geometric_mid_point']].sort_values(['market_id', 'selection_id', 'sbsj'], ascending = [True, True, False]).rename(columns={'geometric_mid_point': 'odds'}).assign(type = lambda x: \"seconds before off: \" + x['sbsj'].astype(int).astype(str))\n",
                "\n",
                "# Extract the BSP values\n",
                "bsp = df.sort_values(['market_id', 'selection_id', 'time'], ascending = [True, True, False]).groupby(['market_id', 'selection_id']).head(1)[['market_id', 'selection_id', 'win', 'sbsj', 'bsp']].rename(columns={'bsp': 'odds'}).assign(type = \"bsp\")\n",
                "\n",
                "# Append them together\n",
                "accuracyFrame = pd.concat([preplay, bsp]).dropna()\n",
                "accuracyFrame.head(5)"
            ],
            "outputs": [
                {
                    "output_type": "execute_result",
                    "data": {
                        "text/plain": [
                            "           market_id selection_id  win   sbsj     odds  \\\n",
                            "2790008  1.171091071     10693094    0  120.0  134.164   \n",
                            "2790011  1.171091071     10693094    0   90.0  149.666   \n",
                            "2790014  1.171091071     10693094    0   60.0  200.000   \n",
                            "2790017  1.171091071     10693094    0   30.0  239.792   \n",
                            "2790020  1.171091071     10693094    0   -0.0  239.165   \n",
                            "\n",
                            "                            type  \n",
                            "2790008  seconds before off: 120  \n",
                            "2790011   seconds before off: 90  \n",
                            "2790014   seconds before off: 60  \n",
                            "2790017   seconds before off: 30  \n",
                            "2790020    seconds before off: 0  "
                        ],
                        "text/html": [
                            "<div>\n",
                            "<style scoped>\n",
                            "    .dataframe tbody tr th:only-of-type {\n",
                            "        vertical-align: middle;\n",
                            "    }\n",
                            "\n",
                            "    .dataframe tbody tr th {\n",
                            "        vertical-align: top;\n",
                            "    }\n",
                            "\n",
                            "    .dataframe thead th {\n",
                            "        text-align: right;\n",
                            "    }\n",
                            "</style>\n",
                            "<table border=\"1\" class=\"dataframe\">\n",
                            "  <thead>\n",
                            "    <tr style=\"text-align: right;\">\n",
                            "      <th></th>\n",
                            "      <th>market_id</th>\n",
                            "      <th>selection_id</th>\n",
                            "      <th>win</th>\n",
                            "      <th>sbsj</th>\n",
                            "      <th>odds</th>\n",
                            "      <th>type</th>\n",
                            "    </tr>\n",
                            "  </thead>\n",
                            "  <tbody>\n",
                            "    <tr>\n",
                            "      <th>2790008</th>\n",
                            "      <td>1.171091071</td>\n",
                            "      <td>10693094</td>\n",
                            "      <td>0</td>\n",
                            "      <td>120.0</td>\n",
                            "      <td>134.164</td>\n",
                            "      <td>seconds before off: 120</td>\n",
                            "    </tr>\n",
                            "    <tr>\n",
                            "      <th>2790011</th>\n",
                            "      <td>1.171091071</td>\n",
                            "      <td>10693094</td>\n",
                            "      <td>0</td>\n",
                            "      <td>90.0</td>\n",
                            "      <td>149.666</td>\n",
                            "      <td>seconds before off: 90</td>\n",
                            "    </tr>\n",
                            "    <tr>\n",
                            "      <th>2790014</th>\n",
                            "      <td>1.171091071</td>\n",
                            "      <td>10693094</td>\n",
                            "      <td>0</td>\n",
                            "      <td>60.0</td>\n",
                            "      <td>200.000</td>\n",
                            "      <td>seconds before off: 60</td>\n",
                            "    </tr>\n",
                            "    <tr>\n",
                            "      <th>2790017</th>\n",
                            "      <td>1.171091071</td>\n",
                            "      <td>10693094</td>\n",
                            "      <td>0</td>\n",
                            "      <td>30.0</td>\n",
                            "      <td>239.792</td>\n",
                            "      <td>seconds before off: 30</td>\n",
                            "    </tr>\n",
                            "    <tr>\n",
                            "      <th>2790020</th>\n",
                            "      <td>1.171091071</td>\n",
                            "      <td>10693094</td>\n",
                            "      <td>0</td>\n",
                            "      <td>-0.0</td>\n",
                            "      <td>239.165</td>\n",
                            "      <td>seconds before off: 0</td>\n",
                            "    </tr>\n",
                            "  </tbody>\n",
                            "</table>\n",
                            "</div>"
                        ]
                    },
                    "metadata": {},
                    "execution_count": 16
                }
            ],
            "metadata": {}
        },
        {
            "cell_type": "markdown",
            "source": [
                "Now we'll filter just on our BSP records and plot the observed vs actual scatterplot"
            ],
            "metadata": {}
        },
        {
            "cell_type": "code",
            "execution_count": 17,
            "source": [
                "# BSP Scatter\n",
                "# __________________\n",
                "\n",
                "winRates = (\n",
                "    accuracyFrame\n",
                "    .query('type == \"bsp\"')\n",
                "    .assign(implied_chance = lambda x: round(20 * (1 / x['odds']))/20)\n",
                "    .groupby('implied_chance', as_index = False)\n",
                "    .agg({'win': 'mean'})\n",
                ")\n",
                "\n",
                "fig = px.scatter(winRates, x = \"implied_chance\", y = \"win\", template = \"plotly_white\", title = \"BSP: implied win vs actual win\")\n",
                "fig.add_trace(\n",
                "    go.Scatter(\n",
                "        x = winRates.implied_chance, y = winRates.implied_chance, name = 'no bias', line_color = 'rgba(8,61,119, 0.3)'\n",
                "    )\n",
                ")\n",
                "fig.show()"
            ],
            "outputs": [
                {
                    "output_type": "display_data",
                    "data": {
                        "application/vnd.plotly.v1+json": {
                            "config": {
                                "plotlyServerURL": "https://plot.ly"
                            },
                            "data": [
                                {
                                    "hovertemplate": "implied_chance=%{x}<br>win=%{y}<extra></extra>",
                                    "legendgroup": "",
                                    "marker": {
                                        "color": "#636efa",
                                        "symbol": "circle"
                                    },
                                    "mode": "markers",
                                    "name": "",
                                    "orientation": "v",
                                    "showlegend": false,
                                    "type": "scatter",
                                    "x": [
                                        0,
                                        0.05,
                                        0.1,
                                        0.15,
                                        0.2,
                                        0.25,
                                        0.3,
                                        0.35,
                                        0.4,
                                        0.45,
                                        0.5,
                                        0.55,
                                        0.6,
                                        0.65,
                                        0.7,
                                        0.75,
                                        0.8,
                                        0.85,
                                        0.9,
                                        0.95
                                    ],
                                    "xaxis": "x",
                                    "y": [
                                        0.011267392619479734,
                                        0.047895919671759345,
                                        0.09898958615616894,
                                        0.15057889944061403,
                                        0.19809962568384681,
                                        0.24584155624471385,
                                        0.29716670327256756,
                                        0.3373153096510531,
                                        0.3938931297709924,
                                        0.4178294573643411,
                                        0.4962805526036132,
                                        0.5558659217877095,
                                        0.5752427184466019,
                                        0.6411483253588517,
                                        0.7019867549668874,
                                        0.7794117647058824,
                                        0.7241379310344828,
                                        0.9333333333333333,
                                        1,
                                        1
                                    ],
                                    "yaxis": "y"
                                },
                                {
                                    "line": {
                                        "color": "rgba(8,61,119, 0.3)"
                                    },
                                    "name": "no bias",
                                    "type": "scatter",
                                    "x": [
                                        0,
                                        0.05,
                                        0.1,
                                        0.15,
                                        0.2,
                                        0.25,
                                        0.3,
                                        0.35,
                                        0.4,
                                        0.45,
                                        0.5,
                                        0.55,
                                        0.6,
                                        0.65,
                                        0.7,
                                        0.75,
                                        0.8,
                                        0.85,
                                        0.9,
                                        0.95
                                    ],
                                    "y": [
                                        0,
                                        0.05,
                                        0.1,
                                        0.15,
                                        0.2,
                                        0.25,
                                        0.3,
                                        0.35,
                                        0.4,
                                        0.45,
                                        0.5,
                                        0.55,
                                        0.6,
                                        0.65,
                                        0.7,
                                        0.75,
                                        0.8,
                                        0.85,
                                        0.9,
                                        0.95
                                    ]
                                }
                            ],
                            "layout": {
                                "legend": {
                                    "tracegroupgap": 0
                                },
                                "template": {
                                    "data": {
                                        "bar": [
                                            {
                                                "error_x": {
                                                    "color": "#2a3f5f"
                                                },
                                                "error_y": {
                                                    "color": "#2a3f5f"
                                                },
                                                "marker": {
                                                    "line": {
                                                        "color": "white",
                                                        "width": 0.5
                                                    },
                                                    "pattern": {
                                                        "fillmode": "overlay",
                                                        "size": 10,
                                                        "solidity": 0.2
                                                    }
                                                },
                                                "type": "bar"
                                            }
                                        ],
                                        "barpolar": [
                                            {
                                                "marker": {
                                                    "line": {
                                                        "color": "white",
                                                        "width": 0.5
                                                    },
                                                    "pattern": {
                                                        "fillmode": "overlay",
                                                        "size": 10,
                                                        "solidity": 0.2
                                                    }
                                                },
                                                "type": "barpolar"
                                            }
                                        ],
                                        "carpet": [
                                            {
                                                "aaxis": {
                                                    "endlinecolor": "#2a3f5f",
                                                    "gridcolor": "#C8D4E3",
                                                    "linecolor": "#C8D4E3",
                                                    "minorgridcolor": "#C8D4E3",
                                                    "startlinecolor": "#2a3f5f"
                                                },
                                                "baxis": {
                                                    "endlinecolor": "#2a3f5f",
                                                    "gridcolor": "#C8D4E3",
                                                    "linecolor": "#C8D4E3",
                                                    "minorgridcolor": "#C8D4E3",
                                                    "startlinecolor": "#2a3f5f"
                                                },
                                                "type": "carpet"
                                            }
                                        ],
                                        "choropleth": [
                                            {
                                                "colorbar": {
                                                    "outlinewidth": 0,
                                                    "ticks": ""
                                                },
                                                "type": "choropleth"
                                            }
                                        ],
                                        "contour": [
                                            {
                                                "colorbar": {
                                                    "outlinewidth": 0,
                                                    "ticks": ""
                                                },
                                                "colorscale": [
                                                    [
                                                        0,
                                                        "#0d0887"
                                                    ],
                                                    [
                                                        0.1111111111111111,
                                                        "#46039f"
                                                    ],
                                                    [
                                                        0.2222222222222222,
                                                        "#7201a8"
                                                    ],
                                                    [
                                                        0.3333333333333333,
                                                        "#9c179e"
                                                    ],
                                                    [
                                                        0.4444444444444444,
                                                        "#bd3786"
                                                    ],
                                                    [
                                                        0.5555555555555556,
                                                        "#d8576b"
                                                    ],
                                                    [
                                                        0.6666666666666666,
                                                        "#ed7953"
                                                    ],
                                                    [
                                                        0.7777777777777778,
                                                        "#fb9f3a"
                                                    ],
                                                    [
                                                        0.8888888888888888,
                                                        "#fdca26"
                                                    ],
                                                    [
                                                        1,
                                                        "#f0f921"
                                                    ]
                                                ],
                                                "type": "contour"
                                            }
                                        ],
                                        "contourcarpet": [
                                            {
                                                "colorbar": {
                                                    "outlinewidth": 0,
                                                    "ticks": ""
                                                },
                                                "type": "contourcarpet"
                                            }
                                        ],
                                        "heatmap": [
                                            {
                                                "colorbar": {
                                                    "outlinewidth": 0,
                                                    "ticks": ""
                                                },
                                                "colorscale": [
                                                    [
                                                        0,
                                                        "#0d0887"
                                                    ],
                                                    [
                                                        0.1111111111111111,
                                                        "#46039f"
                                                    ],
                                                    [
                                                        0.2222222222222222,
                                                        "#7201a8"
                                                    ],
                                                    [
                                                        0.3333333333333333,
                                                        "#9c179e"
                                                    ],
                                                    [
                                                        0.4444444444444444,
                                                        "#bd3786"
                                                    ],
                                                    [
                                                        0.5555555555555556,
                                                        "#d8576b"
                                                    ],
                                                    [
                                                        0.6666666666666666,
                                                        "#ed7953"
                                                    ],
                                                    [
                                                        0.7777777777777778,
                                                        "#fb9f3a"
                                                    ],
                                                    [
                                                        0.8888888888888888,
                                                        "#fdca26"
                                                    ],
                                                    [
                                                        1,
                                                        "#f0f921"
                                                    ]
                                                ],
                                                "type": "heatmap"
                                            }
                                        ],
                                        "heatmapgl": [
                                            {
                                                "colorbar": {
                                                    "outlinewidth": 0,
                                                    "ticks": ""
                                                },
                                                "colorscale": [
                                                    [
                                                        0,
                                                        "#0d0887"
                                                    ],
                                                    [
                                                        0.1111111111111111,
                                                        "#46039f"
                                                    ],
                                                    [
                                                        0.2222222222222222,
                                                        "#7201a8"
                                                    ],
                                                    [
                                                        0.3333333333333333,
                                                        "#9c179e"
                                                    ],
                                                    [
                                                        0.4444444444444444,
                                                        "#bd3786"
                                                    ],
                                                    [
                                                        0.5555555555555556,
                                                        "#d8576b"
                                                    ],
                                                    [
                                                        0.6666666666666666,
                                                        "#ed7953"
                                                    ],
                                                    [
                                                        0.7777777777777778,
                                                        "#fb9f3a"
                                                    ],
                                                    [
                                                        0.8888888888888888,
                                                        "#fdca26"
                                                    ],
                                                    [
                                                        1,
                                                        "#f0f921"
                                                    ]
                                                ],
                                                "type": "heatmapgl"
                                            }
                                        ],
                                        "histogram": [
                                            {
                                                "marker": {
                                                    "pattern": {
                                                        "fillmode": "overlay",
                                                        "size": 10,
                                                        "solidity": 0.2
                                                    }
                                                },
                                                "type": "histogram"
                                            }
                                        ],
                                        "histogram2d": [
                                            {
                                                "colorbar": {
                                                    "outlinewidth": 0,
                                                    "ticks": ""
                                                },
                                                "colorscale": [
                                                    [
                                                        0,
                                                        "#0d0887"
                                                    ],
                                                    [
                                                        0.1111111111111111,
                                                        "#46039f"
                                                    ],
                                                    [
                                                        0.2222222222222222,
                                                        "#7201a8"
                                                    ],
                                                    [
                                                        0.3333333333333333,
                                                        "#9c179e"
                                                    ],
                                                    [
                                                        0.4444444444444444,
                                                        "#bd3786"
                                                    ],
                                                    [
                                                        0.5555555555555556,
                                                        "#d8576b"
                                                    ],
                                                    [
                                                        0.6666666666666666,
                                                        "#ed7953"
                                                    ],
                                                    [
                                                        0.7777777777777778,
                                                        "#fb9f3a"
                                                    ],
                                                    [
                                                        0.8888888888888888,
                                                        "#fdca26"
                                                    ],
                                                    [
                                                        1,
                                                        "#f0f921"
                                                    ]
                                                ],
                                                "type": "histogram2d"
                                            }
                                        ],
                                        "histogram2dcontour": [
                                            {
                                                "colorbar": {
                                                    "outlinewidth": 0,
                                                    "ticks": ""
                                                },
                                                "colorscale": [
                                                    [
                                                        0,
                                                        "#0d0887"
                                                    ],
                                                    [
                                                        0.1111111111111111,
                                                        "#46039f"
                                                    ],
                                                    [
                                                        0.2222222222222222,
                                                        "#7201a8"
                                                    ],
                                                    [
                                                        0.3333333333333333,
                                                        "#9c179e"
                                                    ],
                                                    [
                                                        0.4444444444444444,
                                                        "#bd3786"
                                                    ],
                                                    [
                                                        0.5555555555555556,
                                                        "#d8576b"
                                                    ],
                                                    [
                                                        0.6666666666666666,
                                                        "#ed7953"
                                                    ],
                                                    [
                                                        0.7777777777777778,
                                                        "#fb9f3a"
                                                    ],
                                                    [
                                                        0.8888888888888888,
                                                        "#fdca26"
                                                    ],
                                                    [
                                                        1,
                                                        "#f0f921"
                                                    ]
                                                ],
                                                "type": "histogram2dcontour"
                                            }
                                        ],
                                        "mesh3d": [
                                            {
                                                "colorbar": {
                                                    "outlinewidth": 0,
                                                    "ticks": ""
                                                },
                                                "type": "mesh3d"
                                            }
                                        ],
                                        "parcoords": [
                                            {
                                                "line": {
                                                    "colorbar": {
                                                        "outlinewidth": 0,
                                                        "ticks": ""
                                                    }
                                                },
                                                "type": "parcoords"
                                            }
                                        ],
                                        "pie": [
                                            {
                                                "automargin": true,
                                                "type": "pie"
                                            }
                                        ],
                                        "scatter": [
                                            {
                                                "marker": {
                                                    "colorbar": {
                                                        "outlinewidth": 0,
                                                        "ticks": ""
                                                    }
                                                },
                                                "type": "scatter"
                                            }
                                        ],
                                        "scatter3d": [
                                            {
                                                "line": {
                                                    "colorbar": {
                                                        "outlinewidth": 0,
                                                        "ticks": ""
                                                    }
                                                },
                                                "marker": {
                                                    "colorbar": {
                                                        "outlinewidth": 0,
                                                        "ticks": ""
                                                    }
                                                },
                                                "type": "scatter3d"
                                            }
                                        ],
                                        "scattercarpet": [
                                            {
                                                "marker": {
                                                    "colorbar": {
                                                        "outlinewidth": 0,
                                                        "ticks": ""
                                                    }
                                                },
                                                "type": "scattercarpet"
                                            }
                                        ],
                                        "scattergeo": [
                                            {
                                                "marker": {
                                                    "colorbar": {
                                                        "outlinewidth": 0,
                                                        "ticks": ""
                                                    }
                                                },
                                                "type": "scattergeo"
                                            }
                                        ],
                                        "scattergl": [
                                            {
                                                "marker": {
                                                    "colorbar": {
                                                        "outlinewidth": 0,
                                                        "ticks": ""
                                                    }
                                                },
                                                "type": "scattergl"
                                            }
                                        ],
                                        "scattermapbox": [
                                            {
                                                "marker": {
                                                    "colorbar": {
                                                        "outlinewidth": 0,
                                                        "ticks": ""
                                                    }
                                                },
                                                "type": "scattermapbox"
                                            }
                                        ],
                                        "scatterpolar": [
                                            {
                                                "marker": {
                                                    "colorbar": {
                                                        "outlinewidth": 0,
                                                        "ticks": ""
                                                    }
                                                },
                                                "type": "scatterpolar"
                                            }
                                        ],
                                        "scatterpolargl": [
                                            {
                                                "marker": {
                                                    "colorbar": {
                                                        "outlinewidth": 0,
                                                        "ticks": ""
                                                    }
                                                },
                                                "type": "scatterpolargl"
                                            }
                                        ],
                                        "scatterternary": [
                                            {
                                                "marker": {
                                                    "colorbar": {
                                                        "outlinewidth": 0,
                                                        "ticks": ""
                                                    }
                                                },
                                                "type": "scatterternary"
                                            }
                                        ],
                                        "surface": [
                                            {
                                                "colorbar": {
                                                    "outlinewidth": 0,
                                                    "ticks": ""
                                                },
                                                "colorscale": [
                                                    [
                                                        0,
                                                        "#0d0887"
                                                    ],
                                                    [
                                                        0.1111111111111111,
                                                        "#46039f"
                                                    ],
                                                    [
                                                        0.2222222222222222,
                                                        "#7201a8"
                                                    ],
                                                    [
                                                        0.3333333333333333,
                                                        "#9c179e"
                                                    ],
                                                    [
                                                        0.4444444444444444,
                                                        "#bd3786"
                                                    ],
                                                    [
                                                        0.5555555555555556,
                                                        "#d8576b"
                                                    ],
                                                    [
                                                        0.6666666666666666,
                                                        "#ed7953"
                                                    ],
                                                    [
                                                        0.7777777777777778,
                                                        "#fb9f3a"
                                                    ],
                                                    [
                                                        0.8888888888888888,
                                                        "#fdca26"
                                                    ],
                                                    [
                                                        1,
                                                        "#f0f921"
                                                    ]
                                                ],
                                                "type": "surface"
                                            }
                                        ],
                                        "table": [
                                            {
                                                "cells": {
                                                    "fill": {
                                                        "color": "#EBF0F8"
                                                    },
                                                    "line": {
                                                        "color": "white"
                                                    }
                                                },
                                                "header": {
                                                    "fill": {
                                                        "color": "#C8D4E3"
                                                    },
                                                    "line": {
                                                        "color": "white"
                                                    }
                                                },
                                                "type": "table"
                                            }
                                        ]
                                    },
                                    "layout": {
                                        "annotationdefaults": {
                                            "arrowcolor": "#2a3f5f",
                                            "arrowhead": 0,
                                            "arrowwidth": 1
                                        },
                                        "autotypenumbers": "strict",
                                        "coloraxis": {
                                            "colorbar": {
                                                "outlinewidth": 0,
                                                "ticks": ""
                                            }
                                        },
                                        "colorscale": {
                                            "diverging": [
                                                [
                                                    0,
                                                    "#8e0152"
                                                ],
                                                [
                                                    0.1,
                                                    "#c51b7d"
                                                ],
                                                [
                                                    0.2,
                                                    "#de77ae"
                                                ],
                                                [
                                                    0.3,
                                                    "#f1b6da"
                                                ],
                                                [
                                                    0.4,
                                                    "#fde0ef"
                                                ],
                                                [
                                                    0.5,
                                                    "#f7f7f7"
                                                ],
                                                [
                                                    0.6,
                                                    "#e6f5d0"
                                                ],
                                                [
                                                    0.7,
                                                    "#b8e186"
                                                ],
                                                [
                                                    0.8,
                                                    "#7fbc41"
                                                ],
                                                [
                                                    0.9,
                                                    "#4d9221"
                                                ],
                                                [
                                                    1,
                                                    "#276419"
                                                ]
                                            ],
                                            "sequential": [
                                                [
                                                    0,
                                                    "#0d0887"
                                                ],
                                                [
                                                    0.1111111111111111,
                                                    "#46039f"
                                                ],
                                                [
                                                    0.2222222222222222,
                                                    "#7201a8"
                                                ],
                                                [
                                                    0.3333333333333333,
                                                    "#9c179e"
                                                ],
                                                [
                                                    0.4444444444444444,
                                                    "#bd3786"
                                                ],
                                                [
                                                    0.5555555555555556,
                                                    "#d8576b"
                                                ],
                                                [
                                                    0.6666666666666666,
                                                    "#ed7953"
                                                ],
                                                [
                                                    0.7777777777777778,
                                                    "#fb9f3a"
                                                ],
                                                [
                                                    0.8888888888888888,
                                                    "#fdca26"
                                                ],
                                                [
                                                    1,
                                                    "#f0f921"
                                                ]
                                            ],
                                            "sequentialminus": [
                                                [
                                                    0,
                                                    "#0d0887"
                                                ],
                                                [
                                                    0.1111111111111111,
                                                    "#46039f"
                                                ],
                                                [
                                                    0.2222222222222222,
                                                    "#7201a8"
                                                ],
                                                [
                                                    0.3333333333333333,
                                                    "#9c179e"
                                                ],
                                                [
                                                    0.4444444444444444,
                                                    "#bd3786"
                                                ],
                                                [
                                                    0.5555555555555556,
                                                    "#d8576b"
                                                ],
                                                [
                                                    0.6666666666666666,
                                                    "#ed7953"
                                                ],
                                                [
                                                    0.7777777777777778,
                                                    "#fb9f3a"
                                                ],
                                                [
                                                    0.8888888888888888,
                                                    "#fdca26"
                                                ],
                                                [
                                                    1,
                                                    "#f0f921"
                                                ]
                                            ]
                                        },
                                        "colorway": [
                                            "#636efa",
                                            "#EF553B",
                                            "#00cc96",
                                            "#ab63fa",
                                            "#FFA15A",
                                            "#19d3f3",
                                            "#FF6692",
                                            "#B6E880",
                                            "#FF97FF",
                                            "#FECB52"
                                        ],
                                        "font": {
                                            "color": "#2a3f5f"
                                        },
                                        "geo": {
                                            "bgcolor": "white",
                                            "lakecolor": "white",
                                            "landcolor": "white",
                                            "showlakes": true,
                                            "showland": true,
                                            "subunitcolor": "#C8D4E3"
                                        },
                                        "hoverlabel": {
                                            "align": "left"
                                        },
                                        "hovermode": "closest",
                                        "mapbox": {
                                            "style": "light"
                                        },
                                        "paper_bgcolor": "white",
                                        "plot_bgcolor": "white",
                                        "polar": {
                                            "angularaxis": {
                                                "gridcolor": "#EBF0F8",
                                                "linecolor": "#EBF0F8",
                                                "ticks": ""
                                            },
                                            "bgcolor": "white",
                                            "radialaxis": {
                                                "gridcolor": "#EBF0F8",
                                                "linecolor": "#EBF0F8",
                                                "ticks": ""
                                            }
                                        },
                                        "scene": {
                                            "xaxis": {
                                                "backgroundcolor": "white",
                                                "gridcolor": "#DFE8F3",
                                                "gridwidth": 2,
                                                "linecolor": "#EBF0F8",
                                                "showbackground": true,
                                                "ticks": "",
                                                "zerolinecolor": "#EBF0F8"
                                            },
                                            "yaxis": {
                                                "backgroundcolor": "white",
                                                "gridcolor": "#DFE8F3",
                                                "gridwidth": 2,
                                                "linecolor": "#EBF0F8",
                                                "showbackground": true,
                                                "ticks": "",
                                                "zerolinecolor": "#EBF0F8"
                                            },
                                            "zaxis": {
                                                "backgroundcolor": "white",
                                                "gridcolor": "#DFE8F3",
                                                "gridwidth": 2,
                                                "linecolor": "#EBF0F8",
                                                "showbackground": true,
                                                "ticks": "",
                                                "zerolinecolor": "#EBF0F8"
                                            }
                                        },
                                        "shapedefaults": {
                                            "line": {
                                                "color": "#2a3f5f"
                                            }
                                        },
                                        "ternary": {
                                            "aaxis": {
                                                "gridcolor": "#DFE8F3",
                                                "linecolor": "#A2B1C6",
                                                "ticks": ""
                                            },
                                            "baxis": {
                                                "gridcolor": "#DFE8F3",
                                                "linecolor": "#A2B1C6",
                                                "ticks": ""
                                            },
                                            "bgcolor": "white",
                                            "caxis": {
                                                "gridcolor": "#DFE8F3",
                                                "linecolor": "#A2B1C6",
                                                "ticks": ""
                                            }
                                        },
                                        "title": {
                                            "x": 0.05
                                        },
                                        "xaxis": {
                                            "automargin": true,
                                            "gridcolor": "#EBF0F8",
                                            "linecolor": "#EBF0F8",
                                            "ticks": "",
                                            "title": {
                                                "standoff": 15
                                            },
                                            "zerolinecolor": "#EBF0F8",
                                            "zerolinewidth": 2
                                        },
                                        "yaxis": {
                                            "automargin": true,
                                            "gridcolor": "#EBF0F8",
                                            "linecolor": "#EBF0F8",
                                            "ticks": "",
                                            "title": {
                                                "standoff": 15
                                            },
                                            "zerolinecolor": "#EBF0F8",
                                            "zerolinewidth": 2
                                        }
                                    }
                                },
                                "title": {
                                    "text": "BSP: implied win vs actual win"
                                },
                                "xaxis": {
                                    "anchor": "y",
                                    "domain": [
                                        0,
                                        1
                                    ],
                                    "title": {
                                        "text": "implied_chance"
                                    }
                                },
                                "yaxis": {
                                    "anchor": "x",
                                    "domain": [
                                        0,
                                        1
                                    ],
                                    "title": {
                                        "text": "win"
                                    }
                                }
                            }
                        }
                    },
                    "metadata": {}
                }
            ],
            "metadata": {}
        },
        {
            "cell_type": "markdown",
            "source": [
                "Ok aside from some small sample noise at the top end (there's very few horses that run at sub 1.20 BSPs) we can see that the BSP is pretty perfectly.... efficient?\n",
                "\n",
                "I'm not sure that's the right word here. Let me illustrate with a counter example. Let's plot the same chart for the BSP as well as our 5 other price points."
            ],
            "metadata": {}
        },
        {
            "cell_type": "code",
            "execution_count": 18,
            "source": [
                "# Bsp + Other Odds Scatter\n",
                "# __________________\n",
                "\n",
                "winRates = (\n",
                "    accuracyFrame\n",
                "    .assign(implied_chance = lambda x: round(20 * (1 / x['odds']))/20)\n",
                "    .groupby(['type', 'implied_chance'], as_index = False)\n",
                "    .agg({'win': 'mean'})\n",
                ")\n",
                "\n",
                "fig = px.scatter(winRates, x = \"implied_chance\", y = \"win\", color = 'type', template = \"plotly_white\", title = \"Comparing Price Points: implied win vs actual win\")\n",
                "fig.add_trace(\n",
                "    go.Scatter(\n",
                "        x = winRates.implied_chance, y = winRates.implied_chance, name = 'no bias', line_color = 'rgba(8,61,119, 0.3)'\n",
                "    )\n",
                ")\n",
                "fig.show()"
            ],
            "outputs": [
                {
                    "output_type": "display_data",
                    "data": {
                        "application/vnd.plotly.v1+json": {
                            "config": {
                                "plotlyServerURL": "https://plot.ly"
                            },
                            "data": [
                                {
                                    "hovertemplate": "type=bsp<br>implied_chance=%{x}<br>win=%{y}<extra></extra>",
                                    "legendgroup": "bsp",
                                    "marker": {
                                        "color": "#636efa",
                                        "symbol": "circle"
                                    },
                                    "mode": "markers",
                                    "name": "bsp",
                                    "orientation": "v",
                                    "showlegend": true,
                                    "type": "scatter",
                                    "x": [
                                        0,
                                        0.05,
                                        0.1,
                                        0.15,
                                        0.2,
                                        0.25,
                                        0.3,
                                        0.35,
                                        0.4,
                                        0.45,
                                        0.5,
                                        0.55,
                                        0.6,
                                        0.65,
                                        0.7,
                                        0.75,
                                        0.8,
                                        0.85,
                                        0.9,
                                        0.95
                                    ],
                                    "xaxis": "x",
                                    "y": [
                                        0.011267392619479734,
                                        0.047895919671759345,
                                        0.09898958615616894,
                                        0.15057889944061403,
                                        0.19809962568384681,
                                        0.24584155624471385,
                                        0.29716670327256756,
                                        0.3373153096510531,
                                        0.3938931297709924,
                                        0.4178294573643411,
                                        0.4962805526036132,
                                        0.5558659217877095,
                                        0.5752427184466019,
                                        0.6411483253588517,
                                        0.7019867549668874,
                                        0.7794117647058824,
                                        0.7241379310344828,
                                        0.9333333333333333,
                                        1,
                                        1
                                    ],
                                    "yaxis": "y"
                                },
                                {
                                    "hovertemplate": "type=seconds before off: 0<br>implied_chance=%{x}<br>win=%{y}<extra></extra>",
                                    "legendgroup": "seconds before off: 0",
                                    "marker": {
                                        "color": "#EF553B",
                                        "symbol": "circle"
                                    },
                                    "mode": "markers",
                                    "name": "seconds before off: 0",
                                    "orientation": "v",
                                    "showlegend": true,
                                    "type": "scatter",
                                    "x": [
                                        0,
                                        0.05,
                                        0.1,
                                        0.15,
                                        0.2,
                                        0.25,
                                        0.3,
                                        0.35,
                                        0.4,
                                        0.45,
                                        0.5,
                                        0.55,
                                        0.6,
                                        0.65,
                                        0.7,
                                        0.75,
                                        0.8,
                                        0.85,
                                        0.9
                                    ],
                                    "xaxis": "x",
                                    "y": [
                                        0.011168515423187966,
                                        0.047595601509929426,
                                        0.1005868544600939,
                                        0.15317734305076078,
                                        0.19570360556449323,
                                        0.24935223289132755,
                                        0.30134182397088927,
                                        0.33263284299009305,
                                        0.3920844327176781,
                                        0.4362108479755539,
                                        0.4921135646687697,
                                        0.5656877897990726,
                                        0.592255125284738,
                                        0.6205357142857143,
                                        0.7196969696969697,
                                        0.7741935483870968,
                                        0.78125,
                                        0.8571428571428571,
                                        1
                                    ],
                                    "yaxis": "y"
                                },
                                {
                                    "hovertemplate": "type=seconds before off: 120<br>implied_chance=%{x}<br>win=%{y}<extra></extra>",
                                    "legendgroup": "seconds before off: 120",
                                    "marker": {
                                        "color": "#00cc96",
                                        "symbol": "circle"
                                    },
                                    "mode": "markers",
                                    "name": "seconds before off: 120",
                                    "orientation": "v",
                                    "showlegend": true,
                                    "type": "scatter",
                                    "x": [
                                        0,
                                        0.05,
                                        0.1,
                                        0.15,
                                        0.2,
                                        0.25,
                                        0.3,
                                        0.35,
                                        0.4,
                                        0.45,
                                        0.5,
                                        0.55,
                                        0.6,
                                        0.65,
                                        0.7,
                                        0.75,
                                        0.8,
                                        0.85,
                                        0.9
                                    ],
                                    "xaxis": "x",
                                    "y": [
                                        0.01106755821996772,
                                        0.04854546936114733,
                                        0.09855380856681246,
                                        0.15090104134189686,
                                        0.19828399019422968,
                                        0.2522051128718792,
                                        0.29250457038391225,
                                        0.34737799333131253,
                                        0.38303619665045924,
                                        0.43187250996015936,
                                        0.48452508004268946,
                                        0.5675675675675675,
                                        0.5766590389016019,
                                        0.6666666666666666,
                                        0.7007874015748031,
                                        0.765625,
                                        0.8333333333333334,
                                        0.8888888888888888,
                                        1
                                    ],
                                    "yaxis": "y"
                                },
                                {
                                    "hovertemplate": "type=seconds before off: 30<br>implied_chance=%{x}<br>win=%{y}<extra></extra>",
                                    "legendgroup": "seconds before off: 30",
                                    "marker": {
                                        "color": "#ab63fa",
                                        "symbol": "circle"
                                    },
                                    "mode": "markers",
                                    "name": "seconds before off: 30",
                                    "orientation": "v",
                                    "showlegend": true,
                                    "type": "scatter",
                                    "x": [
                                        0,
                                        0.05,
                                        0.1,
                                        0.15,
                                        0.2,
                                        0.25,
                                        0.3,
                                        0.35,
                                        0.4,
                                        0.45,
                                        0.5,
                                        0.55,
                                        0.6,
                                        0.65,
                                        0.7,
                                        0.75,
                                        0.8,
                                        0.85,
                                        0.9
                                    ],
                                    "xaxis": "x",
                                    "y": [
                                        0.011221945137157107,
                                        0.04811353409484251,
                                        0.09993287795633118,
                                        0.15177033492822967,
                                        0.19994303617203077,
                                        0.24657121326299924,
                                        0.2988610478359909,
                                        0.3376196172248804,
                                        0.3874933190807055,
                                        0.43788819875776397,
                                        0.4802981895633653,
                                        0.584518167456556,
                                        0.5781584582441114,
                                        0.6372093023255814,
                                        0.6992481203007519,
                                        0.7868852459016393,
                                        0.7666666666666667,
                                        0.8888888888888888,
                                        1
                                    ],
                                    "yaxis": "y"
                                },
                                {
                                    "hovertemplate": "type=seconds before off: 60<br>implied_chance=%{x}<br>win=%{y}<extra></extra>",
                                    "legendgroup": "seconds before off: 60",
                                    "marker": {
                                        "color": "#FFA15A",
                                        "symbol": "circle"
                                    },
                                    "mode": "markers",
                                    "name": "seconds before off: 60",
                                    "orientation": "v",
                                    "showlegend": true,
                                    "type": "scatter",
                                    "x": [
                                        0,
                                        0.05,
                                        0.1,
                                        0.15,
                                        0.2,
                                        0.25,
                                        0.3,
                                        0.35,
                                        0.4,
                                        0.45,
                                        0.5,
                                        0.55,
                                        0.6,
                                        0.65,
                                        0.7,
                                        0.75,
                                        0.8,
                                        0.85,
                                        0.9
                                    ],
                                    "xaxis": "x",
                                    "y": [
                                        0.011230245439300778,
                                        0.04808948399738733,
                                        0.10031187083020804,
                                        0.15085497150094998,
                                        0.19807674177429999,
                                        0.2491307634164777,
                                        0.2965501485035412,
                                        0.33949329359165425,
                                        0.39285714285714285,
                                        0.4429790535298681,
                                        0.46359743040685225,
                                        0.5884194053208138,
                                        0.5707762557077626,
                                        0.6594827586206896,
                                        0.6992481203007519,
                                        0.8,
                                        0.7241379310344828,
                                        0.9,
                                        1
                                    ],
                                    "yaxis": "y"
                                },
                                {
                                    "hovertemplate": "type=seconds before off: 90<br>implied_chance=%{x}<br>win=%{y}<extra></extra>",
                                    "legendgroup": "seconds before off: 90",
                                    "marker": {
                                        "color": "#19d3f3",
                                        "symbol": "circle"
                                    },
                                    "mode": "markers",
                                    "name": "seconds before off: 90",
                                    "orientation": "v",
                                    "showlegend": true,
                                    "type": "scatter",
                                    "x": [
                                        0,
                                        0.05,
                                        0.1,
                                        0.15,
                                        0.2,
                                        0.25,
                                        0.3,
                                        0.35,
                                        0.4,
                                        0.45,
                                        0.5,
                                        0.55,
                                        0.6,
                                        0.65,
                                        0.7,
                                        0.75,
                                        0.8,
                                        0.85,
                                        0.9
                                    ],
                                    "xaxis": "x",
                                    "y": [
                                        0.011117344076699474,
                                        0.04850548464706602,
                                        0.09770727279902135,
                                        0.15466314731020614,
                                        0.1947537271183242,
                                        0.2518275399075041,
                                        0.2995112869443798,
                                        0.33629893238434166,
                                        0.39759036144578314,
                                        0.43648960739030024,
                                        0.4771739130434783,
                                        0.5562599049128367,
                                        0.591743119266055,
                                        0.6565217391304348,
                                        0.7054263565891473,
                                        0.7796610169491526,
                                        0.8,
                                        0.9,
                                        1
                                    ],
                                    "yaxis": "y"
                                },
                                {
                                    "line": {
                                        "color": "rgba(8,61,119, 0.3)"
                                    },
                                    "name": "no bias",
                                    "type": "scatter",
                                    "x": [
                                        0,
                                        0.05,
                                        0.1,
                                        0.15,
                                        0.2,
                                        0.25,
                                        0.3,
                                        0.35,
                                        0.4,
                                        0.45,
                                        0.5,
                                        0.55,
                                        0.6,
                                        0.65,
                                        0.7,
                                        0.75,
                                        0.8,
                                        0.85,
                                        0.9,
                                        0.95,
                                        0,
                                        0.05,
                                        0.1,
                                        0.15,
                                        0.2,
                                        0.25,
                                        0.3,
                                        0.35,
                                        0.4,
                                        0.45,
                                        0.5,
                                        0.55,
                                        0.6,
                                        0.65,
                                        0.7,
                                        0.75,
                                        0.8,
                                        0.85,
                                        0.9,
                                        0,
                                        0.05,
                                        0.1,
                                        0.15,
                                        0.2,
                                        0.25,
                                        0.3,
                                        0.35,
                                        0.4,
                                        0.45,
                                        0.5,
                                        0.55,
                                        0.6,
                                        0.65,
                                        0.7,
                                        0.75,
                                        0.8,
                                        0.85,
                                        0.9,
                                        0,
                                        0.05,
                                        0.1,
                                        0.15,
                                        0.2,
                                        0.25,
                                        0.3,
                                        0.35,
                                        0.4,
                                        0.45,
                                        0.5,
                                        0.55,
                                        0.6,
                                        0.65,
                                        0.7,
                                        0.75,
                                        0.8,
                                        0.85,
                                        0.9,
                                        0,
                                        0.05,
                                        0.1,
                                        0.15,
                                        0.2,
                                        0.25,
                                        0.3,
                                        0.35,
                                        0.4,
                                        0.45,
                                        0.5,
                                        0.55,
                                        0.6,
                                        0.65,
                                        0.7,
                                        0.75,
                                        0.8,
                                        0.85,
                                        0.9,
                                        0,
                                        0.05,
                                        0.1,
                                        0.15,
                                        0.2,
                                        0.25,
                                        0.3,
                                        0.35,
                                        0.4,
                                        0.45,
                                        0.5,
                                        0.55,
                                        0.6,
                                        0.65,
                                        0.7,
                                        0.75,
                                        0.8,
                                        0.85,
                                        0.9
                                    ],
                                    "y": [
                                        0,
                                        0.05,
                                        0.1,
                                        0.15,
                                        0.2,
                                        0.25,
                                        0.3,
                                        0.35,
                                        0.4,
                                        0.45,
                                        0.5,
                                        0.55,
                                        0.6,
                                        0.65,
                                        0.7,
                                        0.75,
                                        0.8,
                                        0.85,
                                        0.9,
                                        0.95,
                                        0,
                                        0.05,
                                        0.1,
                                        0.15,
                                        0.2,
                                        0.25,
                                        0.3,
                                        0.35,
                                        0.4,
                                        0.45,
                                        0.5,
                                        0.55,
                                        0.6,
                                        0.65,
                                        0.7,
                                        0.75,
                                        0.8,
                                        0.85,
                                        0.9,
                                        0,
                                        0.05,
                                        0.1,
                                        0.15,
                                        0.2,
                                        0.25,
                                        0.3,
                                        0.35,
                                        0.4,
                                        0.45,
                                        0.5,
                                        0.55,
                                        0.6,
                                        0.65,
                                        0.7,
                                        0.75,
                                        0.8,
                                        0.85,
                                        0.9,
                                        0,
                                        0.05,
                                        0.1,
                                        0.15,
                                        0.2,
                                        0.25,
                                        0.3,
                                        0.35,
                                        0.4,
                                        0.45,
                                        0.5,
                                        0.55,
                                        0.6,
                                        0.65,
                                        0.7,
                                        0.75,
                                        0.8,
                                        0.85,
                                        0.9,
                                        0,
                                        0.05,
                                        0.1,
                                        0.15,
                                        0.2,
                                        0.25,
                                        0.3,
                                        0.35,
                                        0.4,
                                        0.45,
                                        0.5,
                                        0.55,
                                        0.6,
                                        0.65,
                                        0.7,
                                        0.75,
                                        0.8,
                                        0.85,
                                        0.9,
                                        0,
                                        0.05,
                                        0.1,
                                        0.15,
                                        0.2,
                                        0.25,
                                        0.3,
                                        0.35,
                                        0.4,
                                        0.45,
                                        0.5,
                                        0.55,
                                        0.6,
                                        0.65,
                                        0.7,
                                        0.75,
                                        0.8,
                                        0.85,
                                        0.9
                                    ]
                                }
                            ],
                            "layout": {
                                "legend": {
                                    "title": {
                                        "text": "type"
                                    },
                                    "tracegroupgap": 0
                                },
                                "template": {
                                    "data": {
                                        "bar": [
                                            {
                                                "error_x": {
                                                    "color": "#2a3f5f"
                                                },
                                                "error_y": {
                                                    "color": "#2a3f5f"
                                                },
                                                "marker": {
                                                    "line": {
                                                        "color": "white",
                                                        "width": 0.5
                                                    },
                                                    "pattern": {
                                                        "fillmode": "overlay",
                                                        "size": 10,
                                                        "solidity": 0.2
                                                    }
                                                },
                                                "type": "bar"
                                            }
                                        ],
                                        "barpolar": [
                                            {
                                                "marker": {
                                                    "line": {
                                                        "color": "white",
                                                        "width": 0.5
                                                    },
                                                    "pattern": {
                                                        "fillmode": "overlay",
                                                        "size": 10,
                                                        "solidity": 0.2
                                                    }
                                                },
                                                "type": "barpolar"
                                            }
                                        ],
                                        "carpet": [
                                            {
                                                "aaxis": {
                                                    "endlinecolor": "#2a3f5f",
                                                    "gridcolor": "#C8D4E3",
                                                    "linecolor": "#C8D4E3",
                                                    "minorgridcolor": "#C8D4E3",
                                                    "startlinecolor": "#2a3f5f"
                                                },
                                                "baxis": {
                                                    "endlinecolor": "#2a3f5f",
                                                    "gridcolor": "#C8D4E3",
                                                    "linecolor": "#C8D4E3",
                                                    "minorgridcolor": "#C8D4E3",
                                                    "startlinecolor": "#2a3f5f"
                                                },
                                                "type": "carpet"
                                            }
                                        ],
                                        "choropleth": [
                                            {
                                                "colorbar": {
                                                    "outlinewidth": 0,
                                                    "ticks": ""
                                                },
                                                "type": "choropleth"
                                            }
                                        ],
                                        "contour": [
                                            {
                                                "colorbar": {
                                                    "outlinewidth": 0,
                                                    "ticks": ""
                                                },
                                                "colorscale": [
                                                    [
                                                        0,
                                                        "#0d0887"
                                                    ],
                                                    [
                                                        0.1111111111111111,
                                                        "#46039f"
                                                    ],
                                                    [
                                                        0.2222222222222222,
                                                        "#7201a8"
                                                    ],
                                                    [
                                                        0.3333333333333333,
                                                        "#9c179e"
                                                    ],
                                                    [
                                                        0.4444444444444444,
                                                        "#bd3786"
                                                    ],
                                                    [
                                                        0.5555555555555556,
                                                        "#d8576b"
                                                    ],
                                                    [
                                                        0.6666666666666666,
                                                        "#ed7953"
                                                    ],
                                                    [
                                                        0.7777777777777778,
                                                        "#fb9f3a"
                                                    ],
                                                    [
                                                        0.8888888888888888,
                                                        "#fdca26"
                                                    ],
                                                    [
                                                        1,
                                                        "#f0f921"
                                                    ]
                                                ],
                                                "type": "contour"
                                            }
                                        ],
                                        "contourcarpet": [
                                            {
                                                "colorbar": {
                                                    "outlinewidth": 0,
                                                    "ticks": ""
                                                },
                                                "type": "contourcarpet"
                                            }
                                        ],
                                        "heatmap": [
                                            {
                                                "colorbar": {
                                                    "outlinewidth": 0,
                                                    "ticks": ""
                                                },
                                                "colorscale": [
                                                    [
                                                        0,
                                                        "#0d0887"
                                                    ],
                                                    [
                                                        0.1111111111111111,
                                                        "#46039f"
                                                    ],
                                                    [
                                                        0.2222222222222222,
                                                        "#7201a8"
                                                    ],
                                                    [
                                                        0.3333333333333333,
                                                        "#9c179e"
                                                    ],
                                                    [
                                                        0.4444444444444444,
                                                        "#bd3786"
                                                    ],
                                                    [
                                                        0.5555555555555556,
                                                        "#d8576b"
                                                    ],
                                                    [
                                                        0.6666666666666666,
                                                        "#ed7953"
                                                    ],
                                                    [
                                                        0.7777777777777778,
                                                        "#fb9f3a"
                                                    ],
                                                    [
                                                        0.8888888888888888,
                                                        "#fdca26"
                                                    ],
                                                    [
                                                        1,
                                                        "#f0f921"
                                                    ]
                                                ],
                                                "type": "heatmap"
                                            }
                                        ],
                                        "heatmapgl": [
                                            {
                                                "colorbar": {
                                                    "outlinewidth": 0,
                                                    "ticks": ""
                                                },
                                                "colorscale": [
                                                    [
                                                        0,
                                                        "#0d0887"
                                                    ],
                                                    [
                                                        0.1111111111111111,
                                                        "#46039f"
                                                    ],
                                                    [
                                                        0.2222222222222222,
                                                        "#7201a8"
                                                    ],
                                                    [
                                                        0.3333333333333333,
                                                        "#9c179e"
                                                    ],
                                                    [
                                                        0.4444444444444444,
                                                        "#bd3786"
                                                    ],
                                                    [
                                                        0.5555555555555556,
                                                        "#d8576b"
                                                    ],
                                                    [
                                                        0.6666666666666666,
                                                        "#ed7953"
                                                    ],
                                                    [
                                                        0.7777777777777778,
                                                        "#fb9f3a"
                                                    ],
                                                    [
                                                        0.8888888888888888,
                                                        "#fdca26"
                                                    ],
                                                    [
                                                        1,
                                                        "#f0f921"
                                                    ]
                                                ],
                                                "type": "heatmapgl"
                                            }
                                        ],
                                        "histogram": [
                                            {
                                                "marker": {
                                                    "pattern": {
                                                        "fillmode": "overlay",
                                                        "size": 10,
                                                        "solidity": 0.2
                                                    }
                                                },
                                                "type": "histogram"
                                            }
                                        ],
                                        "histogram2d": [
                                            {
                                                "colorbar": {
                                                    "outlinewidth": 0,
                                                    "ticks": ""
                                                },
                                                "colorscale": [
                                                    [
                                                        0,
                                                        "#0d0887"
                                                    ],
                                                    [
                                                        0.1111111111111111,
                                                        "#46039f"
                                                    ],
                                                    [
                                                        0.2222222222222222,
                                                        "#7201a8"
                                                    ],
                                                    [
                                                        0.3333333333333333,
                                                        "#9c179e"
                                                    ],
                                                    [
                                                        0.4444444444444444,
                                                        "#bd3786"
                                                    ],
                                                    [
                                                        0.5555555555555556,
                                                        "#d8576b"
                                                    ],
                                                    [
                                                        0.6666666666666666,
                                                        "#ed7953"
                                                    ],
                                                    [
                                                        0.7777777777777778,
                                                        "#fb9f3a"
                                                    ],
                                                    [
                                                        0.8888888888888888,
                                                        "#fdca26"
                                                    ],
                                                    [
                                                        1,
                                                        "#f0f921"
                                                    ]
                                                ],
                                                "type": "histogram2d"
                                            }
                                        ],
                                        "histogram2dcontour": [
                                            {
                                                "colorbar": {
                                                    "outlinewidth": 0,
                                                    "ticks": ""
                                                },
                                                "colorscale": [
                                                    [
                                                        0,
                                                        "#0d0887"
                                                    ],
                                                    [
                                                        0.1111111111111111,
                                                        "#46039f"
                                                    ],
                                                    [
                                                        0.2222222222222222,
                                                        "#7201a8"
                                                    ],
                                                    [
                                                        0.3333333333333333,
                                                        "#9c179e"
                                                    ],
                                                    [
                                                        0.4444444444444444,
                                                        "#bd3786"
                                                    ],
                                                    [
                                                        0.5555555555555556,
                                                        "#d8576b"
                                                    ],
                                                    [
                                                        0.6666666666666666,
                                                        "#ed7953"
                                                    ],
                                                    [
                                                        0.7777777777777778,
                                                        "#fb9f3a"
                                                    ],
                                                    [
                                                        0.8888888888888888,
                                                        "#fdca26"
                                                    ],
                                                    [
                                                        1,
                                                        "#f0f921"
                                                    ]
                                                ],
                                                "type": "histogram2dcontour"
                                            }
                                        ],
                                        "mesh3d": [
                                            {
                                                "colorbar": {
                                                    "outlinewidth": 0,
                                                    "ticks": ""
                                                },
                                                "type": "mesh3d"
                                            }
                                        ],
                                        "parcoords": [
                                            {
                                                "line": {
                                                    "colorbar": {
                                                        "outlinewidth": 0,
                                                        "ticks": ""
                                                    }
                                                },
                                                "type": "parcoords"
                                            }
                                        ],
                                        "pie": [
                                            {
                                                "automargin": true,
                                                "type": "pie"
                                            }
                                        ],
                                        "scatter": [
                                            {
                                                "marker": {
                                                    "colorbar": {
                                                        "outlinewidth": 0,
                                                        "ticks": ""
                                                    }
                                                },
                                                "type": "scatter"
                                            }
                                        ],
                                        "scatter3d": [
                                            {
                                                "line": {
                                                    "colorbar": {
                                                        "outlinewidth": 0,
                                                        "ticks": ""
                                                    }
                                                },
                                                "marker": {
                                                    "colorbar": {
                                                        "outlinewidth": 0,
                                                        "ticks": ""
                                                    }
                                                },
                                                "type": "scatter3d"
                                            }
                                        ],
                                        "scattercarpet": [
                                            {
                                                "marker": {
                                                    "colorbar": {
                                                        "outlinewidth": 0,
                                                        "ticks": ""
                                                    }
                                                },
                                                "type": "scattercarpet"
                                            }
                                        ],
                                        "scattergeo": [
                                            {
                                                "marker": {
                                                    "colorbar": {
                                                        "outlinewidth": 0,
                                                        "ticks": ""
                                                    }
                                                },
                                                "type": "scattergeo"
                                            }
                                        ],
                                        "scattergl": [
                                            {
                                                "marker": {
                                                    "colorbar": {
                                                        "outlinewidth": 0,
                                                        "ticks": ""
                                                    }
                                                },
                                                "type": "scattergl"
                                            }
                                        ],
                                        "scattermapbox": [
                                            {
                                                "marker": {
                                                    "colorbar": {
                                                        "outlinewidth": 0,
                                                        "ticks": ""
                                                    }
                                                },
                                                "type": "scattermapbox"
                                            }
                                        ],
                                        "scatterpolar": [
                                            {
                                                "marker": {
                                                    "colorbar": {
                                                        "outlinewidth": 0,
                                                        "ticks": ""
                                                    }
                                                },
                                                "type": "scatterpolar"
                                            }
                                        ],
                                        "scatterpolargl": [
                                            {
                                                "marker": {
                                                    "colorbar": {
                                                        "outlinewidth": 0,
                                                        "ticks": ""
                                                    }
                                                },
                                                "type": "scatterpolargl"
                                            }
                                        ],
                                        "scatterternary": [
                                            {
                                                "marker": {
                                                    "colorbar": {
                                                        "outlinewidth": 0,
                                                        "ticks": ""
                                                    }
                                                },
                                                "type": "scatterternary"
                                            }
                                        ],
                                        "surface": [
                                            {
                                                "colorbar": {
                                                    "outlinewidth": 0,
                                                    "ticks": ""
                                                },
                                                "colorscale": [
                                                    [
                                                        0,
                                                        "#0d0887"
                                                    ],
                                                    [
                                                        0.1111111111111111,
                                                        "#46039f"
                                                    ],
                                                    [
                                                        0.2222222222222222,
                                                        "#7201a8"
                                                    ],
                                                    [
                                                        0.3333333333333333,
                                                        "#9c179e"
                                                    ],
                                                    [
                                                        0.4444444444444444,
                                                        "#bd3786"
                                                    ],
                                                    [
                                                        0.5555555555555556,
                                                        "#d8576b"
                                                    ],
                                                    [
                                                        0.6666666666666666,
                                                        "#ed7953"
                                                    ],
                                                    [
                                                        0.7777777777777778,
                                                        "#fb9f3a"
                                                    ],
                                                    [
                                                        0.8888888888888888,
                                                        "#fdca26"
                                                    ],
                                                    [
                                                        1,
                                                        "#f0f921"
                                                    ]
                                                ],
                                                "type": "surface"
                                            }
                                        ],
                                        "table": [
                                            {
                                                "cells": {
                                                    "fill": {
                                                        "color": "#EBF0F8"
                                                    },
                                                    "line": {
                                                        "color": "white"
                                                    }
                                                },
                                                "header": {
                                                    "fill": {
                                                        "color": "#C8D4E3"
                                                    },
                                                    "line": {
                                                        "color": "white"
                                                    }
                                                },
                                                "type": "table"
                                            }
                                        ]
                                    },
                                    "layout": {
                                        "annotationdefaults": {
                                            "arrowcolor": "#2a3f5f",
                                            "arrowhead": 0,
                                            "arrowwidth": 1
                                        },
                                        "autotypenumbers": "strict",
                                        "coloraxis": {
                                            "colorbar": {
                                                "outlinewidth": 0,
                                                "ticks": ""
                                            }
                                        },
                                        "colorscale": {
                                            "diverging": [
                                                [
                                                    0,
                                                    "#8e0152"
                                                ],
                                                [
                                                    0.1,
                                                    "#c51b7d"
                                                ],
                                                [
                                                    0.2,
                                                    "#de77ae"
                                                ],
                                                [
                                                    0.3,
                                                    "#f1b6da"
                                                ],
                                                [
                                                    0.4,
                                                    "#fde0ef"
                                                ],
                                                [
                                                    0.5,
                                                    "#f7f7f7"
                                                ],
                                                [
                                                    0.6,
                                                    "#e6f5d0"
                                                ],
                                                [
                                                    0.7,
                                                    "#b8e186"
                                                ],
                                                [
                                                    0.8,
                                                    "#7fbc41"
                                                ],
                                                [
                                                    0.9,
                                                    "#4d9221"
                                                ],
                                                [
                                                    1,
                                                    "#276419"
                                                ]
                                            ],
                                            "sequential": [
                                                [
                                                    0,
                                                    "#0d0887"
                                                ],
                                                [
                                                    0.1111111111111111,
                                                    "#46039f"
                                                ],
                                                [
                                                    0.2222222222222222,
                                                    "#7201a8"
                                                ],
                                                [
                                                    0.3333333333333333,
                                                    "#9c179e"
                                                ],
                                                [
                                                    0.4444444444444444,
                                                    "#bd3786"
                                                ],
                                                [
                                                    0.5555555555555556,
                                                    "#d8576b"
                                                ],
                                                [
                                                    0.6666666666666666,
                                                    "#ed7953"
                                                ],
                                                [
                                                    0.7777777777777778,
                                                    "#fb9f3a"
                                                ],
                                                [
                                                    0.8888888888888888,
                                                    "#fdca26"
                                                ],
                                                [
                                                    1,
                                                    "#f0f921"
                                                ]
                                            ],
                                            "sequentialminus": [
                                                [
                                                    0,
                                                    "#0d0887"
                                                ],
                                                [
                                                    0.1111111111111111,
                                                    "#46039f"
                                                ],
                                                [
                                                    0.2222222222222222,
                                                    "#7201a8"
                                                ],
                                                [
                                                    0.3333333333333333,
                                                    "#9c179e"
                                                ],
                                                [
                                                    0.4444444444444444,
                                                    "#bd3786"
                                                ],
                                                [
                                                    0.5555555555555556,
                                                    "#d8576b"
                                                ],
                                                [
                                                    0.6666666666666666,
                                                    "#ed7953"
                                                ],
                                                [
                                                    0.7777777777777778,
                                                    "#fb9f3a"
                                                ],
                                                [
                                                    0.8888888888888888,
                                                    "#fdca26"
                                                ],
                                                [
                                                    1,
                                                    "#f0f921"
                                                ]
                                            ]
                                        },
                                        "colorway": [
                                            "#636efa",
                                            "#EF553B",
                                            "#00cc96",
                                            "#ab63fa",
                                            "#FFA15A",
                                            "#19d3f3",
                                            "#FF6692",
                                            "#B6E880",
                                            "#FF97FF",
                                            "#FECB52"
                                        ],
                                        "font": {
                                            "color": "#2a3f5f"
                                        },
                                        "geo": {
                                            "bgcolor": "white",
                                            "lakecolor": "white",
                                            "landcolor": "white",
                                            "showlakes": true,
                                            "showland": true,
                                            "subunitcolor": "#C8D4E3"
                                        },
                                        "hoverlabel": {
                                            "align": "left"
                                        },
                                        "hovermode": "closest",
                                        "mapbox": {
                                            "style": "light"
                                        },
                                        "paper_bgcolor": "white",
                                        "plot_bgcolor": "white",
                                        "polar": {
                                            "angularaxis": {
                                                "gridcolor": "#EBF0F8",
                                                "linecolor": "#EBF0F8",
                                                "ticks": ""
                                            },
                                            "bgcolor": "white",
                                            "radialaxis": {
                                                "gridcolor": "#EBF0F8",
                                                "linecolor": "#EBF0F8",
                                                "ticks": ""
                                            }
                                        },
                                        "scene": {
                                            "xaxis": {
                                                "backgroundcolor": "white",
                                                "gridcolor": "#DFE8F3",
                                                "gridwidth": 2,
                                                "linecolor": "#EBF0F8",
                                                "showbackground": true,
                                                "ticks": "",
                                                "zerolinecolor": "#EBF0F8"
                                            },
                                            "yaxis": {
                                                "backgroundcolor": "white",
                                                "gridcolor": "#DFE8F3",
                                                "gridwidth": 2,
                                                "linecolor": "#EBF0F8",
                                                "showbackground": true,
                                                "ticks": "",
                                                "zerolinecolor": "#EBF0F8"
                                            },
                                            "zaxis": {
                                                "backgroundcolor": "white",
                                                "gridcolor": "#DFE8F3",
                                                "gridwidth": 2,
                                                "linecolor": "#EBF0F8",
                                                "showbackground": true,
                                                "ticks": "",
                                                "zerolinecolor": "#EBF0F8"
                                            }
                                        },
                                        "shapedefaults": {
                                            "line": {
                                                "color": "#2a3f5f"
                                            }
                                        },
                                        "ternary": {
                                            "aaxis": {
                                                "gridcolor": "#DFE8F3",
                                                "linecolor": "#A2B1C6",
                                                "ticks": ""
                                            },
                                            "baxis": {
                                                "gridcolor": "#DFE8F3",
                                                "linecolor": "#A2B1C6",
                                                "ticks": ""
                                            },
                                            "bgcolor": "white",
                                            "caxis": {
                                                "gridcolor": "#DFE8F3",
                                                "linecolor": "#A2B1C6",
                                                "ticks": ""
                                            }
                                        },
                                        "title": {
                                            "x": 0.05
                                        },
                                        "xaxis": {
                                            "automargin": true,
                                            "gridcolor": "#EBF0F8",
                                            "linecolor": "#EBF0F8",
                                            "ticks": "",
                                            "title": {
                                                "standoff": 15
                                            },
                                            "zerolinecolor": "#EBF0F8",
                                            "zerolinewidth": 2
                                        },
                                        "yaxis": {
                                            "automargin": true,
                                            "gridcolor": "#EBF0F8",
                                            "linecolor": "#EBF0F8",
                                            "ticks": "",
                                            "title": {
                                                "standoff": 15
                                            },
                                            "zerolinecolor": "#EBF0F8",
                                            "zerolinewidth": 2
                                        }
                                    }
                                },
                                "title": {
                                    "text": "Comparing Price Points: implied win vs actual win"
                                },
                                "xaxis": {
                                    "anchor": "y",
                                    "domain": [
                                        0,
                                        1
                                    ],
                                    "title": {
                                        "text": "implied_chance"
                                    }
                                },
                                "yaxis": {
                                    "anchor": "x",
                                    "domain": [
                                        0,
                                        1
                                    ],
                                    "title": {
                                        "text": "win"
                                    }
                                }
                            }
                        }
                    },
                    "metadata": {}
                }
            ],
            "metadata": {}
        },
        {
            "cell_type": "markdown",
            "source": [
                "So they're all efficient? And indecernibly as efficient as each other?\n",
                "\n",
                "Well to cut a long story short this isn't the right way to measure efficiency. What we're measure here is **bias**. All my scatter plot here tells me is if there's any systematic bias in the BSP. That is groups of BSPs that aren't well calibrated with actual outcomes. That is, for example, that perhaps randomly the group of horses that BSP around 2 don't happen to win 50% of the time maybe there was a sytemic bias that short favourites were underbet and these selections actually won 55% of the time. That's an interesting metric but not particularly illuminating.\n",
                "\n",
                "I could create a perfectly well calibrated estimate that assigned a single odds value to every horse which was their empirical win rate over our sample 10.25% which is merely a reflection of field sizes"
            ],
            "metadata": {}
        },
        {
            "cell_type": "code",
            "execution_count": 19,
            "source": [
                "df.agg({'win': 'mean'})"
            ],
            "outputs": [
                {
                    "output_type": "execute_result",
                    "data": {
                        "text/plain": [
                            "win    0.102595\n",
                            "dtype: float64"
                        ]
                    },
                    "metadata": {},
                    "execution_count": 19
                }
            ],
            "metadata": {}
        },
        {
            "cell_type": "markdown",
            "source": [
                "Bias only tells us if there's a systematic way of exploiting the odds values themselves. I could have told you that this was unlikely but the scatterplot proves it.\n",
                "\n",
                "How else could we measure efficiency? I propose using the `logloss` metric.\n",
                "\n",
                "Let's calculate the logloss of the BSP"
            ],
            "metadata": {}
        },
        {
            "cell_type": "code",
            "execution_count": 20,
            "source": [
                "# Logloss ++++++++++++++++++++++++++++++++++++++++\n",
                "\n",
                "from sklearn.metrics import log_loss\n",
                "\n",
                "# Overall Logloss\n",
                "# _________________\n",
                "\n",
                "bspLoss = log_loss(\n",
                "    y_pred = 1 / accuracyFrame.query('type == \"bsp\"')['odds'],\n",
                "    y_true = accuracyFrame.query('type == \"bsp\"')['win']\n",
                ")\n",
                "\n",
                "print(f'The overall logloss of the BSP is {round(bspLoss,4)}')"
            ],
            "outputs": [
                {
                    "output_type": "stream",
                    "name": "stdout",
                    "text": [
                        "The overall logloss of the BSP is 0.2757\n"
                    ]
                }
            ],
            "metadata": {}
        },
        {
            "cell_type": "markdown",
            "source": [
                "Ok what does this mean? Well nothing really. This metric won't tell you anything by itself it's just useful for relative comparisons. Let's plot the logloss of our geometric midpoint at our various timeslices.\n"
            ],
            "metadata": {}
        },
        {
            "cell_type": "code",
            "execution_count": 21,
            "source": [
                "\n",
                "# Logloss at Different Time Points\n",
                "# _________________\n",
                "\n",
                "accuracyFrame.groupby('type', as_index = False).apply(lambda x: log_loss(y_pred=1/x['odds'],y_true=x['win'])).rename(columns = {None: 'logloss'}).sort_values('logloss')"
            ],
            "outputs": [
                {
                    "output_type": "execute_result",
                    "data": {
                        "text/plain": [
                            "                      type   logloss\n",
                            "0                      bsp  0.275679\n",
                            "1    seconds before off: 0  0.275824\n",
                            "3   seconds before off: 30  0.275999\n",
                            "4   seconds before off: 60  0.276044\n",
                            "5   seconds before off: 90  0.276206\n",
                            "2  seconds before off: 120  0.276256"
                        ],
                        "text/html": [
                            "<div>\n",
                            "<style scoped>\n",
                            "    .dataframe tbody tr th:only-of-type {\n",
                            "        vertical-align: middle;\n",
                            "    }\n",
                            "\n",
                            "    .dataframe tbody tr th {\n",
                            "        vertical-align: top;\n",
                            "    }\n",
                            "\n",
                            "    .dataframe thead th {\n",
                            "        text-align: right;\n",
                            "    }\n",
                            "</style>\n",
                            "<table border=\"1\" class=\"dataframe\">\n",
                            "  <thead>\n",
                            "    <tr style=\"text-align: right;\">\n",
                            "      <th></th>\n",
                            "      <th>type</th>\n",
                            "      <th>logloss</th>\n",
                            "    </tr>\n",
                            "  </thead>\n",
                            "  <tbody>\n",
                            "    <tr>\n",
                            "      <th>0</th>\n",
                            "      <td>bsp</td>\n",
                            "      <td>0.275679</td>\n",
                            "    </tr>\n",
                            "    <tr>\n",
                            "      <th>1</th>\n",
                            "      <td>seconds before off: 0</td>\n",
                            "      <td>0.275824</td>\n",
                            "    </tr>\n",
                            "    <tr>\n",
                            "      <th>3</th>\n",
                            "      <td>seconds before off: 30</td>\n",
                            "      <td>0.275999</td>\n",
                            "    </tr>\n",
                            "    <tr>\n",
                            "      <th>4</th>\n",
                            "      <td>seconds before off: 60</td>\n",
                            "      <td>0.276044</td>\n",
                            "    </tr>\n",
                            "    <tr>\n",
                            "      <th>5</th>\n",
                            "      <td>seconds before off: 90</td>\n",
                            "      <td>0.276206</td>\n",
                            "    </tr>\n",
                            "    <tr>\n",
                            "      <th>2</th>\n",
                            "      <td>seconds before off: 120</td>\n",
                            "      <td>0.276256</td>\n",
                            "    </tr>\n",
                            "  </tbody>\n",
                            "</table>\n",
                            "</div>"
                        ]
                    },
                    "metadata": {},
                    "execution_count": 21
                }
            ],
            "metadata": {}
        },
        {
            "cell_type": "code",
            "execution_count": 22,
            "source": [
                "# And in chart form\n",
                "fig = px.bar(\n",
                "    accuracyFrame.groupby('type', as_index = False).apply(lambda x: log_loss(y_pred=1/x['odds'],y_true=x['win'])).rename(columns = {None: 'logloss'}).sort_values('logloss', ascending = False),\n",
                "    x = \"type\",\n",
                "    y = \"logloss\",\n",
                "    template = \"plotly_white\",\n",
                "    title = \"Logloss Of Odds At Various Time Points\"\n",
                ")\n",
                "fig.update_yaxes(range=[.2755, .2765])\n",
                "fig.show()"
            ],
            "outputs": [
                {
                    "output_type": "display_data",
                    "data": {
                        "application/vnd.plotly.v1+json": {
                            "config": {
                                "plotlyServerURL": "https://plot.ly"
                            },
                            "data": [
                                {
                                    "alignmentgroup": "True",
                                    "hovertemplate": "type=%{x}<br>logloss=%{y}<extra></extra>",
                                    "legendgroup": "",
                                    "marker": {
                                        "color": "#636efa",
                                        "pattern": {
                                            "shape": ""
                                        }
                                    },
                                    "name": "",
                                    "offsetgroup": "",
                                    "orientation": "v",
                                    "showlegend": false,
                                    "textposition": "auto",
                                    "type": "bar",
                                    "x": [
                                        "seconds before off: 120",
                                        "seconds before off: 90",
                                        "seconds before off: 60",
                                        "seconds before off: 30",
                                        "seconds before off: 0",
                                        "bsp"
                                    ],
                                    "xaxis": "x",
                                    "y": [
                                        0.27625622698141944,
                                        0.276205542681414,
                                        0.27604391650665755,
                                        0.2759989186373514,
                                        0.2758238546818102,
                                        0.2756792571059702
                                    ],
                                    "yaxis": "y"
                                }
                            ],
                            "layout": {
                                "barmode": "relative",
                                "legend": {
                                    "tracegroupgap": 0
                                },
                                "template": {
                                    "data": {
                                        "bar": [
                                            {
                                                "error_x": {
                                                    "color": "#2a3f5f"
                                                },
                                                "error_y": {
                                                    "color": "#2a3f5f"
                                                },
                                                "marker": {
                                                    "line": {
                                                        "color": "white",
                                                        "width": 0.5
                                                    },
                                                    "pattern": {
                                                        "fillmode": "overlay",
                                                        "size": 10,
                                                        "solidity": 0.2
                                                    }
                                                },
                                                "type": "bar"
                                            }
                                        ],
                                        "barpolar": [
                                            {
                                                "marker": {
                                                    "line": {
                                                        "color": "white",
                                                        "width": 0.5
                                                    },
                                                    "pattern": {
                                                        "fillmode": "overlay",
                                                        "size": 10,
                                                        "solidity": 0.2
                                                    }
                                                },
                                                "type": "barpolar"
                                            }
                                        ],
                                        "carpet": [
                                            {
                                                "aaxis": {
                                                    "endlinecolor": "#2a3f5f",
                                                    "gridcolor": "#C8D4E3",
                                                    "linecolor": "#C8D4E3",
                                                    "minorgridcolor": "#C8D4E3",
                                                    "startlinecolor": "#2a3f5f"
                                                },
                                                "baxis": {
                                                    "endlinecolor": "#2a3f5f",
                                                    "gridcolor": "#C8D4E3",
                                                    "linecolor": "#C8D4E3",
                                                    "minorgridcolor": "#C8D4E3",
                                                    "startlinecolor": "#2a3f5f"
                                                },
                                                "type": "carpet"
                                            }
                                        ],
                                        "choropleth": [
                                            {
                                                "colorbar": {
                                                    "outlinewidth": 0,
                                                    "ticks": ""
                                                },
                                                "type": "choropleth"
                                            }
                                        ],
                                        "contour": [
                                            {
                                                "colorbar": {
                                                    "outlinewidth": 0,
                                                    "ticks": ""
                                                },
                                                "colorscale": [
                                                    [
                                                        0,
                                                        "#0d0887"
                                                    ],
                                                    [
                                                        0.1111111111111111,
                                                        "#46039f"
                                                    ],
                                                    [
                                                        0.2222222222222222,
                                                        "#7201a8"
                                                    ],
                                                    [
                                                        0.3333333333333333,
                                                        "#9c179e"
                                                    ],
                                                    [
                                                        0.4444444444444444,
                                                        "#bd3786"
                                                    ],
                                                    [
                                                        0.5555555555555556,
                                                        "#d8576b"
                                                    ],
                                                    [
                                                        0.6666666666666666,
                                                        "#ed7953"
                                                    ],
                                                    [
                                                        0.7777777777777778,
                                                        "#fb9f3a"
                                                    ],
                                                    [
                                                        0.8888888888888888,
                                                        "#fdca26"
                                                    ],
                                                    [
                                                        1,
                                                        "#f0f921"
                                                    ]
                                                ],
                                                "type": "contour"
                                            }
                                        ],
                                        "contourcarpet": [
                                            {
                                                "colorbar": {
                                                    "outlinewidth": 0,
                                                    "ticks": ""
                                                },
                                                "type": "contourcarpet"
                                            }
                                        ],
                                        "heatmap": [
                                            {
                                                "colorbar": {
                                                    "outlinewidth": 0,
                                                    "ticks": ""
                                                },
                                                "colorscale": [
                                                    [
                                                        0,
                                                        "#0d0887"
                                                    ],
                                                    [
                                                        0.1111111111111111,
                                                        "#46039f"
                                                    ],
                                                    [
                                                        0.2222222222222222,
                                                        "#7201a8"
                                                    ],
                                                    [
                                                        0.3333333333333333,
                                                        "#9c179e"
                                                    ],
                                                    [
                                                        0.4444444444444444,
                                                        "#bd3786"
                                                    ],
                                                    [
                                                        0.5555555555555556,
                                                        "#d8576b"
                                                    ],
                                                    [
                                                        0.6666666666666666,
                                                        "#ed7953"
                                                    ],
                                                    [
                                                        0.7777777777777778,
                                                        "#fb9f3a"
                                                    ],
                                                    [
                                                        0.8888888888888888,
                                                        "#fdca26"
                                                    ],
                                                    [
                                                        1,
                                                        "#f0f921"
                                                    ]
                                                ],
                                                "type": "heatmap"
                                            }
                                        ],
                                        "heatmapgl": [
                                            {
                                                "colorbar": {
                                                    "outlinewidth": 0,
                                                    "ticks": ""
                                                },
                                                "colorscale": [
                                                    [
                                                        0,
                                                        "#0d0887"
                                                    ],
                                                    [
                                                        0.1111111111111111,
                                                        "#46039f"
                                                    ],
                                                    [
                                                        0.2222222222222222,
                                                        "#7201a8"
                                                    ],
                                                    [
                                                        0.3333333333333333,
                                                        "#9c179e"
                                                    ],
                                                    [
                                                        0.4444444444444444,
                                                        "#bd3786"
                                                    ],
                                                    [
                                                        0.5555555555555556,
                                                        "#d8576b"
                                                    ],
                                                    [
                                                        0.6666666666666666,
                                                        "#ed7953"
                                                    ],
                                                    [
                                                        0.7777777777777778,
                                                        "#fb9f3a"
                                                    ],
                                                    [
                                                        0.8888888888888888,
                                                        "#fdca26"
                                                    ],
                                                    [
                                                        1,
                                                        "#f0f921"
                                                    ]
                                                ],
                                                "type": "heatmapgl"
                                            }
                                        ],
                                        "histogram": [
                                            {
                                                "marker": {
                                                    "pattern": {
                                                        "fillmode": "overlay",
                                                        "size": 10,
                                                        "solidity": 0.2
                                                    }
                                                },
                                                "type": "histogram"
                                            }
                                        ],
                                        "histogram2d": [
                                            {
                                                "colorbar": {
                                                    "outlinewidth": 0,
                                                    "ticks": ""
                                                },
                                                "colorscale": [
                                                    [
                                                        0,
                                                        "#0d0887"
                                                    ],
                                                    [
                                                        0.1111111111111111,
                                                        "#46039f"
                                                    ],
                                                    [
                                                        0.2222222222222222,
                                                        "#7201a8"
                                                    ],
                                                    [
                                                        0.3333333333333333,
                                                        "#9c179e"
                                                    ],
                                                    [
                                                        0.4444444444444444,
                                                        "#bd3786"
                                                    ],
                                                    [
                                                        0.5555555555555556,
                                                        "#d8576b"
                                                    ],
                                                    [
                                                        0.6666666666666666,
                                                        "#ed7953"
                                                    ],
                                                    [
                                                        0.7777777777777778,
                                                        "#fb9f3a"
                                                    ],
                                                    [
                                                        0.8888888888888888,
                                                        "#fdca26"
                                                    ],
                                                    [
                                                        1,
                                                        "#f0f921"
                                                    ]
                                                ],
                                                "type": "histogram2d"
                                            }
                                        ],
                                        "histogram2dcontour": [
                                            {
                                                "colorbar": {
                                                    "outlinewidth": 0,
                                                    "ticks": ""
                                                },
                                                "colorscale": [
                                                    [
                                                        0,
                                                        "#0d0887"
                                                    ],
                                                    [
                                                        0.1111111111111111,
                                                        "#46039f"
                                                    ],
                                                    [
                                                        0.2222222222222222,
                                                        "#7201a8"
                                                    ],
                                                    [
                                                        0.3333333333333333,
                                                        "#9c179e"
                                                    ],
                                                    [
                                                        0.4444444444444444,
                                                        "#bd3786"
                                                    ],
                                                    [
                                                        0.5555555555555556,
                                                        "#d8576b"
                                                    ],
                                                    [
                                                        0.6666666666666666,
                                                        "#ed7953"
                                                    ],
                                                    [
                                                        0.7777777777777778,
                                                        "#fb9f3a"
                                                    ],
                                                    [
                                                        0.8888888888888888,
                                                        "#fdca26"
                                                    ],
                                                    [
                                                        1,
                                                        "#f0f921"
                                                    ]
                                                ],
                                                "type": "histogram2dcontour"
                                            }
                                        ],
                                        "mesh3d": [
                                            {
                                                "colorbar": {
                                                    "outlinewidth": 0,
                                                    "ticks": ""
                                                },
                                                "type": "mesh3d"
                                            }
                                        ],
                                        "parcoords": [
                                            {
                                                "line": {
                                                    "colorbar": {
                                                        "outlinewidth": 0,
                                                        "ticks": ""
                                                    }
                                                },
                                                "type": "parcoords"
                                            }
                                        ],
                                        "pie": [
                                            {
                                                "automargin": true,
                                                "type": "pie"
                                            }
                                        ],
                                        "scatter": [
                                            {
                                                "marker": {
                                                    "colorbar": {
                                                        "outlinewidth": 0,
                                                        "ticks": ""
                                                    }
                                                },
                                                "type": "scatter"
                                            }
                                        ],
                                        "scatter3d": [
                                            {
                                                "line": {
                                                    "colorbar": {
                                                        "outlinewidth": 0,
                                                        "ticks": ""
                                                    }
                                                },
                                                "marker": {
                                                    "colorbar": {
                                                        "outlinewidth": 0,
                                                        "ticks": ""
                                                    }
                                                },
                                                "type": "scatter3d"
                                            }
                                        ],
                                        "scattercarpet": [
                                            {
                                                "marker": {
                                                    "colorbar": {
                                                        "outlinewidth": 0,
                                                        "ticks": ""
                                                    }
                                                },
                                                "type": "scattercarpet"
                                            }
                                        ],
                                        "scattergeo": [
                                            {
                                                "marker": {
                                                    "colorbar": {
                                                        "outlinewidth": 0,
                                                        "ticks": ""
                                                    }
                                                },
                                                "type": "scattergeo"
                                            }
                                        ],
                                        "scattergl": [
                                            {
                                                "marker": {
                                                    "colorbar": {
                                                        "outlinewidth": 0,
                                                        "ticks": ""
                                                    }
                                                },
                                                "type": "scattergl"
                                            }
                                        ],
                                        "scattermapbox": [
                                            {
                                                "marker": {
                                                    "colorbar": {
                                                        "outlinewidth": 0,
                                                        "ticks": ""
                                                    }
                                                },
                                                "type": "scattermapbox"
                                            }
                                        ],
                                        "scatterpolar": [
                                            {
                                                "marker": {
                                                    "colorbar": {
                                                        "outlinewidth": 0,
                                                        "ticks": ""
                                                    }
                                                },
                                                "type": "scatterpolar"
                                            }
                                        ],
                                        "scatterpolargl": [
                                            {
                                                "marker": {
                                                    "colorbar": {
                                                        "outlinewidth": 0,
                                                        "ticks": ""
                                                    }
                                                },
                                                "type": "scatterpolargl"
                                            }
                                        ],
                                        "scatterternary": [
                                            {
                                                "marker": {
                                                    "colorbar": {
                                                        "outlinewidth": 0,
                                                        "ticks": ""
                                                    }
                                                },
                                                "type": "scatterternary"
                                            }
                                        ],
                                        "surface": [
                                            {
                                                "colorbar": {
                                                    "outlinewidth": 0,
                                                    "ticks": ""
                                                },
                                                "colorscale": [
                                                    [
                                                        0,
                                                        "#0d0887"
                                                    ],
                                                    [
                                                        0.1111111111111111,
                                                        "#46039f"
                                                    ],
                                                    [
                                                        0.2222222222222222,
                                                        "#7201a8"
                                                    ],
                                                    [
                                                        0.3333333333333333,
                                                        "#9c179e"
                                                    ],
                                                    [
                                                        0.4444444444444444,
                                                        "#bd3786"
                                                    ],
                                                    [
                                                        0.5555555555555556,
                                                        "#d8576b"
                                                    ],
                                                    [
                                                        0.6666666666666666,
                                                        "#ed7953"
                                                    ],
                                                    [
                                                        0.7777777777777778,
                                                        "#fb9f3a"
                                                    ],
                                                    [
                                                        0.8888888888888888,
                                                        "#fdca26"
                                                    ],
                                                    [
                                                        1,
                                                        "#f0f921"
                                                    ]
                                                ],
                                                "type": "surface"
                                            }
                                        ],
                                        "table": [
                                            {
                                                "cells": {
                                                    "fill": {
                                                        "color": "#EBF0F8"
                                                    },
                                                    "line": {
                                                        "color": "white"
                                                    }
                                                },
                                                "header": {
                                                    "fill": {
                                                        "color": "#C8D4E3"
                                                    },
                                                    "line": {
                                                        "color": "white"
                                                    }
                                                },
                                                "type": "table"
                                            }
                                        ]
                                    },
                                    "layout": {
                                        "annotationdefaults": {
                                            "arrowcolor": "#2a3f5f",
                                            "arrowhead": 0,
                                            "arrowwidth": 1
                                        },
                                        "autotypenumbers": "strict",
                                        "coloraxis": {
                                            "colorbar": {
                                                "outlinewidth": 0,
                                                "ticks": ""
                                            }
                                        },
                                        "colorscale": {
                                            "diverging": [
                                                [
                                                    0,
                                                    "#8e0152"
                                                ],
                                                [
                                                    0.1,
                                                    "#c51b7d"
                                                ],
                                                [
                                                    0.2,
                                                    "#de77ae"
                                                ],
                                                [
                                                    0.3,
                                                    "#f1b6da"
                                                ],
                                                [
                                                    0.4,
                                                    "#fde0ef"
                                                ],
                                                [
                                                    0.5,
                                                    "#f7f7f7"
                                                ],
                                                [
                                                    0.6,
                                                    "#e6f5d0"
                                                ],
                                                [
                                                    0.7,
                                                    "#b8e186"
                                                ],
                                                [
                                                    0.8,
                                                    "#7fbc41"
                                                ],
                                                [
                                                    0.9,
                                                    "#4d9221"
                                                ],
                                                [
                                                    1,
                                                    "#276419"
                                                ]
                                            ],
                                            "sequential": [
                                                [
                                                    0,
                                                    "#0d0887"
                                                ],
                                                [
                                                    0.1111111111111111,
                                                    "#46039f"
                                                ],
                                                [
                                                    0.2222222222222222,
                                                    "#7201a8"
                                                ],
                                                [
                                                    0.3333333333333333,
                                                    "#9c179e"
                                                ],
                                                [
                                                    0.4444444444444444,
                                                    "#bd3786"
                                                ],
                                                [
                                                    0.5555555555555556,
                                                    "#d8576b"
                                                ],
                                                [
                                                    0.6666666666666666,
                                                    "#ed7953"
                                                ],
                                                [
                                                    0.7777777777777778,
                                                    "#fb9f3a"
                                                ],
                                                [
                                                    0.8888888888888888,
                                                    "#fdca26"
                                                ],
                                                [
                                                    1,
                                                    "#f0f921"
                                                ]
                                            ],
                                            "sequentialminus": [
                                                [
                                                    0,
                                                    "#0d0887"
                                                ],
                                                [
                                                    0.1111111111111111,
                                                    "#46039f"
                                                ],
                                                [
                                                    0.2222222222222222,
                                                    "#7201a8"
                                                ],
                                                [
                                                    0.3333333333333333,
                                                    "#9c179e"
                                                ],
                                                [
                                                    0.4444444444444444,
                                                    "#bd3786"
                                                ],
                                                [
                                                    0.5555555555555556,
                                                    "#d8576b"
                                                ],
                                                [
                                                    0.6666666666666666,
                                                    "#ed7953"
                                                ],
                                                [
                                                    0.7777777777777778,
                                                    "#fb9f3a"
                                                ],
                                                [
                                                    0.8888888888888888,
                                                    "#fdca26"
                                                ],
                                                [
                                                    1,
                                                    "#f0f921"
                                                ]
                                            ]
                                        },
                                        "colorway": [
                                            "#636efa",
                                            "#EF553B",
                                            "#00cc96",
                                            "#ab63fa",
                                            "#FFA15A",
                                            "#19d3f3",
                                            "#FF6692",
                                            "#B6E880",
                                            "#FF97FF",
                                            "#FECB52"
                                        ],
                                        "font": {
                                            "color": "#2a3f5f"
                                        },
                                        "geo": {
                                            "bgcolor": "white",
                                            "lakecolor": "white",
                                            "landcolor": "white",
                                            "showlakes": true,
                                            "showland": true,
                                            "subunitcolor": "#C8D4E3"
                                        },
                                        "hoverlabel": {
                                            "align": "left"
                                        },
                                        "hovermode": "closest",
                                        "mapbox": {
                                            "style": "light"
                                        },
                                        "paper_bgcolor": "white",
                                        "plot_bgcolor": "white",
                                        "polar": {
                                            "angularaxis": {
                                                "gridcolor": "#EBF0F8",
                                                "linecolor": "#EBF0F8",
                                                "ticks": ""
                                            },
                                            "bgcolor": "white",
                                            "radialaxis": {
                                                "gridcolor": "#EBF0F8",
                                                "linecolor": "#EBF0F8",
                                                "ticks": ""
                                            }
                                        },
                                        "scene": {
                                            "xaxis": {
                                                "backgroundcolor": "white",
                                                "gridcolor": "#DFE8F3",
                                                "gridwidth": 2,
                                                "linecolor": "#EBF0F8",
                                                "showbackground": true,
                                                "ticks": "",
                                                "zerolinecolor": "#EBF0F8"
                                            },
                                            "yaxis": {
                                                "backgroundcolor": "white",
                                                "gridcolor": "#DFE8F3",
                                                "gridwidth": 2,
                                                "linecolor": "#EBF0F8",
                                                "showbackground": true,
                                                "ticks": "",
                                                "zerolinecolor": "#EBF0F8"
                                            },
                                            "zaxis": {
                                                "backgroundcolor": "white",
                                                "gridcolor": "#DFE8F3",
                                                "gridwidth": 2,
                                                "linecolor": "#EBF0F8",
                                                "showbackground": true,
                                                "ticks": "",
                                                "zerolinecolor": "#EBF0F8"
                                            }
                                        },
                                        "shapedefaults": {
                                            "line": {
                                                "color": "#2a3f5f"
                                            }
                                        },
                                        "ternary": {
                                            "aaxis": {
                                                "gridcolor": "#DFE8F3",
                                                "linecolor": "#A2B1C6",
                                                "ticks": ""
                                            },
                                            "baxis": {
                                                "gridcolor": "#DFE8F3",
                                                "linecolor": "#A2B1C6",
                                                "ticks": ""
                                            },
                                            "bgcolor": "white",
                                            "caxis": {
                                                "gridcolor": "#DFE8F3",
                                                "linecolor": "#A2B1C6",
                                                "ticks": ""
                                            }
                                        },
                                        "title": {
                                            "x": 0.05
                                        },
                                        "xaxis": {
                                            "automargin": true,
                                            "gridcolor": "#EBF0F8",
                                            "linecolor": "#EBF0F8",
                                            "ticks": "",
                                            "title": {
                                                "standoff": 15
                                            },
                                            "zerolinecolor": "#EBF0F8",
                                            "zerolinewidth": 2
                                        },
                                        "yaxis": {
                                            "automargin": true,
                                            "gridcolor": "#EBF0F8",
                                            "linecolor": "#EBF0F8",
                                            "ticks": "",
                                            "title": {
                                                "standoff": 15
                                            },
                                            "zerolinecolor": "#EBF0F8",
                                            "zerolinewidth": 2
                                        }
                                    }
                                },
                                "title": {
                                    "text": "Logloss Of Odds At Various Time Points"
                                },
                                "xaxis": {
                                    "anchor": "y",
                                    "domain": [
                                        0,
                                        1
                                    ],
                                    "title": {
                                        "text": "type"
                                    }
                                },
                                "yaxis": {
                                    "anchor": "x",
                                    "domain": [
                                        0,
                                        1
                                    ],
                                    "range": [
                                        0.2755,
                                        0.2765
                                    ],
                                    "title": {
                                        "text": "logloss"
                                    }
                                }
                            }
                        }
                    },
                    "metadata": {}
                }
            ],
            "metadata": {}
        },
        {
            "cell_type": "markdown",
            "source": [
                "Now this is a cool graph. This is exactly like we would have intiuited. The market sharpens monotonically as we approach the market jump with the BSP being the most effiecient of all the prices!\n",
                "\n",
                "Hopefully you can now see the logical failing of measuring bias over market efficiency and it changes the way you think about your bet placement.\n",
                "\n",
                "Let's move on to what we're here for: is it possible to predict the BSP."
            ],
            "metadata": {}
        },
        {
            "cell_type": "markdown",
            "source": [
                "## 2.4 Predicting the BSP\n",
                "\n",
                "Ok so I'm interested in finding the answer to the question: which estimate of BSP should i use when betting on the exchange and is it possible to beat the projected SP provided on the website and through the API?\n",
                "\n",
                "Well the first thing we should recognise about this projection is that it's cached. What does that mean? It means it only updated every 60 seconds. This suprised me when i first learned it and it was actually causing issues in my bet placement logic for the SP.\n",
                "\n",
                "Let's have a look at a selection to see how this works in practice"
            ],
            "metadata": {}
        },
        {
            "cell_type": "code",
            "execution_count": 23,
            "source": [
                "# Lets take a sample of a market and a selection\n",
                "dSlice = df.query('market_id == \"1.182394184\" and selection_id == \"39243409\"').dropna()"
            ],
            "outputs": [],
            "metadata": {}
        },
        {
            "cell_type": "code",
            "execution_count": 24,
            "source": [
                "def chartClosingPrices(d):\n",
                "\n",
                "    fig = px.line(\n",
                "        pd.melt(d[:-1][['sbsj', 'back_best', 'near_price']], id_vars = 'sbsj', var_name = 'price'), \n",
                "            x='sbsj', y='value',\n",
                "            color = 'price',\n",
                "            template='plotly_white',\n",
                "            title=\"Selection\",\n",
                "            labels = {\n",
                "                'sbsj': \"Seconds Before Scheduled Jump\"\n",
                "            }\n",
                "    )\n",
                "    fig.update_layout(font_family=\"Roboto\")\n",
                "    fig.add_trace(\n",
                "        go.Line(x = dSlice.sbsj, y = dSlice.bsp, name = 'BSP', line_color = 'rgba(8,61,119, 0.3)', mode = \"lines\")\n",
                "    )\n",
                "    fig['layout']['xaxis']['autorange'] = \"reversed\"\n",
                "    fig.show()\n",
                "\n",
                "chartClosingPrices(dSlice)"
            ],
            "outputs": [
                {
                    "output_type": "stream",
                    "name": "stderr",
                    "text": [
                        "/home/tmbish/.local/lib/python3.9/site-packages/plotly/graph_objs/_deprecations.py:378: DeprecationWarning:\n",
                        "\n",
                        "plotly.graph_objs.Line is deprecated.\n",
                        "Please replace it with one of the following more specific types\n",
                        "  - plotly.graph_objs.scatter.Line\n",
                        "  - plotly.graph_objs.layout.shape.Line\n",
                        "  - etc.\n",
                        "\n",
                        "\n"
                    ]
                },
                {
                    "output_type": "display_data",
                    "data": {
                        "application/vnd.plotly.v1+json": {
                            "config": {
                                "plotlyServerURL": "https://plot.ly"
                            },
                            "data": [
                                {
                                    "hovertemplate": "price=back_best<br>Seconds Before Scheduled Jump=%{x}<br>value=%{y}<extra></extra>",
                                    "legendgroup": "back_best",
                                    "line": {
                                        "color": "#636efa",
                                        "dash": "solid"
                                    },
                                    "mode": "lines",
                                    "name": "back_best",
                                    "orientation": "v",
                                    "showlegend": true,
                                    "type": "scatter",
                                    "x": [
                                        120,
                                        110,
                                        100,
                                        90,
                                        80,
                                        70,
                                        60,
                                        50,
                                        40,
                                        30,
                                        20,
                                        10,
                                        0,
                                        -10,
                                        -20,
                                        -30,
                                        -40,
                                        -50
                                    ],
                                    "xaxis": "x",
                                    "y": [
                                        2.96,
                                        2.96,
                                        2.96,
                                        2.98,
                                        3,
                                        3,
                                        2.98,
                                        3.1,
                                        3.05,
                                        3,
                                        2.96,
                                        2.9,
                                        2.9,
                                        2.92,
                                        2.92,
                                        2.84,
                                        2.88,
                                        2.84
                                    ],
                                    "yaxis": "y"
                                },
                                {
                                    "hovertemplate": "price=near_price<br>Seconds Before Scheduled Jump=%{x}<br>value=%{y}<extra></extra>",
                                    "legendgroup": "near_price",
                                    "line": {
                                        "color": "#EF553B",
                                        "dash": "solid"
                                    },
                                    "mode": "lines",
                                    "name": "near_price",
                                    "orientation": "v",
                                    "showlegend": true,
                                    "type": "scatter",
                                    "x": [
                                        120,
                                        110,
                                        100,
                                        90,
                                        80,
                                        70,
                                        60,
                                        50,
                                        40,
                                        30,
                                        20,
                                        10,
                                        0,
                                        -10,
                                        -20,
                                        -30,
                                        -40,
                                        -50
                                    ],
                                    "xaxis": "x",
                                    "y": [
                                        2.97,
                                        2.97,
                                        2.97,
                                        2.97,
                                        3,
                                        3,
                                        3,
                                        3,
                                        3,
                                        3,
                                        2.98,
                                        2.98,
                                        2.98,
                                        2.98,
                                        2.98,
                                        2.98,
                                        2.8,
                                        2.8
                                    ],
                                    "yaxis": "y"
                                },
                                {
                                    "line": {
                                        "color": "rgba(8,61,119, 0.3)"
                                    },
                                    "mode": "lines",
                                    "name": "BSP",
                                    "type": "scatter",
                                    "x": [
                                        120,
                                        110,
                                        100,
                                        90,
                                        80,
                                        70,
                                        60,
                                        50,
                                        40,
                                        30,
                                        20,
                                        10,
                                        0,
                                        -10,
                                        -20,
                                        -30,
                                        -40,
                                        -50,
                                        -50
                                    ],
                                    "y": [
                                        2.79,
                                        2.79,
                                        2.79,
                                        2.79,
                                        2.79,
                                        2.79,
                                        2.79,
                                        2.79,
                                        2.79,
                                        2.79,
                                        2.79,
                                        2.79,
                                        2.79,
                                        2.79,
                                        2.79,
                                        2.79,
                                        2.79,
                                        2.79,
                                        2.79
                                    ]
                                }
                            ],
                            "layout": {
                                "font": {
                                    "family": "Roboto"
                                },
                                "legend": {
                                    "title": {
                                        "text": "price"
                                    },
                                    "tracegroupgap": 0
                                },
                                "template": {
                                    "data": {
                                        "bar": [
                                            {
                                                "error_x": {
                                                    "color": "#2a3f5f"
                                                },
                                                "error_y": {
                                                    "color": "#2a3f5f"
                                                },
                                                "marker": {
                                                    "line": {
                                                        "color": "white",
                                                        "width": 0.5
                                                    },
                                                    "pattern": {
                                                        "fillmode": "overlay",
                                                        "size": 10,
                                                        "solidity": 0.2
                                                    }
                                                },
                                                "type": "bar"
                                            }
                                        ],
                                        "barpolar": [
                                            {
                                                "marker": {
                                                    "line": {
                                                        "color": "white",
                                                        "width": 0.5
                                                    },
                                                    "pattern": {
                                                        "fillmode": "overlay",
                                                        "size": 10,
                                                        "solidity": 0.2
                                                    }
                                                },
                                                "type": "barpolar"
                                            }
                                        ],
                                        "carpet": [
                                            {
                                                "aaxis": {
                                                    "endlinecolor": "#2a3f5f",
                                                    "gridcolor": "#C8D4E3",
                                                    "linecolor": "#C8D4E3",
                                                    "minorgridcolor": "#C8D4E3",
                                                    "startlinecolor": "#2a3f5f"
                                                },
                                                "baxis": {
                                                    "endlinecolor": "#2a3f5f",
                                                    "gridcolor": "#C8D4E3",
                                                    "linecolor": "#C8D4E3",
                                                    "minorgridcolor": "#C8D4E3",
                                                    "startlinecolor": "#2a3f5f"
                                                },
                                                "type": "carpet"
                                            }
                                        ],
                                        "choropleth": [
                                            {
                                                "colorbar": {
                                                    "outlinewidth": 0,
                                                    "ticks": ""
                                                },
                                                "type": "choropleth"
                                            }
                                        ],
                                        "contour": [
                                            {
                                                "colorbar": {
                                                    "outlinewidth": 0,
                                                    "ticks": ""
                                                },
                                                "colorscale": [
                                                    [
                                                        0,
                                                        "#0d0887"
                                                    ],
                                                    [
                                                        0.1111111111111111,
                                                        "#46039f"
                                                    ],
                                                    [
                                                        0.2222222222222222,
                                                        "#7201a8"
                                                    ],
                                                    [
                                                        0.3333333333333333,
                                                        "#9c179e"
                                                    ],
                                                    [
                                                        0.4444444444444444,
                                                        "#bd3786"
                                                    ],
                                                    [
                                                        0.5555555555555556,
                                                        "#d8576b"
                                                    ],
                                                    [
                                                        0.6666666666666666,
                                                        "#ed7953"
                                                    ],
                                                    [
                                                        0.7777777777777778,
                                                        "#fb9f3a"
                                                    ],
                                                    [
                                                        0.8888888888888888,
                                                        "#fdca26"
                                                    ],
                                                    [
                                                        1,
                                                        "#f0f921"
                                                    ]
                                                ],
                                                "type": "contour"
                                            }
                                        ],
                                        "contourcarpet": [
                                            {
                                                "colorbar": {
                                                    "outlinewidth": 0,
                                                    "ticks": ""
                                                },
                                                "type": "contourcarpet"
                                            }
                                        ],
                                        "heatmap": [
                                            {
                                                "colorbar": {
                                                    "outlinewidth": 0,
                                                    "ticks": ""
                                                },
                                                "colorscale": [
                                                    [
                                                        0,
                                                        "#0d0887"
                                                    ],
                                                    [
                                                        0.1111111111111111,
                                                        "#46039f"
                                                    ],
                                                    [
                                                        0.2222222222222222,
                                                        "#7201a8"
                                                    ],
                                                    [
                                                        0.3333333333333333,
                                                        "#9c179e"
                                                    ],
                                                    [
                                                        0.4444444444444444,
                                                        "#bd3786"
                                                    ],
                                                    [
                                                        0.5555555555555556,
                                                        "#d8576b"
                                                    ],
                                                    [
                                                        0.6666666666666666,
                                                        "#ed7953"
                                                    ],
                                                    [
                                                        0.7777777777777778,
                                                        "#fb9f3a"
                                                    ],
                                                    [
                                                        0.8888888888888888,
                                                        "#fdca26"
                                                    ],
                                                    [
                                                        1,
                                                        "#f0f921"
                                                    ]
                                                ],
                                                "type": "heatmap"
                                            }
                                        ],
                                        "heatmapgl": [
                                            {
                                                "colorbar": {
                                                    "outlinewidth": 0,
                                                    "ticks": ""
                                                },
                                                "colorscale": [
                                                    [
                                                        0,
                                                        "#0d0887"
                                                    ],
                                                    [
                                                        0.1111111111111111,
                                                        "#46039f"
                                                    ],
                                                    [
                                                        0.2222222222222222,
                                                        "#7201a8"
                                                    ],
                                                    [
                                                        0.3333333333333333,
                                                        "#9c179e"
                                                    ],
                                                    [
                                                        0.4444444444444444,
                                                        "#bd3786"
                                                    ],
                                                    [
                                                        0.5555555555555556,
                                                        "#d8576b"
                                                    ],
                                                    [
                                                        0.6666666666666666,
                                                        "#ed7953"
                                                    ],
                                                    [
                                                        0.7777777777777778,
                                                        "#fb9f3a"
                                                    ],
                                                    [
                                                        0.8888888888888888,
                                                        "#fdca26"
                                                    ],
                                                    [
                                                        1,
                                                        "#f0f921"
                                                    ]
                                                ],
                                                "type": "heatmapgl"
                                            }
                                        ],
                                        "histogram": [
                                            {
                                                "marker": {
                                                    "pattern": {
                                                        "fillmode": "overlay",
                                                        "size": 10,
                                                        "solidity": 0.2
                                                    }
                                                },
                                                "type": "histogram"
                                            }
                                        ],
                                        "histogram2d": [
                                            {
                                                "colorbar": {
                                                    "outlinewidth": 0,
                                                    "ticks": ""
                                                },
                                                "colorscale": [
                                                    [
                                                        0,
                                                        "#0d0887"
                                                    ],
                                                    [
                                                        0.1111111111111111,
                                                        "#46039f"
                                                    ],
                                                    [
                                                        0.2222222222222222,
                                                        "#7201a8"
                                                    ],
                                                    [
                                                        0.3333333333333333,
                                                        "#9c179e"
                                                    ],
                                                    [
                                                        0.4444444444444444,
                                                        "#bd3786"
                                                    ],
                                                    [
                                                        0.5555555555555556,
                                                        "#d8576b"
                                                    ],
                                                    [
                                                        0.6666666666666666,
                                                        "#ed7953"
                                                    ],
                                                    [
                                                        0.7777777777777778,
                                                        "#fb9f3a"
                                                    ],
                                                    [
                                                        0.8888888888888888,
                                                        "#fdca26"
                                                    ],
                                                    [
                                                        1,
                                                        "#f0f921"
                                                    ]
                                                ],
                                                "type": "histogram2d"
                                            }
                                        ],
                                        "histogram2dcontour": [
                                            {
                                                "colorbar": {
                                                    "outlinewidth": 0,
                                                    "ticks": ""
                                                },
                                                "colorscale": [
                                                    [
                                                        0,
                                                        "#0d0887"
                                                    ],
                                                    [
                                                        0.1111111111111111,
                                                        "#46039f"
                                                    ],
                                                    [
                                                        0.2222222222222222,
                                                        "#7201a8"
                                                    ],
                                                    [
                                                        0.3333333333333333,
                                                        "#9c179e"
                                                    ],
                                                    [
                                                        0.4444444444444444,
                                                        "#bd3786"
                                                    ],
                                                    [
                                                        0.5555555555555556,
                                                        "#d8576b"
                                                    ],
                                                    [
                                                        0.6666666666666666,
                                                        "#ed7953"
                                                    ],
                                                    [
                                                        0.7777777777777778,
                                                        "#fb9f3a"
                                                    ],
                                                    [
                                                        0.8888888888888888,
                                                        "#fdca26"
                                                    ],
                                                    [
                                                        1,
                                                        "#f0f921"
                                                    ]
                                                ],
                                                "type": "histogram2dcontour"
                                            }
                                        ],
                                        "mesh3d": [
                                            {
                                                "colorbar": {
                                                    "outlinewidth": 0,
                                                    "ticks": ""
                                                },
                                                "type": "mesh3d"
                                            }
                                        ],
                                        "parcoords": [
                                            {
                                                "line": {
                                                    "colorbar": {
                                                        "outlinewidth": 0,
                                                        "ticks": ""
                                                    }
                                                },
                                                "type": "parcoords"
                                            }
                                        ],
                                        "pie": [
                                            {
                                                "automargin": true,
                                                "type": "pie"
                                            }
                                        ],
                                        "scatter": [
                                            {
                                                "marker": {
                                                    "colorbar": {
                                                        "outlinewidth": 0,
                                                        "ticks": ""
                                                    }
                                                },
                                                "type": "scatter"
                                            }
                                        ],
                                        "scatter3d": [
                                            {
                                                "line": {
                                                    "colorbar": {
                                                        "outlinewidth": 0,
                                                        "ticks": ""
                                                    }
                                                },
                                                "marker": {
                                                    "colorbar": {
                                                        "outlinewidth": 0,
                                                        "ticks": ""
                                                    }
                                                },
                                                "type": "scatter3d"
                                            }
                                        ],
                                        "scattercarpet": [
                                            {
                                                "marker": {
                                                    "colorbar": {
                                                        "outlinewidth": 0,
                                                        "ticks": ""
                                                    }
                                                },
                                                "type": "scattercarpet"
                                            }
                                        ],
                                        "scattergeo": [
                                            {
                                                "marker": {
                                                    "colorbar": {
                                                        "outlinewidth": 0,
                                                        "ticks": ""
                                                    }
                                                },
                                                "type": "scattergeo"
                                            }
                                        ],
                                        "scattergl": [
                                            {
                                                "marker": {
                                                    "colorbar": {
                                                        "outlinewidth": 0,
                                                        "ticks": ""
                                                    }
                                                },
                                                "type": "scattergl"
                                            }
                                        ],
                                        "scattermapbox": [
                                            {
                                                "marker": {
                                                    "colorbar": {
                                                        "outlinewidth": 0,
                                                        "ticks": ""
                                                    }
                                                },
                                                "type": "scattermapbox"
                                            }
                                        ],
                                        "scatterpolar": [
                                            {
                                                "marker": {
                                                    "colorbar": {
                                                        "outlinewidth": 0,
                                                        "ticks": ""
                                                    }
                                                },
                                                "type": "scatterpolar"
                                            }
                                        ],
                                        "scatterpolargl": [
                                            {
                                                "marker": {
                                                    "colorbar": {
                                                        "outlinewidth": 0,
                                                        "ticks": ""
                                                    }
                                                },
                                                "type": "scatterpolargl"
                                            }
                                        ],
                                        "scatterternary": [
                                            {
                                                "marker": {
                                                    "colorbar": {
                                                        "outlinewidth": 0,
                                                        "ticks": ""
                                                    }
                                                },
                                                "type": "scatterternary"
                                            }
                                        ],
                                        "surface": [
                                            {
                                                "colorbar": {
                                                    "outlinewidth": 0,
                                                    "ticks": ""
                                                },
                                                "colorscale": [
                                                    [
                                                        0,
                                                        "#0d0887"
                                                    ],
                                                    [
                                                        0.1111111111111111,
                                                        "#46039f"
                                                    ],
                                                    [
                                                        0.2222222222222222,
                                                        "#7201a8"
                                                    ],
                                                    [
                                                        0.3333333333333333,
                                                        "#9c179e"
                                                    ],
                                                    [
                                                        0.4444444444444444,
                                                        "#bd3786"
                                                    ],
                                                    [
                                                        0.5555555555555556,
                                                        "#d8576b"
                                                    ],
                                                    [
                                                        0.6666666666666666,
                                                        "#ed7953"
                                                    ],
                                                    [
                                                        0.7777777777777778,
                                                        "#fb9f3a"
                                                    ],
                                                    [
                                                        0.8888888888888888,
                                                        "#fdca26"
                                                    ],
                                                    [
                                                        1,
                                                        "#f0f921"
                                                    ]
                                                ],
                                                "type": "surface"
                                            }
                                        ],
                                        "table": [
                                            {
                                                "cells": {
                                                    "fill": {
                                                        "color": "#EBF0F8"
                                                    },
                                                    "line": {
                                                        "color": "white"
                                                    }
                                                },
                                                "header": {
                                                    "fill": {
                                                        "color": "#C8D4E3"
                                                    },
                                                    "line": {
                                                        "color": "white"
                                                    }
                                                },
                                                "type": "table"
                                            }
                                        ]
                                    },
                                    "layout": {
                                        "annotationdefaults": {
                                            "arrowcolor": "#2a3f5f",
                                            "arrowhead": 0,
                                            "arrowwidth": 1
                                        },
                                        "autotypenumbers": "strict",
                                        "coloraxis": {
                                            "colorbar": {
                                                "outlinewidth": 0,
                                                "ticks": ""
                                            }
                                        },
                                        "colorscale": {
                                            "diverging": [
                                                [
                                                    0,
                                                    "#8e0152"
                                                ],
                                                [
                                                    0.1,
                                                    "#c51b7d"
                                                ],
                                                [
                                                    0.2,
                                                    "#de77ae"
                                                ],
                                                [
                                                    0.3,
                                                    "#f1b6da"
                                                ],
                                                [
                                                    0.4,
                                                    "#fde0ef"
                                                ],
                                                [
                                                    0.5,
                                                    "#f7f7f7"
                                                ],
                                                [
                                                    0.6,
                                                    "#e6f5d0"
                                                ],
                                                [
                                                    0.7,
                                                    "#b8e186"
                                                ],
                                                [
                                                    0.8,
                                                    "#7fbc41"
                                                ],
                                                [
                                                    0.9,
                                                    "#4d9221"
                                                ],
                                                [
                                                    1,
                                                    "#276419"
                                                ]
                                            ],
                                            "sequential": [
                                                [
                                                    0,
                                                    "#0d0887"
                                                ],
                                                [
                                                    0.1111111111111111,
                                                    "#46039f"
                                                ],
                                                [
                                                    0.2222222222222222,
                                                    "#7201a8"
                                                ],
                                                [
                                                    0.3333333333333333,
                                                    "#9c179e"
                                                ],
                                                [
                                                    0.4444444444444444,
                                                    "#bd3786"
                                                ],
                                                [
                                                    0.5555555555555556,
                                                    "#d8576b"
                                                ],
                                                [
                                                    0.6666666666666666,
                                                    "#ed7953"
                                                ],
                                                [
                                                    0.7777777777777778,
                                                    "#fb9f3a"
                                                ],
                                                [
                                                    0.8888888888888888,
                                                    "#fdca26"
                                                ],
                                                [
                                                    1,
                                                    "#f0f921"
                                                ]
                                            ],
                                            "sequentialminus": [
                                                [
                                                    0,
                                                    "#0d0887"
                                                ],
                                                [
                                                    0.1111111111111111,
                                                    "#46039f"
                                                ],
                                                [
                                                    0.2222222222222222,
                                                    "#7201a8"
                                                ],
                                                [
                                                    0.3333333333333333,
                                                    "#9c179e"
                                                ],
                                                [
                                                    0.4444444444444444,
                                                    "#bd3786"
                                                ],
                                                [
                                                    0.5555555555555556,
                                                    "#d8576b"
                                                ],
                                                [
                                                    0.6666666666666666,
                                                    "#ed7953"
                                                ],
                                                [
                                                    0.7777777777777778,
                                                    "#fb9f3a"
                                                ],
                                                [
                                                    0.8888888888888888,
                                                    "#fdca26"
                                                ],
                                                [
                                                    1,
                                                    "#f0f921"
                                                ]
                                            ]
                                        },
                                        "colorway": [
                                            "#636efa",
                                            "#EF553B",
                                            "#00cc96",
                                            "#ab63fa",
                                            "#FFA15A",
                                            "#19d3f3",
                                            "#FF6692",
                                            "#B6E880",
                                            "#FF97FF",
                                            "#FECB52"
                                        ],
                                        "font": {
                                            "color": "#2a3f5f"
                                        },
                                        "geo": {
                                            "bgcolor": "white",
                                            "lakecolor": "white",
                                            "landcolor": "white",
                                            "showlakes": true,
                                            "showland": true,
                                            "subunitcolor": "#C8D4E3"
                                        },
                                        "hoverlabel": {
                                            "align": "left"
                                        },
                                        "hovermode": "closest",
                                        "mapbox": {
                                            "style": "light"
                                        },
                                        "paper_bgcolor": "white",
                                        "plot_bgcolor": "white",
                                        "polar": {
                                            "angularaxis": {
                                                "gridcolor": "#EBF0F8",
                                                "linecolor": "#EBF0F8",
                                                "ticks": ""
                                            },
                                            "bgcolor": "white",
                                            "radialaxis": {
                                                "gridcolor": "#EBF0F8",
                                                "linecolor": "#EBF0F8",
                                                "ticks": ""
                                            }
                                        },
                                        "scene": {
                                            "xaxis": {
                                                "backgroundcolor": "white",
                                                "gridcolor": "#DFE8F3",
                                                "gridwidth": 2,
                                                "linecolor": "#EBF0F8",
                                                "showbackground": true,
                                                "ticks": "",
                                                "zerolinecolor": "#EBF0F8"
                                            },
                                            "yaxis": {
                                                "backgroundcolor": "white",
                                                "gridcolor": "#DFE8F3",
                                                "gridwidth": 2,
                                                "linecolor": "#EBF0F8",
                                                "showbackground": true,
                                                "ticks": "",
                                                "zerolinecolor": "#EBF0F8"
                                            },
                                            "zaxis": {
                                                "backgroundcolor": "white",
                                                "gridcolor": "#DFE8F3",
                                                "gridwidth": 2,
                                                "linecolor": "#EBF0F8",
                                                "showbackground": true,
                                                "ticks": "",
                                                "zerolinecolor": "#EBF0F8"
                                            }
                                        },
                                        "shapedefaults": {
                                            "line": {
                                                "color": "#2a3f5f"
                                            }
                                        },
                                        "ternary": {
                                            "aaxis": {
                                                "gridcolor": "#DFE8F3",
                                                "linecolor": "#A2B1C6",
                                                "ticks": ""
                                            },
                                            "baxis": {
                                                "gridcolor": "#DFE8F3",
                                                "linecolor": "#A2B1C6",
                                                "ticks": ""
                                            },
                                            "bgcolor": "white",
                                            "caxis": {
                                                "gridcolor": "#DFE8F3",
                                                "linecolor": "#A2B1C6",
                                                "ticks": ""
                                            }
                                        },
                                        "title": {
                                            "x": 0.05
                                        },
                                        "xaxis": {
                                            "automargin": true,
                                            "gridcolor": "#EBF0F8",
                                            "linecolor": "#EBF0F8",
                                            "ticks": "",
                                            "title": {
                                                "standoff": 15
                                            },
                                            "zerolinecolor": "#EBF0F8",
                                            "zerolinewidth": 2
                                        },
                                        "yaxis": {
                                            "automargin": true,
                                            "gridcolor": "#EBF0F8",
                                            "linecolor": "#EBF0F8",
                                            "ticks": "",
                                            "title": {
                                                "standoff": 15
                                            },
                                            "zerolinecolor": "#EBF0F8",
                                            "zerolinewidth": 2
                                        }
                                    }
                                },
                                "title": {
                                    "text": "Selection"
                                },
                                "xaxis": {
                                    "anchor": "y",
                                    "autorange": "reversed",
                                    "domain": [
                                        0,
                                        1
                                    ],
                                    "title": {
                                        "text": "Seconds Before Scheduled Jump"
                                    }
                                },
                                "yaxis": {
                                    "anchor": "x",
                                    "domain": [
                                        0,
                                        1
                                    ],
                                    "title": {
                                        "text": "value"
                                    }
                                }
                            }
                        }
                    },
                    "metadata": {}
                }
            ],
            "metadata": {}
        },
        {
            "cell_type": "markdown",
            "source": [
                "The red line is the projected BSP, you can see that it's not very responsive. As the best back price comes in from ~3 to 2.9 leading up to the jump the projected SP doesn't move because it's cached. If you were relying on this number for something important and you were using it in that period you were using stale information and you'd be worse off for it. In this instance the final SP was 2.79 so you may have made the wrong decision.\n",
                "\n",
                "This is somewhat counter intuitive because the projected sp (the so called near price) should be a good estimate of the BSP because it synthetically runs the BSP algorithm on the current market state and produces and estimate.\n",
                "\n",
                "Let's widen our sample a bit and see how it performs across our entire sample. We'll slice the data at the exact scheduled off and see how accurate various price points are at predicting what the final BSP is. We'll use mean absolute error (MAE) as our error metric. We'll assess 6 price points:\n",
                "\n",
                "- The near price (projected sp)\n",
                "- The far price (projected sp excluding BSP pool info)\n",
                "- The best back price\n",
                "- The best lay price\n",
                "- The ladder midpoint price\n",
                "- The geometric midpoint price"
            ],
            "metadata": {}
        },
        {
            "cell_type": "code",
            "execution_count": 25,
            "source": [
                "# Measurement\n",
                "# ________________________\n",
                "\n",
                "estimatesDf = df[df.sbsj == 0][['bsp', 'near_price', 'far_price', 'back_best', 'lay_best', 'geometric_mid_point', 'ladder_mid_point']]\n",
                "\n",
                "(\n",
                "    pd.melt(estimatesDf, id_vars = 'bsp', var_name = 'estimate')\n",
                "    .assign(error = lambda x: abs(x['value'] - x['bsp']) / x['bsp'])\n",
                "    .groupby('estimate', as_index=False)\n",
                "    .agg({'error': 'mean'})\n",
                "    .sort_values('error')\n",
                ")"
            ],
            "outputs": [
                {
                    "output_type": "execute_result",
                    "data": {
                        "text/plain": [
                            "              estimate     error\n",
                            "0            back_best  0.091702\n",
                            "3     ladder_mid_point  0.093181\n",
                            "2  geometric_mid_point  0.094405\n",
                            "4             lay_best  0.103142\n",
                            "5           near_price  0.121266\n",
                            "1            far_price  0.578425"
                        ],
                        "text/html": [
                            "<div>\n",
                            "<style scoped>\n",
                            "    .dataframe tbody tr th:only-of-type {\n",
                            "        vertical-align: middle;\n",
                            "    }\n",
                            "\n",
                            "    .dataframe tbody tr th {\n",
                            "        vertical-align: top;\n",
                            "    }\n",
                            "\n",
                            "    .dataframe thead th {\n",
                            "        text-align: right;\n",
                            "    }\n",
                            "</style>\n",
                            "<table border=\"1\" class=\"dataframe\">\n",
                            "  <thead>\n",
                            "    <tr style=\"text-align: right;\">\n",
                            "      <th></th>\n",
                            "      <th>estimate</th>\n",
                            "      <th>error</th>\n",
                            "    </tr>\n",
                            "  </thead>\n",
                            "  <tbody>\n",
                            "    <tr>\n",
                            "      <th>0</th>\n",
                            "      <td>back_best</td>\n",
                            "      <td>0.091702</td>\n",
                            "    </tr>\n",
                            "    <tr>\n",
                            "      <th>3</th>\n",
                            "      <td>ladder_mid_point</td>\n",
                            "      <td>0.093181</td>\n",
                            "    </tr>\n",
                            "    <tr>\n",
                            "      <th>2</th>\n",
                            "      <td>geometric_mid_point</td>\n",
                            "      <td>0.094405</td>\n",
                            "    </tr>\n",
                            "    <tr>\n",
                            "      <th>4</th>\n",
                            "      <td>lay_best</td>\n",
                            "      <td>0.103142</td>\n",
                            "    </tr>\n",
                            "    <tr>\n",
                            "      <th>5</th>\n",
                            "      <td>near_price</td>\n",
                            "      <td>0.121266</td>\n",
                            "    </tr>\n",
                            "    <tr>\n",
                            "      <th>1</th>\n",
                            "      <td>far_price</td>\n",
                            "      <td>0.578425</td>\n",
                            "    </tr>\n",
                            "  </tbody>\n",
                            "</table>\n",
                            "</div>"
                        ]
                    },
                    "metadata": {},
                    "execution_count": 25
                }
            ],
            "metadata": {}
        },
        {
            "cell_type": "markdown",
            "source": [
                "So shockingly, in thoroughbred markets at the scheduled off your best to just use the current best back price as your estimate of the BSP. It significantly outperforms the projected SP and even some of our midpoint methods. \n",
                "\n",
                "Let's change the timeslice a little and take the very last moment before the market settles and see which performs best."
            ],
            "metadata": {}
        },
        {
            "cell_type": "code",
            "execution_count": 26,
            "source": [
                "lastEstimatesDf = df.groupby(['market_id', 'selection_id'],as_index=False).nth(-1)[['bsp', 'near_price', 'far_price', 'back_best', 'lay_best', 'geometric_mid_point', 'ladder_mid_point']]\n",
                "\n",
                "(\n",
                "    pd.melt(lastEstimatesDf, id_vars = 'bsp', var_name = 'estimate')\n",
                "    .assign(error = lambda x: abs(x['value'] - x['bsp']) / x['bsp'])\n",
                "    .groupby('estimate', as_index=False)\n",
                "    .agg({'error': 'mean'})\n",
                "    .sort_values('error')\n",
                ")\n"
            ],
            "outputs": [
                {
                    "output_type": "execute_result",
                    "data": {
                        "text/plain": [
                            "              estimate     error\n",
                            "2  geometric_mid_point  0.039627\n",
                            "3     ladder_mid_point  0.042526\n",
                            "0            back_best  0.063622\n",
                            "5           near_price  0.077108\n",
                            "4             lay_best  0.098198\n",
                            "1            far_price  0.290777"
                        ],
                        "text/html": [
                            "<div>\n",
                            "<style scoped>\n",
                            "    .dataframe tbody tr th:only-of-type {\n",
                            "        vertical-align: middle;\n",
                            "    }\n",
                            "\n",
                            "    .dataframe tbody tr th {\n",
                            "        vertical-align: top;\n",
                            "    }\n",
                            "\n",
                            "    .dataframe thead th {\n",
                            "        text-align: right;\n",
                            "    }\n",
                            "</style>\n",
                            "<table border=\"1\" class=\"dataframe\">\n",
                            "  <thead>\n",
                            "    <tr style=\"text-align: right;\">\n",
                            "      <th></th>\n",
                            "      <th>estimate</th>\n",
                            "      <th>error</th>\n",
                            "    </tr>\n",
                            "  </thead>\n",
                            "  <tbody>\n",
                            "    <tr>\n",
                            "      <th>2</th>\n",
                            "      <td>geometric_mid_point</td>\n",
                            "      <td>0.039627</td>\n",
                            "    </tr>\n",
                            "    <tr>\n",
                            "      <th>3</th>\n",
                            "      <td>ladder_mid_point</td>\n",
                            "      <td>0.042526</td>\n",
                            "    </tr>\n",
                            "    <tr>\n",
                            "      <th>0</th>\n",
                            "      <td>back_best</td>\n",
                            "      <td>0.063622</td>\n",
                            "    </tr>\n",
                            "    <tr>\n",
                            "      <th>5</th>\n",
                            "      <td>near_price</td>\n",
                            "      <td>0.077108</td>\n",
                            "    </tr>\n",
                            "    <tr>\n",
                            "      <th>4</th>\n",
                            "      <td>lay_best</td>\n",
                            "      <td>0.098198</td>\n",
                            "    </tr>\n",
                            "    <tr>\n",
                            "      <th>1</th>\n",
                            "      <td>far_price</td>\n",
                            "      <td>0.290777</td>\n",
                            "    </tr>\n",
                            "  </tbody>\n",
                            "</table>\n",
                            "</div>"
                        ]
                    },
                    "metadata": {},
                    "execution_count": 26
                }
            ],
            "metadata": {}
        },
        {
            "cell_type": "markdown",
            "source": [
                "So again, and still shockingly the projected SP is still very weak due to the caching issue. In this scenario the geometric mid point beforms significantly better than the current best back price which suggests that as the late market is forming the back and lay spread with start converging to the fair price and eventual BSP. I personally use the geometric midpoint as my BSP estimate as it's a quick and easy metric that performs pretty well.\n",
                "\n",
                "What if you want more though? Is it possible to do better than these metrics? These simple price points use no information about what's in the BSP pools, surely if we used this information we'd be able to do better. Let's try to use machine learning.\n",
                "\n",
                "### 2.3.4 Machine Learning\n",
                "\n",
                "We'll build a quite random forest model to estimate the BSP with current price and pool size information. This is a very simple application of machine learning so hopefully gives you an idea of its power without being too complex.\n",
                "\n",
                "Now we need an intelligent way of turning our pool and ladder information into a feature to insert into our model, how could we engineer this feature? Well what we'll do is calculate a WAP required to fill our pool stake on the back and lay side. What does that mean? Say we've got $200 sitting in the BSP back pool and $200 sitting on the top box of 2.5 on the back side, in this instance our WAP value would be exactly 2.5 cause we can fill it all at the top box. But if however, there was only $100 in the top box then we'd need to move down the ladder to fill the remaining $100 volume. Our feature will simulate this allocation logic and return the final weighted average price required to fill the total BSP pool. Here's the functions to do it on the back and lay side respectively:"
            ],
            "metadata": {}
        },
        {
            "cell_type": "code",
            "execution_count": 27,
            "source": [
                "def wapToGetBack(pool, ladder):\n",
                "    price = ladder['p']\n",
                "    volume = ladder['v']\n",
                "    try:\n",
                "        indmax = min([ i for (i,j) in enumerate(cVolume) if j > pool ])+1\n",
                "    except:\n",
                "        indmax = len(volume)\n",
                "    return(round(sum([a * b for a, b in zip(price[:indmax], volume[:indmax])]) / sum(volume[:indmax]),4))\n",
                "\n",
                "def wapToGetLay(liability_pool, ladder):\n",
                "    price = ladder['p']\n",
                "    volume = ladder['v']\n",
                "    liability = [(a-1) * b for a, b in zip(price, volume)]\n",
                "    cLiability = np.cumsum(liability)\n",
                "    try:\n",
                "        indmax = min([ i for (i,j) in enumerate(cLiability) if j > liability_pool ])+1\n",
                "    except:\n",
                "        indmax = len(volume)\n",
                "    return(round(sum([a * b for a, b in zip(price[:indmax], volume[:indmax])]) / sum(volume[:indmax]),4))\n"
            ],
            "outputs": [],
            "metadata": {}
        },
        {
            "cell_type": "markdown",
            "source": [
                "Now we'll set up our model matrix which will be the market state at the exact scheduled off. We'll add our custom features as well as converting the prices to implied probablities as they generally play nicer in predictive models."
            ],
            "metadata": {}
        },
        {
            "cell_type": "code",
            "execution_count": 39,
            "source": [
                "model_matrix = df[['sbsj', 'atb_ladder', 'atl_ladder','bsp', 'traded_volume', 'near_price', 'far_price', 'bsp_back_pool_stake', 'bsp_lay_pool_liability', 'back_best', 'lay_best', 'geometric_mid_point', 'ladder_mid_point']]\n",
                "\n",
                "# Filter at scheduled jump\n",
                "model_matrix = model_matrix[model_matrix.sbsj == 0].dropna()\n",
                "\n",
                "model_matrix = (\n",
                "    model_matrix\n",
                "    .assign(wap_to_get_back_pool = lambda x: x.apply(lambda x: wapToGetBack(x.bsp_back_pool_stake, x.atb_ladder), axis=1))\n",
                "    .assign(wap_to_get_lay_pool = lambda x: x.apply(lambda x: wapToGetLay(x.bsp_lay_pool_liability, x.atl_ladder), axis=1))\n",
                ")\n",
                "\n",
                "# # Convert to probabilities\n",
                "# for col in ['bsp', 'near_price', 'far_price', 'back_best', 'lay_best', 'geometric_mid_point', 'ladder_mid_point', 'wap_to_get_back_pool', 'wap_to_get_lay_pool']:\n",
                "#     model_matrix[col] = 1 / model_matrix[col]\n",
                "\n",
                "# Drop other columns\n",
                "model_matrix.drop(columns = ['sbsj', 'atb_ladder', 'atl_ladder'], inplace = True)\n",
                "\n",
                "model_matrix.head(3)"
            ],
            "outputs": [
                {
                    "output_type": "execute_result",
                    "data": {
                        "text/plain": [
                            "     bsp  traded_volume  near_price  far_price  bsp_back_pool_stake  \\\n",
                            "12  6.20           6891        5.74       4.22                  518   \n",
                            "28  3.60          13579        3.57       1.73                 1023   \n",
                            "44  6.62           5911        5.81       1.59                  845   \n",
                            "\n",
                            "    bsp_lay_pool_liability  back_best  lay_best  geometric_mid_point  \\\n",
                            "12                    1580       6.00       6.2                6.099   \n",
                            "28                    1771       3.45       3.6                3.524   \n",
                            "44                    1378       6.20       6.6                6.397   \n",
                            "\n",
                            "    ladder_mid_point  wap_to_get_back_pool  wap_to_get_lay_pool  \n",
                            "12              6.00                5.7762               6.3731  \n",
                            "28              3.55                3.3010               3.7007  \n",
                            "44              6.40                5.9156               7.1167  "
                        ],
                        "text/html": [
                            "<div>\n",
                            "<style scoped>\n",
                            "    .dataframe tbody tr th:only-of-type {\n",
                            "        vertical-align: middle;\n",
                            "    }\n",
                            "\n",
                            "    .dataframe tbody tr th {\n",
                            "        vertical-align: top;\n",
                            "    }\n",
                            "\n",
                            "    .dataframe thead th {\n",
                            "        text-align: right;\n",
                            "    }\n",
                            "</style>\n",
                            "<table border=\"1\" class=\"dataframe\">\n",
                            "  <thead>\n",
                            "    <tr style=\"text-align: right;\">\n",
                            "      <th></th>\n",
                            "      <th>bsp</th>\n",
                            "      <th>traded_volume</th>\n",
                            "      <th>near_price</th>\n",
                            "      <th>far_price</th>\n",
                            "      <th>bsp_back_pool_stake</th>\n",
                            "      <th>bsp_lay_pool_liability</th>\n",
                            "      <th>back_best</th>\n",
                            "      <th>lay_best</th>\n",
                            "      <th>geometric_mid_point</th>\n",
                            "      <th>ladder_mid_point</th>\n",
                            "      <th>wap_to_get_back_pool</th>\n",
                            "      <th>wap_to_get_lay_pool</th>\n",
                            "    </tr>\n",
                            "  </thead>\n",
                            "  <tbody>\n",
                            "    <tr>\n",
                            "      <th>12</th>\n",
                            "      <td>6.20</td>\n",
                            "      <td>6891</td>\n",
                            "      <td>5.74</td>\n",
                            "      <td>4.22</td>\n",
                            "      <td>518</td>\n",
                            "      <td>1580</td>\n",
                            "      <td>6.00</td>\n",
                            "      <td>6.2</td>\n",
                            "      <td>6.099</td>\n",
                            "      <td>6.00</td>\n",
                            "      <td>5.7762</td>\n",
                            "      <td>6.3731</td>\n",
                            "    </tr>\n",
                            "    <tr>\n",
                            "      <th>28</th>\n",
                            "      <td>3.60</td>\n",
                            "      <td>13579</td>\n",
                            "      <td>3.57</td>\n",
                            "      <td>1.73</td>\n",
                            "      <td>1023</td>\n",
                            "      <td>1771</td>\n",
                            "      <td>3.45</td>\n",
                            "      <td>3.6</td>\n",
                            "      <td>3.524</td>\n",
                            "      <td>3.55</td>\n",
                            "      <td>3.3010</td>\n",
                            "      <td>3.7007</td>\n",
                            "    </tr>\n",
                            "    <tr>\n",
                            "      <th>44</th>\n",
                            "      <td>6.62</td>\n",
                            "      <td>5911</td>\n",
                            "      <td>5.81</td>\n",
                            "      <td>1.59</td>\n",
                            "      <td>845</td>\n",
                            "      <td>1378</td>\n",
                            "      <td>6.20</td>\n",
                            "      <td>6.6</td>\n",
                            "      <td>6.397</td>\n",
                            "      <td>6.40</td>\n",
                            "      <td>5.9156</td>\n",
                            "      <td>7.1167</td>\n",
                            "    </tr>\n",
                            "  </tbody>\n",
                            "</table>\n",
                            "</div>"
                        ]
                    },
                    "metadata": {},
                    "execution_count": 39
                }
            ],
            "metadata": {}
        },
        {
            "cell_type": "markdown",
            "source": [
                "Now the machine learning. Sklearn make this very simple, in our case it's a few lines only. We'll split our data into train and test sets and train a small random forrest to predict the BSP."
            ],
            "metadata": {}
        },
        {
            "cell_type": "code",
            "execution_count": 40,
            "source": [
                "from sklearn.ensemble import RandomForestRegressor\n",
                "from sklearn.model_selection import train_test_split\n",
                "\n",
                "# Setup Train / Test\n",
                "train_features, test_features, train_labels, test_labels = train_test_split(model_matrix.drop(columns = ['bsp']), model_matrix['bsp'], test_size = 0.25)\n",
                "\n",
                "print('Training Features Shape:', train_features.shape)\n",
                "print('Training Labels Shape:', train_labels.shape)\n",
                "print('Testing Features Shape:', test_features.shape)\n",
                "print('Testing Labels Shape:', test_labels.shape)\n",
                "\n",
                "# Instantiate Model\n",
                "rf = RandomForestRegressor(n_estimators = 100)\n",
                "\n",
                "# Train Model\n",
                "rf.fit(train_features, train_labels)"
            ],
            "outputs": [
                {
                    "output_type": "stream",
                    "name": "stdout",
                    "text": [
                        "Training Features Shape: (119822, 11)\n",
                        "Training Labels Shape: (119822,)\n",
                        "Testing Features Shape: (39941, 11)\n",
                        "Testing Labels Shape: (39941,)\n"
                    ]
                },
                {
                    "output_type": "execute_result",
                    "data": {
                        "text/plain": [
                            "RandomForestRegressor()"
                        ]
                    },
                    "metadata": {},
                    "execution_count": 40
                }
            ],
            "metadata": {}
        },
        {
            "cell_type": "markdown",
            "source": [
                "Let's check out our predictions on the test set (remember our model hasn't seen any of this data so it should be a true reflection on how we'd perform on some new races that would happen this afternoon)"
            ],
            "metadata": {}
        },
        {
            "cell_type": "code",
            "execution_count": 41,
            "source": [
                "# Use the forest's predict method on the test data\n",
                "predicted_bsp = rf.predict(test_features)\n",
                "predicted_bsp"
            ],
            "outputs": [
                {
                    "output_type": "execute_result",
                    "data": {
                        "text/plain": [
                            "array([224.897 ,  17.8836,  15.1324, ...,   3.8549,  11.5201,   6.3497])"
                        ]
                    },
                    "metadata": {},
                    "execution_count": 41
                }
            ],
            "metadata": {}
        },
        {
            "cell_type": "markdown",
            "source": [
                "Seems reasonable. All well and good though is the prediction any good? Let's measure it using MAE in the same way as we did before."
            ],
            "metadata": {}
        },
        {
            "cell_type": "code",
            "execution_count": 42,
            "source": [
                "# Let's test our estimate vs our others in the same way as before\n",
                "\n",
                "testDf = test_features\n",
                "testDf['bsp'] = test_labels\n",
                "testDf['rf_bsp_prediction'] = predicted_bsp\n",
                "\n",
                "\n",
                "(\n",
                "    pd.melt(testDf[['bsp', 'near_price', 'far_price', 'back_best', 'lay_best', 'geometric_mid_point', 'ladder_mid_point', 'rf_bsp_prediction']], id_vars = 'bsp', var_name = 'estimate')\n",
                "    .assign(error = lambda x: abs(x['value'] - x['bsp']) / x['bsp'])\n",
                "    .groupby('estimate', as_index=False)\n",
                "    .agg({'error': 'mean'})\n",
                "    .sort_values('error')\n",
                ")"
            ],
            "outputs": [
                {
                    "output_type": "execute_result",
                    "data": {
                        "text/plain": [
                            "              estimate     error\n",
                            "6    rf_bsp_prediction  0.088407\n",
                            "0            back_best  0.091435\n",
                            "3     ladder_mid_point  0.093316\n",
                            "2  geometric_mid_point  0.094488\n",
                            "4             lay_best  0.103683\n",
                            "5           near_price  0.121917\n",
                            "1            far_price  0.578867"
                        ],
                        "text/html": [
                            "<div>\n",
                            "<style scoped>\n",
                            "    .dataframe tbody tr th:only-of-type {\n",
                            "        vertical-align: middle;\n",
                            "    }\n",
                            "\n",
                            "    .dataframe tbody tr th {\n",
                            "        vertical-align: top;\n",
                            "    }\n",
                            "\n",
                            "    .dataframe thead th {\n",
                            "        text-align: right;\n",
                            "    }\n",
                            "</style>\n",
                            "<table border=\"1\" class=\"dataframe\">\n",
                            "  <thead>\n",
                            "    <tr style=\"text-align: right;\">\n",
                            "      <th></th>\n",
                            "      <th>estimate</th>\n",
                            "      <th>error</th>\n",
                            "    </tr>\n",
                            "  </thead>\n",
                            "  <tbody>\n",
                            "    <tr>\n",
                            "      <th>6</th>\n",
                            "      <td>rf_bsp_prediction</td>\n",
                            "      <td>0.088407</td>\n",
                            "    </tr>\n",
                            "    <tr>\n",
                            "      <th>0</th>\n",
                            "      <td>back_best</td>\n",
                            "      <td>0.091435</td>\n",
                            "    </tr>\n",
                            "    <tr>\n",
                            "      <th>3</th>\n",
                            "      <td>ladder_mid_point</td>\n",
                            "      <td>0.093316</td>\n",
                            "    </tr>\n",
                            "    <tr>\n",
                            "      <th>2</th>\n",
                            "      <td>geometric_mid_point</td>\n",
                            "      <td>0.094488</td>\n",
                            "    </tr>\n",
                            "    <tr>\n",
                            "      <th>4</th>\n",
                            "      <td>lay_best</td>\n",
                            "      <td>0.103683</td>\n",
                            "    </tr>\n",
                            "    <tr>\n",
                            "      <th>5</th>\n",
                            "      <td>near_price</td>\n",
                            "      <td>0.121917</td>\n",
                            "    </tr>\n",
                            "    <tr>\n",
                            "      <th>1</th>\n",
                            "      <td>far_price</td>\n",
                            "      <td>0.578867</td>\n",
                            "    </tr>\n",
                            "  </tbody>\n",
                            "</table>\n",
                            "</div>"
                        ]
                    },
                    "metadata": {},
                    "execution_count": 42
                }
            ],
            "metadata": {}
        },
        {
            "cell_type": "markdown",
            "source": [
                "Nice that's significantly better than the best previous estimate at this time slice. To validate it further let's use the same model to predict the BSP using the market state 10 seconds after the scheduled jump instead of at the exact scheduled off. None of the rows (or samples) in this time slice have been seen by the model during the training step so it should provide a robust out of sample estimate of the models performance on unseen data."
            ],
            "metadata": {}
        },
        {
            "cell_type": "code",
            "execution_count": 43,
            "source": [
                "# Validate it on a completely different time point - 10 seconds after scheduled jump\n",
                "\n",
                "outOfSample = df[['sbsj', 'atb_ladder', 'atl_ladder','bsp', 'traded_volume', 'near_price', 'far_price', 'bsp_back_pool_stake', 'bsp_lay_pool_liability', 'back_best', 'lay_best', 'geometric_mid_point', 'ladder_mid_point']]\n",
                "\n",
                "outOfSample = outOfSample[outOfSample.sbsj == -10].dropna()\n",
                "\n",
                "outOfSample = (\n",
                "    outOfSample\n",
                "    .assign(wap_to_get_back_pool = lambda x: x.apply(lambda x: wapToGetBack(x.bsp_back_pool_stake, x.atb_ladder), axis=1))\n",
                "    .assign(wap_to_get_lay_pool = lambda x: x.apply(lambda x: wapToGetLay(x.bsp_lay_pool_liability, x.atl_ladder), axis=1))\n",
                ")\n",
                "\n",
                "# Produce Predictions\n",
                "outofsamplebspprediction = rf.predict(outOfSample.drop(columns = ['bsp', 'sbsj', 'atb_ladder', 'atl_ladder']))\n",
                "outofsamplebspprediction"
            ],
            "outputs": [
                {
                    "output_type": "execute_result",
                    "data": {
                        "text/plain": [
                            "array([  6.4373,   3.5267,   6.3919, ..., 508.1439, 206.7227,  52.9511])"
                        ]
                    },
                    "metadata": {},
                    "execution_count": 43
                }
            ],
            "metadata": {}
        },
        {
            "cell_type": "code",
            "execution_count": 44,
            "source": [
                "outOfSample['rf_bsp_prediction'] = outofsamplebspprediction\n",
                "\n",
                "(\n",
                "    pd.melt(outOfSample[['bsp', 'near_price', 'far_price', 'back_best', 'lay_best', 'geometric_mid_point', 'ladder_mid_point', 'rf_bsp_prediction']], id_vars = 'bsp', var_name = 'estimate')\n",
                "    .assign(error = lambda x: abs(x['value'] - x['bsp']) / x['bsp'])\n",
                "    .groupby('estimate', as_index=False)\n",
                "    .agg({'error': 'mean'})\n",
                "    .sort_values('error')\n",
                ")"
            ],
            "outputs": [
                {
                    "output_type": "execute_result",
                    "data": {
                        "text/plain": [
                            "              estimate     error\n",
                            "6    rf_bsp_prediction  0.079321\n",
                            "0            back_best  0.084658\n",
                            "3     ladder_mid_point  0.086128\n",
                            "2  geometric_mid_point  0.087326\n",
                            "4             lay_best  0.098311\n",
                            "5           near_price  0.109640\n",
                            "1            far_price  0.501813"
                        ],
                        "text/html": [
                            "<div>\n",
                            "<style scoped>\n",
                            "    .dataframe tbody tr th:only-of-type {\n",
                            "        vertical-align: middle;\n",
                            "    }\n",
                            "\n",
                            "    .dataframe tbody tr th {\n",
                            "        vertical-align: top;\n",
                            "    }\n",
                            "\n",
                            "    .dataframe thead th {\n",
                            "        text-align: right;\n",
                            "    }\n",
                            "</style>\n",
                            "<table border=\"1\" class=\"dataframe\">\n",
                            "  <thead>\n",
                            "    <tr style=\"text-align: right;\">\n",
                            "      <th></th>\n",
                            "      <th>estimate</th>\n",
                            "      <th>error</th>\n",
                            "    </tr>\n",
                            "  </thead>\n",
                            "  <tbody>\n",
                            "    <tr>\n",
                            "      <th>6</th>\n",
                            "      <td>rf_bsp_prediction</td>\n",
                            "      <td>0.079321</td>\n",
                            "    </tr>\n",
                            "    <tr>\n",
                            "      <th>0</th>\n",
                            "      <td>back_best</td>\n",
                            "      <td>0.084658</td>\n",
                            "    </tr>\n",
                            "    <tr>\n",
                            "      <th>3</th>\n",
                            "      <td>ladder_mid_point</td>\n",
                            "      <td>0.086128</td>\n",
                            "    </tr>\n",
                            "    <tr>\n",
                            "      <th>2</th>\n",
                            "      <td>geometric_mid_point</td>\n",
                            "      <td>0.087326</td>\n",
                            "    </tr>\n",
                            "    <tr>\n",
                            "      <th>4</th>\n",
                            "      <td>lay_best</td>\n",
                            "      <td>0.098311</td>\n",
                            "    </tr>\n",
                            "    <tr>\n",
                            "      <th>5</th>\n",
                            "      <td>near_price</td>\n",
                            "      <td>0.109640</td>\n",
                            "    </tr>\n",
                            "    <tr>\n",
                            "      <th>1</th>\n",
                            "      <td>far_price</td>\n",
                            "      <td>0.501813</td>\n",
                            "    </tr>\n",
                            "  </tbody>\n",
                            "</table>\n",
                            "</div>"
                        ]
                    },
                    "metadata": {},
                    "execution_count": 44
                }
            ],
            "metadata": {}
        },
        {
            "cell_type": "markdown",
            "source": [
                "Still significantly better on the out of sample set which is a really positive sign.\n",
                "\n",
                "## 2.3.5 Next Steps\n",
                "\n",
                "To improve this model I'd include multiple time slices in the training sample and use the seconds before scheduled jump as a feature as I would estimate that the predictive dynamics of each of these features is dynamic and affected by how mature + how close to settlement the market is. \n",
                "\n",
                "To implement this model in your betplacement code you'd simply need to save the model object (some info about how to do this with sklearn can be found here (here)[https://scikit-learn.org/stable/modules/model_persistence.html) "
            ],
            "metadata": {}
        }
    ],
    "metadata": {
        "orig_nbformat": 4,
        "language_info": {
            "name": "python",
            "version": "3.9.5",
            "mimetype": "text/x-python",
            "codemirror_mode": {
                "name": "ipython",
                "version": 3
            },
            "pygments_lexer": "ipython3",
            "nbconvert_exporter": "python",
            "file_extension": ".py"
        },
        "kernelspec": {
            "name": "python3",
            "display_name": "Python 3.9.5 64-bit"
        },
        "interpreter": {
            "hash": "916dbcbb3f70747c44a77c7bcd40155683ae19c65e1c03b4aa3499c5328201f1"
        }
    },
    "nbformat": 4,
    "nbformat_minor": 2
}