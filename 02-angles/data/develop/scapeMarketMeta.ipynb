{
 "metadata": {
  "language_info": {
   "codemirror_mode": {
    "name": "ipython",
    "version": 3
   },
   "file_extension": ".py",
   "mimetype": "text/x-python",
   "name": "python",
   "nbconvert_exporter": "python",
   "pygments_lexer": "ipython3",
   "version": "3.9.5"
  },
  "orig_nbformat": 4,
  "kernelspec": {
   "name": "python3",
   "display_name": "Python 3.9.5 64-bit"
  },
  "interpreter": {
   "hash": "31f2aee4e71d21fbe5cf8b01ff0e069b9275f58929596ceb00d14d90e3e16cd6"
  }
 },
 "nbformat": 4,
 "nbformat_minor": 2,
 "cells": [
  {
   "cell_type": "code",
   "execution_count": 1,
   "metadata": {},
   "outputs": [],
   "source": [
    "import pandas as pd\n",
    "import numpy as np\n",
    "import requests\n",
    "import datetime\n"
   ]
  },
  {
   "cell_type": "code",
   "execution_count": 2,
   "metadata": {},
   "outputs": [],
   "source": [
    "def getBfMarkets(dte):\n",
    "\n",
    "    url = 'https://apigateway.betfair.com.au/hub/racecard?date={}'.format(dte)\n",
    "\n",
    "    responseJson = requests.get(url).json()\n",
    "\n",
    "    marketList = []\n",
    "\n",
    "    for meeting in responseJson['MEETINGS']:\n",
    "        for markets in meeting['MARKETS']:\n",
    "            marketList.append(\n",
    "                {\n",
    "                    'date': dte,\n",
    "                    'track': meeting['VENUE_NAME'],\n",
    "                    'country': meeting['COUNTRY'],\n",
    "                    'race_type': meeting['RACE_TYPE'],\n",
    "                    'race_number': markets['RACE_NO'],\n",
    "                    'market_id': str('1.' + markets['MARKET_ID']),\n",
    "                    'start_time': markets['START_TIME']\n",
    "                }\n",
    "            )\n",
    "    \n",
    "    marketDf = pd.DataFrame(marketList)\n",
    "\n",
    "    return(marketDf)\n",
    "\n",
    "\n"
   ]
  },
  {
   "cell_type": "code",
   "execution_count": 5,
   "metadata": {},
   "outputs": [
    {
     "output_type": "execute_result",
     "data": {
      "text/plain": [
       "Empty DataFrame\n",
       "Columns: []\n",
       "Index: []"
      ],
      "text/html": "<div>\n<style scoped>\n    .dataframe tbody tr th:only-of-type {\n        vertical-align: middle;\n    }\n\n    .dataframe tbody tr th {\n        vertical-align: top;\n    }\n\n    .dataframe thead th {\n        text-align: right;\n    }\n</style>\n<table border=\"1\" class=\"dataframe\">\n  <thead>\n    <tr style=\"text-align: right;\">\n      <th></th>\n    </tr>\n  </thead>\n  <tbody>\n  </tbody>\n</table>\n</div>"
     },
     "metadata": {},
     "execution_count": 5
    }
   ],
   "source": [
    "getBfMarkets(datetime.date(2020,12,25))"
   ]
  },
  {
   "cell_type": "code",
   "execution_count": 3,
   "metadata": {},
   "outputs": [],
   "source": [
    "market_id = \"1.153068286\"\n",
    "\n",
    "def getBfRaceMeta(market_id):\n",
    "\n",
    "    url = 'https://apigateway.betfair.com.au/hub/raceevent/{}'.format(market_id)\n",
    "\n",
    "    responseJson = requests.get(url).json()\n",
    "\n",
    "    if 'error' in responseJson:\n",
    "        return(pd.DataFrame())\n",
    "\n",
    "    raceList = []\n",
    "\n",
    "    for runner in responseJson['runners']:\n",
    "\n",
    "        if 'isScratched' in runner and runner['isScratched']:\n",
    "            continue\n",
    "\n",
    "        # Jockey not always populated\n",
    "        try:\n",
    "            jockey = runner['jockeyName']\n",
    "        except:\n",
    "            jockey = \"\"\n",
    "\n",
    "        # Place not always populated\n",
    "        try:\n",
    "            placeResult = runner['placedResult']\n",
    "        except:\n",
    "            placeResult = \"\"\n",
    "\n",
    "        # Place not always populated\n",
    "        try:\n",
    "            trainer = runner['trainerName']\n",
    "        except:\n",
    "            trainer = \"\"\n",
    "\n",
    "        raceList.append(\n",
    "            {\n",
    "                'market_id': market_id,\n",
    "                'weather': responseJson['weather'],\n",
    "                'track_condition': responseJson['trackCondition'],\n",
    "                'race_distance': responseJson['raceLength'],\n",
    "                'selection_id': runner['selectionId'],\n",
    "                'selection_name': runner['runnerName'],\n",
    "                'barrier': runner['barrierNo'],\n",
    "                'place': placeResult,\n",
    "                'trainer': trainer,\n",
    "                'jockey': jockey,\n",
    "                'weight': runner['weight']\n",
    "            }\n",
    "        )\n",
    "\n",
    "    raceDf = pd.DataFrame(raceList)\n",
    "\n",
    "    return(raceDf)\n"
   ]
  },
  {
   "cell_type": "code",
   "execution_count": 6,
   "metadata": {},
   "outputs": [],
   "source": [
    "def scrapeBfDate(dte):\n",
    "\n",
    "    markets = getBfMarkets(dte)\n",
    "\n",
    "    if markets.shape[0] == 0:\n",
    "        return(pd.DataFrame())\n",
    "\n",
    "    thoMarkets = markets.query('country == \"AUS\" and race_type == \"R\"')\n",
    "\n",
    "    if thoMarkets.shape[0] == 0:\n",
    "        return(pd.DataFrame())\n",
    "\n",
    "\n",
    "    raceMetaList = []\n",
    "\n",
    "    for market in thoMarkets.market_id:\n",
    "        raceMetaList.append(getBfRaceMeta(market))\n",
    "\n",
    "    raceMeta = pd.concat(raceMetaList)\n",
    "\n",
    "    return(markets.merge(raceMeta, on = 'market_id'))"
   ]
  },
  {
   "cell_type": "code",
   "execution_count": 7,
   "metadata": {},
   "outputs": [
    {
     "output_type": "execute_result",
     "data": {
      "text/plain": [
       "Empty DataFrame\n",
       "Columns: []\n",
       "Index: []"
      ],
      "text/html": "<div>\n<style scoped>\n    .dataframe tbody tr th:only-of-type {\n        vertical-align: middle;\n    }\n\n    .dataframe tbody tr th {\n        vertical-align: top;\n    }\n\n    .dataframe thead th {\n        text-align: right;\n    }\n</style>\n<table border=\"1\" class=\"dataframe\">\n  <thead>\n    <tr style=\"text-align: right;\">\n      <th></th>\n    </tr>\n  </thead>\n  <tbody>\n  </tbody>\n</table>\n</div>"
     },
     "metadata": {},
     "execution_count": 7
    }
   ],
   "source": [
    "scrapeBfDate(datetime.date(2020,12,25))\n",
    "#scrapeBfDate(datetime.date(2020,12,11))"
   ]
  },
  {
   "source": [
    "x = getBfMarkets(datetime.date(2020,12,10))\n",
    "\n",
    "thoMarkets = x.query('country == \"AUS\" and race_type == \"R\"')\n",
    "\n",
    "thoMarkets.shape\n",
    "\n"
   ],
   "cell_type": "code",
   "metadata": {},
   "execution_count": 14,
   "outputs": [
    {
     "output_type": "execute_result",
     "data": {
      "text/plain": [
       "(0, 7)"
      ]
     },
     "metadata": {},
     "execution_count": 14
    }
   ]
  },
  {
   "cell_type": "code",
   "execution_count": 15,
   "metadata": {},
   "outputs": [
    {
     "output_type": "execute_result",
     "data": {
      "text/plain": [
       "Empty DataFrame\n",
       "Columns: []\n",
       "Index: []"
      ],
      "text/html": "<div>\n<style scoped>\n    .dataframe tbody tr th:only-of-type {\n        vertical-align: middle;\n    }\n\n    .dataframe tbody tr th {\n        vertical-align: top;\n    }\n\n    .dataframe thead th {\n        text-align: right;\n    }\n</style>\n<table border=\"1\" class=\"dataframe\">\n  <thead>\n    <tr style=\"text-align: right;\">\n      <th></th>\n    </tr>\n  </thead>\n  <tbody>\n  </tbody>\n</table>\n</div>"
     },
     "metadata": {},
     "execution_count": 15
    }
   ],
   "source": [
    "pd.DataFrame()"
   ]
  }
 ]
}