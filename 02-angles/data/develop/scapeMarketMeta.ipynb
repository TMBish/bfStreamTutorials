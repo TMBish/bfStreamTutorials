{
 "metadata": {
  "language_info": {
   "codemirror_mode": {
    "name": "ipython",
    "version": 3
   },
   "file_extension": ".py",
   "mimetype": "text/x-python",
   "name": "python",
   "nbconvert_exporter": "python",
   "pygments_lexer": "ipython3",
   "version": "3.9.5"
  },
  "orig_nbformat": 4,
  "kernelspec": {
   "name": "python3",
   "display_name": "Python 3.9.5 64-bit"
  },
  "interpreter": {
   "hash": "31f2aee4e71d21fbe5cf8b01ff0e069b9275f58929596ceb00d14d90e3e16cd6"
  }
 },
 "nbformat": 4,
 "nbformat_minor": 2,
 "cells": [
  {
   "cell_type": "code",
   "execution_count": 3,
   "metadata": {},
   "outputs": [],
   "source": [
    "import pandas as pd\n",
    "import numpy as np\n",
    "import requests\n",
    "import datetime\n"
   ]
  },
  {
   "cell_type": "code",
   "execution_count": 17,
   "metadata": {},
   "outputs": [],
   "source": [
    "def getRaces(dte):\n",
    "\n",
    "    url = 'https://apigateway.betfair.com.au/hub/racecard?date={}'.format(dte)\n",
    "\n",
    "    responseJson = requests.get(url).json()\n",
    "\n",
    "    marketList = []\n",
    "\n",
    "    for meeting in responseJson['MEETINGS']:\n",
    "        for markets in meeting['MARKETS']:\n",
    "            marketList.append(\n",
    "                {\n",
    "                    'date': dte,\n",
    "                    'track': meeting['VENUE_NAME'],\n",
    "                    'country': meeting['COUNTRY'],\n",
    "                    'race_type': meeting['RACE_TYPE'],\n",
    "                    'race_number': markets['RACE_NO'],\n",
    "                    'market_id': str(markets['MARKET_ID']),\n",
    "                    'start_time': markets['START_TIME']\n",
    "                }\n",
    "            )\n",
    "    \n",
    "    marketDf = pd.DataFrame(marketList)\n",
    "\n",
    "    return(marketDf)\n",
    "\n",
    "\n"
   ]
  },
  {
   "cell_type": "code",
   "execution_count": 21,
   "metadata": {},
   "outputs": [
    {
     "output_type": "execute_result",
     "data": {
      "text/plain": [
       "           date        track country race_type race_number  market_id  \\\n",
       "0    2019-01-01   Beaudesert     AUS         R           1  153068286   \n",
       "1    2019-01-01   Beaudesert     AUS         R           2  153068288   \n",
       "2    2019-01-01   Beaudesert     AUS         R           3  153068290   \n",
       "3    2019-01-01   Beaudesert     AUS         R           4  153068292   \n",
       "4    2019-01-01   Beaudesert     AUS         R           5  153068294   \n",
       "..          ...          ...     ...       ...         ...        ...   \n",
       "214  2019-01-01  Warrnambool     AUS         G           8  153075125   \n",
       "215  2019-01-01  Warrnambool     AUS         G           9  153075127   \n",
       "216  2019-01-01  Warrnambool     AUS         G          10  153075129   \n",
       "217  2019-01-01  Warrnambool     AUS         G          11  153075131   \n",
       "218  2019-01-01  Warrnambool     AUS         G          12  153075133   \n",
       "\n",
       "              start_time  \n",
       "0    2019-01-01 03:17:00  \n",
       "1    2019-01-01 03:52:00  \n",
       "2    2019-01-01 04:32:00  \n",
       "3    2019-01-01 05:12:00  \n",
       "4    2019-01-01 05:52:00  \n",
       "..                   ...  \n",
       "214  2019-01-01 05:54:00  \n",
       "215  2019-01-01 06:19:00  \n",
       "216  2019-01-01 06:42:00  \n",
       "217  2019-01-01 07:04:00  \n",
       "218  2019-01-01 07:19:00  \n",
       "\n",
       "[219 rows x 7 columns]"
      ],
      "text/html": "<div>\n<style scoped>\n    .dataframe tbody tr th:only-of-type {\n        vertical-align: middle;\n    }\n\n    .dataframe tbody tr th {\n        vertical-align: top;\n    }\n\n    .dataframe thead th {\n        text-align: right;\n    }\n</style>\n<table border=\"1\" class=\"dataframe\">\n  <thead>\n    <tr style=\"text-align: right;\">\n      <th></th>\n      <th>date</th>\n      <th>track</th>\n      <th>country</th>\n      <th>race_type</th>\n      <th>race_number</th>\n      <th>market_id</th>\n      <th>start_time</th>\n    </tr>\n  </thead>\n  <tbody>\n    <tr>\n      <th>0</th>\n      <td>2019-01-01</td>\n      <td>Beaudesert</td>\n      <td>AUS</td>\n      <td>R</td>\n      <td>1</td>\n      <td>153068286</td>\n      <td>2019-01-01 03:17:00</td>\n    </tr>\n    <tr>\n      <th>1</th>\n      <td>2019-01-01</td>\n      <td>Beaudesert</td>\n      <td>AUS</td>\n      <td>R</td>\n      <td>2</td>\n      <td>153068288</td>\n      <td>2019-01-01 03:52:00</td>\n    </tr>\n    <tr>\n      <th>2</th>\n      <td>2019-01-01</td>\n      <td>Beaudesert</td>\n      <td>AUS</td>\n      <td>R</td>\n      <td>3</td>\n      <td>153068290</td>\n      <td>2019-01-01 04:32:00</td>\n    </tr>\n    <tr>\n      <th>3</th>\n      <td>2019-01-01</td>\n      <td>Beaudesert</td>\n      <td>AUS</td>\n      <td>R</td>\n      <td>4</td>\n      <td>153068292</td>\n      <td>2019-01-01 05:12:00</td>\n    </tr>\n    <tr>\n      <th>4</th>\n      <td>2019-01-01</td>\n      <td>Beaudesert</td>\n      <td>AUS</td>\n      <td>R</td>\n      <td>5</td>\n      <td>153068294</td>\n      <td>2019-01-01 05:52:00</td>\n    </tr>\n    <tr>\n      <th>...</th>\n      <td>...</td>\n      <td>...</td>\n      <td>...</td>\n      <td>...</td>\n      <td>...</td>\n      <td>...</td>\n      <td>...</td>\n    </tr>\n    <tr>\n      <th>214</th>\n      <td>2019-01-01</td>\n      <td>Warrnambool</td>\n      <td>AUS</td>\n      <td>G</td>\n      <td>8</td>\n      <td>153075125</td>\n      <td>2019-01-01 05:54:00</td>\n    </tr>\n    <tr>\n      <th>215</th>\n      <td>2019-01-01</td>\n      <td>Warrnambool</td>\n      <td>AUS</td>\n      <td>G</td>\n      <td>9</td>\n      <td>153075127</td>\n      <td>2019-01-01 06:19:00</td>\n    </tr>\n    <tr>\n      <th>216</th>\n      <td>2019-01-01</td>\n      <td>Warrnambool</td>\n      <td>AUS</td>\n      <td>G</td>\n      <td>10</td>\n      <td>153075129</td>\n      <td>2019-01-01 06:42:00</td>\n    </tr>\n    <tr>\n      <th>217</th>\n      <td>2019-01-01</td>\n      <td>Warrnambool</td>\n      <td>AUS</td>\n      <td>G</td>\n      <td>11</td>\n      <td>153075131</td>\n      <td>2019-01-01 07:04:00</td>\n    </tr>\n    <tr>\n      <th>218</th>\n      <td>2019-01-01</td>\n      <td>Warrnambool</td>\n      <td>AUS</td>\n      <td>G</td>\n      <td>12</td>\n      <td>153075133</td>\n      <td>2019-01-01 07:19:00</td>\n    </tr>\n  </tbody>\n</table>\n<p>219 rows × 7 columns</p>\n</div>"
     },
     "metadata": {},
     "execution_count": 21
    }
   ],
   "source": [
    "getRaces(dte)"
   ]
  },
  {
   "cell_type": "code",
   "execution_count": 25,
   "metadata": {},
   "outputs": [
    {
     "output_type": "execute_result",
     "data": {
      "text/plain": [
       "     market_id weather track_condition race_distance selection_id  \\\n",
       "0  1.153068286    FINE           GOOD3          2450      8611154   \n",
       "1  1.153068286    FINE           GOOD3          2450     11984770   \n",
       "2  1.153068286    FINE           GOOD3          2450     10436167   \n",
       "3  1.153068286    FINE           GOOD3          2450     17440324   \n",
       "4  1.153068286    FINE           GOOD3          2450     11403020   \n",
       "5  1.153068286    FINE           GOOD3          2450     11948441   \n",
       "6  1.153068286    FINE           GOOD3          2450     14580929   \n",
       "7  1.153068286    FINE           GOOD3          2450     22211661   \n",
       "8  1.153068286    FINE           GOOD3          2450     21188168   \n",
       "\n",
       "    selection_name  barrier  place         trainer              jockey  weight  \n",
       "0        Canongate        3      3     Brian Smith      Boris Thornton    59.0  \n",
       "1         Antigone        4      1  Barry Lockwood         James Orman    58.5  \n",
       "2       Hierarchal        8      2      Ben Currie    Baylee Nothdurft    58.0  \n",
       "3            Korma        5      6  Alicia Willick          Ryan Plumb    58.5  \n",
       "4           Choppa        6      8    George Sitek         Cyril Small    56.5  \n",
       "5   Percivall Pott        1      7     Gary Duncan  Nathan Fazackerley    56.0  \n",
       "6  Cushty Princess        2      5   Marcus Wilson        P Hammersley    55.5  \n",
       "7  Hez Ekceptional        7      4       L D Kelly       Shannon Doyle    55.0  \n",
       "8          Tizabee        9      9      Ben Ahrens        Jason Taylor    54.0  "
      ],
      "text/html": "<div>\n<style scoped>\n    .dataframe tbody tr th:only-of-type {\n        vertical-align: middle;\n    }\n\n    .dataframe tbody tr th {\n        vertical-align: top;\n    }\n\n    .dataframe thead th {\n        text-align: right;\n    }\n</style>\n<table border=\"1\" class=\"dataframe\">\n  <thead>\n    <tr style=\"text-align: right;\">\n      <th></th>\n      <th>market_id</th>\n      <th>weather</th>\n      <th>track_condition</th>\n      <th>race_distance</th>\n      <th>selection_id</th>\n      <th>selection_name</th>\n      <th>barrier</th>\n      <th>place</th>\n      <th>trainer</th>\n      <th>jockey</th>\n      <th>weight</th>\n    </tr>\n  </thead>\n  <tbody>\n    <tr>\n      <th>0</th>\n      <td>1.153068286</td>\n      <td>FINE</td>\n      <td>GOOD3</td>\n      <td>2450</td>\n      <td>8611154</td>\n      <td>Canongate</td>\n      <td>3</td>\n      <td>3</td>\n      <td>Brian Smith</td>\n      <td>Boris Thornton</td>\n      <td>59.0</td>\n    </tr>\n    <tr>\n      <th>1</th>\n      <td>1.153068286</td>\n      <td>FINE</td>\n      <td>GOOD3</td>\n      <td>2450</td>\n      <td>11984770</td>\n      <td>Antigone</td>\n      <td>4</td>\n      <td>1</td>\n      <td>Barry Lockwood</td>\n      <td>James Orman</td>\n      <td>58.5</td>\n    </tr>\n    <tr>\n      <th>2</th>\n      <td>1.153068286</td>\n      <td>FINE</td>\n      <td>GOOD3</td>\n      <td>2450</td>\n      <td>10436167</td>\n      <td>Hierarchal</td>\n      <td>8</td>\n      <td>2</td>\n      <td>Ben Currie</td>\n      <td>Baylee Nothdurft</td>\n      <td>58.0</td>\n    </tr>\n    <tr>\n      <th>3</th>\n      <td>1.153068286</td>\n      <td>FINE</td>\n      <td>GOOD3</td>\n      <td>2450</td>\n      <td>17440324</td>\n      <td>Korma</td>\n      <td>5</td>\n      <td>6</td>\n      <td>Alicia Willick</td>\n      <td>Ryan Plumb</td>\n      <td>58.5</td>\n    </tr>\n    <tr>\n      <th>4</th>\n      <td>1.153068286</td>\n      <td>FINE</td>\n      <td>GOOD3</td>\n      <td>2450</td>\n      <td>11403020</td>\n      <td>Choppa</td>\n      <td>6</td>\n      <td>8</td>\n      <td>George Sitek</td>\n      <td>Cyril Small</td>\n      <td>56.5</td>\n    </tr>\n    <tr>\n      <th>5</th>\n      <td>1.153068286</td>\n      <td>FINE</td>\n      <td>GOOD3</td>\n      <td>2450</td>\n      <td>11948441</td>\n      <td>Percivall Pott</td>\n      <td>1</td>\n      <td>7</td>\n      <td>Gary Duncan</td>\n      <td>Nathan Fazackerley</td>\n      <td>56.0</td>\n    </tr>\n    <tr>\n      <th>6</th>\n      <td>1.153068286</td>\n      <td>FINE</td>\n      <td>GOOD3</td>\n      <td>2450</td>\n      <td>14580929</td>\n      <td>Cushty Princess</td>\n      <td>2</td>\n      <td>5</td>\n      <td>Marcus Wilson</td>\n      <td>P Hammersley</td>\n      <td>55.5</td>\n    </tr>\n    <tr>\n      <th>7</th>\n      <td>1.153068286</td>\n      <td>FINE</td>\n      <td>GOOD3</td>\n      <td>2450</td>\n      <td>22211661</td>\n      <td>Hez Ekceptional</td>\n      <td>7</td>\n      <td>4</td>\n      <td>L D Kelly</td>\n      <td>Shannon Doyle</td>\n      <td>55.0</td>\n    </tr>\n    <tr>\n      <th>8</th>\n      <td>1.153068286</td>\n      <td>FINE</td>\n      <td>GOOD3</td>\n      <td>2450</td>\n      <td>21188168</td>\n      <td>Tizabee</td>\n      <td>9</td>\n      <td>9</td>\n      <td>Ben Ahrens</td>\n      <td>Jason Taylor</td>\n      <td>54.0</td>\n    </tr>\n  </tbody>\n</table>\n</div>"
     },
     "metadata": {},
     "execution_count": 25
    }
   ],
   "source": [
    "market_id = \"1.153068286\"\n",
    "\n",
    "def getRaceMeta(market_id):\n",
    "\n",
    "    url = 'https://apigateway.betfair.com.au/hub/raceevent/{}'.format(market_id)\n",
    "\n",
    "    responseJson = requests.get(url).json()\n",
    "\n",
    "    raceList = []\n",
    "\n",
    "    for runners in responseJson['runners']:\n",
    "        raceList.append(\n",
    "            {\n",
    "                'market_id': market_id,\n",
    "                'weather': responseJson['weather'],\n",
    "                'track_condition': responseJson['trackCondition'],\n",
    "                'race_distance': responseJson['raceLength'],\n",
    "                'selection_id': runners['selectionId'],\n",
    "                'selection_name': runners['runnerName'],\n",
    "                'barrier': runners['barrierNo'],\n",
    "                'place': runners['placedResult'],\n",
    "                'trainer': runners['trainerName'],\n",
    "                'jockey': runners['jockeyName'],\n",
    "                'weight': runners['weight']\n",
    "            }\n",
    "        )\n",
    "\n",
    "    raceDf = pd.DataFrame(raceList)\n",
    "\n",
    "    return(raceDf)\n",
    "\n",
    "getRaceMeta(market_id)\n"
   ]
  }
 ]
}