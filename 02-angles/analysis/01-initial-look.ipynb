{
 "metadata": {
  "language_info": {
   "codemirror_mode": {
    "name": "ipython",
    "version": 3
   },
   "file_extension": ".py",
   "mimetype": "text/x-python",
   "name": "python",
   "nbconvert_exporter": "python",
   "pygments_lexer": "ipython3",
   "version": "3.9.5"
  },
  "orig_nbformat": 4,
  "kernelspec": {
   "name": "python3",
   "display_name": "Python 3.9.5 64-bit"
  },
  "interpreter": {
   "hash": "31f2aee4e71d21fbe5cf8b01ff0e069b9275f58929596ceb00d14d90e3e16cd6"
  }
 },
 "nbformat": 4,
 "nbformat_minor": 2,
 "cells": [
  {
   "cell_type": "code",
   "execution_count": 92,
   "metadata": {},
   "outputs": [],
   "source": [
    "import pandas as pd\n",
    "import numpy as np\n",
    "import requests\n",
    "from scipy.stats import t\n",
    "import plotly.express as px"
   ]
  },
  {
   "cell_type": "code",
   "execution_count": 93,
   "metadata": {},
   "outputs": [
    {
     "output_type": "stream",
     "name": "stderr",
     "text": [
      "/home/tmbish/.local/lib/python3.9/site-packages/IPython/core/interactiveshell.py:3441: DtypeWarning:\n\nColumns (6) have mixed types.Specify dtype option on import or set low_memory=False.\n\n/home/tmbish/.local/lib/python3.9/site-packages/IPython/core/interactiveshell.py:3441: DtypeWarning:\n\nColumns (9) have mixed types.Specify dtype option on import or set low_memory=False.\n\n"
     ]
    }
   ],
   "source": [
    "odds = pd.read_csv(\"/media/hdd/tmp/thoroughbred-parsed/thoroughbred-odds-2021.csv\", dtype={'market_id': object, 'selection_id': object})\n",
    "\n",
    "race = pd.read_csv(\"/media/hdd/tmp/thoroughbred-parsed/thoroughbred-race-data.csv\", dtype={'market_id': object, 'selection_id': object})\n"
   ]
  },
  {
   "cell_type": "code",
   "execution_count": 94,
   "metadata": {},
   "outputs": [
    {
     "output_type": "execute_result",
     "data": {
      "text/plain": [
       "     market_id selection_id     selection_name  wap_5m  wap_30s    bsp   ltp  \\\n",
       "0  1.179845158     23493550         1. Larmour    6.27     5.84   6.20   6.2   \n",
       "1  1.179845158     16374800  3. Careering Away    3.31     3.67   3.60  3.65   \n",
       "2  1.179845158     19740699    4. Bells N Bows    6.87     6.36   6.62   6.4   \n",
       "3  1.179845158     11014075      5. Tickinover   40.73    42.75  54.42  50.0   \n",
       "4  1.179845158     21317306   6. Opera Tickets   21.54    22.38  22.22  21.0   \n",
       "\n",
       "   traded_vol  inplay_min_lay  \n",
       "0        8277            1.19  \n",
       "1       18592            1.08  \n",
       "2        7413            1.42  \n",
       "3         725           24.00  \n",
       "4        1972           18.50  "
      ],
      "text/html": "<div>\n<style scoped>\n    .dataframe tbody tr th:only-of-type {\n        vertical-align: middle;\n    }\n\n    .dataframe tbody tr th {\n        vertical-align: top;\n    }\n\n    .dataframe thead th {\n        text-align: right;\n    }\n</style>\n<table border=\"1\" class=\"dataframe\">\n  <thead>\n    <tr style=\"text-align: right;\">\n      <th></th>\n      <th>market_id</th>\n      <th>selection_id</th>\n      <th>selection_name</th>\n      <th>wap_5m</th>\n      <th>wap_30s</th>\n      <th>bsp</th>\n      <th>ltp</th>\n      <th>traded_vol</th>\n      <th>inplay_min_lay</th>\n    </tr>\n  </thead>\n  <tbody>\n    <tr>\n      <th>0</th>\n      <td>1.179845158</td>\n      <td>23493550</td>\n      <td>1. Larmour</td>\n      <td>6.27</td>\n      <td>5.84</td>\n      <td>6.20</td>\n      <td>6.2</td>\n      <td>8277</td>\n      <td>1.19</td>\n    </tr>\n    <tr>\n      <th>1</th>\n      <td>1.179845158</td>\n      <td>16374800</td>\n      <td>3. Careering Away</td>\n      <td>3.31</td>\n      <td>3.67</td>\n      <td>3.60</td>\n      <td>3.65</td>\n      <td>18592</td>\n      <td>1.08</td>\n    </tr>\n    <tr>\n      <th>2</th>\n      <td>1.179845158</td>\n      <td>19740699</td>\n      <td>4. Bells N Bows</td>\n      <td>6.87</td>\n      <td>6.36</td>\n      <td>6.62</td>\n      <td>6.4</td>\n      <td>7413</td>\n      <td>1.42</td>\n    </tr>\n    <tr>\n      <th>3</th>\n      <td>1.179845158</td>\n      <td>11014075</td>\n      <td>5. Tickinover</td>\n      <td>40.73</td>\n      <td>42.75</td>\n      <td>54.42</td>\n      <td>50.0</td>\n      <td>725</td>\n      <td>24.00</td>\n    </tr>\n    <tr>\n      <th>4</th>\n      <td>1.179845158</td>\n      <td>21317306</td>\n      <td>6. Opera Tickets</td>\n      <td>21.54</td>\n      <td>22.38</td>\n      <td>22.22</td>\n      <td>21.0</td>\n      <td>1972</td>\n      <td>18.50</td>\n    </tr>\n  </tbody>\n</table>\n</div>"
     },
     "metadata": {},
     "execution_count": 94
    }
   ],
   "source": [
    "odds.head(5)"
   ]
  },
  {
   "cell_type": "code",
   "execution_count": 95,
   "metadata": {},
   "outputs": [
    {
     "output_type": "execute_result",
     "data": {
      "text/plain": [
       "         date      track country race_type  race_number    market_id  \\\n",
       "0  2020-07-01  Balaklava     AUS         R            1  1.171091087   \n",
       "1  2020-07-01  Balaklava     AUS         R            1  1.171091087   \n",
       "2  2020-07-01  Balaklava     AUS         R            1  1.171091087   \n",
       "3  2020-07-01  Balaklava     AUS         R            1  1.171091087   \n",
       "4  2020-07-01  Balaklava     AUS         R            1  1.171091087   \n",
       "\n",
       "            start_time weather track_condition race_distance selection_id  \\\n",
       "0  2020-07-01 02:40:00    FINE           GOOD4          2200     19674744   \n",
       "1  2020-07-01 02:40:00    FINE           GOOD4          2200       401615   \n",
       "2  2020-07-01 02:40:00    FINE           GOOD4          2200     26789410   \n",
       "3  2020-07-01 02:40:00    FINE           GOOD4          2200     26623561   \n",
       "4  2020-07-01 02:40:00    FINE           GOOD4          2200     28699693   \n",
       "\n",
       "     selection_name  barrier  place         trainer            jockey  weight  \n",
       "0             Baldy        2    4.0     Peter Nolan      Karl Zechner    59.0  \n",
       "1         Nostrovia        4    7.0  Dennis O'leary  Margaret Collett    59.0  \n",
       "2         Ammo Loco        5    1.0   John Hickmott    Barend Vorster    58.5  \n",
       "3  Gunfireinthecity        7    3.0  Dennis O'leary    Kayla Crowther    57.0  \n",
       "4              Whys        3    2.0      Trevor Day      Sairyn Fawke    57.0  "
      ],
      "text/html": "<div>\n<style scoped>\n    .dataframe tbody tr th:only-of-type {\n        vertical-align: middle;\n    }\n\n    .dataframe tbody tr th {\n        vertical-align: top;\n    }\n\n    .dataframe thead th {\n        text-align: right;\n    }\n</style>\n<table border=\"1\" class=\"dataframe\">\n  <thead>\n    <tr style=\"text-align: right;\">\n      <th></th>\n      <th>date</th>\n      <th>track</th>\n      <th>country</th>\n      <th>race_type</th>\n      <th>race_number</th>\n      <th>market_id</th>\n      <th>start_time</th>\n      <th>weather</th>\n      <th>track_condition</th>\n      <th>race_distance</th>\n      <th>selection_id</th>\n      <th>selection_name</th>\n      <th>barrier</th>\n      <th>place</th>\n      <th>trainer</th>\n      <th>jockey</th>\n      <th>weight</th>\n    </tr>\n  </thead>\n  <tbody>\n    <tr>\n      <th>0</th>\n      <td>2020-07-01</td>\n      <td>Balaklava</td>\n      <td>AUS</td>\n      <td>R</td>\n      <td>1</td>\n      <td>1.171091087</td>\n      <td>2020-07-01 02:40:00</td>\n      <td>FINE</td>\n      <td>GOOD4</td>\n      <td>2200</td>\n      <td>19674744</td>\n      <td>Baldy</td>\n      <td>2</td>\n      <td>4.0</td>\n      <td>Peter Nolan</td>\n      <td>Karl Zechner</td>\n      <td>59.0</td>\n    </tr>\n    <tr>\n      <th>1</th>\n      <td>2020-07-01</td>\n      <td>Balaklava</td>\n      <td>AUS</td>\n      <td>R</td>\n      <td>1</td>\n      <td>1.171091087</td>\n      <td>2020-07-01 02:40:00</td>\n      <td>FINE</td>\n      <td>GOOD4</td>\n      <td>2200</td>\n      <td>401615</td>\n      <td>Nostrovia</td>\n      <td>4</td>\n      <td>7.0</td>\n      <td>Dennis O'leary</td>\n      <td>Margaret Collett</td>\n      <td>59.0</td>\n    </tr>\n    <tr>\n      <th>2</th>\n      <td>2020-07-01</td>\n      <td>Balaklava</td>\n      <td>AUS</td>\n      <td>R</td>\n      <td>1</td>\n      <td>1.171091087</td>\n      <td>2020-07-01 02:40:00</td>\n      <td>FINE</td>\n      <td>GOOD4</td>\n      <td>2200</td>\n      <td>26789410</td>\n      <td>Ammo Loco</td>\n      <td>5</td>\n      <td>1.0</td>\n      <td>John Hickmott</td>\n      <td>Barend Vorster</td>\n      <td>58.5</td>\n    </tr>\n    <tr>\n      <th>3</th>\n      <td>2020-07-01</td>\n      <td>Balaklava</td>\n      <td>AUS</td>\n      <td>R</td>\n      <td>1</td>\n      <td>1.171091087</td>\n      <td>2020-07-01 02:40:00</td>\n      <td>FINE</td>\n      <td>GOOD4</td>\n      <td>2200</td>\n      <td>26623561</td>\n      <td>Gunfireinthecity</td>\n      <td>7</td>\n      <td>3.0</td>\n      <td>Dennis O'leary</td>\n      <td>Kayla Crowther</td>\n      <td>57.0</td>\n    </tr>\n    <tr>\n      <th>4</th>\n      <td>2020-07-01</td>\n      <td>Balaklava</td>\n      <td>AUS</td>\n      <td>R</td>\n      <td>1</td>\n      <td>1.171091087</td>\n      <td>2020-07-01 02:40:00</td>\n      <td>FINE</td>\n      <td>GOOD4</td>\n      <td>2200</td>\n      <td>28699693</td>\n      <td>Whys</td>\n      <td>3</td>\n      <td>2.0</td>\n      <td>Trevor Day</td>\n      <td>Sairyn Fawke</td>\n      <td>57.0</td>\n    </tr>\n  </tbody>\n</table>\n</div>"
     },
     "metadata": {},
     "execution_count": 95
    }
   ],
   "source": [
    "race.head(5)"
   ]
  },
  {
   "cell_type": "code",
   "execution_count": 96,
   "metadata": {},
   "outputs": [
    {
     "output_type": "execute_result",
     "data": {
      "text/plain": [
       "              date       track country race_type  race_number    market_id  \\\n",
       "0       2020-07-01   Balaklava     AUS         R            1  1.171091087   \n",
       "1       2020-07-01   Balaklava     AUS         R            1  1.171091087   \n",
       "2       2020-07-01   Balaklava     AUS         R            1  1.171091087   \n",
       "3       2020-07-01   Balaklava     AUS         R            1  1.171091087   \n",
       "4       2020-07-01   Balaklava     AUS         R            1  1.171091087   \n",
       "...            ...         ...     ...       ...          ...          ...   \n",
       "160022  2021-06-29  Townsville     AUS         R            6  1.184845396   \n",
       "160023  2021-06-29  Townsville     AUS         R            6  1.184845396   \n",
       "160024  2021-06-29  Townsville     AUS         R            6  1.184845396   \n",
       "160025  2021-06-29  Townsville     AUS         R            6  1.184845396   \n",
       "160026  2021-06-29  Townsville     AUS         R            6  1.184845396   \n",
       "\n",
       "                 start_time weather track_condition race_distance  ... place  \\\n",
       "0       2020-07-01 02:40:00    FINE           GOOD4          2200  ...   4.0   \n",
       "1       2020-07-01 02:40:00    FINE           GOOD4          2200  ...   7.0   \n",
       "2       2020-07-01 02:40:00    FINE           GOOD4          2200  ...   1.0   \n",
       "3       2020-07-01 02:40:00    FINE           GOOD4          2200  ...   3.0   \n",
       "4       2020-07-01 02:40:00    FINE           GOOD4          2200  ...   2.0   \n",
       "...                     ...     ...             ...           ...  ...   ...   \n",
       "160022  2021-06-29 07:00:00    None            None          1000  ...   1.0   \n",
       "160023  2021-06-29 07:00:00    None            None          1000  ...   7.0   \n",
       "160024  2021-06-29 07:00:00    None            None          1000  ...   4.0   \n",
       "160025  2021-06-29 07:00:00    None            None          1000  ...   6.0   \n",
       "160026  2021-06-29 07:00:00    None            None          1000  ...   8.0   \n",
       "\n",
       "                trainer             jockey  weight  wap_5m wap_30s     bsp  \\\n",
       "0           Peter Nolan       Karl Zechner    59.0    3.30    3.76    3.49   \n",
       "1        Dennis O'leary   Margaret Collett    59.0   45.00   72.01  102.90   \n",
       "2         John Hickmott     Barend Vorster    58.5    2.80    2.46    2.74   \n",
       "3        Dennis O'leary     Kayla Crowther    57.0   14.41   11.25   14.00   \n",
       "4            Trevor Day       Sairyn Fawke    57.0   11.37   13.58   13.62   \n",
       "...                 ...                ...     ...     ...     ...     ...   \n",
       "160022  Sharlee D'avila     Lacey Morrison    57.5    7.22    6.48    5.97   \n",
       "160023    Graham Hughes      Frank Edwards    56.0   67.74   50.79   70.42   \n",
       "160024      Alby Molino        M Potgieter    55.0   12.55   11.02   13.24   \n",
       "160025      Chris Parry  Wanderson D'avila    55.0    7.09    7.51    8.78   \n",
       "160026      Des Veivers     Bonnie Thomson    54.0  340.00  412.90  520.96   \n",
       "\n",
       "          ltp  traded_vol  inplay_min_lay  \n",
       "0         3.5       16543            2.70  \n",
       "1       100.0         583          130.00  \n",
       "2         3.0       36043            1.01  \n",
       "3        14.0        4113            7.40  \n",
       "4        13.5        2395           13.50  \n",
       "...       ...         ...             ...  \n",
       "160022    5.9       14848            1.01  \n",
       "160023   75.0         677           75.00  \n",
       "160024   14.0        6700           10.00  \n",
       "160025    9.0        8776            4.20  \n",
       "160026  530.0          99          530.00  \n",
       "\n",
       "[160027 rows x 23 columns]"
      ],
      "text/html": "<div>\n<style scoped>\n    .dataframe tbody tr th:only-of-type {\n        vertical-align: middle;\n    }\n\n    .dataframe tbody tr th {\n        vertical-align: top;\n    }\n\n    .dataframe thead th {\n        text-align: right;\n    }\n</style>\n<table border=\"1\" class=\"dataframe\">\n  <thead>\n    <tr style=\"text-align: right;\">\n      <th></th>\n      <th>date</th>\n      <th>track</th>\n      <th>country</th>\n      <th>race_type</th>\n      <th>race_number</th>\n      <th>market_id</th>\n      <th>start_time</th>\n      <th>weather</th>\n      <th>track_condition</th>\n      <th>race_distance</th>\n      <th>...</th>\n      <th>place</th>\n      <th>trainer</th>\n      <th>jockey</th>\n      <th>weight</th>\n      <th>wap_5m</th>\n      <th>wap_30s</th>\n      <th>bsp</th>\n      <th>ltp</th>\n      <th>traded_vol</th>\n      <th>inplay_min_lay</th>\n    </tr>\n  </thead>\n  <tbody>\n    <tr>\n      <th>0</th>\n      <td>2020-07-01</td>\n      <td>Balaklava</td>\n      <td>AUS</td>\n      <td>R</td>\n      <td>1</td>\n      <td>1.171091087</td>\n      <td>2020-07-01 02:40:00</td>\n      <td>FINE</td>\n      <td>GOOD4</td>\n      <td>2200</td>\n      <td>...</td>\n      <td>4.0</td>\n      <td>Peter Nolan</td>\n      <td>Karl Zechner</td>\n      <td>59.0</td>\n      <td>3.30</td>\n      <td>3.76</td>\n      <td>3.49</td>\n      <td>3.5</td>\n      <td>16543</td>\n      <td>2.70</td>\n    </tr>\n    <tr>\n      <th>1</th>\n      <td>2020-07-01</td>\n      <td>Balaklava</td>\n      <td>AUS</td>\n      <td>R</td>\n      <td>1</td>\n      <td>1.171091087</td>\n      <td>2020-07-01 02:40:00</td>\n      <td>FINE</td>\n      <td>GOOD4</td>\n      <td>2200</td>\n      <td>...</td>\n      <td>7.0</td>\n      <td>Dennis O'leary</td>\n      <td>Margaret Collett</td>\n      <td>59.0</td>\n      <td>45.00</td>\n      <td>72.01</td>\n      <td>102.90</td>\n      <td>100.0</td>\n      <td>583</td>\n      <td>130.00</td>\n    </tr>\n    <tr>\n      <th>2</th>\n      <td>2020-07-01</td>\n      <td>Balaklava</td>\n      <td>AUS</td>\n      <td>R</td>\n      <td>1</td>\n      <td>1.171091087</td>\n      <td>2020-07-01 02:40:00</td>\n      <td>FINE</td>\n      <td>GOOD4</td>\n      <td>2200</td>\n      <td>...</td>\n      <td>1.0</td>\n      <td>John Hickmott</td>\n      <td>Barend Vorster</td>\n      <td>58.5</td>\n      <td>2.80</td>\n      <td>2.46</td>\n      <td>2.74</td>\n      <td>3.0</td>\n      <td>36043</td>\n      <td>1.01</td>\n    </tr>\n    <tr>\n      <th>3</th>\n      <td>2020-07-01</td>\n      <td>Balaklava</td>\n      <td>AUS</td>\n      <td>R</td>\n      <td>1</td>\n      <td>1.171091087</td>\n      <td>2020-07-01 02:40:00</td>\n      <td>FINE</td>\n      <td>GOOD4</td>\n      <td>2200</td>\n      <td>...</td>\n      <td>3.0</td>\n      <td>Dennis O'leary</td>\n      <td>Kayla Crowther</td>\n      <td>57.0</td>\n      <td>14.41</td>\n      <td>11.25</td>\n      <td>14.00</td>\n      <td>14.0</td>\n      <td>4113</td>\n      <td>7.40</td>\n    </tr>\n    <tr>\n      <th>4</th>\n      <td>2020-07-01</td>\n      <td>Balaklava</td>\n      <td>AUS</td>\n      <td>R</td>\n      <td>1</td>\n      <td>1.171091087</td>\n      <td>2020-07-01 02:40:00</td>\n      <td>FINE</td>\n      <td>GOOD4</td>\n      <td>2200</td>\n      <td>...</td>\n      <td>2.0</td>\n      <td>Trevor Day</td>\n      <td>Sairyn Fawke</td>\n      <td>57.0</td>\n      <td>11.37</td>\n      <td>13.58</td>\n      <td>13.62</td>\n      <td>13.5</td>\n      <td>2395</td>\n      <td>13.50</td>\n    </tr>\n    <tr>\n      <th>...</th>\n      <td>...</td>\n      <td>...</td>\n      <td>...</td>\n      <td>...</td>\n      <td>...</td>\n      <td>...</td>\n      <td>...</td>\n      <td>...</td>\n      <td>...</td>\n      <td>...</td>\n      <td>...</td>\n      <td>...</td>\n      <td>...</td>\n      <td>...</td>\n      <td>...</td>\n      <td>...</td>\n      <td>...</td>\n      <td>...</td>\n      <td>...</td>\n      <td>...</td>\n      <td>...</td>\n    </tr>\n    <tr>\n      <th>160022</th>\n      <td>2021-06-29</td>\n      <td>Townsville</td>\n      <td>AUS</td>\n      <td>R</td>\n      <td>6</td>\n      <td>1.184845396</td>\n      <td>2021-06-29 07:00:00</td>\n      <td>None</td>\n      <td>None</td>\n      <td>1000</td>\n      <td>...</td>\n      <td>1.0</td>\n      <td>Sharlee D'avila</td>\n      <td>Lacey Morrison</td>\n      <td>57.5</td>\n      <td>7.22</td>\n      <td>6.48</td>\n      <td>5.97</td>\n      <td>5.9</td>\n      <td>14848</td>\n      <td>1.01</td>\n    </tr>\n    <tr>\n      <th>160023</th>\n      <td>2021-06-29</td>\n      <td>Townsville</td>\n      <td>AUS</td>\n      <td>R</td>\n      <td>6</td>\n      <td>1.184845396</td>\n      <td>2021-06-29 07:00:00</td>\n      <td>None</td>\n      <td>None</td>\n      <td>1000</td>\n      <td>...</td>\n      <td>7.0</td>\n      <td>Graham Hughes</td>\n      <td>Frank Edwards</td>\n      <td>56.0</td>\n      <td>67.74</td>\n      <td>50.79</td>\n      <td>70.42</td>\n      <td>75.0</td>\n      <td>677</td>\n      <td>75.00</td>\n    </tr>\n    <tr>\n      <th>160024</th>\n      <td>2021-06-29</td>\n      <td>Townsville</td>\n      <td>AUS</td>\n      <td>R</td>\n      <td>6</td>\n      <td>1.184845396</td>\n      <td>2021-06-29 07:00:00</td>\n      <td>None</td>\n      <td>None</td>\n      <td>1000</td>\n      <td>...</td>\n      <td>4.0</td>\n      <td>Alby Molino</td>\n      <td>M Potgieter</td>\n      <td>55.0</td>\n      <td>12.55</td>\n      <td>11.02</td>\n      <td>13.24</td>\n      <td>14.0</td>\n      <td>6700</td>\n      <td>10.00</td>\n    </tr>\n    <tr>\n      <th>160025</th>\n      <td>2021-06-29</td>\n      <td>Townsville</td>\n      <td>AUS</td>\n      <td>R</td>\n      <td>6</td>\n      <td>1.184845396</td>\n      <td>2021-06-29 07:00:00</td>\n      <td>None</td>\n      <td>None</td>\n      <td>1000</td>\n      <td>...</td>\n      <td>6.0</td>\n      <td>Chris Parry</td>\n      <td>Wanderson D'avila</td>\n      <td>55.0</td>\n      <td>7.09</td>\n      <td>7.51</td>\n      <td>8.78</td>\n      <td>9.0</td>\n      <td>8776</td>\n      <td>4.20</td>\n    </tr>\n    <tr>\n      <th>160026</th>\n      <td>2021-06-29</td>\n      <td>Townsville</td>\n      <td>AUS</td>\n      <td>R</td>\n      <td>6</td>\n      <td>1.184845396</td>\n      <td>2021-06-29 07:00:00</td>\n      <td>None</td>\n      <td>None</td>\n      <td>1000</td>\n      <td>...</td>\n      <td>8.0</td>\n      <td>Des Veivers</td>\n      <td>Bonnie Thomson</td>\n      <td>54.0</td>\n      <td>340.00</td>\n      <td>412.90</td>\n      <td>520.96</td>\n      <td>530.0</td>\n      <td>99</td>\n      <td>530.00</td>\n    </tr>\n  </tbody>\n</table>\n<p>160027 rows × 23 columns</p>\n</div>"
     },
     "metadata": {},
     "execution_count": 96
    }
   ],
   "source": [
    "# Joining two datasets\n",
    "\n",
    "df = race.merge(odds.loc[:, odds.columns != 'selection_name'], how = \"inner\", on = ['market_id', 'selection_id'])\n",
    "\n",
    "#df = df[['date', 'market_id', 'selection_id', 'country', 'track', 'race_type', 'race_number', 'start_time', 'weather', 'track_condition', 'race_distance', 'barrier', '']]\n",
    "df"
   ]
  },
  {
   "cell_type": "code",
   "execution_count": 97,
   "metadata": {},
   "outputs": [
    {
     "output_type": "execute_result",
     "data": {
      "text/plain": [
       "2021-04-03    1168\n",
       "2020-10-17    1164\n",
       "2021-05-29    1158\n",
       "2020-11-03    1111\n",
       "2021-05-22    1107\n",
       "              ... \n",
       "2020-12-21     100\n",
       "2021-03-22      95\n",
       "2020-10-26      85\n",
       "2021-03-15      62\n",
       "2021-01-05      51\n",
       "Name: date, Length: 351, dtype: int64"
      ]
     },
     "metadata": {},
     "execution_count": 97
    }
   ],
   "source": [
    "df.date.value_counts()"
   ]
  },
  {
   "cell_type": "code",
   "execution_count": 98,
   "metadata": {},
   "outputs": [
    {
     "output_type": "execute_result",
     "data": {
      "text/plain": [
       "2     14336\n",
       "1     14328\n",
       "3     14310\n",
       "4     14290\n",
       "5     14237\n",
       "6     13970\n",
       "7     13484\n",
       "8     12642\n",
       "9     11245\n",
       "10     9628\n",
       "11     7820\n",
       "12     5996\n",
       "13     4426\n",
       "14     3219\n",
       "15     2265\n",
       "16     1583\n",
       "17     1042\n",
       "18      678\n",
       "19      283\n",
       "20      167\n",
       "21       45\n",
       "22       20\n",
       "23        8\n",
       "24        5\n",
       "Name: barrier, dtype: int64"
      ]
     },
     "metadata": {},
     "execution_count": 98
    }
   ],
   "source": [
    "df.barrier.value_counts()"
   ]
  },
  {
   "cell_type": "code",
   "execution_count": 99,
   "metadata": {},
   "outputs": [
    {
     "output_type": "execute_result",
     "data": {
      "text/plain": [
       "1200    15873\n",
       "1400    11665\n",
       "1200    10914\n",
       "1000     9584\n",
       "1600     8620\n",
       "        ...  \n",
       "1510        5\n",
       "4000        5\n",
       "2015        5\n",
       "2206        5\n",
       "1845        4\n",
       "Name: race_distance, Length: 564, dtype: int64"
      ]
     },
     "metadata": {},
     "execution_count": 99
    }
   ],
   "source": [
    "df.race_distance.value_counts()"
   ]
  },
  {
   "cell_type": "code",
   "execution_count": 100,
   "metadata": {},
   "outputs": [],
   "source": [
    "# Functions\n",
    "# __________________\n",
    "\n",
    "def distance_group(distance):\n",
    "\n",
    "\n",
    "    if distance is None:\n",
    "        return(\"missing\")\n",
    "    elif distance < 1100:\n",
    "        return(\"sprint\")\n",
    "    elif distance < 1400:\n",
    "        return(\"mid_short\")\n",
    "    elif distance < 1800:\n",
    "        return(\"mid_long\")\n",
    "    else:\n",
    "        return(\"long\")\n",
    "\n",
    "def barrier_group(barrier):\n",
    "    if barrier is None:\n",
    "        return(\"missing\")\n",
    "    elif barrier < 4:\n",
    "        return(\"inside\")\n",
    "    elif barrier < 9:\n",
    "        return(\"mid_field\")\n",
    "    else:\n",
    "        return(\"outside\")\n"
   ]
  },
  {
   "cell_type": "code",
   "execution_count": 101,
   "metadata": {},
   "outputs": [],
   "source": [
    "df['distance_group'] = pd.to_numeric(df.race_distance, errors = \"coerce\").apply(distance_group)\n",
    "df['barrier_group'] = pd.to_numeric(df.barrier, errors = \"coerce\").apply(barrier_group)"
   ]
  },
  {
   "cell_type": "code",
   "execution_count": 102,
   "metadata": {},
   "outputs": [],
   "source": [
    "# Apply Back Profit Less Commission\n",
    "\n",
    "df['back_npl'] = np.where(df['place'] == 1, 0.95 * (df['bsp']-1), -1)\n",
    "df['lay_npl'] = np.where(df['place'] == 1, -1 * (df['bsp']-1), 0.95)\n",
    "\n",
    "# df.query('place == 1')[['bsp', 'place', 'back_npl']]\n"
   ]
  },
  {
   "cell_type": "code",
   "execution_count": 103,
   "metadata": {},
   "outputs": [
    {
     "output_type": "execute_result",
     "data": {
      "text/plain": [
       "mid_short    64998\n",
       "mid_long     51038\n",
       "sprint       23171\n",
       "long         20820\n",
       "Name: distance_group, dtype: int64"
      ]
     },
     "metadata": {},
     "execution_count": 103
    }
   ],
   "source": [
    "df.distance_group.value_counts()"
   ]
  },
  {
   "cell_type": "code",
   "execution_count": 104,
   "metadata": {},
   "outputs": [
    {
     "output_type": "execute_result",
     "data": {
      "text/plain": [
       "mid_field    68623\n",
       "outside      48430\n",
       "inside       42974\n",
       "Name: barrier_group, dtype: int64"
      ]
     },
     "metadata": {},
     "execution_count": 104
    }
   ],
   "source": [
    "df.barrier_group.value_counts()"
   ]
  },
  {
   "cell_type": "code",
   "execution_count": 105,
   "metadata": {},
   "outputs": [],
   "source": [
    "df_train = df.query('date < \"2021-04-01\"')\n",
    "df_test = df.query('date >= \"2021-04-01\"')"
   ]
  },
  {
   "cell_type": "code",
   "execution_count": 106,
   "metadata": {},
   "outputs": [
    {
     "output_type": "execute_result",
     "data": {
      "text/plain": [
       "'119244 rows in the \"training\" set and 40783 rows in the \"test\" data'"
      ]
     },
     "metadata": {},
     "execution_count": 106
    }
   ],
   "source": [
    "'{} rows in the \"training\" set and {} rows in the \"test\" data'.format(df_train.shape[0], df_test.shape[0])"
   ]
  },
  {
   "source": [
    "# SIMPLE\n",
    "\n",
    "Track / Barrier / Distance"
   ],
   "cell_type": "markdown",
   "metadata": {}
  },
  {
   "cell_type": "code",
   "execution_count": 107,
   "metadata": {},
   "outputs": [
    {
     "output_type": "execute_result",
     "data": {
      "text/plain": [
       "       track race_distance barrier_group  back_npl  lay_npl  stake        odds\n",
       "0     Albany          1000        inside   11.2550   -11.95      2   15.450000\n",
       "1     Albany          1000     mid_field   -5.0000     4.75      5  101.136000\n",
       "2     Albany          1000       outside   -5.0000     4.75      5   88.374000\n",
       "3     Albany          1100        inside   -3.0525     2.70      6   29.430000\n",
       "4     Albany          1100     mid_field   -6.4040     5.92      9   37.483333\n",
       "...      ...           ...           ...       ...      ...    ...         ...\n",
       "6325    York          1500        inside    1.8995    -2.41      6   41.195000\n",
       "6326    York          1500     mid_field   -7.0000     6.65      7   32.472857\n",
       "6327    York          1920        inside   -3.0000     2.85      3   21.883333\n",
       "6328    York          1920     mid_field   -0.3520    -0.04      5   20.978000\n",
       "6329    York          1920       outside   -2.0000     1.90      2   21.450000\n",
       "\n",
       "[6330 rows x 7 columns]"
      ],
      "text/html": "<div>\n<style scoped>\n    .dataframe tbody tr th:only-of-type {\n        vertical-align: middle;\n    }\n\n    .dataframe tbody tr th {\n        vertical-align: top;\n    }\n\n    .dataframe thead th {\n        text-align: right;\n    }\n</style>\n<table border=\"1\" class=\"dataframe\">\n  <thead>\n    <tr style=\"text-align: right;\">\n      <th></th>\n      <th>track</th>\n      <th>race_distance</th>\n      <th>barrier_group</th>\n      <th>back_npl</th>\n      <th>lay_npl</th>\n      <th>stake</th>\n      <th>odds</th>\n    </tr>\n  </thead>\n  <tbody>\n    <tr>\n      <th>0</th>\n      <td>Albany</td>\n      <td>1000</td>\n      <td>inside</td>\n      <td>11.2550</td>\n      <td>-11.95</td>\n      <td>2</td>\n      <td>15.450000</td>\n    </tr>\n    <tr>\n      <th>1</th>\n      <td>Albany</td>\n      <td>1000</td>\n      <td>mid_field</td>\n      <td>-5.0000</td>\n      <td>4.75</td>\n      <td>5</td>\n      <td>101.136000</td>\n    </tr>\n    <tr>\n      <th>2</th>\n      <td>Albany</td>\n      <td>1000</td>\n      <td>outside</td>\n      <td>-5.0000</td>\n      <td>4.75</td>\n      <td>5</td>\n      <td>88.374000</td>\n    </tr>\n    <tr>\n      <th>3</th>\n      <td>Albany</td>\n      <td>1100</td>\n      <td>inside</td>\n      <td>-3.0525</td>\n      <td>2.70</td>\n      <td>6</td>\n      <td>29.430000</td>\n    </tr>\n    <tr>\n      <th>4</th>\n      <td>Albany</td>\n      <td>1100</td>\n      <td>mid_field</td>\n      <td>-6.4040</td>\n      <td>5.92</td>\n      <td>9</td>\n      <td>37.483333</td>\n    </tr>\n    <tr>\n      <th>...</th>\n      <td>...</td>\n      <td>...</td>\n      <td>...</td>\n      <td>...</td>\n      <td>...</td>\n      <td>...</td>\n      <td>...</td>\n    </tr>\n    <tr>\n      <th>6325</th>\n      <td>York</td>\n      <td>1500</td>\n      <td>inside</td>\n      <td>1.8995</td>\n      <td>-2.41</td>\n      <td>6</td>\n      <td>41.195000</td>\n    </tr>\n    <tr>\n      <th>6326</th>\n      <td>York</td>\n      <td>1500</td>\n      <td>mid_field</td>\n      <td>-7.0000</td>\n      <td>6.65</td>\n      <td>7</td>\n      <td>32.472857</td>\n    </tr>\n    <tr>\n      <th>6327</th>\n      <td>York</td>\n      <td>1920</td>\n      <td>inside</td>\n      <td>-3.0000</td>\n      <td>2.85</td>\n      <td>3</td>\n      <td>21.883333</td>\n    </tr>\n    <tr>\n      <th>6328</th>\n      <td>York</td>\n      <td>1920</td>\n      <td>mid_field</td>\n      <td>-0.3520</td>\n      <td>-0.04</td>\n      <td>5</td>\n      <td>20.978000</td>\n    </tr>\n    <tr>\n      <th>6329</th>\n      <td>York</td>\n      <td>1920</td>\n      <td>outside</td>\n      <td>-2.0000</td>\n      <td>1.90</td>\n      <td>2</td>\n      <td>21.450000</td>\n    </tr>\n  </tbody>\n</table>\n<p>6330 rows × 7 columns</p>\n</div>"
     },
     "metadata": {},
     "execution_count": 107
    }
   ],
   "source": [
    "\n",
    "# Simple\n",
    "\n",
    "# Bet placement: BSP Back or Lay\n",
    "# Strategy: Select a profitable track / distance / barrier group\n",
    "\n",
    "trackDistanceBarrier = (\n",
    "    df_train\n",
    "    .assign(stake = 1)\n",
    "    .assign(odds = lambda x: x['bsp'])\n",
    "    .groupby(['track', 'race_distance', 'barrier_group'], as_index=False)\n",
    "    .agg({'back_npl': 'sum', 'lay_npl': 'sum','stake': 'sum', 'odds': 'mean'})\n",
    ")\n",
    "\n",
    "trackDistanceBarrier\n",
    "\n"
   ]
  },
  {
   "cell_type": "code",
   "execution_count": 108,
   "metadata": {},
   "outputs": [
    {
     "output_type": "stream",
     "name": "stderr",
     "text": [
      "/home/tmbish/.local/lib/python3.9/site-packages/pandas/core/arraylike.py:364: RuntimeWarning:\n\ninvalid value encountered in sqrt\n\n"
     ]
    }
   ],
   "source": [
    "def plStatisticalSignificance(df):\n",
    "\n",
    "    x = (\n",
    "        df\n",
    "        .assign(pot=lambda x: x['npl'] / x['stake'])\n",
    "        .assign(pot_abs=lambda x: abs(x['pot']))\n",
    "        .assign(pot_sign=lambda x: np.where(x['pot']==x['pot_abs'], 1, -1))\n",
    "        .assign(stake=lambda x: x['stake'].astype('float'))\n",
    "        .assign(t_score=lambda x: (x['pot'] * np.sqrt(x['stake'])) / np.sqrt( (1 + x['pot']) * (x['odds'] - 1 - x['pot']) ) )\n",
    "        .assign(p_value=lambda x: 2 * t.cdf(-abs(x['t_score']), x['stake']-1))\n",
    "        .assign(p_value=lambda x: np.where(x['p_value']==0, 1, x['p_value']))\n",
    "        .assign(p_value=lambda x: np.where(np.isnan(x['p_value']), 1, x[\"p_value\"]))\n",
    "        .drop(columns = ['pot', 'pot_abs', 'pot_sign', 't_score'])\n",
    "    )\n",
    "\n",
    "    return(x)\n",
    "\n",
    "\n",
    "backStatTest = plStatisticalSignificance(\n",
    "    trackDistanceBarrier.assign(npl=lambda x:x['back_npl'])\n",
    ")\n",
    "\n",
    "layStatTest = plStatisticalSignificance(\n",
    "    trackDistanceBarrier.assign(npl=lambda x:x['lay_npl'])\n",
    ")"
   ]
  },
  {
   "cell_type": "code",
   "execution_count": 109,
   "metadata": {},
   "outputs": [
    {
     "output_type": "execute_result",
     "data": {
      "text/plain": [
       "       track race_distance barrier_group  back_npl  lay_npl  stake  \\\n",
       "0     Albany          1000        inside   11.2550   -11.95    2.0   \n",
       "1     Albany          1000     mid_field   -5.0000     4.75    5.0   \n",
       "2     Albany          1000       outside   -5.0000     4.75    5.0   \n",
       "3     Albany          1100        inside   -3.0525     2.70    6.0   \n",
       "4     Albany          1100     mid_field   -6.4040     5.92    9.0   \n",
       "...      ...           ...           ...       ...      ...    ...   \n",
       "6325    York          1500        inside    1.8995    -2.41    6.0   \n",
       "6326    York          1500     mid_field   -7.0000     6.65    7.0   \n",
       "6327    York          1920        inside   -3.0000     2.85    3.0   \n",
       "6328    York          1920     mid_field   -0.3520    -0.04    5.0   \n",
       "6329    York          1920       outside   -2.0000     1.90    2.0   \n",
       "\n",
       "            odds      npl   p_value  \n",
       "0      15.450000  11.2550  0.487280  \n",
       "1     101.136000  -5.0000  1.000000  \n",
       "2      88.374000  -5.0000  1.000000  \n",
       "3      29.430000  -3.0525  0.754412  \n",
       "4      37.483333  -6.4040  0.532857  \n",
       "...          ...      ...       ...  \n",
       "6325   41.195000   1.8995  0.918934  \n",
       "6326   32.472857  -7.0000  1.000000  \n",
       "6327   21.883333  -3.0000  1.000000  \n",
       "6328   20.978000  -0.3520  0.972659  \n",
       "6329   21.450000  -2.0000  1.000000  \n",
       "\n",
       "[6330 rows x 9 columns]"
      ],
      "text/html": "<div>\n<style scoped>\n    .dataframe tbody tr th:only-of-type {\n        vertical-align: middle;\n    }\n\n    .dataframe tbody tr th {\n        vertical-align: top;\n    }\n\n    .dataframe thead th {\n        text-align: right;\n    }\n</style>\n<table border=\"1\" class=\"dataframe\">\n  <thead>\n    <tr style=\"text-align: right;\">\n      <th></th>\n      <th>track</th>\n      <th>race_distance</th>\n      <th>barrier_group</th>\n      <th>back_npl</th>\n      <th>lay_npl</th>\n      <th>stake</th>\n      <th>odds</th>\n      <th>npl</th>\n      <th>p_value</th>\n    </tr>\n  </thead>\n  <tbody>\n    <tr>\n      <th>0</th>\n      <td>Albany</td>\n      <td>1000</td>\n      <td>inside</td>\n      <td>11.2550</td>\n      <td>-11.95</td>\n      <td>2.0</td>\n      <td>15.450000</td>\n      <td>11.2550</td>\n      <td>0.487280</td>\n    </tr>\n    <tr>\n      <th>1</th>\n      <td>Albany</td>\n      <td>1000</td>\n      <td>mid_field</td>\n      <td>-5.0000</td>\n      <td>4.75</td>\n      <td>5.0</td>\n      <td>101.136000</td>\n      <td>-5.0000</td>\n      <td>1.000000</td>\n    </tr>\n    <tr>\n      <th>2</th>\n      <td>Albany</td>\n      <td>1000</td>\n      <td>outside</td>\n      <td>-5.0000</td>\n      <td>4.75</td>\n      <td>5.0</td>\n      <td>88.374000</td>\n      <td>-5.0000</td>\n      <td>1.000000</td>\n    </tr>\n    <tr>\n      <th>3</th>\n      <td>Albany</td>\n      <td>1100</td>\n      <td>inside</td>\n      <td>-3.0525</td>\n      <td>2.70</td>\n      <td>6.0</td>\n      <td>29.430000</td>\n      <td>-3.0525</td>\n      <td>0.754412</td>\n    </tr>\n    <tr>\n      <th>4</th>\n      <td>Albany</td>\n      <td>1100</td>\n      <td>mid_field</td>\n      <td>-6.4040</td>\n      <td>5.92</td>\n      <td>9.0</td>\n      <td>37.483333</td>\n      <td>-6.4040</td>\n      <td>0.532857</td>\n    </tr>\n    <tr>\n      <th>...</th>\n      <td>...</td>\n      <td>...</td>\n      <td>...</td>\n      <td>...</td>\n      <td>...</td>\n      <td>...</td>\n      <td>...</td>\n      <td>...</td>\n      <td>...</td>\n    </tr>\n    <tr>\n      <th>6325</th>\n      <td>York</td>\n      <td>1500</td>\n      <td>inside</td>\n      <td>1.8995</td>\n      <td>-2.41</td>\n      <td>6.0</td>\n      <td>41.195000</td>\n      <td>1.8995</td>\n      <td>0.918934</td>\n    </tr>\n    <tr>\n      <th>6326</th>\n      <td>York</td>\n      <td>1500</td>\n      <td>mid_field</td>\n      <td>-7.0000</td>\n      <td>6.65</td>\n      <td>7.0</td>\n      <td>32.472857</td>\n      <td>-7.0000</td>\n      <td>1.000000</td>\n    </tr>\n    <tr>\n      <th>6327</th>\n      <td>York</td>\n      <td>1920</td>\n      <td>inside</td>\n      <td>-3.0000</td>\n      <td>2.85</td>\n      <td>3.0</td>\n      <td>21.883333</td>\n      <td>-3.0000</td>\n      <td>1.000000</td>\n    </tr>\n    <tr>\n      <th>6328</th>\n      <td>York</td>\n      <td>1920</td>\n      <td>mid_field</td>\n      <td>-0.3520</td>\n      <td>-0.04</td>\n      <td>5.0</td>\n      <td>20.978000</td>\n      <td>-0.3520</td>\n      <td>0.972659</td>\n    </tr>\n    <tr>\n      <th>6329</th>\n      <td>York</td>\n      <td>1920</td>\n      <td>outside</td>\n      <td>-2.0000</td>\n      <td>1.90</td>\n      <td>2.0</td>\n      <td>21.450000</td>\n      <td>-2.0000</td>\n      <td>1.000000</td>\n    </tr>\n  </tbody>\n</table>\n<p>6330 rows × 9 columns</p>\n</div>"
     },
     "metadata": {},
     "execution_count": 109
    }
   ],
   "source": [
    "backStatTest"
   ]
  },
  {
   "cell_type": "code",
   "execution_count": 110,
   "metadata": {},
   "outputs": [
    {
     "output_type": "execute_result",
     "data": {
      "text/plain": [
       "       track race_distance barrier_group  back_npl  lay_npl  stake  \\\n",
       "0     Albany          1000        inside   11.2550   -11.95    2.0   \n",
       "1     Albany          1000     mid_field   -5.0000     4.75    5.0   \n",
       "2     Albany          1000       outside   -5.0000     4.75    5.0   \n",
       "3     Albany          1100        inside   -3.0525     2.70    6.0   \n",
       "4     Albany          1100     mid_field   -6.4040     5.92    9.0   \n",
       "...      ...           ...           ...       ...      ...    ...   \n",
       "6325    York          1500        inside    1.8995    -2.41    6.0   \n",
       "6326    York          1500     mid_field   -7.0000     6.65    7.0   \n",
       "6327    York          1920        inside   -3.0000     2.85    3.0   \n",
       "6328    York          1920     mid_field   -0.3520    -0.04    5.0   \n",
       "6329    York          1920       outside   -2.0000     1.90    2.0   \n",
       "\n",
       "            odds    npl   p_value  \n",
       "0      15.450000 -11.95  1.000000  \n",
       "1     101.136000   4.75  0.885995  \n",
       "2      88.374000   4.75  0.877954  \n",
       "3      29.430000   2.70  0.869397  \n",
       "4      37.483333   5.92  0.804366  \n",
       "...          ...    ...       ...  \n",
       "6325   41.195000  -2.41  0.849635  \n",
       "6326   32.472857   6.65  0.755643  \n",
       "6327   21.883333   2.85  0.816546  \n",
       "6328   20.978000  -0.04  0.996987  \n",
       "6329   21.450000   1.90  0.863432  \n",
       "\n",
       "[6330 rows x 9 columns]"
      ],
      "text/html": "<div>\n<style scoped>\n    .dataframe tbody tr th:only-of-type {\n        vertical-align: middle;\n    }\n\n    .dataframe tbody tr th {\n        vertical-align: top;\n    }\n\n    .dataframe thead th {\n        text-align: right;\n    }\n</style>\n<table border=\"1\" class=\"dataframe\">\n  <thead>\n    <tr style=\"text-align: right;\">\n      <th></th>\n      <th>track</th>\n      <th>race_distance</th>\n      <th>barrier_group</th>\n      <th>back_npl</th>\n      <th>lay_npl</th>\n      <th>stake</th>\n      <th>odds</th>\n      <th>npl</th>\n      <th>p_value</th>\n    </tr>\n  </thead>\n  <tbody>\n    <tr>\n      <th>0</th>\n      <td>Albany</td>\n      <td>1000</td>\n      <td>inside</td>\n      <td>11.2550</td>\n      <td>-11.95</td>\n      <td>2.0</td>\n      <td>15.450000</td>\n      <td>-11.95</td>\n      <td>1.000000</td>\n    </tr>\n    <tr>\n      <th>1</th>\n      <td>Albany</td>\n      <td>1000</td>\n      <td>mid_field</td>\n      <td>-5.0000</td>\n      <td>4.75</td>\n      <td>5.0</td>\n      <td>101.136000</td>\n      <td>4.75</td>\n      <td>0.885995</td>\n    </tr>\n    <tr>\n      <th>2</th>\n      <td>Albany</td>\n      <td>1000</td>\n      <td>outside</td>\n      <td>-5.0000</td>\n      <td>4.75</td>\n      <td>5.0</td>\n      <td>88.374000</td>\n      <td>4.75</td>\n      <td>0.877954</td>\n    </tr>\n    <tr>\n      <th>3</th>\n      <td>Albany</td>\n      <td>1100</td>\n      <td>inside</td>\n      <td>-3.0525</td>\n      <td>2.70</td>\n      <td>6.0</td>\n      <td>29.430000</td>\n      <td>2.70</td>\n      <td>0.869397</td>\n    </tr>\n    <tr>\n      <th>4</th>\n      <td>Albany</td>\n      <td>1100</td>\n      <td>mid_field</td>\n      <td>-6.4040</td>\n      <td>5.92</td>\n      <td>9.0</td>\n      <td>37.483333</td>\n      <td>5.92</td>\n      <td>0.804366</td>\n    </tr>\n    <tr>\n      <th>...</th>\n      <td>...</td>\n      <td>...</td>\n      <td>...</td>\n      <td>...</td>\n      <td>...</td>\n      <td>...</td>\n      <td>...</td>\n      <td>...</td>\n      <td>...</td>\n    </tr>\n    <tr>\n      <th>6325</th>\n      <td>York</td>\n      <td>1500</td>\n      <td>inside</td>\n      <td>1.8995</td>\n      <td>-2.41</td>\n      <td>6.0</td>\n      <td>41.195000</td>\n      <td>-2.41</td>\n      <td>0.849635</td>\n    </tr>\n    <tr>\n      <th>6326</th>\n      <td>York</td>\n      <td>1500</td>\n      <td>mid_field</td>\n      <td>-7.0000</td>\n      <td>6.65</td>\n      <td>7.0</td>\n      <td>32.472857</td>\n      <td>6.65</td>\n      <td>0.755643</td>\n    </tr>\n    <tr>\n      <th>6327</th>\n      <td>York</td>\n      <td>1920</td>\n      <td>inside</td>\n      <td>-3.0000</td>\n      <td>2.85</td>\n      <td>3.0</td>\n      <td>21.883333</td>\n      <td>2.85</td>\n      <td>0.816546</td>\n    </tr>\n    <tr>\n      <th>6328</th>\n      <td>York</td>\n      <td>1920</td>\n      <td>mid_field</td>\n      <td>-0.3520</td>\n      <td>-0.04</td>\n      <td>5.0</td>\n      <td>20.978000</td>\n      <td>-0.04</td>\n      <td>0.996987</td>\n    </tr>\n    <tr>\n      <th>6329</th>\n      <td>York</td>\n      <td>1920</td>\n      <td>outside</td>\n      <td>-2.0000</td>\n      <td>1.90</td>\n      <td>2.0</td>\n      <td>21.450000</td>\n      <td>1.90</td>\n      <td>0.863432</td>\n    </tr>\n  </tbody>\n</table>\n<p>6330 rows × 9 columns</p>\n</div>"
     },
     "metadata": {},
     "execution_count": 110
    }
   ],
   "source": [
    "layStatTest"
   ]
  },
  {
   "cell_type": "code",
   "execution_count": 129,
   "metadata": {},
   "outputs": [
    {
     "output_type": "execute_result",
     "data": {
      "text/plain": [
       "              track race_distance barrier_group  back_npl  lay_npl  stake  \\\n",
       "188           Ascot          1000        inside  -83.6395    77.06  115.0   \n",
       "3619  Moonee Valley          1200        inside  -52.2195    48.81   64.0   \n",
       "6299        Yeppoon          1400        inside  -11.0000    10.45   11.0   \n",
       "959       Caulfield          1400     mid_field  -74.3150    67.45  114.0   \n",
       "1366         Darwin          1200     mid_field  -47.3980    43.94   64.0   \n",
       "\n",
       "           odds    npl   p_value  \n",
       "188   24.616870  77.06  0.248157  \n",
       "3619  17.725313  48.81  0.254399  \n",
       "6299   6.022727  10.45  0.289686  \n",
       "959   24.828772  67.45  0.301137  \n",
       "1366  19.354531  43.94  0.318178  "
      ],
      "text/html": "<div>\n<style scoped>\n    .dataframe tbody tr th:only-of-type {\n        vertical-align: middle;\n    }\n\n    .dataframe tbody tr th {\n        vertical-align: top;\n    }\n\n    .dataframe thead th {\n        text-align: right;\n    }\n</style>\n<table border=\"1\" class=\"dataframe\">\n  <thead>\n    <tr style=\"text-align: right;\">\n      <th></th>\n      <th>track</th>\n      <th>race_distance</th>\n      <th>barrier_group</th>\n      <th>back_npl</th>\n      <th>lay_npl</th>\n      <th>stake</th>\n      <th>odds</th>\n      <th>npl</th>\n      <th>p_value</th>\n    </tr>\n  </thead>\n  <tbody>\n    <tr>\n      <th>188</th>\n      <td>Ascot</td>\n      <td>1000</td>\n      <td>inside</td>\n      <td>-83.6395</td>\n      <td>77.06</td>\n      <td>115.0</td>\n      <td>24.616870</td>\n      <td>77.06</td>\n      <td>0.248157</td>\n    </tr>\n    <tr>\n      <th>3619</th>\n      <td>Moonee Valley</td>\n      <td>1200</td>\n      <td>inside</td>\n      <td>-52.2195</td>\n      <td>48.81</td>\n      <td>64.0</td>\n      <td>17.725313</td>\n      <td>48.81</td>\n      <td>0.254399</td>\n    </tr>\n    <tr>\n      <th>6299</th>\n      <td>Yeppoon</td>\n      <td>1400</td>\n      <td>inside</td>\n      <td>-11.0000</td>\n      <td>10.45</td>\n      <td>11.0</td>\n      <td>6.022727</td>\n      <td>10.45</td>\n      <td>0.289686</td>\n    </tr>\n    <tr>\n      <th>959</th>\n      <td>Caulfield</td>\n      <td>1400</td>\n      <td>mid_field</td>\n      <td>-74.3150</td>\n      <td>67.45</td>\n      <td>114.0</td>\n      <td>24.828772</td>\n      <td>67.45</td>\n      <td>0.301137</td>\n    </tr>\n    <tr>\n      <th>1366</th>\n      <td>Darwin</td>\n      <td>1200</td>\n      <td>mid_field</td>\n      <td>-47.3980</td>\n      <td>43.94</td>\n      <td>64.0</td>\n      <td>19.354531</td>\n      <td>43.94</td>\n      <td>0.318178</td>\n    </tr>\n  </tbody>\n</table>\n</div>"
     },
     "metadata": {},
     "execution_count": 129
    }
   ],
   "source": [
    "# Test Top 10 Lay Strategies\n",
    "layTop5 = layStatTest.query('lay_npl>0').sort_values('p_value').head(5)\n",
    "layTop5\n"
   ]
  },
  {
   "cell_type": "code",
   "execution_count": 130,
   "metadata": {},
   "outputs": [
    {
     "output_type": "execute_result",
     "data": {
      "text/plain": [
       "           date   track country race_type  race_number    market_id  \\\n",
       "0    2021-04-02   Ascot     AUS         R            6  1.181330624   \n",
       "1    2021-04-02   Ascot     AUS         R            6  1.181330624   \n",
       "2    2021-04-02   Ascot     AUS         R            6  1.181330624   \n",
       "3    2021-04-02   Ascot     AUS         R            6  1.181330624   \n",
       "4    2021-04-02   Ascot     AUS         R            6  1.181330624   \n",
       "..          ...     ...     ...       ...          ...          ...   \n",
       "219  2021-06-26  Darwin     AUS         R            3  1.184733965   \n",
       "220  2021-06-26  Darwin     AUS         R            3  1.184733965   \n",
       "221  2021-06-26  Darwin     AUS         R            3  1.184733965   \n",
       "222  2021-06-26  Darwin     AUS         R            3  1.184733965   \n",
       "223  2021-06-26  Darwin     AUS         R            3  1.184733965   \n",
       "\n",
       "              start_time weather track_condition race_distance  ...    bsp  \\\n",
       "0    2021-04-02 07:15:00    None            None          1000  ...  11.08   \n",
       "1    2021-04-02 07:15:00    None            None          1000  ...   5.41   \n",
       "2    2021-04-02 07:15:00    None            None          1000  ...   4.73   \n",
       "3    2021-04-02 07:15:00    None            None          1000  ...   7.35   \n",
       "4    2021-04-02 07:15:00    None            None          1000  ...   4.97   \n",
       "..                   ...     ...             ...           ...  ...    ...   \n",
       "219  2021-06-26 05:37:00    None            None          1200  ...  18.31   \n",
       "220  2021-06-26 05:37:00    None            None          1200  ...  42.00   \n",
       "221  2021-06-26 05:37:00    None            None          1200  ...  29.91   \n",
       "222  2021-06-26 05:37:00    None            None          1200  ...   6.60   \n",
       "223  2021-06-26 05:37:00    None            None          1200  ...   5.74   \n",
       "\n",
       "      ltp  traded_vol  inplay_min_lay distance_group barrier_group  back_npl  \\\n",
       "0    11.5        4302            8.80         sprint     mid_field   -1.0000   \n",
       "1     5.4       22583            5.00         sprint       outside   -1.0000   \n",
       "2     4.6       33321            1.01         sprint        inside    3.5435   \n",
       "3     7.2        9892            7.00         sprint     mid_field   -1.0000   \n",
       "4     4.9       15590            4.80         sprint       outside   -1.0000   \n",
       "..    ...         ...             ...            ...           ...       ...   \n",
       "219  19.5        4171           19.50      mid_short       outside   -1.0000   \n",
       "220  40.0        1118           44.00      mid_short     mid_field   -1.0000   \n",
       "221  30.0        1090            9.60      mid_short     mid_field   -1.0000   \n",
       "222   6.4       14863            1.01      mid_short       outside    5.3200   \n",
       "223   5.9       10696            3.75      mid_short     mid_field   -1.0000   \n",
       "\n",
       "     lay_npl   npl  stake  \n",
       "0       0.95  0.95      1  \n",
       "1       0.95  0.95      1  \n",
       "2      -3.73 -3.73      1  \n",
       "3       0.95  0.95      1  \n",
       "4       0.95  0.95      1  \n",
       "..       ...   ...    ...  \n",
       "219     0.95  0.95      1  \n",
       "220     0.95  0.95      1  \n",
       "221     0.95  0.95      1  \n",
       "222    -5.60 -5.60      1  \n",
       "223     0.95  0.95      1  \n",
       "\n",
       "[224 rows x 29 columns]"
      ],
      "text/html": "<div>\n<style scoped>\n    .dataframe tbody tr th:only-of-type {\n        vertical-align: middle;\n    }\n\n    .dataframe tbody tr th {\n        vertical-align: top;\n    }\n\n    .dataframe thead th {\n        text-align: right;\n    }\n</style>\n<table border=\"1\" class=\"dataframe\">\n  <thead>\n    <tr style=\"text-align: right;\">\n      <th></th>\n      <th>date</th>\n      <th>track</th>\n      <th>country</th>\n      <th>race_type</th>\n      <th>race_number</th>\n      <th>market_id</th>\n      <th>start_time</th>\n      <th>weather</th>\n      <th>track_condition</th>\n      <th>race_distance</th>\n      <th>...</th>\n      <th>bsp</th>\n      <th>ltp</th>\n      <th>traded_vol</th>\n      <th>inplay_min_lay</th>\n      <th>distance_group</th>\n      <th>barrier_group</th>\n      <th>back_npl</th>\n      <th>lay_npl</th>\n      <th>npl</th>\n      <th>stake</th>\n    </tr>\n  </thead>\n  <tbody>\n    <tr>\n      <th>0</th>\n      <td>2021-04-02</td>\n      <td>Ascot</td>\n      <td>AUS</td>\n      <td>R</td>\n      <td>6</td>\n      <td>1.181330624</td>\n      <td>2021-04-02 07:15:00</td>\n      <td>None</td>\n      <td>None</td>\n      <td>1000</td>\n      <td>...</td>\n      <td>11.08</td>\n      <td>11.5</td>\n      <td>4302</td>\n      <td>8.80</td>\n      <td>sprint</td>\n      <td>mid_field</td>\n      <td>-1.0000</td>\n      <td>0.95</td>\n      <td>0.95</td>\n      <td>1</td>\n    </tr>\n    <tr>\n      <th>1</th>\n      <td>2021-04-02</td>\n      <td>Ascot</td>\n      <td>AUS</td>\n      <td>R</td>\n      <td>6</td>\n      <td>1.181330624</td>\n      <td>2021-04-02 07:15:00</td>\n      <td>None</td>\n      <td>None</td>\n      <td>1000</td>\n      <td>...</td>\n      <td>5.41</td>\n      <td>5.4</td>\n      <td>22583</td>\n      <td>5.00</td>\n      <td>sprint</td>\n      <td>outside</td>\n      <td>-1.0000</td>\n      <td>0.95</td>\n      <td>0.95</td>\n      <td>1</td>\n    </tr>\n    <tr>\n      <th>2</th>\n      <td>2021-04-02</td>\n      <td>Ascot</td>\n      <td>AUS</td>\n      <td>R</td>\n      <td>6</td>\n      <td>1.181330624</td>\n      <td>2021-04-02 07:15:00</td>\n      <td>None</td>\n      <td>None</td>\n      <td>1000</td>\n      <td>...</td>\n      <td>4.73</td>\n      <td>4.6</td>\n      <td>33321</td>\n      <td>1.01</td>\n      <td>sprint</td>\n      <td>inside</td>\n      <td>3.5435</td>\n      <td>-3.73</td>\n      <td>-3.73</td>\n      <td>1</td>\n    </tr>\n    <tr>\n      <th>3</th>\n      <td>2021-04-02</td>\n      <td>Ascot</td>\n      <td>AUS</td>\n      <td>R</td>\n      <td>6</td>\n      <td>1.181330624</td>\n      <td>2021-04-02 07:15:00</td>\n      <td>None</td>\n      <td>None</td>\n      <td>1000</td>\n      <td>...</td>\n      <td>7.35</td>\n      <td>7.2</td>\n      <td>9892</td>\n      <td>7.00</td>\n      <td>sprint</td>\n      <td>mid_field</td>\n      <td>-1.0000</td>\n      <td>0.95</td>\n      <td>0.95</td>\n      <td>1</td>\n    </tr>\n    <tr>\n      <th>4</th>\n      <td>2021-04-02</td>\n      <td>Ascot</td>\n      <td>AUS</td>\n      <td>R</td>\n      <td>6</td>\n      <td>1.181330624</td>\n      <td>2021-04-02 07:15:00</td>\n      <td>None</td>\n      <td>None</td>\n      <td>1000</td>\n      <td>...</td>\n      <td>4.97</td>\n      <td>4.9</td>\n      <td>15590</td>\n      <td>4.80</td>\n      <td>sprint</td>\n      <td>outside</td>\n      <td>-1.0000</td>\n      <td>0.95</td>\n      <td>0.95</td>\n      <td>1</td>\n    </tr>\n    <tr>\n      <th>...</th>\n      <td>...</td>\n      <td>...</td>\n      <td>...</td>\n      <td>...</td>\n      <td>...</td>\n      <td>...</td>\n      <td>...</td>\n      <td>...</td>\n      <td>...</td>\n      <td>...</td>\n      <td>...</td>\n      <td>...</td>\n      <td>...</td>\n      <td>...</td>\n      <td>...</td>\n      <td>...</td>\n      <td>...</td>\n      <td>...</td>\n      <td>...</td>\n      <td>...</td>\n      <td>...</td>\n    </tr>\n    <tr>\n      <th>219</th>\n      <td>2021-06-26</td>\n      <td>Darwin</td>\n      <td>AUS</td>\n      <td>R</td>\n      <td>3</td>\n      <td>1.184733965</td>\n      <td>2021-06-26 05:37:00</td>\n      <td>None</td>\n      <td>None</td>\n      <td>1200</td>\n      <td>...</td>\n      <td>18.31</td>\n      <td>19.5</td>\n      <td>4171</td>\n      <td>19.50</td>\n      <td>mid_short</td>\n      <td>outside</td>\n      <td>-1.0000</td>\n      <td>0.95</td>\n      <td>0.95</td>\n      <td>1</td>\n    </tr>\n    <tr>\n      <th>220</th>\n      <td>2021-06-26</td>\n      <td>Darwin</td>\n      <td>AUS</td>\n      <td>R</td>\n      <td>3</td>\n      <td>1.184733965</td>\n      <td>2021-06-26 05:37:00</td>\n      <td>None</td>\n      <td>None</td>\n      <td>1200</td>\n      <td>...</td>\n      <td>42.00</td>\n      <td>40.0</td>\n      <td>1118</td>\n      <td>44.00</td>\n      <td>mid_short</td>\n      <td>mid_field</td>\n      <td>-1.0000</td>\n      <td>0.95</td>\n      <td>0.95</td>\n      <td>1</td>\n    </tr>\n    <tr>\n      <th>221</th>\n      <td>2021-06-26</td>\n      <td>Darwin</td>\n      <td>AUS</td>\n      <td>R</td>\n      <td>3</td>\n      <td>1.184733965</td>\n      <td>2021-06-26 05:37:00</td>\n      <td>None</td>\n      <td>None</td>\n      <td>1200</td>\n      <td>...</td>\n      <td>29.91</td>\n      <td>30.0</td>\n      <td>1090</td>\n      <td>9.60</td>\n      <td>mid_short</td>\n      <td>mid_field</td>\n      <td>-1.0000</td>\n      <td>0.95</td>\n      <td>0.95</td>\n      <td>1</td>\n    </tr>\n    <tr>\n      <th>222</th>\n      <td>2021-06-26</td>\n      <td>Darwin</td>\n      <td>AUS</td>\n      <td>R</td>\n      <td>3</td>\n      <td>1.184733965</td>\n      <td>2021-06-26 05:37:00</td>\n      <td>None</td>\n      <td>None</td>\n      <td>1200</td>\n      <td>...</td>\n      <td>6.60</td>\n      <td>6.4</td>\n      <td>14863</td>\n      <td>1.01</td>\n      <td>mid_short</td>\n      <td>outside</td>\n      <td>5.3200</td>\n      <td>-5.60</td>\n      <td>-5.60</td>\n      <td>1</td>\n    </tr>\n    <tr>\n      <th>223</th>\n      <td>2021-06-26</td>\n      <td>Darwin</td>\n      <td>AUS</td>\n      <td>R</td>\n      <td>3</td>\n      <td>1.184733965</td>\n      <td>2021-06-26 05:37:00</td>\n      <td>None</td>\n      <td>None</td>\n      <td>1200</td>\n      <td>...</td>\n      <td>5.74</td>\n      <td>5.9</td>\n      <td>10696</td>\n      <td>3.75</td>\n      <td>mid_short</td>\n      <td>mid_field</td>\n      <td>-1.0000</td>\n      <td>0.95</td>\n      <td>0.95</td>\n      <td>1</td>\n    </tr>\n  </tbody>\n</table>\n<p>224 rows × 29 columns</p>\n</div>"
     },
     "metadata": {},
     "execution_count": 130
    }
   ],
   "source": [
    "trainSetTop10Lay = (\n",
    "    df_train\n",
    "    .merge(layTop5[['track', 'race_distance']])\n",
    "    .assign(npl=lambda x: x['lay_npl'])\n",
    "    .assign(stake=1)\n",
    ")\n",
    "\n",
    "testSetTop10Lay = (\n",
    "    df_test\n",
    "    .merge(layTop5[['track', 'race_distance']])\n",
    "    .assign(npl=lambda x: x['lay_npl'])\n",
    "    .assign(stake=1)\n",
    ")\n",
    "\n",
    "testSetTop10Lay"
   ]
  },
  {
   "cell_type": "code",
   "execution_count": 131,
   "metadata": {},
   "outputs": [],
   "source": [
    "def bet_eval_metrics(d, side = False):\n",
    "\n",
    "    if side:\n",
    "        metrics = (d\n",
    "         .groupby('bet_side', as_index=False)\n",
    "         .agg({\"npl\": \"sum\", \"stake\": \"sum\"})\n",
    "         .assign(pot=lambda x: x['npl'] / x['stake'])\n",
    "        )\n",
    "    else:\n",
    "        metrics = pd.DataFrame(d\n",
    "         .agg({\"npl\": \"sum\", \"stake\": \"sum\"})\n",
    "        ).transpose().assign(pot=lambda x: x['npl'] / x['stake'])\n",
    "\n",
    "    return(metrics[metrics['stake'] != 0])\n",
    "\n"
   ]
  },
  {
   "cell_type": "code",
   "execution_count": 132,
   "metadata": {},
   "outputs": [
    {
     "output_type": "execute_result",
     "data": {
      "text/plain": [
       "    npl   stake       pot\n",
       "0  98.1  1047.0  0.093696"
      ],
      "text/html": "<div>\n<style scoped>\n    .dataframe tbody tr th:only-of-type {\n        vertical-align: middle;\n    }\n\n    .dataframe tbody tr th {\n        vertical-align: top;\n    }\n\n    .dataframe thead th {\n        text-align: right;\n    }\n</style>\n<table border=\"1\" class=\"dataframe\">\n  <thead>\n    <tr style=\"text-align: right;\">\n      <th></th>\n      <th>npl</th>\n      <th>stake</th>\n      <th>pot</th>\n    </tr>\n  </thead>\n  <tbody>\n    <tr>\n      <th>0</th>\n      <td>98.1</td>\n      <td>1047.0</td>\n      <td>0.093696</td>\n    </tr>\n  </tbody>\n</table>\n</div>"
     },
     "metadata": {},
     "execution_count": 132
    }
   ],
   "source": [
    "bet_eval_metrics(trainSetTop10Lay)\n"
   ]
  },
  {
   "cell_type": "code",
   "execution_count": 133,
   "metadata": {},
   "outputs": [
    {
     "output_type": "execute_result",
     "data": {
      "text/plain": [
       "     npl  stake       pot\n",
       "0  18.44  224.0  0.082321"
      ],
      "text/html": "<div>\n<style scoped>\n    .dataframe tbody tr th:only-of-type {\n        vertical-align: middle;\n    }\n\n    .dataframe tbody tr th {\n        vertical-align: top;\n    }\n\n    .dataframe thead th {\n        text-align: right;\n    }\n</style>\n<table border=\"1\" class=\"dataframe\">\n  <thead>\n    <tr style=\"text-align: right;\">\n      <th></th>\n      <th>npl</th>\n      <th>stake</th>\n      <th>pot</th>\n    </tr>\n  </thead>\n  <tbody>\n    <tr>\n      <th>0</th>\n      <td>18.44</td>\n      <td>224.0</td>\n      <td>0.082321</td>\n    </tr>\n  </tbody>\n</table>\n</div>"
     },
     "metadata": {},
     "execution_count": 133
    }
   ],
   "source": [
    "bet_eval_metrics(testSetTop10Lay)\n"
   ]
  },
  {
   "cell_type": "code",
   "execution_count": 134,
   "metadata": {},
   "outputs": [],
   "source": [
    "# Entire Period Cumulative PL\n",
    "\n",
    "d = (\n",
    "    df\n",
    "    .merge(testSetTop10Lay[['track', 'race_distance']])\n",
    "    .assign(npl=lambda x: x['lay_npl'])\n",
    "    .assign(stake=1)\n",
    "    .groupby(['date'], as_index=False)\n",
    "    .agg({'npl': 'sum'})\n",
    ")    \n",
    "\n",
    "d['cNpl'] = d.npl.cumsum()\n",
    "\n",
    "chart = px.line(d, x=\"date\", y=\"cNpl\", title='Cumulative Net Profit', template='simple_white')\n"
   ]
  },
  {
   "cell_type": "code",
   "execution_count": 135,
   "metadata": {},
   "outputs": [
    {
     "output_type": "display_data",
     "data": {
      "application/vnd.plotly.v1+json": {
       "config": {
        "plotlyServerURL": "https://plot.ly"
       },
       "data": [
        {
         "hovertemplate": "date=%{x}<br>cNpl=%{y}<extra></extra>",
         "legendgroup": "",
         "line": {
          "color": "#1F77B4",
          "dash": "solid"
         },
         "mode": "lines",
         "name": "",
         "orientation": "v",
         "showlegend": false,
         "type": "scatter",
         "x": [
          "2020-12-05",
          "2020-12-09",
          "2020-12-12",
          "2020-12-16",
          "2020-12-19",
          "2020-12-23",
          "2020-12-26",
          "2021-01-02",
          "2021-01-09",
          "2021-01-16",
          "2021-01-20",
          "2021-01-23",
          "2021-01-26",
          "2021-01-27",
          "2021-01-30",
          "2021-02-05",
          "2021-02-10",
          "2021-02-12",
          "2021-02-13",
          "2021-02-19",
          "2021-02-20",
          "2021-02-24",
          "2021-02-27",
          "2021-03-05",
          "2021-03-07",
          "2021-03-10",
          "2021-03-13",
          "2021-03-20",
          "2021-03-24",
          "2021-03-27",
          "2021-04-02",
          "2021-04-09",
          "2021-04-14",
          "2021-04-17",
          "2021-04-21",
          "2021-04-24",
          "2021-04-28",
          "2021-05-01",
          "2021-05-08",
          "2021-05-12",
          "2021-05-15",
          "2021-05-22",
          "2021-05-29",
          "2021-06-12",
          "2021-06-19",
          "2021-06-26"
         ],
         "xaxis": "x",
         "y": [
          6.579999999999944,
          -5291.3,
          -4568.6900000000005,
          -4067.7000000000007,
          -2764.860000000001,
          -1825.9500000000012,
          -1739.0800000000013,
          -2218.3700000000017,
          -1153.3200000000018,
          62.789999999998145,
          -1573.4600000000019,
          -5339.810000000001,
          -4597.460000000001,
          -4270.210000000001,
          -3502.6600000000008,
          -3070.060000000001,
          -2691.640000000001,
          -2122.540000000001,
          -353.0100000000009,
          -427.56000000000097,
          566.089999999999,
          1220.589999999999,
          1545.4599999999991,
          1135.9599999999991,
          -1521.3100000000009,
          -231.35000000000105,
          1108.869999999999,
          1929.969999999999,
          2123.9399999999987,
          2658.2499999999986,
          3231.8299999999986,
          3296.9299999999985,
          3761.0299999999984,
          4638.059999999999,
          4885.579999999998,
          4768.329999999998,
          5790.539999999998,
          6577.129999999998,
          6933.289999999998,
          7538.999999999998,
          7928.129999999998,
          7975.379999999998,
          5560.379999999998,
          4029.4799999999987,
          4494.629999999998,
          5450.129999999998
         ],
         "yaxis": "y"
        }
       ],
       "layout": {
        "legend": {
         "tracegroupgap": 0
        },
        "template": {
         "data": {
          "bar": [
           {
            "error_x": {
             "color": "rgb(36,36,36)"
            },
            "error_y": {
             "color": "rgb(36,36,36)"
            },
            "marker": {
             "line": {
              "color": "white",
              "width": 0.5
             },
             "pattern": {
              "fillmode": "overlay",
              "size": 10,
              "solidity": 0.2
             }
            },
            "type": "bar"
           }
          ],
          "barpolar": [
           {
            "marker": {
             "line": {
              "color": "white",
              "width": 0.5
             },
             "pattern": {
              "fillmode": "overlay",
              "size": 10,
              "solidity": 0.2
             }
            },
            "type": "barpolar"
           }
          ],
          "carpet": [
           {
            "aaxis": {
             "endlinecolor": "rgb(36,36,36)",
             "gridcolor": "white",
             "linecolor": "white",
             "minorgridcolor": "white",
             "startlinecolor": "rgb(36,36,36)"
            },
            "baxis": {
             "endlinecolor": "rgb(36,36,36)",
             "gridcolor": "white",
             "linecolor": "white",
             "minorgridcolor": "white",
             "startlinecolor": "rgb(36,36,36)"
            },
            "type": "carpet"
           }
          ],
          "choropleth": [
           {
            "colorbar": {
             "outlinewidth": 1,
             "tickcolor": "rgb(36,36,36)",
             "ticks": "outside"
            },
            "type": "choropleth"
           }
          ],
          "contour": [
           {
            "colorbar": {
             "outlinewidth": 1,
             "tickcolor": "rgb(36,36,36)",
             "ticks": "outside"
            },
            "colorscale": [
             [
              0,
              "#440154"
             ],
             [
              0.1111111111111111,
              "#482878"
             ],
             [
              0.2222222222222222,
              "#3e4989"
             ],
             [
              0.3333333333333333,
              "#31688e"
             ],
             [
              0.4444444444444444,
              "#26828e"
             ],
             [
              0.5555555555555556,
              "#1f9e89"
             ],
             [
              0.6666666666666666,
              "#35b779"
             ],
             [
              0.7777777777777778,
              "#6ece58"
             ],
             [
              0.8888888888888888,
              "#b5de2b"
             ],
             [
              1,
              "#fde725"
             ]
            ],
            "type": "contour"
           }
          ],
          "contourcarpet": [
           {
            "colorbar": {
             "outlinewidth": 1,
             "tickcolor": "rgb(36,36,36)",
             "ticks": "outside"
            },
            "type": "contourcarpet"
           }
          ],
          "heatmap": [
           {
            "colorbar": {
             "outlinewidth": 1,
             "tickcolor": "rgb(36,36,36)",
             "ticks": "outside"
            },
            "colorscale": [
             [
              0,
              "#440154"
             ],
             [
              0.1111111111111111,
              "#482878"
             ],
             [
              0.2222222222222222,
              "#3e4989"
             ],
             [
              0.3333333333333333,
              "#31688e"
             ],
             [
              0.4444444444444444,
              "#26828e"
             ],
             [
              0.5555555555555556,
              "#1f9e89"
             ],
             [
              0.6666666666666666,
              "#35b779"
             ],
             [
              0.7777777777777778,
              "#6ece58"
             ],
             [
              0.8888888888888888,
              "#b5de2b"
             ],
             [
              1,
              "#fde725"
             ]
            ],
            "type": "heatmap"
           }
          ],
          "heatmapgl": [
           {
            "colorbar": {
             "outlinewidth": 1,
             "tickcolor": "rgb(36,36,36)",
             "ticks": "outside"
            },
            "colorscale": [
             [
              0,
              "#440154"
             ],
             [
              0.1111111111111111,
              "#482878"
             ],
             [
              0.2222222222222222,
              "#3e4989"
             ],
             [
              0.3333333333333333,
              "#31688e"
             ],
             [
              0.4444444444444444,
              "#26828e"
             ],
             [
              0.5555555555555556,
              "#1f9e89"
             ],
             [
              0.6666666666666666,
              "#35b779"
             ],
             [
              0.7777777777777778,
              "#6ece58"
             ],
             [
              0.8888888888888888,
              "#b5de2b"
             ],
             [
              1,
              "#fde725"
             ]
            ],
            "type": "heatmapgl"
           }
          ],
          "histogram": [
           {
            "marker": {
             "line": {
              "color": "white",
              "width": 0.6
             }
            },
            "type": "histogram"
           }
          ],
          "histogram2d": [
           {
            "colorbar": {
             "outlinewidth": 1,
             "tickcolor": "rgb(36,36,36)",
             "ticks": "outside"
            },
            "colorscale": [
             [
              0,
              "#440154"
             ],
             [
              0.1111111111111111,
              "#482878"
             ],
             [
              0.2222222222222222,
              "#3e4989"
             ],
             [
              0.3333333333333333,
              "#31688e"
             ],
             [
              0.4444444444444444,
              "#26828e"
             ],
             [
              0.5555555555555556,
              "#1f9e89"
             ],
             [
              0.6666666666666666,
              "#35b779"
             ],
             [
              0.7777777777777778,
              "#6ece58"
             ],
             [
              0.8888888888888888,
              "#b5de2b"
             ],
             [
              1,
              "#fde725"
             ]
            ],
            "type": "histogram2d"
           }
          ],
          "histogram2dcontour": [
           {
            "colorbar": {
             "outlinewidth": 1,
             "tickcolor": "rgb(36,36,36)",
             "ticks": "outside"
            },
            "colorscale": [
             [
              0,
              "#440154"
             ],
             [
              0.1111111111111111,
              "#482878"
             ],
             [
              0.2222222222222222,
              "#3e4989"
             ],
             [
              0.3333333333333333,
              "#31688e"
             ],
             [
              0.4444444444444444,
              "#26828e"
             ],
             [
              0.5555555555555556,
              "#1f9e89"
             ],
             [
              0.6666666666666666,
              "#35b779"
             ],
             [
              0.7777777777777778,
              "#6ece58"
             ],
             [
              0.8888888888888888,
              "#b5de2b"
             ],
             [
              1,
              "#fde725"
             ]
            ],
            "type": "histogram2dcontour"
           }
          ],
          "mesh3d": [
           {
            "colorbar": {
             "outlinewidth": 1,
             "tickcolor": "rgb(36,36,36)",
             "ticks": "outside"
            },
            "type": "mesh3d"
           }
          ],
          "parcoords": [
           {
            "line": {
             "colorbar": {
              "outlinewidth": 1,
              "tickcolor": "rgb(36,36,36)",
              "ticks": "outside"
             }
            },
            "type": "parcoords"
           }
          ],
          "pie": [
           {
            "automargin": true,
            "type": "pie"
           }
          ],
          "scatter": [
           {
            "marker": {
             "colorbar": {
              "outlinewidth": 1,
              "tickcolor": "rgb(36,36,36)",
              "ticks": "outside"
             }
            },
            "type": "scatter"
           }
          ],
          "scatter3d": [
           {
            "line": {
             "colorbar": {
              "outlinewidth": 1,
              "tickcolor": "rgb(36,36,36)",
              "ticks": "outside"
             }
            },
            "marker": {
             "colorbar": {
              "outlinewidth": 1,
              "tickcolor": "rgb(36,36,36)",
              "ticks": "outside"
             }
            },
            "type": "scatter3d"
           }
          ],
          "scattercarpet": [
           {
            "marker": {
             "colorbar": {
              "outlinewidth": 1,
              "tickcolor": "rgb(36,36,36)",
              "ticks": "outside"
             }
            },
            "type": "scattercarpet"
           }
          ],
          "scattergeo": [
           {
            "marker": {
             "colorbar": {
              "outlinewidth": 1,
              "tickcolor": "rgb(36,36,36)",
              "ticks": "outside"
             }
            },
            "type": "scattergeo"
           }
          ],
          "scattergl": [
           {
            "marker": {
             "colorbar": {
              "outlinewidth": 1,
              "tickcolor": "rgb(36,36,36)",
              "ticks": "outside"
             }
            },
            "type": "scattergl"
           }
          ],
          "scattermapbox": [
           {
            "marker": {
             "colorbar": {
              "outlinewidth": 1,
              "tickcolor": "rgb(36,36,36)",
              "ticks": "outside"
             }
            },
            "type": "scattermapbox"
           }
          ],
          "scatterpolar": [
           {
            "marker": {
             "colorbar": {
              "outlinewidth": 1,
              "tickcolor": "rgb(36,36,36)",
              "ticks": "outside"
             }
            },
            "type": "scatterpolar"
           }
          ],
          "scatterpolargl": [
           {
            "marker": {
             "colorbar": {
              "outlinewidth": 1,
              "tickcolor": "rgb(36,36,36)",
              "ticks": "outside"
             }
            },
            "type": "scatterpolargl"
           }
          ],
          "scatterternary": [
           {
            "marker": {
             "colorbar": {
              "outlinewidth": 1,
              "tickcolor": "rgb(36,36,36)",
              "ticks": "outside"
             }
            },
            "type": "scatterternary"
           }
          ],
          "surface": [
           {
            "colorbar": {
             "outlinewidth": 1,
             "tickcolor": "rgb(36,36,36)",
             "ticks": "outside"
            },
            "colorscale": [
             [
              0,
              "#440154"
             ],
             [
              0.1111111111111111,
              "#482878"
             ],
             [
              0.2222222222222222,
              "#3e4989"
             ],
             [
              0.3333333333333333,
              "#31688e"
             ],
             [
              0.4444444444444444,
              "#26828e"
             ],
             [
              0.5555555555555556,
              "#1f9e89"
             ],
             [
              0.6666666666666666,
              "#35b779"
             ],
             [
              0.7777777777777778,
              "#6ece58"
             ],
             [
              0.8888888888888888,
              "#b5de2b"
             ],
             [
              1,
              "#fde725"
             ]
            ],
            "type": "surface"
           }
          ],
          "table": [
           {
            "cells": {
             "fill": {
              "color": "rgb(237,237,237)"
             },
             "line": {
              "color": "white"
             }
            },
            "header": {
             "fill": {
              "color": "rgb(217,217,217)"
             },
             "line": {
              "color": "white"
             }
            },
            "type": "table"
           }
          ]
         },
         "layout": {
          "annotationdefaults": {
           "arrowhead": 0,
           "arrowwidth": 1
          },
          "autotypenumbers": "strict",
          "coloraxis": {
           "colorbar": {
            "outlinewidth": 1,
            "tickcolor": "rgb(36,36,36)",
            "ticks": "outside"
           }
          },
          "colorscale": {
           "diverging": [
            [
             0,
             "rgb(103,0,31)"
            ],
            [
             0.1,
             "rgb(178,24,43)"
            ],
            [
             0.2,
             "rgb(214,96,77)"
            ],
            [
             0.3,
             "rgb(244,165,130)"
            ],
            [
             0.4,
             "rgb(253,219,199)"
            ],
            [
             0.5,
             "rgb(247,247,247)"
            ],
            [
             0.6,
             "rgb(209,229,240)"
            ],
            [
             0.7,
             "rgb(146,197,222)"
            ],
            [
             0.8,
             "rgb(67,147,195)"
            ],
            [
             0.9,
             "rgb(33,102,172)"
            ],
            [
             1,
             "rgb(5,48,97)"
            ]
           ],
           "sequential": [
            [
             0,
             "#440154"
            ],
            [
             0.1111111111111111,
             "#482878"
            ],
            [
             0.2222222222222222,
             "#3e4989"
            ],
            [
             0.3333333333333333,
             "#31688e"
            ],
            [
             0.4444444444444444,
             "#26828e"
            ],
            [
             0.5555555555555556,
             "#1f9e89"
            ],
            [
             0.6666666666666666,
             "#35b779"
            ],
            [
             0.7777777777777778,
             "#6ece58"
            ],
            [
             0.8888888888888888,
             "#b5de2b"
            ],
            [
             1,
             "#fde725"
            ]
           ],
           "sequentialminus": [
            [
             0,
             "#440154"
            ],
            [
             0.1111111111111111,
             "#482878"
            ],
            [
             0.2222222222222222,
             "#3e4989"
            ],
            [
             0.3333333333333333,
             "#31688e"
            ],
            [
             0.4444444444444444,
             "#26828e"
            ],
            [
             0.5555555555555556,
             "#1f9e89"
            ],
            [
             0.6666666666666666,
             "#35b779"
            ],
            [
             0.7777777777777778,
             "#6ece58"
            ],
            [
             0.8888888888888888,
             "#b5de2b"
            ],
            [
             1,
             "#fde725"
            ]
           ]
          },
          "colorway": [
           "#1F77B4",
           "#FF7F0E",
           "#2CA02C",
           "#D62728",
           "#9467BD",
           "#8C564B",
           "#E377C2",
           "#7F7F7F",
           "#BCBD22",
           "#17BECF"
          ],
          "font": {
           "color": "rgb(36,36,36)"
          },
          "geo": {
           "bgcolor": "white",
           "lakecolor": "white",
           "landcolor": "white",
           "showlakes": true,
           "showland": true,
           "subunitcolor": "white"
          },
          "hoverlabel": {
           "align": "left"
          },
          "hovermode": "closest",
          "mapbox": {
           "style": "light"
          },
          "paper_bgcolor": "white",
          "plot_bgcolor": "white",
          "polar": {
           "angularaxis": {
            "gridcolor": "rgb(232,232,232)",
            "linecolor": "rgb(36,36,36)",
            "showgrid": false,
            "showline": true,
            "ticks": "outside"
           },
           "bgcolor": "white",
           "radialaxis": {
            "gridcolor": "rgb(232,232,232)",
            "linecolor": "rgb(36,36,36)",
            "showgrid": false,
            "showline": true,
            "ticks": "outside"
           }
          },
          "scene": {
           "xaxis": {
            "backgroundcolor": "white",
            "gridcolor": "rgb(232,232,232)",
            "gridwidth": 2,
            "linecolor": "rgb(36,36,36)",
            "showbackground": true,
            "showgrid": false,
            "showline": true,
            "ticks": "outside",
            "zeroline": false,
            "zerolinecolor": "rgb(36,36,36)"
           },
           "yaxis": {
            "backgroundcolor": "white",
            "gridcolor": "rgb(232,232,232)",
            "gridwidth": 2,
            "linecolor": "rgb(36,36,36)",
            "showbackground": true,
            "showgrid": false,
            "showline": true,
            "ticks": "outside",
            "zeroline": false,
            "zerolinecolor": "rgb(36,36,36)"
           },
           "zaxis": {
            "backgroundcolor": "white",
            "gridcolor": "rgb(232,232,232)",
            "gridwidth": 2,
            "linecolor": "rgb(36,36,36)",
            "showbackground": true,
            "showgrid": false,
            "showline": true,
            "ticks": "outside",
            "zeroline": false,
            "zerolinecolor": "rgb(36,36,36)"
           }
          },
          "shapedefaults": {
           "fillcolor": "black",
           "line": {
            "width": 0
           },
           "opacity": 0.3
          },
          "ternary": {
           "aaxis": {
            "gridcolor": "rgb(232,232,232)",
            "linecolor": "rgb(36,36,36)",
            "showgrid": false,
            "showline": true,
            "ticks": "outside"
           },
           "baxis": {
            "gridcolor": "rgb(232,232,232)",
            "linecolor": "rgb(36,36,36)",
            "showgrid": false,
            "showline": true,
            "ticks": "outside"
           },
           "bgcolor": "white",
           "caxis": {
            "gridcolor": "rgb(232,232,232)",
            "linecolor": "rgb(36,36,36)",
            "showgrid": false,
            "showline": true,
            "ticks": "outside"
           }
          },
          "title": {
           "x": 0.05
          },
          "xaxis": {
           "automargin": true,
           "gridcolor": "rgb(232,232,232)",
           "linecolor": "rgb(36,36,36)",
           "showgrid": false,
           "showline": true,
           "ticks": "outside",
           "title": {
            "standoff": 15
           },
           "zeroline": false,
           "zerolinecolor": "rgb(36,36,36)"
          },
          "yaxis": {
           "automargin": true,
           "gridcolor": "rgb(232,232,232)",
           "linecolor": "rgb(36,36,36)",
           "showgrid": false,
           "showline": true,
           "ticks": "outside",
           "title": {
            "standoff": 15
           },
           "zeroline": false,
           "zerolinecolor": "rgb(36,36,36)"
          }
         }
        },
        "title": {
         "text": "Cumulative Net Profit"
        },
        "xaxis": {
         "anchor": "y",
         "domain": [
          0,
          1
         ],
         "title": {
          "text": "date"
         }
        },
        "yaxis": {
         "anchor": "x",
         "domain": [
          0,
          1
         ],
         "title": {
          "text": "cNpl"
         }
        }
       }
      }
     },
     "metadata": {}
    }
   ],
   "source": [
    "chart"
   ]
  },
  {
   "source": [
    "# Medium\n",
    "\n",
    "Are Certain Jockeys or Trainers predictable shorteners or overbet?\n",
    "\n",
    "- Predictable shorteners (hypothesise based on 5min WAP vs 30sec WAP)\n",
    "- Overbet (look at PL stat sig of lay price 30s out)"
   ],
   "cell_type": "markdown",
   "metadata": {}
  },
  {
   "source": [
    "\n",
    "# Jockey Shortening Rates\n",
    "\n",
    "(\n",
    "    df_train\n",
    "    .assign(market_support=lambda x: x['wap_5m'] / x['wap_30s'])\n",
    "    .assign(races=1)\n",
    "    .groupby('jockey')\n",
    "    .agg({'market_support': 'mean', 'races': 'count'})\n",
    "    .query('races > 10')\n",
    "    .sort_values('market_support', ascending = False)\n",
    ")\n"
   ],
   "cell_type": "code",
   "metadata": {},
   "execution_count": 143,
   "outputs": [
    {
     "output_type": "execute_result",
     "data": {
      "text/plain": [
       "                  market_support  races\n",
       "jockey                                 \n",
       "Scott Sheargold         1.133095    192\n",
       "Lorelle Crow            1.056582    106\n",
       "Chris Mc Carthy         1.051022     26\n",
       "Anthony Darmanin        1.048931    142\n",
       "James Winks             1.048893     12\n",
       "...                          ...    ...\n",
       "Cyril Small             0.731661     16\n",
       "A Kajiya                0.720798     21\n",
       "J Luxe                  0.710535     11\n",
       "R Mangan                0.710411     11\n",
       "D Mc Whinney            0.686097     27\n",
       "\n",
       "[567 rows x 2 columns]"
      ],
      "text/html": "<div>\n<style scoped>\n    .dataframe tbody tr th:only-of-type {\n        vertical-align: middle;\n    }\n\n    .dataframe tbody tr th {\n        vertical-align: top;\n    }\n\n    .dataframe thead th {\n        text-align: right;\n    }\n</style>\n<table border=\"1\" class=\"dataframe\">\n  <thead>\n    <tr style=\"text-align: right;\">\n      <th></th>\n      <th>market_support</th>\n      <th>races</th>\n    </tr>\n    <tr>\n      <th>jockey</th>\n      <th></th>\n      <th></th>\n    </tr>\n  </thead>\n  <tbody>\n    <tr>\n      <th>Scott Sheargold</th>\n      <td>1.133095</td>\n      <td>192</td>\n    </tr>\n    <tr>\n      <th>Lorelle Crow</th>\n      <td>1.056582</td>\n      <td>106</td>\n    </tr>\n    <tr>\n      <th>Chris Mc Carthy</th>\n      <td>1.051022</td>\n      <td>26</td>\n    </tr>\n    <tr>\n      <th>Anthony Darmanin</th>\n      <td>1.048931</td>\n      <td>142</td>\n    </tr>\n    <tr>\n      <th>James Winks</th>\n      <td>1.048893</td>\n      <td>12</td>\n    </tr>\n    <tr>\n      <th>...</th>\n      <td>...</td>\n      <td>...</td>\n    </tr>\n    <tr>\n      <th>Cyril Small</th>\n      <td>0.731661</td>\n      <td>16</td>\n    </tr>\n    <tr>\n      <th>A Kajiya</th>\n      <td>0.720798</td>\n      <td>21</td>\n    </tr>\n    <tr>\n      <th>J Luxe</th>\n      <td>0.710535</td>\n      <td>11</td>\n    </tr>\n    <tr>\n      <th>R Mangan</th>\n      <td>0.710411</td>\n      <td>11</td>\n    </tr>\n    <tr>\n      <th>D Mc Whinney</th>\n      <td>0.686097</td>\n      <td>27</td>\n    </tr>\n  </tbody>\n</table>\n<p>567 rows × 2 columns</p>\n</div>"
     },
     "metadata": {},
     "execution_count": 143
    }
   ]
  },
  {
   "cell_type": "code",
   "execution_count": 153,
   "metadata": {},
   "outputs": [
    {
     "output_type": "execute_result",
     "data": {
      "text/plain": [
       "                jockey       odds  stake       npl   p_value\n",
       "134  Clayton Gallagher  28.126104  326.0  414.7215  0.002938\n",
       "412        Michael Dee  25.597209  474.0  279.0425  0.038500\n",
       "253        Jade Darose  97.873039  102.0  468.5560  0.043756\n",
       "514        R Hutchings  26.314390  164.0  159.9365  0.073518\n",
       "315   Justin P Stanley  10.245631  396.0  113.7680  0.093063\n",
       "..                 ...        ...    ...       ...       ...\n",
       "191        Emily Brown  64.667225  173.0    2.7540  0.979257\n",
       "193     Emily Finnegan  32.998750   16.0    0.4970  0.983019\n",
       "341    Krysten Swaffer  39.538153  158.0    0.1030  0.998949\n",
       "508        Peter Wells   2.750000    1.0    1.6625  1.000000\n",
       "44         Ashley Boyd   7.170000    1.0    5.8615  1.000000\n",
       "\n",
       "[153 rows x 5 columns]"
      ],
      "text/html": "<div>\n<style scoped>\n    .dataframe tbody tr th:only-of-type {\n        vertical-align: middle;\n    }\n\n    .dataframe tbody tr th {\n        vertical-align: top;\n    }\n\n    .dataframe thead th {\n        text-align: right;\n    }\n</style>\n<table border=\"1\" class=\"dataframe\">\n  <thead>\n    <tr style=\"text-align: right;\">\n      <th></th>\n      <th>jockey</th>\n      <th>odds</th>\n      <th>stake</th>\n      <th>npl</th>\n      <th>p_value</th>\n    </tr>\n  </thead>\n  <tbody>\n    <tr>\n      <th>134</th>\n      <td>Clayton Gallagher</td>\n      <td>28.126104</td>\n      <td>326.0</td>\n      <td>414.7215</td>\n      <td>0.002938</td>\n    </tr>\n    <tr>\n      <th>412</th>\n      <td>Michael Dee</td>\n      <td>25.597209</td>\n      <td>474.0</td>\n      <td>279.0425</td>\n      <td>0.038500</td>\n    </tr>\n    <tr>\n      <th>253</th>\n      <td>Jade Darose</td>\n      <td>97.873039</td>\n      <td>102.0</td>\n      <td>468.5560</td>\n      <td>0.043756</td>\n    </tr>\n    <tr>\n      <th>514</th>\n      <td>R Hutchings</td>\n      <td>26.314390</td>\n      <td>164.0</td>\n      <td>159.9365</td>\n      <td>0.073518</td>\n    </tr>\n    <tr>\n      <th>315</th>\n      <td>Justin P Stanley</td>\n      <td>10.245631</td>\n      <td>396.0</td>\n      <td>113.7680</td>\n      <td>0.093063</td>\n    </tr>\n    <tr>\n      <th>...</th>\n      <td>...</td>\n      <td>...</td>\n      <td>...</td>\n      <td>...</td>\n      <td>...</td>\n    </tr>\n    <tr>\n      <th>191</th>\n      <td>Emily Brown</td>\n      <td>64.667225</td>\n      <td>173.0</td>\n      <td>2.7540</td>\n      <td>0.979257</td>\n    </tr>\n    <tr>\n      <th>193</th>\n      <td>Emily Finnegan</td>\n      <td>32.998750</td>\n      <td>16.0</td>\n      <td>0.4970</td>\n      <td>0.983019</td>\n    </tr>\n    <tr>\n      <th>341</th>\n      <td>Krysten Swaffer</td>\n      <td>39.538153</td>\n      <td>158.0</td>\n      <td>0.1030</td>\n      <td>0.998949</td>\n    </tr>\n    <tr>\n      <th>508</th>\n      <td>Peter Wells</td>\n      <td>2.750000</td>\n      <td>1.0</td>\n      <td>1.6625</td>\n      <td>1.000000</td>\n    </tr>\n    <tr>\n      <th>44</th>\n      <td>Ashley Boyd</td>\n      <td>7.170000</td>\n      <td>1.0</td>\n      <td>5.8615</td>\n      <td>1.000000</td>\n    </tr>\n  </tbody>\n</table>\n<p>153 rows × 5 columns</p>\n</div>"
     },
     "metadata": {},
     "execution_count": 153
    }
   ],
   "source": [
    "# Jockey 5 min PL Stat Sig\n",
    "\n",
    "jockeys = (\n",
    "    df_train\n",
    "    .assign(stake = 1)\n",
    "    .assign(odds = lambda x: x['wap_5m'])\n",
    "    .assign(npl=lambda x: np.where(x['place'] == 1, 0.95 * (x['odds']-1), -1))\n",
    "    .groupby(['jockey'], as_index=False)\n",
    "    .agg({'odds': 'mean', 'stake': 'sum', 'npl': 'sum', })\n",
    ")\n",
    "\n",
    "jockeyStatTest = plStatisticalSignificance(jockeys)\n",
    "\n",
    "jockeyStatTest.query('npl>0').sort_values('p_value')\n"
   ]
  },
  {
   "cell_type": "code",
   "execution_count": 158,
   "metadata": {},
   "outputs": [
    {
     "output_type": "execute_result",
     "data": {
      "text/plain": [
       "      npl  stake      pot\n",
       "0  9.1775  148.0  0.06201"
      ],
      "text/html": "<div>\n<style scoped>\n    .dataframe tbody tr th:only-of-type {\n        vertical-align: middle;\n    }\n\n    .dataframe tbody tr th {\n        vertical-align: top;\n    }\n\n    .dataframe thead th {\n        text-align: right;\n    }\n</style>\n<table border=\"1\" class=\"dataframe\">\n  <thead>\n    <tr style=\"text-align: right;\">\n      <th></th>\n      <th>npl</th>\n      <th>stake</th>\n      <th>pot</th>\n    </tr>\n  </thead>\n  <tbody>\n    <tr>\n      <th>0</th>\n      <td>9.1775</td>\n      <td>148.0</td>\n      <td>0.06201</td>\n    </tr>\n  </tbody>\n</table>\n</div>"
     },
     "metadata": {},
     "execution_count": 158
    }
   ],
   "source": [
    "bestJockey = (\n",
    "    df_test\n",
    "    .merge(jockeyStatTest.query('npl>0').sort_values('p_value').head(1)['jockey'])\n",
    "    .assign(stake = 1)\n",
    "    .assign(odds = lambda x: x['wap_5m'])\n",
    "    .assign(npl=lambda x: np.where(x['place'] == 1, 0.95 * (x['odds']-1), -1))\n",
    ")\n",
    "\n",
    "bet_eval_metrics(bestJockey)\n",
    "\n"
   ]
  },
  {
   "cell_type": "code",
   "execution_count": null,
   "metadata": {},
   "outputs": [],
   "source": [
    "# Best Jockey at BSP\n",
    "\n",
    "bestJockeyBSP = (\n",
    "    df_test\n",
    "    .merge(jockeyStatTest.query('npl>0').sort_values('p_value').head(1)['jockey'])\n",
    "    .assign(stake = 1)\n",
    "    .assign(odds = lambda x: x['bsp'])\n",
    "    .assign(npl=lambda x: np.where(x['place'] == 1, 0.95 * (x['odds']-1), -1))\n",
    ")\n",
    "\n",
    "bet_eval_metrics(bestJockey)"
   ]
  },
  {
   "source": [
    "# Hard\n",
    "\n",
    "Do certain jockeys or certain jockeys under certain track conditions present back to lay opportunities?"
   ],
   "cell_type": "markdown",
   "metadata": {}
  }
 ]
}