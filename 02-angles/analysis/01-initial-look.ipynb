{
 "metadata": {
  "language_info": {
   "codemirror_mode": {
    "name": "ipython",
    "version": 3
   },
   "file_extension": ".py",
   "mimetype": "text/x-python",
   "name": "python",
   "nbconvert_exporter": "python",
   "pygments_lexer": "ipython3",
   "version": "3.9.5"
  },
  "orig_nbformat": 4,
  "kernelspec": {
   "name": "python3",
   "display_name": "Python 3.9.5 64-bit"
  },
  "interpreter": {
   "hash": "31f2aee4e71d21fbe5cf8b01ff0e069b9275f58929596ceb00d14d90e3e16cd6"
  }
 },
 "nbformat": 4,
 "nbformat_minor": 2,
 "cells": [
  {
   "cell_type": "code",
   "execution_count": 1,
   "metadata": {},
   "outputs": [],
   "source": [
    "import pandas as pd\n",
    "import numpy as np"
   ]
  },
  {
   "cell_type": "code",
   "execution_count": 8,
   "metadata": {},
   "outputs": [
    {
     "output_type": "stream",
     "name": "stderr",
     "text": [
      "/home/tmbish/.local/lib/python3.9/site-packages/IPython/core/interactiveshell.py:3441: DtypeWarning: Columns (6,7,8,9,10) have mixed types.Specify dtype option on import or set low_memory=False.\n  exec(code_obj, self.user_global_ns, self.user_ns)\n"
     ]
    }
   ],
   "source": [
    "odds = pd.read_csv(\"/media/hdd/tmp/thoroughbred-parsed/thoroughbred-odds-2021.csv\", dtype={'market_id': object, 'selection_id': object})"
   ]
  },
  {
   "cell_type": "code",
   "execution_count": 10,
   "metadata": {},
   "outputs": [
    {
     "output_type": "execute_result",
     "data": {
      "text/plain": [
       "     market_id selection_id                         time market_status  \\\n",
       "0  1.179943506     38608157   2021-03-01 03:09:11.676000          OPEN   \n",
       "1  1.179943506      4438218   2021-03-01 03:09:11.676000          OPEN   \n",
       "2  1.179943506     20939111   2021-03-01 03:09:11.676000          OPEN   \n",
       "3  1.179943506     38608158   2021-03-01 03:09:11.676000          OPEN   \n",
       "4  1.179943506     38608159   2021-03-01 03:09:11.676000          OPEN   \n",
       "\n",
       "  inplay_status  traded_volume ltp best_back best_lay best_back_volume  \\\n",
       "0         False            0.0                                           \n",
       "1         False            0.0                                           \n",
       "2         False            0.0                                           \n",
       "3         False            0.0                                           \n",
       "4         False            0.0                                           \n",
       "\n",
       "  best_lay_volume  \n",
       "0                  \n",
       "1                  \n",
       "2                  \n",
       "3                  \n",
       "4                  "
      ],
      "text/html": "<div>\n<style scoped>\n    .dataframe tbody tr th:only-of-type {\n        vertical-align: middle;\n    }\n\n    .dataframe tbody tr th {\n        vertical-align: top;\n    }\n\n    .dataframe thead th {\n        text-align: right;\n    }\n</style>\n<table border=\"1\" class=\"dataframe\">\n  <thead>\n    <tr style=\"text-align: right;\">\n      <th></th>\n      <th>market_id</th>\n      <th>selection_id</th>\n      <th>time</th>\n      <th>market_status</th>\n      <th>inplay_status</th>\n      <th>traded_volume</th>\n      <th>ltp</th>\n      <th>best_back</th>\n      <th>best_lay</th>\n      <th>best_back_volume</th>\n      <th>best_lay_volume</th>\n    </tr>\n  </thead>\n  <tbody>\n    <tr>\n      <th>0</th>\n      <td>1.179943506</td>\n      <td>38608157</td>\n      <td>2021-03-01 03:09:11.676000</td>\n      <td>OPEN</td>\n      <td>False</td>\n      <td>0.0</td>\n      <td></td>\n      <td></td>\n      <td></td>\n      <td></td>\n      <td></td>\n    </tr>\n    <tr>\n      <th>1</th>\n      <td>1.179943506</td>\n      <td>4438218</td>\n      <td>2021-03-01 03:09:11.676000</td>\n      <td>OPEN</td>\n      <td>False</td>\n      <td>0.0</td>\n      <td></td>\n      <td></td>\n      <td></td>\n      <td></td>\n      <td></td>\n    </tr>\n    <tr>\n      <th>2</th>\n      <td>1.179943506</td>\n      <td>20939111</td>\n      <td>2021-03-01 03:09:11.676000</td>\n      <td>OPEN</td>\n      <td>False</td>\n      <td>0.0</td>\n      <td></td>\n      <td></td>\n      <td></td>\n      <td></td>\n      <td></td>\n    </tr>\n    <tr>\n      <th>3</th>\n      <td>1.179943506</td>\n      <td>38608158</td>\n      <td>2021-03-01 03:09:11.676000</td>\n      <td>OPEN</td>\n      <td>False</td>\n      <td>0.0</td>\n      <td></td>\n      <td></td>\n      <td></td>\n      <td></td>\n      <td></td>\n    </tr>\n    <tr>\n      <th>4</th>\n      <td>1.179943506</td>\n      <td>38608159</td>\n      <td>2021-03-01 03:09:11.676000</td>\n      <td>OPEN</td>\n      <td>False</td>\n      <td>0.0</td>\n      <td></td>\n      <td></td>\n      <td></td>\n      <td></td>\n      <td></td>\n    </tr>\n  </tbody>\n</table>\n</div>"
     },
     "metadata": {},
     "execution_count": 10
    }
   ],
   "source": [
    "odds.head(5)"
   ]
  },
  {
   "cell_type": "code",
   "execution_count": 13,
   "metadata": {},
   "outputs": [
    {
     "output_type": "execute_result",
     "data": {
      "text/plain": [
       "array(['1.179943506', '1.179845158', '1.179845154', ..., '1.172446434',\n",
       "       '1.172426156', '1.172446438'], dtype=object)"
      ]
     },
     "metadata": {},
     "execution_count": 13
    }
   ],
   "source": [
    "market_ids = odds['market_id'].unique()"
   ]
  },
  {
   "cell_type": "code",
   "execution_count": 20,
   "metadata": {
    "tags": []
   },
   "outputs": [
    {
     "output_type": "execute_result",
     "data": {
      "text/plain": [
       "                                       best_back\n",
       "market_id   selection_id inplay_status          \n",
       "1.180014214  35524488     False                 \n",
       "                          True                  \n",
       "             35981062     False                 \n",
       "                          True                  \n",
       "             38677351     False                 \n",
       "                          True                  \n",
       "             38677352     False                 \n",
       "                          True                  \n",
       "             38677353     False                 \n",
       "                          True                  \n",
       "             38677354     False                 \n",
       "                          True                  \n",
       "             38677355     False                 \n",
       "                          True                  "
      ],
      "text/html": "<div>\n<style scoped>\n    .dataframe tbody tr th:only-of-type {\n        vertical-align: middle;\n    }\n\n    .dataframe tbody tr th {\n        vertical-align: top;\n    }\n\n    .dataframe thead th {\n        text-align: right;\n    }\n</style>\n<table border=\"1\" class=\"dataframe\">\n  <thead>\n    <tr style=\"text-align: right;\">\n      <th></th>\n      <th></th>\n      <th></th>\n      <th>best_back</th>\n    </tr>\n    <tr>\n      <th>market_id</th>\n      <th>selection_id</th>\n      <th>inplay_status</th>\n      <th></th>\n    </tr>\n  </thead>\n  <tbody>\n    <tr>\n      <th rowspan=\"14\" valign=\"top\">1.180014214</th>\n      <th rowspan=\"2\" valign=\"top\">35524488</th>\n      <th>False</th>\n      <td></td>\n    </tr>\n    <tr>\n      <th>True</th>\n      <td></td>\n    </tr>\n    <tr>\n      <th rowspan=\"2\" valign=\"top\">35981062</th>\n      <th>False</th>\n      <td></td>\n    </tr>\n    <tr>\n      <th>True</th>\n      <td></td>\n    </tr>\n    <tr>\n      <th rowspan=\"2\" valign=\"top\">38677351</th>\n      <th>False</th>\n      <td></td>\n    </tr>\n    <tr>\n      <th>True</th>\n      <td></td>\n    </tr>\n    <tr>\n      <th rowspan=\"2\" valign=\"top\">38677352</th>\n      <th>False</th>\n      <td></td>\n    </tr>\n    <tr>\n      <th>True</th>\n      <td></td>\n    </tr>\n    <tr>\n      <th rowspan=\"2\" valign=\"top\">38677353</th>\n      <th>False</th>\n      <td></td>\n    </tr>\n    <tr>\n      <th>True</th>\n      <td></td>\n    </tr>\n    <tr>\n      <th rowspan=\"2\" valign=\"top\">38677354</th>\n      <th>False</th>\n      <td></td>\n    </tr>\n    <tr>\n      <th>True</th>\n      <td></td>\n    </tr>\n    <tr>\n      <th rowspan=\"2\" valign=\"top\">38677355</th>\n      <th>False</th>\n      <td></td>\n    </tr>\n    <tr>\n      <th>True</th>\n      <td></td>\n    </tr>\n  </tbody>\n</table>\n</div>"
     },
     "metadata": {},
     "execution_count": 20
    }
   ],
   "source": [
    "sample = odds[odds['market_id']==market_ids[100]]\n",
    "\n",
    "(\n",
    "    sample\n",
    "    .groupby(['market_id', 'selection_id', 'inplay_status'])\n",
    "    .agg({'best_back': 'min'})\n",
    ")"
   ]
  }
 ]
}