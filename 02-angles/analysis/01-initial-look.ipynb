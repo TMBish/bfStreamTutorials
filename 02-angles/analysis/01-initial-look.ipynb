{
 "metadata": {
  "language_info": {
   "codemirror_mode": {
    "name": "ipython",
    "version": 3
   },
   "file_extension": ".py",
   "mimetype": "text/x-python",
   "name": "python",
   "nbconvert_exporter": "python",
   "pygments_lexer": "ipython3",
   "version": "3.9.5"
  },
  "orig_nbformat": 4,
  "kernelspec": {
   "name": "python3",
   "display_name": "Python 3.9.5 64-bit"
  },
  "interpreter": {
   "hash": "31f2aee4e71d21fbe5cf8b01ff0e069b9275f58929596ceb00d14d90e3e16cd6"
  }
 },
 "nbformat": 4,
 "nbformat_minor": 2,
 "cells": [
  {
   "cell_type": "code",
   "execution_count": null,
   "source": [],
   "outputs": [],
   "metadata": {}
  },
  {
   "cell_type": "code",
   "execution_count": 2,
   "source": [
    "import pandas as pd\n",
    "import numpy as np\n",
    "import requests\n",
    "from scipy.stats import t\n",
    "import plotly.express as px"
   ],
   "outputs": [],
   "metadata": {}
  },
  {
   "cell_type": "code",
   "execution_count": 3,
   "source": [
    "odds = pd.read_csv(\"/media/hdd/tmp/thoroughbred-parsed/thoroughbred-odds-2021.csv\", dtype={'market_id': object, 'selection_id': object})\n",
    "\n",
    "race = pd.read_csv(\"/media/hdd/tmp/thoroughbred-parsed/thoroughbred-race-data.csv\", dtype={'market_id': object, 'selection_id': object})\n"
   ],
   "outputs": [
    {
     "output_type": "stream",
     "name": "stderr",
     "text": [
      "/home/tmbish/.local/lib/python3.9/site-packages/IPython/core/interactiveshell.py:3441: DtypeWarning: Columns (6) have mixed types.Specify dtype option on import or set low_memory=False.\n",
      "  exec(code_obj, self.user_global_ns, self.user_ns)\n",
      "/home/tmbish/.local/lib/python3.9/site-packages/IPython/core/interactiveshell.py:3441: DtypeWarning: Columns (9) have mixed types.Specify dtype option on import or set low_memory=False.\n",
      "  exec(code_obj, self.user_global_ns, self.user_ns)\n"
     ]
    }
   ],
   "metadata": {}
  },
  {
   "cell_type": "code",
   "execution_count": 4,
   "source": [
    "odds.head(5)"
   ],
   "outputs": [
    {
     "output_type": "execute_result",
     "data": {
      "text/plain": [
       "     market_id selection_id     selection_name  wap_5m  wap_30s    bsp   ltp  \\\n",
       "0  1.179845158     23493550         1. Larmour    6.27     5.84   6.20   6.2   \n",
       "1  1.179845158     16374800  3. Careering Away    3.31     3.67   3.60  3.65   \n",
       "2  1.179845158     19740699    4. Bells N Bows    6.87     6.36   6.62   6.4   \n",
       "3  1.179845158     11014075      5. Tickinover   40.73    42.75  54.42  50.0   \n",
       "4  1.179845158     21317306   6. Opera Tickets   21.54    22.38  22.22  21.0   \n",
       "\n",
       "   traded_vol  inplay_min_lay  \n",
       "0        8277            1.19  \n",
       "1       18592            1.08  \n",
       "2        7413            1.42  \n",
       "3         725           24.00  \n",
       "4        1972           18.50  "
      ],
      "text/html": [
       "<div>\n",
       "<style scoped>\n",
       "    .dataframe tbody tr th:only-of-type {\n",
       "        vertical-align: middle;\n",
       "    }\n",
       "\n",
       "    .dataframe tbody tr th {\n",
       "        vertical-align: top;\n",
       "    }\n",
       "\n",
       "    .dataframe thead th {\n",
       "        text-align: right;\n",
       "    }\n",
       "</style>\n",
       "<table border=\"1\" class=\"dataframe\">\n",
       "  <thead>\n",
       "    <tr style=\"text-align: right;\">\n",
       "      <th></th>\n",
       "      <th>market_id</th>\n",
       "      <th>selection_id</th>\n",
       "      <th>selection_name</th>\n",
       "      <th>wap_5m</th>\n",
       "      <th>wap_30s</th>\n",
       "      <th>bsp</th>\n",
       "      <th>ltp</th>\n",
       "      <th>traded_vol</th>\n",
       "      <th>inplay_min_lay</th>\n",
       "    </tr>\n",
       "  </thead>\n",
       "  <tbody>\n",
       "    <tr>\n",
       "      <th>0</th>\n",
       "      <td>1.179845158</td>\n",
       "      <td>23493550</td>\n",
       "      <td>1. Larmour</td>\n",
       "      <td>6.27</td>\n",
       "      <td>5.84</td>\n",
       "      <td>6.20</td>\n",
       "      <td>6.2</td>\n",
       "      <td>8277</td>\n",
       "      <td>1.19</td>\n",
       "    </tr>\n",
       "    <tr>\n",
       "      <th>1</th>\n",
       "      <td>1.179845158</td>\n",
       "      <td>16374800</td>\n",
       "      <td>3. Careering Away</td>\n",
       "      <td>3.31</td>\n",
       "      <td>3.67</td>\n",
       "      <td>3.60</td>\n",
       "      <td>3.65</td>\n",
       "      <td>18592</td>\n",
       "      <td>1.08</td>\n",
       "    </tr>\n",
       "    <tr>\n",
       "      <th>2</th>\n",
       "      <td>1.179845158</td>\n",
       "      <td>19740699</td>\n",
       "      <td>4. Bells N Bows</td>\n",
       "      <td>6.87</td>\n",
       "      <td>6.36</td>\n",
       "      <td>6.62</td>\n",
       "      <td>6.4</td>\n",
       "      <td>7413</td>\n",
       "      <td>1.42</td>\n",
       "    </tr>\n",
       "    <tr>\n",
       "      <th>3</th>\n",
       "      <td>1.179845158</td>\n",
       "      <td>11014075</td>\n",
       "      <td>5. Tickinover</td>\n",
       "      <td>40.73</td>\n",
       "      <td>42.75</td>\n",
       "      <td>54.42</td>\n",
       "      <td>50.0</td>\n",
       "      <td>725</td>\n",
       "      <td>24.00</td>\n",
       "    </tr>\n",
       "    <tr>\n",
       "      <th>4</th>\n",
       "      <td>1.179845158</td>\n",
       "      <td>21317306</td>\n",
       "      <td>6. Opera Tickets</td>\n",
       "      <td>21.54</td>\n",
       "      <td>22.38</td>\n",
       "      <td>22.22</td>\n",
       "      <td>21.0</td>\n",
       "      <td>1972</td>\n",
       "      <td>18.50</td>\n",
       "    </tr>\n",
       "  </tbody>\n",
       "</table>\n",
       "</div>"
      ]
     },
     "metadata": {},
     "execution_count": 4
    }
   ],
   "metadata": {}
  },
  {
   "cell_type": "code",
   "execution_count": 5,
   "source": [
    "race.head(5)"
   ],
   "outputs": [
    {
     "output_type": "execute_result",
     "data": {
      "text/plain": [
       "         date      track country race_type  race_number    market_id  \\\n",
       "0  2020-07-01  Balaklava     AUS         R            1  1.171091087   \n",
       "1  2020-07-01  Balaklava     AUS         R            1  1.171091087   \n",
       "2  2020-07-01  Balaklava     AUS         R            1  1.171091087   \n",
       "3  2020-07-01  Balaklava     AUS         R            1  1.171091087   \n",
       "4  2020-07-01  Balaklava     AUS         R            1  1.171091087   \n",
       "\n",
       "            start_time weather track_condition race_distance selection_id  \\\n",
       "0  2020-07-01 02:40:00    FINE           GOOD4          2200     19674744   \n",
       "1  2020-07-01 02:40:00    FINE           GOOD4          2200       401615   \n",
       "2  2020-07-01 02:40:00    FINE           GOOD4          2200     26789410   \n",
       "3  2020-07-01 02:40:00    FINE           GOOD4          2200     26623561   \n",
       "4  2020-07-01 02:40:00    FINE           GOOD4          2200     28699693   \n",
       "\n",
       "     selection_name  barrier  place         trainer            jockey  weight  \n",
       "0             Baldy        2    4.0     Peter Nolan      Karl Zechner    59.0  \n",
       "1         Nostrovia        4    7.0  Dennis O'leary  Margaret Collett    59.0  \n",
       "2         Ammo Loco        5    1.0   John Hickmott    Barend Vorster    58.5  \n",
       "3  Gunfireinthecity        7    3.0  Dennis O'leary    Kayla Crowther    57.0  \n",
       "4              Whys        3    2.0      Trevor Day      Sairyn Fawke    57.0  "
      ],
      "text/html": [
       "<div>\n",
       "<style scoped>\n",
       "    .dataframe tbody tr th:only-of-type {\n",
       "        vertical-align: middle;\n",
       "    }\n",
       "\n",
       "    .dataframe tbody tr th {\n",
       "        vertical-align: top;\n",
       "    }\n",
       "\n",
       "    .dataframe thead th {\n",
       "        text-align: right;\n",
       "    }\n",
       "</style>\n",
       "<table border=\"1\" class=\"dataframe\">\n",
       "  <thead>\n",
       "    <tr style=\"text-align: right;\">\n",
       "      <th></th>\n",
       "      <th>date</th>\n",
       "      <th>track</th>\n",
       "      <th>country</th>\n",
       "      <th>race_type</th>\n",
       "      <th>race_number</th>\n",
       "      <th>market_id</th>\n",
       "      <th>start_time</th>\n",
       "      <th>weather</th>\n",
       "      <th>track_condition</th>\n",
       "      <th>race_distance</th>\n",
       "      <th>selection_id</th>\n",
       "      <th>selection_name</th>\n",
       "      <th>barrier</th>\n",
       "      <th>place</th>\n",
       "      <th>trainer</th>\n",
       "      <th>jockey</th>\n",
       "      <th>weight</th>\n",
       "    </tr>\n",
       "  </thead>\n",
       "  <tbody>\n",
       "    <tr>\n",
       "      <th>0</th>\n",
       "      <td>2020-07-01</td>\n",
       "      <td>Balaklava</td>\n",
       "      <td>AUS</td>\n",
       "      <td>R</td>\n",
       "      <td>1</td>\n",
       "      <td>1.171091087</td>\n",
       "      <td>2020-07-01 02:40:00</td>\n",
       "      <td>FINE</td>\n",
       "      <td>GOOD4</td>\n",
       "      <td>2200</td>\n",
       "      <td>19674744</td>\n",
       "      <td>Baldy</td>\n",
       "      <td>2</td>\n",
       "      <td>4.0</td>\n",
       "      <td>Peter Nolan</td>\n",
       "      <td>Karl Zechner</td>\n",
       "      <td>59.0</td>\n",
       "    </tr>\n",
       "    <tr>\n",
       "      <th>1</th>\n",
       "      <td>2020-07-01</td>\n",
       "      <td>Balaklava</td>\n",
       "      <td>AUS</td>\n",
       "      <td>R</td>\n",
       "      <td>1</td>\n",
       "      <td>1.171091087</td>\n",
       "      <td>2020-07-01 02:40:00</td>\n",
       "      <td>FINE</td>\n",
       "      <td>GOOD4</td>\n",
       "      <td>2200</td>\n",
       "      <td>401615</td>\n",
       "      <td>Nostrovia</td>\n",
       "      <td>4</td>\n",
       "      <td>7.0</td>\n",
       "      <td>Dennis O'leary</td>\n",
       "      <td>Margaret Collett</td>\n",
       "      <td>59.0</td>\n",
       "    </tr>\n",
       "    <tr>\n",
       "      <th>2</th>\n",
       "      <td>2020-07-01</td>\n",
       "      <td>Balaklava</td>\n",
       "      <td>AUS</td>\n",
       "      <td>R</td>\n",
       "      <td>1</td>\n",
       "      <td>1.171091087</td>\n",
       "      <td>2020-07-01 02:40:00</td>\n",
       "      <td>FINE</td>\n",
       "      <td>GOOD4</td>\n",
       "      <td>2200</td>\n",
       "      <td>26789410</td>\n",
       "      <td>Ammo Loco</td>\n",
       "      <td>5</td>\n",
       "      <td>1.0</td>\n",
       "      <td>John Hickmott</td>\n",
       "      <td>Barend Vorster</td>\n",
       "      <td>58.5</td>\n",
       "    </tr>\n",
       "    <tr>\n",
       "      <th>3</th>\n",
       "      <td>2020-07-01</td>\n",
       "      <td>Balaklava</td>\n",
       "      <td>AUS</td>\n",
       "      <td>R</td>\n",
       "      <td>1</td>\n",
       "      <td>1.171091087</td>\n",
       "      <td>2020-07-01 02:40:00</td>\n",
       "      <td>FINE</td>\n",
       "      <td>GOOD4</td>\n",
       "      <td>2200</td>\n",
       "      <td>26623561</td>\n",
       "      <td>Gunfireinthecity</td>\n",
       "      <td>7</td>\n",
       "      <td>3.0</td>\n",
       "      <td>Dennis O'leary</td>\n",
       "      <td>Kayla Crowther</td>\n",
       "      <td>57.0</td>\n",
       "    </tr>\n",
       "    <tr>\n",
       "      <th>4</th>\n",
       "      <td>2020-07-01</td>\n",
       "      <td>Balaklava</td>\n",
       "      <td>AUS</td>\n",
       "      <td>R</td>\n",
       "      <td>1</td>\n",
       "      <td>1.171091087</td>\n",
       "      <td>2020-07-01 02:40:00</td>\n",
       "      <td>FINE</td>\n",
       "      <td>GOOD4</td>\n",
       "      <td>2200</td>\n",
       "      <td>28699693</td>\n",
       "      <td>Whys</td>\n",
       "      <td>3</td>\n",
       "      <td>2.0</td>\n",
       "      <td>Trevor Day</td>\n",
       "      <td>Sairyn Fawke</td>\n",
       "      <td>57.0</td>\n",
       "    </tr>\n",
       "  </tbody>\n",
       "</table>\n",
       "</div>"
      ]
     },
     "metadata": {},
     "execution_count": 5
    }
   ],
   "metadata": {}
  },
  {
   "cell_type": "code",
   "execution_count": 6,
   "source": [
    "# Joining two datasets\n",
    "\n",
    "df = race.merge(odds.loc[:, odds.columns != 'selection_name'], how = \"inner\", on = ['market_id', 'selection_id'])\n",
    "\n",
    "#df = df[['date', 'market_id', 'selection_id', 'country', 'track', 'race_type', 'race_number', 'start_time', 'weather', 'track_condition', 'race_distance', 'barrier', '']]\n",
    "df"
   ],
   "outputs": [
    {
     "output_type": "execute_result",
     "data": {
      "text/plain": [
       "              date       track country race_type  race_number    market_id  \\\n",
       "0       2020-07-01   Balaklava     AUS         R            1  1.171091087   \n",
       "1       2020-07-01   Balaklava     AUS         R            1  1.171091087   \n",
       "2       2020-07-01   Balaklava     AUS         R            1  1.171091087   \n",
       "3       2020-07-01   Balaklava     AUS         R            1  1.171091087   \n",
       "4       2020-07-01   Balaklava     AUS         R            1  1.171091087   \n",
       "...            ...         ...     ...       ...          ...          ...   \n",
       "160022  2021-06-29  Townsville     AUS         R            6  1.184845396   \n",
       "160023  2021-06-29  Townsville     AUS         R            6  1.184845396   \n",
       "160024  2021-06-29  Townsville     AUS         R            6  1.184845396   \n",
       "160025  2021-06-29  Townsville     AUS         R            6  1.184845396   \n",
       "160026  2021-06-29  Townsville     AUS         R            6  1.184845396   \n",
       "\n",
       "                 start_time weather track_condition race_distance  ... place  \\\n",
       "0       2020-07-01 02:40:00    FINE           GOOD4          2200  ...   4.0   \n",
       "1       2020-07-01 02:40:00    FINE           GOOD4          2200  ...   7.0   \n",
       "2       2020-07-01 02:40:00    FINE           GOOD4          2200  ...   1.0   \n",
       "3       2020-07-01 02:40:00    FINE           GOOD4          2200  ...   3.0   \n",
       "4       2020-07-01 02:40:00    FINE           GOOD4          2200  ...   2.0   \n",
       "...                     ...     ...             ...           ...  ...   ...   \n",
       "160022  2021-06-29 07:00:00    None            None          1000  ...   1.0   \n",
       "160023  2021-06-29 07:00:00    None            None          1000  ...   7.0   \n",
       "160024  2021-06-29 07:00:00    None            None          1000  ...   4.0   \n",
       "160025  2021-06-29 07:00:00    None            None          1000  ...   6.0   \n",
       "160026  2021-06-29 07:00:00    None            None          1000  ...   8.0   \n",
       "\n",
       "                trainer             jockey  weight  wap_5m wap_30s     bsp  \\\n",
       "0           Peter Nolan       Karl Zechner    59.0    3.30    3.76    3.49   \n",
       "1        Dennis O'leary   Margaret Collett    59.0   45.00   72.01  102.90   \n",
       "2         John Hickmott     Barend Vorster    58.5    2.80    2.46    2.74   \n",
       "3        Dennis O'leary     Kayla Crowther    57.0   14.41   11.25   14.00   \n",
       "4            Trevor Day       Sairyn Fawke    57.0   11.37   13.58   13.62   \n",
       "...                 ...                ...     ...     ...     ...     ...   \n",
       "160022  Sharlee D'avila     Lacey Morrison    57.5    7.22    6.48    5.97   \n",
       "160023    Graham Hughes      Frank Edwards    56.0   67.74   50.79   70.42   \n",
       "160024      Alby Molino        M Potgieter    55.0   12.55   11.02   13.24   \n",
       "160025      Chris Parry  Wanderson D'avila    55.0    7.09    7.51    8.78   \n",
       "160026      Des Veivers     Bonnie Thomson    54.0  340.00  412.90  520.96   \n",
       "\n",
       "          ltp  traded_vol  inplay_min_lay  \n",
       "0         3.5       16543            2.70  \n",
       "1       100.0         583          130.00  \n",
       "2         3.0       36043            1.01  \n",
       "3        14.0        4113            7.40  \n",
       "4        13.5        2395           13.50  \n",
       "...       ...         ...             ...  \n",
       "160022    5.9       14848            1.01  \n",
       "160023   75.0         677           75.00  \n",
       "160024   14.0        6700           10.00  \n",
       "160025    9.0        8776            4.20  \n",
       "160026  530.0          99          530.00  \n",
       "\n",
       "[160027 rows x 23 columns]"
      ],
      "text/html": [
       "<div>\n",
       "<style scoped>\n",
       "    .dataframe tbody tr th:only-of-type {\n",
       "        vertical-align: middle;\n",
       "    }\n",
       "\n",
       "    .dataframe tbody tr th {\n",
       "        vertical-align: top;\n",
       "    }\n",
       "\n",
       "    .dataframe thead th {\n",
       "        text-align: right;\n",
       "    }\n",
       "</style>\n",
       "<table border=\"1\" class=\"dataframe\">\n",
       "  <thead>\n",
       "    <tr style=\"text-align: right;\">\n",
       "      <th></th>\n",
       "      <th>date</th>\n",
       "      <th>track</th>\n",
       "      <th>country</th>\n",
       "      <th>race_type</th>\n",
       "      <th>race_number</th>\n",
       "      <th>market_id</th>\n",
       "      <th>start_time</th>\n",
       "      <th>weather</th>\n",
       "      <th>track_condition</th>\n",
       "      <th>race_distance</th>\n",
       "      <th>...</th>\n",
       "      <th>place</th>\n",
       "      <th>trainer</th>\n",
       "      <th>jockey</th>\n",
       "      <th>weight</th>\n",
       "      <th>wap_5m</th>\n",
       "      <th>wap_30s</th>\n",
       "      <th>bsp</th>\n",
       "      <th>ltp</th>\n",
       "      <th>traded_vol</th>\n",
       "      <th>inplay_min_lay</th>\n",
       "    </tr>\n",
       "  </thead>\n",
       "  <tbody>\n",
       "    <tr>\n",
       "      <th>0</th>\n",
       "      <td>2020-07-01</td>\n",
       "      <td>Balaklava</td>\n",
       "      <td>AUS</td>\n",
       "      <td>R</td>\n",
       "      <td>1</td>\n",
       "      <td>1.171091087</td>\n",
       "      <td>2020-07-01 02:40:00</td>\n",
       "      <td>FINE</td>\n",
       "      <td>GOOD4</td>\n",
       "      <td>2200</td>\n",
       "      <td>...</td>\n",
       "      <td>4.0</td>\n",
       "      <td>Peter Nolan</td>\n",
       "      <td>Karl Zechner</td>\n",
       "      <td>59.0</td>\n",
       "      <td>3.30</td>\n",
       "      <td>3.76</td>\n",
       "      <td>3.49</td>\n",
       "      <td>3.5</td>\n",
       "      <td>16543</td>\n",
       "      <td>2.70</td>\n",
       "    </tr>\n",
       "    <tr>\n",
       "      <th>1</th>\n",
       "      <td>2020-07-01</td>\n",
       "      <td>Balaklava</td>\n",
       "      <td>AUS</td>\n",
       "      <td>R</td>\n",
       "      <td>1</td>\n",
       "      <td>1.171091087</td>\n",
       "      <td>2020-07-01 02:40:00</td>\n",
       "      <td>FINE</td>\n",
       "      <td>GOOD4</td>\n",
       "      <td>2200</td>\n",
       "      <td>...</td>\n",
       "      <td>7.0</td>\n",
       "      <td>Dennis O'leary</td>\n",
       "      <td>Margaret Collett</td>\n",
       "      <td>59.0</td>\n",
       "      <td>45.00</td>\n",
       "      <td>72.01</td>\n",
       "      <td>102.90</td>\n",
       "      <td>100.0</td>\n",
       "      <td>583</td>\n",
       "      <td>130.00</td>\n",
       "    </tr>\n",
       "    <tr>\n",
       "      <th>2</th>\n",
       "      <td>2020-07-01</td>\n",
       "      <td>Balaklava</td>\n",
       "      <td>AUS</td>\n",
       "      <td>R</td>\n",
       "      <td>1</td>\n",
       "      <td>1.171091087</td>\n",
       "      <td>2020-07-01 02:40:00</td>\n",
       "      <td>FINE</td>\n",
       "      <td>GOOD4</td>\n",
       "      <td>2200</td>\n",
       "      <td>...</td>\n",
       "      <td>1.0</td>\n",
       "      <td>John Hickmott</td>\n",
       "      <td>Barend Vorster</td>\n",
       "      <td>58.5</td>\n",
       "      <td>2.80</td>\n",
       "      <td>2.46</td>\n",
       "      <td>2.74</td>\n",
       "      <td>3.0</td>\n",
       "      <td>36043</td>\n",
       "      <td>1.01</td>\n",
       "    </tr>\n",
       "    <tr>\n",
       "      <th>3</th>\n",
       "      <td>2020-07-01</td>\n",
       "      <td>Balaklava</td>\n",
       "      <td>AUS</td>\n",
       "      <td>R</td>\n",
       "      <td>1</td>\n",
       "      <td>1.171091087</td>\n",
       "      <td>2020-07-01 02:40:00</td>\n",
       "      <td>FINE</td>\n",
       "      <td>GOOD4</td>\n",
       "      <td>2200</td>\n",
       "      <td>...</td>\n",
       "      <td>3.0</td>\n",
       "      <td>Dennis O'leary</td>\n",
       "      <td>Kayla Crowther</td>\n",
       "      <td>57.0</td>\n",
       "      <td>14.41</td>\n",
       "      <td>11.25</td>\n",
       "      <td>14.00</td>\n",
       "      <td>14.0</td>\n",
       "      <td>4113</td>\n",
       "      <td>7.40</td>\n",
       "    </tr>\n",
       "    <tr>\n",
       "      <th>4</th>\n",
       "      <td>2020-07-01</td>\n",
       "      <td>Balaklava</td>\n",
       "      <td>AUS</td>\n",
       "      <td>R</td>\n",
       "      <td>1</td>\n",
       "      <td>1.171091087</td>\n",
       "      <td>2020-07-01 02:40:00</td>\n",
       "      <td>FINE</td>\n",
       "      <td>GOOD4</td>\n",
       "      <td>2200</td>\n",
       "      <td>...</td>\n",
       "      <td>2.0</td>\n",
       "      <td>Trevor Day</td>\n",
       "      <td>Sairyn Fawke</td>\n",
       "      <td>57.0</td>\n",
       "      <td>11.37</td>\n",
       "      <td>13.58</td>\n",
       "      <td>13.62</td>\n",
       "      <td>13.5</td>\n",
       "      <td>2395</td>\n",
       "      <td>13.50</td>\n",
       "    </tr>\n",
       "    <tr>\n",
       "      <th>...</th>\n",
       "      <td>...</td>\n",
       "      <td>...</td>\n",
       "      <td>...</td>\n",
       "      <td>...</td>\n",
       "      <td>...</td>\n",
       "      <td>...</td>\n",
       "      <td>...</td>\n",
       "      <td>...</td>\n",
       "      <td>...</td>\n",
       "      <td>...</td>\n",
       "      <td>...</td>\n",
       "      <td>...</td>\n",
       "      <td>...</td>\n",
       "      <td>...</td>\n",
       "      <td>...</td>\n",
       "      <td>...</td>\n",
       "      <td>...</td>\n",
       "      <td>...</td>\n",
       "      <td>...</td>\n",
       "      <td>...</td>\n",
       "      <td>...</td>\n",
       "    </tr>\n",
       "    <tr>\n",
       "      <th>160022</th>\n",
       "      <td>2021-06-29</td>\n",
       "      <td>Townsville</td>\n",
       "      <td>AUS</td>\n",
       "      <td>R</td>\n",
       "      <td>6</td>\n",
       "      <td>1.184845396</td>\n",
       "      <td>2021-06-29 07:00:00</td>\n",
       "      <td>None</td>\n",
       "      <td>None</td>\n",
       "      <td>1000</td>\n",
       "      <td>...</td>\n",
       "      <td>1.0</td>\n",
       "      <td>Sharlee D'avila</td>\n",
       "      <td>Lacey Morrison</td>\n",
       "      <td>57.5</td>\n",
       "      <td>7.22</td>\n",
       "      <td>6.48</td>\n",
       "      <td>5.97</td>\n",
       "      <td>5.9</td>\n",
       "      <td>14848</td>\n",
       "      <td>1.01</td>\n",
       "    </tr>\n",
       "    <tr>\n",
       "      <th>160023</th>\n",
       "      <td>2021-06-29</td>\n",
       "      <td>Townsville</td>\n",
       "      <td>AUS</td>\n",
       "      <td>R</td>\n",
       "      <td>6</td>\n",
       "      <td>1.184845396</td>\n",
       "      <td>2021-06-29 07:00:00</td>\n",
       "      <td>None</td>\n",
       "      <td>None</td>\n",
       "      <td>1000</td>\n",
       "      <td>...</td>\n",
       "      <td>7.0</td>\n",
       "      <td>Graham Hughes</td>\n",
       "      <td>Frank Edwards</td>\n",
       "      <td>56.0</td>\n",
       "      <td>67.74</td>\n",
       "      <td>50.79</td>\n",
       "      <td>70.42</td>\n",
       "      <td>75.0</td>\n",
       "      <td>677</td>\n",
       "      <td>75.00</td>\n",
       "    </tr>\n",
       "    <tr>\n",
       "      <th>160024</th>\n",
       "      <td>2021-06-29</td>\n",
       "      <td>Townsville</td>\n",
       "      <td>AUS</td>\n",
       "      <td>R</td>\n",
       "      <td>6</td>\n",
       "      <td>1.184845396</td>\n",
       "      <td>2021-06-29 07:00:00</td>\n",
       "      <td>None</td>\n",
       "      <td>None</td>\n",
       "      <td>1000</td>\n",
       "      <td>...</td>\n",
       "      <td>4.0</td>\n",
       "      <td>Alby Molino</td>\n",
       "      <td>M Potgieter</td>\n",
       "      <td>55.0</td>\n",
       "      <td>12.55</td>\n",
       "      <td>11.02</td>\n",
       "      <td>13.24</td>\n",
       "      <td>14.0</td>\n",
       "      <td>6700</td>\n",
       "      <td>10.00</td>\n",
       "    </tr>\n",
       "    <tr>\n",
       "      <th>160025</th>\n",
       "      <td>2021-06-29</td>\n",
       "      <td>Townsville</td>\n",
       "      <td>AUS</td>\n",
       "      <td>R</td>\n",
       "      <td>6</td>\n",
       "      <td>1.184845396</td>\n",
       "      <td>2021-06-29 07:00:00</td>\n",
       "      <td>None</td>\n",
       "      <td>None</td>\n",
       "      <td>1000</td>\n",
       "      <td>...</td>\n",
       "      <td>6.0</td>\n",
       "      <td>Chris Parry</td>\n",
       "      <td>Wanderson D'avila</td>\n",
       "      <td>55.0</td>\n",
       "      <td>7.09</td>\n",
       "      <td>7.51</td>\n",
       "      <td>8.78</td>\n",
       "      <td>9.0</td>\n",
       "      <td>8776</td>\n",
       "      <td>4.20</td>\n",
       "    </tr>\n",
       "    <tr>\n",
       "      <th>160026</th>\n",
       "      <td>2021-06-29</td>\n",
       "      <td>Townsville</td>\n",
       "      <td>AUS</td>\n",
       "      <td>R</td>\n",
       "      <td>6</td>\n",
       "      <td>1.184845396</td>\n",
       "      <td>2021-06-29 07:00:00</td>\n",
       "      <td>None</td>\n",
       "      <td>None</td>\n",
       "      <td>1000</td>\n",
       "      <td>...</td>\n",
       "      <td>8.0</td>\n",
       "      <td>Des Veivers</td>\n",
       "      <td>Bonnie Thomson</td>\n",
       "      <td>54.0</td>\n",
       "      <td>340.00</td>\n",
       "      <td>412.90</td>\n",
       "      <td>520.96</td>\n",
       "      <td>530.0</td>\n",
       "      <td>99</td>\n",
       "      <td>530.00</td>\n",
       "    </tr>\n",
       "  </tbody>\n",
       "</table>\n",
       "<p>160027 rows × 23 columns</p>\n",
       "</div>"
      ]
     },
     "metadata": {},
     "execution_count": 6
    }
   ],
   "metadata": {}
  },
  {
   "cell_type": "code",
   "execution_count": 7,
   "source": [
    "df.date.value_counts()"
   ],
   "outputs": [
    {
     "output_type": "execute_result",
     "data": {
      "text/plain": [
       "2021-04-03    1168\n",
       "2020-10-17    1164\n",
       "2021-05-29    1158\n",
       "2020-11-03    1111\n",
       "2021-05-22    1107\n",
       "              ... \n",
       "2020-12-21     100\n",
       "2021-03-22      95\n",
       "2020-10-26      85\n",
       "2021-03-15      62\n",
       "2021-01-05      51\n",
       "Name: date, Length: 351, dtype: int64"
      ]
     },
     "metadata": {},
     "execution_count": 7
    }
   ],
   "metadata": {}
  },
  {
   "cell_type": "code",
   "execution_count": 8,
   "source": [
    "df.barrier.value_counts()"
   ],
   "outputs": [
    {
     "output_type": "execute_result",
     "data": {
      "text/plain": [
       "2     14336\n",
       "1     14328\n",
       "3     14310\n",
       "4     14290\n",
       "5     14237\n",
       "6     13970\n",
       "7     13484\n",
       "8     12642\n",
       "9     11245\n",
       "10     9628\n",
       "11     7820\n",
       "12     5996\n",
       "13     4426\n",
       "14     3219\n",
       "15     2265\n",
       "16     1583\n",
       "17     1042\n",
       "18      678\n",
       "19      283\n",
       "20      167\n",
       "21       45\n",
       "22       20\n",
       "23        8\n",
       "24        5\n",
       "Name: barrier, dtype: int64"
      ]
     },
     "metadata": {},
     "execution_count": 8
    }
   ],
   "metadata": {}
  },
  {
   "cell_type": "code",
   "execution_count": 10,
   "source": [
    "df.race_distance.value_counts()"
   ],
   "outputs": [
    {
     "output_type": "execute_result",
     "data": {
      "text/plain": [
       "1200    15873\n",
       "1400    11665\n",
       "1200    10914\n",
       "1000     9584\n",
       "1600     8620\n",
       "        ...  \n",
       "1510        5\n",
       "4000        5\n",
       "2015        5\n",
       "2206        5\n",
       "1845        4\n",
       "Name: race_distance, Length: 564, dtype: int64"
      ]
     },
     "metadata": {},
     "execution_count": 10
    }
   ],
   "metadata": {}
  },
  {
   "cell_type": "code",
   "execution_count": 11,
   "source": [
    "# Functions\n",
    "# __________________\n",
    "\n",
    "def distance_group(distance):\n",
    "\n",
    "\n",
    "    if distance is None:\n",
    "        return(\"missing\")\n",
    "    elif distance < 1100:\n",
    "        return(\"sprint\")\n",
    "    elif distance < 1400:\n",
    "        return(\"mid_short\")\n",
    "    elif distance < 1800:\n",
    "        return(\"mid_long\")\n",
    "    else:\n",
    "        return(\"long\")\n",
    "\n",
    "def barrier_group(barrier):\n",
    "    if barrier is None:\n",
    "        return(\"missing\")\n",
    "    elif barrier < 4:\n",
    "        return(\"inside\")\n",
    "    elif barrier < 9:\n",
    "        return(\"mid_field\")\n",
    "    else:\n",
    "        return(\"outside\")\n"
   ],
   "outputs": [],
   "metadata": {}
  },
  {
   "cell_type": "code",
   "execution_count": 12,
   "source": [
    "df['distance_group'] = pd.to_numeric(df.race_distance, errors = \"coerce\").apply(distance_group)\n",
    "df['barrier_group'] = pd.to_numeric(df.barrier, errors = \"coerce\").apply(barrier_group)"
   ],
   "outputs": [],
   "metadata": {}
  },
  {
   "cell_type": "code",
   "execution_count": 13,
   "source": [
    "# Apply Back Profit Less Commission\n",
    "\n",
    "df['back_npl'] = np.where(df['place'] == 1, 0.95 * (df['bsp']-1), -1)\n",
    "df['lay_npl'] = np.where(df['place'] == 1, -1 * (df['bsp']-1), 0.95)\n",
    "\n",
    "# df.query('place == 1')[['bsp', 'place', 'back_npl']]\n"
   ],
   "outputs": [],
   "metadata": {}
  },
  {
   "cell_type": "code",
   "execution_count": 1,
   "source": [
    "df"
   ],
   "outputs": [
    {
     "output_type": "error",
     "ename": "NameError",
     "evalue": "name 'df' is not defined",
     "traceback": [
      "\u001b[0;31m---------------------------------------------------------------------------\u001b[0m",
      "\u001b[0;31mNameError\u001b[0m                                 Traceback (most recent call last)",
      "\u001b[0;32m/tmp/ipykernel_17570/1396537375.py\u001b[0m in \u001b[0;36m<module>\u001b[0;34m\u001b[0m\n\u001b[0;32m----> 1\u001b[0;31m \u001b[0mdf\u001b[0m\u001b[0;34m\u001b[0m\u001b[0;34m\u001b[0m\u001b[0m\n\u001b[0m",
      "\u001b[0;31mNameError\u001b[0m: name 'df' is not defined"
     ]
    }
   ],
   "metadata": {}
  },
  {
   "cell_type": "code",
   "execution_count": 14,
   "source": [
    "df.distance_group.value_counts()"
   ],
   "outputs": [
    {
     "output_type": "execute_result",
     "data": {
      "text/plain": [
       "mid_short    64998\n",
       "mid_long     51038\n",
       "sprint       23171\n",
       "long         20820\n",
       "Name: distance_group, dtype: int64"
      ]
     },
     "metadata": {},
     "execution_count": 14
    }
   ],
   "metadata": {}
  },
  {
   "cell_type": "code",
   "execution_count": 15,
   "source": [
    "df.barrier_group.value_counts()"
   ],
   "outputs": [
    {
     "output_type": "execute_result",
     "data": {
      "text/plain": [
       "mid_field    68623\n",
       "outside      48430\n",
       "inside       42974\n",
       "Name: barrier_group, dtype: int64"
      ]
     },
     "metadata": {},
     "execution_count": 15
    }
   ],
   "metadata": {}
  },
  {
   "cell_type": "code",
   "execution_count": 16,
   "source": [
    "df_train = df.query('date < \"2021-04-01\"')\n",
    "df_test = df.query('date >= \"2021-04-01\"')"
   ],
   "outputs": [],
   "metadata": {}
  },
  {
   "cell_type": "code",
   "execution_count": 17,
   "source": [
    "'{} rows in the \"training\" set and {} rows in the \"test\" data'.format(df_train.shape[0], df_test.shape[0])"
   ],
   "outputs": [
    {
     "output_type": "execute_result",
     "data": {
      "text/plain": [
       "'119244 rows in the \"training\" set and 40783 rows in the \"test\" data'"
      ]
     },
     "metadata": {},
     "execution_count": 17
    }
   ],
   "metadata": {}
  },
  {
   "cell_type": "markdown",
   "source": [
    "# SIMPLE\n",
    "\n",
    "Track / Barrier / Distance"
   ],
   "metadata": {}
  },
  {
   "cell_type": "code",
   "execution_count": 18,
   "source": [
    "\n",
    "# Simple\n",
    "\n",
    "# Bet placement: BSP Back or Lay\n",
    "# Strategy: Select a profitable track / distance / barrier group\n",
    "\n",
    "trackDistanceBarrier = (\n",
    "    df_train\n",
    "    .assign(stake = 1)\n",
    "    .assign(odds = lambda x: x['bsp'])\n",
    "    .groupby(['track', 'race_distance', 'barrier_group'], as_index=False)\n",
    "    .agg({'back_npl': 'sum', 'lay_npl': 'sum','stake': 'sum', 'odds': 'mean'})\n",
    ")\n",
    "\n",
    "trackDistanceBarrier\n",
    "\n"
   ],
   "outputs": [
    {
     "output_type": "execute_result",
     "data": {
      "text/plain": [
       "       track race_distance barrier_group  back_npl  lay_npl  stake        odds\n",
       "0     Albany          1000        inside   11.2550   -11.95      2   15.450000\n",
       "1     Albany          1000     mid_field   -5.0000     4.75      5  101.136000\n",
       "2     Albany          1000       outside   -5.0000     4.75      5   88.374000\n",
       "3     Albany          1100        inside   -3.0525     2.70      6   29.430000\n",
       "4     Albany          1100     mid_field   -6.4040     5.92      9   37.483333\n",
       "...      ...           ...           ...       ...      ...    ...         ...\n",
       "6325    York          1500        inside    1.8995    -2.41      6   41.195000\n",
       "6326    York          1500     mid_field   -7.0000     6.65      7   32.472857\n",
       "6327    York          1920        inside   -3.0000     2.85      3   21.883333\n",
       "6328    York          1920     mid_field   -0.3520    -0.04      5   20.978000\n",
       "6329    York          1920       outside   -2.0000     1.90      2   21.450000\n",
       "\n",
       "[6330 rows x 7 columns]"
      ],
      "text/html": [
       "<div>\n",
       "<style scoped>\n",
       "    .dataframe tbody tr th:only-of-type {\n",
       "        vertical-align: middle;\n",
       "    }\n",
       "\n",
       "    .dataframe tbody tr th {\n",
       "        vertical-align: top;\n",
       "    }\n",
       "\n",
       "    .dataframe thead th {\n",
       "        text-align: right;\n",
       "    }\n",
       "</style>\n",
       "<table border=\"1\" class=\"dataframe\">\n",
       "  <thead>\n",
       "    <tr style=\"text-align: right;\">\n",
       "      <th></th>\n",
       "      <th>track</th>\n",
       "      <th>race_distance</th>\n",
       "      <th>barrier_group</th>\n",
       "      <th>back_npl</th>\n",
       "      <th>lay_npl</th>\n",
       "      <th>stake</th>\n",
       "      <th>odds</th>\n",
       "    </tr>\n",
       "  </thead>\n",
       "  <tbody>\n",
       "    <tr>\n",
       "      <th>0</th>\n",
       "      <td>Albany</td>\n",
       "      <td>1000</td>\n",
       "      <td>inside</td>\n",
       "      <td>11.2550</td>\n",
       "      <td>-11.95</td>\n",
       "      <td>2</td>\n",
       "      <td>15.450000</td>\n",
       "    </tr>\n",
       "    <tr>\n",
       "      <th>1</th>\n",
       "      <td>Albany</td>\n",
       "      <td>1000</td>\n",
       "      <td>mid_field</td>\n",
       "      <td>-5.0000</td>\n",
       "      <td>4.75</td>\n",
       "      <td>5</td>\n",
       "      <td>101.136000</td>\n",
       "    </tr>\n",
       "    <tr>\n",
       "      <th>2</th>\n",
       "      <td>Albany</td>\n",
       "      <td>1000</td>\n",
       "      <td>outside</td>\n",
       "      <td>-5.0000</td>\n",
       "      <td>4.75</td>\n",
       "      <td>5</td>\n",
       "      <td>88.374000</td>\n",
       "    </tr>\n",
       "    <tr>\n",
       "      <th>3</th>\n",
       "      <td>Albany</td>\n",
       "      <td>1100</td>\n",
       "      <td>inside</td>\n",
       "      <td>-3.0525</td>\n",
       "      <td>2.70</td>\n",
       "      <td>6</td>\n",
       "      <td>29.430000</td>\n",
       "    </tr>\n",
       "    <tr>\n",
       "      <th>4</th>\n",
       "      <td>Albany</td>\n",
       "      <td>1100</td>\n",
       "      <td>mid_field</td>\n",
       "      <td>-6.4040</td>\n",
       "      <td>5.92</td>\n",
       "      <td>9</td>\n",
       "      <td>37.483333</td>\n",
       "    </tr>\n",
       "    <tr>\n",
       "      <th>...</th>\n",
       "      <td>...</td>\n",
       "      <td>...</td>\n",
       "      <td>...</td>\n",
       "      <td>...</td>\n",
       "      <td>...</td>\n",
       "      <td>...</td>\n",
       "      <td>...</td>\n",
       "    </tr>\n",
       "    <tr>\n",
       "      <th>6325</th>\n",
       "      <td>York</td>\n",
       "      <td>1500</td>\n",
       "      <td>inside</td>\n",
       "      <td>1.8995</td>\n",
       "      <td>-2.41</td>\n",
       "      <td>6</td>\n",
       "      <td>41.195000</td>\n",
       "    </tr>\n",
       "    <tr>\n",
       "      <th>6326</th>\n",
       "      <td>York</td>\n",
       "      <td>1500</td>\n",
       "      <td>mid_field</td>\n",
       "      <td>-7.0000</td>\n",
       "      <td>6.65</td>\n",
       "      <td>7</td>\n",
       "      <td>32.472857</td>\n",
       "    </tr>\n",
       "    <tr>\n",
       "      <th>6327</th>\n",
       "      <td>York</td>\n",
       "      <td>1920</td>\n",
       "      <td>inside</td>\n",
       "      <td>-3.0000</td>\n",
       "      <td>2.85</td>\n",
       "      <td>3</td>\n",
       "      <td>21.883333</td>\n",
       "    </tr>\n",
       "    <tr>\n",
       "      <th>6328</th>\n",
       "      <td>York</td>\n",
       "      <td>1920</td>\n",
       "      <td>mid_field</td>\n",
       "      <td>-0.3520</td>\n",
       "      <td>-0.04</td>\n",
       "      <td>5</td>\n",
       "      <td>20.978000</td>\n",
       "    </tr>\n",
       "    <tr>\n",
       "      <th>6329</th>\n",
       "      <td>York</td>\n",
       "      <td>1920</td>\n",
       "      <td>outside</td>\n",
       "      <td>-2.0000</td>\n",
       "      <td>1.90</td>\n",
       "      <td>2</td>\n",
       "      <td>21.450000</td>\n",
       "    </tr>\n",
       "  </tbody>\n",
       "</table>\n",
       "<p>6330 rows × 7 columns</p>\n",
       "</div>"
      ]
     },
     "metadata": {},
     "execution_count": 18
    }
   ],
   "metadata": {}
  },
  {
   "cell_type": "code",
   "execution_count": 36,
   "source": [
    "def pl_pValue(number_bets, npl, stake, average_odds):\n",
    "\n",
    "    pot = npl / stake\n",
    "\n",
    "    tStatistic = (pot * np.sqrt(number_bets)) / np.sqrt( (1 + pot) * (average_odds - 1 - pot) )\n",
    "\n",
    "    pValue = 2 * t.cdf(-abs(tStatistic), number_bets-1)\n",
    "\n",
    "    return(np.where(np.logical_or(np.isnan(pValue), pValue == 0), 1, pValue))\n",
    "\n",
    "\n",
    "trackDistanceBarrier = (\n",
    "    trackDistanceBarrier\n",
    "    .assign(backPL_pValue = lambda x: pl_pValue(number_bets = x['stake'], npl = x['back_npl'], stake = x['stake'], average_odds = x['odds']))\n",
    "    .assign(layPL_pValue = lambda x: pl_pValue(number_bets = x['stake'], npl = x['lay_npl'], stake = x['stake'], average_odds = x['odds']))\n",
    ")\n",
    "\n",
    "trackDistanceBarrier.sort_values(\"backPL_pValue\")"
   ],
   "outputs": [
    {
     "output_type": "stream",
     "name": "stderr",
     "text": [
      "/home/tmbish/.local/lib/python3.9/site-packages/pandas/core/arraylike.py:364: RuntimeWarning: invalid value encountered in sqrt\n",
      "  result = getattr(ufunc, method)(*inputs, **kwargs)\n"
     ]
    },
    {
     "output_type": "execute_result",
     "data": {
      "text/plain": [
       "              track race_distance barrier_group  back_npl  lay_npl  stake  \\\n",
       "2487       Goulburn          1300        inside  -36.4965    34.62     38   \n",
       "4835       Randwick          1000       outside  -45.1355    42.79     47   \n",
       "3619  Moonee Valley          1200        inside  -52.2195    48.81     64   \n",
       "1908     Flemington          1600     mid_field  405.4345  -432.11     60   \n",
       "534         Belmont          1650        inside  -21.3445    20.21     23   \n",
       "...             ...           ...           ...       ...      ...    ...   \n",
       "3237        Kyneton          1218        inside   -3.0000     2.85      3   \n",
       "3242        Kyneton          1450       outside   -0.7885    -1.12     21   \n",
       "3243        Kyneton          1469        inside    3.6005    -3.79      1   \n",
       "3210        Kilmore          1462        inside   -5.0000     4.75      5   \n",
       "6329           York          1920       outside   -2.0000     1.90      2   \n",
       "\n",
       "           odds  backPL_pValue  layPL_pValue  \n",
       "2487  28.381842       0.000002      0.434784  \n",
       "4835  48.943617       0.000022      0.513528  \n",
       "3619  17.725313       0.000565      0.254399  \n",
       "1908  37.159333       0.000992      1.000000  \n",
       "534   19.891739       0.001173      0.476452  \n",
       "...         ...            ...           ...  \n",
       "3237  25.293333       1.000000      0.830056  \n",
       "3242        NaN       1.000000      1.000000  \n",
       "3243   4.790000       1.000000      1.000000  \n",
       "3210  25.054000       1.000000      0.767465  \n",
       "6329  21.450000       1.000000      0.863432  \n",
       "\n",
       "[6330 rows x 9 columns]"
      ],
      "text/html": [
       "<div>\n",
       "<style scoped>\n",
       "    .dataframe tbody tr th:only-of-type {\n",
       "        vertical-align: middle;\n",
       "    }\n",
       "\n",
       "    .dataframe tbody tr th {\n",
       "        vertical-align: top;\n",
       "    }\n",
       "\n",
       "    .dataframe thead th {\n",
       "        text-align: right;\n",
       "    }\n",
       "</style>\n",
       "<table border=\"1\" class=\"dataframe\">\n",
       "  <thead>\n",
       "    <tr style=\"text-align: right;\">\n",
       "      <th></th>\n",
       "      <th>track</th>\n",
       "      <th>race_distance</th>\n",
       "      <th>barrier_group</th>\n",
       "      <th>back_npl</th>\n",
       "      <th>lay_npl</th>\n",
       "      <th>stake</th>\n",
       "      <th>odds</th>\n",
       "      <th>backPL_pValue</th>\n",
       "      <th>layPL_pValue</th>\n",
       "    </tr>\n",
       "  </thead>\n",
       "  <tbody>\n",
       "    <tr>\n",
       "      <th>2487</th>\n",
       "      <td>Goulburn</td>\n",
       "      <td>1300</td>\n",
       "      <td>inside</td>\n",
       "      <td>-36.4965</td>\n",
       "      <td>34.62</td>\n",
       "      <td>38</td>\n",
       "      <td>28.381842</td>\n",
       "      <td>0.000002</td>\n",
       "      <td>0.434784</td>\n",
       "    </tr>\n",
       "    <tr>\n",
       "      <th>4835</th>\n",
       "      <td>Randwick</td>\n",
       "      <td>1000</td>\n",
       "      <td>outside</td>\n",
       "      <td>-45.1355</td>\n",
       "      <td>42.79</td>\n",
       "      <td>47</td>\n",
       "      <td>48.943617</td>\n",
       "      <td>0.000022</td>\n",
       "      <td>0.513528</td>\n",
       "    </tr>\n",
       "    <tr>\n",
       "      <th>3619</th>\n",
       "      <td>Moonee Valley</td>\n",
       "      <td>1200</td>\n",
       "      <td>inside</td>\n",
       "      <td>-52.2195</td>\n",
       "      <td>48.81</td>\n",
       "      <td>64</td>\n",
       "      <td>17.725313</td>\n",
       "      <td>0.000565</td>\n",
       "      <td>0.254399</td>\n",
       "    </tr>\n",
       "    <tr>\n",
       "      <th>1908</th>\n",
       "      <td>Flemington</td>\n",
       "      <td>1600</td>\n",
       "      <td>mid_field</td>\n",
       "      <td>405.4345</td>\n",
       "      <td>-432.11</td>\n",
       "      <td>60</td>\n",
       "      <td>37.159333</td>\n",
       "      <td>0.000992</td>\n",
       "      <td>1.000000</td>\n",
       "    </tr>\n",
       "    <tr>\n",
       "      <th>534</th>\n",
       "      <td>Belmont</td>\n",
       "      <td>1650</td>\n",
       "      <td>inside</td>\n",
       "      <td>-21.3445</td>\n",
       "      <td>20.21</td>\n",
       "      <td>23</td>\n",
       "      <td>19.891739</td>\n",
       "      <td>0.001173</td>\n",
       "      <td>0.476452</td>\n",
       "    </tr>\n",
       "    <tr>\n",
       "      <th>...</th>\n",
       "      <td>...</td>\n",
       "      <td>...</td>\n",
       "      <td>...</td>\n",
       "      <td>...</td>\n",
       "      <td>...</td>\n",
       "      <td>...</td>\n",
       "      <td>...</td>\n",
       "      <td>...</td>\n",
       "      <td>...</td>\n",
       "    </tr>\n",
       "    <tr>\n",
       "      <th>3237</th>\n",
       "      <td>Kyneton</td>\n",
       "      <td>1218</td>\n",
       "      <td>inside</td>\n",
       "      <td>-3.0000</td>\n",
       "      <td>2.85</td>\n",
       "      <td>3</td>\n",
       "      <td>25.293333</td>\n",
       "      <td>1.000000</td>\n",
       "      <td>0.830056</td>\n",
       "    </tr>\n",
       "    <tr>\n",
       "      <th>3242</th>\n",
       "      <td>Kyneton</td>\n",
       "      <td>1450</td>\n",
       "      <td>outside</td>\n",
       "      <td>-0.7885</td>\n",
       "      <td>-1.12</td>\n",
       "      <td>21</td>\n",
       "      <td>NaN</td>\n",
       "      <td>1.000000</td>\n",
       "      <td>1.000000</td>\n",
       "    </tr>\n",
       "    <tr>\n",
       "      <th>3243</th>\n",
       "      <td>Kyneton</td>\n",
       "      <td>1469</td>\n",
       "      <td>inside</td>\n",
       "      <td>3.6005</td>\n",
       "      <td>-3.79</td>\n",
       "      <td>1</td>\n",
       "      <td>4.790000</td>\n",
       "      <td>1.000000</td>\n",
       "      <td>1.000000</td>\n",
       "    </tr>\n",
       "    <tr>\n",
       "      <th>3210</th>\n",
       "      <td>Kilmore</td>\n",
       "      <td>1462</td>\n",
       "      <td>inside</td>\n",
       "      <td>-5.0000</td>\n",
       "      <td>4.75</td>\n",
       "      <td>5</td>\n",
       "      <td>25.054000</td>\n",
       "      <td>1.000000</td>\n",
       "      <td>0.767465</td>\n",
       "    </tr>\n",
       "    <tr>\n",
       "      <th>6329</th>\n",
       "      <td>York</td>\n",
       "      <td>1920</td>\n",
       "      <td>outside</td>\n",
       "      <td>-2.0000</td>\n",
       "      <td>1.90</td>\n",
       "      <td>2</td>\n",
       "      <td>21.450000</td>\n",
       "      <td>1.000000</td>\n",
       "      <td>0.863432</td>\n",
       "    </tr>\n",
       "  </tbody>\n",
       "</table>\n",
       "<p>6330 rows × 9 columns</p>\n",
       "</div>"
      ]
     },
     "metadata": {},
     "execution_count": 36
    }
   ],
   "metadata": {}
  },
  {
   "cell_type": "code",
   "execution_count": 39,
   "source": [
    "trackDistanceBarrier.sort_values(\"backPL_pValue\").query('back_npl > 0')"
   ],
   "outputs": [
    {
     "output_type": "execute_result",
     "data": {
      "text/plain": [
       "              track race_distance barrier_group  back_npl  lay_npl  stake  \\\n",
       "1908     Flemington          1600     mid_field  405.4345  -432.11     60   \n",
       "5108           Sale          1100       outside  630.4670  -664.06      7   \n",
       "4528       Pakenham          1200     mid_field  572.7400  -613.25    114   \n",
       "108   Alice Springs          1600     mid_field  118.1240  -125.47     14   \n",
       "2836         Hobart          1100       outside  361.1225  -382.90     30   \n",
       "...             ...           ...           ...       ...      ...    ...   \n",
       "324        Ballarat          2600        inside    8.8730    -9.34      1   \n",
       "4029         Mudgee          1600       outside   10.2315   -10.77      1   \n",
       "4312      Newcastle          2900       outside    1.1685    -1.23      1   \n",
       "2477        Gosford          2600       outside   10.4500   -11.00      1   \n",
       "3243        Kyneton          1469        inside    3.6005    -3.79      1   \n",
       "\n",
       "            odds  backPL_pValue  layPL_pValue  \n",
       "1908   37.159333       0.000992           1.0  \n",
       "5108  124.254286       0.004904           1.0  \n",
       "4528   69.126579       0.006916           1.0  \n",
       "108    21.596429       0.011334           1.0  \n",
       "2836   58.850000       0.011511           1.0  \n",
       "...          ...            ...           ...  \n",
       "324    10.340000       1.000000           1.0  \n",
       "4029   11.770000       1.000000           1.0  \n",
       "4312    2.230000       1.000000           1.0  \n",
       "2477   12.000000       1.000000           1.0  \n",
       "3243    4.790000       1.000000           1.0  \n",
       "\n",
       "[1821 rows x 9 columns]"
      ],
      "text/html": [
       "<div>\n",
       "<style scoped>\n",
       "    .dataframe tbody tr th:only-of-type {\n",
       "        vertical-align: middle;\n",
       "    }\n",
       "\n",
       "    .dataframe tbody tr th {\n",
       "        vertical-align: top;\n",
       "    }\n",
       "\n",
       "    .dataframe thead th {\n",
       "        text-align: right;\n",
       "    }\n",
       "</style>\n",
       "<table border=\"1\" class=\"dataframe\">\n",
       "  <thead>\n",
       "    <tr style=\"text-align: right;\">\n",
       "      <th></th>\n",
       "      <th>track</th>\n",
       "      <th>race_distance</th>\n",
       "      <th>barrier_group</th>\n",
       "      <th>back_npl</th>\n",
       "      <th>lay_npl</th>\n",
       "      <th>stake</th>\n",
       "      <th>odds</th>\n",
       "      <th>backPL_pValue</th>\n",
       "      <th>layPL_pValue</th>\n",
       "    </tr>\n",
       "  </thead>\n",
       "  <tbody>\n",
       "    <tr>\n",
       "      <th>1908</th>\n",
       "      <td>Flemington</td>\n",
       "      <td>1600</td>\n",
       "      <td>mid_field</td>\n",
       "      <td>405.4345</td>\n",
       "      <td>-432.11</td>\n",
       "      <td>60</td>\n",
       "      <td>37.159333</td>\n",
       "      <td>0.000992</td>\n",
       "      <td>1.0</td>\n",
       "    </tr>\n",
       "    <tr>\n",
       "      <th>5108</th>\n",
       "      <td>Sale</td>\n",
       "      <td>1100</td>\n",
       "      <td>outside</td>\n",
       "      <td>630.4670</td>\n",
       "      <td>-664.06</td>\n",
       "      <td>7</td>\n",
       "      <td>124.254286</td>\n",
       "      <td>0.004904</td>\n",
       "      <td>1.0</td>\n",
       "    </tr>\n",
       "    <tr>\n",
       "      <th>4528</th>\n",
       "      <td>Pakenham</td>\n",
       "      <td>1200</td>\n",
       "      <td>mid_field</td>\n",
       "      <td>572.7400</td>\n",
       "      <td>-613.25</td>\n",
       "      <td>114</td>\n",
       "      <td>69.126579</td>\n",
       "      <td>0.006916</td>\n",
       "      <td>1.0</td>\n",
       "    </tr>\n",
       "    <tr>\n",
       "      <th>108</th>\n",
       "      <td>Alice Springs</td>\n",
       "      <td>1600</td>\n",
       "      <td>mid_field</td>\n",
       "      <td>118.1240</td>\n",
       "      <td>-125.47</td>\n",
       "      <td>14</td>\n",
       "      <td>21.596429</td>\n",
       "      <td>0.011334</td>\n",
       "      <td>1.0</td>\n",
       "    </tr>\n",
       "    <tr>\n",
       "      <th>2836</th>\n",
       "      <td>Hobart</td>\n",
       "      <td>1100</td>\n",
       "      <td>outside</td>\n",
       "      <td>361.1225</td>\n",
       "      <td>-382.90</td>\n",
       "      <td>30</td>\n",
       "      <td>58.850000</td>\n",
       "      <td>0.011511</td>\n",
       "      <td>1.0</td>\n",
       "    </tr>\n",
       "    <tr>\n",
       "      <th>...</th>\n",
       "      <td>...</td>\n",
       "      <td>...</td>\n",
       "      <td>...</td>\n",
       "      <td>...</td>\n",
       "      <td>...</td>\n",
       "      <td>...</td>\n",
       "      <td>...</td>\n",
       "      <td>...</td>\n",
       "      <td>...</td>\n",
       "    </tr>\n",
       "    <tr>\n",
       "      <th>324</th>\n",
       "      <td>Ballarat</td>\n",
       "      <td>2600</td>\n",
       "      <td>inside</td>\n",
       "      <td>8.8730</td>\n",
       "      <td>-9.34</td>\n",
       "      <td>1</td>\n",
       "      <td>10.340000</td>\n",
       "      <td>1.000000</td>\n",
       "      <td>1.0</td>\n",
       "    </tr>\n",
       "    <tr>\n",
       "      <th>4029</th>\n",
       "      <td>Mudgee</td>\n",
       "      <td>1600</td>\n",
       "      <td>outside</td>\n",
       "      <td>10.2315</td>\n",
       "      <td>-10.77</td>\n",
       "      <td>1</td>\n",
       "      <td>11.770000</td>\n",
       "      <td>1.000000</td>\n",
       "      <td>1.0</td>\n",
       "    </tr>\n",
       "    <tr>\n",
       "      <th>4312</th>\n",
       "      <td>Newcastle</td>\n",
       "      <td>2900</td>\n",
       "      <td>outside</td>\n",
       "      <td>1.1685</td>\n",
       "      <td>-1.23</td>\n",
       "      <td>1</td>\n",
       "      <td>2.230000</td>\n",
       "      <td>1.000000</td>\n",
       "      <td>1.0</td>\n",
       "    </tr>\n",
       "    <tr>\n",
       "      <th>2477</th>\n",
       "      <td>Gosford</td>\n",
       "      <td>2600</td>\n",
       "      <td>outside</td>\n",
       "      <td>10.4500</td>\n",
       "      <td>-11.00</td>\n",
       "      <td>1</td>\n",
       "      <td>12.000000</td>\n",
       "      <td>1.000000</td>\n",
       "      <td>1.0</td>\n",
       "    </tr>\n",
       "    <tr>\n",
       "      <th>3243</th>\n",
       "      <td>Kyneton</td>\n",
       "      <td>1469</td>\n",
       "      <td>inside</td>\n",
       "      <td>3.6005</td>\n",
       "      <td>-3.79</td>\n",
       "      <td>1</td>\n",
       "      <td>4.790000</td>\n",
       "      <td>1.000000</td>\n",
       "      <td>1.0</td>\n",
       "    </tr>\n",
       "  </tbody>\n",
       "</table>\n",
       "<p>1821 rows × 9 columns</p>\n",
       "</div>"
      ]
     },
     "metadata": {},
     "execution_count": 39
    }
   ],
   "metadata": {}
  },
  {
   "cell_type": "code",
   "execution_count": 42,
   "source": [
    "# Test Top 5 Lay Strategies\n",
    "bestLay = trackDistanceBarrier.query('lay_npl>0').sort_values('layPL_pValue').head(5)\n",
    "bestLay\n"
   ],
   "outputs": [
    {
     "output_type": "execute_result",
     "data": {
      "text/plain": [
       "              track race_distance barrier_group  back_npl  lay_npl  stake  \\\n",
       "188           Ascot          1000        inside  -83.6395    77.06    115   \n",
       "3619  Moonee Valley          1200        inside  -52.2195    48.81     64   \n",
       "6299        Yeppoon          1400        inside  -11.0000    10.45     11   \n",
       "959       Caulfield          1400     mid_field  -74.3150    67.45    114   \n",
       "1366         Darwin          1200     mid_field  -47.3980    43.94     64   \n",
       "\n",
       "           odds  backPL_pValue  layPL_pValue  \n",
       "188   24.616870       0.003054      0.248157  \n",
       "3619  17.725313       0.000565      0.254399  \n",
       "6299   6.022727       1.000000      0.289686  \n",
       "959   24.828772       0.018780      0.301137  \n",
       "1366  19.354531       0.009844      0.318178  "
      ],
      "text/html": [
       "<div>\n",
       "<style scoped>\n",
       "    .dataframe tbody tr th:only-of-type {\n",
       "        vertical-align: middle;\n",
       "    }\n",
       "\n",
       "    .dataframe tbody tr th {\n",
       "        vertical-align: top;\n",
       "    }\n",
       "\n",
       "    .dataframe thead th {\n",
       "        text-align: right;\n",
       "    }\n",
       "</style>\n",
       "<table border=\"1\" class=\"dataframe\">\n",
       "  <thead>\n",
       "    <tr style=\"text-align: right;\">\n",
       "      <th></th>\n",
       "      <th>track</th>\n",
       "      <th>race_distance</th>\n",
       "      <th>barrier_group</th>\n",
       "      <th>back_npl</th>\n",
       "      <th>lay_npl</th>\n",
       "      <th>stake</th>\n",
       "      <th>odds</th>\n",
       "      <th>backPL_pValue</th>\n",
       "      <th>layPL_pValue</th>\n",
       "    </tr>\n",
       "  </thead>\n",
       "  <tbody>\n",
       "    <tr>\n",
       "      <th>188</th>\n",
       "      <td>Ascot</td>\n",
       "      <td>1000</td>\n",
       "      <td>inside</td>\n",
       "      <td>-83.6395</td>\n",
       "      <td>77.06</td>\n",
       "      <td>115</td>\n",
       "      <td>24.616870</td>\n",
       "      <td>0.003054</td>\n",
       "      <td>0.248157</td>\n",
       "    </tr>\n",
       "    <tr>\n",
       "      <th>3619</th>\n",
       "      <td>Moonee Valley</td>\n",
       "      <td>1200</td>\n",
       "      <td>inside</td>\n",
       "      <td>-52.2195</td>\n",
       "      <td>48.81</td>\n",
       "      <td>64</td>\n",
       "      <td>17.725313</td>\n",
       "      <td>0.000565</td>\n",
       "      <td>0.254399</td>\n",
       "    </tr>\n",
       "    <tr>\n",
       "      <th>6299</th>\n",
       "      <td>Yeppoon</td>\n",
       "      <td>1400</td>\n",
       "      <td>inside</td>\n",
       "      <td>-11.0000</td>\n",
       "      <td>10.45</td>\n",
       "      <td>11</td>\n",
       "      <td>6.022727</td>\n",
       "      <td>1.000000</td>\n",
       "      <td>0.289686</td>\n",
       "    </tr>\n",
       "    <tr>\n",
       "      <th>959</th>\n",
       "      <td>Caulfield</td>\n",
       "      <td>1400</td>\n",
       "      <td>mid_field</td>\n",
       "      <td>-74.3150</td>\n",
       "      <td>67.45</td>\n",
       "      <td>114</td>\n",
       "      <td>24.828772</td>\n",
       "      <td>0.018780</td>\n",
       "      <td>0.301137</td>\n",
       "    </tr>\n",
       "    <tr>\n",
       "      <th>1366</th>\n",
       "      <td>Darwin</td>\n",
       "      <td>1200</td>\n",
       "      <td>mid_field</td>\n",
       "      <td>-47.3980</td>\n",
       "      <td>43.94</td>\n",
       "      <td>64</td>\n",
       "      <td>19.354531</td>\n",
       "      <td>0.009844</td>\n",
       "      <td>0.318178</td>\n",
       "    </tr>\n",
       "  </tbody>\n",
       "</table>\n",
       "</div>"
      ]
     },
     "metadata": {},
     "execution_count": 42
    }
   ],
   "metadata": {}
  },
  {
   "cell_type": "code",
   "execution_count": 44,
   "source": [
    "trainSetTopLay = (\n",
    "    df_train\n",
    "    .merge(layBest[['track', 'race_distance']])\n",
    "    .assign(npl=lambda x: x['lay_npl'])\n",
    "    .assign(stake=1)\n",
    ")\n",
    "\n",
    "testSetTopLay = (\n",
    "    df_test\n",
    "    .merge(layBest[['track', 'race_distance']])\n",
    "    .assign(npl=lambda x: x['lay_npl'])\n",
    "    .assign(stake=1)\n",
    ")\n",
    "\n",
    "testSetTopLay"
   ],
   "outputs": [
    {
     "output_type": "execute_result",
     "data": {
      "text/plain": [
       "           date   track country race_type  race_number    market_id  \\\n",
       "0    2021-04-02   Ascot     AUS         R            6  1.181330624   \n",
       "1    2021-04-02   Ascot     AUS         R            6  1.181330624   \n",
       "2    2021-04-02   Ascot     AUS         R            6  1.181330624   \n",
       "3    2021-04-02   Ascot     AUS         R            6  1.181330624   \n",
       "4    2021-04-02   Ascot     AUS         R            6  1.181330624   \n",
       "..          ...     ...     ...       ...          ...          ...   \n",
       "219  2021-06-26  Darwin     AUS         R            3  1.184733965   \n",
       "220  2021-06-26  Darwin     AUS         R            3  1.184733965   \n",
       "221  2021-06-26  Darwin     AUS         R            3  1.184733965   \n",
       "222  2021-06-26  Darwin     AUS         R            3  1.184733965   \n",
       "223  2021-06-26  Darwin     AUS         R            3  1.184733965   \n",
       "\n",
       "              start_time weather track_condition race_distance  ...    bsp  \\\n",
       "0    2021-04-02 07:15:00    None            None          1000  ...  11.08   \n",
       "1    2021-04-02 07:15:00    None            None          1000  ...   5.41   \n",
       "2    2021-04-02 07:15:00    None            None          1000  ...   4.73   \n",
       "3    2021-04-02 07:15:00    None            None          1000  ...   7.35   \n",
       "4    2021-04-02 07:15:00    None            None          1000  ...   4.97   \n",
       "..                   ...     ...             ...           ...  ...    ...   \n",
       "219  2021-06-26 05:37:00    None            None          1200  ...  18.31   \n",
       "220  2021-06-26 05:37:00    None            None          1200  ...  42.00   \n",
       "221  2021-06-26 05:37:00    None            None          1200  ...  29.91   \n",
       "222  2021-06-26 05:37:00    None            None          1200  ...   6.60   \n",
       "223  2021-06-26 05:37:00    None            None          1200  ...   5.74   \n",
       "\n",
       "      ltp  traded_vol  inplay_min_lay distance_group barrier_group  back_npl  \\\n",
       "0    11.5        4302            8.80         sprint     mid_field   -1.0000   \n",
       "1     5.4       22583            5.00         sprint       outside   -1.0000   \n",
       "2     4.6       33321            1.01         sprint        inside    3.5435   \n",
       "3     7.2        9892            7.00         sprint     mid_field   -1.0000   \n",
       "4     4.9       15590            4.80         sprint       outside   -1.0000   \n",
       "..    ...         ...             ...            ...           ...       ...   \n",
       "219  19.5        4171           19.50      mid_short       outside   -1.0000   \n",
       "220  40.0        1118           44.00      mid_short     mid_field   -1.0000   \n",
       "221  30.0        1090            9.60      mid_short     mid_field   -1.0000   \n",
       "222   6.4       14863            1.01      mid_short       outside    5.3200   \n",
       "223   5.9       10696            3.75      mid_short     mid_field   -1.0000   \n",
       "\n",
       "     lay_npl   npl  stake  \n",
       "0       0.95  0.95      1  \n",
       "1       0.95  0.95      1  \n",
       "2      -3.73 -3.73      1  \n",
       "3       0.95  0.95      1  \n",
       "4       0.95  0.95      1  \n",
       "..       ...   ...    ...  \n",
       "219     0.95  0.95      1  \n",
       "220     0.95  0.95      1  \n",
       "221     0.95  0.95      1  \n",
       "222    -5.60 -5.60      1  \n",
       "223     0.95  0.95      1  \n",
       "\n",
       "[224 rows x 29 columns]"
      ],
      "text/html": [
       "<div>\n",
       "<style scoped>\n",
       "    .dataframe tbody tr th:only-of-type {\n",
       "        vertical-align: middle;\n",
       "    }\n",
       "\n",
       "    .dataframe tbody tr th {\n",
       "        vertical-align: top;\n",
       "    }\n",
       "\n",
       "    .dataframe thead th {\n",
       "        text-align: right;\n",
       "    }\n",
       "</style>\n",
       "<table border=\"1\" class=\"dataframe\">\n",
       "  <thead>\n",
       "    <tr style=\"text-align: right;\">\n",
       "      <th></th>\n",
       "      <th>date</th>\n",
       "      <th>track</th>\n",
       "      <th>country</th>\n",
       "      <th>race_type</th>\n",
       "      <th>race_number</th>\n",
       "      <th>market_id</th>\n",
       "      <th>start_time</th>\n",
       "      <th>weather</th>\n",
       "      <th>track_condition</th>\n",
       "      <th>race_distance</th>\n",
       "      <th>...</th>\n",
       "      <th>bsp</th>\n",
       "      <th>ltp</th>\n",
       "      <th>traded_vol</th>\n",
       "      <th>inplay_min_lay</th>\n",
       "      <th>distance_group</th>\n",
       "      <th>barrier_group</th>\n",
       "      <th>back_npl</th>\n",
       "      <th>lay_npl</th>\n",
       "      <th>npl</th>\n",
       "      <th>stake</th>\n",
       "    </tr>\n",
       "  </thead>\n",
       "  <tbody>\n",
       "    <tr>\n",
       "      <th>0</th>\n",
       "      <td>2021-04-02</td>\n",
       "      <td>Ascot</td>\n",
       "      <td>AUS</td>\n",
       "      <td>R</td>\n",
       "      <td>6</td>\n",
       "      <td>1.181330624</td>\n",
       "      <td>2021-04-02 07:15:00</td>\n",
       "      <td>None</td>\n",
       "      <td>None</td>\n",
       "      <td>1000</td>\n",
       "      <td>...</td>\n",
       "      <td>11.08</td>\n",
       "      <td>11.5</td>\n",
       "      <td>4302</td>\n",
       "      <td>8.80</td>\n",
       "      <td>sprint</td>\n",
       "      <td>mid_field</td>\n",
       "      <td>-1.0000</td>\n",
       "      <td>0.95</td>\n",
       "      <td>0.95</td>\n",
       "      <td>1</td>\n",
       "    </tr>\n",
       "    <tr>\n",
       "      <th>1</th>\n",
       "      <td>2021-04-02</td>\n",
       "      <td>Ascot</td>\n",
       "      <td>AUS</td>\n",
       "      <td>R</td>\n",
       "      <td>6</td>\n",
       "      <td>1.181330624</td>\n",
       "      <td>2021-04-02 07:15:00</td>\n",
       "      <td>None</td>\n",
       "      <td>None</td>\n",
       "      <td>1000</td>\n",
       "      <td>...</td>\n",
       "      <td>5.41</td>\n",
       "      <td>5.4</td>\n",
       "      <td>22583</td>\n",
       "      <td>5.00</td>\n",
       "      <td>sprint</td>\n",
       "      <td>outside</td>\n",
       "      <td>-1.0000</td>\n",
       "      <td>0.95</td>\n",
       "      <td>0.95</td>\n",
       "      <td>1</td>\n",
       "    </tr>\n",
       "    <tr>\n",
       "      <th>2</th>\n",
       "      <td>2021-04-02</td>\n",
       "      <td>Ascot</td>\n",
       "      <td>AUS</td>\n",
       "      <td>R</td>\n",
       "      <td>6</td>\n",
       "      <td>1.181330624</td>\n",
       "      <td>2021-04-02 07:15:00</td>\n",
       "      <td>None</td>\n",
       "      <td>None</td>\n",
       "      <td>1000</td>\n",
       "      <td>...</td>\n",
       "      <td>4.73</td>\n",
       "      <td>4.6</td>\n",
       "      <td>33321</td>\n",
       "      <td>1.01</td>\n",
       "      <td>sprint</td>\n",
       "      <td>inside</td>\n",
       "      <td>3.5435</td>\n",
       "      <td>-3.73</td>\n",
       "      <td>-3.73</td>\n",
       "      <td>1</td>\n",
       "    </tr>\n",
       "    <tr>\n",
       "      <th>3</th>\n",
       "      <td>2021-04-02</td>\n",
       "      <td>Ascot</td>\n",
       "      <td>AUS</td>\n",
       "      <td>R</td>\n",
       "      <td>6</td>\n",
       "      <td>1.181330624</td>\n",
       "      <td>2021-04-02 07:15:00</td>\n",
       "      <td>None</td>\n",
       "      <td>None</td>\n",
       "      <td>1000</td>\n",
       "      <td>...</td>\n",
       "      <td>7.35</td>\n",
       "      <td>7.2</td>\n",
       "      <td>9892</td>\n",
       "      <td>7.00</td>\n",
       "      <td>sprint</td>\n",
       "      <td>mid_field</td>\n",
       "      <td>-1.0000</td>\n",
       "      <td>0.95</td>\n",
       "      <td>0.95</td>\n",
       "      <td>1</td>\n",
       "    </tr>\n",
       "    <tr>\n",
       "      <th>4</th>\n",
       "      <td>2021-04-02</td>\n",
       "      <td>Ascot</td>\n",
       "      <td>AUS</td>\n",
       "      <td>R</td>\n",
       "      <td>6</td>\n",
       "      <td>1.181330624</td>\n",
       "      <td>2021-04-02 07:15:00</td>\n",
       "      <td>None</td>\n",
       "      <td>None</td>\n",
       "      <td>1000</td>\n",
       "      <td>...</td>\n",
       "      <td>4.97</td>\n",
       "      <td>4.9</td>\n",
       "      <td>15590</td>\n",
       "      <td>4.80</td>\n",
       "      <td>sprint</td>\n",
       "      <td>outside</td>\n",
       "      <td>-1.0000</td>\n",
       "      <td>0.95</td>\n",
       "      <td>0.95</td>\n",
       "      <td>1</td>\n",
       "    </tr>\n",
       "    <tr>\n",
       "      <th>...</th>\n",
       "      <td>...</td>\n",
       "      <td>...</td>\n",
       "      <td>...</td>\n",
       "      <td>...</td>\n",
       "      <td>...</td>\n",
       "      <td>...</td>\n",
       "      <td>...</td>\n",
       "      <td>...</td>\n",
       "      <td>...</td>\n",
       "      <td>...</td>\n",
       "      <td>...</td>\n",
       "      <td>...</td>\n",
       "      <td>...</td>\n",
       "      <td>...</td>\n",
       "      <td>...</td>\n",
       "      <td>...</td>\n",
       "      <td>...</td>\n",
       "      <td>...</td>\n",
       "      <td>...</td>\n",
       "      <td>...</td>\n",
       "      <td>...</td>\n",
       "    </tr>\n",
       "    <tr>\n",
       "      <th>219</th>\n",
       "      <td>2021-06-26</td>\n",
       "      <td>Darwin</td>\n",
       "      <td>AUS</td>\n",
       "      <td>R</td>\n",
       "      <td>3</td>\n",
       "      <td>1.184733965</td>\n",
       "      <td>2021-06-26 05:37:00</td>\n",
       "      <td>None</td>\n",
       "      <td>None</td>\n",
       "      <td>1200</td>\n",
       "      <td>...</td>\n",
       "      <td>18.31</td>\n",
       "      <td>19.5</td>\n",
       "      <td>4171</td>\n",
       "      <td>19.50</td>\n",
       "      <td>mid_short</td>\n",
       "      <td>outside</td>\n",
       "      <td>-1.0000</td>\n",
       "      <td>0.95</td>\n",
       "      <td>0.95</td>\n",
       "      <td>1</td>\n",
       "    </tr>\n",
       "    <tr>\n",
       "      <th>220</th>\n",
       "      <td>2021-06-26</td>\n",
       "      <td>Darwin</td>\n",
       "      <td>AUS</td>\n",
       "      <td>R</td>\n",
       "      <td>3</td>\n",
       "      <td>1.184733965</td>\n",
       "      <td>2021-06-26 05:37:00</td>\n",
       "      <td>None</td>\n",
       "      <td>None</td>\n",
       "      <td>1200</td>\n",
       "      <td>...</td>\n",
       "      <td>42.00</td>\n",
       "      <td>40.0</td>\n",
       "      <td>1118</td>\n",
       "      <td>44.00</td>\n",
       "      <td>mid_short</td>\n",
       "      <td>mid_field</td>\n",
       "      <td>-1.0000</td>\n",
       "      <td>0.95</td>\n",
       "      <td>0.95</td>\n",
       "      <td>1</td>\n",
       "    </tr>\n",
       "    <tr>\n",
       "      <th>221</th>\n",
       "      <td>2021-06-26</td>\n",
       "      <td>Darwin</td>\n",
       "      <td>AUS</td>\n",
       "      <td>R</td>\n",
       "      <td>3</td>\n",
       "      <td>1.184733965</td>\n",
       "      <td>2021-06-26 05:37:00</td>\n",
       "      <td>None</td>\n",
       "      <td>None</td>\n",
       "      <td>1200</td>\n",
       "      <td>...</td>\n",
       "      <td>29.91</td>\n",
       "      <td>30.0</td>\n",
       "      <td>1090</td>\n",
       "      <td>9.60</td>\n",
       "      <td>mid_short</td>\n",
       "      <td>mid_field</td>\n",
       "      <td>-1.0000</td>\n",
       "      <td>0.95</td>\n",
       "      <td>0.95</td>\n",
       "      <td>1</td>\n",
       "    </tr>\n",
       "    <tr>\n",
       "      <th>222</th>\n",
       "      <td>2021-06-26</td>\n",
       "      <td>Darwin</td>\n",
       "      <td>AUS</td>\n",
       "      <td>R</td>\n",
       "      <td>3</td>\n",
       "      <td>1.184733965</td>\n",
       "      <td>2021-06-26 05:37:00</td>\n",
       "      <td>None</td>\n",
       "      <td>None</td>\n",
       "      <td>1200</td>\n",
       "      <td>...</td>\n",
       "      <td>6.60</td>\n",
       "      <td>6.4</td>\n",
       "      <td>14863</td>\n",
       "      <td>1.01</td>\n",
       "      <td>mid_short</td>\n",
       "      <td>outside</td>\n",
       "      <td>5.3200</td>\n",
       "      <td>-5.60</td>\n",
       "      <td>-5.60</td>\n",
       "      <td>1</td>\n",
       "    </tr>\n",
       "    <tr>\n",
       "      <th>223</th>\n",
       "      <td>2021-06-26</td>\n",
       "      <td>Darwin</td>\n",
       "      <td>AUS</td>\n",
       "      <td>R</td>\n",
       "      <td>3</td>\n",
       "      <td>1.184733965</td>\n",
       "      <td>2021-06-26 05:37:00</td>\n",
       "      <td>None</td>\n",
       "      <td>None</td>\n",
       "      <td>1200</td>\n",
       "      <td>...</td>\n",
       "      <td>5.74</td>\n",
       "      <td>5.9</td>\n",
       "      <td>10696</td>\n",
       "      <td>3.75</td>\n",
       "      <td>mid_short</td>\n",
       "      <td>mid_field</td>\n",
       "      <td>-1.0000</td>\n",
       "      <td>0.95</td>\n",
       "      <td>0.95</td>\n",
       "      <td>1</td>\n",
       "    </tr>\n",
       "  </tbody>\n",
       "</table>\n",
       "<p>224 rows × 29 columns</p>\n",
       "</div>"
      ]
     },
     "metadata": {},
     "execution_count": 44
    }
   ],
   "metadata": {}
  },
  {
   "cell_type": "code",
   "execution_count": 45,
   "source": [
    "def bet_eval_metrics(d, side = False):\n",
    "\n",
    "    if side:\n",
    "        metrics = (d\n",
    "         .groupby('bet_side', as_index=False)\n",
    "         .agg({\"npl\": \"sum\", \"stake\": \"sum\"})\n",
    "         .assign(pot=lambda x: x['npl'] / x['stake'])\n",
    "        )\n",
    "    else:\n",
    "        metrics = pd.DataFrame(d\n",
    "         .agg({\"npl\": \"sum\", \"stake\": \"sum\"})\n",
    "        ).transpose().assign(pot=lambda x: x['npl'] / x['stake'])\n",
    "\n",
    "    return(metrics[metrics['stake'] != 0])\n",
    "\n",
    "def bet_eval_chart_cPl(d):\n",
    "\n",
    "    d = (\n",
    "        d\n",
    "        .groupby('market_id')\n",
    "        .agg({'npl': 'sum'})\n",
    "    )\n",
    "\n",
    "    d['market_number'] = np.arange(len(d))\n",
    "    d['cNpl'] = d.npl.cumsum()\n",
    "\n",
    "    chart = px.line(d, x=\"market_number\", y=\"cNpl\", title='Cumulative Net Profit', template='simple_white')\n",
    "\n",
    "    return(chart)\n"
   ],
   "outputs": [],
   "metadata": {}
  },
  {
   "cell_type": "code",
   "execution_count": 46,
   "source": [
    "bet_eval_metrics(testSetTopLay)\n"
   ],
   "outputs": [
    {
     "output_type": "execute_result",
     "data": {
      "text/plain": [
       "     npl  stake       pot\n",
       "0  18.44  224.0  0.082321"
      ],
      "text/html": [
       "<div>\n",
       "<style scoped>\n",
       "    .dataframe tbody tr th:only-of-type {\n",
       "        vertical-align: middle;\n",
       "    }\n",
       "\n",
       "    .dataframe tbody tr th {\n",
       "        vertical-align: top;\n",
       "    }\n",
       "\n",
       "    .dataframe thead th {\n",
       "        text-align: right;\n",
       "    }\n",
       "</style>\n",
       "<table border=\"1\" class=\"dataframe\">\n",
       "  <thead>\n",
       "    <tr style=\"text-align: right;\">\n",
       "      <th></th>\n",
       "      <th>npl</th>\n",
       "      <th>stake</th>\n",
       "      <th>pot</th>\n",
       "    </tr>\n",
       "  </thead>\n",
       "  <tbody>\n",
       "    <tr>\n",
       "      <th>0</th>\n",
       "      <td>18.44</td>\n",
       "      <td>224.0</td>\n",
       "      <td>0.082321</td>\n",
       "    </tr>\n",
       "  </tbody>\n",
       "</table>\n",
       "</div>"
      ]
     },
     "metadata": {},
     "execution_count": 46
    }
   ],
   "metadata": {}
  },
  {
   "cell_type": "code",
   "execution_count": 49,
   "source": [
    "# Entire Period Cumulative PL\n",
    "\n",
    "d = (\n",
    "    df_test\n",
    "    .merge(layBest[['track', 'race_distance']])\n",
    "    .assign(npl=lambda x: x['lay_npl'])\n",
    "    .assign(stake=1)\n",
    "    .groupby(['date'], as_index=False)\n",
    "    .agg({'npl': 'sum'})\n",
    ")    \n",
    "\n",
    "\n",
    "d['cNpl'] = d.npl.cumsum()\n",
    "\n",
    "chart = px.line(d, x=\"date\", y=\"cNpl\", title='Cumulative Net Profit', template='simple_white')\n",
    "\n",
    "chart\n"
   ],
   "outputs": [
    {
     "output_type": "display_data",
     "data": {
      "application/vnd.plotly.v1+json": {
       "config": {
        "plotlyServerURL": "https://plot.ly"
       },
       "data": [
        {
         "hovertemplate": "date=%{x}<br>cNpl=%{y}<extra></extra>",
         "legendgroup": "",
         "line": {
          "color": "#1F77B4",
          "dash": "solid"
         },
         "mode": "lines",
         "name": "",
         "orientation": "v",
         "showlegend": false,
         "type": "scatter",
         "x": [
          "2021-04-02",
          "2021-04-09",
          "2021-04-14",
          "2021-04-17",
          "2021-04-21",
          "2021-04-24",
          "2021-04-28",
          "2021-05-01",
          "2021-05-08",
          "2021-05-12",
          "2021-05-15",
          "2021-05-22",
          "2021-05-29",
          "2021-06-12",
          "2021-06-19",
          "2021-06-26"
         ],
         "xaxis": "x",
         "y": [
          4.819999999999999,
          5.439999999999998,
          9.339999999999996,
          16.709999999999994,
          18.789999999999992,
          15.839999999999991,
          24.429999999999993,
          31.039999999999992,
          33.67999999999999,
          38.769999999999996,
          42.03999999999999,
          42.489999999999995,
          19.489999999999995,
          4.909999999999995,
          9.339999999999995,
          18.439999999999994
         ],
         "yaxis": "y"
        }
       ],
       "layout": {
        "legend": {
         "tracegroupgap": 0
        },
        "template": {
         "data": {
          "bar": [
           {
            "error_x": {
             "color": "rgb(36,36,36)"
            },
            "error_y": {
             "color": "rgb(36,36,36)"
            },
            "marker": {
             "line": {
              "color": "white",
              "width": 0.5
             },
             "pattern": {
              "fillmode": "overlay",
              "size": 10,
              "solidity": 0.2
             }
            },
            "type": "bar"
           }
          ],
          "barpolar": [
           {
            "marker": {
             "line": {
              "color": "white",
              "width": 0.5
             },
             "pattern": {
              "fillmode": "overlay",
              "size": 10,
              "solidity": 0.2
             }
            },
            "type": "barpolar"
           }
          ],
          "carpet": [
           {
            "aaxis": {
             "endlinecolor": "rgb(36,36,36)",
             "gridcolor": "white",
             "linecolor": "white",
             "minorgridcolor": "white",
             "startlinecolor": "rgb(36,36,36)"
            },
            "baxis": {
             "endlinecolor": "rgb(36,36,36)",
             "gridcolor": "white",
             "linecolor": "white",
             "minorgridcolor": "white",
             "startlinecolor": "rgb(36,36,36)"
            },
            "type": "carpet"
           }
          ],
          "choropleth": [
           {
            "colorbar": {
             "outlinewidth": 1,
             "tickcolor": "rgb(36,36,36)",
             "ticks": "outside"
            },
            "type": "choropleth"
           }
          ],
          "contour": [
           {
            "colorbar": {
             "outlinewidth": 1,
             "tickcolor": "rgb(36,36,36)",
             "ticks": "outside"
            },
            "colorscale": [
             [
              0,
              "#440154"
             ],
             [
              0.1111111111111111,
              "#482878"
             ],
             [
              0.2222222222222222,
              "#3e4989"
             ],
             [
              0.3333333333333333,
              "#31688e"
             ],
             [
              0.4444444444444444,
              "#26828e"
             ],
             [
              0.5555555555555556,
              "#1f9e89"
             ],
             [
              0.6666666666666666,
              "#35b779"
             ],
             [
              0.7777777777777778,
              "#6ece58"
             ],
             [
              0.8888888888888888,
              "#b5de2b"
             ],
             [
              1,
              "#fde725"
             ]
            ],
            "type": "contour"
           }
          ],
          "contourcarpet": [
           {
            "colorbar": {
             "outlinewidth": 1,
             "tickcolor": "rgb(36,36,36)",
             "ticks": "outside"
            },
            "type": "contourcarpet"
           }
          ],
          "heatmap": [
           {
            "colorbar": {
             "outlinewidth": 1,
             "tickcolor": "rgb(36,36,36)",
             "ticks": "outside"
            },
            "colorscale": [
             [
              0,
              "#440154"
             ],
             [
              0.1111111111111111,
              "#482878"
             ],
             [
              0.2222222222222222,
              "#3e4989"
             ],
             [
              0.3333333333333333,
              "#31688e"
             ],
             [
              0.4444444444444444,
              "#26828e"
             ],
             [
              0.5555555555555556,
              "#1f9e89"
             ],
             [
              0.6666666666666666,
              "#35b779"
             ],
             [
              0.7777777777777778,
              "#6ece58"
             ],
             [
              0.8888888888888888,
              "#b5de2b"
             ],
             [
              1,
              "#fde725"
             ]
            ],
            "type": "heatmap"
           }
          ],
          "heatmapgl": [
           {
            "colorbar": {
             "outlinewidth": 1,
             "tickcolor": "rgb(36,36,36)",
             "ticks": "outside"
            },
            "colorscale": [
             [
              0,
              "#440154"
             ],
             [
              0.1111111111111111,
              "#482878"
             ],
             [
              0.2222222222222222,
              "#3e4989"
             ],
             [
              0.3333333333333333,
              "#31688e"
             ],
             [
              0.4444444444444444,
              "#26828e"
             ],
             [
              0.5555555555555556,
              "#1f9e89"
             ],
             [
              0.6666666666666666,
              "#35b779"
             ],
             [
              0.7777777777777778,
              "#6ece58"
             ],
             [
              0.8888888888888888,
              "#b5de2b"
             ],
             [
              1,
              "#fde725"
             ]
            ],
            "type": "heatmapgl"
           }
          ],
          "histogram": [
           {
            "marker": {
             "line": {
              "color": "white",
              "width": 0.6
             }
            },
            "type": "histogram"
           }
          ],
          "histogram2d": [
           {
            "colorbar": {
             "outlinewidth": 1,
             "tickcolor": "rgb(36,36,36)",
             "ticks": "outside"
            },
            "colorscale": [
             [
              0,
              "#440154"
             ],
             [
              0.1111111111111111,
              "#482878"
             ],
             [
              0.2222222222222222,
              "#3e4989"
             ],
             [
              0.3333333333333333,
              "#31688e"
             ],
             [
              0.4444444444444444,
              "#26828e"
             ],
             [
              0.5555555555555556,
              "#1f9e89"
             ],
             [
              0.6666666666666666,
              "#35b779"
             ],
             [
              0.7777777777777778,
              "#6ece58"
             ],
             [
              0.8888888888888888,
              "#b5de2b"
             ],
             [
              1,
              "#fde725"
             ]
            ],
            "type": "histogram2d"
           }
          ],
          "histogram2dcontour": [
           {
            "colorbar": {
             "outlinewidth": 1,
             "tickcolor": "rgb(36,36,36)",
             "ticks": "outside"
            },
            "colorscale": [
             [
              0,
              "#440154"
             ],
             [
              0.1111111111111111,
              "#482878"
             ],
             [
              0.2222222222222222,
              "#3e4989"
             ],
             [
              0.3333333333333333,
              "#31688e"
             ],
             [
              0.4444444444444444,
              "#26828e"
             ],
             [
              0.5555555555555556,
              "#1f9e89"
             ],
             [
              0.6666666666666666,
              "#35b779"
             ],
             [
              0.7777777777777778,
              "#6ece58"
             ],
             [
              0.8888888888888888,
              "#b5de2b"
             ],
             [
              1,
              "#fde725"
             ]
            ],
            "type": "histogram2dcontour"
           }
          ],
          "mesh3d": [
           {
            "colorbar": {
             "outlinewidth": 1,
             "tickcolor": "rgb(36,36,36)",
             "ticks": "outside"
            },
            "type": "mesh3d"
           }
          ],
          "parcoords": [
           {
            "line": {
             "colorbar": {
              "outlinewidth": 1,
              "tickcolor": "rgb(36,36,36)",
              "ticks": "outside"
             }
            },
            "type": "parcoords"
           }
          ],
          "pie": [
           {
            "automargin": true,
            "type": "pie"
           }
          ],
          "scatter": [
           {
            "marker": {
             "colorbar": {
              "outlinewidth": 1,
              "tickcolor": "rgb(36,36,36)",
              "ticks": "outside"
             }
            },
            "type": "scatter"
           }
          ],
          "scatter3d": [
           {
            "line": {
             "colorbar": {
              "outlinewidth": 1,
              "tickcolor": "rgb(36,36,36)",
              "ticks": "outside"
             }
            },
            "marker": {
             "colorbar": {
              "outlinewidth": 1,
              "tickcolor": "rgb(36,36,36)",
              "ticks": "outside"
             }
            },
            "type": "scatter3d"
           }
          ],
          "scattercarpet": [
           {
            "marker": {
             "colorbar": {
              "outlinewidth": 1,
              "tickcolor": "rgb(36,36,36)",
              "ticks": "outside"
             }
            },
            "type": "scattercarpet"
           }
          ],
          "scattergeo": [
           {
            "marker": {
             "colorbar": {
              "outlinewidth": 1,
              "tickcolor": "rgb(36,36,36)",
              "ticks": "outside"
             }
            },
            "type": "scattergeo"
           }
          ],
          "scattergl": [
           {
            "marker": {
             "colorbar": {
              "outlinewidth": 1,
              "tickcolor": "rgb(36,36,36)",
              "ticks": "outside"
             }
            },
            "type": "scattergl"
           }
          ],
          "scattermapbox": [
           {
            "marker": {
             "colorbar": {
              "outlinewidth": 1,
              "tickcolor": "rgb(36,36,36)",
              "ticks": "outside"
             }
            },
            "type": "scattermapbox"
           }
          ],
          "scatterpolar": [
           {
            "marker": {
             "colorbar": {
              "outlinewidth": 1,
              "tickcolor": "rgb(36,36,36)",
              "ticks": "outside"
             }
            },
            "type": "scatterpolar"
           }
          ],
          "scatterpolargl": [
           {
            "marker": {
             "colorbar": {
              "outlinewidth": 1,
              "tickcolor": "rgb(36,36,36)",
              "ticks": "outside"
             }
            },
            "type": "scatterpolargl"
           }
          ],
          "scatterternary": [
           {
            "marker": {
             "colorbar": {
              "outlinewidth": 1,
              "tickcolor": "rgb(36,36,36)",
              "ticks": "outside"
             }
            },
            "type": "scatterternary"
           }
          ],
          "surface": [
           {
            "colorbar": {
             "outlinewidth": 1,
             "tickcolor": "rgb(36,36,36)",
             "ticks": "outside"
            },
            "colorscale": [
             [
              0,
              "#440154"
             ],
             [
              0.1111111111111111,
              "#482878"
             ],
             [
              0.2222222222222222,
              "#3e4989"
             ],
             [
              0.3333333333333333,
              "#31688e"
             ],
             [
              0.4444444444444444,
              "#26828e"
             ],
             [
              0.5555555555555556,
              "#1f9e89"
             ],
             [
              0.6666666666666666,
              "#35b779"
             ],
             [
              0.7777777777777778,
              "#6ece58"
             ],
             [
              0.8888888888888888,
              "#b5de2b"
             ],
             [
              1,
              "#fde725"
             ]
            ],
            "type": "surface"
           }
          ],
          "table": [
           {
            "cells": {
             "fill": {
              "color": "rgb(237,237,237)"
             },
             "line": {
              "color": "white"
             }
            },
            "header": {
             "fill": {
              "color": "rgb(217,217,217)"
             },
             "line": {
              "color": "white"
             }
            },
            "type": "table"
           }
          ]
         },
         "layout": {
          "annotationdefaults": {
           "arrowhead": 0,
           "arrowwidth": 1
          },
          "autotypenumbers": "strict",
          "coloraxis": {
           "colorbar": {
            "outlinewidth": 1,
            "tickcolor": "rgb(36,36,36)",
            "ticks": "outside"
           }
          },
          "colorscale": {
           "diverging": [
            [
             0,
             "rgb(103,0,31)"
            ],
            [
             0.1,
             "rgb(178,24,43)"
            ],
            [
             0.2,
             "rgb(214,96,77)"
            ],
            [
             0.3,
             "rgb(244,165,130)"
            ],
            [
             0.4,
             "rgb(253,219,199)"
            ],
            [
             0.5,
             "rgb(247,247,247)"
            ],
            [
             0.6,
             "rgb(209,229,240)"
            ],
            [
             0.7,
             "rgb(146,197,222)"
            ],
            [
             0.8,
             "rgb(67,147,195)"
            ],
            [
             0.9,
             "rgb(33,102,172)"
            ],
            [
             1,
             "rgb(5,48,97)"
            ]
           ],
           "sequential": [
            [
             0,
             "#440154"
            ],
            [
             0.1111111111111111,
             "#482878"
            ],
            [
             0.2222222222222222,
             "#3e4989"
            ],
            [
             0.3333333333333333,
             "#31688e"
            ],
            [
             0.4444444444444444,
             "#26828e"
            ],
            [
             0.5555555555555556,
             "#1f9e89"
            ],
            [
             0.6666666666666666,
             "#35b779"
            ],
            [
             0.7777777777777778,
             "#6ece58"
            ],
            [
             0.8888888888888888,
             "#b5de2b"
            ],
            [
             1,
             "#fde725"
            ]
           ],
           "sequentialminus": [
            [
             0,
             "#440154"
            ],
            [
             0.1111111111111111,
             "#482878"
            ],
            [
             0.2222222222222222,
             "#3e4989"
            ],
            [
             0.3333333333333333,
             "#31688e"
            ],
            [
             0.4444444444444444,
             "#26828e"
            ],
            [
             0.5555555555555556,
             "#1f9e89"
            ],
            [
             0.6666666666666666,
             "#35b779"
            ],
            [
             0.7777777777777778,
             "#6ece58"
            ],
            [
             0.8888888888888888,
             "#b5de2b"
            ],
            [
             1,
             "#fde725"
            ]
           ]
          },
          "colorway": [
           "#1F77B4",
           "#FF7F0E",
           "#2CA02C",
           "#D62728",
           "#9467BD",
           "#8C564B",
           "#E377C2",
           "#7F7F7F",
           "#BCBD22",
           "#17BECF"
          ],
          "font": {
           "color": "rgb(36,36,36)"
          },
          "geo": {
           "bgcolor": "white",
           "lakecolor": "white",
           "landcolor": "white",
           "showlakes": true,
           "showland": true,
           "subunitcolor": "white"
          },
          "hoverlabel": {
           "align": "left"
          },
          "hovermode": "closest",
          "mapbox": {
           "style": "light"
          },
          "paper_bgcolor": "white",
          "plot_bgcolor": "white",
          "polar": {
           "angularaxis": {
            "gridcolor": "rgb(232,232,232)",
            "linecolor": "rgb(36,36,36)",
            "showgrid": false,
            "showline": true,
            "ticks": "outside"
           },
           "bgcolor": "white",
           "radialaxis": {
            "gridcolor": "rgb(232,232,232)",
            "linecolor": "rgb(36,36,36)",
            "showgrid": false,
            "showline": true,
            "ticks": "outside"
           }
          },
          "scene": {
           "xaxis": {
            "backgroundcolor": "white",
            "gridcolor": "rgb(232,232,232)",
            "gridwidth": 2,
            "linecolor": "rgb(36,36,36)",
            "showbackground": true,
            "showgrid": false,
            "showline": true,
            "ticks": "outside",
            "zeroline": false,
            "zerolinecolor": "rgb(36,36,36)"
           },
           "yaxis": {
            "backgroundcolor": "white",
            "gridcolor": "rgb(232,232,232)",
            "gridwidth": 2,
            "linecolor": "rgb(36,36,36)",
            "showbackground": true,
            "showgrid": false,
            "showline": true,
            "ticks": "outside",
            "zeroline": false,
            "zerolinecolor": "rgb(36,36,36)"
           },
           "zaxis": {
            "backgroundcolor": "white",
            "gridcolor": "rgb(232,232,232)",
            "gridwidth": 2,
            "linecolor": "rgb(36,36,36)",
            "showbackground": true,
            "showgrid": false,
            "showline": true,
            "ticks": "outside",
            "zeroline": false,
            "zerolinecolor": "rgb(36,36,36)"
           }
          },
          "shapedefaults": {
           "fillcolor": "black",
           "line": {
            "width": 0
           },
           "opacity": 0.3
          },
          "ternary": {
           "aaxis": {
            "gridcolor": "rgb(232,232,232)",
            "linecolor": "rgb(36,36,36)",
            "showgrid": false,
            "showline": true,
            "ticks": "outside"
           },
           "baxis": {
            "gridcolor": "rgb(232,232,232)",
            "linecolor": "rgb(36,36,36)",
            "showgrid": false,
            "showline": true,
            "ticks": "outside"
           },
           "bgcolor": "white",
           "caxis": {
            "gridcolor": "rgb(232,232,232)",
            "linecolor": "rgb(36,36,36)",
            "showgrid": false,
            "showline": true,
            "ticks": "outside"
           }
          },
          "title": {
           "x": 0.05
          },
          "xaxis": {
           "automargin": true,
           "gridcolor": "rgb(232,232,232)",
           "linecolor": "rgb(36,36,36)",
           "showgrid": false,
           "showline": true,
           "ticks": "outside",
           "title": {
            "standoff": 15
           },
           "zeroline": false,
           "zerolinecolor": "rgb(36,36,36)"
          },
          "yaxis": {
           "automargin": true,
           "gridcolor": "rgb(232,232,232)",
           "linecolor": "rgb(36,36,36)",
           "showgrid": false,
           "showline": true,
           "ticks": "outside",
           "title": {
            "standoff": 15
           },
           "zeroline": false,
           "zerolinecolor": "rgb(36,36,36)"
          }
         }
        },
        "title": {
         "text": "Cumulative Net Profit"
        },
        "xaxis": {
         "anchor": "y",
         "domain": [
          0,
          1
         ],
         "title": {
          "text": "date"
         }
        },
        "yaxis": {
         "anchor": "x",
         "domain": [
          0,
          1
         ],
         "title": {
          "text": "cNpl"
         }
        }
       }
      }
     },
     "metadata": {}
    }
   ],
   "metadata": {}
  },
  {
   "cell_type": "markdown",
   "source": [
    "# Medium\n",
    "\n",
    "Are Certain Jockeys or Trainers predictable shorteners or overbet?\n",
    "\n",
    "- Predictable shorteners (hypothesise based on 5min WAP vs 30sec WAP)\n",
    "- Overbet (look at PL stat sig of lay price 30s out)"
   ],
   "metadata": {}
  },
  {
   "cell_type": "code",
   "execution_count": 50,
   "source": [
    "# Jockey Shortening Rates\n",
    "\n",
    "(\n",
    "    df_train\n",
    "    .assign(market_support=lambda x: x['wap_5m'] / x['wap_30s'])\n",
    "    .assign(races=1)\n",
    "    .groupby('jockey')\n",
    "    .agg({'market_support': 'mean', 'races': 'count'})\n",
    "    .query('races > 10')\n",
    "    .sort_values('market_support', ascending = False)\n",
    ")\n"
   ],
   "outputs": [
    {
     "output_type": "execute_result",
     "data": {
      "text/plain": [
       "                  market_support  races\n",
       "jockey                                 \n",
       "Scott Sheargold         1.133095    192\n",
       "Lorelle Crow            1.056582    106\n",
       "Chris Mc Carthy         1.051022     26\n",
       "Anthony Darmanin        1.048931    142\n",
       "James Winks             1.048893     12\n",
       "...                          ...    ...\n",
       "Cyril Small             0.731661     16\n",
       "A Kajiya                0.720798     21\n",
       "J Luxe                  0.710535     11\n",
       "R Mangan                0.710411     11\n",
       "D Mc Whinney            0.686097     27\n",
       "\n",
       "[567 rows x 2 columns]"
      ],
      "text/html": [
       "<div>\n",
       "<style scoped>\n",
       "    .dataframe tbody tr th:only-of-type {\n",
       "        vertical-align: middle;\n",
       "    }\n",
       "\n",
       "    .dataframe tbody tr th {\n",
       "        vertical-align: top;\n",
       "    }\n",
       "\n",
       "    .dataframe thead th {\n",
       "        text-align: right;\n",
       "    }\n",
       "</style>\n",
       "<table border=\"1\" class=\"dataframe\">\n",
       "  <thead>\n",
       "    <tr style=\"text-align: right;\">\n",
       "      <th></th>\n",
       "      <th>market_support</th>\n",
       "      <th>races</th>\n",
       "    </tr>\n",
       "    <tr>\n",
       "      <th>jockey</th>\n",
       "      <th></th>\n",
       "      <th></th>\n",
       "    </tr>\n",
       "  </thead>\n",
       "  <tbody>\n",
       "    <tr>\n",
       "      <th>Scott Sheargold</th>\n",
       "      <td>1.133095</td>\n",
       "      <td>192</td>\n",
       "    </tr>\n",
       "    <tr>\n",
       "      <th>Lorelle Crow</th>\n",
       "      <td>1.056582</td>\n",
       "      <td>106</td>\n",
       "    </tr>\n",
       "    <tr>\n",
       "      <th>Chris Mc Carthy</th>\n",
       "      <td>1.051022</td>\n",
       "      <td>26</td>\n",
       "    </tr>\n",
       "    <tr>\n",
       "      <th>Anthony Darmanin</th>\n",
       "      <td>1.048931</td>\n",
       "      <td>142</td>\n",
       "    </tr>\n",
       "    <tr>\n",
       "      <th>James Winks</th>\n",
       "      <td>1.048893</td>\n",
       "      <td>12</td>\n",
       "    </tr>\n",
       "    <tr>\n",
       "      <th>...</th>\n",
       "      <td>...</td>\n",
       "      <td>...</td>\n",
       "    </tr>\n",
       "    <tr>\n",
       "      <th>Cyril Small</th>\n",
       "      <td>0.731661</td>\n",
       "      <td>16</td>\n",
       "    </tr>\n",
       "    <tr>\n",
       "      <th>A Kajiya</th>\n",
       "      <td>0.720798</td>\n",
       "      <td>21</td>\n",
       "    </tr>\n",
       "    <tr>\n",
       "      <th>J Luxe</th>\n",
       "      <td>0.710535</td>\n",
       "      <td>11</td>\n",
       "    </tr>\n",
       "    <tr>\n",
       "      <th>R Mangan</th>\n",
       "      <td>0.710411</td>\n",
       "      <td>11</td>\n",
       "    </tr>\n",
       "    <tr>\n",
       "      <th>D Mc Whinney</th>\n",
       "      <td>0.686097</td>\n",
       "      <td>27</td>\n",
       "    </tr>\n",
       "  </tbody>\n",
       "</table>\n",
       "<p>567 rows × 2 columns</p>\n",
       "</div>"
      ]
     },
     "metadata": {},
     "execution_count": 50
    }
   ],
   "metadata": {}
  },
  {
   "cell_type": "code",
   "execution_count": 66,
   "source": [
    "# Group By Jockey and Market Support\n",
    "jockeys = (\n",
    "    df_train\n",
    "    .assign(stake = 1)\n",
    "    .assign(odds = lambda x: x['bsp'])\n",
    "    .assign(npl=lambda x: np.where(x['place'] == 1, 0.95 * (x['odds']-1), -1))\n",
    "    .assign(market_support=lambda x: np.where(x['wap_5m'] > x['wap_30s'], \"Y\", \"N\"))\n",
    "    .groupby(['jockey', 'market_support'], as_index=False)\n",
    "    .agg({'odds': 'mean', 'stake': 'sum', 'npl': 'sum'})\n",
    "    .assign(pValue = lambda x: pl_pValue(number_bets = x['stake'], npl = x['npl'], stake = x['stake'], average_odds = x['odds']))\n",
    ")\n",
    "\n",
    "jockeys.sort_values('pValue').query('npl > 0').head(10)\n"
   ],
   "outputs": [
    {
     "output_type": "execute_result",
     "data": {
      "text/plain": [
       "                jockey market_support       odds  stake       npl    pValue\n",
       "624         K Jennings              Y  18.106118     85  178.6955  0.005643\n",
       "496        Jade Darose              Y  87.343333     39  579.4265  0.008942\n",
       "263  Clayton Gallagher              Y  24.225338    148  226.7145  0.012994\n",
       "906      Ms T Harrison              Y  27.944125    160  241.3065  0.018095\n",
       "615   Justin P Stanley              N  13.084502    231  155.7305  0.019913\n",
       "802        Michael Dee              N  36.338213    263  299.7255  0.031634\n",
       "753  Madeleine Wishart              Y  25.249872     78  156.5065  0.033329\n",
       "433  Hannah Fitzgerald              Y  32.171944     72  170.1830  0.045334\n",
       "937       Nick Heywood              N  17.172857     98  111.8905  0.049176\n",
       "745          M Pateman              N  22.690808    260  189.2050  0.052283"
      ],
      "text/html": [
       "<div>\n",
       "<style scoped>\n",
       "    .dataframe tbody tr th:only-of-type {\n",
       "        vertical-align: middle;\n",
       "    }\n",
       "\n",
       "    .dataframe tbody tr th {\n",
       "        vertical-align: top;\n",
       "    }\n",
       "\n",
       "    .dataframe thead th {\n",
       "        text-align: right;\n",
       "    }\n",
       "</style>\n",
       "<table border=\"1\" class=\"dataframe\">\n",
       "  <thead>\n",
       "    <tr style=\"text-align: right;\">\n",
       "      <th></th>\n",
       "      <th>jockey</th>\n",
       "      <th>market_support</th>\n",
       "      <th>odds</th>\n",
       "      <th>stake</th>\n",
       "      <th>npl</th>\n",
       "      <th>pValue</th>\n",
       "    </tr>\n",
       "  </thead>\n",
       "  <tbody>\n",
       "    <tr>\n",
       "      <th>624</th>\n",
       "      <td>K Jennings</td>\n",
       "      <td>Y</td>\n",
       "      <td>18.106118</td>\n",
       "      <td>85</td>\n",
       "      <td>178.6955</td>\n",
       "      <td>0.005643</td>\n",
       "    </tr>\n",
       "    <tr>\n",
       "      <th>496</th>\n",
       "      <td>Jade Darose</td>\n",
       "      <td>Y</td>\n",
       "      <td>87.343333</td>\n",
       "      <td>39</td>\n",
       "      <td>579.4265</td>\n",
       "      <td>0.008942</td>\n",
       "    </tr>\n",
       "    <tr>\n",
       "      <th>263</th>\n",
       "      <td>Clayton Gallagher</td>\n",
       "      <td>Y</td>\n",
       "      <td>24.225338</td>\n",
       "      <td>148</td>\n",
       "      <td>226.7145</td>\n",
       "      <td>0.012994</td>\n",
       "    </tr>\n",
       "    <tr>\n",
       "      <th>906</th>\n",
       "      <td>Ms T Harrison</td>\n",
       "      <td>Y</td>\n",
       "      <td>27.944125</td>\n",
       "      <td>160</td>\n",
       "      <td>241.3065</td>\n",
       "      <td>0.018095</td>\n",
       "    </tr>\n",
       "    <tr>\n",
       "      <th>615</th>\n",
       "      <td>Justin P Stanley</td>\n",
       "      <td>N</td>\n",
       "      <td>13.084502</td>\n",
       "      <td>231</td>\n",
       "      <td>155.7305</td>\n",
       "      <td>0.019913</td>\n",
       "    </tr>\n",
       "    <tr>\n",
       "      <th>802</th>\n",
       "      <td>Michael Dee</td>\n",
       "      <td>N</td>\n",
       "      <td>36.338213</td>\n",
       "      <td>263</td>\n",
       "      <td>299.7255</td>\n",
       "      <td>0.031634</td>\n",
       "    </tr>\n",
       "    <tr>\n",
       "      <th>753</th>\n",
       "      <td>Madeleine Wishart</td>\n",
       "      <td>Y</td>\n",
       "      <td>25.249872</td>\n",
       "      <td>78</td>\n",
       "      <td>156.5065</td>\n",
       "      <td>0.033329</td>\n",
       "    </tr>\n",
       "    <tr>\n",
       "      <th>433</th>\n",
       "      <td>Hannah Fitzgerald</td>\n",
       "      <td>Y</td>\n",
       "      <td>32.171944</td>\n",
       "      <td>72</td>\n",
       "      <td>170.1830</td>\n",
       "      <td>0.045334</td>\n",
       "    </tr>\n",
       "    <tr>\n",
       "      <th>937</th>\n",
       "      <td>Nick Heywood</td>\n",
       "      <td>N</td>\n",
       "      <td>17.172857</td>\n",
       "      <td>98</td>\n",
       "      <td>111.8905</td>\n",
       "      <td>0.049176</td>\n",
       "    </tr>\n",
       "    <tr>\n",
       "      <th>745</th>\n",
       "      <td>M Pateman</td>\n",
       "      <td>N</td>\n",
       "      <td>22.690808</td>\n",
       "      <td>260</td>\n",
       "      <td>189.2050</td>\n",
       "      <td>0.052283</td>\n",
       "    </tr>\n",
       "  </tbody>\n",
       "</table>\n",
       "</div>"
      ]
     },
     "metadata": {},
     "execution_count": 66
    }
   ],
   "metadata": {}
  },
  {
   "cell_type": "code",
   "execution_count": 67,
   "source": [
    "bestJockey = (\n",
    "    df_test\n",
    "    .assign(market_support=lambda x: np.where(x['wap_5m'] > x['wap_30s'], \"Y\", \"N\"))\n",
    "    .merge(jockeys.sort_values('pValue').query('npl > 0').head(10)[['jockey', 'market_support']])\n",
    "    .assign(stake = 1)\n",
    "    .assign(odds = lambda x: x['bsp'])\n",
    "    .assign(npl=lambda x: np.where(x['place'] == 1, 0.95 * (x['odds']-1), -1))\n",
    ")\n",
    "\n",
    "bet_eval_metrics(bestJockey)\n"
   ],
   "outputs": [
    {
     "output_type": "execute_result",
     "data": {
      "text/plain": [
       "      npl  stake       pot\n",
       "0  36.329  375.0  0.096877"
      ],
      "text/html": [
       "<div>\n",
       "<style scoped>\n",
       "    .dataframe tbody tr th:only-of-type {\n",
       "        vertical-align: middle;\n",
       "    }\n",
       "\n",
       "    .dataframe tbody tr th {\n",
       "        vertical-align: top;\n",
       "    }\n",
       "\n",
       "    .dataframe thead th {\n",
       "        text-align: right;\n",
       "    }\n",
       "</style>\n",
       "<table border=\"1\" class=\"dataframe\">\n",
       "  <thead>\n",
       "    <tr style=\"text-align: right;\">\n",
       "      <th></th>\n",
       "      <th>npl</th>\n",
       "      <th>stake</th>\n",
       "      <th>pot</th>\n",
       "    </tr>\n",
       "  </thead>\n",
       "  <tbody>\n",
       "    <tr>\n",
       "      <th>0</th>\n",
       "      <td>36.329</td>\n",
       "      <td>375.0</td>\n",
       "      <td>0.096877</td>\n",
       "    </tr>\n",
       "  </tbody>\n",
       "</table>\n",
       "</div>"
      ]
     },
     "metadata": {},
     "execution_count": 67
    }
   ],
   "metadata": {}
  },
  {
   "cell_type": "code",
   "execution_count": 68,
   "source": [
    "bet_eval_chart_cPl(bestJockey)"
   ],
   "outputs": [
    {
     "output_type": "display_data",
     "data": {
      "application/vnd.plotly.v1+json": {
       "config": {
        "plotlyServerURL": "https://plot.ly"
       },
       "data": [
        {
         "hovertemplate": "market_number=%{x}<br>cNpl=%{y}<extra></extra>",
         "legendgroup": "",
         "line": {
          "color": "#1F77B4",
          "dash": "solid"
         },
         "mode": "lines",
         "name": "",
         "orientation": "v",
         "showlegend": false,
         "type": "scatter",
         "x": [
          0,
          1,
          2,
          3,
          4,
          5,
          6,
          7,
          8,
          9,
          10,
          11,
          12,
          13,
          14,
          15,
          16,
          17,
          18,
          19,
          20,
          21,
          22,
          23,
          24,
          25,
          26,
          27,
          28,
          29,
          30,
          31,
          32,
          33,
          34,
          35,
          36,
          37,
          38,
          39,
          40,
          41,
          42,
          43,
          44,
          45,
          46,
          47,
          48,
          49,
          50,
          51,
          52,
          53,
          54,
          55,
          56,
          57,
          58,
          59,
          60,
          61,
          62,
          63,
          64,
          65,
          66,
          67,
          68,
          69,
          70,
          71,
          72,
          73,
          74,
          75,
          76,
          77,
          78,
          79,
          80,
          81,
          82,
          83,
          84,
          85,
          86,
          87,
          88,
          89,
          90,
          91,
          92,
          93,
          94,
          95,
          96,
          97,
          98,
          99,
          100,
          101,
          102,
          103,
          104,
          105,
          106,
          107,
          108,
          109,
          110,
          111,
          112,
          113,
          114,
          115,
          116,
          117,
          118,
          119,
          120,
          121,
          122,
          123,
          124,
          125,
          126,
          127,
          128,
          129,
          130,
          131,
          132,
          133,
          134,
          135,
          136,
          137,
          138,
          139,
          140,
          141,
          142,
          143,
          144,
          145,
          146,
          147,
          148,
          149,
          150,
          151,
          152,
          153,
          154,
          155,
          156,
          157,
          158,
          159,
          160,
          161,
          162,
          163,
          164,
          165,
          166,
          167,
          168,
          169,
          170,
          171,
          172,
          173,
          174,
          175,
          176,
          177,
          178,
          179,
          180,
          181,
          182,
          183,
          184,
          185,
          186,
          187,
          188,
          189,
          190,
          191,
          192,
          193,
          194,
          195,
          196,
          197,
          198,
          199,
          200,
          201,
          202,
          203,
          204,
          205,
          206,
          207,
          208,
          209,
          210,
          211,
          212,
          213,
          214,
          215,
          216,
          217,
          218,
          219,
          220,
          221,
          222,
          223,
          224,
          225,
          226,
          227,
          228,
          229,
          230,
          231,
          232,
          233,
          234,
          235,
          236,
          237,
          238,
          239,
          240,
          241,
          242,
          243,
          244,
          245,
          246,
          247,
          248,
          249,
          250,
          251,
          252,
          253,
          254,
          255,
          256,
          257,
          258,
          259,
          260,
          261,
          262,
          263,
          264,
          265,
          266,
          267,
          268,
          269,
          270,
          271,
          272,
          273,
          274,
          275,
          276,
          277,
          278,
          279,
          280,
          281,
          282,
          283,
          284,
          285,
          286,
          287,
          288,
          289,
          290,
          291,
          292,
          293,
          294,
          295,
          296,
          297,
          298,
          299,
          300,
          301,
          302,
          303,
          304,
          305,
          306,
          307,
          308,
          309,
          310,
          311,
          312,
          313,
          314,
          315,
          316,
          317,
          318,
          319,
          320,
          321,
          322,
          323,
          324,
          325,
          326,
          327,
          328,
          329,
          330,
          331,
          332,
          333,
          334,
          335,
          336,
          337,
          338,
          339,
          340,
          341,
          342,
          343,
          344,
          345,
          346,
          347,
          348,
          349,
          350,
          351,
          352,
          353,
          354,
          355,
          356,
          357,
          358,
          359,
          360,
          361,
          362,
          363,
          364,
          365
         ],
         "xaxis": "x",
         "y": [
          -1,
          -2,
          -3,
          -4,
          -5,
          -6,
          -7,
          -8,
          -9,
          -10,
          -11,
          -12,
          -13,
          -14,
          -9.497,
          -10.497,
          -11.497,
          -12.497,
          -13.497,
          -14.497,
          -15.497,
          -16.497,
          -17.497,
          -18.497,
          -19.497,
          -20.497,
          -21.497,
          -22.497,
          -23.497,
          -24.497,
          -25.497,
          -26.497,
          -27.497,
          -25.806,
          -26.806,
          -27.806,
          -28.806,
          -29.806,
          3.690999999999999,
          2.690999999999999,
          1.690999999999999,
          0.690999999999999,
          -0.30900000000000105,
          -1.309000000000001,
          -2.309000000000001,
          -3.309000000000001,
          -4.309000000000001,
          -5.309000000000001,
          -6.309000000000001,
          -7.309000000000001,
          -8.309000000000001,
          -9.309000000000001,
          -10.309000000000001,
          -11.309000000000001,
          -12.309000000000001,
          -8.5945,
          -9.5945,
          -10.5945,
          -11.5945,
          -12.5945,
          -13.5945,
          -14.5945,
          -15.5945,
          -16.5945,
          -17.5945,
          -12.2745,
          -13.2745,
          -14.2745,
          -12.9065,
          -13.9065,
          -14.9065,
          -15.9065,
          -16.9065,
          -7.834000000000001,
          -8.834000000000001,
          -9.834000000000001,
          -10.834000000000001,
          -11.834000000000001,
          -12.834000000000001,
          -13.834000000000001,
          -14.834000000000001,
          -15.834000000000001,
          -16.834000000000003,
          -17.834000000000003,
          -18.834000000000003,
          -19.834000000000003,
          -20.834000000000003,
          -21.834000000000003,
          -22.834000000000003,
          -23.834000000000003,
          -24.834000000000003,
          -25.834000000000003,
          -26.834000000000003,
          -27.834000000000003,
          -28.834000000000003,
          -25.635000000000005,
          -23.421500000000005,
          -24.421500000000005,
          -25.421500000000005,
          -26.421500000000005,
          -27.421500000000005,
          -28.421500000000005,
          -29.421500000000005,
          -30.421500000000005,
          -31.421500000000005,
          -32.42150000000001,
          -33.42150000000001,
          -34.42150000000001,
          -35.42150000000001,
          -36.42150000000001,
          -37.42150000000001,
          -38.42150000000001,
          -40.42150000000001,
          -41.42150000000001,
          -42.42150000000001,
          -43.42150000000001,
          -44.42150000000001,
          -45.42150000000001,
          -46.42150000000001,
          -47.42150000000001,
          -48.42150000000001,
          -46.93950000000001,
          -47.93950000000001,
          -48.93950000000001,
          -49.93950000000001,
          -50.93950000000001,
          -51.93950000000001,
          -52.93950000000001,
          -53.93950000000001,
          -54.93950000000001,
          -55.93950000000001,
          -56.93950000000001,
          -57.93950000000001,
          -58.93950000000001,
          -54.18950000000001,
          -55.18950000000001,
          -56.18950000000001,
          -57.18950000000001,
          -54.59600000000001,
          -55.59600000000001,
          -56.59600000000001,
          -57.59600000000001,
          -58.59600000000001,
          -59.59600000000001,
          -56.65100000000001,
          -57.65100000000001,
          -58.65100000000001,
          -39.97400000000001,
          -40.97400000000001,
          -41.97400000000001,
          45.10299999999999,
          44.10299999999999,
          43.10299999999999,
          42.10299999999999,
          41.10299999999999,
          40.10299999999999,
          39.10299999999999,
          38.10299999999999,
          37.10299999999999,
          36.10299999999999,
          35.10299999999999,
          34.10299999999999,
          36.943499999999986,
          35.943499999999986,
          34.943499999999986,
          33.943499999999986,
          32.943499999999986,
          31.943499999999986,
          30.943499999999986,
          29.943499999999986,
          28.943499999999986,
          30.007499999999986,
          29.007499999999986,
          28.007499999999986,
          27.007499999999986,
          31.405999999999985,
          30.405999999999985,
          29.405999999999985,
          32.445999999999984,
          31.445999999999984,
          30.445999999999984,
          29.445999999999984,
          28.445999999999984,
          27.445999999999984,
          26.445999999999984,
          25.445999999999984,
          26.642999999999983,
          24.642999999999983,
          23.642999999999983,
          22.642999999999983,
          25.872999999999983,
          77.17299999999997,
          76.17299999999997,
          75.17299999999997,
          74.17299999999997,
          73.17299999999997,
          78.02749999999997,
          77.02749999999997,
          76.02749999999997,
          75.02749999999997,
          74.02749999999997,
          73.02749999999997,
          72.02749999999997,
          81.64149999999998,
          80.64149999999998,
          79.64149999999998,
          78.64149999999998,
          77.64149999999998,
          75.64149999999998,
          83.16549999999998,
          82.16549999999998,
          81.16549999999998,
          80.16549999999998,
          79.16549999999998,
          78.16549999999998,
          77.16549999999998,
          76.16549999999998,
          75.16549999999998,
          74.16549999999998,
          73.16549999999998,
          79.81549999999999,
          81.44949999999999,
          80.44949999999999,
          79.44949999999999,
          78.44949999999999,
          77.44949999999999,
          76.44949999999999,
          78.40649999999998,
          77.40649999999998,
          76.40649999999998,
          75.40649999999998,
          76.51799999999999,
          75.51799999999999,
          91.82,
          90.82,
          89.82,
          88.82,
          87.82,
          93.52,
          92.52,
          91.52,
          90.52,
          89.52,
          88.52,
          87.52,
          86.52,
          91.023,
          90.023,
          89.023,
          91.8825,
          90.8825,
          89.8825,
          88.8825,
          87.8825,
          86.8825,
          85.8825,
          84.8825,
          83.8825,
          82.8825,
          81.8825,
          80.8825,
          79.8825,
          78.8825,
          77.8825,
          76.8825,
          75.8825,
          74.8825,
          73.8825,
          72.8825,
          71.8825,
          76.6515,
          75.6515,
          74.6515,
          73.6515,
          79.0855,
          78.0855,
          77.0855,
          76.0855,
          75.0855,
          74.0855,
          73.0855,
          76.021,
          75.021,
          74.021,
          73.021,
          77.2865,
          76.2865,
          75.2865,
          74.2865,
          72.2865,
          71.2865,
          73.72800000000001,
          72.72800000000001,
          71.72800000000001,
          70.72800000000001,
          69.72800000000001,
          68.72800000000001,
          67.72800000000001,
          66.72800000000001,
          65.72800000000001,
          64.72800000000001,
          63.72800000000001,
          62.72800000000001,
          61.72800000000001,
          60.72800000000001,
          59.72800000000001,
          58.72800000000001,
          57.72800000000001,
          56.72800000000001,
          85.9595,
          84.9595,
          83.9595,
          82.9595,
          81.9595,
          80.9595,
          79.9595,
          78.9595,
          77.9595,
          76.9595,
          75.9595,
          73.9595,
          72.9595,
          71.9595,
          74.655,
          73.655,
          72.655,
          71.655,
          70.655,
          69.655,
          68.655,
          67.655,
          66.655,
          64.655,
          62.655,
          61.655,
          60.655,
          59.655,
          58.655,
          57.655,
          56.655,
          55.655,
          54.655,
          53.655,
          52.655,
          51.655,
          50.655,
          49.655,
          48.655,
          47.655,
          46.655,
          45.655,
          44.655,
          43.655,
          42.655,
          41.655,
          40.655,
          39.655,
          38.655,
          37.655,
          36.655,
          35.655,
          40.329,
          39.329,
          38.329,
          37.329,
          36.329
         ],
         "yaxis": "y"
        }
       ],
       "layout": {
        "legend": {
         "tracegroupgap": 0
        },
        "template": {
         "data": {
          "bar": [
           {
            "error_x": {
             "color": "rgb(36,36,36)"
            },
            "error_y": {
             "color": "rgb(36,36,36)"
            },
            "marker": {
             "line": {
              "color": "white",
              "width": 0.5
             },
             "pattern": {
              "fillmode": "overlay",
              "size": 10,
              "solidity": 0.2
             }
            },
            "type": "bar"
           }
          ],
          "barpolar": [
           {
            "marker": {
             "line": {
              "color": "white",
              "width": 0.5
             },
             "pattern": {
              "fillmode": "overlay",
              "size": 10,
              "solidity": 0.2
             }
            },
            "type": "barpolar"
           }
          ],
          "carpet": [
           {
            "aaxis": {
             "endlinecolor": "rgb(36,36,36)",
             "gridcolor": "white",
             "linecolor": "white",
             "minorgridcolor": "white",
             "startlinecolor": "rgb(36,36,36)"
            },
            "baxis": {
             "endlinecolor": "rgb(36,36,36)",
             "gridcolor": "white",
             "linecolor": "white",
             "minorgridcolor": "white",
             "startlinecolor": "rgb(36,36,36)"
            },
            "type": "carpet"
           }
          ],
          "choropleth": [
           {
            "colorbar": {
             "outlinewidth": 1,
             "tickcolor": "rgb(36,36,36)",
             "ticks": "outside"
            },
            "type": "choropleth"
           }
          ],
          "contour": [
           {
            "colorbar": {
             "outlinewidth": 1,
             "tickcolor": "rgb(36,36,36)",
             "ticks": "outside"
            },
            "colorscale": [
             [
              0,
              "#440154"
             ],
             [
              0.1111111111111111,
              "#482878"
             ],
             [
              0.2222222222222222,
              "#3e4989"
             ],
             [
              0.3333333333333333,
              "#31688e"
             ],
             [
              0.4444444444444444,
              "#26828e"
             ],
             [
              0.5555555555555556,
              "#1f9e89"
             ],
             [
              0.6666666666666666,
              "#35b779"
             ],
             [
              0.7777777777777778,
              "#6ece58"
             ],
             [
              0.8888888888888888,
              "#b5de2b"
             ],
             [
              1,
              "#fde725"
             ]
            ],
            "type": "contour"
           }
          ],
          "contourcarpet": [
           {
            "colorbar": {
             "outlinewidth": 1,
             "tickcolor": "rgb(36,36,36)",
             "ticks": "outside"
            },
            "type": "contourcarpet"
           }
          ],
          "heatmap": [
           {
            "colorbar": {
             "outlinewidth": 1,
             "tickcolor": "rgb(36,36,36)",
             "ticks": "outside"
            },
            "colorscale": [
             [
              0,
              "#440154"
             ],
             [
              0.1111111111111111,
              "#482878"
             ],
             [
              0.2222222222222222,
              "#3e4989"
             ],
             [
              0.3333333333333333,
              "#31688e"
             ],
             [
              0.4444444444444444,
              "#26828e"
             ],
             [
              0.5555555555555556,
              "#1f9e89"
             ],
             [
              0.6666666666666666,
              "#35b779"
             ],
             [
              0.7777777777777778,
              "#6ece58"
             ],
             [
              0.8888888888888888,
              "#b5de2b"
             ],
             [
              1,
              "#fde725"
             ]
            ],
            "type": "heatmap"
           }
          ],
          "heatmapgl": [
           {
            "colorbar": {
             "outlinewidth": 1,
             "tickcolor": "rgb(36,36,36)",
             "ticks": "outside"
            },
            "colorscale": [
             [
              0,
              "#440154"
             ],
             [
              0.1111111111111111,
              "#482878"
             ],
             [
              0.2222222222222222,
              "#3e4989"
             ],
             [
              0.3333333333333333,
              "#31688e"
             ],
             [
              0.4444444444444444,
              "#26828e"
             ],
             [
              0.5555555555555556,
              "#1f9e89"
             ],
             [
              0.6666666666666666,
              "#35b779"
             ],
             [
              0.7777777777777778,
              "#6ece58"
             ],
             [
              0.8888888888888888,
              "#b5de2b"
             ],
             [
              1,
              "#fde725"
             ]
            ],
            "type": "heatmapgl"
           }
          ],
          "histogram": [
           {
            "marker": {
             "line": {
              "color": "white",
              "width": 0.6
             }
            },
            "type": "histogram"
           }
          ],
          "histogram2d": [
           {
            "colorbar": {
             "outlinewidth": 1,
             "tickcolor": "rgb(36,36,36)",
             "ticks": "outside"
            },
            "colorscale": [
             [
              0,
              "#440154"
             ],
             [
              0.1111111111111111,
              "#482878"
             ],
             [
              0.2222222222222222,
              "#3e4989"
             ],
             [
              0.3333333333333333,
              "#31688e"
             ],
             [
              0.4444444444444444,
              "#26828e"
             ],
             [
              0.5555555555555556,
              "#1f9e89"
             ],
             [
              0.6666666666666666,
              "#35b779"
             ],
             [
              0.7777777777777778,
              "#6ece58"
             ],
             [
              0.8888888888888888,
              "#b5de2b"
             ],
             [
              1,
              "#fde725"
             ]
            ],
            "type": "histogram2d"
           }
          ],
          "histogram2dcontour": [
           {
            "colorbar": {
             "outlinewidth": 1,
             "tickcolor": "rgb(36,36,36)",
             "ticks": "outside"
            },
            "colorscale": [
             [
              0,
              "#440154"
             ],
             [
              0.1111111111111111,
              "#482878"
             ],
             [
              0.2222222222222222,
              "#3e4989"
             ],
             [
              0.3333333333333333,
              "#31688e"
             ],
             [
              0.4444444444444444,
              "#26828e"
             ],
             [
              0.5555555555555556,
              "#1f9e89"
             ],
             [
              0.6666666666666666,
              "#35b779"
             ],
             [
              0.7777777777777778,
              "#6ece58"
             ],
             [
              0.8888888888888888,
              "#b5de2b"
             ],
             [
              1,
              "#fde725"
             ]
            ],
            "type": "histogram2dcontour"
           }
          ],
          "mesh3d": [
           {
            "colorbar": {
             "outlinewidth": 1,
             "tickcolor": "rgb(36,36,36)",
             "ticks": "outside"
            },
            "type": "mesh3d"
           }
          ],
          "parcoords": [
           {
            "line": {
             "colorbar": {
              "outlinewidth": 1,
              "tickcolor": "rgb(36,36,36)",
              "ticks": "outside"
             }
            },
            "type": "parcoords"
           }
          ],
          "pie": [
           {
            "automargin": true,
            "type": "pie"
           }
          ],
          "scatter": [
           {
            "marker": {
             "colorbar": {
              "outlinewidth": 1,
              "tickcolor": "rgb(36,36,36)",
              "ticks": "outside"
             }
            },
            "type": "scatter"
           }
          ],
          "scatter3d": [
           {
            "line": {
             "colorbar": {
              "outlinewidth": 1,
              "tickcolor": "rgb(36,36,36)",
              "ticks": "outside"
             }
            },
            "marker": {
             "colorbar": {
              "outlinewidth": 1,
              "tickcolor": "rgb(36,36,36)",
              "ticks": "outside"
             }
            },
            "type": "scatter3d"
           }
          ],
          "scattercarpet": [
           {
            "marker": {
             "colorbar": {
              "outlinewidth": 1,
              "tickcolor": "rgb(36,36,36)",
              "ticks": "outside"
             }
            },
            "type": "scattercarpet"
           }
          ],
          "scattergeo": [
           {
            "marker": {
             "colorbar": {
              "outlinewidth": 1,
              "tickcolor": "rgb(36,36,36)",
              "ticks": "outside"
             }
            },
            "type": "scattergeo"
           }
          ],
          "scattergl": [
           {
            "marker": {
             "colorbar": {
              "outlinewidth": 1,
              "tickcolor": "rgb(36,36,36)",
              "ticks": "outside"
             }
            },
            "type": "scattergl"
           }
          ],
          "scattermapbox": [
           {
            "marker": {
             "colorbar": {
              "outlinewidth": 1,
              "tickcolor": "rgb(36,36,36)",
              "ticks": "outside"
             }
            },
            "type": "scattermapbox"
           }
          ],
          "scatterpolar": [
           {
            "marker": {
             "colorbar": {
              "outlinewidth": 1,
              "tickcolor": "rgb(36,36,36)",
              "ticks": "outside"
             }
            },
            "type": "scatterpolar"
           }
          ],
          "scatterpolargl": [
           {
            "marker": {
             "colorbar": {
              "outlinewidth": 1,
              "tickcolor": "rgb(36,36,36)",
              "ticks": "outside"
             }
            },
            "type": "scatterpolargl"
           }
          ],
          "scatterternary": [
           {
            "marker": {
             "colorbar": {
              "outlinewidth": 1,
              "tickcolor": "rgb(36,36,36)",
              "ticks": "outside"
             }
            },
            "type": "scatterternary"
           }
          ],
          "surface": [
           {
            "colorbar": {
             "outlinewidth": 1,
             "tickcolor": "rgb(36,36,36)",
             "ticks": "outside"
            },
            "colorscale": [
             [
              0,
              "#440154"
             ],
             [
              0.1111111111111111,
              "#482878"
             ],
             [
              0.2222222222222222,
              "#3e4989"
             ],
             [
              0.3333333333333333,
              "#31688e"
             ],
             [
              0.4444444444444444,
              "#26828e"
             ],
             [
              0.5555555555555556,
              "#1f9e89"
             ],
             [
              0.6666666666666666,
              "#35b779"
             ],
             [
              0.7777777777777778,
              "#6ece58"
             ],
             [
              0.8888888888888888,
              "#b5de2b"
             ],
             [
              1,
              "#fde725"
             ]
            ],
            "type": "surface"
           }
          ],
          "table": [
           {
            "cells": {
             "fill": {
              "color": "rgb(237,237,237)"
             },
             "line": {
              "color": "white"
             }
            },
            "header": {
             "fill": {
              "color": "rgb(217,217,217)"
             },
             "line": {
              "color": "white"
             }
            },
            "type": "table"
           }
          ]
         },
         "layout": {
          "annotationdefaults": {
           "arrowhead": 0,
           "arrowwidth": 1
          },
          "autotypenumbers": "strict",
          "coloraxis": {
           "colorbar": {
            "outlinewidth": 1,
            "tickcolor": "rgb(36,36,36)",
            "ticks": "outside"
           }
          },
          "colorscale": {
           "diverging": [
            [
             0,
             "rgb(103,0,31)"
            ],
            [
             0.1,
             "rgb(178,24,43)"
            ],
            [
             0.2,
             "rgb(214,96,77)"
            ],
            [
             0.3,
             "rgb(244,165,130)"
            ],
            [
             0.4,
             "rgb(253,219,199)"
            ],
            [
             0.5,
             "rgb(247,247,247)"
            ],
            [
             0.6,
             "rgb(209,229,240)"
            ],
            [
             0.7,
             "rgb(146,197,222)"
            ],
            [
             0.8,
             "rgb(67,147,195)"
            ],
            [
             0.9,
             "rgb(33,102,172)"
            ],
            [
             1,
             "rgb(5,48,97)"
            ]
           ],
           "sequential": [
            [
             0,
             "#440154"
            ],
            [
             0.1111111111111111,
             "#482878"
            ],
            [
             0.2222222222222222,
             "#3e4989"
            ],
            [
             0.3333333333333333,
             "#31688e"
            ],
            [
             0.4444444444444444,
             "#26828e"
            ],
            [
             0.5555555555555556,
             "#1f9e89"
            ],
            [
             0.6666666666666666,
             "#35b779"
            ],
            [
             0.7777777777777778,
             "#6ece58"
            ],
            [
             0.8888888888888888,
             "#b5de2b"
            ],
            [
             1,
             "#fde725"
            ]
           ],
           "sequentialminus": [
            [
             0,
             "#440154"
            ],
            [
             0.1111111111111111,
             "#482878"
            ],
            [
             0.2222222222222222,
             "#3e4989"
            ],
            [
             0.3333333333333333,
             "#31688e"
            ],
            [
             0.4444444444444444,
             "#26828e"
            ],
            [
             0.5555555555555556,
             "#1f9e89"
            ],
            [
             0.6666666666666666,
             "#35b779"
            ],
            [
             0.7777777777777778,
             "#6ece58"
            ],
            [
             0.8888888888888888,
             "#b5de2b"
            ],
            [
             1,
             "#fde725"
            ]
           ]
          },
          "colorway": [
           "#1F77B4",
           "#FF7F0E",
           "#2CA02C",
           "#D62728",
           "#9467BD",
           "#8C564B",
           "#E377C2",
           "#7F7F7F",
           "#BCBD22",
           "#17BECF"
          ],
          "font": {
           "color": "rgb(36,36,36)"
          },
          "geo": {
           "bgcolor": "white",
           "lakecolor": "white",
           "landcolor": "white",
           "showlakes": true,
           "showland": true,
           "subunitcolor": "white"
          },
          "hoverlabel": {
           "align": "left"
          },
          "hovermode": "closest",
          "mapbox": {
           "style": "light"
          },
          "paper_bgcolor": "white",
          "plot_bgcolor": "white",
          "polar": {
           "angularaxis": {
            "gridcolor": "rgb(232,232,232)",
            "linecolor": "rgb(36,36,36)",
            "showgrid": false,
            "showline": true,
            "ticks": "outside"
           },
           "bgcolor": "white",
           "radialaxis": {
            "gridcolor": "rgb(232,232,232)",
            "linecolor": "rgb(36,36,36)",
            "showgrid": false,
            "showline": true,
            "ticks": "outside"
           }
          },
          "scene": {
           "xaxis": {
            "backgroundcolor": "white",
            "gridcolor": "rgb(232,232,232)",
            "gridwidth": 2,
            "linecolor": "rgb(36,36,36)",
            "showbackground": true,
            "showgrid": false,
            "showline": true,
            "ticks": "outside",
            "zeroline": false,
            "zerolinecolor": "rgb(36,36,36)"
           },
           "yaxis": {
            "backgroundcolor": "white",
            "gridcolor": "rgb(232,232,232)",
            "gridwidth": 2,
            "linecolor": "rgb(36,36,36)",
            "showbackground": true,
            "showgrid": false,
            "showline": true,
            "ticks": "outside",
            "zeroline": false,
            "zerolinecolor": "rgb(36,36,36)"
           },
           "zaxis": {
            "backgroundcolor": "white",
            "gridcolor": "rgb(232,232,232)",
            "gridwidth": 2,
            "linecolor": "rgb(36,36,36)",
            "showbackground": true,
            "showgrid": false,
            "showline": true,
            "ticks": "outside",
            "zeroline": false,
            "zerolinecolor": "rgb(36,36,36)"
           }
          },
          "shapedefaults": {
           "fillcolor": "black",
           "line": {
            "width": 0
           },
           "opacity": 0.3
          },
          "ternary": {
           "aaxis": {
            "gridcolor": "rgb(232,232,232)",
            "linecolor": "rgb(36,36,36)",
            "showgrid": false,
            "showline": true,
            "ticks": "outside"
           },
           "baxis": {
            "gridcolor": "rgb(232,232,232)",
            "linecolor": "rgb(36,36,36)",
            "showgrid": false,
            "showline": true,
            "ticks": "outside"
           },
           "bgcolor": "white",
           "caxis": {
            "gridcolor": "rgb(232,232,232)",
            "linecolor": "rgb(36,36,36)",
            "showgrid": false,
            "showline": true,
            "ticks": "outside"
           }
          },
          "title": {
           "x": 0.05
          },
          "xaxis": {
           "automargin": true,
           "gridcolor": "rgb(232,232,232)",
           "linecolor": "rgb(36,36,36)",
           "showgrid": false,
           "showline": true,
           "ticks": "outside",
           "title": {
            "standoff": 15
           },
           "zeroline": false,
           "zerolinecolor": "rgb(36,36,36)"
          },
          "yaxis": {
           "automargin": true,
           "gridcolor": "rgb(232,232,232)",
           "linecolor": "rgb(36,36,36)",
           "showgrid": false,
           "showline": true,
           "ticks": "outside",
           "title": {
            "standoff": 15
           },
           "zeroline": false,
           "zerolinecolor": "rgb(36,36,36)"
          }
         }
        },
        "title": {
         "text": "Cumulative Net Profit"
        },
        "xaxis": {
         "anchor": "y",
         "domain": [
          0,
          1
         ],
         "title": {
          "text": "market_number"
         }
        },
        "yaxis": {
         "anchor": "x",
         "domain": [
          0,
          1
         ],
         "title": {
          "text": "cNpl"
         }
        }
       }
      }
     },
     "metadata": {}
    }
   ],
   "metadata": {}
  },
  {
   "cell_type": "markdown",
   "source": [
    "# Hard\n",
    "\n",
    "Do certain jockeys or certain jockeys under certain track conditions present back to lay opportunities?"
   ],
   "metadata": {}
  },
  {
   "cell_type": "markdown",
   "source": [
    "The way this would work is you'd have some target"
   ],
   "metadata": {}
  },
  {
   "cell_type": "code",
   "execution_count": 162,
   "source": [
    "# First Investigate The Average Inplay Minimums And Loss Rates of Certain Jockeys\n",
    "tradeOutIndex = (\n",
    "    df_train\n",
    "    .query('bsp < 20')\n",
    "    .assign(inplay_odds_ratio=lambda x: x['inplay_min_lay'] / x['bsp'])\n",
    "    .assign(win=lambda x: np.where(x['place']==1,1,0))\n",
    "    .assign(races=lambda x: 1)\n",
    "    # .groupby('trainer', as_index = False)\n",
    "    .groupby(['trainer', 'jockey'], as_index=False)\n",
    "    .agg({'inplay_odds_ratio': 'mean', 'win': 'mean', 'races': 'sum'})\n",
    "    .assign(tradeOutIndex = lambda x: np.sqrt(x['inplay_odds_ratio'] + x['win']))\n",
    "    .sort_values('tradeOutIndex')\n",
    "    .query('races >= 10')\n",
    ")\n",
    "\n",
    "tradeOutIndex.head(5)\n"
   ],
   "outputs": [
    {
     "output_type": "execute_result",
     "data": {
      "text/plain": [
       "                        trainer           jockey  inplay_odds_ratio   win  \\\n",
       "18171             Wayne Walters     Kate Walters           0.466679  0.00   \n",
       "12071         Mitchell Freedman       Billy Egan           0.512664  0.00   \n",
       "10336              M & L Cerchi    Jordan Childs           0.553930  0.00   \n",
       "1112   B & P & M Joseph & Jones   Patrick Scorse           0.526690  0.04   \n",
       "5385                Gary Duncan  Taylor Marshall           0.570788  0.00   \n",
       "\n",
       "       races  tradeOutIndex  \n",
       "18171     17       0.683139  \n",
       "12071     11       0.716006  \n",
       "10336     11       0.744265  \n",
       "1112      25       0.752788  \n",
       "5385      12       0.755505  "
      ],
      "text/html": [
       "<div>\n",
       "<style scoped>\n",
       "    .dataframe tbody tr th:only-of-type {\n",
       "        vertical-align: middle;\n",
       "    }\n",
       "\n",
       "    .dataframe tbody tr th {\n",
       "        vertical-align: top;\n",
       "    }\n",
       "\n",
       "    .dataframe thead th {\n",
       "        text-align: right;\n",
       "    }\n",
       "</style>\n",
       "<table border=\"1\" class=\"dataframe\">\n",
       "  <thead>\n",
       "    <tr style=\"text-align: right;\">\n",
       "      <th></th>\n",
       "      <th>trainer</th>\n",
       "      <th>jockey</th>\n",
       "      <th>inplay_odds_ratio</th>\n",
       "      <th>win</th>\n",
       "      <th>races</th>\n",
       "      <th>tradeOutIndex</th>\n",
       "    </tr>\n",
       "  </thead>\n",
       "  <tbody>\n",
       "    <tr>\n",
       "      <th>18171</th>\n",
       "      <td>Wayne Walters</td>\n",
       "      <td>Kate Walters</td>\n",
       "      <td>0.466679</td>\n",
       "      <td>0.00</td>\n",
       "      <td>17</td>\n",
       "      <td>0.683139</td>\n",
       "    </tr>\n",
       "    <tr>\n",
       "      <th>12071</th>\n",
       "      <td>Mitchell Freedman</td>\n",
       "      <td>Billy Egan</td>\n",
       "      <td>0.512664</td>\n",
       "      <td>0.00</td>\n",
       "      <td>11</td>\n",
       "      <td>0.716006</td>\n",
       "    </tr>\n",
       "    <tr>\n",
       "      <th>10336</th>\n",
       "      <td>M &amp; L Cerchi</td>\n",
       "      <td>Jordan Childs</td>\n",
       "      <td>0.553930</td>\n",
       "      <td>0.00</td>\n",
       "      <td>11</td>\n",
       "      <td>0.744265</td>\n",
       "    </tr>\n",
       "    <tr>\n",
       "      <th>1112</th>\n",
       "      <td>B &amp; P &amp; M Joseph &amp; Jones</td>\n",
       "      <td>Patrick Scorse</td>\n",
       "      <td>0.526690</td>\n",
       "      <td>0.04</td>\n",
       "      <td>25</td>\n",
       "      <td>0.752788</td>\n",
       "    </tr>\n",
       "    <tr>\n",
       "      <th>5385</th>\n",
       "      <td>Gary Duncan</td>\n",
       "      <td>Taylor Marshall</td>\n",
       "      <td>0.570788</td>\n",
       "      <td>0.00</td>\n",
       "      <td>12</td>\n",
       "      <td>0.755505</td>\n",
       "    </tr>\n",
       "  </tbody>\n",
       "</table>\n",
       "</div>"
      ]
     },
     "metadata": {},
     "execution_count": 162
    }
   ],
   "metadata": {}
  },
  {
   "cell_type": "code",
   "execution_count": 199,
   "source": [
    "targetTradeoutFraction = 0.7\n",
    "\n",
    "betSet = (\n",
    "    df_test\n",
    "    .query('bsp < 10')\n",
    "    .merge(tradeOutIndex.head(50)[['trainer', 'jockey']])\n",
    "    .assign(stake=lambda x: 1)\n",
    "    .assign(npl=lambda x: np.where(x['inplay_min_lay'] <= targetTradeoutFraction * x['bsp'], np.where(x['place'] == 1, 0.95 * (x['bsp']-1-1), 0), -1))\n",
    ")\n",
    "\n",
    "betSet[['place', 'bsp', 'inplay_min_lay', 'npl']]\n",
    "\n",
    "#bet_eval_metrics(betSet)"
   ],
   "outputs": [
    {
     "output_type": "execute_result",
     "data": {
      "text/plain": [
       "    place   bsp  inplay_min_lay    npl\n",
       "0     4.0  7.18            5.20 -1.000\n",
       "1     1.0  4.40            1.65  2.280\n",
       "2     2.0  5.42            3.55  0.000\n",
       "3     3.0  6.83            7.00 -1.000\n",
       "4     6.0  9.87            8.60 -1.000\n",
       "..    ...   ...             ...    ...\n",
       "83    5.0  3.90            3.55 -1.000\n",
       "84    4.0  8.92            8.00 -1.000\n",
       "85    1.0  2.06            1.01  0.057\n",
       "86    NaN  7.20            5.90 -1.000\n",
       "87    2.0  9.12            1.45  0.000\n",
       "\n",
       "[88 rows x 4 columns]"
      ],
      "text/html": [
       "<div>\n",
       "<style scoped>\n",
       "    .dataframe tbody tr th:only-of-type {\n",
       "        vertical-align: middle;\n",
       "    }\n",
       "\n",
       "    .dataframe tbody tr th {\n",
       "        vertical-align: top;\n",
       "    }\n",
       "\n",
       "    .dataframe thead th {\n",
       "        text-align: right;\n",
       "    }\n",
       "</style>\n",
       "<table border=\"1\" class=\"dataframe\">\n",
       "  <thead>\n",
       "    <tr style=\"text-align: right;\">\n",
       "      <th></th>\n",
       "      <th>place</th>\n",
       "      <th>bsp</th>\n",
       "      <th>inplay_min_lay</th>\n",
       "      <th>npl</th>\n",
       "    </tr>\n",
       "  </thead>\n",
       "  <tbody>\n",
       "    <tr>\n",
       "      <th>0</th>\n",
       "      <td>4.0</td>\n",
       "      <td>7.18</td>\n",
       "      <td>5.20</td>\n",
       "      <td>-1.000</td>\n",
       "    </tr>\n",
       "    <tr>\n",
       "      <th>1</th>\n",
       "      <td>1.0</td>\n",
       "      <td>4.40</td>\n",
       "      <td>1.65</td>\n",
       "      <td>2.280</td>\n",
       "    </tr>\n",
       "    <tr>\n",
       "      <th>2</th>\n",
       "      <td>2.0</td>\n",
       "      <td>5.42</td>\n",
       "      <td>3.55</td>\n",
       "      <td>0.000</td>\n",
       "    </tr>\n",
       "    <tr>\n",
       "      <th>3</th>\n",
       "      <td>3.0</td>\n",
       "      <td>6.83</td>\n",
       "      <td>7.00</td>\n",
       "      <td>-1.000</td>\n",
       "    </tr>\n",
       "    <tr>\n",
       "      <th>4</th>\n",
       "      <td>6.0</td>\n",
       "      <td>9.87</td>\n",
       "      <td>8.60</td>\n",
       "      <td>-1.000</td>\n",
       "    </tr>\n",
       "    <tr>\n",
       "      <th>...</th>\n",
       "      <td>...</td>\n",
       "      <td>...</td>\n",
       "      <td>...</td>\n",
       "      <td>...</td>\n",
       "    </tr>\n",
       "    <tr>\n",
       "      <th>83</th>\n",
       "      <td>5.0</td>\n",
       "      <td>3.90</td>\n",
       "      <td>3.55</td>\n",
       "      <td>-1.000</td>\n",
       "    </tr>\n",
       "    <tr>\n",
       "      <th>84</th>\n",
       "      <td>4.0</td>\n",
       "      <td>8.92</td>\n",
       "      <td>8.00</td>\n",
       "      <td>-1.000</td>\n",
       "    </tr>\n",
       "    <tr>\n",
       "      <th>85</th>\n",
       "      <td>1.0</td>\n",
       "      <td>2.06</td>\n",
       "      <td>1.01</td>\n",
       "      <td>0.057</td>\n",
       "    </tr>\n",
       "    <tr>\n",
       "      <th>86</th>\n",
       "      <td>NaN</td>\n",
       "      <td>7.20</td>\n",
       "      <td>5.90</td>\n",
       "      <td>-1.000</td>\n",
       "    </tr>\n",
       "    <tr>\n",
       "      <th>87</th>\n",
       "      <td>2.0</td>\n",
       "      <td>9.12</td>\n",
       "      <td>1.45</td>\n",
       "      <td>0.000</td>\n",
       "    </tr>\n",
       "  </tbody>\n",
       "</table>\n",
       "<p>88 rows × 4 columns</p>\n",
       "</div>"
      ]
     },
     "metadata": {},
     "execution_count": 199
    }
   ],
   "metadata": {}
  },
  {
   "cell_type": "code",
   "execution_count": 200,
   "source": [
    "\n",
    "betSet.npl.value_counts()\n",
    "\n"
   ],
   "outputs": [
    {
     "output_type": "execute_result",
     "data": {
      "text/plain": [
       " 0.0000    37\n",
       "-1.0000    36\n",
       " 1.1875     2\n",
       " 2.2800     1\n",
       " 1.5200     1\n",
       " 0.1330     1\n",
       " 2.0140     1\n",
       " 2.6410     1\n",
       " 2.4700     1\n",
       " 1.3965     1\n",
       " 1.8240     1\n",
       "-0.1805     1\n",
       " 2.5650     1\n",
       " 0.6745     1\n",
       " 1.4915     1\n",
       " 0.0570     1\n",
       "Name: npl, dtype: int64"
      ]
     },
     "metadata": {},
     "execution_count": 200
    }
   ],
   "metadata": {}
  },
  {
   "cell_type": "code",
   "execution_count": 201,
   "source": [
    "bet_eval_metrics(betSet)"
   ],
   "outputs": [
    {
     "output_type": "execute_result",
     "data": {
      "text/plain": [
       "      npl  stake       pot\n",
       "0 -14.739   88.0 -0.167489"
      ],
      "text/html": [
       "<div>\n",
       "<style scoped>\n",
       "    .dataframe tbody tr th:only-of-type {\n",
       "        vertical-align: middle;\n",
       "    }\n",
       "\n",
       "    .dataframe tbody tr th {\n",
       "        vertical-align: top;\n",
       "    }\n",
       "\n",
       "    .dataframe thead th {\n",
       "        text-align: right;\n",
       "    }\n",
       "</style>\n",
       "<table border=\"1\" class=\"dataframe\">\n",
       "  <thead>\n",
       "    <tr style=\"text-align: right;\">\n",
       "      <th></th>\n",
       "      <th>npl</th>\n",
       "      <th>stake</th>\n",
       "      <th>pot</th>\n",
       "    </tr>\n",
       "  </thead>\n",
       "  <tbody>\n",
       "    <tr>\n",
       "      <th>0</th>\n",
       "      <td>-14.739</td>\n",
       "      <td>88.0</td>\n",
       "      <td>-0.167489</td>\n",
       "    </tr>\n",
       "  </tbody>\n",
       "</table>\n",
       "</div>"
      ]
     },
     "metadata": {},
     "execution_count": 201
    }
   ],
   "metadata": {}
  },
  {
   "cell_type": "code",
   "execution_count": 202,
   "source": [
    "df_test[['bsp', 'inplay_min_lay']]"
   ],
   "outputs": [
    {
     "output_type": "execute_result",
     "data": {
      "text/plain": [
       "           bsp  inplay_min_lay\n",
       "119244   14.01            7.80\n",
       "119245    6.00            5.80\n",
       "119246   30.58           29.00\n",
       "119247    2.08            1.50\n",
       "119248    7.80            7.40\n",
       "...        ...             ...\n",
       "160022    5.97            1.01\n",
       "160023   70.42           75.00\n",
       "160024   13.24           10.00\n",
       "160025    8.78            4.20\n",
       "160026  520.96          530.00\n",
       "\n",
       "[40783 rows x 2 columns]"
      ],
      "text/html": [
       "<div>\n",
       "<style scoped>\n",
       "    .dataframe tbody tr th:only-of-type {\n",
       "        vertical-align: middle;\n",
       "    }\n",
       "\n",
       "    .dataframe tbody tr th {\n",
       "        vertical-align: top;\n",
       "    }\n",
       "\n",
       "    .dataframe thead th {\n",
       "        text-align: right;\n",
       "    }\n",
       "</style>\n",
       "<table border=\"1\" class=\"dataframe\">\n",
       "  <thead>\n",
       "    <tr style=\"text-align: right;\">\n",
       "      <th></th>\n",
       "      <th>bsp</th>\n",
       "      <th>inplay_min_lay</th>\n",
       "    </tr>\n",
       "  </thead>\n",
       "  <tbody>\n",
       "    <tr>\n",
       "      <th>119244</th>\n",
       "      <td>14.01</td>\n",
       "      <td>7.80</td>\n",
       "    </tr>\n",
       "    <tr>\n",
       "      <th>119245</th>\n",
       "      <td>6.00</td>\n",
       "      <td>5.80</td>\n",
       "    </tr>\n",
       "    <tr>\n",
       "      <th>119246</th>\n",
       "      <td>30.58</td>\n",
       "      <td>29.00</td>\n",
       "    </tr>\n",
       "    <tr>\n",
       "      <th>119247</th>\n",
       "      <td>2.08</td>\n",
       "      <td>1.50</td>\n",
       "    </tr>\n",
       "    <tr>\n",
       "      <th>119248</th>\n",
       "      <td>7.80</td>\n",
       "      <td>7.40</td>\n",
       "    </tr>\n",
       "    <tr>\n",
       "      <th>...</th>\n",
       "      <td>...</td>\n",
       "      <td>...</td>\n",
       "    </tr>\n",
       "    <tr>\n",
       "      <th>160022</th>\n",
       "      <td>5.97</td>\n",
       "      <td>1.01</td>\n",
       "    </tr>\n",
       "    <tr>\n",
       "      <th>160023</th>\n",
       "      <td>70.42</td>\n",
       "      <td>75.00</td>\n",
       "    </tr>\n",
       "    <tr>\n",
       "      <th>160024</th>\n",
       "      <td>13.24</td>\n",
       "      <td>10.00</td>\n",
       "    </tr>\n",
       "    <tr>\n",
       "      <th>160025</th>\n",
       "      <td>8.78</td>\n",
       "      <td>4.20</td>\n",
       "    </tr>\n",
       "    <tr>\n",
       "      <th>160026</th>\n",
       "      <td>520.96</td>\n",
       "      <td>530.00</td>\n",
       "    </tr>\n",
       "  </tbody>\n",
       "</table>\n",
       "<p>40783 rows × 2 columns</p>\n",
       "</div>"
      ]
     },
     "metadata": {},
     "execution_count": 202
    }
   ],
   "metadata": {}
  },
  {
   "cell_type": "code",
   "execution_count": 109,
   "source": [
    "df_test.query('inplay_min_lay >= bsp')"
   ],
   "outputs": [
    {
     "output_type": "execute_result",
     "data": {
      "text/plain": [
       "              date       track country race_type  race_number    market_id  \\\n",
       "119255  2021-04-01  Beaudesert     AUS         R            3  1.181290317   \n",
       "119257  2021-04-01  Beaudesert     AUS         R            3  1.181290317   \n",
       "119274  2021-04-01  Beaudesert     AUS         R            5  1.181290321   \n",
       "119282  2021-04-01  Beaudesert     AUS         R            6  1.181290323   \n",
       "119284  2021-04-01  Beaudesert     AUS         R            6  1.181290323   \n",
       "...            ...         ...     ...       ...          ...          ...   \n",
       "159986  2021-06-29  Townsville     AUS         R            1  1.184845386   \n",
       "159998  2021-06-29  Townsville     AUS         R            3  1.184845390   \n",
       "160004  2021-06-29  Townsville     AUS         R            4  1.184845392   \n",
       "160023  2021-06-29  Townsville     AUS         R            6  1.184845396   \n",
       "160026  2021-06-29  Townsville     AUS         R            6  1.184845396   \n",
       "\n",
       "                 start_time weather track_condition race_distance  ...  \\\n",
       "119255  2021-04-01 04:12:00    None            None          1200  ...   \n",
       "119257  2021-04-01 04:12:00    None            None          1200  ...   \n",
       "119274  2021-04-01 05:27:00    None            None          1650  ...   \n",
       "119282  2021-04-01 06:04:00    None            None          1200  ...   \n",
       "119284  2021-04-01 06:04:00    None            None          1200  ...   \n",
       "...                     ...     ...             ...           ...  ...   \n",
       "159986  2021-06-29 03:57:00    None            None          1000  ...   \n",
       "159998  2021-06-29 05:12:00    None            None          1200  ...   \n",
       "160004  2021-06-29 05:47:00    None            None          1200  ...   \n",
       "160023  2021-06-29 07:00:00    None            None          1000  ...   \n",
       "160026  2021-06-29 07:00:00    None            None          1000  ...   \n",
       "\n",
       "        wap_5m wap_30s     bsp    ltp traded_vol inplay_min_lay  \\\n",
       "119255   73.96   98.21   95.00   90.0        286         100.00   \n",
       "119257    3.98    4.14    4.30    4.4      11442           4.40   \n",
       "119274    8.46    6.49    6.40    6.6       6609           6.60   \n",
       "119282   32.18   49.46   65.00   65.0        554          65.00   \n",
       "119284   42.50   27.36   38.00   36.0        664          38.00   \n",
       "...        ...     ...     ...    ...        ...            ...   \n",
       "159986   44.27   50.89   55.00   55.0        790          55.00   \n",
       "159998   37.37   30.51   32.00   30.0       1020          36.00   \n",
       "160004    3.65    3.23    3.20    3.2      27917           3.25   \n",
       "160023   67.74   50.79   70.42   75.0        677          75.00   \n",
       "160026  340.00  412.90  520.96  530.0         99         530.00   \n",
       "\n",
       "        distance_group  barrier_group  back_npl  lay_npl  \n",
       "119255       mid_short      mid_field      -1.0     0.95  \n",
       "119257       mid_short      mid_field      -1.0     0.95  \n",
       "119274        mid_long         inside      -1.0     0.95  \n",
       "119282       mid_short      mid_field      -1.0     0.95  \n",
       "119284       mid_short         inside      -1.0     0.95  \n",
       "...                ...            ...       ...      ...  \n",
       "159986          sprint         inside      -1.0     0.95  \n",
       "159998       mid_short         inside      -1.0     0.95  \n",
       "160004       mid_short         inside      -1.0     0.95  \n",
       "160023          sprint         inside      -1.0     0.95  \n",
       "160026          sprint      mid_field      -1.0     0.95  \n",
       "\n",
       "[8967 rows x 27 columns]"
      ],
      "text/html": [
       "<div>\n",
       "<style scoped>\n",
       "    .dataframe tbody tr th:only-of-type {\n",
       "        vertical-align: middle;\n",
       "    }\n",
       "\n",
       "    .dataframe tbody tr th {\n",
       "        vertical-align: top;\n",
       "    }\n",
       "\n",
       "    .dataframe thead th {\n",
       "        text-align: right;\n",
       "    }\n",
       "</style>\n",
       "<table border=\"1\" class=\"dataframe\">\n",
       "  <thead>\n",
       "    <tr style=\"text-align: right;\">\n",
       "      <th></th>\n",
       "      <th>date</th>\n",
       "      <th>track</th>\n",
       "      <th>country</th>\n",
       "      <th>race_type</th>\n",
       "      <th>race_number</th>\n",
       "      <th>market_id</th>\n",
       "      <th>start_time</th>\n",
       "      <th>weather</th>\n",
       "      <th>track_condition</th>\n",
       "      <th>race_distance</th>\n",
       "      <th>...</th>\n",
       "      <th>wap_5m</th>\n",
       "      <th>wap_30s</th>\n",
       "      <th>bsp</th>\n",
       "      <th>ltp</th>\n",
       "      <th>traded_vol</th>\n",
       "      <th>inplay_min_lay</th>\n",
       "      <th>distance_group</th>\n",
       "      <th>barrier_group</th>\n",
       "      <th>back_npl</th>\n",
       "      <th>lay_npl</th>\n",
       "    </tr>\n",
       "  </thead>\n",
       "  <tbody>\n",
       "    <tr>\n",
       "      <th>119255</th>\n",
       "      <td>2021-04-01</td>\n",
       "      <td>Beaudesert</td>\n",
       "      <td>AUS</td>\n",
       "      <td>R</td>\n",
       "      <td>3</td>\n",
       "      <td>1.181290317</td>\n",
       "      <td>2021-04-01 04:12:00</td>\n",
       "      <td>None</td>\n",
       "      <td>None</td>\n",
       "      <td>1200</td>\n",
       "      <td>...</td>\n",
       "      <td>73.96</td>\n",
       "      <td>98.21</td>\n",
       "      <td>95.00</td>\n",
       "      <td>90.0</td>\n",
       "      <td>286</td>\n",
       "      <td>100.00</td>\n",
       "      <td>mid_short</td>\n",
       "      <td>mid_field</td>\n",
       "      <td>-1.0</td>\n",
       "      <td>0.95</td>\n",
       "    </tr>\n",
       "    <tr>\n",
       "      <th>119257</th>\n",
       "      <td>2021-04-01</td>\n",
       "      <td>Beaudesert</td>\n",
       "      <td>AUS</td>\n",
       "      <td>R</td>\n",
       "      <td>3</td>\n",
       "      <td>1.181290317</td>\n",
       "      <td>2021-04-01 04:12:00</td>\n",
       "      <td>None</td>\n",
       "      <td>None</td>\n",
       "      <td>1200</td>\n",
       "      <td>...</td>\n",
       "      <td>3.98</td>\n",
       "      <td>4.14</td>\n",
       "      <td>4.30</td>\n",
       "      <td>4.4</td>\n",
       "      <td>11442</td>\n",
       "      <td>4.40</td>\n",
       "      <td>mid_short</td>\n",
       "      <td>mid_field</td>\n",
       "      <td>-1.0</td>\n",
       "      <td>0.95</td>\n",
       "    </tr>\n",
       "    <tr>\n",
       "      <th>119274</th>\n",
       "      <td>2021-04-01</td>\n",
       "      <td>Beaudesert</td>\n",
       "      <td>AUS</td>\n",
       "      <td>R</td>\n",
       "      <td>5</td>\n",
       "      <td>1.181290321</td>\n",
       "      <td>2021-04-01 05:27:00</td>\n",
       "      <td>None</td>\n",
       "      <td>None</td>\n",
       "      <td>1650</td>\n",
       "      <td>...</td>\n",
       "      <td>8.46</td>\n",
       "      <td>6.49</td>\n",
       "      <td>6.40</td>\n",
       "      <td>6.6</td>\n",
       "      <td>6609</td>\n",
       "      <td>6.60</td>\n",
       "      <td>mid_long</td>\n",
       "      <td>inside</td>\n",
       "      <td>-1.0</td>\n",
       "      <td>0.95</td>\n",
       "    </tr>\n",
       "    <tr>\n",
       "      <th>119282</th>\n",
       "      <td>2021-04-01</td>\n",
       "      <td>Beaudesert</td>\n",
       "      <td>AUS</td>\n",
       "      <td>R</td>\n",
       "      <td>6</td>\n",
       "      <td>1.181290323</td>\n",
       "      <td>2021-04-01 06:04:00</td>\n",
       "      <td>None</td>\n",
       "      <td>None</td>\n",
       "      <td>1200</td>\n",
       "      <td>...</td>\n",
       "      <td>32.18</td>\n",
       "      <td>49.46</td>\n",
       "      <td>65.00</td>\n",
       "      <td>65.0</td>\n",
       "      <td>554</td>\n",
       "      <td>65.00</td>\n",
       "      <td>mid_short</td>\n",
       "      <td>mid_field</td>\n",
       "      <td>-1.0</td>\n",
       "      <td>0.95</td>\n",
       "    </tr>\n",
       "    <tr>\n",
       "      <th>119284</th>\n",
       "      <td>2021-04-01</td>\n",
       "      <td>Beaudesert</td>\n",
       "      <td>AUS</td>\n",
       "      <td>R</td>\n",
       "      <td>6</td>\n",
       "      <td>1.181290323</td>\n",
       "      <td>2021-04-01 06:04:00</td>\n",
       "      <td>None</td>\n",
       "      <td>None</td>\n",
       "      <td>1200</td>\n",
       "      <td>...</td>\n",
       "      <td>42.50</td>\n",
       "      <td>27.36</td>\n",
       "      <td>38.00</td>\n",
       "      <td>36.0</td>\n",
       "      <td>664</td>\n",
       "      <td>38.00</td>\n",
       "      <td>mid_short</td>\n",
       "      <td>inside</td>\n",
       "      <td>-1.0</td>\n",
       "      <td>0.95</td>\n",
       "    </tr>\n",
       "    <tr>\n",
       "      <th>...</th>\n",
       "      <td>...</td>\n",
       "      <td>...</td>\n",
       "      <td>...</td>\n",
       "      <td>...</td>\n",
       "      <td>...</td>\n",
       "      <td>...</td>\n",
       "      <td>...</td>\n",
       "      <td>...</td>\n",
       "      <td>...</td>\n",
       "      <td>...</td>\n",
       "      <td>...</td>\n",
       "      <td>...</td>\n",
       "      <td>...</td>\n",
       "      <td>...</td>\n",
       "      <td>...</td>\n",
       "      <td>...</td>\n",
       "      <td>...</td>\n",
       "      <td>...</td>\n",
       "      <td>...</td>\n",
       "      <td>...</td>\n",
       "      <td>...</td>\n",
       "    </tr>\n",
       "    <tr>\n",
       "      <th>159986</th>\n",
       "      <td>2021-06-29</td>\n",
       "      <td>Townsville</td>\n",
       "      <td>AUS</td>\n",
       "      <td>R</td>\n",
       "      <td>1</td>\n",
       "      <td>1.184845386</td>\n",
       "      <td>2021-06-29 03:57:00</td>\n",
       "      <td>None</td>\n",
       "      <td>None</td>\n",
       "      <td>1000</td>\n",
       "      <td>...</td>\n",
       "      <td>44.27</td>\n",
       "      <td>50.89</td>\n",
       "      <td>55.00</td>\n",
       "      <td>55.0</td>\n",
       "      <td>790</td>\n",
       "      <td>55.00</td>\n",
       "      <td>sprint</td>\n",
       "      <td>inside</td>\n",
       "      <td>-1.0</td>\n",
       "      <td>0.95</td>\n",
       "    </tr>\n",
       "    <tr>\n",
       "      <th>159998</th>\n",
       "      <td>2021-06-29</td>\n",
       "      <td>Townsville</td>\n",
       "      <td>AUS</td>\n",
       "      <td>R</td>\n",
       "      <td>3</td>\n",
       "      <td>1.184845390</td>\n",
       "      <td>2021-06-29 05:12:00</td>\n",
       "      <td>None</td>\n",
       "      <td>None</td>\n",
       "      <td>1200</td>\n",
       "      <td>...</td>\n",
       "      <td>37.37</td>\n",
       "      <td>30.51</td>\n",
       "      <td>32.00</td>\n",
       "      <td>30.0</td>\n",
       "      <td>1020</td>\n",
       "      <td>36.00</td>\n",
       "      <td>mid_short</td>\n",
       "      <td>inside</td>\n",
       "      <td>-1.0</td>\n",
       "      <td>0.95</td>\n",
       "    </tr>\n",
       "    <tr>\n",
       "      <th>160004</th>\n",
       "      <td>2021-06-29</td>\n",
       "      <td>Townsville</td>\n",
       "      <td>AUS</td>\n",
       "      <td>R</td>\n",
       "      <td>4</td>\n",
       "      <td>1.184845392</td>\n",
       "      <td>2021-06-29 05:47:00</td>\n",
       "      <td>None</td>\n",
       "      <td>None</td>\n",
       "      <td>1200</td>\n",
       "      <td>...</td>\n",
       "      <td>3.65</td>\n",
       "      <td>3.23</td>\n",
       "      <td>3.20</td>\n",
       "      <td>3.2</td>\n",
       "      <td>27917</td>\n",
       "      <td>3.25</td>\n",
       "      <td>mid_short</td>\n",
       "      <td>inside</td>\n",
       "      <td>-1.0</td>\n",
       "      <td>0.95</td>\n",
       "    </tr>\n",
       "    <tr>\n",
       "      <th>160023</th>\n",
       "      <td>2021-06-29</td>\n",
       "      <td>Townsville</td>\n",
       "      <td>AUS</td>\n",
       "      <td>R</td>\n",
       "      <td>6</td>\n",
       "      <td>1.184845396</td>\n",
       "      <td>2021-06-29 07:00:00</td>\n",
       "      <td>None</td>\n",
       "      <td>None</td>\n",
       "      <td>1000</td>\n",
       "      <td>...</td>\n",
       "      <td>67.74</td>\n",
       "      <td>50.79</td>\n",
       "      <td>70.42</td>\n",
       "      <td>75.0</td>\n",
       "      <td>677</td>\n",
       "      <td>75.00</td>\n",
       "      <td>sprint</td>\n",
       "      <td>inside</td>\n",
       "      <td>-1.0</td>\n",
       "      <td>0.95</td>\n",
       "    </tr>\n",
       "    <tr>\n",
       "      <th>160026</th>\n",
       "      <td>2021-06-29</td>\n",
       "      <td>Townsville</td>\n",
       "      <td>AUS</td>\n",
       "      <td>R</td>\n",
       "      <td>6</td>\n",
       "      <td>1.184845396</td>\n",
       "      <td>2021-06-29 07:00:00</td>\n",
       "      <td>None</td>\n",
       "      <td>None</td>\n",
       "      <td>1000</td>\n",
       "      <td>...</td>\n",
       "      <td>340.00</td>\n",
       "      <td>412.90</td>\n",
       "      <td>520.96</td>\n",
       "      <td>530.0</td>\n",
       "      <td>99</td>\n",
       "      <td>530.00</td>\n",
       "      <td>sprint</td>\n",
       "      <td>mid_field</td>\n",
       "      <td>-1.0</td>\n",
       "      <td>0.95</td>\n",
       "    </tr>\n",
       "  </tbody>\n",
       "</table>\n",
       "<p>8967 rows × 27 columns</p>\n",
       "</div>"
      ]
     },
     "metadata": {},
     "execution_count": 109
    }
   ],
   "metadata": {}
  }
 ]
}