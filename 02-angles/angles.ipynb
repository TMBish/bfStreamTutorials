{
 "metadata": {
  "language_info": {
   "codemirror_mode": {
    "name": "ipython",
    "version": 3
   },
   "file_extension": ".py",
   "mimetype": "text/x-python",
   "name": "python",
   "nbconvert_exporter": "python",
   "pygments_lexer": "ipython3",
   "version": "3.9.5"
  },
  "orig_nbformat": 4,
  "kernelspec": {
   "name": "python3",
   "display_name": "Python 3.9.5 64-bit"
  },
  "interpreter": {
   "hash": "31f2aee4e71d21fbe5cf8b01ff0e069b9275f58929596ceb00d14d90e3e16cd6"
  }
 },
 "nbformat": 4,
 "nbformat_minor": 2,
 "cells": [
  {
   "source": [
    "# Betting Angles with Betfair stream data"
   ],
   "cell_type": "markdown",
   "metadata": {}
  },
  {
   "source": [
    "## 0.1 Setup\n",
    "\n",
    "[technical context]"
   ],
   "cell_type": "markdown",
   "metadata": {}
  },
  {
   "source": [
    "## 0.2 Context\n",
    "\n",
    "Formulating betting angles (or stragies as some call them) is quite a common pasttime for some. These angles can be simlpe or quite comlpicated and might be things like:\n",
    "\n",
    "* Betting against a team coming of the bye in the AFL playing against a team who played last week\n",
    "* Backing a greyhound in boxes 1 or 2 in short sprint style races\n",
    "* Backing a horse pre-race who typically runs at the front of the field and placing an order to lay the same horse if it shortens to some lower price in-play, locking in a profit\n",
    "\n",
    "When many people talk about automated / sophisticated exchange betting they are often talking about automating these kind of betting angles as opposed to spending months developing and implementing a sophisticated fundemental model which arrives at some estimation of fair value from first principles.\n",
    "\n",
    "To profit off one of these strategies one must have thene lksdklfkc,.vcksklvmakldmfdkfvmk\n",
    "\n",
    "However, only some of those people have rigorously backtested these angles or arrived at them off a they required analysis and testing. Most simply formulated their angles off intuition or observating it happen across a relatively small sample of data.\n",
    "\n",
    "Self serving the stream data is a great way to test your angles and refine and tweak them until they suggest a statistically significant long term profit.\n",
    "\n",
    "\n"
   ],
   "cell_type": "markdown",
   "metadata": {}
  },
  {
   "source": [
    "## 0.3 Examples\n",
    "\n",
    "I'll use betfair market data for thoroughbred racing to illustrate how you could go about both formulating and testing various angles. \n",
    "\n",
    "I'll be brief when discussion the process of parsing the betfair json data as that's been covered in earlier tutorials. In this article I'll spend more time on the actual analysis.\n"
   ],
   "cell_type": "markdown",
   "metadata": {}
  }
 ]
}